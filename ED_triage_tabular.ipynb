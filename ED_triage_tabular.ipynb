{
 "cells": [
  {
   "cell_type": "markdown",
   "metadata": {},
   "source": [
    "# Tabular models"
   ]
  },
  {
   "cell_type": "code",
   "execution_count": 1,
   "metadata": {},
   "outputs": [],
   "source": [
    "from fastai import *\n",
    "from fastai.tabular import *"
   ]
  },
  {
   "cell_type": "markdown",
   "metadata": {},
   "source": [
    "Tabular data should be in a Pandas `DataFrame`."
   ]
  },
  {
   "cell_type": "code",
   "execution_count": 2,
   "metadata": {},
   "outputs": [],
   "source": [
    "import os\n",
    "import re\n",
    "from collections import Counter\n",
    "import random"
   ]
  },
  {
   "cell_type": "code",
   "execution_count": 40,
   "metadata": {},
   "outputs": [],
   "source": [
    "from sklearn.metrics import confusion_matrix\n",
    "import sklearn.metrics\n",
    "import seaborn as sns\n",
    "%matplotlib inline\n",
    "import matplotlib.pyplot as plt"
   ]
  },
  {
   "cell_type": "code",
   "execution_count": 3,
   "metadata": {},
   "outputs": [],
   "source": [
    "path = '/floyd/home/notebooks'\n",
    "data_path = '/floyd/home/data'"
   ]
  },
  {
   "cell_type": "code",
   "execution_count": 4,
   "metadata": {},
   "outputs": [
    {
     "data": {
      "text/plain": [
       "['targets.csv',\n",
       " 'inf_control_data.csv',\n",
       " 'tabular_data.csv',\n",
       " 'jj_modified_bch_data.xlsx',\n",
       " 'subj_data.csv']"
      ]
     },
     "execution_count": 4,
     "metadata": {},
     "output_type": "execute_result"
    }
   ],
   "source": [
    "os.listdir(data_path)"
   ]
  },
  {
   "cell_type": "code",
   "execution_count": 13,
   "metadata": {},
   "outputs": [],
   "source": [
    "#df = pd.read_excel('jj_modified_bch_data.xlsx', nrows = 1000)\n",
    "df1 = pd.read_csv(data_path +'/tabular_data.csv')\n",
    "df2 = pd.read_csv(data_path +'/targets.csv')\n",
    "df = pd.concat([df1,df2], axis = 1)"
   ]
  },
  {
   "cell_type": "code",
   "execution_count": 14,
   "metadata": {},
   "outputs": [
    {
     "data": {
      "text/plain": [
       "136993"
      ]
     },
     "execution_count": 14,
     "metadata": {},
     "output_type": "execute_result"
    }
   ],
   "source": [
    "len(df)"
   ]
  },
  {
   "cell_type": "code",
   "execution_count": 15,
   "metadata": {},
   "outputs": [
    {
     "data": {
      "text/html": [
       "<div>\n",
       "<style scoped>\n",
       "    .dataframe tbody tr th:only-of-type {\n",
       "        vertical-align: middle;\n",
       "    }\n",
       "\n",
       "    .dataframe tbody tr th {\n",
       "        vertical-align: top;\n",
       "    }\n",
       "\n",
       "    .dataframe thead th {\n",
       "        text-align: right;\n",
       "    }\n",
       "</style>\n",
       "<table border=\"1\" class=\"dataframe\">\n",
       "  <thead>\n",
       "    <tr style=\"text-align: right;\">\n",
       "      <th></th>\n",
       "      <th>Unnamed: 0</th>\n",
       "      <th>ID</th>\n",
       "      <th>TriageLevel</th>\n",
       "      <th>AgeInYrs</th>\n",
       "      <th>GenderDesc</th>\n",
       "      <th>DischargeDisposition</th>\n",
       "      <th>PresentingComplaint</th>\n",
       "      <th>PresentingComplaintDesc</th>\n",
       "      <th>AdmitLocation</th>\n",
       "      <th>PatientService</th>\n",
       "      <th>...</th>\n",
       "      <th>temp</th>\n",
       "      <th>pulse</th>\n",
       "      <th>o2sat</th>\n",
       "      <th>Unnamed: 0</th>\n",
       "      <th>service</th>\n",
       "      <th>target2</th>\n",
       "      <th>target</th>\n",
       "      <th>outcome</th>\n",
       "      <th>discharge</th>\n",
       "      <th>dispo</th>\n",
       "    </tr>\n",
       "  </thead>\n",
       "  <tbody>\n",
       "    <tr>\n",
       "      <th>0</th>\n",
       "      <td>0</td>\n",
       "      <td>1</td>\n",
       "      <td>3.0</td>\n",
       "      <td>12.0</td>\n",
       "      <td>Male</td>\n",
       "      <td>17</td>\n",
       "      <td>852</td>\n",
       "      <td>Fever</td>\n",
       "      <td>NaN</td>\n",
       "      <td>NaN</td>\n",
       "      <td>...</td>\n",
       "      <td>36.8</td>\n",
       "      <td>96.0</td>\n",
       "      <td>98.0</td>\n",
       "      <td>0</td>\n",
       "      <td>discharge</td>\n",
       "      <td>1</td>\n",
       "      <td>1</td>\n",
       "      <td>discharge</td>\n",
       "      <td>1</td>\n",
       "      <td>NaN</td>\n",
       "    </tr>\n",
       "    <tr>\n",
       "      <th>1</th>\n",
       "      <td>1</td>\n",
       "      <td>2</td>\n",
       "      <td>2.0</td>\n",
       "      <td>80.0</td>\n",
       "      <td>Female</td>\n",
       "      <td>17</td>\n",
       "      <td>401</td>\n",
       "      <td>Altered level of consciousness</td>\n",
       "      <td>NaN</td>\n",
       "      <td>NaN</td>\n",
       "      <td>...</td>\n",
       "      <td>36.5</td>\n",
       "      <td>63.0</td>\n",
       "      <td>93.0</td>\n",
       "      <td>1</td>\n",
       "      <td>discharge</td>\n",
       "      <td>1</td>\n",
       "      <td>1</td>\n",
       "      <td>discharge</td>\n",
       "      <td>1</td>\n",
       "      <td>NaN</td>\n",
       "    </tr>\n",
       "    <tr>\n",
       "      <th>2</th>\n",
       "      <td>2</td>\n",
       "      <td>3</td>\n",
       "      <td>3.0</td>\n",
       "      <td>3.0</td>\n",
       "      <td>Male</td>\n",
       "      <td>17</td>\n",
       "      <td>253</td>\n",
       "      <td>Constipation</td>\n",
       "      <td>NaN</td>\n",
       "      <td>NaN</td>\n",
       "      <td>...</td>\n",
       "      <td>NaN</td>\n",
       "      <td>178.0</td>\n",
       "      <td>98.0</td>\n",
       "      <td>2</td>\n",
       "      <td>discharge</td>\n",
       "      <td>1</td>\n",
       "      <td>1</td>\n",
       "      <td>discharge</td>\n",
       "      <td>1</td>\n",
       "      <td>NaN</td>\n",
       "    </tr>\n",
       "    <tr>\n",
       "      <th>3</th>\n",
       "      <td>3</td>\n",
       "      <td>4</td>\n",
       "      <td>3.0</td>\n",
       "      <td>56.0</td>\n",
       "      <td>Female</td>\n",
       "      <td>62</td>\n",
       "      <td>409</td>\n",
       "      <td>Extremity weakness/symptoms of CVA</td>\n",
       "      <td>NaN</td>\n",
       "      <td>NaN</td>\n",
       "      <td>...</td>\n",
       "      <td>36.8</td>\n",
       "      <td>81.0</td>\n",
       "      <td>97.0</td>\n",
       "      <td>3</td>\n",
       "      <td>discharge</td>\n",
       "      <td>1</td>\n",
       "      <td>1</td>\n",
       "      <td>discharge</td>\n",
       "      <td>1</td>\n",
       "      <td>NaN</td>\n",
       "    </tr>\n",
       "    <tr>\n",
       "      <th>4</th>\n",
       "      <td>4</td>\n",
       "      <td>5</td>\n",
       "      <td>2.0</td>\n",
       "      <td>69.0</td>\n",
       "      <td>Female</td>\n",
       "      <td>17</td>\n",
       "      <td>3</td>\n",
       "      <td>Chest pain - cardiac features</td>\n",
       "      <td>NaN</td>\n",
       "      <td>NaN</td>\n",
       "      <td>...</td>\n",
       "      <td>37.1</td>\n",
       "      <td>93.0</td>\n",
       "      <td>100.0</td>\n",
       "      <td>4</td>\n",
       "      <td>discharge</td>\n",
       "      <td>1</td>\n",
       "      <td>1</td>\n",
       "      <td>discharge</td>\n",
       "      <td>1</td>\n",
       "      <td>NaN</td>\n",
       "    </tr>\n",
       "  </tbody>\n",
       "</table>\n",
       "<p>5 rows × 23 columns</p>\n",
       "</div>"
      ],
      "text/plain": [
       "   Unnamed: 0  ID  TriageLevel  AgeInYrs GenderDesc  DischargeDisposition  \\\n",
       "0           0   1          3.0      12.0       Male                    17   \n",
       "1           1   2          2.0      80.0     Female                    17   \n",
       "2           2   3          3.0       3.0       Male                    17   \n",
       "3           3   4          3.0      56.0     Female                    62   \n",
       "4           4   5          2.0      69.0     Female                    17   \n",
       "\n",
       "   PresentingComplaint             PresentingComplaintDesc AdmitLocation  \\\n",
       "0                  852                               Fever           NaN   \n",
       "1                  401      Altered level of consciousness           NaN   \n",
       "2                  253                        Constipation           NaN   \n",
       "3                  409  Extremity weakness/symptoms of CVA           NaN   \n",
       "4                    3       Chest pain - cardiac features           NaN   \n",
       "\n",
       "  PatientService  ...    temp  pulse  o2sat  Unnamed: 0    service  target2  \\\n",
       "0            NaN  ...    36.8   96.0   98.0           0  discharge        1   \n",
       "1            NaN  ...    36.5   63.0   93.0           1  discharge        1   \n",
       "2            NaN  ...     NaN  178.0   98.0           2  discharge        1   \n",
       "3            NaN  ...    36.8   81.0   97.0           3  discharge        1   \n",
       "4            NaN  ...    37.1   93.0  100.0           4  discharge        1   \n",
       "\n",
       "   target    outcome  discharge  dispo  \n",
       "0       1  discharge          1    NaN  \n",
       "1       1  discharge          1    NaN  \n",
       "2       1  discharge          1    NaN  \n",
       "3       1  discharge          1    NaN  \n",
       "4       1  discharge          1    NaN  \n",
       "\n",
       "[5 rows x 23 columns]"
      ]
     },
     "execution_count": 15,
     "metadata": {},
     "output_type": "execute_result"
    }
   ],
   "source": [
    "df.head()"
   ]
  },
  {
   "cell_type": "code",
   "execution_count": 16,
   "metadata": {},
   "outputs": [
    {
     "data": {
      "text/plain": [
       "['Unnamed: 0',\n",
       " 'ID',\n",
       " 'TriageLevel',\n",
       " 'AgeInYrs',\n",
       " 'GenderDesc',\n",
       " 'DischargeDisposition',\n",
       " 'PresentingComplaint',\n",
       " 'PresentingComplaintDesc',\n",
       " 'AdmitLocation',\n",
       " 'PatientService',\n",
       " 'BloodPressure_LastEDReading',\n",
       " 'systolic',\n",
       " 'diastolic',\n",
       " 'temp',\n",
       " 'pulse',\n",
       " 'o2sat',\n",
       " 'Unnamed: 0',\n",
       " 'service',\n",
       " 'target2',\n",
       " 'target',\n",
       " 'outcome',\n",
       " 'discharge',\n",
       " 'dispo']"
      ]
     },
     "execution_count": 16,
     "metadata": {},
     "output_type": "execute_result"
    }
   ],
   "source": [
    "list(df.columns)"
   ]
  },
  {
   "cell_type": "code",
   "execution_count": 17,
   "metadata": {},
   "outputs": [
    {
     "data": {
      "text/plain": [
       "Counter({'discharge': 120106, 'sadmit': 2272, 'madmit': 13270, 'ICU': 1345})"
      ]
     },
     "execution_count": 17,
     "metadata": {},
     "output_type": "execute_result"
    }
   ],
   "source": [
    "#check that I got what I wanted out of the prior setp\n",
    "count = Counter(df['outcome']); count"
   ]
  },
  {
   "cell_type": "code",
   "execution_count": 18,
   "metadata": {},
   "outputs": [],
   "source": [
    "dep_var = 'outcome'\n",
    "cat_names = ['TriageLevel',\n",
    " 'GenderDesc',\n",
    " 'PresentingComplaint']\n",
    "cont_names = ['AgeInYrs', 'o2sat', 'pulse','temp','systolic','diastolic']\n",
    "procs = [FillMissing, Categorify, Normalize]"
   ]
  },
  {
   "cell_type": "code",
   "execution_count": 19,
   "metadata": {},
   "outputs": [],
   "source": [
    "test = TabularList.from_df(df.copy(),cat_names=cat_names, cont_names=cont_names)"
   ]
  },
  {
   "cell_type": "code",
   "execution_count": 20,
   "metadata": {},
   "outputs": [
    {
     "data": {
      "text/plain": [
       "27398"
      ]
     },
     "execution_count": 20,
     "metadata": {},
     "output_type": "execute_result"
    }
   ],
   "source": [
    "valid_idxs = random.sample(range(len(df)), len(df)//5); len(valid_idxs)"
   ]
  },
  {
   "cell_type": "code",
   "execution_count": 21,
   "metadata": {},
   "outputs": [],
   "source": [
    "data = (TabularList.from_df(df, path=path, cat_names=cat_names, cont_names=cont_names, procs=procs)\n",
    "                           .split_by_idx(valid_idxs)\n",
    "                           .label_from_df(cols=dep_var)\n",
    "                           .add_test(test)\n",
    "                           .databunch())"
   ]
  },
  {
   "cell_type": "code",
   "execution_count": 22,
   "metadata": {
    "scrolled": true
   },
   "outputs": [
    {
     "data": {
      "text/plain": [
       "(109595, 27398)"
      ]
     },
     "execution_count": 22,
     "metadata": {},
     "output_type": "execute_result"
    }
   ],
   "source": [
    "len(data.train_ds), len(data.valid_ds)"
   ]
  },
  {
   "cell_type": "code",
   "execution_count": 23,
   "metadata": {},
   "outputs": [
    {
     "data": {
      "text/plain": [
       "True"
      ]
     },
     "execution_count": 23,
     "metadata": {},
     "output_type": "execute_result"
    }
   ],
   "source": [
    "len(data.train_ds) +  len(data.valid_ds) == len(data.test_ds)"
   ]
  },
  {
   "cell_type": "code",
   "execution_count": 24,
   "metadata": {},
   "outputs": [],
   "source": [
    "data.save(data_path + '/ed_databunch')"
   ]
  },
  {
   "cell_type": "code",
   "execution_count": 25,
   "metadata": {},
   "outputs": [
    {
     "data": {
      "text/html": [
       "<table border=\"1\" class=\"dataframe\">\n",
       "  <thead>\n",
       "    <tr style=\"text-align: right;\">\n",
       "      <th>TriageLevel</th>\n",
       "      <th>GenderDesc</th>\n",
       "      <th>PresentingComplaint</th>\n",
       "      <th>o2sat_na</th>\n",
       "      <th>pulse_na</th>\n",
       "      <th>temp_na</th>\n",
       "      <th>systolic_na</th>\n",
       "      <th>diastolic_na</th>\n",
       "      <th>AgeInYrs</th>\n",
       "      <th>o2sat</th>\n",
       "      <th>pulse</th>\n",
       "      <th>temp</th>\n",
       "      <th>systolic</th>\n",
       "      <th>diastolic</th>\n",
       "      <th>target</th>\n",
       "    </tr>\n",
       "  </thead>\n",
       "  <tbody>\n",
       "    <tr>\n",
       "      <td>2.0</td>\n",
       "      <td>Female</td>\n",
       "      <td>301</td>\n",
       "      <td>False</td>\n",
       "      <td>False</td>\n",
       "      <td>False</td>\n",
       "      <td>False</td>\n",
       "      <td>False</td>\n",
       "      <td>0.5689</td>\n",
       "      <td>-0.2583</td>\n",
       "      <td>0.1498</td>\n",
       "      <td>-0.2276</td>\n",
       "      <td>1.2221</td>\n",
       "      <td>0.5450</td>\n",
       "      <td>discharge</td>\n",
       "    </tr>\n",
       "    <tr>\n",
       "      <td>3.0</td>\n",
       "      <td>Male</td>\n",
       "      <td>852</td>\n",
       "      <td>False</td>\n",
       "      <td>False</td>\n",
       "      <td>False</td>\n",
       "      <td>True</td>\n",
       "      <td>True</td>\n",
       "      <td>-1.6620</td>\n",
       "      <td>0.3022</td>\n",
       "      <td>1.9023</td>\n",
       "      <td>2.7299</td>\n",
       "      <td>-0.1164</td>\n",
       "      <td>-0.0549</td>\n",
       "      <td>discharge</td>\n",
       "    </tr>\n",
       "    <tr>\n",
       "      <td>3.0</td>\n",
       "      <td>Male</td>\n",
       "      <td>551</td>\n",
       "      <td>False</td>\n",
       "      <td>False</td>\n",
       "      <td>False</td>\n",
       "      <td>False</td>\n",
       "      <td>False</td>\n",
       "      <td>1.1092</td>\n",
       "      <td>0.0219</td>\n",
       "      <td>-1.0320</td>\n",
       "      <td>-0.4125</td>\n",
       "      <td>0.1067</td>\n",
       "      <td>-0.0549</td>\n",
       "      <td>discharge</td>\n",
       "    </tr>\n",
       "    <tr>\n",
       "      <td>2.0</td>\n",
       "      <td>Male</td>\n",
       "      <td>504</td>\n",
       "      <td>False</td>\n",
       "      <td>False</td>\n",
       "      <td>False</td>\n",
       "      <td>False</td>\n",
       "      <td>False</td>\n",
       "      <td>1.7327</td>\n",
       "      <td>-0.5386</td>\n",
       "      <td>0.3536</td>\n",
       "      <td>-0.0428</td>\n",
       "      <td>1.7128</td>\n",
       "      <td>-0.0549</td>\n",
       "      <td>discharge</td>\n",
       "    </tr>\n",
       "    <tr>\n",
       "      <td>3.0</td>\n",
       "      <td>Female</td>\n",
       "      <td>257</td>\n",
       "      <td>False</td>\n",
       "      <td>False</td>\n",
       "      <td>False</td>\n",
       "      <td>False</td>\n",
       "      <td>False</td>\n",
       "      <td>-0.4703</td>\n",
       "      <td>0.5824</td>\n",
       "      <td>-0.9505</td>\n",
       "      <td>-0.0428</td>\n",
       "      <td>-0.3394</td>\n",
       "      <td>0.6950</td>\n",
       "      <td>discharge</td>\n",
       "    </tr>\n",
       "    <tr>\n",
       "      <td>5.0</td>\n",
       "      <td>Male</td>\n",
       "      <td>719</td>\n",
       "      <td>False</td>\n",
       "      <td>False</td>\n",
       "      <td>False</td>\n",
       "      <td>False</td>\n",
       "      <td>False</td>\n",
       "      <td>-0.6781</td>\n",
       "      <td>0.5824</td>\n",
       "      <td>-0.3800</td>\n",
       "      <td>0.1421</td>\n",
       "      <td>-0.5179</td>\n",
       "      <td>0.0201</td>\n",
       "      <td>discharge</td>\n",
       "    </tr>\n",
       "    <tr>\n",
       "      <td>2.0</td>\n",
       "      <td>Female</td>\n",
       "      <td>551</td>\n",
       "      <td>False</td>\n",
       "      <td>False</td>\n",
       "      <td>False</td>\n",
       "      <td>False</td>\n",
       "      <td>False</td>\n",
       "      <td>0.0701</td>\n",
       "      <td>0.5824</td>\n",
       "      <td>-0.2170</td>\n",
       "      <td>-1.1519</td>\n",
       "      <td>-0.6071</td>\n",
       "      <td>-0.5048</td>\n",
       "      <td>discharge</td>\n",
       "    </tr>\n",
       "    <tr>\n",
       "      <td>3.0</td>\n",
       "      <td>Male</td>\n",
       "      <td>752</td>\n",
       "      <td>False</td>\n",
       "      <td>False</td>\n",
       "      <td>False</td>\n",
       "      <td>False</td>\n",
       "      <td>False</td>\n",
       "      <td>-1.6342</td>\n",
       "      <td>0.0219</td>\n",
       "      <td>1.0057</td>\n",
       "      <td>-0.4125</td>\n",
       "      <td>-1.5440</td>\n",
       "      <td>-1.2546</td>\n",
       "      <td>discharge</td>\n",
       "    </tr>\n",
       "    <tr>\n",
       "      <td>3.0</td>\n",
       "      <td>Male</td>\n",
       "      <td>852</td>\n",
       "      <td>False</td>\n",
       "      <td>False</td>\n",
       "      <td>False</td>\n",
       "      <td>False</td>\n",
       "      <td>False</td>\n",
       "      <td>-1.5095</td>\n",
       "      <td>0.3022</td>\n",
       "      <td>1.9838</td>\n",
       "      <td>4.0238</td>\n",
       "      <td>-1.4994</td>\n",
       "      <td>-1.7795</td>\n",
       "      <td>discharge</td>\n",
       "    </tr>\n",
       "    <tr>\n",
       "      <td>3.0</td>\n",
       "      <td>Male</td>\n",
       "      <td>151</td>\n",
       "      <td>False</td>\n",
       "      <td>False</td>\n",
       "      <td>False</td>\n",
       "      <td>False</td>\n",
       "      <td>False</td>\n",
       "      <td>0.9430</td>\n",
       "      <td>-0.5386</td>\n",
       "      <td>-0.7875</td>\n",
       "      <td>-0.7822</td>\n",
       "      <td>0.5082</td>\n",
       "      <td>0.6950</td>\n",
       "      <td>discharge</td>\n",
       "    </tr>\n",
       "  </tbody>\n",
       "</table>"
      ],
      "text/plain": [
       "<IPython.core.display.HTML object>"
      ]
     },
     "metadata": {},
     "output_type": "display_data"
    }
   ],
   "source": [
    "data.show_batch(rows=10)"
   ]
  },
  {
   "cell_type": "code",
   "execution_count": 26,
   "metadata": {},
   "outputs": [],
   "source": [
    "f1 = FBeta(beta=1, average = 'weighted')"
   ]
  },
  {
   "cell_type": "code",
   "execution_count": 27,
   "metadata": {},
   "outputs": [],
   "source": [
    "learn = tabular_learner(data, layers=[200,100], metrics=[accuracy,f1])"
   ]
  },
  {
   "cell_type": "code",
   "execution_count": 28,
   "metadata": {},
   "outputs": [
    {
     "data": {
      "text/html": [],
      "text/plain": [
       "<IPython.core.display.HTML object>"
      ]
     },
     "metadata": {},
     "output_type": "display_data"
    },
    {
     "name": "stdout",
     "output_type": "stream",
     "text": [
      "LR Finder is complete, type {learner_name}.recorder.plot() to see the graph.\n"
     ]
    }
   ],
   "source": [
    "learn.lr_find()"
   ]
  },
  {
   "cell_type": "code",
   "execution_count": 29,
   "metadata": {},
   "outputs": [
    {
     "data": {
      "image/png": "[encoded data removed]",
      "text/plain": [
       "<Figure size 432x288 with 1 Axes>"
      ]
     },
     "metadata": {
      "needs_background": "light"
     },
     "output_type": "display_data"
    }
   ],
   "source": [
    "learn.recorder.plot()"
   ]
  },
  {
   "cell_type": "code",
   "execution_count": 30,
   "metadata": {},
   "outputs": [
    {
     "data": {
      "text/html": [
       "<table border=\"1\" class=\"dataframe\">\n",
       "  <thead>\n",
       "    <tr style=\"text-align: left;\">\n",
       "      <th>epoch</th>\n",
       "      <th>train_loss</th>\n",
       "      <th>valid_loss</th>\n",
       "      <th>accuracy</th>\n",
       "      <th>f_beta</th>\n",
       "      <th>time</th>\n",
       "    </tr>\n",
       "  </thead>\n",
       "  <tbody>\n",
       "    <tr>\n",
       "      <td>0</td>\n",
       "      <td>0.374371</td>\n",
       "      <td>0.381770</td>\n",
       "      <td>0.881086</td>\n",
       "      <td>0.837814</td>\n",
       "      <td>00:18</td>\n",
       "    </tr>\n",
       "    <tr>\n",
       "      <td>1</td>\n",
       "      <td>0.370919</td>\n",
       "      <td>2.424722</td>\n",
       "      <td>0.886050</td>\n",
       "      <td>0.850599</td>\n",
       "      <td>00:18</td>\n",
       "    </tr>\n",
       "    <tr>\n",
       "      <td>2</td>\n",
       "      <td>0.353213</td>\n",
       "      <td>0.478033</td>\n",
       "      <td>0.885503</td>\n",
       "      <td>0.851544</td>\n",
       "      <td>00:18</td>\n",
       "    </tr>\n",
       "    <tr>\n",
       "      <td>3</td>\n",
       "      <td>0.327756</td>\n",
       "      <td>0.350664</td>\n",
       "      <td>0.885612</td>\n",
       "      <td>0.849811</td>\n",
       "      <td>00:18</td>\n",
       "    </tr>\n",
       "    <tr>\n",
       "      <td>4</td>\n",
       "      <td>0.333046</td>\n",
       "      <td>0.357082</td>\n",
       "      <td>0.888094</td>\n",
       "      <td>0.857315</td>\n",
       "      <td>00:18</td>\n",
       "    </tr>\n",
       "  </tbody>\n",
       "</table>"
      ],
      "text/plain": [
       "<IPython.core.display.HTML object>"
      ]
     },
     "metadata": {},
     "output_type": "display_data"
    }
   ],
   "source": [
    "learn.fit_one_cycle(5, 1e-1)"
   ]
  },
  {
   "cell_type": "code",
   "execution_count": 31,
   "metadata": {},
   "outputs": [
    {
     "data": {
      "image/png": "[encoded data removed]",
      "text/plain": [
       "<Figure size 432x288 with 1 Axes>"
      ]
     },
     "metadata": {
      "needs_background": "light"
     },
     "output_type": "display_data"
    }
   ],
   "source": [
    "learn.recorder.plot_losses()"
   ]
  },
  {
   "cell_type": "code",
   "execution_count": 32,
   "metadata": {},
   "outputs": [
    {
     "data": {
      "text/html": [
       "<table border=\"1\" class=\"dataframe\">\n",
       "  <thead>\n",
       "    <tr style=\"text-align: left;\">\n",
       "      <th>epoch</th>\n",
       "      <th>train_loss</th>\n",
       "      <th>valid_loss</th>\n",
       "      <th>accuracy</th>\n",
       "      <th>f_beta</th>\n",
       "      <th>time</th>\n",
       "    </tr>\n",
       "  </thead>\n",
       "  <tbody>\n",
       "    <tr>\n",
       "      <td>0</td>\n",
       "      <td>0.333169</td>\n",
       "      <td>0.344693</td>\n",
       "      <td>0.884809</td>\n",
       "      <td>0.851478</td>\n",
       "      <td>00:18</td>\n",
       "    </tr>\n",
       "    <tr>\n",
       "      <td>1</td>\n",
       "      <td>0.354932</td>\n",
       "      <td>0.342966</td>\n",
       "      <td>0.886196</td>\n",
       "      <td>0.856591</td>\n",
       "      <td>00:18</td>\n",
       "    </tr>\n",
       "    <tr>\n",
       "      <td>2</td>\n",
       "      <td>0.334693</td>\n",
       "      <td>0.341903</td>\n",
       "      <td>0.887255</td>\n",
       "      <td>0.857294</td>\n",
       "      <td>00:18</td>\n",
       "    </tr>\n",
       "    <tr>\n",
       "      <td>3</td>\n",
       "      <td>0.334851</td>\n",
       "      <td>0.336169</td>\n",
       "      <td>0.887985</td>\n",
       "      <td>0.859119</td>\n",
       "      <td>00:18</td>\n",
       "    </tr>\n",
       "    <tr>\n",
       "      <td>4</td>\n",
       "      <td>0.338736</td>\n",
       "      <td>0.342084</td>\n",
       "      <td>0.887437</td>\n",
       "      <td>0.853416</td>\n",
       "      <td>00:18</td>\n",
       "    </tr>\n",
       "    <tr>\n",
       "      <td>5</td>\n",
       "      <td>0.344477</td>\n",
       "      <td>0.338685</td>\n",
       "      <td>0.886525</td>\n",
       "      <td>0.852332</td>\n",
       "      <td>00:18</td>\n",
       "    </tr>\n",
       "    <tr>\n",
       "      <td>6</td>\n",
       "      <td>0.331653</td>\n",
       "      <td>0.335892</td>\n",
       "      <td>0.887839</td>\n",
       "      <td>0.858500</td>\n",
       "      <td>00:18</td>\n",
       "    </tr>\n",
       "    <tr>\n",
       "      <td>7</td>\n",
       "      <td>0.324366</td>\n",
       "      <td>0.330495</td>\n",
       "      <td>0.888459</td>\n",
       "      <td>0.859923</td>\n",
       "      <td>00:18</td>\n",
       "    </tr>\n",
       "    <tr>\n",
       "      <td>8</td>\n",
       "      <td>0.334767</td>\n",
       "      <td>0.336139</td>\n",
       "      <td>0.888714</td>\n",
       "      <td>0.862758</td>\n",
       "      <td>00:18</td>\n",
       "    </tr>\n",
       "    <tr>\n",
       "      <td>9</td>\n",
       "      <td>0.335335</td>\n",
       "      <td>0.332870</td>\n",
       "      <td>0.888678</td>\n",
       "      <td>0.858748</td>\n",
       "      <td>00:18</td>\n",
       "    </tr>\n",
       "  </tbody>\n",
       "</table>"
      ],
      "text/plain": [
       "<IPython.core.display.HTML object>"
      ]
     },
     "metadata": {},
     "output_type": "display_data"
    }
   ],
   "source": [
    "learn = tabular_learner(data, layers=[200,100], metrics=[accuracy,f1])\n",
    "learn.fit_one_cycle(10, 1e-2)"
   ]
  },
  {
   "cell_type": "code",
   "execution_count": 33,
   "metadata": {},
   "outputs": [
    {
     "data": {
      "image/png": "[encoded data removed]",
      "text/plain": [
       "<Figure size 432x288 with 1 Axes>"
      ]
     },
     "metadata": {
      "needs_background": "light"
     },
     "output_type": "display_data"
    }
   ],
   "source": [
    "learn.recorder.plot_losses()"
   ]
  },
  {
   "cell_type": "code",
   "execution_count": 36,
   "metadata": {},
   "outputs": [],
   "source": [
    "preds, targets = learn.get_preds(DatasetType.Valid) \n",
    "predictions = np.argmax(preds, axis = 1)"
   ]
  },
  {
   "cell_type": "code",
   "execution_count": 45,
   "metadata": {},
   "outputs": [
    {
     "data": {
      "text/plain": [
       "(tensor([0.0014, 0.9312, 0.0562, 0.0112]), tensor(1), tensor(1))"
      ]
     },
     "execution_count": 45,
     "metadata": {},
     "output_type": "execute_result"
    }
   ],
   "source": [
    "preds[0], targets[0], predictions[0]"
   ]
  },
  {
   "cell_type": "code",
   "execution_count": 42,
   "metadata": {},
   "outputs": [
    {
     "data": {
      "image/png": "[encoded data removed]",
      "text/plain": [
       "<Figure size 360x360 with 2 Axes>"
      ]
     },
     "metadata": {
      "needs_background": "light"
     },
     "output_type": "display_data"
    }
   ],
   "source": [
    "LABELS = data.classes\n",
    "\n",
    "confusion_matrix = sklearn.metrics.confusion_matrix(targets, predictions)\n",
    "\n",
    "plt.figure(figsize=(5, 5))\n",
    "sns.heatmap(confusion_matrix, xticklabels=LABELS, yticklabels=LABELS, annot=True, fmt=\"d\", annot_kws={\"size\": 20});\n",
    "plt.title(\"Confusion matrix\", fontsize=20)\n",
    "plt.ylabel('True label', fontsize=20)\n",
    "plt.xlabel('Predicted label', fontsize=20)\n",
    "plt.show()"
   ]
  },
  {
   "cell_type": "code",
   "execution_count": 47,
   "metadata": {},
   "outputs": [
    {
     "name": "stdout",
     "output_type": "stream",
     "text": [
      "weighted f1:  0.8587475758612368\n",
      "f1:           [0.041237 0.942167 0.331975 0.04661 ]\n",
      "accuracy:     0.8886780056938463\n",
      "precision:    [0.333333 0.899848 0.613454 0.458333]\n",
      "recall:       [0.021978 0.988663 0.227561 0.024554]\n"
     ]
    }
   ],
   "source": [
    "f1_w = sklearn.metrics.f1_score(targets, predictions, average='weighted')\n",
    "f1 = sklearn.metrics.f1_score(targets, predictions, average=None)\n",
    "acc = sklearn.metrics.accuracy_score(targets, predictions)\n",
    "prec = sklearn.metrics.precision_score(targets,predictions, average = None)\n",
    "rec = sklearn.metrics.recall_score(targets,predictions, average = None)\n",
    "print ('weighted f1: ', f1_w)\n",
    "print ('f1:          ', f1)\n",
    "print ('accuracy:    ', acc)\n",
    "print ('precision:   ', prec)\n",
    "print ('recall:      ', rec)"
   ]
  },
  {
   "cell_type": "code",
   "execution_count": null,
   "metadata": {},
   "outputs": [],
   "source": [
    "learn.save(os.getcwd() + '/first_model')"
   ]
  },
  {
   "cell_type": "markdown",
   "metadata": {},
   "source": [
    "## Inference"
   ]
  },
  {
   "cell_type": "code",
   "execution_count": null,
   "metadata": {},
   "outputs": [],
   "source": [
    "row = df.iloc[0]"
   ]
  },
  {
   "cell_type": "code",
   "execution_count": null,
   "metadata": {},
   "outputs": [],
   "source": [
    "row"
   ]
  },
  {
   "cell_type": "code",
   "execution_count": null,
   "metadata": {},
   "outputs": [],
   "source": [
    "learn.predict(row)"
   ]
  },
  {
   "cell_type": "code",
   "execution_count": null,
   "metadata": {},
   "outputs": [],
   "source": [
    "ltd_df = df.sample(n=10000)"
   ]
  },
  {
   "cell_type": "code",
   "execution_count": null,
   "metadata": {},
   "outputs": [],
   "source": [
    "len(ltd_df)"
   ]
  },
  {
   "cell_type": "code",
   "execution_count": null,
   "metadata": {},
   "outputs": [],
   "source": [
    "add_datepart(ltd_df, 'Triage Date & Time', time = True) # inplace\n",
    "ltd_df.head()"
   ]
  },
  {
   "cell_type": "code",
   "execution_count": null,
   "metadata": {},
   "outputs": [],
   "source": [
    "ltd_df.head()"
   ]
  },
  {
   "cell_type": "code",
   "execution_count": null,
   "metadata": {},
   "outputs": [],
   "source": [
    "ltd_df.columns"
   ]
  },
  {
   "cell_type": "code",
   "execution_count": null,
   "metadata": {},
   "outputs": [],
   "source": [
    "dep_var = 'outcome'\n",
    "cat_names = ['TriageLevel', 'Triage Date & TimeYear', 'Triage Date & TimeMonth',\n",
    "       'Triage Date & TimeWeek', 'Triage Date & TimeDay',\n",
    "       'Triage Date & TimeDayofweek', 'Triage Date & TimeDayofyear',\n",
    "       'Triage Date & TimeIs_month_end', 'Triage Date & TimeIs_month_start',\n",
    "       'Triage Date & TimeIs_quarter_end',\n",
    "       'Triage Date & TimeIs_quarter_start', 'Triage Date & TimeIs_year_end',\n",
    "       'Triage Date & TimeIs_year_start',\n",
    "       'Triage Date & TimeMinute', 'Triage Date & TimeSecond',\n",
    "       'Triage Date & TimeElapsed','GenderDesc', 'PresentingComplaintDesc', 'MainDiagnosisCodeDesc','Are you feeling feverish or have had shakes or chills in the last 24 hours?',\n",
    "       'Have you ever been isolated/required isolation for an infectious disease when receiving care in a healthcare setting?',\n",
    "       'Do you have a new Rash?',\n",
    "       'Do you have a new onset of Vomiting/Diarrhea in the last 24 hours?',\n",
    "       'Have you travelled outside of Canada/USA in the last 3 weeks?',\n",
    "       'Have you had contact with a sick person who has travelled outside of Canada/USA in the last 3 weeks?',\n",
    "       'Have you received Health Care in another country in the last 2 years?',\n",
    "       'Do you have a new/worse cough or shortness of breath?']\n",
    "cont_names = ['AgeInYrs', 'o2sat', 'pulse','temp']\n",
    "procs = [FillMissing, Categorify, Normalize]"
   ]
  },
  {
   "cell_type": "code",
   "execution_count": null,
   "metadata": {},
   "outputs": [],
   "source": [
    "test = TabularList.from_df(ltd_df.copy(), path=path, cat_names=cat_names, cont_names=cont_names)"
   ]
  },
  {
   "cell_type": "code",
   "execution_count": null,
   "metadata": {},
   "outputs": [],
   "source": [
    "data = (TabularList.from_df(ltd_df, path=path, cat_names=cat_names, cont_names=cont_names, procs=procs)\n",
    "                           #.split_by_idx(valid_idxs)\n",
    "                           .split_by_rand_pct()\n",
    "                           .label_from_df(cols=dep_var)\n",
    "                           .add_test(test)\n",
    "                           .databunch())"
   ]
  },
  {
   "cell_type": "code",
   "execution_count": null,
   "metadata": {},
   "outputs": [],
   "source": [
    "f1 = FBeta(beta=1, average = 'macro')"
   ]
  },
  {
   "cell_type": "code",
   "execution_count": null,
   "metadata": {},
   "outputs": [],
   "source": [
    "learn = tabular_learner(data, layers=[200,200,100], metrics=[accuracy,f1])"
   ]
  },
  {
   "cell_type": "code",
   "execution_count": null,
   "metadata": {},
   "outputs": [],
   "source": [
    "learn.fit_one_cycle(10, 1e-3)"
   ]
  },
  {
   "cell_type": "code",
   "execution_count": 12,
   "metadata": {},
   "outputs": [
    {
     "data": {
      "text/html": [
       "<div>\n",
       "<style scoped>\n",
       "    .dataframe tbody tr th:only-of-type {\n",
       "        vertical-align: middle;\n",
       "    }\n",
       "\n",
       "    .dataframe tbody tr th {\n",
       "        vertical-align: top;\n",
       "    }\n",
       "\n",
       "    .dataframe thead th {\n",
       "        text-align: right;\n",
       "    }\n",
       "</style>\n",
       "<table border=\"1\" class=\"dataframe\">\n",
       "  <thead>\n",
       "    <tr style=\"text-align: right;\">\n",
       "      <th></th>\n",
       "      <th>Unnamed: 0</th>\n",
       "      <th>ID</th>\n",
       "      <th>ChartNumber</th>\n",
       "      <th>EncounterNumber</th>\n",
       "      <th>TriageLevel</th>\n",
       "      <th>AgeNumber</th>\n",
       "      <th>AgeInYrs</th>\n",
       "      <th>GenderDesc</th>\n",
       "      <th>Reg Date &amp; Time</th>\n",
       "      <th>PIA Date &amp; Time</th>\n",
       "      <th>...</th>\n",
       "      <th>Triage Date &amp; TimeIs_month_end</th>\n",
       "      <th>Triage Date &amp; TimeIs_month_start</th>\n",
       "      <th>Triage Date &amp; TimeIs_quarter_end</th>\n",
       "      <th>Triage Date &amp; TimeIs_quarter_start</th>\n",
       "      <th>Triage Date &amp; TimeIs_year_end</th>\n",
       "      <th>Triage Date &amp; TimeIs_year_start</th>\n",
       "      <th>Triage Date &amp; TimeHour</th>\n",
       "      <th>Triage Date &amp; TimeMinute</th>\n",
       "      <th>Triage Date &amp; TimeSecond</th>\n",
       "      <th>Triage Date &amp; TimeElapsed</th>\n",
       "    </tr>\n",
       "  </thead>\n",
       "  <tbody>\n",
       "    <tr>\n",
       "      <th>0</th>\n",
       "      <td>0</td>\n",
       "      <td>1</td>\n",
       "      <td>N675533</td>\n",
       "      <td>NE000001/18</td>\n",
       "      <td>3.0</td>\n",
       "      <td>12</td>\n",
       "      <td>12.0</td>\n",
       "      <td>Male</td>\n",
       "      <td>01/04/2018  12:03:00AM</td>\n",
       "      <td>01/04/2018   1:36:00AM</td>\n",
       "      <td>...</td>\n",
       "      <td>True</td>\n",
       "      <td>False</td>\n",
       "      <td>True</td>\n",
       "      <td>False</td>\n",
       "      <td>False</td>\n",
       "      <td>False</td>\n",
       "      <td>23.0</td>\n",
       "      <td>55.0</td>\n",
       "      <td>0.0</td>\n",
       "      <td>1522540500</td>\n",
       "    </tr>\n",
       "    <tr>\n",
       "      <th>1</th>\n",
       "      <td>1</td>\n",
       "      <td>2</td>\n",
       "      <td>N798153</td>\n",
       "      <td>NE000002/18</td>\n",
       "      <td>2.0</td>\n",
       "      <td>80</td>\n",
       "      <td>80.0</td>\n",
       "      <td>Female</td>\n",
       "      <td>01/04/2018  12:08:00AM</td>\n",
       "      <td>01/04/2018   1:10:00AM</td>\n",
       "      <td>...</td>\n",
       "      <td>True</td>\n",
       "      <td>False</td>\n",
       "      <td>True</td>\n",
       "      <td>False</td>\n",
       "      <td>False</td>\n",
       "      <td>False</td>\n",
       "      <td>23.0</td>\n",
       "      <td>22.0</td>\n",
       "      <td>0.0</td>\n",
       "      <td>1522538520</td>\n",
       "    </tr>\n",
       "    <tr>\n",
       "      <th>2</th>\n",
       "      <td>2</td>\n",
       "      <td>3</td>\n",
       "      <td>N783129</td>\n",
       "      <td>NE000003/18</td>\n",
       "      <td>3.0</td>\n",
       "      <td>3</td>\n",
       "      <td>3.0</td>\n",
       "      <td>Male</td>\n",
       "      <td>01/04/2018  12:10:00AM</td>\n",
       "      <td>01/04/2018   1:49:00AM</td>\n",
       "      <td>...</td>\n",
       "      <td>False</td>\n",
       "      <td>False</td>\n",
       "      <td>False</td>\n",
       "      <td>False</td>\n",
       "      <td>False</td>\n",
       "      <td>False</td>\n",
       "      <td>0.0</td>\n",
       "      <td>1.0</td>\n",
       "      <td>0.0</td>\n",
       "      <td>1515024060</td>\n",
       "    </tr>\n",
       "    <tr>\n",
       "      <th>3</th>\n",
       "      <td>3</td>\n",
       "      <td>4</td>\n",
       "      <td>N299709</td>\n",
       "      <td>NE000004/18</td>\n",
       "      <td>3.0</td>\n",
       "      <td>56</td>\n",
       "      <td>56.0</td>\n",
       "      <td>Female</td>\n",
       "      <td>01/04/2018  12:13:00AM</td>\n",
       "      <td>NaN</td>\n",
       "      <td>...</td>\n",
       "      <td>False</td>\n",
       "      <td>False</td>\n",
       "      <td>False</td>\n",
       "      <td>False</td>\n",
       "      <td>False</td>\n",
       "      <td>False</td>\n",
       "      <td>0.0</td>\n",
       "      <td>4.0</td>\n",
       "      <td>0.0</td>\n",
       "      <td>1515024240</td>\n",
       "    </tr>\n",
       "    <tr>\n",
       "      <th>4</th>\n",
       "      <td>4</td>\n",
       "      <td>5</td>\n",
       "      <td>N17059</td>\n",
       "      <td>NE000005/18</td>\n",
       "      <td>2.0</td>\n",
       "      <td>69</td>\n",
       "      <td>69.0</td>\n",
       "      <td>Female</td>\n",
       "      <td>01/04/2018  12:14:00AM</td>\n",
       "      <td>01/04/2018   1:40:00AM</td>\n",
       "      <td>...</td>\n",
       "      <td>False</td>\n",
       "      <td>False</td>\n",
       "      <td>False</td>\n",
       "      <td>False</td>\n",
       "      <td>False</td>\n",
       "      <td>False</td>\n",
       "      <td>0.0</td>\n",
       "      <td>11.0</td>\n",
       "      <td>0.0</td>\n",
       "      <td>1515024660</td>\n",
       "    </tr>\n",
       "  </tbody>\n",
       "</table>\n",
       "<p>5 rows × 54 columns</p>\n",
       "</div>"
      ],
      "text/plain": [
       "   Unnamed: 0  ID ChartNumber EncounterNumber  TriageLevel  AgeNumber  \\\n",
       "0           0   1     N675533     NE000001/18          3.0         12   \n",
       "1           1   2     N798153     NE000002/18          2.0         80   \n",
       "2           2   3     N783129     NE000003/18          3.0          3   \n",
       "3           3   4     N299709     NE000004/18          3.0         56   \n",
       "4           4   5      N17059     NE000005/18          2.0         69   \n",
       "\n",
       "   AgeInYrs GenderDesc         Reg Date & Time         PIA Date & Time  ...  \\\n",
       "0      12.0       Male  01/04/2018  12:03:00AM  01/04/2018   1:36:00AM  ...   \n",
       "1      80.0     Female  01/04/2018  12:08:00AM  01/04/2018   1:10:00AM  ...   \n",
       "2       3.0       Male  01/04/2018  12:10:00AM  01/04/2018   1:49:00AM  ...   \n",
       "3      56.0     Female  01/04/2018  12:13:00AM                     NaN  ...   \n",
       "4      69.0     Female  01/04/2018  12:14:00AM  01/04/2018   1:40:00AM  ...   \n",
       "\n",
       "  Triage Date & TimeIs_month_end  Triage Date & TimeIs_month_start  \\\n",
       "0                           True                             False   \n",
       "1                           True                             False   \n",
       "2                          False                             False   \n",
       "3                          False                             False   \n",
       "4                          False                             False   \n",
       "\n",
       "  Triage Date & TimeIs_quarter_end Triage Date & TimeIs_quarter_start  \\\n",
       "0                             True                              False   \n",
       "1                             True                              False   \n",
       "2                            False                              False   \n",
       "3                            False                              False   \n",
       "4                            False                              False   \n",
       "\n",
       "   Triage Date & TimeIs_year_end Triage Date & TimeIs_year_start  \\\n",
       "0                          False                           False   \n",
       "1                          False                           False   \n",
       "2                          False                           False   \n",
       "3                          False                           False   \n",
       "4                          False                           False   \n",
       "\n",
       "  Triage Date & TimeHour Triage Date & TimeMinute Triage Date & TimeSecond  \\\n",
       "0                   23.0                     55.0                      0.0   \n",
       "1                   23.0                     22.0                      0.0   \n",
       "2                    0.0                      1.0                      0.0   \n",
       "3                    0.0                      4.0                      0.0   \n",
       "4                    0.0                     11.0                      0.0   \n",
       "\n",
       "  Triage Date & TimeElapsed  \n",
       "0                1522540500  \n",
       "1                1522538520  \n",
       "2                1515024060  \n",
       "3                1515024240  \n",
       "4                1515024660  \n",
       "\n",
       "[5 rows x 54 columns]"
      ]
     },
     "execution_count": 12,
     "metadata": {},
     "output_type": "execute_result"
    }
   ],
   "source": [
    "add_datepart(df, 'Triage Date & Time', time = True) # inplace\n",
    "df.head()"
   ]
  },
  {
   "cell_type": "code",
   "execution_count": null,
   "metadata": {},
   "outputs": [],
   "source": []
  }
 ],
 "metadata": {
  "kernelspec": {
   "display_name": "Python 3",
   "language": "python",
   "name": "python3"
  },
  "language_info": {
   "codemirror_mode": {
    "name": "ipython",
    "version": 3
   },
   "file_extension": ".py",
   "mimetype": "text/x-python",
   "name": "python",
   "nbconvert_exporter": "python",
   "pygments_lexer": "ipython3",
   "version": "3.6.5"
  }
 },
 "nbformat": 4,
 "nbformat_minor": 2
}
