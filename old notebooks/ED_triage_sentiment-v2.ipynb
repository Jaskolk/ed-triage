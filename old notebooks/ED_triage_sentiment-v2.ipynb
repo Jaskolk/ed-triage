{
 "cells": [
  {
   "cell_type": "code",
   "execution_count": 1,
   "metadata": {},
   "outputs": [],
   "source": [
    "from fastai import *\n",
    "from fastai.tabular import *\n",
    "from fastai.text import *"
   ]
  },
  {
   "cell_type": "code",
   "execution_count": 2,
   "metadata": {},
   "outputs": [],
   "source": [
    "%matplotlib inline\n",
    "from sklearn import metrics\n",
    "import matplotlib.pyplot as plt\n",
    "import seaborn as sns\n",
    "import os\n",
    "import re\n",
    "from collections import Counter\n",
    "import random"
   ]
  },
  {
   "cell_type": "code",
   "execution_count": 3,
   "metadata": {},
   "outputs": [],
   "source": [
    "path = '/floyd/home/notebooks'\n",
    "data_path = '/floyd/home/data'\n",
    "model_path = '/floyd/home/models'"
   ]
  },
  {
   "cell_type": "code",
   "execution_count": 4,
   "metadata": {},
   "outputs": [],
   "source": [
    "df1 = pd.read_csv(data_path +'/targets.csv', index_col=0)\n",
    "df2 = pd.read_csv(data_path + '/subj_data.csv', index_col=0)\n",
    "data = pd.concat([df1,df2],axis = 1)"
   ]
  },
  {
   "cell_type": "code",
   "execution_count": 5,
   "metadata": {},
   "outputs": [
    {
     "data": {
      "text/plain": [
       "136993"
      ]
     },
     "execution_count": 5,
     "metadata": {},
     "output_type": "execute_result"
    }
   ],
   "source": [
    "len(data)"
   ]
  },
  {
   "cell_type": "code",
   "execution_count": 6,
   "metadata": {},
   "outputs": [
    {
     "data": {
      "text/html": [
       "<div>\n",
       "<style scoped>\n",
       "    .dataframe tbody tr th:only-of-type {\n",
       "        vertical-align: middle;\n",
       "    }\n",
       "\n",
       "    .dataframe tbody tr th {\n",
       "        vertical-align: top;\n",
       "    }\n",
       "\n",
       "    .dataframe thead th {\n",
       "        text-align: right;\n",
       "    }\n",
       "</style>\n",
       "<table border=\"1\" class=\"dataframe\">\n",
       "  <thead>\n",
       "    <tr style=\"text-align: right;\">\n",
       "      <th></th>\n",
       "      <th>outcome</th>\n",
       "      <th>target</th>\n",
       "      <th>service</th>\n",
       "      <th>target2</th>\n",
       "      <th>discharge</th>\n",
       "      <th>target3</th>\n",
       "      <th>dispo</th>\n",
       "      <th>SubjectiveNotes</th>\n",
       "      <th>MedicalHistory</th>\n",
       "      <th>pmhx</th>\n",
       "    </tr>\n",
       "  </thead>\n",
       "  <tbody>\n",
       "    <tr>\n",
       "      <th>0</th>\n",
       "      <td>discharge</td>\n",
       "      <td>1</td>\n",
       "      <td>discharge</td>\n",
       "      <td>1</td>\n",
       "      <td>discharge</td>\n",
       "      <td>1</td>\n",
       "      <td>NaN</td>\n",
       "      <td>NaN</td>\n",
       "      <td>NaN</td>\n",
       "      <td>NaN</td>\n",
       "    </tr>\n",
       "    <tr>\n",
       "      <th>1</th>\n",
       "      <td>discharge</td>\n",
       "      <td>1</td>\n",
       "      <td>discharge</td>\n",
       "      <td>1</td>\n",
       "      <td>discharge</td>\n",
       "      <td>1</td>\n",
       "      <td>NaN</td>\n",
       "      <td>NaN</td>\n",
       "      <td>NaN</td>\n",
       "      <td>NaN</td>\n",
       "    </tr>\n",
       "    <tr>\n",
       "      <th>2</th>\n",
       "      <td>discharge</td>\n",
       "      <td>1</td>\n",
       "      <td>discharge</td>\n",
       "      <td>1</td>\n",
       "      <td>discharge</td>\n",
       "      <td>1</td>\n",
       "      <td>NaN</td>\n",
       "      <td>NaN</td>\n",
       "      <td>NaN</td>\n",
       "      <td>NaN</td>\n",
       "    </tr>\n",
       "    <tr>\n",
       "      <th>3</th>\n",
       "      <td>discharge</td>\n",
       "      <td>1</td>\n",
       "      <td>discharge</td>\n",
       "      <td>1</td>\n",
       "      <td>discharge</td>\n",
       "      <td>1</td>\n",
       "      <td>NaN</td>\n",
       "      <td>NaN</td>\n",
       "      <td>NaN</td>\n",
       "      <td>NaN</td>\n",
       "    </tr>\n",
       "    <tr>\n",
       "      <th>4</th>\n",
       "      <td>discharge</td>\n",
       "      <td>1</td>\n",
       "      <td>discharge</td>\n",
       "      <td>1</td>\n",
       "      <td>discharge</td>\n",
       "      <td>1</td>\n",
       "      <td>NaN</td>\n",
       "      <td>NaN</td>\n",
       "      <td>NaN</td>\n",
       "      <td>NaN</td>\n",
       "    </tr>\n",
       "  </tbody>\n",
       "</table>\n",
       "</div>"
      ],
      "text/plain": [
       "     outcome  target    service  target2  discharge  target3 dispo  \\\n",
       "0  discharge       1  discharge        1  discharge        1   NaN   \n",
       "1  discharge       1  discharge        1  discharge        1   NaN   \n",
       "2  discharge       1  discharge        1  discharge        1   NaN   \n",
       "3  discharge       1  discharge        1  discharge        1   NaN   \n",
       "4  discharge       1  discharge        1  discharge        1   NaN   \n",
       "\n",
       "  SubjectiveNotes MedicalHistory pmhx  \n",
       "0             NaN            NaN  NaN  \n",
       "1             NaN            NaN  NaN  \n",
       "2             NaN            NaN  NaN  \n",
       "3             NaN            NaN  NaN  \n",
       "4             NaN            NaN  NaN  "
      ]
     },
     "execution_count": 6,
     "metadata": {},
     "output_type": "execute_result"
    }
   ],
   "source": [
    "data.head()"
   ]
  },
  {
   "cell_type": "code",
   "execution_count": 7,
   "metadata": {},
   "outputs": [
    {
     "data": {
      "text/plain": [
       "110457"
      ]
     },
     "execution_count": 7,
     "metadata": {},
     "output_type": "execute_result"
    }
   ],
   "source": [
    "data.dropna(subset = ['SubjectiveNotes'], inplace = True)\n",
    "len(data)"
   ]
  },
  {
   "cell_type": "code",
   "execution_count": 8,
   "metadata": {},
   "outputs": [
    {
     "name": "stdout",
     "output_type": "stream",
     "text": [
      "patient states that she feels shaky.  patient denies any pain.\n",
      "patient states no pain.\n",
      "denied chest pain\n",
      "Denies pain. Eating ED lunch at triage\n",
      "patient complains of pain  on the left wrist and left ankle , no obvious deformity , with minor laceration  in between left thumb, and  2nd digit left finger .\n",
      "The patient states his pain is manageable. Still shivering-patient was laying on a cold concrete floor. Denies any other injuries other then the left leg.\n",
      "As per the police the patient-was having an agressive altercation with his mother.  The patient was to have mentioned to a call taker that he was suicidal.  The patient has a his of autism and some behaviour issues.\n",
      "patient states feels weak, complains of pain to feet x 3-4 days, nauseated\n",
      "complains of pain of frontal headache, continues to complains of generalized body pain.\n",
      "patient states feels pain is behind his lungs. patient states urine is darker than normal. states discomfort when voiding.\n"
     ]
    }
   ],
   "source": [
    "for note in list(data['SubjectiveNotes'])[:10]:\n",
    "    print (note)"
   ]
  },
  {
   "cell_type": "code",
   "execution_count": 16,
   "metadata": {},
   "outputs": [
    {
     "data": {
      "text/plain": [
       "110457"
      ]
     },
     "execution_count": 16,
     "metadata": {},
     "output_type": "execute_result"
    }
   ],
   "source": [
    "len(data)"
   ]
  },
  {
   "cell_type": "code",
   "execution_count": 23,
   "metadata": {},
   "outputs": [],
   "source": [
    "#this is to clean the text in the subjective notes column (a little bit)\n",
    "def fixencode(s):\n",
    "    if pd.isnull(s):\n",
    "        s = \"None\"\n",
    "    s=s.replace('<LT><LF>',',')\n",
    "    s=s.replace('Pt.', 'patient')\n",
    "    s=s.replace('Pt', 'patient')\n",
    "    s= s.replace('pt.', 'patient')\n",
    "    s=s.replace('pt', 'patient')\n",
    "    s = s.replace('y/o', 'year old')\n",
    "    s = s.replace('c/o', 'complains of')\n",
    "    s = s.replace('C/o', 'complains of')\n",
    "    return s"
   ]
  },
  {
   "cell_type": "code",
   "execution_count": 25,
   "metadata": {},
   "outputs": [],
   "source": [
    "data['SubjectiveNotes'] = data.SubjectiveNotes.map(fixencode)"
   ]
  },
  {
   "cell_type": "code",
   "execution_count": 26,
   "metadata": {},
   "outputs": [
    {
     "name": "stdout",
     "output_type": "stream",
     "text": [
      "patient states that she feels shaky.  patient denies any pain.\n",
      "patient states no pain.\n",
      "denied chest pain\n",
      "Denies pain. Eating ED lunch at triage\n",
      "patient complains of pain  on the left wrist and left ankle , no obvious deformity , with minor laceration  in between left thumb, and  2nd digit left finger .\n",
      "The patient states his pain is manageable. Still shivering-patient was laying on a cold concrete floor. Denies any other injuries other then the left leg.\n",
      "As per the police the patient-was having an agressive altercation with his mother.  The patient was to have mentioned to a call taker that he was suicidal.  The patient has a his of autism and some behaviour issues.\n",
      "patient states feels weak, complains of pain to feet x 3-4 days, nauseated\n",
      "complains of pain of frontal headache, continues to complains of generalized body pain.\n",
      "patient states feels pain is behind his lungs. patient states urine is darker than normal. states discomfort when voiding.\n"
     ]
    }
   ],
   "source": [
    "for note in list(data['SubjectiveNotes'])[:10]:\n",
    "    print (note)"
   ]
  },
  {
   "cell_type": "code",
   "execution_count": 27,
   "metadata": {},
   "outputs": [
    {
     "data": {
      "text/plain": [
       "Counter({'discharge': 99885, 'sadmit': 1567, 'madmit': 8361, 'ICU': 644})"
      ]
     },
     "execution_count": 27,
     "metadata": {},
     "output_type": "execute_result"
    }
   ],
   "source": [
    "outcome_count = Counter(data['outcome']); outcome_count"
   ]
  },
  {
   "cell_type": "code",
   "execution_count": 28,
   "metadata": {},
   "outputs": [
    {
     "data": {
      "text/plain": [
       "Counter({'discharge': 99885, 'sadmit': 1829, 'madmit': 8549, 'ICU': 194})"
      ]
     },
     "execution_count": 28,
     "metadata": {},
     "output_type": "execute_result"
    }
   ],
   "source": [
    "service_count = Counter(data['service']); service_count"
   ]
  },
  {
   "cell_type": "code",
   "execution_count": 40,
   "metadata": {},
   "outputs": [],
   "source": [
    "#this is a language model databunch from the entire dataset\n",
    "data_lm = load_data(model_path,'large_lm')"
   ]
  },
  {
   "cell_type": "code",
   "execution_count": 26,
   "metadata": {},
   "outputs": [],
   "source": [
    "data_clas_full = (TextList.from_df(data, cols='subj',vocab=data_lm.vocab)\n",
    "                   .split_by_rand_pct(0.2)\n",
    "                   .label_from_df(cols = 'outcome')\n",
    "                   .databunch())"
   ]
  },
  {
   "cell_type": "markdown",
   "metadata": {},
   "source": [
    "saving the large classifier databunch..."
   ]
  },
  {
   "cell_type": "code",
   "execution_count": 28,
   "metadata": {},
   "outputs": [],
   "source": [
    "data_clas_full.save(model_path + '/full_clas_db')"
   ]
  },
  {
   "cell_type": "markdown",
   "metadata": {},
   "source": [
    "Now on to training the classifier"
   ]
  },
  {
   "cell_type": "code",
   "execution_count": 33,
   "metadata": {},
   "outputs": [],
   "source": [
    "f1 = FBeta(beta=1, average = 'weighted')\n",
    "def train_triage_classifier(encoder_name, datac = data_clas_full, datal = data_lm, \n",
    "                            mets = [accuracy,f1], num_cycles = 1, lr = 1e-2, drop_mult = 0.5):\n",
    "    model = text_classifier_learner(datac, metrics = mets, arch = AWD_LSTM, drop_mult=drop_mult)\n",
    "    model.load_encoder(model_path + '/' + encoder_name)\n",
    "    model.fit_one_cycle(num_cycles, lr, moms=(0.8,0.7))\n",
    "    model.freeze_to(-2)\n",
    "    model.fit_one_cycle(num_cycles, slice(lr/(2.6**4),lr), moms=(0.8,0.7))\n",
    "    model.freeze_to(-3)\n",
    "    model.fit_one_cycle(num_cycles, slice((lr/2)/(2.6**4),(lr/2)), moms=(0.8,0.7))\n",
    "    model.unfreeze()\n",
    "    model.fit_one_cycle(num_cycles*5, slice((lr/100)/(2.6**4),(lr/100)), moms=(0.8,0.7))\n",
    "    model.recorder.plot_losses()\n",
    "    return model"
   ]
  },
  {
   "cell_type": "markdown",
   "metadata": {},
   "source": [
    "#### training classifier (I am using the full dataset here)"
   ]
  },
  {
   "cell_type": "code",
   "execution_count": 41,
   "metadata": {},
   "outputs": [
    {
     "data": {
      "text/html": [
       "<table border=\"1\" class=\"dataframe\">\n",
       "  <thead>\n",
       "    <tr style=\"text-align: left;\">\n",
       "      <th>epoch</th>\n",
       "      <th>train_loss</th>\n",
       "      <th>valid_loss</th>\n",
       "      <th>accuracy</th>\n",
       "      <th>f_beta</th>\n",
       "      <th>time</th>\n",
       "    </tr>\n",
       "  </thead>\n",
       "  <tbody>\n",
       "    <tr>\n",
       "      <td>0</td>\n",
       "      <td>0.325037</td>\n",
       "      <td>0.326482</td>\n",
       "      <td>0.903083</td>\n",
       "      <td>0.859870</td>\n",
       "      <td>04:05</td>\n",
       "    </tr>\n",
       "  </tbody>\n",
       "</table>"
      ],
      "text/plain": [
       "<IPython.core.display.HTML object>"
      ]
     },
     "metadata": {},
     "output_type": "display_data"
    },
    {
     "data": {
      "text/html": [
       "<table border=\"1\" class=\"dataframe\">\n",
       "  <thead>\n",
       "    <tr style=\"text-align: left;\">\n",
       "      <th>epoch</th>\n",
       "      <th>train_loss</th>\n",
       "      <th>valid_loss</th>\n",
       "      <th>accuracy</th>\n",
       "      <th>f_beta</th>\n",
       "      <th>time</th>\n",
       "    </tr>\n",
       "  </thead>\n",
       "  <tbody>\n",
       "    <tr>\n",
       "      <td>0</td>\n",
       "      <td>0.333564</td>\n",
       "      <td>0.319306</td>\n",
       "      <td>0.903490</td>\n",
       "      <td>0.862087</td>\n",
       "      <td>04:52</td>\n",
       "    </tr>\n",
       "  </tbody>\n",
       "</table>"
      ],
      "text/plain": [
       "<IPython.core.display.HTML object>"
      ]
     },
     "metadata": {},
     "output_type": "display_data"
    },
    {
     "data": {
      "text/html": [
       "<table border=\"1\" class=\"dataframe\">\n",
       "  <thead>\n",
       "    <tr style=\"text-align: left;\">\n",
       "      <th>epoch</th>\n",
       "      <th>train_loss</th>\n",
       "      <th>valid_loss</th>\n",
       "      <th>accuracy</th>\n",
       "      <th>f_beta</th>\n",
       "      <th>time</th>\n",
       "    </tr>\n",
       "  </thead>\n",
       "  <tbody>\n",
       "    <tr>\n",
       "      <td>0</td>\n",
       "      <td>0.310981</td>\n",
       "      <td>0.316502</td>\n",
       "      <td>0.903762</td>\n",
       "      <td>0.862217</td>\n",
       "      <td>07:25</td>\n",
       "    </tr>\n",
       "  </tbody>\n",
       "</table>"
      ],
      "text/plain": [
       "<IPython.core.display.HTML object>"
      ]
     },
     "metadata": {},
     "output_type": "display_data"
    },
    {
     "data": {
      "text/html": [
       "<table border=\"1\" class=\"dataframe\">\n",
       "  <thead>\n",
       "    <tr style=\"text-align: left;\">\n",
       "      <th>epoch</th>\n",
       "      <th>train_loss</th>\n",
       "      <th>valid_loss</th>\n",
       "      <th>accuracy</th>\n",
       "      <th>f_beta</th>\n",
       "      <th>time</th>\n",
       "    </tr>\n",
       "  </thead>\n",
       "  <tbody>\n",
       "    <tr>\n",
       "      <td>0</td>\n",
       "      <td>0.309803</td>\n",
       "      <td>0.315701</td>\n",
       "      <td>0.903988</td>\n",
       "      <td>0.863279</td>\n",
       "      <td>10:13</td>\n",
       "    </tr>\n",
       "    <tr>\n",
       "      <td>1</td>\n",
       "      <td>0.304975</td>\n",
       "      <td>0.315680</td>\n",
       "      <td>0.903762</td>\n",
       "      <td>0.863265</td>\n",
       "      <td>10:02</td>\n",
       "    </tr>\n",
       "    <tr>\n",
       "      <td>2</td>\n",
       "      <td>0.313507</td>\n",
       "      <td>0.315853</td>\n",
       "      <td>0.903898</td>\n",
       "      <td>0.862960</td>\n",
       "      <td>10:17</td>\n",
       "    </tr>\n",
       "    <tr>\n",
       "      <td>3</td>\n",
       "      <td>0.302416</td>\n",
       "      <td>0.315710</td>\n",
       "      <td>0.903762</td>\n",
       "      <td>0.863609</td>\n",
       "      <td>10:03</td>\n",
       "    </tr>\n",
       "    <tr>\n",
       "      <td>4</td>\n",
       "      <td>0.313738</td>\n",
       "      <td>0.315649</td>\n",
       "      <td>0.904079</td>\n",
       "      <td>0.863228</td>\n",
       "      <td>09:34</td>\n",
       "    </tr>\n",
       "  </tbody>\n",
       "</table>"
      ],
      "text/plain": [
       "<IPython.core.display.HTML object>"
      ]
     },
     "metadata": {},
     "output_type": "display_data"
    },
    {
     "data": {
      "image/png": "[encoded data removed]",
      "text/plain": [
       "<Figure size 432x288 with 1 Axes>"
      ]
     },
     "metadata": {
      "needs_background": "light"
     },
     "output_type": "display_data"
    }
   ],
   "source": [
    "sent_learn = train_triage_classifier('edsent_v2_enc2', datac = data_clas_full, num_cycles = 1, lr = 1e-3)"
   ]
  },
  {
   "cell_type": "code",
   "execution_count": 42,
   "metadata": {},
   "outputs": [],
   "source": [
    "preds, targets = sent_learn.get_preds(DatasetType.Valid) \n",
    "predictions = np.argmax(preds, axis = 1) "
   ]
  },
  {
   "cell_type": "code",
   "execution_count": 44,
   "metadata": {},
   "outputs": [
    {
     "data": {
      "image/png": "[encoded data removed]",
      "text/plain": [
       "<Figure size 360x360 with 2 Axes>"
      ]
     },
     "metadata": {},
     "output_type": "display_data"
    }
   ],
   "source": [
    "%matplotlib inline\n",
    "from sklearn import metrics\n",
    "import matplotlib.pyplot as plt\n",
    "import seaborn as sns\n",
    "sns.set(font_scale=2)\n",
    "\n",
    "LABELS = data_clas_full.classes\n",
    "\n",
    "confusion_matrix = metrics.confusion_matrix(targets, predictions)\n",
    "\n",
    "plt.figure(figsize=(5, 5))\n",
    "sns.heatmap(confusion_matrix, xticklabels=LABELS, yticklabels=LABELS, annot=True, fmt=\"d\", annot_kws={\"size\": 20});\n",
    "plt.title(\"Confusion matrix\", fontsize=20)\n",
    "plt.ylabel('True label', fontsize=20)\n",
    "plt.xlabel('Predicted label', fontsize=20)\n",
    "plt.show()"
   ]
  },
  {
   "cell_type": "code",
   "execution_count": 47,
   "metadata": {},
   "outputs": [],
   "source": [
    "sent_learn.save(model_path + '/edtriage2')"
   ]
  },
  {
   "cell_type": "markdown",
   "metadata": {},
   "source": [
    "so the results above show high accuracy and f-score, but very few admission predictions"
   ]
  },
  {
   "cell_type": "markdown",
   "metadata": {},
   "source": [
    "now gonna train longer and see what happens"
   ]
  },
  {
   "cell_type": "code",
   "execution_count": 46,
   "metadata": {},
   "outputs": [],
   "source": [
    "data_clas_full2 = (TextList.from_df(data, cols='subj',vocab=data_lm.vocab)\n",
    "                   .split_by_rand_pct(0.2)\n",
    "                   .label_from_df(cols = 'service')\n",
    "                   .databunch())"
   ]
  },
  {
   "cell_type": "code",
   "execution_count": 48,
   "metadata": {},
   "outputs": [
    {
     "data": {
      "text/html": [
       "<table border=\"1\" class=\"dataframe\">\n",
       "  <thead>\n",
       "    <tr style=\"text-align: left;\">\n",
       "      <th>epoch</th>\n",
       "      <th>train_loss</th>\n",
       "      <th>valid_loss</th>\n",
       "      <th>accuracy</th>\n",
       "      <th>f_beta</th>\n",
       "      <th>time</th>\n",
       "    </tr>\n",
       "  </thead>\n",
       "  <tbody>\n",
       "    <tr>\n",
       "      <td>0</td>\n",
       "      <td>0.323382</td>\n",
       "      <td>0.318309</td>\n",
       "      <td>0.904214</td>\n",
       "      <td>0.864396</td>\n",
       "      <td>03:57</td>\n",
       "    </tr>\n",
       "    <tr>\n",
       "      <td>1</td>\n",
       "      <td>0.290085</td>\n",
       "      <td>0.306193</td>\n",
       "      <td>0.904984</td>\n",
       "      <td>0.863604</td>\n",
       "      <td>03:54</td>\n",
       "    </tr>\n",
       "    <tr>\n",
       "      <td>2</td>\n",
       "      <td>0.337687</td>\n",
       "      <td>0.303845</td>\n",
       "      <td>0.904984</td>\n",
       "      <td>0.863285</td>\n",
       "      <td>04:05</td>\n",
       "    </tr>\n",
       "  </tbody>\n",
       "</table>"
      ],
      "text/plain": [
       "<IPython.core.display.HTML object>"
      ]
     },
     "metadata": {},
     "output_type": "display_data"
    },
    {
     "data": {
      "text/html": [
       "<table border=\"1\" class=\"dataframe\">\n",
       "  <thead>\n",
       "    <tr style=\"text-align: left;\">\n",
       "      <th>epoch</th>\n",
       "      <th>train_loss</th>\n",
       "      <th>valid_loss</th>\n",
       "      <th>accuracy</th>\n",
       "      <th>f_beta</th>\n",
       "      <th>time</th>\n",
       "    </tr>\n",
       "  </thead>\n",
       "  <tbody>\n",
       "    <tr>\n",
       "      <td>0</td>\n",
       "      <td>0.306796</td>\n",
       "      <td>0.305917</td>\n",
       "      <td>0.904577</td>\n",
       "      <td>0.863555</td>\n",
       "      <td>04:51</td>\n",
       "    </tr>\n",
       "    <tr>\n",
       "      <td>1</td>\n",
       "      <td>0.314900</td>\n",
       "      <td>0.300065</td>\n",
       "      <td>0.905074</td>\n",
       "      <td>0.865789</td>\n",
       "      <td>04:39</td>\n",
       "    </tr>\n",
       "    <tr>\n",
       "      <td>2</td>\n",
       "      <td>0.276908</td>\n",
       "      <td>0.299801</td>\n",
       "      <td>0.905074</td>\n",
       "      <td>0.866325</td>\n",
       "      <td>04:46</td>\n",
       "    </tr>\n",
       "  </tbody>\n",
       "</table>"
      ],
      "text/plain": [
       "<IPython.core.display.HTML object>"
      ]
     },
     "metadata": {},
     "output_type": "display_data"
    },
    {
     "data": {
      "text/html": [
       "<table border=\"1\" class=\"dataframe\">\n",
       "  <thead>\n",
       "    <tr style=\"text-align: left;\">\n",
       "      <th>epoch</th>\n",
       "      <th>train_loss</th>\n",
       "      <th>valid_loss</th>\n",
       "      <th>accuracy</th>\n",
       "      <th>f_beta</th>\n",
       "      <th>time</th>\n",
       "    </tr>\n",
       "  </thead>\n",
       "  <tbody>\n",
       "    <tr>\n",
       "      <td>0</td>\n",
       "      <td>0.284210</td>\n",
       "      <td>0.299914</td>\n",
       "      <td>0.905074</td>\n",
       "      <td>0.868041</td>\n",
       "      <td>07:31</td>\n",
       "    </tr>\n",
       "    <tr>\n",
       "      <td>1</td>\n",
       "      <td>0.286468</td>\n",
       "      <td>0.299472</td>\n",
       "      <td>0.905165</td>\n",
       "      <td>0.866765</td>\n",
       "      <td>07:31</td>\n",
       "    </tr>\n",
       "    <tr>\n",
       "      <td>2</td>\n",
       "      <td>0.283946</td>\n",
       "      <td>0.298888</td>\n",
       "      <td>0.904893</td>\n",
       "      <td>0.867925</td>\n",
       "      <td>07:32</td>\n",
       "    </tr>\n",
       "  </tbody>\n",
       "</table>"
      ],
      "text/plain": [
       "<IPython.core.display.HTML object>"
      ]
     },
     "metadata": {},
     "output_type": "display_data"
    },
    {
     "data": {
      "text/html": [
       "<table border=\"1\" class=\"dataframe\">\n",
       "  <thead>\n",
       "    <tr style=\"text-align: left;\">\n",
       "      <th>epoch</th>\n",
       "      <th>train_loss</th>\n",
       "      <th>valid_loss</th>\n",
       "      <th>accuracy</th>\n",
       "      <th>f_beta</th>\n",
       "      <th>time</th>\n",
       "    </tr>\n",
       "  </thead>\n",
       "  <tbody>\n",
       "    <tr>\n",
       "      <td>0</td>\n",
       "      <td>0.270205</td>\n",
       "      <td>0.298970</td>\n",
       "      <td>0.904622</td>\n",
       "      <td>0.867437</td>\n",
       "      <td>10:06</td>\n",
       "    </tr>\n",
       "    <tr>\n",
       "      <td>1</td>\n",
       "      <td>0.288500</td>\n",
       "      <td>0.299180</td>\n",
       "      <td>0.905165</td>\n",
       "      <td>0.866894</td>\n",
       "      <td>09:40</td>\n",
       "    </tr>\n",
       "    <tr>\n",
       "      <td>2</td>\n",
       "      <td>0.294971</td>\n",
       "      <td>0.298831</td>\n",
       "      <td>0.905029</td>\n",
       "      <td>0.867654</td>\n",
       "      <td>09:57</td>\n",
       "    </tr>\n",
       "    <tr>\n",
       "      <td>3</td>\n",
       "      <td>0.271473</td>\n",
       "      <td>0.298987</td>\n",
       "      <td>0.904622</td>\n",
       "      <td>0.868204</td>\n",
       "      <td>09:34</td>\n",
       "    </tr>\n",
       "    <tr>\n",
       "      <td>4</td>\n",
       "      <td>0.276894</td>\n",
       "      <td>0.298771</td>\n",
       "      <td>0.904848</td>\n",
       "      <td>0.867567</td>\n",
       "      <td>10:16</td>\n",
       "    </tr>\n",
       "    <tr>\n",
       "      <td>5</td>\n",
       "      <td>0.281706</td>\n",
       "      <td>0.298766</td>\n",
       "      <td>0.904667</td>\n",
       "      <td>0.868109</td>\n",
       "      <td>10:07</td>\n",
       "    </tr>\n",
       "    <tr>\n",
       "      <td>6</td>\n",
       "      <td>0.298027</td>\n",
       "      <td>0.298452</td>\n",
       "      <td>0.905346</td>\n",
       "      <td>0.867719</td>\n",
       "      <td>10:08</td>\n",
       "    </tr>\n",
       "    <tr>\n",
       "      <td>7</td>\n",
       "      <td>0.272918</td>\n",
       "      <td>0.298930</td>\n",
       "      <td>0.904577</td>\n",
       "      <td>0.868088</td>\n",
       "      <td>10:19</td>\n",
       "    </tr>\n",
       "    <tr>\n",
       "      <td>8</td>\n",
       "      <td>0.294623</td>\n",
       "      <td>0.298981</td>\n",
       "      <td>0.905210</td>\n",
       "      <td>0.867319</td>\n",
       "      <td>09:41</td>\n",
       "    </tr>\n",
       "    <tr>\n",
       "      <td>9</td>\n",
       "      <td>0.301512</td>\n",
       "      <td>0.298809</td>\n",
       "      <td>0.904984</td>\n",
       "      <td>0.867493</td>\n",
       "      <td>09:39</td>\n",
       "    </tr>\n",
       "    <tr>\n",
       "      <td>10</td>\n",
       "      <td>0.300911</td>\n",
       "      <td>0.299081</td>\n",
       "      <td>0.905391</td>\n",
       "      <td>0.867744</td>\n",
       "      <td>09:55</td>\n",
       "    </tr>\n",
       "    <tr>\n",
       "      <td>11</td>\n",
       "      <td>0.290213</td>\n",
       "      <td>0.298974</td>\n",
       "      <td>0.905301</td>\n",
       "      <td>0.867135</td>\n",
       "      <td>10:25</td>\n",
       "    </tr>\n",
       "    <tr>\n",
       "      <td>12</td>\n",
       "      <td>0.286697</td>\n",
       "      <td>0.299201</td>\n",
       "      <td>0.904577</td>\n",
       "      <td>0.868120</td>\n",
       "      <td>10:06</td>\n",
       "    </tr>\n",
       "    <tr>\n",
       "      <td>13</td>\n",
       "      <td>0.287239</td>\n",
       "      <td>0.298591</td>\n",
       "      <td>0.904622</td>\n",
       "      <td>0.868083</td>\n",
       "      <td>10:18</td>\n",
       "    </tr>\n",
       "    <tr>\n",
       "      <td>14</td>\n",
       "      <td>0.280060</td>\n",
       "      <td>0.298327</td>\n",
       "      <td>0.904893</td>\n",
       "      <td>0.867809</td>\n",
       "      <td>10:23</td>\n",
       "    </tr>\n",
       "  </tbody>\n",
       "</table>"
      ],
      "text/plain": [
       "<IPython.core.display.HTML object>"
      ]
     },
     "metadata": {},
     "output_type": "display_data"
    },
    {
     "data": {
      "image/png": "[encoded data removed]",
      "text/plain": [
       "<Figure size 432x288 with 1 Axes>"
      ]
     },
     "metadata": {},
     "output_type": "display_data"
    }
   ],
   "source": [
    "sent_learn = train_triage_classifier('edsent_v2_enc2', datac = data_clas_full2, num_cycles = 3, lr = 1e-3)"
   ]
  },
  {
   "cell_type": "code",
   "execution_count": 49,
   "metadata": {},
   "outputs": [],
   "source": [
    "sent_learn.save(model_path + '/edtriage3')"
   ]
  },
  {
   "cell_type": "code",
   "execution_count": 50,
   "metadata": {},
   "outputs": [],
   "source": [
    "preds, targets = sent_learn.get_preds(DatasetType.Valid) \n",
    "predictions = np.argmax(preds, axis = 1) "
   ]
  },
  {
   "cell_type": "code",
   "execution_count": 51,
   "metadata": {},
   "outputs": [
    {
     "data": {
      "image/png": "[encoded data removed]",
      "text/plain": [
       "<Figure size 360x360 with 2 Axes>"
      ]
     },
     "metadata": {},
     "output_type": "display_data"
    }
   ],
   "source": [
    "confusion_matrix = metrics.confusion_matrix(targets, predictions)\n",
    "\n",
    "plt.figure(figsize=(5, 5))\n",
    "sns.heatmap(confusion_matrix, xticklabels=LABELS, yticklabels=LABELS, annot=True, fmt=\"d\", annot_kws={\"size\": 20});\n",
    "plt.title(\"Confusion matrix\", fontsize=20)\n",
    "plt.ylabel('True label', fontsize=20)\n",
    "plt.xlabel('Predicted label', fontsize=20)\n",
    "plt.show()"
   ]
  },
  {
   "cell_type": "markdown",
   "metadata": {},
   "source": [
    "this was a little worse because it overfit the data\n",
    "\n",
    "now it's time to make a balanced dataset"
   ]
  },
  {
   "cell_type": "code",
   "execution_count": 30,
   "metadata": {},
   "outputs": [
    {
     "data": {
      "text/plain": [
       "Counter({'discharge': 99885, 'admit': 10572})"
      ]
     },
     "execution_count": 30,
     "metadata": {},
     "output_type": "execute_result"
    }
   ],
   "source": [
    "dc_count = Counter(data['discharge']); dc_count"
   ]
  },
  {
   "cell_type": "code",
   "execution_count": 31,
   "metadata": {},
   "outputs": [],
   "source": [
    "dc_df = data[data['discharge']=='discharge']"
   ]
  },
  {
   "cell_type": "code",
   "execution_count": 32,
   "metadata": {},
   "outputs": [],
   "source": [
    "ad_df = data[data['discharge']=='admit']"
   ]
  },
  {
   "cell_type": "code",
   "execution_count": 34,
   "metadata": {},
   "outputs": [
    {
     "data": {
      "text/plain": [
       "(10572, 99885)"
      ]
     },
     "execution_count": 34,
     "metadata": {},
     "output_type": "execute_result"
    }
   ],
   "source": [
    "len(ad_df), len(dc_df)"
   ]
  },
  {
   "cell_type": "code",
   "execution_count": 35,
   "metadata": {},
   "outputs": [],
   "source": [
    "ltd_dc_df = dc_df.sample(n=10572,random_state=42)"
   ]
  },
  {
   "cell_type": "code",
   "execution_count": 36,
   "metadata": {},
   "outputs": [
    {
     "data": {
      "text/plain": [
       "10572"
      ]
     },
     "execution_count": 36,
     "metadata": {},
     "output_type": "execute_result"
    }
   ],
   "source": [
    "len(ltd_dc_df)"
   ]
  },
  {
   "cell_type": "code",
   "execution_count": 37,
   "metadata": {},
   "outputs": [],
   "source": [
    "bal_df = ltd_dc_df.append(ad_df)"
   ]
  },
  {
   "cell_type": "code",
   "execution_count": 38,
   "metadata": {},
   "outputs": [
    {
     "data": {
      "text/plain": [
       "21144"
      ]
     },
     "execution_count": 38,
     "metadata": {},
     "output_type": "execute_result"
    }
   ],
   "source": [
    "len(bal_df)"
   ]
  },
  {
   "cell_type": "code",
   "execution_count": 39,
   "metadata": {},
   "outputs": [
    {
     "data": {
      "text/plain": [
       "Counter({'discharge': 10572, 'admit': 10572})"
      ]
     },
     "execution_count": 39,
     "metadata": {},
     "output_type": "execute_result"
    }
   ],
   "source": [
    "dc_count = Counter(bal_df['discharge']); dc_count"
   ]
  },
  {
   "cell_type": "code",
   "execution_count": 41,
   "metadata": {},
   "outputs": [],
   "source": [
    "data_clas_bal = (TextList.from_df(bal_df, cols='SubjectiveNotes',vocab=data_lm.vocab)\n",
    "                   .split_by_rand_pct(0.1)\n",
    "                   .label_from_df(cols = 'discharge')\n",
    "                   .databunch())"
   ]
  },
  {
   "cell_type": "code",
   "execution_count": 47,
   "metadata": {},
   "outputs": [],
   "source": [
    "def train_triage_classifier(encoder_name, datac, datal = data_lm, \n",
    "                            f1_type = None, num_cycles = 1, lr = 1e-2, drop_mult = 0.5):\n",
    "    f1 = FBeta(beta=1, average = f1_type)\n",
    "    model = text_classifier_learner(datac, metrics = [accuracy,f1], arch = AWD_LSTM, drop_mult=drop_mult)\n",
    "    model.load_encoder(model_path + '/' + encoder_name)\n",
    "    model.fit_one_cycle(num_cycles, lr, moms=(0.8,0.7))\n",
    "    model.freeze_to(-2)\n",
    "    model.fit_one_cycle(num_cycles, slice(lr/(2.6**4),lr), moms=(0.8,0.7))\n",
    "    model.freeze_to(-3)\n",
    "    model.fit_one_cycle(num_cycles, slice((lr/2)/(2.6**4),(lr/2)), moms=(0.8,0.7))\n",
    "    model.unfreeze()\n",
    "    model.fit_one_cycle(num_cycles*5, slice((lr/100)/(2.6**4),(lr/100)), moms=(0.8,0.7))\n",
    "    model.recorder.plot_losses()\n",
    "    return model"
   ]
  },
  {
   "cell_type": "markdown",
   "metadata": {},
   "source": [
    "#### training classifier (I am using the balanced dataset here)"
   ]
  },
  {
   "cell_type": "code",
   "execution_count": 45,
   "metadata": {},
   "outputs": [
    {
     "data": {
      "text/html": [
       "<table border=\"1\" class=\"dataframe\">\n",
       "  <thead>\n",
       "    <tr style=\"text-align: left;\">\n",
       "      <th>epoch</th>\n",
       "      <th>train_loss</th>\n",
       "      <th>valid_loss</th>\n",
       "      <th>accuracy</th>\n",
       "      <th>f_beta</th>\n",
       "      <th>time</th>\n",
       "    </tr>\n",
       "  </thead>\n",
       "  <tbody>\n",
       "    <tr>\n",
       "      <td>0</td>\n",
       "      <td>0.598867</td>\n",
       "      <td>0.564129</td>\n",
       "      <td>0.699149</td>\n",
       "      <td>0.721297</td>\n",
       "      <td>0.673176</td>\n",
       "      <td>00:48</td>\n",
       "    </tr>\n",
       "  </tbody>\n",
       "</table>"
      ],
      "text/plain": [
       "<IPython.core.display.HTML object>"
      ]
     },
     "metadata": {},
     "output_type": "display_data"
    },
    {
     "data": {
      "text/html": [
       "<table border=\"1\" class=\"dataframe\">\n",
       "  <thead>\n",
       "    <tr style=\"text-align: left;\">\n",
       "      <th>epoch</th>\n",
       "      <th>train_loss</th>\n",
       "      <th>valid_loss</th>\n",
       "      <th>accuracy</th>\n",
       "      <th>f_beta</th>\n",
       "      <th>time</th>\n",
       "    </tr>\n",
       "  </thead>\n",
       "  <tbody>\n",
       "    <tr>\n",
       "      <td>0</td>\n",
       "      <td>0.594626</td>\n",
       "      <td>0.555718</td>\n",
       "      <td>0.710501</td>\n",
       "      <td>0.722575</td>\n",
       "      <td>0.697329</td>\n",
       "      <td>00:56</td>\n",
       "    </tr>\n",
       "  </tbody>\n",
       "</table>"
      ],
      "text/plain": [
       "<IPython.core.display.HTML object>"
      ]
     },
     "metadata": {},
     "output_type": "display_data"
    },
    {
     "data": {
      "text/html": [
       "<table border=\"1\" class=\"dataframe\">\n",
       "  <thead>\n",
       "    <tr style=\"text-align: left;\">\n",
       "      <th>epoch</th>\n",
       "      <th>train_loss</th>\n",
       "      <th>valid_loss</th>\n",
       "      <th>accuracy</th>\n",
       "      <th>f_beta</th>\n",
       "      <th>time</th>\n",
       "    </tr>\n",
       "  </thead>\n",
       "  <tbody>\n",
       "    <tr>\n",
       "      <td>0</td>\n",
       "      <td>0.582548</td>\n",
       "      <td>0.548729</td>\n",
       "      <td>0.719962</td>\n",
       "      <td>0.728191</td>\n",
       "      <td>0.711219</td>\n",
       "      <td>01:31</td>\n",
       "    </tr>\n",
       "  </tbody>\n",
       "</table>"
      ],
      "text/plain": [
       "<IPython.core.display.HTML object>"
      ]
     },
     "metadata": {},
     "output_type": "display_data"
    },
    {
     "data": {
      "text/html": [
       "<table border=\"1\" class=\"dataframe\">\n",
       "  <thead>\n",
       "    <tr style=\"text-align: left;\">\n",
       "      <th>epoch</th>\n",
       "      <th>train_loss</th>\n",
       "      <th>valid_loss</th>\n",
       "      <th>accuracy</th>\n",
       "      <th>f_beta</th>\n",
       "      <th>time</th>\n",
       "    </tr>\n",
       "  </thead>\n",
       "  <tbody>\n",
       "    <tr>\n",
       "      <td>0</td>\n",
       "      <td>0.564816</td>\n",
       "      <td>0.548717</td>\n",
       "      <td>0.712867</td>\n",
       "      <td>0.721432</td>\n",
       "      <td>0.703758</td>\n",
       "      <td>02:12</td>\n",
       "    </tr>\n",
       "    <tr>\n",
       "      <td>1</td>\n",
       "      <td>0.563714</td>\n",
       "      <td>0.547652</td>\n",
       "      <td>0.715705</td>\n",
       "      <td>0.731337</td>\n",
       "      <td>0.698142</td>\n",
       "      <td>02:00</td>\n",
       "    </tr>\n",
       "    <tr>\n",
       "      <td>2</td>\n",
       "      <td>0.561577</td>\n",
       "      <td>0.547917</td>\n",
       "      <td>0.719489</td>\n",
       "      <td>0.729100</td>\n",
       "      <td>0.709171</td>\n",
       "      <td>02:11</td>\n",
       "    </tr>\n",
       "    <tr>\n",
       "      <td>3</td>\n",
       "      <td>0.565348</td>\n",
       "      <td>0.548996</td>\n",
       "      <td>0.715705</td>\n",
       "      <td>0.721630</td>\n",
       "      <td>0.709521</td>\n",
       "      <td>02:05</td>\n",
       "    </tr>\n",
       "    <tr>\n",
       "      <td>4</td>\n",
       "      <td>0.566165</td>\n",
       "      <td>0.547402</td>\n",
       "      <td>0.717597</td>\n",
       "      <td>0.730230</td>\n",
       "      <td>0.703722</td>\n",
       "      <td>02:05</td>\n",
       "    </tr>\n",
       "  </tbody>\n",
       "</table>"
      ],
      "text/plain": [
       "<IPython.core.display.HTML object>"
      ]
     },
     "metadata": {},
     "output_type": "display_data"
    },
    {
     "data": {
      "image/png": "[encoded data removed]",
      "text/plain": [
       "<Figure size 432x288 with 1 Axes>"
      ]
     },
     "metadata": {
      "needs_background": "light"
     },
     "output_type": "display_data"
    }
   ],
   "source": [
    "sent_learn = train_triage_classifier('edsent_v2_enc2', datac = data_clas_bal, num_cycles = 1, lr = 1e-3)"
   ]
  },
  {
   "cell_type": "code",
   "execution_count": 48,
   "metadata": {},
   "outputs": [
    {
     "data": {
      "text/html": [
       "<table border=\"1\" class=\"dataframe\">\n",
       "  <thead>\n",
       "    <tr style=\"text-align: left;\">\n",
       "      <th>epoch</th>\n",
       "      <th>train_loss</th>\n",
       "      <th>valid_loss</th>\n",
       "      <th>accuracy</th>\n",
       "      <th>f_beta</th>\n",
       "      <th>time</th>\n",
       "    </tr>\n",
       "  </thead>\n",
       "  <tbody>\n",
       "    <tr>\n",
       "      <td>0</td>\n",
       "      <td>0.606722</td>\n",
       "      <td>0.582516</td>\n",
       "      <td>0.689688</td>\n",
       "      <td>0.705830</td>\n",
       "      <td>0.671672</td>\n",
       "      <td>00:48</td>\n",
       "    </tr>\n",
       "    <tr>\n",
       "      <td>1</td>\n",
       "      <td>0.601469</td>\n",
       "      <td>0.558931</td>\n",
       "      <td>0.704825</td>\n",
       "      <td>0.718665</td>\n",
       "      <td>0.689552</td>\n",
       "      <td>00:45</td>\n",
       "    </tr>\n",
       "    <tr>\n",
       "      <td>2</td>\n",
       "      <td>0.581311</td>\n",
       "      <td>0.554018</td>\n",
       "      <td>0.710501</td>\n",
       "      <td>0.727758</td>\n",
       "      <td>0.690909</td>\n",
       "      <td>00:49</td>\n",
       "    </tr>\n",
       "  </tbody>\n",
       "</table>"
      ],
      "text/plain": [
       "<IPython.core.display.HTML object>"
      ]
     },
     "metadata": {},
     "output_type": "display_data"
    },
    {
     "data": {
      "text/html": [
       "<table border=\"1\" class=\"dataframe\">\n",
       "  <thead>\n",
       "    <tr style=\"text-align: left;\">\n",
       "      <th>epoch</th>\n",
       "      <th>train_loss</th>\n",
       "      <th>valid_loss</th>\n",
       "      <th>accuracy</th>\n",
       "      <th>f_beta</th>\n",
       "      <th>time</th>\n",
       "    </tr>\n",
       "  </thead>\n",
       "  <tbody>\n",
       "    <tr>\n",
       "      <td>0</td>\n",
       "      <td>0.604781</td>\n",
       "      <td>0.569713</td>\n",
       "      <td>0.715232</td>\n",
       "      <td>0.744048</td>\n",
       "      <td>0.679105</td>\n",
       "      <td>00:57</td>\n",
       "    </tr>\n",
       "    <tr>\n",
       "      <td>1</td>\n",
       "      <td>0.575988</td>\n",
       "      <td>0.547261</td>\n",
       "      <td>0.716651</td>\n",
       "      <td>0.737856</td>\n",
       "      <td>0.691714</td>\n",
       "      <td>00:58</td>\n",
       "    </tr>\n",
       "    <tr>\n",
       "      <td>2</td>\n",
       "      <td>0.555033</td>\n",
       "      <td>0.538035</td>\n",
       "      <td>0.726112</td>\n",
       "      <td>0.740242</td>\n",
       "      <td>0.710355</td>\n",
       "      <td>00:56</td>\n",
       "    </tr>\n",
       "  </tbody>\n",
       "</table>"
      ],
      "text/plain": [
       "<IPython.core.display.HTML object>"
      ]
     },
     "metadata": {},
     "output_type": "display_data"
    },
    {
     "data": {
      "text/html": [
       "<table border=\"1\" class=\"dataframe\">\n",
       "  <thead>\n",
       "    <tr style=\"text-align: left;\">\n",
       "      <th>epoch</th>\n",
       "      <th>train_loss</th>\n",
       "      <th>valid_loss</th>\n",
       "      <th>accuracy</th>\n",
       "      <th>f_beta</th>\n",
       "      <th>time</th>\n",
       "    </tr>\n",
       "  </thead>\n",
       "  <tbody>\n",
       "    <tr>\n",
       "      <td>0</td>\n",
       "      <td>0.551125</td>\n",
       "      <td>0.549134</td>\n",
       "      <td>0.722800</td>\n",
       "      <td>0.743432</td>\n",
       "      <td>0.698560</td>\n",
       "      <td>01:31</td>\n",
       "    </tr>\n",
       "    <tr>\n",
       "      <td>1</td>\n",
       "      <td>0.547959</td>\n",
       "      <td>0.539749</td>\n",
       "      <td>0.720908</td>\n",
       "      <td>0.729606</td>\n",
       "      <td>0.711632</td>\n",
       "      <td>01:32</td>\n",
       "    </tr>\n",
       "    <tr>\n",
       "      <td>2</td>\n",
       "      <td>0.533950</td>\n",
       "      <td>0.539295</td>\n",
       "      <td>0.720435</td>\n",
       "      <td>0.731241</td>\n",
       "      <td>0.708723</td>\n",
       "      <td>01:37</td>\n",
       "    </tr>\n",
       "  </tbody>\n",
       "</table>"
      ],
      "text/plain": [
       "<IPython.core.display.HTML object>"
      ]
     },
     "metadata": {},
     "output_type": "display_data"
    },
    {
     "data": {
      "text/html": [
       "<table border=\"1\" class=\"dataframe\">\n",
       "  <thead>\n",
       "    <tr style=\"text-align: left;\">\n",
       "      <th>epoch</th>\n",
       "      <th>train_loss</th>\n",
       "      <th>valid_loss</th>\n",
       "      <th>accuracy</th>\n",
       "      <th>f_beta</th>\n",
       "      <th>time</th>\n",
       "    </tr>\n",
       "  </thead>\n",
       "  <tbody>\n",
       "    <tr>\n",
       "      <td>0</td>\n",
       "      <td>0.516823</td>\n",
       "      <td>0.539348</td>\n",
       "      <td>0.722800</td>\n",
       "      <td>0.735321</td>\n",
       "      <td>0.709037</td>\n",
       "      <td>02:02</td>\n",
       "    </tr>\n",
       "    <tr>\n",
       "      <td>1</td>\n",
       "      <td>0.525083</td>\n",
       "      <td>0.539990</td>\n",
       "      <td>0.720435</td>\n",
       "      <td>0.732216</td>\n",
       "      <td>0.707570</td>\n",
       "      <td>02:01</td>\n",
       "    </tr>\n",
       "    <tr>\n",
       "      <td>2</td>\n",
       "      <td>0.519079</td>\n",
       "      <td>0.539398</td>\n",
       "      <td>0.722800</td>\n",
       "      <td>0.733394</td>\n",
       "      <td>0.711330</td>\n",
       "      <td>02:10</td>\n",
       "    </tr>\n",
       "    <tr>\n",
       "      <td>3</td>\n",
       "      <td>0.519852</td>\n",
       "      <td>0.539232</td>\n",
       "      <td>0.721854</td>\n",
       "      <td>0.733454</td>\n",
       "      <td>0.709199</td>\n",
       "      <td>02:04</td>\n",
       "    </tr>\n",
       "    <tr>\n",
       "      <td>4</td>\n",
       "      <td>0.519687</td>\n",
       "      <td>0.540283</td>\n",
       "      <td>0.721381</td>\n",
       "      <td>0.730681</td>\n",
       "      <td>0.711416</td>\n",
       "      <td>02:07</td>\n",
       "    </tr>\n",
       "    <tr>\n",
       "      <td>5</td>\n",
       "      <td>0.516646</td>\n",
       "      <td>0.540469</td>\n",
       "      <td>0.726585</td>\n",
       "      <td>0.744474</td>\n",
       "      <td>0.706002</td>\n",
       "      <td>01:57</td>\n",
       "    </tr>\n",
       "    <tr>\n",
       "      <td>6</td>\n",
       "      <td>0.518915</td>\n",
       "      <td>0.543297</td>\n",
       "      <td>0.720435</td>\n",
       "      <td>0.730752</td>\n",
       "      <td>0.709297</td>\n",
       "      <td>02:02</td>\n",
       "    </tr>\n",
       "    <tr>\n",
       "      <td>7</td>\n",
       "      <td>0.514833</td>\n",
       "      <td>0.543372</td>\n",
       "      <td>0.724693</td>\n",
       "      <td>0.740179</td>\n",
       "      <td>0.707243</td>\n",
       "      <td>02:07</td>\n",
       "    </tr>\n",
       "    <tr>\n",
       "      <td>8</td>\n",
       "      <td>0.506705</td>\n",
       "      <td>0.541950</td>\n",
       "      <td>0.723273</td>\n",
       "      <td>0.731282</td>\n",
       "      <td>0.714773</td>\n",
       "      <td>02:06</td>\n",
       "    </tr>\n",
       "    <tr>\n",
       "      <td>9</td>\n",
       "      <td>0.509874</td>\n",
       "      <td>0.540370</td>\n",
       "      <td>0.723273</td>\n",
       "      <td>0.732265</td>\n",
       "      <td>0.713656</td>\n",
       "      <td>02:05</td>\n",
       "    </tr>\n",
       "    <tr>\n",
       "      <td>10</td>\n",
       "      <td>0.509263</td>\n",
       "      <td>0.544211</td>\n",
       "      <td>0.726112</td>\n",
       "      <td>0.745495</td>\n",
       "      <td>0.703533</td>\n",
       "      <td>02:09</td>\n",
       "    </tr>\n",
       "    <tr>\n",
       "      <td>11</td>\n",
       "      <td>0.525075</td>\n",
       "      <td>0.548046</td>\n",
       "      <td>0.718543</td>\n",
       "      <td>0.718942</td>\n",
       "      <td>0.718143</td>\n",
       "      <td>01:59</td>\n",
       "    </tr>\n",
       "    <tr>\n",
       "      <td>12</td>\n",
       "      <td>0.511777</td>\n",
       "      <td>0.543206</td>\n",
       "      <td>0.725639</td>\n",
       "      <td>0.746946</td>\n",
       "      <td>0.700413</td>\n",
       "      <td>02:07</td>\n",
       "    </tr>\n",
       "    <tr>\n",
       "      <td>13</td>\n",
       "      <td>0.510403</td>\n",
       "      <td>0.542290</td>\n",
       "      <td>0.720908</td>\n",
       "      <td>0.729109</td>\n",
       "      <td>0.712195</td>\n",
       "      <td>02:05</td>\n",
       "    </tr>\n",
       "    <tr>\n",
       "      <td>14</td>\n",
       "      <td>0.508261</td>\n",
       "      <td>0.540560</td>\n",
       "      <td>0.724693</td>\n",
       "      <td>0.744513</td>\n",
       "      <td>0.701538</td>\n",
       "      <td>02:04</td>\n",
       "    </tr>\n",
       "  </tbody>\n",
       "</table>"
      ],
      "text/plain": [
       "<IPython.core.display.HTML object>"
      ]
     },
     "metadata": {},
     "output_type": "display_data"
    },
    {
     "data": {
      "image/png": "[encoded data removed]",
      "text/plain": [
       "<Figure size 432x288 with 1 Axes>"
      ]
     },
     "metadata": {
      "needs_background": "light"
     },
     "output_type": "display_data"
    }
   ],
   "source": [
    "sent_learn = train_triage_classifier('edsent_v2_enc2', datac = data_clas_bal, num_cycles = 3, lr = 1e-2, drop_mult = 0.7)"
   ]
  },
  {
   "cell_type": "code",
   "execution_count": 49,
   "metadata": {},
   "outputs": [],
   "source": [
    "sent_learn.save(model_path + '/balanced_subj_ed_clas.pth')"
   ]
  },
  {
   "cell_type": "code",
   "execution_count": 50,
   "metadata": {},
   "outputs": [],
   "source": [
    "preds, targets = sent_learn.get_preds(DatasetType.Valid) \n",
    "predictions = np.argmax(preds, axis = 1) "
   ]
  },
  {
   "cell_type": "code",
   "execution_count": 52,
   "metadata": {},
   "outputs": [
    {
     "data": {
      "image/png": "[encoded data removed]",
      "text/plain": [
       "<Figure size 360x360 with 2 Axes>"
      ]
     },
     "metadata": {
      "needs_background": "light"
     },
     "output_type": "display_data"
    }
   ],
   "source": [
    "confusion_matrix = metrics.confusion_matrix(targets, predictions)\n",
    "\n",
    "LABELS = data_clas_bal.classes\n",
    "plt.figure(figsize=(5, 5))\n",
    "sns.heatmap(confusion_matrix, xticklabels=LABELS, yticklabels=LABELS, annot=True, fmt=\"d\", annot_kws={\"size\": 20});\n",
    "plt.title(\"Confusion matrix\", fontsize=20)\n",
    "plt.ylabel('True label', fontsize=20)\n",
    "plt.xlabel('Predicted label', fontsize=20)\n",
    "plt.show()"
   ]
  },
  {
   "cell_type": "code",
   "execution_count": null,
   "metadata": {},
   "outputs": [],
   "source": []
  }
 ],
 "metadata": {
  "kernelspec": {
   "display_name": "Python 3",
   "language": "python",
   "name": "python3"
  },
  "language_info": {
   "codemirror_mode": {
    "name": "ipython",
    "version": 3
   },
   "file_extension": ".py",
   "mimetype": "text/x-python",
   "name": "python",
   "nbconvert_exporter": "python",
   "pygments_lexer": "ipython3",
   "version": "3.6.5"
  }
 },
 "nbformat": 4,
 "nbformat_minor": 2
}
