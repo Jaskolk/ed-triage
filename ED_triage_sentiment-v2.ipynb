{
 "cells": [
  {
   "cell_type": "code",
   "execution_count": 1,
   "metadata": {},
   "outputs": [],
   "source": [
    "from fastai import *\n",
    "from fastai.tabular import *\n",
    "from fastai.text import *"
   ]
  },
  {
   "cell_type": "code",
   "execution_count": 2,
   "metadata": {},
   "outputs": [],
   "source": [
    "%matplotlib inline\n",
    "from sklearn import metrics\n",
    "import matplotlib.pyplot as plt\n",
    "import seaborn as sns\n",
    "import os\n",
    "import re\n",
    "from collections import Counter\n",
    "import random"
   ]
  },
  {
   "cell_type": "code",
   "execution_count": 4,
   "metadata": {},
   "outputs": [],
   "source": [
    "path = '/floyd/home/notebooks'\n",
    "data_path = '/floyd/home/data'\n",
    "model_path = '/floyd/home/models'"
   ]
  },
  {
   "cell_type": "code",
   "execution_count": 6,
   "metadata": {},
   "outputs": [],
   "source": [
    "df1 = pd.read_csv(data_path +'/targets.csv', index_col=0)\n",
    "df2 = pd.read_csv(data_path + '/subj_data.csv', index_col=0)\n",
    "data = pd.concat([df1,df2],axis = 1)"
   ]
  },
  {
   "cell_type": "code",
   "execution_count": 7,
   "metadata": {},
   "outputs": [
    {
     "data": {
      "text/plain": [
       "136993"
      ]
     },
     "execution_count": 7,
     "metadata": {},
     "output_type": "execute_result"
    }
   ],
   "source": [
    "len(data)"
   ]
  },
  {
   "cell_type": "code",
   "execution_count": 8,
   "metadata": {},
   "outputs": [
    {
     "data": {
      "text/html": [
       "<div>\n",
       "<style scoped>\n",
       "    .dataframe tbody tr th:only-of-type {\n",
       "        vertical-align: middle;\n",
       "    }\n",
       "\n",
       "    .dataframe tbody tr th {\n",
       "        vertical-align: top;\n",
       "    }\n",
       "\n",
       "    .dataframe thead th {\n",
       "        text-align: right;\n",
       "    }\n",
       "</style>\n",
       "<table border=\"1\" class=\"dataframe\">\n",
       "  <thead>\n",
       "    <tr style=\"text-align: right;\">\n",
       "      <th></th>\n",
       "      <th>Unnamed: 0</th>\n",
       "      <th>service</th>\n",
       "      <th>target2</th>\n",
       "      <th>target</th>\n",
       "      <th>outcome</th>\n",
       "      <th>discharge</th>\n",
       "      <th>dispo</th>\n",
       "      <th>Unnamed: 0</th>\n",
       "      <th>MedicalHistory</th>\n",
       "      <th>SubjectiveNotes</th>\n",
       "    </tr>\n",
       "  </thead>\n",
       "  <tbody>\n",
       "    <tr>\n",
       "      <th>0</th>\n",
       "      <td>0</td>\n",
       "      <td>discharge</td>\n",
       "      <td>1</td>\n",
       "      <td>1</td>\n",
       "      <td>discharge</td>\n",
       "      <td>1</td>\n",
       "      <td>NaN</td>\n",
       "      <td>0</td>\n",
       "      <td>NaN</td>\n",
       "      <td>NaN</td>\n",
       "    </tr>\n",
       "    <tr>\n",
       "      <th>1</th>\n",
       "      <td>1</td>\n",
       "      <td>discharge</td>\n",
       "      <td>1</td>\n",
       "      <td>1</td>\n",
       "      <td>discharge</td>\n",
       "      <td>1</td>\n",
       "      <td>NaN</td>\n",
       "      <td>1</td>\n",
       "      <td>NaN</td>\n",
       "      <td>NaN</td>\n",
       "    </tr>\n",
       "    <tr>\n",
       "      <th>2</th>\n",
       "      <td>2</td>\n",
       "      <td>discharge</td>\n",
       "      <td>1</td>\n",
       "      <td>1</td>\n",
       "      <td>discharge</td>\n",
       "      <td>1</td>\n",
       "      <td>NaN</td>\n",
       "      <td>2</td>\n",
       "      <td>NaN</td>\n",
       "      <td>NaN</td>\n",
       "    </tr>\n",
       "    <tr>\n",
       "      <th>3</th>\n",
       "      <td>3</td>\n",
       "      <td>discharge</td>\n",
       "      <td>1</td>\n",
       "      <td>1</td>\n",
       "      <td>discharge</td>\n",
       "      <td>1</td>\n",
       "      <td>NaN</td>\n",
       "      <td>3</td>\n",
       "      <td>NaN</td>\n",
       "      <td>NaN</td>\n",
       "    </tr>\n",
       "    <tr>\n",
       "      <th>4</th>\n",
       "      <td>4</td>\n",
       "      <td>discharge</td>\n",
       "      <td>1</td>\n",
       "      <td>1</td>\n",
       "      <td>discharge</td>\n",
       "      <td>1</td>\n",
       "      <td>NaN</td>\n",
       "      <td>4</td>\n",
       "      <td>NaN</td>\n",
       "      <td>NaN</td>\n",
       "    </tr>\n",
       "  </tbody>\n",
       "</table>\n",
       "</div>"
      ],
      "text/plain": [
       "   Unnamed: 0    service  target2  target    outcome  discharge  dispo  \\\n",
       "0           0  discharge        1       1  discharge          1    NaN   \n",
       "1           1  discharge        1       1  discharge          1    NaN   \n",
       "2           2  discharge        1       1  discharge          1    NaN   \n",
       "3           3  discharge        1       1  discharge          1    NaN   \n",
       "4           4  discharge        1       1  discharge          1    NaN   \n",
       "\n",
       "   Unnamed: 0 MedicalHistory SubjectiveNotes  \n",
       "0           0            NaN             NaN  \n",
       "1           1            NaN             NaN  \n",
       "2           2            NaN             NaN  \n",
       "3           3            NaN             NaN  \n",
       "4           4            NaN             NaN  "
      ]
     },
     "execution_count": 8,
     "metadata": {},
     "output_type": "execute_result"
    }
   ],
   "source": [
    "data.head()"
   ]
  },
  {
   "cell_type": "code",
   "execution_count": 11,
   "metadata": {},
   "outputs": [
    {
     "data": {
      "text/plain": [
       "110874"
      ]
     },
     "execution_count": 11,
     "metadata": {},
     "output_type": "execute_result"
    }
   ],
   "source": [
    "data.dropna(subset = ['SubjectiveNotes'], inplace = True)\n",
    "len(data)"
   ]
  },
  {
   "cell_type": "code",
   "execution_count": 12,
   "metadata": {},
   "outputs": [
    {
     "name": "stdout",
     "output_type": "stream",
     "text": [
      "^c^^^^ctasSUN=pt states that she feels shaky.  pt denies any pain.\n",
      "^c^^^^ctasSUN=\n",
      "^c^^^^ctasSUN=Pt states no pain.\n",
      "^c^^^^ctasSUN=denied chest pain\n",
      "^c^^^^ctasSUN=Denies pain. Eating ED lunch at triage\n",
      "^c^^^^ctasSUN=pt. c/o pain  on the left wrist and left ankle , no obvious deformity , with minor laceration  in between left thumb, and  2nd digit left finger .\n",
      "^c^^^^ctasSUN=The patient states his pain is manageable. Still shivering-patient was laying on a cold concrete floor. Denies any other injuries other then the left leg.\n",
      "^c^^^^ctasSUN=As per the police the patient-was having an agressive altercation with his mother.  The patient was to have mentioned to a call taker that he was suicidal.  The patient has a his of autism and some behaviour issues.\n",
      "^c^^^^ctasSUN=pt states feels weak, c/o pain to feet x 3-4 days, nauseated\n",
      "^c^^^^ctasSUN=c/o pain of frontal headache, continues to c/o generalized body pain.\n"
     ]
    }
   ],
   "source": [
    "for note in list(data['SubjectiveNotes'])[:10]:\n",
    "    print (note)"
   ]
  },
  {
   "cell_type": "code",
   "execution_count": 13,
   "metadata": {},
   "outputs": [],
   "source": [
    "#this field is to strip the leading characters from the subjective notes field\n",
    "data['subj'] = data['SubjectiveNotes'].str[14:]"
   ]
  },
  {
   "cell_type": "code",
   "execution_count": 14,
   "metadata": {},
   "outputs": [
    {
     "data": {
      "text/html": [
       "<div>\n",
       "<style scoped>\n",
       "    .dataframe tbody tr th:only-of-type {\n",
       "        vertical-align: middle;\n",
       "    }\n",
       "\n",
       "    .dataframe tbody tr th {\n",
       "        vertical-align: top;\n",
       "    }\n",
       "\n",
       "    .dataframe thead th {\n",
       "        text-align: right;\n",
       "    }\n",
       "</style>\n",
       "<table border=\"1\" class=\"dataframe\">\n",
       "  <thead>\n",
       "    <tr style=\"text-align: right;\">\n",
       "      <th></th>\n",
       "      <th>Unnamed: 0</th>\n",
       "      <th>service</th>\n",
       "      <th>target2</th>\n",
       "      <th>target</th>\n",
       "      <th>outcome</th>\n",
       "      <th>discharge</th>\n",
       "      <th>dispo</th>\n",
       "      <th>Unnamed: 0</th>\n",
       "      <th>MedicalHistory</th>\n",
       "      <th>SubjectiveNotes</th>\n",
       "      <th>subj</th>\n",
       "    </tr>\n",
       "  </thead>\n",
       "  <tbody>\n",
       "    <tr>\n",
       "      <th>148</th>\n",
       "      <td>148</td>\n",
       "      <td>discharge</td>\n",
       "      <td>1</td>\n",
       "      <td>1</td>\n",
       "      <td>discharge</td>\n",
       "      <td>1</td>\n",
       "      <td>NaN</td>\n",
       "      <td>148</td>\n",
       "      <td>^c^^^^ctasMEHPL=No Significant Medical History</td>\n",
       "      <td>^c^^^^ctasSUN=pt states that she feels shaky. ...</td>\n",
       "      <td>pt states that she feels shaky.  pt denies any...</td>\n",
       "    </tr>\n",
       "    <tr>\n",
       "      <th>156</th>\n",
       "      <td>156</td>\n",
       "      <td>discharge</td>\n",
       "      <td>1</td>\n",
       "      <td>1</td>\n",
       "      <td>discharge</td>\n",
       "      <td>1</td>\n",
       "      <td>NaN</td>\n",
       "      <td>156</td>\n",
       "      <td>^c^^^^ctasMEHPL=Substance Misuse</td>\n",
       "      <td>^c^^^^ctasSUN=</td>\n",
       "      <td></td>\n",
       "    </tr>\n",
       "    <tr>\n",
       "      <th>197</th>\n",
       "      <td>197</td>\n",
       "      <td>discharge</td>\n",
       "      <td>1</td>\n",
       "      <td>1</td>\n",
       "      <td>discharge</td>\n",
       "      <td>1</td>\n",
       "      <td>NaN</td>\n",
       "      <td>197</td>\n",
       "      <td>^c^^^^ctasMEHPL=No Significant Medical History</td>\n",
       "      <td>^c^^^^ctasSUN=Pt states no pain.</td>\n",
       "      <td>Pt states no pain.</td>\n",
       "    </tr>\n",
       "    <tr>\n",
       "      <th>217</th>\n",
       "      <td>217</td>\n",
       "      <td>discharge</td>\n",
       "      <td>1</td>\n",
       "      <td>1</td>\n",
       "      <td>discharge</td>\n",
       "      <td>1</td>\n",
       "      <td>NaN</td>\n",
       "      <td>217</td>\n",
       "      <td>^c^^^^ctasMEHPL=No Significant Medical History</td>\n",
       "      <td>^c^^^^ctasSUN=denied chest pain</td>\n",
       "      <td>denied chest pain</td>\n",
       "    </tr>\n",
       "    <tr>\n",
       "      <th>218</th>\n",
       "      <td>218</td>\n",
       "      <td>discharge</td>\n",
       "      <td>1</td>\n",
       "      <td>1</td>\n",
       "      <td>discharge</td>\n",
       "      <td>1</td>\n",
       "      <td>NaN</td>\n",
       "      <td>218</td>\n",
       "      <td>^c^^^^ctasMEHPL=Dialysis Haemo/PD&lt;LT&gt;LF&gt;IDDM (...</td>\n",
       "      <td>^c^^^^ctasSUN=Denies pain. Eating ED lunch at ...</td>\n",
       "      <td>Denies pain. Eating ED lunch at triage</td>\n",
       "    </tr>\n",
       "  </tbody>\n",
       "</table>\n",
       "</div>"
      ],
      "text/plain": [
       "     Unnamed: 0    service  target2  target    outcome  discharge  dispo  \\\n",
       "148         148  discharge        1       1  discharge          1    NaN   \n",
       "156         156  discharge        1       1  discharge          1    NaN   \n",
       "197         197  discharge        1       1  discharge          1    NaN   \n",
       "217         217  discharge        1       1  discharge          1    NaN   \n",
       "218         218  discharge        1       1  discharge          1    NaN   \n",
       "\n",
       "     Unnamed: 0                                     MedicalHistory  \\\n",
       "148         148     ^c^^^^ctasMEHPL=No Significant Medical History   \n",
       "156         156                   ^c^^^^ctasMEHPL=Substance Misuse   \n",
       "197         197     ^c^^^^ctasMEHPL=No Significant Medical History   \n",
       "217         217     ^c^^^^ctasMEHPL=No Significant Medical History   \n",
       "218         218  ^c^^^^ctasMEHPL=Dialysis Haemo/PD<LT>LF>IDDM (...   \n",
       "\n",
       "                                       SubjectiveNotes  \\\n",
       "148  ^c^^^^ctasSUN=pt states that she feels shaky. ...   \n",
       "156                                     ^c^^^^ctasSUN=   \n",
       "197                   ^c^^^^ctasSUN=Pt states no pain.   \n",
       "217                    ^c^^^^ctasSUN=denied chest pain   \n",
       "218  ^c^^^^ctasSUN=Denies pain. Eating ED lunch at ...   \n",
       "\n",
       "                                                  subj  \n",
       "148  pt states that she feels shaky.  pt denies any...  \n",
       "156                                                     \n",
       "197                                 Pt states no pain.  \n",
       "217                                  denied chest pain  \n",
       "218             Denies pain. Eating ED lunch at triage  "
      ]
     },
     "execution_count": 14,
     "metadata": {},
     "output_type": "execute_result"
    }
   ],
   "source": [
    "data.head()"
   ]
  },
  {
   "cell_type": "code",
   "execution_count": 15,
   "metadata": {},
   "outputs": [],
   "source": [
    "#and this drops some fields that were empty after stripping the leading characters\n",
    "data = data[data['subj'] != '']"
   ]
  },
  {
   "cell_type": "code",
   "execution_count": 16,
   "metadata": {},
   "outputs": [
    {
     "data": {
      "text/plain": [
       "110457"
      ]
     },
     "execution_count": 16,
     "metadata": {},
     "output_type": "execute_result"
    }
   ],
   "source": [
    "len(data)"
   ]
  },
  {
   "cell_type": "code",
   "execution_count": 17,
   "metadata": {},
   "outputs": [
    {
     "data": {
      "text/plain": [
       "Counter({'discharge': 99885, 'sadmit': 1567, 'madmit': 8361, 'ICU': 644})"
      ]
     },
     "execution_count": 17,
     "metadata": {},
     "output_type": "execute_result"
    }
   ],
   "source": [
    "outcome_count = Counter(data['outcome']); outcome_count"
   ]
  },
  {
   "cell_type": "code",
   "execution_count": 19,
   "metadata": {},
   "outputs": [
    {
     "data": {
      "text/plain": [
       "Counter({'discharge': 99885, 'sadmit': 1829, 'madmit': 8549, 'ICU': 194})"
      ]
     },
     "execution_count": 19,
     "metadata": {},
     "output_type": "execute_result"
    }
   ],
   "source": [
    "service_count = Counter(data['service']); service_count"
   ]
  },
  {
   "cell_type": "code",
   "execution_count": 22,
   "metadata": {},
   "outputs": [],
   "source": [
    "#this is a language model databunch from the entire dataset\n",
    "data_lm = load_data(model_path,'large_lm')"
   ]
  },
  {
   "cell_type": "code",
   "execution_count": 26,
   "metadata": {},
   "outputs": [],
   "source": [
    "data_clas_full = (TextList.from_df(data, cols='subj',vocab=data_lm.vocab)\n",
    "                   .split_by_rand_pct(0.2)\n",
    "                   .label_from_df(cols = 'outcome')\n",
    "                   .databunch())"
   ]
  },
  {
   "cell_type": "markdown",
   "metadata": {},
   "source": [
    "saving the large classifier databunch..."
   ]
  },
  {
   "cell_type": "code",
   "execution_count": 28,
   "metadata": {},
   "outputs": [],
   "source": [
    "data_clas_full.save(model_path + '/full_clas_db')"
   ]
  },
  {
   "cell_type": "markdown",
   "metadata": {},
   "source": [
    "Now on to training the classifier"
   ]
  },
  {
   "cell_type": "code",
   "execution_count": 33,
   "metadata": {},
   "outputs": [],
   "source": [
    "f1 = FBeta(beta=1, average = 'weighted')\n",
    "def train_triage_classifier(encoder_name, datac = data_clas_full, datal = data_lm, \n",
    "                            mets = [accuracy,f1], num_cycles = 1, lr = 1e-2, drop_mult = 0.5):\n",
    "    model = text_classifier_learner(datac, metrics = mets, arch = AWD_LSTM, drop_mult=drop_mult)\n",
    "    model.load_encoder(model_path + '/' + encoder_name)\n",
    "    model.fit_one_cycle(num_cycles, lr, moms=(0.8,0.7))\n",
    "    model.freeze_to(-2)\n",
    "    model.fit_one_cycle(num_cycles, slice(lr/(2.6**4),lr), moms=(0.8,0.7))\n",
    "    model.freeze_to(-3)\n",
    "    model.fit_one_cycle(num_cycles, slice((lr/2)/(2.6**4),(lr/2)), moms=(0.8,0.7))\n",
    "    model.unfreeze()\n",
    "    model.fit_one_cycle(num_cycles*5, slice((lr/100)/(2.6**4),(lr/100)), moms=(0.8,0.7))\n",
    "    model.recorder.plot_losses()\n",
    "    return model"
   ]
  },
  {
   "cell_type": "markdown",
   "metadata": {},
   "source": [
    "#### training classifier (I am using the full dataset here)"
   ]
  },
  {
   "cell_type": "code",
   "execution_count": 41,
   "metadata": {},
   "outputs": [
    {
     "data": {
      "text/html": [
       "<table border=\"1\" class=\"dataframe\">\n",
       "  <thead>\n",
       "    <tr style=\"text-align: left;\">\n",
       "      <th>epoch</th>\n",
       "      <th>train_loss</th>\n",
       "      <th>valid_loss</th>\n",
       "      <th>accuracy</th>\n",
       "      <th>f_beta</th>\n",
       "      <th>time</th>\n",
       "    </tr>\n",
       "  </thead>\n",
       "  <tbody>\n",
       "    <tr>\n",
       "      <td>0</td>\n",
       "      <td>0.325037</td>\n",
       "      <td>0.326482</td>\n",
       "      <td>0.903083</td>\n",
       "      <td>0.859870</td>\n",
       "      <td>04:05</td>\n",
       "    </tr>\n",
       "  </tbody>\n",
       "</table>"
      ],
      "text/plain": [
       "<IPython.core.display.HTML object>"
      ]
     },
     "metadata": {},
     "output_type": "display_data"
    },
    {
     "data": {
      "text/html": [
       "<table border=\"1\" class=\"dataframe\">\n",
       "  <thead>\n",
       "    <tr style=\"text-align: left;\">\n",
       "      <th>epoch</th>\n",
       "      <th>train_loss</th>\n",
       "      <th>valid_loss</th>\n",
       "      <th>accuracy</th>\n",
       "      <th>f_beta</th>\n",
       "      <th>time</th>\n",
       "    </tr>\n",
       "  </thead>\n",
       "  <tbody>\n",
       "    <tr>\n",
       "      <td>0</td>\n",
       "      <td>0.333564</td>\n",
       "      <td>0.319306</td>\n",
       "      <td>0.903490</td>\n",
       "      <td>0.862087</td>\n",
       "      <td>04:52</td>\n",
       "    </tr>\n",
       "  </tbody>\n",
       "</table>"
      ],
      "text/plain": [
       "<IPython.core.display.HTML object>"
      ]
     },
     "metadata": {},
     "output_type": "display_data"
    },
    {
     "data": {
      "text/html": [
       "<table border=\"1\" class=\"dataframe\">\n",
       "  <thead>\n",
       "    <tr style=\"text-align: left;\">\n",
       "      <th>epoch</th>\n",
       "      <th>train_loss</th>\n",
       "      <th>valid_loss</th>\n",
       "      <th>accuracy</th>\n",
       "      <th>f_beta</th>\n",
       "      <th>time</th>\n",
       "    </tr>\n",
       "  </thead>\n",
       "  <tbody>\n",
       "    <tr>\n",
       "      <td>0</td>\n",
       "      <td>0.310981</td>\n",
       "      <td>0.316502</td>\n",
       "      <td>0.903762</td>\n",
       "      <td>0.862217</td>\n",
       "      <td>07:25</td>\n",
       "    </tr>\n",
       "  </tbody>\n",
       "</table>"
      ],
      "text/plain": [
       "<IPython.core.display.HTML object>"
      ]
     },
     "metadata": {},
     "output_type": "display_data"
    },
    {
     "data": {
      "text/html": [
       "<table border=\"1\" class=\"dataframe\">\n",
       "  <thead>\n",
       "    <tr style=\"text-align: left;\">\n",
       "      <th>epoch</th>\n",
       "      <th>train_loss</th>\n",
       "      <th>valid_loss</th>\n",
       "      <th>accuracy</th>\n",
       "      <th>f_beta</th>\n",
       "      <th>time</th>\n",
       "    </tr>\n",
       "  </thead>\n",
       "  <tbody>\n",
       "    <tr>\n",
       "      <td>0</td>\n",
       "      <td>0.309803</td>\n",
       "      <td>0.315701</td>\n",
       "      <td>0.903988</td>\n",
       "      <td>0.863279</td>\n",
       "      <td>10:13</td>\n",
       "    </tr>\n",
       "    <tr>\n",
       "      <td>1</td>\n",
       "      <td>0.304975</td>\n",
       "      <td>0.315680</td>\n",
       "      <td>0.903762</td>\n",
       "      <td>0.863265</td>\n",
       "      <td>10:02</td>\n",
       "    </tr>\n",
       "    <tr>\n",
       "      <td>2</td>\n",
       "      <td>0.313507</td>\n",
       "      <td>0.315853</td>\n",
       "      <td>0.903898</td>\n",
       "      <td>0.862960</td>\n",
       "      <td>10:17</td>\n",
       "    </tr>\n",
       "    <tr>\n",
       "      <td>3</td>\n",
       "      <td>0.302416</td>\n",
       "      <td>0.315710</td>\n",
       "      <td>0.903762</td>\n",
       "      <td>0.863609</td>\n",
       "      <td>10:03</td>\n",
       "    </tr>\n",
       "    <tr>\n",
       "      <td>4</td>\n",
       "      <td>0.313738</td>\n",
       "      <td>0.315649</td>\n",
       "      <td>0.904079</td>\n",
       "      <td>0.863228</td>\n",
       "      <td>09:34</td>\n",
       "    </tr>\n",
       "  </tbody>\n",
       "</table>"
      ],
      "text/plain": [
       "<IPython.core.display.HTML object>"
      ]
     },
     "metadata": {},
     "output_type": "display_data"
    },
    {
     "data": {
      "image/png": "[encoded data removed]",
      "text/plain": [
       "<Figure size 432x288 with 1 Axes>"
      ]
     },
     "metadata": {
      "needs_background": "light"
     },
     "output_type": "display_data"
    }
   ],
   "source": [
    "sent_learn = train_triage_classifier('edsent_v2_enc2', datac = data_clas_full, num_cycles = 1, lr = 1e-3)"
   ]
  },
  {
   "cell_type": "code",
   "execution_count": 42,
   "metadata": {},
   "outputs": [],
   "source": [
    "preds, targets = sent_learn.get_preds(DatasetType.Valid) \n",
    "predictions = np.argmax(preds, axis = 1) "
   ]
  },
  {
   "cell_type": "code",
   "execution_count": 44,
   "metadata": {},
   "outputs": [
    {
     "data": {
      "image/png": "[encoded data removed]",
      "text/plain": [
       "<Figure size 360x360 with 2 Axes>"
      ]
     },
     "metadata": {},
     "output_type": "display_data"
    }
   ],
   "source": [
    "%matplotlib inline\n",
    "from sklearn import metrics\n",
    "import matplotlib.pyplot as plt\n",
    "import seaborn as sns\n",
    "sns.set(font_scale=2)\n",
    "\n",
    "LABELS = data_clas_full.classes\n",
    "\n",
    "confusion_matrix = metrics.confusion_matrix(targets, predictions)\n",
    "\n",
    "plt.figure(figsize=(5, 5))\n",
    "sns.heatmap(confusion_matrix, xticklabels=LABELS, yticklabels=LABELS, annot=True, fmt=\"d\", annot_kws={\"size\": 20});\n",
    "plt.title(\"Confusion matrix\", fontsize=20)\n",
    "plt.ylabel('True label', fontsize=20)\n",
    "plt.xlabel('Predicted label', fontsize=20)\n",
    "plt.show()"
   ]
  },
  {
   "cell_type": "code",
   "execution_count": 47,
   "metadata": {},
   "outputs": [],
   "source": [
    "sent_learn.save(model_path + '/edtriage2')"
   ]
  },
  {
   "cell_type": "markdown",
   "metadata": {},
   "source": [
    "so the results above show high accuracy and f-score, but very few admission predictions"
   ]
  },
  {
   "cell_type": "markdown",
   "metadata": {},
   "source": [
    "now gonna train longer and see what happens"
   ]
  },
  {
   "cell_type": "code",
   "execution_count": 46,
   "metadata": {},
   "outputs": [],
   "source": [
    "data_clas_full2 = (TextList.from_df(data, cols='subj',vocab=data_lm.vocab)\n",
    "                   .split_by_rand_pct(0.2)\n",
    "                   .label_from_df(cols = 'service')\n",
    "                   .databunch())"
   ]
  },
  {
   "cell_type": "code",
   "execution_count": 48,
   "metadata": {},
   "outputs": [
    {
     "data": {
      "text/html": [
       "<table border=\"1\" class=\"dataframe\">\n",
       "  <thead>\n",
       "    <tr style=\"text-align: left;\">\n",
       "      <th>epoch</th>\n",
       "      <th>train_loss</th>\n",
       "      <th>valid_loss</th>\n",
       "      <th>accuracy</th>\n",
       "      <th>f_beta</th>\n",
       "      <th>time</th>\n",
       "    </tr>\n",
       "  </thead>\n",
       "  <tbody>\n",
       "    <tr>\n",
       "      <td>0</td>\n",
       "      <td>0.323382</td>\n",
       "      <td>0.318309</td>\n",
       "      <td>0.904214</td>\n",
       "      <td>0.864396</td>\n",
       "      <td>03:57</td>\n",
       "    </tr>\n",
       "    <tr>\n",
       "      <td>1</td>\n",
       "      <td>0.290085</td>\n",
       "      <td>0.306193</td>\n",
       "      <td>0.904984</td>\n",
       "      <td>0.863604</td>\n",
       "      <td>03:54</td>\n",
       "    </tr>\n",
       "    <tr>\n",
       "      <td>2</td>\n",
       "      <td>0.337687</td>\n",
       "      <td>0.303845</td>\n",
       "      <td>0.904984</td>\n",
       "      <td>0.863285</td>\n",
       "      <td>04:05</td>\n",
       "    </tr>\n",
       "  </tbody>\n",
       "</table>"
      ],
      "text/plain": [
       "<IPython.core.display.HTML object>"
      ]
     },
     "metadata": {},
     "output_type": "display_data"
    },
    {
     "data": {
      "text/html": [
       "<table border=\"1\" class=\"dataframe\">\n",
       "  <thead>\n",
       "    <tr style=\"text-align: left;\">\n",
       "      <th>epoch</th>\n",
       "      <th>train_loss</th>\n",
       "      <th>valid_loss</th>\n",
       "      <th>accuracy</th>\n",
       "      <th>f_beta</th>\n",
       "      <th>time</th>\n",
       "    </tr>\n",
       "  </thead>\n",
       "  <tbody>\n",
       "    <tr>\n",
       "      <td>0</td>\n",
       "      <td>0.306796</td>\n",
       "      <td>0.305917</td>\n",
       "      <td>0.904577</td>\n",
       "      <td>0.863555</td>\n",
       "      <td>04:51</td>\n",
       "    </tr>\n",
       "    <tr>\n",
       "      <td>1</td>\n",
       "      <td>0.314900</td>\n",
       "      <td>0.300065</td>\n",
       "      <td>0.905074</td>\n",
       "      <td>0.865789</td>\n",
       "      <td>04:39</td>\n",
       "    </tr>\n",
       "    <tr>\n",
       "      <td>2</td>\n",
       "      <td>0.276908</td>\n",
       "      <td>0.299801</td>\n",
       "      <td>0.905074</td>\n",
       "      <td>0.866325</td>\n",
       "      <td>04:46</td>\n",
       "    </tr>\n",
       "  </tbody>\n",
       "</table>"
      ],
      "text/plain": [
       "<IPython.core.display.HTML object>"
      ]
     },
     "metadata": {},
     "output_type": "display_data"
    },
    {
     "data": {
      "text/html": [
       "<table border=\"1\" class=\"dataframe\">\n",
       "  <thead>\n",
       "    <tr style=\"text-align: left;\">\n",
       "      <th>epoch</th>\n",
       "      <th>train_loss</th>\n",
       "      <th>valid_loss</th>\n",
       "      <th>accuracy</th>\n",
       "      <th>f_beta</th>\n",
       "      <th>time</th>\n",
       "    </tr>\n",
       "  </thead>\n",
       "  <tbody>\n",
       "    <tr>\n",
       "      <td>0</td>\n",
       "      <td>0.284210</td>\n",
       "      <td>0.299914</td>\n",
       "      <td>0.905074</td>\n",
       "      <td>0.868041</td>\n",
       "      <td>07:31</td>\n",
       "    </tr>\n",
       "    <tr>\n",
       "      <td>1</td>\n",
       "      <td>0.286468</td>\n",
       "      <td>0.299472</td>\n",
       "      <td>0.905165</td>\n",
       "      <td>0.866765</td>\n",
       "      <td>07:31</td>\n",
       "    </tr>\n",
       "    <tr>\n",
       "      <td>2</td>\n",
       "      <td>0.283946</td>\n",
       "      <td>0.298888</td>\n",
       "      <td>0.904893</td>\n",
       "      <td>0.867925</td>\n",
       "      <td>07:32</td>\n",
       "    </tr>\n",
       "  </tbody>\n",
       "</table>"
      ],
      "text/plain": [
       "<IPython.core.display.HTML object>"
      ]
     },
     "metadata": {},
     "output_type": "display_data"
    },
    {
     "data": {
      "text/html": [
       "<table border=\"1\" class=\"dataframe\">\n",
       "  <thead>\n",
       "    <tr style=\"text-align: left;\">\n",
       "      <th>epoch</th>\n",
       "      <th>train_loss</th>\n",
       "      <th>valid_loss</th>\n",
       "      <th>accuracy</th>\n",
       "      <th>f_beta</th>\n",
       "      <th>time</th>\n",
       "    </tr>\n",
       "  </thead>\n",
       "  <tbody>\n",
       "    <tr>\n",
       "      <td>0</td>\n",
       "      <td>0.270205</td>\n",
       "      <td>0.298970</td>\n",
       "      <td>0.904622</td>\n",
       "      <td>0.867437</td>\n",
       "      <td>10:06</td>\n",
       "    </tr>\n",
       "    <tr>\n",
       "      <td>1</td>\n",
       "      <td>0.288500</td>\n",
       "      <td>0.299180</td>\n",
       "      <td>0.905165</td>\n",
       "      <td>0.866894</td>\n",
       "      <td>09:40</td>\n",
       "    </tr>\n",
       "    <tr>\n",
       "      <td>2</td>\n",
       "      <td>0.294971</td>\n",
       "      <td>0.298831</td>\n",
       "      <td>0.905029</td>\n",
       "      <td>0.867654</td>\n",
       "      <td>09:57</td>\n",
       "    </tr>\n",
       "    <tr>\n",
       "      <td>3</td>\n",
       "      <td>0.271473</td>\n",
       "      <td>0.298987</td>\n",
       "      <td>0.904622</td>\n",
       "      <td>0.868204</td>\n",
       "      <td>09:34</td>\n",
       "    </tr>\n",
       "    <tr>\n",
       "      <td>4</td>\n",
       "      <td>0.276894</td>\n",
       "      <td>0.298771</td>\n",
       "      <td>0.904848</td>\n",
       "      <td>0.867567</td>\n",
       "      <td>10:16</td>\n",
       "    </tr>\n",
       "    <tr>\n",
       "      <td>5</td>\n",
       "      <td>0.281706</td>\n",
       "      <td>0.298766</td>\n",
       "      <td>0.904667</td>\n",
       "      <td>0.868109</td>\n",
       "      <td>10:07</td>\n",
       "    </tr>\n",
       "    <tr>\n",
       "      <td>6</td>\n",
       "      <td>0.298027</td>\n",
       "      <td>0.298452</td>\n",
       "      <td>0.905346</td>\n",
       "      <td>0.867719</td>\n",
       "      <td>10:08</td>\n",
       "    </tr>\n",
       "    <tr>\n",
       "      <td>7</td>\n",
       "      <td>0.272918</td>\n",
       "      <td>0.298930</td>\n",
       "      <td>0.904577</td>\n",
       "      <td>0.868088</td>\n",
       "      <td>10:19</td>\n",
       "    </tr>\n",
       "    <tr>\n",
       "      <td>8</td>\n",
       "      <td>0.294623</td>\n",
       "      <td>0.298981</td>\n",
       "      <td>0.905210</td>\n",
       "      <td>0.867319</td>\n",
       "      <td>09:41</td>\n",
       "    </tr>\n",
       "    <tr>\n",
       "      <td>9</td>\n",
       "      <td>0.301512</td>\n",
       "      <td>0.298809</td>\n",
       "      <td>0.904984</td>\n",
       "      <td>0.867493</td>\n",
       "      <td>09:39</td>\n",
       "    </tr>\n",
       "    <tr>\n",
       "      <td>10</td>\n",
       "      <td>0.300911</td>\n",
       "      <td>0.299081</td>\n",
       "      <td>0.905391</td>\n",
       "      <td>0.867744</td>\n",
       "      <td>09:55</td>\n",
       "    </tr>\n",
       "    <tr>\n",
       "      <td>11</td>\n",
       "      <td>0.290213</td>\n",
       "      <td>0.298974</td>\n",
       "      <td>0.905301</td>\n",
       "      <td>0.867135</td>\n",
       "      <td>10:25</td>\n",
       "    </tr>\n",
       "    <tr>\n",
       "      <td>12</td>\n",
       "      <td>0.286697</td>\n",
       "      <td>0.299201</td>\n",
       "      <td>0.904577</td>\n",
       "      <td>0.868120</td>\n",
       "      <td>10:06</td>\n",
       "    </tr>\n",
       "    <tr>\n",
       "      <td>13</td>\n",
       "      <td>0.287239</td>\n",
       "      <td>0.298591</td>\n",
       "      <td>0.904622</td>\n",
       "      <td>0.868083</td>\n",
       "      <td>10:18</td>\n",
       "    </tr>\n",
       "    <tr>\n",
       "      <td>14</td>\n",
       "      <td>0.280060</td>\n",
       "      <td>0.298327</td>\n",
       "      <td>0.904893</td>\n",
       "      <td>0.867809</td>\n",
       "      <td>10:23</td>\n",
       "    </tr>\n",
       "  </tbody>\n",
       "</table>"
      ],
      "text/plain": [
       "<IPython.core.display.HTML object>"
      ]
     },
     "metadata": {},
     "output_type": "display_data"
    },
    {
     "data": {
      "image/png": "[encoded data removed]",
      "text/plain": [
       "<Figure size 432x288 with 1 Axes>"
      ]
     },
     "metadata": {},
     "output_type": "display_data"
    }
   ],
   "source": [
    "sent_learn = train_triage_classifier('edsent_v2_enc2', datac = data_clas_full2, num_cycles = 3, lr = 1e-3)"
   ]
  },
  {
   "cell_type": "code",
   "execution_count": 49,
   "metadata": {},
   "outputs": [],
   "source": [
    "sent_learn.save(model_path + '/edtriage3')"
   ]
  },
  {
   "cell_type": "code",
   "execution_count": 50,
   "metadata": {},
   "outputs": [],
   "source": [
    "preds, targets = sent_learn.get_preds(DatasetType.Valid) \n",
    "predictions = np.argmax(preds, axis = 1) "
   ]
  },
  {
   "cell_type": "code",
   "execution_count": 51,
   "metadata": {},
   "outputs": [
    {
     "data": {
      "image/png": "[encoded data removed]",
      "text/plain": [
       "<Figure size 360x360 with 2 Axes>"
      ]
     },
     "metadata": {},
     "output_type": "display_data"
    }
   ],
   "source": [
    "confusion_matrix = metrics.confusion_matrix(targets, predictions)\n",
    "\n",
    "plt.figure(figsize=(5, 5))\n",
    "sns.heatmap(confusion_matrix, xticklabels=LABELS, yticklabels=LABELS, annot=True, fmt=\"d\", annot_kws={\"size\": 20});\n",
    "plt.title(\"Confusion matrix\", fontsize=20)\n",
    "plt.ylabel('True label', fontsize=20)\n",
    "plt.xlabel('Predicted label', fontsize=20)\n",
    "plt.show()"
   ]
  },
  {
   "cell_type": "markdown",
   "metadata": {},
   "source": [
    "this was a little worse because it overfit the data"
   ]
  },
  {
   "cell_type": "code",
   "execution_count": 26,
   "metadata": {},
   "outputs": [],
   "source": [
    "data_lm2 = load_data(path, 'large_lm')\n",
    "data_clas2 = load_data(path, 'large_clas_db')"
   ]
  },
  {
   "cell_type": "code",
   "execution_count": 12,
   "metadata": {},
   "outputs": [],
   "source": [
    "model = text_classifier_learner(data_clas2, arch = AWD_LSTM, drop_mult=0.5)"
   ]
  },
  {
   "cell_type": "code",
   "execution_count": 14,
   "metadata": {},
   "outputs": [],
   "source": [
    "model.load(path + '/models/edtriage1');"
   ]
  },
  {
   "cell_type": "code",
   "execution_count": 15,
   "metadata": {},
   "outputs": [
    {
     "data": {
      "text/plain": [
       "======================================================================\n",
       "Layer (type)         Output Shape         Param #    Trainable \n",
       "======================================================================\n",
       "RNNDropout           [51, 400]            0          False     \n",
       "______________________________________________________________________\n",
       "RNNDropout           [51, 1150]           0          False     \n",
       "______________________________________________________________________\n",
       "RNNDropout           [51, 1150]           0          False     \n",
       "______________________________________________________________________\n",
       "BatchNorm1d          [1200]               2,400      True      \n",
       "______________________________________________________________________\n",
       "Dropout              [1200]               0          False     \n",
       "______________________________________________________________________\n",
       "Linear               [50]                 60,050     True      \n",
       "______________________________________________________________________\n",
       "ReLU                 [50]                 0          False     \n",
       "______________________________________________________________________\n",
       "BatchNorm1d          [50]                 100        True      \n",
       "______________________________________________________________________\n",
       "Dropout              [50]                 0          False     \n",
       "______________________________________________________________________\n",
       "Linear               [4]                  204        True      \n",
       "______________________________________________________________________\n",
       "\n",
       "Total params: 62,754\n",
       "Total trainable params: 62,754\n",
       "Total non-trainable params: 0"
      ]
     },
     "execution_count": 15,
     "metadata": {},
     "output_type": "execute_result"
    }
   ],
   "source": [
    "model.summary()"
   ]
  },
  {
   "cell_type": "code",
   "execution_count": 17,
   "metadata": {},
   "outputs": [],
   "source": [
    "preds, targets = model.get_preds(DatasetType.Valid) \n",
    "predictions = np.argmax(preds, axis = 1) "
   ]
  },
  {
   "cell_type": "code",
   "execution_count": 19,
   "metadata": {},
   "outputs": [
    {
     "name": "stderr",
     "output_type": "stream",
     "text": [
      "/usr/local/lib/python3.6/site-packages/sklearn/metrics/classification.py:1143: UndefinedMetricWarning: F-score is ill-defined and being set to 0.0 in labels with no predicted samples.\n",
      "  'precision', 'predicted', average, warn_for)\n"
     ]
    }
   ],
   "source": [
    "f1_scores = metrics.f1_score(targets, predictions, average = None)"
   ]
  },
  {
   "cell_type": "code",
   "execution_count": 20,
   "metadata": {},
   "outputs": [
    {
     "data": {
      "text/plain": [
       "array([0.      , 0.948519, 0.042424, 0.      ])"
      ]
     },
     "execution_count": 20,
     "metadata": {},
     "output_type": "execute_result"
    }
   ],
   "source": [
    "f1_scores"
   ]
  },
  {
   "cell_type": "code",
   "execution_count": 22,
   "metadata": {},
   "outputs": [],
   "source": [
    "f1_scores2 = metrics.f1_score(targets, predictions, average = 'weighted')"
   ]
  },
  {
   "cell_type": "code",
   "execution_count": 23,
   "metadata": {},
   "outputs": [
    {
     "data": {
      "text/plain": [
       "0.8596056157360306"
      ]
     },
     "execution_count": 23,
     "metadata": {},
     "output_type": "execute_result"
    }
   ],
   "source": [
    "f1_scores2"
   ]
  },
  {
   "cell_type": "code",
   "execution_count": 28,
   "metadata": {},
   "outputs": [
    {
     "data": {
      "text/plain": [
       "0.2477357511919724"
      ]
     },
     "execution_count": 28,
     "metadata": {},
     "output_type": "execute_result"
    }
   ],
   "source": [
    "f1_scores3 = metrics.f1_score(targets, predictions, average = 'macro'); f1_scores3"
   ]
  },
  {
   "cell_type": "code",
   "execution_count": 29,
   "metadata": {},
   "outputs": [
    {
     "data": {
      "text/plain": [
       "0.90225"
      ]
     },
     "execution_count": 29,
     "metadata": {},
     "output_type": "execute_result"
    }
   ],
   "source": [
    "acc = metrics.accuracy_score(targets, predictions); acc"
   ]
  },
  {
   "cell_type": "markdown",
   "metadata": {},
   "source": [
    "so clearly we overfit long before we get good.  let's try this again, but we will do shorter training and more dropout"
   ]
  },
  {
   "cell_type": "code",
   "execution_count": 34,
   "metadata": {},
   "outputs": [
    {
     "data": {
      "text/html": [
       "<table border=\"1\" class=\"dataframe\">\n",
       "  <thead>\n",
       "    <tr style=\"text-align: left;\">\n",
       "      <th>epoch</th>\n",
       "      <th>train_loss</th>\n",
       "      <th>valid_loss</th>\n",
       "      <th>accuracy</th>\n",
       "      <th>f_beta</th>\n",
       "      <th>time</th>\n",
       "    </tr>\n",
       "  </thead>\n",
       "  <tbody>\n",
       "    <tr>\n",
       "      <td>0</td>\n",
       "      <td>0.571676</td>\n",
       "      <td>0.503379</td>\n",
       "      <td>0.897750</td>\n",
       "      <td>0.857699</td>\n",
       "      <td>00:41</td>\n",
       "    </tr>\n",
       "  </tbody>\n",
       "</table>"
      ],
      "text/plain": [
       "<IPython.core.display.HTML object>"
      ]
     },
     "metadata": {},
     "output_type": "display_data"
    },
    {
     "data": {
      "text/html": [
       "<table border=\"1\" class=\"dataframe\">\n",
       "  <thead>\n",
       "    <tr style=\"text-align: left;\">\n",
       "      <th>epoch</th>\n",
       "      <th>train_loss</th>\n",
       "      <th>valid_loss</th>\n",
       "      <th>accuracy</th>\n",
       "      <th>f_beta</th>\n",
       "      <th>time</th>\n",
       "    </tr>\n",
       "  </thead>\n",
       "  <tbody>\n",
       "    <tr>\n",
       "      <td>0</td>\n",
       "      <td>0.371055</td>\n",
       "      <td>0.344525</td>\n",
       "      <td>0.902500</td>\n",
       "      <td>0.857446</td>\n",
       "      <td>00:50</td>\n",
       "    </tr>\n",
       "  </tbody>\n",
       "</table>"
      ],
      "text/plain": [
       "<IPython.core.display.HTML object>"
      ]
     },
     "metadata": {},
     "output_type": "display_data"
    },
    {
     "data": {
      "text/html": [
       "<table border=\"1\" class=\"dataframe\">\n",
       "  <thead>\n",
       "    <tr style=\"text-align: left;\">\n",
       "      <th>epoch</th>\n",
       "      <th>train_loss</th>\n",
       "      <th>valid_loss</th>\n",
       "      <th>accuracy</th>\n",
       "      <th>f_beta</th>\n",
       "      <th>time</th>\n",
       "    </tr>\n",
       "  </thead>\n",
       "  <tbody>\n",
       "    <tr>\n",
       "      <td>0</td>\n",
       "      <td>0.344041</td>\n",
       "      <td>0.336515</td>\n",
       "      <td>0.902750</td>\n",
       "      <td>0.858046</td>\n",
       "      <td>01:20</td>\n",
       "    </tr>\n",
       "  </tbody>\n",
       "</table>"
      ],
      "text/plain": [
       "<IPython.core.display.HTML object>"
      ]
     },
     "metadata": {},
     "output_type": "display_data"
    },
    {
     "data": {
      "text/html": [
       "<table border=\"1\" class=\"dataframe\">\n",
       "  <thead>\n",
       "    <tr style=\"text-align: left;\">\n",
       "      <th>epoch</th>\n",
       "      <th>train_loss</th>\n",
       "      <th>valid_loss</th>\n",
       "      <th>accuracy</th>\n",
       "      <th>f_beta</th>\n",
       "      <th>time</th>\n",
       "    </tr>\n",
       "  </thead>\n",
       "  <tbody>\n",
       "    <tr>\n",
       "      <td>0</td>\n",
       "      <td>0.321526</td>\n",
       "      <td>0.335079</td>\n",
       "      <td>0.902750</td>\n",
       "      <td>0.858512</td>\n",
       "      <td>01:45</td>\n",
       "    </tr>\n",
       "    <tr>\n",
       "      <td>1</td>\n",
       "      <td>0.310394</td>\n",
       "      <td>0.335478</td>\n",
       "      <td>0.902750</td>\n",
       "      <td>0.858512</td>\n",
       "      <td>01:45</td>\n",
       "    </tr>\n",
       "    <tr>\n",
       "      <td>2</td>\n",
       "      <td>0.316377</td>\n",
       "      <td>0.336074</td>\n",
       "      <td>0.903000</td>\n",
       "      <td>0.859105</td>\n",
       "      <td>01:45</td>\n",
       "    </tr>\n",
       "    <tr>\n",
       "      <td>3</td>\n",
       "      <td>0.337970</td>\n",
       "      <td>0.334975</td>\n",
       "      <td>0.903000</td>\n",
       "      <td>0.858643</td>\n",
       "      <td>01:45</td>\n",
       "    </tr>\n",
       "    <tr>\n",
       "      <td>4</td>\n",
       "      <td>0.328497</td>\n",
       "      <td>0.335041</td>\n",
       "      <td>0.903000</td>\n",
       "      <td>0.858175</td>\n",
       "      <td>01:45</td>\n",
       "    </tr>\n",
       "  </tbody>\n",
       "</table>"
      ],
      "text/plain": [
       "<IPython.core.display.HTML object>"
      ]
     },
     "metadata": {},
     "output_type": "display_data"
    },
    {
     "data": {
      "image/png": "[encoded data removed]",
      "text/plain": [
       "<Figure size 432x288 with 1 Axes>"
      ]
     },
     "metadata": {
      "needs_background": "light"
     },
     "output_type": "display_data"
    }
   ],
   "source": [
    "sent_learn = train_triage_classifier('edsent_v2_enc2', datac = data_clas2, num_cycles = 1, lr = 1e-3, drop_mult = 0.7)"
   ]
  },
  {
   "cell_type": "code",
   "execution_count": 36,
   "metadata": {},
   "outputs": [
    {
     "data": {
      "image/png": "[encoded data removed]",
      "text/plain": [
       "<Figure size 360x360 with 2 Axes>"
      ]
     },
     "metadata": {
      "needs_background": "light"
     },
     "output_type": "display_data"
    }
   ],
   "source": [
    "preds, targets = sent_learn.get_preds(DatasetType.Valid) \n",
    "predictions = np.argmax(preds, axis = 1) \n",
    "\n",
    "confusion_matrix = metrics.confusion_matrix(targets, predictions)\n",
    "LABELS = data_clas2.classes\n",
    "\n",
    "plt.figure(figsize=(5, 5))\n",
    "sns.heatmap(confusion_matrix, xticklabels=LABELS, yticklabels=LABELS, annot=True, fmt=\"d\", annot_kws={\"size\": 20});\n",
    "plt.title(\"Confusion matrix\", fontsize=20)\n",
    "plt.ylabel('True label', fontsize=20)\n",
    "plt.xlabel('Predicted label', fontsize=20)\n",
    "plt.show()"
   ]
  },
  {
   "cell_type": "markdown",
   "metadata": {},
   "source": [
    "for interest sake I'm going to see what the model looks like before we do any training"
   ]
  },
  {
   "cell_type": "code",
   "execution_count": 37,
   "metadata": {},
   "outputs": [],
   "source": [
    "model = text_classifier_learner(data_clas2, arch = AWD_LSTM, drop_mult=0.5)"
   ]
  },
  {
   "cell_type": "code",
   "execution_count": 39,
   "metadata": {},
   "outputs": [
    {
     "data": {
      "image/png": "[encoded data removed]",
      "text/plain": [
       "<Figure size 360x360 with 2 Axes>"
      ]
     },
     "metadata": {
      "needs_background": "light"
     },
     "output_type": "display_data"
    }
   ],
   "source": [
    "preds, targets = model.get_preds(DatasetType.Train) \n",
    "predictions = np.argmax(preds, axis = 1) \n",
    "\n",
    "confusion_matrix = metrics.confusion_matrix(targets, predictions)\n",
    "LABELS = data_clas2.classes\n",
    "\n",
    "plt.figure(figsize=(5, 5))\n",
    "sns.heatmap(confusion_matrix, xticklabels=LABELS, yticklabels=LABELS, annot=True, fmt=\"d\", annot_kws={\"size\": 20});\n",
    "plt.title(\"Confusion matrix\", fontsize=20)\n",
    "plt.ylabel('True label', fontsize=20)\n",
    "plt.xlabel('Predicted label', fontsize=20)\n",
    "plt.show()"
   ]
  },
  {
   "cell_type": "markdown",
   "metadata": {},
   "source": [
    "Gonna try a new approach where I just train on admitted patients to see if I can distinguish them:"
   ]
  },
  {
   "cell_type": "code",
   "execution_count": 7,
   "metadata": {},
   "outputs": [
    {
     "data": {
      "text/plain": [
       "110227"
      ]
     },
     "execution_count": 7,
     "metadata": {},
     "output_type": "execute_result"
    }
   ],
   "source": [
    "len(data)"
   ]
  },
  {
   "cell_type": "code",
   "execution_count": 8,
   "metadata": {},
   "outputs": [],
   "source": [
    "dc_data = data[data['outcome'] == 'discharge']"
   ]
  },
  {
   "cell_type": "code",
   "execution_count": 9,
   "metadata": {},
   "outputs": [
    {
     "data": {
      "text/plain": [
       "99885"
      ]
     },
     "execution_count": 9,
     "metadata": {},
     "output_type": "execute_result"
    }
   ],
   "source": [
    "len(dc_data)"
   ]
  },
  {
   "cell_type": "code",
   "execution_count": 10,
   "metadata": {},
   "outputs": [],
   "source": [
    "admit_data = data[data['outcome'] != 'discharge']"
   ]
  },
  {
   "cell_type": "code",
   "execution_count": 12,
   "metadata": {},
   "outputs": [
    {
     "data": {
      "text/plain": [
       "10342"
      ]
     },
     "execution_count": 12,
     "metadata": {},
     "output_type": "execute_result"
    }
   ],
   "source": [
    "len(admit_data)"
   ]
  },
  {
   "cell_type": "code",
   "execution_count": 13,
   "metadata": {},
   "outputs": [
    {
     "data": {
      "text/plain": [
       "True"
      ]
     },
     "execution_count": 13,
     "metadata": {},
     "output_type": "execute_result"
    }
   ],
   "source": [
    "len(data) == len(dc_data) + len(admit_data)"
   ]
  },
  {
   "cell_type": "code",
   "execution_count": 14,
   "metadata": {},
   "outputs": [
    {
     "data": {
      "text/plain": [
       "Counter({'discharge': 99885})"
      ]
     },
     "execution_count": 14,
     "metadata": {},
     "output_type": "execute_result"
    }
   ],
   "source": [
    "dc_count = Counter(dc_data.outcome); dc_count"
   ]
  },
  {
   "cell_type": "code",
   "execution_count": 15,
   "metadata": {},
   "outputs": [
    {
     "data": {
      "text/plain": [
       "Counter({'sadmit': 1565, 'madmit': 8136, 'ICU': 641})"
      ]
     },
     "execution_count": 15,
     "metadata": {},
     "output_type": "execute_result"
    }
   ],
   "source": [
    "ad_count = Counter(admit_data.outcome); ad_count"
   ]
  },
  {
   "cell_type": "code",
   "execution_count": 17,
   "metadata": {},
   "outputs": [],
   "source": [
    "dc_data.to_csv('discharges')"
   ]
  },
  {
   "cell_type": "code",
   "execution_count": 18,
   "metadata": {},
   "outputs": [],
   "source": [
    "admit_data.to_csv('admissions')"
   ]
  },
  {
   "cell_type": "code",
   "execution_count": 19,
   "metadata": {},
   "outputs": [],
   "source": [
    "data_lm2 = load_data(path, 'large_lm')"
   ]
  },
  {
   "cell_type": "code",
   "execution_count": 20,
   "metadata": {},
   "outputs": [],
   "source": [
    "admit_clas = (TextList.from_df(admit_data, cols='subj',vocab=data_lm2.vocab)\n",
    "                   .split_by_rand_pct(0.2)\n",
    "                   .label_from_df(cols = 'outcome')\n",
    "                   .databunch())"
   ]
  },
  {
   "cell_type": "code",
   "execution_count": 22,
   "metadata": {},
   "outputs": [
    {
     "data": {
      "text/plain": [
       "['ICU', 'madmit', 'sadmit']"
      ]
     },
     "execution_count": 22,
     "metadata": {},
     "output_type": "execute_result"
    }
   ],
   "source": [
    "admit_clas.classes"
   ]
  },
  {
   "cell_type": "code",
   "execution_count": 23,
   "metadata": {},
   "outputs": [
    {
     "data": {
      "text/plain": [
       "True"
      ]
     },
     "execution_count": 23,
     "metadata": {},
     "output_type": "execute_result"
    }
   ],
   "source": [
    "admit_clas.vocab.itos == data_lm2.vocab.itos"
   ]
  },
  {
   "cell_type": "code",
   "execution_count": 28,
   "metadata": {},
   "outputs": [
    {
     "data": {
      "text/html": [
       "<table border=\"1\" class=\"dataframe\">\n",
       "  <thead>\n",
       "    <tr style=\"text-align: left;\">\n",
       "      <th>epoch</th>\n",
       "      <th>train_loss</th>\n",
       "      <th>valid_loss</th>\n",
       "      <th>accuracy</th>\n",
       "      <th>f_beta</th>\n",
       "      <th>time</th>\n",
       "    </tr>\n",
       "  </thead>\n",
       "  <tbody>\n",
       "    <tr>\n",
       "      <td>0</td>\n",
       "      <td>0.895672</td>\n",
       "      <td>0.804704</td>\n",
       "      <td>0.750484</td>\n",
       "      <td>0.749251</td>\n",
       "      <td>00:25</td>\n",
       "    </tr>\n",
       "  </tbody>\n",
       "</table>"
      ],
      "text/plain": [
       "<IPython.core.display.HTML object>"
      ]
     },
     "metadata": {},
     "output_type": "display_data"
    },
    {
     "data": {
      "text/html": [
       "<table border=\"1\" class=\"dataframe\">\n",
       "  <thead>\n",
       "    <tr style=\"text-align: left;\">\n",
       "      <th>epoch</th>\n",
       "      <th>train_loss</th>\n",
       "      <th>valid_loss</th>\n",
       "      <th>accuracy</th>\n",
       "      <th>f_beta</th>\n",
       "      <th>time</th>\n",
       "    </tr>\n",
       "  </thead>\n",
       "  <tbody>\n",
       "    <tr>\n",
       "      <td>0</td>\n",
       "      <td>0.650800</td>\n",
       "      <td>0.605090</td>\n",
       "      <td>0.791586</td>\n",
       "      <td>0.766759</td>\n",
       "      <td>00:30</td>\n",
       "    </tr>\n",
       "  </tbody>\n",
       "</table>"
      ],
      "text/plain": [
       "<IPython.core.display.HTML object>"
      ]
     },
     "metadata": {},
     "output_type": "display_data"
    },
    {
     "data": {
      "text/html": [
       "<table border=\"1\" class=\"dataframe\">\n",
       "  <thead>\n",
       "    <tr style=\"text-align: left;\">\n",
       "      <th>epoch</th>\n",
       "      <th>train_loss</th>\n",
       "      <th>valid_loss</th>\n",
       "      <th>accuracy</th>\n",
       "      <th>f_beta</th>\n",
       "      <th>time</th>\n",
       "    </tr>\n",
       "  </thead>\n",
       "  <tbody>\n",
       "    <tr>\n",
       "      <td>0</td>\n",
       "      <td>0.560469</td>\n",
       "      <td>0.541517</td>\n",
       "      <td>0.799807</td>\n",
       "      <td>0.761267</td>\n",
       "      <td>00:49</td>\n",
       "    </tr>\n",
       "  </tbody>\n",
       "</table>"
      ],
      "text/plain": [
       "<IPython.core.display.HTML object>"
      ]
     },
     "metadata": {},
     "output_type": "display_data"
    },
    {
     "data": {
      "text/html": [
       "<table border=\"1\" class=\"dataframe\">\n",
       "  <thead>\n",
       "    <tr style=\"text-align: left;\">\n",
       "      <th>epoch</th>\n",
       "      <th>train_loss</th>\n",
       "      <th>valid_loss</th>\n",
       "      <th>accuracy</th>\n",
       "      <th>f_beta</th>\n",
       "      <th>time</th>\n",
       "    </tr>\n",
       "  </thead>\n",
       "  <tbody>\n",
       "    <tr>\n",
       "      <td>0</td>\n",
       "      <td>0.545893</td>\n",
       "      <td>0.542009</td>\n",
       "      <td>0.795938</td>\n",
       "      <td>0.757783</td>\n",
       "      <td>01:03</td>\n",
       "    </tr>\n",
       "    <tr>\n",
       "      <td>1</td>\n",
       "      <td>0.532714</td>\n",
       "      <td>0.540689</td>\n",
       "      <td>0.797389</td>\n",
       "      <td>0.759073</td>\n",
       "      <td>01:01</td>\n",
       "    </tr>\n",
       "    <tr>\n",
       "      <td>2</td>\n",
       "      <td>0.530488</td>\n",
       "      <td>0.540463</td>\n",
       "      <td>0.797872</td>\n",
       "      <td>0.763657</td>\n",
       "      <td>01:03</td>\n",
       "    </tr>\n",
       "    <tr>\n",
       "      <td>3</td>\n",
       "      <td>0.543008</td>\n",
       "      <td>0.539007</td>\n",
       "      <td>0.794004</td>\n",
       "      <td>0.755700</td>\n",
       "      <td>01:00</td>\n",
       "    </tr>\n",
       "    <tr>\n",
       "      <td>4</td>\n",
       "      <td>0.535125</td>\n",
       "      <td>0.540949</td>\n",
       "      <td>0.799323</td>\n",
       "      <td>0.762522</td>\n",
       "      <td>01:05</td>\n",
       "    </tr>\n",
       "  </tbody>\n",
       "</table>"
      ],
      "text/plain": [
       "<IPython.core.display.HTML object>"
      ]
     },
     "metadata": {},
     "output_type": "display_data"
    },
    {
     "data": {
      "image/png": "[encoded data removed]",
      "text/plain": [
       "<Figure size 432x288 with 1 Axes>"
      ]
     },
     "metadata": {
      "needs_background": "light"
     },
     "output_type": "display_data"
    }
   ],
   "source": [
    "sent_learn = train_triage_classifier('edsent_v2_enc2', datac = admit_clas, num_cycles = 1, lr = 1e-3, drop_mult = 0.7)"
   ]
  },
  {
   "cell_type": "code",
   "execution_count": 30,
   "metadata": {},
   "outputs": [],
   "source": [
    "txt_ci = TextClassificationInterpretation.from_learner(sent_learn)"
   ]
  },
  {
   "cell_type": "code",
   "execution_count": 37,
   "metadata": {},
   "outputs": [
    {
     "data": {
      "image/png": "[encoded data removed]",
      "text/plain": [
       "<Figure size 360x360 with 2 Axes>"
      ]
     },
     "metadata": {
      "needs_background": "light"
     },
     "output_type": "display_data"
    }
   ],
   "source": [
    "preds, targets = sent_learn.get_preds(DatasetType.Valid) \n",
    "predictions = np.argmax(preds, axis = 1) \n",
    "\n",
    "confusion_matrix = metrics.confusion_matrix(targets, predictions)\n",
    "LABELS = admit_clas.classes\n",
    "\n",
    "plt.figure(figsize=(5, 5))\n",
    "sns.heatmap(confusion_matrix, xticklabels=LABELS, yticklabels=LABELS, annot=True, fmt=\"d\", annot_kws={\"size\": 20});\n",
    "plt.title(\"Confusion matrix\", fontsize=20)\n",
    "plt.ylabel('True label', fontsize=20)\n",
    "plt.xlabel('Predicted label', fontsize=20)\n",
    "plt.show()"
   ]
  },
  {
   "cell_type": "code",
   "execution_count": 38,
   "metadata": {},
   "outputs": [
    {
     "data": {
      "image/png": "[encoded data removed]",
      "text/plain": [
       "<Figure size 360x360 with 2 Axes>"
      ]
     },
     "metadata": {
      "needs_background": "light"
     },
     "output_type": "display_data"
    }
   ],
   "source": [
    "preds, targets = sent_learn.get_preds(DatasetType.Train) \n",
    "predictions = np.argmax(preds, axis = 1) \n",
    "\n",
    "confusion_matrix = metrics.confusion_matrix(targets, predictions)\n",
    "LABELS = admit_clas.classes\n",
    "\n",
    "plt.figure(figsize=(5, 5))\n",
    "sns.heatmap(confusion_matrix, xticklabels=LABELS, yticklabels=LABELS, annot=True, fmt=\"d\", annot_kws={\"size\": 20});\n",
    "plt.title(\"Confusion matrix\", fontsize=20)\n",
    "plt.ylabel('True label', fontsize=20)\n",
    "plt.xlabel('Predicted label', fontsize=20)\n",
    "plt.show()"
   ]
  },
  {
   "cell_type": "markdown",
   "metadata": {},
   "source": [
    "still not very good.  gonne try to split again\n",
    "\n",
    "gonna look at differentiating admitted patients between the ward and ICU"
   ]
  },
  {
   "cell_type": "code",
   "execution_count": 39,
   "metadata": {},
   "outputs": [
    {
     "name": "stderr",
     "output_type": "stream",
     "text": [
      "/usr/local/lib/python3.6/site-packages/ipykernel_launcher.py:4: SettingWithCopyWarning: \n",
      "A value is trying to be set on a copy of a slice from a DataFrame.\n",
      "Try using .loc[row_indexer,col_indexer] = value instead\n",
      "\n",
      "See the caveats in the documentation: http://pandas.pydata.org/pandas-docs/stable/indexing.html#indexing-view-versus-copy\n",
      "  after removing the cwd from sys.path.\n"
     ]
    }
   ],
   "source": [
    "admit_data['ward/icu'] = admit_data['outcome'].map(\n",
    "{'ICU': 'ICU',\n",
    " 'madmit': 'ward',\n",
    " 'sadmit' : 'ward',\n",
    " })"
   ]
  },
  {
   "cell_type": "code",
   "execution_count": 40,
   "metadata": {},
   "outputs": [
    {
     "data": {
      "text/html": [
       "<div>\n",
       "<style scoped>\n",
       "    .dataframe tbody tr th:only-of-type {\n",
       "        vertical-align: middle;\n",
       "    }\n",
       "\n",
       "    .dataframe tbody tr th {\n",
       "        vertical-align: top;\n",
       "    }\n",
       "\n",
       "    .dataframe thead th {\n",
       "        text-align: right;\n",
       "    }\n",
       "</style>\n",
       "<table border=\"1\" class=\"dataframe\">\n",
       "  <thead>\n",
       "    <tr style=\"text-align: right;\">\n",
       "      <th></th>\n",
       "      <th>Unnamed: 0</th>\n",
       "      <th>outcome</th>\n",
       "      <th>subj</th>\n",
       "      <th>ward/icu</th>\n",
       "    </tr>\n",
       "  </thead>\n",
       "  <tbody>\n",
       "    <tr>\n",
       "      <th>5</th>\n",
       "      <td>6</td>\n",
       "      <td>sadmit</td>\n",
       "      <td>The patient states his pain is manageable. Sti...</td>\n",
       "      <td>ward</td>\n",
       "    </tr>\n",
       "    <tr>\n",
       "      <th>6</th>\n",
       "      <td>7</td>\n",
       "      <td>madmit</td>\n",
       "      <td>As per the police the patient-was having an ag...</td>\n",
       "      <td>ward</td>\n",
       "    </tr>\n",
       "    <tr>\n",
       "      <th>12</th>\n",
       "      <td>13</td>\n",
       "      <td>sadmit</td>\n",
       "      <td>States she was taking out the garbage when she...</td>\n",
       "      <td>ward</td>\n",
       "    </tr>\n",
       "    <tr>\n",
       "      <th>14</th>\n",
       "      <td>15</td>\n",
       "      <td>madmit</td>\n",
       "      <td>C/o chest heaviness, with sweating. Pt. denies...</td>\n",
       "      <td>ward</td>\n",
       "    </tr>\n",
       "    <tr>\n",
       "      <th>20</th>\n",
       "      <td>21</td>\n",
       "      <td>madmit</td>\n",
       "      <td>pt denies any pain.</td>\n",
       "      <td>ward</td>\n",
       "    </tr>\n",
       "  </tbody>\n",
       "</table>\n",
       "</div>"
      ],
      "text/plain": [
       "    Unnamed: 0 outcome                                               subj  \\\n",
       "5            6  sadmit  The patient states his pain is manageable. Sti...   \n",
       "6            7  madmit  As per the police the patient-was having an ag...   \n",
       "12          13  sadmit  States she was taking out the garbage when she...   \n",
       "14          15  madmit  C/o chest heaviness, with sweating. Pt. denies...   \n",
       "20          21  madmit                                pt denies any pain.   \n",
       "\n",
       "   ward/icu  \n",
       "5      ward  \n",
       "6      ward  \n",
       "12     ward  \n",
       "14     ward  \n",
       "20     ward  "
      ]
     },
     "execution_count": 40,
     "metadata": {},
     "output_type": "execute_result"
    }
   ],
   "source": [
    "admit_data.head()"
   ]
  },
  {
   "cell_type": "code",
   "execution_count": 41,
   "metadata": {},
   "outputs": [
    {
     "data": {
      "text/plain": [
       "Counter({'ward': 9701, 'ICU': 641})"
      ]
     },
     "execution_count": 41,
     "metadata": {},
     "output_type": "execute_result"
    }
   ],
   "source": [
    "count3 = Counter(admit_data['ward/icu']); count3"
   ]
  },
  {
   "cell_type": "code",
   "execution_count": 43,
   "metadata": {},
   "outputs": [],
   "source": [
    "floor_clas = (TextList.from_df(admit_data, cols='subj',vocab=data_lm2.vocab)\n",
    "                   .split_by_rand_pct(0.2)\n",
    "                   .label_from_df(cols = 'ward/icu')\n",
    "                   .databunch())"
   ]
  },
  {
   "cell_type": "code",
   "execution_count": 44,
   "metadata": {},
   "outputs": [
    {
     "data": {
      "text/plain": [
       "['ICU', 'ward']"
      ]
     },
     "execution_count": 44,
     "metadata": {},
     "output_type": "execute_result"
    }
   ],
   "source": [
    "floor_clas.classes"
   ]
  },
  {
   "cell_type": "code",
   "execution_count": 45,
   "metadata": {},
   "outputs": [
    {
     "data": {
      "text/html": [
       "<table border=\"1\" class=\"dataframe\">\n",
       "  <thead>\n",
       "    <tr style=\"text-align: left;\">\n",
       "      <th>epoch</th>\n",
       "      <th>train_loss</th>\n",
       "      <th>valid_loss</th>\n",
       "      <th>accuracy</th>\n",
       "      <th>f_beta</th>\n",
       "      <th>time</th>\n",
       "    </tr>\n",
       "  </thead>\n",
       "  <tbody>\n",
       "    <tr>\n",
       "      <td>0</td>\n",
       "      <td>0.546206</td>\n",
       "      <td>0.493368</td>\n",
       "      <td>0.878143</td>\n",
       "      <td>0.892003</td>\n",
       "      <td>00:25</td>\n",
       "    </tr>\n",
       "  </tbody>\n",
       "</table>"
      ],
      "text/plain": [
       "<IPython.core.display.HTML object>"
      ]
     },
     "metadata": {},
     "output_type": "display_data"
    },
    {
     "data": {
      "text/html": [
       "<table border=\"1\" class=\"dataframe\">\n",
       "  <thead>\n",
       "    <tr style=\"text-align: left;\">\n",
       "      <th>epoch</th>\n",
       "      <th>train_loss</th>\n",
       "      <th>valid_loss</th>\n",
       "      <th>accuracy</th>\n",
       "      <th>f_beta</th>\n",
       "      <th>time</th>\n",
       "    </tr>\n",
       "  </thead>\n",
       "  <tbody>\n",
       "    <tr>\n",
       "      <td>0</td>\n",
       "      <td>0.328051</td>\n",
       "      <td>0.284913</td>\n",
       "      <td>0.936170</td>\n",
       "      <td>0.916652</td>\n",
       "      <td>00:31</td>\n",
       "    </tr>\n",
       "  </tbody>\n",
       "</table>"
      ],
      "text/plain": [
       "<IPython.core.display.HTML object>"
      ]
     },
     "metadata": {},
     "output_type": "display_data"
    },
    {
     "data": {
      "text/html": [
       "<table border=\"1\" class=\"dataframe\">\n",
       "  <thead>\n",
       "    <tr style=\"text-align: left;\">\n",
       "      <th>epoch</th>\n",
       "      <th>train_loss</th>\n",
       "      <th>valid_loss</th>\n",
       "      <th>accuracy</th>\n",
       "      <th>f_beta</th>\n",
       "      <th>time</th>\n",
       "    </tr>\n",
       "  </thead>\n",
       "  <tbody>\n",
       "    <tr>\n",
       "      <td>0</td>\n",
       "      <td>0.234372</td>\n",
       "      <td>0.234789</td>\n",
       "      <td>0.937137</td>\n",
       "      <td>0.917226</td>\n",
       "      <td>00:47</td>\n",
       "    </tr>\n",
       "  </tbody>\n",
       "</table>"
      ],
      "text/plain": [
       "<IPython.core.display.HTML object>"
      ]
     },
     "metadata": {},
     "output_type": "display_data"
    },
    {
     "data": {
      "text/html": [
       "<table border=\"1\" class=\"dataframe\">\n",
       "  <thead>\n",
       "    <tr style=\"text-align: left;\">\n",
       "      <th>epoch</th>\n",
       "      <th>train_loss</th>\n",
       "      <th>valid_loss</th>\n",
       "      <th>accuracy</th>\n",
       "      <th>f_beta</th>\n",
       "      <th>time</th>\n",
       "    </tr>\n",
       "  </thead>\n",
       "  <tbody>\n",
       "    <tr>\n",
       "      <td>0</td>\n",
       "      <td>0.227766</td>\n",
       "      <td>0.227815</td>\n",
       "      <td>0.939072</td>\n",
       "      <td>0.918381</td>\n",
       "      <td>01:02</td>\n",
       "    </tr>\n",
       "    <tr>\n",
       "      <td>1</td>\n",
       "      <td>0.230966</td>\n",
       "      <td>0.227435</td>\n",
       "      <td>0.939072</td>\n",
       "      <td>0.918381</td>\n",
       "      <td>01:02</td>\n",
       "    </tr>\n",
       "    <tr>\n",
       "      <td>2</td>\n",
       "      <td>0.225872</td>\n",
       "      <td>0.226474</td>\n",
       "      <td>0.938588</td>\n",
       "      <td>0.918091</td>\n",
       "      <td>01:07</td>\n",
       "    </tr>\n",
       "    <tr>\n",
       "      <td>3</td>\n",
       "      <td>0.219498</td>\n",
       "      <td>0.225829</td>\n",
       "      <td>0.939072</td>\n",
       "      <td>0.918381</td>\n",
       "      <td>01:02</td>\n",
       "    </tr>\n",
       "    <tr>\n",
       "      <td>4</td>\n",
       "      <td>0.223254</td>\n",
       "      <td>0.228208</td>\n",
       "      <td>0.938104</td>\n",
       "      <td>0.917803</td>\n",
       "      <td>01:00</td>\n",
       "    </tr>\n",
       "  </tbody>\n",
       "</table>"
      ],
      "text/plain": [
       "<IPython.core.display.HTML object>"
      ]
     },
     "metadata": {},
     "output_type": "display_data"
    },
    {
     "data": {
      "image/png": "[encoded data removed]",
      "text/plain": [
       "<Figure size 432x288 with 1 Axes>"
      ]
     },
     "metadata": {
      "needs_background": "light"
     },
     "output_type": "display_data"
    }
   ],
   "source": [
    "sent_learn = train_triage_classifier('edsent_v2_enc2', datac = floor_clas, num_cycles = 1, lr = 1e-3, drop_mult = 0.5)"
   ]
  },
  {
   "cell_type": "code",
   "execution_count": 46,
   "metadata": {},
   "outputs": [
    {
     "data": {
      "image/png": "[encoded data removed]",
      "text/plain": [
       "<Figure size 360x360 with 2 Axes>"
      ]
     },
     "metadata": {
      "needs_background": "light"
     },
     "output_type": "display_data"
    }
   ],
   "source": [
    "preds, targets = sent_learn.get_preds(DatasetType.Valid) \n",
    "predictions = np.argmax(preds, axis = 1) \n",
    "\n",
    "confusion_matrix = metrics.confusion_matrix(targets, predictions)\n",
    "LABELS = floor_clas.classes\n",
    "\n",
    "plt.figure(figsize=(5, 5))\n",
    "sns.heatmap(confusion_matrix, xticklabels=LABELS, yticklabels=LABELS, annot=True, fmt=\"d\", annot_kws={\"size\": 20});\n",
    "plt.title(\"Confusion matrix\", fontsize=20)\n",
    "plt.ylabel('True label', fontsize=20)\n",
    "plt.xlabel('Predicted label', fontsize=20)\n",
    "plt.show()"
   ]
  },
  {
   "cell_type": "code",
   "execution_count": 51,
   "metadata": {},
   "outputs": [],
   "source": [
    "f_score = metrics.f1_score(targets, predictions, average = 'binary')"
   ]
  },
  {
   "cell_type": "code",
   "execution_count": 52,
   "metadata": {},
   "outputs": [
    {
     "data": {
      "text/plain": [
       "0.9679358717434869"
      ]
     },
     "execution_count": 52,
     "metadata": {},
     "output_type": "execute_result"
    }
   ],
   "source": [
    "f_score"
   ]
  },
  {
   "cell_type": "code",
   "execution_count": 53,
   "metadata": {},
   "outputs": [],
   "source": [
    "f_score = metrics.f1_score(targets, predictions, average = None)"
   ]
  },
  {
   "cell_type": "code",
   "execution_count": 54,
   "metadata": {},
   "outputs": [
    {
     "data": {
      "text/plain": [
       "array([0.111111, 0.967936])"
      ]
     },
     "execution_count": 54,
     "metadata": {},
     "output_type": "execute_result"
    }
   ],
   "source": [
    "f_score"
   ]
  },
  {
   "cell_type": "markdown",
   "metadata": {},
   "source": [
    "#### this is not bad by the numbers but doesn't detect the outlier (ICU admission) very well\n",
    "\n",
    "now gonna try admit vs. d/c"
   ]
  },
  {
   "cell_type": "code",
   "execution_count": 55,
   "metadata": {},
   "outputs": [],
   "source": [
    "data['admission'] = data['outcome'].map(\n",
    "{'ICU': 'admit',\n",
    " 'madmit': 'admit',\n",
    " 'sadmit' : 'admit',\n",
    " 'discharge' : 'discharge'\n",
    " })"
   ]
  },
  {
   "cell_type": "code",
   "execution_count": null,
   "metadata": {},
   "outputs": [],
   "source": [
    "admit_data['ward/icu'] = admit_data['outcome'].map(\n",
    "{'ICU': 'ICU',\n",
    " 'madmit': 'ward',\n",
    " 'sadmit' : 'ward',\n",
    " })"
   ]
  },
  {
   "cell_type": "code",
   "execution_count": 56,
   "metadata": {},
   "outputs": [],
   "source": [
    "data_clas = (TextList.from_df(data, cols='subj',vocab=data_lm2.vocab)\n",
    "                   .split_by_rand_pct(0.2)\n",
    "                   .label_from_df(cols = 'admission')\n",
    "                   .databunch())"
   ]
  },
  {
   "cell_type": "code",
   "execution_count": 57,
   "metadata": {},
   "outputs": [
    {
     "data": {
      "text/html": [
       "<table border=\"1\" class=\"dataframe\">\n",
       "  <thead>\n",
       "    <tr style=\"text-align: left;\">\n",
       "      <th>epoch</th>\n",
       "      <th>train_loss</th>\n",
       "      <th>valid_loss</th>\n",
       "      <th>accuracy</th>\n",
       "      <th>f_beta</th>\n",
       "      <th>time</th>\n",
       "    </tr>\n",
       "  </thead>\n",
       "  <tbody>\n",
       "    <tr>\n",
       "      <td>0</td>\n",
       "      <td>0.260799</td>\n",
       "      <td>0.258465</td>\n",
       "      <td>0.909957</td>\n",
       "      <td>0.871546</td>\n",
       "      <td>04:03</td>\n",
       "    </tr>\n",
       "  </tbody>\n",
       "</table>"
      ],
      "text/plain": [
       "<IPython.core.display.HTML object>"
      ]
     },
     "metadata": {},
     "output_type": "display_data"
    },
    {
     "data": {
      "text/html": [
       "<table border=\"1\" class=\"dataframe\">\n",
       "  <thead>\n",
       "    <tr style=\"text-align: left;\">\n",
       "      <th>epoch</th>\n",
       "      <th>train_loss</th>\n",
       "      <th>valid_loss</th>\n",
       "      <th>accuracy</th>\n",
       "      <th>f_beta</th>\n",
       "      <th>time</th>\n",
       "    </tr>\n",
       "  </thead>\n",
       "  <tbody>\n",
       "    <tr>\n",
       "      <td>0</td>\n",
       "      <td>0.269608</td>\n",
       "      <td>0.253495</td>\n",
       "      <td>0.910048</td>\n",
       "      <td>0.873052</td>\n",
       "      <td>04:55</td>\n",
       "    </tr>\n",
       "  </tbody>\n",
       "</table>"
      ],
      "text/plain": [
       "<IPython.core.display.HTML object>"
      ]
     },
     "metadata": {},
     "output_type": "display_data"
    },
    {
     "data": {
      "text/html": [
       "<table border=\"1\" class=\"dataframe\">\n",
       "  <thead>\n",
       "    <tr style=\"text-align: left;\">\n",
       "      <th>epoch</th>\n",
       "      <th>train_loss</th>\n",
       "      <th>valid_loss</th>\n",
       "      <th>accuracy</th>\n",
       "      <th>f_beta</th>\n",
       "      <th>time</th>\n",
       "    </tr>\n",
       "  </thead>\n",
       "  <tbody>\n",
       "    <tr>\n",
       "      <td>0</td>\n",
       "      <td>0.258076</td>\n",
       "      <td>0.253368</td>\n",
       "      <td>0.910955</td>\n",
       "      <td>0.875721</td>\n",
       "      <td>07:39</td>\n",
       "    </tr>\n",
       "  </tbody>\n",
       "</table>"
      ],
      "text/plain": [
       "<IPython.core.display.HTML object>"
      ]
     },
     "metadata": {},
     "output_type": "display_data"
    },
    {
     "data": {
      "text/html": [
       "<table border=\"1\" class=\"dataframe\">\n",
       "  <thead>\n",
       "    <tr style=\"text-align: left;\">\n",
       "      <th>epoch</th>\n",
       "      <th>train_loss</th>\n",
       "      <th>valid_loss</th>\n",
       "      <th>accuracy</th>\n",
       "      <th>f_beta</th>\n",
       "      <th>time</th>\n",
       "    </tr>\n",
       "  </thead>\n",
       "  <tbody>\n",
       "    <tr>\n",
       "      <td>0</td>\n",
       "      <td>0.246777</td>\n",
       "      <td>0.252684</td>\n",
       "      <td>0.910683</td>\n",
       "      <td>0.874907</td>\n",
       "      <td>10:46</td>\n",
       "    </tr>\n",
       "    <tr>\n",
       "      <td>1</td>\n",
       "      <td>0.275943</td>\n",
       "      <td>0.252002</td>\n",
       "      <td>0.910229</td>\n",
       "      <td>0.873308</td>\n",
       "      <td>09:58</td>\n",
       "    </tr>\n",
       "    <tr>\n",
       "      <td>2</td>\n",
       "      <td>0.271188</td>\n",
       "      <td>0.252132</td>\n",
       "      <td>0.910501</td>\n",
       "      <td>0.874360</td>\n",
       "      <td>10:39</td>\n",
       "    </tr>\n",
       "    <tr>\n",
       "      <td>3</td>\n",
       "      <td>0.250602</td>\n",
       "      <td>0.251676</td>\n",
       "      <td>0.910229</td>\n",
       "      <td>0.873532</td>\n",
       "      <td>09:59</td>\n",
       "    </tr>\n",
       "    <tr>\n",
       "      <td>4</td>\n",
       "      <td>0.268198</td>\n",
       "      <td>0.251902</td>\n",
       "      <td>0.911046</td>\n",
       "      <td>0.876418</td>\n",
       "      <td>10:48</td>\n",
       "    </tr>\n",
       "  </tbody>\n",
       "</table>"
      ],
      "text/plain": [
       "<IPython.core.display.HTML object>"
      ]
     },
     "metadata": {},
     "output_type": "display_data"
    },
    {
     "data": {
      "image/png": "[encoded data removed]",
      "text/plain": [
       "<Figure size 432x288 with 1 Axes>"
      ]
     },
     "metadata": {
      "needs_background": "light"
     },
     "output_type": "display_data"
    }
   ],
   "source": [
    "sent_learn = train_triage_classifier('edsent_v2_enc2', datac = data_clas, num_cycles = 1, lr = 1e-3, drop_mult = 0.5)"
   ]
  },
  {
   "cell_type": "code",
   "execution_count": 58,
   "metadata": {},
   "outputs": [
    {
     "data": {
      "image/png": "[encoded data removed]",
      "text/plain": [
       "<Figure size 360x360 with 2 Axes>"
      ]
     },
     "metadata": {
      "needs_background": "light"
     },
     "output_type": "display_data"
    }
   ],
   "source": [
    "preds, targets = sent_learn.get_preds(DatasetType.Valid) \n",
    "predictions = np.argmax(preds, axis = 1) \n",
    "\n",
    "confusion_matrix = metrics.confusion_matrix(targets, predictions)\n",
    "LABELS = data_clas.classes\n",
    "\n",
    "plt.figure(figsize=(5, 5))\n",
    "sns.heatmap(confusion_matrix, xticklabels=LABELS, yticklabels=LABELS, annot=True, fmt=\"d\", annot_kws={\"size\": 20});\n",
    "plt.title(\"Confusion matrix\", fontsize=20)\n",
    "plt.ylabel('True label', fontsize=20)\n",
    "plt.xlabel('Predicted label', fontsize=20)\n",
    "plt.show()"
   ]
  },
  {
   "cell_type": "markdown",
   "metadata": {},
   "source": [
    "same old problem.  good numbers but not very useful predictions"
   ]
  },
  {
   "cell_type": "code",
   "execution_count": null,
   "metadata": {},
   "outputs": [],
   "source": []
  }
 ],
 "metadata": {
  "kernelspec": {
   "display_name": "Python 3",
   "language": "python",
   "name": "python3"
  },
  "language_info": {
   "codemirror_mode": {
    "name": "ipython",
    "version": 3
   },
   "file_extension": ".py",
   "mimetype": "text/x-python",
   "name": "python",
   "nbconvert_exporter": "python",
   "pygments_lexer": "ipython3",
   "version": "3.6.5"
  }
 },
 "nbformat": 4,
 "nbformat_minor": 2
}
