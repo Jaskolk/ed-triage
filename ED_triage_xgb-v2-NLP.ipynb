{
 "cells": [
  {
   "cell_type": "markdown",
   "metadata": {},
   "source": [
    "returning to this approach after some delay working on neural network approaches"
   ]
  },
  {
   "cell_type": "markdown",
   "metadata": {
    "heading_collapsed": true
   },
   "source": [
    "#### Online, we import the usual packages. **xgboost** needs to be installed (with conda install xgboost or pip install -U xgboost)."
   ]
  },
  {
   "cell_type": "code",
   "execution_count": 6,
   "metadata": {
    "hidden": true
   },
   "outputs": [
    {
     "name": "stdout",
     "output_type": "stream",
     "text": [
      "Collecting xgboost\n",
      "  Using cached https://files.pythonhosted.org/packages/96/84/4e2cae6247f397f83d8adc5c2a2a0c5d7d790a14a4c7400ff6574586f589/xgboost-0.90.tar.gz\n",
      "Requirement already satisfied: numpy in /Users/jjaskolkambp/anaconda3/lib/python3.6/site-packages (from xgboost) (1.14.3)\n",
      "Requirement already satisfied: scipy in /Users/jjaskolkambp/anaconda3/lib/python3.6/site-packages (from xgboost) (1.1.0)\n",
      "Building wheels for collected packages: xgboost\n",
      "  Running setup.py bdist_wheel for xgboost ... \u001b[?25ldone\n",
      "\u001b[?25h  Stored in directory: /Users/jjaskolkambp/Library/Caches/pip/wheels/e9/48/4d/de4187b5270dff71d3697c5a7857a1e2d9a0c63a28b3462eeb\n",
      "Successfully built xgboost\n",
      "Installing collected packages: xgboost\n",
      "Successfully installed xgboost-0.90\n",
      "\u001b[33mYou are using pip version 10.0.1, however version 19.2.3 is available.\n",
      "You should consider upgrading via the 'pip install --upgrade pip' command.\u001b[0m\n"
     ]
    }
   ],
   "source": [
    "#!pip install xgboost"
   ]
  },
  {
   "cell_type": "markdown",
   "metadata": {},
   "source": [
    "#### now the usual imports"
   ]
  },
  {
   "cell_type": "code",
   "execution_count": 1,
   "metadata": {},
   "outputs": [],
   "source": [
    "import pandas as pd\n",
    "import numpy as np\n",
    "import re\n",
    "import xgboost as xgb\n",
    "from sklearn.model_selection import train_test_split\n",
    "from sklearn.manifold import TSNE\n",
    "from sklearn.decomposition import PCA\n",
    "from sklearn.metrics import confusion_matrix\n",
    "from sklearn.preprocessing import LabelEncoder\n",
    "from sklearn.preprocessing import OneHotEncoder\n",
    "import sklearn.metrics\n",
    "from collections import Counter\n",
    "import seaborn as sns\n",
    "%matplotlib inline\n",
    "import matplotlib.pyplot as plt"
   ]
  },
  {
   "cell_type": "code",
   "execution_count": 2,
   "metadata": {},
   "outputs": [],
   "source": [
    "import sys\n",
    "import random as rn\n",
    "\n",
    "from IPython.display import clear_output"
   ]
  },
  {
   "cell_type": "markdown",
   "metadata": {},
   "source": [
    "### load helper functions"
   ]
  },
  {
   "cell_type": "code",
   "execution_count": 84,
   "metadata": {},
   "outputs": [],
   "source": [
    "def thresholding_analysis(preds, targets):\n",
    "    admission_thresholds = [0.01, 0.05, 0.1,0.2,0.3,0.4,0.5,0.6,0.7,0.8,0.9]\n",
    "    i = 0\n",
    "    for thresh in admission_thresholds:\n",
    "        thresholded_predictions = [0 if prob[0] >= thresh else 1 for prob in preds]\n",
    "        \n",
    "        f1_w, f1, acc, prec, rec,= get_metrics(targets,thresholded_predictions, print_output = False)\n",
    "\n",
    "        if i == 0:\n",
    "            output_df = pd.DataFrame([thresh, f1_w, f1, acc, prec, rec, rec[0], rec[1]]).T\n",
    "            output_df.columns = ['admission_threshold', 'weighted f1', 'f1', 'accuracy', 'precision', 'recall', 'admission sensitivity', 'admission specificity']\n",
    "        else:\n",
    "            output_df.loc[len(output_df)] = [thresh, f1_w, f1, acc, prec, rec, rec[0], rec[1]]\n",
    "        i+=1\n",
    "    \n",
    "    return output_df"
   ]
  },
  {
   "cell_type": "code",
   "execution_count": 78,
   "metadata": {
    "colab": {
     "base_uri": "https://localhost:8080/",
     "height": 364
    },
    "colab_type": "code",
    "id": "zoR-h8cO52Se",
    "outputId": "17db8de9-e516-4064-ec30-42bdd9542f65"
   },
   "outputs": [],
   "source": [
    "def show_confusion_matrix(targets, predictions, labels):\n",
    "    LABELS = labels\n",
    "\n",
    "    confusion_matrix = sklearn.metrics.confusion_matrix(targets, predictions)\n",
    "\n",
    "    plt.figure(figsize=(3, 3))\n",
    "    sns.heatmap(confusion_matrix, xticklabels=LABELS, yticklabels=LABELS, annot=True, fmt=\"d\", annot_kws={\"size\": 15});\n",
    "    plt.title(\"Confusion matrix\", fontsize=10)\n",
    "    plt.ylabel('True label', fontsize=10)\n",
    "    plt.xlabel('Predicted label', fontsize=10)\n",
    "    plt.show()"
   ]
  },
  {
   "cell_type": "code",
   "execution_count": 54,
   "metadata": {},
   "outputs": [],
   "source": [
    "def get_metrics(y_test, preds, print_output = False):\n",
    "    f1_w = sklearn.metrics.f1_score(y_test, preds, average='weighted')\n",
    "    f1 = sklearn.metrics.f1_score(y_test, preds, average=None)\n",
    "    acc = sklearn.metrics.accuracy_score(y_test, preds)\n",
    "    prec = sklearn.metrics.precision_score(y_test,preds, average=None) \n",
    "    rec = sklearn.metrics.recall_score(y_test,preds, average=None)\n",
    "    \n",
    "    if print_output:\n",
    "        print ('weighted f1: ', f1_w)\n",
    "        print ('f1:          ', f1)\n",
    "        print ('accuracy:    ', acc)\n",
    "        print ('precision:   ', prec)\n",
    "        print ('recall:      ', rec)\n",
    "        print ('admission sens: ', rec[0])\n",
    "        print ('admission spec: ', rec[1])\n",
    "            \n",
    "    return f1_w, f1, acc, prec, rec\n"
   ]
  },
  {
   "cell_type": "code",
   "execution_count": 55,
   "metadata": {},
   "outputs": [],
   "source": [
    "def JJ_gridsearch(weights):\n",
    "    epoch = 0\n",
    "    for weight in weights:\n",
    "        \n",
    "        xgc = xgb.XGBClassifier(scale_pos_weight=weight)\n",
    "        xgc.fit(X_train, y_train)\n",
    "        preds = xgc.predict(X_test)\n",
    "        f1_w, f1, acc, prec, rec = get_metrics(y_test, preds)\n",
    "        \n",
    "        if epoch == 0:\n",
    "            results_df = pd.DataFrame([epoch+1, 1/weight, f1_w, f1, acc, prec, rec, rec[0], rec[1]]).T\n",
    "            results_df.columns = ['trial number', 'class penalty', 'weighted f1', 'f1', 'accuracy', 'precision', 'recall', 'admission sensitivity', 'admission specificity']\n",
    "        else:\n",
    "            results_df.loc[len(results_df)] = [epoch+1, 1/weight, f1_w, f1, acc, prec, rec, rec[0], rec[1]]\n",
    "        \n",
    "        epoch +=1\n",
    "        \n",
    "    return results_df, preds"
   ]
  },
  {
   "cell_type": "code",
   "execution_count": 47,
   "metadata": {},
   "outputs": [],
   "source": [
    "#use this cell when working from home\n",
    "path = '/Users/jjaskolkambp/Desktop/machine learning/my_projects/ed-triage'\n",
    "data_path = '/Users/jjaskolkambp/Desktop/machine learning/my_projects/data/ED triage project/combo'\n",
    "model_path = '/Users/jjaskolkambp/Desktop/machine learning/my_projects/ed-triage/models'\n",
    "\n",
    "#embeds = pd.read_csv(data_path + '/subjnote_embeds.csv', index_col = 0,low_memory = False)\n",
    "#clin = pd.read_csv(data_path + '/complete_clean_combo_data.csv', index_col = 0,low_memory = False)"
   ]
  },
  {
   "cell_type": "code",
   "execution_count": 103,
   "metadata": {},
   "outputs": [],
   "source": [
    "medhx = np.load(data_path + '/medhx_embeds.npy')"
   ]
  },
  {
   "cell_type": "code",
   "execution_count": 25,
   "metadata": {},
   "outputs": [],
   "source": [
    "target = np.load(data_path + '/admit_dc_target.npy')"
   ]
  },
  {
   "cell_type": "code",
   "execution_count": 29,
   "metadata": {},
   "outputs": [],
   "source": [
    "features = np.load(data_path + '/subj_emeds.npy')"
   ]
  },
  {
   "cell_type": "markdown",
   "metadata": {},
   "source": [
    "#### sanity checking the outcome variables"
   ]
  },
  {
   "cell_type": "code",
   "execution_count": 28,
   "metadata": {
    "scrolled": true
   },
   "outputs": [
    {
     "data": {
      "text/plain": [
       "Counter({1.0: 149218, 0.0: 16215})"
      ]
     },
     "execution_count": 28,
     "metadata": {},
     "output_type": "execute_result"
    }
   ],
   "source": [
    "Counter(target)"
   ]
  },
  {
   "cell_type": "markdown",
   "metadata": {},
   "source": [
    "### This array is an array of 768 element vectors for each entry into subjective notes"
   ]
  },
  {
   "cell_type": "code",
   "execution_count": 164,
   "metadata": {},
   "outputs": [],
   "source": [
    "#X_train, X_test, y_train, y_test = train_test_split(features, target, random_state=1)\n",
    "X_train, X_test, y_train, y_test = train_test_split(features, target, random_state=1)"
   ]
  },
  {
   "cell_type": "code",
   "execution_count": 149,
   "metadata": {},
   "outputs": [],
   "source": [
    "LABELS = ['admit', 'discharge'] "
   ]
  },
  {
   "cell_type": "markdown",
   "metadata": {
    "heading_collapsed": true
   },
   "source": [
    "#### first we are going to train xgb without class penalties"
   ]
  },
  {
   "cell_type": "code",
   "execution_count": 40,
   "metadata": {
    "hidden": true
   },
   "outputs": [
    {
     "name": "stdout",
     "output_type": "stream",
     "text": [
      "CPU times: user 41 s, sys: 160 ms, total: 41.1 s\n",
      "Wall time: 41.9 s\n"
     ]
    },
    {
     "data": {
      "text/plain": [
       "XGBClassifier(base_score=0.5, booster='gbtree', colsample_bylevel=1,\n",
       "       colsample_bynode=1, colsample_bytree=1, gamma=0, learning_rate=0.1,\n",
       "       max_delta_step=0, max_depth=3, min_child_weight=1, missing=None,\n",
       "       n_estimators=100, n_jobs=1, nthread=None,\n",
       "       objective='binary:logistic', random_state=0, reg_alpha=0,\n",
       "       reg_lambda=1, scale_pos_weight=1, seed=None, silent=None,\n",
       "       subsample=1, verbosity=1)"
      ]
     },
     "execution_count": 40,
     "metadata": {},
     "output_type": "execute_result"
    }
   ],
   "source": [
    "xgc = xgb.XGBClassifier()\n",
    "\n",
    "%time xgc.fit(X_train, y_train)"
   ]
  },
  {
   "cell_type": "code",
   "execution_count": 48,
   "metadata": {
    "hidden": true,
    "scrolled": true
   },
   "outputs": [
    {
     "name": "stderr",
     "output_type": "stream",
     "text": [
      "/Users/jjaskolkambp/anaconda3/lib/python3.6/site-packages/sklearn/preprocessing/label.py:151: DeprecationWarning: The truth value of an empty array is ambiguous. Returning False, but in future this will result in an error. Use `array.size > 0` to check that an array is not empty.\n",
      "  if diff:\n"
     ]
    }
   ],
   "source": [
    "preds = xgc.predict(X_test)\n",
    "\n",
    "predictions = xgc.predict_proba(X_test)"
   ]
  },
  {
   "cell_type": "code",
   "execution_count": 58,
   "metadata": {
    "hidden": true
   },
   "outputs": [
    {
     "name": "stdout",
     "output_type": "stream",
     "text": [
      "weighted f1:  0.8569071659474592\n",
      "f1:           [0.01361206 0.94837413]\n",
      "accuracy:     0.9018835078217559\n",
      "precision:    [0.41791045 0.9026688 ]\n",
      "recall:       [0.00691871 0.99895476]\n",
      "admission sens:  0.006918705213738572\n",
      "admission spec:  0.9989547598627787\n"
     ]
    }
   ],
   "source": [
    "f1_w, f1, acc, prec, rec = get_metrics(y_test, preds, print_output=True)"
   ]
  },
  {
   "cell_type": "code",
   "execution_count": 72,
   "metadata": {
    "hidden": true
   },
   "outputs": [
    {
     "data": {
      "image/png": "[encoded data removed]",
      "text/plain": [
       "<Figure size 216x216 with 2 Axes>"
      ]
     },
     "metadata": {},
     "output_type": "display_data"
    }
   ],
   "source": [
    "show_confusion_matrix(y_test, preds, LABELS)"
   ]
  },
  {
   "cell_type": "code",
   "execution_count": 85,
   "metadata": {
    "hidden": true
   },
   "outputs": [
    {
     "name": "stderr",
     "output_type": "stream",
     "text": [
      "/Users/jjaskolkambp/anaconda3/lib/python3.6/site-packages/sklearn/metrics/classification.py:1135: UndefinedMetricWarning: F-score is ill-defined and being set to 0.0 in labels with no predicted samples.\n",
      "  'precision', 'predicted', average, warn_for)\n",
      "/Users/jjaskolkambp/anaconda3/lib/python3.6/site-packages/sklearn/metrics/classification.py:1135: UndefinedMetricWarning: F-score is ill-defined and being set to 0.0 in labels with no predicted samples.\n",
      "  'precision', 'predicted', average, warn_for)\n",
      "/Users/jjaskolkambp/anaconda3/lib/python3.6/site-packages/sklearn/metrics/classification.py:1135: UndefinedMetricWarning: Precision is ill-defined and being set to 0.0 in labels with no predicted samples.\n",
      "  'precision', 'predicted', average, warn_for)\n",
      "/Users/jjaskolkambp/anaconda3/lib/python3.6/site-packages/sklearn/metrics/classification.py:1135: UndefinedMetricWarning: F-score is ill-defined and being set to 0.0 in labels with no predicted samples.\n",
      "  'precision', 'predicted', average, warn_for)\n",
      "/Users/jjaskolkambp/anaconda3/lib/python3.6/site-packages/sklearn/metrics/classification.py:1135: UndefinedMetricWarning: F-score is ill-defined and being set to 0.0 in labels with no predicted samples.\n",
      "  'precision', 'predicted', average, warn_for)\n",
      "/Users/jjaskolkambp/anaconda3/lib/python3.6/site-packages/sklearn/metrics/classification.py:1135: UndefinedMetricWarning: Precision is ill-defined and being set to 0.0 in labels with no predicted samples.\n",
      "  'precision', 'predicted', average, warn_for)\n",
      "/Users/jjaskolkambp/anaconda3/lib/python3.6/site-packages/sklearn/metrics/classification.py:1135: UndefinedMetricWarning: F-score is ill-defined and being set to 0.0 in labels with no predicted samples.\n",
      "  'precision', 'predicted', average, warn_for)\n",
      "/Users/jjaskolkambp/anaconda3/lib/python3.6/site-packages/sklearn/metrics/classification.py:1135: UndefinedMetricWarning: F-score is ill-defined and being set to 0.0 in labels with no predicted samples.\n",
      "  'precision', 'predicted', average, warn_for)\n",
      "/Users/jjaskolkambp/anaconda3/lib/python3.6/site-packages/sklearn/metrics/classification.py:1135: UndefinedMetricWarning: Precision is ill-defined and being set to 0.0 in labels with no predicted samples.\n",
      "  'precision', 'predicted', average, warn_for)\n"
     ]
    },
    {
     "data": {
      "text/html": [
       "<div>\n",
       "<style scoped>\n",
       "    .dataframe tbody tr th:only-of-type {\n",
       "        vertical-align: middle;\n",
       "    }\n",
       "\n",
       "    .dataframe tbody tr th {\n",
       "        vertical-align: top;\n",
       "    }\n",
       "\n",
       "    .dataframe thead th {\n",
       "        text-align: right;\n",
       "    }\n",
       "</style>\n",
       "<table border=\"1\" class=\"dataframe\">\n",
       "  <thead>\n",
       "    <tr style=\"text-align: right;\">\n",
       "      <th></th>\n",
       "      <th>admission_threshold</th>\n",
       "      <th>weighted f1</th>\n",
       "      <th>f1</th>\n",
       "      <th>accuracy</th>\n",
       "      <th>precision</th>\n",
       "      <th>recall</th>\n",
       "      <th>admission sensitivity</th>\n",
       "      <th>admission specificity</th>\n",
       "    </tr>\n",
       "  </thead>\n",
       "  <tbody>\n",
       "    <tr>\n",
       "      <th>0</th>\n",
       "      <td>0.01</td>\n",
       "      <td>0.018563</td>\n",
       "      <td>[0.1783487208866756, 0.0012320878532208384]</td>\n",
       "      <td>0.0984066</td>\n",
       "      <td>[0.09790497387265337, 1.0]</td>\n",
       "      <td>[1.0, 0.0006164236706689537]</td>\n",
       "      <td>1</td>\n",
       "      <td>0.000616424</td>\n",
       "    </tr>\n",
       "    <tr>\n",
       "      <th>1</th>\n",
       "      <td>0.05</td>\n",
       "      <td>0.341518</td>\n",
       "      <td>[0.20795255425259468, 0.35600464677903687]</td>\n",
       "      <td>0.28961</td>\n",
       "      <td>[0.11670902929072864, 0.9771387318012272]</td>\n",
       "      <td>[0.9530516431924883, 0.2176511578044597]</td>\n",
       "      <td>0.953052</td>\n",
       "      <td>0.217651</td>\n",
       "    </tr>\n",
       "    <tr>\n",
       "      <th>2</th>\n",
       "      <td>0.1</td>\n",
       "      <td>0.710536</td>\n",
       "      <td>[0.26323276919303407, 0.7590521874448526]</td>\n",
       "      <td>0.636863</td>\n",
       "      <td>[0.16421838658342514, 0.9454857919347748]</td>\n",
       "      <td>[0.662960217445021, 0.6340319468267581]</td>\n",
       "      <td>0.66296</td>\n",
       "      <td>0.634032</td>\n",
       "    </tr>\n",
       "    <tr>\n",
       "      <th>3</th>\n",
       "      <td>0.2</td>\n",
       "      <td>0.86172</td>\n",
       "      <td>[0.21956326652707148, 0.9313710016835016]</td>\n",
       "      <td>0.873836</td>\n",
       "      <td>[0.27813565744600227, 0.9144369834710744]</td>\n",
       "      <td>[0.18136891524586113, 0.9489440394511149]</td>\n",
       "      <td>0.181369</td>\n",
       "      <td>0.948944</td>\n",
       "    </tr>\n",
       "    <tr>\n",
       "      <th>4</th>\n",
       "      <td>0.3</td>\n",
       "      <td>0.862452</td>\n",
       "      <td>[0.10046237915090374, 0.9451000513083633]</td>\n",
       "      <td>0.896516</td>\n",
       "      <td>[0.3361462728551336, 0.9063176540051171]</td>\n",
       "      <td>[0.059056090931554235, 0.9873499142367067]</td>\n",
       "      <td>0.0590561</td>\n",
       "      <td>0.98735</td>\n",
       "    </tr>\n",
       "    <tr>\n",
       "      <th>5</th>\n",
       "      <td>0.4</td>\n",
       "      <td>0.858771</td>\n",
       "      <td>[0.037620503174229956, 0.9478366150512968]</td>\n",
       "      <td>0.901037</td>\n",
       "      <td>[0.3883495145631068, 0.9036036254951036]</td>\n",
       "      <td>[0.019767729182110207, 0.9966230703259005]</td>\n",
       "      <td>0.0197677</td>\n",
       "      <td>0.996623</td>\n",
       "    </tr>\n",
       "    <tr>\n",
       "      <th>6</th>\n",
       "      <td>0.5</td>\n",
       "      <td>0.856907</td>\n",
       "      <td>[0.013612056392805057, 0.9483741285430767]</td>\n",
       "      <td>0.901884</td>\n",
       "      <td>[0.417910447761194, 0.9026687978300881]</td>\n",
       "      <td>[0.006918705213738572, 0.9989547598627787]</td>\n",
       "      <td>0.00691871</td>\n",
       "      <td>0.998955</td>\n",
       "    </tr>\n",
       "    <tr>\n",
       "      <th>7</th>\n",
       "      <td>0.6</td>\n",
       "      <td>0.855976</td>\n",
       "      <td>[0.002464875523786049, 0.9485513787010081]</td>\n",
       "      <td>0.902149</td>\n",
       "      <td>[0.5, 0.9022467290623715]</td>\n",
       "      <td>[0.001235483073881888, 0.9998659948542024]</td>\n",
       "      <td>0.00123548</td>\n",
       "      <td>0.999866</td>\n",
       "    </tr>\n",
       "    <tr>\n",
       "      <th>8</th>\n",
       "      <td>0.7</td>\n",
       "      <td>0.855741</td>\n",
       "      <td>[0.0, 0.948557918419748]</td>\n",
       "      <td>0.902149</td>\n",
       "      <td>[0.0, 0.9021494716990256]</td>\n",
       "      <td>[0.0, 1.0]</td>\n",
       "      <td>0</td>\n",
       "      <td>1</td>\n",
       "    </tr>\n",
       "    <tr>\n",
       "      <th>9</th>\n",
       "      <td>0.8</td>\n",
       "      <td>0.855741</td>\n",
       "      <td>[0.0, 0.948557918419748]</td>\n",
       "      <td>0.902149</td>\n",
       "      <td>[0.0, 0.9021494716990256]</td>\n",
       "      <td>[0.0, 1.0]</td>\n",
       "      <td>0</td>\n",
       "      <td>1</td>\n",
       "    </tr>\n",
       "    <tr>\n",
       "      <th>10</th>\n",
       "      <td>0.9</td>\n",
       "      <td>0.855741</td>\n",
       "      <td>[0.0, 0.948557918419748]</td>\n",
       "      <td>0.902149</td>\n",
       "      <td>[0.0, 0.9021494716990256]</td>\n",
       "      <td>[0.0, 1.0]</td>\n",
       "      <td>0</td>\n",
       "      <td>1</td>\n",
       "    </tr>\n",
       "  </tbody>\n",
       "</table>\n",
       "</div>"
      ],
      "text/plain": [
       "   admission_threshold weighted f1  \\\n",
       "0                 0.01    0.018563   \n",
       "1                 0.05    0.341518   \n",
       "2                  0.1    0.710536   \n",
       "3                  0.2     0.86172   \n",
       "4                  0.3    0.862452   \n",
       "5                  0.4    0.858771   \n",
       "6                  0.5    0.856907   \n",
       "7                  0.6    0.855976   \n",
       "8                  0.7    0.855741   \n",
       "9                  0.8    0.855741   \n",
       "10                 0.9    0.855741   \n",
       "\n",
       "                                             f1   accuracy  \\\n",
       "0   [0.1783487208866756, 0.0012320878532208384]  0.0984066   \n",
       "1    [0.20795255425259468, 0.35600464677903687]    0.28961   \n",
       "2     [0.26323276919303407, 0.7590521874448526]   0.636863   \n",
       "3     [0.21956326652707148, 0.9313710016835016]   0.873836   \n",
       "4     [0.10046237915090374, 0.9451000513083633]   0.896516   \n",
       "5    [0.037620503174229956, 0.9478366150512968]   0.901037   \n",
       "6    [0.013612056392805057, 0.9483741285430767]   0.901884   \n",
       "7    [0.002464875523786049, 0.9485513787010081]   0.902149   \n",
       "8                      [0.0, 0.948557918419748]   0.902149   \n",
       "9                      [0.0, 0.948557918419748]   0.902149   \n",
       "10                     [0.0, 0.948557918419748]   0.902149   \n",
       "\n",
       "                                    precision  \\\n",
       "0                  [0.09790497387265337, 1.0]   \n",
       "1   [0.11670902929072864, 0.9771387318012272]   \n",
       "2   [0.16421838658342514, 0.9454857919347748]   \n",
       "3   [0.27813565744600227, 0.9144369834710744]   \n",
       "4    [0.3361462728551336, 0.9063176540051171]   \n",
       "5    [0.3883495145631068, 0.9036036254951036]   \n",
       "6     [0.417910447761194, 0.9026687978300881]   \n",
       "7                   [0.5, 0.9022467290623715]   \n",
       "8                   [0.0, 0.9021494716990256]   \n",
       "9                   [0.0, 0.9021494716990256]   \n",
       "10                  [0.0, 0.9021494716990256]   \n",
       "\n",
       "                                        recall admission sensitivity  \\\n",
       "0                 [1.0, 0.0006164236706689537]                     1   \n",
       "1     [0.9530516431924883, 0.2176511578044597]              0.953052   \n",
       "2      [0.662960217445021, 0.6340319468267581]               0.66296   \n",
       "3    [0.18136891524586113, 0.9489440394511149]              0.181369   \n",
       "4   [0.059056090931554235, 0.9873499142367067]             0.0590561   \n",
       "5   [0.019767729182110207, 0.9966230703259005]             0.0197677   \n",
       "6   [0.006918705213738572, 0.9989547598627787]            0.00691871   \n",
       "7   [0.001235483073881888, 0.9998659948542024]            0.00123548   \n",
       "8                                   [0.0, 1.0]                     0   \n",
       "9                                   [0.0, 1.0]                     0   \n",
       "10                                  [0.0, 1.0]                     0   \n",
       "\n",
       "   admission specificity  \n",
       "0            0.000616424  \n",
       "1               0.217651  \n",
       "2               0.634032  \n",
       "3               0.948944  \n",
       "4                0.98735  \n",
       "5               0.996623  \n",
       "6               0.998955  \n",
       "7               0.999866  \n",
       "8                      1  \n",
       "9                      1  \n",
       "10                     1  "
      ]
     },
     "execution_count": 85,
     "metadata": {},
     "output_type": "execute_result"
    }
   ],
   "source": [
    "thresholding_analysis(predictions, y_test)"
   ]
  },
  {
   "cell_type": "markdown",
   "metadata": {},
   "source": [
    "#### now we are going to try with an empiric class penality"
   ]
  },
  {
   "cell_type": "code",
   "execution_count": 150,
   "metadata": {},
   "outputs": [
    {
     "name": "stdout",
     "output_type": "stream",
     "text": [
      "CPU times: user 11min 26s, sys: 4.21 s, total: 11min 30s\n",
      "Wall time: 11min 45s\n"
     ]
    },
    {
     "data": {
      "text/plain": [
       "XGBClassifier(base_score=0.5, booster='gbtree', colsample_bylevel=1,\n",
       "       colsample_bynode=1, colsample_bytree=1, gamma=0, learning_rate=0.1,\n",
       "       max_delta_step=0, max_depth=3, min_child_weight=1, missing=None,\n",
       "       n_estimators=100, n_jobs=1, nthread=None,\n",
       "       objective='binary:logistic', random_state=0, reg_alpha=0,\n",
       "       reg_lambda=1, scale_pos_weight=0.1111111111111111, seed=None,\n",
       "       silent=None, subsample=1, verbosity=1)"
      ]
     },
     "execution_count": 150,
     "metadata": {},
     "output_type": "execute_result"
    }
   ],
   "source": [
    "xgc = xgb.XGBClassifier(scale_pos_weight=1/9)\n",
    "\n",
    "%time xgc.fit(X_train, y_train)"
   ]
  },
  {
   "cell_type": "code",
   "execution_count": 151,
   "metadata": {},
   "outputs": [
    {
     "name": "stderr",
     "output_type": "stream",
     "text": [
      "/Users/jjaskolkambp/anaconda3/lib/python3.6/site-packages/sklearn/preprocessing/label.py:151: DeprecationWarning: The truth value of an empty array is ambiguous. Returning False, but in future this will result in an error. Use `array.size > 0` to check that an array is not empty.\n",
      "  if diff:\n"
     ]
    }
   ],
   "source": [
    "preds = xgc.predict(X_test)\n",
    "predictions = xgc.predict_proba(X_test)"
   ]
  },
  {
   "cell_type": "code",
   "execution_count": 152,
   "metadata": {
    "scrolled": true
   },
   "outputs": [
    {
     "name": "stdout",
     "output_type": "stream",
     "text": [
      "weighted f1:  0.7358339767372062\n",
      "f1:           [0.28169458 0.78509165]\n",
      "accuracy:     0.669165115210716\n",
      "precision:    [0.17884282 0.94824904]\n",
      "recall:       [0.66296022 0.66983812]\n",
      "admission sens:  0.662960217445021\n",
      "admission spec:  0.6698381217838765\n"
     ]
    }
   ],
   "source": [
    "f1_w, f1, acc, prec, rec = get_metrics(y_test, preds, print_output=True)"
   ]
  },
  {
   "cell_type": "code",
   "execution_count": 153,
   "metadata": {},
   "outputs": [
    {
     "data": {
      "image/png": "[encoded data removed]",
      "text/plain": [
       "<Figure size 216x216 with 2 Axes>"
      ]
     },
     "metadata": {},
     "output_type": "display_data"
    }
   ],
   "source": [
    "show_confusion_matrix(y_test, preds, LABELS)"
   ]
  },
  {
   "cell_type": "code",
   "execution_count": 154,
   "metadata": {
    "scrolled": true
   },
   "outputs": [
    {
     "name": "stderr",
     "output_type": "stream",
     "text": [
      "/Users/jjaskolkambp/anaconda3/lib/python3.6/site-packages/sklearn/metrics/classification.py:1135: UndefinedMetricWarning: F-score is ill-defined and being set to 0.0 in labels with no predicted samples.\n",
      "  'precision', 'predicted', average, warn_for)\n",
      "/Users/jjaskolkambp/anaconda3/lib/python3.6/site-packages/sklearn/metrics/classification.py:1135: UndefinedMetricWarning: F-score is ill-defined and being set to 0.0 in labels with no predicted samples.\n",
      "  'precision', 'predicted', average, warn_for)\n",
      "/Users/jjaskolkambp/anaconda3/lib/python3.6/site-packages/sklearn/metrics/classification.py:1135: UndefinedMetricWarning: Precision is ill-defined and being set to 0.0 in labels with no predicted samples.\n",
      "  'precision', 'predicted', average, warn_for)\n"
     ]
    },
    {
     "data": {
      "text/html": [
       "<div>\n",
       "<style scoped>\n",
       "    .dataframe tbody tr th:only-of-type {\n",
       "        vertical-align: middle;\n",
       "    }\n",
       "\n",
       "    .dataframe tbody tr th {\n",
       "        vertical-align: top;\n",
       "    }\n",
       "\n",
       "    .dataframe thead th {\n",
       "        text-align: right;\n",
       "    }\n",
       "</style>\n",
       "<table border=\"1\" class=\"dataframe\">\n",
       "  <thead>\n",
       "    <tr style=\"text-align: right;\">\n",
       "      <th></th>\n",
       "      <th>admission_threshold</th>\n",
       "      <th>weighted f1</th>\n",
       "      <th>f1</th>\n",
       "      <th>accuracy</th>\n",
       "      <th>precision</th>\n",
       "      <th>recall</th>\n",
       "      <th>admission sensitivity</th>\n",
       "      <th>admission specificity</th>\n",
       "    </tr>\n",
       "  </thead>\n",
       "  <tbody>\n",
       "    <tr>\n",
       "      <th>0</th>\n",
       "      <td>0.01</td>\n",
       "      <td>0.0174427</td>\n",
       "      <td>[0.17825837994978638, 0.0]</td>\n",
       "      <td>0.0978505</td>\n",
       "      <td>[0.09785052830097439, 0.0]</td>\n",
       "      <td>[1.0, 0.0]</td>\n",
       "      <td>1</td>\n",
       "      <td>0</td>\n",
       "    </tr>\n",
       "    <tr>\n",
       "      <th>1</th>\n",
       "      <td>0.05</td>\n",
       "      <td>0.0187091</td>\n",
       "      <td>[0.17836051123843102, 0.0013926830574749584]</td>\n",
       "      <td>0.0984792</td>\n",
       "      <td>[0.09791207993612852, 1.0]</td>\n",
       "      <td>[1.0, 0.0006968267581475129]</td>\n",
       "      <td>1</td>\n",
       "      <td>0.000696827</td>\n",
       "    </tr>\n",
       "    <tr>\n",
       "      <th>2</th>\n",
       "      <td>0.1</td>\n",
       "      <td>0.0499213</td>\n",
       "      <td>[0.18067978533094814, 0.035738723090688984]</td>\n",
       "      <td>0.114099</td>\n",
       "      <td>[0.09932879305681902, 0.9897959183673469]</td>\n",
       "      <td>[0.9982703236965653, 0.018197898799313893]</td>\n",
       "      <td>0.99827</td>\n",
       "      <td>0.0181979</td>\n",
       "    </tr>\n",
       "    <tr>\n",
       "      <th>3</th>\n",
       "      <td>0.2</td>\n",
       "      <td>0.200174</td>\n",
       "      <td>[0.1940120923682102, 0.2008426628144938]</td>\n",
       "      <td>0.197442</td>\n",
       "      <td>[0.10757755277897459, 0.9876864788065356]</td>\n",
       "      <td>[0.9871509760316284, 0.11178709262435678]</td>\n",
       "      <td>0.987151</td>\n",
       "      <td>0.111787</td>\n",
       "    </tr>\n",
       "    <tr>\n",
       "      <th>4</th>\n",
       "      <td>0.3</td>\n",
       "      <td>0.370156</td>\n",
       "      <td>[0.21283177286160135, 0.3872202274730709]</td>\n",
       "      <td>0.310888</td>\n",
       "      <td>[0.11980721393034825, 0.9789107511686053]</td>\n",
       "      <td>[0.9520632567333828, 0.24134326758147512]</td>\n",
       "      <td>0.952063</td>\n",
       "      <td>0.241343</td>\n",
       "    </tr>\n",
       "    <tr>\n",
       "      <th>5</th>\n",
       "      <td>0.4</td>\n",
       "      <td>0.559031</td>\n",
       "      <td>[0.2428121648271806, 0.5933289974914058]</td>\n",
       "      <td>0.470853</td>\n",
       "      <td>[0.1411731573865465, 0.9673998666909047]</td>\n",
       "      <td>[0.8670620212503088, 0.4278784305317324]</td>\n",
       "      <td>0.867062</td>\n",
       "      <td>0.427878</td>\n",
       "    </tr>\n",
       "    <tr>\n",
       "      <th>6</th>\n",
       "      <td>0.5</td>\n",
       "      <td>0.735834</td>\n",
       "      <td>[0.2816945771431571, 0.7850916458559111]</td>\n",
       "      <td>0.669165</td>\n",
       "      <td>[0.17884282095720572, 0.9482490420002276]</td>\n",
       "      <td>[0.662960217445021, 0.6698381217838765]</td>\n",
       "      <td>0.66296</td>\n",
       "      <td>0.669838</td>\n",
       "    </tr>\n",
       "    <tr>\n",
       "      <th>7</th>\n",
       "      <td>0.6</td>\n",
       "      <td>0.836772</td>\n",
       "      <td>[0.2957351290684624, 0.8954544192374976]</td>\n",
       "      <td>0.817936</td>\n",
       "      <td>[0.23792325056433408, 0.9289623782911793]</td>\n",
       "      <td>[0.3906597479614529, 0.8642795883361921]</td>\n",
       "      <td>0.39066</td>\n",
       "      <td>0.86428</td>\n",
       "    </tr>\n",
       "    <tr>\n",
       "      <th>8</th>\n",
       "      <td>0.7</td>\n",
       "      <td>0.864684</td>\n",
       "      <td>[0.21349029589564109, 0.9353150512874189]</td>\n",
       "      <td>0.880461</td>\n",
       "      <td>[0.2996873604287628, 0.9137014314928426]</td>\n",
       "      <td>[0.16580182851494935, 0.9579759862778731]</td>\n",
       "      <td>0.165802</td>\n",
       "      <td>0.957976</td>\n",
       "    </tr>\n",
       "    <tr>\n",
       "      <th>9</th>\n",
       "      <td>0.8</td>\n",
       "      <td>0.860009</td>\n",
       "      <td>[0.05535224153705398, 0.9472851198529599]</td>\n",
       "      <td>0.900143</td>\n",
       "      <td>[0.3723076923076923, 0.9043232441390067]</td>\n",
       "      <td>[0.029898690387941684, 0.994532590051458]</td>\n",
       "      <td>0.0298987</td>\n",
       "      <td>0.994533</td>\n",
       "    </tr>\n",
       "    <tr>\n",
       "      <th>10</th>\n",
       "      <td>0.9</td>\n",
       "      <td>0.855717</td>\n",
       "      <td>[0.0, 0.948531187634265]</td>\n",
       "      <td>0.902101</td>\n",
       "      <td>[0.0, 0.9021447397054912]</td>\n",
       "      <td>[0.0, 0.9999463979416809]</td>\n",
       "      <td>0</td>\n",
       "      <td>0.999946</td>\n",
       "    </tr>\n",
       "  </tbody>\n",
       "</table>\n",
       "</div>"
      ],
      "text/plain": [
       "   admission_threshold weighted f1  \\\n",
       "0                 0.01   0.0174427   \n",
       "1                 0.05   0.0187091   \n",
       "2                  0.1   0.0499213   \n",
       "3                  0.2    0.200174   \n",
       "4                  0.3    0.370156   \n",
       "5                  0.4    0.559031   \n",
       "6                  0.5    0.735834   \n",
       "7                  0.6    0.836772   \n",
       "8                  0.7    0.864684   \n",
       "9                  0.8    0.860009   \n",
       "10                 0.9    0.855717   \n",
       "\n",
       "                                              f1   accuracy  \\\n",
       "0                     [0.17825837994978638, 0.0]  0.0978505   \n",
       "1   [0.17836051123843102, 0.0013926830574749584]  0.0984792   \n",
       "2    [0.18067978533094814, 0.035738723090688984]   0.114099   \n",
       "3       [0.1940120923682102, 0.2008426628144938]   0.197442   \n",
       "4      [0.21283177286160135, 0.3872202274730709]   0.310888   \n",
       "5       [0.2428121648271806, 0.5933289974914058]   0.470853   \n",
       "6       [0.2816945771431571, 0.7850916458559111]   0.669165   \n",
       "7       [0.2957351290684624, 0.8954544192374976]   0.817936   \n",
       "8      [0.21349029589564109, 0.9353150512874189]   0.880461   \n",
       "9      [0.05535224153705398, 0.9472851198529599]   0.900143   \n",
       "10                      [0.0, 0.948531187634265]   0.902101   \n",
       "\n",
       "                                    precision  \\\n",
       "0                  [0.09785052830097439, 0.0]   \n",
       "1                  [0.09791207993612852, 1.0]   \n",
       "2   [0.09932879305681902, 0.9897959183673469]   \n",
       "3   [0.10757755277897459, 0.9876864788065356]   \n",
       "4   [0.11980721393034825, 0.9789107511686053]   \n",
       "5    [0.1411731573865465, 0.9673998666909047]   \n",
       "6   [0.17884282095720572, 0.9482490420002276]   \n",
       "7   [0.23792325056433408, 0.9289623782911793]   \n",
       "8    [0.2996873604287628, 0.9137014314928426]   \n",
       "9    [0.3723076923076923, 0.9043232441390067]   \n",
       "10                  [0.0, 0.9021447397054912]   \n",
       "\n",
       "                                        recall admission sensitivity  \\\n",
       "0                                   [1.0, 0.0]                     1   \n",
       "1                 [1.0, 0.0006968267581475129]                     1   \n",
       "2   [0.9982703236965653, 0.018197898799313893]               0.99827   \n",
       "3    [0.9871509760316284, 0.11178709262435678]              0.987151   \n",
       "4    [0.9520632567333828, 0.24134326758147512]              0.952063   \n",
       "5     [0.8670620212503088, 0.4278784305317324]              0.867062   \n",
       "6      [0.662960217445021, 0.6698381217838765]               0.66296   \n",
       "7     [0.3906597479614529, 0.8642795883361921]               0.39066   \n",
       "8    [0.16580182851494935, 0.9579759862778731]              0.165802   \n",
       "9    [0.029898690387941684, 0.994532590051458]             0.0298987   \n",
       "10                   [0.0, 0.9999463979416809]                     0   \n",
       "\n",
       "   admission specificity  \n",
       "0                      0  \n",
       "1            0.000696827  \n",
       "2              0.0181979  \n",
       "3               0.111787  \n",
       "4               0.241343  \n",
       "5               0.427878  \n",
       "6               0.669838  \n",
       "7                0.86428  \n",
       "8               0.957976  \n",
       "9               0.994533  \n",
       "10              0.999946  "
      ]
     },
     "execution_count": 154,
     "metadata": {},
     "output_type": "execute_result"
    }
   ],
   "source": [
    "thresholding_analysis(predictions, y_test)"
   ]
  },
  {
   "cell_type": "markdown",
   "metadata": {},
   "source": [
    "### now we are going to repeat the process with medical history"
   ]
  },
  {
   "cell_type": "markdown",
   "metadata": {
    "heading_collapsed": true
   },
   "source": [
    "#### first we are going to train xgb without class penalties"
   ]
  },
  {
   "cell_type": "code",
   "execution_count": 109,
   "metadata": {
    "hidden": true
   },
   "outputs": [
    {
     "name": "stdout",
     "output_type": "stream",
     "text": [
      "CPU times: user 23.1 s, sys: 98.1 ms, total: 23.2 s\n",
      "Wall time: 23.3 s\n"
     ]
    },
    {
     "data": {
      "text/plain": [
       "XGBClassifier(base_score=0.5, booster='gbtree', colsample_bylevel=1,\n",
       "       colsample_bynode=1, colsample_bytree=1, gamma=0, learning_rate=0.1,\n",
       "       max_delta_step=0, max_depth=3, min_child_weight=1, missing=None,\n",
       "       n_estimators=100, n_jobs=1, nthread=None,\n",
       "       objective='binary:logistic', random_state=0, reg_alpha=0,\n",
       "       reg_lambda=1, scale_pos_weight=1, seed=None, silent=None,\n",
       "       subsample=1, verbosity=1)"
      ]
     },
     "execution_count": 109,
     "metadata": {},
     "output_type": "execute_result"
    }
   ],
   "source": [
    "xgc = xgb.XGBClassifier()\n",
    "\n",
    "%time xgc.fit(X_train[:10000], y_train[:10000])"
   ]
  },
  {
   "cell_type": "code",
   "execution_count": 110,
   "metadata": {
    "hidden": true,
    "scrolled": true
   },
   "outputs": [
    {
     "name": "stderr",
     "output_type": "stream",
     "text": [
      "/Users/jjaskolkambp/anaconda3/lib/python3.6/site-packages/sklearn/preprocessing/label.py:151: DeprecationWarning: The truth value of an empty array is ambiguous. Returning False, but in future this will result in an error. Use `array.size > 0` to check that an array is not empty.\n",
      "  if diff:\n"
     ]
    }
   ],
   "source": [
    "preds = xgc.predict(X_test)\n",
    "\n",
    "predictions = xgc.predict_proba(X_test)"
   ]
  },
  {
   "cell_type": "code",
   "execution_count": 111,
   "metadata": {
    "hidden": true
   },
   "outputs": [
    {
     "name": "stdout",
     "output_type": "stream",
     "text": [
      "weighted f1:  0.8561186427784707\n",
      "f1:           [0.01155235 0.94772348]\n",
      "accuracy:     0.9006987596411905\n",
      "precision:    [0.22222222 0.90247509]\n",
      "recall:       [0.00593032 0.99774871]\n",
      "admission sens:  0.005930318754633061\n",
      "admission spec:  0.9977487135506004\n"
     ]
    }
   ],
   "source": [
    "f1_w, f1, acc, prec, rec = get_metrics(y_test, preds, print_output=True)"
   ]
  },
  {
   "cell_type": "code",
   "execution_count": 112,
   "metadata": {
    "hidden": true
   },
   "outputs": [
    {
     "data": {
      "image/png": "[encoded data removed]",
      "text/plain": [
       "<Figure size 216x216 with 2 Axes>"
      ]
     },
     "metadata": {},
     "output_type": "display_data"
    }
   ],
   "source": [
    "show_confusion_matrix(y_test, preds, LABELS)"
   ]
  },
  {
   "cell_type": "code",
   "execution_count": 113,
   "metadata": {
    "hidden": true
   },
   "outputs": [
    {
     "name": "stderr",
     "output_type": "stream",
     "text": [
      "/Users/jjaskolkambp/anaconda3/lib/python3.6/site-packages/sklearn/metrics/classification.py:1135: UndefinedMetricWarning: F-score is ill-defined and being set to 0.0 in labels with no predicted samples.\n",
      "  'precision', 'predicted', average, warn_for)\n",
      "/Users/jjaskolkambp/anaconda3/lib/python3.6/site-packages/sklearn/metrics/classification.py:1135: UndefinedMetricWarning: F-score is ill-defined and being set to 0.0 in labels with no predicted samples.\n",
      "  'precision', 'predicted', average, warn_for)\n",
      "/Users/jjaskolkambp/anaconda3/lib/python3.6/site-packages/sklearn/metrics/classification.py:1135: UndefinedMetricWarning: Precision is ill-defined and being set to 0.0 in labels with no predicted samples.\n",
      "  'precision', 'predicted', average, warn_for)\n",
      "/Users/jjaskolkambp/anaconda3/lib/python3.6/site-packages/sklearn/metrics/classification.py:1135: UndefinedMetricWarning: F-score is ill-defined and being set to 0.0 in labels with no predicted samples.\n",
      "  'precision', 'predicted', average, warn_for)\n",
      "/Users/jjaskolkambp/anaconda3/lib/python3.6/site-packages/sklearn/metrics/classification.py:1135: UndefinedMetricWarning: F-score is ill-defined and being set to 0.0 in labels with no predicted samples.\n",
      "  'precision', 'predicted', average, warn_for)\n",
      "/Users/jjaskolkambp/anaconda3/lib/python3.6/site-packages/sklearn/metrics/classification.py:1135: UndefinedMetricWarning: Precision is ill-defined and being set to 0.0 in labels with no predicted samples.\n",
      "  'precision', 'predicted', average, warn_for)\n",
      "/Users/jjaskolkambp/anaconda3/lib/python3.6/site-packages/sklearn/metrics/classification.py:1135: UndefinedMetricWarning: F-score is ill-defined and being set to 0.0 in labels with no predicted samples.\n",
      "  'precision', 'predicted', average, warn_for)\n",
      "/Users/jjaskolkambp/anaconda3/lib/python3.6/site-packages/sklearn/metrics/classification.py:1135: UndefinedMetricWarning: F-score is ill-defined and being set to 0.0 in labels with no predicted samples.\n",
      "  'precision', 'predicted', average, warn_for)\n",
      "/Users/jjaskolkambp/anaconda3/lib/python3.6/site-packages/sklearn/metrics/classification.py:1135: UndefinedMetricWarning: Precision is ill-defined and being set to 0.0 in labels with no predicted samples.\n",
      "  'precision', 'predicted', average, warn_for)\n"
     ]
    },
    {
     "data": {
      "text/html": [
       "<div>\n",
       "<style scoped>\n",
       "    .dataframe tbody tr th:only-of-type {\n",
       "        vertical-align: middle;\n",
       "    }\n",
       "\n",
       "    .dataframe tbody tr th {\n",
       "        vertical-align: top;\n",
       "    }\n",
       "\n",
       "    .dataframe thead th {\n",
       "        text-align: right;\n",
       "    }\n",
       "</style>\n",
       "<table border=\"1\" class=\"dataframe\">\n",
       "  <thead>\n",
       "    <tr style=\"text-align: right;\">\n",
       "      <th></th>\n",
       "      <th>admission_threshold</th>\n",
       "      <th>weighted f1</th>\n",
       "      <th>f1</th>\n",
       "      <th>accuracy</th>\n",
       "      <th>precision</th>\n",
       "      <th>recall</th>\n",
       "      <th>admission sensitivity</th>\n",
       "      <th>admission specificity</th>\n",
       "    </tr>\n",
       "  </thead>\n",
       "  <tbody>\n",
       "    <tr>\n",
       "      <th>0</th>\n",
       "      <td>0.01</td>\n",
       "      <td>0.0174427</td>\n",
       "      <td>[0.17825837994978638, 0.0]</td>\n",
       "      <td>0.0978505</td>\n",
       "      <td>[0.09785052830097439, 0.0]</td>\n",
       "      <td>[1.0, 0.0]</td>\n",
       "      <td>1</td>\n",
       "      <td>0</td>\n",
       "    </tr>\n",
       "    <tr>\n",
       "      <th>1</th>\n",
       "      <td>0.05</td>\n",
       "      <td>0.0913627</td>\n",
       "      <td>[0.180915786103106, 0.08164939993845523]</td>\n",
       "      <td>0.134118</td>\n",
       "      <td>[0.09968494013862633, 0.9453681710213777]</td>\n",
       "      <td>[0.9772671114405732, 0.042667238421955404]</td>\n",
       "      <td>0.977267</td>\n",
       "      <td>0.0426672</td>\n",
       "    </tr>\n",
       "    <tr>\n",
       "      <th>2</th>\n",
       "      <td>0.1</td>\n",
       "      <td>0.74188</td>\n",
       "      <td>[0.268006148440931, 0.7932777278223931]</td>\n",
       "      <td>0.677603</td>\n",
       "      <td>[0.17227750723410262, 0.9409341669731519]</td>\n",
       "      <td>[0.6031628366691376, 0.6856775300171527]</td>\n",
       "      <td>0.603163</td>\n",
       "      <td>0.685678</td>\n",
       "    </tr>\n",
       "    <tr>\n",
       "      <th>3</th>\n",
       "      <td>0.2</td>\n",
       "      <td>0.851644</td>\n",
       "      <td>[0.2476538695917124, 0.9171553957027633]</td>\n",
       "      <td>0.850746</td>\n",
       "      <td>[0.24434824434824434, 0.9185236955995807]</td>\n",
       "      <td>[0.2510501606127996, 0.9157911663807891]</td>\n",
       "      <td>0.25105</td>\n",
       "      <td>0.915791</td>\n",
       "    </tr>\n",
       "    <tr>\n",
       "      <th>4</th>\n",
       "      <td>0.3</td>\n",
       "      <td>0.862387</td>\n",
       "      <td>[0.14682612695492178, 0.9399997412108743]</td>\n",
       "      <td>0.887884</td>\n",
       "      <td>[0.28746397694524495, 0.9087338320282204]</td>\n",
       "      <td>[0.09859154929577464, 0.9734937821612349]</td>\n",
       "      <td>0.0985915</td>\n",
       "      <td>0.973494</td>\n",
       "    </tr>\n",
       "    <tr>\n",
       "      <th>5</th>\n",
       "      <td>0.4</td>\n",
       "      <td>0.858594</td>\n",
       "      <td>[0.054812834224598934, 0.9457752780263327]</td>\n",
       "      <td>0.897435</td>\n",
       "      <td>[0.2789115646258503, 0.9041008846962217]</td>\n",
       "      <td>[0.03039288361749444, 0.9914772727272727]</td>\n",
       "      <td>0.0303929</td>\n",
       "      <td>0.991477</td>\n",
       "    </tr>\n",
       "    <tr>\n",
       "      <th>6</th>\n",
       "      <td>0.5</td>\n",
       "      <td>0.856119</td>\n",
       "      <td>[0.011552346570397111, 0.9477234830645469]</td>\n",
       "      <td>0.900699</td>\n",
       "      <td>[0.2222222222222222, 0.902475091512933]</td>\n",
       "      <td>[0.005930318754633061, 0.9977487135506004]</td>\n",
       "      <td>0.00593032</td>\n",
       "      <td>0.997749</td>\n",
       "    </tr>\n",
       "    <tr>\n",
       "      <th>7</th>\n",
       "      <td>0.6</td>\n",
       "      <td>0.855955</td>\n",
       "      <td>[0.004892367906066537, 0.9482640213658908]</td>\n",
       "      <td>0.901642</td>\n",
       "      <td>[0.24390243902439024, 0.9022943995353114]</td>\n",
       "      <td>[0.002470966147763776, 0.9991691680960549]</td>\n",
       "      <td>0.00247097</td>\n",
       "      <td>0.999169</td>\n",
       "    </tr>\n",
       "    <tr>\n",
       "      <th>8</th>\n",
       "      <td>0.7</td>\n",
       "      <td>0.855713</td>\n",
       "      <td>[0.0014752889107450208, 0.9483668357681402]</td>\n",
       "      <td>0.901811</td>\n",
       "      <td>[0.15, 0.9021747018553908]</td>\n",
       "      <td>[0.0007412898443291327, 0.9995443825042881]</td>\n",
       "      <td>0.00074129</td>\n",
       "      <td>0.999544</td>\n",
       "    </tr>\n",
       "    <tr>\n",
       "      <th>9</th>\n",
       "      <td>0.8</td>\n",
       "      <td>0.855741</td>\n",
       "      <td>[0.0, 0.948557918419748]</td>\n",
       "      <td>0.902149</td>\n",
       "      <td>[0.0, 0.9021494716990256]</td>\n",
       "      <td>[0.0, 1.0]</td>\n",
       "      <td>0</td>\n",
       "      <td>1</td>\n",
       "    </tr>\n",
       "    <tr>\n",
       "      <th>10</th>\n",
       "      <td>0.9</td>\n",
       "      <td>0.855741</td>\n",
       "      <td>[0.0, 0.948557918419748]</td>\n",
       "      <td>0.902149</td>\n",
       "      <td>[0.0, 0.9021494716990256]</td>\n",
       "      <td>[0.0, 1.0]</td>\n",
       "      <td>0</td>\n",
       "      <td>1</td>\n",
       "    </tr>\n",
       "  </tbody>\n",
       "</table>\n",
       "</div>"
      ],
      "text/plain": [
       "   admission_threshold weighted f1  \\\n",
       "0                 0.01   0.0174427   \n",
       "1                 0.05   0.0913627   \n",
       "2                  0.1     0.74188   \n",
       "3                  0.2    0.851644   \n",
       "4                  0.3    0.862387   \n",
       "5                  0.4    0.858594   \n",
       "6                  0.5    0.856119   \n",
       "7                  0.6    0.855955   \n",
       "8                  0.7    0.855713   \n",
       "9                  0.8    0.855741   \n",
       "10                 0.9    0.855741   \n",
       "\n",
       "                                             f1   accuracy  \\\n",
       "0                    [0.17825837994978638, 0.0]  0.0978505   \n",
       "1      [0.180915786103106, 0.08164939993845523]   0.134118   \n",
       "2       [0.268006148440931, 0.7932777278223931]   0.677603   \n",
       "3      [0.2476538695917124, 0.9171553957027633]   0.850746   \n",
       "4     [0.14682612695492178, 0.9399997412108743]   0.887884   \n",
       "5    [0.054812834224598934, 0.9457752780263327]   0.897435   \n",
       "6    [0.011552346570397111, 0.9477234830645469]   0.900699   \n",
       "7    [0.004892367906066537, 0.9482640213658908]   0.901642   \n",
       "8   [0.0014752889107450208, 0.9483668357681402]   0.901811   \n",
       "9                      [0.0, 0.948557918419748]   0.902149   \n",
       "10                     [0.0, 0.948557918419748]   0.902149   \n",
       "\n",
       "                                    precision  \\\n",
       "0                  [0.09785052830097439, 0.0]   \n",
       "1   [0.09968494013862633, 0.9453681710213777]   \n",
       "2   [0.17227750723410262, 0.9409341669731519]   \n",
       "3   [0.24434824434824434, 0.9185236955995807]   \n",
       "4   [0.28746397694524495, 0.9087338320282204]   \n",
       "5    [0.2789115646258503, 0.9041008846962217]   \n",
       "6     [0.2222222222222222, 0.902475091512933]   \n",
       "7   [0.24390243902439024, 0.9022943995353114]   \n",
       "8                  [0.15, 0.9021747018553908]   \n",
       "9                   [0.0, 0.9021494716990256]   \n",
       "10                  [0.0, 0.9021494716990256]   \n",
       "\n",
       "                                         recall admission sensitivity  \\\n",
       "0                                    [1.0, 0.0]                     1   \n",
       "1    [0.9772671114405732, 0.042667238421955404]              0.977267   \n",
       "2      [0.6031628366691376, 0.6856775300171527]              0.603163   \n",
       "3      [0.2510501606127996, 0.9157911663807891]               0.25105   \n",
       "4     [0.09859154929577464, 0.9734937821612349]             0.0985915   \n",
       "5     [0.03039288361749444, 0.9914772727272727]             0.0303929   \n",
       "6    [0.005930318754633061, 0.9977487135506004]            0.00593032   \n",
       "7    [0.002470966147763776, 0.9991691680960549]            0.00247097   \n",
       "8   [0.0007412898443291327, 0.9995443825042881]            0.00074129   \n",
       "9                                    [0.0, 1.0]                     0   \n",
       "10                                   [0.0, 1.0]                     0   \n",
       "\n",
       "   admission specificity  \n",
       "0                      0  \n",
       "1              0.0426672  \n",
       "2               0.685678  \n",
       "3               0.915791  \n",
       "4               0.973494  \n",
       "5               0.991477  \n",
       "6               0.997749  \n",
       "7               0.999169  \n",
       "8               0.999544  \n",
       "9                      1  \n",
       "10                     1  "
      ]
     },
     "execution_count": 113,
     "metadata": {},
     "output_type": "execute_result"
    }
   ],
   "source": [
    "thresholding_analysis(predictions, y_test)"
   ]
  },
  {
   "cell_type": "markdown",
   "metadata": {},
   "source": [
    "#### now we are going to try with an empiric class penality"
   ]
  },
  {
   "cell_type": "code",
   "execution_count": 165,
   "metadata": {},
   "outputs": [],
   "source": [
    "X_train2, X_test2, y_train2, y_test2 = train_test_split(medhx, target, random_state=1)"
   ]
  },
  {
   "cell_type": "code",
   "execution_count": 170,
   "metadata": {},
   "outputs": [
    {
     "data": {
      "text/plain": [
       "({True}, {True})"
      ]
     },
     "execution_count": 170,
     "metadata": {},
     "output_type": "execute_result"
    }
   ],
   "source": [
    "set(y_train2 == y_train), set(y_test ==  y_test2)"
   ]
  },
  {
   "cell_type": "code",
   "execution_count": 171,
   "metadata": {},
   "outputs": [
    {
     "name": "stdout",
     "output_type": "stream",
     "text": [
      "CPU times: user 5min 12s, sys: 2.61 s, total: 5min 15s\n",
      "Wall time: 5min 21s\n"
     ]
    },
    {
     "data": {
      "text/plain": [
       "XGBClassifier(base_score=0.5, booster='gbtree', colsample_bylevel=1,\n",
       "       colsample_bynode=1, colsample_bytree=1, gamma=0, learning_rate=0.1,\n",
       "       max_delta_step=0, max_depth=3, min_child_weight=1, missing=None,\n",
       "       n_estimators=100, n_jobs=1, nthread=None,\n",
       "       objective='binary:logistic', random_state=0, reg_alpha=0,\n",
       "       reg_lambda=1, scale_pos_weight=0.1111111111111111, seed=None,\n",
       "       silent=None, subsample=1, verbosity=1)"
      ]
     },
     "execution_count": 171,
     "metadata": {},
     "output_type": "execute_result"
    }
   ],
   "source": [
    "xgc2 = xgb.XGBClassifier(scale_pos_weight=1/9)\n",
    "\n",
    "%time xgc2.fit(X_train2, y_train)"
   ]
  },
  {
   "cell_type": "code",
   "execution_count": 172,
   "metadata": {},
   "outputs": [
    {
     "name": "stderr",
     "output_type": "stream",
     "text": [
      "/Users/jjaskolkambp/anaconda3/lib/python3.6/site-packages/sklearn/preprocessing/label.py:151: DeprecationWarning: The truth value of an empty array is ambiguous. Returning False, but in future this will result in an error. Use `array.size > 0` to check that an array is not empty.\n",
      "  if diff:\n"
     ]
    }
   ],
   "source": [
    "preds2 = xgc2.predict(X_test2)\n",
    "predictions2 = xgc2.predict_proba(X_test2)"
   ]
  },
  {
   "cell_type": "code",
   "execution_count": 173,
   "metadata": {
    "scrolled": true
   },
   "outputs": [
    {
     "name": "stdout",
     "output_type": "stream",
     "text": [
      "weighted f1:  0.7382562301967925\n",
      "f1:           [0.2735758  0.78865722]\n",
      "accuracy:     0.6725742885466283\n",
      "precision:    [0.17471737 0.94406666]\n",
      "recall:       [0.63009637 0.6771816 ]\n",
      "admission sens:  0.6300963676797627\n",
      "admission spec:  0.6771816037735849\n"
     ]
    }
   ],
   "source": [
    "f1_w, f1, acc, prec, rec = get_metrics(y_test, preds2, print_output=True)"
   ]
  },
  {
   "cell_type": "code",
   "execution_count": 174,
   "metadata": {},
   "outputs": [
    {
     "data": {
      "image/png": "[encoded data removed]",
      "text/plain": [
       "<Figure size 216x216 with 2 Axes>"
      ]
     },
     "metadata": {},
     "output_type": "display_data"
    }
   ],
   "source": [
    "show_confusion_matrix(y_test, preds2, LABELS)"
   ]
  },
  {
   "cell_type": "code",
   "execution_count": 175,
   "metadata": {
    "scrolled": false
   },
   "outputs": [
    {
     "name": "stderr",
     "output_type": "stream",
     "text": [
      "/Users/jjaskolkambp/anaconda3/lib/python3.6/site-packages/sklearn/metrics/classification.py:1135: UndefinedMetricWarning: F-score is ill-defined and being set to 0.0 in labels with no predicted samples.\n",
      "  'precision', 'predicted', average, warn_for)\n",
      "/Users/jjaskolkambp/anaconda3/lib/python3.6/site-packages/sklearn/metrics/classification.py:1135: UndefinedMetricWarning: F-score is ill-defined and being set to 0.0 in labels with no predicted samples.\n",
      "  'precision', 'predicted', average, warn_for)\n",
      "/Users/jjaskolkambp/anaconda3/lib/python3.6/site-packages/sklearn/metrics/classification.py:1135: UndefinedMetricWarning: Precision is ill-defined and being set to 0.0 in labels with no predicted samples.\n",
      "  'precision', 'predicted', average, warn_for)\n",
      "/Users/jjaskolkambp/anaconda3/lib/python3.6/site-packages/sklearn/metrics/classification.py:1135: UndefinedMetricWarning: F-score is ill-defined and being set to 0.0 in labels with no predicted samples.\n",
      "  'precision', 'predicted', average, warn_for)\n",
      "/Users/jjaskolkambp/anaconda3/lib/python3.6/site-packages/sklearn/metrics/classification.py:1135: UndefinedMetricWarning: F-score is ill-defined and being set to 0.0 in labels with no predicted samples.\n",
      "  'precision', 'predicted', average, warn_for)\n",
      "/Users/jjaskolkambp/anaconda3/lib/python3.6/site-packages/sklearn/metrics/classification.py:1135: UndefinedMetricWarning: Precision is ill-defined and being set to 0.0 in labels with no predicted samples.\n",
      "  'precision', 'predicted', average, warn_for)\n",
      "/Users/jjaskolkambp/anaconda3/lib/python3.6/site-packages/sklearn/metrics/classification.py:1135: UndefinedMetricWarning: F-score is ill-defined and being set to 0.0 in labels with no predicted samples.\n",
      "  'precision', 'predicted', average, warn_for)\n",
      "/Users/jjaskolkambp/anaconda3/lib/python3.6/site-packages/sklearn/metrics/classification.py:1135: UndefinedMetricWarning: F-score is ill-defined and being set to 0.0 in labels with no predicted samples.\n",
      "  'precision', 'predicted', average, warn_for)\n",
      "/Users/jjaskolkambp/anaconda3/lib/python3.6/site-packages/sklearn/metrics/classification.py:1135: UndefinedMetricWarning: Precision is ill-defined and being set to 0.0 in labels with no predicted samples.\n",
      "  'precision', 'predicted', average, warn_for)\n",
      "/Users/jjaskolkambp/anaconda3/lib/python3.6/site-packages/sklearn/metrics/classification.py:1135: UndefinedMetricWarning: F-score is ill-defined and being set to 0.0 in labels with no predicted samples.\n",
      "  'precision', 'predicted', average, warn_for)\n",
      "/Users/jjaskolkambp/anaconda3/lib/python3.6/site-packages/sklearn/metrics/classification.py:1135: UndefinedMetricWarning: F-score is ill-defined and being set to 0.0 in labels with no predicted samples.\n",
      "  'precision', 'predicted', average, warn_for)\n",
      "/Users/jjaskolkambp/anaconda3/lib/python3.6/site-packages/sklearn/metrics/classification.py:1135: UndefinedMetricWarning: Precision is ill-defined and being set to 0.0 in labels with no predicted samples.\n",
      "  'precision', 'predicted', average, warn_for)\n"
     ]
    },
    {
     "data": {
      "text/html": [
       "<div>\n",
       "<style scoped>\n",
       "    .dataframe tbody tr th:only-of-type {\n",
       "        vertical-align: middle;\n",
       "    }\n",
       "\n",
       "    .dataframe tbody tr th {\n",
       "        vertical-align: top;\n",
       "    }\n",
       "\n",
       "    .dataframe thead th {\n",
       "        text-align: right;\n",
       "    }\n",
       "</style>\n",
       "<table border=\"1\" class=\"dataframe\">\n",
       "  <thead>\n",
       "    <tr style=\"text-align: right;\">\n",
       "      <th></th>\n",
       "      <th>admission_threshold</th>\n",
       "      <th>weighted f1</th>\n",
       "      <th>f1</th>\n",
       "      <th>accuracy</th>\n",
       "      <th>precision</th>\n",
       "      <th>recall</th>\n",
       "      <th>admission sensitivity</th>\n",
       "      <th>admission specificity</th>\n",
       "    </tr>\n",
       "  </thead>\n",
       "  <tbody>\n",
       "    <tr>\n",
       "      <th>0</th>\n",
       "      <td>0.01</td>\n",
       "      <td>0.0174427</td>\n",
       "      <td>[0.17825837994978638, 0.0]</td>\n",
       "      <td>0.0978505</td>\n",
       "      <td>[0.09785052830097439, 0.0]</td>\n",
       "      <td>[1.0, 0.0]</td>\n",
       "      <td>1</td>\n",
       "      <td>0</td>\n",
       "    </tr>\n",
       "    <tr>\n",
       "      <th>1</th>\n",
       "      <td>0.05</td>\n",
       "      <td>0.0174427</td>\n",
       "      <td>[0.17825837994978638, 0.0]</td>\n",
       "      <td>0.0978505</td>\n",
       "      <td>[0.09785052830097439, 0.0]</td>\n",
       "      <td>[1.0, 0.0]</td>\n",
       "      <td>1</td>\n",
       "      <td>0</td>\n",
       "    </tr>\n",
       "    <tr>\n",
       "      <th>2</th>\n",
       "      <td>0.1</td>\n",
       "      <td>0.0174427</td>\n",
       "      <td>[0.17825837994978638, 0.0]</td>\n",
       "      <td>0.0978505</td>\n",
       "      <td>[0.09785052830097439, 0.0]</td>\n",
       "      <td>[1.0, 0.0]</td>\n",
       "      <td>1</td>\n",
       "      <td>0</td>\n",
       "    </tr>\n",
       "    <tr>\n",
       "      <th>3</th>\n",
       "      <td>0.2</td>\n",
       "      <td>0.01793</td>\n",
       "      <td>[0.17829764736981232, 0.0005358769626493757]</td>\n",
       "      <td>0.0980923</td>\n",
       "      <td>[0.09787419284625988, 1.0]</td>\n",
       "      <td>[1.0, 0.00026801029159519727]</td>\n",
       "      <td>1</td>\n",
       "      <td>0.00026801</td>\n",
       "    </tr>\n",
       "    <tr>\n",
       "      <th>4</th>\n",
       "      <td>0.3</td>\n",
       "      <td>0.586613</td>\n",
       "      <td>[0.23719123359964817, 0.6245129167268004]</td>\n",
       "      <td>0.496748</td>\n",
       "      <td>[0.13924867679332156, 0.955242825607064]</td>\n",
       "      <td>[0.7996046454163578, 0.46389901372212694]</td>\n",
       "      <td>0.799605</td>\n",
       "      <td>0.463899</td>\n",
       "    </tr>\n",
       "    <tr>\n",
       "      <th>5</th>\n",
       "      <td>0.4</td>\n",
       "      <td>0.646507</td>\n",
       "      <td>[0.2509383378016086, 0.6894122073435603]</td>\n",
       "      <td>0.560894</td>\n",
       "      <td>[0.15060897118526587, 0.9525069703700203]</td>\n",
       "      <td>[0.7516679021497406, 0.5402015437392796]</td>\n",
       "      <td>0.751668</td>\n",
       "      <td>0.540202</td>\n",
       "    </tr>\n",
       "    <tr>\n",
       "      <th>6</th>\n",
       "      <td>0.5</td>\n",
       "      <td>0.738256</td>\n",
       "      <td>[0.27357579658834885, 0.7886572195517821]</td>\n",
       "      <td>0.672574</td>\n",
       "      <td>[0.1747173689619733, 0.9440666567030339]</td>\n",
       "      <td>[0.6300963676797627, 0.6771816037735849]</td>\n",
       "      <td>0.630096</td>\n",
       "      <td>0.677182</td>\n",
       "    </tr>\n",
       "    <tr>\n",
       "      <th>7</th>\n",
       "      <td>0.6</td>\n",
       "      <td>0.817183</td>\n",
       "      <td>[0.28613091380427735, 0.8747833006508086]</td>\n",
       "      <td>0.786939</td>\n",
       "      <td>[0.21284801735567072, 0.9310084084447402]</td>\n",
       "      <td>[0.4363726216950828, 0.8249624785591767]</td>\n",
       "      <td>0.436373</td>\n",
       "      <td>0.824962</td>\n",
       "    </tr>\n",
       "    <tr>\n",
       "      <th>8</th>\n",
       "      <td>0.7</td>\n",
       "      <td>0.860283</td>\n",
       "      <td>[0.2519536513069253, 0.9262643433914153]</td>\n",
       "      <td>0.865761</td>\n",
       "      <td>[0.277037037037037, 0.9180707666385847]</td>\n",
       "      <td>[0.231035334815913, 0.9346054888507719]</td>\n",
       "      <td>0.231035</td>\n",
       "      <td>0.934605</td>\n",
       "    </tr>\n",
       "    <tr>\n",
       "      <th>9</th>\n",
       "      <td>0.8</td>\n",
       "      <td>0.861893</td>\n",
       "      <td>[0.08625921109666233, 0.9460206903615692]</td>\n",
       "      <td>0.898063</td>\n",
       "      <td>[0.3509700176366843, 0.9056677779956854]</td>\n",
       "      <td>[0.049172226340499135, 0.9901372212692967]</td>\n",
       "      <td>0.0491722</td>\n",
       "      <td>0.990137</td>\n",
       "    </tr>\n",
       "    <tr>\n",
       "      <th>10</th>\n",
       "      <td>0.9</td>\n",
       "      <td>0.855741</td>\n",
       "      <td>[0.0, 0.948557918419748]</td>\n",
       "      <td>0.902149</td>\n",
       "      <td>[0.0, 0.9021494716990256]</td>\n",
       "      <td>[0.0, 1.0]</td>\n",
       "      <td>0</td>\n",
       "      <td>1</td>\n",
       "    </tr>\n",
       "  </tbody>\n",
       "</table>\n",
       "</div>"
      ],
      "text/plain": [
       "   admission_threshold weighted f1  \\\n",
       "0                 0.01   0.0174427   \n",
       "1                 0.05   0.0174427   \n",
       "2                  0.1   0.0174427   \n",
       "3                  0.2     0.01793   \n",
       "4                  0.3    0.586613   \n",
       "5                  0.4    0.646507   \n",
       "6                  0.5    0.738256   \n",
       "7                  0.6    0.817183   \n",
       "8                  0.7    0.860283   \n",
       "9                  0.8    0.861893   \n",
       "10                 0.9    0.855741   \n",
       "\n",
       "                                              f1   accuracy  \\\n",
       "0                     [0.17825837994978638, 0.0]  0.0978505   \n",
       "1                     [0.17825837994978638, 0.0]  0.0978505   \n",
       "2                     [0.17825837994978638, 0.0]  0.0978505   \n",
       "3   [0.17829764736981232, 0.0005358769626493757]  0.0980923   \n",
       "4      [0.23719123359964817, 0.6245129167268004]   0.496748   \n",
       "5       [0.2509383378016086, 0.6894122073435603]   0.560894   \n",
       "6      [0.27357579658834885, 0.7886572195517821]   0.672574   \n",
       "7      [0.28613091380427735, 0.8747833006508086]   0.786939   \n",
       "8       [0.2519536513069253, 0.9262643433914153]   0.865761   \n",
       "9      [0.08625921109666233, 0.9460206903615692]   0.898063   \n",
       "10                      [0.0, 0.948557918419748]   0.902149   \n",
       "\n",
       "                                    precision  \\\n",
       "0                  [0.09785052830097439, 0.0]   \n",
       "1                  [0.09785052830097439, 0.0]   \n",
       "2                  [0.09785052830097439, 0.0]   \n",
       "3                  [0.09787419284625988, 1.0]   \n",
       "4    [0.13924867679332156, 0.955242825607064]   \n",
       "5   [0.15060897118526587, 0.9525069703700203]   \n",
       "6    [0.1747173689619733, 0.9440666567030339]   \n",
       "7   [0.21284801735567072, 0.9310084084447402]   \n",
       "8     [0.277037037037037, 0.9180707666385847]   \n",
       "9    [0.3509700176366843, 0.9056677779956854]   \n",
       "10                  [0.0, 0.9021494716990256]   \n",
       "\n",
       "                                        recall admission sensitivity  \\\n",
       "0                                   [1.0, 0.0]                     1   \n",
       "1                                   [1.0, 0.0]                     1   \n",
       "2                                   [1.0, 0.0]                     1   \n",
       "3                [1.0, 0.00026801029159519727]                     1   \n",
       "4    [0.7996046454163578, 0.46389901372212694]              0.799605   \n",
       "5     [0.7516679021497406, 0.5402015437392796]              0.751668   \n",
       "6     [0.6300963676797627, 0.6771816037735849]              0.630096   \n",
       "7     [0.4363726216950828, 0.8249624785591767]              0.436373   \n",
       "8      [0.231035334815913, 0.9346054888507719]              0.231035   \n",
       "9   [0.049172226340499135, 0.9901372212692967]             0.0491722   \n",
       "10                                  [0.0, 1.0]                     0   \n",
       "\n",
       "   admission specificity  \n",
       "0                      0  \n",
       "1                      0  \n",
       "2                      0  \n",
       "3             0.00026801  \n",
       "4               0.463899  \n",
       "5               0.540202  \n",
       "6               0.677182  \n",
       "7               0.824962  \n",
       "8               0.934605  \n",
       "9               0.990137  \n",
       "10                     1  "
      ]
     },
     "execution_count": 175,
     "metadata": {},
     "output_type": "execute_result"
    }
   ],
   "source": [
    "thresholding_analysis(predictions2, y_test)"
   ]
  },
  {
   "cell_type": "markdown",
   "metadata": {},
   "source": [
    "#### ensembling the two models"
   ]
  },
  {
   "cell_type": "code",
   "execution_count": 176,
   "metadata": {},
   "outputs": [],
   "source": [
    "combined_predictions = (predictions + predictions2)/2"
   ]
  },
  {
   "cell_type": "code",
   "execution_count": 177,
   "metadata": {},
   "outputs": [
    {
     "name": "stderr",
     "output_type": "stream",
     "text": [
      "/Users/jjaskolkambp/anaconda3/lib/python3.6/site-packages/sklearn/metrics/classification.py:1135: UndefinedMetricWarning: F-score is ill-defined and being set to 0.0 in labels with no predicted samples.\n",
      "  'precision', 'predicted', average, warn_for)\n",
      "/Users/jjaskolkambp/anaconda3/lib/python3.6/site-packages/sklearn/metrics/classification.py:1135: UndefinedMetricWarning: F-score is ill-defined and being set to 0.0 in labels with no predicted samples.\n",
      "  'precision', 'predicted', average, warn_for)\n",
      "/Users/jjaskolkambp/anaconda3/lib/python3.6/site-packages/sklearn/metrics/classification.py:1135: UndefinedMetricWarning: Precision is ill-defined and being set to 0.0 in labels with no predicted samples.\n",
      "  'precision', 'predicted', average, warn_for)\n",
      "/Users/jjaskolkambp/anaconda3/lib/python3.6/site-packages/sklearn/metrics/classification.py:1135: UndefinedMetricWarning: F-score is ill-defined and being set to 0.0 in labels with no predicted samples.\n",
      "  'precision', 'predicted', average, warn_for)\n",
      "/Users/jjaskolkambp/anaconda3/lib/python3.6/site-packages/sklearn/metrics/classification.py:1135: UndefinedMetricWarning: F-score is ill-defined and being set to 0.0 in labels with no predicted samples.\n",
      "  'precision', 'predicted', average, warn_for)\n",
      "/Users/jjaskolkambp/anaconda3/lib/python3.6/site-packages/sklearn/metrics/classification.py:1135: UndefinedMetricWarning: Precision is ill-defined and being set to 0.0 in labels with no predicted samples.\n",
      "  'precision', 'predicted', average, warn_for)\n",
      "/Users/jjaskolkambp/anaconda3/lib/python3.6/site-packages/sklearn/metrics/classification.py:1135: UndefinedMetricWarning: F-score is ill-defined and being set to 0.0 in labels with no predicted samples.\n",
      "  'precision', 'predicted', average, warn_for)\n",
      "/Users/jjaskolkambp/anaconda3/lib/python3.6/site-packages/sklearn/metrics/classification.py:1135: UndefinedMetricWarning: F-score is ill-defined and being set to 0.0 in labels with no predicted samples.\n",
      "  'precision', 'predicted', average, warn_for)\n",
      "/Users/jjaskolkambp/anaconda3/lib/python3.6/site-packages/sklearn/metrics/classification.py:1135: UndefinedMetricWarning: Precision is ill-defined and being set to 0.0 in labels with no predicted samples.\n",
      "  'precision', 'predicted', average, warn_for)\n",
      "/Users/jjaskolkambp/anaconda3/lib/python3.6/site-packages/sklearn/metrics/classification.py:1135: UndefinedMetricWarning: F-score is ill-defined and being set to 0.0 in labels with no predicted samples.\n",
      "  'precision', 'predicted', average, warn_for)\n",
      "/Users/jjaskolkambp/anaconda3/lib/python3.6/site-packages/sklearn/metrics/classification.py:1135: UndefinedMetricWarning: F-score is ill-defined and being set to 0.0 in labels with no predicted samples.\n",
      "  'precision', 'predicted', average, warn_for)\n",
      "/Users/jjaskolkambp/anaconda3/lib/python3.6/site-packages/sklearn/metrics/classification.py:1135: UndefinedMetricWarning: Precision is ill-defined and being set to 0.0 in labels with no predicted samples.\n",
      "  'precision', 'predicted', average, warn_for)\n"
     ]
    },
    {
     "data": {
      "text/html": [
       "<div>\n",
       "<style scoped>\n",
       "    .dataframe tbody tr th:only-of-type {\n",
       "        vertical-align: middle;\n",
       "    }\n",
       "\n",
       "    .dataframe tbody tr th {\n",
       "        vertical-align: top;\n",
       "    }\n",
       "\n",
       "    .dataframe thead th {\n",
       "        text-align: right;\n",
       "    }\n",
       "</style>\n",
       "<table border=\"1\" class=\"dataframe\">\n",
       "  <thead>\n",
       "    <tr style=\"text-align: right;\">\n",
       "      <th></th>\n",
       "      <th>admission_threshold</th>\n",
       "      <th>weighted f1</th>\n",
       "      <th>f1</th>\n",
       "      <th>accuracy</th>\n",
       "      <th>precision</th>\n",
       "      <th>recall</th>\n",
       "      <th>admission sensitivity</th>\n",
       "      <th>admission specificity</th>\n",
       "    </tr>\n",
       "  </thead>\n",
       "  <tbody>\n",
       "    <tr>\n",
       "      <th>0</th>\n",
       "      <td>0.01</td>\n",
       "      <td>0.0174427</td>\n",
       "      <td>[0.17825837994978638, 0.0]</td>\n",
       "      <td>0.0978505</td>\n",
       "      <td>[0.09785052830097439, 0.0]</td>\n",
       "      <td>[1.0, 0.0]</td>\n",
       "      <td>1</td>\n",
       "      <td>0</td>\n",
       "    </tr>\n",
       "    <tr>\n",
       "      <th>1</th>\n",
       "      <td>0.05</td>\n",
       "      <td>0.0174427</td>\n",
       "      <td>[0.17825837994978638, 0.0]</td>\n",
       "      <td>0.0978505</td>\n",
       "      <td>[0.09785052830097439, 0.0]</td>\n",
       "      <td>[1.0, 0.0]</td>\n",
       "      <td>1</td>\n",
       "      <td>0</td>\n",
       "    </tr>\n",
       "    <tr>\n",
       "      <th>2</th>\n",
       "      <td>0.1</td>\n",
       "      <td>0.0174427</td>\n",
       "      <td>[0.17825837994978638, 0.0]</td>\n",
       "      <td>0.0978505</td>\n",
       "      <td>[0.09785052830097439, 0.0]</td>\n",
       "      <td>[1.0, 0.0]</td>\n",
       "      <td>1</td>\n",
       "      <td>0</td>\n",
       "    </tr>\n",
       "    <tr>\n",
       "      <th>3</th>\n",
       "      <td>0.2</td>\n",
       "      <td>0.0417239</td>\n",
       "      <td>[0.1801821866856723, 0.02670615299188239]</td>\n",
       "      <td>0.110012</td>\n",
       "      <td>[0.0990159600509155, 0.9960552268244576]</td>\n",
       "      <td>[0.9995058067704472, 0.013534519725557461]</td>\n",
       "      <td>0.999506</td>\n",
       "      <td>0.0135345</td>\n",
       "    </tr>\n",
       "    <tr>\n",
       "      <th>4</th>\n",
       "      <td>0.3</td>\n",
       "      <td>0.27055</td>\n",
       "      <td>[0.20277763646538124, 0.27790065431757444]</td>\n",
       "      <td>0.242196</td>\n",
       "      <td>[0.11302350639407945, 0.9899868680236376]</td>\n",
       "      <td>[0.984927106498641, 0.16163700686106347]</td>\n",
       "      <td>0.984927</td>\n",
       "      <td>0.161637</td>\n",
       "    </tr>\n",
       "    <tr>\n",
       "      <th>5</th>\n",
       "      <td>0.4</td>\n",
       "      <td>0.582627</td>\n",
       "      <td>[0.25411563046816416, 0.618258247281367]</td>\n",
       "      <td>0.494983</td>\n",
       "      <td>[0.14852229086658875, 0.9719013963109808]</td>\n",
       "      <td>[0.8791697553743514, 0.45331260720411665]</td>\n",
       "      <td>0.87917</td>\n",
       "      <td>0.453313</td>\n",
       "    </tr>\n",
       "    <tr>\n",
       "      <th>6</th>\n",
       "      <td>0.5</td>\n",
       "      <td>0.778934</td>\n",
       "      <td>[0.3196874060715359, 0.8287456683261958]</td>\n",
       "      <td>0.726372</td>\n",
       "      <td>[0.21123292024149984, 0.9517569775120781]</td>\n",
       "      <td>[0.657029898690388, 0.7338925814751286]</td>\n",
       "      <td>0.65703</td>\n",
       "      <td>0.733893</td>\n",
       "    </tr>\n",
       "    <tr>\n",
       "      <th>7</th>\n",
       "      <td>0.6</td>\n",
       "      <td>0.860575</td>\n",
       "      <td>[0.33454066513006253, 0.9176301167008573]</td>\n",
       "      <td>0.853406</td>\n",
       "      <td>[0.3009478672985782, 0.9304862928778068]</td>\n",
       "      <td>[0.3765752409191994, 0.9051243567753001]</td>\n",
       "      <td>0.376575</td>\n",
       "      <td>0.905124</td>\n",
       "    </tr>\n",
       "    <tr>\n",
       "      <th>8</th>\n",
       "      <td>0.7</td>\n",
       "      <td>0.870317</td>\n",
       "      <td>[0.17939300212642567, 0.945257592365723]</td>\n",
       "      <td>0.897362</td>\n",
       "      <td>[0.41207815275310833, 0.9109437526408669]</td>\n",
       "      <td>[0.1146528292562392, 0.982257718696398]</td>\n",
       "      <td>0.114653</td>\n",
       "      <td>0.982258</td>\n",
       "    </tr>\n",
       "    <tr>\n",
       "      <th>9</th>\n",
       "      <td>0.8</td>\n",
       "      <td>0.857355</td>\n",
       "      <td>[0.016536964980544747, 0.9485535455308755]</td>\n",
       "      <td>0.902222</td>\n",
       "      <td>[0.5230769230769231, 0.9028188114496053]</td>\n",
       "      <td>[0.008401284902396838, 0.9991691680960549]</td>\n",
       "      <td>0.00840128</td>\n",
       "      <td>0.999169</td>\n",
       "    </tr>\n",
       "    <tr>\n",
       "      <th>10</th>\n",
       "      <td>0.9</td>\n",
       "      <td>0.855741</td>\n",
       "      <td>[0.0, 0.948557918419748]</td>\n",
       "      <td>0.902149</td>\n",
       "      <td>[0.0, 0.9021494716990256]</td>\n",
       "      <td>[0.0, 1.0]</td>\n",
       "      <td>0</td>\n",
       "      <td>1</td>\n",
       "    </tr>\n",
       "  </tbody>\n",
       "</table>\n",
       "</div>"
      ],
      "text/plain": [
       "   admission_threshold weighted f1  \\\n",
       "0                 0.01   0.0174427   \n",
       "1                 0.05   0.0174427   \n",
       "2                  0.1   0.0174427   \n",
       "3                  0.2   0.0417239   \n",
       "4                  0.3     0.27055   \n",
       "5                  0.4    0.582627   \n",
       "6                  0.5    0.778934   \n",
       "7                  0.6    0.860575   \n",
       "8                  0.7    0.870317   \n",
       "9                  0.8    0.857355   \n",
       "10                 0.9    0.855741   \n",
       "\n",
       "                                            f1   accuracy  \\\n",
       "0                   [0.17825837994978638, 0.0]  0.0978505   \n",
       "1                   [0.17825837994978638, 0.0]  0.0978505   \n",
       "2                   [0.17825837994978638, 0.0]  0.0978505   \n",
       "3    [0.1801821866856723, 0.02670615299188239]   0.110012   \n",
       "4   [0.20277763646538124, 0.27790065431757444]   0.242196   \n",
       "5     [0.25411563046816416, 0.618258247281367]   0.494983   \n",
       "6     [0.3196874060715359, 0.8287456683261958]   0.726372   \n",
       "7    [0.33454066513006253, 0.9176301167008573]   0.853406   \n",
       "8     [0.17939300212642567, 0.945257592365723]   0.897362   \n",
       "9   [0.016536964980544747, 0.9485535455308755]   0.902222   \n",
       "10                    [0.0, 0.948557918419748]   0.902149   \n",
       "\n",
       "                                    precision  \\\n",
       "0                  [0.09785052830097439, 0.0]   \n",
       "1                  [0.09785052830097439, 0.0]   \n",
       "2                  [0.09785052830097439, 0.0]   \n",
       "3    [0.0990159600509155, 0.9960552268244576]   \n",
       "4   [0.11302350639407945, 0.9899868680236376]   \n",
       "5   [0.14852229086658875, 0.9719013963109808]   \n",
       "6   [0.21123292024149984, 0.9517569775120781]   \n",
       "7    [0.3009478672985782, 0.9304862928778068]   \n",
       "8   [0.41207815275310833, 0.9109437526408669]   \n",
       "9    [0.5230769230769231, 0.9028188114496053]   \n",
       "10                  [0.0, 0.9021494716990256]   \n",
       "\n",
       "                                        recall admission sensitivity  \\\n",
       "0                                   [1.0, 0.0]                     1   \n",
       "1                                   [1.0, 0.0]                     1   \n",
       "2                                   [1.0, 0.0]                     1   \n",
       "3   [0.9995058067704472, 0.013534519725557461]              0.999506   \n",
       "4     [0.984927106498641, 0.16163700686106347]              0.984927   \n",
       "5    [0.8791697553743514, 0.45331260720411665]               0.87917   \n",
       "6      [0.657029898690388, 0.7338925814751286]               0.65703   \n",
       "7     [0.3765752409191994, 0.9051243567753001]              0.376575   \n",
       "8      [0.1146528292562392, 0.982257718696398]              0.114653   \n",
       "9   [0.008401284902396838, 0.9991691680960549]            0.00840128   \n",
       "10                                  [0.0, 1.0]                     0   \n",
       "\n",
       "   admission specificity  \n",
       "0                      0  \n",
       "1                      0  \n",
       "2                      0  \n",
       "3              0.0135345  \n",
       "4               0.161637  \n",
       "5               0.453313  \n",
       "6               0.733893  \n",
       "7               0.905124  \n",
       "8               0.982258  \n",
       "9               0.999169  \n",
       "10                     1  "
      ]
     },
     "execution_count": 177,
     "metadata": {},
     "output_type": "execute_result"
    }
   ],
   "source": [
    "thresholding_analysis(combined_predictions, y_test)"
   ]
  },
  {
   "cell_type": "code",
   "execution_count": 182,
   "metadata": {},
   "outputs": [
    {
     "data": {
      "text/plain": [
       "XGBClassifier(base_score=0.5, booster='gbtree', colsample_bylevel=1,\n",
       "       colsample_bynode=1, colsample_bytree=1, gamma=0, learning_rate=0.1,\n",
       "       max_delta_step=0, max_depth=3, min_child_weight=1, missing=None,\n",
       "       n_estimators=100, n_jobs=1, nthread=None,\n",
       "       objective='binary:logistic', random_state=0, reg_alpha=0,\n",
       "       reg_lambda=1, scale_pos_weight=0.1111111111111111, seed=None,\n",
       "       silent=None, subsample=1, verbosity=1)"
      ]
     },
     "execution_count": 182,
     "metadata": {},
     "output_type": "execute_result"
    }
   ],
   "source": [
    "xgc2"
   ]
  },
  {
   "cell_type": "code",
   "execution_count": 178,
   "metadata": {},
   "outputs": [],
   "source": [
    "import pickle"
   ]
  },
  {
   "cell_type": "code",
   "execution_count": 183,
   "metadata": {},
   "outputs": [],
   "source": [
    "pickle.dump(xgc, open(data_path + \"/subj_hx_xgb.pkl\", \"wb\"))\n",
    "pickle.dump(xgc2, open(data_path + \"/medhx_xgb.pkl\", \"wb\"))"
   ]
  },
  {
   "cell_type": "code",
   "execution_count": 188,
   "metadata": {},
   "outputs": [],
   "source": [
    "with open(data_path + \"/tabular_xgb.pkl\", mode = 'rb') as pkl:\n",
    "    xgc3 = pickle.load(pkl)"
   ]
  },
  {
   "cell_type": "markdown",
   "metadata": {},
   "source": [
    "need to revisit this. gotta figure out how to get all three models trained and testing together.  probably easiest, just to do it all one more time (!) in a new notebook"
   ]
  },
  {
   "cell_type": "code",
   "execution_count": null,
   "metadata": {},
   "outputs": [],
   "source": []
  }
 ],
 "metadata": {
  "kernelspec": {
   "display_name": "Python [default]",
   "language": "python",
   "name": "python3"
  },
  "language_info": {
   "codemirror_mode": {
    "name": "ipython",
    "version": 3
   },
   "file_extension": ".py",
   "mimetype": "text/x-python",
   "name": "python",
   "nbconvert_exporter": "python",
   "pygments_lexer": "ipython3",
   "version": "3.6.5"
  }
 },
 "nbformat": 4,
 "nbformat_minor": 2
}
