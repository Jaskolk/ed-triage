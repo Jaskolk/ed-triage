{
 "cells": [
  {
   "cell_type": "markdown",
   "metadata": {},
   "source": [
    "### this is my notebook for trying to figure out how to make medical history information into something useful"
   ]
  },
  {
   "cell_type": "markdown",
   "metadata": {},
   "source": [
    "#### first we import libraries and data"
   ]
  },
  {
   "cell_type": "code",
   "execution_count": 204,
   "metadata": {},
   "outputs": [],
   "source": [
    "import pandas as pd\n",
    "import numpy as np\n",
    "\n",
    "import os\n",
    "import re\n",
    "from collections import Counter\n",
    "\n",
    "import re\n",
    "\n",
    "from sklearn.metrics import confusion_matrix\n",
    "from sklearn.preprocessing import LabelEncoder\n",
    "from sklearn.preprocessing import OneHotEncoder\n",
    "import sklearn.metrics\n",
    "\n",
    "import seaborn as sns\n",
    "%matplotlib inline\n",
    "import matplotlib.pyplot as plt\n",
    "import sys\n",
    "import random as rn\n",
    "\n",
    "from IPython.display import clear_output\n"
   ]
  },
  {
   "cell_type": "code",
   "execution_count": 192,
   "metadata": {},
   "outputs": [],
   "source": [
    "#use this cell when working online\n",
    "path = '/floyd/home/ed-triage'\n",
    "data_path = '/floyd/home/data'"
   ]
  },
  {
   "cell_type": "code",
   "execution_count": 205,
   "metadata": {},
   "outputs": [],
   "source": [
    "#use this cell when working from home\n",
    "path = '/Users/jjaskolkambp/Desktop/machine learning/my_projects/ed-triage'\n",
    "data_path = '/Users/jjaskolkambp/Desktop/machine learning/my_projects/data/ED triage project/combo'"
   ]
  },
  {
   "cell_type": "code",
   "execution_count": 206,
   "metadata": {},
   "outputs": [],
   "source": [
    "clin = pd.read_csv(data_path + '/complete_clean_combo_data.csv', index_col = 0,low_memory = False)"
   ]
  },
  {
   "cell_type": "code",
   "execution_count": 207,
   "metadata": {},
   "outputs": [
    {
     "data": {
      "text/plain": [
       "(165433, 121)"
      ]
     },
     "execution_count": 207,
     "metadata": {},
     "output_type": "execute_result"
    }
   ],
   "source": [
    "clin.shape"
   ]
  },
  {
   "cell_type": "markdown",
   "metadata": {},
   "source": [
    "#### then we load up my helper functions"
   ]
  },
  {
   "cell_type": "code",
   "execution_count": 208,
   "metadata": {},
   "outputs": [],
   "source": [
    "\n",
    "def show_confusion_matrix2(confusion_matrix, labels):\n",
    "    LABELS = labels\n",
    "\n",
    "    plt.figure(figsize=(3, 3))\n",
    "    sns.heatmap(confusion_matrix, cmap = 'Blues', xticklabels=LABELS, yticklabels=LABELS, annot=True, fmt=\"d\", annot_kws={\"size\": 15});\n",
    "    plt.title(\"Confusion matrix\", fontsize=10)\n",
    "    plt.ylabel('True label', fontsize=10)\n",
    "    plt.xlabel('Predicted label', fontsize=10)\n",
    "    plt.show()\n",
    "    \n",
    "def get_metrics(preds , predictions, show_confusion = True, print_output = True, return_values = False):\n",
    "    \n",
    "    y_test = targets.numpy()\n",
    "    \n",
    "    f1_w = sklearn.metrics.f1_score(y_test, predictions, average='weighted')\n",
    "    f1 = sklearn.metrics.f1_score(y_test, predictions, average=None)\n",
    "    acc = sklearn.metrics.accuracy_score(y_test, predictions)\n",
    "    prec = sklearn.metrics.precision_score(y_test,predictions, average=None) \n",
    "    rec = sklearn.metrics.recall_score(y_test,predictions, average=None)\n",
    "    auroc = sklearn.metrics.roc_auc_score(y_test,preds[:,1], average=None)\n",
    "    confusion = sklearn.metrics.confusion_matrix(y_test, predictions)\n",
    "    \n",
    "    tp, fn, fp, tn = confusion[0,0], confusion[0,1], confusion[1,0], confusion[1,1]\n",
    "    \n",
    "    sens = tp/(tp + fn)\n",
    "    spec = tn/(tn + fp)\n",
    "    ppv = tp/(tp + fp)\n",
    "    npv = tn/(tn + fn)\n",
    "    \n",
    "    \n",
    "    if print_output:\n",
    "        print ('Metrics Report:')\n",
    "        print ('---------------')\n",
    "        print ('weighted f1: ', f1_w)\n",
    "        print ('AUROC:       ',auroc)\n",
    "        print ('accuracy:    ', acc)\n",
    "        print ('precision:   ', prec)\n",
    "        print ('recall:      ', rec)\n",
    "        print ('sensitivity: ', sens)\n",
    "        print ('specificity: ', spec)\n",
    "        print ('PPV:         ', ppv)\n",
    "        print ('NPV:         ', npv)\n",
    "        \n",
    "    if show_confusion:\n",
    "        show_confusion_matrix2(confusion, labels = data.classes)\n",
    "     \n",
    "    if return_values == True:\n",
    "        return f1_w, auroc, acc, sens, ppv\n",
    "\n"
   ]
  },
  {
   "cell_type": "markdown",
   "metadata": {},
   "source": [
    "#### then we clean up the data in the medical history column"
   ]
  },
  {
   "cell_type": "code",
   "execution_count": 209,
   "metadata": {},
   "outputs": [],
   "source": [
    "history = list(clin['MedicalHistory'].str[16:].astype('str'))"
   ]
  },
  {
   "cell_type": "code",
   "execution_count": 210,
   "metadata": {},
   "outputs": [],
   "source": [
    "#this is to clean the text in the medical history column (a little bit)\n",
    "def fixhx(s):\n",
    "    s =s.replace('<LT><LF>','')\n",
    "    s = s.replace('<LT>LF>','')\n",
    "    s =s.replace('Pt.', 'patient')\n",
    "    s =s.replace('Pt', 'patient')\n",
    "    s = s.lower()\n",
    "    s = s.replace('pt.', 'patient')\n",
    "    s = s.replace('y/o', 'year old')\n",
    "    s = s.replace('c/o', 'complains of')\n",
    "    s = s.replace('sob', 'shortness of breath')\n",
    "    s = s.replace('c/p', 'chest pain')\n",
    "    s = s.replace('hrs', 'hours')\n",
    "    s = s.replace('hx', 'history')\n",
    "    s = s.replace('n/v', 'nausea and/or vomiting')\n",
    "    s = s.replace('a/e', 'air entry')\n",
    "    s = s.replace('a/o', 'alert and oriented')\n",
    "    s = s.replace('a&o', 'alert and oriented')\n",
    "    s = s.replace('d/c', 'discharge')\n",
    "    s = s.replace('u/s', 'ultrasound')\n",
    "    s = s.replace('yrs', 'years')\n",
    "    s = s.replace('lmp', 'last menstrual period')\n",
    "    s = s.replace('w/', 'with')\n",
    "    s = s.replace('@', 'at ')\n",
    "    s = s.replace('b/c', 'because')\n",
    "    s = re.sub(r'\\bpt.','patient ',s)\n",
    "    s = re.sub(r'\\blt.','left ',s)\n",
    "    s = re.sub(r'\\brt.','right ',s)\n",
    "    s = re.sub(r'\\bmd.','doctor ',s)\n",
    "    s = re.sub(r'\\bra\\b','room air ',s)\n",
    "    s = re.sub(r'\\bbp.','blood pressure ',s)\n",
    "    s = re.sub(r'\\bcp.','chest pain ',s)\n",
    "    s = re.sub(r'\\bfd.','family doctor ',s)\n",
    "    s = s.replace('abx', 'antibiotics')\n",
    "    s = s.replace(' htn ', ' hypertension ')\n",
    "    s = re.sub(r'\\btyl\\b', 'tylenol', s)\n",
    "    s = re.sub(r'\\bprn\\b', 'as needed ',s)\n",
    "    s = re.sub(r'\\bvag\\b', 'vaginal ',s)\n",
    "    s = re.sub(r'\\bpo\\b', 'by mouth ',s)\n",
    "    s = re.sub(r'\\bllq\\b', 'left lower quadrant',s)\n",
    "    s = re.sub(r'\\brlq\\b', 'right lower quadrant  ',s)\n",
    "    s = re.sub(r'\\bluq\\b', 'left upper quadrant',s)\n",
    "    s = re.sub(r'\\bruq\\b', 'right upper quadrant  ',s)\n",
    "    s = re.sub(r'\\buti\\b', 'urinary tract infection ',s)\n",
    "    s = re.sub(r'\\brd', 'right digit number',s)\n",
    "    s = re.sub(r'\\bld', 'left digit number',s)\n",
    "    s = re.sub(r'\\br\\b', 'right ',s)\n",
    "    s = re.sub(r'\\bl\\b', 'left ',s)\n",
    "    s = re.sub(r'\\bed\\b', 'emergency department ',s)\n",
    "    s = re.sub(r'\\ber\\b', 'emergency room ',s)\n",
    "    s = re.sub(r'\\bbm\\b', 'bowel movement ',s)\n",
    "    s = re.sub(r'#\\s', 'fracture ', s)\n",
    "    \n",
    "    #remove extra white spaces\n",
    "    s = re.sub(r'\\s+', ' ', s)\n",
    "\n",
    "    #note that what's missing here is removal of punctuation\n",
    "    return s"
   ]
  },
  {
   "cell_type": "code",
   "execution_count": 211,
   "metadata": {},
   "outputs": [],
   "source": [
    "replacements = (',','<LT>LF>', '.')\n",
    "drop_list = ('\"', '?')\n",
    "split_hist = []\n",
    "for item in history:\n",
    "    for r in replacements:\n",
    "        item = item.replace(r, '::')\n",
    "    \n",
    "    item = item.split('::')\n",
    "    \n",
    "    item = [re.sub(r'\\(.*?\\)\\ *', '', s) for s in item]\n",
    "    \n",
    "    item = [fixhx(s) for s in item]\n",
    "    for d in drop_list:\n",
    "        item = [x.replace(d,'') for x in item]\n",
    "    \n",
    "    item = [x.strip().lower() for x in item if x != 'nan']\n",
    "    item = [x for x in item if len(x) > 2]\n",
    "    \n",
    "    item = list(filter(None, item))\n",
    "    \n",
    "    split_hist.append(item)\n",
    "    "
   ]
  },
  {
   "cell_type": "code",
   "execution_count": 212,
   "metadata": {},
   "outputs": [
    {
     "data": {
      "text/plain": [
       "[['no significant medical history'],\n",
       " ['no significant medical history'],\n",
       " ['no significant medical history'],\n",
       " ['dialysis haemo/pd', 'iddm', 'crf', 'heart problem', 'high cholesterol'],\n",
       " ['fibromyalgia'],\n",
       " ['enlarged liver'],\n",
       " ['anxiety', 'autistic', 'adhd', 'depression', 'asthma', 'celiac'],\n",
       " ['no significant medical history'],\n",
       " ['hypothyroid'],\n",
       " ['anxiety'],\n",
       " ['no significant medical history'],\n",
       " ['hypertension'],\n",
       " ['arthritis', 'copd'],\n",
       " ['itp', 'wiscott-aldridge syndrome', 'eczema'],\n",
       " ['suicidal attempts', 'depression'],\n",
       " ['high cholesterol',\n",
       "  'hypertension',\n",
       "  'niddm',\n",
       "  'cabg',\n",
       "  'left knee surgery 15 years ago'],\n",
       " ['sepsis',\n",
       "  'urinary tract infection',\n",
       "  'ca lungs',\n",
       "  'ca bronchus',\n",
       "  'hypothyroid',\n",
       "  'glaucoma cataract/cataract repair',\n",
       "  'kidney disease',\n",
       "  'anemia'],\n",
       " ['alcoholism'],\n",
       " ['gerd', 'high cholesterol'],\n",
       " ['hypertension',\n",
       "  'tia',\n",
       "  'osteoporosis',\n",
       "  'diverticulitis',\n",
       "  'high cholesterol',\n",
       "  'anxiety',\n",
       "  'depression',\n",
       "  'aortic stenosis']]"
      ]
     },
     "execution_count": 212,
     "metadata": {},
     "output_type": "execute_result"
    }
   ],
   "source": [
    "#split hist is a list of lists, where each entry is the list of past medical history conditions for each patient\n",
    "split_hist[:20]"
   ]
  },
  {
   "cell_type": "code",
   "execution_count": 213,
   "metadata": {},
   "outputs": [],
   "source": [
    "#creates a list of the number of comborbid conditions of each patient\n",
    "comorbids = [len(item) if item != ['no significant medical history'] else 0 for item in split_hist]"
   ]
  },
  {
   "cell_type": "code",
   "execution_count": 214,
   "metadata": {},
   "outputs": [
    {
     "data": {
      "text/plain": [
       "165433"
      ]
     },
     "execution_count": 214,
     "metadata": {},
     "output_type": "execute_result"
    }
   ],
   "source": [
    "#rejoining them as a string with diagnoses separated by spaces\n",
    "join_hist = [' '.join(item) for item in split_hist]\n",
    "\n",
    "#replacing empty string with NaN\n",
    "join_hist = [np.nan if item == 'nan' else item for item in join_hist]\n",
    "\n",
    "len(join_hist)"
   ]
  },
  {
   "cell_type": "code",
   "execution_count": 215,
   "metadata": {
    "scrolled": true
   },
   "outputs": [
    {
     "data": {
      "text/plain": [
       "['no significant medical history',\n",
       " 'no significant medical history',\n",
       " 'no significant medical history',\n",
       " 'dialysis haemo/pd iddm crf heart problem high cholesterol',\n",
       " 'fibromyalgia',\n",
       " 'enlarged liver',\n",
       " 'anxiety autistic adhd depression asthma celiac',\n",
       " 'no significant medical history',\n",
       " 'hypothyroid',\n",
       " 'anxiety',\n",
       " 'no significant medical history',\n",
       " 'hypertension',\n",
       " 'arthritis copd',\n",
       " 'itp wiscott-aldridge syndrome eczema',\n",
       " 'suicidal attempts depression',\n",
       " 'high cholesterol hypertension niddm cabg left knee surgery 15 years ago',\n",
       " 'sepsis urinary tract infection ca lungs ca bronchus hypothyroid glaucoma cataract/cataract repair kidney disease anemia',\n",
       " 'alcoholism',\n",
       " 'gerd high cholesterol',\n",
       " 'hypertension tia osteoporosis diverticulitis high cholesterol anxiety depression aortic stenosis']"
      ]
     },
     "execution_count": 215,
     "metadata": {},
     "output_type": "execute_result"
    }
   ],
   "source": [
    "#join hist converts each patients medical history into a single string with diagnoses separated by commas\n",
    "join_hist[:20]"
   ]
  },
  {
   "cell_type": "markdown",
   "metadata": {},
   "source": [
    "### exploring different diagnoses"
   ]
  },
  {
   "cell_type": "code",
   "execution_count": 216,
   "metadata": {},
   "outputs": [],
   "source": [
    "diagnoses = Counter()\n",
    "for hx in split_hist:\n",
    "    for item in hx:\n",
    "        diagnoses[item] += 1"
   ]
  },
  {
   "cell_type": "code",
   "execution_count": 217,
   "metadata": {},
   "outputs": [
    {
     "data": {
      "text/plain": [
       "23721"
      ]
     },
     "execution_count": 217,
     "metadata": {},
     "output_type": "execute_result"
    }
   ],
   "source": [
    "#there are 23721 different medical histories used in the dataset!!!\n",
    "len(diagnoses)"
   ]
  },
  {
   "cell_type": "code",
   "execution_count": 218,
   "metadata": {},
   "outputs": [
    {
     "data": {
      "text/plain": [
       "[('no significant medical history', 73713),\n",
       " ('hypertension', 21703),\n",
       " ('high cholesterol', 19767),\n",
       " ('niddm', 12394),\n",
       " ('htn', 7693),\n",
       " ('asthma', 6974),\n",
       " ('high bp', 6399),\n",
       " ('depression', 6375),\n",
       " ('thyroid', 4936),\n",
       " ('anxiety', 4855),\n",
       " ('hypothyroid', 3981),\n",
       " ('iddm', 3800),\n",
       " ('gerd', 3409),\n",
       " ('diabetes', 3257),\n",
       " ('acid reflux', 2420),\n",
       " ('arthritis', 2220),\n",
       " ('anemia', 1706),\n",
       " ('copd', 1511),\n",
       " ('high chol', 1283),\n",
       " ('chf', 1172),\n",
       " ('schizophrenia', 1154),\n",
       " ('gout', 1120),\n",
       " ('seizure', 1057),\n",
       " ('kidney stones', 1021),\n",
       " ('enlarged prostate', 1016),\n",
       " ('cva', 1011),\n",
       " ('atrial fibrillation', 952),\n",
       " ('dementia', 924),\n",
       " ('cholesterol', 893),\n",
       " ('migraines', 874),\n",
       " ('adhd', 794),\n",
       " ('osteoporosis', 784),\n",
       " ('bipolar', 723),\n",
       " ('chronic back pain', 717),\n",
       " ('afib', 716),\n",
       " ('immunizations up to date', 688),\n",
       " ('smoker', 675),\n",
       " ('cad', 624),\n",
       " ('fibromyalgia', 601),\n",
       " ('substance misuse', 597)]"
      ]
     },
     "execution_count": 218,
     "metadata": {},
     "output_type": "execute_result"
    }
   ],
   "source": [
    "#sorted diagnoses\n",
    "diagnoses.most_common(40)"
   ]
  },
  {
   "cell_type": "code",
   "execution_count": 219,
   "metadata": {
    "scrolled": false
   },
   "outputs": [
    {
     "data": {
      "text/plain": [
       "[('tear in aorta', 1),\n",
       " ('vertebra fracture', 1),\n",
       " ('ulcers both feet', 1),\n",
       " ('wallerian degenration', 1),\n",
       " ('hemiplegia at birth', 1),\n",
       " ('ventricular enlargement', 1),\n",
       " ('myocaridial infarction five years ago', 1),\n",
       " ('stroke fifteen years ago', 1),\n",
       " ('bilateral lung transplant', 1),\n",
       " ('copa syndrome', 1),\n",
       " ('cellulitis developed from c-section', 1),\n",
       " ('low hg-blood transfusion 3months ago', 1),\n",
       " ('back injury -high chol', 1),\n",
       " ('hashimotos-auto immune ds', 1),\n",
       " ('prolactin level high-', 1),\n",
       " ('stent-heart blockage', 1),\n",
       " ('torn ligament of left leg', 1),\n",
       " ('bilateral lower leg amputations', 1),\n",
       " ('currently being assessed for delirium', 1),\n",
       " ('stent 9 months ago', 1),\n",
       " ('legs paralyed', 1),\n",
       " ('5 tetnts 2018', 1),\n",
       " ('carotid sx', 1),\n",
       " ('demyleanating neuropathy', 1),\n",
       " ('paresthesia', 1),\n",
       " ('type ii diabetes', 1),\n",
       " ('unspecified heart disease', 1),\n",
       " ('list', 1),\n",
       " ('c6 stenosis', 1),\n",
       " ('left femur fracture three years ago', 1),\n",
       " ('abaltion st', 1),\n",
       " ('mikes on march 26', 1),\n",
       " ('select from list or enter free textcholesterol', 1),\n",
       " ('left kideny transplant 2012', 1),\n",
       " ('bariatric sx', 1),\n",
       " ('disc injury', 1),\n",
       " ('iron med', 1),\n",
       " ('kidney stone and urinary tract infection', 1),\n",
       " ('prior unknown heart attack a long time ago', 1),\n",
       " ('past history of utis', 1)]"
      ]
     },
     "execution_count": 219,
     "metadata": {},
     "output_type": "execute_result"
    }
   ],
   "source": [
    "diagnoses.most_common()[-40:]"
   ]
  },
  {
   "cell_type": "code",
   "execution_count": 220,
   "metadata": {
    "colab": {
     "base_uri": "https://localhost:8080/",
     "height": 272
    },
    "colab_type": "code",
    "id": "16zjUlJ9LAUl",
    "outputId": "f27c254a-7e68-41ac-d891-a6087da00d23"
   },
   "outputs": [],
   "source": [
    "#this turns the num_diagnoses of classes into a dict where each class has a number\n",
    "#this assumes the counter has already been made\n",
    "#this also assumes the medical history has already been split into a list of diagnoses\n",
    "\n",
    "def multihot_encode(counter, split_hist, num_diagnoses):\n",
    "    class_dict = {finding[0]:i for i,finding in enumerate(counter.most_common(num_diagnoses))}\n",
    "\n",
    "    #this creates a large array containing a 1 in each column where there is a diagnosis\n",
    "    complete_findings = np.empty((len(split_hist), len(class_dict)+1))\n",
    "    for idx,findings in enumerate(split_hist):\n",
    "        findings_array = np.zeros(len(class_dict)+1)\n",
    "        for finding in findings:\n",
    "            try:\n",
    "                findings_array[class_dict[finding]] = 1\n",
    "            except:\n",
    "                findings_array[len(class_dict)] = 1\n",
    "        complete_findings[idx,:]= findings_array\n",
    "\n",
    "    complete_findings.shape\n",
    "\n",
    "    #this turns the above array into a dataframe\n",
    "    findings_df = pd.DataFrame(complete_findings.astype(int), columns = list(class_dict.keys()) + ['other'])\n",
    "    print (f'There are {num_diagnoses} diagnoses, {findings_df.shape[1] - num_diagnoses} unknowns and {len(findings_df)} patients in the encoded dataframe')\n",
    "    return findings_df"
   ]
  },
  {
   "cell_type": "code",
   "execution_count": 159,
   "metadata": {},
   "outputs": [
    {
     "name": "stdout",
     "output_type": "stream",
     "text": [
      "There are 1000 diagnoses, 1 unknowns and 165433 patients in the encoded dataframe\n"
     ]
    }
   ],
   "source": [
    "small_findings = multihot_encode(diagnoses, split_hist, 1000)"
   ]
  },
  {
   "cell_type": "code",
   "execution_count": 120,
   "metadata": {},
   "outputs": [],
   "source": [
    "#small_findings.to_csv(data_path + '/top_1000_pmhx.csv', index = False)"
   ]
  },
  {
   "cell_type": "markdown",
   "metadata": {},
   "source": [
    "### now to try using these features to train a tabular fast.ai model"
   ]
  },
  {
   "cell_type": "code",
   "execution_count": 221,
   "metadata": {},
   "outputs": [],
   "source": [
    "from fastai import *\n",
    "from fastai.tabular import *\n",
    "\n",
    "import random\n",
    "\n",
    "from sklearn.metrics import confusion_matrix\n",
    "import sklearn.metrics\n",
    "import seaborn as sns\n",
    "%matplotlib inline\n",
    "import matplotlib.pyplot as plt"
   ]
  },
  {
   "cell_type": "markdown",
   "metadata": {},
   "source": [
    "#### 1000 patients, 1000 diagnoses"
   ]
  },
  {
   "cell_type": "code",
   "execution_count": 222,
   "metadata": {},
   "outputs": [
    {
     "name": "stdout",
     "output_type": "stream",
     "text": [
      "There are 1000 diagnoses, 1 unknowns and 165433 patients in the encoded dataframe\n"
     ]
    }
   ],
   "source": [
    "small_findings = multihot_encode(diagnoses, split_hist, 1000)\n",
    "\n",
    "small_findings['discharge'] = clin['discharge']"
   ]
  },
  {
   "cell_type": "code",
   "execution_count": 223,
   "metadata": {},
   "outputs": [
    {
     "data": {
      "text/plain": [
       "(1000, 1002)"
      ]
     },
     "execution_count": 223,
     "metadata": {},
     "output_type": "execute_result"
    }
   ],
   "source": [
    "test_df = small_findings.sample(1000)\n",
    "\n",
    "test_df.shape"
   ]
  },
  {
   "cell_type": "code",
   "execution_count": 224,
   "metadata": {
    "colab": {},
    "colab_type": "code",
    "id": "xR1KkGqvE4uG"
   },
   "outputs": [],
   "source": [
    "cat_names = list(test_df.columns)[:-1]\n",
    "dep_var = 'discharge'  \n",
    "\n",
    "procs = [FillMissing, Categorify, Normalize]\n",
    "test = TabularList.from_df(test_df.copy(), cat_names=cat_names)\n",
    "\n",
    "data = (TabularList.from_df(test_df, path=path, cat_names=cat_names, procs=procs)\n",
    "                           .split_by_rand_pct()\n",
    "                           .label_from_df(cols=dep_var)\n",
    "                           .add_test(test)\n",
    "                           .databunch())\n"
   ]
  },
  {
   "cell_type": "code",
   "execution_count": 225,
   "metadata": {},
   "outputs": [],
   "source": [
    "layers = [100,50]\n",
    "epochs = 10\n",
    "lr = 5e-2 "
   ]
  },
  {
   "cell_type": "code",
   "execution_count": 226,
   "metadata": {},
   "outputs": [
    {
     "name": "stdout",
     "output_type": "stream",
     "text": [
      "1000 patients, 1000 diagnoses\n"
     ]
    },
    {
     "data": {
      "text/html": [
       "<table border=\"1\" class=\"dataframe\">\n",
       "  <thead>\n",
       "    <tr style=\"text-align: left;\">\n",
       "      <th>epoch</th>\n",
       "      <th>train_loss</th>\n",
       "      <th>valid_loss</th>\n",
       "      <th>accuracy</th>\n",
       "      <th>time</th>\n",
       "    </tr>\n",
       "  </thead>\n",
       "  <tbody>\n",
       "    <tr>\n",
       "      <td>0</td>\n",
       "      <td>0.686499</td>\n",
       "      <td>0.496069</td>\n",
       "      <td>0.940000</td>\n",
       "      <td>00:05</td>\n",
       "    </tr>\n",
       "    <tr>\n",
       "      <td>1</td>\n",
       "      <td>0.547316</td>\n",
       "      <td>0.499063</td>\n",
       "      <td>0.940000</td>\n",
       "      <td>00:05</td>\n",
       "    </tr>\n",
       "    <tr>\n",
       "      <td>2</td>\n",
       "      <td>0.463969</td>\n",
       "      <td>9.111872</td>\n",
       "      <td>0.940000</td>\n",
       "      <td>00:05</td>\n",
       "    </tr>\n",
       "    <tr>\n",
       "      <td>3</td>\n",
       "      <td>0.400833</td>\n",
       "      <td>7.391672</td>\n",
       "      <td>0.940000</td>\n",
       "      <td>00:04</td>\n",
       "    </tr>\n",
       "    <tr>\n",
       "      <td>4</td>\n",
       "      <td>0.349066</td>\n",
       "      <td>8.863023</td>\n",
       "      <td>0.940000</td>\n",
       "      <td>00:04</td>\n",
       "    </tr>\n",
       "    <tr>\n",
       "      <td>5</td>\n",
       "      <td>0.316807</td>\n",
       "      <td>0.904135</td>\n",
       "      <td>0.940000</td>\n",
       "      <td>00:05</td>\n",
       "    </tr>\n",
       "    <tr>\n",
       "      <td>6</td>\n",
       "      <td>0.293682</td>\n",
       "      <td>10.918314</td>\n",
       "      <td>0.060000</td>\n",
       "      <td>00:04</td>\n",
       "    </tr>\n",
       "    <tr>\n",
       "      <td>7</td>\n",
       "      <td>0.271891</td>\n",
       "      <td>0.444110</td>\n",
       "      <td>0.900000</td>\n",
       "      <td>00:04</td>\n",
       "    </tr>\n",
       "    <tr>\n",
       "      <td>8</td>\n",
       "      <td>0.256904</td>\n",
       "      <td>0.253522</td>\n",
       "      <td>0.940000</td>\n",
       "      <td>00:04</td>\n",
       "    </tr>\n",
       "    <tr>\n",
       "      <td>9</td>\n",
       "      <td>0.246857</td>\n",
       "      <td>0.246701</td>\n",
       "      <td>0.940000</td>\n",
       "      <td>00:05</td>\n",
       "    </tr>\n",
       "  </tbody>\n",
       "</table>"
      ],
      "text/plain": [
       "<IPython.core.display.HTML object>"
      ]
     },
     "metadata": {},
     "output_type": "display_data"
    }
   ],
   "source": [
    "print ('1000 patients, 1000 diagnoses')\n",
    "learn = tabular_learner(data, layers, metrics=[accuracy])\n",
    "learn.fit_one_cycle(epochs, lr)\n"
   ]
  },
  {
   "cell_type": "markdown",
   "metadata": {},
   "source": [
    "#### 10000 patients, 1000 diagnoses"
   ]
  },
  {
   "cell_type": "code",
   "execution_count": 227,
   "metadata": {},
   "outputs": [],
   "source": [
    "test_df = small_findings.sample(10000)\n",
    "cat_names = list(test_df.columns)[:-1]\n",
    "dep_var = 'discharge'  \n",
    "\n",
    "#procs = [FillMissing, Categorify, Normalize]\n",
    "test = TabularList.from_df(test_df.copy(), cat_names=cat_names)\n",
    "\n",
    "data = (TabularList.from_df(test_df, path=path, cat_names=cat_names, procs=procs)\n",
    "                           .split_by_rand_pct()\n",
    "                           .label_from_df(cols=dep_var)\n",
    "                           .add_test(test)\n",
    "                           .databunch())"
   ]
  },
  {
   "cell_type": "code",
   "execution_count": 228,
   "metadata": {},
   "outputs": [
    {
     "name": "stdout",
     "output_type": "stream",
     "text": [
      "10000 patients, 1000 diagnoses\n"
     ]
    },
    {
     "data": {
      "text/html": [
       "<table border=\"1\" class=\"dataframe\">\n",
       "  <thead>\n",
       "    <tr style=\"text-align: left;\">\n",
       "      <th>epoch</th>\n",
       "      <th>train_loss</th>\n",
       "      <th>valid_loss</th>\n",
       "      <th>accuracy</th>\n",
       "      <th>time</th>\n",
       "    </tr>\n",
       "  </thead>\n",
       "  <tbody>\n",
       "    <tr>\n",
       "      <td>0</td>\n",
       "      <td>0.351754</td>\n",
       "      <td>2.216266</td>\n",
       "      <td>0.911000</td>\n",
       "      <td>00:50</td>\n",
       "    </tr>\n",
       "    <tr>\n",
       "      <td>1</td>\n",
       "      <td>0.323275</td>\n",
       "      <td>0.383223</td>\n",
       "      <td>0.907000</td>\n",
       "      <td>00:49</td>\n",
       "    </tr>\n",
       "    <tr>\n",
       "      <td>2</td>\n",
       "      <td>0.296065</td>\n",
       "      <td>0.548551</td>\n",
       "      <td>0.910500</td>\n",
       "      <td>00:49</td>\n",
       "    </tr>\n",
       "    <tr>\n",
       "      <td>3</td>\n",
       "      <td>0.295809</td>\n",
       "      <td>0.310901</td>\n",
       "      <td>0.908500</td>\n",
       "      <td>00:47</td>\n",
       "    </tr>\n",
       "    <tr>\n",
       "      <td>4</td>\n",
       "      <td>0.284276</td>\n",
       "      <td>8.127732</td>\n",
       "      <td>0.089000</td>\n",
       "      <td>00:47</td>\n",
       "    </tr>\n",
       "    <tr>\n",
       "      <td>5</td>\n",
       "      <td>0.284712</td>\n",
       "      <td>0.333846</td>\n",
       "      <td>0.886000</td>\n",
       "      <td>00:48</td>\n",
       "    </tr>\n",
       "    <tr>\n",
       "      <td>6</td>\n",
       "      <td>0.282133</td>\n",
       "      <td>0.879927</td>\n",
       "      <td>0.911000</td>\n",
       "      <td>00:48</td>\n",
       "    </tr>\n",
       "    <tr>\n",
       "      <td>7</td>\n",
       "      <td>0.266214</td>\n",
       "      <td>0.367609</td>\n",
       "      <td>0.895000</td>\n",
       "      <td>00:49</td>\n",
       "    </tr>\n",
       "    <tr>\n",
       "      <td>8</td>\n",
       "      <td>0.255183</td>\n",
       "      <td>0.343883</td>\n",
       "      <td>0.900000</td>\n",
       "      <td>00:50</td>\n",
       "    </tr>\n",
       "    <tr>\n",
       "      <td>9</td>\n",
       "      <td>0.260345</td>\n",
       "      <td>0.358871</td>\n",
       "      <td>0.896500</td>\n",
       "      <td>00:49</td>\n",
       "    </tr>\n",
       "  </tbody>\n",
       "</table>"
      ],
      "text/plain": [
       "<IPython.core.display.HTML object>"
      ]
     },
     "metadata": {},
     "output_type": "display_data"
    }
   ],
   "source": [
    "print ('10000 patients, 1000 diagnoses')\n",
    "learn = tabular_learner(data, layers, metrics=[accuracy])\n",
    "learn.fit_one_cycle(epochs, lr)"
   ]
  },
  {
   "cell_type": "code",
   "execution_count": 238,
   "metadata": {},
   "outputs": [
    {
     "name": "stdout",
     "output_type": "stream",
     "text": [
      "validation set results\n",
      "Metrics Report:\n",
      "---------------\n",
      "weighted f1:  0.8386727738075368\n",
      "AUROC:        0.6180931560576721\n",
      "accuracy:     0.8235\n",
      "precision:    [0.169811 0.923343]\n",
      "recall:       [0.252809 0.879254]\n",
      "sensitivity:  0.25280898876404495\n",
      "specificity:  0.8792535675082327\n",
      "PPV:          0.16981132075471697\n",
      "NPV:          0.923342939481268\n"
     ]
    },
    {
     "data": {
      "image/png": "[encoded data removed]",
      "text/plain": [
       "<Figure size 216x216 with 2 Axes>"
      ]
     },
     "metadata": {},
     "output_type": "display_data"
    }
   ],
   "source": [
    "preds, targets = learn.get_preds(DatasetType.Valid) \n",
    "predictions = np.argmax(preds, axis = 1)\n",
    "\n",
    "print ('validation set results')\n",
    "get_metrics(preds , predictions, show_confusion = True, print_output = True, return_values = False)"
   ]
  },
  {
   "cell_type": "code",
   "execution_count": 239,
   "metadata": {},
   "outputs": [
    {
     "name": "stdout",
     "output_type": "stream",
     "text": [
      "training set results\n",
      "Metrics Report:\n",
      "---------------\n",
      "weighted f1:  0.875475094514157\n",
      "AUROC:        0.7758006568333315\n",
      "accuracy:     0.866\n",
      "precision:    [0.345821 0.943814]\n",
      "recall:       [0.479361 0.906056]\n",
      "sensitivity:  0.4793608521970706\n",
      "specificity:  0.9060560077252034\n",
      "PPV:          0.345821325648415\n",
      "NPV:          0.9438137663457393\n"
     ]
    },
    {
     "data": {
      "image/png": "[encoded data removed]",
      "text/plain": [
       "<Figure size 216x216 with 2 Axes>"
      ]
     },
     "metadata": {},
     "output_type": "display_data"
    }
   ],
   "source": [
    "preds, targets = learn.get_preds(DatasetType.Train) \n",
    "predictions = np.argmax(preds, axis = 1)\n",
    "\n",
    "print ('training set results')\n",
    "get_metrics(preds , predictions, show_confusion = True, print_output = True, return_values = False)"
   ]
  },
  {
   "cell_type": "code",
   "execution_count": 242,
   "metadata": {},
   "outputs": [
    {
     "data": {
      "text/html": [
       "<table border=\"1\" class=\"dataframe\">\n",
       "  <thead>\n",
       "    <tr style=\"text-align: left;\">\n",
       "      <th>epoch</th>\n",
       "      <th>train_loss</th>\n",
       "      <th>valid_loss</th>\n",
       "      <th>accuracy</th>\n",
       "      <th>time</th>\n",
       "    </tr>\n",
       "  </thead>\n",
       "  <tbody>\n",
       "    <tr>\n",
       "      <td>0</td>\n",
       "      <td>0.159883</td>\n",
       "      <td>0.646269</td>\n",
       "      <td>0.911000</td>\n",
       "      <td>00:51</td>\n",
       "    </tr>\n",
       "    <tr>\n",
       "      <td>1</td>\n",
       "      <td>0.074908</td>\n",
       "      <td>0.184517</td>\n",
       "      <td>0.900500</td>\n",
       "      <td>00:49</td>\n",
       "    </tr>\n",
       "    <tr>\n",
       "      <td>2</td>\n",
       "      <td>0.068472</td>\n",
       "      <td>0.078476</td>\n",
       "      <td>0.911000</td>\n",
       "      <td>00:47</td>\n",
       "    </tr>\n",
       "    <tr>\n",
       "      <td>3</td>\n",
       "      <td>0.069665</td>\n",
       "      <td>0.074774</td>\n",
       "      <td>0.911000</td>\n",
       "      <td>00:47</td>\n",
       "    </tr>\n",
       "    <tr>\n",
       "      <td>4</td>\n",
       "      <td>0.064383</td>\n",
       "      <td>0.068573</td>\n",
       "      <td>0.911000</td>\n",
       "      <td>00:47</td>\n",
       "    </tr>\n",
       "    <tr>\n",
       "      <td>5</td>\n",
       "      <td>0.064636</td>\n",
       "      <td>0.067933</td>\n",
       "      <td>0.910500</td>\n",
       "      <td>00:48</td>\n",
       "    </tr>\n",
       "    <tr>\n",
       "      <td>6</td>\n",
       "      <td>0.063377</td>\n",
       "      <td>0.074092</td>\n",
       "      <td>0.911000</td>\n",
       "      <td>00:48</td>\n",
       "    </tr>\n",
       "    <tr>\n",
       "      <td>7</td>\n",
       "      <td>0.061776</td>\n",
       "      <td>0.087018</td>\n",
       "      <td>0.908000</td>\n",
       "      <td>00:48</td>\n",
       "    </tr>\n",
       "    <tr>\n",
       "      <td>8</td>\n",
       "      <td>0.058938</td>\n",
       "      <td>0.074397</td>\n",
       "      <td>0.908000</td>\n",
       "      <td>00:48</td>\n",
       "    </tr>\n",
       "    <tr>\n",
       "      <td>9</td>\n",
       "      <td>0.057977</td>\n",
       "      <td>0.081284</td>\n",
       "      <td>0.905500</td>\n",
       "      <td>00:48</td>\n",
       "    </tr>\n",
       "  </tbody>\n",
       "</table>"
      ],
      "text/plain": [
       "<IPython.core.display.HTML object>"
      ]
     },
     "metadata": {},
     "output_type": "display_data"
    }
   ],
   "source": [
    "loss_func = nn.CrossEntropyLoss(weight = tensor([1/9,8/9]))\n",
    "learn = tabular_learner(data, layers, loss_func = loss_func, metrics=[accuracy])\n",
    "learn.fit_one_cycle(epochs, lr)"
   ]
  },
  {
   "cell_type": "code",
   "execution_count": 243,
   "metadata": {},
   "outputs": [
    {
     "name": "stdout",
     "output_type": "stream",
     "text": [
      "validation set results\n",
      "Metrics Report:\n",
      "---------------\n",
      "weighted f1:  0.8684877388052158\n",
      "AUROC:        0.6026915107487759\n",
      "accuracy:     0.9055\n",
      "precision:    [0.176471 0.91175 ]\n",
      "recall:       [0.016854 0.992316]\n",
      "sensitivity:  0.016853932584269662\n",
      "specificity:  0.9923161361141603\n",
      "PPV:          0.17647058823529413\n",
      "NPV:          0.9117498739283914\n"
     ]
    },
    {
     "data": {
      "image/png": "[encoded data removed]",
      "text/plain": [
       "<Figure size 216x216 with 2 Axes>"
      ]
     },
     "metadata": {},
     "output_type": "display_data"
    }
   ],
   "source": [
    "preds, targets = learn.get_preds(DatasetType.Valid) \n",
    "predictions = np.argmax(preds, axis = 1)\n",
    "\n",
    "print ('validation set results')\n",
    "get_metrics(preds , predictions, show_confusion = True, print_output = True, return_values = False)"
   ]
  },
  {
   "cell_type": "code",
   "execution_count": 244,
   "metadata": {},
   "outputs": [
    {
     "name": "stdout",
     "output_type": "stream",
     "text": [
      "training set results\n",
      "Metrics Report:\n",
      "---------------\n",
      "weighted f1:  0.8798736373075625\n",
      "AUROC:        0.78082334328129\n",
      "accuracy:     0.914125\n",
      "precision:    [1.       0.913432]\n",
      "recall:       [0.08522 1.     ]\n",
      "sensitivity:  0.085219707057257\n",
      "specificity:  1.0\n",
      "PPV:          1.0\n",
      "NPV:          0.9134324596774194\n"
     ]
    },
    {
     "data": {
      "image/png": "[encoded data removed]",
      "text/plain": [
       "<Figure size 216x216 with 2 Axes>"
      ]
     },
     "metadata": {},
     "output_type": "display_data"
    }
   ],
   "source": [
    "preds, targets = learn.get_preds(DatasetType.Train) \n",
    "predictions = np.argmax(preds, axis = 1)\n",
    "\n",
    "print ('training set results')\n",
    "get_metrics(preds , predictions, show_confusion = True, print_output = True, return_values = False)"
   ]
  },
  {
   "cell_type": "code",
   "execution_count": 170,
   "metadata": {},
   "outputs": [
    {
     "data": {
      "text/html": [
       "<table border=\"1\" class=\"dataframe\">\n",
       "  <thead>\n",
       "    <tr style=\"text-align: left;\">\n",
       "      <th>epoch</th>\n",
       "      <th>train_loss</th>\n",
       "      <th>valid_loss</th>\n",
       "      <th>accuracy</th>\n",
       "      <th>time</th>\n",
       "    </tr>\n",
       "  </thead>\n",
       "  <tbody>\n",
       "    <tr>\n",
       "      <td>0</td>\n",
       "      <td>0.429397</td>\n",
       "      <td>1.486234</td>\n",
       "      <td>0.132000</td>\n",
       "      <td>00:56</td>\n",
       "    </tr>\n",
       "    <tr>\n",
       "      <td>1</td>\n",
       "      <td>0.403334</td>\n",
       "      <td>0.844755</td>\n",
       "      <td>0.908000</td>\n",
       "      <td>00:59</td>\n",
       "    </tr>\n",
       "    <tr>\n",
       "      <td>2</td>\n",
       "      <td>0.392112</td>\n",
       "      <td>0.663933</td>\n",
       "      <td>0.908000</td>\n",
       "      <td>00:58</td>\n",
       "    </tr>\n",
       "    <tr>\n",
       "      <td>3</td>\n",
       "      <td>0.389618</td>\n",
       "      <td>0.420111</td>\n",
       "      <td>0.906500</td>\n",
       "      <td>01:01</td>\n",
       "    </tr>\n",
       "    <tr>\n",
       "      <td>4</td>\n",
       "      <td>0.380528</td>\n",
       "      <td>0.393690</td>\n",
       "      <td>0.908000</td>\n",
       "      <td>00:59</td>\n",
       "    </tr>\n",
       "    <tr>\n",
       "      <td>5</td>\n",
       "      <td>0.379854</td>\n",
       "      <td>0.451027</td>\n",
       "      <td>0.889500</td>\n",
       "      <td>01:02</td>\n",
       "    </tr>\n",
       "    <tr>\n",
       "      <td>6</td>\n",
       "      <td>0.370681</td>\n",
       "      <td>0.403593</td>\n",
       "      <td>0.899000</td>\n",
       "      <td>01:01</td>\n",
       "    </tr>\n",
       "    <tr>\n",
       "      <td>7</td>\n",
       "      <td>0.368719</td>\n",
       "      <td>0.415142</td>\n",
       "      <td>0.893000</td>\n",
       "      <td>00:55</td>\n",
       "    </tr>\n",
       "    <tr>\n",
       "      <td>8</td>\n",
       "      <td>0.363264</td>\n",
       "      <td>0.403593</td>\n",
       "      <td>0.900000</td>\n",
       "      <td>00:56</td>\n",
       "    </tr>\n",
       "    <tr>\n",
       "      <td>9</td>\n",
       "      <td>0.357988</td>\n",
       "      <td>0.409024</td>\n",
       "      <td>0.897000</td>\n",
       "      <td>00:55</td>\n",
       "    </tr>\n",
       "  </tbody>\n",
       "</table>"
      ],
      "text/plain": [
       "<IPython.core.display.HTML object>"
      ]
     },
     "metadata": {},
     "output_type": "display_data"
    }
   ],
   "source": [
    "learn = tabular_learner(data, layers, loss_func = LabelSmoothingCrossEntropy(), metrics=[accuracy])\n",
    "learn.fit_one_cycle(epochs, lr)"
   ]
  },
  {
   "cell_type": "code",
   "execution_count": 178,
   "metadata": {},
   "outputs": [],
   "source": [
    "preds, targets = learn.get_preds(DatasetType.Valid) \n",
    "predictions = np.argmax(preds, axis = 1)\n",
    "\n",
    "get_metrics(preds , predictions, show_confusion = True, print_output = True, return_values = False)"
   ]
  },
  {
   "cell_type": "code",
   "execution_count": 195,
   "metadata": {},
   "outputs": [],
   "source": [
    "preds, targets = learn.get_preds(DatasetType.Train) \n",
    "predictions = np.argmax(preds, axis = 1)\n",
    "\n",
    "get_metrics(preds , predictions, show_confusion = True, print_output = True, return_values = False)"
   ]
  },
  {
   "cell_type": "markdown",
   "metadata": {},
   "source": [
    "#### 100000 patients, 1000 diagnoses"
   ]
  },
  {
   "cell_type": "code",
   "execution_count": 197,
   "metadata": {},
   "outputs": [],
   "source": [
    "test_df = small_findings.sample(100000)\n",
    "cat_names = list(test_df.columns)[:-1]\n",
    "dep_var = 'discharge'  \n",
    "\n",
    "#procs = [FillMissing, Categorify, Normalize]\n",
    "test = TabularList.from_df(test_df.copy(), cat_names=cat_names)\n",
    "\n",
    "data = (TabularList.from_df(test_df, path=path, cat_names=cat_names, procs=procs)\n",
    "                           .split_by_rand_pct()\n",
    "                           .label_from_df(cols=dep_var)\n",
    "                           .add_test(test)\n",
    "                           .databunch())"
   ]
  },
  {
   "cell_type": "code",
   "execution_count": 199,
   "metadata": {},
   "outputs": [
    {
     "data": {
      "text/html": [
       "<table border=\"1\" class=\"dataframe\">\n",
       "  <thead>\n",
       "    <tr style=\"text-align: left;\">\n",
       "      <th>epoch</th>\n",
       "      <th>train_loss</th>\n",
       "      <th>valid_loss</th>\n",
       "      <th>accuracy</th>\n",
       "      <th>time</th>\n",
       "    </tr>\n",
       "  </thead>\n",
       "  <tbody>\n",
       "    <tr>\n",
       "      <td>0</td>\n",
       "      <td>0.305677</td>\n",
       "      <td>0.323280</td>\n",
       "      <td>0.900950</td>\n",
       "      <td>08:00</td>\n",
       "    </tr>\n",
       "    <tr>\n",
       "      <td>1</td>\n",
       "      <td>0.308844</td>\n",
       "      <td>0.318944</td>\n",
       "      <td>0.896750</td>\n",
       "      <td>08:26</td>\n",
       "    </tr>\n",
       "    <tr>\n",
       "      <td>2</td>\n",
       "      <td>0.305925</td>\n",
       "      <td>0.306125</td>\n",
       "      <td>0.899700</td>\n",
       "      <td>08:32</td>\n",
       "    </tr>\n",
       "    <tr>\n",
       "      <td>3</td>\n",
       "      <td>0.291029</td>\n",
       "      <td>0.302756</td>\n",
       "      <td>0.900250</td>\n",
       "      <td>08:34</td>\n",
       "    </tr>\n",
       "    <tr>\n",
       "      <td>4</td>\n",
       "      <td>0.302242</td>\n",
       "      <td>0.302489</td>\n",
       "      <td>0.900300</td>\n",
       "      <td>08:27</td>\n",
       "    </tr>\n",
       "  </tbody>\n",
       "</table>"
      ],
      "text/plain": [
       "<IPython.core.display.HTML object>"
      ]
     },
     "metadata": {},
     "output_type": "display_data"
    }
   ],
   "source": [
    "learn = tabular_learner(data, layers, metrics=[accuracy])\n",
    "learn.fit_one_cycle(5, lr)"
   ]
  },
  {
   "cell_type": "code",
   "execution_count": 200,
   "metadata": {},
   "outputs": [
    {
     "name": "stdout",
     "output_type": "stream",
     "text": [
      "validation set results\n",
      "Metrics Report:\n",
      "---------------\n",
      "weighted f1:  0.8589373678107866\n",
      "AUROC:        0.6810172392917095\n",
      "accuracy:     0.9003\n",
      "precision:    [0.453125 0.90318 ]\n",
      "recall:       [0.029263 0.996115]\n",
      "sensitivity:  0.029263370332996974\n",
      "specificity:  0.9961149961149961\n",
      "PPV:          0.453125\n",
      "NPV:          0.9031803542673108\n"
     ]
    },
    {
     "data": {
      "image/png": "[encoded data removed]",
      "text/plain": [
       "<Figure size 216x216 with 2 Axes>"
      ]
     },
     "metadata": {},
     "output_type": "display_data"
    }
   ],
   "source": [
    "preds, targets = learn.get_preds(DatasetType.Valid) \n",
    "predictions = np.argmax(preds, axis = 1)\n",
    "\n",
    "print ('validation set results')\n",
    "get_metrics(preds , predictions, show_confusion = True, print_output = True, return_values = False)"
   ]
  },
  {
   "cell_type": "code",
   "execution_count": 201,
   "metadata": {
    "scrolled": true
   },
   "outputs": [
    {
     "name": "stdout",
     "output_type": "stream",
     "text": [
      "training set results\n",
      "Metrics Report:\n",
      "---------------\n",
      "weighted f1:  0.8605585391587469\n",
      "AUROC:        0.7066838194935212\n",
      "accuracy:     0.9016625\n",
      "precision:    [0.520747 0.903971]\n",
      "recall:       [0.031825 0.996797]\n",
      "sensitivity:  0.03182452136427032\n",
      "specificity:  0.9967966940773508\n",
      "PPV:          0.520746887966805\n",
      "NPV:          0.9039714278528131\n"
     ]
    },
    {
     "data": {
      "image/png": "[encoded data removed]",
      "text/plain": [
       "<Figure size 216x216 with 2 Axes>"
      ]
     },
     "metadata": {},
     "output_type": "display_data"
    }
   ],
   "source": [
    "preds, targets = learn.get_preds(DatasetType.Train) \n",
    "predictions = np.argmax(preds, axis = 1)\n",
    "\n",
    "print ('training set results')\n",
    "get_metrics(preds , predictions, show_confusion = True, print_output = True, return_values = False)"
   ]
  },
  {
   "cell_type": "code",
   "execution_count": null,
   "metadata": {},
   "outputs": [],
   "source": []
  },
  {
   "cell_type": "code",
   "execution_count": null,
   "metadata": {},
   "outputs": [],
   "source": []
  }
 ],
 "metadata": {
  "kernelspec": {
   "display_name": "Python [default]",
   "language": "python",
   "name": "python3"
  },
  "language_info": {
   "codemirror_mode": {
    "name": "ipython",
    "version": 3
   },
   "file_extension": ".py",
   "mimetype": "text/x-python",
   "name": "python",
   "nbconvert_exporter": "python",
   "pygments_lexer": "ipython3",
   "version": "3.6.5"
  }
 },
 "nbformat": 4,
 "nbformat_minor": 2
}
