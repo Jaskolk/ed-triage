{
 "cells": [
  {
   "cell_type": "markdown",
   "metadata": {},
   "source": [
    "### the purpose of this notebook is to train a language model on combined subjective notes and medical history"
   ]
  },
  {
   "cell_type": "code",
   "execution_count": 1,
   "metadata": {},
   "outputs": [],
   "source": [
    "from fastai import *\n",
    "from fastai.tabular import *\n",
    "from fastai.text import *"
   ]
  },
  {
   "cell_type": "code",
   "execution_count": 2,
   "metadata": {},
   "outputs": [],
   "source": [
    "%matplotlib inline\n",
    "from sklearn import metrics\n",
    "import matplotlib.pyplot as plt\n",
    "import seaborn as sns\n",
    "import os\n",
    "import re\n",
    "from collections import Counter\n",
    "import random"
   ]
  },
  {
   "cell_type": "code",
   "execution_count": 3,
   "metadata": {},
   "outputs": [],
   "source": [
    "path = '/floyd/home/notebooks'\n",
    "data_path = '/floyd/home/data'\n",
    "model_path = '/floyd/home/models'"
   ]
  },
  {
   "cell_type": "code",
   "execution_count": 35,
   "metadata": {},
   "outputs": [],
   "source": [
    "df1 = pd.read_csv(data_path +'/targets.csv', index_col=0)\n",
    "df2 = pd.read_csv(data_path + '/subj_data.csv', index_col=0)\n",
    "data = pd.concat([df1,df2],axis = 1)"
   ]
  },
  {
   "cell_type": "code",
   "execution_count": 36,
   "metadata": {},
   "outputs": [
    {
     "data": {
      "text/plain": [
       "(136993, 136993, 136993)"
      ]
     },
     "execution_count": 36,
     "metadata": {},
     "output_type": "execute_result"
    }
   ],
   "source": [
    "len(data), len(df2), len(df1)"
   ]
  },
  {
   "cell_type": "code",
   "execution_count": 39,
   "metadata": {},
   "outputs": [
    {
     "data": {
      "text/html": [
       "<div>\n",
       "<style scoped>\n",
       "    .dataframe tbody tr th:only-of-type {\n",
       "        vertical-align: middle;\n",
       "    }\n",
       "\n",
       "    .dataframe tbody tr th {\n",
       "        vertical-align: top;\n",
       "    }\n",
       "\n",
       "    .dataframe thead th {\n",
       "        text-align: right;\n",
       "    }\n",
       "</style>\n",
       "<table border=\"1\" class=\"dataframe\">\n",
       "  <thead>\n",
       "    <tr style=\"text-align: right;\">\n",
       "      <th></th>\n",
       "      <th>outcome</th>\n",
       "      <th>target</th>\n",
       "      <th>service</th>\n",
       "      <th>target2</th>\n",
       "      <th>discharge</th>\n",
       "      <th>target3</th>\n",
       "      <th>dispo</th>\n",
       "      <th>SubjectiveNotes</th>\n",
       "      <th>MedicalHistory</th>\n",
       "      <th>pmhx</th>\n",
       "    </tr>\n",
       "  </thead>\n",
       "  <tbody>\n",
       "    <tr>\n",
       "      <th>0</th>\n",
       "      <td>discharge</td>\n",
       "      <td>1</td>\n",
       "      <td>discharge</td>\n",
       "      <td>1</td>\n",
       "      <td>discharge</td>\n",
       "      <td>1</td>\n",
       "      <td>NaN</td>\n",
       "      <td>NaN</td>\n",
       "      <td>NaN</td>\n",
       "      <td>NaN</td>\n",
       "    </tr>\n",
       "    <tr>\n",
       "      <th>1</th>\n",
       "      <td>discharge</td>\n",
       "      <td>1</td>\n",
       "      <td>discharge</td>\n",
       "      <td>1</td>\n",
       "      <td>discharge</td>\n",
       "      <td>1</td>\n",
       "      <td>NaN</td>\n",
       "      <td>NaN</td>\n",
       "      <td>NaN</td>\n",
       "      <td>NaN</td>\n",
       "    </tr>\n",
       "    <tr>\n",
       "      <th>2</th>\n",
       "      <td>discharge</td>\n",
       "      <td>1</td>\n",
       "      <td>discharge</td>\n",
       "      <td>1</td>\n",
       "      <td>discharge</td>\n",
       "      <td>1</td>\n",
       "      <td>NaN</td>\n",
       "      <td>NaN</td>\n",
       "      <td>NaN</td>\n",
       "      <td>NaN</td>\n",
       "    </tr>\n",
       "    <tr>\n",
       "      <th>3</th>\n",
       "      <td>discharge</td>\n",
       "      <td>1</td>\n",
       "      <td>discharge</td>\n",
       "      <td>1</td>\n",
       "      <td>discharge</td>\n",
       "      <td>1</td>\n",
       "      <td>NaN</td>\n",
       "      <td>NaN</td>\n",
       "      <td>NaN</td>\n",
       "      <td>NaN</td>\n",
       "    </tr>\n",
       "    <tr>\n",
       "      <th>4</th>\n",
       "      <td>discharge</td>\n",
       "      <td>1</td>\n",
       "      <td>discharge</td>\n",
       "      <td>1</td>\n",
       "      <td>discharge</td>\n",
       "      <td>1</td>\n",
       "      <td>NaN</td>\n",
       "      <td>NaN</td>\n",
       "      <td>NaN</td>\n",
       "      <td>NaN</td>\n",
       "    </tr>\n",
       "  </tbody>\n",
       "</table>\n",
       "</div>"
      ],
      "text/plain": [
       "     outcome  target    service  target2  discharge  target3 dispo  \\\n",
       "0  discharge       1  discharge        1  discharge        1   NaN   \n",
       "1  discharge       1  discharge        1  discharge        1   NaN   \n",
       "2  discharge       1  discharge        1  discharge        1   NaN   \n",
       "3  discharge       1  discharge        1  discharge        1   NaN   \n",
       "4  discharge       1  discharge        1  discharge        1   NaN   \n",
       "\n",
       "  SubjectiveNotes MedicalHistory pmhx  \n",
       "0             NaN            NaN  NaN  \n",
       "1             NaN            NaN  NaN  \n",
       "2             NaN            NaN  NaN  \n",
       "3             NaN            NaN  NaN  \n",
       "4             NaN            NaN  NaN  "
      ]
     },
     "execution_count": 39,
     "metadata": {},
     "output_type": "execute_result"
    }
   ],
   "source": [
    "data.head()"
   ]
  },
  {
   "cell_type": "code",
   "execution_count": 42,
   "metadata": {},
   "outputs": [
    {
     "data": {
      "text/plain": [
       "Index(['outcome', 'target', 'service', 'target2', 'discharge', 'target3',\n",
       "       'dispo', 'SubjectiveNotes', 'MedicalHistory', 'pmhx'],\n",
       "      dtype='object')"
      ]
     },
     "execution_count": 42,
     "metadata": {},
     "output_type": "execute_result"
    }
   ],
   "source": [
    "data.columns"
   ]
  },
  {
   "cell_type": "code",
   "execution_count": 48,
   "metadata": {},
   "outputs": [],
   "source": [
    "data.dropna(subset = ['SubjectiveNotes', 'pmhx'],  inplace = True)"
   ]
  },
  {
   "cell_type": "code",
   "execution_count": 49,
   "metadata": {},
   "outputs": [
    {
     "data": {
      "text/plain": [
       "102583"
      ]
     },
     "execution_count": 49,
     "metadata": {},
     "output_type": "execute_result"
    }
   ],
   "source": [
    "len(data)"
   ]
  },
  {
   "cell_type": "code",
   "execution_count": 51,
   "metadata": {},
   "outputs": [
    {
     "name": "stdout",
     "output_type": "stream",
     "text": [
      "patient states that she feels shaky.  patient denies any pain.\n",
      "patient states no pain.\n",
      "denied chest pain\n",
      "Denies pain. Eating ED lunch at triage\n",
      "patient complains of pain  on the left wrist and left ankle , no obvious deformity , with minor laceration  in between left thumb, and  2nd digit left finger .\n",
      "The patient states his pain is manageable. Still shivering-patient was laying on a cold concrete floor. Denies any other injuries other then the left leg.\n",
      "As per the police the patient-was having an agressive altercation with his mother.  The patient was to have mentioned to a call taker that he was suicidal.  The patient has a his of autism and some behaviour issues.\n",
      "patient states feels weak, complains of pain to feet x 3-4 days, nauseated\n",
      "complains of pain of frontal headache, continues to complains of generalized body pain.\n",
      "patient states feels pain is behind his lungs. patient states urine is darker than normal. states discomfort when voiding.\n"
     ]
    }
   ],
   "source": [
    "for note in list(data['SubjectiveNotes'])[:10]:\n",
    "    print (note)"
   ]
  },
  {
   "cell_type": "code",
   "execution_count": 52,
   "metadata": {},
   "outputs": [
    {
     "name": "stdout",
     "output_type": "stream",
     "text": [
      "No Significant Medical History\n",
      "No Significant Medical History\n",
      "No Significant Medical History\n",
      "Dialysis Haemo/PD,IDDM (Insulin-Dependent Diabetes Mellitus),CRF (Chronic Renal Failure),heart problem,High Cholesterol\n",
      "Fibromyalgia\n",
      "enlarged liver\n",
      "Anxiety,Autistic,ADHD (Attention Deficit Hyperactivity Disorder),Depression,Asthma,Celiac\n",
      "No Significant Medical History\n",
      "Hypothyroid\n",
      "Anxiety\n"
     ]
    }
   ],
   "source": [
    "for note in list(data['pmhx'])[:10]:\n",
    "    print (note)"
   ]
  },
  {
   "cell_type": "code",
   "execution_count": 53,
   "metadata": {},
   "outputs": [],
   "source": [
    "data['combo'] = data['SubjectiveNotes'].astype('str') + '  ' + df2['pmhx'].astype('str')"
   ]
  },
  {
   "cell_type": "code",
   "execution_count": 54,
   "metadata": {},
   "outputs": [
    {
     "name": "stdout",
     "output_type": "stream",
     "text": [
      "\n",
      " patient states that she feels shaky.  patient denies any pain.  No Significant Medical History\n",
      "\n",
      " patient states no pain.  No Significant Medical History\n",
      "\n",
      " denied chest pain  No Significant Medical History\n",
      "\n",
      " Denies pain. Eating ED lunch at triage  Dialysis Haemo/PD,IDDM (Insulin-Dependent Diabetes Mellitus),CRF (Chronic Renal Failure),heart problem,High Cholesterol\n",
      "\n",
      " patient complains of pain  on the left wrist and left ankle , no obvious deformity , with minor laceration  in between left thumb, and  2nd digit left finger .  Fibromyalgia\n",
      "\n",
      " The patient states his pain is manageable. Still shivering-patient was laying on a cold concrete floor. Denies any other injuries other then the left leg.  enlarged liver\n",
      "\n",
      " As per the police the patient-was having an agressive altercation with his mother.  The patient was to have mentioned to a call taker that he was suicidal.  The patient has a his of autism and some behaviour issues.  Anxiety,Autistic,ADHD (Attention Deficit Hyperactivity Disorder),Depression,Asthma,Celiac\n",
      "\n",
      " patient states feels weak, complains of pain to feet x 3-4 days, nauseated  No Significant Medical History\n",
      "\n",
      " complains of pain of frontal headache, continues to complains of generalized body pain.  Hypothyroid\n",
      "\n",
      " patient states feels pain is behind his lungs. patient states urine is darker than normal. states discomfort when voiding.  Anxiety\n",
      "\n",
      " patient states everything is ok.  Denies any head pain.  No Significant Medical History\n",
      "\n",
      " C/O swelling and tingling to left knee gradually increasing since 2 days. Stated no injury to limb. Nil trauma. Stated pain increases with sitting. Walks with a limp. Stated otherwise OK. Presently on antibiotics for bladder infection and gum abscess.  Hypertension (HTN)\n",
      "\n",
      " States she was taking out the garbage when she slipped and fell. Denies head injury.  Arthritis,COPD (Chronic Obstructive Pulmonary Disease)\n",
      "\n",
      " patient complains of frontal headache - greater than 10/10. Denies nausea or vomitting.  ITP, Wiscott-Aldridge Syndrome ,Eczema\n",
      "\n",
      " complains of chest heaviness, with sweating. patient denies suicidal ideation at present but \"doesn't want to be in this situation\". Teary at triage.  Suicidal attempts ,Depression\n",
      "\n",
      " patient complains of L posterior knee pain since 3 days, pain gets worse while walking. patient states that his knee is swollen posteriorly. No fall/ injury.  High Cholesterol,Hypertension (HTN),NIDDM (Non-Insulin-Dependent Diabetes Mellitus),CABG,L knee surgery 15 years ago\n",
      "\n",
      " No other complaints  sepsis,UTI,Ca lungs ,ca bronchus,Hypothyroid,Glaucoma Cataract/Cataract Repair,kidney disease,Anemia\n",
      "\n",
      " patient was sent to told by family doctor that he needs to go to detox as his liver functions are not very good. patient went to Wilkinson Shelter and was told that he needs to come to ED for medical clearance. patient states last drink was last night - reports having a bottle of wine. Denies having abdominal pain. Vomitted x 1. Denis having any headache. Denies any other drug use.  Alcoholism\n",
      "\n",
      " patient denies any pain.  Gerd,High Cholesterol\n",
      "\n",
      " patient denies taking any advil today. complains of pain to chest and shoulders - states her normal pain.  hypertension, TIA, Osteoporosis, diverticulitis, high cholesterol, anxiety, depression,Aortic Stenosis\n"
     ]
    }
   ],
   "source": [
    "for note in list(data['combo'])[:20]:\n",
    "    print ('\\n', note)"
   ]
  },
  {
   "cell_type": "markdown",
   "metadata": {},
   "source": [
    "#### these next 4 cells are creating \"databunches\" that I can use to train the language model and classifier later"
   ]
  },
  {
   "cell_type": "code",
   "execution_count": 55,
   "metadata": {},
   "outputs": [],
   "source": [
    "#language model databunch based on full dataset\n",
    "data_lm = (TextList.from_df(data, cols='combo')\n",
    "                   .split_by_rand_pct(0.1)\n",
    "                   .label_for_lm()\n",
    "                   .databunch())"
   ]
  },
  {
   "cell_type": "code",
   "execution_count": 56,
   "metadata": {},
   "outputs": [],
   "source": [
    "#classification databunch for small dataset and languange model\n",
    "data_clas = (TextList.from_df(data, cols='combo',vocab=data_lm.vocab)\n",
    "                   .split_by_rand_pct(0.1)\n",
    "                   .label_from_df(cols = 'discharge')\n",
    "                   .databunch())"
   ]
  },
  {
   "cell_type": "code",
   "execution_count": 57,
   "metadata": {},
   "outputs": [
    {
     "data": {
      "text/html": [
       "<table border=\"1\" class=\"dataframe\">\n",
       "  <thead>\n",
       "    <tr style=\"text-align: left;\">\n",
       "      <th>epoch</th>\n",
       "      <th>train_loss</th>\n",
       "      <th>valid_loss</th>\n",
       "      <th>accuracy</th>\n",
       "      <th>time</th>\n",
       "    </tr>\n",
       "  </thead>\n",
       "  <tbody>\n",
       "    <tr>\n",
       "      <td>0</td>\n",
       "      <td>3.005047</td>\n",
       "      <td>2.842025</td>\n",
       "      <td>0.436471</td>\n",
       "      <td>08:19</td>\n",
       "    </tr>\n",
       "    <tr>\n",
       "      <td>1</td>\n",
       "      <td>2.818526</td>\n",
       "      <td>2.711979</td>\n",
       "      <td>0.448780</td>\n",
       "      <td>08:20</td>\n",
       "    </tr>\n",
       "    <tr>\n",
       "      <td>2</td>\n",
       "      <td>2.749870</td>\n",
       "      <td>2.672798</td>\n",
       "      <td>0.453178</td>\n",
       "      <td>08:20</td>\n",
       "    </tr>\n",
       "  </tbody>\n",
       "</table>"
      ],
      "text/plain": [
       "<IPython.core.display.HTML object>"
      ]
     },
     "metadata": {},
     "output_type": "display_data"
    },
    {
     "data": {
      "text/html": [
       "<table border=\"1\" class=\"dataframe\">\n",
       "  <thead>\n",
       "    <tr style=\"text-align: left;\">\n",
       "      <th>epoch</th>\n",
       "      <th>train_loss</th>\n",
       "      <th>valid_loss</th>\n",
       "      <th>accuracy</th>\n",
       "      <th>time</th>\n",
       "    </tr>\n",
       "  </thead>\n",
       "  <tbody>\n",
       "    <tr>\n",
       "      <td>0</td>\n",
       "      <td>2.534408</td>\n",
       "      <td>2.501281</td>\n",
       "      <td>0.475840</td>\n",
       "      <td>10:17</td>\n",
       "    </tr>\n",
       "    <tr>\n",
       "      <td>1</td>\n",
       "      <td>2.452751</td>\n",
       "      <td>2.401851</td>\n",
       "      <td>0.491009</td>\n",
       "      <td>10:14</td>\n",
       "    </tr>\n",
       "    <tr>\n",
       "      <td>2</td>\n",
       "      <td>2.317590</td>\n",
       "      <td>2.305281</td>\n",
       "      <td>0.504433</td>\n",
       "      <td>10:14</td>\n",
       "    </tr>\n",
       "    <tr>\n",
       "      <td>3</td>\n",
       "      <td>2.149034</td>\n",
       "      <td>2.229910</td>\n",
       "      <td>0.515781</td>\n",
       "      <td>10:13</td>\n",
       "    </tr>\n",
       "    <tr>\n",
       "      <td>4</td>\n",
       "      <td>1.985029</td>\n",
       "      <td>2.226172</td>\n",
       "      <td>0.517910</td>\n",
       "      <td>10:13</td>\n",
       "    </tr>\n",
       "  </tbody>\n",
       "</table>"
      ],
      "text/plain": [
       "<IPython.core.display.HTML object>"
      ]
     },
     "metadata": {},
     "output_type": "display_data"
    }
   ],
   "source": [
    "lmlearn = language_model_learner(data_lm, arch = AWD_LSTM, drop_mult=0.3)\n",
    "lmlearn.fit_one_cycle(3, 1e-2, moms=(0.8,0.7))\n",
    "lmlearn.unfreeze()\n",
    "lmlearn.fit_one_cycle(5, 1e-2, moms=(0.8,0.7))"
   ]
  },
  {
   "cell_type": "code",
   "execution_count": 58,
   "metadata": {
    "scrolled": true
   },
   "outputs": [],
   "source": [
    "#the above training scheme is good so I'm going to save this as my language model\n",
    "#which is basically saving the embedding matrix from the language modelling nerual network\n",
    "lmlearn.save_encoder(model_path + '/edsent_subjcombo_enc')"
   ]
  },
  {
   "cell_type": "code",
   "execution_count": 59,
   "metadata": {},
   "outputs": [
    {
     "data": {
      "image/png": "[encoded data removed]",
      "text/plain": [
       "<Figure size 432x288 with 1 Axes>"
      ]
     },
     "metadata": {
      "needs_background": "light"
     },
     "output_type": "display_data"
    }
   ],
   "source": [
    "lmlearn.recorder.plot_losses()"
   ]
  },
  {
   "cell_type": "markdown",
   "metadata": {},
   "source": [
    "All that work was done to get the best language model I could get which seems to have\n",
    "accuracy of about 51%\n",
    "\n",
    "Now on to training the classifier"
   ]
  },
  {
   "cell_type": "code",
   "execution_count": 63,
   "metadata": {},
   "outputs": [],
   "source": [
    "f1 = FBeta(beta=1, average = 'binary')\n",
    "def train_triage_classifier(encoder_name, datac = data_clas, datal = data_lm, \n",
    "                            mets = [accuracy,f1], num_cycles = 1, lr = 1e-2, drop_mult = 0.5):\n",
    "    model = text_classifier_learner(datac, metrics = mets, arch = AWD_LSTM, drop_mult=drop_mult)\n",
    "    model.load_encoder(model_path + '/' + encoder_name)\n",
    "    model.fit_one_cycle(num_cycles, lr, moms=(0.8,0.7))\n",
    "    model.freeze_to(-2)\n",
    "    model.fit_one_cycle(num_cycles, slice(lr/(2.6**4),lr), moms=(0.8,0.7))\n",
    "    model.freeze_to(-3)\n",
    "    model.fit_one_cycle(num_cycles, slice((lr/2)/(2.6**4),(lr/2)), moms=(0.8,0.7))\n",
    "    model.unfreeze()\n",
    "    model.fit_one_cycle(num_cycles*5, slice((lr/100)/(2.6**4),(lr/100)), moms=(0.8,0.7))\n",
    "    model.recorder.plot_losses()\n",
    "    return model"
   ]
  },
  {
   "cell_type": "markdown",
   "metadata": {},
   "source": [
    "#### first pass at training classifier (I am using the small dataset here)"
   ]
  },
  {
   "cell_type": "code",
   "execution_count": 65,
   "metadata": {},
   "outputs": [
    {
     "data": {
      "text/html": [
       "<table border=\"1\" class=\"dataframe\">\n",
       "  <thead>\n",
       "    <tr style=\"text-align: left;\">\n",
       "      <th>epoch</th>\n",
       "      <th>train_loss</th>\n",
       "      <th>valid_loss</th>\n",
       "      <th>accuracy</th>\n",
       "      <th>f_beta</th>\n",
       "      <th>time</th>\n",
       "    </tr>\n",
       "  </thead>\n",
       "  <tbody>\n",
       "    <tr>\n",
       "      <td>0</td>\n",
       "      <td>0.258108</td>\n",
       "      <td>0.271953</td>\n",
       "      <td>0.901150</td>\n",
       "      <td>0.947678</td>\n",
       "      <td>04:05</td>\n",
       "    </tr>\n",
       "  </tbody>\n",
       "</table>"
      ],
      "text/plain": [
       "<IPython.core.display.HTML object>"
      ]
     },
     "metadata": {},
     "output_type": "display_data"
    },
    {
     "data": {
      "text/html": [
       "<table border=\"1\" class=\"dataframe\">\n",
       "  <thead>\n",
       "    <tr style=\"text-align: left;\">\n",
       "      <th>epoch</th>\n",
       "      <th>train_loss</th>\n",
       "      <th>valid_loss</th>\n",
       "      <th>accuracy</th>\n",
       "      <th>f_beta</th>\n",
       "      <th>time</th>\n",
       "    </tr>\n",
       "  </thead>\n",
       "  <tbody>\n",
       "    <tr>\n",
       "      <td>0</td>\n",
       "      <td>0.271711</td>\n",
       "      <td>0.270886</td>\n",
       "      <td>0.901053</td>\n",
       "      <td>0.947640</td>\n",
       "      <td>05:07</td>\n",
       "    </tr>\n",
       "  </tbody>\n",
       "</table>"
      ],
      "text/plain": [
       "<IPython.core.display.HTML object>"
      ]
     },
     "metadata": {},
     "output_type": "display_data"
    },
    {
     "data": {
      "text/html": [
       "<table border=\"1\" class=\"dataframe\">\n",
       "  <thead>\n",
       "    <tr style=\"text-align: left;\">\n",
       "      <th>epoch</th>\n",
       "      <th>train_loss</th>\n",
       "      <th>valid_loss</th>\n",
       "      <th>accuracy</th>\n",
       "      <th>f_beta</th>\n",
       "      <th>time</th>\n",
       "    </tr>\n",
       "  </thead>\n",
       "  <tbody>\n",
       "    <tr>\n",
       "      <td>0</td>\n",
       "      <td>0.255870</td>\n",
       "      <td>0.268282</td>\n",
       "      <td>0.900955</td>\n",
       "      <td>0.947602</td>\n",
       "      <td>08:41</td>\n",
       "    </tr>\n",
       "  </tbody>\n",
       "</table>"
      ],
      "text/plain": [
       "<IPython.core.display.HTML object>"
      ]
     },
     "metadata": {},
     "output_type": "display_data"
    },
    {
     "data": {
      "text/html": [
       "<table border=\"1\" class=\"dataframe\">\n",
       "  <thead>\n",
       "    <tr style=\"text-align: left;\">\n",
       "      <th>epoch</th>\n",
       "      <th>train_loss</th>\n",
       "      <th>valid_loss</th>\n",
       "      <th>accuracy</th>\n",
       "      <th>f_beta</th>\n",
       "      <th>time</th>\n",
       "    </tr>\n",
       "  </thead>\n",
       "  <tbody>\n",
       "    <tr>\n",
       "      <td>0</td>\n",
       "      <td>0.260550</td>\n",
       "      <td>0.267756</td>\n",
       "      <td>0.902320</td>\n",
       "      <td>0.948228</td>\n",
       "      <td>10:41</td>\n",
       "    </tr>\n",
       "    <tr>\n",
       "      <td>1</td>\n",
       "      <td>0.263945</td>\n",
       "      <td>0.267451</td>\n",
       "      <td>0.902613</td>\n",
       "      <td>0.948391</td>\n",
       "      <td>11:01</td>\n",
       "    </tr>\n",
       "    <tr>\n",
       "      <td>2</td>\n",
       "      <td>0.245782</td>\n",
       "      <td>0.267676</td>\n",
       "      <td>0.901735</td>\n",
       "      <td>0.947982</td>\n",
       "      <td>10:53</td>\n",
       "    </tr>\n",
       "    <tr>\n",
       "      <td>3</td>\n",
       "      <td>0.271788</td>\n",
       "      <td>0.268039</td>\n",
       "      <td>0.900663</td>\n",
       "      <td>0.947281</td>\n",
       "      <td>11:01</td>\n",
       "    </tr>\n",
       "    <tr>\n",
       "      <td>4</td>\n",
       "      <td>0.261068</td>\n",
       "      <td>0.268137</td>\n",
       "      <td>0.901930</td>\n",
       "      <td>0.948000</td>\n",
       "      <td>11:02</td>\n",
       "    </tr>\n",
       "  </tbody>\n",
       "</table>"
      ],
      "text/plain": [
       "<IPython.core.display.HTML object>"
      ]
     },
     "metadata": {},
     "output_type": "display_data"
    },
    {
     "data": {
      "image/png": "[encoded data removed]",
      "text/plain": [
       "<Figure size 432x288 with 1 Axes>"
      ]
     },
     "metadata": {
      "needs_background": "light"
     },
     "output_type": "display_data"
    }
   ],
   "source": [
    "sent_learn = train_triage_classifier('edsent_subjcombo_enc', num_cycles = 1, lr = 1e-3)"
   ]
  },
  {
   "cell_type": "code",
   "execution_count": 66,
   "metadata": {},
   "outputs": [],
   "source": [
    "preds, targets = sent_learn.get_preds(DatasetType.Valid) \n",
    "predictions = np.argmax(preds, axis = 1) "
   ]
  },
  {
   "cell_type": "code",
   "execution_count": 67,
   "metadata": {},
   "outputs": [
    {
     "data": {
      "image/png": "[encoded data removed]",
      "text/plain": [
       "<Figure size 360x360 with 2 Axes>"
      ]
     },
     "metadata": {},
     "output_type": "display_data"
    }
   ],
   "source": [
    "%matplotlib inline\n",
    "from sklearn import metrics\n",
    "import matplotlib.pyplot as plt\n",
    "import seaborn as sns\n",
    "sns.set(font_scale=2)\n",
    "\n",
    "LABELS = data_clas.classes\n",
    "\n",
    "confusion_matrix = metrics.confusion_matrix(targets, predictions)\n",
    "\n",
    "plt.figure(figsize=(5, 5))\n",
    "sns.heatmap(confusion_matrix, xticklabels=LABELS, yticklabels=LABELS, annot=True, fmt=\"d\", annot_kws={\"size\": 20});\n",
    "plt.title(\"Confusion matrix\", fontsize=20)\n",
    "plt.ylabel('True label', fontsize=20)\n",
    "plt.xlabel('Predicted label', fontsize=20)\n",
    "plt.show()"
   ]
  },
  {
   "cell_type": "code",
   "execution_count": 69,
   "metadata": {},
   "outputs": [],
   "source": [
    "sent_learn.save(model_path + '/edtriage_combo_bin')"
   ]
  },
  {
   "cell_type": "code",
   "execution_count": null,
   "metadata": {},
   "outputs": [],
   "source": [
    "data_clas = (TextList.from_df(data, cols='combo',vocab=data_lm.vocab)\n",
    "                   .split_by_rand_pct(0.1)\n",
    "                   .label_from_df(cols = 'outcome')\n",
    "                   .databunch())"
   ]
  }
 ],
 "metadata": {
  "kernelspec": {
   "display_name": "Python 3",
   "language": "python",
   "name": "python3"
  },
  "language_info": {
   "codemirror_mode": {
    "name": "ipython",
    "version": 3
   },
   "file_extension": ".py",
   "mimetype": "text/x-python",
   "name": "python",
   "nbconvert_exporter": "python",
   "pygments_lexer": "ipython3",
   "version": "3.6.5"
  }
 },
 "nbformat": 4,
 "nbformat_minor": 2
}
