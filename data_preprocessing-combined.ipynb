{
 "cells": [
  {
   "cell_type": "markdown",
   "metadata": {},
   "source": [
    "### this notebook is going to be used for merging the two datasets"
   ]
  },
  {
   "cell_type": "code",
   "execution_count": 28,
   "metadata": {},
   "outputs": [],
   "source": [
    "import fastai\n",
    "from fastai.tabular import *\n",
    "from fastai.text import *\n",
    "\n",
    "import pandas as pd\n",
    "import numpy as np"
   ]
  },
  {
   "cell_type": "code",
   "execution_count": 20,
   "metadata": {},
   "outputs": [],
   "source": [
    "#first reload the bch dataset\n",
    "path = '/Users/jjaskolkambp/Desktop/machine learning/my_projects/ed-triage'\n",
    "\n",
    "bch_data_path = '/Users/jjaskolkambp/Desktop/machine learning/my_projects/data/ED triage project/bch'\n",
    "egh_data_path = '/Users/jjaskolkambp/Desktop/machine learning/my_projects/data/ED triage project/egh'\n",
    "bch_df = pd.read_csv(bch_data_path +'/complete_clean_bch_data.csv', index_col = 0, low_memory = False)\n",
    "egh_df = pd.read_csv(egh_data_path +'/complete_clean_egh_data.csv', index_col = 0, low_memory = False)\n"
   ]
  },
  {
   "cell_type": "code",
   "execution_count": 21,
   "metadata": {},
   "outputs": [],
   "source": [
    "#now reorder the EGH dataset columns to match the BCH dataset columns\n",
    "egh_df = egh_df.reindex(columns=bch_df.columns)"
   ]
  },
  {
   "cell_type": "code",
   "execution_count": 22,
   "metadata": {},
   "outputs": [],
   "source": [
    "#now add a column to each indicating the site\n",
    "egh_df['site'] = 'EGH'\n",
    "bch_df['site'] = 'BCH'"
   ]
  },
  {
   "cell_type": "code",
   "execution_count": 23,
   "metadata": {},
   "outputs": [
    {
     "data": {
      "text/plain": [
       "(165957, 59)"
      ]
     },
     "execution_count": 23,
     "metadata": {},
     "output_type": "execute_result"
    }
   ],
   "source": [
    "#now merge them\n",
    "combo_df = pd.concat([bch_df, egh_df], axis = 0)\n",
    "combo_df.shape"
   ]
  },
  {
   "cell_type": "code",
   "execution_count": 24,
   "metadata": {},
   "outputs": [
    {
     "data": {
      "text/plain": [
       "(165433, 59)"
      ]
     },
     "execution_count": 24,
     "metadata": {},
     "output_type": "execute_result"
    }
   ],
   "source": [
    "combo_df.dropna(subset = ['CleanSubjectiveNotes','CleanMedicalHistory'], inplace = True)\n",
    "combo_df.shape"
   ]
  },
  {
   "cell_type": "code",
   "execution_count": 25,
   "metadata": {},
   "outputs": [],
   "source": [
    "#need to reindex because there's some overlap in the id's from the egh and bch datasets\n",
    "\n",
    "new_index = np.arange(len(combo_df))\n",
    "\n",
    "combo_df.index = new_index"
   ]
  },
  {
   "cell_type": "code",
   "execution_count": 26,
   "metadata": {},
   "outputs": [],
   "source": [
    "#need to create a set of validation indices to use across all databunches...\n",
    "import random\n",
    "\n",
    "valid_idxs = random.sample(list(combo_df.index), len(combo_df)//5)\n",
    "\n",
    "valid_df = pd.DataFrame(valid_idxs)\n",
    "valid_df.to_csv(path + '/valid_idxs.csv', index=False)"
   ]
  },
  {
   "cell_type": "code",
   "execution_count": 29,
   "metadata": {},
   "outputs": [],
   "source": [
    "# make the date columns\n",
    "date_columns = ['Triage Date & Time', 'Reg Date & Time']\n",
    "for col in date_columns:\n",
    "    add_datepart(combo_df, col, drop = False, time = True)\n",
    "    add_cyclic_datepart(combo_df, col, time = True)"
   ]
  },
  {
   "cell_type": "markdown",
   "metadata": {},
   "source": [
    "### gonna make balanced combo datasets"
   ]
  },
  {
   "cell_type": "code",
   "execution_count": 31,
   "metadata": {},
   "outputs": [
    {
     "data": {
      "text/plain": [
       "(Counter({1.0: 149218, 3.0: 2169, 2.0: 13701, 4.0: 345}),\n",
       " Counter({1.0: 149218, 0.0: 16215}))"
      ]
     },
     "execution_count": 31,
     "metadata": {},
     "output_type": "execute_result"
    }
   ],
   "source": [
    "Counter(combo_df.target), Counter(combo_df.target3)"
   ]
  },
  {
   "cell_type": "code",
   "execution_count": 32,
   "metadata": {},
   "outputs": [],
   "source": [
    "admit_df = combo_df[combo_df.target3 == 0]\n",
    "\n",
    "dc_df = combo_df[combo_df.target3==1]\n",
    "dc_df = dc_df.sample(n= len(admit_df))  #this is the number of admissions from target 3\n",
    "\n"
   ]
  },
  {
   "cell_type": "code",
   "execution_count": 33,
   "metadata": {},
   "outputs": [],
   "source": [
    "combo_balanced_df1 = pd.concat([admit_df, dc_df], axis = 0)"
   ]
  },
  {
   "cell_type": "code",
   "execution_count": 34,
   "metadata": {},
   "outputs": [],
   "source": [
    "icu_df = combo_df[combo_df.target2 == 4]\n",
    "madmit_df = combo_df[combo_df.target2 ==3].sample(n = len(icu_df))\n",
    "sadmit_df = combo_df[combo_df.target2 ==2].sample(n = len(icu_df))\n",
    "disc_df = combo_df[combo_df.target2 == 1].sample(n = len(icu_df))"
   ]
  },
  {
   "cell_type": "code",
   "execution_count": 35,
   "metadata": {},
   "outputs": [],
   "source": [
    "#this is a dataframe with equal numbers of all 4 classes\n",
    "combo_balanced_df2 = pd.concat([icu_df, madmit_df, sadmit_df, disc_df], axis = 0)"
   ]
  },
  {
   "cell_type": "code",
   "execution_count": 36,
   "metadata": {},
   "outputs": [],
   "source": [
    "non_icu_df = combo_df[combo_df.target2 !=4].sample(n = len(icu_df))"
   ]
  },
  {
   "cell_type": "code",
   "execution_count": 37,
   "metadata": {},
   "outputs": [],
   "source": [
    "combo_balanced_df3 = pd.concat([icu_df, non_icu_df], axis = 0)"
   ]
  },
  {
   "cell_type": "code",
   "execution_count": 39,
   "metadata": {},
   "outputs": [],
   "source": [
    "\n",
    "combo_data_path = '/Users/jjaskolkambp/Desktop/machine learning/my_projects/data/ED triage project/combo'\n",
    "\n",
    "combo_balanced_df1.to_csv(combo_data_path + '/balanced_admit_dc_combo_data.csv')\n",
    "\n",
    "combo_balanced_df2.to_csv(combo_data_path +'/balanced_4cls_combo_data.csv')\n",
    "\n",
    "combo_balanced_df3.to_csv(combo_data_path +'/balanced_icuvsother_combo_data.csv')\n",
    "\n",
    "combo_df.to_csv(combo_data_path +'/complete_clean_combo_data.csv')\n",
    "\n"
   ]
  },
  {
   "cell_type": "code",
   "execution_count": null,
   "metadata": {},
   "outputs": [],
   "source": []
  }
 ],
 "metadata": {
  "kernelspec": {
   "display_name": "Python [default]",
   "language": "python",
   "name": "python3"
  },
  "language_info": {
   "codemirror_mode": {
    "name": "ipython",
    "version": 3
   },
   "file_extension": ".py",
   "mimetype": "text/x-python",
   "name": "python",
   "nbconvert_exporter": "python",
   "pygments_lexer": "ipython3",
   "version": "3.6.5"
  }
 },
 "nbformat": 4,
 "nbformat_minor": 2
}
