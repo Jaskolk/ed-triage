{
 "cells": [
  {
   "cell_type": "markdown",
   "metadata": {},
   "source": [
    "### this notebook is going to be used for merging the two datasets"
   ]
  },
  {
   "cell_type": "code",
   "execution_count": 3,
   "metadata": {},
   "outputs": [],
   "source": [
    "#import fastai\n",
    "#from fastai.tabular import *\n",
    "#from fastai.text import *\n",
    "\n",
    "import pandas as pd\n",
    "import numpy as np"
   ]
  },
  {
   "cell_type": "code",
   "execution_count": 20,
   "metadata": {},
   "outputs": [],
   "source": [
    "#first reload the bch dataset\n",
    "path = '/Users/jjaskolkambp/Desktop/machine learning/my_projects/ed-triage'\n",
    "\n",
    "bch_data_path = '/Users/jjaskolkambp/Desktop/machine learning/my_projects/data/ED triage project/bch'\n",
    "egh_data_path = '/Users/jjaskolkambp/Desktop/machine learning/my_projects/data/ED triage project/egh'\n",
    "bch_df = pd.read_csv(bch_data_path +'/complete_clean_bch_data.csv', index_col = 0, low_memory = False)\n",
    "egh_df = pd.read_csv(egh_data_path +'/complete_clean_egh_data.csv', index_col = 0, low_memory = False)\n"
   ]
  },
  {
   "cell_type": "code",
   "execution_count": 21,
   "metadata": {},
   "outputs": [],
   "source": [
    "#now reorder the EGH dataset columns to match the BCH dataset columns\n",
    "egh_df = egh_df.reindex(columns=bch_df.columns)"
   ]
  },
  {
   "cell_type": "code",
   "execution_count": 22,
   "metadata": {},
   "outputs": [],
   "source": [
    "#now add a column to each indicating the site\n",
    "egh_df['site'] = 'EGH'\n",
    "bch_df['site'] = 'BCH'"
   ]
  },
  {
   "cell_type": "code",
   "execution_count": 23,
   "metadata": {},
   "outputs": [
    {
     "data": {
      "text/plain": [
       "(165957, 59)"
      ]
     },
     "execution_count": 23,
     "metadata": {},
     "output_type": "execute_result"
    }
   ],
   "source": [
    "#now merge them\n",
    "combo_df = pd.concat([bch_df, egh_df], axis = 0)\n",
    "combo_df.shape"
   ]
  },
  {
   "cell_type": "code",
   "execution_count": 24,
   "metadata": {},
   "outputs": [
    {
     "data": {
      "text/plain": [
       "(165433, 59)"
      ]
     },
     "execution_count": 24,
     "metadata": {},
     "output_type": "execute_result"
    }
   ],
   "source": [
    "combo_df.dropna(subset = ['CleanSubjectiveNotes','CleanMedicalHistory'], inplace = True)\n",
    "combo_df.shape"
   ]
  },
  {
   "cell_type": "code",
   "execution_count": 25,
   "metadata": {},
   "outputs": [],
   "source": [
    "#need to reindex because there's some overlap in the id's from the egh and bch datasets\n",
    "\n",
    "new_index = np.arange(len(combo_df))\n",
    "\n",
    "combo_df.index = new_index"
   ]
  },
  {
   "cell_type": "code",
   "execution_count": null,
   "metadata": {},
   "outputs": [],
   "source": [
    "dx_code_dict = {code:i for i,code in enumerate(set(combo_df['MainDiagnosisCode']))}\n",
    "\n",
    "def convert_dxcode(s):\n",
    "    code = dx_code_dict[s]\n",
    "    return (code)\n",
    "\n",
    "combo_df['recoded_diagnosis'] = combo_df['MainDiagnosisCode'].map(convert_dxcode)"
   ]
  },
  {
   "cell_type": "code",
   "execution_count": 26,
   "metadata": {},
   "outputs": [],
   "source": [
    "#need to create a set of validation indices to use across all databunches...\n",
    "import random\n",
    "\n",
    "valid_idxs = random.sample(list(combo_df.index), len(combo_df)//5)\n",
    "\n",
    "valid_df = pd.DataFrame(valid_idxs)\n",
    "valid_df.to_csv(path + '/valid_idxs.csv', index=False)"
   ]
  },
  {
   "cell_type": "code",
   "execution_count": 29,
   "metadata": {},
   "outputs": [],
   "source": [
    "# make the date columns\n",
    "date_columns = ['Triage Date & Time', 'Reg Date & Time']\n",
    "for col in date_columns:\n",
    "    add_datepart(combo_df, col, drop = False, time = True)\n",
    "    add_cyclic_datepart(combo_df, col, time = True)"
   ]
  },
  {
   "cell_type": "code",
   "execution_count": null,
   "metadata": {},
   "outputs": [],
   "source": [
    "clin['ICUvsother'].fillna(0, inplace = True)"
   ]
  },
  {
   "cell_type": "markdown",
   "metadata": {},
   "source": [
    "### gonna make balanced combo datasets"
   ]
  },
  {
   "cell_type": "code",
   "execution_count": 31,
   "metadata": {},
   "outputs": [
    {
     "data": {
      "text/plain": [
       "(Counter({1.0: 149218, 3.0: 2169, 2.0: 13701, 4.0: 345}),\n",
       " Counter({1.0: 149218, 0.0: 16215}))"
      ]
     },
     "execution_count": 31,
     "metadata": {},
     "output_type": "execute_result"
    }
   ],
   "source": [
    "Counter(combo_df.target), Counter(combo_df.target3)"
   ]
  },
  {
   "cell_type": "code",
   "execution_count": 32,
   "metadata": {},
   "outputs": [],
   "source": [
    "admit_df = combo_df[combo_df.target3 == 0]\n",
    "\n",
    "dc_df = combo_df[combo_df.target3==1]\n",
    "dc_df = dc_df.sample(n= len(admit_df))  #this is the number of admissions from target 3\n",
    "\n"
   ]
  },
  {
   "cell_type": "code",
   "execution_count": 33,
   "metadata": {},
   "outputs": [],
   "source": [
    "combo_balanced_df1 = pd.concat([admit_df, dc_df], axis = 0)"
   ]
  },
  {
   "cell_type": "code",
   "execution_count": 34,
   "metadata": {},
   "outputs": [],
   "source": [
    "icu_df = combo_df[combo_df.target2 == 4]\n",
    "madmit_df = combo_df[combo_df.target2 ==3].sample(n = len(icu_df))\n",
    "sadmit_df = combo_df[combo_df.target2 ==2].sample(n = len(icu_df))\n",
    "disc_df = combo_df[combo_df.target2 == 1].sample(n = len(icu_df))"
   ]
  },
  {
   "cell_type": "code",
   "execution_count": 35,
   "metadata": {},
   "outputs": [],
   "source": [
    "#this is a dataframe with equal numbers of all 4 classes\n",
    "combo_balanced_df2 = pd.concat([icu_df, madmit_df, sadmit_df, disc_df], axis = 0)"
   ]
  },
  {
   "cell_type": "code",
   "execution_count": 36,
   "metadata": {},
   "outputs": [],
   "source": [
    "non_icu_df = combo_df[combo_df.target2 !=4].sample(n = len(icu_df))"
   ]
  },
  {
   "cell_type": "code",
   "execution_count": 37,
   "metadata": {},
   "outputs": [],
   "source": [
    "combo_balanced_df3 = pd.concat([icu_df, non_icu_df], axis = 0)"
   ]
  },
  {
   "cell_type": "code",
   "execution_count": 39,
   "metadata": {},
   "outputs": [],
   "source": [
    "\n",
    "combo_data_path = '/Users/jjaskolkambp/Desktop/machine learning/my_projects/data/ED triage project/combo'\n",
    "\n",
    "combo_balanced_df1.to_csv(combo_data_path + '/balanced_admit_dc_combo_data.csv')\n",
    "\n",
    "combo_balanced_df2.to_csv(combo_data_path +'/balanced_4cls_combo_data.csv')\n",
    "\n",
    "combo_balanced_df3.to_csv(combo_data_path +'/balanced_icuvsother_combo_data.csv')\n",
    "\n",
    "combo_df.to_csv(combo_data_path +'/complete_clean_combo_data.csv')\n",
    "\n"
   ]
  },
  {
   "cell_type": "markdown",
   "metadata": {},
   "source": [
    "### this section is for only the NLP related fields of the dataset"
   ]
  },
  {
   "cell_type": "code",
   "execution_count": 4,
   "metadata": {},
   "outputs": [],
   "source": [
    "#first reload the bch dataset\n",
    "path = '/Users/jjaskolkambp/Desktop/machine learning/my_projects/ed-triage'\n",
    "\n",
    "bch_data_path = '/Users/jjaskolkambp/Desktop/machine learning/my_projects/data/ED triage project/bch'\n",
    "egh_data_path = '/Users/jjaskolkambp/Desktop/machine learning/my_projects/data/ED triage project/egh'\n",
    "bch_df = pd.read_csv(bch_data_path +'/clean_nlp_data_bch.csv', index_col = 0, low_memory = False)\n",
    "egh_df = pd.read_csv(egh_data_path +'/clean_nlp_data_egh.csv', index_col = 0, low_memory = False)\n"
   ]
  },
  {
   "cell_type": "code",
   "execution_count": 5,
   "metadata": {},
   "outputs": [],
   "source": [
    "#now reorder the EGH dataset columns to match the BCH dataset columns\n",
    "egh_df = egh_df.reindex(columns=bch_df.columns)"
   ]
  },
  {
   "cell_type": "code",
   "execution_count": 6,
   "metadata": {},
   "outputs": [],
   "source": [
    "#now add a column to each indicating the site\n",
    "egh_df['site'] = 'EGH'\n",
    "bch_df['site'] = 'BCH'"
   ]
  },
  {
   "cell_type": "code",
   "execution_count": 7,
   "metadata": {},
   "outputs": [
    {
     "data": {
      "text/plain": [
       "(165957, 14)"
      ]
     },
     "execution_count": 7,
     "metadata": {},
     "output_type": "execute_result"
    }
   ],
   "source": [
    "#now merge them\n",
    "combo_df = pd.concat([bch_df, egh_df], axis = 0)\n",
    "combo_df.shape"
   ]
  },
  {
   "cell_type": "code",
   "execution_count": 9,
   "metadata": {},
   "outputs": [
    {
     "data": {
      "text/html": [
       "<div>\n",
       "<style scoped>\n",
       "    .dataframe tbody tr th:only-of-type {\n",
       "        vertical-align: middle;\n",
       "    }\n",
       "\n",
       "    .dataframe tbody tr th {\n",
       "        vertical-align: top;\n",
       "    }\n",
       "\n",
       "    .dataframe thead th {\n",
       "        text-align: right;\n",
       "    }\n",
       "</style>\n",
       "<table border=\"1\" class=\"dataframe\">\n",
       "  <thead>\n",
       "    <tr style=\"text-align: right;\">\n",
       "      <th></th>\n",
       "      <th>CleanSubjectiveNotes</th>\n",
       "      <th>pmhx</th>\n",
       "      <th>num_comorbids</th>\n",
       "      <th>outcome</th>\n",
       "      <th>target</th>\n",
       "      <th>service</th>\n",
       "      <th>target2</th>\n",
       "      <th>discharge</th>\n",
       "      <th>target3</th>\n",
       "      <th>dispo</th>\n",
       "      <th>target4</th>\n",
       "      <th>ICUvsother</th>\n",
       "      <th>target5</th>\n",
       "      <th>site</th>\n",
       "    </tr>\n",
       "  </thead>\n",
       "  <tbody>\n",
       "    <tr>\n",
       "      <th>148</th>\n",
       "      <td>patient states that she feels shaky patient de...</td>\n",
       "      <td>no significant medical history</td>\n",
       "      <td>0</td>\n",
       "      <td>discharge</td>\n",
       "      <td>1</td>\n",
       "      <td>discharge</td>\n",
       "      <td>1</td>\n",
       "      <td>discharge</td>\n",
       "      <td>1</td>\n",
       "      <td>NaN</td>\n",
       "      <td>NaN</td>\n",
       "      <td>NaN</td>\n",
       "      <td>0</td>\n",
       "      <td>BCH</td>\n",
       "    </tr>\n",
       "    <tr>\n",
       "      <th>156</th>\n",
       "      <td>NaN</td>\n",
       "      <td>substance misuse</td>\n",
       "      <td>1</td>\n",
       "      <td>discharge</td>\n",
       "      <td>1</td>\n",
       "      <td>discharge</td>\n",
       "      <td>1</td>\n",
       "      <td>discharge</td>\n",
       "      <td>1</td>\n",
       "      <td>NaN</td>\n",
       "      <td>NaN</td>\n",
       "      <td>NaN</td>\n",
       "      <td>0</td>\n",
       "      <td>BCH</td>\n",
       "    </tr>\n",
       "    <tr>\n",
       "      <th>197</th>\n",
       "      <td>patient states no pain</td>\n",
       "      <td>no significant medical history</td>\n",
       "      <td>0</td>\n",
       "      <td>discharge</td>\n",
       "      <td>1</td>\n",
       "      <td>discharge</td>\n",
       "      <td>1</td>\n",
       "      <td>discharge</td>\n",
       "      <td>1</td>\n",
       "      <td>NaN</td>\n",
       "      <td>NaN</td>\n",
       "      <td>NaN</td>\n",
       "      <td>0</td>\n",
       "      <td>BCH</td>\n",
       "    </tr>\n",
       "    <tr>\n",
       "      <th>217</th>\n",
       "      <td>denied chest pain</td>\n",
       "      <td>no significant medical history</td>\n",
       "      <td>0</td>\n",
       "      <td>discharge</td>\n",
       "      <td>1</td>\n",
       "      <td>discharge</td>\n",
       "      <td>1</td>\n",
       "      <td>discharge</td>\n",
       "      <td>1</td>\n",
       "      <td>NaN</td>\n",
       "      <td>NaN</td>\n",
       "      <td>NaN</td>\n",
       "      <td>0</td>\n",
       "      <td>BCH</td>\n",
       "    </tr>\n",
       "    <tr>\n",
       "      <th>218</th>\n",
       "      <td>denies pain eating emergency department lunch ...</td>\n",
       "      <td>dialysis haemo, type one diabetes, chronic ren...</td>\n",
       "      <td>5</td>\n",
       "      <td>discharge</td>\n",
       "      <td>1</td>\n",
       "      <td>discharge</td>\n",
       "      <td>1</td>\n",
       "      <td>discharge</td>\n",
       "      <td>1</td>\n",
       "      <td>NaN</td>\n",
       "      <td>NaN</td>\n",
       "      <td>NaN</td>\n",
       "      <td>0</td>\n",
       "      <td>BCH</td>\n",
       "    </tr>\n",
       "  </tbody>\n",
       "</table>\n",
       "</div>"
      ],
      "text/plain": [
       "                                  CleanSubjectiveNotes  \\\n",
       "148  patient states that she feels shaky patient de...   \n",
       "156                                                NaN   \n",
       "197                            patient states no pain    \n",
       "217                                  denied chest pain   \n",
       "218  denies pain eating emergency department lunch ...   \n",
       "\n",
       "                                                  pmhx  num_comorbids  \\\n",
       "148                     no significant medical history              0   \n",
       "156                                   substance misuse              1   \n",
       "197                     no significant medical history              0   \n",
       "217                     no significant medical history              0   \n",
       "218  dialysis haemo, type one diabetes, chronic ren...              5   \n",
       "\n",
       "       outcome  target    service  target2  discharge  target3 dispo  target4  \\\n",
       "148  discharge       1  discharge        1  discharge        1   NaN      NaN   \n",
       "156  discharge       1  discharge        1  discharge        1   NaN      NaN   \n",
       "197  discharge       1  discharge        1  discharge        1   NaN      NaN   \n",
       "217  discharge       1  discharge        1  discharge        1   NaN      NaN   \n",
       "218  discharge       1  discharge        1  discharge        1   NaN      NaN   \n",
       "\n",
       "    ICUvsother  target5 site  \n",
       "148        NaN        0  BCH  \n",
       "156        NaN        0  BCH  \n",
       "197        NaN        0  BCH  \n",
       "217        NaN        0  BCH  \n",
       "218        NaN        0  BCH  "
      ]
     },
     "execution_count": 9,
     "metadata": {},
     "output_type": "execute_result"
    }
   ],
   "source": [
    "combo_df.head()"
   ]
  },
  {
   "cell_type": "code",
   "execution_count": 10,
   "metadata": {},
   "outputs": [
    {
     "data": {
      "text/plain": [
       "(165268, 14)"
      ]
     },
     "execution_count": 10,
     "metadata": {},
     "output_type": "execute_result"
    }
   ],
   "source": [
    "combo_df.dropna(subset = ['CleanSubjectiveNotes','pmhx'], inplace = True)\n",
    "combo_df.shape"
   ]
  },
  {
   "cell_type": "code",
   "execution_count": 11,
   "metadata": {},
   "outputs": [],
   "source": [
    "#need to reindex because there's some overlap in the id's from the egh and bch datasets\n",
    "\n",
    "new_index = np.arange(len(combo_df))\n",
    "\n",
    "combo_df.index = new_index"
   ]
  },
  {
   "cell_type": "code",
   "execution_count": 12,
   "metadata": {},
   "outputs": [],
   "source": [
    "\n",
    "combo_data_path = '/Users/jjaskolkambp/Desktop/machine learning/my_projects/data/ED triage project/combo'\n",
    "\n",
    "combo_df.to_csv(combo_data_path + '/nlp_combo_data.csv')\n",
    "\n"
   ]
  },
  {
   "cell_type": "code",
   "execution_count": 13,
   "metadata": {},
   "outputs": [
    {
     "data": {
      "text/plain": [
       "(165268, 14)"
      ]
     },
     "execution_count": 13,
     "metadata": {},
     "output_type": "execute_result"
    }
   ],
   "source": [
    "combo_df.shape"
   ]
  },
  {
   "cell_type": "code",
   "execution_count": 14,
   "metadata": {},
   "outputs": [
    {
     "data": {
      "text/plain": [
       "Index(['CleanSubjectiveNotes', 'pmhx', 'num_comorbids', 'outcome', 'target',\n",
       "       'service', 'target2', 'discharge', 'target3', 'dispo', 'target4',\n",
       "       'ICUvsother', 'target5', 'site'],\n",
       "      dtype='object')"
      ]
     },
     "execution_count": 14,
     "metadata": {},
     "output_type": "execute_result"
    }
   ],
   "source": [
    "combo_df.columns"
   ]
  },
  {
   "cell_type": "code",
   "execution_count": 19,
   "metadata": {},
   "outputs": [
    {
     "data": {
      "text/plain": [
       "(165268, 63465, 102492)"
      ]
     },
     "execution_count": 19,
     "metadata": {},
     "output_type": "execute_result"
    }
   ],
   "source": [
    "len(combo_df), len(egh_df), len(bch_df)"
   ]
  },
  {
   "cell_type": "code",
   "execution_count": null,
   "metadata": {},
   "outputs": [],
   "source": []
  }
 ],
 "metadata": {
  "kernelspec": {
   "display_name": "Python 3",
   "language": "python",
   "name": "python3"
  },
  "language_info": {
   "codemirror_mode": {
    "name": "ipython",
    "version": 3
   },
   "file_extension": ".py",
   "mimetype": "text/x-python",
   "name": "python",
   "nbconvert_exporter": "python",
   "pygments_lexer": "ipython3",
   "version": "3.6.5"
  }
 },
 "nbformat": 4,
 "nbformat_minor": 2
}
