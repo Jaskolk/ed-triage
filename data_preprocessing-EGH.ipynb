{
 "cells": [
  {
   "cell_type": "code",
   "execution_count": 1,
   "metadata": {},
   "outputs": [
    {
     "name": "stdout",
     "output_type": "stream",
     "text": [
      "Requirement already satisfied: xlrd in /Users/jjaskolkambp/anaconda3/lib/python3.6/site-packages (1.1.0)\n",
      "\u001b[33mYou are using pip version 10.0.1, however version 19.3 is available.\n",
      "You should consider upgrading via the 'pip install --upgrade pip' command.\u001b[0m\n"
     ]
    }
   ],
   "source": [
    "#run this cell when online\n",
    "!pip install xlrd"
   ]
  },
  {
   "cell_type": "markdown",
   "metadata": {},
   "source": [
    "## install dependencies and set data paths"
   ]
  },
  {
   "cell_type": "code",
   "execution_count": 2,
   "metadata": {},
   "outputs": [],
   "source": [
    "import pandas as pd\n",
    "import numpy as np\n",
    "\n",
    "import os\n",
    "import re\n",
    "from collections import Counter"
   ]
  },
  {
   "cell_type": "code",
   "execution_count": 3,
   "metadata": {},
   "outputs": [],
   "source": [
    "#use this cell when working online\n",
    "path = '/floyd/home/ed-triage'\n",
    "data_path = '/floyd/home/data'"
   ]
  },
  {
   "cell_type": "code",
   "execution_count": 4,
   "metadata": {},
   "outputs": [],
   "source": [
    "#use this cell when working from home\n",
    "path = '/Users/jjaskolkambp/Desktop/machine learning/my_projects/ed-triage'\n",
    "data_path = '/Users/jjaskolkambp/Desktop/machine learning/my_projects/data/ED triage project/egh'"
   ]
  },
  {
   "cell_type": "code",
   "execution_count": 5,
   "metadata": {},
   "outputs": [],
   "source": [
    "#loading in the entire spreadsheet as a dataframe\n",
    "clin = pd.read_excel(data_path + '/EGH ED visits FY1819_with additions.xlsx')"
   ]
  },
  {
   "cell_type": "code",
   "execution_count": 6,
   "metadata": {},
   "outputs": [
    {
     "data": {
      "text/plain": [
       "85154"
      ]
     },
     "execution_count": 6,
     "metadata": {},
     "output_type": "execute_result"
    }
   ],
   "source": [
    "len(clin)"
   ]
  },
  {
   "cell_type": "code",
   "execution_count": 7,
   "metadata": {},
   "outputs": [
    {
     "data": {
      "text/plain": [
       "Index(['ID', 'ChartNumber', 'EncounterNumber', 'TriageLevel', 'AgeNumber',\n",
       "       'AgeInYrs', 'GenderDesc', 'Triage Date & Time', 'Reg Date & Time',\n",
       "       'PIA Date & Time', 'Disposition Date & Time', 'DischargeDisposition',\n",
       "       'DischargeDispositionDesc', 'Left ED Date & Time',\n",
       "       'PresentingComplaint', 'PresentingComplaintDesc', 'MainDiagnosisCode',\n",
       "       'MainDiagnosisCodeDesc', 'AdmitLocation', 'PatientService',\n",
       "       'SubjectiveNotes', 'InfectionControlScreening', 'MedicalHistory',\n",
       "       'BloodPressure_LastEDReading', 'O2Saturation_LastEDReading',\n",
       "       'Pulse_LastEDReading', 'Temperature_LastEDReading'],\n",
       "      dtype='object')"
      ]
     },
     "execution_count": 7,
     "metadata": {},
     "output_type": "execute_result"
    }
   ],
   "source": [
    "clin.columns"
   ]
  },
  {
   "cell_type": "markdown",
   "metadata": {
    "heading_collapsed": true
   },
   "source": [
    "## The next few cells are for getting a feel of the data in the different columns and how they might be useful"
   ]
  },
  {
   "cell_type": "code",
   "execution_count": 8,
   "metadata": {
    "hidden": true,
    "scrolled": false
   },
   "outputs": [
    {
     "data": {
      "text/plain": [
       "Counter({17: 70703,\n",
       "         62: 762,\n",
       "         7: 11199,\n",
       "         6: 374,\n",
       "         16: 493,\n",
       "         40: 226,\n",
       "         8: 242,\n",
       "         72: 113,\n",
       "         63: 250,\n",
       "         30: 346,\n",
       "         64: 171,\n",
       "         12: 242,\n",
       "         71: 3,\n",
       "         14: 3,\n",
       "         61: 12,\n",
       "         90: 10,\n",
       "         13: 3,\n",
       "         9: 2})"
      ]
     },
     "execution_count": 8,
     "metadata": {},
     "output_type": "execute_result"
    }
   ],
   "source": [
    "discharge_count = Counter(clin['DischargeDisposition']); discharge_count"
   ]
  },
  {
   "cell_type": "code",
   "execution_count": 9,
   "metadata": {
    "hidden": true
   },
   "outputs": [
    {
     "data": {
      "text/plain": [
       "Counter({'Discharge to private home, condo, apt without support service/referral': 70703,\n",
       "         'Left at his/her own risk post-initial treatment': 762,\n",
       "         'Admit to reporting facility as inpatient to another unit from amb care': 11199,\n",
       "         'Admit to reporting facility as inpatient to SCU or OR from amb care': 374,\n",
       "         'Discharge to private home, condo, apt with support service/referral': 493,\n",
       "         'Transfer to Group/supportive living': 226,\n",
       "         'Transfer to another acute care facility directly from amb care': 242,\n",
       "         'Died in Facility': 113,\n",
       "         'Left After Triage': 250,\n",
       "         'Transfer to Residential care': 346,\n",
       "         'Left After Initial Assessment': 171,\n",
       "         'Intra-facility transfer to day surgery': 242,\n",
       "         'Dead on arrival': 3,\n",
       "         'Intra-facility transfer to clinic': 3,\n",
       "         'Left at his/her own risk following registration': 12,\n",
       "         'Transfer to correctional facility': 10,\n",
       "         'Intra-facility transfer to ED': 3,\n",
       "         'Transfer to another non-acute care facility directly from amb care': 2})"
      ]
     },
     "execution_count": 9,
     "metadata": {},
     "output_type": "execute_result"
    }
   ],
   "source": [
    "discharge_count2 = Counter(clin['DischargeDispositionDesc']); discharge_count2"
   ]
  },
  {
   "cell_type": "code",
   "execution_count": 10,
   "metadata": {
    "hidden": true
   },
   "outputs": [
    {
     "data": {
      "text/plain": [
       "Counter({nan: 73660,\n",
       "         'Cardiology': 1550,\n",
       "         'ALC General Medicine': 201,\n",
       "         'General Medicine': 4512,\n",
       "         'INTENSIVE CARE UNIT': 253,\n",
       "         'Respirology': 852,\n",
       "         'General Surgery': 650,\n",
       "         'Paediatrics': 882,\n",
       "         'Mental Health': 1198,\n",
       "         'Orthopaedics': 430,\n",
       "         'ALC Neurology': 64,\n",
       "         'Genitourinary': 182,\n",
       "         'Neurology': 456,\n",
       "         'Palliative': 65,\n",
       "         'ALC Respirology': 28,\n",
       "         'Oncology': 38,\n",
       "         'ALC Orthopaedics': 23,\n",
       "         'ALC Cardiology': 38,\n",
       "         'AD PALLIATIVE': 45,\n",
       "         'AD General Medicine': 2,\n",
       "         'Obstetrics': 17,\n",
       "         'AD Respirology': 1,\n",
       "         'AD Oncology': 1,\n",
       "         'ALC General Surgery': 2,\n",
       "         'Neonatal Retro Transfers': 1,\n",
       "         'ALC Oncology': 1,\n",
       "         'AD Neurology': 1,\n",
       "         'Newborn': 1})"
      ]
     },
     "execution_count": 10,
     "metadata": {},
     "output_type": "execute_result"
    }
   ],
   "source": [
    "comp_count = Counter(clin['PatientService']); comp_count"
   ]
  },
  {
   "cell_type": "markdown",
   "metadata": {},
   "source": [
    "## refactoring some of the cells so they are clean and useful"
   ]
  },
  {
   "cell_type": "code",
   "execution_count": 11,
   "metadata": {},
   "outputs": [],
   "source": [
    "o2sat = [item if item[-2:] != 'ra' else item[:-2] for item in clin['O2Saturation_LastEDReading'].astype('str')]\n",
    "o2sat = [np.nan if (len(item) <2 or len(item) >3) else float(item) for item in o2sat] \n",
    "o2sat = [np.nan if item == 'nan' else float(item) for item in o2sat] \n",
    "clin['o2sat'] = o2sat"
   ]
  },
  {
   "cell_type": "code",
   "execution_count": 12,
   "metadata": {},
   "outputs": [],
   "source": [
    "pulse = clin['Pulse_LastEDReading']\n",
    "pulse = [re.sub(\"[^0-9]\", \"\", str(item)) for item in pulse]\n",
    "pulse = [np.nan if item == '' else float(item) for item in pulse] \n",
    "#set(pulse)\n",
    "clin['pulse'] = pulse"
   ]
  },
  {
   "cell_type": "code",
   "execution_count": 13,
   "metadata": {},
   "outputs": [],
   "source": [
    "temp = clin['Temperature_LastEDReading']\n",
    "temp = [re.sub(\"[^0-9]\", \"\", str(item)) for item in temp]\n",
    "temp = [np.nan if item == '' else float(item) for item in temp] \n",
    "temp = [item/10 if item > 100 else item for item in temp]\n",
    "temp = [np.nan if item > 40  else item for item in temp]\n",
    "#set(temp)\n",
    "clin['temp'] = temp"
   ]
  },
  {
   "cell_type": "code",
   "execution_count": 14,
   "metadata": {},
   "outputs": [],
   "source": [
    "def bptrans(bp):\n",
    "    if pd.isnull(bp) or len(bp.split('/')) !=2:\n",
    "        return [np.nan, np.nan]\n",
    "    res = []\n",
    "    for x in bp.split('/'):\n",
    "        try:\n",
    "            float(x)\n",
    "            res =  [float(x) for x in bp.split('/')]\n",
    "        except: \n",
    "            res =  [np.nan, np.nan]\n",
    "        return res\n"
   ]
  },
  {
   "cell_type": "code",
   "execution_count": 15,
   "metadata": {},
   "outputs": [],
   "source": [
    "#this is to clean the text in the subjective notes column (a little bit)\n",
    "def fixencode(s):\n",
    "    if pd.isnull(s):\n",
    "        s = \"None\"\n",
    "    s = s[14:]\n",
    "    s =s.replace('<LT><LF>','')\n",
    "    s = s.replace('<LT>LF>','')\n",
    "    s =s.replace('Pt.', 'patient')\n",
    "    s =s.replace('Pt', 'patient')\n",
    "    s = s.lower()\n",
    "    s = s.replace('pt.', 'patient')\n",
    "    #s = s.replace('pt', 'patient')\n",
    "    s = s.replace('y/o', 'year old')\n",
    "    s = s.replace('c/o', 'complains of')\n",
    "    #s = s.replace('C/o', 'complains of')\n",
    "    s = s.replace('sob', 'shortness of breath')\n",
    "    s = s.replace('c/p', 'chest pain')\n",
    "    s = s.replace('hrs', 'hours')\n",
    "    s = s.replace('hx', 'history')\n",
    "    s = s.replace('n/v', 'nausea and/or vomiting')\n",
    "    s = s.replace('a/e', 'air entry')\n",
    "    s = s.replace('a/o', 'alert and oriented')\n",
    "    s = s.replace('a&o', 'alert and oriented')\n",
    "    s = s.replace('d/c', 'discharge')\n",
    "    s = s.replace('u/s', 'ultrasound')\n",
    "    s = s.replace('yrs', 'years')\n",
    "    s = s.replace('lmp', 'last menstrual period')\n",
    "    s = s.replace('w/', 'with')\n",
    "    s = s.replace('@', 'at ')\n",
    "    \n",
    "    #others to deal with cp, rt, lt, pt, bp, ra, sat\n",
    "    \n",
    "    #note that what's missing here is removal of punctuation\n",
    "    return s"
   ]
  },
  {
   "cell_type": "code",
   "execution_count": 16,
   "metadata": {},
   "outputs": [],
   "source": [
    "clin['CleanSubjectiveNotes'] = clin.SubjectiveNotes.map(fixencode)"
   ]
  },
  {
   "cell_type": "code",
   "execution_count": 17,
   "metadata": {},
   "outputs": [
    {
     "name": "stdout",
     "output_type": "stream",
     "text": [
      "pt had her eyelashes done 2 days ago. pt staes tha both eyes were red and sore and she has been using eye drops. left eye is now ok but pt has redness to lower part of rt eye with slight stinging\n",
      "pt was told by famiy doctor to come to emerg because ct scan that she had done on dec 14 shows a blood clot in her lungs. pt states she feels shortness of breath at times. no acute distress at present\n",
      "\n",
      "pt has had fever and cough since sunday. pt has had decrease in appetite\n",
      "pt was working out at the gym last night and developed shoulder pain and stopped this morning pain now radiates down his left arm. pain worse with movement. no deformity noted\n",
      "pt states that she has a painful bump to vaginal area that has returned after being drained 4 weeks ago\n",
      "pt had a hang nail on rt big toe and cut the nail 2 days ago. pt states that today she noted drainage that is blood tinged and having pain and redness to toe\n",
      "18 weeks gest complains of lower abdo pain onset  last night,, intermittent, worse this morning, no nausea, no vomiting. noticed  blood when wiping after  voiding. last menstrual period aug 18, p1 g2. last us 2 weeks ago.\n",
      "\n",
      "\n"
     ]
    }
   ],
   "source": [
    "#just using this field to look at some examples of how the text cleaning is going\n",
    "for item in clin['CleanSubjectiveNotes'].iloc[60000:60010]:\n",
    "    print (item)"
   ]
  },
  {
   "cell_type": "code",
   "execution_count": 18,
   "metadata": {},
   "outputs": [],
   "source": [
    "clin['BP'] = clin.BloodPressure_LastEDReading.map(bptrans)\n",
    "\n",
    "clin[['systolic', 'diastolic']] = pd.DataFrame(clin.BP.tolist(), index= clin.index)\n",
    "clin[\"Gender\"] = clin.GenderDesc.map(lambda x: 1 if x == \"Male\" else 0)"
   ]
  },
  {
   "cell_type": "markdown",
   "metadata": {
    "heading_collapsed": true
   },
   "source": [
    "## split the screening questions\n",
    "- result is a df called: screening_df"
   ]
  },
  {
   "cell_type": "code",
   "execution_count": 19,
   "metadata": {
    "hidden": true
   },
   "outputs": [],
   "source": [
    "qlist = ['Are you feeling feverish or have had shakes or chills in the last 24 hours?',\n",
    "         'Have you ever been isolated/required isolation for an infectious disease when receiving care in a healthcare setting?',\n",
    "        'Do you have a new Rash?',\n",
    "        'Do you have a new onset of Vomiting/Diarrhea in the last 24 hours?',\n",
    "         'Have you travelled outside of Canada/USA in the last 3 weeks?',\n",
    "         'Have you had contact with a sick person who has travelled outside of Canada/USA in the last 3 weeks?',\n",
    "         'Have you received Health Care in another country in the last 2 years?',\n",
    "        'Do you have a new/worse cough or shortness of breath?',\n",
    "         'If so, select all countries that apply',\n",
    "        'If so, select all infectious diseases that apply']"
   ]
  },
  {
   "cell_type": "code",
   "execution_count": 20,
   "metadata": {
    "hidden": true
   },
   "outputs": [],
   "source": [
    "#making a dict so that the indect of an item on the list, matches the question later\n",
    "q_dict = {i:q for i,q in enumerate(qlist)}"
   ]
  },
  {
   "cell_type": "code",
   "execution_count": 21,
   "metadata": {
    "hidden": true
   },
   "outputs": [
    {
     "data": {
      "text/plain": [
       "{0: 'Are you feeling feverish or have had shakes or chills in the last 24 hours?',\n",
       " 1: 'Have you ever been isolated/required isolation for an infectious disease when receiving care in a healthcare setting?',\n",
       " 2: 'Do you have a new Rash?',\n",
       " 3: 'Do you have a new onset of Vomiting/Diarrhea in the last 24 hours?',\n",
       " 4: 'Have you travelled outside of Canada/USA in the last 3 weeks?',\n",
       " 5: 'Have you had contact with a sick person who has travelled outside of Canada/USA in the last 3 weeks?',\n",
       " 6: 'Have you received Health Care in another country in the last 2 years?',\n",
       " 7: 'Do you have a new/worse cough or shortness of breath?',\n",
       " 8: 'If so, select all countries that apply',\n",
       " 9: 'If so, select all infectious diseases that apply'}"
      ]
     },
     "execution_count": 21,
     "metadata": {},
     "output_type": "execute_result"
    }
   ],
   "source": [
    "q_dict"
   ]
  },
  {
   "cell_type": "code",
   "execution_count": 22,
   "metadata": {
    "hidden": true
   },
   "outputs": [],
   "source": [
    "#this is going to be a list made of up all the entries in the infection control screening column\n",
    "#casting the results as string to manipulate later\n",
    "qans = list(clin['InfectionControlScreening'].str[14:].astype('str'))"
   ]
  },
  {
   "cell_type": "code",
   "execution_count": 23,
   "metadata": {
    "hidden": true
   },
   "outputs": [],
   "source": [
    "#this is going to give me a way to split the questions by finding where they occur in the field\n",
    "split_points = []\n",
    "for item in qans:\n",
    "    temp_points = []\n",
    "    for word in qlist:\n",
    "        temp_points.append(item.find(word))\n",
    "    split_points.append(temp_points)\n",
    "    "
   ]
  },
  {
   "cell_type": "code",
   "execution_count": 24,
   "metadata": {
    "hidden": true
   },
   "outputs": [],
   "source": [
    "#this is going to give me list of places to split each entry (using only the questions that are actually present)\n",
    "real_points = []\n",
    "for item in split_points:\n",
    "    real_points.append([idx for idx in sorted(item) if idx > 0])"
   ]
  },
  {
   "cell_type": "code",
   "execution_count": 25,
   "metadata": {
    "hidden": true
   },
   "outputs": [
    {
     "data": {
      "text/plain": [
       "[[241, 432, 400, 325, 0, 70, 558, 179, -1, -1],\n",
       " [241, 432, 400, 325, 0, 70, 558, 179, -1, -1],\n",
       " [241, 432, 400, 325, 0, 70, 558, 179, -1, -1],\n",
       " [241, 432, 400, 325, 0, 70, 558, 179, -1, -1],\n",
       " [241, 432, 400, 325, 0, 70, 558, 179, -1, -1],\n",
       " [241, 432, 400, 325, 0, 70, 558, 179, -1, -1],\n",
       " [241, -1, 400, 325, 0, 70, -1, 179, -1, -1],\n",
       " [241, -1, 400, 325, 0, 70, -1, 179, -1, -1],\n",
       " [-1, -1, -1, -1, -1, -1, -1, -1, -1, -1],\n",
       " [241, -1, 400, 325, 0, 70, -1, 179, -1, -1]]"
      ]
     },
     "execution_count": 25,
     "metadata": {},
     "output_type": "execute_result"
    }
   ],
   "source": [
    "split_points[10000:10010]"
   ]
  },
  {
   "cell_type": "code",
   "execution_count": 26,
   "metadata": {
    "hidden": true
   },
   "outputs": [
    {
     "data": {
      "text/plain": [
       "[[70, 179, 241, 325, 400, 432, 558],\n",
       " [70, 179, 241, 325, 400, 432, 558],\n",
       " [70, 179, 241, 325, 400, 432, 558],\n",
       " [70, 179, 241, 325, 400, 432, 558],\n",
       " [70, 179, 241, 325, 400, 432, 558],\n",
       " [70, 179, 241, 325, 400, 432, 558],\n",
       " [70, 179, 241, 325, 400],\n",
       " [70, 179, 241, 325, 400],\n",
       " [],\n",
       " [70, 179, 241, 325, 400]]"
      ]
     },
     "execution_count": 26,
     "metadata": {},
     "output_type": "execute_result"
    }
   ],
   "source": [
    "#anything from the list above which would have been empty in the original data\n",
    "#gives a list of -1's in split_points and nothing in real_points\n",
    "real_points[10000:10010]"
   ]
  },
  {
   "cell_type": "code",
   "execution_count": 27,
   "metadata": {
    "hidden": true
   },
   "outputs": [
    {
     "name": "stdout",
     "output_type": "stream",
     "text": [
      "Have you travelled outside of Canada/USA in the last 3 weeks? N<LT>LF>Have you had contact with a sick person who has travelled outside of Canada/USA in the last 3 weeks? N<LT>LF>Do you have a new/worse cough or shortness of breath? N<LT>LF>Are you feeling feverish or have had shakes or chills in the last 24 hours? N<LT>LF>Do you have a new onset of Vomiting/Diarrhea in the last 24 hours? N<LT>LF>Do you have a new Rash? N<LT>LF>Have you ever been isolated/required isolation for an infectious disease when receiving care in a healthcare setting? N\n",
      "\n",
      "[241, 432, 400, 325, 0, 70, -1, 179, -1, -1]\n",
      "\n",
      "[70, 179, 241, 325, 400, 432]\n"
     ]
    }
   ],
   "source": [
    "print(qans[1000])\n",
    "print()\n",
    "print (split_points[1000])\n",
    "print ()\n",
    "print(real_points[1000])"
   ]
  },
  {
   "cell_type": "code",
   "execution_count": 28,
   "metadata": {
    "hidden": true
   },
   "outputs": [],
   "source": [
    "#this should mutate qans so each item is now a list of q and a's\n",
    "for idx in range(len(qans)):\n",
    "    qans[idx] = [qans[idx][i : j] for i, j in zip([0] + real_points[idx], real_points[idx] + [None])]\n",
    "    "
   ]
  },
  {
   "cell_type": "code",
   "execution_count": 29,
   "metadata": {
    "hidden": true
   },
   "outputs": [
    {
     "data": {
      "text/plain": [
       "['Have you travelled outside of Canada/USA in the last 3 weeks? N<LT>LF>',\n",
       " 'Have you had contact with a sick person who has travelled outside of Canada/USA in the last 3 weeks? N<LT>LF>',\n",
       " 'Do you have a new/worse cough or shortness of breath? N<LT>LF>',\n",
       " 'Are you feeling feverish or have had shakes or chills in the last 24 hours? N<LT>LF>',\n",
       " 'Do you have a new onset of Vomiting/Diarrhea in the last 24 hours? N<LT>LF>',\n",
       " 'Do you have a new Rash? N<LT>LF>',\n",
       " 'Have you ever been isolated/required isolation for an infectious disease when receiving care in a healthcare setting? N']"
      ]
     },
     "execution_count": 29,
     "metadata": {},
     "output_type": "execute_result"
    }
   ],
   "source": [
    "qans[1000]"
   ]
  },
  {
   "cell_type": "code",
   "execution_count": 30,
   "metadata": {
    "hidden": true,
    "scrolled": true
   },
   "outputs": [
    {
     "data": {
      "text/plain": [
       "['Have you travelled outside of Canada/USA in the last 3 weeks? N<LT>LF>',\n",
       " 'Have you had contact with a sick person who has travelled outside of Canada/USA in the last 3 weeks? N<LT>LF>',\n",
       " 'Do you have a new/worse cough or shortness of breath? N<LT>LF>',\n",
       " 'Are you feeling feverish or have had shakes or chills in the last 24 hours? N<LT>LF>',\n",
       " 'Do you have a new onset of Vomiting/Diarrhea in the last 24 hours? N<LT>LF>',\n",
       " 'Do you have a new Rash? N<LT>LF>',\n",
       " 'Have you ever been isolated/required isolation for an infectious disease when receiving care in a healthcare setting? N<LT>LF>',\n",
       " 'Have you received Health Care in another country in the last 2 years? N']"
      ]
     },
     "execution_count": 30,
     "metadata": {},
     "output_type": "execute_result"
    }
   ],
   "source": [
    "qans[10000]"
   ]
  },
  {
   "cell_type": "code",
   "execution_count": 31,
   "metadata": {
    "hidden": true
   },
   "outputs": [],
   "source": [
    "#this will mutate each item of each list in qans and drop the <LT>LF> if present\n",
    "for q in qans:\n",
    "    for idx in range(len(q)):\n",
    "        if q[idx].find('<LT>LF>') != -1:\n",
    "            q[idx] = q[idx][:-7]\n",
    "        "
   ]
  },
  {
   "cell_type": "code",
   "execution_count": 32,
   "metadata": {
    "hidden": true
   },
   "outputs": [
    {
     "data": {
      "text/plain": [
       "['Have you travelled outside of Canada/USA in the last 3 weeks? N',\n",
       " 'Have you had contact with a sick person who has travelled outside of Canada/USA in the last 3 weeks? N',\n",
       " 'Do you have a new/worse cough or shortness of breath? N',\n",
       " 'Are you feeling feverish or have had shakes or chills in the last 24 hours? N',\n",
       " 'Do you have a new onset of Vomiting/Diarrhea in the last 24 hours? N',\n",
       " 'Do you have a new Rash? N',\n",
       " 'Have you ever been isolated/required isolation for an infectious disease when receiving care in a healthcare setting? N']"
      ]
     },
     "execution_count": 32,
     "metadata": {},
     "output_type": "execute_result"
    }
   ],
   "source": [
    "qans[1000]"
   ]
  },
  {
   "cell_type": "code",
   "execution_count": 33,
   "metadata": {
    "hidden": true
   },
   "outputs": [
    {
     "data": {
      "text/plain": [
       "['Have you travelled outside of Canada/USA in the last 3 weeks? N',\n",
       " 'Have you had contact with a sick person who has travelled outside of Canada/USA in the last 3 weeks? N',\n",
       " 'Do you have a new/worse cough or shortness of breath? N',\n",
       " 'Are you feeling feverish or have had shakes or chills in the last 24 hours? N',\n",
       " 'Do you have a new onset of Vomiting/Diarrhea in the last 24 hours? N',\n",
       " 'Do you have a new Rash? N',\n",
       " 'Have you ever been isolated/required isolation for an infectious disease when receiving care in a healthcare setting? N',\n",
       " 'Have you received Health Care in another country in the last 2 years? N']"
      ]
     },
     "execution_count": 33,
     "metadata": {},
     "output_type": "execute_result"
    }
   ],
   "source": [
    "qans[10000]"
   ]
  },
  {
   "cell_type": "code",
   "execution_count": 34,
   "metadata": {
    "hidden": true
   },
   "outputs": [
    {
     "data": {
      "text/plain": [
       "['Have you travelled outside of Canada/USA in the last 3 weeks? N',\n",
       " 'Have you had contact with a sick person who has travelled outside of Canada/USA in the last 3 weeks? N',\n",
       " 'Do you have a new/worse cough or shortness of breath? N',\n",
       " 'Are you feeling feverish or have had shakes or chills in the last 24 hours? N',\n",
       " 'Do you have a new onset of Vomiting/Diarrhea in the last 24 hours? N',\n",
       " 'Do you have a new Rash? N',\n",
       " 'Have you ever been isolated/required isolation for an infectious disease when receiving care in a healthcare setting? N']"
      ]
     },
     "execution_count": 34,
     "metadata": {},
     "output_type": "execute_result"
    }
   ],
   "source": [
    "qans[1000]"
   ]
  },
  {
   "cell_type": "code",
   "execution_count": 35,
   "metadata": {
    "hidden": true
   },
   "outputs": [],
   "source": [
    "seg_list = []\n",
    "for q in qans:\n",
    "    #print ('initial:', q)\n",
    "    test_question = q\n",
    "    res = []\n",
    "    for item in test_question:\n",
    "        #print (item)\n",
    "        for qq in qlist:\n",
    "            if item.find(qq) != -1:\n",
    "                #print ('question:',item[:len(qq)])\n",
    "                #print ('answer:',item[len(qq)+1:])\n",
    "                res.append([item[:len(qq)],item[len(qq)+1:] ])\n",
    "    seg_list.append(res)\n",
    "    #print ('\\nresult:',res, '\\n\\n')"
   ]
  },
  {
   "cell_type": "code",
   "execution_count": 36,
   "metadata": {
    "hidden": true
   },
   "outputs": [
    {
     "data": {
      "text/plain": [
       "85154"
      ]
     },
     "execution_count": 36,
     "metadata": {},
     "output_type": "execute_result"
    }
   ],
   "source": [
    "len(seg_list)"
   ]
  },
  {
   "cell_type": "code",
   "execution_count": 37,
   "metadata": {
    "hidden": true
   },
   "outputs": [],
   "source": [
    "seg_list2 = []\n",
    "for q in qans:\n",
    "    #print ('initial:', q)\n",
    "    test_question = q\n",
    "    res = {}\n",
    "    for item in test_question:\n",
    "        #print (item)\n",
    "        for qq in qlist:\n",
    "            if item.find(qq) != -1:\n",
    "                question = item[:len(qq)]\n",
    "                answer = item[len(qq)+1:]\n",
    "                res[question] = answer\n",
    "    seg_list2.append(res)"
   ]
  },
  {
   "cell_type": "code",
   "execution_count": 38,
   "metadata": {
    "hidden": true
   },
   "outputs": [],
   "source": [
    "final_list = []\n",
    "for q in range(len(split_points)):\n",
    "    temp = []\n",
    "    for i in range(len(split_points[q])):\n",
    "        if split_points[q][i] == -1:\n",
    "            #print('nan')\n",
    "            temp.append('nan')\n",
    "        else:\n",
    "            #print (brief_list2[q][q_dict[i]])  # q_dict[i], i, brief_splits[q][i],\n",
    "            temp.append(seg_list2[q][q_dict[i]])\n",
    "    final_list.append(temp)\n",
    "    #print ('\\n next item \\n')\n",
    "            "
   ]
  },
  {
   "cell_type": "code",
   "execution_count": 39,
   "metadata": {
    "hidden": true
   },
   "outputs": [
    {
     "data": {
      "text/plain": [
       "85154"
      ]
     },
     "execution_count": 39,
     "metadata": {},
     "output_type": "execute_result"
    }
   ],
   "source": [
    "len(final_list)"
   ]
  },
  {
   "cell_type": "code",
   "execution_count": 40,
   "metadata": {
    "hidden": true
   },
   "outputs": [
    {
     "data": {
      "text/plain": [
       "[['nan', 'nan', 'nan', 'nan', 'nan', 'nan', 'nan', 'nan', 'nan', 'nan'],\n",
       " ['nan', 'nan', 'nan', 'nan', 'nan', 'nan', 'nan', 'nan', 'nan', 'nan'],\n",
       " ['nan', 'nan', 'nan', 'nan', 'nan', 'nan', 'nan', 'nan', 'nan', 'nan'],\n",
       " ['nan', 'nan', 'nan', 'nan', 'nan', 'nan', 'nan', 'nan', 'nan', 'nan'],\n",
       " ['nan', 'nan', 'nan', 'nan', 'nan', 'nan', 'nan', 'nan', 'nan', 'nan'],\n",
       " ['nan', 'nan', 'nan', 'nan', 'nan', 'nan', 'nan', 'nan', 'nan', 'nan'],\n",
       " ['nan', 'nan', 'nan', 'nan', 'nan', 'nan', 'nan', 'nan', 'nan', 'nan'],\n",
       " ['nan', 'nan', 'nan', 'nan', 'nan', 'nan', 'nan', 'nan', 'nan', 'nan'],\n",
       " ['nan', 'nan', 'nan', 'nan', 'nan', 'nan', 'nan', 'nan', 'nan', 'nan'],\n",
       " ['nan', 'nan', 'nan', 'nan', 'nan', 'nan', 'nan', 'nan', 'nan', 'nan']]"
      ]
     },
     "execution_count": 40,
     "metadata": {},
     "output_type": "execute_result"
    }
   ],
   "source": [
    "final_list[100:110]"
   ]
  },
  {
   "cell_type": "code",
   "execution_count": 41,
   "metadata": {
    "hidden": true
   },
   "outputs": [
    {
     "data": {
      "text/plain": [
       "[['N', 'N', 'N', 'N', 'N', 'N', 'nan', 'N', 'nan', 'nan'],\n",
       " ['nan', 'nan', 'nan', 'nan', 'nan', 'nan', 'nan', 'nan', 'nan', 'nan'],\n",
       " ['N', 'N', 'N', 'N', 'N', 'N', 'N', 'N', 'nan', 'nan'],\n",
       " ['nan', 'nan', 'nan', 'nan', 'nan', 'nan', 'nan', 'nan', 'nan', 'nan'],\n",
       " ['N', 'N', 'N', 'N', 'N', 'N', 'nan', 'Y', 'nan', 'nan'],\n",
       " ['N', 'N', 'N', 'N', 'N', 'N', 'nan', 'N', 'nan', 'nan'],\n",
       " ['N', 'N', 'N', 'N', 'N', 'N', 'nan', 'N', 'nan', 'nan'],\n",
       " ['N', 'nan', 'N', 'N', 'N', 'N', 'nan', 'N', 'nan', 'nan'],\n",
       " ['nan', 'nan', 'nan', 'nan', 'nan', 'nan', 'nan', 'nan', 'nan', 'nan'],\n",
       " ['nan', 'nan', 'nan', 'nan', 'nan', 'nan', 'nan', 'nan', 'nan', 'nan'],\n",
       " ['N', 'N', 'N', 'N', 'N', 'N', 'nan', 'Y', 'nan', 'nan'],\n",
       " ['N', 'N', 'nan', 'N', 'N', 'N', 'N', 'nan', 'nan', 'nan'],\n",
       " ['N', 'N', 'N', 'N', 'N', 'N', 'N', 'N', 'nan', 'nan'],\n",
       " ['N', 'N', 'N', 'N', 'N', 'N', 'N', 'N', 'nan', 'nan'],\n",
       " ['N', 'N', 'N', 'N', 'N', 'N', 'N', 'N', 'nan', 'nan'],\n",
       " ['nan', 'nan', 'nan', 'nan', 'nan', 'nan', 'nan', 'nan', 'nan', 'nan'],\n",
       " ['N', 'N', 'N', 'N', 'N', 'N', 'N', 'N', 'nan', 'nan'],\n",
       " ['N', 'N', 'N', 'Y', 'N', 'N', 'N', 'N', 'nan', 'nan'],\n",
       " ['nan', 'nan', 'nan', 'nan', 'nan', 'nan', 'nan', 'nan', 'nan', 'nan'],\n",
       " ['N', 'N', 'N', 'N', 'N', 'N', 'nan', 'N', 'nan', 'nan']]"
      ]
     },
     "execution_count": 41,
     "metadata": {},
     "output_type": "execute_result"
    }
   ],
   "source": [
    "final_list[1000:1020]"
   ]
  },
  {
   "cell_type": "code",
   "execution_count": 42,
   "metadata": {
    "hidden": true
   },
   "outputs": [
    {
     "data": {
      "text/html": [
       "<div>\n",
       "<style scoped>\n",
       "    .dataframe tbody tr th:only-of-type {\n",
       "        vertical-align: middle;\n",
       "    }\n",
       "\n",
       "    .dataframe tbody tr th {\n",
       "        vertical-align: top;\n",
       "    }\n",
       "\n",
       "    .dataframe thead th {\n",
       "        text-align: right;\n",
       "    }\n",
       "</style>\n",
       "<table border=\"1\" class=\"dataframe\">\n",
       "  <thead>\n",
       "    <tr style=\"text-align: right;\">\n",
       "      <th></th>\n",
       "      <th>Are you feeling feverish or have had shakes or chills in the last 24 hours?</th>\n",
       "      <th>Have you ever been isolated/required isolation for an infectious disease when receiving care in a healthcare setting?</th>\n",
       "      <th>Do you have a new Rash?</th>\n",
       "      <th>Do you have a new onset of Vomiting/Diarrhea in the last 24 hours?</th>\n",
       "      <th>Have you travelled outside of Canada/USA in the last 3 weeks?</th>\n",
       "      <th>Have you had contact with a sick person who has travelled outside of Canada/USA in the last 3 weeks?</th>\n",
       "      <th>Have you received Health Care in another country in the last 2 years?</th>\n",
       "      <th>Do you have a new/worse cough or shortness of breath?</th>\n",
       "      <th>If so, select all countries that apply</th>\n",
       "      <th>If so, select all infectious diseases that apply</th>\n",
       "    </tr>\n",
       "  </thead>\n",
       "  <tbody>\n",
       "    <tr>\n",
       "      <th>0</th>\n",
       "      <td>nan</td>\n",
       "      <td>nan</td>\n",
       "      <td>nan</td>\n",
       "      <td>nan</td>\n",
       "      <td>nan</td>\n",
       "      <td>nan</td>\n",
       "      <td>nan</td>\n",
       "      <td>nan</td>\n",
       "      <td>nan</td>\n",
       "      <td>nan</td>\n",
       "    </tr>\n",
       "    <tr>\n",
       "      <th>1</th>\n",
       "      <td>nan</td>\n",
       "      <td>nan</td>\n",
       "      <td>nan</td>\n",
       "      <td>nan</td>\n",
       "      <td>nan</td>\n",
       "      <td>nan</td>\n",
       "      <td>nan</td>\n",
       "      <td>nan</td>\n",
       "      <td>nan</td>\n",
       "      <td>nan</td>\n",
       "    </tr>\n",
       "    <tr>\n",
       "      <th>2</th>\n",
       "      <td>nan</td>\n",
       "      <td>nan</td>\n",
       "      <td>nan</td>\n",
       "      <td>nan</td>\n",
       "      <td>nan</td>\n",
       "      <td>nan</td>\n",
       "      <td>nan</td>\n",
       "      <td>nan</td>\n",
       "      <td>nan</td>\n",
       "      <td>nan</td>\n",
       "    </tr>\n",
       "    <tr>\n",
       "      <th>3</th>\n",
       "      <td>nan</td>\n",
       "      <td>nan</td>\n",
       "      <td>nan</td>\n",
       "      <td>nan</td>\n",
       "      <td>nan</td>\n",
       "      <td>nan</td>\n",
       "      <td>nan</td>\n",
       "      <td>nan</td>\n",
       "      <td>nan</td>\n",
       "      <td>nan</td>\n",
       "    </tr>\n",
       "    <tr>\n",
       "      <th>4</th>\n",
       "      <td>nan</td>\n",
       "      <td>nan</td>\n",
       "      <td>nan</td>\n",
       "      <td>nan</td>\n",
       "      <td>nan</td>\n",
       "      <td>nan</td>\n",
       "      <td>nan</td>\n",
       "      <td>nan</td>\n",
       "      <td>nan</td>\n",
       "      <td>nan</td>\n",
       "    </tr>\n",
       "  </tbody>\n",
       "</table>\n",
       "</div>"
      ],
      "text/plain": [
       "  Are you feeling feverish or have had shakes or chills in the last 24 hours?  \\\n",
       "0                                                nan                            \n",
       "1                                                nan                            \n",
       "2                                                nan                            \n",
       "3                                                nan                            \n",
       "4                                                nan                            \n",
       "\n",
       "  Have you ever been isolated/required isolation for an infectious disease when receiving care in a healthcare setting?  \\\n",
       "0                                                nan                                                                      \n",
       "1                                                nan                                                                      \n",
       "2                                                nan                                                                      \n",
       "3                                                nan                                                                      \n",
       "4                                                nan                                                                      \n",
       "\n",
       "  Do you have a new Rash?  \\\n",
       "0                     nan   \n",
       "1                     nan   \n",
       "2                     nan   \n",
       "3                     nan   \n",
       "4                     nan   \n",
       "\n",
       "  Do you have a new onset of Vomiting/Diarrhea in the last 24 hours?  \\\n",
       "0                                                nan                   \n",
       "1                                                nan                   \n",
       "2                                                nan                   \n",
       "3                                                nan                   \n",
       "4                                                nan                   \n",
       "\n",
       "  Have you travelled outside of Canada/USA in the last 3 weeks?  \\\n",
       "0                                                nan              \n",
       "1                                                nan              \n",
       "2                                                nan              \n",
       "3                                                nan              \n",
       "4                                                nan              \n",
       "\n",
       "  Have you had contact with a sick person who has travelled outside of Canada/USA in the last 3 weeks?  \\\n",
       "0                                                nan                                                     \n",
       "1                                                nan                                                     \n",
       "2                                                nan                                                     \n",
       "3                                                nan                                                     \n",
       "4                                                nan                                                     \n",
       "\n",
       "  Have you received Health Care in another country in the last 2 years?  \\\n",
       "0                                                nan                      \n",
       "1                                                nan                      \n",
       "2                                                nan                      \n",
       "3                                                nan                      \n",
       "4                                                nan                      \n",
       "\n",
       "  Do you have a new/worse cough or shortness of breath?  \\\n",
       "0                                                nan      \n",
       "1                                                nan      \n",
       "2                                                nan      \n",
       "3                                                nan      \n",
       "4                                                nan      \n",
       "\n",
       "  If so, select all countries that apply  \\\n",
       "0                                    nan   \n",
       "1                                    nan   \n",
       "2                                    nan   \n",
       "3                                    nan   \n",
       "4                                    nan   \n",
       "\n",
       "  If so, select all infectious diseases that apply  \n",
       "0                                              nan  \n",
       "1                                              nan  \n",
       "2                                              nan  \n",
       "3                                              nan  \n",
       "4                                              nan  "
      ]
     },
     "execution_count": 42,
     "metadata": {},
     "output_type": "execute_result"
    }
   ],
   "source": [
    "screening_df = pd.DataFrame(final_list, columns = qlist)\n",
    "screening_df.head()"
   ]
  },
  {
   "cell_type": "code",
   "execution_count": 43,
   "metadata": {
    "hidden": true
   },
   "outputs": [
    {
     "data": {
      "text/plain": [
       "(85154, 10)"
      ]
     },
     "execution_count": 43,
     "metadata": {},
     "output_type": "execute_result"
    }
   ],
   "source": [
    "screening_df.shape"
   ]
  },
  {
   "cell_type": "code",
   "execution_count": 44,
   "metadata": {
    "hidden": true
   },
   "outputs": [
    {
     "data": {
      "text/html": [
       "<div>\n",
       "<style scoped>\n",
       "    .dataframe tbody tr th:only-of-type {\n",
       "        vertical-align: middle;\n",
       "    }\n",
       "\n",
       "    .dataframe tbody tr th {\n",
       "        vertical-align: top;\n",
       "    }\n",
       "\n",
       "    .dataframe thead th {\n",
       "        text-align: right;\n",
       "    }\n",
       "</style>\n",
       "<table border=\"1\" class=\"dataframe\">\n",
       "  <thead>\n",
       "    <tr style=\"text-align: right;\">\n",
       "      <th></th>\n",
       "      <th>Are you feeling feverish or have had shakes or chills in the last 24 hours?</th>\n",
       "      <th>Have you ever been isolated/required isolation for an infectious disease when receiving care in a healthcare setting?</th>\n",
       "      <th>Do you have a new Rash?</th>\n",
       "      <th>Do you have a new onset of Vomiting/Diarrhea in the last 24 hours?</th>\n",
       "      <th>Have you travelled outside of Canada/USA in the last 3 weeks?</th>\n",
       "      <th>Have you had contact with a sick person who has travelled outside of Canada/USA in the last 3 weeks?</th>\n",
       "      <th>Have you received Health Care in another country in the last 2 years?</th>\n",
       "      <th>Do you have a new/worse cough or shortness of breath?</th>\n",
       "      <th>If so, select all countries that apply</th>\n",
       "      <th>If so, select all infectious diseases that apply</th>\n",
       "    </tr>\n",
       "  </thead>\n",
       "  <tbody>\n",
       "    <tr>\n",
       "      <th>80000</th>\n",
       "      <td>Y</td>\n",
       "      <td>nan</td>\n",
       "      <td>N</td>\n",
       "      <td>N</td>\n",
       "      <td>N</td>\n",
       "      <td>N</td>\n",
       "      <td>nan</td>\n",
       "      <td>Y</td>\n",
       "      <td>nan</td>\n",
       "      <td>nan</td>\n",
       "    </tr>\n",
       "    <tr>\n",
       "      <th>80001</th>\n",
       "      <td>N</td>\n",
       "      <td>nan</td>\n",
       "      <td>N</td>\n",
       "      <td>N</td>\n",
       "      <td>N</td>\n",
       "      <td>N</td>\n",
       "      <td>nan</td>\n",
       "      <td>N</td>\n",
       "      <td>nan</td>\n",
       "      <td>nan</td>\n",
       "    </tr>\n",
       "    <tr>\n",
       "      <th>80002</th>\n",
       "      <td>N</td>\n",
       "      <td>nan</td>\n",
       "      <td>N</td>\n",
       "      <td>N</td>\n",
       "      <td>N</td>\n",
       "      <td>N</td>\n",
       "      <td>nan</td>\n",
       "      <td>N</td>\n",
       "      <td>nan</td>\n",
       "      <td>nan</td>\n",
       "    </tr>\n",
       "    <tr>\n",
       "      <th>80003</th>\n",
       "      <td>nan</td>\n",
       "      <td>nan</td>\n",
       "      <td>nan</td>\n",
       "      <td>nan</td>\n",
       "      <td>nan</td>\n",
       "      <td>nan</td>\n",
       "      <td>nan</td>\n",
       "      <td>nan</td>\n",
       "      <td>nan</td>\n",
       "      <td>nan</td>\n",
       "    </tr>\n",
       "    <tr>\n",
       "      <th>80004</th>\n",
       "      <td>N</td>\n",
       "      <td>nan</td>\n",
       "      <td>N</td>\n",
       "      <td>N</td>\n",
       "      <td>N</td>\n",
       "      <td>N</td>\n",
       "      <td>nan</td>\n",
       "      <td>N</td>\n",
       "      <td>nan</td>\n",
       "      <td>nan</td>\n",
       "    </tr>\n",
       "    <tr>\n",
       "      <th>80005</th>\n",
       "      <td>N</td>\n",
       "      <td>nan</td>\n",
       "      <td>Y</td>\n",
       "      <td>N</td>\n",
       "      <td>N</td>\n",
       "      <td>N</td>\n",
       "      <td>nan</td>\n",
       "      <td>N</td>\n",
       "      <td>nan</td>\n",
       "      <td>nan</td>\n",
       "    </tr>\n",
       "    <tr>\n",
       "      <th>80006</th>\n",
       "      <td>nan</td>\n",
       "      <td>nan</td>\n",
       "      <td>nan</td>\n",
       "      <td>nan</td>\n",
       "      <td>nan</td>\n",
       "      <td>nan</td>\n",
       "      <td>nan</td>\n",
       "      <td>nan</td>\n",
       "      <td>nan</td>\n",
       "      <td>nan</td>\n",
       "    </tr>\n",
       "    <tr>\n",
       "      <th>80007</th>\n",
       "      <td>Y</td>\n",
       "      <td>nan</td>\n",
       "      <td>N</td>\n",
       "      <td>N</td>\n",
       "      <td>N</td>\n",
       "      <td>N</td>\n",
       "      <td>nan</td>\n",
       "      <td>Y</td>\n",
       "      <td>nan</td>\n",
       "      <td>nan</td>\n",
       "    </tr>\n",
       "    <tr>\n",
       "      <th>80008</th>\n",
       "      <td>nan</td>\n",
       "      <td>nan</td>\n",
       "      <td>nan</td>\n",
       "      <td>nan</td>\n",
       "      <td>nan</td>\n",
       "      <td>nan</td>\n",
       "      <td>nan</td>\n",
       "      <td>nan</td>\n",
       "      <td>nan</td>\n",
       "      <td>nan</td>\n",
       "    </tr>\n",
       "    <tr>\n",
       "      <th>80009</th>\n",
       "      <td>N</td>\n",
       "      <td>nan</td>\n",
       "      <td>N</td>\n",
       "      <td>N</td>\n",
       "      <td>N</td>\n",
       "      <td>nan</td>\n",
       "      <td>nan</td>\n",
       "      <td>Y</td>\n",
       "      <td>nan</td>\n",
       "      <td>nan</td>\n",
       "    </tr>\n",
       "  </tbody>\n",
       "</table>\n",
       "</div>"
      ],
      "text/plain": [
       "      Are you feeling feverish or have had shakes or chills in the last 24 hours?  \\\n",
       "80000                                                  Y                            \n",
       "80001                                                  N                            \n",
       "80002                                                  N                            \n",
       "80003                                                nan                            \n",
       "80004                                                  N                            \n",
       "80005                                                  N                            \n",
       "80006                                                nan                            \n",
       "80007                                                  Y                            \n",
       "80008                                                nan                            \n",
       "80009                                                  N                            \n",
       "\n",
       "      Have you ever been isolated/required isolation for an infectious disease when receiving care in a healthcare setting?  \\\n",
       "80000                                                nan                                                                      \n",
       "80001                                                nan                                                                      \n",
       "80002                                                nan                                                                      \n",
       "80003                                                nan                                                                      \n",
       "80004                                                nan                                                                      \n",
       "80005                                                nan                                                                      \n",
       "80006                                                nan                                                                      \n",
       "80007                                                nan                                                                      \n",
       "80008                                                nan                                                                      \n",
       "80009                                                nan                                                                      \n",
       "\n",
       "      Do you have a new Rash?  \\\n",
       "80000                       N   \n",
       "80001                       N   \n",
       "80002                       N   \n",
       "80003                     nan   \n",
       "80004                       N   \n",
       "80005                       Y   \n",
       "80006                     nan   \n",
       "80007                       N   \n",
       "80008                     nan   \n",
       "80009                       N   \n",
       "\n",
       "      Do you have a new onset of Vomiting/Diarrhea in the last 24 hours?  \\\n",
       "80000                                                  N                   \n",
       "80001                                                  N                   \n",
       "80002                                                  N                   \n",
       "80003                                                nan                   \n",
       "80004                                                  N                   \n",
       "80005                                                  N                   \n",
       "80006                                                nan                   \n",
       "80007                                                  N                   \n",
       "80008                                                nan                   \n",
       "80009                                                  N                   \n",
       "\n",
       "      Have you travelled outside of Canada/USA in the last 3 weeks?  \\\n",
       "80000                                                  N              \n",
       "80001                                                  N              \n",
       "80002                                                  N              \n",
       "80003                                                nan              \n",
       "80004                                                  N              \n",
       "80005                                                  N              \n",
       "80006                                                nan              \n",
       "80007                                                  N              \n",
       "80008                                                nan              \n",
       "80009                                                  N              \n",
       "\n",
       "      Have you had contact with a sick person who has travelled outside of Canada/USA in the last 3 weeks?  \\\n",
       "80000                                                  N                                                     \n",
       "80001                                                  N                                                     \n",
       "80002                                                  N                                                     \n",
       "80003                                                nan                                                     \n",
       "80004                                                  N                                                     \n",
       "80005                                                  N                                                     \n",
       "80006                                                nan                                                     \n",
       "80007                                                  N                                                     \n",
       "80008                                                nan                                                     \n",
       "80009                                                nan                                                     \n",
       "\n",
       "      Have you received Health Care in another country in the last 2 years?  \\\n",
       "80000                                                nan                      \n",
       "80001                                                nan                      \n",
       "80002                                                nan                      \n",
       "80003                                                nan                      \n",
       "80004                                                nan                      \n",
       "80005                                                nan                      \n",
       "80006                                                nan                      \n",
       "80007                                                nan                      \n",
       "80008                                                nan                      \n",
       "80009                                                nan                      \n",
       "\n",
       "      Do you have a new/worse cough or shortness of breath?  \\\n",
       "80000                                                  Y      \n",
       "80001                                                  N      \n",
       "80002                                                  N      \n",
       "80003                                                nan      \n",
       "80004                                                  N      \n",
       "80005                                                  N      \n",
       "80006                                                nan      \n",
       "80007                                                  Y      \n",
       "80008                                                nan      \n",
       "80009                                                  Y      \n",
       "\n",
       "      If so, select all countries that apply  \\\n",
       "80000                                    nan   \n",
       "80001                                    nan   \n",
       "80002                                    nan   \n",
       "80003                                    nan   \n",
       "80004                                    nan   \n",
       "80005                                    nan   \n",
       "80006                                    nan   \n",
       "80007                                    nan   \n",
       "80008                                    nan   \n",
       "80009                                    nan   \n",
       "\n",
       "      If so, select all infectious diseases that apply  \n",
       "80000                                              nan  \n",
       "80001                                              nan  \n",
       "80002                                              nan  \n",
       "80003                                              nan  \n",
       "80004                                              nan  \n",
       "80005                                              nan  \n",
       "80006                                              nan  \n",
       "80007                                              nan  \n",
       "80008                                              nan  \n",
       "80009                                              nan  "
      ]
     },
     "execution_count": 44,
     "metadata": {},
     "output_type": "execute_result"
    }
   ],
   "source": [
    "screening_df.iloc[80000:80010]"
   ]
  },
  {
   "cell_type": "code",
   "execution_count": 45,
   "metadata": {
    "hidden": true
   },
   "outputs": [],
   "source": [
    "screening_df.replace('nan',np.NaN, inplace = True)"
   ]
  },
  {
   "cell_type": "code",
   "execution_count": 46,
   "metadata": {
    "hidden": true
   },
   "outputs": [
    {
     "data": {
      "text/html": [
       "<div>\n",
       "<style scoped>\n",
       "    .dataframe tbody tr th:only-of-type {\n",
       "        vertical-align: middle;\n",
       "    }\n",
       "\n",
       "    .dataframe tbody tr th {\n",
       "        vertical-align: top;\n",
       "    }\n",
       "\n",
       "    .dataframe thead th {\n",
       "        text-align: right;\n",
       "    }\n",
       "</style>\n",
       "<table border=\"1\" class=\"dataframe\">\n",
       "  <thead>\n",
       "    <tr style=\"text-align: right;\">\n",
       "      <th></th>\n",
       "      <th>Are you feeling feverish or have had shakes or chills in the last 24 hours?</th>\n",
       "      <th>Have you ever been isolated/required isolation for an infectious disease when receiving care in a healthcare setting?</th>\n",
       "      <th>Do you have a new Rash?</th>\n",
       "      <th>Do you have a new onset of Vomiting/Diarrhea in the last 24 hours?</th>\n",
       "      <th>Have you travelled outside of Canada/USA in the last 3 weeks?</th>\n",
       "      <th>Have you had contact with a sick person who has travelled outside of Canada/USA in the last 3 weeks?</th>\n",
       "      <th>Have you received Health Care in another country in the last 2 years?</th>\n",
       "      <th>Do you have a new/worse cough or shortness of breath?</th>\n",
       "      <th>If so, select all countries that apply</th>\n",
       "      <th>If so, select all infectious diseases that apply</th>\n",
       "    </tr>\n",
       "  </thead>\n",
       "  <tbody>\n",
       "    <tr>\n",
       "      <th>80000</th>\n",
       "      <td>Y</td>\n",
       "      <td>NaN</td>\n",
       "      <td>N</td>\n",
       "      <td>N</td>\n",
       "      <td>N</td>\n",
       "      <td>N</td>\n",
       "      <td>NaN</td>\n",
       "      <td>Y</td>\n",
       "      <td>NaN</td>\n",
       "      <td>NaN</td>\n",
       "    </tr>\n",
       "    <tr>\n",
       "      <th>80001</th>\n",
       "      <td>N</td>\n",
       "      <td>NaN</td>\n",
       "      <td>N</td>\n",
       "      <td>N</td>\n",
       "      <td>N</td>\n",
       "      <td>N</td>\n",
       "      <td>NaN</td>\n",
       "      <td>N</td>\n",
       "      <td>NaN</td>\n",
       "      <td>NaN</td>\n",
       "    </tr>\n",
       "    <tr>\n",
       "      <th>80002</th>\n",
       "      <td>N</td>\n",
       "      <td>NaN</td>\n",
       "      <td>N</td>\n",
       "      <td>N</td>\n",
       "      <td>N</td>\n",
       "      <td>N</td>\n",
       "      <td>NaN</td>\n",
       "      <td>N</td>\n",
       "      <td>NaN</td>\n",
       "      <td>NaN</td>\n",
       "    </tr>\n",
       "    <tr>\n",
       "      <th>80003</th>\n",
       "      <td>NaN</td>\n",
       "      <td>NaN</td>\n",
       "      <td>NaN</td>\n",
       "      <td>NaN</td>\n",
       "      <td>NaN</td>\n",
       "      <td>NaN</td>\n",
       "      <td>NaN</td>\n",
       "      <td>NaN</td>\n",
       "      <td>NaN</td>\n",
       "      <td>NaN</td>\n",
       "    </tr>\n",
       "    <tr>\n",
       "      <th>80004</th>\n",
       "      <td>N</td>\n",
       "      <td>NaN</td>\n",
       "      <td>N</td>\n",
       "      <td>N</td>\n",
       "      <td>N</td>\n",
       "      <td>N</td>\n",
       "      <td>NaN</td>\n",
       "      <td>N</td>\n",
       "      <td>NaN</td>\n",
       "      <td>NaN</td>\n",
       "    </tr>\n",
       "    <tr>\n",
       "      <th>80005</th>\n",
       "      <td>N</td>\n",
       "      <td>NaN</td>\n",
       "      <td>Y</td>\n",
       "      <td>N</td>\n",
       "      <td>N</td>\n",
       "      <td>N</td>\n",
       "      <td>NaN</td>\n",
       "      <td>N</td>\n",
       "      <td>NaN</td>\n",
       "      <td>NaN</td>\n",
       "    </tr>\n",
       "    <tr>\n",
       "      <th>80006</th>\n",
       "      <td>NaN</td>\n",
       "      <td>NaN</td>\n",
       "      <td>NaN</td>\n",
       "      <td>NaN</td>\n",
       "      <td>NaN</td>\n",
       "      <td>NaN</td>\n",
       "      <td>NaN</td>\n",
       "      <td>NaN</td>\n",
       "      <td>NaN</td>\n",
       "      <td>NaN</td>\n",
       "    </tr>\n",
       "    <tr>\n",
       "      <th>80007</th>\n",
       "      <td>Y</td>\n",
       "      <td>NaN</td>\n",
       "      <td>N</td>\n",
       "      <td>N</td>\n",
       "      <td>N</td>\n",
       "      <td>N</td>\n",
       "      <td>NaN</td>\n",
       "      <td>Y</td>\n",
       "      <td>NaN</td>\n",
       "      <td>NaN</td>\n",
       "    </tr>\n",
       "    <tr>\n",
       "      <th>80008</th>\n",
       "      <td>NaN</td>\n",
       "      <td>NaN</td>\n",
       "      <td>NaN</td>\n",
       "      <td>NaN</td>\n",
       "      <td>NaN</td>\n",
       "      <td>NaN</td>\n",
       "      <td>NaN</td>\n",
       "      <td>NaN</td>\n",
       "      <td>NaN</td>\n",
       "      <td>NaN</td>\n",
       "    </tr>\n",
       "    <tr>\n",
       "      <th>80009</th>\n",
       "      <td>N</td>\n",
       "      <td>NaN</td>\n",
       "      <td>N</td>\n",
       "      <td>N</td>\n",
       "      <td>N</td>\n",
       "      <td>NaN</td>\n",
       "      <td>NaN</td>\n",
       "      <td>Y</td>\n",
       "      <td>NaN</td>\n",
       "      <td>NaN</td>\n",
       "    </tr>\n",
       "  </tbody>\n",
       "</table>\n",
       "</div>"
      ],
      "text/plain": [
       "      Are you feeling feverish or have had shakes or chills in the last 24 hours?  \\\n",
       "80000                                                  Y                            \n",
       "80001                                                  N                            \n",
       "80002                                                  N                            \n",
       "80003                                                NaN                            \n",
       "80004                                                  N                            \n",
       "80005                                                  N                            \n",
       "80006                                                NaN                            \n",
       "80007                                                  Y                            \n",
       "80008                                                NaN                            \n",
       "80009                                                  N                            \n",
       "\n",
       "      Have you ever been isolated/required isolation for an infectious disease when receiving care in a healthcare setting?  \\\n",
       "80000                                                NaN                                                                      \n",
       "80001                                                NaN                                                                      \n",
       "80002                                                NaN                                                                      \n",
       "80003                                                NaN                                                                      \n",
       "80004                                                NaN                                                                      \n",
       "80005                                                NaN                                                                      \n",
       "80006                                                NaN                                                                      \n",
       "80007                                                NaN                                                                      \n",
       "80008                                                NaN                                                                      \n",
       "80009                                                NaN                                                                      \n",
       "\n",
       "      Do you have a new Rash?  \\\n",
       "80000                       N   \n",
       "80001                       N   \n",
       "80002                       N   \n",
       "80003                     NaN   \n",
       "80004                       N   \n",
       "80005                       Y   \n",
       "80006                     NaN   \n",
       "80007                       N   \n",
       "80008                     NaN   \n",
       "80009                       N   \n",
       "\n",
       "      Do you have a new onset of Vomiting/Diarrhea in the last 24 hours?  \\\n",
       "80000                                                  N                   \n",
       "80001                                                  N                   \n",
       "80002                                                  N                   \n",
       "80003                                                NaN                   \n",
       "80004                                                  N                   \n",
       "80005                                                  N                   \n",
       "80006                                                NaN                   \n",
       "80007                                                  N                   \n",
       "80008                                                NaN                   \n",
       "80009                                                  N                   \n",
       "\n",
       "      Have you travelled outside of Canada/USA in the last 3 weeks?  \\\n",
       "80000                                                  N              \n",
       "80001                                                  N              \n",
       "80002                                                  N              \n",
       "80003                                                NaN              \n",
       "80004                                                  N              \n",
       "80005                                                  N              \n",
       "80006                                                NaN              \n",
       "80007                                                  N              \n",
       "80008                                                NaN              \n",
       "80009                                                  N              \n",
       "\n",
       "      Have you had contact with a sick person who has travelled outside of Canada/USA in the last 3 weeks?  \\\n",
       "80000                                                  N                                                     \n",
       "80001                                                  N                                                     \n",
       "80002                                                  N                                                     \n",
       "80003                                                NaN                                                     \n",
       "80004                                                  N                                                     \n",
       "80005                                                  N                                                     \n",
       "80006                                                NaN                                                     \n",
       "80007                                                  N                                                     \n",
       "80008                                                NaN                                                     \n",
       "80009                                                NaN                                                     \n",
       "\n",
       "      Have you received Health Care in another country in the last 2 years?  \\\n",
       "80000                                                NaN                      \n",
       "80001                                                NaN                      \n",
       "80002                                                NaN                      \n",
       "80003                                                NaN                      \n",
       "80004                                                NaN                      \n",
       "80005                                                NaN                      \n",
       "80006                                                NaN                      \n",
       "80007                                                NaN                      \n",
       "80008                                                NaN                      \n",
       "80009                                                NaN                      \n",
       "\n",
       "      Do you have a new/worse cough or shortness of breath?  \\\n",
       "80000                                                  Y      \n",
       "80001                                                  N      \n",
       "80002                                                  N      \n",
       "80003                                                NaN      \n",
       "80004                                                  N      \n",
       "80005                                                  N      \n",
       "80006                                                NaN      \n",
       "80007                                                  Y      \n",
       "80008                                                NaN      \n",
       "80009                                                  Y      \n",
       "\n",
       "      If so, select all countries that apply  \\\n",
       "80000                                    NaN   \n",
       "80001                                    NaN   \n",
       "80002                                    NaN   \n",
       "80003                                    NaN   \n",
       "80004                                    NaN   \n",
       "80005                                    NaN   \n",
       "80006                                    NaN   \n",
       "80007                                    NaN   \n",
       "80008                                    NaN   \n",
       "80009                                    NaN   \n",
       "\n",
       "      If so, select all infectious diseases that apply  \n",
       "80000                                              NaN  \n",
       "80001                                              NaN  \n",
       "80002                                              NaN  \n",
       "80003                                              NaN  \n",
       "80004                                              NaN  \n",
       "80005                                              NaN  \n",
       "80006                                              NaN  \n",
       "80007                                              NaN  \n",
       "80008                                              NaN  \n",
       "80009                                              NaN  "
      ]
     },
     "execution_count": 46,
     "metadata": {},
     "output_type": "execute_result"
    }
   ],
   "source": [
    "screening_df.iloc[80000:80010]"
   ]
  },
  {
   "cell_type": "markdown",
   "metadata": {
    "heading_collapsed": true
   },
   "source": [
    "## making the new target cells"
   ]
  },
  {
   "cell_type": "code",
   "execution_count": 47,
   "metadata": {
    "hidden": true
   },
   "outputs": [
    {
     "data": {
      "text/plain": [
       "Counter({nan: 73660,\n",
       "         'E.OVE': 1102,\n",
       "         'E.9MEDICAL': 307,\n",
       "         'E.CCU': 426,\n",
       "         'E.10.RESP': 1133,\n",
       "         'E.MAU': 1700,\n",
       "         'E.ICU': 237,\n",
       "         'E.8SURGERY': 1164,\n",
       "         'E.6TH': 764,\n",
       "         'E.5TH': 919,\n",
       "         'E.OVEMH': 279,\n",
       "         'E.7TH West': 725,\n",
       "         'E.9th MED': 454,\n",
       "         'E.7TH East': 1544,\n",
       "         'E.4TH': 16,\n",
       "         'E.8MEDFLEX': 110,\n",
       "         'E.SCN': 2,\n",
       "         'E.9TH EAST': 246,\n",
       "         'E.9TH WEST': 351,\n",
       "         'E.7MEDFLEX': 15})"
      ]
     },
     "execution_count": 47,
     "metadata": {},
     "output_type": "execute_result"
    }
   ],
   "source": [
    "admit_count= Counter(clin['AdmitLocation']); admit_count"
   ]
  },
  {
   "cell_type": "code",
   "execution_count": 48,
   "metadata": {
    "hidden": true
   },
   "outputs": [],
   "source": [
    "clin['outcome'] = clin['AdmitLocation'].astype('str').map(\n",
    "{'nan': 'discharge',\n",
    "         'E.OVE': 'madmit',\n",
    "         'E.9MEDICAL': 'madmit',\n",
    "         'E.CCU': 'madmit',\n",
    "         'E.10.RESP': 'madmit',\n",
    "         'E.MAU': 'madmit',\n",
    "         'E.ICU': 'ICU',\n",
    "         'E.8SURGERY': 'sadmit',\n",
    "         'E.6TH': 'madmit',\n",
    "         'E.5TH': 'madmit',\n",
    "         'E.OVEMH': 'madmit',\n",
    "         'E.7TH West': 'madmit',\n",
    "         'E.9th MED': 'madmit',\n",
    "         'E.7TH East': 'madmit',\n",
    "         'E.4TH': 'madmit',\n",
    "         'E.8MEDFLEX': 'madmit',\n",
    "         'E.SCN': 'madmit',\n",
    "         'E.9TH EAST': 'madmit',\n",
    "         'E.9TH WEST': 'madmit',\n",
    "         'E.7MEDFLEX': 'madmit'})"
   ]
  },
  {
   "cell_type": "code",
   "execution_count": 49,
   "metadata": {
    "hidden": true
   },
   "outputs": [],
   "source": [
    "#first target columns is based on the admitting location\n",
    "clin['target'] = clin['outcome'].map({'discharge': 1, 'madmit': 2, 'sadmit': 3, 'ICU': 4})"
   ]
  },
  {
   "cell_type": "code",
   "execution_count": 50,
   "metadata": {
    "hidden": true
   },
   "outputs": [
    {
     "data": {
      "text/plain": [
       "Counter({nan: 73660,\n",
       "         'Cardiology': 1550,\n",
       "         'ALC General Medicine': 201,\n",
       "         'General Medicine': 4512,\n",
       "         'INTENSIVE CARE UNIT': 253,\n",
       "         'Respirology': 852,\n",
       "         'General Surgery': 650,\n",
       "         'Paediatrics': 882,\n",
       "         'Mental Health': 1198,\n",
       "         'Orthopaedics': 430,\n",
       "         'ALC Neurology': 64,\n",
       "         'Genitourinary': 182,\n",
       "         'Neurology': 456,\n",
       "         'Palliative': 65,\n",
       "         'ALC Respirology': 28,\n",
       "         'Oncology': 38,\n",
       "         'ALC Orthopaedics': 23,\n",
       "         'ALC Cardiology': 38,\n",
       "         'AD PALLIATIVE': 45,\n",
       "         'AD General Medicine': 2,\n",
       "         'Obstetrics': 17,\n",
       "         'AD Respirology': 1,\n",
       "         'AD Oncology': 1,\n",
       "         'ALC General Surgery': 2,\n",
       "         'Neonatal Retro Transfers': 1,\n",
       "         'ALC Oncology': 1,\n",
       "         'AD Neurology': 1,\n",
       "         'Newborn': 1})"
      ]
     },
     "execution_count": 50,
     "metadata": {},
     "output_type": "execute_result"
    }
   ],
   "source": [
    "serv_count = Counter(clin['PatientService']); serv_count"
   ]
  },
  {
   "cell_type": "code",
   "execution_count": 51,
   "metadata": {
    "hidden": true
   },
   "outputs": [],
   "source": [
    "clin['service'] = clin['PatientService'].astype('str').map(\n",
    "    {'nan': 'discharge',\n",
    "         'Cardiology': 'madmit',\n",
    "         'ALC General Medicine': 'madmit',\n",
    "         'General Medicine': 'madmit',\n",
    "         'INTENSIVE CARE UNIT': 'ICU',\n",
    "         'Respirology': 'madmit',\n",
    "         'General Surgery': 'sadmit',\n",
    "         'Paediatrics': 'madmit',\n",
    "         'Mental Health': 'madmit',\n",
    "         'Orthopaedics': 'sadmit',\n",
    "         'ALC Neurology': 'madmit',\n",
    "         'Genitourinary': 'sadmit',\n",
    "         'Neurology': 'madmit',\n",
    "         'Palliative': 'madmit',\n",
    "         'ALC Respirology': 'madmit',\n",
    "         'Oncology': 'madmit',\n",
    "         'ALC Orthopaedics': 'sadmit',\n",
    "         'ALC Cardiology': 'madmit',\n",
    "         'AD PALLIATIVE': 'madmit',\n",
    "         'AD General Medicine': 'madmit',\n",
    "         'Obstetrics': 'madmit',\n",
    "         'AD Respirology': 'madmit',\n",
    "         'AD Oncology': 'madmit',\n",
    "         'ALC General Surgery': 'sadmit',\n",
    "         'Neonatal Retro Transfers': 'madmit',\n",
    "         'ALC Oncology': 'madmit',\n",
    "         'AD Neurology': 'madmit',\n",
    "         'Newborn': 'madmit'})"
   ]
  },
  {
   "cell_type": "code",
   "execution_count": 52,
   "metadata": {
    "hidden": true
   },
   "outputs": [
    {
     "data": {
      "text/plain": [
       "Counter({'discharge': 73660, 'madmit': 9954, 'ICU': 253, 'sadmit': 1287})"
      ]
     },
     "execution_count": 52,
     "metadata": {},
     "output_type": "execute_result"
    }
   ],
   "source": [
    "service_count = Counter(clin['service']); service_count"
   ]
  },
  {
   "cell_type": "code",
   "execution_count": 53,
   "metadata": {
    "hidden": true
   },
   "outputs": [],
   "source": [
    "#second target is based on the admitting service\n",
    "clin['target2'] = clin['service'].map({'discharge': 1, 'madmit': 2, 'sadmit': 3, 'ICU': 4})"
   ]
  },
  {
   "cell_type": "code",
   "execution_count": 54,
   "metadata": {
    "hidden": true
   },
   "outputs": [
    {
     "data": {
      "text/plain": [
       "Counter({1: 73660, 2: 9954, 4: 253, 3: 1287})"
      ]
     },
     "execution_count": 54,
     "metadata": {},
     "output_type": "execute_result"
    }
   ],
   "source": [
    "Counter(clin['target2'])"
   ]
  },
  {
   "cell_type": "code",
   "execution_count": 55,
   "metadata": {
    "hidden": true
   },
   "outputs": [
    {
     "data": {
      "text/plain": [
       "{1: 'discharge', 2: 'madmit', 3: 'sadmit', 4: 'ICU'}"
      ]
     },
     "execution_count": 55,
     "metadata": {},
     "output_type": "execute_result"
    }
   ],
   "source": [
    "#creating this for later use to map the numbers in the dataframe column to their original meaning\n",
    "out_dict = {'discharge': 1, 'madmit': 2, 'sadmit': 3, 'ICU': 4}\n",
    "out_dict = {v:k for k,v in out_dict.items()}\n",
    "out_dict"
   ]
  },
  {
   "cell_type": "code",
   "execution_count": 56,
   "metadata": {
    "hidden": true
   },
   "outputs": [],
   "source": [
    "#discharge vs. not target\n",
    "clin['discharge'] = clin['outcome'].map({'discharge': 'discharge', 'madmit': 'admit', 'sadmit': 'admit', 'ICU': 'admit'})"
   ]
  },
  {
   "cell_type": "code",
   "execution_count": 57,
   "metadata": {
    "hidden": true
   },
   "outputs": [],
   "source": [
    "clin['target3'] = clin['outcome'].map({'discharge': 1, 'madmit': 0, 'sadmit': 0, 'ICU': 0})"
   ]
  },
  {
   "cell_type": "code",
   "execution_count": 58,
   "metadata": {
    "hidden": true
   },
   "outputs": [
    {
     "data": {
      "text/plain": [
       "(Counter({'discharge': 73660, 'admit': 11494}), Counter({1: 73660, 0: 11494}))"
      ]
     },
     "execution_count": 58,
     "metadata": {},
     "output_type": "execute_result"
    }
   ],
   "source": [
    "Counter(clin['discharge']), Counter(clin['target3'])"
   ]
  },
  {
   "cell_type": "code",
   "execution_count": 59,
   "metadata": {
    "hidden": true
   },
   "outputs": [],
   "source": [
    "#a target for trying to tell apart the inpatient disposition, only in admitted patients\n",
    "clin['dispo']= clin['outcome'].map({'discharge': np.nan, 'madmit': 'madmit', 'sadmit': 'sadmit', 'ICU': 'ICU'})"
   ]
  },
  {
   "cell_type": "code",
   "execution_count": 60,
   "metadata": {
    "hidden": true
   },
   "outputs": [],
   "source": [
    "clin['target4'] = clin['dispo'].map({np.nan:np.nan, 'madmit': 1, 'sadmit': 2, 'ICU': 3})\n",
    "#for some reason a can't make a counter out of this without it crashing so I've stopped trying"
   ]
  },
  {
   "cell_type": "code",
   "execution_count": 61,
   "metadata": {
    "hidden": true
   },
   "outputs": [
    {
     "data": {
      "text/plain": [
       "(Counter({nan: 73660, 'madmit': 10093, 'ICU': 237, 'sadmit': 1164}),\n",
       " Counter({1.0: 10093, 3.0: 237, 2.0: 1164}))"
      ]
     },
     "execution_count": 61,
     "metadata": {},
     "output_type": "execute_result"
    }
   ],
   "source": [
    "Counter(clin['dispo']), Counter(clin['target4'].dropna())"
   ]
  },
  {
   "cell_type": "code",
   "execution_count": 62,
   "metadata": {
    "hidden": true
   },
   "outputs": [],
   "source": [
    "#gonna make a target that is ICU vs other\n",
    "clin['ICUvsother'] = clin['PatientService'][clin['PatientService'] == 'INTENSIVE CARE UNIT']\n",
    "#clin['PatientService']"
   ]
  },
  {
   "cell_type": "code",
   "execution_count": 63,
   "metadata": {
    "hidden": true
   },
   "outputs": [],
   "source": [
    "clin['target5'] = clin['ICUvsother'].map({'INTENSIVE CARE UNIT':1, np.nan:0})"
   ]
  },
  {
   "cell_type": "code",
   "execution_count": 64,
   "metadata": {
    "hidden": true
   },
   "outputs": [
    {
     "data": {
      "text/plain": [
       "['AdmitLocation',\n",
       " 'AgeInYrs',\n",
       " 'AgeNumber',\n",
       " 'BP',\n",
       " 'BloodPressure_LastEDReading',\n",
       " 'ChartNumber',\n",
       " 'CleanSubjectiveNotes',\n",
       " 'DischargeDisposition',\n",
       " 'DischargeDispositionDesc',\n",
       " 'Disposition Date & Time',\n",
       " 'EncounterNumber',\n",
       " 'Gender',\n",
       " 'GenderDesc',\n",
       " 'ICUvsother',\n",
       " 'ID',\n",
       " 'InfectionControlScreening',\n",
       " 'Left ED Date & Time',\n",
       " 'MainDiagnosisCode',\n",
       " 'MainDiagnosisCodeDesc',\n",
       " 'MedicalHistory',\n",
       " 'O2Saturation_LastEDReading',\n",
       " 'PIA Date & Time',\n",
       " 'PatientService',\n",
       " 'PresentingComplaint',\n",
       " 'PresentingComplaintDesc',\n",
       " 'Pulse_LastEDReading',\n",
       " 'Reg Date & Time',\n",
       " 'SubjectiveNotes',\n",
       " 'Temperature_LastEDReading',\n",
       " 'Triage Date & Time',\n",
       " 'TriageLevel',\n",
       " 'diastolic',\n",
       " 'discharge',\n",
       " 'dispo',\n",
       " 'o2sat',\n",
       " 'outcome',\n",
       " 'pulse',\n",
       " 'service',\n",
       " 'systolic',\n",
       " 'target',\n",
       " 'target2',\n",
       " 'target3',\n",
       " 'target4',\n",
       " 'target5',\n",
       " 'temp']"
      ]
     },
     "execution_count": 64,
     "metadata": {},
     "output_type": "execute_result"
    }
   ],
   "source": [
    "sorted(clin.columns)"
   ]
  },
  {
   "cell_type": "markdown",
   "metadata": {},
   "source": [
    "## splitting into a bunch of sub dataframes and saving them as their own csv files\n",
    "- loading the excel file is very slow, but loading csv files is faster so I'm making a bunch of dataframes of subsets of data for easy saving/loading/combining"
   ]
  },
  {
   "cell_type": "code",
   "execution_count": 65,
   "metadata": {},
   "outputs": [],
   "source": [
    "tab_df = clin[['ID', 'TriageLevel',\n",
    "       'AgeInYrs', 'GenderDesc', 'DischargeDisposition',\n",
    "       'PresentingComplaint', 'PresentingComplaintDesc', 'AdmitLocation', 'PatientService',\n",
    "       'BloodPressure_LastEDReading','systolic', 'diastolic','temp','pulse','o2sat']]"
   ]
  },
  {
   "cell_type": "code",
   "execution_count": 66,
   "metadata": {},
   "outputs": [],
   "source": [
    "target_df = clin[['outcome','target', 'service','target2', 'discharge', 'target3','dispo','target4', 'ICUvsother', 'target5']]"
   ]
  },
  {
   "cell_type": "code",
   "execution_count": 67,
   "metadata": {},
   "outputs": [],
   "source": [
    "date_df = clin[['Triage Date & Time', 'Reg Date & Time',\n",
    "       'PIA Date & Time', 'Disposition Date & Time', 'Left ED Date & Time']]"
   ]
  },
  {
   "cell_type": "markdown",
   "metadata": {},
   "source": [
    "## parsing of the medical history into categories"
   ]
  },
  {
   "cell_type": "code",
   "execution_count": 68,
   "metadata": {
    "scrolled": true
   },
   "outputs": [
    {
     "data": {
      "text/plain": [
       "24733"
      ]
     },
     "execution_count": 68,
     "metadata": {},
     "output_type": "execute_result"
    }
   ],
   "source": [
    "histories = Counter(clin['MedicalHistory']); len(histories)"
   ]
  },
  {
   "cell_type": "code",
   "execution_count": 69,
   "metadata": {},
   "outputs": [],
   "source": [
    "history = list(clin['MedicalHistory'].str[16:].astype('str'))"
   ]
  },
  {
   "cell_type": "code",
   "execution_count": 70,
   "metadata": {},
   "outputs": [],
   "source": [
    "replacements = (',','<LT>LF>', '.')\n",
    "drop_list = ('\"', '?')\n",
    "split_hist = []\n",
    "for item in history:\n",
    "    for r in replacements:\n",
    "        item = item.replace(r, '::')\n",
    "    item = item.split('::')\n",
    "    item = [re.sub(r'\\(.*?\\)\\ *', '', s) for s in item]\n",
    "    for d in drop_list:\n",
    "        item = [x.replace(d,'') for x in item]\n",
    "        #item = [x.replace('\"','') for x in item]\n",
    "    \n",
    "    item = [x.strip().lower() for x in item if x != 'nan']\n",
    "    \n",
    "    item = list(filter(None, item))\n",
    "    split_hist.append(item)"
   ]
  },
  {
   "cell_type": "code",
   "execution_count": 71,
   "metadata": {},
   "outputs": [],
   "source": [
    "#rejoining them as a string with diagnoses separated by commas\n",
    "join_hist = [', '.join(item) for item in split_hist]"
   ]
  },
  {
   "cell_type": "code",
   "execution_count": 72,
   "metadata": {},
   "outputs": [],
   "source": [
    "#replacing empty string with NaN\n",
    "join_hist = [np.nan if item == 'nan' else item for item in join_hist]"
   ]
  },
  {
   "cell_type": "code",
   "execution_count": 73,
   "metadata": {},
   "outputs": [
    {
     "data": {
      "text/plain": [
       "[['urterine fibroids'],\n",
       " ['strep throat'],\n",
       " ['no significant medical history'],\n",
       " ['no significant medical history'],\n",
       " ['niddm'],\n",
       " ['no significant medical history'],\n",
       " ['uti 3-4wk ago treated with abx', 'eczema'],\n",
       " [],\n",
       " ['asthma', 'hypothyroid', 'hypertension'],\n",
       " ['no significant medical history']]"
      ]
     },
     "execution_count": 73,
     "metadata": {},
     "output_type": "execute_result"
    }
   ],
   "source": [
    "split_hist[2000:2010]"
   ]
  },
  {
   "cell_type": "code",
   "execution_count": 74,
   "metadata": {},
   "outputs": [
    {
     "data": {
      "text/plain": [
       "['urterine fibroids',\n",
       " 'strep throat',\n",
       " 'no significant medical history',\n",
       " 'no significant medical history',\n",
       " 'niddm',\n",
       " 'no significant medical history',\n",
       " 'uti 3-4wk ago treated with abx, eczema',\n",
       " '',\n",
       " 'asthma, hypothyroid, hypertension',\n",
       " 'no significant medical history']"
      ]
     },
     "execution_count": 74,
     "metadata": {},
     "output_type": "execute_result"
    }
   ],
   "source": [
    "join_hist[2000:2010]"
   ]
  },
  {
   "cell_type": "code",
   "execution_count": 75,
   "metadata": {},
   "outputs": [],
   "source": [
    "clin['pmhx'] = join_hist"
   ]
  },
  {
   "cell_type": "code",
   "execution_count": 76,
   "metadata": {},
   "outputs": [],
   "source": [
    "subj_df = clin[['CleanSubjectiveNotes', 'MedicalHistory', 'pmhx']]"
   ]
  },
  {
   "cell_type": "markdown",
   "metadata": {},
   "source": [
    "### exploring different diagnoses"
   ]
  },
  {
   "cell_type": "code",
   "execution_count": 77,
   "metadata": {},
   "outputs": [],
   "source": [
    "diagnoses = Counter()\n",
    "for hx in split_hist:\n",
    "    for item in hx:\n",
    "        diagnoses[item] += 1"
   ]
  },
  {
   "cell_type": "code",
   "execution_count": 78,
   "metadata": {},
   "outputs": [
    {
     "name": "stdout",
     "output_type": "stream",
     "text": [
      "# of unique diagnoses: 13011\n"
     ]
    }
   ],
   "source": [
    "print ('# of unique diagnoses:', len(diagnoses))"
   ]
  },
  {
   "cell_type": "code",
   "execution_count": 79,
   "metadata": {},
   "outputs": [
    {
     "data": {
      "text/plain": [
       "[('#  c  spine  2 nd vertibra', 1),\n",
       " ('#  lt foot  1  year  ago', 1),\n",
       " ('#  rt ankle   10 years ago', 1),\n",
       " ('#  rt wrist', 1),\n",
       " ('# femur', 1),\n",
       " ('# in l3', 1),\n",
       " ('# l rib/gsw', 1),\n",
       " ('# l wrist with fusion', 1),\n",
       " ('# left femur- plate  in situ  years ago', 1),\n",
       " ('# left schapoid  feb 2018', 1),\n",
       " ('# left sided rib cage last year', 1),\n",
       " ('# lt  radius', 1),\n",
       " ('# lumbar', 1),\n",
       " ('# lumbar vertebrae years ago', 1),\n",
       " ('# neck', 1),\n",
       " ('# neck of femur', 1),\n",
       " ('# of lumbar vertebra', 1),\n",
       " ('# of neck of femur', 3),\n",
       " ('# of shaft of humerus', 1),\n",
       " ('# pelvis; multiple # post being hit by vehicle in wheelchair', 1),\n",
       " ('# right femur', 1),\n",
       " ('# right humerus', 1),\n",
       " ('# rt leg', 1),\n",
       " ('# shoulder', 1),\n",
       " ('# spine', 1),\n",
       " ('# spine - bedridden', 1),\n",
       " ('# tailbone', 1),\n",
       " ('# to lt arm 2017', 1),\n",
       " ('# vertebrae', 1),\n",
       " ('#fibula', 1),\n",
       " ('#hip', 2),\n",
       " ('#l humerus', 1),\n",
       " ('#rt wrist', 1),\n",
       " ('( chemo completed june', 1),\n",
       " ('(scf- intracreanial brain pressure', 1),\n",
       " (')', 1),\n",
       " (') gerd', 1),\n",
       " ('- completed antibiotic', 1),\n",
       " ('- incomplete list', 1),\n",
       " ('- no sx', 1),\n",
       " ('-2018', 1),\n",
       " ('-a-fib', 1),\n",
       " ('/ a fib', 1),\n",
       " ('/ afib', 1),\n",
       " ('/ panic attack', 1),\n",
       " ('/18', 3),\n",
       " ('/2018', 2),\n",
       " ('/2018; gout; high cholesterol', 1),\n",
       " ('/anemia/htn/chf/smoker for 50yrs/copd/polyps removed  from colon', 1),\n",
       " ('/gout', 1),\n",
       " ('1  low functioning kidney', 1),\n",
       " ('1 functional kidney', 1),\n",
       " ('1 functioning kidney', 1),\n",
       " ('1 kidney', 4),\n",
       " ('1 kidney  removed  20 yrs  ago', 1),\n",
       " ('1 kidney donated  left kidney 2005', 1),\n",
       " ('1 kidney removed', 3),\n",
       " ('1 kidney transplant', 1),\n",
       " ('1 lung', 3),\n",
       " ('1 lung is working', 1),\n",
       " ('1 miscarriage', 1),\n",
       " ('1 st seizure', 1),\n",
       " ('1 stent', 5),\n",
       " ('1 stent/cholesterol/htn', 1),\n",
       " ('1/2 kidney', 1),\n",
       " ('1/2 kidney remove 2014', 1),\n",
       " ('1/2 lung removed', 1),\n",
       " ('1/2 parathyroid removed--benign', 1),\n",
       " ('10 days ago', 1),\n",
       " ('10 stents', 2),\n",
       " ('10 stents sept 2017 w/ mi', 1),\n",
       " ('10 years ago', 1),\n",
       " ('12 cigarettes/day', 1),\n",
       " ('12 stents', 2),\n",
       " ('12 stents sinc 2003', 1),\n",
       " ('12 weeks gestation', 1),\n",
       " ('12 yrs 2 stents', 1),\n",
       " ('15 years ago mi with 1 stent', 1),\n",
       " ('17cem tumor on back of stomach', 1),\n",
       " ('19 wk pregnant', 1),\n",
       " ('1943', 1),\n",
       " ('1992 hemilamenectomy dr', 1),\n",
       " ('1995 sharpanal left leg', 1),\n",
       " ('1995 sharpanal piece in mouth', 1),\n",
       " ('1996', 1),\n",
       " ('1997', 1),\n",
       " ('1998', 1),\n",
       " ('1st avb', 1),\n",
       " ('1st degree heart block', 1),\n",
       " ('1st pregnancy-stillbirth', 1),\n",
       " ('1st stage breast ca- 2018', 1),\n",
       " ('2', 2),\n",
       " ('2 artificial hear valve', 1),\n",
       " ('2 bipass', 1),\n",
       " ('2 blocked arteriee', 1),\n",
       " ('2 brain surgeries in 2015', 1),\n",
       " ('2 bypass', 2),\n",
       " ('2 cardiac stent', 1),\n",
       " ('2 cardiac stents', 1),\n",
       " ('2 cardiac stents may 25/18', 1),\n",
       " ('2 concusions', 1),\n",
       " ('2 cva', 1),\n",
       " ('2 discs removed', 1),\n",
       " ('2 heart attack', 1),\n",
       " ('2 heart attacks', 1),\n",
       " ('2 heart surgery 1981/1994', 1),\n",
       " ('2 hip replacements', 1),\n",
       " ('2 kidney stones', 1),\n",
       " ('2 knee replacement', 1),\n",
       " ('2 l home o2', 1),\n",
       " ('2 mi with bypass', 1),\n",
       " ('2 microduplication', 1),\n",
       " ('2 mis', 6),\n",
       " ('2 operations of the back of the head', 1),\n",
       " ('2 stent', 1),\n",
       " ('2 stent may 10', 1),\n",
       " ('2 stent rca', 1),\n",
       " ('2 stents', 19),\n",
       " ('2 stents  2017', 1),\n",
       " ('2 stents (feb 20', 1),\n",
       " ('2 stents 12 years ago', 1),\n",
       " ('2 stents 2014', 1),\n",
       " ('2 stents inserted 1 week ago and started on plavix', 1),\n",
       " ('2 stents november 2018', 1),\n",
       " ('2 stents put in', 1),\n",
       " ('2 stents/ hypertension', 1),\n",
       " ('2 stents/htn', 1),\n",
       " ('2 strkes', 1),\n",
       " ('2 years', 1),\n",
       " ('2 years ago', 1),\n",
       " ('2-3 stents', 1),\n",
       " ('20 brain tumors', 1),\n",
       " ('2001)', 1),\n",
       " ('20017', 1),\n",
       " ('2003', 1),\n",
       " ('2005', 1),\n",
       " ('2006', 1),\n",
       " ('2006)', 1),\n",
       " ('2007', 2),\n",
       " ('2007 mi', 1),\n",
       " ('2007 testicular cancer', 1),\n",
       " ('2008 treatment for cancer', 1),\n",
       " ('2009)', 1),\n",
       " ('2011', 1),\n",
       " ('2011 -changed', 1),\n",
       " ('2012', 1),\n",
       " ('2013', 1),\n",
       " ('2013 2018)', 1),\n",
       " ('2013 right breast cancer with mastectomy', 1),\n",
       " ('2013)', 2),\n",
       " ('2013--currently mild memory loss)', 1),\n",
       " ('2014)', 1),\n",
       " ('2014--stent in 2006', 1),\n",
       " ('2015', 1),\n",
       " ('2015)', 1),\n",
       " ('2016', 3),\n",
       " ('2016 scope r knee for torn meniscus', 1),\n",
       " ('2017', 6),\n",
       " ('2017  stent x1', 1),\n",
       " ('2017 thyroid surgery', 1),\n",
       " ('2017)', 2),\n",
       " ('2017-hepatic renal system', 1),\n",
       " ('2018', 18),\n",
       " ('2018 no defecit', 1),\n",
       " ('2018 scheduled', 1),\n",
       " ('2018)', 3),\n",
       " ('2018; mi 2000; diabetes', 1),\n",
       " ('2019', 2),\n",
       " ('2019)', 2),\n",
       " ('22 q11 deletion syndrome', 1),\n",
       " ('23 abdominal sx from bo', 1),\n",
       " ('24 weeks gestation', 1),\n",
       " ('25 weeks premi', 1),\n",
       " ('27 intubations for anaphalaxis-  pt has trache', 1),\n",
       " ('28weeks preme', 1),\n",
       " ('2abdominal surgery-resection', 1),\n",
       " ('2c-section', 1),\n",
       " ('2heart attacks', 1),\n",
       " ('2mi', 1),\n",
       " ('2months ago', 1),\n",
       " ('2stents', 5),\n",
       " ('2x cva', 1),\n",
       " ('2x stent', 1),\n",
       " ('3  stents', 1),\n",
       " ('3 ablasions and 7 cardioversions', 1),\n",
       " ('3 anuerysm', 1),\n",
       " ('3 brain surgery', 1),\n",
       " ('3 bypass', 1),\n",
       " ('3 cardiac stent', 2),\n",
       " ('3 cardiac stents 4 years ago', 1),\n",
       " ('3 cm cyst to ovary 2 weeks ago', 1),\n",
       " ('3 disc fracture in c-spine', 1),\n",
       " ('3 heart events', 1),\n",
       " ('3 knee sx', 1),\n",
       " (\"3 mi's\", 1),\n",
       " ('3 month premature', 1),\n",
       " ('3 months post partum', 1),\n",
       " ('3 previous concusions', 1),\n",
       " ('3 pseudo-cyst in the pancreas', 1),\n",
       " ('3 right knee sx', 1),\n",
       " ('3 stent', 1),\n",
       " ('3 stent in march', 1),\n",
       " ('3 stents', 11),\n",
       " ('3 stents 15 years ago', 1),\n",
       " ('3 stents in head', 1),\n",
       " ('3 stents in heart', 1),\n",
       " ('3 stents march', 1),\n",
       " ('3 stents x4years ago', 1),\n",
       " ('3 stents/angioplasty', 1),\n",
       " ('3 stents/cva/hypertebsive/cholesterol/hypothyroid', 1),\n",
       " ('3 stents/niddm/cholesterol/htn', 1),\n",
       " ('3 weeks premature', 1),\n",
       " ('3 x stents', 1),\n",
       " ('3 x stents 3-4 years ago', 1),\n",
       " ('3 yrs ago', 1),\n",
       " ('3-4 cigarettes per day', 1),\n",
       " ('30 weeks pregnant', 1),\n",
       " ('30% kidney function', 1),\n",
       " ('30% lung removed) memengitis 2000 was paralised from neck down', 1),\n",
       " ('31 weeks pregnant', 1),\n",
       " ('33 weeks gestation', 1),\n",
       " ('36 weeks and 4 days gestation', 1),\n",
       " ('36 weeks and 6 days', 1),\n",
       " ('37 weeks pregnant', 1),\n",
       " ('37 weeks vaginal birth', 1),\n",
       " ('39 weeks', 1),\n",
       " ('39 weeks 2 days', 1),\n",
       " ('39 weeks via c-section', 1),\n",
       " ('3rd left lung removed', 1),\n",
       " ('3rd vertebr removed', 1),\n",
       " ('3stents', 2),\n",
       " ('3ureter', 1),\n",
       " ('3y ago', 1),\n",
       " ('4 bowel obst', 1),\n",
       " ('4 left ankle surgeries', 1),\n",
       " ('4 miscarriages in the past year and a death of a sibling', 1),\n",
       " ('4 stent', 2),\n",
       " ('4 stent s', 1),\n",
       " ('4 stents', 11),\n",
       " ('4 stents june2018', 1),\n",
       " ('4 stents/cholesterol/hypertension', 1),\n",
       " ('4 teeth pulled out 1week ago', 1),\n",
       " ('40 percent blockage in carotid artery', 1),\n",
       " ('40 weeks', 1),\n",
       " ('41 weeks c-section', 1),\n",
       " ('4stents', 1),\n",
       " ('4weeks pregnant', 1),\n",
       " ('4yo brother has pacemaker', 1),\n",
       " ('5 2018', 1),\n",
       " ('5 bipass/ablasion/htn/chol/niddm/dementia/', 1),\n",
       " ('5 compression with corrective sx in 1993', 1),\n",
       " ('5 months ago', 1),\n",
       " ('5 months ago)', 1),\n",
       " ('5 stents', 9),\n",
       " ('5 stents placed in june bch', 1),\n",
       " ('5 stents since 2007', 1),\n",
       " ('5 stents/1 lung/htn/', 1),\n",
       " ('5 tetnts 2018', 1),\n",
       " ('5 weeks ago', 1),\n",
       " ('5 years ago', 2),\n",
       " ('5 yrs ago', 2),\n",
       " ('5 yrs ago in china', 1),\n",
       " ('5-6 cardiac stents 2 years ago', 1),\n",
       " ('5mg midizolam given by ems at 1649', 1),\n",
       " ('5mm unknown location', 1),\n",
       " ('5p syndrome', 1),\n",
       " ('5stents', 1),\n",
       " ('5th', 1),\n",
       " ('5th metatarsal bone', 1),\n",
       " ('5th toe amputated', 1),\n",
       " ('5th/18', 1),\n",
       " ('5y ago)', 1),\n",
       " ('6  stents   in  2001', 1),\n",
       " ('6 cardiac stents total', 1),\n",
       " ('6 left', 1),\n",
       " ('6 stents', 7),\n",
       " ('7', 1),\n",
       " ('7 stents', 5),\n",
       " ('7 surgeries in total', 1),\n",
       " ('70 % occlusion of carotid artery', 1),\n",
       " ('7weeks pregnant', 1),\n",
       " ('8 stents', 1),\n",
       " ('85% right carotid artery', 1),\n",
       " ('9 yrs ago causing her right sided weakness', 1),\n",
       " ('9/18', 1),\n",
       " ('93kg; breastmilk with formula top-up diet', 1),\n",
       " ('95% deaf', 1),\n",
       " ('95% intestine removed 2016', 1),\n",
       " ('975 tylenol given by ems at 1130', 1),\n",
       " ('9mth admission to hrrh', 1),\n",
       " ('; gerd', 1),\n",
       " (';eye  pain', 1),\n",
       " ('<lt> lt shoulder surgery', 1),\n",
       " ('a', 28),\n",
       " ('a   fib', 1),\n",
       " ('a  fib', 2),\n",
       " ('a  fibrillation', 1),\n",
       " ('a ffib', 1),\n",
       " ('a fib', 163),\n",
       " ('a fib dementia', 1),\n",
       " ('a flutter', 2),\n",
       " ('a leaky chamber in his heart - followed by cardiologsit', 1),\n",
       " ('a osteoarthritis', 1),\n",
       " ('a repaired', 1),\n",
       " ('a-fib', 128),\n",
       " ('a-flutter', 1),\n",
       " ('a/c joint repair', 1),\n",
       " ('a/fib', 1),\n",
       " ('aa repaired in 2010', 1),\n",
       " ('aaa', 25),\n",
       " ('aaa 2009', 1),\n",
       " ('aaa graft 4 years ago', 1),\n",
       " ('aaa removed', 1),\n",
       " ('aaa repair', 2),\n",
       " ('aaa surgery in 2017', 1),\n",
       " ('aaaaautoimmune disorder', 1),\n",
       " ('aas', 1),\n",
       " ('aathritis', 1),\n",
       " ('abalation on nov 23rd 2017', 1),\n",
       " ('abaltion st', 1),\n",
       " ('abcess', 4),\n",
       " ('abcess in buttock  x 5', 1),\n",
       " ('abcess to lower back', 1),\n",
       " ('abcesses', 2),\n",
       " ('abcsess', 1),\n",
       " ('abd', 2),\n",
       " ('abd -stent', 1),\n",
       " ('abd aaa', 1),\n",
       " ('abd aneursym surgery in april', 1),\n",
       " ('abd aneursym sx', 1),\n",
       " ('abd hernia', 4),\n",
       " ('abd pain no dx', 1),\n",
       " ('abd pain undiagnosed', 1),\n",
       " ('abd pin', 1),\n",
       " ('abd surgery @ sunny brook hospital  got gsw in 2011', 1),\n",
       " ('abd sx', 1),\n",
       " ('abdmoinal surgery', 1),\n",
       " ('abdo aneurysm', 1),\n",
       " ('abdo ca', 3),\n",
       " ('abdo hernia', 8),\n",
       " ('abdo hernia sx', 1),\n",
       " ('abdo issues', 2),\n",
       " ('abdo pain', 3),\n",
       " ('abdo pain  with mensturation', 1),\n",
       " ('abdo pain x 2 mths', 1),\n",
       " ('abdo pain x 9 months', 1),\n",
       " ('abdo sx', 2),\n",
       " ('abdo ulcer', 1),\n",
       " ('abdo ulcers', 1),\n",
       " ('abdoiminal surgery', 1),\n",
       " ('abdominal aneurism 2011 after giving birth', 1),\n",
       " ('abdominal aneuryms', 1),\n",
       " ('abdominal aneurysm', 3),\n",
       " ('abdominal aneurysm  in 2018', 1),\n",
       " ('abdominal aneurysm with stent', 1),\n",
       " ('abdominal anuerism', 1),\n",
       " ('abdominal anurysm', 1),\n",
       " ('abdominal ca', 3),\n",
       " ('abdominal ca mets to liver', 1),\n",
       " ('abdominal gas', 1),\n",
       " ('abdominal hernia', 30),\n",
       " ('abdominal hernia repair', 1),\n",
       " ('abdominal hernia-hernia repair in july-abscess  a month ago', 1),\n",
       " ('abdominal hernias', 1),\n",
       " ('abdominal hystrectomy  1 year ago', 1),\n",
       " ('abdominal issues', 1),\n",
       " ('abdominal stones', 1),\n",
       " ('abdominal surgery', 3),\n",
       " ('abdominal surgery 6 months ago', 1),\n",
       " ('abdominal surgery with colostomy', 1),\n",
       " ('abdominal sx', 1),\n",
       " ('abdominal sx  2 months ago', 1),\n",
       " ('abdominal tb--treated 4y ago per pt', 1),\n",
       " ('abdominal tumour excision mar 2018', 1),\n",
       " ('abdominal ulcer', 1),\n",
       " ('abdominal ulcer colitis', 1),\n",
       " ('abdominal ulcers', 1),\n",
       " ('abdonminal aneurysm', 1),\n",
       " ('ablaation uteris 2014', 1),\n",
       " ('ablasion', 5),\n",
       " ('ablasion  18 years ago', 1),\n",
       " ('ablasion 2015', 1),\n",
       " ('ablasion x2 2016 and 2017', 1),\n",
       " ('ablation', 12),\n",
       " ('ablation  done  in 2016  due to  svt', 1),\n",
       " ('ablation 12 years ago', 1),\n",
       " ('ablation 2003', 1),\n",
       " ('ablation 2017 novemember', 1),\n",
       " ('ablation 3 months ago', 1),\n",
       " ('ablation 4 years ago', 1),\n",
       " ('ablation cardiac x 10 yrs ago', 1),\n",
       " ('ablation done last year', 1),\n",
       " ('ablation for arrythmia', 1),\n",
       " ('ablation for svt', 1),\n",
       " ('ablation x 2', 1),\n",
       " ('ablation x2 - last 2017', 1),\n",
       " ('ablazion', 1),\n",
       " ('able to walk', 1),\n",
       " ('abnormal cbc', 1),\n",
       " ('abnormal liver enzymes', 2),\n",
       " ('abnormal nare anatomy', 1),\n",
       " ('abnormalities of gait and mobility', 1),\n",
       " ('abnormalities of the heart', 1),\n",
       " ('abominal ulcer', 1),\n",
       " ('abortioin x1', 1),\n",
       " ('abortion', 1),\n",
       " ('abortion a month', 1),\n",
       " ('abortion april', 1),\n",
       " ('abortion last summer', 1),\n",
       " ('abortion x1', 3),\n",
       " ('abortion x2', 1),\n",
       " ('above the knee amputee', 1),\n",
       " ('abscess', 4),\n",
       " ('abscess of bursa', 1),\n",
       " ('abscess on left arm', 1),\n",
       " ('abscess on rt breast', 1),\n",
       " ('abscesses', 1),\n",
       " ('absent seizure', 1),\n",
       " ('abve knee amputation', 1),\n",
       " ('acavanoma in brain stem', 1),\n",
       " ('accident  at  work  3 years  ago', 1),\n",
       " ('accident 2009', 1),\n",
       " ('acd reflux', 1),\n",
       " ('acf', 1),\n",
       " ('achalasia', 1),\n",
       " ('achromatopsia', 1),\n",
       " ('aci', 1),\n",
       " ('acid', 4),\n",
       " ('acid  reflex', 1),\n",
       " ('acid  reflux- last ogd 2014', 1),\n",
       " ('acid in stomache', 1),\n",
       " ('acid problem', 2),\n",
       " ('acid reflex', 25),\n",
       " ('acid reflu', 2),\n",
       " ('acid reflux', 768),\n",
       " ('acid refluxborderline personality', 1),\n",
       " ('acid refux', 1),\n",
       " ('acid relfux', 1),\n",
       " ('acid relux', 2),\n",
       " ('acid rerflux', 1),\n",
       " ('acid stomach', 1),\n",
       " ('acidity', 3),\n",
       " ('acidreflux', 1),\n",
       " ('acifd reflux', 1),\n",
       " ('acino significant medical history', 1),\n",
       " ('acities', 1),\n",
       " ('acl  reconstruction', 1),\n",
       " ('acl reconstruction', 1),\n",
       " ('acl repair', 1),\n",
       " ('acl surgery', 1),\n",
       " ('acl sx', 1),\n",
       " ('acl sx 2 years ago', 1),\n",
       " ('acls', 1),\n",
       " ('acne', 17),\n",
       " ('acquired brain infection', 1),\n",
       " ('acr', 1),\n",
       " ('acs', 7),\n",
       " ('acsities', 1),\n",
       " ('active ankylosing', 1),\n",
       " ('active bladder', 1),\n",
       " ('active pneumonia lll', 1),\n",
       " ('active smoker', 1),\n",
       " ('actonel', 1),\n",
       " ('acute cholecystitis', 1),\n",
       " ('acute exacerbations of back pain', 1),\n",
       " ('acute kidney injury', 3),\n",
       " ('acute kidney injury r/t deyhrated', 1),\n",
       " ('acute leukemia', 1),\n",
       " ('acute macular bleeding', 1),\n",
       " ('acute myeloid leuckemia', 1),\n",
       " ('acute myeloid leukemia', 1),\n",
       " ('acute myelomonocytic leukemia', 1),\n",
       " ('acute pain', 1),\n",
       " ('acute pancreatitis', 1),\n",
       " ('acute pericarditis', 1),\n",
       " ('acute renal failure', 5),\n",
       " ('acute respiratory disorder', 1),\n",
       " ('acute rt', 1),\n",
       " ('ad', 1),\n",
       " ('adalat', 3),\n",
       " ('adanoymiosis', 1),\n",
       " ('add', 20),\n",
       " ('add  depresssion', 1),\n",
       " ('addhd', 1),\n",
       " ('addiction', 4),\n",
       " ('addiction to crack', 1),\n",
       " ('addiction to marijuana and cocaine', 1),\n",
       " ('addiction to percocet', 1),\n",
       " ('addison disease', 1),\n",
       " (\"addison's disease\", 1),\n",
       " ('addisons', 1),\n",
       " ('addisons disease', 6),\n",
       " ('additction to stimulants', 1),\n",
       " ('adem meningitis', 1),\n",
       " ('adenocarcinoma of lung', 1),\n",
       " ('adenocarcinoma prostate', 1),\n",
       " ('adenoid  ca', 1),\n",
       " ('adenoid cystic carcinoma', 1),\n",
       " ('adenoid cystic carcnomia (salivary gland', 1),\n",
       " ('adenoid remove', 1)]"
      ]
     },
     "execution_count": 79,
     "metadata": {},
     "output_type": "execute_result"
    }
   ],
   "source": [
    "#sorted diagnoses\n",
    "sorted(diagnoses.most_common())[:500]"
   ]
  },
  {
   "cell_type": "code",
   "execution_count": 80,
   "metadata": {},
   "outputs": [],
   "source": [
    "#this is a dictionary mapping the rank of the diagnosis to its name\n",
    "dx_rank_dict = {item[0]:i+1 for i,item in enumerate(diagnoses.most_common())}\n",
    "\n",
    "#this is a dictionary mapping the frequency of occurence to its name\n",
    "dx_freq_dict = {item[0]:item[1]/len(diagnoses) for item in diagnoses.most_common()}"
   ]
  },
  {
   "cell_type": "code",
   "execution_count": 81,
   "metadata": {},
   "outputs": [],
   "source": [
    "#trying to get a feel for how many diagoses are provided for each patient\n",
    "split_hist_len = [len(item) for item in split_hist]\n",
    "hxdf = pd.DataFrame(split_hist_len)"
   ]
  },
  {
   "cell_type": "code",
   "execution_count": 82,
   "metadata": {},
   "outputs": [
    {
     "data": {
      "text/html": [
       "<div>\n",
       "<style scoped>\n",
       "    .dataframe tbody tr th:only-of-type {\n",
       "        vertical-align: middle;\n",
       "    }\n",
       "\n",
       "    .dataframe tbody tr th {\n",
       "        vertical-align: top;\n",
       "    }\n",
       "\n",
       "    .dataframe thead th {\n",
       "        text-align: right;\n",
       "    }\n",
       "</style>\n",
       "<table border=\"1\" class=\"dataframe\">\n",
       "  <thead>\n",
       "    <tr style=\"text-align: right;\">\n",
       "      <th></th>\n",
       "      <th>0</th>\n",
       "    </tr>\n",
       "  </thead>\n",
       "  <tbody>\n",
       "    <tr>\n",
       "      <th>count</th>\n",
       "      <td>85154.000000</td>\n",
       "    </tr>\n",
       "    <tr>\n",
       "      <th>mean</th>\n",
       "      <td>1.602908</td>\n",
       "    </tr>\n",
       "    <tr>\n",
       "      <th>std</th>\n",
       "      <td>1.504442</td>\n",
       "    </tr>\n",
       "    <tr>\n",
       "      <th>min</th>\n",
       "      <td>0.000000</td>\n",
       "    </tr>\n",
       "    <tr>\n",
       "      <th>25%</th>\n",
       "      <td>1.000000</td>\n",
       "    </tr>\n",
       "    <tr>\n",
       "      <th>50%</th>\n",
       "      <td>1.000000</td>\n",
       "    </tr>\n",
       "    <tr>\n",
       "      <th>75%</th>\n",
       "      <td>2.000000</td>\n",
       "    </tr>\n",
       "    <tr>\n",
       "      <th>max</th>\n",
       "      <td>22.000000</td>\n",
       "    </tr>\n",
       "  </tbody>\n",
       "</table>\n",
       "</div>"
      ],
      "text/plain": [
       "                  0\n",
       "count  85154.000000\n",
       "mean       1.602908\n",
       "std        1.504442\n",
       "min        0.000000\n",
       "25%        1.000000\n",
       "50%        1.000000\n",
       "75%        2.000000\n",
       "max       22.000000"
      ]
     },
     "execution_count": 82,
     "metadata": {},
     "output_type": "execute_result"
    }
   ],
   "source": [
    "hxdf.describe()"
   ]
  },
  {
   "cell_type": "code",
   "execution_count": 83,
   "metadata": {},
   "outputs": [
    {
     "data": {
      "text/plain": [
       "Counter({0: 10525,\n",
       "         2: 10376,\n",
       "         1: 48075,\n",
       "         3: 7055,\n",
       "         4: 4350,\n",
       "         9: 191,\n",
       "         6: 1187,\n",
       "         7: 595,\n",
       "         5: 2298,\n",
       "         15: 4,\n",
       "         8: 316,\n",
       "         10: 87,\n",
       "         14: 6,\n",
       "         11: 51,\n",
       "         12: 24,\n",
       "         13: 7,\n",
       "         16: 3,\n",
       "         19: 1,\n",
       "         22: 1,\n",
       "         17: 1,\n",
       "         18: 1})"
      ]
     },
     "execution_count": 83,
     "metadata": {},
     "output_type": "execute_result"
    }
   ],
   "source": [
    "lengths = Counter(split_hist_len); lengths"
   ]
  },
  {
   "cell_type": "code",
   "execution_count": 84,
   "metadata": {},
   "outputs": [
    {
     "name": "stdout",
     "output_type": "stream",
     "text": [
      "0 12.359960%\n",
      "1 56.456538%\n",
      "2 12.184983%\n",
      "3 8.284990%\n",
      "4 5.108392%\n",
      "5 2.698640%\n",
      "6 1.393945%\n",
      "7 0.698734%\n",
      "8 0.371092%\n",
      "9 0.224300%\n",
      "10 0.102168%\n",
      "11 0.059891%\n",
      "12 0.028184%\n",
      "13 0.008220%\n",
      "14 0.007046%\n",
      "15 0.004697%\n",
      "16 0.003523%\n",
      "17 0.001174%\n",
      "18 0.001174%\n",
      "19 0.001174%\n",
      "22 0.001174%\n"
     ]
    }
   ],
   "source": [
    "#most patients have only a single diagnosis, 80% have 2 or less, 96% have 6 or less\n",
    "for k,v in sorted(lengths.items()):\n",
    "    print (k, '{0:2f}%'.format(v*100/len(split_hist_len)))"
   ]
  },
  {
   "cell_type": "code",
   "execution_count": 85,
   "metadata": {},
   "outputs": [],
   "source": [
    "#this will create a list for each item where the top 6 diagnoses are listed in order\n",
    "ordered_hist = []\n",
    "for item in split_hist:\n",
    "    #print (item)\n",
    "    #print (len(item))\n",
    "    top_6 = []\n",
    "    for hx in item:\n",
    "        #print (hx)\n",
    "        #print (dx_rank_dict[hx])\n",
    "        #print (dx_rank_dict[hx], hx)\n",
    "        if item == 'nan':\n",
    "            top_6.append(np.nan)\n",
    "        else:\n",
    "            top_6.append((dx_rank_dict[hx], hx))\n",
    "    #print (top_6)\n",
    "    sort = sorted(top_6)\n",
    "    #print (sort)\n",
    "    sort2 = [ii for i,ii in sort]\n",
    "    #print(sort2)\n",
    "    if len(sort2) > 6:\n",
    "        sort2 = sort2[:5]\n",
    "    if len(sort2) < 6:\n",
    "        pad_req = 6-len(sort2)\n",
    "        i = 0\n",
    "        while i < pad_req:\n",
    "            sort2.append(np.nan) #('n/a')\n",
    "            i = i+1\n",
    "        \n",
    "    #print (top_6)\n",
    "    #print (sorted(top_6))\n",
    "    ordered_hist.append(sort2)\n",
    "    #print ('next item')\n",
    "    #print ()"
   ]
  },
  {
   "cell_type": "code",
   "execution_count": 86,
   "metadata": {},
   "outputs": [
    {
     "data": {
      "text/plain": [
       "(85154, 6)"
      ]
     },
     "execution_count": 86,
     "metadata": {},
     "output_type": "execute_result"
    }
   ],
   "source": [
    "medhx_df = pd.DataFrame(ordered_hist, columns = ['medhx' + str(i+1) for i in range(6)])\n",
    "medhx_df.shape"
   ]
  },
  {
   "cell_type": "code",
   "execution_count": 87,
   "metadata": {},
   "outputs": [
    {
     "data": {
      "text/plain": [
       "[['urterine fibroids', nan, nan, nan, nan, nan],\n",
       " ['strep throat', nan, nan, nan, nan, nan],\n",
       " ['no significant medical history', nan, nan, nan, nan, nan],\n",
       " ['no significant medical history', nan, nan, nan, nan, nan],\n",
       " ['niddm', nan, nan, nan, nan, nan],\n",
       " ['no significant medical history', nan, nan, nan, nan, nan],\n",
       " ['eczema', 'uti 3-4wk ago treated with abx', nan, nan, nan, nan],\n",
       " [nan, nan, nan, nan, nan, nan],\n",
       " ['hypertension', 'asthma', 'hypothyroid', nan, nan, nan],\n",
       " ['no significant medical history', nan, nan, nan, nan, nan],\n",
       " ['asthma', 'hypothyroid', 'atrial fibrillation', nan, nan, nan],\n",
       " ['c-section', 'born 38wks', nan, nan, nan, nan],\n",
       " ['no significant medical history', nan, nan, nan, nan, nan],\n",
       " ['no significant medical history', nan, nan, nan, nan, nan],\n",
       " ['no significant medical history', nan, nan, nan, nan, nan],\n",
       " ['high cholesterol',\n",
       "  'hypothyroid',\n",
       "  'arthritis',\n",
       "  'chf',\n",
       "  'atherosclerosis',\n",
       "  'acute renal failure'],\n",
       " ['hypertension', 'niddm', 'chronic back pain', nan, nan, nan],\n",
       " ['htn', 'depression', 'anxiety', 'one kidney', nan, nan],\n",
       " ['no significant medical history', nan, nan, nan, nan, nan],\n",
       " ['no significant medical history', nan, nan, nan, nan, nan]]"
      ]
     },
     "execution_count": 87,
     "metadata": {},
     "output_type": "execute_result"
    }
   ],
   "source": [
    "ordered_hist[2000:2020]"
   ]
  },
  {
   "cell_type": "code",
   "execution_count": 88,
   "metadata": {},
   "outputs": [],
   "source": [
    "comorbids = []\n",
    "\n",
    "for item in ordered_hist:\n",
    "    res = [x for x in item if str(x) != 'nan']\n",
    "    if len(res) == 0: comorbids.append(np.nan)\n",
    "    else:\n",
    "        res = [x for x in res if x != 'no significant medical history']\n",
    "        #print (res, len(res))\n",
    "        comorbids.append(len(res))"
   ]
  },
  {
   "cell_type": "code",
   "execution_count": 89,
   "metadata": {},
   "outputs": [
    {
     "name": "stderr",
     "output_type": "stream",
     "text": [
      "/Users/jjaskolkambp/anaconda3/lib/python3.6/site-packages/ipykernel/__main__.py:2: SettingWithCopyWarning: \n",
      "A value is trying to be set on a copy of a slice from a DataFrame.\n",
      "Try using .loc[row_indexer,col_indexer] = value instead\n",
      "\n",
      "See the caveats in the documentation: http://pandas.pydata.org/pandas-docs/stable/indexing.html#indexing-view-versus-copy\n",
      "  from ipykernel import kernelapp as app\n"
     ]
    }
   ],
   "source": [
    "#so now I want to add this to the tabular data frame\n",
    "tab_df['num_comorbids'] = comorbids"
   ]
  },
  {
   "cell_type": "markdown",
   "metadata": {},
   "source": [
    "### now I'm going to make a couple of balanced datasets"
   ]
  },
  {
   "cell_type": "code",
   "execution_count": 90,
   "metadata": {},
   "outputs": [
    {
     "data": {
      "text/plain": [
       "(Counter({1: 73660, 2: 10093, 4: 237, 3: 1164}), Counter({1: 73660, 0: 11494}))"
      ]
     },
     "execution_count": 90,
     "metadata": {},
     "output_type": "execute_result"
    }
   ],
   "source": [
    "Counter(clin.target), Counter(clin.target3)"
   ]
  },
  {
   "cell_type": "code",
   "execution_count": 91,
   "metadata": {},
   "outputs": [],
   "source": [
    "dc_df = clin[clin.target3==1]\n",
    "dc_df = dc_df.sample(n= 11494)  #this is the number of admissions from target 3\n",
    "\n",
    "admit_df = clin[clin.target3 == 0]"
   ]
  },
  {
   "cell_type": "code",
   "execution_count": 92,
   "metadata": {},
   "outputs": [],
   "source": [
    "balanced_df1 = pd.concat([admit_df, dc_df], axis = 0)"
   ]
  },
  {
   "cell_type": "code",
   "execution_count": 93,
   "metadata": {},
   "outputs": [],
   "source": [
    "icu_df = clin[clin.target2 == 4]\n",
    "madmit_df = clin[clin.target2 ==3].sample(n = len(icu_df))\n",
    "sadmit_df = clin[clin.target2 ==2].sample(n = len(icu_df))\n",
    "disc_df = clin[clin.target2 == 1].sample(n = len(icu_df))"
   ]
  },
  {
   "cell_type": "code",
   "execution_count": 94,
   "metadata": {},
   "outputs": [],
   "source": [
    "#this is a dataframe with equal numbers of all 4 classes\n",
    "balanced_df2 = pd.concat([icu_df, madmit_df, sadmit_df, disc_df], axis = 0)"
   ]
  },
  {
   "cell_type": "code",
   "execution_count": 95,
   "metadata": {},
   "outputs": [],
   "source": [
    "non_icu_df = clin[clin.target2 !=4].sample(n = len(icu_df))"
   ]
  },
  {
   "cell_type": "code",
   "execution_count": 96,
   "metadata": {},
   "outputs": [],
   "source": [
    "balanced_df3 = pd.concat([icu_df, non_icu_df], axis = 0)"
   ]
  },
  {
   "cell_type": "code",
   "execution_count": 97,
   "metadata": {},
   "outputs": [
    {
     "data": {
      "text/plain": [
       "Index(['ID', 'ChartNumber', 'EncounterNumber', 'TriageLevel', 'AgeNumber',\n",
       "       'AgeInYrs', 'GenderDesc', 'Triage Date & Time', 'Reg Date & Time',\n",
       "       'PIA Date & Time', 'Disposition Date & Time', 'DischargeDisposition',\n",
       "       'DischargeDispositionDesc', 'Left ED Date & Time',\n",
       "       'PresentingComplaint', 'PresentingComplaintDesc', 'MainDiagnosisCode',\n",
       "       'MainDiagnosisCodeDesc', 'AdmitLocation', 'PatientService',\n",
       "       'SubjectiveNotes', 'InfectionControlScreening', 'MedicalHistory',\n",
       "       'BloodPressure_LastEDReading', 'O2Saturation_LastEDReading',\n",
       "       'Pulse_LastEDReading', 'Temperature_LastEDReading', 'o2sat', 'pulse',\n",
       "       'temp', 'CleanSubjectiveNotes', 'BP', 'systolic', 'diastolic', 'Gender',\n",
       "       'outcome', 'target', 'service', 'target2', 'discharge', 'target3',\n",
       "       'dispo', 'target4', 'ICUvsother', 'target5', 'pmhx'],\n",
       "      dtype='object')"
      ]
     },
     "execution_count": 97,
     "metadata": {},
     "output_type": "execute_result"
    }
   ],
   "source": [
    "balanced_df3.columns"
   ]
  },
  {
   "cell_type": "markdown",
   "metadata": {},
   "source": [
    "## saving dataframes to csv files"
   ]
  },
  {
   "cell_type": "code",
   "execution_count": 98,
   "metadata": {},
   "outputs": [],
   "source": [
    "balanced_df1.to_csv(data_path + '/balanced_admit_dc_nlp_data.csv')\n",
    "\n",
    "balanced_df2.to_csv(data_path +'/balanced_4cls_nlp_data.csv')\n",
    "\n",
    "balanced_df3.to_csv(data_path +'/balanced_icuvsother_nlp_data.csv')\n",
    "\n",
    "target_df.to_csv(data_path  + '/targets.csv')\n",
    "\n",
    "screening_df.to_csv(data_path + '/inf_control_data.csv')\n",
    "\n",
    "tab_df.to_csv(data_path + '/tabular_data.csv')\n",
    "\n",
    "date_df.to_csv(data_path + '/data_data.csv')\n",
    "\n",
    "subj_df.to_csv(data_path + '/subj_data.csv')\n",
    "\n",
    "medhx_df.to_csv(data_path + '/med_hx.csv')"
   ]
  },
  {
   "cell_type": "code",
   "execution_count": null,
   "metadata": {},
   "outputs": [],
   "source": []
  }
 ],
 "metadata": {
  "kernelspec": {
   "display_name": "Python [default]",
   "language": "python",
   "name": "python3"
  },
  "language_info": {
   "codemirror_mode": {
    "name": "ipython",
    "version": 3
   },
   "file_extension": ".py",
   "mimetype": "text/x-python",
   "name": "python",
   "nbconvert_exporter": "python",
   "pygments_lexer": "ipython3",
   "version": "3.6.5"
  }
 },
 "nbformat": 4,
 "nbformat_minor": 2
}
