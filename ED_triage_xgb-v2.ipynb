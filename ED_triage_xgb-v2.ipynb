{
 "cells": [
  {
   "cell_type": "markdown",
   "metadata": {},
   "source": [
    "returning to this approach after some delay working on neural network approaches"
   ]
  },
  {
   "cell_type": "markdown",
   "metadata": {
    "heading_collapsed": true
   },
   "source": [
    "#### Online, we import the usual packages. **xgboost** needs to be installed (with conda install xgboost or pip install -U xgboost)."
   ]
  },
  {
   "cell_type": "code",
   "execution_count": 6,
   "metadata": {
    "hidden": true
   },
   "outputs": [
    {
     "name": "stdout",
     "output_type": "stream",
     "text": [
      "Collecting xgboost\n",
      "  Using cached https://files.pythonhosted.org/packages/96/84/4e2cae6247f397f83d8adc5c2a2a0c5d7d790a14a4c7400ff6574586f589/xgboost-0.90.tar.gz\n",
      "Requirement already satisfied: numpy in /Users/jjaskolkambp/anaconda3/lib/python3.6/site-packages (from xgboost) (1.14.3)\n",
      "Requirement already satisfied: scipy in /Users/jjaskolkambp/anaconda3/lib/python3.6/site-packages (from xgboost) (1.1.0)\n",
      "Building wheels for collected packages: xgboost\n",
      "  Running setup.py bdist_wheel for xgboost ... \u001b[?25ldone\n",
      "\u001b[?25h  Stored in directory: /Users/jjaskolkambp/Library/Caches/pip/wheels/e9/48/4d/de4187b5270dff71d3697c5a7857a1e2d9a0c63a28b3462eeb\n",
      "Successfully built xgboost\n",
      "Installing collected packages: xgboost\n",
      "Successfully installed xgboost-0.90\n",
      "\u001b[33mYou are using pip version 10.0.1, however version 19.2.3 is available.\n",
      "You should consider upgrading via the 'pip install --upgrade pip' command.\u001b[0m\n"
     ]
    }
   ],
   "source": [
    "#!pip install xgboost"
   ]
  },
  {
   "cell_type": "markdown",
   "metadata": {},
   "source": [
    "#### now the usual imports"
   ]
  },
  {
   "cell_type": "code",
   "execution_count": 1,
   "metadata": {},
   "outputs": [],
   "source": [
    "import pandas as pd\n",
    "import numpy as np\n",
    "import re\n",
    "import xgboost as xgb\n",
    "from sklearn.model_selection import train_test_split\n",
    "from sklearn.manifold import TSNE\n",
    "from sklearn.decomposition import PCA\n",
    "from sklearn.metrics import confusion_matrix\n",
    "import sklearn.metrics\n",
    "from collections import Counter\n",
    "import seaborn as sns\n",
    "%matplotlib inline\n",
    "import matplotlib.pyplot as plt"
   ]
  },
  {
   "cell_type": "code",
   "execution_count": 2,
   "metadata": {},
   "outputs": [],
   "source": [
    "import sys\n",
    "import random as rn\n",
    "\n",
    "from IPython.display import clear_output"
   ]
  },
  {
   "cell_type": "code",
   "execution_count": 3,
   "metadata": {},
   "outputs": [],
   "source": [
    "#use this cell when working from home\n",
    "path = '/Users/jjaskolkambp/Desktop/machine learning/my_projects/ed-triage'\n",
    "data_path = '/Users/jjaskolkambp/Desktop/machine learning/my_projects/data/ED triage project/combo'\n",
    "model_path = '/Users/jjaskolkambp/Desktop/machine learning/my_projects/ed-triage/models'\n",
    "\n",
    "clin = pd.read_csv(data_path + '/complete_clean_combo_data.csv', index_col = 0,low_memory = False)"
   ]
  },
  {
   "cell_type": "markdown",
   "metadata": {},
   "source": [
    "This is going to be done without the bert service"
   ]
  },
  {
   "cell_type": "code",
   "execution_count": 4,
   "metadata": {},
   "outputs": [
    {
     "data": {
      "text/plain": [
       "(165433, 121)"
      ]
     },
     "execution_count": 4,
     "metadata": {},
     "output_type": "execute_result"
    }
   ],
   "source": [
    "clin.shape"
   ]
  },
  {
   "cell_type": "code",
   "execution_count": 5,
   "metadata": {},
   "outputs": [
    {
     "data": {
      "text/html": [
       "<div>\n",
       "<style scoped>\n",
       "    .dataframe tbody tr th:only-of-type {\n",
       "        vertical-align: middle;\n",
       "    }\n",
       "\n",
       "    .dataframe tbody tr th {\n",
       "        vertical-align: top;\n",
       "    }\n",
       "\n",
       "    .dataframe thead th {\n",
       "        text-align: right;\n",
       "    }\n",
       "</style>\n",
       "<table border=\"1\" class=\"dataframe\">\n",
       "  <thead>\n",
       "    <tr style=\"text-align: right;\">\n",
       "      <th></th>\n",
       "      <th>ID</th>\n",
       "      <th>ChartNumber</th>\n",
       "      <th>EncounterNumber</th>\n",
       "      <th>TriageLevel</th>\n",
       "      <th>AgeNumber</th>\n",
       "      <th>AgeInYrs</th>\n",
       "      <th>GenderDesc</th>\n",
       "      <th>PIA Date &amp; Time</th>\n",
       "      <th>Disposition Date &amp; Time</th>\n",
       "      <th>DischargeDisposition</th>\n",
       "      <th>...</th>\n",
       "      <th>Reg Date &amp; Timeday_year_cos</th>\n",
       "      <th>Reg Date &amp; Timeday_year_sin</th>\n",
       "      <th>Reg Date &amp; Timehour_cos</th>\n",
       "      <th>Reg Date &amp; Timehour_sin</th>\n",
       "      <th>Reg Date &amp; Timeclock_cos</th>\n",
       "      <th>Reg Date &amp; Timeclock_sin</th>\n",
       "      <th>Reg Date &amp; Timemin_cos</th>\n",
       "      <th>Reg Date &amp; Timemin_sin</th>\n",
       "      <th>Reg Date &amp; Timesec_cos</th>\n",
       "      <th>Reg Date &amp; Timesec_sin</th>\n",
       "    </tr>\n",
       "  </thead>\n",
       "  <tbody>\n",
       "    <tr>\n",
       "      <th>0</th>\n",
       "      <td>149.0</td>\n",
       "      <td>N179474</td>\n",
       "      <td>NE000150/18</td>\n",
       "      <td>2.0</td>\n",
       "      <td>43.0</td>\n",
       "      <td>43.0</td>\n",
       "      <td>Female</td>\n",
       "      <td>01/04/2018  12:25:00PM</td>\n",
       "      <td>01/04/2018   2:30:00PM</td>\n",
       "      <td>17.0</td>\n",
       "      <td>...</td>\n",
       "      <td>0.998667</td>\n",
       "      <td>0.05162</td>\n",
       "      <td>-0.965926</td>\n",
       "      <td>0.258819</td>\n",
       "      <td>8.660254e-01</td>\n",
       "      <td>-0.500000</td>\n",
       "      <td>0.809017</td>\n",
       "      <td>-0.587785</td>\n",
       "      <td>1.0</td>\n",
       "      <td>0.0</td>\n",
       "    </tr>\n",
       "    <tr>\n",
       "      <th>1</th>\n",
       "      <td>198.0</td>\n",
       "      <td>N798201</td>\n",
       "      <td>NE000199/18</td>\n",
       "      <td>3.0</td>\n",
       "      <td>13.0</td>\n",
       "      <td>13.0</td>\n",
       "      <td>Female</td>\n",
       "      <td>01/04/2018   3:23:00PM</td>\n",
       "      <td>01/04/2018   4:13:00PM</td>\n",
       "      <td>17.0</td>\n",
       "      <td>...</td>\n",
       "      <td>0.998667</td>\n",
       "      <td>0.05162</td>\n",
       "      <td>-0.866025</td>\n",
       "      <td>-0.500000</td>\n",
       "      <td>5.000000e-01</td>\n",
       "      <td>0.866025</td>\n",
       "      <td>0.994522</td>\n",
       "      <td>0.104528</td>\n",
       "      <td>1.0</td>\n",
       "      <td>0.0</td>\n",
       "    </tr>\n",
       "    <tr>\n",
       "      <th>2</th>\n",
       "      <td>218.0</td>\n",
       "      <td>N798204</td>\n",
       "      <td>NE000225/18</td>\n",
       "      <td>2.0</td>\n",
       "      <td>23.0</td>\n",
       "      <td>23.0</td>\n",
       "      <td>Female</td>\n",
       "      <td>01/04/2018   3:00:00PM</td>\n",
       "      <td>01/04/2018   5:05:00PM</td>\n",
       "      <td>17.0</td>\n",
       "      <td>...</td>\n",
       "      <td>0.998667</td>\n",
       "      <td>0.05162</td>\n",
       "      <td>-0.707107</td>\n",
       "      <td>-0.707107</td>\n",
       "      <td>6.123234e-17</td>\n",
       "      <td>1.000000</td>\n",
       "      <td>0.406737</td>\n",
       "      <td>0.913545</td>\n",
       "      <td>1.0</td>\n",
       "      <td>0.0</td>\n",
       "    </tr>\n",
       "    <tr>\n",
       "      <th>3</th>\n",
       "      <td>219.0</td>\n",
       "      <td>N110229</td>\n",
       "      <td>NE000226/18</td>\n",
       "      <td>2.0</td>\n",
       "      <td>30.0</td>\n",
       "      <td>30.0</td>\n",
       "      <td>Female</td>\n",
       "      <td>01/04/2018   4:36:00PM</td>\n",
       "      <td>01/04/2018  11:00:00PM</td>\n",
       "      <td>17.0</td>\n",
       "      <td>...</td>\n",
       "      <td>0.998667</td>\n",
       "      <td>0.05162</td>\n",
       "      <td>-0.707107</td>\n",
       "      <td>-0.707107</td>\n",
       "      <td>6.123234e-17</td>\n",
       "      <td>1.000000</td>\n",
       "      <td>0.104528</td>\n",
       "      <td>0.994522</td>\n",
       "      <td>1.0</td>\n",
       "      <td>0.0</td>\n",
       "    </tr>\n",
       "    <tr>\n",
       "      <th>4</th>\n",
       "      <td>227.0</td>\n",
       "      <td>N739034</td>\n",
       "      <td>NE000222/18</td>\n",
       "      <td>4.0</td>\n",
       "      <td>36.0</td>\n",
       "      <td>36.0</td>\n",
       "      <td>Female</td>\n",
       "      <td>NaN</td>\n",
       "      <td>01/04/2018   3:30:00PM</td>\n",
       "      <td>63.0</td>\n",
       "      <td>...</td>\n",
       "      <td>0.998667</td>\n",
       "      <td>0.05162</td>\n",
       "      <td>-0.707107</td>\n",
       "      <td>-0.707107</td>\n",
       "      <td>6.123234e-17</td>\n",
       "      <td>1.000000</td>\n",
       "      <td>0.866025</td>\n",
       "      <td>0.500000</td>\n",
       "      <td>1.0</td>\n",
       "      <td>0.0</td>\n",
       "    </tr>\n",
       "  </tbody>\n",
       "</table>\n",
       "<p>5 rows × 121 columns</p>\n",
       "</div>"
      ],
      "text/plain": [
       "      ID ChartNumber EncounterNumber  TriageLevel  AgeNumber  AgeInYrs  \\\n",
       "0  149.0     N179474     NE000150/18          2.0       43.0      43.0   \n",
       "1  198.0     N798201     NE000199/18          3.0       13.0      13.0   \n",
       "2  218.0     N798204     NE000225/18          2.0       23.0      23.0   \n",
       "3  219.0     N110229     NE000226/18          2.0       30.0      30.0   \n",
       "4  227.0     N739034     NE000222/18          4.0       36.0      36.0   \n",
       "\n",
       "  GenderDesc         PIA Date & Time Disposition Date & Time  \\\n",
       "0     Female  01/04/2018  12:25:00PM  01/04/2018   2:30:00PM   \n",
       "1     Female  01/04/2018   3:23:00PM  01/04/2018   4:13:00PM   \n",
       "2     Female  01/04/2018   3:00:00PM  01/04/2018   5:05:00PM   \n",
       "3     Female  01/04/2018   4:36:00PM  01/04/2018  11:00:00PM   \n",
       "4     Female                     NaN  01/04/2018   3:30:00PM   \n",
       "\n",
       "   DischargeDisposition          ...           Reg Date & Timeday_year_cos  \\\n",
       "0                  17.0          ...                              0.998667   \n",
       "1                  17.0          ...                              0.998667   \n",
       "2                  17.0          ...                              0.998667   \n",
       "3                  17.0          ...                              0.998667   \n",
       "4                  63.0          ...                              0.998667   \n",
       "\n",
       "  Reg Date & Timeday_year_sin  Reg Date & Timehour_cos  \\\n",
       "0                     0.05162                -0.965926   \n",
       "1                     0.05162                -0.866025   \n",
       "2                     0.05162                -0.707107   \n",
       "3                     0.05162                -0.707107   \n",
       "4                     0.05162                -0.707107   \n",
       "\n",
       "  Reg Date & Timehour_sin Reg Date & Timeclock_cos Reg Date & Timeclock_sin  \\\n",
       "0                0.258819             8.660254e-01                -0.500000   \n",
       "1               -0.500000             5.000000e-01                 0.866025   \n",
       "2               -0.707107             6.123234e-17                 1.000000   \n",
       "3               -0.707107             6.123234e-17                 1.000000   \n",
       "4               -0.707107             6.123234e-17                 1.000000   \n",
       "\n",
       "  Reg Date & Timemin_cos Reg Date & Timemin_sin Reg Date & Timesec_cos  \\\n",
       "0               0.809017              -0.587785                    1.0   \n",
       "1               0.994522               0.104528                    1.0   \n",
       "2               0.406737               0.913545                    1.0   \n",
       "3               0.104528               0.994522                    1.0   \n",
       "4               0.866025               0.500000                    1.0   \n",
       "\n",
       "  Reg Date & Timesec_sin  \n",
       "0                    0.0  \n",
       "1                    0.0  \n",
       "2                    0.0  \n",
       "3                    0.0  \n",
       "4                    0.0  \n",
       "\n",
       "[5 rows x 121 columns]"
      ]
     },
     "execution_count": 5,
     "metadata": {},
     "output_type": "execute_result"
    }
   ],
   "source": [
    "clin.head()"
   ]
  },
  {
   "cell_type": "code",
   "execution_count": 6,
   "metadata": {},
   "outputs": [
    {
     "data": {
      "text/plain": [
       "Index(['ID', 'ChartNumber', 'EncounterNumber', 'TriageLevel', 'AgeNumber',\n",
       "       'AgeInYrs', 'GenderDesc', 'PIA Date & Time', 'Disposition Date & Time',\n",
       "       'DischargeDisposition', 'DischargeDispositionDesc',\n",
       "       'Left ED Date & Time', 'PresentingComplaint', 'PresentingComplaintDesc',\n",
       "       'MainDiagnosisCode', 'MainDiagnosisCodeDesc', 'AdmitLocation',\n",
       "       'PatientService', 'SubjectiveNotes', 'InfectionControlScreening',\n",
       "       'MedicalHistory', 'BloodPressure_LastEDReading',\n",
       "       'O2Saturation_LastEDReading', 'Pulse_LastEDReading',\n",
       "       'Temperature_LastEDReading', 'o2sat', 'pulse', 'temp',\n",
       "       'CleanSubjectiveNotes', 'BP', 'systolic', 'diastolic', 'Gender',\n",
       "       'outcome', 'target', 'service', 'pmhx', 'num_comorbids', 'target2',\n",
       "       'discharge', 'target3', 'dispo', 'target4', 'ICUvsother', 'target5',\n",
       "       'CleanMedicalHistory',\n",
       "       'Are you feeling feverish or have had shakes or chills in the last 24 hours?',\n",
       "       'Have you ever been isolated/required isolation for an infectious disease when receiving care in a healthcare setting?',\n",
       "       'Do you have a new Rash?',\n",
       "       'Do you have a new onset of Vomiting/Diarrhea in the last 24 hours?'],\n",
       "      dtype='object')"
      ]
     },
     "execution_count": 6,
     "metadata": {},
     "output_type": "execute_result"
    }
   ],
   "source": [
    "clin.columns[:50]"
   ]
  },
  {
   "cell_type": "code",
   "execution_count": 7,
   "metadata": {},
   "outputs": [],
   "source": [
    "#replacing nan values in ICUvsothercolumn\n",
    "clin['ICUvsother'].fillna(0, inplace = True)"
   ]
  },
  {
   "cell_type": "markdown",
   "metadata": {},
   "source": [
    "#### sanity checking the outcome variables"
   ]
  },
  {
   "cell_type": "code",
   "execution_count": 10,
   "metadata": {},
   "outputs": [
    {
     "data": {
      "text/plain": [
       "(Counter({0: 165168, 'INTENSIVE CARE UNIT': 265}),\n",
       " Counter({0.0: 165168, 1.0: 265}))"
      ]
     },
     "execution_count": 10,
     "metadata": {},
     "output_type": "execute_result"
    }
   ],
   "source": [
    "Counter(clin['ICUvsother']), Counter(clin['target5'])"
   ]
  },
  {
   "cell_type": "code",
   "execution_count": 11,
   "metadata": {},
   "outputs": [
    {
     "data": {
      "text/plain": [
       "(Counter({'discharge': 149218, 'admit': 16215}),\n",
       " Counter({1.0: 149218, 0.0: 16215}))"
      ]
     },
     "execution_count": 11,
     "metadata": {},
     "output_type": "execute_result"
    }
   ],
   "source": [
    "Counter(clin['discharge']), Counter(clin['target3'])"
   ]
  },
  {
   "cell_type": "markdown",
   "metadata": {},
   "source": [
    "#### creating the variables"
   ]
  },
  {
   "cell_type": "code",
   "execution_count": 13,
   "metadata": {
    "colab": {},
    "colab_type": "code",
    "id": "_LyEmA38E4t5"
   },
   "outputs": [],
   "source": [
    "cont_names = [\n",
    " 'AgeNumber',\n",
    " 'Triage Date & TimeYear', 'Triage Date & TimeMonth', 'Triage Date & TimeWeek', 'Triage Date & TimeDay',\n",
    " 'Triage Date & TimeDayofweek', 'Triage Date & TimeDayofyear', 'Triage Date & TimeHour', 'Triage Date & TimeMinute',\n",
    " 'Triage Date & TimeSecond', 'Triage Date & TimeElapsed',\n",
    "    \n",
    " 'Reg Date & TimeYear', 'Reg Date & TimeMonth', 'Reg Date & TimeWeek', 'Reg Date & TimeDay', 'Reg Date & TimeDayofweek',\n",
    " 'Reg Date & TimeDayofyear', 'Reg Date & TimeHour', 'Reg Date & TimeMinute', 'Reg Date & TimeSecond',\n",
    " 'Reg Date & TimeElapsed',\n",
    "  \n",
    " 'PresentingComplaint',\n",
    " 'num_comorbids','systolic', 'diastolic', 'o2sat', 'pulse', 'temp', 'AgeInYrs', 'Gender']"
   ]
  },
  {
   "cell_type": "code",
   "execution_count": 14,
   "metadata": {
    "colab": {},
    "colab_type": "code",
    "id": "1dzg4S83E4t3"
   },
   "outputs": [],
   "source": [
    "cat_names =[\n",
    " 'Triage Date & TimeIs_month_end',\n",
    " 'Triage Date & TimeIs_month_start',\n",
    " 'Triage Date & TimeIs_quarter_end',\n",
    " 'Triage Date & TimeIs_quarter_start',\n",
    " 'Triage Date & TimeIs_year_end',\n",
    " 'Triage Date & TimeIs_year_start',\n",
    " 'Reg Date & TimeIs_month_end',\n",
    " 'Reg Date & TimeIs_month_start',\n",
    " 'Reg Date & TimeIs_quarter_end',\n",
    " 'Reg Date & TimeIs_quarter_start',\n",
    " 'Reg Date & TimeIs_year_end',\n",
    " 'Reg Date & TimeIs_year_start',\n",
    " 'GenderDesc',\n",
    " 'PresentingComplaintDesc',\n",
    " 'MainDiagnosisCodeDesc',\n",
    " 'Are you feeling feverish or have had shakes or chills in the last 24 hours?',\n",
    " 'Have you ever been isolated/required isolation for an infectious disease when receiving care in a healthcare setting?',\n",
    " 'Do you have a new Rash?',\n",
    " 'Do you have a new onset of Vomiting/Diarrhea in the last 24 hours?',\n",
    " 'Have you travelled outside of Canada/USA in the last 3 weeks?',\n",
    " 'Have you had contact with a sick person who has travelled outside of Canada/USA in the last 3 weeks?',\n",
    " 'Have you received Health Care in another country in the last 2 years?',\n",
    " 'Do you have a new/worse cough or shortness of breath?',\n",
    " 'If so, select all countries that apply',\n",
    " 'If so, select all infectious diseases that apply'\n",
    "]\n"
   ]
  },
  {
   "cell_type": "markdown",
   "metadata": {},
   "source": [
    "### First, we don't use ANY NLP stuff."
   ]
  },
  {
   "cell_type": "markdown",
   "metadata": {},
   "source": [
    "let's remember this dictionary so we know what the various targets are:\n",
    "\n",
    "outcome: {'discharge': 106689, 'madmit': 12037, 'sadmit': 2061, 'ICU': 479}\n",
    "\n",
    "service: {'discharge': 106689, 'madmit': 12003, 'sadmit': 2278, 'ICU': 296}\n",
    "\n",
    "discharge: {'discharge': 106689, 'admit': 14577}\n",
    "\n",
    "dispo: {nan: 106689, 'madmit': 12037, 'sadmit': 2061, 'ICU': 479})(for admitted patients only, where did they go?\n",
    "\n",
    "ICUvsother:  self explanatory"
   ]
  },
  {
   "cell_type": "code",
   "execution_count": 37,
   "metadata": {},
   "outputs": [],
   "source": [
    "features = clin[cont_names].values"
   ]
  },
  {
   "cell_type": "code",
   "execution_count": 39,
   "metadata": {},
   "outputs": [],
   "source": [
    "target = clin['discharge']\n",
    "target2 = clin['ICUvsother'] "
   ]
  },
  {
   "cell_type": "code",
   "execution_count": 43,
   "metadata": {},
   "outputs": [],
   "source": [
    "LABELS = ['admit', 'discharge'] "
   ]
  },
  {
   "cell_type": "code",
   "execution_count": 44,
   "metadata": {},
   "outputs": [],
   "source": [
    "#X_train, X_test, y_train, y_test = train_test_split(features, target, random_state=1)\n",
    "X_train, X_test, y_train, y_test = train_test_split(features, target, random_state=1)"
   ]
  },
  {
   "cell_type": "code",
   "execution_count": 45,
   "metadata": {},
   "outputs": [
    {
     "data": {
      "text/plain": [
       "discharge    111906\n",
       "admit         12168\n",
       "Name: discharge, dtype: int64"
      ]
     },
     "execution_count": 45,
     "metadata": {},
     "output_type": "execute_result"
    }
   ],
   "source": [
    "y_train.value_counts()"
   ]
  },
  {
   "cell_type": "code",
   "execution_count": 46,
   "metadata": {},
   "outputs": [
    {
     "data": {
      "text/plain": [
       "discharge    37312\n",
       "admit         4047\n",
       "Name: discharge, dtype: int64"
      ]
     },
     "execution_count": 46,
     "metadata": {},
     "output_type": "execute_result"
    }
   ],
   "source": [
    "y_test.value_counts()"
   ]
  },
  {
   "cell_type": "markdown",
   "metadata": {},
   "source": [
    "#### first we are going to train xgb without class penalties"
   ]
  },
  {
   "cell_type": "code",
   "execution_count": 47,
   "metadata": {},
   "outputs": [
    {
     "name": "stdout",
     "output_type": "stream",
     "text": [
      "CPU times: user 12.4 s, sys: 82.7 ms, total: 12.4 s\n",
      "Wall time: 13.1 s\n"
     ]
    },
    {
     "data": {
      "text/plain": [
       "XGBClassifier(base_score=0.5, booster='gbtree', colsample_bylevel=1,\n",
       "       colsample_bynode=1, colsample_bytree=1, gamma=0, learning_rate=0.1,\n",
       "       max_delta_step=0, max_depth=3, min_child_weight=1, missing=None,\n",
       "       n_estimators=100, n_jobs=1, nthread=None,\n",
       "       objective='binary:logistic', random_state=0, reg_alpha=0,\n",
       "       reg_lambda=1, scale_pos_weight=1, seed=None, silent=None,\n",
       "       subsample=1, verbosity=1)"
      ]
     },
     "execution_count": 47,
     "metadata": {},
     "output_type": "execute_result"
    }
   ],
   "source": [
    "xgc = xgb.XGBClassifier()\n",
    "\n",
    "%time xgc.fit(X_train, y_train)"
   ]
  },
  {
   "cell_type": "code",
   "execution_count": 48,
   "metadata": {},
   "outputs": [
    {
     "name": "stderr",
     "output_type": "stream",
     "text": [
      "/Users/jjaskolkambp/anaconda3/lib/python3.6/site-packages/sklearn/preprocessing/label.py:151: DeprecationWarning: The truth value of an empty array is ambiguous. Returning False, but in future this will result in an error. Use `array.size > 0` to check that an array is not empty.\n",
      "  if diff:\n"
     ]
    }
   ],
   "source": [
    "preds = xgc.predict(X_test)"
   ]
  },
  {
   "cell_type": "code",
   "execution_count": 50,
   "metadata": {},
   "outputs": [
    {
     "data": {
      "image/png": "[encoded data removed]",
      "text/plain": [
       "<Figure size 216x216 with 2 Axes>"
      ]
     },
     "metadata": {},
     "output_type": "display_data"
    }
   ],
   "source": [
    "LABELS = ['admit', 'discharge'] \n",
    "conf = confusion_matrix(y_test, preds)\n",
    "plt.figure(figsize=(3, 3))\n",
    "sns.heatmap(conf, xticklabels=LABELS, yticklabels=LABELS, annot=True, fmt=\"d\", annot_kws={\"size\": 10});\n",
    "\n",
    "plt.title(\"Confusion matrix\", fontsize=10)\n",
    "plt.ylabel('True label', fontsize=10)\n",
    "plt.xlabel('Predicted label', fontsize=10)\n",
    "plt.show()"
   ]
  },
  {
   "cell_type": "code",
   "execution_count": 51,
   "metadata": {},
   "outputs": [
    {
     "name": "stdout",
     "output_type": "stream",
     "text": [
      "weighted f1:  0.8812638450722602\n",
      "f1:           [0.22665835 0.95226482]\n",
      "accuracy:     0.9100800309485239\n",
      "precision:    [0.7152231  0.91373747]\n",
      "recall:       [0.13466766 0.99418418]\n",
      "admission sens:  0.13466765505312578\n",
      "admission spec:  0.9941841766723842\n"
     ]
    }
   ],
   "source": [
    "f1_w = sklearn.metrics.f1_score(y_test, preds, average='weighted')\n",
    "f1 = sklearn.metrics.f1_score(y_test, preds, average=None)\n",
    "acc = sklearn.metrics.accuracy_score(y_test, preds)\n",
    "prec = sklearn.metrics.precision_score(y_test,preds, average=None) #, pos_label='admit')\n",
    "rec = sklearn.metrics.recall_score(y_test,preds, average=None) #, pos_label='admit')\n",
    "print ('weighted f1: ', f1_w)\n",
    "print ('f1:          ', f1)\n",
    "print ('accuracy:    ', acc)\n",
    "print ('precision:   ', prec)\n",
    "print ('recall:      ', rec)\n",
    "print ('admission sens: ', rec[0])\n",
    "print ('admission PPV: ', rec[1])"
   ]
  },
  {
   "cell_type": "code",
   "execution_count": null,
   "metadata": {},
   "outputs": [],
   "source": []
  },
  {
   "cell_type": "markdown",
   "metadata": {},
   "source": [
    "#### now we are going to try with an empiric class penality"
   ]
  },
  {
   "cell_type": "code",
   "execution_count": 53,
   "metadata": {},
   "outputs": [
    {
     "data": {
      "text/plain": [
       "9.196745562130177"
      ]
     },
     "execution_count": 53,
     "metadata": {},
     "output_type": "execute_result"
    }
   ],
   "source": [
    "class_ratio = y_train.value_counts()[0]/y_train.value_counts()[1]; class_ratio"
   ]
  },
  {
   "cell_type": "code",
   "execution_count": 54,
   "metadata": {},
   "outputs": [
    {
     "name": "stdout",
     "output_type": "stream",
     "text": [
      "CPU times: user 12 s, sys: 85.2 ms, total: 12.1 s\n",
      "Wall time: 12.7 s\n"
     ]
    },
    {
     "data": {
      "text/plain": [
       "XGBClassifier(base_score=0.5, booster='gbtree', colsample_bylevel=1,\n",
       "       colsample_bynode=1, colsample_bytree=1, gamma=0, learning_rate=0.1,\n",
       "       max_delta_step=0, max_depth=3, min_child_weight=1, missing=None,\n",
       "       n_estimators=100, n_jobs=1, nthread=None,\n",
       "       objective='binary:logistic', random_state=0, reg_alpha=0,\n",
       "       reg_lambda=1, scale_pos_weight=0.10873411613318322, seed=None,\n",
       "       silent=None, subsample=1, verbosity=1)"
      ]
     },
     "execution_count": 54,
     "metadata": {},
     "output_type": "execute_result"
    }
   ],
   "source": [
    "xgc = xgb.XGBClassifier(scale_pos_weight=1/class_ratio)\n",
    "\n",
    "%time xgc.fit(X_train, y_train)"
   ]
  },
  {
   "cell_type": "code",
   "execution_count": 55,
   "metadata": {},
   "outputs": [
    {
     "name": "stderr",
     "output_type": "stream",
     "text": [
      "/Users/jjaskolkambp/anaconda3/lib/python3.6/site-packages/sklearn/preprocessing/label.py:151: DeprecationWarning: The truth value of an empty array is ambiguous. Returning False, but in future this will result in an error. Use `array.size > 0` to check that an array is not empty.\n",
      "  if diff:\n"
     ]
    }
   ],
   "source": [
    "preds = xgc.predict(X_test)"
   ]
  },
  {
   "cell_type": "code",
   "execution_count": 56,
   "metadata": {},
   "outputs": [
    {
     "data": {
      "image/png": "[encoded data removed]",
      "text/plain": [
       "<Figure size 216x216 with 2 Axes>"
      ]
     },
     "metadata": {},
     "output_type": "display_data"
    }
   ],
   "source": [
    "conf = confusion_matrix(y_test, preds)\n",
    "\n",
    "plt.figure(figsize=(3, 3))\n",
    "\n",
    "sns.heatmap(conf, xticklabels=LABELS, yticklabels=LABELS, annot=True, fmt=\"d\", annot_kws={\"size\": 10});\n",
    "\n",
    "plt.title(\"Confusion matrix\", fontsize=10)\n",
    "plt.ylabel('True label', fontsize=10)\n",
    "plt.xlabel('Predicted label', fontsize=10)\n",
    "plt.show()"
   ]
  },
  {
   "cell_type": "code",
   "execution_count": 57,
   "metadata": {},
   "outputs": [
    {
     "name": "stdout",
     "output_type": "stream",
     "text": [
      "weighted f1:  0.7983894273444471\n",
      "f1:           [0.35994267 0.84594501]\n",
      "accuracy:     0.751662274232936\n",
      "precision:    [0.24066667 0.96052318]\n",
      "recall:       [0.71361502 0.75578902]\n",
      "admission sens:  0.7136150234741784\n",
      "admission spec:  0.7557890222984562\n"
     ]
    }
   ],
   "source": [
    "f1_w = sklearn.metrics.f1_score(y_test, preds, average='weighted')\n",
    "f1 = sklearn.metrics.f1_score(y_test, preds, average=None)\n",
    "acc = sklearn.metrics.accuracy_score(y_test, preds)\n",
    "prec = sklearn.metrics.precision_score(y_test,preds, average=None) #, pos_label='admit')\n",
    "rec = sklearn.metrics.recall_score(y_test,preds, average=None) #, pos_label='admit')\n",
    "print ('weighted f1: ', f1_w)\n",
    "print ('f1:          ', f1)\n",
    "print ('accuracy:    ', acc)\n",
    "print ('precision:   ', prec)\n",
    "print ('recall:      ', rec)\n",
    "print ('admission sens: ', rec[0])\n",
    "print ('admission spec: ', rec[1])"
   ]
  },
  {
   "cell_type": "markdown",
   "metadata": {},
   "source": [
    "#### now gonna do a grid search for the best class weight score"
   ]
  },
  {
   "cell_type": "code",
   "execution_count": 72,
   "metadata": {},
   "outputs": [],
   "source": [
    "from sklearn.model_selection import cross_val_score\n",
    "from sklearn.model_selection import RepeatedStratifiedKFold"
   ]
  },
  {
   "cell_type": "code",
   "execution_count": 73,
   "metadata": {},
   "outputs": [],
   "source": [
    "weights = [1/90, 1/30, 1/9, 1, 9, 30, 90]\n",
    "param_grid = dict(scale_pos_weight=weights)"
   ]
  },
  {
   "cell_type": "code",
   "execution_count": 74,
   "metadata": {},
   "outputs": [],
   "source": [
    "cv = RepeatedStratifiedKFold(n_splits=10, n_repeats=3, random_state=1)"
   ]
  },
  {
   "cell_type": "code",
   "execution_count": null,
   "metadata": {},
   "outputs": [],
   "source": [
    "grid = GridSearchCV(estimator=model, param_grid=param_grid, n_jobs=-1, cv=cv, scoring='roc_auc')"
   ]
  },
  {
   "cell_type": "markdown",
   "metadata": {},
   "source": [
    "### now we are going to repeat the process with ICU vs other target"
   ]
  },
  {
   "cell_type": "code",
   "execution_count": 72,
   "metadata": {},
   "outputs": [],
   "source": [
    "X_train, X_test, y_train, y_test = train_test_split(features, clin['target5'] , random_state=1)"
   ]
  },
  {
   "cell_type": "code",
   "execution_count": 73,
   "metadata": {},
   "outputs": [
    {
     "data": {
      "text/plain": [
       "0.0    123871\n",
       "1.0       203\n",
       "Name: target5, dtype: int64"
      ]
     },
     "execution_count": 73,
     "metadata": {},
     "output_type": "execute_result"
    }
   ],
   "source": [
    "y_train.value_counts()"
   ]
  },
  {
   "cell_type": "code",
   "execution_count": 74,
   "metadata": {},
   "outputs": [
    {
     "data": {
      "text/plain": [
       "610.2019704433498"
      ]
     },
     "execution_count": 74,
     "metadata": {},
     "output_type": "execute_result"
    }
   ],
   "source": [
    "class_ratio = y_train.value_counts()[0]/y_train.value_counts()[1]; class_ratio"
   ]
  },
  {
   "cell_type": "code",
   "execution_count": 81,
   "metadata": {},
   "outputs": [
    {
     "name": "stderr",
     "output_type": "stream",
     "text": [
      "/Users/jjaskolkambp/anaconda3/lib/python3.6/site-packages/sklearn/preprocessing/label.py:151: DeprecationWarning: The truth value of an empty array is ambiguous. Returning False, but in future this will result in an error. Use `array.size > 0` to check that an array is not empty.\n",
      "  if diff:\n"
     ]
    },
    {
     "data": {
      "text/plain": [
       "array([[41297,     0],\n",
       "       [   62,     0]])"
      ]
     },
     "execution_count": 81,
     "metadata": {},
     "output_type": "execute_result"
    }
   ],
   "source": [
    "xgc = xgb.XGBClassifier(scale_pos_weight=0.1)\n",
    "xgc.fit(X_train, y_train)\n",
    "preds = xgc.predict(X_test)\n",
    "confusion_matrix(y_test, preds)"
   ]
  },
  {
   "cell_type": "code",
   "execution_count": 82,
   "metadata": {},
   "outputs": [
    {
     "name": "stdout",
     "output_type": "stream",
     "text": [
      "weighted f1:         0.997751958533823\n",
      "f1:                  [0.9992499 0.       ]\n",
      "accuracy:    99.85%\n",
      "precision:    [0.99850093 0.        ]\n",
      "recall:       [1. 0.]\n",
      "admission sens:  1.0\n",
      "admission spec:  0.0\n"
     ]
    },
    {
     "name": "stderr",
     "output_type": "stream",
     "text": [
      "/Users/jjaskolkambp/anaconda3/lib/python3.6/site-packages/sklearn/metrics/classification.py:1135: UndefinedMetricWarning: F-score is ill-defined and being set to 0.0 in labels with no predicted samples.\n",
      "  'precision', 'predicted', average, warn_for)\n",
      "/Users/jjaskolkambp/anaconda3/lib/python3.6/site-packages/sklearn/metrics/classification.py:1135: UndefinedMetricWarning: F-score is ill-defined and being set to 0.0 in labels with no predicted samples.\n",
      "  'precision', 'predicted', average, warn_for)\n",
      "/Users/jjaskolkambp/anaconda3/lib/python3.6/site-packages/sklearn/metrics/classification.py:1135: UndefinedMetricWarning: Precision is ill-defined and being set to 0.0 in labels with no predicted samples.\n",
      "  'precision', 'predicted', average, warn_for)\n"
     ]
    }
   ],
   "source": [
    "f1_w = sklearn.metrics.f1_score(y_test, preds, average='weighted')\n",
    "f1 = sklearn.metrics.f1_score(y_test, preds, average=None)\n",
    "acc = sklearn.metrics.accuracy_score(y_test, preds)\n",
    "prec = sklearn.metrics.precision_score(y_test,preds, average = None)\n",
    "rec = sklearn.metrics.recall_score(y_test,preds, average = None)\n",
    "print ('weighted f1:        ',f1_w)\n",
    "print ('f1:                 ',f1)\n",
    "print ('accuracy:    {0:.2f}%'.format(100*acc))\n",
    "print ('precision:   ', prec)\n",
    "print ('recall:      ', rec)\n",
    "print ('admission sens: ', rec[0])\n",
    "print ('admission spec: ', rec[1])"
   ]
  },
  {
   "cell_type": "code",
   "execution_count": 85,
   "metadata": {},
   "outputs": [
    {
     "data": {
      "image/png": "[encoded data removed]",
      "text/plain": [
       "<Figure size 360x360 with 2 Axes>"
      ]
     },
     "metadata": {},
     "output_type": "display_data"
    }
   ],
   "source": [
    "LABELS = Counter(clin['target5']).keys()\n",
    "\n",
    "plt.figure(figsize=(5, 5))\n",
    "sns.heatmap(conf, xticklabels=LABELS, yticklabels=LABELS, annot=True, fmt=\"d\", annot_kws={\"size\": 20});\n",
    "plt.title(\"Confusion matrix\", fontsize=20)\n",
    "plt.ylabel('True label', fontsize=20)\n",
    "plt.xlabel('Predicted label', fontsize=20)\n",
    "plt.show()"
   ]
  },
  {
   "cell_type": "code",
   "execution_count": 86,
   "metadata": {},
   "outputs": [
    {
     "data": {
      "text/plain": [
       "0.0    41297\n",
       "1.0       62\n",
       "Name: target5, dtype: int64"
      ]
     },
     "execution_count": 86,
     "metadata": {},
     "output_type": "execute_result"
    }
   ],
   "source": [
    "y_test.value_counts()"
   ]
  },
  {
   "cell_type": "markdown",
   "metadata": {},
   "source": [
    "#### OK, so XGB with class penality is a step in the right direction\n",
    "- gonna try gridsearch to find best param for scale_pos_rate"
   ]
  },
  {
   "cell_type": "code",
   "execution_count": 90,
   "metadata": {},
   "outputs": [],
   "source": [
    "from sklearn.model_selection import cross_val_score\n",
    "from sklearn.model_selection import RepeatedStratifiedKFold"
   ]
  },
  {
   "cell_type": "code",
   "execution_count": 87,
   "metadata": {},
   "outputs": [],
   "source": [
    "weights = [1/600, 1/300, 1/100, 1/30, 1/10, 1, 10, 30, 100, 300, 600]\n",
    "param_grid = dict(scale_pos_weight=weights)"
   ]
  },
  {
   "cell_type": "code",
   "execution_count": 91,
   "metadata": {},
   "outputs": [],
   "source": [
    "cv = RepeatedStratifiedKFold(n_splits=10, n_repeats=3, random_state=1)"
   ]
  },
  {
   "cell_type": "code",
   "execution_count": null,
   "metadata": {},
   "outputs": [],
   "source": [
    "grid = GridSearchCV(estimator=model, param_grid=param_grid, n_jobs=-1, cv=cv, scoring='roc_auc')"
   ]
  },
  {
   "cell_type": "markdown",
   "metadata": {},
   "source": [
    "Now, we want to use bert encodings. The problem is that these are very wide, so if we used the whole array (just for clinical notes) we would have 500 rows each of length over 1000, which is a recipe for disaster. So, let's try to (a) use just clinical notes, and (b) reduce dimension for using TSNE (a nonlinear dimension reducer). It reduces dimension to 2 (which is very low indeed)."
   ]
  },
  {
   "cell_type": "code",
   "execution_count": 182,
   "metadata": {},
   "outputs": [],
   "source": [
    "tsner = TSNE()"
   ]
  },
  {
   "cell_type": "code",
   "execution_count": null,
   "metadata": {},
   "outputs": [],
   "source": [
    "berttsne = tsner.fit_transform(train_tokens_ids)"
   ]
  },
  {
   "cell_type": "code",
   "execution_count": 46,
   "metadata": {},
   "outputs": [],
   "source": [
    "tsnedf = pd.DataFrame(berttsne, index = clin.index)"
   ]
  },
  {
   "cell_type": "code",
   "execution_count": 47,
   "metadata": {},
   "outputs": [],
   "source": [
    "features = pd.concat([clin[['systolic', 'diastolic', 'Pulse_LastEDReading', 'O2Saturation_LastEDReading', 'Temperature_LastEDReading', 'AgeInYrs', 'Gender']], tsnedf], axis=1)"
   ]
  },
  {
   "cell_type": "code",
   "execution_count": 48,
   "metadata": {},
   "outputs": [],
   "source": [
    "xgc = xgb.XGBClassifier()"
   ]
  },
  {
   "cell_type": "code",
   "execution_count": 49,
   "metadata": {},
   "outputs": [],
   "source": [
    "X_train, X_test, y_train, y_test = train_test_split(features, target, random_state=1)"
   ]
  },
  {
   "cell_type": "code",
   "execution_count": 50,
   "metadata": {},
   "outputs": [],
   "source": [
    "xgc.fit(X_train, y_train)\n",
    "preds = xgc.predict(X_test)"
   ]
  },
  {
   "cell_type": "code",
   "execution_count": 51,
   "metadata": {},
   "outputs": [
    {
     "data": {
      "text/plain": [
       "array([[ 0,  2,  0,  0,  0],\n",
       "       [ 0, 16, 23,  1,  0],\n",
       "       [ 0, 12, 57,  3,  0],\n",
       "       [ 0,  2,  8,  0,  0],\n",
       "       [ 0,  0,  2,  0,  0]])"
      ]
     },
     "execution_count": 51,
     "metadata": {},
     "output_type": "execute_result"
    }
   ],
   "source": [
    "confusion_matrix(y_test, preds)"
   ]
  },
  {
   "cell_type": "markdown",
   "metadata": {},
   "source": [
    "We get essentially the same results as before for triage level. What about disposition?"
   ]
  },
  {
   "cell_type": "code",
   "execution_count": 52,
   "metadata": {},
   "outputs": [],
   "source": [
    "xgc = xgb.XGBClassifier()\n",
    "X_train, X_test, y_train, y_test = train_test_split(features, target2, random_state=1)"
   ]
  },
  {
   "cell_type": "code",
   "execution_count": 53,
   "metadata": {},
   "outputs": [
    {
     "data": {
      "text/plain": [
       "array([[  3,   0,   4,   0,   0],\n",
       "       [  0,   1,   1,   0,   0],\n",
       "       [  1,   1, 112,   0,   0],\n",
       "       [  0,   0,   1,   0,   0],\n",
       "       [  0,   0,   2,   0,   0]])"
      ]
     },
     "execution_count": 53,
     "metadata": {},
     "output_type": "execute_result"
    }
   ],
   "source": [
    "xgc.fit(X_train, y_train)\n",
    "preds = xgc.predict(X_test)\n",
    "confusion_matrix(y_test, preds)"
   ]
  },
  {
   "cell_type": "markdown",
   "metadata": {},
   "source": [
    "We notice that the accuracy is the same, and the results are similar. Let us try a linear but higher-dimensional reduction."
   ]
  },
  {
   "cell_type": "code",
   "execution_count": 54,
   "metadata": {},
   "outputs": [],
   "source": [
    "pcaer = PCA(n_components=30)"
   ]
  },
  {
   "cell_type": "code",
   "execution_count": 55,
   "metadata": {},
   "outputs": [],
   "source": [
    "bertpca = pcaer.fit_transform(bertnotes, None)"
   ]
  },
  {
   "cell_type": "code",
   "execution_count": 56,
   "metadata": {},
   "outputs": [],
   "source": [
    "pcadf = pd.DataFrame(bertpca, index=clin.index)"
   ]
  },
  {
   "cell_type": "code",
   "execution_count": 57,
   "metadata": {},
   "outputs": [],
   "source": [
    "features = pd.concat([clin[['systolic', 'diastolic', 'Pulse_LastEDReading', 'O2Saturation_LastEDReading', 'Temperature_LastEDReading', 'AgeInYrs', 'Gender']], pcadf], axis=1)"
   ]
  },
  {
   "cell_type": "code",
   "execution_count": 58,
   "metadata": {},
   "outputs": [
    {
     "data": {
      "text/plain": [
       "array([[ 0,  2,  0,  0,  0],\n",
       "       [ 0,  9, 31,  0,  0],\n",
       "       [ 0,  9, 63,  0,  0],\n",
       "       [ 0,  0, 10,  0,  0],\n",
       "       [ 0,  0,  2,  0,  0]])"
      ]
     },
     "execution_count": 58,
     "metadata": {},
     "output_type": "execute_result"
    }
   ],
   "source": [
    "X_train, X_test, y_train, y_test = train_test_split(features, target, random_state=1)\n",
    "xgc = xgb.XGBClassifier()\n",
    "xgc.fit(X_train, y_train)\n",
    "preds = xgc.predict(X_test)\n",
    "confusion_matrix(y_test, preds)"
   ]
  },
  {
   "cell_type": "markdown",
   "metadata": {},
   "source": [
    "We get worse results for triage level. What about disposition?"
   ]
  },
  {
   "cell_type": "code",
   "execution_count": 59,
   "metadata": {},
   "outputs": [
    {
     "data": {
      "text/plain": [
       "array([[  2,   0,   5,   0,   0],\n",
       "       [  0,   1,   1,   0,   0],\n",
       "       [  2,   0, 112,   0,   0],\n",
       "       [  0,   0,   1,   0,   0],\n",
       "       [  0,   0,   2,   0,   0]])"
      ]
     },
     "execution_count": 59,
     "metadata": {},
     "output_type": "execute_result"
    }
   ],
   "source": [
    "X_train, X_test, y_train, y_test = train_test_split(features, target2, random_state=1)\n",
    "xgc = xgb.XGBClassifier()\n",
    "xgc.fit(X_train, y_train)\n",
    "preds = xgc.predict(X_test)\n",
    "confusion_matrix(y_test, preds)"
   ]
  },
  {
   "cell_type": "markdown",
   "metadata": {},
   "source": [
    "Clearly worse results."
   ]
  },
  {
   "cell_type": "markdown",
   "metadata": {},
   "source": [
    "For kicks, let us try NOT reducing dimension."
   ]
  },
  {
   "cell_type": "code",
   "execution_count": 63,
   "metadata": {},
   "outputs": [],
   "source": [
    "bertdf = pd.DataFrame(train_tokens_ids, index=clin.index)"
   ]
  },
  {
   "cell_type": "code",
   "execution_count": 64,
   "metadata": {},
   "outputs": [],
   "source": [
    "features = pd.concat([clin[['systolic', 'diastolic', 'o2sat', 'pulse', 'temp', 'AgeInYrs', 'Gender']], bertdf], axis=1)"
   ]
  },
  {
   "cell_type": "code",
   "execution_count": 65,
   "metadata": {},
   "outputs": [
    {
     "name": "stderr",
     "output_type": "stream",
     "text": [
      "/Users/jjaskolkambp/anaconda3/lib/python3.6/site-packages/sklearn/preprocessing/label.py:151: DeprecationWarning: The truth value of an empty array is ambiguous. Returning False, but in future this will result in an error. Use `array.size > 0` to check that an array is not empty.\n",
      "  if diff:\n"
     ]
    },
    {
     "data": {
      "text/plain": [
       "array([[ 78, 415,   0,   0],\n",
       "       [ 53, 815,   0,   0],\n",
       "       [  7, 211,   0,   0],\n",
       "       [  3,  91,   0,   0]])"
      ]
     },
     "execution_count": 65,
     "metadata": {},
     "output_type": "execute_result"
    }
   ],
   "source": [
    "X_train, X_test, y_train, y_test = train_test_split(features, target, random_state=1)\n",
    "xgc = xgb.XGBClassifier()\n",
    "xgc.fit(X_train, y_train)\n",
    "preds = xgc.predict(X_test)\n",
    "confusion_matrix(y_test, preds)"
   ]
  },
  {
   "cell_type": "markdown",
   "metadata": {},
   "source": [
    "We do get noticeably better results (77/126 = 61%)."
   ]
  },
  {
   "cell_type": "code",
   "execution_count": 136,
   "metadata": {},
   "outputs": [
    {
     "name": "stderr",
     "output_type": "stream",
     "text": [
      "/Users/jjaskolkambp/anaconda3/lib/python3.6/site-packages/sklearn/preprocessing/label.py:151: DeprecationWarning: The truth value of an empty array is ambiguous. Returning False, but in future this will result in an error. Use `array.size > 0` to check that an array is not empty.\n",
      "  if diff:\n"
     ]
    },
    {
     "data": {
      "text/plain": [
       "array([[  2,   0,   5,   0,   0],\n",
       "       [  0,   0,   2,   0,   0],\n",
       "       [  0,   0, 114,   0,   0],\n",
       "       [  0,   0,   1,   0,   0],\n",
       "       [  0,   0,   2,   0,   0]])"
      ]
     },
     "execution_count": 136,
     "metadata": {},
     "output_type": "execute_result"
    }
   ],
   "source": [
    "X_train, X_test, y_train, y_test = train_test_split(features, target2, random_state=1)\n",
    "xgc = xgb.XGBClassifier()\n",
    "xgc.fit(X_train, y_train)\n",
    "preds = xgc.predict(X_test)\n",
    "confusion_matrix(y_test, preds)"
   ]
  },
  {
   "cell_type": "code",
   "execution_count": 66,
   "metadata": {},
   "outputs": [
    {
     "name": "stderr",
     "output_type": "stream",
     "text": [
      "/Users/jjaskolkambp/anaconda3/lib/python3.6/site-packages/sklearn/preprocessing/label.py:151: DeprecationWarning: The truth value of an empty array is ambiguous. Returning False, but in future this will result in an error. Use `array.size > 0` to check that an array is not empty.\n",
      "  if diff:\n"
     ]
    },
    {
     "data": {
      "text/plain": [
       "array([[1512,    4,    0,    0],\n",
       "       [ 108,    6,    0,    0],\n",
       "       [  36,    1,    0,    0],\n",
       "       [   6,    0,    0,    0]])"
      ]
     },
     "execution_count": 66,
     "metadata": {},
     "output_type": "execute_result"
    }
   ],
   "source": [
    "X_train, X_test, y_train, y_test = train_test_split(features, target3, random_state=1)\n",
    "xgc = xgb.XGBClassifier()\n",
    "xgc.fit(X_train, y_train)\n",
    "preds = xgc.predict(X_test)\n",
    "confusion_matrix(y_test, preds)"
   ]
  },
  {
   "cell_type": "markdown",
   "metadata": {},
   "source": [
    "But clearly bad results here (everything is classified as \"go home\", because xgboost is getting confused by the quantity of data. To check this, let us see if we are overfitting:"
   ]
  },
  {
   "cell_type": "code",
   "execution_count": 67,
   "metadata": {},
   "outputs": [
    {
     "name": "stdout",
     "output_type": "stream",
     "text": [
      "weighted f1:  0.8687874745570356\n",
      "f1:           [0.95154185 0.096      0.         0.        ]\n",
      "accuracy:     0.9073520621637776\n"
     ]
    },
    {
     "name": "stderr",
     "output_type": "stream",
     "text": [
      "/Users/jjaskolkambp/anaconda3/lib/python3.6/site-packages/sklearn/metrics/classification.py:1135: UndefinedMetricWarning: F-score is ill-defined and being set to 0.0 in labels with no predicted samples.\n",
      "  'precision', 'predicted', average, warn_for)\n"
     ]
    }
   ],
   "source": [
    "f1_w = sklearn.metrics.f1_score(y_test, preds, average='weighted')\n",
    "f1 = sklearn.metrics.f1_score(y_test, preds, average=None)\n",
    "acc = sklearn.metrics.accuracy_score(y_test, preds)\n",
    "print ('weighted f1: ', f1_w)\n",
    "print ('f1:          ', f1)\n",
    "print ('accuracy:    ', acc)"
   ]
  },
  {
   "cell_type": "code",
   "execution_count": 137,
   "metadata": {},
   "outputs": [
    {
     "name": "stderr",
     "output_type": "stream",
     "text": [
      "/Users/jjaskolkambp/anaconda3/lib/python3.6/site-packages/sklearn/preprocessing/label.py:151: DeprecationWarning: The truth value of an empty array is ambiguous. Returning False, but in future this will result in an error. Use `array.size > 0` to check that an array is not empty.\n",
      "  if diff:\n"
     ]
    }
   ],
   "source": [
    "#second set of predictions made by running algorithom on training set\n",
    "preds2 = xgc.predict(X_train)"
   ]
  },
  {
   "cell_type": "code",
   "execution_count": 138,
   "metadata": {},
   "outputs": [
    {
     "data": {
      "text/plain": [
       "array([[  1,   0,   0,   0,   0,   0,   0,   0,   0],\n",
       "       [  0,  38,   0,   0,   0,   0,   0,   0,   0],\n",
       "       [  0,   0,   2,   0,   0,   0,   0,   0,   0],\n",
       "       [  0,   0,   0,   3,   0,   0,   0,   0,   0],\n",
       "       [  0,   0,   0,   0, 321,   0,   0,   0,   0],\n",
       "       [  0,   0,   0,   0,   0,   1,   0,   0,   0],\n",
       "       [  0,   0,   0,   0,   0,   0,   1,   0,   0],\n",
       "       [  0,   0,   0,   0,   0,   0,   0,   5,   0],\n",
       "       [  0,   0,   0,   0,   0,   0,   0,   0,   3]])"
      ]
     },
     "execution_count": 138,
     "metadata": {},
     "output_type": "execute_result"
    }
   ],
   "source": [
    "#comparing training features to training labels\n",
    "confusion_matrix(y_train, preds2)"
   ]
  },
  {
   "cell_type": "markdown",
   "metadata": {},
   "source": [
    "Notice that we get perfect results - a sure sign of overfitting."
   ]
  },
  {
   "cell_type": "markdown",
   "metadata": {},
   "source": [
    "Below we do experiments with medical history, but ignore this for now."
   ]
  },
  {
   "cell_type": "code",
   "execution_count": 13,
   "metadata": {},
   "outputs": [],
   "source": [
    "tsner = TSNE(perplexity=30, n_components=3)"
   ]
  },
  {
   "cell_type": "code",
   "execution_count": 14,
   "metadata": {},
   "outputs": [],
   "source": [
    "berttsne = tsner.fit_transform(allbert)"
   ]
  },
  {
   "cell_type": "code",
   "execution_count": 15,
   "metadata": {},
   "outputs": [],
   "source": [
    "pcadf = pd.DataFrame(bertpca, index=clin.index)\n",
    "tsnedf = pd.DataFrame(berttsne, index = clin.index)"
   ]
  },
  {
   "cell_type": "code",
   "execution_count": 30,
   "metadata": {},
   "outputs": [],
   "source": [
    "features = pd.concat([clin[['systolic', 'diastolic', 'Pulse_LastEDReading', 'O2Saturation_LastEDReading', 'Temperature_LastEDReading', 'AgeInYrs', 'Gender']], tsnedf], axis=1)"
   ]
  },
  {
   "cell_type": "code",
   "execution_count": 10,
   "metadata": {},
   "outputs": [],
   "source": []
  },
  {
   "cell_type": "code",
   "execution_count": null,
   "metadata": {},
   "outputs": [],
   "source": []
  },
  {
   "cell_type": "code",
   "execution_count": 32,
   "metadata": {},
   "outputs": [],
   "source": [
    "X_train, X_test, y_train, y_test = train_test_split(features, target)"
   ]
  },
  {
   "cell_type": "code",
   "execution_count": 33,
   "metadata": {},
   "outputs": [],
   "source": [
    "xgc = xgb.XGBClassifier()"
   ]
  },
  {
   "cell_type": "code",
   "execution_count": 34,
   "metadata": {},
   "outputs": [
    {
     "data": {
      "text/plain": [
       "XGBClassifier(base_score=0.5, booster='gbtree', colsample_bylevel=1,\n",
       "              colsample_bynode=1, colsample_bytree=1, gamma=0,\n",
       "              learning_rate=0.1, max_delta_step=0, max_depth=3,\n",
       "              min_child_weight=1, missing=None, n_estimators=100, n_jobs=1,\n",
       "              nthread=None, objective='multi:softprob', random_state=0,\n",
       "              reg_alpha=0, reg_lambda=1, scale_pos_weight=1, seed=None,\n",
       "              silent=None, subsample=1, verbosity=1)"
      ]
     },
     "execution_count": 34,
     "metadata": {},
     "output_type": "execute_result"
    }
   ],
   "source": [
    "xgc.fit(X_train, y_train)"
   ]
  },
  {
   "cell_type": "code",
   "execution_count": 35,
   "metadata": {},
   "outputs": [],
   "source": [
    "preds= xgc.predict(X_test)"
   ]
  },
  {
   "cell_type": "code",
   "execution_count": 36,
   "metadata": {},
   "outputs": [
    {
     "data": {
      "text/plain": [
       "array([[ 0,  0,  0,  0,  0],\n",
       "       [ 1,  7, 27,  1,  0],\n",
       "       [ 0,  7, 68,  3,  1],\n",
       "       [ 0,  0,  8,  0,  0],\n",
       "       [ 0,  1,  2,  0,  0]])"
      ]
     },
     "execution_count": 36,
     "metadata": {},
     "output_type": "execute_result"
    }
   ],
   "source": [
    "confusion_matrix(y_test,preds)"
   ]
  },
  {
   "cell_type": "code",
   "execution_count": 37,
   "metadata": {},
   "outputs": [],
   "source": []
  },
  {
   "cell_type": "code",
   "execution_count": 38,
   "metadata": {},
   "outputs": [],
   "source": [
    "xbdc = xgb.XGBClassifier()"
   ]
  },
  {
   "cell_type": "code",
   "execution_count": 39,
   "metadata": {},
   "outputs": [],
   "source": [
    "X_train2, X_test2, y_train2, y_test2 = train_test_split(features, target2)"
   ]
  },
  {
   "cell_type": "code",
   "execution_count": 40,
   "metadata": {},
   "outputs": [
    {
     "data": {
      "text/plain": [
       "XGBClassifier(base_score=0.5, booster='gbtree', colsample_bylevel=1,\n",
       "              colsample_bynode=1, colsample_bytree=1, gamma=0,\n",
       "              learning_rate=0.1, max_delta_step=0, max_depth=3,\n",
       "              min_child_weight=1, missing=None, n_estimators=100, n_jobs=1,\n",
       "              nthread=None, objective='multi:softprob', random_state=0,\n",
       "              reg_alpha=0, reg_lambda=1, scale_pos_weight=1, seed=None,\n",
       "              silent=None, subsample=1, verbosity=1)"
      ]
     },
     "execution_count": 40,
     "metadata": {},
     "output_type": "execute_result"
    }
   ],
   "source": [
    "xbdc.fit(X_train2, y_train2)"
   ]
  },
  {
   "cell_type": "code",
   "execution_count": 41,
   "metadata": {},
   "outputs": [],
   "source": [
    "preds2 = xbdc.predict(X_test2)"
   ]
  },
  {
   "cell_type": "code",
   "execution_count": 43,
   "metadata": {},
   "outputs": [
    {
     "data": {
      "text/plain": [
       "17.0    108\n",
       "7.0      15\n",
       "63.0      2\n",
       "64.0      1\n",
       "Name: DischargeDisposition, dtype: int64"
      ]
     },
     "execution_count": 43,
     "metadata": {},
     "output_type": "execute_result"
    }
   ],
   "source": [
    "y_test2.value_counts()"
   ]
  },
  {
   "cell_type": "code",
   "execution_count": 42,
   "metadata": {},
   "outputs": [
    {
     "data": {
      "text/plain": [
       "array([[  2,  13,   0,   0],\n",
       "       [  0, 108,   0,   0],\n",
       "       [  0,   2,   0,   0],\n",
       "       [  1,   0,   0,   0]])"
      ]
     },
     "execution_count": 42,
     "metadata": {},
     "output_type": "execute_result"
    }
   ],
   "source": [
    "confusion_matrix(y_test2, preds2)"
   ]
  },
  {
   "cell_type": "code",
   "execution_count": 47,
   "metadata": {},
   "outputs": [
    {
     "data": {
      "text/html": [
       "<div>\n",
       "<style scoped>\n",
       "    .dataframe tbody tr th:only-of-type {\n",
       "        vertical-align: middle;\n",
       "    }\n",
       "\n",
       "    .dataframe tbody tr th {\n",
       "        vertical-align: top;\n",
       "    }\n",
       "\n",
       "    .dataframe thead th {\n",
       "        text-align: right;\n",
       "    }\n",
       "</style>\n",
       "<table border=\"1\" class=\"dataframe\">\n",
       "  <thead>\n",
       "    <tr style=\"text-align: right;\">\n",
       "      <th></th>\n",
       "      <th>DischargeDisposition</th>\n",
       "      <th>DischargeDispositionDesc</th>\n",
       "    </tr>\n",
       "  </thead>\n",
       "  <tbody>\n",
       "    <tr>\n",
       "      <td>1</td>\n",
       "      <td>64.0</td>\n",
       "      <td>Left After Initial Assessment</td>\n",
       "    </tr>\n",
       "    <tr>\n",
       "      <td>2</td>\n",
       "      <td>17.0</td>\n",
       "      <td>Discharge to private home, condo, apt without ...</td>\n",
       "    </tr>\n",
       "    <tr>\n",
       "      <td>3</td>\n",
       "      <td>17.0</td>\n",
       "      <td>Discharge to private home, condo, apt without ...</td>\n",
       "    </tr>\n",
       "    <tr>\n",
       "      <td>4</td>\n",
       "      <td>17.0</td>\n",
       "      <td>Discharge to private home, condo, apt without ...</td>\n",
       "    </tr>\n",
       "    <tr>\n",
       "      <td>5</td>\n",
       "      <td>17.0</td>\n",
       "      <td>Discharge to private home, condo, apt without ...</td>\n",
       "    </tr>\n",
       "    <tr>\n",
       "      <td>6</td>\n",
       "      <td>7.0</td>\n",
       "      <td>Admit to reporting facility as inpatient to an...</td>\n",
       "    </tr>\n",
       "    <tr>\n",
       "      <td>7</td>\n",
       "      <td>17.0</td>\n",
       "      <td>Discharge to private home, condo, apt without ...</td>\n",
       "    </tr>\n",
       "    <tr>\n",
       "      <td>8</td>\n",
       "      <td>17.0</td>\n",
       "      <td>Discharge to private home, condo, apt without ...</td>\n",
       "    </tr>\n",
       "    <tr>\n",
       "      <td>9</td>\n",
       "      <td>17.0</td>\n",
       "      <td>Discharge to private home, condo, apt without ...</td>\n",
       "    </tr>\n",
       "    <tr>\n",
       "      <td>10</td>\n",
       "      <td>17.0</td>\n",
       "      <td>Discharge to private home, condo, apt without ...</td>\n",
       "    </tr>\n",
       "    <tr>\n",
       "      <td>11</td>\n",
       "      <td>7.0</td>\n",
       "      <td>Admit to reporting facility as inpatient to an...</td>\n",
       "    </tr>\n",
       "    <tr>\n",
       "      <td>12</td>\n",
       "      <td>17.0</td>\n",
       "      <td>Discharge to private home, condo, apt without ...</td>\n",
       "    </tr>\n",
       "    <tr>\n",
       "      <td>13</td>\n",
       "      <td>17.0</td>\n",
       "      <td>Discharge to private home, condo, apt without ...</td>\n",
       "    </tr>\n",
       "    <tr>\n",
       "      <td>14</td>\n",
       "      <td>17.0</td>\n",
       "      <td>Discharge to private home, condo, apt without ...</td>\n",
       "    </tr>\n",
       "    <tr>\n",
       "      <td>15</td>\n",
       "      <td>17.0</td>\n",
       "      <td>Discharge to private home, condo, apt without ...</td>\n",
       "    </tr>\n",
       "    <tr>\n",
       "      <td>16</td>\n",
       "      <td>17.0</td>\n",
       "      <td>Discharge to private home, condo, apt without ...</td>\n",
       "    </tr>\n",
       "    <tr>\n",
       "      <td>17</td>\n",
       "      <td>17.0</td>\n",
       "      <td>Discharge to private home, condo, apt without ...</td>\n",
       "    </tr>\n",
       "    <tr>\n",
       "      <td>18</td>\n",
       "      <td>17.0</td>\n",
       "      <td>Discharge to private home, condo, apt without ...</td>\n",
       "    </tr>\n",
       "    <tr>\n",
       "      <td>19</td>\n",
       "      <td>17.0</td>\n",
       "      <td>Discharge to private home, condo, apt without ...</td>\n",
       "    </tr>\n",
       "    <tr>\n",
       "      <td>20</td>\n",
       "      <td>7.0</td>\n",
       "      <td>Admit to reporting facility as inpatient to an...</td>\n",
       "    </tr>\n",
       "  </tbody>\n",
       "</table>\n",
       "</div>"
      ],
      "text/plain": [
       "    DischargeDisposition                           DischargeDispositionDesc\n",
       "1                   64.0                      Left After Initial Assessment\n",
       "2                   17.0  Discharge to private home, condo, apt without ...\n",
       "3                   17.0  Discharge to private home, condo, apt without ...\n",
       "4                   17.0  Discharge to private home, condo, apt without ...\n",
       "5                   17.0  Discharge to private home, condo, apt without ...\n",
       "6                    7.0  Admit to reporting facility as inpatient to an...\n",
       "7                   17.0  Discharge to private home, condo, apt without ...\n",
       "8                   17.0  Discharge to private home, condo, apt without ...\n",
       "9                   17.0  Discharge to private home, condo, apt without ...\n",
       "10                  17.0  Discharge to private home, condo, apt without ...\n",
       "11                   7.0  Admit to reporting facility as inpatient to an...\n",
       "12                  17.0  Discharge to private home, condo, apt without ...\n",
       "13                  17.0  Discharge to private home, condo, apt without ...\n",
       "14                  17.0  Discharge to private home, condo, apt without ...\n",
       "15                  17.0  Discharge to private home, condo, apt without ...\n",
       "16                  17.0  Discharge to private home, condo, apt without ...\n",
       "17                  17.0  Discharge to private home, condo, apt without ...\n",
       "18                  17.0  Discharge to private home, condo, apt without ...\n",
       "19                  17.0  Discharge to private home, condo, apt without ...\n",
       "20                   7.0  Admit to reporting facility as inpatient to an..."
      ]
     },
     "execution_count": 47,
     "metadata": {},
     "output_type": "execute_result"
    }
   ],
   "source": [
    "clin[['DischargeDisposition', 'DischargeDispositionDesc']].head(20)"
   ]
  },
  {
   "cell_type": "code",
   "execution_count": 48,
   "metadata": {},
   "outputs": [],
   "source": [
    "from catboost import CatBoostClassifier, Pool\n"
   ]
  },
  {
   "cell_type": "code",
   "execution_count": 49,
   "metadata": {},
   "outputs": [],
   "source": [
    "cm = CatBoostClassifier()"
   ]
  },
  {
   "cell_type": "code",
   "execution_count": 50,
   "metadata": {},
   "outputs": [
    {
     "name": "stdout",
     "output_type": "stream",
     "text": [
      "0:\tlearn: 1.5815800\ttotal: 99.8ms\tremaining: 1m 39s\n",
      "1:\tlearn: 1.5521704\ttotal: 126ms\tremaining: 1m 2s\n",
      "2:\tlearn: 1.5276634\ttotal: 147ms\tremaining: 48.7s\n",
      "3:\tlearn: 1.5040328\ttotal: 164ms\tremaining: 40.7s\n",
      "4:\tlearn: 1.4842278\ttotal: 182ms\tremaining: 36.1s\n",
      "5:\tlearn: 1.4630057\ttotal: 198ms\tremaining: 32.7s\n",
      "6:\tlearn: 1.4414624\ttotal: 215ms\tremaining: 30.4s\n",
      "7:\tlearn: 1.4214964\ttotal: 228ms\tremaining: 28.3s\n",
      "8:\tlearn: 1.4044340\ttotal: 244ms\tremaining: 26.9s\n",
      "9:\tlearn: 1.3877698\ttotal: 257ms\tremaining: 25.5s\n",
      "10:\tlearn: 1.3718271\ttotal: 273ms\tremaining: 24.6s\n",
      "11:\tlearn: 1.3558154\ttotal: 289ms\tremaining: 23.8s\n",
      "12:\tlearn: 1.3408038\ttotal: 306ms\tremaining: 23.2s\n",
      "13:\tlearn: 1.3264407\ttotal: 309ms\tremaining: 21.7s\n",
      "14:\tlearn: 1.3119672\ttotal: 325ms\tremaining: 21.4s\n",
      "15:\tlearn: 1.2991486\ttotal: 338ms\tremaining: 20.8s\n",
      "16:\tlearn: 1.2871858\ttotal: 354ms\tremaining: 20.5s\n",
      "17:\tlearn: 1.2753436\ttotal: 370ms\tremaining: 20.2s\n",
      "18:\tlearn: 1.2627390\ttotal: 385ms\tremaining: 19.9s\n",
      "19:\tlearn: 1.2516730\ttotal: 401ms\tremaining: 19.6s\n",
      "20:\tlearn: 1.2405853\ttotal: 417ms\tremaining: 19.4s\n",
      "21:\tlearn: 1.2306915\ttotal: 433ms\tremaining: 19.2s\n",
      "22:\tlearn: 1.2214702\ttotal: 447ms\tremaining: 19s\n",
      "23:\tlearn: 1.2122860\ttotal: 464ms\tremaining: 18.9s\n",
      "24:\tlearn: 1.2035869\ttotal: 479ms\tremaining: 18.7s\n",
      "25:\tlearn: 1.1959683\ttotal: 495ms\tremaining: 18.5s\n",
      "26:\tlearn: 1.1867870\ttotal: 509ms\tremaining: 18.3s\n",
      "27:\tlearn: 1.1789199\ttotal: 526ms\tremaining: 18.3s\n",
      "28:\tlearn: 1.1713496\ttotal: 550ms\tremaining: 18.4s\n",
      "29:\tlearn: 1.1638196\ttotal: 567ms\tremaining: 18.3s\n",
      "30:\tlearn: 1.1560414\ttotal: 583ms\tremaining: 18.2s\n",
      "31:\tlearn: 1.1487646\ttotal: 601ms\tremaining: 18.2s\n",
      "32:\tlearn: 1.1418501\ttotal: 616ms\tremaining: 18s\n",
      "33:\tlearn: 1.1346405\ttotal: 632ms\tremaining: 18s\n",
      "34:\tlearn: 1.1277050\ttotal: 649ms\tremaining: 17.9s\n",
      "35:\tlearn: 1.1211549\ttotal: 665ms\tremaining: 17.8s\n",
      "36:\tlearn: 1.1152795\ttotal: 681ms\tremaining: 17.7s\n",
      "37:\tlearn: 1.1097047\ttotal: 684ms\tremaining: 17.3s\n",
      "38:\tlearn: 1.1034285\ttotal: 699ms\tremaining: 17.2s\n",
      "39:\tlearn: 1.0976536\ttotal: 715ms\tremaining: 17.2s\n",
      "40:\tlearn: 1.0928139\ttotal: 732ms\tremaining: 17.1s\n",
      "41:\tlearn: 1.0874369\ttotal: 754ms\tremaining: 17.2s\n",
      "42:\tlearn: 1.0820759\ttotal: 763ms\tremaining: 17s\n",
      "43:\tlearn: 1.0771782\ttotal: 778ms\tremaining: 16.9s\n",
      "44:\tlearn: 1.0727339\ttotal: 794ms\tremaining: 16.9s\n",
      "45:\tlearn: 1.0680510\ttotal: 810ms\tremaining: 16.8s\n",
      "46:\tlearn: 1.0635308\ttotal: 825ms\tremaining: 16.7s\n",
      "47:\tlearn: 1.0591994\ttotal: 841ms\tremaining: 16.7s\n",
      "48:\tlearn: 1.0539146\ttotal: 857ms\tremaining: 16.6s\n",
      "49:\tlearn: 1.0497441\ttotal: 872ms\tremaining: 16.6s\n",
      "50:\tlearn: 1.0455982\ttotal: 886ms\tremaining: 16.5s\n",
      "51:\tlearn: 1.0418261\ttotal: 900ms\tremaining: 16.4s\n",
      "52:\tlearn: 1.0381909\ttotal: 914ms\tremaining: 16.3s\n",
      "53:\tlearn: 1.0343731\ttotal: 930ms\tremaining: 16.3s\n",
      "54:\tlearn: 1.0309829\ttotal: 949ms\tremaining: 16.3s\n",
      "55:\tlearn: 1.0273532\ttotal: 967ms\tremaining: 16.3s\n",
      "56:\tlearn: 1.0239674\ttotal: 983ms\tremaining: 16.3s\n",
      "57:\tlearn: 1.0203618\ttotal: 998ms\tremaining: 16.2s\n",
      "58:\tlearn: 1.0168932\ttotal: 1.01s\tremaining: 16.2s\n",
      "59:\tlearn: 1.0128879\ttotal: 1.03s\tremaining: 16.1s\n",
      "60:\tlearn: 1.0094756\ttotal: 1.05s\tremaining: 16.1s\n",
      "61:\tlearn: 1.0064404\ttotal: 1.06s\tremaining: 16.1s\n",
      "62:\tlearn: 1.0030633\ttotal: 1.08s\tremaining: 16s\n",
      "63:\tlearn: 1.0000496\ttotal: 1.09s\tremaining: 16s\n",
      "64:\tlearn: 0.9968790\ttotal: 1.11s\tremaining: 16s\n",
      "65:\tlearn: 0.9934355\ttotal: 1.13s\tremaining: 16s\n",
      "66:\tlearn: 0.9908131\ttotal: 1.15s\tremaining: 16s\n",
      "67:\tlearn: 0.9877112\ttotal: 1.17s\tremaining: 16s\n",
      "68:\tlearn: 0.9844213\ttotal: 1.19s\tremaining: 16s\n",
      "69:\tlearn: 0.9819585\ttotal: 1.2s\tremaining: 16s\n",
      "70:\tlearn: 0.9785247\ttotal: 1.22s\tremaining: 16s\n",
      "71:\tlearn: 0.9759476\ttotal: 1.24s\tremaining: 15.9s\n",
      "72:\tlearn: 0.9730072\ttotal: 1.25s\tremaining: 15.9s\n",
      "73:\tlearn: 0.9705458\ttotal: 1.27s\tremaining: 15.8s\n",
      "74:\tlearn: 0.9683303\ttotal: 1.28s\tremaining: 15.8s\n",
      "75:\tlearn: 0.9664696\ttotal: 1.3s\tremaining: 15.8s\n",
      "76:\tlearn: 0.9637289\ttotal: 1.32s\tremaining: 15.8s\n",
      "77:\tlearn: 0.9616976\ttotal: 1.34s\tremaining: 15.8s\n",
      "78:\tlearn: 0.9587806\ttotal: 1.36s\tremaining: 15.9s\n",
      "79:\tlearn: 0.9559397\ttotal: 1.38s\tremaining: 15.9s\n",
      "80:\tlearn: 0.9542827\ttotal: 1.4s\tremaining: 15.8s\n",
      "81:\tlearn: 0.9519212\ttotal: 1.41s\tremaining: 15.8s\n",
      "82:\tlearn: 0.9494576\ttotal: 1.43s\tremaining: 15.8s\n",
      "83:\tlearn: 0.9474045\ttotal: 1.44s\tremaining: 15.7s\n",
      "84:\tlearn: 0.9452598\ttotal: 1.45s\tremaining: 15.7s\n",
      "85:\tlearn: 0.9432661\ttotal: 1.47s\tremaining: 15.6s\n",
      "86:\tlearn: 0.9411522\ttotal: 1.49s\tremaining: 15.6s\n",
      "87:\tlearn: 0.9384391\ttotal: 1.5s\tremaining: 15.6s\n",
      "88:\tlearn: 0.9362338\ttotal: 1.52s\tremaining: 15.6s\n",
      "89:\tlearn: 0.9346625\ttotal: 1.53s\tremaining: 15.5s\n",
      "90:\tlearn: 0.9335873\ttotal: 1.55s\tremaining: 15.5s\n",
      "91:\tlearn: 0.9308482\ttotal: 1.57s\tremaining: 15.5s\n",
      "92:\tlearn: 0.9283383\ttotal: 1.59s\tremaining: 15.5s\n",
      "93:\tlearn: 0.9255600\ttotal: 1.6s\tremaining: 15.5s\n",
      "94:\tlearn: 0.9239718\ttotal: 1.62s\tremaining: 15.4s\n",
      "95:\tlearn: 0.9224313\ttotal: 1.64s\tremaining: 15.4s\n",
      "96:\tlearn: 0.9210566\ttotal: 1.65s\tremaining: 15.4s\n",
      "97:\tlearn: 0.9184468\ttotal: 1.67s\tremaining: 15.4s\n",
      "98:\tlearn: 0.9170986\ttotal: 1.69s\tremaining: 15.4s\n",
      "99:\tlearn: 0.9145888\ttotal: 1.7s\tremaining: 15.3s\n",
      "100:\tlearn: 0.9120943\ttotal: 1.72s\tremaining: 15.3s\n",
      "101:\tlearn: 0.9098045\ttotal: 1.74s\tremaining: 15.3s\n",
      "102:\tlearn: 0.9088138\ttotal: 1.74s\tremaining: 15.2s\n",
      "103:\tlearn: 0.9068368\ttotal: 1.76s\tremaining: 15.2s\n",
      "104:\tlearn: 0.9044056\ttotal: 1.78s\tremaining: 15.2s\n",
      "105:\tlearn: 0.9027433\ttotal: 1.8s\tremaining: 15.2s\n",
      "106:\tlearn: 0.9009643\ttotal: 1.81s\tremaining: 15.1s\n",
      "107:\tlearn: 0.8999178\ttotal: 1.82s\tremaining: 15s\n",
      "108:\tlearn: 0.8981435\ttotal: 1.83s\tremaining: 15s\n",
      "109:\tlearn: 0.8967028\ttotal: 1.85s\tremaining: 15s\n",
      "110:\tlearn: 0.8948595\ttotal: 1.87s\tremaining: 15s\n",
      "111:\tlearn: 0.8932211\ttotal: 1.88s\tremaining: 14.9s\n",
      "112:\tlearn: 0.8908990\ttotal: 1.9s\tremaining: 14.9s\n",
      "113:\tlearn: 0.8887706\ttotal: 1.92s\tremaining: 14.9s\n",
      "114:\tlearn: 0.8856643\ttotal: 1.93s\tremaining: 14.9s\n",
      "115:\tlearn: 0.8833536\ttotal: 1.95s\tremaining: 14.9s\n",
      "116:\tlearn: 0.8820666\ttotal: 1.97s\tremaining: 14.9s\n",
      "117:\tlearn: 0.8798415\ttotal: 1.99s\tremaining: 14.8s\n",
      "118:\tlearn: 0.8784899\ttotal: 2.01s\tremaining: 14.9s\n",
      "119:\tlearn: 0.8769009\ttotal: 2.03s\tremaining: 14.9s\n",
      "120:\tlearn: 0.8756908\ttotal: 2.04s\tremaining: 14.8s\n",
      "121:\tlearn: 0.8737152\ttotal: 2.06s\tremaining: 14.8s\n",
      "122:\tlearn: 0.8727423\ttotal: 2.08s\tremaining: 14.8s\n",
      "123:\tlearn: 0.8717166\ttotal: 2.09s\tremaining: 14.8s\n",
      "124:\tlearn: 0.8705756\ttotal: 2.1s\tremaining: 14.7s\n",
      "125:\tlearn: 0.8688247\ttotal: 2.12s\tremaining: 14.7s\n",
      "126:\tlearn: 0.8675987\ttotal: 2.14s\tremaining: 14.7s\n",
      "127:\tlearn: 0.8662413\ttotal: 2.15s\tremaining: 14.7s\n",
      "128:\tlearn: 0.8649827\ttotal: 2.17s\tremaining: 14.7s\n",
      "129:\tlearn: 0.8634815\ttotal: 2.19s\tremaining: 14.6s\n",
      "130:\tlearn: 0.8625498\ttotal: 2.2s\tremaining: 14.6s\n",
      "131:\tlearn: 0.8604307\ttotal: 2.22s\tremaining: 14.6s\n",
      "132:\tlearn: 0.8594622\ttotal: 2.23s\tremaining: 14.6s\n",
      "133:\tlearn: 0.8586833\ttotal: 2.25s\tremaining: 14.5s\n",
      "134:\tlearn: 0.8573601\ttotal: 2.26s\tremaining: 14.5s\n",
      "135:\tlearn: 0.8558321\ttotal: 2.28s\tremaining: 14.5s\n",
      "136:\tlearn: 0.8546706\ttotal: 2.29s\tremaining: 14.4s\n",
      "137:\tlearn: 0.8529769\ttotal: 2.31s\tremaining: 14.4s\n",
      "138:\tlearn: 0.8521720\ttotal: 2.32s\tremaining: 14.4s\n",
      "139:\tlearn: 0.8507242\ttotal: 2.34s\tremaining: 14.4s\n",
      "140:\tlearn: 0.8482566\ttotal: 2.36s\tremaining: 14.4s\n",
      "141:\tlearn: 0.8464766\ttotal: 2.37s\tremaining: 14.3s\n",
      "142:\tlearn: 0.8449162\ttotal: 2.39s\tremaining: 14.3s\n",
      "143:\tlearn: 0.8437293\ttotal: 2.4s\tremaining: 14.3s\n",
      "144:\tlearn: 0.8421116\ttotal: 2.41s\tremaining: 14.2s\n",
      "145:\tlearn: 0.8403975\ttotal: 2.43s\tremaining: 14.2s\n",
      "146:\tlearn: 0.8389958\ttotal: 2.44s\tremaining: 14.2s\n",
      "147:\tlearn: 0.8383008\ttotal: 2.46s\tremaining: 14.2s\n",
      "148:\tlearn: 0.8366964\ttotal: 2.48s\tremaining: 14.2s\n",
      "149:\tlearn: 0.8351547\ttotal: 2.5s\tremaining: 14.1s\n",
      "150:\tlearn: 0.8341984\ttotal: 2.51s\tremaining: 14.1s\n",
      "151:\tlearn: 0.8326426\ttotal: 2.53s\tremaining: 14.1s\n",
      "152:\tlearn: 0.8307879\ttotal: 2.55s\tremaining: 14.1s\n",
      "153:\tlearn: 0.8290972\ttotal: 2.57s\tremaining: 14.1s\n",
      "154:\tlearn: 0.8280752\ttotal: 2.59s\tremaining: 14.1s\n",
      "155:\tlearn: 0.8267229\ttotal: 2.6s\tremaining: 14.1s\n",
      "156:\tlearn: 0.8254191\ttotal: 2.62s\tremaining: 14.1s\n",
      "157:\tlearn: 0.8238479\ttotal: 2.64s\tremaining: 14.1s\n",
      "158:\tlearn: 0.8233231\ttotal: 2.65s\tremaining: 14s\n",
      "159:\tlearn: 0.8218278\ttotal: 2.67s\tremaining: 14s\n",
      "160:\tlearn: 0.8200859\ttotal: 2.69s\tremaining: 14s\n",
      "161:\tlearn: 0.8183976\ttotal: 2.7s\tremaining: 14s\n",
      "162:\tlearn: 0.8171704\ttotal: 2.72s\tremaining: 14s\n",
      "163:\tlearn: 0.8157356\ttotal: 2.74s\tremaining: 14s\n",
      "164:\tlearn: 0.8148278\ttotal: 2.76s\tremaining: 13.9s\n",
      "165:\tlearn: 0.8132764\ttotal: 2.77s\tremaining: 13.9s\n",
      "166:\tlearn: 0.8122109\ttotal: 2.79s\tremaining: 13.9s\n",
      "167:\tlearn: 0.8102673\ttotal: 2.81s\tremaining: 13.9s\n",
      "168:\tlearn: 0.8096142\ttotal: 2.83s\tremaining: 13.9s\n",
      "169:\tlearn: 0.8085470\ttotal: 2.84s\tremaining: 13.9s\n",
      "170:\tlearn: 0.8076493\ttotal: 2.86s\tremaining: 13.9s\n",
      "171:\tlearn: 0.8055031\ttotal: 2.87s\tremaining: 13.8s\n",
      "172:\tlearn: 0.8044463\ttotal: 2.89s\tremaining: 13.8s\n",
      "173:\tlearn: 0.8027695\ttotal: 2.91s\tremaining: 13.8s\n",
      "174:\tlearn: 0.8017592\ttotal: 2.92s\tremaining: 13.8s\n",
      "175:\tlearn: 0.8001323\ttotal: 2.94s\tremaining: 13.8s\n",
      "176:\tlearn: 0.7992774\ttotal: 2.95s\tremaining: 13.7s\n",
      "177:\tlearn: 0.7981901\ttotal: 2.97s\tremaining: 13.7s\n",
      "178:\tlearn: 0.7974258\ttotal: 2.99s\tremaining: 13.7s\n",
      "179:\tlearn: 0.7961974\ttotal: 3s\tremaining: 13.7s\n",
      "180:\tlearn: 0.7960239\ttotal: 3.01s\tremaining: 13.6s\n",
      "181:\tlearn: 0.7951782\ttotal: 3.02s\tremaining: 13.6s\n",
      "182:\tlearn: 0.7944901\ttotal: 3.04s\tremaining: 13.6s\n",
      "183:\tlearn: 0.7930322\ttotal: 3.06s\tremaining: 13.6s\n",
      "184:\tlearn: 0.7914478\ttotal: 3.07s\tremaining: 13.5s\n",
      "185:\tlearn: 0.7902630\ttotal: 3.09s\tremaining: 13.5s\n",
      "186:\tlearn: 0.7892130\ttotal: 3.1s\tremaining: 13.5s\n",
      "187:\tlearn: 0.7885052\ttotal: 3.12s\tremaining: 13.5s\n",
      "188:\tlearn: 0.7874333\ttotal: 3.13s\tremaining: 13.4s\n",
      "189:\tlearn: 0.7860457\ttotal: 3.15s\tremaining: 13.4s\n",
      "190:\tlearn: 0.7843913\ttotal: 3.16s\tremaining: 13.4s\n",
      "191:\tlearn: 0.7834855\ttotal: 3.18s\tremaining: 13.4s\n",
      "192:\tlearn: 0.7822905\ttotal: 3.19s\tremaining: 13.4s\n",
      "193:\tlearn: 0.7813156\ttotal: 3.21s\tremaining: 13.3s\n",
      "194:\tlearn: 0.7799255\ttotal: 3.22s\tremaining: 13.3s\n",
      "195:\tlearn: 0.7782287\ttotal: 3.24s\tremaining: 13.3s\n",
      "196:\tlearn: 0.7767767\ttotal: 3.26s\tremaining: 13.3s\n",
      "197:\tlearn: 0.7759906\ttotal: 3.27s\tremaining: 13.2s\n",
      "198:\tlearn: 0.7750490\ttotal: 3.29s\tremaining: 13.2s\n",
      "199:\tlearn: 0.7739262\ttotal: 3.3s\tremaining: 13.2s\n",
      "200:\tlearn: 0.7729709\ttotal: 3.31s\tremaining: 13.2s\n",
      "201:\tlearn: 0.7714991\ttotal: 3.33s\tremaining: 13.1s\n",
      "202:\tlearn: 0.7708428\ttotal: 3.34s\tremaining: 13.1s\n",
      "203:\tlearn: 0.7702325\ttotal: 3.36s\tremaining: 13.1s\n",
      "204:\tlearn: 0.7695293\ttotal: 3.37s\tremaining: 13.1s\n",
      "205:\tlearn: 0.7679804\ttotal: 3.39s\tremaining: 13.1s\n",
      "206:\tlearn: 0.7663282\ttotal: 3.4s\tremaining: 13s\n",
      "207:\tlearn: 0.7652314\ttotal: 3.42s\tremaining: 13s\n",
      "208:\tlearn: 0.7641350\ttotal: 3.44s\tremaining: 13s\n",
      "209:\tlearn: 0.7630050\ttotal: 3.45s\tremaining: 13s\n",
      "210:\tlearn: 0.7618444\ttotal: 3.47s\tremaining: 13s\n",
      "211:\tlearn: 0.7608178\ttotal: 3.48s\tremaining: 12.9s\n",
      "212:\tlearn: 0.7593753\ttotal: 3.5s\tremaining: 12.9s\n",
      "213:\tlearn: 0.7576098\ttotal: 3.52s\tremaining: 12.9s\n",
      "214:\tlearn: 0.7568779\ttotal: 3.53s\tremaining: 12.9s\n",
      "215:\tlearn: 0.7560062\ttotal: 3.54s\tremaining: 12.9s\n",
      "216:\tlearn: 0.7552314\ttotal: 3.56s\tremaining: 12.8s\n",
      "217:\tlearn: 0.7547562\ttotal: 3.57s\tremaining: 12.8s\n",
      "218:\tlearn: 0.7536219\ttotal: 3.59s\tremaining: 12.8s\n",
      "219:\tlearn: 0.7529217\ttotal: 3.6s\tremaining: 12.8s\n",
      "220:\tlearn: 0.7519246\ttotal: 3.62s\tremaining: 12.8s\n",
      "221:\tlearn: 0.7513125\ttotal: 3.64s\tremaining: 12.7s\n",
      "222:\tlearn: 0.7506298\ttotal: 3.65s\tremaining: 12.7s\n",
      "223:\tlearn: 0.7500311\ttotal: 3.67s\tremaining: 12.7s\n",
      "224:\tlearn: 0.7495804\ttotal: 3.68s\tremaining: 12.7s\n",
      "225:\tlearn: 0.7481831\ttotal: 3.7s\tremaining: 12.7s\n",
      "226:\tlearn: 0.7474145\ttotal: 3.71s\tremaining: 12.6s\n",
      "227:\tlearn: 0.7463633\ttotal: 3.73s\tremaining: 12.6s\n",
      "228:\tlearn: 0.7447386\ttotal: 3.75s\tremaining: 12.6s\n",
      "229:\tlearn: 0.7434317\ttotal: 3.77s\tremaining: 12.6s\n",
      "230:\tlearn: 0.7428252\ttotal: 3.78s\tremaining: 12.6s\n",
      "231:\tlearn: 0.7419798\ttotal: 3.8s\tremaining: 12.6s\n",
      "232:\tlearn: 0.7407207\ttotal: 3.81s\tremaining: 12.6s\n",
      "233:\tlearn: 0.7398520\ttotal: 3.83s\tremaining: 12.5s\n",
      "234:\tlearn: 0.7392033\ttotal: 3.85s\tremaining: 12.5s\n",
      "235:\tlearn: 0.7380060\ttotal: 3.86s\tremaining: 12.5s\n",
      "236:\tlearn: 0.7370118\ttotal: 3.88s\tremaining: 12.5s\n",
      "237:\tlearn: 0.7353458\ttotal: 3.89s\tremaining: 12.5s\n",
      "238:\tlearn: 0.7342544\ttotal: 3.91s\tremaining: 12.4s\n",
      "239:\tlearn: 0.7333121\ttotal: 3.92s\tremaining: 12.4s\n",
      "240:\tlearn: 0.7323582\ttotal: 3.94s\tremaining: 12.4s\n",
      "241:\tlearn: 0.7303913\ttotal: 3.95s\tremaining: 12.4s\n",
      "242:\tlearn: 0.7292635\ttotal: 3.97s\tremaining: 12.4s\n",
      "243:\tlearn: 0.7285024\ttotal: 3.99s\tremaining: 12.4s\n",
      "244:\tlearn: 0.7272616\ttotal: 4s\tremaining: 12.3s\n",
      "245:\tlearn: 0.7268812\ttotal: 4.02s\tremaining: 12.3s\n",
      "246:\tlearn: 0.7252173\ttotal: 4.04s\tremaining: 12.3s\n",
      "247:\tlearn: 0.7244342\ttotal: 4.05s\tremaining: 12.3s\n",
      "248:\tlearn: 0.7237648\ttotal: 4.07s\tremaining: 12.3s\n",
      "249:\tlearn: 0.7226326\ttotal: 4.08s\tremaining: 12.2s\n",
      "250:\tlearn: 0.7217354\ttotal: 4.1s\tremaining: 12.2s\n",
      "251:\tlearn: 0.7207519\ttotal: 4.12s\tremaining: 12.2s\n",
      "252:\tlearn: 0.7197856\ttotal: 4.14s\tremaining: 12.2s\n",
      "253:\tlearn: 0.7186083\ttotal: 4.16s\tremaining: 12.2s\n",
      "254:\tlearn: 0.7178882\ttotal: 4.17s\tremaining: 12.2s\n",
      "255:\tlearn: 0.7171707\ttotal: 4.19s\tremaining: 12.2s\n",
      "256:\tlearn: 0.7163814\ttotal: 4.21s\tremaining: 12.2s\n",
      "257:\tlearn: 0.7156327\ttotal: 4.22s\tremaining: 12.2s\n",
      "258:\tlearn: 0.7150040\ttotal: 4.24s\tremaining: 12.1s\n",
      "259:\tlearn: 0.7135875\ttotal: 4.26s\tremaining: 12.1s\n",
      "260:\tlearn: 0.7129099\ttotal: 4.28s\tremaining: 12.1s\n",
      "261:\tlearn: 0.7121220\ttotal: 4.29s\tremaining: 12.1s\n",
      "262:\tlearn: 0.7113602\ttotal: 4.31s\tremaining: 12.1s\n",
      "263:\tlearn: 0.7101399\ttotal: 4.33s\tremaining: 12.1s\n",
      "264:\tlearn: 0.7082088\ttotal: 4.34s\tremaining: 12.1s\n",
      "265:\tlearn: 0.7069458\ttotal: 4.36s\tremaining: 12s\n",
      "266:\tlearn: 0.7052750\ttotal: 4.38s\tremaining: 12s\n",
      "267:\tlearn: 0.7043652\ttotal: 4.39s\tremaining: 12s\n",
      "268:\tlearn: 0.7035633\ttotal: 4.41s\tremaining: 12s\n",
      "269:\tlearn: 0.7022215\ttotal: 4.43s\tremaining: 12s\n",
      "270:\tlearn: 0.7017986\ttotal: 4.45s\tremaining: 12s\n",
      "271:\tlearn: 0.7007895\ttotal: 4.46s\tremaining: 11.9s\n",
      "272:\tlearn: 0.7000113\ttotal: 4.48s\tremaining: 11.9s\n",
      "273:\tlearn: 0.6990618\ttotal: 4.5s\tremaining: 11.9s\n",
      "274:\tlearn: 0.6977056\ttotal: 4.51s\tremaining: 11.9s\n",
      "275:\tlearn: 0.6965223\ttotal: 4.53s\tremaining: 11.9s\n",
      "276:\tlearn: 0.6957613\ttotal: 4.54s\tremaining: 11.9s\n",
      "277:\tlearn: 0.6951797\ttotal: 4.56s\tremaining: 11.8s\n",
      "278:\tlearn: 0.6942297\ttotal: 4.57s\tremaining: 11.8s\n",
      "279:\tlearn: 0.6932820\ttotal: 4.59s\tremaining: 11.8s\n",
      "280:\tlearn: 0.6918992\ttotal: 4.6s\tremaining: 11.8s\n",
      "281:\tlearn: 0.6914371\ttotal: 4.62s\tremaining: 11.8s\n",
      "282:\tlearn: 0.6907070\ttotal: 4.64s\tremaining: 11.7s\n",
      "283:\tlearn: 0.6897509\ttotal: 4.65s\tremaining: 11.7s\n",
      "284:\tlearn: 0.6891808\ttotal: 4.67s\tremaining: 11.7s\n",
      "285:\tlearn: 0.6875714\ttotal: 4.68s\tremaining: 11.7s\n",
      "286:\tlearn: 0.6866329\ttotal: 4.7s\tremaining: 11.7s\n",
      "287:\tlearn: 0.6857715\ttotal: 4.71s\tremaining: 11.7s\n",
      "288:\tlearn: 0.6848960\ttotal: 4.73s\tremaining: 11.6s\n",
      "289:\tlearn: 0.6838157\ttotal: 4.74s\tremaining: 11.6s\n",
      "290:\tlearn: 0.6830037\ttotal: 4.76s\tremaining: 11.6s\n",
      "291:\tlearn: 0.6821652\ttotal: 4.78s\tremaining: 11.6s\n",
      "292:\tlearn: 0.6805335\ttotal: 4.79s\tremaining: 11.6s\n",
      "293:\tlearn: 0.6796637\ttotal: 4.81s\tremaining: 11.5s\n",
      "294:\tlearn: 0.6782892\ttotal: 4.82s\tremaining: 11.5s\n",
      "295:\tlearn: 0.6775631\ttotal: 4.84s\tremaining: 11.5s\n",
      "296:\tlearn: 0.6759833\ttotal: 4.86s\tremaining: 11.5s\n",
      "297:\tlearn: 0.6752431\ttotal: 4.87s\tremaining: 11.5s\n",
      "298:\tlearn: 0.6744418\ttotal: 4.89s\tremaining: 11.5s\n",
      "299:\tlearn: 0.6737648\ttotal: 4.91s\tremaining: 11.5s\n",
      "300:\tlearn: 0.6728872\ttotal: 4.93s\tremaining: 11.4s\n",
      "301:\tlearn: 0.6720283\ttotal: 4.95s\tremaining: 11.4s\n",
      "302:\tlearn: 0.6708795\ttotal: 4.96s\tremaining: 11.4s\n",
      "303:\tlearn: 0.6702593\ttotal: 4.98s\tremaining: 11.4s\n",
      "304:\tlearn: 0.6698862\ttotal: 4.99s\tremaining: 11.4s\n",
      "305:\tlearn: 0.6687558\ttotal: 5.01s\tremaining: 11.4s\n",
      "306:\tlearn: 0.6672450\ttotal: 5.03s\tremaining: 11.3s\n",
      "307:\tlearn: 0.6665848\ttotal: 5.04s\tremaining: 11.3s\n",
      "308:\tlearn: 0.6653400\ttotal: 5.06s\tremaining: 11.3s\n",
      "309:\tlearn: 0.6644960\ttotal: 5.08s\tremaining: 11.3s\n",
      "310:\tlearn: 0.6633580\ttotal: 5.09s\tremaining: 11.3s\n",
      "311:\tlearn: 0.6622491\ttotal: 5.11s\tremaining: 11.3s\n",
      "312:\tlearn: 0.6601535\ttotal: 5.12s\tremaining: 11.2s\n",
      "313:\tlearn: 0.6595857\ttotal: 5.14s\tremaining: 11.2s\n",
      "314:\tlearn: 0.6584900\ttotal: 5.15s\tremaining: 11.2s\n",
      "315:\tlearn: 0.6574725\ttotal: 5.17s\tremaining: 11.2s\n",
      "316:\tlearn: 0.6569057\ttotal: 5.18s\tremaining: 11.2s\n",
      "317:\tlearn: 0.6561993\ttotal: 5.2s\tremaining: 11.2s\n",
      "318:\tlearn: 0.6553979\ttotal: 5.21s\tremaining: 11.1s\n",
      "319:\tlearn: 0.6541907\ttotal: 5.23s\tremaining: 11.1s\n",
      "320:\tlearn: 0.6527319\ttotal: 5.25s\tremaining: 11.1s\n",
      "321:\tlearn: 0.6517528\ttotal: 5.27s\tremaining: 11.1s\n",
      "322:\tlearn: 0.6510464\ttotal: 5.29s\tremaining: 11.1s\n",
      "323:\tlearn: 0.6498799\ttotal: 5.3s\tremaining: 11.1s\n",
      "324:\tlearn: 0.6489179\ttotal: 5.32s\tremaining: 11s\n",
      "325:\tlearn: 0.6484519\ttotal: 5.33s\tremaining: 11s\n",
      "326:\tlearn: 0.6472831\ttotal: 5.35s\tremaining: 11s\n",
      "327:\tlearn: 0.6460915\ttotal: 5.37s\tremaining: 11s\n",
      "328:\tlearn: 0.6454376\ttotal: 5.38s\tremaining: 11s\n",
      "329:\tlearn: 0.6447942\ttotal: 5.4s\tremaining: 11s\n",
      "330:\tlearn: 0.6434126\ttotal: 5.41s\tremaining: 10.9s\n",
      "331:\tlearn: 0.6431294\ttotal: 5.43s\tremaining: 10.9s\n",
      "332:\tlearn: 0.6426963\ttotal: 5.44s\tremaining: 10.9s\n",
      "333:\tlearn: 0.6421180\ttotal: 5.46s\tremaining: 10.9s\n",
      "334:\tlearn: 0.6416088\ttotal: 5.48s\tremaining: 10.9s\n",
      "335:\tlearn: 0.6410305\ttotal: 5.5s\tremaining: 10.9s\n",
      "336:\tlearn: 0.6401520\ttotal: 5.51s\tremaining: 10.8s\n",
      "337:\tlearn: 0.6393933\ttotal: 5.53s\tremaining: 10.8s\n",
      "338:\tlearn: 0.6391304\ttotal: 5.54s\tremaining: 10.8s\n",
      "339:\tlearn: 0.6384795\ttotal: 5.56s\tremaining: 10.8s\n",
      "340:\tlearn: 0.6379362\ttotal: 5.57s\tremaining: 10.8s\n",
      "341:\tlearn: 0.6370654\ttotal: 5.59s\tremaining: 10.8s\n",
      "342:\tlearn: 0.6365737\ttotal: 5.61s\tremaining: 10.7s\n",
      "343:\tlearn: 0.6360274\ttotal: 5.62s\tremaining: 10.7s\n",
      "344:\tlearn: 0.6355000\ttotal: 5.64s\tremaining: 10.7s\n",
      "345:\tlearn: 0.6345168\ttotal: 5.65s\tremaining: 10.7s\n",
      "346:\tlearn: 0.6340149\ttotal: 5.67s\tremaining: 10.7s\n",
      "347:\tlearn: 0.6331738\ttotal: 5.69s\tremaining: 10.7s\n",
      "348:\tlearn: 0.6323880\ttotal: 5.7s\tremaining: 10.6s\n",
      "349:\tlearn: 0.6315921\ttotal: 5.72s\tremaining: 10.6s\n",
      "350:\tlearn: 0.6306635\ttotal: 5.74s\tremaining: 10.6s\n",
      "351:\tlearn: 0.6297445\ttotal: 5.75s\tremaining: 10.6s\n",
      "352:\tlearn: 0.6282209\ttotal: 5.77s\tremaining: 10.6s\n",
      "353:\tlearn: 0.6272397\ttotal: 5.79s\tremaining: 10.6s\n",
      "354:\tlearn: 0.6265401\ttotal: 5.8s\tremaining: 10.5s\n",
      "355:\tlearn: 0.6254285\ttotal: 5.82s\tremaining: 10.5s\n",
      "356:\tlearn: 0.6239975\ttotal: 5.84s\tremaining: 10.5s\n",
      "357:\tlearn: 0.6231029\ttotal: 5.85s\tremaining: 10.5s\n",
      "358:\tlearn: 0.6227127\ttotal: 5.87s\tremaining: 10.5s\n",
      "359:\tlearn: 0.6222546\ttotal: 5.89s\tremaining: 10.5s\n",
      "360:\tlearn: 0.6211174\ttotal: 5.91s\tremaining: 10.5s\n",
      "361:\tlearn: 0.6205187\ttotal: 5.92s\tremaining: 10.4s\n",
      "362:\tlearn: 0.6200788\ttotal: 5.94s\tremaining: 10.4s\n",
      "363:\tlearn: 0.6188372\ttotal: 5.95s\tremaining: 10.4s\n",
      "364:\tlearn: 0.6180139\ttotal: 5.97s\tremaining: 10.4s\n",
      "365:\tlearn: 0.6166995\ttotal: 5.99s\tremaining: 10.4s\n",
      "366:\tlearn: 0.6156356\ttotal: 6s\tremaining: 10.3s\n",
      "367:\tlearn: 0.6147657\ttotal: 6.02s\tremaining: 10.3s\n",
      "368:\tlearn: 0.6139418\ttotal: 6.03s\tremaining: 10.3s\n",
      "369:\tlearn: 0.6129134\ttotal: 6.05s\tremaining: 10.3s\n",
      "370:\tlearn: 0.6122184\ttotal: 6.06s\tremaining: 10.3s\n",
      "371:\tlearn: 0.6117733\ttotal: 6.08s\tremaining: 10.3s\n",
      "372:\tlearn: 0.6109094\ttotal: 6.09s\tremaining: 10.2s\n",
      "373:\tlearn: 0.6100848\ttotal: 6.11s\tremaining: 10.2s\n",
      "374:\tlearn: 0.6096433\ttotal: 6.12s\tremaining: 10.2s\n",
      "375:\tlearn: 0.6084610\ttotal: 6.13s\tremaining: 10.2s\n",
      "376:\tlearn: 0.6077656\ttotal: 6.15s\tremaining: 10.2s\n",
      "377:\tlearn: 0.6062401\ttotal: 6.16s\tremaining: 10.1s\n",
      "378:\tlearn: 0.6052870\ttotal: 6.18s\tremaining: 10.1s\n",
      "379:\tlearn: 0.6047130\ttotal: 6.19s\tremaining: 10.1s\n",
      "380:\tlearn: 0.6036884\ttotal: 6.21s\tremaining: 10.1s\n",
      "381:\tlearn: 0.6028928\ttotal: 6.22s\tremaining: 10.1s\n",
      "382:\tlearn: 0.6025199\ttotal: 6.24s\tremaining: 10.1s\n",
      "383:\tlearn: 0.6020688\ttotal: 6.26s\tremaining: 10s\n",
      "384:\tlearn: 0.6014704\ttotal: 6.28s\tremaining: 10s\n",
      "385:\tlearn: 0.6008021\ttotal: 6.29s\tremaining: 10s\n",
      "386:\tlearn: 0.5997879\ttotal: 6.32s\tremaining: 10s\n",
      "387:\tlearn: 0.5981900\ttotal: 6.33s\tremaining: 9.99s\n",
      "388:\tlearn: 0.5976294\ttotal: 6.35s\tremaining: 9.98s\n",
      "389:\tlearn: 0.5968375\ttotal: 6.37s\tremaining: 9.96s\n",
      "390:\tlearn: 0.5960176\ttotal: 6.39s\tremaining: 9.95s\n",
      "391:\tlearn: 0.5940295\ttotal: 6.41s\tremaining: 9.94s\n",
      "392:\tlearn: 0.5935239\ttotal: 6.43s\tremaining: 9.93s\n",
      "393:\tlearn: 0.5926926\ttotal: 6.45s\tremaining: 9.92s\n",
      "394:\tlearn: 0.5920298\ttotal: 6.46s\tremaining: 9.9s\n",
      "395:\tlearn: 0.5908214\ttotal: 6.49s\tremaining: 9.89s\n",
      "396:\tlearn: 0.5903615\ttotal: 6.5s\tremaining: 9.88s\n",
      "397:\tlearn: 0.5898406\ttotal: 6.52s\tremaining: 9.87s\n",
      "398:\tlearn: 0.5892273\ttotal: 6.54s\tremaining: 9.85s\n",
      "399:\tlearn: 0.5885810\ttotal: 6.56s\tremaining: 9.83s\n",
      "400:\tlearn: 0.5876494\ttotal: 6.57s\tremaining: 9.81s\n",
      "401:\tlearn: 0.5865820\ttotal: 6.58s\tremaining: 9.8s\n",
      "402:\tlearn: 0.5858264\ttotal: 6.6s\tremaining: 9.78s\n",
      "403:\tlearn: 0.5847052\ttotal: 6.62s\tremaining: 9.77s\n",
      "404:\tlearn: 0.5834113\ttotal: 6.63s\tremaining: 9.75s\n",
      "405:\tlearn: 0.5823099\ttotal: 6.65s\tremaining: 9.73s\n",
      "406:\tlearn: 0.5814524\ttotal: 6.67s\tremaining: 9.71s\n",
      "407:\tlearn: 0.5800460\ttotal: 6.68s\tremaining: 9.69s\n",
      "408:\tlearn: 0.5784123\ttotal: 6.7s\tremaining: 9.68s\n",
      "409:\tlearn: 0.5782144\ttotal: 6.71s\tremaining: 9.66s\n",
      "410:\tlearn: 0.5769541\ttotal: 6.73s\tremaining: 9.64s\n",
      "411:\tlearn: 0.5760449\ttotal: 6.75s\tremaining: 9.63s\n",
      "412:\tlearn: 0.5757484\ttotal: 6.76s\tremaining: 9.61s\n",
      "413:\tlearn: 0.5746754\ttotal: 6.78s\tremaining: 9.59s\n",
      "414:\tlearn: 0.5738353\ttotal: 6.79s\tremaining: 9.57s\n",
      "415:\tlearn: 0.5727583\ttotal: 6.81s\tremaining: 9.56s\n",
      "416:\tlearn: 0.5714678\ttotal: 6.82s\tremaining: 9.54s\n",
      "417:\tlearn: 0.5709292\ttotal: 6.84s\tremaining: 9.52s\n",
      "418:\tlearn: 0.5706689\ttotal: 6.85s\tremaining: 9.5s\n",
      "419:\tlearn: 0.5698509\ttotal: 6.87s\tremaining: 9.48s\n",
      "420:\tlearn: 0.5686967\ttotal: 6.89s\tremaining: 9.47s\n",
      "421:\tlearn: 0.5676507\ttotal: 6.91s\tremaining: 9.46s\n",
      "422:\tlearn: 0.5669654\ttotal: 6.92s\tremaining: 9.44s\n",
      "423:\tlearn: 0.5666164\ttotal: 6.94s\tremaining: 9.43s\n",
      "424:\tlearn: 0.5655785\ttotal: 6.96s\tremaining: 9.41s\n",
      "425:\tlearn: 0.5640562\ttotal: 6.98s\tremaining: 9.4s\n",
      "426:\tlearn: 0.5631906\ttotal: 6.99s\tremaining: 9.38s\n",
      "427:\tlearn: 0.5620426\ttotal: 7.01s\tremaining: 9.37s\n",
      "428:\tlearn: 0.5610956\ttotal: 7.02s\tremaining: 9.35s\n",
      "429:\tlearn: 0.5608185\ttotal: 7.04s\tremaining: 9.33s\n",
      "430:\tlearn: 0.5601459\ttotal: 7.05s\tremaining: 9.31s\n",
      "431:\tlearn: 0.5594048\ttotal: 7.07s\tremaining: 9.29s\n",
      "432:\tlearn: 0.5587151\ttotal: 7.08s\tremaining: 9.28s\n",
      "433:\tlearn: 0.5579753\ttotal: 7.1s\tremaining: 9.26s\n",
      "434:\tlearn: 0.5572046\ttotal: 7.12s\tremaining: 9.24s\n",
      "435:\tlearn: 0.5569456\ttotal: 7.13s\tremaining: 9.23s\n",
      "436:\tlearn: 0.5560370\ttotal: 7.15s\tremaining: 9.21s\n",
      "437:\tlearn: 0.5553420\ttotal: 7.17s\tremaining: 9.19s\n",
      "438:\tlearn: 0.5549542\ttotal: 7.18s\tremaining: 9.18s\n",
      "439:\tlearn: 0.5545607\ttotal: 7.2s\tremaining: 9.16s\n",
      "440:\tlearn: 0.5539546\ttotal: 7.21s\tremaining: 9.14s\n",
      "441:\tlearn: 0.5531752\ttotal: 7.23s\tremaining: 9.13s\n",
      "442:\tlearn: 0.5525499\ttotal: 7.24s\tremaining: 9.11s\n",
      "443:\tlearn: 0.5519948\ttotal: 7.26s\tremaining: 9.09s\n",
      "444:\tlearn: 0.5511324\ttotal: 7.28s\tremaining: 9.08s\n",
      "445:\tlearn: 0.5503199\ttotal: 7.29s\tremaining: 9.06s\n",
      "446:\tlearn: 0.5499011\ttotal: 7.31s\tremaining: 9.04s\n",
      "447:\tlearn: 0.5486113\ttotal: 7.32s\tremaining: 9.02s\n",
      "448:\tlearn: 0.5478229\ttotal: 7.34s\tremaining: 9.01s\n",
      "449:\tlearn: 0.5467917\ttotal: 7.36s\tremaining: 8.99s\n",
      "450:\tlearn: 0.5458846\ttotal: 7.37s\tremaining: 8.98s\n",
      "451:\tlearn: 0.5454943\ttotal: 7.39s\tremaining: 8.96s\n",
      "452:\tlearn: 0.5439582\ttotal: 7.4s\tremaining: 8.94s\n",
      "453:\tlearn: 0.5431078\ttotal: 7.42s\tremaining: 8.92s\n",
      "454:\tlearn: 0.5426256\ttotal: 7.43s\tremaining: 8.9s\n",
      "455:\tlearn: 0.5418639\ttotal: 7.45s\tremaining: 8.89s\n",
      "456:\tlearn: 0.5412138\ttotal: 7.47s\tremaining: 8.88s\n",
      "457:\tlearn: 0.5408450\ttotal: 7.49s\tremaining: 8.86s\n",
      "458:\tlearn: 0.5399425\ttotal: 7.5s\tremaining: 8.84s\n",
      "459:\tlearn: 0.5392732\ttotal: 7.52s\tremaining: 8.82s\n",
      "460:\tlearn: 0.5385979\ttotal: 7.53s\tremaining: 8.81s\n",
      "461:\tlearn: 0.5379487\ttotal: 7.55s\tremaining: 8.79s\n",
      "462:\tlearn: 0.5367908\ttotal: 7.57s\tremaining: 8.77s\n",
      "463:\tlearn: 0.5362764\ttotal: 7.58s\tremaining: 8.76s\n",
      "464:\tlearn: 0.5353338\ttotal: 7.59s\tremaining: 8.74s\n",
      "465:\tlearn: 0.5348303\ttotal: 7.61s\tremaining: 8.72s\n",
      "466:\tlearn: 0.5340535\ttotal: 7.63s\tremaining: 8.7s\n",
      "467:\tlearn: 0.5337938\ttotal: 7.64s\tremaining: 8.69s\n",
      "468:\tlearn: 0.5325205\ttotal: 7.66s\tremaining: 8.67s\n",
      "469:\tlearn: 0.5310571\ttotal: 7.67s\tremaining: 8.65s\n",
      "470:\tlearn: 0.5305634\ttotal: 7.69s\tremaining: 8.63s\n",
      "471:\tlearn: 0.5297949\ttotal: 7.7s\tremaining: 8.62s\n",
      "472:\tlearn: 0.5291791\ttotal: 7.72s\tremaining: 8.6s\n",
      "473:\tlearn: 0.5275292\ttotal: 7.73s\tremaining: 8.58s\n",
      "474:\tlearn: 0.5263538\ttotal: 7.75s\tremaining: 8.56s\n",
      "475:\tlearn: 0.5258096\ttotal: 7.76s\tremaining: 8.55s\n",
      "476:\tlearn: 0.5249216\ttotal: 7.78s\tremaining: 8.53s\n",
      "477:\tlearn: 0.5247482\ttotal: 7.8s\tremaining: 8.51s\n",
      "478:\tlearn: 0.5236921\ttotal: 7.81s\tremaining: 8.5s\n",
      "479:\tlearn: 0.5227007\ttotal: 7.83s\tremaining: 8.48s\n",
      "480:\tlearn: 0.5216100\ttotal: 7.84s\tremaining: 8.46s\n",
      "481:\tlearn: 0.5213263\ttotal: 7.86s\tremaining: 8.45s\n",
      "482:\tlearn: 0.5204835\ttotal: 7.88s\tremaining: 8.43s\n",
      "483:\tlearn: 0.5197231\ttotal: 7.89s\tremaining: 8.42s\n",
      "484:\tlearn: 0.5185637\ttotal: 7.91s\tremaining: 8.4s\n",
      "485:\tlearn: 0.5177715\ttotal: 7.92s\tremaining: 8.38s\n",
      "486:\tlearn: 0.5172233\ttotal: 7.94s\tremaining: 8.36s\n",
      "487:\tlearn: 0.5165513\ttotal: 7.96s\tremaining: 8.35s\n",
      "488:\tlearn: 0.5162873\ttotal: 7.98s\tremaining: 8.34s\n",
      "489:\tlearn: 0.5155459\ttotal: 8s\tremaining: 8.32s\n",
      "490:\tlearn: 0.5151533\ttotal: 8.02s\tremaining: 8.31s\n",
      "491:\tlearn: 0.5148704\ttotal: 8.04s\tremaining: 8.3s\n",
      "492:\tlearn: 0.5142410\ttotal: 8.05s\tremaining: 8.28s\n",
      "493:\tlearn: 0.5134642\ttotal: 8.07s\tremaining: 8.27s\n",
      "494:\tlearn: 0.5130041\ttotal: 8.09s\tremaining: 8.25s\n",
      "495:\tlearn: 0.5123045\ttotal: 8.1s\tremaining: 8.23s\n",
      "496:\tlearn: 0.5115967\ttotal: 8.12s\tremaining: 8.22s\n",
      "497:\tlearn: 0.5107578\ttotal: 8.13s\tremaining: 8.2s\n",
      "498:\tlearn: 0.5103204\ttotal: 8.15s\tremaining: 8.19s\n",
      "499:\tlearn: 0.5097988\ttotal: 8.17s\tremaining: 8.17s\n",
      "500:\tlearn: 0.5087505\ttotal: 8.19s\tremaining: 8.16s\n",
      "501:\tlearn: 0.5082941\ttotal: 8.21s\tremaining: 8.14s\n",
      "502:\tlearn: 0.5075788\ttotal: 8.22s\tremaining: 8.13s\n",
      "503:\tlearn: 0.5074400\ttotal: 8.24s\tremaining: 8.11s\n",
      "504:\tlearn: 0.5060664\ttotal: 8.26s\tremaining: 8.09s\n",
      "505:\tlearn: 0.5054962\ttotal: 8.27s\tremaining: 8.07s\n",
      "506:\tlearn: 0.5047280\ttotal: 8.29s\tremaining: 8.06s\n",
      "507:\tlearn: 0.5039509\ttotal: 8.3s\tremaining: 8.04s\n",
      "508:\tlearn: 0.5036443\ttotal: 8.32s\tremaining: 8.02s\n",
      "509:\tlearn: 0.5031809\ttotal: 8.33s\tremaining: 8.01s\n",
      "510:\tlearn: 0.5024585\ttotal: 8.35s\tremaining: 7.99s\n",
      "511:\tlearn: 0.5022839\ttotal: 8.37s\tremaining: 7.97s\n",
      "512:\tlearn: 0.5012718\ttotal: 8.38s\tremaining: 7.96s\n",
      "513:\tlearn: 0.5010841\ttotal: 8.4s\tremaining: 7.94s\n",
      "514:\tlearn: 0.5002424\ttotal: 8.42s\tremaining: 7.93s\n",
      "515:\tlearn: 0.4995447\ttotal: 8.43s\tremaining: 7.91s\n",
      "516:\tlearn: 0.4988238\ttotal: 8.45s\tremaining: 7.89s\n",
      "517:\tlearn: 0.4984040\ttotal: 8.46s\tremaining: 7.88s\n",
      "518:\tlearn: 0.4976627\ttotal: 8.48s\tremaining: 7.86s\n",
      "519:\tlearn: 0.4962912\ttotal: 8.5s\tremaining: 7.84s\n",
      "520:\tlearn: 0.4952833\ttotal: 8.52s\tremaining: 7.83s\n",
      "521:\tlearn: 0.4951219\ttotal: 8.53s\tremaining: 7.81s\n",
      "522:\tlearn: 0.4948399\ttotal: 8.54s\tremaining: 7.79s\n",
      "523:\tlearn: 0.4944782\ttotal: 8.56s\tremaining: 7.78s\n",
      "524:\tlearn: 0.4942189\ttotal: 8.58s\tremaining: 7.76s\n",
      "525:\tlearn: 0.4929797\ttotal: 8.59s\tremaining: 7.75s\n",
      "526:\tlearn: 0.4923293\ttotal: 8.61s\tremaining: 7.73s\n",
      "527:\tlearn: 0.4919655\ttotal: 8.63s\tremaining: 7.71s\n",
      "528:\tlearn: 0.4915844\ttotal: 8.65s\tremaining: 7.7s\n",
      "529:\tlearn: 0.4902372\ttotal: 8.66s\tremaining: 7.68s\n",
      "530:\tlearn: 0.4894942\ttotal: 8.68s\tremaining: 7.67s\n",
      "531:\tlearn: 0.4889015\ttotal: 8.7s\tremaining: 7.65s\n",
      "532:\tlearn: 0.4885494\ttotal: 8.71s\tremaining: 7.63s\n",
      "533:\tlearn: 0.4878900\ttotal: 8.73s\tremaining: 7.62s\n",
      "534:\tlearn: 0.4873133\ttotal: 8.74s\tremaining: 7.6s\n",
      "535:\tlearn: 0.4869502\ttotal: 8.76s\tremaining: 7.58s\n",
      "536:\tlearn: 0.4862644\ttotal: 8.78s\tremaining: 7.57s\n",
      "537:\tlearn: 0.4851520\ttotal: 8.79s\tremaining: 7.55s\n",
      "538:\tlearn: 0.4845878\ttotal: 8.81s\tremaining: 7.54s\n",
      "539:\tlearn: 0.4837937\ttotal: 8.83s\tremaining: 7.52s\n",
      "540:\tlearn: 0.4831576\ttotal: 8.85s\tremaining: 7.5s\n",
      "541:\tlearn: 0.4824966\ttotal: 8.86s\tremaining: 7.49s\n",
      "542:\tlearn: 0.4817627\ttotal: 8.88s\tremaining: 7.47s\n",
      "543:\tlearn: 0.4808231\ttotal: 8.89s\tremaining: 7.45s\n",
      "544:\tlearn: 0.4800197\ttotal: 8.91s\tremaining: 7.44s\n",
      "545:\tlearn: 0.4796669\ttotal: 8.93s\tremaining: 7.42s\n",
      "546:\tlearn: 0.4782819\ttotal: 8.94s\tremaining: 7.41s\n",
      "547:\tlearn: 0.4780595\ttotal: 8.96s\tremaining: 7.39s\n",
      "548:\tlearn: 0.4772677\ttotal: 8.98s\tremaining: 7.37s\n",
      "549:\tlearn: 0.4768058\ttotal: 8.99s\tremaining: 7.36s\n",
      "550:\tlearn: 0.4760085\ttotal: 9.01s\tremaining: 7.34s\n",
      "551:\tlearn: 0.4755535\ttotal: 9.03s\tremaining: 7.33s\n",
      "552:\tlearn: 0.4750175\ttotal: 9.05s\tremaining: 7.32s\n",
      "553:\tlearn: 0.4741511\ttotal: 9.07s\tremaining: 7.3s\n",
      "554:\tlearn: 0.4735014\ttotal: 9.08s\tremaining: 7.28s\n",
      "555:\tlearn: 0.4725774\ttotal: 9.1s\tremaining: 7.26s\n",
      "556:\tlearn: 0.4719428\ttotal: 9.11s\tremaining: 7.25s\n",
      "557:\tlearn: 0.4717440\ttotal: 9.13s\tremaining: 7.23s\n",
      "558:\tlearn: 0.4712267\ttotal: 9.15s\tremaining: 7.22s\n",
      "559:\tlearn: 0.4711036\ttotal: 9.16s\tremaining: 7.2s\n",
      "560:\tlearn: 0.4708537\ttotal: 9.18s\tremaining: 7.18s\n",
      "561:\tlearn: 0.4701525\ttotal: 9.2s\tremaining: 7.17s\n",
      "562:\tlearn: 0.4698209\ttotal: 9.21s\tremaining: 7.15s\n",
      "563:\tlearn: 0.4693611\ttotal: 9.23s\tremaining: 7.13s\n",
      "564:\tlearn: 0.4683020\ttotal: 9.24s\tremaining: 7.12s\n",
      "565:\tlearn: 0.4680723\ttotal: 9.26s\tremaining: 7.1s\n",
      "566:\tlearn: 0.4670321\ttotal: 9.27s\tremaining: 7.08s\n",
      "567:\tlearn: 0.4661857\ttotal: 9.29s\tremaining: 7.07s\n",
      "568:\tlearn: 0.4659137\ttotal: 9.3s\tremaining: 7.05s\n",
      "569:\tlearn: 0.4657881\ttotal: 9.32s\tremaining: 7.03s\n",
      "570:\tlearn: 0.4654096\ttotal: 9.34s\tremaining: 7.01s\n",
      "571:\tlearn: 0.4651622\ttotal: 9.35s\tremaining: 7s\n",
      "572:\tlearn: 0.4645613\ttotal: 9.37s\tremaining: 6.98s\n",
      "573:\tlearn: 0.4638941\ttotal: 9.38s\tremaining: 6.96s\n",
      "574:\tlearn: 0.4635019\ttotal: 9.4s\tremaining: 6.95s\n",
      "575:\tlearn: 0.4630292\ttotal: 9.43s\tremaining: 6.94s\n",
      "576:\tlearn: 0.4623681\ttotal: 9.45s\tremaining: 6.93s\n",
      "577:\tlearn: 0.4621282\ttotal: 9.47s\tremaining: 6.91s\n",
      "578:\tlearn: 0.4611184\ttotal: 9.49s\tremaining: 6.9s\n",
      "579:\tlearn: 0.4605324\ttotal: 9.51s\tremaining: 6.89s\n",
      "580:\tlearn: 0.4598565\ttotal: 9.53s\tremaining: 6.87s\n",
      "581:\tlearn: 0.4590359\ttotal: 9.55s\tremaining: 6.86s\n",
      "582:\tlearn: 0.4583794\ttotal: 9.57s\tremaining: 6.84s\n",
      "583:\tlearn: 0.4577720\ttotal: 9.59s\tremaining: 6.83s\n",
      "584:\tlearn: 0.4572911\ttotal: 9.6s\tremaining: 6.81s\n",
      "585:\tlearn: 0.4567592\ttotal: 9.62s\tremaining: 6.79s\n",
      "586:\tlearn: 0.4563400\ttotal: 9.63s\tremaining: 6.78s\n",
      "587:\tlearn: 0.4558431\ttotal: 9.65s\tremaining: 6.76s\n",
      "588:\tlearn: 0.4550627\ttotal: 9.67s\tremaining: 6.75s\n",
      "589:\tlearn: 0.4544932\ttotal: 9.69s\tremaining: 6.73s\n",
      "590:\tlearn: 0.4541573\ttotal: 9.7s\tremaining: 6.72s\n",
      "591:\tlearn: 0.4536368\ttotal: 9.72s\tremaining: 6.7s\n",
      "592:\tlearn: 0.4531951\ttotal: 9.73s\tremaining: 6.68s\n",
      "593:\tlearn: 0.4523903\ttotal: 9.75s\tremaining: 6.66s\n",
      "594:\tlearn: 0.4518546\ttotal: 9.76s\tremaining: 6.64s\n",
      "595:\tlearn: 0.4509107\ttotal: 9.78s\tremaining: 6.63s\n",
      "596:\tlearn: 0.4506076\ttotal: 9.79s\tremaining: 6.61s\n",
      "597:\tlearn: 0.4500646\ttotal: 9.81s\tremaining: 6.59s\n",
      "598:\tlearn: 0.4497951\ttotal: 9.82s\tremaining: 6.58s\n",
      "599:\tlearn: 0.4494885\ttotal: 9.84s\tremaining: 6.56s\n",
      "600:\tlearn: 0.4490029\ttotal: 9.85s\tremaining: 6.54s\n",
      "601:\tlearn: 0.4480828\ttotal: 9.87s\tremaining: 6.53s\n",
      "602:\tlearn: 0.4470225\ttotal: 9.88s\tremaining: 6.51s\n",
      "603:\tlearn: 0.4465579\ttotal: 9.91s\tremaining: 6.5s\n",
      "604:\tlearn: 0.4461278\ttotal: 9.93s\tremaining: 6.48s\n",
      "605:\tlearn: 0.4454872\ttotal: 9.95s\tremaining: 6.47s\n",
      "606:\tlearn: 0.4449798\ttotal: 9.97s\tremaining: 6.45s\n",
      "607:\tlearn: 0.4442406\ttotal: 9.99s\tremaining: 6.44s\n",
      "608:\tlearn: 0.4439122\ttotal: 10s\tremaining: 6.42s\n",
      "609:\tlearn: 0.4435608\ttotal: 10s\tremaining: 6.41s\n",
      "610:\tlearn: 0.4428966\ttotal: 10s\tremaining: 6.39s\n",
      "611:\tlearn: 0.4423771\ttotal: 10.1s\tremaining: 6.38s\n",
      "612:\tlearn: 0.4414892\ttotal: 10.1s\tremaining: 6.36s\n",
      "613:\tlearn: 0.4413394\ttotal: 10.1s\tremaining: 6.34s\n",
      "614:\tlearn: 0.4405025\ttotal: 10.1s\tremaining: 6.33s\n",
      "615:\tlearn: 0.4401337\ttotal: 10.1s\tremaining: 6.31s\n",
      "616:\tlearn: 0.4390647\ttotal: 10.1s\tremaining: 6.3s\n",
      "617:\tlearn: 0.4384207\ttotal: 10.2s\tremaining: 6.28s\n",
      "618:\tlearn: 0.4381103\ttotal: 10.2s\tremaining: 6.26s\n",
      "619:\tlearn: 0.4375809\ttotal: 10.2s\tremaining: 6.25s\n",
      "620:\tlearn: 0.4367244\ttotal: 10.2s\tremaining: 6.23s\n",
      "621:\tlearn: 0.4363457\ttotal: 10.2s\tremaining: 6.21s\n",
      "622:\tlearn: 0.4362304\ttotal: 10.2s\tremaining: 6.2s\n",
      "623:\tlearn: 0.4356156\ttotal: 10.3s\tremaining: 6.18s\n",
      "624:\tlearn: 0.4351175\ttotal: 10.3s\tremaining: 6.16s\n",
      "625:\tlearn: 0.4342717\ttotal: 10.3s\tremaining: 6.15s\n",
      "626:\tlearn: 0.4340620\ttotal: 10.3s\tremaining: 6.13s\n",
      "627:\tlearn: 0.4335876\ttotal: 10.3s\tremaining: 6.11s\n",
      "628:\tlearn: 0.4327087\ttotal: 10.3s\tremaining: 6.1s\n",
      "629:\tlearn: 0.4320952\ttotal: 10.4s\tremaining: 6.08s\n",
      "630:\tlearn: 0.4317433\ttotal: 10.4s\tremaining: 6.06s\n",
      "631:\tlearn: 0.4312260\ttotal: 10.4s\tremaining: 6.04s\n",
      "632:\tlearn: 0.4305784\ttotal: 10.4s\tremaining: 6.03s\n",
      "633:\tlearn: 0.4301111\ttotal: 10.4s\tremaining: 6.01s\n",
      "634:\tlearn: 0.4298824\ttotal: 10.4s\tremaining: 6s\n",
      "635:\tlearn: 0.4295035\ttotal: 10.4s\tremaining: 5.98s\n",
      "636:\tlearn: 0.4288790\ttotal: 10.5s\tremaining: 5.96s\n",
      "637:\tlearn: 0.4284422\ttotal: 10.5s\tremaining: 5.94s\n",
      "638:\tlearn: 0.4278694\ttotal: 10.5s\tremaining: 5.93s\n",
      "639:\tlearn: 0.4275490\ttotal: 10.5s\tremaining: 5.91s\n",
      "640:\tlearn: 0.4270958\ttotal: 10.5s\tremaining: 5.89s\n",
      "641:\tlearn: 0.4266665\ttotal: 10.5s\tremaining: 5.88s\n",
      "642:\tlearn: 0.4264035\ttotal: 10.6s\tremaining: 5.86s\n",
      "643:\tlearn: 0.4259296\ttotal: 10.6s\tremaining: 5.84s\n",
      "644:\tlearn: 0.4251990\ttotal: 10.6s\tremaining: 5.83s\n",
      "645:\tlearn: 0.4250483\ttotal: 10.6s\tremaining: 5.81s\n",
      "646:\tlearn: 0.4247070\ttotal: 10.6s\tremaining: 5.79s\n",
      "647:\tlearn: 0.4240565\ttotal: 10.6s\tremaining: 5.78s\n",
      "648:\tlearn: 0.4238778\ttotal: 10.7s\tremaining: 5.76s\n",
      "649:\tlearn: 0.4231436\ttotal: 10.7s\tremaining: 5.74s\n",
      "650:\tlearn: 0.4226709\ttotal: 10.7s\tremaining: 5.73s\n",
      "651:\tlearn: 0.4223143\ttotal: 10.7s\tremaining: 5.71s\n",
      "652:\tlearn: 0.4218704\ttotal: 10.7s\tremaining: 5.7s\n",
      "653:\tlearn: 0.4210964\ttotal: 10.7s\tremaining: 5.68s\n",
      "654:\tlearn: 0.4202212\ttotal: 10.7s\tremaining: 5.66s\n",
      "655:\tlearn: 0.4198358\ttotal: 10.8s\tremaining: 5.64s\n",
      "656:\tlearn: 0.4194972\ttotal: 10.8s\tremaining: 5.63s\n",
      "657:\tlearn: 0.4187395\ttotal: 10.8s\tremaining: 5.61s\n",
      "658:\tlearn: 0.4185938\ttotal: 10.8s\tremaining: 5.59s\n",
      "659:\tlearn: 0.4176932\ttotal: 10.8s\tremaining: 5.58s\n",
      "660:\tlearn: 0.4174311\ttotal: 10.8s\tremaining: 5.56s\n",
      "661:\tlearn: 0.4171689\ttotal: 10.9s\tremaining: 5.54s\n",
      "662:\tlearn: 0.4170399\ttotal: 10.9s\tremaining: 5.53s\n",
      "663:\tlearn: 0.4162396\ttotal: 10.9s\tremaining: 5.51s\n",
      "664:\tlearn: 0.4159416\ttotal: 10.9s\tremaining: 5.49s\n",
      "665:\tlearn: 0.4154945\ttotal: 10.9s\tremaining: 5.48s\n",
      "666:\tlearn: 0.4152348\ttotal: 10.9s\tremaining: 5.46s\n",
      "667:\tlearn: 0.4148963\ttotal: 11s\tremaining: 5.44s\n",
      "668:\tlearn: 0.4145736\ttotal: 11s\tremaining: 5.43s\n",
      "669:\tlearn: 0.4140354\ttotal: 11s\tremaining: 5.41s\n",
      "670:\tlearn: 0.4139173\ttotal: 11s\tremaining: 5.39s\n",
      "671:\tlearn: 0.4137251\ttotal: 11s\tremaining: 5.38s\n",
      "672:\tlearn: 0.4132858\ttotal: 11s\tremaining: 5.36s\n",
      "673:\tlearn: 0.4129865\ttotal: 11s\tremaining: 5.34s\n",
      "674:\tlearn: 0.4126101\ttotal: 11.1s\tremaining: 5.33s\n",
      "675:\tlearn: 0.4117558\ttotal: 11.1s\tremaining: 5.31s\n",
      "676:\tlearn: 0.4113810\ttotal: 11.1s\tremaining: 5.29s\n",
      "677:\tlearn: 0.4108543\ttotal: 11.1s\tremaining: 5.28s\n",
      "678:\tlearn: 0.4103156\ttotal: 11.1s\tremaining: 5.26s\n",
      "679:\tlearn: 0.4098096\ttotal: 11.1s\tremaining: 5.25s\n",
      "680:\tlearn: 0.4094371\ttotal: 11.2s\tremaining: 5.23s\n",
      "681:\tlearn: 0.4085972\ttotal: 11.2s\tremaining: 5.21s\n",
      "682:\tlearn: 0.4081080\ttotal: 11.2s\tremaining: 5.2s\n",
      "683:\tlearn: 0.4077091\ttotal: 11.2s\tremaining: 5.18s\n",
      "684:\tlearn: 0.4072451\ttotal: 11.2s\tremaining: 5.16s\n",
      "685:\tlearn: 0.4063347\ttotal: 11.2s\tremaining: 5.15s\n",
      "686:\tlearn: 0.4061922\ttotal: 11.3s\tremaining: 5.13s\n",
      "687:\tlearn: 0.4057152\ttotal: 11.3s\tremaining: 5.11s\n",
      "688:\tlearn: 0.4055373\ttotal: 11.3s\tremaining: 5.1s\n",
      "689:\tlearn: 0.4054436\ttotal: 11.3s\tremaining: 5.08s\n",
      "690:\tlearn: 0.4052259\ttotal: 11.3s\tremaining: 5.06s\n",
      "691:\tlearn: 0.4043700\ttotal: 11.3s\tremaining: 5.05s\n",
      "692:\tlearn: 0.4041895\ttotal: 11.4s\tremaining: 5.03s\n",
      "693:\tlearn: 0.4036768\ttotal: 11.4s\tremaining: 5.01s\n",
      "694:\tlearn: 0.4032756\ttotal: 11.4s\tremaining: 5s\n",
      "695:\tlearn: 0.4030406\ttotal: 11.4s\tremaining: 4.98s\n",
      "696:\tlearn: 0.4028720\ttotal: 11.4s\tremaining: 4.96s\n",
      "697:\tlearn: 0.4025757\ttotal: 11.4s\tremaining: 4.95s\n",
      "698:\tlearn: 0.4023367\ttotal: 11.5s\tremaining: 4.93s\n",
      "699:\tlearn: 0.4018016\ttotal: 11.5s\tremaining: 4.91s\n",
      "700:\tlearn: 0.4012476\ttotal: 11.5s\tremaining: 4.9s\n",
      "701:\tlearn: 0.4009230\ttotal: 11.5s\tremaining: 4.88s\n",
      "702:\tlearn: 0.4004703\ttotal: 11.5s\tremaining: 4.86s\n",
      "703:\tlearn: 0.3997812\ttotal: 11.5s\tremaining: 4.85s\n",
      "704:\tlearn: 0.3993316\ttotal: 11.5s\tremaining: 4.83s\n",
      "705:\tlearn: 0.3985207\ttotal: 11.6s\tremaining: 4.82s\n",
      "706:\tlearn: 0.3982512\ttotal: 11.6s\tremaining: 4.8s\n",
      "707:\tlearn: 0.3980098\ttotal: 11.6s\tremaining: 4.78s\n",
      "708:\tlearn: 0.3975784\ttotal: 11.6s\tremaining: 4.77s\n",
      "709:\tlearn: 0.3971918\ttotal: 11.6s\tremaining: 4.75s\n",
      "710:\tlearn: 0.3967301\ttotal: 11.6s\tremaining: 4.73s\n",
      "711:\tlearn: 0.3966061\ttotal: 11.7s\tremaining: 4.72s\n",
      "712:\tlearn: 0.3959165\ttotal: 11.7s\tremaining: 4.7s\n",
      "713:\tlearn: 0.3956621\ttotal: 11.7s\tremaining: 4.68s\n",
      "714:\tlearn: 0.3952482\ttotal: 11.7s\tremaining: 4.67s\n",
      "715:\tlearn: 0.3950220\ttotal: 11.7s\tremaining: 4.65s\n",
      "716:\tlearn: 0.3946250\ttotal: 11.7s\tremaining: 4.64s\n",
      "717:\tlearn: 0.3944350\ttotal: 11.8s\tremaining: 4.62s\n",
      "718:\tlearn: 0.3933257\ttotal: 11.8s\tremaining: 4.6s\n",
      "719:\tlearn: 0.3931060\ttotal: 11.8s\tremaining: 4.59s\n",
      "720:\tlearn: 0.3930144\ttotal: 11.8s\tremaining: 4.57s\n",
      "721:\tlearn: 0.3924385\ttotal: 11.8s\tremaining: 4.55s\n",
      "722:\tlearn: 0.3921386\ttotal: 11.8s\tremaining: 4.54s\n",
      "723:\tlearn: 0.3916459\ttotal: 11.9s\tremaining: 4.52s\n",
      "724:\tlearn: 0.3912626\ttotal: 11.9s\tremaining: 4.51s\n",
      "725:\tlearn: 0.3908808\ttotal: 11.9s\tremaining: 4.49s\n",
      "726:\tlearn: 0.3904553\ttotal: 11.9s\tremaining: 4.48s\n",
      "727:\tlearn: 0.3901329\ttotal: 12s\tremaining: 4.46s\n",
      "728:\tlearn: 0.3900292\ttotal: 12s\tremaining: 4.45s\n",
      "729:\tlearn: 0.3896400\ttotal: 12s\tremaining: 4.43s\n",
      "730:\tlearn: 0.3892013\ttotal: 12s\tremaining: 4.42s\n",
      "731:\tlearn: 0.3889950\ttotal: 12s\tremaining: 4.4s\n",
      "732:\tlearn: 0.3884231\ttotal: 12s\tremaining: 4.38s\n",
      "733:\tlearn: 0.3883328\ttotal: 12.1s\tremaining: 4.37s\n",
      "734:\tlearn: 0.3882200\ttotal: 12.1s\tremaining: 4.35s\n",
      "735:\tlearn: 0.3876887\ttotal: 12.1s\tremaining: 4.34s\n",
      "736:\tlearn: 0.3872570\ttotal: 12.1s\tremaining: 4.32s\n",
      "737:\tlearn: 0.3865382\ttotal: 12.1s\tremaining: 4.31s\n",
      "738:\tlearn: 0.3863915\ttotal: 12.1s\tremaining: 4.29s\n",
      "739:\tlearn: 0.3859935\ttotal: 12.2s\tremaining: 4.27s\n",
      "740:\tlearn: 0.3855766\ttotal: 12.2s\tremaining: 4.26s\n",
      "741:\tlearn: 0.3851137\ttotal: 12.2s\tremaining: 4.24s\n",
      "742:\tlearn: 0.3845811\ttotal: 12.2s\tremaining: 4.22s\n",
      "743:\tlearn: 0.3837125\ttotal: 12.2s\tremaining: 4.21s\n",
      "744:\tlearn: 0.3834529\ttotal: 12.2s\tremaining: 4.19s\n",
      "745:\tlearn: 0.3832192\ttotal: 12.3s\tremaining: 4.17s\n",
      "746:\tlearn: 0.3826502\ttotal: 12.3s\tremaining: 4.16s\n",
      "747:\tlearn: 0.3821025\ttotal: 12.3s\tremaining: 4.14s\n",
      "748:\tlearn: 0.3815269\ttotal: 12.3s\tremaining: 4.13s\n",
      "749:\tlearn: 0.3805168\ttotal: 12.3s\tremaining: 4.11s\n",
      "750:\tlearn: 0.3800019\ttotal: 12.3s\tremaining: 4.09s\n",
      "751:\tlearn: 0.3797688\ttotal: 12.4s\tremaining: 4.08s\n",
      "752:\tlearn: 0.3789596\ttotal: 12.4s\tremaining: 4.06s\n",
      "753:\tlearn: 0.3782150\ttotal: 12.4s\tremaining: 4.04s\n",
      "754:\tlearn: 0.3781243\ttotal: 12.4s\tremaining: 4.03s\n",
      "755:\tlearn: 0.3778606\ttotal: 12.4s\tremaining: 4.01s\n",
      "756:\tlearn: 0.3772845\ttotal: 12.4s\tremaining: 3.99s\n",
      "757:\tlearn: 0.3762121\ttotal: 12.5s\tremaining: 3.98s\n",
      "758:\tlearn: 0.3753452\ttotal: 12.5s\tremaining: 3.96s\n",
      "759:\tlearn: 0.3746802\ttotal: 12.5s\tremaining: 3.94s\n",
      "760:\tlearn: 0.3742897\ttotal: 12.5s\tremaining: 3.93s\n",
      "761:\tlearn: 0.3740633\ttotal: 12.5s\tremaining: 3.91s\n",
      "762:\tlearn: 0.3732158\ttotal: 12.5s\tremaining: 3.89s\n",
      "763:\tlearn: 0.3728760\ttotal: 12.6s\tremaining: 3.88s\n",
      "764:\tlearn: 0.3726151\ttotal: 12.6s\tremaining: 3.86s\n",
      "765:\tlearn: 0.3724688\ttotal: 12.6s\tremaining: 3.85s\n",
      "766:\tlearn: 0.3717954\ttotal: 12.6s\tremaining: 3.83s\n",
      "767:\tlearn: 0.3716110\ttotal: 12.6s\tremaining: 3.81s\n",
      "768:\tlearn: 0.3713944\ttotal: 12.6s\tremaining: 3.79s\n",
      "769:\tlearn: 0.3711014\ttotal: 12.6s\tremaining: 3.78s\n",
      "770:\tlearn: 0.3706325\ttotal: 12.7s\tremaining: 3.76s\n",
      "771:\tlearn: 0.3703214\ttotal: 12.7s\tremaining: 3.75s\n",
      "772:\tlearn: 0.3698077\ttotal: 12.7s\tremaining: 3.73s\n",
      "773:\tlearn: 0.3692952\ttotal: 12.7s\tremaining: 3.71s\n",
      "774:\tlearn: 0.3689017\ttotal: 12.7s\tremaining: 3.69s\n",
      "775:\tlearn: 0.3684252\ttotal: 12.7s\tremaining: 3.68s\n",
      "776:\tlearn: 0.3679767\ttotal: 12.8s\tremaining: 3.66s\n",
      "777:\tlearn: 0.3676967\ttotal: 12.8s\tremaining: 3.65s\n",
      "778:\tlearn: 0.3672768\ttotal: 12.8s\tremaining: 3.63s\n",
      "779:\tlearn: 0.3667027\ttotal: 12.8s\tremaining: 3.61s\n",
      "780:\tlearn: 0.3660135\ttotal: 12.8s\tremaining: 3.6s\n",
      "781:\tlearn: 0.3653882\ttotal: 12.8s\tremaining: 3.58s\n",
      "782:\tlearn: 0.3650086\ttotal: 12.9s\tremaining: 3.56s\n",
      "783:\tlearn: 0.3649366\ttotal: 12.9s\tremaining: 3.55s\n",
      "784:\tlearn: 0.3644818\ttotal: 12.9s\tremaining: 3.53s\n",
      "785:\tlearn: 0.3641196\ttotal: 12.9s\tremaining: 3.51s\n",
      "786:\tlearn: 0.3638681\ttotal: 12.9s\tremaining: 3.5s\n",
      "787:\tlearn: 0.3633580\ttotal: 12.9s\tremaining: 3.48s\n",
      "788:\tlearn: 0.3630696\ttotal: 13s\tremaining: 3.46s\n",
      "789:\tlearn: 0.3625034\ttotal: 13s\tremaining: 3.45s\n",
      "790:\tlearn: 0.3619699\ttotal: 13s\tremaining: 3.43s\n",
      "791:\tlearn: 0.3617730\ttotal: 13s\tremaining: 3.42s\n",
      "792:\tlearn: 0.3616560\ttotal: 13s\tremaining: 3.4s\n",
      "793:\tlearn: 0.3615813\ttotal: 13s\tremaining: 3.38s\n",
      "794:\tlearn: 0.3607213\ttotal: 13.1s\tremaining: 3.37s\n",
      "795:\tlearn: 0.3601465\ttotal: 13.1s\tremaining: 3.35s\n",
      "796:\tlearn: 0.3599323\ttotal: 13.1s\tremaining: 3.33s\n",
      "797:\tlearn: 0.3597952\ttotal: 13.1s\tremaining: 3.32s\n",
      "798:\tlearn: 0.3593118\ttotal: 13.1s\tremaining: 3.3s\n",
      "799:\tlearn: 0.3590349\ttotal: 13.1s\tremaining: 3.29s\n",
      "800:\tlearn: 0.3588542\ttotal: 13.2s\tremaining: 3.27s\n",
      "801:\tlearn: 0.3586054\ttotal: 13.2s\tremaining: 3.25s\n",
      "802:\tlearn: 0.3582624\ttotal: 13.2s\tremaining: 3.24s\n",
      "803:\tlearn: 0.3575899\ttotal: 13.2s\tremaining: 3.22s\n",
      "804:\tlearn: 0.3571825\ttotal: 13.2s\tremaining: 3.2s\n",
      "805:\tlearn: 0.3565125\ttotal: 13.2s\tremaining: 3.19s\n",
      "806:\tlearn: 0.3561605\ttotal: 13.3s\tremaining: 3.17s\n",
      "807:\tlearn: 0.3559306\ttotal: 13.3s\tremaining: 3.15s\n",
      "808:\tlearn: 0.3554420\ttotal: 13.3s\tremaining: 3.14s\n",
      "809:\tlearn: 0.3547458\ttotal: 13.3s\tremaining: 3.12s\n",
      "810:\tlearn: 0.3544626\ttotal: 13.3s\tremaining: 3.1s\n",
      "811:\tlearn: 0.3539253\ttotal: 13.3s\tremaining: 3.08s\n",
      "812:\tlearn: 0.3535922\ttotal: 13.3s\tremaining: 3.07s\n",
      "813:\tlearn: 0.3533451\ttotal: 13.4s\tremaining: 3.05s\n",
      "814:\tlearn: 0.3527921\ttotal: 13.4s\tremaining: 3.04s\n",
      "815:\tlearn: 0.3525804\ttotal: 13.4s\tremaining: 3.02s\n",
      "816:\tlearn: 0.3518025\ttotal: 13.4s\tremaining: 3s\n",
      "817:\tlearn: 0.3513158\ttotal: 13.4s\tremaining: 2.99s\n",
      "818:\tlearn: 0.3506221\ttotal: 13.4s\tremaining: 2.97s\n",
      "819:\tlearn: 0.3505595\ttotal: 13.5s\tremaining: 2.95s\n",
      "820:\tlearn: 0.3498980\ttotal: 13.5s\tremaining: 2.94s\n",
      "821:\tlearn: 0.3494057\ttotal: 13.5s\tremaining: 2.92s\n",
      "822:\tlearn: 0.3486781\ttotal: 13.5s\tremaining: 2.9s\n",
      "823:\tlearn: 0.3482260\ttotal: 13.5s\tremaining: 2.89s\n",
      "824:\tlearn: 0.3480933\ttotal: 13.5s\tremaining: 2.87s\n",
      "825:\tlearn: 0.3478676\ttotal: 13.6s\tremaining: 2.85s\n",
      "826:\tlearn: 0.3476013\ttotal: 13.6s\tremaining: 2.84s\n",
      "827:\tlearn: 0.3473191\ttotal: 13.6s\tremaining: 2.82s\n",
      "828:\tlearn: 0.3470575\ttotal: 13.6s\tremaining: 2.81s\n",
      "829:\tlearn: 0.3467496\ttotal: 13.6s\tremaining: 2.79s\n",
      "830:\tlearn: 0.3462300\ttotal: 13.6s\tremaining: 2.77s\n",
      "831:\tlearn: 0.3455307\ttotal: 13.7s\tremaining: 2.76s\n",
      "832:\tlearn: 0.3449606\ttotal: 13.7s\tremaining: 2.74s\n",
      "833:\tlearn: 0.3445610\ttotal: 13.7s\tremaining: 2.72s\n",
      "834:\tlearn: 0.3440232\ttotal: 13.7s\tremaining: 2.71s\n",
      "835:\tlearn: 0.3435344\ttotal: 13.7s\tremaining: 2.69s\n",
      "836:\tlearn: 0.3434001\ttotal: 13.7s\tremaining: 2.67s\n",
      "837:\tlearn: 0.3428536\ttotal: 13.7s\tremaining: 2.66s\n",
      "838:\tlearn: 0.3421296\ttotal: 13.8s\tremaining: 2.64s\n",
      "839:\tlearn: 0.3419454\ttotal: 13.8s\tremaining: 2.62s\n",
      "840:\tlearn: 0.3411568\ttotal: 13.8s\tremaining: 2.61s\n",
      "841:\tlearn: 0.3408524\ttotal: 13.8s\tremaining: 2.59s\n",
      "842:\tlearn: 0.3406767\ttotal: 13.8s\tremaining: 2.57s\n",
      "843:\tlearn: 0.3401801\ttotal: 13.8s\tremaining: 2.56s\n",
      "844:\tlearn: 0.3395007\ttotal: 13.9s\tremaining: 2.54s\n",
      "845:\tlearn: 0.3390783\ttotal: 13.9s\tremaining: 2.52s\n",
      "846:\tlearn: 0.3388417\ttotal: 13.9s\tremaining: 2.51s\n",
      "847:\tlearn: 0.3380675\ttotal: 13.9s\tremaining: 2.49s\n",
      "848:\tlearn: 0.3378175\ttotal: 13.9s\tremaining: 2.48s\n",
      "849:\tlearn: 0.3374155\ttotal: 13.9s\tremaining: 2.46s\n",
      "850:\tlearn: 0.3370335\ttotal: 14s\tremaining: 2.44s\n",
      "851:\tlearn: 0.3366506\ttotal: 14s\tremaining: 2.43s\n",
      "852:\tlearn: 0.3366073\ttotal: 14s\tremaining: 2.41s\n",
      "853:\tlearn: 0.3364661\ttotal: 14s\tremaining: 2.39s\n",
      "854:\tlearn: 0.3360830\ttotal: 14s\tremaining: 2.38s\n",
      "855:\tlearn: 0.3357666\ttotal: 14s\tremaining: 2.36s\n",
      "856:\tlearn: 0.3354254\ttotal: 14s\tremaining: 2.34s\n",
      "857:\tlearn: 0.3352296\ttotal: 14.1s\tremaining: 2.33s\n",
      "858:\tlearn: 0.3348050\ttotal: 14.1s\tremaining: 2.31s\n",
      "859:\tlearn: 0.3345108\ttotal: 14.1s\tremaining: 2.29s\n",
      "860:\tlearn: 0.3339563\ttotal: 14.1s\tremaining: 2.28s\n",
      "861:\tlearn: 0.3337185\ttotal: 14.1s\tremaining: 2.26s\n",
      "862:\tlearn: 0.3334535\ttotal: 14.1s\tremaining: 2.25s\n",
      "863:\tlearn: 0.3330640\ttotal: 14.2s\tremaining: 2.23s\n",
      "864:\tlearn: 0.3328634\ttotal: 14.2s\tremaining: 2.21s\n",
      "865:\tlearn: 0.3326054\ttotal: 14.2s\tremaining: 2.2s\n",
      "866:\tlearn: 0.3319786\ttotal: 14.2s\tremaining: 2.18s\n",
      "867:\tlearn: 0.3316584\ttotal: 14.2s\tremaining: 2.16s\n",
      "868:\tlearn: 0.3313970\ttotal: 14.2s\tremaining: 2.15s\n",
      "869:\tlearn: 0.3311511\ttotal: 14.3s\tremaining: 2.13s\n",
      "870:\tlearn: 0.3302794\ttotal: 14.3s\tremaining: 2.11s\n",
      "871:\tlearn: 0.3297375\ttotal: 14.3s\tremaining: 2.1s\n",
      "872:\tlearn: 0.3293682\ttotal: 14.3s\tremaining: 2.08s\n",
      "873:\tlearn: 0.3291564\ttotal: 14.3s\tremaining: 2.06s\n",
      "874:\tlearn: 0.3284862\ttotal: 14.3s\tremaining: 2.05s\n",
      "875:\tlearn: 0.3283923\ttotal: 14.4s\tremaining: 2.03s\n",
      "876:\tlearn: 0.3280853\ttotal: 14.4s\tremaining: 2.02s\n",
      "877:\tlearn: 0.3277687\ttotal: 14.4s\tremaining: 2s\n",
      "878:\tlearn: 0.3276280\ttotal: 14.4s\tremaining: 1.98s\n",
      "879:\tlearn: 0.3273910\ttotal: 14.4s\tremaining: 1.97s\n",
      "880:\tlearn: 0.3267903\ttotal: 14.4s\tremaining: 1.95s\n",
      "881:\tlearn: 0.3266413\ttotal: 14.4s\tremaining: 1.93s\n",
      "882:\tlearn: 0.3261645\ttotal: 14.5s\tremaining: 1.92s\n",
      "883:\tlearn: 0.3255575\ttotal: 14.5s\tremaining: 1.9s\n",
      "884:\tlearn: 0.3250869\ttotal: 14.5s\tremaining: 1.88s\n",
      "885:\tlearn: 0.3245063\ttotal: 14.5s\tremaining: 1.87s\n",
      "886:\tlearn: 0.3242850\ttotal: 14.5s\tremaining: 1.85s\n",
      "887:\tlearn: 0.3241643\ttotal: 14.5s\tremaining: 1.83s\n",
      "888:\tlearn: 0.3239988\ttotal: 14.6s\tremaining: 1.82s\n",
      "889:\tlearn: 0.3238068\ttotal: 14.6s\tremaining: 1.8s\n",
      "890:\tlearn: 0.3234995\ttotal: 14.6s\tremaining: 1.78s\n",
      "891:\tlearn: 0.3231960\ttotal: 14.6s\tremaining: 1.77s\n",
      "892:\tlearn: 0.3228257\ttotal: 14.6s\tremaining: 1.75s\n",
      "893:\tlearn: 0.3225687\ttotal: 14.6s\tremaining: 1.74s\n",
      "894:\tlearn: 0.3224623\ttotal: 14.7s\tremaining: 1.72s\n",
      "895:\tlearn: 0.3220594\ttotal: 14.7s\tremaining: 1.7s\n",
      "896:\tlearn: 0.3215087\ttotal: 14.7s\tremaining: 1.69s\n",
      "897:\tlearn: 0.3210206\ttotal: 14.7s\tremaining: 1.67s\n",
      "898:\tlearn: 0.3207372\ttotal: 14.7s\tremaining: 1.65s\n",
      "899:\tlearn: 0.3204506\ttotal: 14.7s\tremaining: 1.64s\n",
      "900:\tlearn: 0.3199075\ttotal: 14.8s\tremaining: 1.62s\n",
      "901:\tlearn: 0.3197862\ttotal: 14.8s\tremaining: 1.6s\n",
      "902:\tlearn: 0.3195739\ttotal: 14.8s\tremaining: 1.59s\n",
      "903:\tlearn: 0.3194123\ttotal: 14.8s\tremaining: 1.57s\n",
      "904:\tlearn: 0.3191223\ttotal: 14.8s\tremaining: 1.55s\n",
      "905:\tlearn: 0.3190043\ttotal: 14.8s\tremaining: 1.54s\n",
      "906:\tlearn: 0.3185948\ttotal: 14.8s\tremaining: 1.52s\n",
      "907:\tlearn: 0.3184893\ttotal: 14.9s\tremaining: 1.5s\n",
      "908:\tlearn: 0.3181742\ttotal: 14.9s\tremaining: 1.49s\n",
      "909:\tlearn: 0.3180042\ttotal: 14.9s\tremaining: 1.47s\n",
      "910:\tlearn: 0.3176827\ttotal: 14.9s\tremaining: 1.46s\n",
      "911:\tlearn: 0.3173621\ttotal: 14.9s\tremaining: 1.44s\n",
      "912:\tlearn: 0.3170017\ttotal: 14.9s\tremaining: 1.42s\n",
      "913:\tlearn: 0.3166671\ttotal: 15s\tremaining: 1.41s\n",
      "914:\tlearn: 0.3161363\ttotal: 15s\tremaining: 1.39s\n",
      "915:\tlearn: 0.3158247\ttotal: 15s\tremaining: 1.37s\n",
      "916:\tlearn: 0.3155766\ttotal: 15s\tremaining: 1.36s\n",
      "917:\tlearn: 0.3152396\ttotal: 15s\tremaining: 1.34s\n",
      "918:\tlearn: 0.3148583\ttotal: 15s\tremaining: 1.32s\n",
      "919:\tlearn: 0.3147377\ttotal: 15.1s\tremaining: 1.31s\n",
      "920:\tlearn: 0.3144911\ttotal: 15.1s\tremaining: 1.29s\n",
      "921:\tlearn: 0.3144030\ttotal: 15.1s\tremaining: 1.28s\n",
      "922:\tlearn: 0.3140277\ttotal: 15.1s\tremaining: 1.26s\n",
      "923:\tlearn: 0.3135640\ttotal: 15.1s\tremaining: 1.24s\n",
      "924:\tlearn: 0.3132380\ttotal: 15.1s\tremaining: 1.23s\n",
      "925:\tlearn: 0.3129093\ttotal: 15.2s\tremaining: 1.21s\n",
      "926:\tlearn: 0.3122071\ttotal: 15.2s\tremaining: 1.2s\n",
      "927:\tlearn: 0.3119266\ttotal: 15.2s\tremaining: 1.18s\n",
      "928:\tlearn: 0.3117583\ttotal: 15.2s\tremaining: 1.16s\n",
      "929:\tlearn: 0.3114127\ttotal: 15.2s\tremaining: 1.15s\n",
      "930:\tlearn: 0.3110674\ttotal: 15.2s\tremaining: 1.13s\n",
      "931:\tlearn: 0.3107168\ttotal: 15.3s\tremaining: 1.11s\n",
      "932:\tlearn: 0.3105859\ttotal: 15.3s\tremaining: 1.1s\n",
      "933:\tlearn: 0.3104307\ttotal: 15.3s\tremaining: 1.08s\n",
      "934:\tlearn: 0.3101033\ttotal: 15.3s\tremaining: 1.06s\n",
      "935:\tlearn: 0.3095957\ttotal: 15.3s\tremaining: 1.05s\n",
      "936:\tlearn: 0.3092283\ttotal: 15.3s\tremaining: 1.03s\n",
      "937:\tlearn: 0.3091198\ttotal: 15.4s\tremaining: 1.01s\n",
      "938:\tlearn: 0.3088213\ttotal: 15.4s\tremaining: 999ms\n",
      "939:\tlearn: 0.3083627\ttotal: 15.4s\tremaining: 983ms\n",
      "940:\tlearn: 0.3080511\ttotal: 15.4s\tremaining: 967ms\n",
      "941:\tlearn: 0.3076861\ttotal: 15.4s\tremaining: 951ms\n",
      "942:\tlearn: 0.3073627\ttotal: 15.5s\tremaining: 934ms\n",
      "943:\tlearn: 0.3071950\ttotal: 15.5s\tremaining: 918ms\n",
      "944:\tlearn: 0.3067329\ttotal: 15.5s\tremaining: 902ms\n",
      "945:\tlearn: 0.3064535\ttotal: 15.5s\tremaining: 885ms\n",
      "946:\tlearn: 0.3061982\ttotal: 15.5s\tremaining: 869ms\n",
      "947:\tlearn: 0.3058885\ttotal: 15.5s\tremaining: 853ms\n",
      "948:\tlearn: 0.3055136\ttotal: 15.6s\tremaining: 837ms\n",
      "949:\tlearn: 0.3049356\ttotal: 15.6s\tremaining: 820ms\n",
      "950:\tlearn: 0.3046675\ttotal: 15.6s\tremaining: 804ms\n",
      "951:\tlearn: 0.3042815\ttotal: 15.6s\tremaining: 788ms\n",
      "952:\tlearn: 0.3036704\ttotal: 15.6s\tremaining: 771ms\n",
      "953:\tlearn: 0.3033502\ttotal: 15.7s\tremaining: 755ms\n",
      "954:\tlearn: 0.3029113\ttotal: 15.7s\tremaining: 739ms\n",
      "955:\tlearn: 0.3027056\ttotal: 15.7s\tremaining: 722ms\n",
      "956:\tlearn: 0.3023903\ttotal: 15.7s\tremaining: 706ms\n",
      "957:\tlearn: 0.3020724\ttotal: 15.7s\tremaining: 690ms\n",
      "958:\tlearn: 0.3020118\ttotal: 15.8s\tremaining: 673ms\n",
      "959:\tlearn: 0.3018899\ttotal: 15.8s\tremaining: 657ms\n",
      "960:\tlearn: 0.3016733\ttotal: 15.8s\tremaining: 641ms\n",
      "961:\tlearn: 0.3012673\ttotal: 15.8s\tremaining: 624ms\n",
      "962:\tlearn: 0.3009983\ttotal: 15.8s\tremaining: 608ms\n",
      "963:\tlearn: 0.3008754\ttotal: 15.8s\tremaining: 591ms\n",
      "964:\tlearn: 0.3004420\ttotal: 15.9s\tremaining: 575ms\n",
      "965:\tlearn: 0.3001017\ttotal: 15.9s\tremaining: 559ms\n",
      "966:\tlearn: 0.3000216\ttotal: 15.9s\tremaining: 542ms\n",
      "967:\tlearn: 0.2995884\ttotal: 15.9s\tremaining: 526ms\n",
      "968:\tlearn: 0.2989881\ttotal: 15.9s\tremaining: 509ms\n",
      "969:\tlearn: 0.2988764\ttotal: 15.9s\tremaining: 493ms\n",
      "970:\tlearn: 0.2987193\ttotal: 16s\tremaining: 477ms\n",
      "971:\tlearn: 0.2981309\ttotal: 16s\tremaining: 460ms\n",
      "972:\tlearn: 0.2977555\ttotal: 16s\tremaining: 444ms\n",
      "973:\tlearn: 0.2973462\ttotal: 16s\tremaining: 427ms\n",
      "974:\tlearn: 0.2967798\ttotal: 16s\tremaining: 411ms\n",
      "975:\tlearn: 0.2965578\ttotal: 16.1s\tremaining: 395ms\n",
      "976:\tlearn: 0.2962911\ttotal: 16.1s\tremaining: 378ms\n",
      "977:\tlearn: 0.2960548\ttotal: 16.1s\tremaining: 362ms\n",
      "978:\tlearn: 0.2959008\ttotal: 16.1s\tremaining: 346ms\n",
      "979:\tlearn: 0.2957339\ttotal: 16.1s\tremaining: 329ms\n",
      "980:\tlearn: 0.2951080\ttotal: 16.2s\tremaining: 313ms\n",
      "981:\tlearn: 0.2944808\ttotal: 16.2s\tremaining: 296ms\n",
      "982:\tlearn: 0.2941876\ttotal: 16.2s\tremaining: 280ms\n",
      "983:\tlearn: 0.2940591\ttotal: 16.2s\tremaining: 264ms\n",
      "984:\tlearn: 0.2938619\ttotal: 16.2s\tremaining: 247ms\n",
      "985:\tlearn: 0.2934801\ttotal: 16.2s\tremaining: 231ms\n",
      "986:\tlearn: 0.2931089\ttotal: 16.3s\tremaining: 214ms\n",
      "987:\tlearn: 0.2928456\ttotal: 16.3s\tremaining: 198ms\n",
      "988:\tlearn: 0.2923259\ttotal: 16.3s\tremaining: 182ms\n",
      "989:\tlearn: 0.2921867\ttotal: 16.3s\tremaining: 165ms\n",
      "990:\tlearn: 0.2918602\ttotal: 16.4s\tremaining: 149ms\n",
      "991:\tlearn: 0.2917268\ttotal: 16.4s\tremaining: 132ms\n",
      "992:\tlearn: 0.2914952\ttotal: 16.4s\tremaining: 116ms\n",
      "993:\tlearn: 0.2911039\ttotal: 16.4s\tremaining: 99.1ms\n",
      "994:\tlearn: 0.2909903\ttotal: 16.4s\tremaining: 82.6ms\n",
      "995:\tlearn: 0.2907959\ttotal: 16.5s\tremaining: 66.1ms\n",
      "996:\tlearn: 0.2905124\ttotal: 16.5s\tremaining: 49.6ms\n",
      "997:\tlearn: 0.2902003\ttotal: 16.5s\tremaining: 33.1ms\n",
      "998:\tlearn: 0.2898412\ttotal: 16.5s\tremaining: 16.6ms\n",
      "999:\tlearn: 0.2897503\ttotal: 16.6s\tremaining: 0us\n"
     ]
    },
    {
     "data": {
      "text/plain": [
       "<catboost.core.CatBoostClassifier at 0x7fee46880850>"
      ]
     },
     "execution_count": 50,
     "metadata": {},
     "output_type": "execute_result"
    }
   ],
   "source": [
    "cm.fit(X_train, y_train)"
   ]
  },
  {
   "cell_type": "code",
   "execution_count": 51,
   "metadata": {},
   "outputs": [],
   "source": [
    "preds_class=cm.predict(X_test)"
   ]
  },
  {
   "cell_type": "code",
   "execution_count": 52,
   "metadata": {},
   "outputs": [
    {
     "data": {
      "text/plain": [
       "array([[ 0,  0,  0,  0,  0],\n",
       "       [ 1,  7, 28,  0,  0],\n",
       "       [ 0,  9, 67,  2,  1],\n",
       "       [ 0,  1,  7,  0,  0],\n",
       "       [ 0,  0,  3,  0,  0]])"
      ]
     },
     "execution_count": 52,
     "metadata": {},
     "output_type": "execute_result"
    }
   ],
   "source": [
    "confusion_matrix(y_test, preds_class)"
   ]
  },
  {
   "cell_type": "code",
   "execution_count": 61,
   "metadata": {},
   "outputs": [],
   "source": [
    "cm2 = CatBoostClassifier(iterations = 20)"
   ]
  },
  {
   "cell_type": "code",
   "execution_count": 62,
   "metadata": {},
   "outputs": [
    {
     "name": "stdout",
     "output_type": "stream",
     "text": [
      "0:\tlearn: 2.0732404\ttotal: 13.5ms\tremaining: 257ms\n",
      "1:\tlearn: 1.9416805\ttotal: 24.8ms\tremaining: 223ms\n",
      "2:\tlearn: 1.8608578\ttotal: 39.9ms\tremaining: 226ms\n",
      "3:\tlearn: 1.7969439\ttotal: 56.1ms\tremaining: 224ms\n",
      "4:\tlearn: 1.7209652\ttotal: 68.3ms\tremaining: 205ms\n",
      "5:\tlearn: 1.6560395\ttotal: 78.4ms\tremaining: 183ms\n",
      "6:\tlearn: 1.6129643\ttotal: 93.6ms\tremaining: 174ms\n",
      "7:\tlearn: 1.5546253\ttotal: 119ms\tremaining: 179ms\n",
      "8:\tlearn: 1.5126407\ttotal: 133ms\tremaining: 163ms\n",
      "9:\tlearn: 1.4676424\ttotal: 149ms\tremaining: 149ms\n",
      "10:\tlearn: 1.4225928\ttotal: 162ms\tremaining: 132ms\n",
      "11:\tlearn: 1.3817022\ttotal: 171ms\tremaining: 114ms\n",
      "12:\tlearn: 1.3457852\ttotal: 180ms\tremaining: 97ms\n",
      "13:\tlearn: 1.3144875\ttotal: 189ms\tremaining: 80.9ms\n",
      "14:\tlearn: 1.2770894\ttotal: 197ms\tremaining: 65.8ms\n",
      "15:\tlearn: 1.2456627\ttotal: 206ms\tremaining: 51.4ms\n",
      "16:\tlearn: 1.2182089\ttotal: 218ms\tremaining: 38.4ms\n",
      "17:\tlearn: 1.1860938\ttotal: 222ms\tremaining: 24.6ms\n",
      "18:\tlearn: 1.1569956\ttotal: 232ms\tremaining: 12.2ms\n",
      "19:\tlearn: 1.1338402\ttotal: 243ms\tremaining: 0us\n"
     ]
    },
    {
     "data": {
      "text/plain": [
       "<catboost.core.CatBoostClassifier at 0x7fee4404ee10>"
      ]
     },
     "execution_count": 62,
     "metadata": {},
     "output_type": "execute_result"
    }
   ],
   "source": [
    "cm2.fit(X_train2, y_train2)"
   ]
  },
  {
   "cell_type": "code",
   "execution_count": 63,
   "metadata": {},
   "outputs": [],
   "source": [
    "preds_class2 = cm2.predict(X_test2)"
   ]
  },
  {
   "cell_type": "code",
   "execution_count": 64,
   "metadata": {},
   "outputs": [
    {
     "data": {
      "text/plain": [
       "array([[  0,  15,   0,   0],\n",
       "       [  0, 108,   0,   0],\n",
       "       [  0,   2,   0,   0],\n",
       "       [  0,   1,   0,   0]])"
      ]
     },
     "execution_count": 64,
     "metadata": {},
     "output_type": "execute_result"
    }
   ],
   "source": [
    "confusion_matrix(y_test2, preds_class2)"
   ]
  },
  {
   "cell_type": "code",
   "execution_count": 65,
   "metadata": {},
   "outputs": [
    {
     "data": {
      "text/plain": [
       "array([[17.],\n",
       "       [17.],\n",
       "       [17.],\n",
       "       [17.],\n",
       "       [17.],\n",
       "       [17.],\n",
       "       [17.],\n",
       "       [17.],\n",
       "       [17.],\n",
       "       [17.],\n",
       "       [17.],\n",
       "       [17.],\n",
       "       [17.],\n",
       "       [17.],\n",
       "       [17.],\n",
       "       [17.],\n",
       "       [17.],\n",
       "       [17.],\n",
       "       [17.],\n",
       "       [17.],\n",
       "       [17.],\n",
       "       [17.],\n",
       "       [17.],\n",
       "       [17.],\n",
       "       [17.],\n",
       "       [17.],\n",
       "       [17.],\n",
       "       [17.],\n",
       "       [17.],\n",
       "       [17.],\n",
       "       [17.],\n",
       "       [17.],\n",
       "       [17.],\n",
       "       [17.],\n",
       "       [17.],\n",
       "       [17.],\n",
       "       [17.],\n",
       "       [17.],\n",
       "       [17.],\n",
       "       [17.],\n",
       "       [17.],\n",
       "       [17.],\n",
       "       [17.],\n",
       "       [17.],\n",
       "       [17.],\n",
       "       [17.],\n",
       "       [17.],\n",
       "       [17.],\n",
       "       [17.],\n",
       "       [17.],\n",
       "       [17.],\n",
       "       [17.],\n",
       "       [17.],\n",
       "       [17.],\n",
       "       [17.],\n",
       "       [17.],\n",
       "       [17.],\n",
       "       [17.],\n",
       "       [17.],\n",
       "       [17.],\n",
       "       [17.],\n",
       "       [17.],\n",
       "       [17.],\n",
       "       [17.],\n",
       "       [17.],\n",
       "       [17.],\n",
       "       [17.],\n",
       "       [17.],\n",
       "       [17.],\n",
       "       [17.],\n",
       "       [17.],\n",
       "       [17.],\n",
       "       [17.],\n",
       "       [17.],\n",
       "       [17.],\n",
       "       [17.],\n",
       "       [17.],\n",
       "       [17.],\n",
       "       [17.],\n",
       "       [17.],\n",
       "       [17.],\n",
       "       [17.],\n",
       "       [17.],\n",
       "       [17.],\n",
       "       [17.],\n",
       "       [17.],\n",
       "       [17.],\n",
       "       [17.],\n",
       "       [17.],\n",
       "       [17.],\n",
       "       [17.],\n",
       "       [17.],\n",
       "       [17.],\n",
       "       [17.],\n",
       "       [17.],\n",
       "       [17.],\n",
       "       [17.],\n",
       "       [17.],\n",
       "       [17.],\n",
       "       [17.],\n",
       "       [17.],\n",
       "       [17.],\n",
       "       [17.],\n",
       "       [17.],\n",
       "       [17.],\n",
       "       [17.],\n",
       "       [17.],\n",
       "       [17.],\n",
       "       [17.],\n",
       "       [17.],\n",
       "       [17.],\n",
       "       [17.],\n",
       "       [17.],\n",
       "       [17.],\n",
       "       [17.],\n",
       "       [17.],\n",
       "       [17.],\n",
       "       [17.],\n",
       "       [17.],\n",
       "       [17.],\n",
       "       [17.],\n",
       "       [17.],\n",
       "       [17.],\n",
       "       [17.],\n",
       "       [17.],\n",
       "       [17.]])"
      ]
     },
     "execution_count": 65,
     "metadata": {},
     "output_type": "execute_result"
    }
   ],
   "source": [
    "preds_class2"
   ]
  },
  {
   "cell_type": "code",
   "execution_count": 66,
   "metadata": {},
   "outputs": [
    {
     "data": {
      "text/plain": [
       "array([17., 17., 17., 17., 17., 17., 17.,  7., 17., 17., 17., 17., 17.,\n",
       "       17., 17., 17., 17., 17., 17., 17., 17., 17., 17., 17., 17., 17.,\n",
       "       17., 17., 17., 17., 17., 17., 17., 17., 17., 17., 17., 17., 17.,\n",
       "       17., 17., 17., 17., 17., 17., 17., 17., 17., 17., 17., 17., 17.,\n",
       "       17., 17., 17., 17., 17., 17., 17.,  7., 17., 17., 17., 17., 17.,\n",
       "       17., 17., 17., 17., 17., 17., 17., 17., 17., 17., 17., 17., 17.,\n",
       "       17., 17., 17., 17., 17., 17., 17., 17., 17., 17., 17., 17., 17.,\n",
       "       17., 17., 17., 17., 17., 17.,  7., 17., 17., 17., 17., 17., 17.,\n",
       "       17., 17., 17., 17., 17., 17., 17., 17., 17., 17., 17., 17., 17.,\n",
       "       17., 17., 17., 17., 17., 17., 17., 17., 17.])"
      ]
     },
     "execution_count": 66,
     "metadata": {},
     "output_type": "execute_result"
    }
   ],
   "source": [
    "preds2"
   ]
  },
  {
   "cell_type": "code",
   "execution_count": 70,
   "metadata": {},
   "outputs": [
    {
     "data": {
      "text/plain": [
       "array([17.])"
      ]
     },
     "execution_count": 70,
     "metadata": {},
     "output_type": "execute_result"
    }
   ],
   "source": [
    "np.unique(preds_class2)"
   ]
  },
  {
   "cell_type": "code",
   "execution_count": 71,
   "metadata": {},
   "outputs": [
    {
     "data": {
      "text/plain": [
       "array([[  2,  13,   0,   0],\n",
       "       [  0, 108,   0,   0],\n",
       "       [  0,   2,   0,   0],\n",
       "       [  1,   0,   0,   0]])"
      ]
     },
     "execution_count": 71,
     "metadata": {},
     "output_type": "execute_result"
    }
   ],
   "source": [
    "confusion_matrix(y_test2, preds2)"
   ]
  },
  {
   "cell_type": "code",
   "execution_count": null,
   "metadata": {},
   "outputs": [],
   "source": []
  }
 ],
 "metadata": {
  "kernelspec": {
   "display_name": "Python [default]",
   "language": "python",
   "name": "python3"
  },
  "language_info": {
   "codemirror_mode": {
    "name": "ipython",
    "version": 3
   },
   "file_extension": ".py",
   "mimetype": "text/x-python",
   "name": "python",
   "nbconvert_exporter": "python",
   "pygments_lexer": "ipython3",
   "version": "3.6.5"
  }
 },
 "nbformat": 4,
 "nbformat_minor": 2
}
