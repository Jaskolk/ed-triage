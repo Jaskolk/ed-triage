{
  "nbformat": 4,
  "nbformat_minor": 0,
  "metadata": {
    "colab": {
      "name": "ed_triage_faiv2.ipynb",
      "provenance": [],
      "collapsed_sections": [],
      "toc_visible": true
    },
    "kernelspec": {
      "name": "python3",
      "display_name": "Python 3"
    },
    "accelerator": "GPU"
  },
  "cells": [
    {
      "cell_type": "code",
      "metadata": {
        "id": "7i5NQDnKxY-g",
        "colab_type": "code",
        "colab": {
          "base_uri": "https://localhost:8080/",
          "height": 751
        },
        "outputId": "8bcbe2b5-40eb-4431-ec61-0267ebd3c366"
      },
      "source": [
        "!pip install fastai"
      ],
      "execution_count": 2,
      "outputs": [
        {
          "output_type": "stream",
          "text": [
            "Requirement already satisfied: fastai in /usr/local/lib/python3.6/dist-packages (1.0.61)\n",
            "Requirement already satisfied: numexpr in /usr/local/lib/python3.6/dist-packages (from fastai) (2.7.1)\n",
            "Requirement already satisfied: Pillow in /usr/local/lib/python3.6/dist-packages (from fastai) (7.0.0)\n",
            "Requirement already satisfied: nvidia-ml-py3 in /usr/local/lib/python3.6/dist-packages (from fastai) (7.352.0)\n",
            "Requirement already satisfied: pyyaml in /usr/local/lib/python3.6/dist-packages (from fastai) (3.13)\n",
            "Requirement already satisfied: torchvision in /usr/local/lib/python3.6/dist-packages (from fastai) (0.7.0+cu101)\n",
            "Requirement already satisfied: spacy>=2.0.18; python_version < \"3.8\" in /usr/local/lib/python3.6/dist-packages (from fastai) (2.2.4)\n",
            "Requirement already satisfied: bottleneck in /usr/local/lib/python3.6/dist-packages (from fastai) (1.3.2)\n",
            "Requirement already satisfied: beautifulsoup4 in /usr/local/lib/python3.6/dist-packages (from fastai) (4.6.3)\n",
            "Requirement already satisfied: fastprogress>=0.2.1 in /usr/local/lib/python3.6/dist-packages (from fastai) (0.2.4)\n",
            "Requirement already satisfied: torch>=1.0.0 in /usr/local/lib/python3.6/dist-packages (from fastai) (1.6.0+cu101)\n",
            "Requirement already satisfied: matplotlib in /usr/local/lib/python3.6/dist-packages (from fastai) (3.2.2)\n",
            "Requirement already satisfied: requests in /usr/local/lib/python3.6/dist-packages (from fastai) (2.23.0)\n",
            "Requirement already satisfied: numpy>=1.15 in /usr/local/lib/python3.6/dist-packages (from fastai) (1.18.5)\n",
            "Requirement already satisfied: scipy in /usr/local/lib/python3.6/dist-packages (from fastai) (1.4.1)\n",
            "Requirement already satisfied: dataclasses; python_version < \"3.7\" in /usr/local/lib/python3.6/dist-packages (from fastai) (0.7)\n",
            "Requirement already satisfied: packaging in /usr/local/lib/python3.6/dist-packages (from fastai) (20.4)\n",
            "Requirement already satisfied: pandas in /usr/local/lib/python3.6/dist-packages (from fastai) (1.0.5)\n",
            "Requirement already satisfied: thinc==7.4.0 in /usr/local/lib/python3.6/dist-packages (from spacy>=2.0.18; python_version < \"3.8\"->fastai) (7.4.0)\n",
            "Requirement already satisfied: cymem<2.1.0,>=2.0.2 in /usr/local/lib/python3.6/dist-packages (from spacy>=2.0.18; python_version < \"3.8\"->fastai) (2.0.3)\n",
            "Requirement already satisfied: blis<0.5.0,>=0.4.0 in /usr/local/lib/python3.6/dist-packages (from spacy>=2.0.18; python_version < \"3.8\"->fastai) (0.4.1)\n",
            "Requirement already satisfied: murmurhash<1.1.0,>=0.28.0 in /usr/local/lib/python3.6/dist-packages (from spacy>=2.0.18; python_version < \"3.8\"->fastai) (1.0.2)\n",
            "Requirement already satisfied: setuptools in /usr/local/lib/python3.6/dist-packages (from spacy>=2.0.18; python_version < \"3.8\"->fastai) (49.2.0)\n",
            "Requirement already satisfied: catalogue<1.1.0,>=0.0.7 in /usr/local/lib/python3.6/dist-packages (from spacy>=2.0.18; python_version < \"3.8\"->fastai) (1.0.0)\n",
            "Requirement already satisfied: plac<1.2.0,>=0.9.6 in /usr/local/lib/python3.6/dist-packages (from spacy>=2.0.18; python_version < \"3.8\"->fastai) (1.1.3)\n",
            "Requirement already satisfied: wasabi<1.1.0,>=0.4.0 in /usr/local/lib/python3.6/dist-packages (from spacy>=2.0.18; python_version < \"3.8\"->fastai) (0.7.1)\n",
            "Requirement already satisfied: preshed<3.1.0,>=3.0.2 in /usr/local/lib/python3.6/dist-packages (from spacy>=2.0.18; python_version < \"3.8\"->fastai) (3.0.2)\n",
            "Requirement already satisfied: tqdm<5.0.0,>=4.38.0 in /usr/local/lib/python3.6/dist-packages (from spacy>=2.0.18; python_version < \"3.8\"->fastai) (4.41.1)\n",
            "Requirement already satisfied: srsly<1.1.0,>=1.0.2 in /usr/local/lib/python3.6/dist-packages (from spacy>=2.0.18; python_version < \"3.8\"->fastai) (1.0.2)\n",
            "Requirement already satisfied: future in /usr/local/lib/python3.6/dist-packages (from torch>=1.0.0->fastai) (0.16.0)\n",
            "Requirement already satisfied: kiwisolver>=1.0.1 in /usr/local/lib/python3.6/dist-packages (from matplotlib->fastai) (1.2.0)\n",
            "Requirement already satisfied: cycler>=0.10 in /usr/local/lib/python3.6/dist-packages (from matplotlib->fastai) (0.10.0)\n",
            "Requirement already satisfied: python-dateutil>=2.1 in /usr/local/lib/python3.6/dist-packages (from matplotlib->fastai) (2.8.1)\n",
            "Requirement already satisfied: pyparsing!=2.0.4,!=2.1.2,!=2.1.6,>=2.0.1 in /usr/local/lib/python3.6/dist-packages (from matplotlib->fastai) (2.4.7)\n",
            "Requirement already satisfied: idna<3,>=2.5 in /usr/local/lib/python3.6/dist-packages (from requests->fastai) (2.10)\n",
            "Requirement already satisfied: urllib3!=1.25.0,!=1.25.1,<1.26,>=1.21.1 in /usr/local/lib/python3.6/dist-packages (from requests->fastai) (1.24.3)\n",
            "Requirement already satisfied: chardet<4,>=3.0.2 in /usr/local/lib/python3.6/dist-packages (from requests->fastai) (3.0.4)\n",
            "Requirement already satisfied: certifi>=2017.4.17 in /usr/local/lib/python3.6/dist-packages (from requests->fastai) (2020.6.20)\n",
            "Requirement already satisfied: six in /usr/local/lib/python3.6/dist-packages (from packaging->fastai) (1.15.0)\n",
            "Requirement already satisfied: pytz>=2017.2 in /usr/local/lib/python3.6/dist-packages (from pandas->fastai) (2018.9)\n",
            "Requirement already satisfied: importlib-metadata>=0.20; python_version < \"3.8\" in /usr/local/lib/python3.6/dist-packages (from catalogue<1.1.0,>=0.0.7->spacy>=2.0.18; python_version < \"3.8\"->fastai) (1.7.0)\n",
            "Requirement already satisfied: zipp>=0.5 in /usr/local/lib/python3.6/dist-packages (from importlib-metadata>=0.20; python_version < \"3.8\"->catalogue<1.1.0,>=0.0.7->spacy>=2.0.18; python_version < \"3.8\"->fastai) (3.1.0)\n"
          ],
          "name": "stdout"
        }
      ]
    },
    {
      "cell_type": "code",
      "metadata": {
        "id": "dhIkKZJjyOUA",
        "colab_type": "code",
        "colab": {
          "base_uri": "https://localhost:8080/",
          "height": 802
        },
        "outputId": "a0e5f827-4ef6-49b8-f138-ba3f1b5cd7b2"
      },
      "source": [
        "!pip install fastai2"
      ],
      "execution_count": 3,
      "outputs": [
        {
          "output_type": "stream",
          "text": [
            "Collecting fastai2\n",
            "\u001b[?25l  Downloading https://files.pythonhosted.org/packages/06/43/2bc6f2fbbd01356de1903d9e8a05a7d65a6e323f62d86a448a0f1a28077e/fastai2-0.0.21-py3-none-any.whl (176kB)\n",
            "\r\u001b[K     |█▉                              | 10kB 21.4MB/s eta 0:00:01\r\u001b[K     |███▊                            | 20kB 5.9MB/s eta 0:00:01\r\u001b[K     |█████▋                          | 30kB 7.1MB/s eta 0:00:01\r\u001b[K     |███████▍                        | 40kB 8.0MB/s eta 0:00:01\r\u001b[K     |█████████▎                      | 51kB 6.9MB/s eta 0:00:01\r\u001b[K     |███████████▏                    | 61kB 7.9MB/s eta 0:00:01\r\u001b[K     |█████████████                   | 71kB 8.1MB/s eta 0:00:01\r\u001b[K     |██████████████▉                 | 81kB 8.4MB/s eta 0:00:01\r\u001b[K     |████████████████▊               | 92kB 8.0MB/s eta 0:00:01\r\u001b[K     |██████████████████▋             | 102kB 8.2MB/s eta 0:00:01\r\u001b[K     |████████████████████▌           | 112kB 8.2MB/s eta 0:00:01\r\u001b[K     |██████████████████████▎         | 122kB 8.2MB/s eta 0:00:01\r\u001b[K     |████████████████████████▏       | 133kB 8.2MB/s eta 0:00:01\r\u001b[K     |██████████████████████████      | 143kB 8.2MB/s eta 0:00:01\r\u001b[K     |███████████████████████████▉    | 153kB 8.2MB/s eta 0:00:01\r\u001b[K     |█████████████████████████████▊  | 163kB 8.2MB/s eta 0:00:01\r\u001b[K     |███████████████████████████████▋| 174kB 8.2MB/s eta 0:00:01\r\u001b[K     |████████████████████████████████| 184kB 8.2MB/s \n",
            "\u001b[?25hRequirement already satisfied: torchvision>=0.7 in /usr/local/lib/python3.6/dist-packages (from fastai2) (0.7.0+cu101)\n",
            "Requirement already satisfied: pandas in /usr/local/lib/python3.6/dist-packages (from fastai2) (1.0.5)\n",
            "Requirement already satisfied: scipy in /usr/local/lib/python3.6/dist-packages (from fastai2) (1.4.1)\n",
            "Requirement already satisfied: requests in /usr/local/lib/python3.6/dist-packages (from fastai2) (2.23.0)\n",
            "Requirement already satisfied: torch>=1.6.0 in /usr/local/lib/python3.6/dist-packages (from fastai2) (1.6.0+cu101)\n",
            "Requirement already satisfied: spacy in /usr/local/lib/python3.6/dist-packages (from fastai2) (2.2.4)\n",
            "Requirement already satisfied: pillow in /usr/local/lib/python3.6/dist-packages (from fastai2) (7.0.0)\n",
            "Requirement already satisfied: pyyaml in /usr/local/lib/python3.6/dist-packages (from fastai2) (3.13)\n",
            "Requirement already satisfied: scikit-learn in /usr/local/lib/python3.6/dist-packages (from fastai2) (0.22.2.post1)\n",
            "Requirement already satisfied: fastprogress>=0.2.4 in /usr/local/lib/python3.6/dist-packages (from fastai2) (0.2.4)\n",
            "Requirement already satisfied: matplotlib in /usr/local/lib/python3.6/dist-packages (from fastai2) (3.2.2)\n",
            "Collecting fastcore>=0.1.20\n",
            "  Downloading https://files.pythonhosted.org/packages/0f/16/efacd7269fb348e1baf7b3c28cb8acd1473f95c6bbaa362c233a77fca647/fastcore-0.1.21-py3-none-any.whl\n",
            "Requirement already satisfied: numpy in /usr/local/lib/python3.6/dist-packages (from torchvision>=0.7->fastai2) (1.18.5)\n",
            "Requirement already satisfied: pytz>=2017.2 in /usr/local/lib/python3.6/dist-packages (from pandas->fastai2) (2018.9)\n",
            "Requirement already satisfied: python-dateutil>=2.6.1 in /usr/local/lib/python3.6/dist-packages (from pandas->fastai2) (2.8.1)\n",
            "Requirement already satisfied: idna<3,>=2.5 in /usr/local/lib/python3.6/dist-packages (from requests->fastai2) (2.10)\n",
            "Requirement already satisfied: certifi>=2017.4.17 in /usr/local/lib/python3.6/dist-packages (from requests->fastai2) (2020.6.20)\n",
            "Requirement already satisfied: urllib3!=1.25.0,!=1.25.1,<1.26,>=1.21.1 in /usr/local/lib/python3.6/dist-packages (from requests->fastai2) (1.24.3)\n",
            "Requirement already satisfied: chardet<4,>=3.0.2 in /usr/local/lib/python3.6/dist-packages (from requests->fastai2) (3.0.4)\n",
            "Requirement already satisfied: future in /usr/local/lib/python3.6/dist-packages (from torch>=1.6.0->fastai2) (0.16.0)\n",
            "Requirement already satisfied: wasabi<1.1.0,>=0.4.0 in /usr/local/lib/python3.6/dist-packages (from spacy->fastai2) (0.7.1)\n",
            "Requirement already satisfied: preshed<3.1.0,>=3.0.2 in /usr/local/lib/python3.6/dist-packages (from spacy->fastai2) (3.0.2)\n",
            "Requirement already satisfied: tqdm<5.0.0,>=4.38.0 in /usr/local/lib/python3.6/dist-packages (from spacy->fastai2) (4.41.1)\n",
            "Requirement already satisfied: thinc==7.4.0 in /usr/local/lib/python3.6/dist-packages (from spacy->fastai2) (7.4.0)\n",
            "Requirement already satisfied: blis<0.5.0,>=0.4.0 in /usr/local/lib/python3.6/dist-packages (from spacy->fastai2) (0.4.1)\n",
            "Requirement already satisfied: murmurhash<1.1.0,>=0.28.0 in /usr/local/lib/python3.6/dist-packages (from spacy->fastai2) (1.0.2)\n",
            "Requirement already satisfied: srsly<1.1.0,>=1.0.2 in /usr/local/lib/python3.6/dist-packages (from spacy->fastai2) (1.0.2)\n",
            "Requirement already satisfied: cymem<2.1.0,>=2.0.2 in /usr/local/lib/python3.6/dist-packages (from spacy->fastai2) (2.0.3)\n",
            "Requirement already satisfied: plac<1.2.0,>=0.9.6 in /usr/local/lib/python3.6/dist-packages (from spacy->fastai2) (1.1.3)\n",
            "Requirement already satisfied: setuptools in /usr/local/lib/python3.6/dist-packages (from spacy->fastai2) (49.2.0)\n",
            "Requirement already satisfied: catalogue<1.1.0,>=0.0.7 in /usr/local/lib/python3.6/dist-packages (from spacy->fastai2) (1.0.0)\n",
            "Requirement already satisfied: joblib>=0.11 in /usr/local/lib/python3.6/dist-packages (from scikit-learn->fastai2) (0.16.0)\n",
            "Requirement already satisfied: pyparsing!=2.0.4,!=2.1.2,!=2.1.6,>=2.0.1 in /usr/local/lib/python3.6/dist-packages (from matplotlib->fastai2) (2.4.7)\n",
            "Requirement already satisfied: cycler>=0.10 in /usr/local/lib/python3.6/dist-packages (from matplotlib->fastai2) (0.10.0)\n",
            "Requirement already satisfied: kiwisolver>=1.0.1 in /usr/local/lib/python3.6/dist-packages (from matplotlib->fastai2) (1.2.0)\n",
            "Requirement already satisfied: dataclasses>='0.7'; python_version < \"3.7\" in /usr/local/lib/python3.6/dist-packages (from fastcore>=0.1.20->fastai2) (0.7)\n",
            "Requirement already satisfied: six>=1.5 in /usr/local/lib/python3.6/dist-packages (from python-dateutil>=2.6.1->pandas->fastai2) (1.15.0)\n",
            "Requirement already satisfied: importlib-metadata>=0.20; python_version < \"3.8\" in /usr/local/lib/python3.6/dist-packages (from catalogue<1.1.0,>=0.0.7->spacy->fastai2) (1.7.0)\n",
            "Requirement already satisfied: zipp>=0.5 in /usr/local/lib/python3.6/dist-packages (from importlib-metadata>=0.20; python_version < \"3.8\"->catalogue<1.1.0,>=0.0.7->spacy->fastai2) (3.1.0)\n",
            "Installing collected packages: fastcore, fastai2\n",
            "Successfully installed fastai2-0.0.21 fastcore-0.1.21\n"
          ],
          "name": "stdout"
        }
      ]
    },
    {
      "cell_type": "code",
      "metadata": {
        "id": "BhN-wQrRUQvY",
        "colab_type": "code",
        "colab": {
          "base_uri": "https://localhost:8080/",
          "height": 88
        },
        "outputId": "e06ee9ef-92af-4e57-dbb8-701f3beb1d4c"
      },
      "source": [
        "!pip install fastcore"
      ],
      "execution_count": 4,
      "outputs": [
        {
          "output_type": "stream",
          "text": [
            "Requirement already satisfied: fastcore in /usr/local/lib/python3.6/dist-packages (0.1.21)\n",
            "Requirement already satisfied: numpy in /usr/local/lib/python3.6/dist-packages (from fastcore) (1.18.5)\n",
            "Requirement already satisfied: dataclasses>='0.7'; python_version < \"3.7\" in /usr/local/lib/python3.6/dist-packages (from fastcore) (0.7)\n"
          ],
          "name": "stdout"
        }
      ]
    },
    {
      "cell_type": "code",
      "metadata": {
        "id": "2ofMI4oWzewB",
        "colab_type": "code",
        "colab": {
          "base_uri": "https://localhost:8080/",
          "height": 139
        },
        "outputId": "803641f9-05ca-4edc-9d3d-8962cb504931"
      },
      "source": [
        "import pandas as pd\n",
        "import numpy as np\n",
        "import collections\n",
        "from collections import Counter\n",
        "from fastai2.text.all import *\n",
        "import sklearn.metrics"
      ],
      "execution_count": 5,
      "outputs": [
        {
          "output_type": "stream",
          "text": [
            "/usr/local/lib/python3.6/dist-packages/torch/cuda/__init__.py:125: UserWarning: \n",
            "Tesla T4 with CUDA capability sm_75 is not compatible with the current PyTorch installation.\n",
            "The current PyTorch install supports CUDA capabilities sm_37 sm_50 sm_60 sm_70.\n",
            "If you want to use the Tesla T4 GPU with PyTorch, please check the instructions at https://pytorch.org/get-started/locally/\n",
            "\n",
            "  warnings.warn(incompatible_device_warn.format(device_name, capability, \" \".join(arch_list), device_name))\n"
          ],
          "name": "stderr"
        }
      ]
    },
    {
      "cell_type": "code",
      "metadata": {
        "id": "rBBwzQ45AQuU",
        "colab_type": "code",
        "colab": {}
      },
      "source": [
        "def get_metrics(preds,predictions, true_vals):\n",
        "\n",
        "    f1_w = sklearn.metrics.f1_score(true_vals, preds, average='weighted')\n",
        "    f1 = sklearn.metrics.f1_score(true_vals, preds, average=None)\n",
        "    acc = sklearn.metrics.accuracy_score(true_vals, preds)\n",
        "    prec = sklearn.metrics.precision_score(true_vals,preds, average=None) \n",
        "    rec = sklearn.metrics.recall_score(true_vals,preds, average=None)\n",
        "    auroc = sklearn.metrics.roc_auc_score(true_vals,predictions[:,1], average=None)\n",
        "    confusion = sklearn.metrics.confusion_matrix(true_vals, preds)\n",
        "\n",
        "    tn, fn, fp, tp = confusion[1,1], confusion[1,0], confusion[0,1], confusion[0,0]\n",
        "\n",
        "    sens = tp/(tp + fn)\n",
        "    spec = tn/(tn + fp)\n",
        "    ppv = tp/(tp + fp)\n",
        "    npv = tn/(tn + fn)\n",
        "\n",
        "    print ('Metrics Report:')\n",
        "    print ('---------------')\n",
        "    print ('weighted f1: ', f1_w)\n",
        "    print ('AUROC:       ',auroc)\n",
        "    print ('accuracy:    ', acc)\n",
        "    print ('precision:   ', prec)\n",
        "    print ('recall:      ', rec)\n",
        "    print ('sensitivity: ', sens)\n",
        "    print ('specificity: ', spec)\n",
        "    print ('PPV:         ', ppv)\n",
        "    print ('NPV:         ', npv)\n",
        "    print ()\n",
        "    print ('confusion matrix')\n",
        "    print (confusion)\n",
        "\n",
        "    results_df.loc[len(results_df)] = [desc,num_samples, weights, f1_w, acc, auroc, ppv, sens, batch_size]"
      ],
      "execution_count": 6,
      "outputs": []
    },
    {
      "cell_type": "code",
      "metadata": {
        "id": "4delS5zPyh-u",
        "colab_type": "code",
        "colab": {}
      },
      "source": [
        "def encode_data(df, text_field):\n",
        "    encoded_data_train = tokenizer.batch_encode_plus(\n",
        "        df[df.data_type=='train'][text_field].values, \n",
        "        add_special_tokens=True, \n",
        "        return_attention_mask=True, \n",
        "        pad_to_max_length=True, \n",
        "        max_length=256, \n",
        "        return_tensors='pt'\n",
        "        )\n",
        "\n",
        "    encoded_data_val = tokenizer.batch_encode_plus(\n",
        "        df[df.data_type=='val'][text_field].values, \n",
        "        add_special_tokens=True, \n",
        "        return_attention_mask=True, \n",
        "        pad_to_max_length=True, \n",
        "        max_length=256, \n",
        "        return_tensors='pt'\n",
        "        )\n",
        "\n",
        "\n",
        "    input_ids_train = encoded_data_train['input_ids']\n",
        "    attention_masks_train = encoded_data_train['attention_mask']\n",
        "    labels_train = torch.tensor(df[df.data_type=='train'].label.values)\n",
        "\n",
        "    input_ids_val = encoded_data_val['input_ids']\n",
        "    attention_masks_val = encoded_data_val['attention_mask']\n",
        "    labels_val = torch.tensor(df[df.data_type=='val'].label.values)\n",
        "\n",
        "    return input_ids_train, attention_masks_train, labels_train, input_ids_val, attention_masks_val, labels_val\n",
        "\n",
        "\n",
        "\n",
        "def create_dataloaders(input_ids_train, attention_masks_train, labels_train, input_ids_val, attention_masks_val, labels_val, batch_size = 32):\n",
        "    dataset_train = TensorDataset(input_ids_train, attention_masks_train, labels_train)\n",
        "    dataset_val = TensorDataset(input_ids_val, attention_masks_val, labels_val)\n",
        "\n",
        "    dataloader_train = DataLoader(dataset_train, \n",
        "                              #sampler=RandomSampler(dataset_train), \n",
        "                              sampler=ImbalancedDatasetSampler(dataset_train, callback_get_label = get_label_cb),\n",
        "                              batch_size=batch_size)\n",
        "\n",
        "    dataloader_validation = DataLoader(dataset_val, \n",
        "                                   sampler=SequentialSampler(dataset_val), \n",
        "                                   batch_size=batch_size)\n",
        "  \n",
        "    return dataloader_train, dataloader_validation\n",
        "\n",
        "def process_data(data):\n",
        "    df = data.sample(num_samples)\n",
        "    df.discharge.value_counts()\n",
        "    label_dict = {'discharge':0, 'admit':1}; label_dict\n",
        "    df['label'] = df.discharge.replace(label_dict)\n",
        "    df['text'] = df['CleanSubjectiveNotes'].map(str) + ', ' + df['pmhx'].map(str)\n",
        "    df = df[['discharge', 'label', 'text']]\n",
        "    display(df.head())\n",
        "    \n",
        "    return df, label_dict\n",
        "\n",
        "\n",
        "def split_data(df, test_size=0.1):\n",
        "    X_train, X_val, y_train, y_val = train_test_split(df.index.values, \n",
        "                                                  df.label.values, \n",
        "                                                  test_size=test_size, \n",
        "                                                  random_state=17, \n",
        "                                                  stratify=df.label.values)\n",
        "    \n",
        "    # this field is done for creating a balanced training portion of the dataset\n",
        "    #pos_training_examples = [[x[0],x[1]] for x in list(zip(X_train, y_train)) if x[1] == 1]\n",
        "    #neg_training_examples = [[x[0], x[1]] for x in list(zip(X_train, y_train)) if x[1] == 0]\n",
        "    #neg_train_subset = random.sample(list(neg_training_examples), len(pos_training_examples))\n",
        "    #new_train_set = pos_training_examples + neg_train_subset\n",
        "    #X_train = np.array(new_train_set)[:,0]\n",
        "    #y_train = np.array(new_train_set)[:,1]\n",
        "    \n",
        "    \n",
        "    df['data_type'] = ['not_set']*df.shape[0]\n",
        "    df.loc[X_train, 'data_type'] = 'train'\n",
        "    df.loc[X_val, 'data_type'] = 'val'\n",
        "    #df = df[df['data_type'] != 'not set']  #new \n",
        "    \n",
        "    display(df.groupby(['discharge', 'label', 'data_type']).count())\n",
        "    \n",
        "    return X_train, X_val, y_train, y_val"
      ],
      "execution_count": 8,
      "outputs": []
    },
    {
      "cell_type": "code",
      "metadata": {
        "id": "X6iDA-gkzHXu",
        "colab_type": "code",
        "colab": {}
      },
      "source": [
        "#set directories\n",
        "data_dir = '/content/drive/My Drive/machine_learning/ed_triage/'\n",
        "model_dir = '/content/drive/My Drive/ML_data/models/'"
      ],
      "execution_count": 9,
      "outputs": []
    },
    {
      "cell_type": "code",
      "metadata": {
        "id": "AK3c3LeUzYdz",
        "colab_type": "code",
        "colab": {
          "base_uri": "https://localhost:8080/",
          "height": 817
        },
        "outputId": "5ed32a51-da8a-482c-f97d-159a463e4120"
      },
      "source": [
        "#loads result dataframe or initializes an empty one\n",
        "try:\n",
        "    results_df = pd.read_csv(data_dir + 'results.csv', index_col = 0)\n",
        "except:\n",
        "    results_df = pd.DataFrame(columns = ['experiment description', 'num samples', 'weighting', 'f1w', 'acc', 'auroc', 'ppv', 'sens', 'batch size'])\n",
        "\n",
        "results_df.index = list(range(len(results_df)))   #to clean the index \n",
        "results_df"
      ],
      "execution_count": 10,
      "outputs": [
        {
          "output_type": "execute_result",
          "data": {
            "text/html": [
              "<div>\n",
              "<style scoped>\n",
              "    .dataframe tbody tr th:only-of-type {\n",
              "        vertical-align: middle;\n",
              "    }\n",
              "\n",
              "    .dataframe tbody tr th {\n",
              "        vertical-align: top;\n",
              "    }\n",
              "\n",
              "    .dataframe thead th {\n",
              "        text-align: right;\n",
              "    }\n",
              "</style>\n",
              "<table border=\"1\" class=\"dataframe\">\n",
              "  <thead>\n",
              "    <tr style=\"text-align: right;\">\n",
              "      <th></th>\n",
              "      <th>experiment description</th>\n",
              "      <th>num samples</th>\n",
              "      <th>weighting</th>\n",
              "      <th>f1w</th>\n",
              "      <th>acc</th>\n",
              "      <th>auroc</th>\n",
              "      <th>ppv</th>\n",
              "      <th>sens</th>\n",
              "      <th>batch size</th>\n",
              "    </tr>\n",
              "  </thead>\n",
              "  <tbody>\n",
              "    <tr>\n",
              "      <th>0</th>\n",
              "      <td>tiny test dataset</td>\n",
              "      <td>1000</td>\n",
              "      <td>NaN</td>\n",
              "      <td>0.831008</td>\n",
              "      <td>0.885000</td>\n",
              "      <td>0.558339</td>\n",
              "      <td>0.000000</td>\n",
              "      <td>NaN</td>\n",
              "      <td>32</td>\n",
              "    </tr>\n",
              "    <tr>\n",
              "      <th>1</th>\n",
              "      <td>larger test dataset, only subj notes</td>\n",
              "      <td>10000</td>\n",
              "      <td>NaN</td>\n",
              "      <td>0.854283</td>\n",
              "      <td>0.899500</td>\n",
              "      <td>0.780036</td>\n",
              "      <td>0.010000</td>\n",
              "      <td>0.400000</td>\n",
              "      <td>32</td>\n",
              "    </tr>\n",
              "    <tr>\n",
              "      <th>2</th>\n",
              "      <td>larger test dataset, only subj notes</td>\n",
              "      <td>50000</td>\n",
              "      <td>NaN</td>\n",
              "      <td>0.876438</td>\n",
              "      <td>0.896900</td>\n",
              "      <td>0.795039</td>\n",
              "      <td>0.178138</td>\n",
              "      <td>0.445570</td>\n",
              "      <td>32</td>\n",
              "    </tr>\n",
              "    <tr>\n",
              "      <th>3</th>\n",
              "      <td>larger test dataset, only subj notes</td>\n",
              "      <td>100000</td>\n",
              "      <td>NaN</td>\n",
              "      <td>0.876970</td>\n",
              "      <td>0.901000</td>\n",
              "      <td>0.807763</td>\n",
              "      <td>0.155172</td>\n",
              "      <td>0.493548</td>\n",
              "      <td>32</td>\n",
              "    </tr>\n",
              "    <tr>\n",
              "      <th>4</th>\n",
              "      <td>50k repr samples, both nlp fields</td>\n",
              "      <td>50000</td>\n",
              "      <td>NaN</td>\n",
              "      <td>0.881214</td>\n",
              "      <td>0.895400</td>\n",
              "      <td>0.798594</td>\n",
              "      <td>0.237219</td>\n",
              "      <td>0.436090</td>\n",
              "      <td>16</td>\n",
              "    </tr>\n",
              "    <tr>\n",
              "      <th>5</th>\n",
              "      <td>weighted loss, both nlp fields</td>\n",
              "      <td>50000</td>\n",
              "      <td>{'discharge': 8, 'admit': 1}</td>\n",
              "      <td>0.865623</td>\n",
              "      <td>0.901200</td>\n",
              "      <td>0.808986</td>\n",
              "      <td>0.070281</td>\n",
              "      <td>0.530303</td>\n",
              "      <td>16</td>\n",
              "    </tr>\n",
              "    <tr>\n",
              "      <th>6</th>\n",
              "      <td>first try  lamb, both nlp fields</td>\n",
              "      <td>10000</td>\n",
              "      <td>NaN</td>\n",
              "      <td>0.876643</td>\n",
              "      <td>0.895000</td>\n",
              "      <td>0.788044</td>\n",
              "      <td>0.200000</td>\n",
              "      <td>0.444444</td>\n",
              "      <td>16</td>\n",
              "    </tr>\n",
              "    <tr>\n",
              "      <th>7</th>\n",
              "      <td>mixed prec, adults only, lamb</td>\n",
              "      <td>100000</td>\n",
              "      <td>NaN</td>\n",
              "      <td>0.877511</td>\n",
              "      <td>0.890000</td>\n",
              "      <td>0.824240</td>\n",
              "      <td>0.276190</td>\n",
              "      <td>0.460317</td>\n",
              "      <td>32</td>\n",
              "    </tr>\n",
              "    <tr>\n",
              "      <th>8</th>\n",
              "      <td>mixed prec, bch only, lamb</td>\n",
              "      <td>102128</td>\n",
              "      <td>NaN</td>\n",
              "      <td>0.885827</td>\n",
              "      <td>0.900519</td>\n",
              "      <td>0.802072</td>\n",
              "      <td>0.233230</td>\n",
              "      <td>0.452906</td>\n",
              "      <td>64</td>\n",
              "    </tr>\n",
              "    <tr>\n",
              "      <th>9</th>\n",
              "      <td>mixed prec, bch only, lamb</td>\n",
              "      <td>50000</td>\n",
              "      <td>NaN</td>\n",
              "      <td>0.859869</td>\n",
              "      <td>0.905000</td>\n",
              "      <td>0.500000</td>\n",
              "      <td>0.000000</td>\n",
              "      <td>NaN</td>\n",
              "      <td>16</td>\n",
              "    </tr>\n",
              "    <tr>\n",
              "      <th>10</th>\n",
              "      <td>label smoothing</td>\n",
              "      <td>500</td>\n",
              "      <td>NaN</td>\n",
              "      <td>0.823830</td>\n",
              "      <td>0.880000</td>\n",
              "      <td>0.481061</td>\n",
              "      <td>0.000000</td>\n",
              "      <td>NaN</td>\n",
              "      <td>32</td>\n",
              "    </tr>\n",
              "    <tr>\n",
              "      <th>11</th>\n",
              "      <td>clean start, mixed prec, wd</td>\n",
              "      <td>50000</td>\n",
              "      <td>NaN</td>\n",
              "      <td>0.853210</td>\n",
              "      <td>0.900400</td>\n",
              "      <td>0.500000</td>\n",
              "      <td>0.000000</td>\n",
              "      <td>NaN</td>\n",
              "      <td>16</td>\n",
              "    </tr>\n",
              "    <tr>\n",
              "      <th>12</th>\n",
              "      <td>clean start, lamb, wd</td>\n",
              "      <td>1000</td>\n",
              "      <td>NaN</td>\n",
              "      <td>0.852632</td>\n",
              "      <td>0.900000</td>\n",
              "      <td>0.503333</td>\n",
              "      <td>0.000000</td>\n",
              "      <td>NaN</td>\n",
              "      <td>16</td>\n",
              "    </tr>\n",
              "    <tr>\n",
              "      <th>13</th>\n",
              "      <td>balanced sampler, gpu2</td>\n",
              "      <td>25000</td>\n",
              "      <td>tensor([1., 9.], device='cuda:0', dtype=torch.float16)</td>\n",
              "      <td>0.018182</td>\n",
              "      <td>0.100000</td>\n",
              "      <td>0.498731</td>\n",
              "      <td>1.000000</td>\n",
              "      <td>0.100000</td>\n",
              "      <td>16</td>\n",
              "    </tr>\n",
              "    <tr>\n",
              "      <th>14</th>\n",
              "      <td>balanced sampler, no class weights</td>\n",
              "      <td>25000</td>\n",
              "      <td>NaN</td>\n",
              "      <td>0.852632</td>\n",
              "      <td>0.900000</td>\n",
              "      <td>0.534524</td>\n",
              "      <td>0.000000</td>\n",
              "      <td>NaN</td>\n",
              "      <td>16</td>\n",
              "    </tr>\n",
              "    <tr>\n",
              "      <th>15</th>\n",
              "      <td>balanced sampler, no class weights</td>\n",
              "      <td>25000</td>\n",
              "      <td>NaN</td>\n",
              "      <td>0.018182</td>\n",
              "      <td>0.100000</td>\n",
              "      <td>0.521322</td>\n",
              "      <td>1.000000</td>\n",
              "      <td>0.100000</td>\n",
              "      <td>16</td>\n",
              "    </tr>\n",
              "  </tbody>\n",
              "</table>\n",
              "</div>"
            ],
            "text/plain": [
              "                  experiment description  num samples  ...      sens  batch size\n",
              "0                      tiny test dataset         1000  ...       NaN          32\n",
              "1   larger test dataset, only subj notes        10000  ...  0.400000          32\n",
              "2   larger test dataset, only subj notes        50000  ...  0.445570          32\n",
              "3   larger test dataset, only subj notes       100000  ...  0.493548          32\n",
              "4      50k repr samples, both nlp fields        50000  ...  0.436090          16\n",
              "5         weighted loss, both nlp fields        50000  ...  0.530303          16\n",
              "6       first try  lamb, both nlp fields        10000  ...  0.444444          16\n",
              "7          mixed prec, adults only, lamb       100000  ...  0.460317          32\n",
              "8             mixed prec, bch only, lamb       102128  ...  0.452906          64\n",
              "9             mixed prec, bch only, lamb        50000  ...       NaN          16\n",
              "10                       label smoothing          500  ...       NaN          32\n",
              "11           clean start, mixed prec, wd        50000  ...       NaN          16\n",
              "12                 clean start, lamb, wd         1000  ...       NaN          16\n",
              "13                balanced sampler, gpu2        25000  ...  0.100000          16\n",
              "14    balanced sampler, no class weights        25000  ...       NaN          16\n",
              "15    balanced sampler, no class weights        25000  ...  0.100000          16\n",
              "\n",
              "[16 rows x 9 columns]"
            ]
          },
          "metadata": {
            "tags": []
          },
          "execution_count": 10
        }
      ]
    },
    {
      "cell_type": "code",
      "metadata": {
        "id": "kNKcGQj6zY1B",
        "colab_type": "code",
        "colab": {}
      },
      "source": [
        "data = pd.read_csv(data_dir + 'nlp_combo_data.csv', index_col = 0)"
      ],
      "execution_count": 11,
      "outputs": []
    },
    {
      "cell_type": "code",
      "metadata": {
        "id": "90omE8gxznmj",
        "colab_type": "code",
        "colab": {
          "base_uri": "https://localhost:8080/",
          "height": 632
        },
        "outputId": "5f4d2062-ce94-431d-d2ab-11a517a10ab3"
      },
      "source": [
        "data.head()"
      ],
      "execution_count": 13,
      "outputs": [
        {
          "output_type": "execute_result",
          "data": {
            "text/html": [
              "<div>\n",
              "<style scoped>\n",
              "    .dataframe tbody tr th:only-of-type {\n",
              "        vertical-align: middle;\n",
              "    }\n",
              "\n",
              "    .dataframe tbody tr th {\n",
              "        vertical-align: top;\n",
              "    }\n",
              "\n",
              "    .dataframe thead th {\n",
              "        text-align: right;\n",
              "    }\n",
              "</style>\n",
              "<table border=\"1\" class=\"dataframe\">\n",
              "  <thead>\n",
              "    <tr style=\"text-align: right;\">\n",
              "      <th></th>\n",
              "      <th>CleanSubjectiveNotes</th>\n",
              "      <th>pmhx</th>\n",
              "      <th>num_comorbids</th>\n",
              "      <th>outcome</th>\n",
              "      <th>target</th>\n",
              "      <th>service</th>\n",
              "      <th>target2</th>\n",
              "      <th>discharge</th>\n",
              "      <th>target3</th>\n",
              "      <th>dispo</th>\n",
              "      <th>target4</th>\n",
              "      <th>ICUvsother</th>\n",
              "      <th>target5</th>\n",
              "      <th>site</th>\n",
              "    </tr>\n",
              "  </thead>\n",
              "  <tbody>\n",
              "    <tr>\n",
              "      <th>0</th>\n",
              "      <td>patient states that she feels shaky patient denies any pain</td>\n",
              "      <td>no significant medical history</td>\n",
              "      <td>0</td>\n",
              "      <td>discharge</td>\n",
              "      <td>1</td>\n",
              "      <td>discharge</td>\n",
              "      <td>1</td>\n",
              "      <td>discharge</td>\n",
              "      <td>1</td>\n",
              "      <td>NaN</td>\n",
              "      <td>NaN</td>\n",
              "      <td>NaN</td>\n",
              "      <td>0</td>\n",
              "      <td>BCH</td>\n",
              "    </tr>\n",
              "    <tr>\n",
              "      <th>1</th>\n",
              "      <td>patient states no pain</td>\n",
              "      <td>no significant medical history</td>\n",
              "      <td>0</td>\n",
              "      <td>discharge</td>\n",
              "      <td>1</td>\n",
              "      <td>discharge</td>\n",
              "      <td>1</td>\n",
              "      <td>discharge</td>\n",
              "      <td>1</td>\n",
              "      <td>NaN</td>\n",
              "      <td>NaN</td>\n",
              "      <td>NaN</td>\n",
              "      <td>0</td>\n",
              "      <td>BCH</td>\n",
              "    </tr>\n",
              "    <tr>\n",
              "      <th>2</th>\n",
              "      <td>denied chest pain</td>\n",
              "      <td>no significant medical history</td>\n",
              "      <td>0</td>\n",
              "      <td>discharge</td>\n",
              "      <td>1</td>\n",
              "      <td>discharge</td>\n",
              "      <td>1</td>\n",
              "      <td>discharge</td>\n",
              "      <td>1</td>\n",
              "      <td>NaN</td>\n",
              "      <td>NaN</td>\n",
              "      <td>NaN</td>\n",
              "      <td>0</td>\n",
              "      <td>BCH</td>\n",
              "    </tr>\n",
              "    <tr>\n",
              "      <th>3</th>\n",
              "      <td>denies pain eating emergency department lunch at triage</td>\n",
              "      <td>dialysis haemo, type one diabetes, chronic renal failure, heart problem, high cholesterol</td>\n",
              "      <td>5</td>\n",
              "      <td>discharge</td>\n",
              "      <td>1</td>\n",
              "      <td>discharge</td>\n",
              "      <td>1</td>\n",
              "      <td>discharge</td>\n",
              "      <td>1</td>\n",
              "      <td>NaN</td>\n",
              "      <td>NaN</td>\n",
              "      <td>NaN</td>\n",
              "      <td>0</td>\n",
              "      <td>BCH</td>\n",
              "    </tr>\n",
              "    <tr>\n",
              "      <th>4</th>\n",
              "      <td>patient complains of pain on the left wrist and left ankle no obvious deformity with minor laceration in between left thumb and 2nd digit left finger</td>\n",
              "      <td>fibromyalgia</td>\n",
              "      <td>1</td>\n",
              "      <td>discharge</td>\n",
              "      <td>1</td>\n",
              "      <td>discharge</td>\n",
              "      <td>1</td>\n",
              "      <td>discharge</td>\n",
              "      <td>1</td>\n",
              "      <td>NaN</td>\n",
              "      <td>NaN</td>\n",
              "      <td>NaN</td>\n",
              "      <td>0</td>\n",
              "      <td>BCH</td>\n",
              "    </tr>\n",
              "  </tbody>\n",
              "</table>\n",
              "</div>"
            ],
            "text/plain": [
              "                                                                                                                                     CleanSubjectiveNotes  ... site\n",
              "0                                                                                            patient states that she feels shaky patient denies any pain   ...  BCH\n",
              "1                                                                                                                                 patient states no pain   ...  BCH\n",
              "2                                                                                                                                       denied chest pain  ...  BCH\n",
              "3                                                                                                 denies pain eating emergency department lunch at triage  ...  BCH\n",
              "4  patient complains of pain on the left wrist and left ankle no obvious deformity with minor laceration in between left thumb and 2nd digit left finger   ...  BCH\n",
              "\n",
              "[5 rows x 14 columns]"
            ]
          },
          "metadata": {
            "tags": []
          },
          "execution_count": 13
        }
      ]
    },
    {
      "cell_type": "code",
      "metadata": {
        "id": "USgL10-VdAsa",
        "colab_type": "code",
        "colab": {
          "base_uri": "https://localhost:8080/",
          "height": 34
        },
        "outputId": "9ab633be-1c78-41ad-ff5c-58b8eca7c0b1"
      },
      "source": [
        "len(data)"
      ],
      "execution_count": 14,
      "outputs": [
        {
          "output_type": "execute_result",
          "data": {
            "text/plain": [
              "165268"
            ]
          },
          "metadata": {
            "tags": []
          },
          "execution_count": 14
        }
      ]
    },
    {
      "cell_type": "code",
      "metadata": {
        "id": "ixymX5cZzpt_",
        "colab_type": "code",
        "colab": {
          "base_uri": "https://localhost:8080/",
          "height": 374
        },
        "outputId": "fe6241fa-2052-4a84-e183-d8b7d77da8a2"
      },
      "source": [
        "num_samples = 165268\n",
        "df, label_dict = process_data(data)"
      ],
      "execution_count": 15,
      "outputs": [
        {
          "output_type": "display_data",
          "data": {
            "text/html": [
              "<div>\n",
              "<style scoped>\n",
              "    .dataframe tbody tr th:only-of-type {\n",
              "        vertical-align: middle;\n",
              "    }\n",
              "\n",
              "    .dataframe tbody tr th {\n",
              "        vertical-align: top;\n",
              "    }\n",
              "\n",
              "    .dataframe thead th {\n",
              "        text-align: right;\n",
              "    }\n",
              "</style>\n",
              "<table border=\"1\" class=\"dataframe\">\n",
              "  <thead>\n",
              "    <tr style=\"text-align: right;\">\n",
              "      <th></th>\n",
              "      <th>discharge</th>\n",
              "      <th>label</th>\n",
              "      <th>text</th>\n",
              "    </tr>\n",
              "  </thead>\n",
              "  <tbody>\n",
              "    <tr>\n",
              "      <th>86125</th>\n",
              "      <td>discharge</td>\n",
              "      <td>0</td>\n",
              "      <td>patient does heavy lifting at work yesterday while at work felt sudden pain to right upper back pain took advil for same no releif patient denies any fall, no significant medical history, no significant medical history</td>\n",
              "    </tr>\n",
              "    <tr>\n",
              "      <th>16376</th>\n",
              "      <td>admit</td>\n",
              "      <td>1</td>\n",
              "      <td>diarrhea multiple times from yesterday no vomiting voiding well complains of abdominal pain discharge from hospital on 30 may, hypertension, heart, stroke, type two diabetes, high cholesterol, stents</td>\n",
              "    </tr>\n",
              "    <tr>\n",
              "      <th>50147</th>\n",
              "      <td>discharge</td>\n",
              "      <td>0</td>\n",
              "      <td>gout to left great toe pain having pain since last saturday morning , no significant medical history</td>\n",
              "    </tr>\n",
              "    <tr>\n",
              "      <th>163273</th>\n",
              "      <td>discharge</td>\n",
              "      <td>0</td>\n",
              "      <td>neck pain for 3 days radiating to the head neck feels stiff no fever no cough seen by family physician given naproxen but not helping states feels heaviness in eyes and head complains of nausea but no vomiting, no significant medical history</td>\n",
              "    </tr>\n",
              "    <tr>\n",
              "      <th>81606</th>\n",
              "      <td>discharge</td>\n",
              "      <td>0</td>\n",
              "      <td>as per mom child has been having fever since thursday that has been treating alternating with tylenol and advil temp as high as 103 sore throat that started on friday and squeaking when crying mom also states that child was twitching a little last night and more lethargic that usual decrease intake and voiding less than normal change 3 diaper this morning immunization up to date , no significant medical history</td>\n",
              "    </tr>\n",
              "  </tbody>\n",
              "</table>\n",
              "</div>"
            ],
            "text/plain": [
              "        discharge  ...                                                                                                                                                                                                                                                                                                                                                                                                                            text\n",
              "86125   discharge  ...                                                                                                                                                                                                      patient does heavy lifting at work yesterday while at work felt sudden pain to right upper back pain took advil for same no releif patient denies any fall, no significant medical history, no significant medical history\n",
              "16376       admit  ...                                                                                                                                                                                                                         diarrhea multiple times from yesterday no vomiting voiding well complains of abdominal pain discharge from hospital on 30 may, hypertension, heart, stroke, type two diabetes, high cholesterol, stents\n",
              "50147   discharge  ...                                                                                                                                                                                                                                                                                                                            gout to left great toe pain having pain since last saturday morning , no significant medical history\n",
              "163273  discharge  ...                                                                                                                                                                               neck pain for 3 days radiating to the head neck feels stiff no fever no cough seen by family physician given naproxen but not helping states feels heaviness in eyes and head complains of nausea but no vomiting, no significant medical history\n",
              "81606   discharge  ...  as per mom child has been having fever since thursday that has been treating alternating with tylenol and advil temp as high as 103 sore throat that started on friday and squeaking when crying mom also states that child was twitching a little last night and more lethargic that usual decrease intake and voiding less than normal change 3 diaper this morning immunization up to date , no significant medical history\n",
              "\n",
              "[5 rows x 3 columns]"
            ]
          },
          "metadata": {
            "tags": []
          }
        }
      ]
    },
    {
      "cell_type": "code",
      "metadata": {
        "id": "ct37oMI3S7YC",
        "colab_type": "code",
        "colab": {
          "base_uri": "https://localhost:8080/",
          "height": 17
        },
        "outputId": "ead9697b-f82a-4c79-8ce4-8e49fc6be5d0"
      },
      "source": [
        "dls_lm = TextDataLoaders.from_df(df, text_col = 2, label_col =0, is_lm = True, valid_pct = 0.1, seq_len = 96, bs = 64)"
      ],
      "execution_count": 16,
      "outputs": [
        {
          "output_type": "display_data",
          "data": {
            "text/html": [
              ""
            ],
            "text/plain": [
              "<IPython.core.display.HTML object>"
            ]
          },
          "metadata": {
            "tags": []
          }
        }
      ]
    },
    {
      "cell_type": "code",
      "metadata": {
        "id": "pj-GfhmYTH8C",
        "colab_type": "code",
        "colab": {
          "base_uri": "https://localhost:8080/",
          "height": 918
        },
        "outputId": "c8b8c2f3-0b15-4916-c653-804ecb74bede"
      },
      "source": [
        "dls_lm.show_batch(max_n=5)"
      ],
      "execution_count": 17,
      "outputs": [
        {
          "output_type": "display_data",
          "data": {
            "text/html": [
              "<table border=\"1\" class=\"dataframe\">\n",
              "  <thead>\n",
              "    <tr style=\"text-align: right;\">\n",
              "      <th></th>\n",
              "      <th>text</th>\n",
              "      <th>text_</th>\n",
              "    </tr>\n",
              "  </thead>\n",
              "  <tbody>\n",
              "    <tr>\n",
              "      <th>0</th>\n",
              "      <td>xxbos patient woke up with palpitations 20 minutes ago reporting slight mid sternal chest pain and shortness of breath feels bit dizzy and nauseous no vomiting was seen by family doctor yesterday ecg done and was normal had similar episodes 3 months ago was investigated and told everything is normal , palpitations xxbos patient had vaginal delivery on feb 7th and was seen in emergency room for headache and nausea a on wednesday went to family doctor today and protein was detected in her urine complains of discomfort to urq of abdomen patient continue to have</td>\n",
              "      <td>patient woke up with palpitations 20 minutes ago reporting slight mid sternal chest pain and shortness of breath feels bit dizzy and nauseous no vomiting was seen by family doctor yesterday ecg done and was normal had similar episodes 3 months ago was investigated and told everything is normal , palpitations xxbos patient had vaginal delivery on feb 7th and was seen in emergency room for headache and nausea a on wednesday went to family doctor today and protein was detected in her urine complains of discomfort to urq of abdomen patient continue to have post</td>\n",
              "    </tr>\n",
              "    <tr>\n",
              "      <th>1</th>\n",
              "      <td>taking a prescription tylenol with null relief last dose was taken about 3 hours ago also complains of onset of headache since yesterday patient states he had radiation april for tumor at the back of the right eye complains of headache at present , breast cancer , head tumor xxbos patient fell this morning onto left hand patient states shooting pain to fingers unable to move 3rd and 4th digit bruising to middle of hand , sleep apnea , hypothyroid xxbos patient was seen in emergency room sunday morning for shortness of breath patient was asked</td>\n",
              "      <td>a prescription tylenol with null relief last dose was taken about 3 hours ago also complains of onset of headache since yesterday patient states he had radiation april for tumor at the back of the right eye complains of headache at present , breast cancer , head tumor xxbos patient fell this morning onto left hand patient states shooting pain to fingers unable to move 3rd and 4th digit bruising to middle of hand , sleep apnea , hypothyroid xxbos patient was seen in emergency room sunday morning for shortness of breath patient was asked to</td>\n",
              "    </tr>\n",
              "    <tr>\n",
              "      <th>2</th>\n",
              "      <td>0700 complains of nausea loose stool x1 yesterday fever and cough since friday last menstrual period sept 6 12 denies urinary tract infection complaints , no significant medical history xxbos patient was playing soccer yesterday and fell complains of pain to right knee since then states swelling to knee ambulating with cane able to wiggle toes swelling noted to knee decrease rom to knee , no significant medical history xxbos complains of headache and body pain , no significant medical history xxbos patient 9 weeks gestation g1p0 having spotting x 2 days denies pain vomitting feels</td>\n",
              "      <td>complains of nausea loose stool x1 yesterday fever and cough since friday last menstrual period sept 6 12 denies urinary tract infection complaints , no significant medical history xxbos patient was playing soccer yesterday and fell complains of pain to right knee since then states swelling to knee ambulating with cane able to wiggle toes swelling noted to knee decrease rom to knee , no significant medical history xxbos complains of headache and body pain , no significant medical history xxbos patient 9 weeks gestation g1p0 having spotting x 2 days denies pain vomitting feels constipated</td>\n",
              "    </tr>\n",
              "    <tr>\n",
              "      <th>3</th>\n",
              "      <td>last menstrual period 1 wk ago was heavy as well patient has good colour , low blood pressure xxbos chest pain shortness of breath and cough with green phlegm , spinal cord injury , emphysema , chronic obstructive pulmonary , indwelling catheter xxbos patient complains of intermittent left groin pain radiates down left leg x approx 6 weeks pain is now constant x 1 week and is more severe patient states she is dizzy at times normal voiding / bowel movements states last menstrual period was lighter and shorter in duration than normal and has noticed</td>\n",
              "      <td>menstrual period 1 wk ago was heavy as well patient has good colour , low blood pressure xxbos chest pain shortness of breath and cough with green phlegm , spinal cord injury , emphysema , chronic obstructive pulmonary , indwelling catheter xxbos patient complains of intermittent left groin pain radiates down left leg x approx 6 weeks pain is now constant x 1 week and is more severe patient states she is dizzy at times normal voiding / bowel movements states last menstrual period was lighter and shorter in duration than normal and has noticed unusual</td>\n",
              "    </tr>\n",
              "    <tr>\n",
              "      <th>4</th>\n",
              "      <td>years ago , diabetes , high cholesterol , cardiac stenosis took , hypertension xxbos patient accomp with mom as per mom patient has generalized abdominal pain since 2 days and progressively getting worse as per mom patient patient from sleep got up and vomited juice and mucous as per mom has vomited x3 in 24 hours chest clear last advil given at 00 00 hours no nausea at present , asthma xxbos as per sons translation patient got up from bed felt dizzy and fell onto left leg last night denies head injury patient denies chest</td>\n",
              "      <td>ago , diabetes , high cholesterol , cardiac stenosis took , hypertension xxbos patient accomp with mom as per mom patient has generalized abdominal pain since 2 days and progressively getting worse as per mom patient patient from sleep got up and vomited juice and mucous as per mom has vomited x3 in 24 hours chest clear last advil given at 00 00 hours no nausea at present , asthma xxbos as per sons translation patient got up from bed felt dizzy and fell onto left leg last night denies head injury patient denies chest pain</td>\n",
              "    </tr>\n",
              "  </tbody>\n",
              "</table>"
            ],
            "text/plain": [
              "<IPython.core.display.HTML object>"
            ]
          },
          "metadata": {
            "tags": []
          }
        }
      ]
    },
    {
      "cell_type": "code",
      "metadata": {
        "id": "PmvrrXA7TROw",
        "colab_type": "code",
        "colab": {
          "base_uri": "https://localhost:8080/",
          "height": 17
        },
        "outputId": "e99942e4-d6e2-4621-d507-ec8b84455fec"
      },
      "source": [
        "learn = language_model_learner(dls_lm, AWD_LSTM, metrics=[accuracy, Perplexity()], wd=0.1).to_fp16()"
      ],
      "execution_count": 18,
      "outputs": [
        {
          "output_type": "display_data",
          "data": {
            "text/html": [
              ""
            ],
            "text/plain": [
              "<IPython.core.display.HTML object>"
            ]
          },
          "metadata": {
            "tags": []
          }
        }
      ]
    },
    {
      "cell_type": "code",
      "metadata": {
        "id": "b6tG7BfMTYoV",
        "colab_type": "code",
        "colab": {
          "base_uri": "https://localhost:8080/",
          "height": 185
        },
        "outputId": "abdcac7a-ca78-40d3-9af4-33b06d5adbb9"
      },
      "source": [
        "learn.fit_one_cycle(1, 1e-2)"
      ],
      "execution_count": 19,
      "outputs": [
        {
          "output_type": "display_data",
          "data": {
            "text/html": [
              "<table border=\"1\" class=\"dataframe\">\n",
              "  <thead>\n",
              "    <tr style=\"text-align: left;\">\n",
              "      <th>epoch</th>\n",
              "      <th>train_loss</th>\n",
              "      <th>valid_loss</th>\n",
              "      <th>accuracy</th>\n",
              "      <th>perplexity</th>\n",
              "      <th>time</th>\n",
              "    </tr>\n",
              "  </thead>\n",
              "  <tbody>\n",
              "    <tr>\n",
              "      <td>0</td>\n",
              "      <td>3.739125</td>\n",
              "      <td>3.360719</td>\n",
              "      <td>0.354971</td>\n",
              "      <td>28.809904</td>\n",
              "      <td>04:38</td>\n",
              "    </tr>\n",
              "  </tbody>\n",
              "</table>"
            ],
            "text/plain": [
              "<IPython.core.display.HTML object>"
            ]
          },
          "metadata": {
            "tags": []
          }
        },
        {
          "output_type": "stream",
          "text": [
            "/usr/local/lib/python3.6/dist-packages/fastai2/callback/schedule.py:68: UserWarning: This overload of nonzero is deprecated:\n",
            "\tnonzero()\n",
            "Consider using one of the following signatures instead:\n",
            "\tnonzero(*, bool as_tuple) (Triggered internally at  /pytorch/torch/csrc/utils/python_arg_parser.cpp:766.)\n",
            "  idx = (pos >= pcts).nonzero().max()\n"
          ],
          "name": "stderr"
        }
      ]
    },
    {
      "cell_type": "code",
      "metadata": {
        "id": "XgjRlgADTgKX",
        "colab_type": "code",
        "colab": {}
      },
      "source": [
        "learn.save('1epoch')"
      ],
      "execution_count": 20,
      "outputs": []
    },
    {
      "cell_type": "code",
      "metadata": {
        "id": "9u71DGMBVNLG",
        "colab_type": "code",
        "colab": {
          "base_uri": "https://localhost:8080/",
          "height": 157
        },
        "outputId": "99005ebf-ae08-4d08-eb94-a91162a5e113"
      },
      "source": [
        "learn.unfreeze()\n",
        "learn.fit_one_cycle(10, 1e-3)"
      ],
      "execution_count": null,
      "outputs": [
        {
          "output_type": "display_data",
          "data": {
            "text/html": [
              "\n",
              "    <div>\n",
              "        <style>\n",
              "            /* Turns off some styling */\n",
              "            progress {\n",
              "                /* gets rid of default border in Firefox and Opera. */\n",
              "                border: none;\n",
              "                /* Needs to be in here for Safari polyfill so background images work as expected. */\n",
              "                background-size: auto;\n",
              "            }\n",
              "            .progress-bar-interrupted, .progress-bar-interrupted::-webkit-progress-bar {\n",
              "                background: #F44336;\n",
              "            }\n",
              "        </style>\n",
              "      <progress value='2' class='' max='10' style='width:300px; height:20px; vertical-align: middle;'></progress>\n",
              "      20.00% [2/10 10:07<40:29]\n",
              "    </div>\n",
              "    \n",
              "<table border=\"1\" class=\"dataframe\">\n",
              "  <thead>\n",
              "    <tr style=\"text-align: left;\">\n",
              "      <th>epoch</th>\n",
              "      <th>train_loss</th>\n",
              "      <th>valid_loss</th>\n",
              "      <th>accuracy</th>\n",
              "      <th>perplexity</th>\n",
              "      <th>time</th>\n",
              "    </tr>\n",
              "  </thead>\n",
              "  <tbody>\n",
              "    <tr>\n",
              "      <td>0</td>\n",
              "      <td>3.444212</td>\n",
              "      <td>3.165545</td>\n",
              "      <td>0.377296</td>\n",
              "      <td>23.701658</td>\n",
              "      <td>05:03</td>\n",
              "    </tr>\n",
              "    <tr>\n",
              "      <td>1</td>\n",
              "      <td>3.265207</td>\n",
              "      <td>3.017130</td>\n",
              "      <td>0.395537</td>\n",
              "      <td>20.432570</td>\n",
              "      <td>05:04</td>\n",
              "    </tr>\n",
              "  </tbody>\n",
              "</table><p>\n",
              "\n",
              "    <div>\n",
              "        <style>\n",
              "            /* Turns off some styling */\n",
              "            progress {\n",
              "                /* gets rid of default border in Firefox and Opera. */\n",
              "                border: none;\n",
              "                /* Needs to be in here for Safari polyfill so background images work as expected. */\n",
              "                background-size: auto;\n",
              "            }\n",
              "            .progress-bar-interrupted, .progress-bar-interrupted::-webkit-progress-bar {\n",
              "                background: #F44336;\n",
              "            }\n",
              "        </style>\n",
              "      <progress value='99' class='' max='1010' style='width:300px; height:20px; vertical-align: middle;'></progress>\n",
              "      9.80% [99/1010 00:28<04:18 3.2338]\n",
              "    </div>\n",
              "    "
            ],
            "text/plain": [
              "<IPython.core.display.HTML object>"
            ]
          },
          "metadata": {
            "tags": []
          }
        }
      ]
    },
    {
      "cell_type": "code",
      "metadata": {
        "id": "8aHhhi9j6ogL",
        "colab_type": "code",
        "colab": {}
      },
      "source": [
        "encoder = get_model(learn)[0]\n",
        "if hasattr(encoder, 'module'): encoder = encoder.module\n",
        "torch.save(encoder.state_dict(), model_dir + 'fastaiv2enc.pth')"
      ],
      "execution_count": null,
      "outputs": []
    },
    {
      "cell_type": "code",
      "metadata": {
        "id": "LZBMshT2VRM_",
        "colab_type": "code",
        "colab": {}
      },
      "source": [
        "learn.save_encoder('finetuned')"
      ],
      "execution_count": null,
      "outputs": []
    },
    {
      "cell_type": "code",
      "metadata": {
        "id": "5uvbBWCcVt6O",
        "colab_type": "code",
        "colab": {
          "base_uri": "https://localhost:8080/",
          "height": 17
        },
        "outputId": "1ac5be6e-5010-454e-f0f1-417582a342a6"
      },
      "source": [
        "dls_clas = TextDataLoaders.from_df(df, text_col = 2, label_col =0, text_vocab=dls_lm.vocab, seq_len = 128, bs = 32, valid_pct=0.1)"
      ],
      "execution_count": null,
      "outputs": [
        {
          "output_type": "display_data",
          "data": {
            "text/html": [
              ""
            ],
            "text/plain": [
              "<IPython.core.display.HTML object>"
            ]
          },
          "metadata": {
            "tags": []
          }
        }
      ]
    },
    {
      "cell_type": "code",
      "metadata": {
        "id": "aoNPe5AcV1t3",
        "colab_type": "code",
        "colab": {}
      },
      "source": [
        "learn = text_classifier_learner(dls_clas, AWD_LSTM, drop_mult=0.5, metrics=accuracy)"
      ],
      "execution_count": null,
      "outputs": []
    },
    {
      "cell_type": "code",
      "metadata": {
        "id": "dBamAH5GV6wF",
        "colab_type": "code",
        "colab": {}
      },
      "source": [
        "learn = learn.load_encoder('finetuned')"
      ],
      "execution_count": null,
      "outputs": []
    },
    {
      "cell_type": "code",
      "metadata": {
        "id": "vxjgiS6CV8lO",
        "colab_type": "code",
        "colab": {
          "base_uri": "https://localhost:8080/",
          "height": 80
        },
        "outputId": "1fad0963-f54d-47b6-90ee-0e2200c11625"
      },
      "source": [
        "learn.fit_one_cycle(1, 2e-2)"
      ],
      "execution_count": null,
      "outputs": [
        {
          "output_type": "display_data",
          "data": {
            "text/html": [
              "<table border=\"1\" class=\"dataframe\">\n",
              "  <thead>\n",
              "    <tr style=\"text-align: left;\">\n",
              "      <th>epoch</th>\n",
              "      <th>train_loss</th>\n",
              "      <th>valid_loss</th>\n",
              "      <th>accuracy</th>\n",
              "      <th>time</th>\n",
              "    </tr>\n",
              "  </thead>\n",
              "  <tbody>\n",
              "    <tr>\n",
              "      <td>0</td>\n",
              "      <td>0.394153</td>\n",
              "      <td>0.268434</td>\n",
              "      <td>0.901000</td>\n",
              "      <td>01:14</td>\n",
              "    </tr>\n",
              "  </tbody>\n",
              "</table>"
            ],
            "text/plain": [
              "<IPython.core.display.HTML object>"
            ]
          },
          "metadata": {
            "tags": []
          }
        }
      ]
    },
    {
      "cell_type": "code",
      "metadata": {
        "id": "U8me4DrHV-xJ",
        "colab_type": "code",
        "colab": {
          "base_uri": "https://localhost:8080/",
          "height": 80
        },
        "outputId": "565d92e5-0efc-4b91-ef42-8a15633b6e76"
      },
      "source": [
        "learn.freeze_to(-2)\n",
        "learn.fit_one_cycle(1, slice(1e-2/(2.6**4),1e-2))"
      ],
      "execution_count": null,
      "outputs": [
        {
          "output_type": "display_data",
          "data": {
            "text/html": [
              "<table border=\"1\" class=\"dataframe\">\n",
              "  <thead>\n",
              "    <tr style=\"text-align: left;\">\n",
              "      <th>epoch</th>\n",
              "      <th>train_loss</th>\n",
              "      <th>valid_loss</th>\n",
              "      <th>accuracy</th>\n",
              "      <th>time</th>\n",
              "    </tr>\n",
              "  </thead>\n",
              "  <tbody>\n",
              "    <tr>\n",
              "      <td>0</td>\n",
              "      <td>0.258877</td>\n",
              "      <td>0.266017</td>\n",
              "      <td>0.901700</td>\n",
              "      <td>01:17</td>\n",
              "    </tr>\n",
              "  </tbody>\n",
              "</table>"
            ],
            "text/plain": [
              "<IPython.core.display.HTML object>"
            ]
          },
          "metadata": {
            "tags": []
          }
        }
      ]
    },
    {
      "cell_type": "code",
      "metadata": {
        "id": "rTM331i8WBMs",
        "colab_type": "code",
        "colab": {
          "base_uri": "https://localhost:8080/",
          "height": 80
        },
        "outputId": "4872d125-92ae-440b-ffbb-8aecdadfe3f5"
      },
      "source": [
        "learn.freeze_to(-3)\n",
        "learn.fit_one_cycle(1, slice(5e-3/(2.6**4),5e-3))"
      ],
      "execution_count": null,
      "outputs": [
        {
          "output_type": "display_data",
          "data": {
            "text/html": [
              "<table border=\"1\" class=\"dataframe\">\n",
              "  <thead>\n",
              "    <tr style=\"text-align: left;\">\n",
              "      <th>epoch</th>\n",
              "      <th>train_loss</th>\n",
              "      <th>valid_loss</th>\n",
              "      <th>accuracy</th>\n",
              "      <th>time</th>\n",
              "    </tr>\n",
              "  </thead>\n",
              "  <tbody>\n",
              "    <tr>\n",
              "      <td>0</td>\n",
              "      <td>0.247626</td>\n",
              "      <td>0.264263</td>\n",
              "      <td>0.902000</td>\n",
              "      <td>01:25</td>\n",
              "    </tr>\n",
              "  </tbody>\n",
              "</table>"
            ],
            "text/plain": [
              "<IPython.core.display.HTML object>"
            ]
          },
          "metadata": {
            "tags": []
          }
        }
      ]
    },
    {
      "cell_type": "code",
      "metadata": {
        "id": "8GwzEwh5WDVV",
        "colab_type": "code",
        "colab": {
          "base_uri": "https://localhost:8080/",
          "height": 111
        },
        "outputId": "37577e19-9bf2-4366-9685-b47e26fb04ff"
      },
      "source": [
        "learn.unfreeze()\n",
        "learn.fit_one_cycle(2, slice(1e-3/(2.6**4),1e-3))"
      ],
      "execution_count": null,
      "outputs": [
        {
          "output_type": "display_data",
          "data": {
            "text/html": [
              "<table border=\"1\" class=\"dataframe\">\n",
              "  <thead>\n",
              "    <tr style=\"text-align: left;\">\n",
              "      <th>epoch</th>\n",
              "      <th>train_loss</th>\n",
              "      <th>valid_loss</th>\n",
              "      <th>accuracy</th>\n",
              "      <th>time</th>\n",
              "    </tr>\n",
              "  </thead>\n",
              "  <tbody>\n",
              "    <tr>\n",
              "      <td>0</td>\n",
              "      <td>0.228082</td>\n",
              "      <td>0.269279</td>\n",
              "      <td>0.901900</td>\n",
              "      <td>01:39</td>\n",
              "    </tr>\n",
              "    <tr>\n",
              "      <td>1</td>\n",
              "      <td>0.216498</td>\n",
              "      <td>0.269656</td>\n",
              "      <td>0.900600</td>\n",
              "      <td>01:38</td>\n",
              "    </tr>\n",
              "  </tbody>\n",
              "</table>"
            ],
            "text/plain": [
              "<IPython.core.display.HTML object>"
            ]
          },
          "metadata": {
            "tags": []
          }
        }
      ]
    },
    {
      "cell_type": "code",
      "metadata": {
        "id": "q7gTmIjrWFmi",
        "colab_type": "code",
        "colab": {
          "base_uri": "https://localhost:8080/",
          "height": 34
        },
        "outputId": "dc6e2aa1-501a-4e4d-85f6-bdecad14d50e"
      },
      "source": [
        "learn.predict(\"hypertension tachycardia syncope chest pain sepsis admission\")"
      ],
      "execution_count": null,
      "outputs": [
        {
          "output_type": "display_data",
          "data": {
            "text/html": [
              ""
            ],
            "text/plain": [
              "<IPython.core.display.HTML object>"
            ]
          },
          "metadata": {
            "tags": []
          }
        },
        {
          "output_type": "execute_result",
          "data": {
            "text/plain": [
              "('discharge', tensor(1), tensor([0.4076, 0.5924]))"
            ]
          },
          "metadata": {
            "tags": []
          },
          "execution_count": 27
        }
      ]
    },
    {
      "cell_type": "code",
      "metadata": {
        "id": "HZ-VxQW5WXNB",
        "colab_type": "code",
        "colab": {}
      },
      "source": [
        "learn.save('fastaiv2all')"
      ],
      "execution_count": null,
      "outputs": []
    },
    {
      "cell_type": "code",
      "metadata": {
        "id": "F85LwhThWdjl",
        "colab_type": "code",
        "colab": {
          "base_uri": "https://localhost:8080/",
          "height": 17
        },
        "outputId": "bdf99924-66f3-4fa1-a021-42164061edf0"
      },
      "source": [
        "interp = ClassificationInterpretation.from_learner(learn)"
      ],
      "execution_count": null,
      "outputs": [
        {
          "output_type": "display_data",
          "data": {
            "text/html": [
              ""
            ],
            "text/plain": [
              "<IPython.core.display.HTML object>"
            ]
          },
          "metadata": {
            "tags": []
          }
        }
      ]
    },
    {
      "cell_type": "code",
      "metadata": {
        "id": "wfuwmfrR_zXY",
        "colab_type": "code",
        "colab": {
          "base_uri": "https://localhost:8080/",
          "height": 311
        },
        "outputId": "f79db2d7-ebbc-4139-c942-b4ab1d7ef959"
      },
      "source": [
        "interp.plot_confusion_matrix()"
      ],
      "execution_count": null,
      "outputs": [
        {
          "output_type": "display_data",
          "data": {
            "image/png": "[encoded data removed]",
            "text/plain": [
              "<Figure size 432x288 with 1 Axes>"
            ]
          },
          "metadata": {
            "tags": [],
            "needs_background": "light"
          }
        }
      ]
    },
    {
      "cell_type": "code",
      "metadata": {
        "id": "YYZ5pOCz_HIT",
        "colab_type": "code",
        "colab": {
          "base_uri": "https://localhost:8080/",
          "height": 17
        },
        "outputId": "3f6bb86e-205c-4a80-d3d5-4f5f2bbeb867"
      },
      "source": [
        "preds, targets = learn.get_preds() \n",
        "predictions = np.argmax(preds, axis = 1) "
      ],
      "execution_count": null,
      "outputs": [
        {
          "output_type": "display_data",
          "data": {
            "text/html": [
              ""
            ],
            "text/plain": [
              "<IPython.core.display.HTML object>"
            ]
          },
          "metadata": {
            "tags": []
          }
        }
      ]
    },
    {
      "cell_type": "code",
      "metadata": {
        "id": "Un0yo-fNCBI-",
        "colab_type": "code",
        "colab": {}
      },
      "source": [
        "desc = 'restart fast ai v2'\n",
        "weights = None\n",
        "batch_size = 32"
      ],
      "execution_count": null,
      "outputs": []
    },
    {
      "cell_type": "code",
      "metadata": {
        "id": "dEPvePr7Bs1W",
        "colab_type": "code",
        "colab": {
          "base_uri": "https://localhost:8080/",
          "height": 272
        },
        "outputId": "b8617b18-9a29-4762-bfdb-19d3e4e3927f"
      },
      "source": [
        "get_metrics(predictions, preds, targets)"
      ],
      "execution_count": null,
      "outputs": [
        {
          "output_type": "stream",
          "text": [
            "Metrics Report:\n",
            "---------------\n",
            "weighted f1:  0.8745991062020941\n",
            "AUROC:        0.812331906342352\n",
            "accuracy:     0.9006\n",
            "precision:    [0.51245552 0.9118222 ]\n",
            "recall:       [0.14385614 0.98477609]\n",
            "sensitivity:  0.5124555160142349\n",
            "specificity:  0.9118222039304456\n",
            "PPV:          0.14385614385614387\n",
            "NPV:          0.9847760862318036\n",
            "\n",
            "confusion matrix\n",
            "[[ 144  857]\n",
            " [ 137 8862]]\n"
          ],
          "name": "stdout"
        }
      ]
    },
    {
      "cell_type": "markdown",
      "metadata": {
        "id": "APrj4-TqEkQd",
        "colab_type": "text"
      },
      "source": [
        "### trying with label smoothing"
      ]
    },
    {
      "cell_type": "code",
      "metadata": {
        "id": "hH2W4-E-Cvh6",
        "colab_type": "code",
        "colab": {}
      },
      "source": [
        "loss_func = LabelSmoothingCrossEntropyFlat()"
      ],
      "execution_count": null,
      "outputs": []
    },
    {
      "cell_type": "code",
      "metadata": {
        "colab_type": "code",
        "id": "6Sgsv7KMEb-9",
        "colab": {}
      },
      "source": [
        "learn = text_classifier_learner(dls_clas, AWD_LSTM, loss_func = loss_func,  drop_mult=0.5, metrics=accuracy)"
      ],
      "execution_count": null,
      "outputs": []
    },
    {
      "cell_type": "code",
      "metadata": {
        "colab_type": "code",
        "id": "jT6yHjKvEb_B",
        "colab": {}
      },
      "source": [
        "learn = learn.load_encoder('finetuned')"
      ],
      "execution_count": null,
      "outputs": []
    },
    {
      "cell_type": "code",
      "metadata": {
        "colab_type": "code",
        "id": "S5q0ImNwEb_F",
        "colab": {
          "base_uri": "https://localhost:8080/",
          "height": 80
        },
        "outputId": "049557f7-ea73-415a-e0b2-c1a335eb2b9c"
      },
      "source": [
        "learn.fit_one_cycle(1, 2e-2)"
      ],
      "execution_count": null,
      "outputs": [
        {
          "output_type": "display_data",
          "data": {
            "text/html": [
              "<table border=\"1\" class=\"dataframe\">\n",
              "  <thead>\n",
              "    <tr style=\"text-align: left;\">\n",
              "      <th>epoch</th>\n",
              "      <th>train_loss</th>\n",
              "      <th>valid_loss</th>\n",
              "      <th>accuracy</th>\n",
              "      <th>time</th>\n",
              "    </tr>\n",
              "  </thead>\n",
              "  <tbody>\n",
              "    <tr>\n",
              "      <td>0</td>\n",
              "      <td>0.497525</td>\n",
              "      <td>0.369008</td>\n",
              "      <td>0.902400</td>\n",
              "      <td>01:14</td>\n",
              "    </tr>\n",
              "  </tbody>\n",
              "</table>"
            ],
            "text/plain": [
              "<IPython.core.display.HTML object>"
            ]
          },
          "metadata": {
            "tags": []
          }
        }
      ]
    },
    {
      "cell_type": "code",
      "metadata": {
        "colab_type": "code",
        "id": "0xa9qK1MEb_I",
        "colab": {
          "base_uri": "https://localhost:8080/",
          "height": 80
        },
        "outputId": "12529577-5546-4ce2-e168-be418040f9db"
      },
      "source": [
        "learn.freeze_to(-2)\n",
        "learn.fit_one_cycle(1, slice(1e-2/(2.6**4),1e-2))"
      ],
      "execution_count": null,
      "outputs": [
        {
          "output_type": "display_data",
          "data": {
            "text/html": [
              "<table border=\"1\" class=\"dataframe\">\n",
              "  <thead>\n",
              "    <tr style=\"text-align: left;\">\n",
              "      <th>epoch</th>\n",
              "      <th>train_loss</th>\n",
              "      <th>valid_loss</th>\n",
              "      <th>accuracy</th>\n",
              "      <th>time</th>\n",
              "    </tr>\n",
              "  </thead>\n",
              "  <tbody>\n",
              "    <tr>\n",
              "      <td>0</td>\n",
              "      <td>0.375404</td>\n",
              "      <td>0.368211</td>\n",
              "      <td>0.902500</td>\n",
              "      <td>01:18</td>\n",
              "    </tr>\n",
              "  </tbody>\n",
              "</table>"
            ],
            "text/plain": [
              "<IPython.core.display.HTML object>"
            ]
          },
          "metadata": {
            "tags": []
          }
        }
      ]
    },
    {
      "cell_type": "code",
      "metadata": {
        "colab_type": "code",
        "id": "UmXw7klyEb_K",
        "colab": {
          "base_uri": "https://localhost:8080/",
          "height": 80
        },
        "outputId": "0db02291-b682-495c-b287-bc961115fab7"
      },
      "source": [
        "learn.freeze_to(-3)\n",
        "learn.fit_one_cycle(1, slice(5e-3/(2.6**4),5e-3))"
      ],
      "execution_count": null,
      "outputs": [
        {
          "output_type": "display_data",
          "data": {
            "text/html": [
              "<table border=\"1\" class=\"dataframe\">\n",
              "  <thead>\n",
              "    <tr style=\"text-align: left;\">\n",
              "      <th>epoch</th>\n",
              "      <th>train_loss</th>\n",
              "      <th>valid_loss</th>\n",
              "      <th>accuracy</th>\n",
              "      <th>time</th>\n",
              "    </tr>\n",
              "  </thead>\n",
              "  <tbody>\n",
              "    <tr>\n",
              "      <td>0</td>\n",
              "      <td>0.368871</td>\n",
              "      <td>0.365567</td>\n",
              "      <td>0.902600</td>\n",
              "      <td>01:27</td>\n",
              "    </tr>\n",
              "  </tbody>\n",
              "</table>"
            ],
            "text/plain": [
              "<IPython.core.display.HTML object>"
            ]
          },
          "metadata": {
            "tags": []
          }
        }
      ]
    },
    {
      "cell_type": "code",
      "metadata": {
        "colab_type": "code",
        "id": "30MFbDA5Eb_O",
        "colab": {
          "base_uri": "https://localhost:8080/",
          "height": 111
        },
        "outputId": "73c12ff0-e969-460c-c159-ed0cf5bddc6a"
      },
      "source": [
        "learn.unfreeze()\n",
        "learn.fit_one_cycle(2, slice(1e-3/(2.6**4),1e-3))"
      ],
      "execution_count": null,
      "outputs": [
        {
          "output_type": "display_data",
          "data": {
            "text/html": [
              "<table border=\"1\" class=\"dataframe\">\n",
              "  <thead>\n",
              "    <tr style=\"text-align: left;\">\n",
              "      <th>epoch</th>\n",
              "      <th>train_loss</th>\n",
              "      <th>valid_loss</th>\n",
              "      <th>accuracy</th>\n",
              "      <th>time</th>\n",
              "    </tr>\n",
              "  </thead>\n",
              "  <tbody>\n",
              "    <tr>\n",
              "      <td>0</td>\n",
              "      <td>0.356636</td>\n",
              "      <td>0.367364</td>\n",
              "      <td>0.902400</td>\n",
              "      <td>01:38</td>\n",
              "    </tr>\n",
              "    <tr>\n",
              "      <td>1</td>\n",
              "      <td>0.348509</td>\n",
              "      <td>0.369049</td>\n",
              "      <td>0.902000</td>\n",
              "      <td>01:39</td>\n",
              "    </tr>\n",
              "  </tbody>\n",
              "</table>"
            ],
            "text/plain": [
              "<IPython.core.display.HTML object>"
            ]
          },
          "metadata": {
            "tags": []
          }
        }
      ]
    },
    {
      "cell_type": "code",
      "metadata": {
        "colab_type": "code",
        "id": "KYd1OhjkFtzD",
        "colab": {
          "base_uri": "https://localhost:8080/",
          "height": 17
        },
        "outputId": "900f99dd-cf1d-4850-f90d-c991183a0f07"
      },
      "source": [
        "interp = ClassificationInterpretation.from_learner(learn)"
      ],
      "execution_count": null,
      "outputs": [
        {
          "output_type": "display_data",
          "data": {
            "text/html": [
              ""
            ],
            "text/plain": [
              "<IPython.core.display.HTML object>"
            ]
          },
          "metadata": {
            "tags": []
          }
        }
      ]
    },
    {
      "cell_type": "code",
      "metadata": {
        "colab_type": "code",
        "id": "Nvj4ruamFtzJ",
        "colab": {
          "base_uri": "https://localhost:8080/",
          "height": 311
        },
        "outputId": "6720839e-5a87-4538-d49a-c472b47b2a8e"
      },
      "source": [
        "interp.plot_confusion_matrix()"
      ],
      "execution_count": null,
      "outputs": [
        {
          "output_type": "display_data",
          "data": {
            "image/png": "[encoded data removed]",
            "text/plain": [
              "<Figure size 432x288 with 1 Axes>"
            ]
          },
          "metadata": {
            "tags": [],
            "needs_background": "light"
          }
        }
      ]
    },
    {
      "cell_type": "code",
      "metadata": {
        "colab_type": "code",
        "id": "zVi5JbaNFtzL",
        "colab": {
          "base_uri": "https://localhost:8080/",
          "height": 17
        },
        "outputId": "9f4078ce-dc59-43d8-c3cd-3405de06d963"
      },
      "source": [
        "preds, targets = learn.get_preds() \n",
        "predictions = np.argmax(preds, axis = 1) "
      ],
      "execution_count": null,
      "outputs": [
        {
          "output_type": "display_data",
          "data": {
            "text/html": [
              ""
            ],
            "text/plain": [
              "<IPython.core.display.HTML object>"
            ]
          },
          "metadata": {
            "tags": []
          }
        }
      ]
    },
    {
      "cell_type": "code",
      "metadata": {
        "colab_type": "code",
        "id": "vbtnSXV-FtzP",
        "colab": {
          "base_uri": "https://localhost:8080/",
          "height": 272
        },
        "outputId": "b5246bd9-02ab-4eb2-d3fc-df65c1159fd9"
      },
      "source": [
        "get_metrics(predictions, preds, targets)"
      ],
      "execution_count": null,
      "outputs": [
        {
          "output_type": "stream",
          "text": [
            "Metrics Report:\n",
            "---------------\n",
            "weighted f1:  0.8790057903193977\n",
            "AUROC:        0.8127985471579204\n",
            "accuracy:     0.902\n",
            "precision:    [0.53191489 0.91459001]\n",
            "recall:       [0.17482517 0.98288699]\n",
            "sensitivity:  0.5319148936170213\n",
            "specificity:  0.9145900113742116\n",
            "PPV:          0.17482517482517482\n",
            "NPV:          0.9828869874430493\n",
            "\n",
            "confusion matrix\n",
            "[[ 175  826]\n",
            " [ 154 8845]]\n"
          ],
          "name": "stdout"
        }
      ]
    },
    {
      "cell_type": "code",
      "metadata": {
        "id": "ZYvgG57Iewam",
        "colab_type": "code",
        "colab": {}
      },
      "source": [
        "results_df.to_csv(data_dir + 'results.csv')"
      ],
      "execution_count": null,
      "outputs": []
    }
  ]
}