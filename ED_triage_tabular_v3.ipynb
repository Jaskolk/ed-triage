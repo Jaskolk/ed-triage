{
  "nbformat": 4,
  "nbformat_minor": 0,
  "metadata": {
    "kernelspec": {
      "display_name": "Python [default]",
      "language": "python",
      "name": "python3"
    },
    "language_info": {
      "codemirror_mode": {
        "name": "ipython",
        "version": 3
      },
      "file_extension": ".py",
      "mimetype": "text/x-python",
      "name": "python",
      "nbconvert_exporter": "python",
      "pygments_lexer": "ipython3",
      "version": "3.6.5"
    },
    "colab": {
      "name": "ED_triage_tabular-v3.ipynb",
      "provenance": [],
      "collapsed_sections": [
        "EwqcY6UBE4rx",
        "pVlXQSoUE4sL",
        "f-ESGAmoE4s1",
        "2V-_esF9E4uY"
      ],
      "toc_visible": true
    }
  },
  "cells": [
    {
      "cell_type": "markdown",
      "metadata": {
        "id": "ZtHqNFVeE4rj",
        "colab_type": "text"
      },
      "source": [
        "## I'm returning to this after some delay to revisit the work I did.  gonna integrate everything into one nb"
      ]
    },
    {
      "cell_type": "markdown",
      "metadata": {
        "id": "0GsPTcmPE4rl",
        "colab_type": "text"
      },
      "source": [
        "#### install dependencies and set data paths"
      ]
    },
    {
      "cell_type": "code",
      "metadata": {
        "id": "z3RlfsKuE4rm",
        "colab_type": "code",
        "colab": {}
      },
      "source": [
        "from fastai import *\n",
        "from fastai.tabular import *\n",
        "\n",
        "import pandas as pd\n",
        "import numpy as np\n",
        "\n",
        "import os\n",
        "import re\n",
        "from collections import Counter\n",
        "\n",
        "import random\n",
        "\n",
        "from sklearn.metrics import confusion_matrix\n",
        "import sklearn.metrics\n",
        "import seaborn as sns\n",
        "%matplotlib inline\n",
        "import matplotlib.pyplot as plt\n",
        "\n"
      ],
      "execution_count": 0,
      "outputs": []
    },
    {
      "cell_type": "code",
      "metadata": {
        "id": "2LmSPiEVE_Us",
        "colab_type": "code",
        "colab": {
          "base_uri": "https://localhost:8080/",
          "height": 122
        },
        "outputId": "9aac4a0f-fb62-4a3d-e40b-84f4f64c2668"
      },
      "source": [
        "from google.colab import drive\n",
        "drive.mount('/content/drive')"
      ],
      "execution_count": 2,
      "outputs": [
        {
          "output_type": "stream",
          "text": [
            "Go to this URL in a browser: https://accounts.google.com/o/oauth2/auth?client_id=947318989803-6bn6qk8qdgf4n4g3pfee6491hc0brc4i.apps.googleusercontent.com&redirect_uri=urn%3aietf%3awg%3aoauth%3a2.0%3aoob&response_type=code&scope=email%20https%3a%2f%2fwww.googleapis.com%2fauth%2fdocs.test%20https%3a%2f%2fwww.googleapis.com%2fauth%2fdrive%20https%3a%2f%2fwww.googleapis.com%2fauth%2fdrive.photos.readonly%20https%3a%2f%2fwww.googleapis.com%2fauth%2fpeopleapi.readonly\n",
            "\n",
            "Enter your authorization code:\n",
            "··········\n",
            "Mounted at /content/drive\n"
          ],
          "name": "stdout"
        }
      ]
    },
    {
      "cell_type": "code",
      "metadata": {
        "id": "pEIB9LZ1E4rq",
        "colab_type": "code",
        "colab": {}
      },
      "source": [
        "#use this cell when working online\n",
        "path = '/floyd/home/ed-triage'\n",
        "data_path = '/floyd/home/data/bch'\n",
        "model_path = 'floyd/home/models'"
      ],
      "execution_count": 0,
      "outputs": []
    },
    {
      "cell_type": "code",
      "metadata": {
        "id": "1jDy7CiFE4ru",
        "colab_type": "code",
        "colab": {}
      },
      "source": [
        "#use this cell when working from home\n",
        "path = '/Users/jjaskolkambp/Desktop/machine learning/my_projects/ed-triage'\n",
        "data_path = '/Users/jjaskolkambp/Desktop/machine learning/my_projects/data/ED triage project/bch'"
      ],
      "execution_count": 0,
      "outputs": []
    },
    {
      "cell_type": "code",
      "metadata": {
        "id": "J2m1nn55FRfH",
        "colab_type": "code",
        "colab": {}
      },
      "source": [
        "#use this cell in google colab\n",
        "path = '/content/drive/My Drive/ML_data'\n",
        "clin = pd.read_csv('/content/drive/My Drive/ML_data/complete_clean_combo_data.csv', index_col = 0,low_memory = False)"
      ],
      "execution_count": 0,
      "outputs": []
    },
    {
      "cell_type": "markdown",
      "metadata": {
        "id": "jxwT9ZgyE4rx",
        "colab_type": "text"
      },
      "source": [
        "### First work on BCH data"
      ]
    },
    {
      "cell_type": "markdown",
      "metadata": {
        "id": "EwqcY6UBE4rx",
        "colab_type": "text"
      },
      "source": [
        "#### load BCH data into DF (this is always slow)"
      ]
    },
    {
      "cell_type": "code",
      "metadata": {
        "id": "wwxDcJT9E4ry",
        "colab_type": "code",
        "colab": {}
      },
      "source": [
        "clin = pd.read_csv(bch_data_path + '/bch_data.csv', low_memory = False)"
      ],
      "execution_count": 0,
      "outputs": []
    },
    {
      "cell_type": "code",
      "metadata": {
        "id": "I-oMhN58E4r2",
        "colab_type": "code",
        "colab": {
          "base_uri": "https://localhost:8080/",
          "height": 34
        },
        "outputId": "dda49c5b-bad9-4d83-f733-2393d7f6e1c5"
      },
      "source": [
        "clin.shape"
      ],
      "execution_count": 4,
      "outputs": [
        {
          "output_type": "execute_result",
          "data": {
            "text/plain": [
              "(165957, 59)"
            ]
          },
          "metadata": {
            "tags": []
          },
          "execution_count": 4
        }
      ]
    },
    {
      "cell_type": "code",
      "metadata": {
        "id": "6ryw1ESKE4r6",
        "colab_type": "code",
        "colab": {},
        "outputId": "c13e1669-d895-4044-bbac-145b33138ab7"
      },
      "source": [
        "clin.columns"
      ],
      "execution_count": 0,
      "outputs": [
        {
          "output_type": "execute_result",
          "data": {
            "text/plain": [
              "Index(['Unnamed: 0', 'ID', 'ChartNumber', 'EncounterNumber', 'TriageLevel',\n",
              "       'AgeNumber', 'AgeInYrs', 'GenderDesc', 'Triage Date & Time',\n",
              "       'Reg Date & Time', 'PIA Date & Time', 'Disposition Date & Time',\n",
              "       'DischargeDisposition', 'DischargeDispositionDesc',\n",
              "       'Left ED Date & Time', 'PresentingComplaint', 'PresentingComplaintDesc',\n",
              "       'MainDiagnosisCode', 'MainDiagnosisCodeDesc', 'AdmitLocation',\n",
              "       'PatientService', 'SubjectiveNotes', 'InfectionControlScreening',\n",
              "       'MedicalHistory', 'BloodPressure_LastEDReading',\n",
              "       'O2Saturation_LastEDReading', 'Pulse_LastEDReading',\n",
              "       'Temperature_LastEDReading',\n",
              "       'Are you feeling feverish or have had shakes or chills in the last 24 hours?',\n",
              "       'Have you ever been isolated/required isolation for an infectious disease when receiving care in a healthcare setting?',\n",
              "       'Do you have a new Rash?',\n",
              "       'Do you have a new onset of Vomiting/Diarrhea in the last 24 hours?',\n",
              "       'Have you travelled outside of Canada/USA in the last 3 weeks?',\n",
              "       'Have you had contact with a sick person who has travelled outside of Canada/USA in the last 3 weeks?',\n",
              "       'Have you received Health Care in another country in the last 2 years?',\n",
              "       'Do you have a new/worse cough or shortness of breath?',\n",
              "       'If so, select all countries that apply',\n",
              "       'If so, select all infectious diseases that apply', 'o2sat', 'pulse',\n",
              "       'temp', 'BP', 'systolic', 'diastolic', 'Gender', 'outcome', 'target',\n",
              "       'service', 'target2', 'discharge', 'target3', 'dispo', 'target4'],\n",
              "      dtype='object')"
            ]
          },
          "metadata": {
            "tags": []
          },
          "execution_count": 16
        }
      ]
    },
    {
      "cell_type": "code",
      "metadata": {
        "id": "rfg06JGEE4r8",
        "colab_type": "code",
        "colab": {},
        "outputId": "2cb083ad-5eed-43d8-a270-866519c84ea3"
      },
      "source": [
        "#drop incomplete records\n",
        "clin.dropna(subset = ['SubjectiveNotes', 'MedicalHistory','InfectionControlScreening'], inplace = True)\n",
        "clin.shape"
      ],
      "execution_count": 0,
      "outputs": [
        {
          "output_type": "execute_result",
          "data": {
            "text/plain": [
              "(102543, 37)"
            ]
          },
          "metadata": {
            "tags": []
          },
          "execution_count": 6
        }
      ]
    },
    {
      "cell_type": "code",
      "metadata": {
        "id": "CqDxcN-7E4r_",
        "colab_type": "code",
        "colab": {},
        "outputId": "77951e93-bb16-428b-c2ba-c63a6b6f6ff0"
      },
      "source": [
        "date_columns = ['Triage Date & Time', 'Reg Date & Time']\n",
        "\n",
        "clin.dropna(subset = date_columns, inplace = True)\n",
        "clin.shape"
      ],
      "execution_count": 0,
      "outputs": [
        {
          "output_type": "execute_result",
          "data": {
            "text/plain": [
              "(102492, 37)"
            ]
          },
          "metadata": {
            "tags": []
          },
          "execution_count": 7
        }
      ]
    },
    {
      "cell_type": "code",
      "metadata": {
        "id": "IIGX5fpLE4sC",
        "colab_type": "code",
        "colab": {}
      },
      "source": [
        "clin.to_csv(data_path + '/100kcompleterecords.csv', index = False)"
      ],
      "execution_count": 0,
      "outputs": []
    },
    {
      "cell_type": "code",
      "metadata": {
        "id": "QvI5ugAGE4sF",
        "colab_type": "code",
        "colab": {},
        "outputId": "05e4fc21-3c86-48ac-acff-aaa9f056e599"
      },
      "source": [
        "clin.columns"
      ],
      "execution_count": 0,
      "outputs": [
        {
          "output_type": "execute_result",
          "data": {
            "text/plain": [
              "Index(['ID', 'ChartNumber', 'EncounterNumber', 'TriageLevel', 'AgeNumber',\n",
              "       'AgeInYrs', 'GenderDesc', 'Triage Date & Time', 'Reg Date & Time',\n",
              "       'PIA Date & Time', 'Disposition Date & Time', 'DischargeDisposition',\n",
              "       'DischargeDispositionDesc', 'Left ED Date & Time',\n",
              "       'PresentingComplaint', 'PresentingComplaintDesc', 'MainDiagnosisCode',\n",
              "       'MainDiagnosisCodeDesc', 'AdmitLocation', 'PatientService',\n",
              "       'SubjectiveNotes', 'InfectionControlScreening', 'MedicalHistory',\n",
              "       'BloodPressure_LastEDReading', 'O2Saturation_LastEDReading',\n",
              "       'Pulse_LastEDReading', 'Temperature_LastEDReading',\n",
              "       'Are you feeling feverish or have had shakes or chills in the last 24 hours?',\n",
              "       'Have you ever been isolated/required isolation for an infectious disease when receiving care in a healthcare setting?',\n",
              "       'Do you have a new Rash?',\n",
              "       'Do you have a new onset of Vomiting/Diarrhea in the last 24 hours?',\n",
              "       'Have you travelled outside of Canada/USA in the last 3 weeks?',\n",
              "       'Have you had contact with a sick person who has travelled outside of Canada/USA in the last 3 weeks?',\n",
              "       'Have you received Health Care in another country in the last 2 years?',\n",
              "       'Do you have a new/worse cough or shortness of breath?',\n",
              "       'If so, select all countries that apply',\n",
              "       'If so, select all infectious diseases that apply'],\n",
              "      dtype='object')"
            ]
          },
          "metadata": {
            "tags": []
          },
          "execution_count": 11
        }
      ]
    },
    {
      "cell_type": "markdown",
      "metadata": {
        "id": "pVlXQSoUE4sL",
        "colab_type": "text"
      },
      "source": [
        "#### refactoring some of the cells so they are clean and useful"
      ]
    },
    {
      "cell_type": "code",
      "metadata": {
        "id": "Yp8v8M1eE4sM",
        "colab_type": "code",
        "colab": {}
      },
      "source": [
        "o2sat = [item if item[-1] != '%' else item[:-1] for item in clin['O2Saturation_LastEDReading'].astype('str')]\n",
        "o2sat = [np.nan if item == 'nan' else float(item) for item in o2sat] \n",
        "clin['o2sat'] = o2sat"
      ],
      "execution_count": 0,
      "outputs": []
    },
    {
      "cell_type": "code",
      "metadata": {
        "id": "oKEb8-rNE4sP",
        "colab_type": "code",
        "colab": {}
      },
      "source": [
        "pulse = clin['Pulse_LastEDReading']\n",
        "pulse = [re.sub(\"[^0-9]\", \"\", str(item)) for item in pulse]\n",
        "pulse = [np.nan if item == '' else float(item) for item in pulse] \n",
        "#set(pulse)\n",
        "clin['pulse'] = pulse"
      ],
      "execution_count": 0,
      "outputs": []
    },
    {
      "cell_type": "code",
      "metadata": {
        "id": "EsJZESfCE4sR",
        "colab_type": "code",
        "colab": {}
      },
      "source": [
        "temp = clin['Temperature_LastEDReading']\n",
        "temp = [re.sub(\"[^0-9]\", \"\", str(item)) for item in temp]\n",
        "temp = [np.nan if item == '' else float(item) for item in temp] \n",
        "temp = [item/10 if item > 100 else item for item in temp]\n",
        "temp = [np.nan if item > 40  else item for item in temp]\n",
        "#set(temp)\n",
        "clin['temp'] = temp"
      ],
      "execution_count": 0,
      "outputs": []
    },
    {
      "cell_type": "code",
      "metadata": {
        "id": "rt_cD0iOE4sT",
        "colab_type": "code",
        "colab": {}
      },
      "source": [
        "def bptrans(bp):\n",
        "    if pd.isnull(bp) or len(bp.split('/')) !=2:\n",
        "        return [np.nan, np.nan]\n",
        "    res = []\n",
        "    for x in bp.split('/'):\n",
        "        try:\n",
        "            float(x)\n",
        "            res =  [float(x) for x in bp.split('/')]\n",
        "        except: \n",
        "            res =  [np.nan, np.nan]\n",
        "        return res\n"
      ],
      "execution_count": 0,
      "outputs": []
    },
    {
      "cell_type": "code",
      "metadata": {
        "id": "FfuPJKqeE4sX",
        "colab_type": "code",
        "colab": {}
      },
      "source": [
        "clin['BP'] = clin.BloodPressure_LastEDReading.map(bptrans)\n",
        "\n",
        "clin[['systolic', 'diastolic']] = pd.DataFrame(clin.BP.tolist(), index= clin.index)\n",
        "clin[\"Gender\"] = clin.GenderDesc.map(lambda x: 1 if x == \"Male\" else 0)"
      ],
      "execution_count": 0,
      "outputs": []
    },
    {
      "cell_type": "code",
      "metadata": {
        "id": "yCfDKnKoE4sa",
        "colab_type": "code",
        "colab": {}
      },
      "source": [
        "#this is to clean the text in the subjective notes column (a little bit)\n",
        "def fixencode(s):\n",
        "    if pd.isnull(s):\n",
        "        s = \"None\"\n",
        "    s = s[14:]\n",
        "    s =s.replace('<LT><LF>','')\n",
        "    s = s.replace('<LT>LF>','')\n",
        "    s =s.replace('Pt.', 'patient')\n",
        "    s =s.replace('Pt', 'patient')\n",
        "    s = s.lower()\n",
        "    s = s.replace('pt.', 'patient')\n",
        "    s = s.replace('y/o', 'year old')\n",
        "    s = s.replace('c/o', 'complains of')\n",
        "    s = s.replace('sob', 'shortness of breath')\n",
        "    s = s.replace('c/p', 'chest pain')\n",
        "    s = s.replace('hrs', 'hours')\n",
        "    s = s.replace('hx', 'history')\n",
        "    s = s.replace('n/v', 'nausea and/or vomiting')\n",
        "    s = s.replace('a/e', 'air entry')\n",
        "    s = s.replace('a/o', 'alert and oriented')\n",
        "    s = s.replace('a&o', 'alert and oriented')\n",
        "    s = s.replace('d/c', 'discharge')\n",
        "    s = s.replace('u/s', 'ultrasound')\n",
        "    s = s.replace('yrs', 'years')\n",
        "    s = s.replace('lmp', 'last menstrual period')\n",
        "    s = s.replace('w/', 'with')\n",
        "    s = s.replace('@', 'at ')\n",
        "    s = s.replace('b/c', 'because')\n",
        "    s = re.sub(r'\\bpt.','patient ',s)\n",
        "    s = re.sub(r'\\blt.','left ',s)\n",
        "    s = re.sub(r'\\brt.','right ',s)\n",
        "    s = re.sub(r'\\bmd.','doctor ',s)\n",
        "    s = re.sub(r'\\bra\\b','room air ',s)\n",
        "    s = re.sub(r'\\bbp.','blood pressure ',s)\n",
        "    s = re.sub(r'\\bcp.','chest pain ',s)\n",
        "    s = re.sub(r'\\bfd.','family doctor ',s)\n",
        "    s = s.replace('abx', 'antibiotics')\n",
        "    s = s.replace(' htn ', ' hypertension ')\n",
        "    s = re.sub(r'\\btyl\\b', 'tylenol', s)\n",
        "    s = re.sub(r'\\bprn\\b', 'as needed ',s)\n",
        "    s = re.sub(r'\\bvag\\b', 'vaginal ',s)\n",
        "    s = re.sub(r'\\bpo\\b', 'by mouth ',s)\n",
        "    s = re.sub(r'\\bllq\\b', 'left lower quadrant',s)\n",
        "    s = re.sub(r'\\brlq\\b', 'right lower quadrant  ',s)\n",
        "    s = re.sub(r'\\bluq\\b', 'left upper quadrant',s)\n",
        "    s = re.sub(r'\\bruq\\b', 'right upper quadrant  ',s)\n",
        "    s = re.sub(r'\\buti\\b', 'urinary tract infection ',s)\n",
        "    s = re.sub(r'\\brd', 'right digit number',s)\n",
        "    s = re.sub(r'\\bld', 'left digit number',s)\n",
        "    s = re.sub(r'\\br\\b', 'right ',s)\n",
        "    s = re.sub(r'\\bl\\b', 'left ',s)\n",
        "    s = re.sub(r'\\bed\\b', 'emergency department ',s)\n",
        "    s = re.sub(r'\\ber\\b', 'emergency room ',s)\n",
        "    s = re.sub(r'\\bbm\\b', 'bowel movement ',s)\n",
        "    \n",
        "    #remove extra white spaces\n",
        "    s = re.sub(r'\\s+', ' ', s)\n",
        "\n",
        "    #note that what's missing here is removal of punctuation\n",
        "    return s"
      ],
      "execution_count": 0,
      "outputs": []
    },
    {
      "cell_type": "code",
      "metadata": {
        "id": "h_JvDIkhE4sd",
        "colab_type": "code",
        "colab": {}
      },
      "source": [
        "clin['CleanSubjectiveNotes'] = clin.SubjectiveNotes.map(fixencode)"
      ],
      "execution_count": 0,
      "outputs": []
    },
    {
      "cell_type": "code",
      "metadata": {
        "id": "vsg1MaUiE4sf",
        "colab_type": "code",
        "colab": {}
      },
      "source": [
        "history = list(clin['MedicalHistory'].str[16:].astype('str'))"
      ],
      "execution_count": 0,
      "outputs": []
    },
    {
      "cell_type": "code",
      "metadata": {
        "id": "vptTx5pKE4sh",
        "colab_type": "code",
        "colab": {}
      },
      "source": [
        "#this is to clean the text in the medical history column (a little bit)\n",
        "def fixhx(s):\n",
        "    s =s.replace('<LT><LF>','')\n",
        "    s = s.replace('<LT>LF>','')\n",
        "    s =s.replace('Pt.', 'patient')\n",
        "    s =s.replace('Pt', 'patient')\n",
        "    s = s.lower()\n",
        "    s = s.replace('pt.', 'patient')\n",
        "    s = s.replace('y/o', 'year old')\n",
        "    s = s.replace('c/o', 'complains of')\n",
        "    s = s.replace('sob', 'shortness of breath')\n",
        "    s = s.replace('c/p', 'chest pain')\n",
        "    s = s.replace('hrs', 'hours')\n",
        "    s = s.replace('hx', 'history')\n",
        "    s = s.replace('n/v', 'nausea and/or vomiting')\n",
        "    s = s.replace('a/e', 'air entry')\n",
        "    s = s.replace('a/o', 'alert and oriented')\n",
        "    s = s.replace('a&o', 'alert and oriented')\n",
        "    s = s.replace('d/c', 'discharge')\n",
        "    s = s.replace('u/s', 'ultrasound')\n",
        "    s = s.replace('yrs', 'years')\n",
        "    s = s.replace('lmp', 'last menstrual period')\n",
        "    s = s.replace('w/', 'with')\n",
        "    s = s.replace('@', 'at ')\n",
        "    s = s.replace('b/c', 'because')\n",
        "    s = re.sub(r'\\bpt.','patient ',s)\n",
        "    s = re.sub(r'\\blt.','left ',s)\n",
        "    s = re.sub(r'\\brt.','right ',s)\n",
        "    s = re.sub(r'\\bmd.','doctor ',s)\n",
        "    s = re.sub(r'\\bra\\b','room air ',s)\n",
        "    s = re.sub(r'\\bbp.','blood pressure ',s)\n",
        "    s = re.sub(r'\\bcp.','chest pain ',s)\n",
        "    s = re.sub(r'\\bfd.','family doctor ',s)\n",
        "    s = s.replace('abx', 'antibiotics')\n",
        "    s = s.replace(' htn ', ' hypertension ')\n",
        "    s = re.sub(r'\\btyl\\b', 'tylenol', s)\n",
        "    s = re.sub(r'\\bprn\\b', 'as needed ',s)\n",
        "    s = re.sub(r'\\bvag\\b', 'vaginal ',s)\n",
        "    s = re.sub(r'\\bpo\\b', 'by mouth ',s)\n",
        "    s = re.sub(r'\\bllq\\b', 'left lower quadrant',s)\n",
        "    s = re.sub(r'\\brlq\\b', 'right lower quadrant  ',s)\n",
        "    s = re.sub(r'\\bluq\\b', 'left upper quadrant',s)\n",
        "    s = re.sub(r'\\bruq\\b', 'right upper quadrant  ',s)\n",
        "    s = re.sub(r'\\buti\\b', 'urinary tract infection ',s)\n",
        "    s = re.sub(r'\\brd', 'right digit number',s)\n",
        "    s = re.sub(r'\\bld', 'left digit number',s)\n",
        "    s = re.sub(r'\\br\\b', 'right ',s)\n",
        "    s = re.sub(r'\\bl\\b', 'left ',s)\n",
        "    s = re.sub(r'\\bed\\b', 'emergency department ',s)\n",
        "    s = re.sub(r'\\ber\\b', 'emergency room ',s)\n",
        "    s = re.sub(r'\\bbm\\b', 'bowel movement ',s)\n",
        "    s = re.sub(r'#\\s', 'fracture ', s)\n",
        "    \n",
        "    #remove extra white spaces\n",
        "    s = re.sub(r'\\s+', ' ', s)\n",
        "\n",
        "    #note that what's missing here is removal of punctuation\n",
        "    return s"
      ],
      "execution_count": 0,
      "outputs": []
    },
    {
      "cell_type": "code",
      "metadata": {
        "id": "EbnhLYsnE4sj",
        "colab_type": "code",
        "colab": {}
      },
      "source": [
        "replacements = (',','<LT>LF>', '.')\n",
        "drop_list = ('\"', '?')\n",
        "split_hist = []\n",
        "for item in history:\n",
        "    for r in replacements:\n",
        "        item = item.replace(r, '::')\n",
        "    \n",
        "    item = item.split('::')\n",
        "    \n",
        "    item = [re.sub(r'\\(.*?\\)\\ *', '', s) for s in item]\n",
        "    \n",
        "    item = [fixhx(s) for s in item]\n",
        "    for d in drop_list:\n",
        "        item = [x.replace(d,'') for x in item]\n",
        "    \n",
        "    item = [x.strip().lower() for x in item if x != 'nan']\n",
        "    item = [x for x in item if len(x) > 2]\n",
        "    \n",
        "    item = list(filter(None, item))\n",
        "    \n",
        "    split_hist.append(item)\n",
        "    "
      ],
      "execution_count": 0,
      "outputs": []
    },
    {
      "cell_type": "code",
      "metadata": {
        "id": "metycLqKE4so",
        "colab_type": "code",
        "colab": {}
      },
      "source": [
        "#rejoining them as a string with diagnoses separated by commas\n",
        "join_hist = [','.join(item) for item in split_hist]"
      ],
      "execution_count": 0,
      "outputs": []
    },
    {
      "cell_type": "code",
      "metadata": {
        "id": "G8j-3BR5E4sr",
        "colab_type": "code",
        "colab": {}
      },
      "source": [
        "comorbids = [len(item) if item != ['no significant medical history'] else 0 for item in split_hist]"
      ],
      "execution_count": 0,
      "outputs": []
    },
    {
      "cell_type": "code",
      "metadata": {
        "id": "DtVSSbn-E4st",
        "colab_type": "code",
        "colab": {}
      },
      "source": [
        "#replacing empty string with NaN\n",
        "join_hist = [np.nan if item == 'nan' else item for item in join_hist]"
      ],
      "execution_count": 0,
      "outputs": []
    },
    {
      "cell_type": "code",
      "metadata": {
        "id": "0iQiQlViE4sv",
        "colab_type": "code",
        "colab": {},
        "outputId": "0d7ea1a9-735d-43f5-b505-4f1593d88f98"
      },
      "source": [
        "len(join_hist)"
      ],
      "execution_count": 0,
      "outputs": [
        {
          "output_type": "execute_result",
          "data": {
            "text/plain": [
              "102492"
            ]
          },
          "metadata": {
            "tags": []
          },
          "execution_count": 25
        }
      ]
    },
    {
      "cell_type": "code",
      "metadata": {
        "id": "svVlUDazE4sx",
        "colab_type": "code",
        "colab": {}
      },
      "source": [
        "clin['pmhx'] = join_hist"
      ],
      "execution_count": 0,
      "outputs": []
    },
    {
      "cell_type": "code",
      "metadata": {
        "id": "P8GINYwvE4sz",
        "colab_type": "code",
        "colab": {}
      },
      "source": [
        "clin['num_comorbids'] = comorbids"
      ],
      "execution_count": 0,
      "outputs": []
    },
    {
      "cell_type": "markdown",
      "metadata": {
        "id": "f-ESGAmoE4s1",
        "colab_type": "text"
      },
      "source": [
        "#### making the target cells"
      ]
    },
    {
      "cell_type": "code",
      "metadata": {
        "id": "HoRN5EelE4s2",
        "colab_type": "code",
        "colab": {},
        "outputId": "2b01942e-8dbe-4929-dd45-2d1309088d6e"
      },
      "source": [
        "admit_count= Counter(clin['AdmitLocation']); admit_count"
      ],
      "execution_count": 0,
      "outputs": [
        {
          "output_type": "execute_result",
          "data": {
            "text/plain": [
              "Counter({nan: 92697,\n",
              "         'N.SUR ORTH': 326,\n",
              "         'N.MH CHADI': 113,\n",
              "         'N.SUR SS': 448,\n",
              "         'N.MH CHAD': 157,\n",
              "         'N.MED CARD': 931,\n",
              "         'N.MAU': 1543,\n",
              "         'N.MED ONC': 591,\n",
              "         'N.MED GER': 484,\n",
              "         'N.CC ICU': 122,\n",
              "         'N.SIMCU': 135,\n",
              "         'N.SUR GEN': 714,\n",
              "         'N.MED NEUR': 451,\n",
              "         'N.MED CT': 97,\n",
              "         'N.CC CCU': 292,\n",
              "         'N.ER IN': 670,\n",
              "         'N.MH INTEN': 156,\n",
              "         'N.WC PAED': 860,\n",
              "         'N.MH GER': 42,\n",
              "         'N.MED RESP': 499,\n",
              "         'N.MED SIM': 305,\n",
              "         'N.MH GENC': 38,\n",
              "         'N.MH GENB': 164,\n",
              "         'N.MED SIX': 314,\n",
              "         'N.MED DIAL': 29,\n",
              "         'N.MED CPU': 152,\n",
              "         'N.ERMH IN': 18,\n",
              "         'N.WC POST': 88,\n",
              "         'N.MAIN OR': 1,\n",
              "         'N.CC NICU': 1,\n",
              "         'N.MED FLEX': 4,\n",
              "         'N.MED DSU': 49,\n",
              "         'N.SUR DSU': 1})"
            ]
          },
          "metadata": {
            "tags": []
          },
          "execution_count": 45
        }
      ]
    },
    {
      "cell_type": "code",
      "metadata": {
        "id": "_BveNTpRE4s6",
        "colab_type": "code",
        "colab": {}
      },
      "source": [
        "clin['outcome'] = clin['AdmitLocation'].astype('str').map(\n",
        "{'N.CC CCU': 'madmit',\n",
        " 'N.CC ICU': 'ICU',\n",
        " 'N.ER IN' : 'madmit',\n",
        " 'N.ERMH IN': 'madmit',\n",
        " 'N.MAU': 'madmit',\n",
        " 'N.MED CARD': 'madmit',\n",
        " 'N.MED CPU': 'madmit',\n",
        " 'N.MED CT': 'madmit',\n",
        " 'N.MED GER': 'madmit',\n",
        " 'N.MED DIAL': 'madmit',\n",
        " 'N.MED NEUR': 'madmit',\n",
        " 'N.MED ONC': 'madmit',\n",
        " 'N.MED RESP': 'madmit',\n",
        " 'N.MED SIM': 'madmit',\n",
        " 'N.MED SIX': 'madmit',\n",
        " 'N.MH CHAD': 'madmit',\n",
        " 'N.MH CHADI': 'madmit',\n",
        " 'N.MH GENB': 'madmit',\n",
        " 'N.MH GER': 'madmit',\n",
        " 'N.MH INTEN': 'madmit',\n",
        " 'N.SIMCU': 'ICU',\n",
        " 'N.SUR GEN': 'sadmit',\n",
        " 'N.SUR ORTH': 'sadmit',\n",
        " 'N.SUR SS': 'sadmit',\n",
        " 'N.WC PAED': 'madmit',\n",
        " 'N.WC POST': 'madmit',\n",
        " 'N.MH GENC': 'madmit',\n",
        " 'N.CC NICU': 'ICU',\n",
        " 'N.WC LD': 'sadmit',\n",
        "  'N.WC LDN': 'sadmit',\n",
        "  'N.MAIN OR': 'sadmit',\n",
        "  'N.MED STTU': 'madmit',\n",
        "  'N.MED FLEX': 'madmit',\n",
        "    'N.MED DSU': 'madmit',\n",
        "    'N.SUR DSU': 'sadmit',\n",
        " 'nan': 'discharge'})"
      ],
      "execution_count": 0,
      "outputs": []
    },
    {
      "cell_type": "code",
      "metadata": {
        "id": "xRCR_czNE4s8",
        "colab_type": "code",
        "colab": {}
      },
      "source": [
        "#first target columns is based on the admitting location\n",
        "clin['target'] = clin['outcome'].map({'discharge': 1, 'madmit': 2, 'sadmit': 3, 'ICU': 4})"
      ],
      "execution_count": 0,
      "outputs": []
    },
    {
      "cell_type": "code",
      "metadata": {
        "id": "KCJhyWP8E4s_",
        "colab_type": "code",
        "colab": {},
        "outputId": "9debc637-a62b-4ffa-a2e5-01e2f880e65a"
      },
      "source": [
        "outcome_count = Counter(clin['outcome']); outcome_count"
      ],
      "execution_count": 0,
      "outputs": [
        {
          "output_type": "execute_result",
          "data": {
            "text/plain": [
              "Counter({'discharge': 92697, 'sadmit': 1490, 'madmit': 8047, 'ICU': 258})"
            ]
          },
          "metadata": {
            "tags": []
          },
          "execution_count": 48
        }
      ]
    },
    {
      "cell_type": "code",
      "metadata": {
        "id": "vtT3OwfHE4tB",
        "colab_type": "code",
        "colab": {},
        "outputId": "e9fe732e-7264-48d0-a7cb-07cf778ee605"
      },
      "source": [
        "target_count = Counter(clin['target']); target_count"
      ],
      "execution_count": 0,
      "outputs": [
        {
          "output_type": "execute_result",
          "data": {
            "text/plain": [
              "Counter({1: 92697, 3: 1490, 2: 8047, 4: 258})"
            ]
          },
          "metadata": {
            "tags": []
          },
          "execution_count": 49
        }
      ]
    },
    {
      "cell_type": "code",
      "metadata": {
        "id": "PCApVgaQE4tH",
        "colab_type": "code",
        "colab": {}
      },
      "source": [
        "clin['service'] = clin['PatientService'].astype('str').map(\n",
        "    {'nan': 'discharge',\n",
        "         'General Surgery': 'sadmit',\n",
        "         'Respirology': 'madmit',\n",
        "         'General Medicine': 'madmit',\n",
        "         'INTENSIVE CARE UNIT': 'ICU',\n",
        "         'Cardiology': 'madmit',\n",
        "         'Oncology': 'madmit',\n",
        "         'Palliative': 'madmit',\n",
        "         'AD PALLIATIVE': 'madmit',\n",
        "         'Genitourinary': 'sadmit',\n",
        "         'Paediatrics': 'madmit',\n",
        "         'Mental Health': 'madmit',\n",
        "         'Orthopaedics': 'sadmit',\n",
        "         'MH Child & Adolescent': 'madmit',\n",
        "         'AD Oncology': 'madmit',\n",
        "         'Neurology': 'madmit',\n",
        "         'ALC General Medicine': 'madmit',\n",
        "         'ALC General Surgery': 'sadmit',\n",
        "         'Acute Care for Elders': 'madmit',\n",
        "         'ALC Neurology': 'madmit',\n",
        "         'ALC Cardiology': 'madmit',\n",
        "         'ALC Respirology': 'madmit',\n",
        "         'ALC Orthopaedics': 'madmit',\n",
        "         'Neonatal Retro Transfers': 'madmit',\n",
        "         'Newborn': 'madmit',\n",
        "         'Obstetrics': 'madmit',\n",
        "         'ALC Oncology': 'madmit',\n",
        "         'AD General Medicine': 'madmit',\n",
        "         'AD Acute Care for Elders': 'madmit',\n",
        "         'AD Respirology': 'madmit',\n",
        "         'ALC ACUTE CARE FOR EDLERS': 'madmit',\n",
        "         'AD Cardiology': 'madmit',\n",
        "         'AD Neurology': 'madmit',\n",
        "         'ALC Palliative': 'madmit',\n",
        "         'AD General Surgery': 'sadmit'})"
      ],
      "execution_count": 0,
      "outputs": []
    },
    {
      "cell_type": "code",
      "metadata": {
        "id": "Zgu5EL1aE4tJ",
        "colab_type": "code",
        "colab": {},
        "outputId": "dbd5238f-95c3-4379-e6b2-cfcd3d17d126"
      },
      "source": [
        "service_count = Counter(clin['service'])\n",
        "service_count"
      ],
      "execution_count": 0,
      "outputs": [
        {
          "output_type": "execute_result",
          "data": {
            "text/plain": [
              "Counter({'discharge': 92697, 'sadmit': 1725, 'madmit': 7900, 'ICU': 170})"
            ]
          },
          "metadata": {
            "tags": []
          },
          "execution_count": 51
        }
      ]
    },
    {
      "cell_type": "code",
      "metadata": {
        "id": "fOuZR11uE4tL",
        "colab_type": "code",
        "colab": {}
      },
      "source": [
        "#second target is based on the admitting service\n",
        "clin['target2'] = clin['service'].map({'discharge': 1, 'madmit': 2, 'sadmit': 3, 'ICU': 4})"
      ],
      "execution_count": 0,
      "outputs": []
    },
    {
      "cell_type": "code",
      "metadata": {
        "id": "K9ncwud1E4tN",
        "colab_type": "code",
        "colab": {},
        "outputId": "5eb2c8c2-c8d1-4387-b891-c3ebf116334f"
      },
      "source": [
        "target2_count = Counter(clin['target2']); target2_count"
      ],
      "execution_count": 0,
      "outputs": [
        {
          "output_type": "execute_result",
          "data": {
            "text/plain": [
              "Counter({1: 92697, 3: 1725, 2: 7900, 4: 170})"
            ]
          },
          "metadata": {
            "tags": []
          },
          "execution_count": 53
        }
      ]
    },
    {
      "cell_type": "code",
      "metadata": {
        "id": "C1C_-FQZE4tQ",
        "colab_type": "code",
        "colab": {},
        "outputId": "80063c18-e06e-49bf-964b-b1febedc72c3"
      },
      "source": [
        "#creating this for later use to map the numbers in the dataframe column to their original meaning\n",
        "out_dict = {'discharge': 1, 'madmit': 2, 'sadmit': 3, 'ICU': 4}\n",
        "out_dict = {v:k for k,v in out_dict.items()}\n",
        "out_dict"
      ],
      "execution_count": 0,
      "outputs": [
        {
          "output_type": "execute_result",
          "data": {
            "text/plain": [
              "{1: 'discharge', 2: 'madmit', 3: 'sadmit', 4: 'ICU'}"
            ]
          },
          "metadata": {
            "tags": []
          },
          "execution_count": 54
        }
      ]
    },
    {
      "cell_type": "code",
      "metadata": {
        "id": "3mE_2IEYE4tS",
        "colab_type": "code",
        "colab": {}
      },
      "source": [
        "#discharge vs. not target\n",
        "clin['discharge'] = clin['outcome'].map({'discharge': 'discharge', 'madmit': 'admit', 'sadmit': 'admit', 'ICU': 'admit'})"
      ],
      "execution_count": 0,
      "outputs": []
    },
    {
      "cell_type": "code",
      "metadata": {
        "id": "Q8-_V0VeE4tU",
        "colab_type": "code",
        "colab": {}
      },
      "source": [
        "clin['target3'] = clin['outcome'].map({'discharge': 1, 'madmit': 0, 'sadmit': 0, 'ICU': 0})"
      ],
      "execution_count": 0,
      "outputs": []
    },
    {
      "cell_type": "code",
      "metadata": {
        "id": "J8gyPeWhE4tW",
        "colab_type": "code",
        "colab": {},
        "outputId": "e7fe332e-d4d9-41dc-afd2-c0dbcfa6500d"
      },
      "source": [
        "Counter(clin['discharge']), Counter(clin['target3'])"
      ],
      "execution_count": 0,
      "outputs": [
        {
          "output_type": "execute_result",
          "data": {
            "text/plain": [
              "(Counter({'discharge': 92697, 'admit': 9795}), Counter({1: 92697, 0: 9795}))"
            ]
          },
          "metadata": {
            "tags": []
          },
          "execution_count": 57
        }
      ]
    },
    {
      "cell_type": "code",
      "metadata": {
        "id": "FSz36Cf5E4td",
        "colab_type": "code",
        "colab": {}
      },
      "source": [
        "#a target for trying to tell apart the inpatient disposition, only in admitted patients\n",
        "clin['dispo']= clin['outcome'].map({'discharge': np.nan, 'madmit': 'madmit', 'sadmit': 'sadmit', 'ICU': 'ICU'})"
      ],
      "execution_count": 0,
      "outputs": []
    },
    {
      "cell_type": "code",
      "metadata": {
        "id": "soqztlIIE4tg",
        "colab_type": "code",
        "colab": {}
      },
      "source": [
        "clin['target4'] = clin['dispo'].map({np.nan:np.nan, 'madmit': 1, 'sadmit': 2, 'ICU': 3})\n",
        "#for some reason a can't make a counter out of this without it crashing so I've stopped trying"
      ],
      "execution_count": 0,
      "outputs": []
    },
    {
      "cell_type": "code",
      "metadata": {
        "id": "6dppvv5oE4tj",
        "colab_type": "code",
        "colab": {},
        "outputId": "0e682f15-6446-4369-de4e-881d5f3ef70f"
      },
      "source": [
        "Counter(clin['dispo']), Counter(clin['target4'].dropna())"
      ],
      "execution_count": 0,
      "outputs": [
        {
          "output_type": "execute_result",
          "data": {
            "text/plain": [
              "(Counter({nan: 92697, 'sadmit': 1490, 'madmit': 8047, 'ICU': 258}),\n",
              " Counter({2.0: 1490, 1.0: 8047, 3.0: 258}))"
            ]
          },
          "metadata": {
            "tags": []
          },
          "execution_count": 60
        }
      ]
    },
    {
      "cell_type": "code",
      "metadata": {
        "id": "oabgv_IRE4tm",
        "colab_type": "code",
        "colab": {}
      },
      "source": [
        "#gonna make a target that is ICU vs other\n",
        "clin['ICUvsother'] = clin['PatientService'][clin['PatientService'] == 'INTENSIVE CARE UNIT']\n",
        "#clin['PatientService']"
      ],
      "execution_count": 0,
      "outputs": []
    },
    {
      "cell_type": "code",
      "metadata": {
        "id": "f1KWQxKhE4tp",
        "colab_type": "code",
        "colab": {}
      },
      "source": [
        "clin['target5'] = clin['ICUvsother'].map({'INTENSIVE CARE UNIT':1, np.nan:0})"
      ],
      "execution_count": 0,
      "outputs": []
    },
    {
      "cell_type": "markdown",
      "metadata": {
        "id": "x0Z3iy8EE4tr",
        "colab_type": "text"
      },
      "source": [
        "#### now gonna do the date columns using fast ai"
      ]
    },
    {
      "cell_type": "code",
      "metadata": {
        "id": "nscwbtovE4tu",
        "colab_type": "code",
        "colab": {
          "base_uri": "https://localhost:8080/",
          "height": 34
        },
        "outputId": "c54e6e1f-3333-4a61-f891-cfbcf53bad68"
      },
      "source": [
        "clin.shape"
      ],
      "execution_count": 5,
      "outputs": [
        {
          "output_type": "execute_result",
          "data": {
            "text/plain": [
              "(165957, 59)"
            ]
          },
          "metadata": {
            "tags": []
          },
          "execution_count": 5
        }
      ]
    },
    {
      "cell_type": "code",
      "metadata": {
        "id": "efNLb8bvE4tw",
        "colab_type": "code",
        "colab": {}
      },
      "source": [
        "date_columns = ['Triage Date & Time', 'Reg Date & Time']\n",
        "for col in date_columns:\n",
        "    add_datepart(clin, col, drop = False, time = True)\n",
        "    add_cyclic_datepart(clin, col, time = True)"
      ],
      "execution_count": 0,
      "outputs": []
    },
    {
      "cell_type": "code",
      "metadata": {
        "id": "NqUTTAO9E4ty",
        "colab_type": "code",
        "colab": {
          "base_uri": "https://localhost:8080/",
          "height": 34
        },
        "outputId": "99b232c2-1355-486a-c8e4-26bb40268053"
      },
      "source": [
        "clin.shape"
      ],
      "execution_count": 9,
      "outputs": [
        {
          "output_type": "execute_result",
          "data": {
            "text/plain": [
              "(165957, 121)"
            ]
          },
          "metadata": {
            "tags": []
          },
          "execution_count": 9
        }
      ]
    },
    {
      "cell_type": "code",
      "metadata": {
        "id": "M_Yft0dRE4t0",
        "colab_type": "code",
        "colab": {}
      },
      "source": [
        "clin.to_csv(data_path + '/100kcompleterecords.csv', index = False)"
      ],
      "execution_count": 0,
      "outputs": []
    },
    {
      "cell_type": "markdown",
      "metadata": {
        "id": "2OXvXwuNE4t2",
        "colab_type": "text"
      },
      "source": [
        "### now on to the fast ai part\n",
        "\n",
        "let's remember this dictionary so we know what the various targets are:\n",
        "\n",
        "outcome: {'discharge': 106689, 'madmit': 12037, 'sadmit': 2061, 'ICU': 479}\n",
        "\n",
        "service: {'discharge': 106689, 'madmit': 12003, 'sadmit': 2278, 'ICU': 296}\n",
        "\n",
        "discharge: {'discharge': 106689, 'admit': 14577}\n",
        "\n",
        "dispo: {nan: 106689, 'madmit': 12037, 'sadmit': 2061, 'ICU': 479})(for admitted patients only, where did they go?\n",
        "\n",
        "ICUvsother:  self explanatory"
      ]
    },
    {
      "cell_type": "code",
      "metadata": {
        "id": "1dzg4S83E4t3",
        "colab_type": "code",
        "colab": {}
      },
      "source": [
        "cat_names =[\n",
        " 'Triage Date & TimeIs_month_end',\n",
        " 'Triage Date & TimeIs_month_start',\n",
        " 'Triage Date & TimeIs_quarter_end',\n",
        " 'Triage Date & TimeIs_quarter_start',\n",
        " 'Triage Date & TimeIs_year_end',\n",
        " 'Triage Date & TimeIs_year_start',\n",
        " 'Reg Date & TimeIs_month_end',\n",
        " 'Reg Date & TimeIs_month_start',\n",
        " 'Reg Date & TimeIs_quarter_end',\n",
        " 'Reg Date & TimeIs_quarter_start',\n",
        " 'Reg Date & TimeIs_year_end',\n",
        " 'Reg Date & TimeIs_year_start',\n",
        " 'GenderDesc',\n",
        " 'PresentingComplaintDesc',\n",
        " 'MainDiagnosisCodeDesc',\n",
        " 'Are you feeling feverish or have had shakes or chills in the last 24 hours?',\n",
        " 'Have you ever been isolated/required isolation for an infectious disease when receiving care in a healthcare setting?',\n",
        " 'Do you have a new Rash?',\n",
        " 'Do you have a new onset of Vomiting/Diarrhea in the last 24 hours?',\n",
        " 'Have you travelled outside of Canada/USA in the last 3 weeks?',\n",
        " 'Have you had contact with a sick person who has travelled outside of Canada/USA in the last 3 weeks?',\n",
        " 'Have you received Health Care in another country in the last 2 years?',\n",
        " 'Do you have a new/worse cough or shortness of breath?',\n",
        " 'If so, select all countries that apply',\n",
        " 'If so, select all infectious diseases that apply'\n",
        "]\n"
      ],
      "execution_count": 0,
      "outputs": []
    },
    {
      "cell_type": "code",
      "metadata": {
        "id": "_LyEmA38E4t5",
        "colab_type": "code",
        "colab": {}
      },
      "source": [
        "cont_names = [\n",
        " 'AgeNumber',\n",
        " 'Triage Date & TimeYear',\n",
        " 'Triage Date & TimeMonth',\n",
        " 'Triage Date & TimeWeek',\n",
        " 'Triage Date & TimeDay',\n",
        " 'Triage Date & TimeDayofweek',\n",
        " 'Triage Date & TimeDayofyear',\n",
        " 'Triage Date & TimeHour',\n",
        " 'Triage Date & TimeMinute',\n",
        " 'Triage Date & TimeSecond',\n",
        " 'Triage Date & TimeElapsed',\n",
        " 'Reg Date & TimeYear',\n",
        " 'Reg Date & TimeMonth',\n",
        " 'Reg Date & TimeWeek',\n",
        " 'Reg Date & TimeDay',\n",
        " 'Reg Date & TimeDayofweek',\n",
        " 'Reg Date & TimeDayofyear',\n",
        " 'Reg Date & TimeHour',\n",
        " 'Reg Date & TimeMinute',\n",
        " 'Reg Date & TimeSecond',\n",
        " 'Reg Date & TimeElapsed',\n",
        " 'num_comorbids']"
      ],
      "execution_count": 0,
      "outputs": []
    },
    {
      "cell_type": "code",
      "metadata": {
        "id": "1MppS4-OE4t9",
        "colab_type": "code",
        "colab": {}
      },
      "source": [
        "\n",
        "procs = [FillMissing, Categorify, Normalize]"
      ],
      "execution_count": 0,
      "outputs": []
    },
    {
      "cell_type": "code",
      "metadata": {
        "id": "dvkolZZIE4t_",
        "colab_type": "code",
        "colab": {}
      },
      "source": [
        "test = TabularList.from_df(clin.copy(),cat_names=cat_names, cont_names=cont_names)"
      ],
      "execution_count": 0,
      "outputs": []
    },
    {
      "cell_type": "code",
      "metadata": {
        "id": "HT0qwUwxE4uB",
        "colab_type": "code",
        "colab": {}
      },
      "source": [
        "valid_idxs = random.sample(range(len(clin)), len(clin)//5)"
      ],
      "execution_count": 0,
      "outputs": []
    },
    {
      "cell_type": "code",
      "metadata": {
        "id": "euGfMQeaMYpm",
        "colab_type": "code",
        "colab": {}
      },
      "source": [
        "valid_df = pd.DataFrame(valid_idxs)\n",
        "valid_df.to_csv(path + '/valid_idxs.csv', index=False)"
      ],
      "execution_count": 0,
      "outputs": []
    },
    {
      "cell_type": "code",
      "metadata": {
        "id": "5b3qFzXSE4uE",
        "colab_type": "code",
        "colab": {
          "base_uri": "https://localhost:8080/",
          "height": 34
        },
        "outputId": "14b00c5f-aeb0-48d5-95a2-edbb0090b9cb"
      },
      "source": [
        "len(test), len(valid_idxs)"
      ],
      "execution_count": 52,
      "outputs": [
        {
          "output_type": "execute_result",
          "data": {
            "text/plain": [
              "(165957, 33191)"
            ]
          },
          "metadata": {
            "tags": []
          },
          "execution_count": 52
        }
      ]
    },
    {
      "cell_type": "code",
      "metadata": {
        "id": "xR1KkGqvE4uG",
        "colab_type": "code",
        "colab": {}
      },
      "source": [
        "dep_var = 'discharge'  \n",
        "\n",
        "data = (TabularList.from_df(clin, path=path, cat_names=cat_names, cont_names=cont_names, procs=procs)\n",
        "                           .split_by_idx(valid_idxs)\n",
        "                           .label_from_df(cols=dep_var)\n",
        "                           .add_test(test)\n",
        "                           .databunch())"
      ],
      "execution_count": 0,
      "outputs": []
    },
    {
      "cell_type": "code",
      "metadata": {
        "id": "qtr_qhWEE4uI",
        "colab_type": "code",
        "colab": {}
      },
      "source": [
        "data.save(path + '/tabulardb')"
      ],
      "execution_count": 0,
      "outputs": []
    },
    {
      "cell_type": "code",
      "metadata": {
        "id": "rmI5yqFuE4uJ",
        "colab_type": "code",
        "colab": {}
      },
      "source": [
        "#f1 = FBeta(beta=1, average = 'weighted')\n",
        "\n",
        "learn = tabular_learner(data, layers=[100,50], metrics=[accuracy])\n"
      ],
      "execution_count": 0,
      "outputs": []
    },
    {
      "cell_type": "code",
      "metadata": {
        "id": "-ZZekjKlE4uM",
        "colab_type": "code",
        "colab": {
          "base_uri": "https://localhost:8080/",
          "height": 374
        },
        "outputId": "c3fd23cd-24e9-45dd-cfbe-04e4d0875cd5"
      },
      "source": [
        "learn.lr_find()\n",
        "learn.recorder.plot()"
      ],
      "execution_count": 55,
      "outputs": [
        {
          "output_type": "display_data",
          "data": {
            "text/html": [
              "\n",
              "    <div>\n",
              "        <style>\n",
              "            /* Turns off some styling */\n",
              "            progress {\n",
              "                /* gets rid of default border in Firefox and Opera. */\n",
              "                border: none;\n",
              "                /* Needs to be in here for Safari polyfill so background images work as expected. */\n",
              "                background-size: auto;\n",
              "            }\n",
              "            .progress-bar-interrupted, .progress-bar-interrupted::-webkit-progress-bar {\n",
              "                background: #F44336;\n",
              "            }\n",
              "        </style>\n",
              "      <progress value='0' class='' max='1', style='width:300px; height:20px; vertical-align: middle;'></progress>\n",
              "      0.00% [0/1 00:00<00:00]\n",
              "    </div>\n",
              "    \n",
              "<table border=\"1\" class=\"dataframe\">\n",
              "  <thead>\n",
              "    <tr style=\"text-align: left;\">\n",
              "      <th>epoch</th>\n",
              "      <th>train_loss</th>\n",
              "      <th>valid_loss</th>\n",
              "      <th>accuracy</th>\n",
              "      <th>time</th>\n",
              "    </tr>\n",
              "  </thead>\n",
              "  <tbody>\n",
              "  </tbody>\n",
              "</table><p>\n",
              "\n",
              "    <div>\n",
              "        <style>\n",
              "            /* Turns off some styling */\n",
              "            progress {\n",
              "                /* gets rid of default border in Firefox and Opera. */\n",
              "                border: none;\n",
              "                /* Needs to be in here for Safari polyfill so background images work as expected. */\n",
              "                background-size: auto;\n",
              "            }\n",
              "            .progress-bar-interrupted, .progress-bar-interrupted::-webkit-progress-bar {\n",
              "                background: #F44336;\n",
              "            }\n",
              "        </style>\n",
              "      <progress value='89' class='' max='2074', style='width:300px; height:20px; vertical-align: middle;'></progress>\n",
              "      4.29% [89/2074 00:02<00:45 0.9556]\n",
              "    </div>\n",
              "    "
            ],
            "text/plain": [
              "<IPython.core.display.HTML object>"
            ]
          },
          "metadata": {
            "tags": []
          }
        },
        {
          "output_type": "stream",
          "text": [
            "LR Finder is complete, type {learner_name}.recorder.plot() to see the graph.\n"
          ],
          "name": "stdout"
        },
        {
          "output_type": "display_data",
          "data": {
            "image/png": "[encoded data removed]",
            "text/plain": [
              "<Figure size 432x288 with 1 Axes>"
            ]
          },
          "metadata": {
            "tags": []
          }
        }
      ]
    },
    {
      "cell_type": "code",
      "metadata": {
        "id": "4rm3Ab8TE4uP",
        "colab_type": "code",
        "colab": {
          "base_uri": "https://localhost:8080/",
          "height": 204
        },
        "outputId": "39c7a615-8fc6-4c32-f2f3-0010a39379a8"
      },
      "source": [
        "learn.fit_one_cycle(5, 1e-2)"
      ],
      "execution_count": 56,
      "outputs": [
        {
          "output_type": "display_data",
          "data": {
            "text/html": [
              "<table border=\"1\" class=\"dataframe\">\n",
              "  <thead>\n",
              "    <tr style=\"text-align: left;\">\n",
              "      <th>epoch</th>\n",
              "      <th>train_loss</th>\n",
              "      <th>valid_loss</th>\n",
              "      <th>accuracy</th>\n",
              "      <th>time</th>\n",
              "    </tr>\n",
              "  </thead>\n",
              "  <tbody>\n",
              "    <tr>\n",
              "      <td>0</td>\n",
              "      <td>0.213584</td>\n",
              "      <td>0.229091</td>\n",
              "      <td>0.912868</td>\n",
              "      <td>00:46</td>\n",
              "    </tr>\n",
              "    <tr>\n",
              "      <td>1</td>\n",
              "      <td>0.208851</td>\n",
              "      <td>0.216282</td>\n",
              "      <td>0.916935</td>\n",
              "      <td>00:50</td>\n",
              "    </tr>\n",
              "    <tr>\n",
              "      <td>2</td>\n",
              "      <td>0.205636</td>\n",
              "      <td>0.213470</td>\n",
              "      <td>0.919255</td>\n",
              "      <td>00:50</td>\n",
              "    </tr>\n",
              "    <tr>\n",
              "      <td>3</td>\n",
              "      <td>0.190218</td>\n",
              "      <td>0.212242</td>\n",
              "      <td>0.919828</td>\n",
              "      <td>00:49</td>\n",
              "    </tr>\n",
              "    <tr>\n",
              "      <td>4</td>\n",
              "      <td>0.188574</td>\n",
              "      <td>0.211652</td>\n",
              "      <td>0.919225</td>\n",
              "      <td>00:45</td>\n",
              "    </tr>\n",
              "  </tbody>\n",
              "</table>"
            ],
            "text/plain": [
              "<IPython.core.display.HTML object>"
            ]
          },
          "metadata": {
            "tags": []
          }
        }
      ]
    },
    {
      "cell_type": "code",
      "metadata": {
        "id": "9cPlQjfOE4uR",
        "colab_type": "code",
        "colab": {
          "base_uri": "https://localhost:8080/",
          "height": 279
        },
        "outputId": "57531154-7f2a-45bb-fdd0-afa6424bb08d"
      },
      "source": [
        "learn.recorder.plot_losses()"
      ],
      "execution_count": 57,
      "outputs": [
        {
          "output_type": "display_data",
          "data": {
            "image/png": "[encoded data removed]",
            "text/plain": [
              "<Figure size 432x288 with 1 Axes>"
            ]
          },
          "metadata": {
            "tags": []
          }
        }
      ]
    },
    {
      "cell_type": "code",
      "metadata": {
        "id": "L8rNqAxkE4uT",
        "colab_type": "code",
        "colab": {
          "base_uri": "https://localhost:8080/",
          "height": 17
        },
        "outputId": "5f551e29-8f17-41d2-85a8-c351b7286e3a"
      },
      "source": [
        "preds, targets = learn.get_preds(DatasetType.Valid) \n",
        "predictions = np.argmax(preds, axis = 1)"
      ],
      "execution_count": 58,
      "outputs": [
        {
          "output_type": "display_data",
          "data": {
            "text/html": [
              ""
            ],
            "text/plain": [
              "<IPython.core.display.HTML object>"
            ]
          },
          "metadata": {
            "tags": []
          }
        }
      ]
    },
    {
      "cell_type": "code",
      "metadata": {
        "id": "JIilno29E4uV",
        "colab_type": "code",
        "colab": {
          "base_uri": "https://localhost:8080/",
          "height": 364
        },
        "outputId": "f743d3c5-1660-42b1-96c7-20d0f62f1116"
      },
      "source": [
        "LABELS = data.classes\n",
        "\n",
        "confusion_matrix = sklearn.metrics.confusion_matrix(targets, predictions)\n",
        "\n",
        "plt.figure(figsize=(5, 5))\n",
        "sns.heatmap(confusion_matrix, xticklabels=LABELS, yticklabels=LABELS, annot=True, fmt=\"d\", annot_kws={\"size\": 20});\n",
        "plt.title(\"Confusion matrix\", fontsize=20)\n",
        "plt.ylabel('True label', fontsize=20)\n",
        "plt.xlabel('Predicted label', fontsize=20)\n",
        "plt.show()"
      ],
      "execution_count": 59,
      "outputs": [
        {
          "output_type": "display_data",
          "data": {
            "image/png": "[encoded data removed]",
            "text/plain": [
              "<Figure size 360x360 with 2 Axes>"
            ]
          },
          "metadata": {
            "tags": []
          }
        }
      ]
    },
    {
      "cell_type": "code",
      "metadata": {
        "id": "u_EcwPanE4uX",
        "colab_type": "code",
        "colab": {
          "base_uri": "https://localhost:8080/",
          "height": 102
        },
        "outputId": "8e590bee-3f76-4557-982d-efefc732527e"
      },
      "source": [
        "f1_w = sklearn.metrics.f1_score(targets, predictions, average='weighted')\n",
        "f1 = sklearn.metrics.f1_score(targets, predictions, average=None)\n",
        "acc = sklearn.metrics.accuracy_score(targets, predictions)\n",
        "prec = sklearn.metrics.precision_score(targets,predictions, average = None)\n",
        "rec = sklearn.metrics.recall_score(targets,predictions, average = None)\n",
        "print ('weighted f1: ', f1_w)\n",
        "print ('f1:          ', f1)\n",
        "print ('accuracy:    ', acc)\n",
        "print ('precision:   ', prec)\n",
        "print ('recall:      ', rec)\n"
      ],
      "execution_count": 60,
      "outputs": [
        {
          "output_type": "stream",
          "text": [
            "weighted f1:  0.9088052070494043\n",
            "f1:           [0.485314 0.956173]\n",
            "accuracy:     0.9192250911391643\n",
            "precision:    [0.675936 0.933751]\n",
            "recall:       [0.378556 0.9797  ]\n"
          ],
          "name": "stdout"
        }
      ]
    },
    {
      "cell_type": "code",
      "metadata": {
        "id": "4v0oMFRPIs7u",
        "colab_type": "code",
        "colab": {}
      },
      "source": [
        "clin = pd.read_csv('/content/drive/My Drive/ML_data/balanced_admit_dc_combo_data.csv', index_col = 0,low_memory = False)"
      ],
      "execution_count": 0,
      "outputs": []
    },
    {
      "cell_type": "code",
      "metadata": {
        "colab_type": "code",
        "id": "JubIUlDoJUV9",
        "colab": {}
      },
      "source": [
        "date_columns = ['Triage Date & Time', 'Reg Date & Time']\n",
        "for col in date_columns:\n",
        "    add_datepart(clin, col, drop = False, time = True)\n",
        "    add_cyclic_datepart(clin, col, time = True)"
      ],
      "execution_count": 0,
      "outputs": []
    },
    {
      "cell_type": "code",
      "metadata": {
        "colab_type": "code",
        "outputId": "d867104c-bde7-4540-8d72-0fa251d2bc09",
        "id": "-sXZvrMiJUWH",
        "colab": {
          "base_uri": "https://localhost:8080/",
          "height": 34
        }
      },
      "source": [
        "clin.shape"
      ],
      "execution_count": 28,
      "outputs": [
        {
          "output_type": "execute_result",
          "data": {
            "text/plain": [
              "(32758, 121)"
            ]
          },
          "metadata": {
            "tags": []
          },
          "execution_count": 28
        }
      ]
    },
    {
      "cell_type": "code",
      "metadata": {
        "colab_type": "code",
        "id": "dI5Ko7hrJUWN",
        "colab": {}
      },
      "source": [
        "cat_names =[\n",
        " 'Triage Date & TimeIs_month_end',\n",
        " 'Triage Date & TimeIs_month_start',\n",
        " 'Triage Date & TimeIs_quarter_end',\n",
        " 'Triage Date & TimeIs_quarter_start',\n",
        " 'Triage Date & TimeIs_year_end',\n",
        " 'Triage Date & TimeIs_year_start',\n",
        " 'Reg Date & TimeIs_month_end',\n",
        " 'Reg Date & TimeIs_month_start',\n",
        " 'Reg Date & TimeIs_quarter_end',\n",
        " 'Reg Date & TimeIs_quarter_start',\n",
        " 'Reg Date & TimeIs_year_end',\n",
        " 'Reg Date & TimeIs_year_start',\n",
        " 'GenderDesc',\n",
        " 'PresentingComplaintDesc',\n",
        " 'MainDiagnosisCodeDesc',\n",
        " 'Are you feeling feverish or have had shakes or chills in the last 24 hours?',\n",
        " 'Have you ever been isolated/required isolation for an infectious disease when receiving care in a healthcare setting?',\n",
        " 'Do you have a new Rash?',\n",
        " 'Do you have a new onset of Vomiting/Diarrhea in the last 24 hours?',\n",
        " 'Have you travelled outside of Canada/USA in the last 3 weeks?',\n",
        " 'Have you had contact with a sick person who has travelled outside of Canada/USA in the last 3 weeks?',\n",
        " 'Have you received Health Care in another country in the last 2 years?',\n",
        " 'Do you have a new/worse cough or shortness of breath?',\n",
        " 'If so, select all countries that apply',\n",
        " 'If so, select all infectious diseases that apply'\n",
        "]\n"
      ],
      "execution_count": 0,
      "outputs": []
    },
    {
      "cell_type": "code",
      "metadata": {
        "colab_type": "code",
        "id": "NF7EjDNeJUWP",
        "colab": {}
      },
      "source": [
        "cont_names = [\n",
        " 'AgeNumber',\n",
        " 'Triage Date & TimeYear',\n",
        " 'Triage Date & TimeMonth',\n",
        " 'Triage Date & TimeWeek',\n",
        " 'Triage Date & TimeDay',\n",
        " 'Triage Date & TimeDayofweek',\n",
        " 'Triage Date & TimeDayofyear',\n",
        " 'Triage Date & TimeHour',\n",
        " 'Triage Date & TimeMinute',\n",
        " 'Triage Date & TimeSecond',\n",
        " 'Triage Date & TimeElapsed',\n",
        " 'Reg Date & TimeYear',\n",
        " 'Reg Date & TimeMonth',\n",
        " 'Reg Date & TimeWeek',\n",
        " 'Reg Date & TimeDay',\n",
        " 'Reg Date & TimeDayofweek',\n",
        " 'Reg Date & TimeDayofyear',\n",
        " 'Reg Date & TimeHour',\n",
        " 'Reg Date & TimeMinute',\n",
        " 'Reg Date & TimeSecond',\n",
        " 'Reg Date & TimeElapsed',\n",
        " 'num_comorbids']"
      ],
      "execution_count": 0,
      "outputs": []
    },
    {
      "cell_type": "code",
      "metadata": {
        "colab_type": "code",
        "id": "y4JeoDvAJUWR",
        "colab": {}
      },
      "source": [
        "\n",
        "procs = [FillMissing, Categorify, Normalize]"
      ],
      "execution_count": 0,
      "outputs": []
    },
    {
      "cell_type": "code",
      "metadata": {
        "colab_type": "code",
        "id": "2JUSr56ZJUWS",
        "colab": {}
      },
      "source": [
        "test = TabularList.from_df(clin.copy(),cat_names=cat_names, cont_names=cont_names)"
      ],
      "execution_count": 0,
      "outputs": []
    },
    {
      "cell_type": "code",
      "metadata": {
        "colab_type": "code",
        "id": "nr2s0xwQJUWU",
        "colab": {}
      },
      "source": [
        "valid_idxs = random.sample(range(len(clin)), len(clin)//5)"
      ],
      "execution_count": 0,
      "outputs": []
    },
    {
      "cell_type": "code",
      "metadata": {
        "colab_type": "code",
        "outputId": "ea0be901-18ea-4f98-c18a-b86b202d4cfc",
        "id": "zZe0P2y1JUWW",
        "colab": {
          "base_uri": "https://localhost:8080/",
          "height": 34
        }
      },
      "source": [
        "len(test), len(valid_idxs)"
      ],
      "execution_count": 31,
      "outputs": [
        {
          "output_type": "execute_result",
          "data": {
            "text/plain": [
              "(32758, 6551)"
            ]
          },
          "metadata": {
            "tags": []
          },
          "execution_count": 31
        }
      ]
    },
    {
      "cell_type": "code",
      "metadata": {
        "colab_type": "code",
        "id": "v4oC5Vg1JUWZ",
        "colab": {}
      },
      "source": [
        "dep_var = 'discharge'  \n",
        "\n",
        "data = (TabularList.from_df(clin, path=path, cat_names=cat_names, cont_names=cont_names, procs=procs)\n",
        "                           .split_by_idx(valid_idxs)\n",
        "                           .label_from_df(cols=dep_var)\n",
        "                           .add_test(test)\n",
        "                           .databunch())"
      ],
      "execution_count": 0,
      "outputs": []
    },
    {
      "cell_type": "code",
      "metadata": {
        "colab_type": "code",
        "id": "MxWI-niLJUWa",
        "colab": {}
      },
      "source": [
        "data.save(path + '/tabulardb')"
      ],
      "execution_count": 0,
      "outputs": []
    },
    {
      "cell_type": "code",
      "metadata": {
        "colab_type": "code",
        "id": "KtcmQIGxJUWc",
        "colab": {}
      },
      "source": [
        "#f1 = FBeta(beta=1, average = 'weighted')\n",
        "\n",
        "learn = tabular_learner(data, layers=[200,100], metrics=[accuracy])\n"
      ],
      "execution_count": 0,
      "outputs": []
    },
    {
      "cell_type": "code",
      "metadata": {
        "colab_type": "code",
        "outputId": "5d3dd847-9670-4173-a81b-e8d2b202ff19",
        "id": "j2GqHgtWJUWe",
        "colab": {
          "base_uri": "https://localhost:8080/",
          "height": 374
        }
      },
      "source": [
        "learn.lr_find()\n",
        "learn.recorder.plot()"
      ],
      "execution_count": 34,
      "outputs": [
        {
          "output_type": "display_data",
          "data": {
            "text/html": [
              "\n",
              "    <div>\n",
              "        <style>\n",
              "            /* Turns off some styling */\n",
              "            progress {\n",
              "                /* gets rid of default border in Firefox and Opera. */\n",
              "                border: none;\n",
              "                /* Needs to be in here for Safari polyfill so background images work as expected. */\n",
              "                background-size: auto;\n",
              "            }\n",
              "            .progress-bar-interrupted, .progress-bar-interrupted::-webkit-progress-bar {\n",
              "                background: #F44336;\n",
              "            }\n",
              "        </style>\n",
              "      <progress value='0' class='' max='1', style='width:300px; height:20px; vertical-align: middle;'></progress>\n",
              "      0.00% [0/1 00:00<00:00]\n",
              "    </div>\n",
              "    \n",
              "<table border=\"1\" class=\"dataframe\">\n",
              "  <thead>\n",
              "    <tr style=\"text-align: left;\">\n",
              "      <th>epoch</th>\n",
              "      <th>train_loss</th>\n",
              "      <th>valid_loss</th>\n",
              "      <th>accuracy</th>\n",
              "      <th>time</th>\n",
              "    </tr>\n",
              "  </thead>\n",
              "  <tbody>\n",
              "  </tbody>\n",
              "</table><p>\n",
              "\n",
              "    <div>\n",
              "        <style>\n",
              "            /* Turns off some styling */\n",
              "            progress {\n",
              "                /* gets rid of default border in Firefox and Opera. */\n",
              "                border: none;\n",
              "                /* Needs to be in here for Safari polyfill so background images work as expected. */\n",
              "                background-size: auto;\n",
              "            }\n",
              "            .progress-bar-interrupted, .progress-bar-interrupted::-webkit-progress-bar {\n",
              "                background: #F44336;\n",
              "            }\n",
              "        </style>\n",
              "      <progress value='91' class='' max='409', style='width:300px; height:20px; vertical-align: middle;'></progress>\n",
              "      22.25% [91/409 00:01<00:06 1.6837]\n",
              "    </div>\n",
              "    "
            ],
            "text/plain": [
              "<IPython.core.display.HTML object>"
            ]
          },
          "metadata": {
            "tags": []
          }
        },
        {
          "output_type": "stream",
          "text": [
            "LR Finder is complete, type {learner_name}.recorder.plot() to see the graph.\n"
          ],
          "name": "stdout"
        },
        {
          "output_type": "display_data",
          "data": {
            "image/png": "[encoded data removed]",
            "text/plain": [
              "<Figure size 432x288 with 1 Axes>"
            ]
          },
          "metadata": {
            "tags": []
          }
        }
      ]
    },
    {
      "cell_type": "code",
      "metadata": {
        "colab_type": "code",
        "outputId": "d65c4af5-5950-4daf-b3ee-c42b77785f06",
        "id": "FxoLuXrjJUWf",
        "colab": {
          "base_uri": "https://localhost:8080/",
          "height": 359
        }
      },
      "source": [
        "learn.fit_one_cycle(10, 1e-3)"
      ],
      "execution_count": 40,
      "outputs": [
        {
          "output_type": "display_data",
          "data": {
            "text/html": [
              "<table border=\"1\" class=\"dataframe\">\n",
              "  <thead>\n",
              "    <tr style=\"text-align: left;\">\n",
              "      <th>epoch</th>\n",
              "      <th>train_loss</th>\n",
              "      <th>valid_loss</th>\n",
              "      <th>accuracy</th>\n",
              "      <th>time</th>\n",
              "    </tr>\n",
              "  </thead>\n",
              "  <tbody>\n",
              "    <tr>\n",
              "      <td>0</td>\n",
              "      <td>0.356489</td>\n",
              "      <td>0.431890</td>\n",
              "      <td>0.811021</td>\n",
              "      <td>00:08</td>\n",
              "    </tr>\n",
              "    <tr>\n",
              "      <td>1</td>\n",
              "      <td>0.350106</td>\n",
              "      <td>0.432528</td>\n",
              "      <td>0.807816</td>\n",
              "      <td>00:08</td>\n",
              "    </tr>\n",
              "    <tr>\n",
              "      <td>2</td>\n",
              "      <td>0.356679</td>\n",
              "      <td>0.432999</td>\n",
              "      <td>0.809189</td>\n",
              "      <td>00:08</td>\n",
              "    </tr>\n",
              "    <tr>\n",
              "      <td>3</td>\n",
              "      <td>0.350061</td>\n",
              "      <td>0.434635</td>\n",
              "      <td>0.809189</td>\n",
              "      <td>00:08</td>\n",
              "    </tr>\n",
              "    <tr>\n",
              "      <td>4</td>\n",
              "      <td>0.351976</td>\n",
              "      <td>0.437307</td>\n",
              "      <td>0.812242</td>\n",
              "      <td>00:08</td>\n",
              "    </tr>\n",
              "    <tr>\n",
              "      <td>5</td>\n",
              "      <td>0.342573</td>\n",
              "      <td>0.443178</td>\n",
              "      <td>0.805068</td>\n",
              "      <td>00:08</td>\n",
              "    </tr>\n",
              "    <tr>\n",
              "      <td>6</td>\n",
              "      <td>0.344181</td>\n",
              "      <td>0.438542</td>\n",
              "      <td>0.806900</td>\n",
              "      <td>00:08</td>\n",
              "    </tr>\n",
              "    <tr>\n",
              "      <td>7</td>\n",
              "      <td>0.333394</td>\n",
              "      <td>0.443989</td>\n",
              "      <td>0.808274</td>\n",
              "      <td>00:08</td>\n",
              "    </tr>\n",
              "    <tr>\n",
              "      <td>8</td>\n",
              "      <td>0.342947</td>\n",
              "      <td>0.445694</td>\n",
              "      <td>0.808426</td>\n",
              "      <td>00:08</td>\n",
              "    </tr>\n",
              "    <tr>\n",
              "      <td>9</td>\n",
              "      <td>0.325650</td>\n",
              "      <td>0.446917</td>\n",
              "      <td>0.807205</td>\n",
              "      <td>00:08</td>\n",
              "    </tr>\n",
              "  </tbody>\n",
              "</table>"
            ],
            "text/plain": [
              "<IPython.core.display.HTML object>"
            ]
          },
          "metadata": {
            "tags": []
          }
        }
      ]
    },
    {
      "cell_type": "code",
      "metadata": {
        "colab_type": "code",
        "outputId": "f7de40ac-921e-4855-e067-5d2145a516b7",
        "id": "6OCcO6ueJUWh",
        "colab": {
          "base_uri": "https://localhost:8080/",
          "height": 279
        }
      },
      "source": [
        "learn.recorder.plot_losses()"
      ],
      "execution_count": 41,
      "outputs": [
        {
          "output_type": "display_data",
          "data": {
            "image/png": "[encoded data removed]",
            "text/plain": [
              "<Figure size 432x288 with 1 Axes>"
            ]
          },
          "metadata": {
            "tags": []
          }
        }
      ]
    },
    {
      "cell_type": "code",
      "metadata": {
        "colab_type": "code",
        "id": "JbzfPphPJUWk",
        "colab": {
          "base_uri": "https://localhost:8080/",
          "height": 17
        },
        "outputId": "d667e1ae-372c-4975-93d0-1609c23b1da7"
      },
      "source": [
        "preds, targets = learn.get_preds(DatasetType.Valid) \n",
        "predictions = np.argmax(preds, axis = 1)"
      ],
      "execution_count": 42,
      "outputs": [
        {
          "output_type": "display_data",
          "data": {
            "text/html": [
              ""
            ],
            "text/plain": [
              "<IPython.core.display.HTML object>"
            ]
          },
          "metadata": {
            "tags": []
          }
        }
      ]
    },
    {
      "cell_type": "code",
      "metadata": {
        "colab_type": "code",
        "outputId": "dfd1eba0-2806-45cc-b3c3-7689708e957b",
        "id": "9KzxLU3NJUWl",
        "colab": {
          "base_uri": "https://localhost:8080/",
          "height": 364
        }
      },
      "source": [
        "LABELS = data.classes\n",
        "\n",
        "confusion_matrix = sklearn.metrics.confusion_matrix(targets, predictions)\n",
        "\n",
        "plt.figure(figsize=(5, 5))\n",
        "sns.heatmap(confusion_matrix, xticklabels=LABELS, yticklabels=LABELS, annot=True, fmt=\"d\", annot_kws={\"size\": 20});\n",
        "plt.title(\"Confusion matrix\", fontsize=20)\n",
        "plt.ylabel('True label', fontsize=20)\n",
        "plt.xlabel('Predicted label', fontsize=20)\n",
        "plt.show()"
      ],
      "execution_count": 43,
      "outputs": [
        {
          "output_type": "display_data",
          "data": {
            "image/png": "[encoded data removed]",
            "text/plain": [
              "<Figure size 360x360 with 2 Axes>"
            ]
          },
          "metadata": {
            "tags": []
          }
        }
      ]
    },
    {
      "cell_type": "code",
      "metadata": {
        "colab_type": "code",
        "outputId": "aa442946-6bbb-4a75-96dd-78f1d96229e2",
        "id": "HGWodCRxJUWn",
        "colab": {
          "base_uri": "https://localhost:8080/",
          "height": 102
        }
      },
      "source": [
        "f1_w = sklearn.metrics.f1_score(targets, predictions, average='weighted')\n",
        "f1 = sklearn.metrics.f1_score(targets, predictions, average=None)\n",
        "acc = sklearn.metrics.accuracy_score(targets, predictions)\n",
        "prec = sklearn.metrics.precision_score(targets,predictions, average = None)\n",
        "rec = sklearn.metrics.recall_score(targets,predictions, average = None)\n",
        "print ('weighted f1: ', f1_w)\n",
        "print ('f1:          ', f1)\n",
        "print ('accuracy:    ', acc)\n",
        "print ('precision:   ', prec)\n",
        "print ('recall:      ', rec)\n"
      ],
      "execution_count": 44,
      "outputs": [
        {
          "output_type": "stream",
          "text": [
            "weighted f1:  0.8071364211845805\n",
            "f1:           [0.811239 0.802995]\n",
            "accuracy:     0.8072050068691803\n",
            "precision:    [0.798235 0.816884]\n",
            "recall:       [0.824673 0.789571]\n"
          ],
          "name": "stdout"
        }
      ]
    },
    {
      "cell_type": "markdown",
      "metadata": {
        "id": "2V-_esF9E4uY",
        "colab_type": "text"
      },
      "source": [
        "#### now gonna try again with a different target - ICU vs other"
      ]
    },
    {
      "cell_type": "code",
      "metadata": {
        "id": "o4QlgZQsE4uZ",
        "colab_type": "code",
        "colab": {}
      },
      "source": [
        "dep_var = 'target5'\n",
        "\n",
        "test = TabularList.from_df(clin.copy(),cat_names=cat_names, cont_names=cont_names)\n",
        "\n",
        "valid_idxs = random.sample(range(len(clin)), len(clin)//5)\n",
        "\n",
        "data = (TabularList.from_df(clin, path=path, cat_names=cat_names, cont_names=cont_names, procs=procs)\n",
        "                           .split_by_idx(valid_idxs)\n",
        "                           .label_from_df(cols=dep_var)\n",
        "                           .add_test(test)\n",
        "                           .databunch())\n",
        "\n",
        "learn2 = tabular_learner(data, layers=[200,100], metrics=[accuracy])"
      ],
      "execution_count": 0,
      "outputs": []
    },
    {
      "cell_type": "code",
      "metadata": {
        "id": "UxMcS7ooE4ub",
        "colab_type": "code",
        "colab": {},
        "outputId": "82a3eb62-8d47-4b88-a373-cf0be9d285bb"
      },
      "source": [
        "learn2.fit_one_cycle(5, 1e-2)"
      ],
      "execution_count": 0,
      "outputs": [
        {
          "output_type": "display_data",
          "data": {
            "text/html": [
              "<table border=\"1\" class=\"dataframe\">\n",
              "  <thead>\n",
              "    <tr style=\"text-align: left;\">\n",
              "      <th>epoch</th>\n",
              "      <th>train_loss</th>\n",
              "      <th>valid_loss</th>\n",
              "      <th>accuracy</th>\n",
              "      <th>time</th>\n",
              "    </tr>\n",
              "  </thead>\n",
              "  <tbody>\n",
              "    <tr>\n",
              "      <td>0</td>\n",
              "      <td>0.009135</td>\n",
              "      <td>0.010627</td>\n",
              "      <td>0.998439</td>\n",
              "      <td>00:23</td>\n",
              "    </tr>\n",
              "    <tr>\n",
              "      <td>1</td>\n",
              "      <td>0.013064</td>\n",
              "      <td>0.010234</td>\n",
              "      <td>0.998439</td>\n",
              "      <td>00:23</td>\n",
              "    </tr>\n",
              "    <tr>\n",
              "      <td>2</td>\n",
              "      <td>0.010707</td>\n",
              "      <td>0.009592</td>\n",
              "      <td>0.998439</td>\n",
              "      <td>00:23</td>\n",
              "    </tr>\n",
              "    <tr>\n",
              "      <td>3</td>\n",
              "      <td>0.007843</td>\n",
              "      <td>0.062234</td>\n",
              "      <td>0.998439</td>\n",
              "      <td>00:23</td>\n",
              "    </tr>\n",
              "    <tr>\n",
              "      <td>4</td>\n",
              "      <td>0.006302</td>\n",
              "      <td>0.010187</td>\n",
              "      <td>0.998439</td>\n",
              "      <td>00:23</td>\n",
              "    </tr>\n",
              "  </tbody>\n",
              "</table>"
            ],
            "text/plain": [
              "<IPython.core.display.HTML object>"
            ]
          },
          "metadata": {
            "tags": []
          }
        }
      ]
    },
    {
      "cell_type": "code",
      "metadata": {
        "id": "ubNmilaTE4uh",
        "colab_type": "code",
        "colab": {}
      },
      "source": [
        "preds, targets = learn2.get_preds(DatasetType.Valid) \n",
        "predictions = np.argmax(preds, axis = 1)"
      ],
      "execution_count": 0,
      "outputs": []
    },
    {
      "cell_type": "code",
      "metadata": {
        "id": "mvpETgEIE4uj",
        "colab_type": "code",
        "colab": {},
        "outputId": "153513f7-f2a2-4f0c-9e76-7614a93907f4"
      },
      "source": [
        "LABELS = data.classes\n",
        "\n",
        "confusion_matrix = sklearn.metrics.confusion_matrix(targets, predictions)\n",
        "\n",
        "plt.figure(figsize=(5, 5))\n",
        "sns.heatmap(confusion_matrix, xticklabels=LABELS, yticklabels=LABELS, annot=True, fmt=\"d\", annot_kws={\"size\": 20});\n",
        "plt.title(\"Confusion matrix\", fontsize=20)\n",
        "plt.ylabel('True label', fontsize=20)\n",
        "plt.xlabel('Predicted label', fontsize=20)\n",
        "plt.show()"
      ],
      "execution_count": 0,
      "outputs": [
        {
          "output_type": "display_data",
          "data": {
            "image/png": "[encoded data removed]",
            "text/plain": [
              "<Figure size 360x360 with 2 Axes>"
            ]
          },
          "metadata": {
            "tags": [],
            "needs_background": "light"
          }
        }
      ]
    },
    {
      "cell_type": "code",
      "metadata": {
        "id": "mH5HVs_oE4um",
        "colab_type": "code",
        "colab": {},
        "outputId": "703b7fb6-c9ce-46aa-a9be-98f00c12af4a"
      },
      "source": [
        "f1_w = sklearn.metrics.f1_score(targets, predictions, average='weighted')\n",
        "f1 = sklearn.metrics.f1_score(targets, predictions, average=None)\n",
        "acc = sklearn.metrics.accuracy_score(targets, predictions)\n",
        "prec = sklearn.metrics.precision_score(targets,predictions, average = None)\n",
        "rec = sklearn.metrics.recall_score(targets,predictions, average = None)\n",
        "print ('weighted f1: ', f1_w)\n",
        "print ('f1:          ', f1)\n",
        "print ('accuracy:    ', acc)\n",
        "print ('precision:   ', prec)\n",
        "print ('recall:      ', rec)\n"
      ],
      "execution_count": 0,
      "outputs": [
        {
          "output_type": "stream",
          "text": [
            "weighted f1:  0.9977507108556443\n",
            "f1:           [0.999219 0.058824]\n",
            "accuracy:     0.9984388720850814\n",
            "precision:    [0.998488 0.5     ]\n",
            "recall:       [0.999951 0.03125 ]\n"
          ],
          "name": "stdout"
        }
      ]
    },
    {
      "cell_type": "code",
      "metadata": {
        "id": "CNgV-oTyE4uo",
        "colab_type": "code",
        "colab": {}
      },
      "source": [
        "clin = pd.read_csv(data_path + '/100kcompleterecords.csv')"
      ],
      "execution_count": 0,
      "outputs": []
    },
    {
      "cell_type": "code",
      "metadata": {
        "id": "CzKTIvRME4up",
        "colab_type": "code",
        "colab": {}
      },
      "source": [
        "dep_var = 'service'\n",
        "\n",
        "test = TabularList.from_df(clin.copy(),cat_names=cat_names, cont_names=cont_names)\n",
        "\n",
        "valid_idxs = random.sample(range(len(clin)), len(clin)//5)\n",
        "\n",
        "data = (TabularList.from_df(clin, path=path, cat_names=cat_names, cont_names=cont_names, procs=procs)\n",
        "                           .split_by_idx(valid_idxs)\n",
        "                           .label_from_df(cols=dep_var)\n",
        "                           .add_test(test)\n",
        "                           .databunch())\n",
        "learn3 = tabular_learner(data, layers=[200,100], metrics=[accuracy])"
      ],
      "execution_count": 0,
      "outputs": []
    },
    {
      "cell_type": "code",
      "metadata": {
        "id": "NCrhGsNDE4us",
        "colab_type": "code",
        "colab": {},
        "outputId": "cdeb712c-f856-480f-d5af-cd30b9b4947c"
      },
      "source": [
        "learn3.fit_one_cycle(5, 1e-2)"
      ],
      "execution_count": 0,
      "outputs": [
        {
          "output_type": "display_data",
          "data": {
            "text/html": [
              "<table border=\"1\" class=\"dataframe\">\n",
              "  <thead>\n",
              "    <tr style=\"text-align: left;\">\n",
              "      <th>epoch</th>\n",
              "      <th>train_loss</th>\n",
              "      <th>valid_loss</th>\n",
              "      <th>accuracy</th>\n",
              "      <th>time</th>\n",
              "    </tr>\n",
              "  </thead>\n",
              "  <tbody>\n",
              "    <tr>\n",
              "      <td>0</td>\n",
              "      <td>0.247050</td>\n",
              "      <td>0.251622</td>\n",
              "      <td>0.917699</td>\n",
              "      <td>00:24</td>\n",
              "    </tr>\n",
              "    <tr>\n",
              "      <td>1</td>\n",
              "      <td>0.245402</td>\n",
              "      <td>0.242654</td>\n",
              "      <td>0.922041</td>\n",
              "      <td>00:24</td>\n",
              "    </tr>\n",
              "    <tr>\n",
              "      <td>2</td>\n",
              "      <td>0.226665</td>\n",
              "      <td>0.234371</td>\n",
              "      <td>0.924041</td>\n",
              "      <td>00:24</td>\n",
              "    </tr>\n",
              "    <tr>\n",
              "      <td>3</td>\n",
              "      <td>0.212135</td>\n",
              "      <td>0.232763</td>\n",
              "      <td>0.923749</td>\n",
              "      <td>00:24</td>\n",
              "    </tr>\n",
              "    <tr>\n",
              "      <td>4</td>\n",
              "      <td>0.206278</td>\n",
              "      <td>0.233248</td>\n",
              "      <td>0.923993</td>\n",
              "      <td>00:24</td>\n",
              "    </tr>\n",
              "  </tbody>\n",
              "</table>"
            ],
            "text/plain": [
              "<IPython.core.display.HTML object>"
            ]
          },
          "metadata": {
            "tags": []
          }
        }
      ]
    },
    {
      "cell_type": "code",
      "metadata": {
        "id": "hnde1EiZE4uv",
        "colab_type": "code",
        "colab": {}
      },
      "source": [
        "preds, targets = learn3.get_preds(DatasetType.Valid) \n",
        "predictions = np.argmax(preds, axis = 1)"
      ],
      "execution_count": 0,
      "outputs": []
    },
    {
      "cell_type": "code",
      "metadata": {
        "id": "7K1OVKVPE4uy",
        "colab_type": "code",
        "colab": {},
        "outputId": "3411159b-e80e-4b1f-8451-0b9693c1d707"
      },
      "source": [
        "LABELS = data.classes\n",
        "\n",
        "confusion_matrix = sklearn.metrics.confusion_matrix(targets, predictions)\n",
        "\n",
        "plt.figure(figsize=(5, 5))\n",
        "sns.heatmap(confusion_matrix, xticklabels=LABELS, yticklabels=LABELS, annot=True, fmt=\"d\", annot_kws={\"size\": 20});\n",
        "plt.title(\"Confusion matrix\", fontsize=20)\n",
        "plt.ylabel('True label', fontsize=20)\n",
        "plt.xlabel('Predicted label', fontsize=20)\n",
        "plt.show()"
      ],
      "execution_count": 0,
      "outputs": [
        {
          "output_type": "display_data",
          "data": {
            "image/png": "[encoded data removed]",
            "text/plain": [
              "<Figure size 360x360 with 2 Axes>"
            ]
          },
          "metadata": {
            "tags": [],
            "needs_background": "light"
          }
        }
      ]
    },
    {
      "cell_type": "code",
      "metadata": {
        "id": "yaTsQJZSE4u0",
        "colab_type": "code",
        "colab": {},
        "outputId": "ba960068-7616-4395-f130-77e2e51c035e"
      },
      "source": [
        "f1_w = sklearn.metrics.f1_score(targets, predictions, average='weighted')\n",
        "f1 = sklearn.metrics.f1_score(targets, predictions, average=None)\n",
        "acc = sklearn.metrics.accuracy_score(targets, predictions)\n",
        "prec = sklearn.metrics.precision_score(targets,predictions, average = None)\n",
        "rec = sklearn.metrics.recall_score(targets,predictions, average = None)\n",
        "print ('weighted f1: ', f1_w)\n",
        "print ('f1:          ', f1)\n",
        "print ('accuracy:    ', acc)\n",
        "print ('precision:   ', prec)\n",
        "print ('recall:      ', rec)\n"
      ],
      "execution_count": 0,
      "outputs": [
        {
          "output_type": "stream",
          "text": [
            "weighted f1:  0.913154318648459\n",
            "f1:           [0.       0.960921 0.485966 0.469388]\n",
            "accuracy:     0.9239925846424042\n",
            "precision:    [0.       0.938906 0.681665 0.60262 ]\n",
            "recall:       [0.       0.983993 0.37757  0.384401]\n"
          ],
          "name": "stdout"
        }
      ]
    },
    {
      "cell_type": "code",
      "metadata": {
        "id": "0226OcufE4u1",
        "colab_type": "code",
        "colab": {}
      },
      "source": [
        "dep_var = 'outcome'\n",
        "\n",
        "test = TabularList.from_df(clin.copy(),cat_names=cat_names, cont_names=cont_names)\n",
        "\n",
        "valid_idxs = random.sample(range(len(clin)), len(clin)//5)\n",
        "\n",
        "data = (TabularList.from_df(clin, path=path, cat_names=cat_names, cont_names=cont_names, procs=procs)\n",
        "                           .split_by_idx(valid_idxs)\n",
        "                           .label_from_df(cols=dep_var)\n",
        "                           .add_test(test)\n",
        "                           .databunch())\n",
        "learn4 = tabular_learner(data, layers=[200,100], metrics=[accuracy])"
      ],
      "execution_count": 0,
      "outputs": []
    },
    {
      "cell_type": "code",
      "metadata": {
        "id": "DcwA3pWVE4u3",
        "colab_type": "code",
        "colab": {},
        "outputId": "941aad16-96b6-4736-9fe2-9cb8659c90fa"
      },
      "source": [
        "learn4.fit_one_cycle(5, 1e-2)"
      ],
      "execution_count": 0,
      "outputs": [
        {
          "output_type": "display_data",
          "data": {
            "text/html": [
              "<table border=\"1\" class=\"dataframe\">\n",
              "  <thead>\n",
              "    <tr style=\"text-align: left;\">\n",
              "      <th>epoch</th>\n",
              "      <th>train_loss</th>\n",
              "      <th>valid_loss</th>\n",
              "      <th>accuracy</th>\n",
              "      <th>time</th>\n",
              "    </tr>\n",
              "  </thead>\n",
              "  <tbody>\n",
              "    <tr>\n",
              "      <td>0</td>\n",
              "      <td>0.259874</td>\n",
              "      <td>0.245116</td>\n",
              "      <td>0.922090</td>\n",
              "      <td>00:23</td>\n",
              "    </tr>\n",
              "    <tr>\n",
              "      <td>1</td>\n",
              "      <td>0.243131</td>\n",
              "      <td>0.235890</td>\n",
              "      <td>0.922871</td>\n",
              "      <td>00:24</td>\n",
              "    </tr>\n",
              "    <tr>\n",
              "      <td>2</td>\n",
              "      <td>0.220609</td>\n",
              "      <td>0.242940</td>\n",
              "      <td>0.923310</td>\n",
              "      <td>00:23</td>\n",
              "    </tr>\n",
              "    <tr>\n",
              "      <td>3</td>\n",
              "      <td>0.218350</td>\n",
              "      <td>0.266943</td>\n",
              "      <td>0.922431</td>\n",
              "      <td>00:24</td>\n",
              "    </tr>\n",
              "    <tr>\n",
              "      <td>4</td>\n",
              "      <td>0.204541</td>\n",
              "      <td>0.264989</td>\n",
              "      <td>0.923651</td>\n",
              "      <td>00:23</td>\n",
              "    </tr>\n",
              "  </tbody>\n",
              "</table>"
            ],
            "text/plain": [
              "<IPython.core.display.HTML object>"
            ]
          },
          "metadata": {
            "tags": []
          }
        }
      ]
    },
    {
      "cell_type": "code",
      "metadata": {
        "id": "_5ASN-NwE4u4",
        "colab_type": "code",
        "colab": {}
      },
      "source": [
        "preds, targets = learn4.get_preds(DatasetType.Valid) \n",
        "predictions = np.argmax(preds, axis = 1)"
      ],
      "execution_count": 0,
      "outputs": []
    },
    {
      "cell_type": "code",
      "metadata": {
        "id": "TlTgodoYE4u7",
        "colab_type": "code",
        "colab": {},
        "outputId": "bab5516a-cce3-4f3e-c1c9-d7bff05af1d3"
      },
      "source": [
        "LABELS = data.classes\n",
        "\n",
        "confusion_matrix = sklearn.metrics.confusion_matrix(targets, predictions)\n",
        "\n",
        "plt.figure(figsize=(5, 5))\n",
        "sns.heatmap(confusion_matrix, xticklabels=LABELS, yticklabels=LABELS, annot=True, fmt=\"d\", annot_kws={\"size\": 20});\n",
        "plt.title(\"Confusion matrix\", fontsize=20)\n",
        "plt.ylabel('True label', fontsize=20)\n",
        "plt.xlabel('Predicted label', fontsize=20)\n",
        "plt.show()"
      ],
      "execution_count": 0,
      "outputs": [
        {
          "output_type": "display_data",
          "data": {
            "image/png": "[encoded data removed]",
            "text/plain": [
              "<Figure size 360x360 with 2 Axes>"
            ]
          },
          "metadata": {
            "tags": [],
            "needs_background": "light"
          }
        }
      ]
    },
    {
      "cell_type": "code",
      "metadata": {
        "id": "YqoEj2q5E4u9",
        "colab_type": "code",
        "colab": {},
        "outputId": "b60f33b0-bac0-45cb-911e-71fcf5a988d1"
      },
      "source": [
        "f1_w = sklearn.metrics.f1_score(targets, predictions, average='weighted')\n",
        "f1 = sklearn.metrics.f1_score(targets, predictions, average=None)\n",
        "acc = sklearn.metrics.accuracy_score(targets, predictions)\n",
        "prec = sklearn.metrics.precision_score(targets,predictions, average = None)\n",
        "rec = sklearn.metrics.recall_score(targets,predictions, average = None)\n",
        "print ('weighted f1: ', f1_w)\n",
        "print ('f1:          ', f1)\n",
        "print ('accuracy:    ', acc)\n",
        "print ('precision:   ', prec)\n",
        "print ('recall:      ', rec)\n"
      ],
      "execution_count": 0,
      "outputs": [
        {
          "output_type": "stream",
          "text": [
            "weighted f1:  0.9141334793413808\n",
            "f1:           [0.       0.961334 0.488479 0.451745]\n",
            "accuracy:     0.9236510879110157\n",
            "precision:    [0.       0.942088 0.640483 0.588235]\n",
            "recall:       [0.       0.981384 0.394786 0.366667]\n"
          ],
          "name": "stdout"
        }
      ]
    },
    {
      "cell_type": "code",
      "metadata": {
        "id": "frjvCl-sE4u_",
        "colab_type": "code",
        "colab": {}
      },
      "source": [
        ""
      ],
      "execution_count": 0,
      "outputs": []
    }
  ]
}