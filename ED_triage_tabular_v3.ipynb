{
 "cells": [
  {
   "cell_type": "markdown",
   "metadata": {
    "colab_type": "text",
    "id": "ZtHqNFVeE4rj"
   },
   "source": [
    "## I've taken out the preprocessing now and moved it to a different notebook"
   ]
  },
  {
   "cell_type": "markdown",
   "metadata": {
    "colab_type": "text",
    "id": "0GsPTcmPE4rl"
   },
   "source": [
    "#### install dependencies and set data paths"
   ]
  },
  {
   "cell_type": "code",
   "execution_count": 1,
   "metadata": {
    "colab": {},
    "colab_type": "code",
    "id": "z3RlfsKuE4rm"
   },
   "outputs": [],
   "source": [
    "from fastai import *\n",
    "from fastai.tabular import *\n",
    "\n",
    "import pandas as pd\n",
    "import numpy as np\n",
    "\n",
    "import os\n",
    "import re\n",
    "from collections import Counter\n",
    "\n",
    "import random\n",
    "\n",
    "from sklearn.metrics import confusion_matrix\n",
    "import sklearn.metrics\n",
    "import seaborn as sns\n",
    "%matplotlib inline\n",
    "import matplotlib.pyplot as plt"
   ]
  },
  {
   "cell_type": "code",
   "execution_count": 2,
   "metadata": {
    "colab": {
     "base_uri": "https://localhost:8080/",
     "height": 122
    },
    "colab_type": "code",
    "id": "2LmSPiEVE_Us",
    "outputId": "39f5a0bf-abb8-4a9d-9128-cd501cf59712"
   },
   "outputs": [
    {
     "name": "stdout",
     "output_type": "stream",
     "text": [
      "Go to this URL in a browser: https://accounts.google.com/o/oauth2/auth?client_id=947318989803-6bn6qk8qdgf4n4g3pfee6491hc0brc4i.apps.googleusercontent.com&redirect_uri=urn%3aietf%3awg%3aoauth%3a2.0%3aoob&response_type=code&scope=email%20https%3a%2f%2fwww.googleapis.com%2fauth%2fdocs.test%20https%3a%2f%2fwww.googleapis.com%2fauth%2fdrive%20https%3a%2f%2fwww.googleapis.com%2fauth%2fdrive.photos.readonly%20https%3a%2f%2fwww.googleapis.com%2fauth%2fpeopleapi.readonly\n",
      "\n",
      "Enter your authorization code:\n",
      "··········\n",
      "Mounted at /content/drive\n"
     ]
    }
   ],
   "source": [
    "#use the when working with colab\n",
    "from google.colab import drive\n",
    "drive.mount('/content/drive')\n",
    "\n",
    "path = '/content/drive/My Drive/ML_data'\n",
    "clin = pd.read_csv('/content/drive/My Drive/ML_data/complete_clean_combo_data.csv', index_col = 0,low_memory = False)"
   ]
  },
  {
   "cell_type": "code",
   "execution_count": 2,
   "metadata": {
    "colab": {},
    "colab_type": "code",
    "id": "pEIB9LZ1E4rq"
   },
   "outputs": [],
   "source": [
    "#use this cell when working online\n",
    "path = '/floyd/home/ed-triage'\n",
    "data_path = '/floyd/home/data/combined'\n",
    "model_path = 'floyd/home/models'\n",
    "\n",
    "clin = pd.read_csv(data_path + '/complete_clean_combo_data.csv', index_col = 0,low_memory = False)"
   ]
  },
  {
   "cell_type": "code",
   "execution_count": 2,
   "metadata": {
    "colab": {},
    "colab_type": "code",
    "id": "1jDy7CiFE4ru"
   },
   "outputs": [],
   "source": [
    "#use this cell when working from home\n",
    "path = '/Users/jjaskolkambp/Desktop/machine learning/my_projects/ed-triage'\n",
    "data_path = '/Users/jjaskolkambp/Desktop/machine learning/my_projects/data/ED triage project/combo'\n",
    "\n",
    "clin = pd.read_csv(data_path + '/complete_clean_combo_data.csv', index_col = 0,low_memory = False)"
   ]
  },
  {
   "cell_type": "code",
   "execution_count": 3,
   "metadata": {},
   "outputs": [
    {
     "data": {
      "text/plain": [
       "(165433, 121)"
      ]
     },
     "execution_count": 3,
     "metadata": {},
     "output_type": "execute_result"
    }
   ],
   "source": [
    "clin.shape"
   ]
  },
  {
   "cell_type": "code",
   "execution_count": 4,
   "metadata": {},
   "outputs": [
    {
     "data": {
      "text/html": [
       "<div>\n",
       "<style scoped>\n",
       "    .dataframe tbody tr th:only-of-type {\n",
       "        vertical-align: middle;\n",
       "    }\n",
       "\n",
       "    .dataframe tbody tr th {\n",
       "        vertical-align: top;\n",
       "    }\n",
       "\n",
       "    .dataframe thead th {\n",
       "        text-align: right;\n",
       "    }\n",
       "</style>\n",
       "<table border=\"1\" class=\"dataframe\">\n",
       "  <thead>\n",
       "    <tr style=\"text-align: right;\">\n",
       "      <th></th>\n",
       "      <th>ID</th>\n",
       "      <th>ChartNumber</th>\n",
       "      <th>EncounterNumber</th>\n",
       "      <th>TriageLevel</th>\n",
       "      <th>AgeNumber</th>\n",
       "      <th>AgeInYrs</th>\n",
       "      <th>GenderDesc</th>\n",
       "      <th>PIA Date &amp; Time</th>\n",
       "      <th>Disposition Date &amp; Time</th>\n",
       "      <th>DischargeDisposition</th>\n",
       "      <th>...</th>\n",
       "      <th>Reg Date &amp; Timeday_year_cos</th>\n",
       "      <th>Reg Date &amp; Timeday_year_sin</th>\n",
       "      <th>Reg Date &amp; Timehour_cos</th>\n",
       "      <th>Reg Date &amp; Timehour_sin</th>\n",
       "      <th>Reg Date &amp; Timeclock_cos</th>\n",
       "      <th>Reg Date &amp; Timeclock_sin</th>\n",
       "      <th>Reg Date &amp; Timemin_cos</th>\n",
       "      <th>Reg Date &amp; Timemin_sin</th>\n",
       "      <th>Reg Date &amp; Timesec_cos</th>\n",
       "      <th>Reg Date &amp; Timesec_sin</th>\n",
       "    </tr>\n",
       "  </thead>\n",
       "  <tbody>\n",
       "    <tr>\n",
       "      <th>0</th>\n",
       "      <td>149.0</td>\n",
       "      <td>N179474</td>\n",
       "      <td>NE000150/18</td>\n",
       "      <td>2.0</td>\n",
       "      <td>43.0</td>\n",
       "      <td>43.0</td>\n",
       "      <td>Female</td>\n",
       "      <td>01/04/2018  12:25:00PM</td>\n",
       "      <td>01/04/2018   2:30:00PM</td>\n",
       "      <td>17.0</td>\n",
       "      <td>...</td>\n",
       "      <td>0.998667</td>\n",
       "      <td>0.05162</td>\n",
       "      <td>-0.965926</td>\n",
       "      <td>0.258819</td>\n",
       "      <td>8.660254e-01</td>\n",
       "      <td>-0.500000</td>\n",
       "      <td>0.809017</td>\n",
       "      <td>-0.587785</td>\n",
       "      <td>1.0</td>\n",
       "      <td>0.0</td>\n",
       "    </tr>\n",
       "    <tr>\n",
       "      <th>1</th>\n",
       "      <td>198.0</td>\n",
       "      <td>N798201</td>\n",
       "      <td>NE000199/18</td>\n",
       "      <td>3.0</td>\n",
       "      <td>13.0</td>\n",
       "      <td>13.0</td>\n",
       "      <td>Female</td>\n",
       "      <td>01/04/2018   3:23:00PM</td>\n",
       "      <td>01/04/2018   4:13:00PM</td>\n",
       "      <td>17.0</td>\n",
       "      <td>...</td>\n",
       "      <td>0.998667</td>\n",
       "      <td>0.05162</td>\n",
       "      <td>-0.866025</td>\n",
       "      <td>-0.500000</td>\n",
       "      <td>5.000000e-01</td>\n",
       "      <td>0.866025</td>\n",
       "      <td>0.994522</td>\n",
       "      <td>0.104528</td>\n",
       "      <td>1.0</td>\n",
       "      <td>0.0</td>\n",
       "    </tr>\n",
       "    <tr>\n",
       "      <th>2</th>\n",
       "      <td>218.0</td>\n",
       "      <td>N798204</td>\n",
       "      <td>NE000225/18</td>\n",
       "      <td>2.0</td>\n",
       "      <td>23.0</td>\n",
       "      <td>23.0</td>\n",
       "      <td>Female</td>\n",
       "      <td>01/04/2018   3:00:00PM</td>\n",
       "      <td>01/04/2018   5:05:00PM</td>\n",
       "      <td>17.0</td>\n",
       "      <td>...</td>\n",
       "      <td>0.998667</td>\n",
       "      <td>0.05162</td>\n",
       "      <td>-0.707107</td>\n",
       "      <td>-0.707107</td>\n",
       "      <td>6.123234e-17</td>\n",
       "      <td>1.000000</td>\n",
       "      <td>0.406737</td>\n",
       "      <td>0.913545</td>\n",
       "      <td>1.0</td>\n",
       "      <td>0.0</td>\n",
       "    </tr>\n",
       "    <tr>\n",
       "      <th>3</th>\n",
       "      <td>219.0</td>\n",
       "      <td>N110229</td>\n",
       "      <td>NE000226/18</td>\n",
       "      <td>2.0</td>\n",
       "      <td>30.0</td>\n",
       "      <td>30.0</td>\n",
       "      <td>Female</td>\n",
       "      <td>01/04/2018   4:36:00PM</td>\n",
       "      <td>01/04/2018  11:00:00PM</td>\n",
       "      <td>17.0</td>\n",
       "      <td>...</td>\n",
       "      <td>0.998667</td>\n",
       "      <td>0.05162</td>\n",
       "      <td>-0.707107</td>\n",
       "      <td>-0.707107</td>\n",
       "      <td>6.123234e-17</td>\n",
       "      <td>1.000000</td>\n",
       "      <td>0.104528</td>\n",
       "      <td>0.994522</td>\n",
       "      <td>1.0</td>\n",
       "      <td>0.0</td>\n",
       "    </tr>\n",
       "    <tr>\n",
       "      <th>4</th>\n",
       "      <td>227.0</td>\n",
       "      <td>N739034</td>\n",
       "      <td>NE000222/18</td>\n",
       "      <td>4.0</td>\n",
       "      <td>36.0</td>\n",
       "      <td>36.0</td>\n",
       "      <td>Female</td>\n",
       "      <td>NaN</td>\n",
       "      <td>01/04/2018   3:30:00PM</td>\n",
       "      <td>63.0</td>\n",
       "      <td>...</td>\n",
       "      <td>0.998667</td>\n",
       "      <td>0.05162</td>\n",
       "      <td>-0.707107</td>\n",
       "      <td>-0.707107</td>\n",
       "      <td>6.123234e-17</td>\n",
       "      <td>1.000000</td>\n",
       "      <td>0.866025</td>\n",
       "      <td>0.500000</td>\n",
       "      <td>1.0</td>\n",
       "      <td>0.0</td>\n",
       "    </tr>\n",
       "  </tbody>\n",
       "</table>\n",
       "<p>5 rows × 121 columns</p>\n",
       "</div>"
      ],
      "text/plain": [
       "      ID ChartNumber EncounterNumber  TriageLevel  AgeNumber  AgeInYrs  \\\n",
       "0  149.0     N179474     NE000150/18          2.0       43.0      43.0   \n",
       "1  198.0     N798201     NE000199/18          3.0       13.0      13.0   \n",
       "2  218.0     N798204     NE000225/18          2.0       23.0      23.0   \n",
       "3  219.0     N110229     NE000226/18          2.0       30.0      30.0   \n",
       "4  227.0     N739034     NE000222/18          4.0       36.0      36.0   \n",
       "\n",
       "  GenderDesc         PIA Date & Time Disposition Date & Time  \\\n",
       "0     Female  01/04/2018  12:25:00PM  01/04/2018   2:30:00PM   \n",
       "1     Female  01/04/2018   3:23:00PM  01/04/2018   4:13:00PM   \n",
       "2     Female  01/04/2018   3:00:00PM  01/04/2018   5:05:00PM   \n",
       "3     Female  01/04/2018   4:36:00PM  01/04/2018  11:00:00PM   \n",
       "4     Female                     NaN  01/04/2018   3:30:00PM   \n",
       "\n",
       "   DischargeDisposition          ...           Reg Date & Timeday_year_cos  \\\n",
       "0                  17.0          ...                              0.998667   \n",
       "1                  17.0          ...                              0.998667   \n",
       "2                  17.0          ...                              0.998667   \n",
       "3                  17.0          ...                              0.998667   \n",
       "4                  63.0          ...                              0.998667   \n",
       "\n",
       "  Reg Date & Timeday_year_sin  Reg Date & Timehour_cos  \\\n",
       "0                     0.05162                -0.965926   \n",
       "1                     0.05162                -0.866025   \n",
       "2                     0.05162                -0.707107   \n",
       "3                     0.05162                -0.707107   \n",
       "4                     0.05162                -0.707107   \n",
       "\n",
       "  Reg Date & Timehour_sin Reg Date & Timeclock_cos Reg Date & Timeclock_sin  \\\n",
       "0                0.258819             8.660254e-01                -0.500000   \n",
       "1               -0.500000             5.000000e-01                 0.866025   \n",
       "2               -0.707107             6.123234e-17                 1.000000   \n",
       "3               -0.707107             6.123234e-17                 1.000000   \n",
       "4               -0.707107             6.123234e-17                 1.000000   \n",
       "\n",
       "  Reg Date & Timemin_cos Reg Date & Timemin_sin Reg Date & Timesec_cos  \\\n",
       "0               0.809017              -0.587785                    1.0   \n",
       "1               0.994522               0.104528                    1.0   \n",
       "2               0.406737               0.913545                    1.0   \n",
       "3               0.104528               0.994522                    1.0   \n",
       "4               0.866025               0.500000                    1.0   \n",
       "\n",
       "  Reg Date & Timesec_sin  \n",
       "0                    0.0  \n",
       "1                    0.0  \n",
       "2                    0.0  \n",
       "3                    0.0  \n",
       "4                    0.0  \n",
       "\n",
       "[5 rows x 121 columns]"
      ]
     },
     "execution_count": 4,
     "metadata": {},
     "output_type": "execute_result"
    }
   ],
   "source": [
    "clin.head()"
   ]
  },
  {
   "cell_type": "code",
   "execution_count": 5,
   "metadata": {
    "colab": {
     "base_uri": "https://localhost:8080/",
     "height": 34
    },
    "colab_type": "code",
    "id": "MApNTY-7mF7C",
    "outputId": "dfd36a2b-c755-4c8e-ff9f-895b58948473"
   },
   "outputs": [
    {
     "data": {
      "text/plain": [
       "Counter({'BCH': 102128, 'EGH': 63305})"
      ]
     },
     "execution_count": 5,
     "metadata": {},
     "output_type": "execute_result"
    }
   ],
   "source": [
    "Counter(clin.site)"
   ]
  },
  {
   "cell_type": "markdown",
   "metadata": {
    "colab_type": "text",
    "id": "2OXvXwuNE4t2"
   },
   "source": [
    "### now on to the fast ai part\n",
    "\n",
    "let's remember this dictionary so we know what the various targets are:\n",
    "\n",
    "outcome: {'discharge': 106689, 'madmit': 12037, 'sadmit': 2061, 'ICU': 479}\n",
    "\n",
    "service: {'discharge': 106689, 'madmit': 12003, 'sadmit': 2278, 'ICU': 296}\n",
    "\n",
    "discharge: {'discharge': 106689, 'admit': 14577}\n",
    "\n",
    "dispo: {nan: 106689, 'madmit': 12037, 'sadmit': 2061, 'ICU': 479})(for admitted patients only, where did they go?\n",
    "\n",
    "ICUvsother:  self explanatory"
   ]
  },
  {
   "cell_type": "code",
   "execution_count": null,
   "metadata": {
    "colab": {},
    "colab_type": "code",
    "id": "1dzg4S83E4t3"
   },
   "outputs": [],
   "source": [
    "cat_names =[\n",
    " 'Triage Date & TimeIs_month_end',\n",
    " 'Triage Date & TimeIs_month_start',\n",
    " 'Triage Date & TimeIs_quarter_end',\n",
    " 'Triage Date & TimeIs_quarter_start',\n",
    " 'Triage Date & TimeIs_year_end',\n",
    " 'Triage Date & TimeIs_year_start',\n",
    " 'Reg Date & TimeIs_month_end',\n",
    " 'Reg Date & TimeIs_month_start',\n",
    " 'Reg Date & TimeIs_quarter_end',\n",
    " 'Reg Date & TimeIs_quarter_start',\n",
    " 'Reg Date & TimeIs_year_end',\n",
    " 'Reg Date & TimeIs_year_start',\n",
    " 'GenderDesc',\n",
    " 'PresentingComplaintDesc',\n",
    " 'MainDiagnosisCodeDesc',\n",
    " 'Are you feeling feverish or have had shakes or chills in the last 24 hours?',\n",
    " 'Have you ever been isolated/required isolation for an infectious disease when receiving care in a healthcare setting?',\n",
    " 'Do you have a new Rash?',\n",
    " 'Do you have a new onset of Vomiting/Diarrhea in the last 24 hours?',\n",
    " 'Have you travelled outside of Canada/USA in the last 3 weeks?',\n",
    " 'Have you had contact with a sick person who has travelled outside of Canada/USA in the last 3 weeks?',\n",
    " 'Have you received Health Care in another country in the last 2 years?',\n",
    " 'Do you have a new/worse cough or shortness of breath?',\n",
    " 'If so, select all countries that apply',\n",
    " 'If so, select all infectious diseases that apply'\n",
    "]\n"
   ]
  },
  {
   "cell_type": "code",
   "execution_count": null,
   "metadata": {
    "colab": {},
    "colab_type": "code",
    "id": "_LyEmA38E4t5"
   },
   "outputs": [],
   "source": [
    "cont_names = [\n",
    " 'AgeNumber',\n",
    " 'Triage Date & TimeYear',\n",
    " 'Triage Date & TimeMonth',\n",
    " 'Triage Date & TimeWeek',\n",
    " 'Triage Date & TimeDay',\n",
    " 'Triage Date & TimeDayofweek',\n",
    " 'Triage Date & TimeDayofyear',\n",
    " 'Triage Date & TimeHour',\n",
    " 'Triage Date & TimeMinute',\n",
    " 'Triage Date & TimeSecond',\n",
    " 'Triage Date & TimeElapsed',\n",
    " 'Reg Date & TimeYear',\n",
    " 'Reg Date & TimeMonth',\n",
    " 'Reg Date & TimeWeek',\n",
    " 'Reg Date & TimeDay',\n",
    " 'Reg Date & TimeDayofweek',\n",
    " 'Reg Date & TimeDayofyear',\n",
    " 'Reg Date & TimeHour',\n",
    " 'Reg Date & TimeMinute',\n",
    " 'Reg Date & TimeSecond',\n",
    " 'Reg Date & TimeElapsed',\n",
    " 'num_comorbids','systolic', 'diastolic', 'o2sat', 'pulse', 'temp', 'AgeInYrs']"
   ]
  },
  {
   "cell_type": "code",
   "execution_count": null,
   "metadata": {
    "colab": {},
    "colab_type": "code",
    "id": "1MppS4-OE4t9"
   },
   "outputs": [],
   "source": [
    "procs = [FillMissing, Categorify, Normalize]\n",
    "test = TabularList.from_df(clin.copy(),cat_names=cat_names, cont_names=cont_names)"
   ]
  },
  {
   "cell_type": "markdown",
   "metadata": {
    "colab_type": "text",
    "id": "SZ3SDoDJ1-Nq"
   },
   "source": [
    "### what follows will be a series of experiments looking at different parameters on the whole dataset for discharge vs admission"
   ]
  },
  {
   "cell_type": "markdown",
   "metadata": {
    "colab_type": "text",
    "id": "ysPl8xYj7LSE"
   },
   "source": [
    "##### experiment 1 - whole dataset, standard parameters"
   ]
  },
  {
   "cell_type": "code",
   "execution_count": null,
   "metadata": {
    "colab": {},
    "colab_type": "code",
    "id": "ft7QIFZm2nDz"
   },
   "outputs": [],
   "source": [
    "#hyperparameters\n",
    "experiment_desc = 'whole dataset'\n",
    "layers = [100,50]\n",
    "epochs = 5\n",
    "columns = 'all'\n"
   ]
  },
  {
   "cell_type": "code",
   "execution_count": 21,
   "metadata": {},
   "outputs": [],
   "source": [
    "valid_df = pd.read_csv(path + '/valid_idxs.csv')\n",
    "valid_idxs = list(valid_df['0'])"
   ]
  },
  {
   "cell_type": "code",
   "execution_count": 15,
   "metadata": {
    "colab": {},
    "colab_type": "code",
    "id": "xR1KkGqvE4uG"
   },
   "outputs": [
    {
     "ename": "KeyboardInterrupt",
     "evalue": "",
     "output_type": "error",
     "traceback": [
      "\u001b[0;31m---------------------------------------------------------------------------\u001b[0m",
      "\u001b[0;31mKeyboardInterrupt\u001b[0m                         Traceback (most recent call last)",
      "\u001b[0;32m<ipython-input-15-e41048d13de6>\u001b[0m in \u001b[0;36m<module>\u001b[0;34m()\u001b[0m\n\u001b[1;32m      3\u001b[0m data = (TabularList.from_df(clin, path=path, cat_names=cat_names, cont_names=cont_names, procs=procs)\n\u001b[1;32m      4\u001b[0m                            \u001b[0;34m.\u001b[0m\u001b[0msplit_by_idx\u001b[0m\u001b[0;34m(\u001b[0m\u001b[0mvalid_idxs\u001b[0m\u001b[0;34m)\u001b[0m\u001b[0;34m\u001b[0m\u001b[0m\n\u001b[0;32m----> 5\u001b[0;31m                            \u001b[0;34m.\u001b[0m\u001b[0mlabel_from_df\u001b[0m\u001b[0;34m(\u001b[0m\u001b[0mcols\u001b[0m\u001b[0;34m=\u001b[0m\u001b[0mdep_var\u001b[0m\u001b[0;34m)\u001b[0m\u001b[0;34m\u001b[0m\u001b[0m\n\u001b[0m\u001b[1;32m      6\u001b[0m                            \u001b[0;34m.\u001b[0m\u001b[0madd_test\u001b[0m\u001b[0;34m(\u001b[0m\u001b[0mtest\u001b[0m\u001b[0;34m)\u001b[0m\u001b[0;34m\u001b[0m\u001b[0m\n\u001b[1;32m      7\u001b[0m                            .databunch())\n",
      "\u001b[0;32m~/anaconda3/lib/python3.6/site-packages/fastai/data_block.py\u001b[0m in \u001b[0;36m_inner\u001b[0;34m(*args, **kwargs)\u001b[0m\n\u001b[1;32m    478\u001b[0m             \u001b[0mself\u001b[0m\u001b[0;34m.\u001b[0m\u001b[0mvalid\u001b[0m \u001b[0;34m=\u001b[0m \u001b[0mfv\u001b[0m\u001b[0;34m(\u001b[0m\u001b[0;34m*\u001b[0m\u001b[0margs\u001b[0m\u001b[0;34m,\u001b[0m \u001b[0mfrom_item_lists\u001b[0m\u001b[0;34m=\u001b[0m\u001b[0;32mTrue\u001b[0m\u001b[0;34m,\u001b[0m \u001b[0;34m**\u001b[0m\u001b[0mkwargs\u001b[0m\u001b[0;34m)\u001b[0m\u001b[0;34m\u001b[0m\u001b[0m\n\u001b[1;32m    479\u001b[0m             \u001b[0mself\u001b[0m\u001b[0;34m.\u001b[0m\u001b[0m__class__\u001b[0m \u001b[0;34m=\u001b[0m \u001b[0mLabelLists\u001b[0m\u001b[0;34m\u001b[0m\u001b[0m\n\u001b[0;32m--> 480\u001b[0;31m             \u001b[0mself\u001b[0m\u001b[0;34m.\u001b[0m\u001b[0mprocess\u001b[0m\u001b[0;34m(\u001b[0m\u001b[0;34m)\u001b[0m\u001b[0;34m\u001b[0m\u001b[0m\n\u001b[0m\u001b[1;32m    481\u001b[0m             \u001b[0;32mreturn\u001b[0m \u001b[0mself\u001b[0m\u001b[0;34m\u001b[0m\u001b[0m\n\u001b[1;32m    482\u001b[0m         \u001b[0;32mreturn\u001b[0m \u001b[0m_inner\u001b[0m\u001b[0;34m\u001b[0m\u001b[0m\n",
      "\u001b[0;32m~/anaconda3/lib/python3.6/site-packages/fastai/data_block.py\u001b[0m in \u001b[0;36mprocess\u001b[0;34m(self)\u001b[0m\n\u001b[1;32m    532\u001b[0m         \u001b[0;34m\"Process the inner datasets.\"\u001b[0m\u001b[0;34m\u001b[0m\u001b[0m\n\u001b[1;32m    533\u001b[0m         \u001b[0mxp\u001b[0m\u001b[0;34m,\u001b[0m\u001b[0myp\u001b[0m \u001b[0;34m=\u001b[0m \u001b[0mself\u001b[0m\u001b[0;34m.\u001b[0m\u001b[0mget_processors\u001b[0m\u001b[0;34m(\u001b[0m\u001b[0;34m)\u001b[0m\u001b[0;34m\u001b[0m\u001b[0m\n\u001b[0;32m--> 534\u001b[0;31m         \u001b[0;32mfor\u001b[0m \u001b[0mds\u001b[0m\u001b[0;34m,\u001b[0m\u001b[0mn\u001b[0m \u001b[0;32min\u001b[0m \u001b[0mzip\u001b[0m\u001b[0;34m(\u001b[0m\u001b[0mself\u001b[0m\u001b[0;34m.\u001b[0m\u001b[0mlists\u001b[0m\u001b[0;34m,\u001b[0m \u001b[0;34m[\u001b[0m\u001b[0;34m'train'\u001b[0m\u001b[0;34m,\u001b[0m\u001b[0;34m'valid'\u001b[0m\u001b[0;34m,\u001b[0m\u001b[0;34m'test'\u001b[0m\u001b[0;34m]\u001b[0m\u001b[0;34m)\u001b[0m\u001b[0;34m:\u001b[0m \u001b[0mds\u001b[0m\u001b[0;34m.\u001b[0m\u001b[0mprocess\u001b[0m\u001b[0;34m(\u001b[0m\u001b[0mxp\u001b[0m\u001b[0;34m,\u001b[0m \u001b[0myp\u001b[0m\u001b[0;34m,\u001b[0m \u001b[0mname\u001b[0m\u001b[0;34m=\u001b[0m\u001b[0mn\u001b[0m\u001b[0;34m)\u001b[0m\u001b[0;34m\u001b[0m\u001b[0m\n\u001b[0m\u001b[1;32m    535\u001b[0m         \u001b[0;31m#progress_bar clear the outputs so in some case warnings issued during processing disappear.\u001b[0m\u001b[0;34m\u001b[0m\u001b[0;34m\u001b[0m\u001b[0m\n\u001b[1;32m    536\u001b[0m         \u001b[0;32mfor\u001b[0m \u001b[0mds\u001b[0m \u001b[0;32min\u001b[0m \u001b[0mself\u001b[0m\u001b[0;34m.\u001b[0m\u001b[0mlists\u001b[0m\u001b[0;34m:\u001b[0m\u001b[0;34m\u001b[0m\u001b[0m\n",
      "\u001b[0;32m~/anaconda3/lib/python3.6/site-packages/fastai/data_block.py\u001b[0m in \u001b[0;36mprocess\u001b[0;34m(self, xp, yp, name, max_warn_items)\u001b[0m\n\u001b[1;32m    712\u001b[0m                     \u001b[0mp\u001b[0m\u001b[0;34m.\u001b[0m\u001b[0mwarns\u001b[0m \u001b[0;34m=\u001b[0m \u001b[0;34m[\u001b[0m\u001b[0;34m]\u001b[0m\u001b[0;34m\u001b[0m\u001b[0m\n\u001b[1;32m    713\u001b[0m                 \u001b[0mself\u001b[0m\u001b[0;34m.\u001b[0m\u001b[0mx\u001b[0m\u001b[0;34m,\u001b[0m\u001b[0mself\u001b[0m\u001b[0;34m.\u001b[0m\u001b[0my\u001b[0m \u001b[0;34m=\u001b[0m \u001b[0mself\u001b[0m\u001b[0;34m.\u001b[0m\u001b[0mx\u001b[0m\u001b[0;34m[\u001b[0m\u001b[0;34m~\u001b[0m\u001b[0mfilt\u001b[0m\u001b[0;34m]\u001b[0m\u001b[0;34m,\u001b[0m\u001b[0mself\u001b[0m\u001b[0;34m.\u001b[0m\u001b[0my\u001b[0m\u001b[0;34m[\u001b[0m\u001b[0;34m~\u001b[0m\u001b[0mfilt\u001b[0m\u001b[0;34m]\u001b[0m\u001b[0;34m\u001b[0m\u001b[0m\n\u001b[0;32m--> 714\u001b[0;31m         \u001b[0mself\u001b[0m\u001b[0;34m.\u001b[0m\u001b[0mx\u001b[0m\u001b[0;34m.\u001b[0m\u001b[0mprocess\u001b[0m\u001b[0;34m(\u001b[0m\u001b[0mxp\u001b[0m\u001b[0;34m)\u001b[0m\u001b[0;34m\u001b[0m\u001b[0m\n\u001b[0m\u001b[1;32m    715\u001b[0m         \u001b[0;32mreturn\u001b[0m \u001b[0mself\u001b[0m\u001b[0;34m\u001b[0m\u001b[0m\n\u001b[1;32m    716\u001b[0m \u001b[0;34m\u001b[0m\u001b[0m\n",
      "\u001b[0;32m~/anaconda3/lib/python3.6/site-packages/fastai/data_block.py\u001b[0m in \u001b[0;36mprocess\u001b[0;34m(self, processor)\u001b[0m\n\u001b[1;32m     82\u001b[0m         \u001b[0;32mif\u001b[0m \u001b[0mprocessor\u001b[0m \u001b[0;32mis\u001b[0m \u001b[0;32mnot\u001b[0m \u001b[0;32mNone\u001b[0m\u001b[0;34m:\u001b[0m \u001b[0mself\u001b[0m\u001b[0;34m.\u001b[0m\u001b[0mprocessor\u001b[0m \u001b[0;34m=\u001b[0m \u001b[0mprocessor\u001b[0m\u001b[0;34m\u001b[0m\u001b[0m\n\u001b[1;32m     83\u001b[0m         \u001b[0mself\u001b[0m\u001b[0;34m.\u001b[0m\u001b[0mprocessor\u001b[0m \u001b[0;34m=\u001b[0m \u001b[0mlistify\u001b[0m\u001b[0;34m(\u001b[0m\u001b[0mself\u001b[0m\u001b[0;34m.\u001b[0m\u001b[0mprocessor\u001b[0m\u001b[0;34m)\u001b[0m\u001b[0;34m\u001b[0m\u001b[0m\n\u001b[0;32m---> 84\u001b[0;31m         \u001b[0;32mfor\u001b[0m \u001b[0mp\u001b[0m \u001b[0;32min\u001b[0m \u001b[0mself\u001b[0m\u001b[0;34m.\u001b[0m\u001b[0mprocessor\u001b[0m\u001b[0;34m:\u001b[0m \u001b[0mp\u001b[0m\u001b[0;34m.\u001b[0m\u001b[0mprocess\u001b[0m\u001b[0;34m(\u001b[0m\u001b[0mself\u001b[0m\u001b[0;34m)\u001b[0m\u001b[0;34m\u001b[0m\u001b[0m\n\u001b[0m\u001b[1;32m     85\u001b[0m         \u001b[0;32mreturn\u001b[0m \u001b[0mself\u001b[0m\u001b[0;34m\u001b[0m\u001b[0m\n\u001b[1;32m     86\u001b[0m \u001b[0;34m\u001b[0m\u001b[0m\n",
      "\u001b[0;32m~/anaconda3/lib/python3.6/site-packages/fastai/tabular/data.py\u001b[0m in \u001b[0;36mprocess\u001b[0;34m(self, ds)\u001b[0m\n\u001b[1;32m     64\u001b[0m                 \u001b[0;31m#cat and cont names may have been changed by transform (like Fill_NA)\u001b[0m\u001b[0;34m\u001b[0m\u001b[0;34m\u001b[0m\u001b[0m\n\u001b[1;32m     65\u001b[0m                 \u001b[0mproc\u001b[0m \u001b[0;34m=\u001b[0m \u001b[0mproc\u001b[0m\u001b[0;34m(\u001b[0m\u001b[0mds\u001b[0m\u001b[0;34m.\u001b[0m\u001b[0mcat_names\u001b[0m\u001b[0;34m,\u001b[0m \u001b[0mds\u001b[0m\u001b[0;34m.\u001b[0m\u001b[0mcont_names\u001b[0m\u001b[0;34m)\u001b[0m\u001b[0;34m\u001b[0m\u001b[0m\n\u001b[0;32m---> 66\u001b[0;31m                 \u001b[0mproc\u001b[0m\u001b[0;34m(\u001b[0m\u001b[0mds\u001b[0m\u001b[0;34m.\u001b[0m\u001b[0minner_df\u001b[0m\u001b[0;34m)\u001b[0m\u001b[0;34m\u001b[0m\u001b[0m\n\u001b[0m\u001b[1;32m     67\u001b[0m                 \u001b[0mds\u001b[0m\u001b[0;34m.\u001b[0m\u001b[0mcat_names\u001b[0m\u001b[0;34m,\u001b[0m\u001b[0mds\u001b[0m\u001b[0;34m.\u001b[0m\u001b[0mcont_names\u001b[0m \u001b[0;34m=\u001b[0m \u001b[0mproc\u001b[0m\u001b[0;34m.\u001b[0m\u001b[0mcat_names\u001b[0m\u001b[0;34m,\u001b[0m\u001b[0mproc\u001b[0m\u001b[0;34m.\u001b[0m\u001b[0mcont_names\u001b[0m\u001b[0;34m\u001b[0m\u001b[0m\n\u001b[1;32m     68\u001b[0m                 \u001b[0mself\u001b[0m\u001b[0;34m.\u001b[0m\u001b[0mprocs\u001b[0m\u001b[0;34m[\u001b[0m\u001b[0mi\u001b[0m\u001b[0;34m]\u001b[0m \u001b[0;34m=\u001b[0m \u001b[0mproc\u001b[0m\u001b[0;34m\u001b[0m\u001b[0m\n",
      "\u001b[0;32m~/anaconda3/lib/python3.6/site-packages/fastai/tabular/transform.py\u001b[0m in \u001b[0;36m__call__\u001b[0;34m(self, df, test)\u001b[0m\n\u001b[1;32m    122\u001b[0m         \u001b[0;34m\"Apply the correct function to `df` depending on `test`.\"\u001b[0m\u001b[0;34m\u001b[0m\u001b[0m\n\u001b[1;32m    123\u001b[0m         \u001b[0mfunc\u001b[0m \u001b[0;34m=\u001b[0m \u001b[0mself\u001b[0m\u001b[0;34m.\u001b[0m\u001b[0mapply_test\u001b[0m \u001b[0;32mif\u001b[0m \u001b[0mtest\u001b[0m \u001b[0;32melse\u001b[0m \u001b[0mself\u001b[0m\u001b[0;34m.\u001b[0m\u001b[0mapply_train\u001b[0m\u001b[0;34m\u001b[0m\u001b[0m\n\u001b[0;32m--> 124\u001b[0;31m         \u001b[0mfunc\u001b[0m\u001b[0;34m(\u001b[0m\u001b[0mdf\u001b[0m\u001b[0;34m)\u001b[0m\u001b[0;34m\u001b[0m\u001b[0m\n\u001b[0m\u001b[1;32m    125\u001b[0m \u001b[0;34m\u001b[0m\u001b[0m\n\u001b[1;32m    126\u001b[0m     \u001b[0;32mdef\u001b[0m \u001b[0mapply_train\u001b[0m\u001b[0;34m(\u001b[0m\u001b[0mself\u001b[0m\u001b[0;34m,\u001b[0m \u001b[0mdf\u001b[0m\u001b[0;34m:\u001b[0m\u001b[0mDataFrame\u001b[0m\u001b[0;34m)\u001b[0m\u001b[0;34m:\u001b[0m\u001b[0;34m\u001b[0m\u001b[0m\n",
      "\u001b[0;32m~/anaconda3/lib/python3.6/site-packages/fastai/tabular/transform.py\u001b[0m in \u001b[0;36mapply_train\u001b[0;34m(self, df)\u001b[0m\n\u001b[1;32m    188\u001b[0m                 Are you sure it doesn't belong in the categorical set of columns?\"\"\")\n\u001b[1;32m    189\u001b[0m             \u001b[0mself\u001b[0m\u001b[0;34m.\u001b[0m\u001b[0mmeans\u001b[0m\u001b[0;34m[\u001b[0m\u001b[0mn\u001b[0m\u001b[0;34m]\u001b[0m\u001b[0;34m,\u001b[0m\u001b[0mself\u001b[0m\u001b[0;34m.\u001b[0m\u001b[0mstds\u001b[0m\u001b[0;34m[\u001b[0m\u001b[0mn\u001b[0m\u001b[0;34m]\u001b[0m \u001b[0;34m=\u001b[0m \u001b[0mdf\u001b[0m\u001b[0;34m[\u001b[0m\u001b[0mn\u001b[0m\u001b[0;34m]\u001b[0m\u001b[0;34m.\u001b[0m\u001b[0mmean\u001b[0m\u001b[0;34m(\u001b[0m\u001b[0;34m)\u001b[0m\u001b[0;34m,\u001b[0m\u001b[0mdf\u001b[0m\u001b[0;34m[\u001b[0m\u001b[0mn\u001b[0m\u001b[0;34m]\u001b[0m\u001b[0;34m.\u001b[0m\u001b[0mstd\u001b[0m\u001b[0;34m(\u001b[0m\u001b[0;34m)\u001b[0m\u001b[0;34m\u001b[0m\u001b[0m\n\u001b[0;32m--> 190\u001b[0;31m             \u001b[0mdf\u001b[0m\u001b[0;34m[\u001b[0m\u001b[0mn\u001b[0m\u001b[0;34m]\u001b[0m \u001b[0;34m=\u001b[0m \u001b[0;34m(\u001b[0m\u001b[0mdf\u001b[0m\u001b[0;34m[\u001b[0m\u001b[0mn\u001b[0m\u001b[0;34m]\u001b[0m\u001b[0;34m-\u001b[0m\u001b[0mself\u001b[0m\u001b[0;34m.\u001b[0m\u001b[0mmeans\u001b[0m\u001b[0;34m[\u001b[0m\u001b[0mn\u001b[0m\u001b[0;34m]\u001b[0m\u001b[0;34m)\u001b[0m \u001b[0;34m/\u001b[0m \u001b[0;34m(\u001b[0m\u001b[0;36m1e-7\u001b[0m \u001b[0;34m+\u001b[0m \u001b[0mself\u001b[0m\u001b[0;34m.\u001b[0m\u001b[0mstds\u001b[0m\u001b[0;34m[\u001b[0m\u001b[0mn\u001b[0m\u001b[0;34m]\u001b[0m\u001b[0;34m)\u001b[0m\u001b[0;34m\u001b[0m\u001b[0m\n\u001b[0m\u001b[1;32m    191\u001b[0m \u001b[0;34m\u001b[0m\u001b[0m\n\u001b[1;32m    192\u001b[0m     \u001b[0;32mdef\u001b[0m \u001b[0mapply_test\u001b[0m\u001b[0;34m(\u001b[0m\u001b[0mself\u001b[0m\u001b[0;34m,\u001b[0m \u001b[0mdf\u001b[0m\u001b[0;34m:\u001b[0m\u001b[0mDataFrame\u001b[0m\u001b[0;34m)\u001b[0m\u001b[0;34m:\u001b[0m\u001b[0;34m\u001b[0m\u001b[0m\n",
      "\u001b[0;32m~/anaconda3/lib/python3.6/site-packages/pandas/core/ops.py\u001b[0m in \u001b[0;36mwrapper\u001b[0;34m(left, right)\u001b[0m\n\u001b[1;32m   1064\u001b[0m             \u001b[0mrvalues\u001b[0m \u001b[0;34m=\u001b[0m \u001b[0mrvalues\u001b[0m\u001b[0;34m.\u001b[0m\u001b[0mvalues\u001b[0m\u001b[0;34m\u001b[0m\u001b[0m\n\u001b[1;32m   1065\u001b[0m \u001b[0;34m\u001b[0m\u001b[0m\n\u001b[0;32m-> 1066\u001b[0;31m         \u001b[0mresult\u001b[0m \u001b[0;34m=\u001b[0m \u001b[0msafe_na_op\u001b[0m\u001b[0;34m(\u001b[0m\u001b[0mlvalues\u001b[0m\u001b[0;34m,\u001b[0m \u001b[0mrvalues\u001b[0m\u001b[0;34m)\u001b[0m\u001b[0;34m\u001b[0m\u001b[0m\n\u001b[0m\u001b[1;32m   1067\u001b[0m         return construct_result(left, result,\n\u001b[1;32m   1068\u001b[0m                                 index=left.index, name=res_name, dtype=None)\n",
      "\u001b[0;32m~/anaconda3/lib/python3.6/site-packages/pandas/core/ops.py\u001b[0m in \u001b[0;36msafe_na_op\u001b[0;34m(lvalues, rvalues)\u001b[0m\n\u001b[1;32m   1028\u001b[0m         \u001b[0;32mtry\u001b[0m\u001b[0;34m:\u001b[0m\u001b[0;34m\u001b[0m\u001b[0m\n\u001b[1;32m   1029\u001b[0m             \u001b[0;32mwith\u001b[0m \u001b[0mnp\u001b[0m\u001b[0;34m.\u001b[0m\u001b[0merrstate\u001b[0m\u001b[0;34m(\u001b[0m\u001b[0mall\u001b[0m\u001b[0;34m=\u001b[0m\u001b[0;34m'ignore'\u001b[0m\u001b[0;34m)\u001b[0m\u001b[0;34m:\u001b[0m\u001b[0;34m\u001b[0m\u001b[0m\n\u001b[0;32m-> 1030\u001b[0;31m                 \u001b[0;32mreturn\u001b[0m \u001b[0mna_op\u001b[0m\u001b[0;34m(\u001b[0m\u001b[0mlvalues\u001b[0m\u001b[0;34m,\u001b[0m \u001b[0mrvalues\u001b[0m\u001b[0;34m)\u001b[0m\u001b[0;34m\u001b[0m\u001b[0m\n\u001b[0m\u001b[1;32m   1031\u001b[0m         \u001b[0;32mexcept\u001b[0m \u001b[0mException\u001b[0m\u001b[0;34m:\u001b[0m\u001b[0;34m\u001b[0m\u001b[0m\n\u001b[1;32m   1032\u001b[0m             \u001b[0;32mif\u001b[0m \u001b[0mis_object_dtype\u001b[0m\u001b[0;34m(\u001b[0m\u001b[0mlvalues\u001b[0m\u001b[0;34m)\u001b[0m\u001b[0;34m:\u001b[0m\u001b[0;34m\u001b[0m\u001b[0m\n",
      "\u001b[0;32m~/anaconda3/lib/python3.6/site-packages/pandas/core/ops.py\u001b[0m in \u001b[0;36mna_op\u001b[0;34m(x, y)\u001b[0m\n\u001b[1;32m   1007\u001b[0m \u001b[0;34m\u001b[0m\u001b[0m\n\u001b[1;32m   1008\u001b[0m         \u001b[0;32mtry\u001b[0m\u001b[0;34m:\u001b[0m\u001b[0;34m\u001b[0m\u001b[0m\n\u001b[0;32m-> 1009\u001b[0;31m             \u001b[0mresult\u001b[0m \u001b[0;34m=\u001b[0m \u001b[0mexpressions\u001b[0m\u001b[0;34m.\u001b[0m\u001b[0mevaluate\u001b[0m\u001b[0;34m(\u001b[0m\u001b[0mop\u001b[0m\u001b[0;34m,\u001b[0m \u001b[0mstr_rep\u001b[0m\u001b[0;34m,\u001b[0m \u001b[0mx\u001b[0m\u001b[0;34m,\u001b[0m \u001b[0my\u001b[0m\u001b[0;34m,\u001b[0m \u001b[0;34m**\u001b[0m\u001b[0meval_kwargs\u001b[0m\u001b[0;34m)\u001b[0m\u001b[0;34m\u001b[0m\u001b[0m\n\u001b[0m\u001b[1;32m   1010\u001b[0m         \u001b[0;32mexcept\u001b[0m \u001b[0mTypeError\u001b[0m\u001b[0;34m:\u001b[0m\u001b[0;34m\u001b[0m\u001b[0m\n\u001b[1;32m   1011\u001b[0m             \u001b[0;32mif\u001b[0m \u001b[0misinstance\u001b[0m\u001b[0;34m(\u001b[0m\u001b[0my\u001b[0m\u001b[0;34m,\u001b[0m \u001b[0;34m(\u001b[0m\u001b[0mnp\u001b[0m\u001b[0;34m.\u001b[0m\u001b[0mndarray\u001b[0m\u001b[0;34m,\u001b[0m \u001b[0mABCSeries\u001b[0m\u001b[0;34m,\u001b[0m \u001b[0mpd\u001b[0m\u001b[0;34m.\u001b[0m\u001b[0mIndex\u001b[0m\u001b[0;34m)\u001b[0m\u001b[0;34m)\u001b[0m\u001b[0;34m:\u001b[0m\u001b[0;34m\u001b[0m\u001b[0m\n",
      "\u001b[0;32m~/anaconda3/lib/python3.6/site-packages/pandas/core/computation/expressions.py\u001b[0m in \u001b[0;36mevaluate\u001b[0;34m(op, op_str, a, b, use_numexpr, **eval_kwargs)\u001b[0m\n\u001b[1;32m    203\u001b[0m     \u001b[0muse_numexpr\u001b[0m \u001b[0;34m=\u001b[0m \u001b[0muse_numexpr\u001b[0m \u001b[0;32mand\u001b[0m \u001b[0m_bool_arith_check\u001b[0m\u001b[0;34m(\u001b[0m\u001b[0mop_str\u001b[0m\u001b[0;34m,\u001b[0m \u001b[0ma\u001b[0m\u001b[0;34m,\u001b[0m \u001b[0mb\u001b[0m\u001b[0;34m)\u001b[0m\u001b[0;34m\u001b[0m\u001b[0m\n\u001b[1;32m    204\u001b[0m     \u001b[0;32mif\u001b[0m \u001b[0muse_numexpr\u001b[0m\u001b[0;34m:\u001b[0m\u001b[0;34m\u001b[0m\u001b[0m\n\u001b[0;32m--> 205\u001b[0;31m         \u001b[0;32mreturn\u001b[0m \u001b[0m_evaluate\u001b[0m\u001b[0;34m(\u001b[0m\u001b[0mop\u001b[0m\u001b[0;34m,\u001b[0m \u001b[0mop_str\u001b[0m\u001b[0;34m,\u001b[0m \u001b[0ma\u001b[0m\u001b[0;34m,\u001b[0m \u001b[0mb\u001b[0m\u001b[0;34m,\u001b[0m \u001b[0;34m**\u001b[0m\u001b[0meval_kwargs\u001b[0m\u001b[0;34m)\u001b[0m\u001b[0;34m\u001b[0m\u001b[0m\n\u001b[0m\u001b[1;32m    206\u001b[0m     \u001b[0;32mreturn\u001b[0m \u001b[0m_evaluate_standard\u001b[0m\u001b[0;34m(\u001b[0m\u001b[0mop\u001b[0m\u001b[0;34m,\u001b[0m \u001b[0mop_str\u001b[0m\u001b[0;34m,\u001b[0m \u001b[0ma\u001b[0m\u001b[0;34m,\u001b[0m \u001b[0mb\u001b[0m\u001b[0;34m)\u001b[0m\u001b[0;34m\u001b[0m\u001b[0m\n\u001b[1;32m    207\u001b[0m \u001b[0;34m\u001b[0m\u001b[0m\n",
      "\u001b[0;32m~/anaconda3/lib/python3.6/site-packages/pandas/core/computation/expressions.py\u001b[0m in \u001b[0;36m_evaluate_numexpr\u001b[0;34m(op, op_str, a, b, truediv, reversed, **eval_kwargs)\u001b[0m\n\u001b[1;32m    109\u001b[0m                                              'b_value': b_value},\n\u001b[1;32m    110\u001b[0m                                  \u001b[0mcasting\u001b[0m\u001b[0;34m=\u001b[0m\u001b[0;34m'safe'\u001b[0m\u001b[0;34m,\u001b[0m \u001b[0mtruediv\u001b[0m\u001b[0;34m=\u001b[0m\u001b[0mtruediv\u001b[0m\u001b[0;34m,\u001b[0m\u001b[0;34m\u001b[0m\u001b[0m\n\u001b[0;32m--> 111\u001b[0;31m                                  **eval_kwargs)\n\u001b[0m\u001b[1;32m    112\u001b[0m         \u001b[0;32mexcept\u001b[0m \u001b[0mValueError\u001b[0m \u001b[0;32mas\u001b[0m \u001b[0mdetail\u001b[0m\u001b[0;34m:\u001b[0m\u001b[0;34m\u001b[0m\u001b[0m\n\u001b[1;32m    113\u001b[0m             \u001b[0;32mif\u001b[0m \u001b[0;34m'unknown type object'\u001b[0m \u001b[0;32min\u001b[0m \u001b[0mstr\u001b[0m\u001b[0;34m(\u001b[0m\u001b[0mdetail\u001b[0m\u001b[0;34m)\u001b[0m\u001b[0;34m:\u001b[0m\u001b[0;34m\u001b[0m\u001b[0m\n",
      "\u001b[0;32m~/anaconda3/lib/python3.6/site-packages/numexpr/necompiler.py\u001b[0m in \u001b[0;36mevaluate\u001b[0;34m(ex, local_dict, global_dict, out, order, casting, **kwargs)\u001b[0m\n\u001b[1;32m    819\u001b[0m     \u001b[0m_numexpr_last\u001b[0m \u001b[0;34m=\u001b[0m \u001b[0mdict\u001b[0m\u001b[0;34m(\u001b[0m\u001b[0mex\u001b[0m\u001b[0;34m=\u001b[0m\u001b[0mcompiled_ex\u001b[0m\u001b[0;34m,\u001b[0m \u001b[0margnames\u001b[0m\u001b[0;34m=\u001b[0m\u001b[0mnames\u001b[0m\u001b[0;34m,\u001b[0m \u001b[0mkwargs\u001b[0m\u001b[0;34m=\u001b[0m\u001b[0mkwargs\u001b[0m\u001b[0;34m)\u001b[0m\u001b[0;34m\u001b[0m\u001b[0m\n\u001b[1;32m    820\u001b[0m     \u001b[0;32mwith\u001b[0m \u001b[0mevaluate_lock\u001b[0m\u001b[0;34m:\u001b[0m\u001b[0;34m\u001b[0m\u001b[0m\n\u001b[0;32m--> 821\u001b[0;31m         \u001b[0;32mreturn\u001b[0m \u001b[0mcompiled_ex\u001b[0m\u001b[0;34m(\u001b[0m\u001b[0;34m*\u001b[0m\u001b[0marguments\u001b[0m\u001b[0;34m,\u001b[0m \u001b[0;34m**\u001b[0m\u001b[0mkwargs\u001b[0m\u001b[0;34m)\u001b[0m\u001b[0;34m\u001b[0m\u001b[0m\n\u001b[0m\u001b[1;32m    822\u001b[0m \u001b[0;34m\u001b[0m\u001b[0m\n\u001b[1;32m    823\u001b[0m \u001b[0;34m\u001b[0m\u001b[0m\n",
      "\u001b[0;31mKeyboardInterrupt\u001b[0m: "
     ]
    }
   ],
   "source": [
    "dep_var = 'discharge'  \n",
    "\n",
    "data = (TabularList.from_df(clin, path=path, cat_names=cat_names, cont_names=cont_names, procs=procs)\n",
    "                           .split_by_idx(valid_idxs)\n",
    "                           .label_from_df(cols=dep_var)\n",
    "                           .add_test(test)\n",
    "                           .databunch())\n",
    "\n",
    "data.save(data_path + '/tabulardb')"
   ]
  },
  {
   "cell_type": "code",
   "execution_count": null,
   "metadata": {
    "colab": {},
    "colab_type": "code",
    "id": "rmI5yqFuE4uJ"
   },
   "outputs": [],
   "source": [
    "#f1 = FBeta(beta=1, average = 'weighted')\n",
    "\n",
    "learn = tabular_learner(data, layers=[100,50], metrics=[accuracy])\n"
   ]
  },
  {
   "cell_type": "code",
   "execution_count": 85,
   "metadata": {
    "colab": {
     "base_uri": "https://localhost:8080/",
     "height": 374
    },
    "colab_type": "code",
    "id": "-ZZekjKlE4uM",
    "outputId": "8555b347-c96a-417d-cbbf-00a75ef8ffc5"
   },
   "outputs": [
    {
     "data": {
      "text/html": [
       "\n",
       "    <div>\n",
       "        <style>\n",
       "            /* Turns off some styling */\n",
       "            progress {\n",
       "                /* gets rid of default border in Firefox and Opera. */\n",
       "                border: none;\n",
       "                /* Needs to be in here for Safari polyfill so background images work as expected. */\n",
       "                background-size: auto;\n",
       "            }\n",
       "            .progress-bar-interrupted, .progress-bar-interrupted::-webkit-progress-bar {\n",
       "                background: #F44336;\n",
       "            }\n",
       "        </style>\n",
       "      <progress value='0' class='' max='1', style='width:300px; height:20px; vertical-align: middle;'></progress>\n",
       "      0.00% [0/1 00:00<00:00]\n",
       "    </div>\n",
       "    \n",
       "<table border=\"1\" class=\"dataframe\">\n",
       "  <thead>\n",
       "    <tr style=\"text-align: left;\">\n",
       "      <th>epoch</th>\n",
       "      <th>train_loss</th>\n",
       "      <th>valid_loss</th>\n",
       "      <th>accuracy</th>\n",
       "      <th>time</th>\n",
       "    </tr>\n",
       "  </thead>\n",
       "  <tbody>\n",
       "  </tbody>\n",
       "</table><p>\n",
       "\n",
       "    <div>\n",
       "        <style>\n",
       "            /* Turns off some styling */\n",
       "            progress {\n",
       "                /* gets rid of default border in Firefox and Opera. */\n",
       "                border: none;\n",
       "                /* Needs to be in here for Safari polyfill so background images work as expected. */\n",
       "                background-size: auto;\n",
       "            }\n",
       "            .progress-bar-interrupted, .progress-bar-interrupted::-webkit-progress-bar {\n",
       "                background: #F44336;\n",
       "            }\n",
       "        </style>\n",
       "      <progress value='93' class='' max='2074', style='width:300px; height:20px; vertical-align: middle;'></progress>\n",
       "      4.48% [93/2074 00:02<00:51 2.0687]\n",
       "    </div>\n",
       "    "
      ],
      "text/plain": [
       "<IPython.core.display.HTML object>"
      ]
     },
     "metadata": {
      "tags": []
     },
     "output_type": "display_data"
    },
    {
     "name": "stdout",
     "output_type": "stream",
     "text": [
      "LR Finder is complete, type {learner_name}.recorder.plot() to see the graph.\n"
     ]
    },
    {
     "data": {
      "image/png": "[encoded data removed]",
      "text/plain": [
       "<Figure size 432x288 with 1 Axes>"
      ]
     },
     "metadata": {
      "tags": []
     },
     "output_type": "display_data"
    }
   ],
   "source": [
    "learn.lr_find()\n",
    "learn.recorder.plot()"
   ]
  },
  {
   "cell_type": "code",
   "execution_count": 86,
   "metadata": {
    "colab": {
     "base_uri": "https://localhost:8080/",
     "height": 204
    },
    "colab_type": "code",
    "id": "4rm3Ab8TE4uP",
    "outputId": "1adc3b76-c7d2-488c-8983-cb16836dde84"
   },
   "outputs": [
    {
     "data": {
      "text/html": [
       "<table border=\"1\" class=\"dataframe\">\n",
       "  <thead>\n",
       "    <tr style=\"text-align: left;\">\n",
       "      <th>epoch</th>\n",
       "      <th>train_loss</th>\n",
       "      <th>valid_loss</th>\n",
       "      <th>accuracy</th>\n",
       "      <th>time</th>\n",
       "    </tr>\n",
       "  </thead>\n",
       "  <tbody>\n",
       "    <tr>\n",
       "      <td>0</td>\n",
       "      <td>0.210715</td>\n",
       "      <td>0.216425</td>\n",
       "      <td>0.918743</td>\n",
       "      <td>00:53</td>\n",
       "    </tr>\n",
       "    <tr>\n",
       "      <td>1</td>\n",
       "      <td>0.233338</td>\n",
       "      <td>0.212296</td>\n",
       "      <td>0.920340</td>\n",
       "      <td>00:57</td>\n",
       "    </tr>\n",
       "    <tr>\n",
       "      <td>2</td>\n",
       "      <td>0.230572</td>\n",
       "      <td>0.215729</td>\n",
       "      <td>0.919707</td>\n",
       "      <td>00:57</td>\n",
       "    </tr>\n",
       "    <tr>\n",
       "      <td>3</td>\n",
       "      <td>0.214246</td>\n",
       "      <td>0.310232</td>\n",
       "      <td>0.921364</td>\n",
       "      <td>00:54</td>\n",
       "    </tr>\n",
       "    <tr>\n",
       "      <td>4</td>\n",
       "      <td>0.198870</td>\n",
       "      <td>2.126107</td>\n",
       "      <td>0.921786</td>\n",
       "      <td>00:52</td>\n",
       "    </tr>\n",
       "  </tbody>\n",
       "</table>"
      ],
      "text/plain": [
       "<IPython.core.display.HTML object>"
      ]
     },
     "metadata": {
      "tags": []
     },
     "output_type": "display_data"
    }
   ],
   "source": [
    "lr = 5e-2\n",
    "learn.fit_one_cycle(5, lr)"
   ]
  },
  {
   "cell_type": "code",
   "execution_count": 87,
   "metadata": {
    "colab": {
     "base_uri": "https://localhost:8080/",
     "height": 279
    },
    "colab_type": "code",
    "id": "9cPlQjfOE4uR",
    "outputId": "329509d0-922c-4e03-f1b6-37efe86f2fa5"
   },
   "outputs": [
    {
     "data": {
      "image/png": "[encoded data removed]",
      "text/plain": [
       "<Figure size 432x288 with 1 Axes>"
      ]
     },
     "metadata": {
      "tags": []
     },
     "output_type": "display_data"
    }
   ],
   "source": [
    "learn.recorder.plot_losses()"
   ]
  },
  {
   "cell_type": "code",
   "execution_count": 88,
   "metadata": {
    "colab": {
     "base_uri": "https://localhost:8080/",
     "height": 17
    },
    "colab_type": "code",
    "id": "L8rNqAxkE4uT",
    "outputId": "7634c227-ee00-427b-b5d9-34b633767ce7"
   },
   "outputs": [
    {
     "data": {
      "text/html": [],
      "text/plain": [
       "<IPython.core.display.HTML object>"
      ]
     },
     "metadata": {
      "tags": []
     },
     "output_type": "display_data"
    }
   ],
   "source": [
    "preds, targets = learn.get_preds(DatasetType.Valid) \n",
    "predictions = np.argmax(preds, axis = 1)"
   ]
  },
  {
   "cell_type": "code",
   "execution_count": 89,
   "metadata": {
    "colab": {
     "base_uri": "https://localhost:8080/",
     "height": 364
    },
    "colab_type": "code",
    "id": "JIilno29E4uV",
    "outputId": "38adb1bd-3c9f-4756-eb50-884c6920801d"
   },
   "outputs": [
    {
     "data": {
      "image/png": "[encoded data removed]",
      "text/plain": [
       "<Figure size 360x360 with 2 Axes>"
      ]
     },
     "metadata": {
      "tags": []
     },
     "output_type": "display_data"
    }
   ],
   "source": [
    "LABELS = data.classes\n",
    "\n",
    "confusion_matrix = sklearn.metrics.confusion_matrix(targets, predictions)\n",
    "\n",
    "plt.figure(figsize=(5, 5))\n",
    "sns.heatmap(confusion_matrix, xticklabels=LABELS, yticklabels=LABELS, annot=True, fmt=\"d\", annot_kws={\"size\": 20});\n",
    "plt.title(\"Confusion matrix\", fontsize=20)\n",
    "plt.ylabel('True label', fontsize=20)\n",
    "plt.xlabel('Predicted label', fontsize=20)\n",
    "plt.show()"
   ]
  },
  {
   "cell_type": "code",
   "execution_count": 90,
   "metadata": {
    "colab": {
     "base_uri": "https://localhost:8080/",
     "height": 136
    },
    "colab_type": "code",
    "id": "u_EcwPanE4uX",
    "outputId": "7a83be81-6782-4b9b-97d4-1425d41689da"
   },
   "outputs": [
    {
     "name": "stdout",
     "output_type": "stream",
     "text": [
      "weighted f1:  0.911335774303672\n",
      "f1:           [0.485125 0.957679]\n",
      "accuracy:     0.9217860263324396\n",
      "precision:    [0.684387 0.935295]\n",
      "recall:       [0.37573 0.98116]\n",
      "admission sens:  0.3757296466973886\n",
      "admission spec:  0.9811598075895244\n"
     ]
    }
   ],
   "source": [
    "f1_w = sklearn.metrics.f1_score(targets, predictions, average='weighted')\n",
    "f1 = sklearn.metrics.f1_score(targets, predictions, average=None)\n",
    "acc = sklearn.metrics.accuracy_score(targets, predictions)\n",
    "prec = sklearn.metrics.precision_score(targets,predictions, average = None)\n",
    "rec = sklearn.metrics.recall_score(targets,predictions, average = None)\n",
    "print ('weighted f1: ', f1_w)\n",
    "print ('f1:          ', f1)\n",
    "print ('accuracy:    ', acc)\n",
    "print ('precision:   ', prec)\n",
    "print ('recall:      ', rec)\n",
    "print ('admission sens: ', rec[0])\n",
    "print ('admission spec: ', rec[1])\n"
   ]
  },
  {
   "cell_type": "code",
   "execution_count": null,
   "metadata": {
    "colab": {},
    "colab_type": "code",
    "id": "ZXbBaGxq3G1Z"
   },
   "outputs": [],
   "source": [
    "results_df = pd.DataFrame([experiment_desc, layers, epochs, f1_w, f1, acc, prec, rec, rec[0], rec[1]]).T\n",
    "results_df.columns = ['description', 'layers', 'epochs','weighted f1', 'f1', 'accuracy', 'precision', 'recall', 'admission sensitivity', 'admission specificity']"
   ]
  },
  {
   "cell_type": "markdown",
   "metadata": {
    "colab_type": "text",
    "id": "k1fE3Od37Tzz"
   },
   "source": [
    "##### experiment 2 - deeper network"
   ]
  },
  {
   "cell_type": "code",
   "execution_count": null,
   "metadata": {
    "colab": {},
    "colab_type": "code",
    "id": "ks_TFTbi52SG"
   },
   "outputs": [],
   "source": [
    "#hyperparameters\n",
    "experiment_desc = 'whole dataset'\n",
    "layers = [200,100, 50]\n",
    "epochs = 5\n",
    "columns = 'all'\n"
   ]
  },
  {
   "cell_type": "code",
   "execution_count": null,
   "metadata": {
    "colab": {},
    "colab_type": "code",
    "id": "E7FzzXtj52ST"
   },
   "outputs": [],
   "source": [
    "#f1 = FBeta(beta=1, average = 'weighted')\n",
    "\n",
    "learn = tabular_learner(data, layers=layers, metrics=[accuracy])\n"
   ]
  },
  {
   "cell_type": "code",
   "execution_count": 94,
   "metadata": {
    "colab": {
     "base_uri": "https://localhost:8080/",
     "height": 378
    },
    "colab_type": "code",
    "id": "hrn8ErsM52SV",
    "outputId": "bb6170c4-4340-4fc2-f71c-d0d26d65d14f"
   },
   "outputs": [
    {
     "data": {
      "text/html": [
       "\n",
       "    <div>\n",
       "        <style>\n",
       "            /* Turns off some styling */\n",
       "            progress {\n",
       "                /* gets rid of default border in Firefox and Opera. */\n",
       "                border: none;\n",
       "                /* Needs to be in here for Safari polyfill so background images work as expected. */\n",
       "                background-size: auto;\n",
       "            }\n",
       "            .progress-bar-interrupted, .progress-bar-interrupted::-webkit-progress-bar {\n",
       "                background: #F44336;\n",
       "            }\n",
       "        </style>\n",
       "      <progress value='0' class='' max='1', style='width:300px; height:20px; vertical-align: middle;'></progress>\n",
       "      0.00% [0/1 00:00<00:00]\n",
       "    </div>\n",
       "    \n",
       "<table border=\"1\" class=\"dataframe\">\n",
       "  <thead>\n",
       "    <tr style=\"text-align: left;\">\n",
       "      <th>epoch</th>\n",
       "      <th>train_loss</th>\n",
       "      <th>valid_loss</th>\n",
       "      <th>accuracy</th>\n",
       "      <th>time</th>\n",
       "    </tr>\n",
       "  </thead>\n",
       "  <tbody>\n",
       "  </tbody>\n",
       "</table><p>\n",
       "\n",
       "    <div>\n",
       "        <style>\n",
       "            /* Turns off some styling */\n",
       "            progress {\n",
       "                /* gets rid of default border in Firefox and Opera. */\n",
       "                border: none;\n",
       "                /* Needs to be in here for Safari polyfill so background images work as expected. */\n",
       "                background-size: auto;\n",
       "            }\n",
       "            .progress-bar-interrupted, .progress-bar-interrupted::-webkit-progress-bar {\n",
       "                background: #F44336;\n",
       "            }\n",
       "        </style>\n",
       "      <progress value='87' class='' max='2074', style='width:300px; height:20px; vertical-align: middle;'></progress>\n",
       "      4.19% [87/2074 00:02<00:57 0.7191]\n",
       "    </div>\n",
       "    "
      ],
      "text/plain": [
       "<IPython.core.display.HTML object>"
      ]
     },
     "metadata": {
      "tags": []
     },
     "output_type": "display_data"
    },
    {
     "name": "stdout",
     "output_type": "stream",
     "text": [
      "LR Finder is complete, type {learner_name}.recorder.plot() to see the graph.\n"
     ]
    },
    {
     "data": {
      "image/png": "[encoded data removed]",
      "text/plain": [
       "<Figure size 432x288 with 1 Axes>"
      ]
     },
     "metadata": {
      "tags": []
     },
     "output_type": "display_data"
    }
   ],
   "source": [
    "learn.lr_find()\n",
    "learn.recorder.plot()"
   ]
  },
  {
   "cell_type": "code",
   "execution_count": 95,
   "metadata": {
    "colab": {
     "base_uri": "https://localhost:8080/",
     "height": 204
    },
    "colab_type": "code",
    "id": "hWwcj54-52SY",
    "outputId": "9193e489-d848-42c5-b5cb-d1118c3a4b56"
   },
   "outputs": [
    {
     "data": {
      "text/html": [
       "<table border=\"1\" class=\"dataframe\">\n",
       "  <thead>\n",
       "    <tr style=\"text-align: left;\">\n",
       "      <th>epoch</th>\n",
       "      <th>train_loss</th>\n",
       "      <th>valid_loss</th>\n",
       "      <th>accuracy</th>\n",
       "      <th>time</th>\n",
       "    </tr>\n",
       "  </thead>\n",
       "  <tbody>\n",
       "    <tr>\n",
       "      <td>0</td>\n",
       "      <td>0.226848</td>\n",
       "      <td>11.833688</td>\n",
       "      <td>0.917267</td>\n",
       "      <td>00:59</td>\n",
       "    </tr>\n",
       "    <tr>\n",
       "      <td>1</td>\n",
       "      <td>0.217146</td>\n",
       "      <td>2788.790283</td>\n",
       "      <td>0.919556</td>\n",
       "      <td>01:04</td>\n",
       "    </tr>\n",
       "    <tr>\n",
       "      <td>2</td>\n",
       "      <td>0.220541</td>\n",
       "      <td>0.949662</td>\n",
       "      <td>0.919978</td>\n",
       "      <td>01:05</td>\n",
       "    </tr>\n",
       "    <tr>\n",
       "      <td>3</td>\n",
       "      <td>0.231423</td>\n",
       "      <td>0.207786</td>\n",
       "      <td>0.920732</td>\n",
       "      <td>01:04</td>\n",
       "    </tr>\n",
       "    <tr>\n",
       "      <td>4</td>\n",
       "      <td>0.203191</td>\n",
       "      <td>0.206240</td>\n",
       "      <td>0.921334</td>\n",
       "      <td>01:03</td>\n",
       "    </tr>\n",
       "  </tbody>\n",
       "</table>"
      ],
      "text/plain": [
       "<IPython.core.display.HTML object>"
      ]
     },
     "metadata": {
      "tags": []
     },
     "output_type": "display_data"
    }
   ],
   "source": [
    "lr = 5e-2\n",
    "learn.fit_one_cycle(epochs, lr)"
   ]
  },
  {
   "cell_type": "code",
   "execution_count": 96,
   "metadata": {
    "colab": {
     "base_uri": "https://localhost:8080/",
     "height": 279
    },
    "colab_type": "code",
    "id": "8z1tUL7752Sa",
    "outputId": "3a9bb280-1a69-4482-a9c6-eaf180859841"
   },
   "outputs": [
    {
     "data": {
      "image/png": "[encoded data removed]",
      "text/plain": [
       "<Figure size 432x288 with 1 Axes>"
      ]
     },
     "metadata": {
      "tags": []
     },
     "output_type": "display_data"
    }
   ],
   "source": [
    "learn.recorder.plot_losses()"
   ]
  },
  {
   "cell_type": "code",
   "execution_count": 97,
   "metadata": {
    "colab": {
     "base_uri": "https://localhost:8080/",
     "height": 17
    },
    "colab_type": "code",
    "id": "0F7tcCQS52Sc",
    "outputId": "f112fb3a-51ef-4127-a446-fe9e9240ef99"
   },
   "outputs": [
    {
     "data": {
      "text/html": [],
      "text/plain": [
       "<IPython.core.display.HTML object>"
      ]
     },
     "metadata": {
      "tags": []
     },
     "output_type": "display_data"
    }
   ],
   "source": [
    "preds, targets = learn.get_preds(DatasetType.Valid) \n",
    "predictions = np.argmax(preds, axis = 1)"
   ]
  },
  {
   "cell_type": "code",
   "execution_count": 98,
   "metadata": {
    "colab": {
     "base_uri": "https://localhost:8080/",
     "height": 364
    },
    "colab_type": "code",
    "id": "zoR-h8cO52Se",
    "outputId": "17db8de9-e516-4064-ec30-42bdd9542f65"
   },
   "outputs": [
    {
     "data": {
      "image/png": "[encoded data removed]",
      "text/plain": [
       "<Figure size 360x360 with 2 Axes>"
      ]
     },
     "metadata": {
      "tags": []
     },
     "output_type": "display_data"
    }
   ],
   "source": [
    "LABELS = data.classes\n",
    "\n",
    "confusion_matrix = sklearn.metrics.confusion_matrix(targets, predictions)\n",
    "\n",
    "plt.figure(figsize=(5, 5))\n",
    "sns.heatmap(confusion_matrix, xticklabels=LABELS, yticklabels=LABELS, annot=True, fmt=\"d\", annot_kws={\"size\": 20});\n",
    "plt.title(\"Confusion matrix\", fontsize=20)\n",
    "plt.ylabel('True label', fontsize=20)\n",
    "plt.xlabel('Predicted label', fontsize=20)\n",
    "plt.show()"
   ]
  },
  {
   "cell_type": "code",
   "execution_count": 99,
   "metadata": {
    "colab": {
     "base_uri": "https://localhost:8080/",
     "height": 136
    },
    "colab_type": "code",
    "id": "rm1MElso52Sf",
    "outputId": "8696afd2-3420-4519-d7d6-5bcf2e4103ba"
   },
   "outputs": [
    {
     "name": "stdout",
     "output_type": "stream",
     "text": [
      "weighted f1:     0.9086124480903628\n",
      "f1:              [0.458186 0.957588]\n",
      "accuracy:        0.9213340965924498\n",
      "precision:       [0.705882 0.931988]\n",
      "recall:          [0.339171 0.984634]\n",
      "admission sens:  0.3391705069124424\n",
      "admission spec:  0.9846338856226616\n"
     ]
    }
   ],
   "source": [
    "f1_w = sklearn.metrics.f1_score(targets, predictions, average='weighted')\n",
    "f1 = sklearn.metrics.f1_score(targets, predictions, average=None)\n",
    "acc = sklearn.metrics.accuracy_score(targets, predictions)\n",
    "prec = sklearn.metrics.precision_score(targets,predictions, average = None)\n",
    "rec = sklearn.metrics.recall_score(targets,predictions, average = None)\n",
    "print ('weighted f1:    ', f1_w)\n",
    "print ('f1:             ', f1)\n",
    "print ('accuracy:       ', acc)\n",
    "print ('precision:      ', prec)\n",
    "print ('recall:         ', rec)\n",
    "print ('admission sens: ', rec[0])\n",
    "print ('admission spec: ', rec[1])\n"
   ]
  },
  {
   "cell_type": "code",
   "execution_count": null,
   "metadata": {
    "colab": {},
    "colab_type": "code",
    "id": "BGXozCEC4zY2"
   },
   "outputs": [],
   "source": [
    "results_df.loc[len(results_df)] = [experiment_desc, layers, epochs, f1_w, f1, acc, prec, rec, rec[0], rec[1]]"
   ]
  },
  {
   "cell_type": "markdown",
   "metadata": {
    "colab_type": "text",
    "id": "Z8jhf2wT7v4B"
   },
   "source": [
    "##### experiment 3 - even deeper network"
   ]
  },
  {
   "cell_type": "code",
   "execution_count": null,
   "metadata": {
    "colab": {},
    "colab_type": "code",
    "id": "4Y-J29Lw8BzM"
   },
   "outputs": [],
   "source": [
    "#hyperparameters\n",
    "experiment_desc = 'whole dataset'\n",
    "layers = [400,200,100, 50]\n",
    "epochs = 5\n",
    "columns = 'all'\n"
   ]
  },
  {
   "cell_type": "code",
   "execution_count": null,
   "metadata": {
    "colab": {},
    "colab_type": "code",
    "id": "UbRgVGFw8Bzb"
   },
   "outputs": [],
   "source": [
    "#f1 = FBeta(beta=1, average = 'weighted')\n",
    "\n",
    "learn = tabular_learner(data, layers=layers, metrics=[accuracy])\n"
   ]
  },
  {
   "cell_type": "code",
   "execution_count": 103,
   "metadata": {
    "colab": {
     "base_uri": "https://localhost:8080/",
     "height": 374
    },
    "colab_type": "code",
    "id": "63k52Xek8Bzd",
    "outputId": "7aaa1e01-a8a2-475e-fa54-313a37523b17"
   },
   "outputs": [
    {
     "data": {
      "text/html": [
       "\n",
       "    <div>\n",
       "        <style>\n",
       "            /* Turns off some styling */\n",
       "            progress {\n",
       "                /* gets rid of default border in Firefox and Opera. */\n",
       "                border: none;\n",
       "                /* Needs to be in here for Safari polyfill so background images work as expected. */\n",
       "                background-size: auto;\n",
       "            }\n",
       "            .progress-bar-interrupted, .progress-bar-interrupted::-webkit-progress-bar {\n",
       "                background: #F44336;\n",
       "            }\n",
       "        </style>\n",
       "      <progress value='0' class='' max='1', style='width:300px; height:20px; vertical-align: middle;'></progress>\n",
       "      0.00% [0/1 00:00<00:00]\n",
       "    </div>\n",
       "    \n",
       "<table border=\"1\" class=\"dataframe\">\n",
       "  <thead>\n",
       "    <tr style=\"text-align: left;\">\n",
       "      <th>epoch</th>\n",
       "      <th>train_loss</th>\n",
       "      <th>valid_loss</th>\n",
       "      <th>accuracy</th>\n",
       "      <th>time</th>\n",
       "    </tr>\n",
       "  </thead>\n",
       "  <tbody>\n",
       "  </tbody>\n",
       "</table><p>\n",
       "\n",
       "    <div>\n",
       "        <style>\n",
       "            /* Turns off some styling */\n",
       "            progress {\n",
       "                /* gets rid of default border in Firefox and Opera. */\n",
       "                border: none;\n",
       "                /* Needs to be in here for Safari polyfill so background images work as expected. */\n",
       "                background-size: auto;\n",
       "            }\n",
       "            .progress-bar-interrupted, .progress-bar-interrupted::-webkit-progress-bar {\n",
       "                background: #F44336;\n",
       "            }\n",
       "        </style>\n",
       "      <progress value='92' class='' max='2074', style='width:300px; height:20px; vertical-align: middle;'></progress>\n",
       "      4.44% [92/2074 00:03<01:11 0.9554]\n",
       "    </div>\n",
       "    "
      ],
      "text/plain": [
       "<IPython.core.display.HTML object>"
      ]
     },
     "metadata": {
      "tags": []
     },
     "output_type": "display_data"
    },
    {
     "name": "stdout",
     "output_type": "stream",
     "text": [
      "LR Finder is complete, type {learner_name}.recorder.plot() to see the graph.\n"
     ]
    },
    {
     "data": {
      "image/png": "[encoded data removed]",
      "text/plain": [
       "<Figure size 432x288 with 1 Axes>"
      ]
     },
     "metadata": {
      "tags": []
     },
     "output_type": "display_data"
    }
   ],
   "source": [
    "learn.lr_find()\n",
    "learn.recorder.plot()"
   ]
  },
  {
   "cell_type": "code",
   "execution_count": 104,
   "metadata": {
    "colab": {
     "base_uri": "https://localhost:8080/",
     "height": 204
    },
    "colab_type": "code",
    "id": "LBCXG3UL8Bzf",
    "outputId": "8b1505a8-7990-4258-d4b0-2b425dfe2b80"
   },
   "outputs": [
    {
     "data": {
      "text/html": [
       "<table border=\"1\" class=\"dataframe\">\n",
       "  <thead>\n",
       "    <tr style=\"text-align: left;\">\n",
       "      <th>epoch</th>\n",
       "      <th>train_loss</th>\n",
       "      <th>valid_loss</th>\n",
       "      <th>accuracy</th>\n",
       "      <th>time</th>\n",
       "    </tr>\n",
       "  </thead>\n",
       "  <tbody>\n",
       "    <tr>\n",
       "      <td>0</td>\n",
       "      <td>0.229014</td>\n",
       "      <td>5437522.500000</td>\n",
       "      <td>0.915821</td>\n",
       "      <td>01:12</td>\n",
       "    </tr>\n",
       "    <tr>\n",
       "      <td>1</td>\n",
       "      <td>0.223398</td>\n",
       "      <td>0.212135</td>\n",
       "      <td>0.920732</td>\n",
       "      <td>01:17</td>\n",
       "    </tr>\n",
       "    <tr>\n",
       "      <td>2</td>\n",
       "      <td>0.230548</td>\n",
       "      <td>0.207907</td>\n",
       "      <td>0.921274</td>\n",
       "      <td>01:18</td>\n",
       "    </tr>\n",
       "    <tr>\n",
       "      <td>3</td>\n",
       "      <td>0.204521</td>\n",
       "      <td>0.207694</td>\n",
       "      <td>0.920008</td>\n",
       "      <td>01:16</td>\n",
       "    </tr>\n",
       "    <tr>\n",
       "      <td>4</td>\n",
       "      <td>0.196030</td>\n",
       "      <td>0.205652</td>\n",
       "      <td>0.922117</td>\n",
       "      <td>01:16</td>\n",
       "    </tr>\n",
       "  </tbody>\n",
       "</table>"
      ],
      "text/plain": [
       "<IPython.core.display.HTML object>"
      ]
     },
     "metadata": {
      "tags": []
     },
     "output_type": "display_data"
    }
   ],
   "source": [
    "lr = 5e-2\n",
    "learn.fit_one_cycle(epochs, lr)"
   ]
  },
  {
   "cell_type": "code",
   "execution_count": 105,
   "metadata": {
    "colab": {
     "base_uri": "https://localhost:8080/",
     "height": 290
    },
    "colab_type": "code",
    "id": "I8v0xgMH8Bzg",
    "outputId": "eca12c8b-fb84-4544-eec2-ee9c5b454f4c"
   },
   "outputs": [
    {
     "data": {
      "image/png": "[encoded data removed]",
      "text/plain": [
       "<Figure size 432x288 with 1 Axes>"
      ]
     },
     "metadata": {
      "tags": []
     },
     "output_type": "display_data"
    }
   ],
   "source": [
    "learn.recorder.plot_losses()"
   ]
  },
  {
   "cell_type": "code",
   "execution_count": 106,
   "metadata": {
    "colab": {
     "base_uri": "https://localhost:8080/",
     "height": 17
    },
    "colab_type": "code",
    "id": "uSXMu7fz8Bzi",
    "outputId": "7a473dff-f398-4e16-8ec5-1a3b4cfd6cf0"
   },
   "outputs": [
    {
     "data": {
      "text/html": [],
      "text/plain": [
       "<IPython.core.display.HTML object>"
      ]
     },
     "metadata": {
      "tags": []
     },
     "output_type": "display_data"
    }
   ],
   "source": [
    "preds, targets = learn.get_preds(DatasetType.Valid) \n",
    "predictions = np.argmax(preds, axis = 1)"
   ]
  },
  {
   "cell_type": "code",
   "execution_count": 107,
   "metadata": {
    "colab": {
     "base_uri": "https://localhost:8080/",
     "height": 364
    },
    "colab_type": "code",
    "id": "bIl6zi378Bzk",
    "outputId": "424d860d-85c8-4b67-cd16-3e64a55fbf62"
   },
   "outputs": [
    {
     "data": {
      "image/png": "[encoded data removed]",
      "text/plain": [
       "<Figure size 360x360 with 2 Axes>"
      ]
     },
     "metadata": {
      "tags": []
     },
     "output_type": "display_data"
    }
   ],
   "source": [
    "LABELS = data.classes\n",
    "\n",
    "confusion_matrix = sklearn.metrics.confusion_matrix(targets, predictions)\n",
    "\n",
    "plt.figure(figsize=(5, 5))\n",
    "sns.heatmap(confusion_matrix, xticklabels=LABELS, yticklabels=LABELS, annot=True, fmt=\"d\", annot_kws={\"size\": 20});\n",
    "plt.title(\"Confusion matrix\", fontsize=20)\n",
    "plt.ylabel('True label', fontsize=20)\n",
    "plt.xlabel('Predicted label', fontsize=20)\n",
    "plt.show()"
   ]
  },
  {
   "cell_type": "code",
   "execution_count": 108,
   "metadata": {
    "colab": {
     "base_uri": "https://localhost:8080/",
     "height": 136
    },
    "colab_type": "code",
    "id": "_STL6duV8Bzn",
    "outputId": "2225c561-bb75-46e2-da9b-61d46d52fb8f"
   },
   "outputs": [
    {
     "name": "stdout",
     "output_type": "stream",
     "text": [
      "weighted f1:  0.9112483818279425\n",
      "f1:           [0.482275 0.957891]\n",
      "accuracy:     0.9221174414750987\n",
      "precision:    [0.69275  0.934792]\n",
      "recall:       [0.369892 0.982162]\n",
      "admission sens:  0.36989247311827955\n",
      "admission spec:  0.9821619454836985\n"
     ]
    }
   ],
   "source": [
    "f1_w = sklearn.metrics.f1_score(targets, predictions, average='weighted')\n",
    "f1 = sklearn.metrics.f1_score(targets, predictions, average=None)\n",
    "acc = sklearn.metrics.accuracy_score(targets, predictions)\n",
    "prec = sklearn.metrics.precision_score(targets,predictions, average = None)\n",
    "rec = sklearn.metrics.recall_score(targets,predictions, average = None)\n",
    "print ('weighted f1: ', f1_w)\n",
    "print ('f1:          ', f1)\n",
    "print ('accuracy:    ', acc)\n",
    "print ('precision:   ', prec)\n",
    "print ('recall:      ', rec)\n",
    "print ('admission sens: ', rec[0])\n",
    "print ('admission spec: ', rec[1])\n"
   ]
  },
  {
   "cell_type": "code",
   "execution_count": null,
   "metadata": {
    "colab": {},
    "colab_type": "code",
    "id": "JUVkstRr8Bzp"
   },
   "outputs": [],
   "source": [
    "results_df.loc[len(results_df)] = [experiment_desc, layers, epochs, f1_w, f1, acc, prec, rec, rec[0], rec[1]]"
   ]
  },
  {
   "cell_type": "markdown",
   "metadata": {
    "colab_type": "text",
    "id": "C4v4ovyx8Bzs"
   },
   "source": [
    "##### experiment 4 - same network as exp 3, more epochs"
   ]
  },
  {
   "cell_type": "code",
   "execution_count": null,
   "metadata": {
    "colab": {},
    "colab_type": "code",
    "id": "eeCmHC9__kjt"
   },
   "outputs": [],
   "source": [
    "#hyperparameters\n",
    "experiment_desc = 'whole dataset'\n",
    "layers = [400,200,100, 50]\n",
    "epochs = 10\n",
    "columns = 'all'\n"
   ]
  },
  {
   "cell_type": "code",
   "execution_count": null,
   "metadata": {
    "colab": {},
    "colab_type": "code",
    "id": "w30Grrzv_kjw"
   },
   "outputs": [],
   "source": [
    "#f1 = FBeta(beta=1, average = 'weighted')\n",
    "\n",
    "learn = tabular_learner(data, layers=layers, metrics=[accuracy])\n"
   ]
  },
  {
   "cell_type": "code",
   "execution_count": 112,
   "metadata": {
    "colab": {
     "base_uri": "https://localhost:8080/",
     "height": 374
    },
    "colab_type": "code",
    "id": "Daj4N_Nq_kj0",
    "outputId": "6316257a-e64a-41c2-8fbe-c8cd20dcd949"
   },
   "outputs": [
    {
     "data": {
      "text/html": [
       "\n",
       "    <div>\n",
       "        <style>\n",
       "            /* Turns off some styling */\n",
       "            progress {\n",
       "                /* gets rid of default border in Firefox and Opera. */\n",
       "                border: none;\n",
       "                /* Needs to be in here for Safari polyfill so background images work as expected. */\n",
       "                background-size: auto;\n",
       "            }\n",
       "            .progress-bar-interrupted, .progress-bar-interrupted::-webkit-progress-bar {\n",
       "                background: #F44336;\n",
       "            }\n",
       "        </style>\n",
       "      <progress value='0' class='' max='1', style='width:300px; height:20px; vertical-align: middle;'></progress>\n",
       "      0.00% [0/1 00:00<00:00]\n",
       "    </div>\n",
       "    \n",
       "<table border=\"1\" class=\"dataframe\">\n",
       "  <thead>\n",
       "    <tr style=\"text-align: left;\">\n",
       "      <th>epoch</th>\n",
       "      <th>train_loss</th>\n",
       "      <th>valid_loss</th>\n",
       "      <th>accuracy</th>\n",
       "      <th>time</th>\n",
       "    </tr>\n",
       "  </thead>\n",
       "  <tbody>\n",
       "  </tbody>\n",
       "</table><p>\n",
       "\n",
       "    <div>\n",
       "        <style>\n",
       "            /* Turns off some styling */\n",
       "            progress {\n",
       "                /* gets rid of default border in Firefox and Opera. */\n",
       "                border: none;\n",
       "                /* Needs to be in here for Safari polyfill so background images work as expected. */\n",
       "                background-size: auto;\n",
       "            }\n",
       "            .progress-bar-interrupted, .progress-bar-interrupted::-webkit-progress-bar {\n",
       "                background: #F44336;\n",
       "            }\n",
       "        </style>\n",
       "      <progress value='90' class='' max='2074', style='width:300px; height:20px; vertical-align: middle;'></progress>\n",
       "      4.34% [90/2074 00:03<01:10 0.8368]\n",
       "    </div>\n",
       "    "
      ],
      "text/plain": [
       "<IPython.core.display.HTML object>"
      ]
     },
     "metadata": {
      "tags": []
     },
     "output_type": "display_data"
    },
    {
     "name": "stdout",
     "output_type": "stream",
     "text": [
      "LR Finder is complete, type {learner_name}.recorder.plot() to see the graph.\n"
     ]
    },
    {
     "data": {
      "image/png": "[encoded data removed]",
      "text/plain": [
       "<Figure size 432x288 with 1 Axes>"
      ]
     },
     "metadata": {
      "tags": []
     },
     "output_type": "display_data"
    }
   ],
   "source": [
    "learn.lr_find()\n",
    "learn.recorder.plot()"
   ]
  },
  {
   "cell_type": "code",
   "execution_count": 113,
   "metadata": {
    "colab": {
     "base_uri": "https://localhost:8080/",
     "height": 359
    },
    "colab_type": "code",
    "id": "d1nigrok_kj5",
    "outputId": "e7890a8f-9f57-4dc6-aff0-20c71a983151"
   },
   "outputs": [
    {
     "data": {
      "text/html": [
       "<table border=\"1\" class=\"dataframe\">\n",
       "  <thead>\n",
       "    <tr style=\"text-align: left;\">\n",
       "      <th>epoch</th>\n",
       "      <th>train_loss</th>\n",
       "      <th>valid_loss</th>\n",
       "      <th>accuracy</th>\n",
       "      <th>time</th>\n",
       "    </tr>\n",
       "  </thead>\n",
       "  <tbody>\n",
       "    <tr>\n",
       "      <td>0</td>\n",
       "      <td>0.224520</td>\n",
       "      <td>0.218617</td>\n",
       "      <td>0.915730</td>\n",
       "      <td>01:11</td>\n",
       "    </tr>\n",
       "    <tr>\n",
       "      <td>1</td>\n",
       "      <td>0.219154</td>\n",
       "      <td>0.215647</td>\n",
       "      <td>0.916755</td>\n",
       "      <td>01:15</td>\n",
       "    </tr>\n",
       "    <tr>\n",
       "      <td>2</td>\n",
       "      <td>0.215760</td>\n",
       "      <td>2336.280762</td>\n",
       "      <td>0.870266</td>\n",
       "      <td>01:17</td>\n",
       "    </tr>\n",
       "    <tr>\n",
       "      <td>3</td>\n",
       "      <td>0.219510</td>\n",
       "      <td>0.225717</td>\n",
       "      <td>0.913501</td>\n",
       "      <td>01:17</td>\n",
       "    </tr>\n",
       "    <tr>\n",
       "      <td>4</td>\n",
       "      <td>0.209234</td>\n",
       "      <td>0.215065</td>\n",
       "      <td>0.917448</td>\n",
       "      <td>01:18</td>\n",
       "    </tr>\n",
       "    <tr>\n",
       "      <td>5</td>\n",
       "      <td>0.212383</td>\n",
       "      <td>47.082230</td>\n",
       "      <td>0.920882</td>\n",
       "      <td>01:18</td>\n",
       "    </tr>\n",
       "    <tr>\n",
       "      <td>6</td>\n",
       "      <td>0.212697</td>\n",
       "      <td>0.213149</td>\n",
       "      <td>0.916363</td>\n",
       "      <td>01:18</td>\n",
       "    </tr>\n",
       "    <tr>\n",
       "      <td>7</td>\n",
       "      <td>0.205583</td>\n",
       "      <td>0.210827</td>\n",
       "      <td>0.920340</td>\n",
       "      <td>01:18</td>\n",
       "    </tr>\n",
       "    <tr>\n",
       "      <td>8</td>\n",
       "      <td>0.198628</td>\n",
       "      <td>0.206018</td>\n",
       "      <td>0.921214</td>\n",
       "      <td>01:17</td>\n",
       "    </tr>\n",
       "    <tr>\n",
       "      <td>9</td>\n",
       "      <td>0.199186</td>\n",
       "      <td>0.206509</td>\n",
       "      <td>0.921575</td>\n",
       "      <td>01:18</td>\n",
       "    </tr>\n",
       "  </tbody>\n",
       "</table>"
      ],
      "text/plain": [
       "<IPython.core.display.HTML object>"
      ]
     },
     "metadata": {
      "tags": []
     },
     "output_type": "display_data"
    }
   ],
   "source": [
    "lr = 5e-2\n",
    "learn.fit_one_cycle(epochs, lr)"
   ]
  },
  {
   "cell_type": "code",
   "execution_count": 114,
   "metadata": {
    "colab": {
     "base_uri": "https://localhost:8080/",
     "height": 279
    },
    "colab_type": "code",
    "id": "mj3xI8Al_kj8",
    "outputId": "191d2a27-fe25-45d1-9702-7d697b7828b8"
   },
   "outputs": [
    {
     "data": {
      "image/png": "[encoded data removed]",
      "text/plain": [
       "<Figure size 432x288 with 1 Axes>"
      ]
     },
     "metadata": {
      "tags": []
     },
     "output_type": "display_data"
    }
   ],
   "source": [
    "learn.recorder.plot_losses()"
   ]
  },
  {
   "cell_type": "code",
   "execution_count": 115,
   "metadata": {
    "colab": {
     "base_uri": "https://localhost:8080/",
     "height": 17
    },
    "colab_type": "code",
    "id": "gPXmicql_kj-",
    "outputId": "3de10588-ef53-496e-896c-c5b476356978"
   },
   "outputs": [
    {
     "data": {
      "text/html": [],
      "text/plain": [
       "<IPython.core.display.HTML object>"
      ]
     },
     "metadata": {
      "tags": []
     },
     "output_type": "display_data"
    }
   ],
   "source": [
    "preds, targets = learn.get_preds(DatasetType.Valid) \n",
    "predictions = np.argmax(preds, axis = 1)"
   ]
  },
  {
   "cell_type": "code",
   "execution_count": 116,
   "metadata": {
    "colab": {
     "base_uri": "https://localhost:8080/",
     "height": 364
    },
    "colab_type": "code",
    "id": "6PCk7Tep_kkB",
    "outputId": "f73e3de9-4742-40af-f8ef-d489fb284fa9"
   },
   "outputs": [
    {
     "data": {
      "image/png": "[encoded data removed]",
      "text/plain": [
       "<Figure size 360x360 with 2 Axes>"
      ]
     },
     "metadata": {
      "tags": []
     },
     "output_type": "display_data"
    }
   ],
   "source": [
    "LABELS = data.classes\n",
    "\n",
    "confusion_matrix = sklearn.metrics.confusion_matrix(targets, predictions)\n",
    "\n",
    "plt.figure(figsize=(5, 5))\n",
    "sns.heatmap(confusion_matrix, xticklabels=LABELS, yticklabels=LABELS, annot=True, fmt=\"d\", annot_kws={\"size\": 20});\n",
    "plt.title(\"Confusion matrix\", fontsize=20)\n",
    "plt.ylabel('True label', fontsize=20)\n",
    "plt.xlabel('Predicted label', fontsize=20)\n",
    "plt.show()"
   ]
  },
  {
   "cell_type": "code",
   "execution_count": 117,
   "metadata": {
    "colab": {
     "base_uri": "https://localhost:8080/",
     "height": 136
    },
    "colab_type": "code",
    "id": "M5YZsRFq_kkD",
    "outputId": "7045d4fb-951d-4bab-92f3-93cd2961cb5e"
   },
   "outputs": [
    {
     "name": "stdout",
     "output_type": "stream",
     "text": [
      "weighted f1:  0.9113122445736702\n",
      "f1:           [0.486081 0.957548]\n",
      "accuracy:     0.921575125787111\n",
      "precision:    [0.68011  0.935502]\n",
      "recall:       [0.378187 0.980659]\n",
      "admission sens:  0.3781874039938556\n",
      "admission spec:  0.9806587386424372\n"
     ]
    }
   ],
   "source": [
    "f1_w = sklearn.metrics.f1_score(targets, predictions, average='weighted')\n",
    "f1 = sklearn.metrics.f1_score(targets, predictions, average=None)\n",
    "acc = sklearn.metrics.accuracy_score(targets, predictions)\n",
    "prec = sklearn.metrics.precision_score(targets,predictions, average = None)\n",
    "rec = sklearn.metrics.recall_score(targets,predictions, average = None)\n",
    "print ('weighted f1: ', f1_w)\n",
    "print ('f1:          ', f1)\n",
    "print ('accuracy:    ', acc)\n",
    "print ('precision:   ', prec)\n",
    "print ('recall:      ', rec)\n",
    "print ('admission sens: ', rec[0])\n",
    "print ('admission spec: ', rec[1])\n"
   ]
  },
  {
   "cell_type": "code",
   "execution_count": null,
   "metadata": {
    "colab": {},
    "colab_type": "code",
    "id": "nI-l8tuF_kkE"
   },
   "outputs": [],
   "source": [
    "results_df.loc[len(results_df)] = [experiment_desc, layers, epochs, f1_w, f1, acc, prec, rec, rec[0], rec[1]]"
   ]
  },
  {
   "cell_type": "markdown",
   "metadata": {
    "colab_type": "text",
    "id": "WcvzkH4b_xGf"
   },
   "source": [
    "##### experiment 5 - same as above but with lower lr"
   ]
  },
  {
   "cell_type": "code",
   "execution_count": null,
   "metadata": {
    "colab": {},
    "colab_type": "code",
    "id": "Flvhbzy7_1tl"
   },
   "outputs": [],
   "source": [
    "#hyperparameters\n",
    "experiment_desc = 'whole dataset'\n",
    "layers = [400,200,100, 50]\n",
    "epochs = 10\n",
    "columns = 'all'\n"
   ]
  },
  {
   "cell_type": "code",
   "execution_count": null,
   "metadata": {
    "colab": {},
    "colab_type": "code",
    "id": "NpHLHHLC_1tq"
   },
   "outputs": [],
   "source": [
    "#f1 = FBeta(beta=1, average = 'weighted')\n",
    "\n",
    "learn = tabular_learner(data, layers=layers, metrics=[accuracy])\n"
   ]
  },
  {
   "cell_type": "code",
   "execution_count": 121,
   "metadata": {
    "colab": {
     "base_uri": "https://localhost:8080/",
     "height": 374
    },
    "colab_type": "code",
    "id": "us7XBZJGAY3J",
    "outputId": "03e0d3b0-4436-449c-f233-309516e939b4"
   },
   "outputs": [
    {
     "data": {
      "text/html": [
       "\n",
       "    <div>\n",
       "        <style>\n",
       "            /* Turns off some styling */\n",
       "            progress {\n",
       "                /* gets rid of default border in Firefox and Opera. */\n",
       "                border: none;\n",
       "                /* Needs to be in here for Safari polyfill so background images work as expected. */\n",
       "                background-size: auto;\n",
       "            }\n",
       "            .progress-bar-interrupted, .progress-bar-interrupted::-webkit-progress-bar {\n",
       "                background: #F44336;\n",
       "            }\n",
       "        </style>\n",
       "      <progress value='0' class='' max='1', style='width:300px; height:20px; vertical-align: middle;'></progress>\n",
       "      0.00% [0/1 00:00<00:00]\n",
       "    </div>\n",
       "    \n",
       "<table border=\"1\" class=\"dataframe\">\n",
       "  <thead>\n",
       "    <tr style=\"text-align: left;\">\n",
       "      <th>epoch</th>\n",
       "      <th>train_loss</th>\n",
       "      <th>valid_loss</th>\n",
       "      <th>accuracy</th>\n",
       "      <th>time</th>\n",
       "    </tr>\n",
       "  </thead>\n",
       "  <tbody>\n",
       "  </tbody>\n",
       "</table><p>\n",
       "\n",
       "    <div>\n",
       "        <style>\n",
       "            /* Turns off some styling */\n",
       "            progress {\n",
       "                /* gets rid of default border in Firefox and Opera. */\n",
       "                border: none;\n",
       "                /* Needs to be in here for Safari polyfill so background images work as expected. */\n",
       "                background-size: auto;\n",
       "            }\n",
       "            .progress-bar-interrupted, .progress-bar-interrupted::-webkit-progress-bar {\n",
       "                background: #F44336;\n",
       "            }\n",
       "        </style>\n",
       "      <progress value='91' class='' max='2074', style='width:300px; height:20px; vertical-align: middle;'></progress>\n",
       "      4.39% [91/2074 00:03<01:11 1.9835]\n",
       "    </div>\n",
       "    "
      ],
      "text/plain": [
       "<IPython.core.display.HTML object>"
      ]
     },
     "metadata": {
      "tags": []
     },
     "output_type": "display_data"
    },
    {
     "name": "stdout",
     "output_type": "stream",
     "text": [
      "LR Finder is complete, type {learner_name}.recorder.plot() to see the graph.\n"
     ]
    },
    {
     "data": {
      "image/png": "[encoded data removed]",
      "text/plain": [
       "<Figure size 432x288 with 1 Axes>"
      ]
     },
     "metadata": {
      "tags": []
     },
     "output_type": "display_data"
    }
   ],
   "source": [
    "learn.lr_find()\n",
    "learn.recorder.plot()"
   ]
  },
  {
   "cell_type": "code",
   "execution_count": 122,
   "metadata": {
    "colab": {
     "base_uri": "https://localhost:8080/",
     "height": 359
    },
    "colab_type": "code",
    "id": "gIIK78py_1tv",
    "outputId": "95024927-4180-4437-f1ba-7f5553241f17"
   },
   "outputs": [
    {
     "data": {
      "text/html": [
       "<table border=\"1\" class=\"dataframe\">\n",
       "  <thead>\n",
       "    <tr style=\"text-align: left;\">\n",
       "      <th>epoch</th>\n",
       "      <th>train_loss</th>\n",
       "      <th>valid_loss</th>\n",
       "      <th>accuracy</th>\n",
       "      <th>time</th>\n",
       "    </tr>\n",
       "  </thead>\n",
       "  <tbody>\n",
       "    <tr>\n",
       "      <td>0</td>\n",
       "      <td>0.245106</td>\n",
       "      <td>0.230770</td>\n",
       "      <td>0.914977</td>\n",
       "      <td>01:13</td>\n",
       "    </tr>\n",
       "    <tr>\n",
       "      <td>1</td>\n",
       "      <td>0.209211</td>\n",
       "      <td>0.213728</td>\n",
       "      <td>0.918713</td>\n",
       "      <td>01:15</td>\n",
       "    </tr>\n",
       "    <tr>\n",
       "      <td>2</td>\n",
       "      <td>0.214744</td>\n",
       "      <td>0.209197</td>\n",
       "      <td>0.920430</td>\n",
       "      <td>01:17</td>\n",
       "    </tr>\n",
       "    <tr>\n",
       "      <td>3</td>\n",
       "      <td>0.207431</td>\n",
       "      <td>0.208774</td>\n",
       "      <td>0.920822</td>\n",
       "      <td>01:18</td>\n",
       "    </tr>\n",
       "    <tr>\n",
       "      <td>4</td>\n",
       "      <td>0.203799</td>\n",
       "      <td>0.208414</td>\n",
       "      <td>0.920641</td>\n",
       "      <td>01:18</td>\n",
       "    </tr>\n",
       "    <tr>\n",
       "      <td>5</td>\n",
       "      <td>0.211767</td>\n",
       "      <td>0.208933</td>\n",
       "      <td>0.921937</td>\n",
       "      <td>01:17</td>\n",
       "    </tr>\n",
       "    <tr>\n",
       "      <td>6</td>\n",
       "      <td>0.184230</td>\n",
       "      <td>0.207159</td>\n",
       "      <td>0.921696</td>\n",
       "      <td>01:16</td>\n",
       "    </tr>\n",
       "    <tr>\n",
       "      <td>7</td>\n",
       "      <td>0.189343</td>\n",
       "      <td>0.207819</td>\n",
       "      <td>0.921123</td>\n",
       "      <td>01:16</td>\n",
       "    </tr>\n",
       "    <tr>\n",
       "      <td>8</td>\n",
       "      <td>0.192755</td>\n",
       "      <td>0.208775</td>\n",
       "      <td>0.920942</td>\n",
       "      <td>01:14</td>\n",
       "    </tr>\n",
       "    <tr>\n",
       "      <td>9</td>\n",
       "      <td>0.174976</td>\n",
       "      <td>0.209136</td>\n",
       "      <td>0.921304</td>\n",
       "      <td>01:14</td>\n",
       "    </tr>\n",
       "  </tbody>\n",
       "</table>"
      ],
      "text/plain": [
       "<IPython.core.display.HTML object>"
      ]
     },
     "metadata": {
      "tags": []
     },
     "output_type": "display_data"
    }
   ],
   "source": [
    "lr = 1e-3\n",
    "learn.fit_one_cycle(epochs, lr)"
   ]
  },
  {
   "cell_type": "code",
   "execution_count": 123,
   "metadata": {
    "colab": {
     "base_uri": "https://localhost:8080/",
     "height": 279
    },
    "colab_type": "code",
    "id": "FLALXWm1_1tx",
    "outputId": "7bfdaa48-3c08-406b-e920-33c0ec8480fc"
   },
   "outputs": [
    {
     "data": {
      "image/png": "[encoded data removed]",
      "text/plain": [
       "<Figure size 432x288 with 1 Axes>"
      ]
     },
     "metadata": {
      "tags": []
     },
     "output_type": "display_data"
    }
   ],
   "source": [
    "learn.recorder.plot_losses()"
   ]
  },
  {
   "cell_type": "code",
   "execution_count": 124,
   "metadata": {
    "colab": {
     "base_uri": "https://localhost:8080/",
     "height": 17
    },
    "colab_type": "code",
    "id": "saDhey5C_1ty",
    "outputId": "247d4f55-ebca-4ddd-b550-254c5be91a29"
   },
   "outputs": [
    {
     "data": {
      "text/html": [],
      "text/plain": [
       "<IPython.core.display.HTML object>"
      ]
     },
     "metadata": {
      "tags": []
     },
     "output_type": "display_data"
    }
   ],
   "source": [
    "preds, targets = learn.get_preds(DatasetType.Valid) \n",
    "predictions = np.argmax(preds, axis = 1)"
   ]
  },
  {
   "cell_type": "code",
   "execution_count": 125,
   "metadata": {
    "colab": {
     "base_uri": "https://localhost:8080/",
     "height": 364
    },
    "colab_type": "code",
    "id": "QAlsHyEA_1t0",
    "outputId": "2ffe6915-8edc-41c2-cf97-5725e08ab4aa"
   },
   "outputs": [
    {
     "data": {
      "image/png": "[encoded data removed]",
      "text/plain": [
       "<Figure size 360x360 with 2 Axes>"
      ]
     },
     "metadata": {
      "tags": []
     },
     "output_type": "display_data"
    }
   ],
   "source": [
    "LABELS = data.classes\n",
    "\n",
    "confusion_matrix = sklearn.metrics.confusion_matrix(targets, predictions)\n",
    "\n",
    "plt.figure(figsize=(5, 5))\n",
    "sns.heatmap(confusion_matrix, xticklabels=LABELS, yticklabels=LABELS, annot=True, fmt=\"d\", annot_kws={\"size\": 20});\n",
    "plt.title(\"Confusion matrix\", fontsize=20)\n",
    "plt.ylabel('True label', fontsize=20)\n",
    "plt.xlabel('Predicted label', fontsize=20)\n",
    "plt.show()"
   ]
  },
  {
   "cell_type": "code",
   "execution_count": 126,
   "metadata": {
    "colab": {
     "base_uri": "https://localhost:8080/",
     "height": 136
    },
    "colab_type": "code",
    "id": "UCOVmG19_1t4",
    "outputId": "b759bbf3-a0e7-4fae-e94f-e06f0e6a06d8"
   },
   "outputs": [
    {
     "name": "stdout",
     "output_type": "stream",
     "text": [
      "weighted f1:  0.9118230676626863\n",
      "f1:           [0.493209 0.95734 ]\n",
      "accuracy:     0.9213039679431171\n",
      "precision:    [0.6693   0.936597]\n",
      "recall:       [0.390476 0.979022]\n",
      "admission sens:  0.3904761904761905\n",
      "admission spec:  0.979021913415286\n"
     ]
    }
   ],
   "source": [
    "f1_w = sklearn.metrics.f1_score(targets, predictions, average='weighted')\n",
    "f1 = sklearn.metrics.f1_score(targets, predictions, average=None)\n",
    "acc = sklearn.metrics.accuracy_score(targets, predictions)\n",
    "prec = sklearn.metrics.precision_score(targets,predictions, average = None)\n",
    "rec = sklearn.metrics.recall_score(targets,predictions, average = None)\n",
    "print ('weighted f1: ', f1_w)\n",
    "print ('f1:          ', f1)\n",
    "print ('accuracy:    ', acc)\n",
    "print ('precision:   ', prec)\n",
    "print ('recall:      ', rec)\n",
    "print ('admission sens: ', rec[0])\n",
    "print ('admission spec: ', rec[1])\n"
   ]
  },
  {
   "cell_type": "code",
   "execution_count": null,
   "metadata": {
    "colab": {},
    "colab_type": "code",
    "id": "jFnwhTaC_1t6"
   },
   "outputs": [],
   "source": [
    "results_df.loc[len(results_df)] = [experiment_desc, layers, epochs, f1_w, f1, acc, prec, rec, rec[0], rec[1]]"
   ]
  },
  {
   "cell_type": "code",
   "execution_count": null,
   "metadata": {
    "colab": {},
    "colab_type": "code",
    "id": "iWbkxS1e_dcv"
   },
   "outputs": [],
   "source": [
    "results_df.to_csv('tabular_data_results.csv', index = False)"
   ]
  },
  {
   "cell_type": "code",
   "execution_count": 129,
   "metadata": {
    "colab": {
     "base_uri": "https://localhost:8080/",
     "height": 377
    },
    "colab_type": "code",
    "id": "7sn3UmbV__TQ",
    "outputId": "0b9f530f-762d-401a-c469-3a0a8345c9eb"
   },
   "outputs": [
    {
     "data": {
      "text/html": [
       "<div>\n",
       "<style scoped>\n",
       "    .dataframe tbody tr th:only-of-type {\n",
       "        vertical-align: middle;\n",
       "    }\n",
       "\n",
       "    .dataframe tbody tr th {\n",
       "        vertical-align: top;\n",
       "    }\n",
       "\n",
       "    .dataframe thead th {\n",
       "        text-align: right;\n",
       "    }\n",
       "</style>\n",
       "<table border=\"1\" class=\"dataframe\">\n",
       "  <thead>\n",
       "    <tr style=\"text-align: right;\">\n",
       "      <th></th>\n",
       "      <th>description</th>\n",
       "      <th>layers</th>\n",
       "      <th>epochs</th>\n",
       "      <th>weighted f1</th>\n",
       "      <th>f1</th>\n",
       "      <th>accuracy</th>\n",
       "      <th>precision</th>\n",
       "      <th>recall</th>\n",
       "      <th>admission sensitivity</th>\n",
       "      <th>admission specificity</th>\n",
       "    </tr>\n",
       "  </thead>\n",
       "  <tbody>\n",
       "    <tr>\n",
       "      <th>0</th>\n",
       "      <td>whole dataset</td>\n",
       "      <td>[100, 50]</td>\n",
       "      <td>5</td>\n",
       "      <td>0.911336</td>\n",
       "      <td>[0.4851249504165014, 0.9576785132050863]</td>\n",
       "      <td>0.921786</td>\n",
       "      <td>[0.6843872411863459, 0.9352948668959368]</td>\n",
       "      <td>[0.3757296466973886, 0.9811598075895244]</td>\n",
       "      <td>0.37573</td>\n",
       "      <td>0.98116</td>\n",
       "    </tr>\n",
       "    <tr>\n",
       "      <th>1</th>\n",
       "      <td>whole dataset</td>\n",
       "      <td>[200, 100, 50]</td>\n",
       "      <td>5</td>\n",
       "      <td>0.908612</td>\n",
       "      <td>[0.45818634571487865, 0.9575881617205139]</td>\n",
       "      <td>0.921334</td>\n",
       "      <td>[0.7058823529411765, 0.9319884908464287]</td>\n",
       "      <td>[0.3391705069124424, 0.9846338856226616]</td>\n",
       "      <td>0.339171</td>\n",
       "      <td>0.984634</td>\n",
       "    </tr>\n",
       "    <tr>\n",
       "      <th>2</th>\n",
       "      <td>whole dataset</td>\n",
       "      <td>[400, 200, 100, 50]</td>\n",
       "      <td>5</td>\n",
       "      <td>0.911248</td>\n",
       "      <td>[0.48227518525936314, 0.9578914789294499]</td>\n",
       "      <td>0.922117</td>\n",
       "      <td>[0.6927502876869965, 0.9347915938066321]</td>\n",
       "      <td>[0.36989247311827955, 0.9821619454836985]</td>\n",
       "      <td>0.369892</td>\n",
       "      <td>0.982162</td>\n",
       "    </tr>\n",
       "    <tr>\n",
       "      <th>3</th>\n",
       "      <td>whole dataset</td>\n",
       "      <td>[400, 200, 100, 50]</td>\n",
       "      <td>10</td>\n",
       "      <td>0.911312</td>\n",
       "      <td>[0.48608094768015797, 0.9575484775837044]</td>\n",
       "      <td>0.921575</td>\n",
       "      <td>[0.6801104972375691, 0.9355023740479909]</td>\n",
       "      <td>[0.3781874039938556, 0.9806587386424372]</td>\n",
       "      <td>0.378187</td>\n",
       "      <td>0.980659</td>\n",
       "    </tr>\n",
       "    <tr>\n",
       "      <th>4</th>\n",
       "      <td>whole dataset</td>\n",
       "      <td>[400, 200, 100, 50]</td>\n",
       "      <td>10</td>\n",
       "      <td>0.911823</td>\n",
       "      <td>[0.493209157935584, 0.9573397791859933]</td>\n",
       "      <td>0.921304</td>\n",
       "      <td>[0.6692996313849394, 0.9365972133452639]</td>\n",
       "      <td>[0.3904761904761905, 0.979021913415286]</td>\n",
       "      <td>0.390476</td>\n",
       "      <td>0.979022</td>\n",
       "    </tr>\n",
       "  </tbody>\n",
       "</table>\n",
       "</div>"
      ],
      "text/plain": [
       "     description  ... admission specificity\n",
       "0  whole dataset  ...               0.98116\n",
       "1  whole dataset  ...              0.984634\n",
       "2  whole dataset  ...              0.982162\n",
       "3  whole dataset  ...              0.980659\n",
       "4  whole dataset  ...              0.979022\n",
       "\n",
       "[5 rows x 10 columns]"
      ]
     },
     "execution_count": 129,
     "metadata": {
      "tags": []
     },
     "output_type": "execute_result"
    }
   ],
   "source": [
    "results_df"
   ]
  },
  {
   "cell_type": "code",
   "execution_count": null,
   "metadata": {
    "colab": {},
    "colab_type": "code",
    "id": "lxZVnoZ_MB_h"
   },
   "outputs": [],
   "source": [
    "#hyperparameters\n",
    "experiment_desc = 'whole dataset'\n",
    "layers = [400,200,100, 50]\n",
    "epochs = 15\n",
    "columns = 'all'\n"
   ]
  },
  {
   "cell_type": "code",
   "execution_count": null,
   "metadata": {
    "colab": {},
    "colab_type": "code",
    "id": "jIkaXLI6MB_m"
   },
   "outputs": [],
   "source": [
    "#f1 = FBeta(beta=1, average = 'weighted')\n",
    "\n",
    "learn = tabular_learner(data, layers=layers, metrics=[accuracy])\n"
   ]
  },
  {
   "cell_type": "code",
   "execution_count": 132,
   "metadata": {
    "colab": {
     "base_uri": "https://localhost:8080/",
     "height": 374
    },
    "colab_type": "code",
    "id": "mtIh9y2MMB_o",
    "outputId": "ea4e72c0-0dc8-48a0-d93d-8f869b2f1bb4"
   },
   "outputs": [
    {
     "data": {
      "text/html": [
       "\n",
       "    <div>\n",
       "        <style>\n",
       "            /* Turns off some styling */\n",
       "            progress {\n",
       "                /* gets rid of default border in Firefox and Opera. */\n",
       "                border: none;\n",
       "                /* Needs to be in here for Safari polyfill so background images work as expected. */\n",
       "                background-size: auto;\n",
       "            }\n",
       "            .progress-bar-interrupted, .progress-bar-interrupted::-webkit-progress-bar {\n",
       "                background: #F44336;\n",
       "            }\n",
       "        </style>\n",
       "      <progress value='0' class='' max='1', style='width:300px; height:20px; vertical-align: middle;'></progress>\n",
       "      0.00% [0/1 00:00<00:00]\n",
       "    </div>\n",
       "    \n",
       "<table border=\"1\" class=\"dataframe\">\n",
       "  <thead>\n",
       "    <tr style=\"text-align: left;\">\n",
       "      <th>epoch</th>\n",
       "      <th>train_loss</th>\n",
       "      <th>valid_loss</th>\n",
       "      <th>accuracy</th>\n",
       "      <th>time</th>\n",
       "    </tr>\n",
       "  </thead>\n",
       "  <tbody>\n",
       "  </tbody>\n",
       "</table><p>\n",
       "\n",
       "    <div>\n",
       "        <style>\n",
       "            /* Turns off some styling */\n",
       "            progress {\n",
       "                /* gets rid of default border in Firefox and Opera. */\n",
       "                border: none;\n",
       "                /* Needs to be in here for Safari polyfill so background images work as expected. */\n",
       "                background-size: auto;\n",
       "            }\n",
       "            .progress-bar-interrupted, .progress-bar-interrupted::-webkit-progress-bar {\n",
       "                background: #F44336;\n",
       "            }\n",
       "        </style>\n",
       "      <progress value='86' class='' max='2074', style='width:300px; height:20px; vertical-align: middle;'></progress>\n",
       "      4.15% [86/2074 00:03<01:11 0.5871]\n",
       "    </div>\n",
       "    "
      ],
      "text/plain": [
       "<IPython.core.display.HTML object>"
      ]
     },
     "metadata": {
      "tags": []
     },
     "output_type": "display_data"
    },
    {
     "name": "stdout",
     "output_type": "stream",
     "text": [
      "LR Finder is complete, type {learner_name}.recorder.plot() to see the graph.\n"
     ]
    },
    {
     "data": {
      "image/png": "[encoded data removed]",
      "text/plain": [
       "<Figure size 432x288 with 1 Axes>"
      ]
     },
     "metadata": {
      "tags": []
     },
     "output_type": "display_data"
    }
   ],
   "source": [
    "learn.lr_find()\n",
    "learn.recorder.plot()"
   ]
  },
  {
   "cell_type": "code",
   "execution_count": 133,
   "metadata": {
    "colab": {
     "base_uri": "https://localhost:8080/",
     "height": 514
    },
    "colab_type": "code",
    "id": "Kly580gSMB_q",
    "outputId": "d437e4ac-7894-4f42-e874-3476bb32fe1b"
   },
   "outputs": [
    {
     "data": {
      "text/html": [
       "<table border=\"1\" class=\"dataframe\">\n",
       "  <thead>\n",
       "    <tr style=\"text-align: left;\">\n",
       "      <th>epoch</th>\n",
       "      <th>train_loss</th>\n",
       "      <th>valid_loss</th>\n",
       "      <th>accuracy</th>\n",
       "      <th>time</th>\n",
       "    </tr>\n",
       "  </thead>\n",
       "  <tbody>\n",
       "    <tr>\n",
       "      <td>0</td>\n",
       "      <td>0.271118</td>\n",
       "      <td>0.261029</td>\n",
       "      <td>0.916965</td>\n",
       "      <td>01:12</td>\n",
       "    </tr>\n",
       "    <tr>\n",
       "      <td>1</td>\n",
       "      <td>0.211239</td>\n",
       "      <td>0.212284</td>\n",
       "      <td>0.918954</td>\n",
       "      <td>01:14</td>\n",
       "    </tr>\n",
       "    <tr>\n",
       "      <td>2</td>\n",
       "      <td>0.204897</td>\n",
       "      <td>0.210593</td>\n",
       "      <td>0.918984</td>\n",
       "      <td>01:15</td>\n",
       "    </tr>\n",
       "    <tr>\n",
       "      <td>3</td>\n",
       "      <td>0.210991</td>\n",
       "      <td>0.207902</td>\n",
       "      <td>0.920370</td>\n",
       "      <td>01:18</td>\n",
       "    </tr>\n",
       "    <tr>\n",
       "      <td>4</td>\n",
       "      <td>0.197278</td>\n",
       "      <td>0.210198</td>\n",
       "      <td>0.918412</td>\n",
       "      <td>01:17</td>\n",
       "    </tr>\n",
       "    <tr>\n",
       "      <td>5</td>\n",
       "      <td>0.213021</td>\n",
       "      <td>0.207602</td>\n",
       "      <td>0.921937</td>\n",
       "      <td>01:17</td>\n",
       "    </tr>\n",
       "    <tr>\n",
       "      <td>6</td>\n",
       "      <td>0.200895</td>\n",
       "      <td>0.207777</td>\n",
       "      <td>0.920942</td>\n",
       "      <td>01:17</td>\n",
       "    </tr>\n",
       "    <tr>\n",
       "      <td>7</td>\n",
       "      <td>0.196132</td>\n",
       "      <td>0.207517</td>\n",
       "      <td>0.921153</td>\n",
       "      <td>01:17</td>\n",
       "    </tr>\n",
       "    <tr>\n",
       "      <td>8</td>\n",
       "      <td>0.193439</td>\n",
       "      <td>0.208038</td>\n",
       "      <td>0.921244</td>\n",
       "      <td>01:17</td>\n",
       "    </tr>\n",
       "    <tr>\n",
       "      <td>9</td>\n",
       "      <td>0.193509</td>\n",
       "      <td>0.209511</td>\n",
       "      <td>0.921485</td>\n",
       "      <td>01:17</td>\n",
       "    </tr>\n",
       "    <tr>\n",
       "      <td>10</td>\n",
       "      <td>0.192974</td>\n",
       "      <td>0.210019</td>\n",
       "      <td>0.920340</td>\n",
       "      <td>01:15</td>\n",
       "    </tr>\n",
       "    <tr>\n",
       "      <td>11</td>\n",
       "      <td>0.172232</td>\n",
       "      <td>0.212457</td>\n",
       "      <td>0.920310</td>\n",
       "      <td>01:15</td>\n",
       "    </tr>\n",
       "    <tr>\n",
       "      <td>12</td>\n",
       "      <td>0.191137</td>\n",
       "      <td>0.215420</td>\n",
       "      <td>0.918984</td>\n",
       "      <td>01:14</td>\n",
       "    </tr>\n",
       "    <tr>\n",
       "      <td>13</td>\n",
       "      <td>0.181578</td>\n",
       "      <td>0.215911</td>\n",
       "      <td>0.918291</td>\n",
       "      <td>01:14</td>\n",
       "    </tr>\n",
       "    <tr>\n",
       "      <td>14</td>\n",
       "      <td>0.181231</td>\n",
       "      <td>0.216295</td>\n",
       "      <td>0.918261</td>\n",
       "      <td>01:12</td>\n",
       "    </tr>\n",
       "  </tbody>\n",
       "</table>"
      ],
      "text/plain": [
       "<IPython.core.display.HTML object>"
      ]
     },
     "metadata": {
      "tags": []
     },
     "output_type": "display_data"
    }
   ],
   "source": [
    "lr = 1e-3\n",
    "learn.fit_one_cycle(epochs, lr)"
   ]
  },
  {
   "cell_type": "code",
   "execution_count": 134,
   "metadata": {
    "colab": {
     "base_uri": "https://localhost:8080/",
     "height": 279
    },
    "colab_type": "code",
    "id": "epD8KqL9MB_s",
    "outputId": "50b1f777-d8e0-4eba-ebd9-5f0efdab71da"
   },
   "outputs": [
    {
     "data": {
      "image/png": "[encoded data removed]",
      "text/plain": [
       "<Figure size 432x288 with 1 Axes>"
      ]
     },
     "metadata": {
      "tags": []
     },
     "output_type": "display_data"
    }
   ],
   "source": [
    "learn.recorder.plot_losses()"
   ]
  },
  {
   "cell_type": "code",
   "execution_count": 135,
   "metadata": {
    "colab": {
     "base_uri": "https://localhost:8080/",
     "height": 17
    },
    "colab_type": "code",
    "id": "Lokx6ALRMB_v",
    "outputId": "cc228ad7-6a2c-42b8-8121-36126875fe0f"
   },
   "outputs": [
    {
     "data": {
      "text/html": [],
      "text/plain": [
       "<IPython.core.display.HTML object>"
      ]
     },
     "metadata": {
      "tags": []
     },
     "output_type": "display_data"
    }
   ],
   "source": [
    "preds, targets = learn.get_preds(DatasetType.Valid) \n",
    "predictions = np.argmax(preds, axis = 1)"
   ]
  },
  {
   "cell_type": "code",
   "execution_count": 136,
   "metadata": {
    "colab": {
     "base_uri": "https://localhost:8080/",
     "height": 364
    },
    "colab_type": "code",
    "id": "aOp8eeGqMB_x",
    "outputId": "58a52507-b246-44c2-8650-ef505725c0cf"
   },
   "outputs": [
    {
     "data": {
      "image/png": "[encoded data removed]",
      "text/plain": [
       "<Figure size 360x360 with 2 Axes>"
      ]
     },
     "metadata": {
      "tags": []
     },
     "output_type": "display_data"
    }
   ],
   "source": [
    "LABELS = data.classes\n",
    "\n",
    "confusion_matrix = sklearn.metrics.confusion_matrix(targets, predictions)\n",
    "\n",
    "plt.figure(figsize=(5, 5))\n",
    "sns.heatmap(confusion_matrix, xticklabels=LABELS, yticklabels=LABELS, annot=True, fmt=\"d\", annot_kws={\"size\": 20});\n",
    "plt.title(\"Confusion matrix\", fontsize=20)\n",
    "plt.ylabel('True label', fontsize=20)\n",
    "plt.xlabel('Predicted label', fontsize=20)\n",
    "plt.show()"
   ]
  },
  {
   "cell_type": "code",
   "execution_count": 137,
   "metadata": {
    "colab": {
     "base_uri": "https://localhost:8080/",
     "height": 136
    },
    "colab_type": "code",
    "id": "Ilf3KSsfMB_z",
    "outputId": "f51e0fad-ca5f-4d9e-dbe3-f7448d9a7c07"
   },
   "outputs": [
    {
     "name": "stdout",
     "output_type": "stream",
     "text": [
      "weighted f1:  0.9096427968348605\n",
      "f1:           [0.487049 0.955592]\n",
      "accuracy:     0.9182609743605195\n",
      "precision:    [0.633235 0.936868]\n",
      "recall:       [0.395699 0.97508 ]\n",
      "admission sens:  0.3956989247311828\n",
      "admission spec:  0.975080171031534\n"
     ]
    }
   ],
   "source": [
    "f1_w = sklearn.metrics.f1_score(targets, predictions, average='weighted')\n",
    "f1 = sklearn.metrics.f1_score(targets, predictions, average=None)\n",
    "acc = sklearn.metrics.accuracy_score(targets, predictions)\n",
    "prec = sklearn.metrics.precision_score(targets,predictions, average = None)\n",
    "rec = sklearn.metrics.recall_score(targets,predictions, average = None)\n",
    "print ('weighted f1: ', f1_w)\n",
    "print ('f1:          ', f1)\n",
    "print ('accuracy:    ', acc)\n",
    "print ('precision:   ', prec)\n",
    "print ('recall:      ', rec)\n",
    "print ('admission sens: ', rec[0])\n",
    "print ('admission spec: ', rec[1])\n"
   ]
  },
  {
   "cell_type": "code",
   "execution_count": null,
   "metadata": {
    "colab": {},
    "colab_type": "code",
    "id": "XSD9_6cBMB_1"
   },
   "outputs": [],
   "source": [
    "results_df.loc[len(results_df)] = [experiment_desc, layers, epochs, f1_w, f1, acc, prec, rec, rec[0], rec[1]]"
   ]
  },
  {
   "cell_type": "code",
   "execution_count": null,
   "metadata": {
    "colab": {},
    "colab_type": "code",
    "id": "KGy0h4qIMB_4"
   },
   "outputs": [],
   "source": [
    "results_df.to_csv('tabular_data_results.csv', index = False)"
   ]
  },
  {
   "cell_type": "code",
   "execution_count": 140,
   "metadata": {
    "colab": {
     "base_uri": "https://localhost:8080/",
     "height": 442
    },
    "colab_type": "code",
    "id": "LbLAREfuMB_6",
    "outputId": "19187c2c-90ae-4d7e-84b5-2f74a26bce9f"
   },
   "outputs": [
    {
     "data": {
      "text/html": [
       "<div>\n",
       "<style scoped>\n",
       "    .dataframe tbody tr th:only-of-type {\n",
       "        vertical-align: middle;\n",
       "    }\n",
       "\n",
       "    .dataframe tbody tr th {\n",
       "        vertical-align: top;\n",
       "    }\n",
       "\n",
       "    .dataframe thead th {\n",
       "        text-align: right;\n",
       "    }\n",
       "</style>\n",
       "<table border=\"1\" class=\"dataframe\">\n",
       "  <thead>\n",
       "    <tr style=\"text-align: right;\">\n",
       "      <th></th>\n",
       "      <th>description</th>\n",
       "      <th>layers</th>\n",
       "      <th>epochs</th>\n",
       "      <th>weighted f1</th>\n",
       "      <th>f1</th>\n",
       "      <th>accuracy</th>\n",
       "      <th>precision</th>\n",
       "      <th>recall</th>\n",
       "      <th>admission sensitivity</th>\n",
       "      <th>admission specificity</th>\n",
       "    </tr>\n",
       "  </thead>\n",
       "  <tbody>\n",
       "    <tr>\n",
       "      <th>0</th>\n",
       "      <td>whole dataset</td>\n",
       "      <td>[100, 50]</td>\n",
       "      <td>5</td>\n",
       "      <td>0.911336</td>\n",
       "      <td>[0.4851249504165014, 0.9576785132050863]</td>\n",
       "      <td>0.921786</td>\n",
       "      <td>[0.6843872411863459, 0.9352948668959368]</td>\n",
       "      <td>[0.3757296466973886, 0.9811598075895244]</td>\n",
       "      <td>0.37573</td>\n",
       "      <td>0.98116</td>\n",
       "    </tr>\n",
       "    <tr>\n",
       "      <th>1</th>\n",
       "      <td>whole dataset</td>\n",
       "      <td>[200, 100, 50]</td>\n",
       "      <td>5</td>\n",
       "      <td>0.908612</td>\n",
       "      <td>[0.45818634571487865, 0.9575881617205139]</td>\n",
       "      <td>0.921334</td>\n",
       "      <td>[0.7058823529411765, 0.9319884908464287]</td>\n",
       "      <td>[0.3391705069124424, 0.9846338856226616]</td>\n",
       "      <td>0.339171</td>\n",
       "      <td>0.984634</td>\n",
       "    </tr>\n",
       "    <tr>\n",
       "      <th>2</th>\n",
       "      <td>whole dataset</td>\n",
       "      <td>[400, 200, 100, 50]</td>\n",
       "      <td>5</td>\n",
       "      <td>0.911248</td>\n",
       "      <td>[0.48227518525936314, 0.9578914789294499]</td>\n",
       "      <td>0.922117</td>\n",
       "      <td>[0.6927502876869965, 0.9347915938066321]</td>\n",
       "      <td>[0.36989247311827955, 0.9821619454836985]</td>\n",
       "      <td>0.369892</td>\n",
       "      <td>0.982162</td>\n",
       "    </tr>\n",
       "    <tr>\n",
       "      <th>3</th>\n",
       "      <td>whole dataset</td>\n",
       "      <td>[400, 200, 100, 50]</td>\n",
       "      <td>10</td>\n",
       "      <td>0.911312</td>\n",
       "      <td>[0.48608094768015797, 0.9575484775837044]</td>\n",
       "      <td>0.921575</td>\n",
       "      <td>[0.6801104972375691, 0.9355023740479909]</td>\n",
       "      <td>[0.3781874039938556, 0.9806587386424372]</td>\n",
       "      <td>0.378187</td>\n",
       "      <td>0.980659</td>\n",
       "    </tr>\n",
       "    <tr>\n",
       "      <th>4</th>\n",
       "      <td>whole dataset</td>\n",
       "      <td>[400, 200, 100, 50]</td>\n",
       "      <td>10</td>\n",
       "      <td>0.911823</td>\n",
       "      <td>[0.493209157935584, 0.9573397791859933]</td>\n",
       "      <td>0.921304</td>\n",
       "      <td>[0.6692996313849394, 0.9365972133452639]</td>\n",
       "      <td>[0.3904761904761905, 0.979021913415286]</td>\n",
       "      <td>0.390476</td>\n",
       "      <td>0.979022</td>\n",
       "    </tr>\n",
       "    <tr>\n",
       "      <th>5</th>\n",
       "      <td>whole dataset</td>\n",
       "      <td>[400, 200, 100, 50]</td>\n",
       "      <td>15</td>\n",
       "      <td>0.909643</td>\n",
       "      <td>[0.48704859141614665, 0.9555922937161377]</td>\n",
       "      <td>0.918261</td>\n",
       "      <td>[0.6332350049164208, 0.9368681195237025]</td>\n",
       "      <td>[0.3956989247311828, 0.975080171031534]</td>\n",
       "      <td>0.395699</td>\n",
       "      <td>0.97508</td>\n",
       "    </tr>\n",
       "  </tbody>\n",
       "</table>\n",
       "</div>"
      ],
      "text/plain": [
       "     description  ... admission specificity\n",
       "0  whole dataset  ...               0.98116\n",
       "1  whole dataset  ...              0.984634\n",
       "2  whole dataset  ...              0.982162\n",
       "3  whole dataset  ...              0.980659\n",
       "4  whole dataset  ...              0.979022\n",
       "5  whole dataset  ...               0.97508\n",
       "\n",
       "[6 rows x 10 columns]"
      ]
     },
     "execution_count": 140,
     "metadata": {
      "tags": []
     },
     "output_type": "execute_result"
    }
   ],
   "source": [
    "results_df"
   ]
  },
  {
   "cell_type": "code",
   "execution_count": null,
   "metadata": {
    "colab": {},
    "colab_type": "code",
    "id": "yAvjsDZW_-_-"
   },
   "outputs": [],
   "source": []
  },
  {
   "cell_type": "code",
   "execution_count": null,
   "metadata": {
    "colab": {},
    "colab_type": "code",
    "id": "KMwiUWpkOW1S"
   },
   "outputs": [],
   "source": [
    "results_df.to_csv(path + '/tabular_data_results.csv', index = False)"
   ]
  },
  {
   "cell_type": "code",
   "execution_count": null,
   "metadata": {
    "colab": {},
    "colab_type": "code",
    "id": "4v0oMFRPIs7u"
   },
   "outputs": [],
   "source": [
    "clin = pd.read_csv('/content/drive/My Drive/ML_data/balanced_admit_dc_combo_data.csv', index_col = 0,low_memory = False)"
   ]
  },
  {
   "cell_type": "code",
   "execution_count": null,
   "metadata": {
    "colab": {},
    "colab_type": "code",
    "id": "JubIUlDoJUV9"
   },
   "outputs": [],
   "source": [
    "date_columns = ['Triage Date & Time', 'Reg Date & Time']\n",
    "for col in date_columns:\n",
    "    add_datepart(clin, col, drop = False, time = True)\n",
    "    add_cyclic_datepart(clin, col, time = True)"
   ]
  },
  {
   "cell_type": "code",
   "execution_count": null,
   "metadata": {
    "colab": {
     "base_uri": "https://localhost:8080/",
     "height": 34
    },
    "colab_type": "code",
    "id": "-sXZvrMiJUWH",
    "outputId": "d867104c-bde7-4540-8d72-0fa251d2bc09"
   },
   "outputs": [
    {
     "data": {
      "text/plain": [
       "(32758, 121)"
      ]
     },
     "execution_count": 28,
     "metadata": {
      "tags": []
     },
     "output_type": "execute_result"
    }
   ],
   "source": [
    "clin.shape"
   ]
  },
  {
   "cell_type": "code",
   "execution_count": null,
   "metadata": {
    "colab": {},
    "colab_type": "code",
    "id": "dI5Ko7hrJUWN"
   },
   "outputs": [],
   "source": [
    "cat_names =[\n",
    " 'Triage Date & TimeIs_month_end',\n",
    " 'Triage Date & TimeIs_month_start',\n",
    " 'Triage Date & TimeIs_quarter_end',\n",
    " 'Triage Date & TimeIs_quarter_start',\n",
    " 'Triage Date & TimeIs_year_end',\n",
    " 'Triage Date & TimeIs_year_start',\n",
    " 'Reg Date & TimeIs_month_end',\n",
    " 'Reg Date & TimeIs_month_start',\n",
    " 'Reg Date & TimeIs_quarter_end',\n",
    " 'Reg Date & TimeIs_quarter_start',\n",
    " 'Reg Date & TimeIs_year_end',\n",
    " 'Reg Date & TimeIs_year_start',\n",
    " 'GenderDesc',\n",
    " 'PresentingComplaintDesc',\n",
    " 'MainDiagnosisCodeDesc',\n",
    " 'Are you feeling feverish or have had shakes or chills in the last 24 hours?',\n",
    " 'Have you ever been isolated/required isolation for an infectious disease when receiving care in a healthcare setting?',\n",
    " 'Do you have a new Rash?',\n",
    " 'Do you have a new onset of Vomiting/Diarrhea in the last 24 hours?',\n",
    " 'Have you travelled outside of Canada/USA in the last 3 weeks?',\n",
    " 'Have you had contact with a sick person who has travelled outside of Canada/USA in the last 3 weeks?',\n",
    " 'Have you received Health Care in another country in the last 2 years?',\n",
    " 'Do you have a new/worse cough or shortness of breath?',\n",
    " 'If so, select all countries that apply',\n",
    " 'If so, select all infectious diseases that apply'\n",
    "]\n"
   ]
  },
  {
   "cell_type": "code",
   "execution_count": null,
   "metadata": {
    "colab": {},
    "colab_type": "code",
    "id": "NF7EjDNeJUWP"
   },
   "outputs": [],
   "source": [
    "cont_names = [\n",
    " 'AgeNumber',\n",
    " 'Triage Date & TimeYear',\n",
    " 'Triage Date & TimeMonth',\n",
    " 'Triage Date & TimeWeek',\n",
    " 'Triage Date & TimeDay',\n",
    " 'Triage Date & TimeDayofweek',\n",
    " 'Triage Date & TimeDayofyear',\n",
    " 'Triage Date & TimeHour',\n",
    " 'Triage Date & TimeMinute',\n",
    " 'Triage Date & TimeSecond',\n",
    " 'Triage Date & TimeElapsed',\n",
    " 'Reg Date & TimeYear',\n",
    " 'Reg Date & TimeMonth',\n",
    " 'Reg Date & TimeWeek',\n",
    " 'Reg Date & TimeDay',\n",
    " 'Reg Date & TimeDayofweek',\n",
    " 'Reg Date & TimeDayofyear',\n",
    " 'Reg Date & TimeHour',\n",
    " 'Reg Date & TimeMinute',\n",
    " 'Reg Date & TimeSecond',\n",
    " 'Reg Date & TimeElapsed',\n",
    " 'num_comorbids']"
   ]
  },
  {
   "cell_type": "code",
   "execution_count": null,
   "metadata": {
    "colab": {},
    "colab_type": "code",
    "id": "y4JeoDvAJUWR"
   },
   "outputs": [],
   "source": [
    "\n",
    "procs = [FillMissing, Categorify, Normalize]"
   ]
  },
  {
   "cell_type": "code",
   "execution_count": null,
   "metadata": {
    "colab": {},
    "colab_type": "code",
    "id": "2JUSr56ZJUWS"
   },
   "outputs": [],
   "source": [
    "test = TabularList.from_df(clin.copy(),cat_names=cat_names, cont_names=cont_names)"
   ]
  },
  {
   "cell_type": "code",
   "execution_count": null,
   "metadata": {
    "colab": {},
    "colab_type": "code",
    "id": "nr2s0xwQJUWU"
   },
   "outputs": [],
   "source": [
    "valid_idxs = random.sample(range(len(clin)), len(clin)//5)"
   ]
  },
  {
   "cell_type": "code",
   "execution_count": null,
   "metadata": {
    "colab": {
     "base_uri": "https://localhost:8080/",
     "height": 34
    },
    "colab_type": "code",
    "id": "zZe0P2y1JUWW",
    "outputId": "ea0be901-18ea-4f98-c18a-b86b202d4cfc"
   },
   "outputs": [
    {
     "data": {
      "text/plain": [
       "(32758, 6551)"
      ]
     },
     "execution_count": 31,
     "metadata": {
      "tags": []
     },
     "output_type": "execute_result"
    }
   ],
   "source": [
    "len(test), len(valid_idxs)"
   ]
  },
  {
   "cell_type": "code",
   "execution_count": null,
   "metadata": {
    "colab": {},
    "colab_type": "code",
    "id": "v4oC5Vg1JUWZ"
   },
   "outputs": [],
   "source": [
    "dep_var = 'discharge'  \n",
    "\n",
    "data = (TabularList.from_df(clin, path=path, cat_names=cat_names, cont_names=cont_names, procs=procs)\n",
    "                           .split_by_idx(valid_idxs)\n",
    "                           .label_from_df(cols=dep_var)\n",
    "                           .add_test(test)\n",
    "                           .databunch())"
   ]
  },
  {
   "cell_type": "code",
   "execution_count": null,
   "metadata": {
    "colab": {},
    "colab_type": "code",
    "id": "MxWI-niLJUWa"
   },
   "outputs": [],
   "source": [
    "data.save(path + '/tabulardb')"
   ]
  },
  {
   "cell_type": "code",
   "execution_count": null,
   "metadata": {
    "colab": {},
    "colab_type": "code",
    "id": "KtcmQIGxJUWc"
   },
   "outputs": [],
   "source": [
    "#f1 = FBeta(beta=1, average = 'weighted')\n",
    "\n",
    "learn = tabular_learner(data, layers=[200,100], metrics=[accuracy])\n"
   ]
  },
  {
   "cell_type": "code",
   "execution_count": null,
   "metadata": {
    "colab": {
     "base_uri": "https://localhost:8080/",
     "height": 374
    },
    "colab_type": "code",
    "id": "j2GqHgtWJUWe",
    "outputId": "5d3dd847-9670-4173-a81b-e8d2b202ff19"
   },
   "outputs": [
    {
     "data": {
      "text/html": [
       "\n",
       "    <div>\n",
       "        <style>\n",
       "            /* Turns off some styling */\n",
       "            progress {\n",
       "                /* gets rid of default border in Firefox and Opera. */\n",
       "                border: none;\n",
       "                /* Needs to be in here for Safari polyfill so background images work as expected. */\n",
       "                background-size: auto;\n",
       "            }\n",
       "            .progress-bar-interrupted, .progress-bar-interrupted::-webkit-progress-bar {\n",
       "                background: #F44336;\n",
       "            }\n",
       "        </style>\n",
       "      <progress value='0' class='' max='1', style='width:300px; height:20px; vertical-align: middle;'></progress>\n",
       "      0.00% [0/1 00:00<00:00]\n",
       "    </div>\n",
       "    \n",
       "<table border=\"1\" class=\"dataframe\">\n",
       "  <thead>\n",
       "    <tr style=\"text-align: left;\">\n",
       "      <th>epoch</th>\n",
       "      <th>train_loss</th>\n",
       "      <th>valid_loss</th>\n",
       "      <th>accuracy</th>\n",
       "      <th>time</th>\n",
       "    </tr>\n",
       "  </thead>\n",
       "  <tbody>\n",
       "  </tbody>\n",
       "</table><p>\n",
       "\n",
       "    <div>\n",
       "        <style>\n",
       "            /* Turns off some styling */\n",
       "            progress {\n",
       "                /* gets rid of default border in Firefox and Opera. */\n",
       "                border: none;\n",
       "                /* Needs to be in here for Safari polyfill so background images work as expected. */\n",
       "                background-size: auto;\n",
       "            }\n",
       "            .progress-bar-interrupted, .progress-bar-interrupted::-webkit-progress-bar {\n",
       "                background: #F44336;\n",
       "            }\n",
       "        </style>\n",
       "      <progress value='91' class='' max='409', style='width:300px; height:20px; vertical-align: middle;'></progress>\n",
       "      22.25% [91/409 00:01<00:06 1.6837]\n",
       "    </div>\n",
       "    "
      ],
      "text/plain": [
       "<IPython.core.display.HTML object>"
      ]
     },
     "metadata": {
      "tags": []
     },
     "output_type": "display_data"
    },
    {
     "name": "stdout",
     "output_type": "stream",
     "text": [
      "LR Finder is complete, type {learner_name}.recorder.plot() to see the graph.\n"
     ]
    },
    {
     "data": {
      "image/png": "[encoded data removed]",
      "text/plain": [
       "<Figure size 432x288 with 1 Axes>"
      ]
     },
     "metadata": {
      "tags": []
     },
     "output_type": "display_data"
    }
   ],
   "source": [
    "learn.lr_find()\n",
    "learn.recorder.plot()"
   ]
  },
  {
   "cell_type": "code",
   "execution_count": null,
   "metadata": {
    "colab": {
     "base_uri": "https://localhost:8080/",
     "height": 359
    },
    "colab_type": "code",
    "id": "FxoLuXrjJUWf",
    "outputId": "d65c4af5-5950-4daf-b3ee-c42b77785f06"
   },
   "outputs": [
    {
     "data": {
      "text/html": [
       "<table border=\"1\" class=\"dataframe\">\n",
       "  <thead>\n",
       "    <tr style=\"text-align: left;\">\n",
       "      <th>epoch</th>\n",
       "      <th>train_loss</th>\n",
       "      <th>valid_loss</th>\n",
       "      <th>accuracy</th>\n",
       "      <th>time</th>\n",
       "    </tr>\n",
       "  </thead>\n",
       "  <tbody>\n",
       "    <tr>\n",
       "      <td>0</td>\n",
       "      <td>0.356489</td>\n",
       "      <td>0.431890</td>\n",
       "      <td>0.811021</td>\n",
       "      <td>00:08</td>\n",
       "    </tr>\n",
       "    <tr>\n",
       "      <td>1</td>\n",
       "      <td>0.350106</td>\n",
       "      <td>0.432528</td>\n",
       "      <td>0.807816</td>\n",
       "      <td>00:08</td>\n",
       "    </tr>\n",
       "    <tr>\n",
       "      <td>2</td>\n",
       "      <td>0.356679</td>\n",
       "      <td>0.432999</td>\n",
       "      <td>0.809189</td>\n",
       "      <td>00:08</td>\n",
       "    </tr>\n",
       "    <tr>\n",
       "      <td>3</td>\n",
       "      <td>0.350061</td>\n",
       "      <td>0.434635</td>\n",
       "      <td>0.809189</td>\n",
       "      <td>00:08</td>\n",
       "    </tr>\n",
       "    <tr>\n",
       "      <td>4</td>\n",
       "      <td>0.351976</td>\n",
       "      <td>0.437307</td>\n",
       "      <td>0.812242</td>\n",
       "      <td>00:08</td>\n",
       "    </tr>\n",
       "    <tr>\n",
       "      <td>5</td>\n",
       "      <td>0.342573</td>\n",
       "      <td>0.443178</td>\n",
       "      <td>0.805068</td>\n",
       "      <td>00:08</td>\n",
       "    </tr>\n",
       "    <tr>\n",
       "      <td>6</td>\n",
       "      <td>0.344181</td>\n",
       "      <td>0.438542</td>\n",
       "      <td>0.806900</td>\n",
       "      <td>00:08</td>\n",
       "    </tr>\n",
       "    <tr>\n",
       "      <td>7</td>\n",
       "      <td>0.333394</td>\n",
       "      <td>0.443989</td>\n",
       "      <td>0.808274</td>\n",
       "      <td>00:08</td>\n",
       "    </tr>\n",
       "    <tr>\n",
       "      <td>8</td>\n",
       "      <td>0.342947</td>\n",
       "      <td>0.445694</td>\n",
       "      <td>0.808426</td>\n",
       "      <td>00:08</td>\n",
       "    </tr>\n",
       "    <tr>\n",
       "      <td>9</td>\n",
       "      <td>0.325650</td>\n",
       "      <td>0.446917</td>\n",
       "      <td>0.807205</td>\n",
       "      <td>00:08</td>\n",
       "    </tr>\n",
       "  </tbody>\n",
       "</table>"
      ],
      "text/plain": [
       "<IPython.core.display.HTML object>"
      ]
     },
     "metadata": {
      "tags": []
     },
     "output_type": "display_data"
    }
   ],
   "source": [
    "learn.fit_one_cycle(10, 1e-3)"
   ]
  },
  {
   "cell_type": "code",
   "execution_count": null,
   "metadata": {
    "colab": {
     "base_uri": "https://localhost:8080/",
     "height": 279
    },
    "colab_type": "code",
    "id": "6OCcO6ueJUWh",
    "outputId": "f7de40ac-921e-4855-e067-5d2145a516b7"
   },
   "outputs": [
    {
     "data": {
      "image/png": "[encoded data removed]",
      "text/plain": [
       "<Figure size 432x288 with 1 Axes>"
      ]
     },
     "metadata": {
      "tags": []
     },
     "output_type": "display_data"
    }
   ],
   "source": [
    "learn.recorder.plot_losses()"
   ]
  },
  {
   "cell_type": "code",
   "execution_count": null,
   "metadata": {
    "colab": {
     "base_uri": "https://localhost:8080/",
     "height": 17
    },
    "colab_type": "code",
    "id": "JbzfPphPJUWk",
    "outputId": "d667e1ae-372c-4975-93d0-1609c23b1da7"
   },
   "outputs": [
    {
     "data": {
      "text/html": [],
      "text/plain": [
       "<IPython.core.display.HTML object>"
      ]
     },
     "metadata": {
      "tags": []
     },
     "output_type": "display_data"
    }
   ],
   "source": [
    "preds, targets = learn.get_preds(DatasetType.Valid) \n",
    "predictions = np.argmax(preds, axis = 1)"
   ]
  },
  {
   "cell_type": "code",
   "execution_count": null,
   "metadata": {
    "colab": {
     "base_uri": "https://localhost:8080/",
     "height": 364
    },
    "colab_type": "code",
    "id": "9KzxLU3NJUWl",
    "outputId": "dfd1eba0-2806-45cc-b3c3-7689708e957b"
   },
   "outputs": [
    {
     "data": {
      "image/png": "[encoded data removed]",
      "text/plain": [
       "<Figure size 360x360 with 2 Axes>"
      ]
     },
     "metadata": {
      "tags": []
     },
     "output_type": "display_data"
    }
   ],
   "source": [
    "LABELS = data.classes\n",
    "\n",
    "confusion_matrix = sklearn.metrics.confusion_matrix(targets, predictions)\n",
    "\n",
    "plt.figure(figsize=(5, 5))\n",
    "sns.heatmap(confusion_matrix, xticklabels=LABELS, yticklabels=LABELS, annot=True, fmt=\"d\", annot_kws={\"size\": 20});\n",
    "plt.title(\"Confusion matrix\", fontsize=20)\n",
    "plt.ylabel('True label', fontsize=20)\n",
    "plt.xlabel('Predicted label', fontsize=20)\n",
    "plt.show()"
   ]
  },
  {
   "cell_type": "code",
   "execution_count": null,
   "metadata": {
    "colab": {
     "base_uri": "https://localhost:8080/",
     "height": 102
    },
    "colab_type": "code",
    "id": "HGWodCRxJUWn",
    "outputId": "aa442946-6bbb-4a75-96dd-78f1d96229e2"
   },
   "outputs": [
    {
     "name": "stdout",
     "output_type": "stream",
     "text": [
      "weighted f1:  0.8071364211845805\n",
      "f1:           [0.811239 0.802995]\n",
      "accuracy:     0.8072050068691803\n",
      "precision:    [0.798235 0.816884]\n",
      "recall:       [0.824673 0.789571]\n"
     ]
    }
   ],
   "source": [
    "f1_w = sklearn.metrics.f1_score(targets, predictions, average='weighted')\n",
    "f1 = sklearn.metrics.f1_score(targets, predictions, average=None)\n",
    "acc = sklearn.metrics.accuracy_score(targets, predictions)\n",
    "prec = sklearn.metrics.precision_score(targets,predictions, average = None)\n",
    "rec = sklearn.metrics.recall_score(targets,predictions, average = None)\n",
    "print ('weighted f1: ', f1_w)\n",
    "print ('f1:          ', f1)\n",
    "print ('accuracy:    ', acc)\n",
    "print ('precision:   ', prec)\n",
    "print ('recall:      ', rec)\n"
   ]
  },
  {
   "cell_type": "markdown",
   "metadata": {
    "colab_type": "text",
    "id": "2V-_esF9E4uY"
   },
   "source": [
    "#### now gonna try again with a different target - ICU vs other"
   ]
  },
  {
   "cell_type": "code",
   "execution_count": null,
   "metadata": {
    "colab": {},
    "colab_type": "code",
    "id": "o4QlgZQsE4uZ"
   },
   "outputs": [],
   "source": [
    "dep_var = 'target5'\n",
    "\n",
    "test = TabularList.from_df(clin.copy(),cat_names=cat_names, cont_names=cont_names)\n",
    "\n",
    "valid_idxs = random.sample(range(len(clin)), len(clin)//5)\n",
    "\n",
    "data = (TabularList.from_df(clin, path=path, cat_names=cat_names, cont_names=cont_names, procs=procs)\n",
    "                           .split_by_idx(valid_idxs)\n",
    "                           .label_from_df(cols=dep_var)\n",
    "                           .add_test(test)\n",
    "                           .databunch())\n",
    "\n",
    "learn2 = tabular_learner(data, layers=[200,100], metrics=[accuracy])"
   ]
  },
  {
   "cell_type": "code",
   "execution_count": null,
   "metadata": {
    "colab": {},
    "colab_type": "code",
    "id": "UxMcS7ooE4ub",
    "outputId": "82a3eb62-8d47-4b88-a373-cf0be9d285bb"
   },
   "outputs": [
    {
     "data": {
      "text/html": [
       "<table border=\"1\" class=\"dataframe\">\n",
       "  <thead>\n",
       "    <tr style=\"text-align: left;\">\n",
       "      <th>epoch</th>\n",
       "      <th>train_loss</th>\n",
       "      <th>valid_loss</th>\n",
       "      <th>accuracy</th>\n",
       "      <th>time</th>\n",
       "    </tr>\n",
       "  </thead>\n",
       "  <tbody>\n",
       "    <tr>\n",
       "      <td>0</td>\n",
       "      <td>0.009135</td>\n",
       "      <td>0.010627</td>\n",
       "      <td>0.998439</td>\n",
       "      <td>00:23</td>\n",
       "    </tr>\n",
       "    <tr>\n",
       "      <td>1</td>\n",
       "      <td>0.013064</td>\n",
       "      <td>0.010234</td>\n",
       "      <td>0.998439</td>\n",
       "      <td>00:23</td>\n",
       "    </tr>\n",
       "    <tr>\n",
       "      <td>2</td>\n",
       "      <td>0.010707</td>\n",
       "      <td>0.009592</td>\n",
       "      <td>0.998439</td>\n",
       "      <td>00:23</td>\n",
       "    </tr>\n",
       "    <tr>\n",
       "      <td>3</td>\n",
       "      <td>0.007843</td>\n",
       "      <td>0.062234</td>\n",
       "      <td>0.998439</td>\n",
       "      <td>00:23</td>\n",
       "    </tr>\n",
       "    <tr>\n",
       "      <td>4</td>\n",
       "      <td>0.006302</td>\n",
       "      <td>0.010187</td>\n",
       "      <td>0.998439</td>\n",
       "      <td>00:23</td>\n",
       "    </tr>\n",
       "  </tbody>\n",
       "</table>"
      ],
      "text/plain": [
       "<IPython.core.display.HTML object>"
      ]
     },
     "metadata": {
      "tags": []
     },
     "output_type": "display_data"
    }
   ],
   "source": [
    "learn2.fit_one_cycle(5, 1e-2)"
   ]
  },
  {
   "cell_type": "code",
   "execution_count": null,
   "metadata": {
    "colab": {},
    "colab_type": "code",
    "id": "ubNmilaTE4uh"
   },
   "outputs": [],
   "source": [
    "preds, targets = learn2.get_preds(DatasetType.Valid) \n",
    "predictions = np.argmax(preds, axis = 1)"
   ]
  },
  {
   "cell_type": "code",
   "execution_count": null,
   "metadata": {
    "colab": {},
    "colab_type": "code",
    "id": "mvpETgEIE4uj",
    "outputId": "153513f7-f2a2-4f0c-9e76-7614a93907f4"
   },
   "outputs": [
    {
     "data": {
      "image/png": "[encoded data removed]",
      "text/plain": [
       "<Figure size 360x360 with 2 Axes>"
      ]
     },
     "metadata": {
      "needs_background": "light",
      "tags": []
     },
     "output_type": "display_data"
    }
   ],
   "source": [
    "LABELS = data.classes\n",
    "\n",
    "confusion_matrix = sklearn.metrics.confusion_matrix(targets, predictions)\n",
    "\n",
    "plt.figure(figsize=(5, 5))\n",
    "sns.heatmap(confusion_matrix, xticklabels=LABELS, yticklabels=LABELS, annot=True, fmt=\"d\", annot_kws={\"size\": 20});\n",
    "plt.title(\"Confusion matrix\", fontsize=20)\n",
    "plt.ylabel('True label', fontsize=20)\n",
    "plt.xlabel('Predicted label', fontsize=20)\n",
    "plt.show()"
   ]
  },
  {
   "cell_type": "code",
   "execution_count": null,
   "metadata": {
    "colab": {},
    "colab_type": "code",
    "id": "mH5HVs_oE4um",
    "outputId": "703b7fb6-c9ce-46aa-a9be-98f00c12af4a"
   },
   "outputs": [
    {
     "name": "stdout",
     "output_type": "stream",
     "text": [
      "weighted f1:  0.9977507108556443\n",
      "f1:           [0.999219 0.058824]\n",
      "accuracy:     0.9984388720850814\n",
      "precision:    [0.998488 0.5     ]\n",
      "recall:       [0.999951 0.03125 ]\n"
     ]
    }
   ],
   "source": [
    "f1_w = sklearn.metrics.f1_score(targets, predictions, average='weighted')\n",
    "f1 = sklearn.metrics.f1_score(targets, predictions, average=None)\n",
    "acc = sklearn.metrics.accuracy_score(targets, predictions)\n",
    "prec = sklearn.metrics.precision_score(targets,predictions, average = None)\n",
    "rec = sklearn.metrics.recall_score(targets,predictions, average = None)\n",
    "print ('weighted f1: ', f1_w)\n",
    "print ('f1:          ', f1)\n",
    "print ('accuracy:    ', acc)\n",
    "print ('precision:   ', prec)\n",
    "print ('recall:      ', rec)\n"
   ]
  },
  {
   "cell_type": "code",
   "execution_count": null,
   "metadata": {
    "colab": {},
    "colab_type": "code",
    "id": "CNgV-oTyE4uo"
   },
   "outputs": [],
   "source": [
    "clin = pd.read_csv(data_path + '/100kcompleterecords.csv')"
   ]
  },
  {
   "cell_type": "code",
   "execution_count": null,
   "metadata": {
    "colab": {},
    "colab_type": "code",
    "id": "CzKTIvRME4up"
   },
   "outputs": [],
   "source": [
    "dep_var = 'service'\n",
    "\n",
    "test = TabularList.from_df(clin.copy(),cat_names=cat_names, cont_names=cont_names)\n",
    "\n",
    "valid_idxs = random.sample(range(len(clin)), len(clin)//5)\n",
    "\n",
    "data = (TabularList.from_df(clin, path=path, cat_names=cat_names, cont_names=cont_names, procs=procs)\n",
    "                           .split_by_idx(valid_idxs)\n",
    "                           .label_from_df(cols=dep_var)\n",
    "                           .add_test(test)\n",
    "                           .databunch())\n",
    "learn3 = tabular_learner(data, layers=[200,100], metrics=[accuracy])"
   ]
  },
  {
   "cell_type": "code",
   "execution_count": null,
   "metadata": {
    "colab": {},
    "colab_type": "code",
    "id": "NCrhGsNDE4us",
    "outputId": "cdeb712c-f856-480f-d5af-cd30b9b4947c"
   },
   "outputs": [
    {
     "data": {
      "text/html": [
       "<table border=\"1\" class=\"dataframe\">\n",
       "  <thead>\n",
       "    <tr style=\"text-align: left;\">\n",
       "      <th>epoch</th>\n",
       "      <th>train_loss</th>\n",
       "      <th>valid_loss</th>\n",
       "      <th>accuracy</th>\n",
       "      <th>time</th>\n",
       "    </tr>\n",
       "  </thead>\n",
       "  <tbody>\n",
       "    <tr>\n",
       "      <td>0</td>\n",
       "      <td>0.247050</td>\n",
       "      <td>0.251622</td>\n",
       "      <td>0.917699</td>\n",
       "      <td>00:24</td>\n",
       "    </tr>\n",
       "    <tr>\n",
       "      <td>1</td>\n",
       "      <td>0.245402</td>\n",
       "      <td>0.242654</td>\n",
       "      <td>0.922041</td>\n",
       "      <td>00:24</td>\n",
       "    </tr>\n",
       "    <tr>\n",
       "      <td>2</td>\n",
       "      <td>0.226665</td>\n",
       "      <td>0.234371</td>\n",
       "      <td>0.924041</td>\n",
       "      <td>00:24</td>\n",
       "    </tr>\n",
       "    <tr>\n",
       "      <td>3</td>\n",
       "      <td>0.212135</td>\n",
       "      <td>0.232763</td>\n",
       "      <td>0.923749</td>\n",
       "      <td>00:24</td>\n",
       "    </tr>\n",
       "    <tr>\n",
       "      <td>4</td>\n",
       "      <td>0.206278</td>\n",
       "      <td>0.233248</td>\n",
       "      <td>0.923993</td>\n",
       "      <td>00:24</td>\n",
       "    </tr>\n",
       "  </tbody>\n",
       "</table>"
      ],
      "text/plain": [
       "<IPython.core.display.HTML object>"
      ]
     },
     "metadata": {
      "tags": []
     },
     "output_type": "display_data"
    }
   ],
   "source": [
    "learn3.fit_one_cycle(5, 1e-2)"
   ]
  },
  {
   "cell_type": "code",
   "execution_count": null,
   "metadata": {
    "colab": {},
    "colab_type": "code",
    "id": "hnde1EiZE4uv"
   },
   "outputs": [],
   "source": [
    "preds, targets = learn3.get_preds(DatasetType.Valid) \n",
    "predictions = np.argmax(preds, axis = 1)"
   ]
  },
  {
   "cell_type": "code",
   "execution_count": null,
   "metadata": {
    "colab": {},
    "colab_type": "code",
    "id": "7K1OVKVPE4uy",
    "outputId": "3411159b-e80e-4b1f-8451-0b9693c1d707"
   },
   "outputs": [
    {
     "data": {
      "image/png": "[encoded data removed]",
      "text/plain": [
       "<Figure size 360x360 with 2 Axes>"
      ]
     },
     "metadata": {
      "needs_background": "light",
      "tags": []
     },
     "output_type": "display_data"
    }
   ],
   "source": [
    "LABELS = data.classes\n",
    "\n",
    "confusion_matrix = sklearn.metrics.confusion_matrix(targets, predictions)\n",
    "\n",
    "plt.figure(figsize=(5, 5))\n",
    "sns.heatmap(confusion_matrix, xticklabels=LABELS, yticklabels=LABELS, annot=True, fmt=\"d\", annot_kws={\"size\": 20});\n",
    "plt.title(\"Confusion matrix\", fontsize=20)\n",
    "plt.ylabel('True label', fontsize=20)\n",
    "plt.xlabel('Predicted label', fontsize=20)\n",
    "plt.show()"
   ]
  },
  {
   "cell_type": "code",
   "execution_count": null,
   "metadata": {
    "colab": {},
    "colab_type": "code",
    "id": "yaTsQJZSE4u0",
    "outputId": "ba960068-7616-4395-f130-77e2e51c035e"
   },
   "outputs": [
    {
     "name": "stdout",
     "output_type": "stream",
     "text": [
      "weighted f1:  0.913154318648459\n",
      "f1:           [0.       0.960921 0.485966 0.469388]\n",
      "accuracy:     0.9239925846424042\n",
      "precision:    [0.       0.938906 0.681665 0.60262 ]\n",
      "recall:       [0.       0.983993 0.37757  0.384401]\n"
     ]
    }
   ],
   "source": [
    "f1_w = sklearn.metrics.f1_score(targets, predictions, average='weighted')\n",
    "f1 = sklearn.metrics.f1_score(targets, predictions, average=None)\n",
    "acc = sklearn.metrics.accuracy_score(targets, predictions)\n",
    "prec = sklearn.metrics.precision_score(targets,predictions, average = None)\n",
    "rec = sklearn.metrics.recall_score(targets,predictions, average = None)\n",
    "print ('weighted f1: ', f1_w)\n",
    "print ('f1:          ', f1)\n",
    "print ('accuracy:    ', acc)\n",
    "print ('precision:   ', prec)\n",
    "print ('recall:      ', rec)\n"
   ]
  },
  {
   "cell_type": "code",
   "execution_count": null,
   "metadata": {
    "colab": {},
    "colab_type": "code",
    "id": "0226OcufE4u1"
   },
   "outputs": [],
   "source": [
    "dep_var = 'outcome'\n",
    "\n",
    "test = TabularList.from_df(clin.copy(),cat_names=cat_names, cont_names=cont_names)\n",
    "\n",
    "valid_idxs = random.sample(range(len(clin)), len(clin)//5)\n",
    "\n",
    "data = (TabularList.from_df(clin, path=path, cat_names=cat_names, cont_names=cont_names, procs=procs)\n",
    "                           .split_by_idx(valid_idxs)\n",
    "                           .label_from_df(cols=dep_var)\n",
    "                           .add_test(test)\n",
    "                           .databunch())\n",
    "learn4 = tabular_learner(data, layers=[200,100], metrics=[accuracy])"
   ]
  },
  {
   "cell_type": "code",
   "execution_count": null,
   "metadata": {
    "colab": {},
    "colab_type": "code",
    "id": "DcwA3pWVE4u3",
    "outputId": "941aad16-96b6-4736-9fe2-9cb8659c90fa"
   },
   "outputs": [
    {
     "data": {
      "text/html": [
       "<table border=\"1\" class=\"dataframe\">\n",
       "  <thead>\n",
       "    <tr style=\"text-align: left;\">\n",
       "      <th>epoch</th>\n",
       "      <th>train_loss</th>\n",
       "      <th>valid_loss</th>\n",
       "      <th>accuracy</th>\n",
       "      <th>time</th>\n",
       "    </tr>\n",
       "  </thead>\n",
       "  <tbody>\n",
       "    <tr>\n",
       "      <td>0</td>\n",
       "      <td>0.259874</td>\n",
       "      <td>0.245116</td>\n",
       "      <td>0.922090</td>\n",
       "      <td>00:23</td>\n",
       "    </tr>\n",
       "    <tr>\n",
       "      <td>1</td>\n",
       "      <td>0.243131</td>\n",
       "      <td>0.235890</td>\n",
       "      <td>0.922871</td>\n",
       "      <td>00:24</td>\n",
       "    </tr>\n",
       "    <tr>\n",
       "      <td>2</td>\n",
       "      <td>0.220609</td>\n",
       "      <td>0.242940</td>\n",
       "      <td>0.923310</td>\n",
       "      <td>00:23</td>\n",
       "    </tr>\n",
       "    <tr>\n",
       "      <td>3</td>\n",
       "      <td>0.218350</td>\n",
       "      <td>0.266943</td>\n",
       "      <td>0.922431</td>\n",
       "      <td>00:24</td>\n",
       "    </tr>\n",
       "    <tr>\n",
       "      <td>4</td>\n",
       "      <td>0.204541</td>\n",
       "      <td>0.264989</td>\n",
       "      <td>0.923651</td>\n",
       "      <td>00:23</td>\n",
       "    </tr>\n",
       "  </tbody>\n",
       "</table>"
      ],
      "text/plain": [
       "<IPython.core.display.HTML object>"
      ]
     },
     "metadata": {
      "tags": []
     },
     "output_type": "display_data"
    }
   ],
   "source": [
    "learn4.fit_one_cycle(5, 1e-2)"
   ]
  },
  {
   "cell_type": "code",
   "execution_count": null,
   "metadata": {
    "colab": {},
    "colab_type": "code",
    "id": "_5ASN-NwE4u4"
   },
   "outputs": [],
   "source": [
    "preds, targets = learn4.get_preds(DatasetType.Valid) \n",
    "predictions = np.argmax(preds, axis = 1)"
   ]
  },
  {
   "cell_type": "code",
   "execution_count": null,
   "metadata": {
    "colab": {},
    "colab_type": "code",
    "id": "TlTgodoYE4u7",
    "outputId": "bab5516a-cce3-4f3e-c1c9-d7bff05af1d3"
   },
   "outputs": [
    {
     "data": {
      "image/png": "[encoded data removed]",
      "text/plain": [
       "<Figure size 360x360 with 2 Axes>"
      ]
     },
     "metadata": {
      "needs_background": "light",
      "tags": []
     },
     "output_type": "display_data"
    }
   ],
   "source": [
    "LABELS = data.classes\n",
    "\n",
    "confusion_matrix = sklearn.metrics.confusion_matrix(targets, predictions)\n",
    "\n",
    "plt.figure(figsize=(5, 5))\n",
    "sns.heatmap(confusion_matrix, xticklabels=LABELS, yticklabels=LABELS, annot=True, fmt=\"d\", annot_kws={\"size\": 20});\n",
    "plt.title(\"Confusion matrix\", fontsize=20)\n",
    "plt.ylabel('True label', fontsize=20)\n",
    "plt.xlabel('Predicted label', fontsize=20)\n",
    "plt.show()"
   ]
  },
  {
   "cell_type": "code",
   "execution_count": null,
   "metadata": {
    "colab": {},
    "colab_type": "code",
    "id": "YqoEj2q5E4u9",
    "outputId": "b60f33b0-bac0-45cb-911e-71fcf5a988d1"
   },
   "outputs": [
    {
     "name": "stdout",
     "output_type": "stream",
     "text": [
      "weighted f1:  0.9141334793413808\n",
      "f1:           [0.       0.961334 0.488479 0.451745]\n",
      "accuracy:     0.9236510879110157\n",
      "precision:    [0.       0.942088 0.640483 0.588235]\n",
      "recall:       [0.       0.981384 0.394786 0.366667]\n"
     ]
    }
   ],
   "source": [
    "f1_w = sklearn.metrics.f1_score(targets, predictions, average='weighted')\n",
    "f1 = sklearn.metrics.f1_score(targets, predictions, average=None)\n",
    "acc = sklearn.metrics.accuracy_score(targets, predictions)\n",
    "prec = sklearn.metrics.precision_score(targets,predictions, average = None)\n",
    "rec = sklearn.metrics.recall_score(targets,predictions, average = None)\n",
    "print ('weighted f1: ', f1_w)\n",
    "print ('f1:          ', f1)\n",
    "print ('accuracy:    ', acc)\n",
    "print ('precision:   ', prec)\n",
    "print ('recall:      ', rec)\n"
   ]
  },
  {
   "cell_type": "code",
   "execution_count": null,
   "metadata": {
    "colab": {},
    "colab_type": "code",
    "id": "frjvCl-sE4u_"
   },
   "outputs": [],
   "source": []
  }
 ],
 "metadata": {
  "colab": {
   "collapsed_sections": [
    "2V-_esF9E4uY"
   ],
   "name": "ED_triage_tabular-v3.ipynb",
   "provenance": [],
   "toc_visible": true
  },
  "kernelspec": {
   "display_name": "Python [default]",
   "language": "python",
   "name": "python3"
  },
  "language_info": {
   "codemirror_mode": {
    "name": "ipython",
    "version": 3
   },
   "file_extension": ".py",
   "mimetype": "text/x-python",
   "name": "python",
   "nbconvert_exporter": "python",
   "pygments_lexer": "ipython3",
   "version": "3.6.5"
  }
 },
 "nbformat": 4,
 "nbformat_minor": 2
}
