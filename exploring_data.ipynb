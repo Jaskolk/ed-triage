{
 "cells": [
  {
   "cell_type": "markdown",
   "metadata": {},
   "source": [
    "In this notebook, I'm going to do some experimentation with xgboost on only the real clinical data"
   ]
  },
  {
   "cell_type": "code",
   "execution_count": 1,
   "metadata": {},
   "outputs": [
    {
     "name": "stdout",
     "output_type": "stream",
     "text": [
      "Collecting xlrd\n",
      "\u001b[?25l  Downloading https://files.pythonhosted.org/packages/b0/16/63576a1a001752e34bf8ea62e367997530dc553b689356b9879339cf45a4/xlrd-1.2.0-py2.py3-none-any.whl (103kB)\n",
      "\u001b[K    100% |████████████████████████████████| 112kB 3.9MB/s \n",
      "\u001b[31mmenpo 0.8.1 has requirement matplotlib<2.0,>=1.4, but you'll have matplotlib 3.0.2 which is incompatible.\u001b[0m\n",
      "\u001b[31mmenpo 0.8.1 has requirement pillow<5.0,>=3.0, but you'll have pillow 5.4.0 which is incompatible.\u001b[0m\n",
      "\u001b[31mmenpo 0.8.1 has requirement scipy<1.0,>=0.16, but you'll have scipy 1.2.0 which is incompatible.\u001b[0m\n",
      "\u001b[?25hInstalling collected packages: xlrd\n",
      "Successfully installed xlrd-1.2.0\n",
      "\u001b[33mYou are using pip version 10.0.1, however version 19.2.3 is available.\n",
      "You should consider upgrading via the 'pip install --upgrade pip' command.\u001b[0m\n"
     ]
    }
   ],
   "source": [
    "!pip install xlrd"
   ]
  },
  {
   "cell_type": "code",
   "execution_count": 2,
   "metadata": {},
   "outputs": [],
   "source": [
    "import pandas as pd\n",
    "import numpy as np\n",
    "import xgboost as xgb\n",
    "from sklearn.model_selection import train_test_split\n",
    "from sklearn.manifold import TSNE\n",
    "from sklearn.decomposition import PCA\n",
    "from sklearn.metrics import confusion_matrix\n",
    "import sklearn.metrics"
   ]
  },
  {
   "cell_type": "code",
   "execution_count": 3,
   "metadata": {},
   "outputs": [],
   "source": [
    "import os\n",
    "import re\n",
    "from collections import Counter\n",
    "import seaborn as sns\n",
    "%matplotlib inline\n",
    "import matplotlib.pyplot as plt"
   ]
  },
  {
   "cell_type": "code",
   "execution_count": 4,
   "metadata": {},
   "outputs": [
    {
     "data": {
      "text/plain": [
       "'/floyd/home/notebooks'"
      ]
     },
     "execution_count": 4,
     "metadata": {},
     "output_type": "execute_result"
    }
   ],
   "source": [
    "os.getcwd()"
   ]
  },
  {
   "cell_type": "code",
   "execution_count": 5,
   "metadata": {},
   "outputs": [],
   "source": [
    "path = '/floyd/home/notebooks'\n",
    "data_path = '/floyd/home/data'"
   ]
  },
  {
   "cell_type": "code",
   "execution_count": 6,
   "metadata": {},
   "outputs": [],
   "source": [
    "clin = pd.read_excel(data_path + '/jj_modified_bch_data.xlsx')"
   ]
  },
  {
   "cell_type": "code",
   "execution_count": 8,
   "metadata": {},
   "outputs": [
    {
     "data": {
      "text/plain": [
       "136993"
      ]
     },
     "execution_count": 8,
     "metadata": {},
     "output_type": "execute_result"
    }
   ],
   "source": [
    "len(clin)"
   ]
  },
  {
   "cell_type": "code",
   "execution_count": 7,
   "metadata": {},
   "outputs": [
    {
     "data": {
      "text/plain": [
       "Index(['ID', 'ChartNumber', 'EncounterNumber', 'TriageLevel', 'AgeNumber',\n",
       "       'AgeInYrs', 'GenderDesc', 'Triage Date & Time', 'Reg Date & Time',\n",
       "       'PIA Date & Time', 'Disposition Date & Time', 'DischargeDisposition',\n",
       "       'DischargeDispositionDesc', 'Left ED Date & Time',\n",
       "       'PresentingComplaint', 'PresentingComplaintDesc', 'MainDiagnosisCode',\n",
       "       'MainDiagnosisCodeDesc', 'AdmitLocation', 'PatientService',\n",
       "       'SubjectiveNotes', 'InfectionControlScreening', 'MedicalHistory',\n",
       "       'BloodPressure_LastEDReading', 'O2Saturation_LastEDReading',\n",
       "       'Pulse_LastEDReading', 'Temperature_LastEDReading',\n",
       "       'Are you feeling feverish or have had shakes or chills in the last 24 hours?',\n",
       "       'Have you ever been isolated/required isolation for an infectious disease when receiving care in a healthcare setting?',\n",
       "       'Do you have a new Rash?',\n",
       "       'Do you have a new onset of Vomiting/Diarrhea in the last 24 hours?',\n",
       "       'Have you travelled outside of Canada/USA in the last 3 weeks?',\n",
       "       'Have you had contact with a sick person who has travelled outside of Canada/USA in the last 3 weeks?',\n",
       "       'Have you received Health Care in another country in the last 2 years?',\n",
       "       'Do you have a new/worse cough or shortness of breath?',\n",
       "       'If so, select all countries that apply',\n",
       "       'If so, select all infectious diseases that apply'],\n",
       "      dtype='object')"
      ]
     },
     "execution_count": 7,
     "metadata": {},
     "output_type": "execute_result"
    }
   ],
   "source": [
    "clin.columns"
   ]
  },
  {
   "cell_type": "code",
   "execution_count": 41,
   "metadata": {},
   "outputs": [
    {
     "data": {
      "text/plain": [
       "Counter({3.0: 73424,\n",
       "         2.0: 43936,\n",
       "         4.0: 14091,\n",
       "         1.0: 1472,\n",
       "         5.0: 3980,\n",
       "         nan: 1,\n",
       "         nan: 1,\n",
       "         nan: 1,\n",
       "         nan: 1,\n",
       "         nan: 1,\n",
       "         nan: 1,\n",
       "         nan: 1,\n",
       "         nan: 1,\n",
       "         nan: 1,\n",
       "         nan: 1,\n",
       "         nan: 1,\n",
       "         nan: 1,\n",
       "         nan: 1,\n",
       "         nan: 1,\n",
       "         nan: 1,\n",
       "         nan: 1,\n",
       "         nan: 1,\n",
       "         nan: 1,\n",
       "         nan: 1,\n",
       "         nan: 1,\n",
       "         nan: 1,\n",
       "         nan: 1,\n",
       "         nan: 1,\n",
       "         nan: 1,\n",
       "         nan: 1,\n",
       "         nan: 1,\n",
       "         nan: 1,\n",
       "         nan: 1,\n",
       "         nan: 1,\n",
       "         nan: 1,\n",
       "         nan: 1,\n",
       "         nan: 1,\n",
       "         nan: 1,\n",
       "         nan: 1,\n",
       "         nan: 1,\n",
       "         nan: 1,\n",
       "         nan: 1,\n",
       "         nan: 1,\n",
       "         nan: 1,\n",
       "         nan: 1,\n",
       "         nan: 1,\n",
       "         nan: 1,\n",
       "         nan: 1,\n",
       "         nan: 1,\n",
       "         nan: 1,\n",
       "         nan: 1,\n",
       "         nan: 1,\n",
       "         nan: 1,\n",
       "         nan: 1,\n",
       "         nan: 1,\n",
       "         nan: 1,\n",
       "         nan: 1,\n",
       "         nan: 1,\n",
       "         nan: 1,\n",
       "         nan: 1,\n",
       "         nan: 1,\n",
       "         nan: 1,\n",
       "         nan: 1,\n",
       "         nan: 1,\n",
       "         nan: 1,\n",
       "         nan: 1,\n",
       "         nan: 1,\n",
       "         nan: 1,\n",
       "         nan: 1,\n",
       "         nan: 1,\n",
       "         nan: 1,\n",
       "         nan: 1,\n",
       "         nan: 1,\n",
       "         nan: 1,\n",
       "         nan: 1,\n",
       "         nan: 1,\n",
       "         nan: 1,\n",
       "         nan: 1,\n",
       "         nan: 1,\n",
       "         nan: 1,\n",
       "         nan: 1,\n",
       "         nan: 1,\n",
       "         nan: 1,\n",
       "         nan: 1,\n",
       "         nan: 1,\n",
       "         nan: 1,\n",
       "         nan: 1,\n",
       "         nan: 1,\n",
       "         nan: 1,\n",
       "         nan: 1,\n",
       "         nan: 1,\n",
       "         nan: 1,\n",
       "         nan: 1,\n",
       "         nan: 1,\n",
       "         nan: 1})"
      ]
     },
     "execution_count": 41,
     "metadata": {},
     "output_type": "execute_result"
    }
   ],
   "source": [
    "triage_count = Counter(clin['TriageLevel'])\n",
    "triage_count"
   ]
  },
  {
   "cell_type": "code",
   "execution_count": 17,
   "metadata": {},
   "outputs": [
    {
     "data": {
      "text/plain": [
       "Counter({nan: 120106,\n",
       "         'General Surgery': 1452,\n",
       "         'Respirology': 895,\n",
       "         'General Medicine': 6091,\n",
       "         'INTENSIVE CARE UNIT': 454,\n",
       "         'Cardiology': 2678,\n",
       "         'Oncology': 491,\n",
       "         'Palliative': 170,\n",
       "         'AD PALLIATIVE': 48,\n",
       "         'Genitourinary': 688,\n",
       "         'Paediatrics': 1248,\n",
       "         'Mental Health': 596,\n",
       "         'Orthopaedics': 352,\n",
       "         'MH Child & Adolescent': 390,\n",
       "         'AD Oncology': 9,\n",
       "         'Neurology': 583,\n",
       "         'ALC General Medicine': 211,\n",
       "         'ALC General Surgery': 35,\n",
       "         'Acute Care for Elders': 62,\n",
       "         'ALC Neurology': 93,\n",
       "         'ALC Cardiology': 86,\n",
       "         'ALC Respirology': 29,\n",
       "         'ALC Orthopaedics': 145,\n",
       "         'Neonatal Retro Transfers': 4,\n",
       "         'Newborn': 4,\n",
       "         'Obstetrics': 32,\n",
       "         'ALC Oncology': 9,\n",
       "         'AD General Medicine': 6,\n",
       "         'AD Acute Care for Elders': 3,\n",
       "         'AD Respirology': 2,\n",
       "         'ALC ACUTE CARE FOR EDLERS': 5,\n",
       "         'AD Cardiology': 2,\n",
       "         'AD Neurology': 3,\n",
       "         'ALC Palliative': 10,\n",
       "         'AD General Surgery': 1})"
      ]
     },
     "execution_count": 17,
     "metadata": {},
     "output_type": "execute_result"
    }
   ],
   "source": [
    "comp_count = Counter(clin['PatientService']); comp_count"
   ]
  },
  {
   "cell_type": "code",
   "execution_count": 20,
   "metadata": {},
   "outputs": [],
   "source": [
    "clin['service'] = clin['PatientService'].astype('str').map(\n",
    "    {'nan': 'discharge',\n",
    "         'General Surgery': 'sadmit',\n",
    "         'Respirology': 'madmit',\n",
    "         'General Medicine': 'madmit',\n",
    "         'INTENSIVE CARE UNIT': 'ICU',\n",
    "         'Cardiology': 'madmit',\n",
    "         'Oncology': 'madmit',\n",
    "         'Palliative': 'madmit',\n",
    "         'AD PALLIATIVE': 'madmit',\n",
    "         'Genitourinary': 'sadmit',\n",
    "         'Paediatrics': 'madmit',\n",
    "         'Mental Health': 'madmit',\n",
    "         'Orthopaedics': 'sadmit',\n",
    "         'MH Child & Adolescent': 'madmit',\n",
    "         'AD Oncology': 'madmit',\n",
    "         'Neurology': 'madmit',\n",
    "         'ALC General Medicine': 'madmit',\n",
    "         'ALC General Surgery': 'sadmit',\n",
    "         'Acute Care for Elders': 'madmit',\n",
    "         'ALC Neurology': 'madmit',\n",
    "         'ALC Cardiology': 'madmit',\n",
    "         'ALC Respirology': 'madmit',\n",
    "         'ALC Orthopaedics': 'madmit',\n",
    "         'Neonatal Retro Transfers': 'madmit',\n",
    "         'Newborn': 'madmit',\n",
    "         'Obstetrics': 'madmit',\n",
    "         'ALC Oncology': 'madmit',\n",
    "         'AD General Medicine': 'madmit',\n",
    "         'AD Acute Care for Elders': 'madmit',\n",
    "         'AD Respirology': 'madmit',\n",
    "         'ALC ACUTE CARE FOR EDLERS': 'madmit',\n",
    "         'AD Cardiology': 'madmit',\n",
    "         'AD Neurology': 'madmit',\n",
    "         'ALC Palliative': 'madmit',\n",
    "         'AD General Surgery': 'sadmit'})"
   ]
  },
  {
   "cell_type": "code",
   "execution_count": 21,
   "metadata": {},
   "outputs": [
    {
     "data": {
      "text/plain": [
       "Counter({'discharge': 120106, 'sadmit': 2528, 'madmit': 13905, 'ICU': 454})"
      ]
     },
     "execution_count": 21,
     "metadata": {},
     "output_type": "execute_result"
    }
   ],
   "source": [
    "service_count = Counter(clin['service'])\n",
    "service_count"
   ]
  },
  {
   "cell_type": "code",
   "execution_count": 22,
   "metadata": {},
   "outputs": [],
   "source": [
    "clin['target2'] = clin['target'] = clin['service'].map({'discharge': 1, 'madmit': 2, 'sadmit': 3, 'ICU': 4})"
   ]
  },
  {
   "cell_type": "code",
   "execution_count": 23,
   "metadata": {},
   "outputs": [],
   "source": [
    "o2sat = [item if item[-1] != '%' else item[:-1] for item in clin['O2Saturation_LastEDReading'].astype('str')]\n",
    "o2sat = [np.nan if item == 'nan' else float(item) for item in o2sat] \n",
    "clin['o2sat'] = o2sat"
   ]
  },
  {
   "cell_type": "code",
   "execution_count": 24,
   "metadata": {},
   "outputs": [],
   "source": [
    "pulse = clin['Pulse_LastEDReading']\n",
    "pulse = [re.sub(\"[^0-9]\", \"\", str(item)) for item in pulse]\n",
    "pulse = [np.nan if item == '' else float(item) for item in pulse] \n",
    "#set(pulse)\n",
    "clin['pulse'] = pulse"
   ]
  },
  {
   "cell_type": "code",
   "execution_count": 25,
   "metadata": {},
   "outputs": [],
   "source": [
    "temp = clin['Temperature_LastEDReading']\n",
    "temp = [re.sub(\"[^0-9]\", \"\", str(item)) for item in temp]\n",
    "temp = [np.nan if item == '' else float(item) for item in temp] \n",
    "temp = [item/10 if item > 100 else item for item in temp]\n",
    "temp = [np.nan if item > 40  else item for item in temp]\n",
    "#set(temp)\n",
    "clin['temp'] = temp"
   ]
  },
  {
   "cell_type": "markdown",
   "metadata": {},
   "source": [
    "**bptrans** parses the blood pressure column into systolic and diastolic, **fixencode** does some preprocessing on text "
   ]
  },
  {
   "cell_type": "code",
   "execution_count": 26,
   "metadata": {},
   "outputs": [],
   "source": [
    "def bptrans(bp):\n",
    "    if pd.isnull(bp):\n",
    "        return [np.nan, np.nan]\n",
    "    res = []\n",
    "    for x in bp.split('/'):\n",
    "        try:\n",
    "            float(x)\n",
    "            res =  [float(x) for x in bp.split('/')]\n",
    "        except: \n",
    "            res =  [np.nan, np.nan]\n",
    "        return res\n",
    "\n",
    "def fixencode(s):\n",
    "    if pd.isnull(s):\n",
    "        s = \"None\"\n",
    "    s=s.replace('<LT><LF>',',')\n",
    "    s=s.replace('Pt.', 'patient')\n",
    "    s=s.replace('Pt', 'patient')\n",
    "    s= s.replace('pt.', 'patient')\n",
    "    s=s.replace('pt', 'patient')\n",
    "    s = s.replace('y/o', 'year old')\n",
    "    s = s.replace('c/o', 'complains of')\n",
    "    s = s.replace('C/o', 'complains of')\n",
    "    return s"
   ]
  },
  {
   "cell_type": "code",
   "execution_count": 27,
   "metadata": {},
   "outputs": [],
   "source": [
    "clin['BP'] = clin.BloodPressure_LastEDReading.map(bptrans)\n",
    "clin[['systolic', 'diastolic']] = pd.DataFrame(clin.BP.tolist(), index= clin.index)\n",
    "clin[\"Gender\"] = clin.GenderDesc.map(lambda x: 1 if x == \"Male\" else 0)"
   ]
  },
  {
   "cell_type": "code",
   "execution_count": 28,
   "metadata": {},
   "outputs": [],
   "source": [
    "inf_screen_df = clin[[\n",
    "    'Are you feeling feverish or have had shakes or chills in the last 24 hours?',\n",
    "       'Have you ever been isolated/required isolation for an infectious disease when receiving care in a healthcare setting?',\n",
    "       'Do you have a new Rash?',\n",
    "       'Do you have a new onset of Vomiting/Diarrhea in the last 24 hours?',\n",
    "       'Have you travelled outside of Canada/USA in the last 3 weeks?',\n",
    "       'Have you had contact with a sick person who has travelled outside of Canada/USA in the last 3 weeks?',\n",
    "       'Have you received Health Care in another country in the last 2 years?',\n",
    "       'Do you have a new/worse cough or shortness of breath?',\n",
    "       'If so, select all countries that apply',\n",
    "       'If so, select all infectious diseases that apply']]"
   ]
  },
  {
   "cell_type": "code",
   "execution_count": 29,
   "metadata": {},
   "outputs": [],
   "source": [
    "subj_df = clin[['MedicalHistory','SubjectiveNotes']]"
   ]
  },
  {
   "cell_type": "code",
   "execution_count": 122,
   "metadata": {},
   "outputs": [],
   "source": [
    "tab_df = clin[['ID', 'TriageLevel',\n",
    "       'AgeInYrs', 'GenderDesc', 'DischargeDisposition',\n",
    "       'PresentingComplaint', 'PresentingComplaintDesc', 'AdmitLocation', 'PatientService',\n",
    "       'BloodPressure_LastEDReading','systolic', 'diastolic','temp','pulse','o2sat']]\n",
    "        #'O2Saturation_LastEDReading', 'Pulse_LastEDReading', 'Temperature_LastEDReading']]"
   ]
  },
  {
   "cell_type": "code",
   "execution_count": 16,
   "metadata": {},
   "outputs": [
    {
     "data": {
      "text/plain": [
       "Counter({nan: 120106,\n",
       "         'N.SUR GEN': 1024,\n",
       "         'N.MED CARD': 1738,\n",
       "         'N.ER IN': 1186,\n",
       "         'N.MED SIX': 604,\n",
       "         'N.CC ICU': 455,\n",
       "         'N.CC CCU': 584,\n",
       "         'N.MED ONC': 1024,\n",
       "         'N.MAU': 2365,\n",
       "         'N.SIMCU': 301,\n",
       "         'N.MED CPU': 329,\n",
       "         'N.MED GER': 1070,\n",
       "         'N.MED CT': 144,\n",
       "         'N.WC PAED': 1291,\n",
       "         'N.ERMH IN': 29,\n",
       "         'N.MED SIM': 450,\n",
       "         'N.SUR ORTH': 661,\n",
       "         'N.MH CHADI': 152,\n",
       "         'N.MH GER': 68,\n",
       "         'N.MH GENB': 217,\n",
       "         'N.MH INTEN': 234,\n",
       "         'N.MED RESP': 944,\n",
       "         'N.MED NEUR': 921,\n",
       "         'N.SUR SS': 582,\n",
       "         'N.MH CHAD': 210,\n",
       "         'N.WC POST': 119,\n",
       "         'N.MH GENC': 47,\n",
       "         'N.MED DIAL': 48,\n",
       "         'N.CC NICU': 5,\n",
       "         'N.WC LD': 2,\n",
       "         'N.WC LDN': 1,\n",
       "         'N.MAIN OR': 1,\n",
       "         'N.MED STTU': 1,\n",
       "         'N.MED FLEX': 10,\n",
       "         'N.MED DSU': 69,\n",
       "         'N.SUR DSU': 1})"
      ]
     },
     "execution_count": 16,
     "metadata": {},
     "output_type": "execute_result"
    }
   ],
   "source": [
    "admit_count= Counter(clin['AdmitLocation']); admit_count"
   ]
  },
  {
   "cell_type": "code",
   "execution_count": 32,
   "metadata": {},
   "outputs": [],
   "source": [
    "clin['outcome'] = clin['AdmitLocation'].astype('str').map(\n",
    "{'N.CC CCU': 'ICU',\n",
    " 'N.CC ICU': 'ICU',\n",
    " 'N.ER IN' : 'madmit',\n",
    " 'N.ERMH IN': 'madmit',\n",
    " 'N.MAU': 'madmit',\n",
    " 'N.MED CARD': 'madmit',\n",
    " 'N.MED CPU': 'madmit',\n",
    " 'N.MED CT': 'madmit',\n",
    " 'N.MED GER': 'madmit',\n",
    " 'N.MED DIAL': 'madmit',\n",
    " 'N.MED NEUR': 'madmit',\n",
    " 'N.MED ONC': 'madmit',\n",
    " 'N.MED RESP': 'madmit',\n",
    " 'N.MED SIM': 'madmit',\n",
    " 'N.MED SIX': 'madmit',\n",
    " 'N.MH CHAD': 'madmit',\n",
    " 'N.MH CHADI': 'madmit',\n",
    " 'N.MH GENB': 'madmit',\n",
    " 'N.MH GER': 'madmit',\n",
    " 'N.MH INTEN': 'madmit',\n",
    " 'N.SIMCU': 'ICU',\n",
    " 'N.SUR GEN': 'sadmit',\n",
    " 'N.SUR ORTH': 'sadmit',\n",
    " 'N.SUR SS': 'sadmit',\n",
    " 'N.WC PAED': 'madmit',\n",
    " 'N.WC POST': 'madmit',\n",
    " 'N.MH GENC': 'madmit',\n",
    " 'N.CC NICU': 'ICU',\n",
    " 'N.WC LD': 'sadmit',\n",
    "  'N.WC LDN': 'sadmit',\n",
    "  'N.MAIN OR': 'sadmit',\n",
    "  'N.MED STTU': 'madmit',\n",
    "  'N.MED FLEX': 'madmit',\n",
    "    'N.MED DSU': 'madmit',\n",
    "    'N.SUR DSU': 'sadmit',\n",
    " 'nan': 'discharge'})"
   ]
  },
  {
   "cell_type": "code",
   "execution_count": 33,
   "metadata": {},
   "outputs": [],
   "source": [
    "clin['target'] = clin['outcome'].map({'discharge': 1, 'madmit': 2, 'sadmit': 3, 'ICU': 4})"
   ]
  },
  {
   "cell_type": "code",
   "execution_count": 34,
   "metadata": {},
   "outputs": [
    {
     "data": {
      "text/plain": [
       "Counter({'discharge': 120106, 'sadmit': 2272, 'madmit': 13270, 'ICU': 1345})"
      ]
     },
     "execution_count": 34,
     "metadata": {},
     "output_type": "execute_result"
    }
   ],
   "source": [
    "outcome_count = Counter(clin['outcome']); outcome_count"
   ]
  },
  {
   "cell_type": "code",
   "execution_count": 35,
   "metadata": {},
   "outputs": [
    {
     "data": {
      "text/plain": [
       "Counter({1: 120106, 3: 2272, 2: 13270, 4: 1345})"
      ]
     },
     "execution_count": 35,
     "metadata": {},
     "output_type": "execute_result"
    }
   ],
   "source": [
    "target_count = Counter(clin['target']); target_count"
   ]
  },
  {
   "cell_type": "code",
   "execution_count": 36,
   "metadata": {},
   "outputs": [
    {
     "data": {
      "text/plain": [
       "Counter({1: 120106, 3: 2528, 2: 13905, 4: 454})"
      ]
     },
     "execution_count": 36,
     "metadata": {},
     "output_type": "execute_result"
    }
   ],
   "source": [
    "target2_count = Counter(clin['target2']); target2_count"
   ]
  },
  {
   "cell_type": "code",
   "execution_count": 37,
   "metadata": {},
   "outputs": [
    {
     "data": {
      "text/plain": [
       "{1: 'discharge', 2: 'madmit', 3: 'sadmit', 4: 'ICU'}"
      ]
     },
     "execution_count": 37,
     "metadata": {},
     "output_type": "execute_result"
    }
   ],
   "source": [
    "out_dict = {'discharge': 1, 'madmit': 2, 'sadmit': 3, 'ICU': 4}\n",
    "out_dict = {v:k for k,v in out_dict.items()}\n",
    "out_dict"
   ]
  },
  {
   "cell_type": "code",
   "execution_count": 38,
   "metadata": {},
   "outputs": [],
   "source": [
    "clin['discharge'] = clin['outcome'].map({'discharge': 1, 'madmit': 0, 'sadmit': 0, 'ICU': 0})"
   ]
  },
  {
   "cell_type": "code",
   "execution_count": 39,
   "metadata": {},
   "outputs": [],
   "source": [
    "clin['dispo']= clin['outcome'].map({'discharge': np.nan, 'madmit': 1, 'sadmit': 2, 'ICU': 3})"
   ]
  },
  {
   "cell_type": "markdown",
   "metadata": {},
   "source": [
    "\n",
    "\n",
    "\n",
    "Now we are going to split stuff up into features and train some models\n",
    "\n",
    "\n"
   ]
  },
  {
   "cell_type": "code",
   "execution_count": 44,
   "metadata": {},
   "outputs": [],
   "source": [
    "features_ltd = clin[['systolic', 'diastolic', 'pulse', 'o2sat', 'temp', 'AgeInYrs', 'Gender']]\n",
    "features = clin[['systolic', 'diastolic', 'pulse', 'o2sat', 'temp', 'AgeInYrs', 'Gender', 'PresentingComplaint', 'TriageLevel']]"
   ]
  },
  {
   "cell_type": "code",
   "execution_count": 45,
   "metadata": {},
   "outputs": [],
   "source": [
    "target2 = clin['target2']\n",
    "target1 = clin['target']"
   ]
  },
  {
   "cell_type": "code",
   "execution_count": 46,
   "metadata": {},
   "outputs": [
    {
     "data": {
      "text/plain": [
       "array([[29754,   310,     0,     2],\n",
       "       [ 2593,   690,     0,     4],\n",
       "       [  504,    59,     0,     0],\n",
       "       [  232,    96,     0,     5]])"
      ]
     },
     "execution_count": 46,
     "metadata": {},
     "output_type": "execute_result"
    }
   ],
   "source": [
    "X_train, X_test, y_train, y_test = train_test_split(features, target1) #, random_state=1)\n",
    "xgc = xgb.XGBClassifier()\n",
    "xgc.fit(X_train, y_train)\n",
    "preds = xgc.predict(X_test)\n",
    "conf = confusion_matrix(y_test, preds); conf"
   ]
  },
  {
   "cell_type": "code",
   "execution_count": 47,
   "metadata": {},
   "outputs": [
    {
     "name": "stdout",
     "output_type": "stream",
     "text": [
      "weighted f1:  0.8573485764818736\n",
      "f1:           [0.94234271 0.31067087 0.         0.02906977]\n",
      "accuracy:     0.8890478554118368\n",
      "precision:    [0.8993743  0.5974026  0.         0.45454545]\n",
      "recall:       [0.98962283 0.20991786 0.         0.01501502]\n"
     ]
    },
    {
     "name": "stderr",
     "output_type": "stream",
     "text": [
      "/usr/local/lib/python3.6/site-packages/sklearn/metrics/classification.py:1143: UndefinedMetricWarning: F-score is ill-defined and being set to 0.0 in labels with no predicted samples.\n",
      "  'precision', 'predicted', average, warn_for)\n",
      "/usr/local/lib/python3.6/site-packages/sklearn/metrics/classification.py:1143: UndefinedMetricWarning: Precision is ill-defined and being set to 0.0 in labels with no predicted samples.\n",
      "  'precision', 'predicted', average, warn_for)\n"
     ]
    }
   ],
   "source": [
    "f1_w = sklearn.metrics.f1_score(y_test, preds, average='weighted')\n",
    "f1 = sklearn.metrics.f1_score(y_test, preds, average=None)\n",
    "acc = sklearn.metrics.accuracy_score(y_test, preds)\n",
    "prec = sklearn.metrics.precision_score(y_test,preds, average = None)\n",
    "rec = sklearn.metrics.recall_score(y_test,preds, average = None)\n",
    "print ('weighted f1: ', f1_w)\n",
    "print ('f1:          ', f1)\n",
    "print ('accuracy:    ', acc)\n",
    "print ('precision:   ', prec)\n",
    "print ('recall:      ', rec)"
   ]
  },
  {
   "cell_type": "code",
   "execution_count": 48,
   "metadata": {},
   "outputs": [],
   "source": [
    "target_dict = {'discharge': 1, 'madmit': 2, 'sadmit': 3, 'ICU': 4}"
   ]
  },
  {
   "cell_type": "code",
   "execution_count": 49,
   "metadata": {},
   "outputs": [
    {
     "data": {
      "image/png": "[encoded data removed]",
      "text/plain": [
       "<Figure size 360x360 with 2 Axes>"
      ]
     },
     "metadata": {
      "needs_background": "light"
     },
     "output_type": "display_data"
    }
   ],
   "source": [
    "LABELS = target_dict.keys()  #['admit', 'discharge'] #lab_count.keys()\n",
    "\n",
    "plt.figure(figsize=(5, 5))\n",
    "sns.heatmap(conf, xticklabels=LABELS, yticklabels=LABELS, annot=True, fmt=\"d\", annot_kws={\"size\": 20});\n",
    "plt.title(\"Confusion matrix\", fontsize=20)\n",
    "plt.ylabel('True label', fontsize=20)\n",
    "plt.xlabel('Predicted label', fontsize=20)\n",
    "plt.show()"
   ]
  },
  {
   "cell_type": "markdown",
   "metadata": {},
   "source": [
    "\n",
    "\n",
    "\n",
    "So, now we are going to try the same but with different method for determining target\n",
    "\n",
    "\n"
   ]
  },
  {
   "cell_type": "code",
   "execution_count": 54,
   "metadata": {},
   "outputs": [
    {
     "data": {
      "text/plain": [
       "array([[29627,   372,     0,     0],\n",
       "       [ 2642,   806,     0,     0],\n",
       "       [  631,    57,     0,     0],\n",
       "       [   77,    37,     0,     0]])"
      ]
     },
     "execution_count": 54,
     "metadata": {},
     "output_type": "execute_result"
    }
   ],
   "source": [
    "X_train, X_test, y_train, y_test = train_test_split(features, target2) #, random_state=1)\n",
    "xgc = xgb.XGBClassifier()\n",
    "xgc.fit(X_train, y_train)\n",
    "preds = xgc.predict(X_test)\n",
    "conf = confusion_matrix(y_test, preds); conf"
   ]
  },
  {
   "cell_type": "code",
   "execution_count": 55,
   "metadata": {},
   "outputs": [
    {
     "name": "stdout",
     "output_type": "stream",
     "text": [
      "weighted f1:  0.8585238214388159\n",
      "f1:           [0.94089812 0.34152542 0.         0.        ]\n",
      "accuracy:     0.8885806884872551\n",
      "precision:    [0.89841405 0.6336478  0.         0.        ]\n",
      "recall:       [0.98759959 0.2337587  0.         0.        ]\n"
     ]
    }
   ],
   "source": [
    "f1_w = sklearn.metrics.f1_score(y_test, preds, average='weighted')\n",
    "f1 = sklearn.metrics.f1_score(y_test, preds, average=None)\n",
    "acc = sklearn.metrics.accuracy_score(y_test, preds)\n",
    "prec = sklearn.metrics.precision_score(y_test,preds, average = None)\n",
    "rec = sklearn.metrics.recall_score(y_test,preds, average = None)\n",
    "print ('weighted f1: ', f1_w)\n",
    "print ('f1:          ', f1)\n",
    "print ('accuracy:    ', acc)\n",
    "print ('precision:   ', prec)\n",
    "print ('recall:      ', rec)"
   ]
  },
  {
   "cell_type": "code",
   "execution_count": 56,
   "metadata": {},
   "outputs": [
    {
     "data": {
      "image/png": "[encoded data removed]",
      "text/plain": [
       "<Figure size 360x360 with 2 Axes>"
      ]
     },
     "metadata": {
      "needs_background": "light"
     },
     "output_type": "display_data"
    }
   ],
   "source": [
    "LABELS = target_dict.keys()  #['admit', 'discharge'] #lab_count.keys()\n",
    "\n",
    "plt.figure(figsize=(5, 5))\n",
    "sns.heatmap(conf, xticklabels=LABELS, yticklabels=LABELS, annot=True, fmt=\"d\", annot_kws={\"size\": 20});\n",
    "plt.title(\"Confusion matrix\", fontsize=20)\n",
    "plt.ylabel('True label', fontsize=20)\n",
    "plt.xlabel('Predicted label', fontsize=20)\n",
    "plt.show()"
   ]
  },
  {
   "cell_type": "code",
   "execution_count": 53,
   "metadata": {},
   "outputs": [
    {
     "data": {
      "text/plain": [
       "array([[89174,   971,     0,     0],\n",
       "       [ 7854,  2512,     0,     0],\n",
       "       [ 1691,   193,     0,     0],\n",
       "       [  243,   106,     0,     0]])"
      ]
     },
     "execution_count": 53,
     "metadata": {},
     "output_type": "execute_result"
    }
   ],
   "source": [
    "#check for overfitting\n",
    "preds = xgc.predict(X_train)\n",
    "conf = confusion_matrix(y_train, preds); conf"
   ]
  },
  {
   "cell_type": "markdown",
   "metadata": {},
   "source": [
    "What follows is going to be some work on hyperparameter selection and tuning as the model is underfitting"
   ]
  },
  {
   "cell_type": "code",
   "execution_count": 60,
   "metadata": {},
   "outputs": [],
   "source": [
    "from xgboost.sklearn import XGBClassifier\n",
    "from sklearn.model_selection import cross_validate, GridSearchCV   #Additional scklearn functions\n",
    "#from sklearn.grid_search import GridSearchCV \n",
    "from matplotlib.pylab import rcParams\n",
    "rcParams['figure.figsize'] = 12, 4\n"
   ]
  },
  {
   "cell_type": "code",
   "execution_count": 65,
   "metadata": {},
   "outputs": [],
   "source": [
    "def modelfit(alg, dtrain, predictors,useTrainCV=True, cv_folds=5, early_stopping_rounds=50):\n",
    "    \n",
    "    if useTrainCV:\n",
    "        xgb_param = alg.get_xgb_params()\n",
    "        xgtrain = xgb.DMatrix(dtrain[predictors], label=dtrain[target])\n",
    "        cvresult = xgb.cv(xgb_param, xgtrain, num_boost_round=alg.get_params()['n_estimators'], nfold=cv_folds,\n",
    "                          early_stopping_rounds=early_stopping_rounds, show_progress=False)\n",
    "        alg.set_params(n_estimators=cvresult.shape[0])\n",
    "    \n",
    "    #Fit the algorithm on the data\n",
    "    alg.fit(dtrain[predictors], dtrain['target'])#,eval_metric='auc')\n",
    "        \n",
    "    #Predict training set:\n",
    "    dtrain_predictions = alg.predict(dtrain[predictors])\n",
    "    dtrain_predprob = alg.predict_proba(dtrain[predictors])[:,1]\n",
    "        \n",
    "    #Print model report:\n",
    "    print (\"\\nModel Report\")\n",
    "    print (\"Accuracy : %.4g\" % metrics.accuracy_score(dtrain['Disbursed'].values, dtrain_predictions))\n",
    "    print (\"AUC Score (Train): %f\" % metrics.roc_auc_score(dtrain['Disbursed'], dtrain_predprob))\n",
    "                    \n",
    "    feat_imp = pd.Series(alg.booster().get_fscore()).sort_values(ascending=False)\n",
    "    feat_imp.plot(kind='bar', title='Feature Importances')\n",
    "    plt.ylabel('Feature Importance Score')"
   ]
  },
  {
   "cell_type": "code",
   "execution_count": 66,
   "metadata": {},
   "outputs": [
    {
     "ename": "ValueError",
     "evalue": "Must pass DataFrame with boolean values only",
     "output_type": "error",
     "traceback": [
      "\u001b[0;31m---------------------------------------------------------------------------\u001b[0m",
      "\u001b[0;31mValueError\u001b[0m                                Traceback (most recent call last)",
      "\u001b[0;32m<ipython-input-66-3175413cd8b4>\u001b[0m in \u001b[0;36m<module>\u001b[0;34m\u001b[0m\n\u001b[1;32m     11\u001b[0m          \u001b[0mscale_pos_weight\u001b[0m\u001b[0;34m=\u001b[0m\u001b[0;36m1\u001b[0m\u001b[0;34m,\u001b[0m\u001b[0;34m\u001b[0m\u001b[0m\n\u001b[1;32m     12\u001b[0m          seed=27)\n\u001b[0;32m---> 13\u001b[0;31m \u001b[0mmodelfit\u001b[0m\u001b[0;34m(\u001b[0m\u001b[0mxgb1\u001b[0m\u001b[0;34m,\u001b[0m \u001b[0mclin\u001b[0m\u001b[0;34m,\u001b[0m \u001b[0mfeatures\u001b[0m\u001b[0;34m)\u001b[0m\u001b[0;34m\u001b[0m\u001b[0m\n\u001b[0m",
      "\u001b[0;32m<ipython-input-65-f24a2eb11fef>\u001b[0m in \u001b[0;36mmodelfit\u001b[0;34m(alg, dtrain, predictors, useTrainCV, cv_folds, early_stopping_rounds)\u001b[0m\n\u001b[1;32m      3\u001b[0m     \u001b[0;32mif\u001b[0m \u001b[0museTrainCV\u001b[0m\u001b[0;34m:\u001b[0m\u001b[0;34m\u001b[0m\u001b[0m\n\u001b[1;32m      4\u001b[0m         \u001b[0mxgb_param\u001b[0m \u001b[0;34m=\u001b[0m \u001b[0malg\u001b[0m\u001b[0;34m.\u001b[0m\u001b[0mget_xgb_params\u001b[0m\u001b[0;34m(\u001b[0m\u001b[0;34m)\u001b[0m\u001b[0;34m\u001b[0m\u001b[0m\n\u001b[0;32m----> 5\u001b[0;31m         \u001b[0mxgtrain\u001b[0m \u001b[0;34m=\u001b[0m \u001b[0mxgb\u001b[0m\u001b[0;34m.\u001b[0m\u001b[0mDMatrix\u001b[0m\u001b[0;34m(\u001b[0m\u001b[0mdtrain\u001b[0m\u001b[0;34m[\u001b[0m\u001b[0mpredictors\u001b[0m\u001b[0;34m]\u001b[0m\u001b[0;34m,\u001b[0m \u001b[0mlabel\u001b[0m\u001b[0;34m=\u001b[0m\u001b[0mdtrain\u001b[0m\u001b[0;34m[\u001b[0m\u001b[0mtarget\u001b[0m\u001b[0;34m]\u001b[0m\u001b[0;34m)\u001b[0m\u001b[0;34m\u001b[0m\u001b[0m\n\u001b[0m\u001b[1;32m      6\u001b[0m         cvresult = xgb.cv(xgb_param, xgtrain, num_boost_round=alg.get_params()['n_estimators'], nfold=cv_folds,\n\u001b[1;32m      7\u001b[0m                           early_stopping_rounds=early_stopping_rounds, show_progress=False)\n",
      "\u001b[0;32m/usr/local/lib/python3.6/site-packages/pandas/core/frame.py\u001b[0m in \u001b[0;36m__getitem__\u001b[0;34m(self, key)\u001b[0m\n\u001b[1;32m   2682\u001b[0m             \u001b[0;32mreturn\u001b[0m \u001b[0mself\u001b[0m\u001b[0;34m.\u001b[0m\u001b[0m_getitem_array\u001b[0m\u001b[0;34m(\u001b[0m\u001b[0mkey\u001b[0m\u001b[0;34m)\u001b[0m\u001b[0;34m\u001b[0m\u001b[0m\n\u001b[1;32m   2683\u001b[0m         \u001b[0;32melif\u001b[0m \u001b[0misinstance\u001b[0m\u001b[0;34m(\u001b[0m\u001b[0mkey\u001b[0m\u001b[0;34m,\u001b[0m \u001b[0mDataFrame\u001b[0m\u001b[0;34m)\u001b[0m\u001b[0;34m:\u001b[0m\u001b[0;34m\u001b[0m\u001b[0m\n\u001b[0;32m-> 2684\u001b[0;31m             \u001b[0;32mreturn\u001b[0m \u001b[0mself\u001b[0m\u001b[0;34m.\u001b[0m\u001b[0m_getitem_frame\u001b[0m\u001b[0;34m(\u001b[0m\u001b[0mkey\u001b[0m\u001b[0;34m)\u001b[0m\u001b[0;34m\u001b[0m\u001b[0m\n\u001b[0m\u001b[1;32m   2685\u001b[0m         \u001b[0;32melif\u001b[0m \u001b[0mis_mi_columns\u001b[0m\u001b[0;34m:\u001b[0m\u001b[0;34m\u001b[0m\u001b[0m\n\u001b[1;32m   2686\u001b[0m             \u001b[0;32mreturn\u001b[0m \u001b[0mself\u001b[0m\u001b[0;34m.\u001b[0m\u001b[0m_getitem_multilevel\u001b[0m\u001b[0;34m(\u001b[0m\u001b[0mkey\u001b[0m\u001b[0;34m)\u001b[0m\u001b[0;34m\u001b[0m\u001b[0m\n",
      "\u001b[0;32m/usr/local/lib/python3.6/site-packages/pandas/core/frame.py\u001b[0m in \u001b[0;36m_getitem_frame\u001b[0;34m(self, key)\u001b[0m\n\u001b[1;32m   2765\u001b[0m     \u001b[0;32mdef\u001b[0m \u001b[0m_getitem_frame\u001b[0m\u001b[0;34m(\u001b[0m\u001b[0mself\u001b[0m\u001b[0;34m,\u001b[0m \u001b[0mkey\u001b[0m\u001b[0;34m)\u001b[0m\u001b[0;34m:\u001b[0m\u001b[0;34m\u001b[0m\u001b[0m\n\u001b[1;32m   2766\u001b[0m         \u001b[0;32mif\u001b[0m \u001b[0mkey\u001b[0m\u001b[0;34m.\u001b[0m\u001b[0mvalues\u001b[0m\u001b[0;34m.\u001b[0m\u001b[0msize\u001b[0m \u001b[0;32mand\u001b[0m \u001b[0;32mnot\u001b[0m \u001b[0mis_bool_dtype\u001b[0m\u001b[0;34m(\u001b[0m\u001b[0mkey\u001b[0m\u001b[0;34m.\u001b[0m\u001b[0mvalues\u001b[0m\u001b[0;34m)\u001b[0m\u001b[0;34m:\u001b[0m\u001b[0;34m\u001b[0m\u001b[0m\n\u001b[0;32m-> 2767\u001b[0;31m             \u001b[0;32mraise\u001b[0m \u001b[0mValueError\u001b[0m\u001b[0;34m(\u001b[0m\u001b[0;34m'Must pass DataFrame with boolean values only'\u001b[0m\u001b[0;34m)\u001b[0m\u001b[0;34m\u001b[0m\u001b[0m\n\u001b[0m\u001b[1;32m   2768\u001b[0m         \u001b[0;32mreturn\u001b[0m \u001b[0mself\u001b[0m\u001b[0;34m.\u001b[0m\u001b[0mwhere\u001b[0m\u001b[0;34m(\u001b[0m\u001b[0mkey\u001b[0m\u001b[0;34m)\u001b[0m\u001b[0;34m\u001b[0m\u001b[0m\n\u001b[1;32m   2769\u001b[0m \u001b[0;34m\u001b[0m\u001b[0m\n",
      "\u001b[0;31mValueError\u001b[0m: Must pass DataFrame with boolean values only"
     ]
    }
   ],
   "source": [
    "xgb1 = XGBClassifier(\n",
    "         learning_rate =0.1,\n",
    "         n_estimators=1000,\n",
    "         max_depth=5,\n",
    "         min_child_weight=1,\n",
    "         gamma=0,\n",
    "         subsample=0.8,\n",
    "         colsample_bytree=0.8,\n",
    "         objective= 'multi:softmax',\n",
    "         nthread=4,\n",
    "         scale_pos_weight=1,\n",
    "         seed=27)\n",
    "modelfit(xgb1, clin, features)"
   ]
  },
  {
   "cell_type": "code",
   "execution_count": 67,
   "metadata": {},
   "outputs": [
    {
     "data": {
      "text/plain": [
       "Index(['ID', 'ChartNumber', 'EncounterNumber', 'TriageLevel', 'AgeNumber',\n",
       "       'AgeInYrs', 'GenderDesc', 'Triage Date & Time', 'Reg Date & Time',\n",
       "       'PIA Date & Time', 'Disposition Date & Time', 'DischargeDisposition',\n",
       "       'DischargeDispositionDesc', 'Left ED Date & Time',\n",
       "       'PresentingComplaint', 'PresentingComplaintDesc', 'MainDiagnosisCode',\n",
       "       'MainDiagnosisCodeDesc', 'AdmitLocation', 'PatientService',\n",
       "       'SubjectiveNotes', 'InfectionControlScreening', 'MedicalHistory',\n",
       "       'BloodPressure_LastEDReading', 'O2Saturation_LastEDReading',\n",
       "       'Pulse_LastEDReading', 'Temperature_LastEDReading',\n",
       "       'Are you feeling feverish or have had shakes or chills in the last 24 hours?',\n",
       "       'Have you ever been isolated/required isolation for an infectious disease when receiving care in a healthcare setting?',\n",
       "       'Do you have a new Rash?',\n",
       "       'Do you have a new onset of Vomiting/Diarrhea in the last 24 hours?',\n",
       "       'Have you travelled outside of Canada/USA in the last 3 weeks?',\n",
       "       'Have you had contact with a sick person who has travelled outside of Canada/USA in the last 3 weeks?',\n",
       "       'Have you received Health Care in another country in the last 2 years?',\n",
       "       'Do you have a new/worse cough or shortness of breath?',\n",
       "       'If so, select all countries that apply',\n",
       "       'If so, select all infectious diseases that apply', 'service',\n",
       "       'target2', 'target', 'o2sat', 'pulse', 'temp', 'BP', 'systolic',\n",
       "       'diastolic', 'Gender', 'outcome', 'discharge', 'dispo'],\n",
       "      dtype='object')"
      ]
     },
     "execution_count": 67,
     "metadata": {},
     "output_type": "execute_result"
    }
   ],
   "source": [
    "clin.columns"
   ]
  },
  {
   "cell_type": "code",
   "execution_count": 69,
   "metadata": {},
   "outputs": [],
   "source": [
    "target_df = clin[['service','target2', 'target', 'outcome', 'discharge', 'dispo']]"
   ]
  },
  {
   "cell_type": "code",
   "execution_count": 72,
   "metadata": {},
   "outputs": [],
   "source": [
    "target_df.to_csv(data_path  + '/targets.csv')"
   ]
  },
  {
   "cell_type": "code",
   "execution_count": 77,
   "metadata": {},
   "outputs": [],
   "source": [
    "inf_screen_df.to_csv(data_path + '/inf_control_data.csv')"
   ]
  },
  {
   "cell_type": "code",
   "execution_count": 78,
   "metadata": {},
   "outputs": [],
   "source": [
    "subj_df.to_csv(data_path + '/subj_data.csv')"
   ]
  },
  {
   "cell_type": "code",
   "execution_count": 123,
   "metadata": {},
   "outputs": [],
   "source": [
    "tab_df.to_csv(data_path + '/tabular_data.csv')"
   ]
  },
  {
   "cell_type": "code",
   "execution_count": 100,
   "metadata": {},
   "outputs": [],
   "source": [
    "med_hx = subj_df['MedicalHistory']"
   ]
  },
  {
   "cell_type": "code",
   "execution_count": 101,
   "metadata": {},
   "outputs": [],
   "source": [
    "history = list(subj_df['MedicalHistory'].str[16:].astype('str'))"
   ]
  },
  {
   "cell_type": "code",
   "execution_count": 103,
   "metadata": {},
   "outputs": [
    {
     "data": {
      "text/plain": [
       "list"
      ]
     },
     "execution_count": 103,
     "metadata": {},
     "output_type": "execute_result"
    }
   ],
   "source": [
    "type(history)"
   ]
  },
  {
   "cell_type": "code",
   "execution_count": 110,
   "metadata": {},
   "outputs": [],
   "source": [
    "split_hist = [item.split('<LT>LF>') for item in history if item != 'nan']"
   ]
  },
  {
   "cell_type": "code",
   "execution_count": 111,
   "metadata": {},
   "outputs": [
    {
     "data": {
      "text/plain": [
       "122212"
      ]
     },
     "execution_count": 111,
     "metadata": {},
     "output_type": "execute_result"
    }
   ],
   "source": [
    "len(split_hist)"
   ]
  },
  {
   "cell_type": "code",
   "execution_count": 112,
   "metadata": {},
   "outputs": [
    {
     "data": {
      "text/plain": [
       "[['No Significant Medical History'],\n",
       " ['Substance Misuse'],\n",
       " ['ACS (Acute Coronary Syndrome)',\n",
       "  'MI (Myocardial Infarction)',\n",
       "  'triple a repair',\n",
       "  'NIDDM (Non-Insulin-Dependent Diabetes Mellitus)',\n",
       "  'Hypertension (HTN)',\n",
       "  'bronchiectasis'],\n",
       " ['Hypertension (HTN)'],\n",
       " ['Seizure', 'Asthma', 'palpitations', 'leaky hrt valve'],\n",
       " ['No Significant Medical History'],\n",
       " ['No Significant Medical History'],\n",
       " ['No Significant Medical History'],\n",
       " ['Hypertension (HTN)', 'High Cholesterol', 'Gerd', 'Chronic Back Pain'],\n",
       " ['No Significant Medical History'],\n",
       " ['Dialysis Haemo/PD',\n",
       "  'IDDM (Insulin-Dependent Diabetes Mellitus)',\n",
       "  'CRF (Chronic Renal Failure)',\n",
       "  'heart problem',\n",
       "  'High Cholesterol'],\n",
       " ['Fibromyalgia'],\n",
       " ['enlarged liver'],\n",
       " ['Anxiety',\n",
       "  'Autistic',\n",
       "  'ADHD (Attention Deficit Hyperactivity Disorder)',\n",
       "  'Depression',\n",
       "  'Asthma',\n",
       "  'Celiac'],\n",
       " ['No Significant Medical History'],\n",
       " ['IDDM (Insulin-Dependent Diabetes Mellitus)'],\n",
       " ['No Significant Medical History'],\n",
       " ['Hypertension (HTN)',\n",
       "  'TIA (Transient Ischemic Attack)',\n",
       "  'Arthritis',\n",
       "  'Glaucoma',\n",
       "  'Dementia',\n",
       "  'CVA (Cerebral vascular Accident)'],\n",
       " ['Bladder Cancer',\n",
       "  'Hypertension (HTN)',\n",
       "  'MI (Myocardial Infarction)',\n",
       "  'stents,borderline dm'],\n",
       " ['ca colon with bowel resection', 'Received Chemotherapy within 4 weeks'],\n",
       " ['No Significant Medical History'],\n",
       " ['Hypothyroid'],\n",
       " ['tb carrier, hep c', 'Substance Misuse'],\n",
       " ['Anxiety'],\n",
       " ['No Significant Medical History']]"
      ]
     },
     "execution_count": 112,
     "metadata": {},
     "output_type": "execute_result"
    }
   ],
   "source": [
    "split_hist[:25]"
   ]
  },
  {
   "cell_type": "code",
   "execution_count": 116,
   "metadata": {},
   "outputs": [],
   "source": [
    "diagnoses = Counter()\n",
    "for hx in split_hist:\n",
    "    for item in hx:\n",
    "        diagnoses[item] += 1"
   ]
  },
  {
   "cell_type": "code",
   "execution_count": 117,
   "metadata": {},
   "outputs": [
    {
     "data": {
      "text/plain": [
       "29816"
      ]
     },
     "execution_count": 117,
     "metadata": {},
     "output_type": "execute_result"
    }
   ],
   "source": [
    "len(diagnoses)"
   ]
  },
  {
   "cell_type": "code",
   "execution_count": 118,
   "metadata": {},
   "outputs": [
    {
     "data": {
      "text/plain": [
       "[('No Significant Medical History', 48412),\n",
       " ('Hypertension (HTN)', 18790),\n",
       " ('High Cholesterol', 15829),\n",
       " ('NIDDM (Non-Insulin-Dependent Diabetes Mellitus)', 7976),\n",
       " ('High BP', 5144),\n",
       " ('Depression', 5061),\n",
       " ('Asthma', 4498),\n",
       " ('Anxiety', 3786),\n",
       " ('Hypothyroid', 3116),\n",
       " ('Thyroid', 3059),\n",
       " ('IDDM (Insulin-Dependent Diabetes Mellitus)', 2920),\n",
       " ('Diabetes', 2775),\n",
       " ('Arthritis', 1709),\n",
       " ('Acid Reflux', 1600),\n",
       " ('Gerd', 1498),\n",
       " ('COPD (Chronic Obstructive Pulmonary Disease)', 1479),\n",
       " ('MI (Myocardial Infarction)', 1446),\n",
       " ('GERD (Gastroesophageal Reflux Disease)', 1344),\n",
       " ('Anemia', 1143),\n",
       " ('Seizure', 1056),\n",
       " ('CHF (Congestive Heart Failure)', 1044),\n",
       " ('Atrial Fibrillation (A Fib)', 1041),\n",
       " ('Schizophrenia', 1027),\n",
       " ('Substance Misuse', 948),\n",
       " ('CVA (Cerebral vascular Accident)', 946),\n",
       " ('Dementia', 924),\n",
       " ('Enlarged Prostate', 809),\n",
       " ('Kidney Stones', 746),\n",
       " ('Immunizations up to Date', 725),\n",
       " ('Gout', 666),\n",
       " ('Migraines', 626),\n",
       " ('Osteoporosis', 621),\n",
       " ('Pacemaker/Cardioverter/Defib', 620),\n",
       " ('ADHD (Attention Deficit Hyperactivity Disorder)', 589),\n",
       " ('Chronic Back Pain', 555),\n",
       " ('Smoker', 488),\n",
       " ('Fibromyalgia', 478),\n",
       " ('CAD (Coronary Artery Disease)', 474),\n",
       " ('Breast Cancer', 469),\n",
       " ('ETOH Abuse', 458),\n",
       " ('UTI', 440),\n",
       " ('Bi-Polar', 435),\n",
       " ('Bypass Surgery', 421),\n",
       " ('Rheumatoid Arthritis', 417),\n",
       " ('Alcoholism', 410),\n",
       " ('Dialysis Haemo/PD', 398),\n",
       " ('Pneumonia', 397),\n",
       " ('bipolar', 392),\n",
       " ('CABG', 390),\n",
       " ('Lung Cancer', 366),\n",
       " ('Epilepsy', 365),\n",
       " ('Sleep Apnea', 351),\n",
       " ('htn', 344),\n",
       " ('Stroke', 325),\n",
       " ('Eczema', 320),\n",
       " ('Prostate Cancer', 313),\n",
       " ('Diverticulitis', 309),\n",
       " ('CRF (Chronic Renal Failure)', 307),\n",
       " (\"Parkinson's\", 305),\n",
       " ('afib', 304),\n",
       " ('TIA (Transient Ischemic Attack)', 292),\n",
       " ('asthma', 272),\n",
       " ('Gallstones', 272),\n",
       " ('Hysterectomy', 266),\n",
       " ('Vertigo', 266),\n",
       " (\"Alzheimer's\", 266),\n",
       " ('IBS (Irritable Bowel Syndrome)', 256),\n",
       " ('PTSD (Post Traumatic Stress Disorder)', 255),\n",
       " ('Cholecystectomy', 249),\n",
       " ('MI', 248),\n",
       " ('HTN', 246),\n",
       " ('Constipation', 241),\n",
       " ('stents', 239),\n",
       " ('Glaucoma', 233),\n",
       " ('Hyperthyroid', 231),\n",
       " ('DVT (Deep Vein Thrombosis)', 230),\n",
       " ('Uterine Fibroids', 230),\n",
       " ('Sickle Cell', 224),\n",
       " ('low iron', 217),\n",
       " ('Hernia', 215),\n",
       " ('Pancreatitis', 215),\n",
       " ('Appendectomy', 214),\n",
       " ('Angina', 213),\n",
       " ('Autistic', 207),\n",
       " ('Lupus', 205),\n",
       " ('Ulcerative Colitis', 203),\n",
       " ('thyroid', 201),\n",
       " (\"Crohn's Disease\", 193),\n",
       " ('Chronic Pain', 189),\n",
       " ('Heart Murmur', 188),\n",
       " ('depression', 188),\n",
       " ('Back Pain', 185),\n",
       " ('anxiety', 176),\n",
       " ('angioplasty', 167),\n",
       " ('Benign Prostatic Hypertension', 167),\n",
       " ('MS (Multiple Sclerosis)', 167),\n",
       " ('Endometriosis', 165),\n",
       " ('Knee Replacement', 157),\n",
       " ('Glaucoma Cataract/Cataract Repair', 156),\n",
       " ('cardiac', 156),\n",
       " ('BPH', 148),\n",
       " ('VACCINES UP TO DATE', 148),\n",
       " ('stent', 146),\n",
       " ('Cirrhosis', 146),\n",
       " ('OCD (Obsessive Compulsive Disorder)', 142),\n",
       " ('Sciatica', 142),\n",
       " ('gerd', 139),\n",
       " ('Borderline Personality Disorder', 138),\n",
       " ('Hepatitis C', 137),\n",
       " ('Bronchitis', 137),\n",
       " ('PE (Pulmonary Embolism)', 136),\n",
       " ('Colitis', 132),\n",
       " ('osteoarthritis', 132),\n",
       " ('Lymphoma', 128),\n",
       " ('kidney failure', 128),\n",
       " ('NIDDM', 128),\n",
       " ('GAD (Generalized Anxiety Disorder)', 125),\n",
       " ('unknown', 124),\n",
       " ('Heart Attack', 122),\n",
       " ('GERD', 117),\n",
       " ('diabetes', 107),\n",
       " ('Renal Colic', 106),\n",
       " ('Hip Replacement', 106),\n",
       " ('PE', 103),\n",
       " ('psychosis', 102),\n",
       " ('Bladder Cancer', 98),\n",
       " ('AFIB', 97),\n",
       " ('pacemaker', 95),\n",
       " ('Hiatus Hernia', 93),\n",
       " ('Leukemia', 91),\n",
       " ('Scoliosis', 91),\n",
       " ('gout', 91),\n",
       " ('Received Chemotherapy within 4 weeks', 90),\n",
       " ('Neuropathy', 90),\n",
       " ('acid reflux', 90),\n",
       " ('prostate', 88),\n",
       " ('PCOS', 88),\n",
       " ('bph', 86),\n",
       " ('ASTHMA', 84),\n",
       " ('Liver Cancer', 84),\n",
       " ('ovarian cyst', 83),\n",
       " ('anemia', 82),\n",
       " ('Panic Disorder', 81),\n",
       " ('Tonsillectomy', 81),\n",
       " ('fatty liver', 80),\n",
       " ('CP (Cerebral Palsy)', 80),\n",
       " ('BIPOLAR', 78),\n",
       " ('Hearing Impaired', 77),\n",
       " ('Spinal Stenosis', 76),\n",
       " ('insomnia', 75),\n",
       " ('ANXIETY', 73),\n",
       " ('high cholesterol', 73),\n",
       " ('Emphysema', 72),\n",
       " ('Pulmonary Fibrosis', 72),\n",
       " ('kidney stones', 72),\n",
       " ('kidney disease', 71),\n",
       " ('TURP (Transurethral Resection of the Prostate)', 68),\n",
       " ('SVT', 68),\n",
       " ('Celiac', 67),\n",
       " ('HIV/AIDS', 65),\n",
       " ('unable to obtain', 65),\n",
       " ('DEPRESSION', 64),\n",
       " ('mental health', 63),\n",
       " ('seizures', 61),\n",
       " ('Stomach Cancer', 59),\n",
       " ('liver cirrhosis', 59),\n",
       " ('Ovarian Cancer', 58),\n",
       " ('colon ca', 58),\n",
       " ('PVD (Peripheral Vascular Disease)', 58),\n",
       " ('SBO/LBO (Small/Large Bowel Obstruction)', 57),\n",
       " ('psoriasis', 57),\n",
       " ('ANGIOPLASTY', 55),\n",
       " ('mi', 55),\n",
       " ('Peptic Ulcer', 54),\n",
       " ('dementia', 54),\n",
       " ('niddm', 54),\n",
       " ('concussion', 52),\n",
       " ('Bells Palsy', 52),\n",
       " ('Esophageal Cancer', 52),\n",
       " ('kidney issues', 52),\n",
       " ('COPD', 52),\n",
       " ('Ectopic Pregnancy', 52),\n",
       " ('copd', 50),\n",
       " ('seizure', 49),\n",
       " ('arthritis', 48),\n",
       " ('herniated disc', 47),\n",
       " ('Mitral Valve Regurgitation', 47),\n",
       " ('smoker', 46),\n",
       " ('STEMI (ST-Elevation Myocardial Infarction)', 46),\n",
       " ('Aneurism', 45),\n",
       " ('Aortic Stenosis', 44),\n",
       " ('CHF', 44),\n",
       " ('cardiomyopathy', 44),\n",
       " ('see list', 44),\n",
       " ('high BP', 44),\n",
       " ('Brain Cancer', 43),\n",
       " ('dialysis', 43),\n",
       " ('Bone Cancer', 43),\n",
       " ('ADHD', 43),\n",
       " ('colon cancer', 42),\n",
       " ('hemorrhoids', 42),\n",
       " ('arrythmia', 41),\n",
       " ('IDDM', 41),\n",
       " ('stroke', 40),\n",
       " ('stomach ulcer', 39),\n",
       " ('THYROID', 39),\n",
       " ('palpitations', 38),\n",
       " ('hypertension', 38),\n",
       " ('Hepatitis', 38),\n",
       " ('LOW IRON', 37),\n",
       " ('Bipolar', 37),\n",
       " ('Uterine Cancer', 37),\n",
       " ('ulcer', 37),\n",
       " ('Sarcoidosis', 36),\n",
       " ('angiogram', 36),\n",
       " ('vertigo', 36),\n",
       " ('heart burn', 36),\n",
       " ('htn,', 36),\n",
       " ('shingles', 36),\n",
       " ('ACID REFLUX', 36),\n",
       " ('renal failure', 36),\n",
       " ('a-fib', 35),\n",
       " ('cellulitis', 35),\n",
       " ('kidney problem', 34),\n",
       " ('gall bladder removed', 34),\n",
       " ('gastric bypass', 34),\n",
       " ('HTN, high cholesterol', 34),\n",
       " ('irregular heart beat', 33),\n",
       " ('ACS (Acute Coronary Syndrome)', 32),\n",
       " ('STENTS', 32),\n",
       " ('Pulmonary Hypertension', 32),\n",
       " ('CAD', 32),\n",
       " ('migraines', 32),\n",
       " ('thyroidectomy', 32),\n",
       " ('croup', 32),\n",
       " ('Stents', 32),\n",
       " ('svt', 32),\n",
       " ('iron deficiency', 32),\n",
       " ('hypotension', 32),\n",
       " ('back pain', 32),\n",
       " ('multiple myeloma', 32),\n",
       " ('gastritis', 31),\n",
       " ('febrile seizure', 31),\n",
       " ('HYPERTENSION', 31),\n",
       " ('back injury', 31),\n",
       " ('drug abuse', 31),\n",
       " ('depression, anxiety', 31),\n",
       " ('autism', 31),\n",
       " ('gallbladder removed', 30),\n",
       " ('ptca', 30),\n",
       " ('ear infection', 30),\n",
       " ('cholesterol', 30),\n",
       " ('osteoporosis', 30),\n",
       " ('Angioplasty', 29),\n",
       " ('Skin Cancer', 29),\n",
       " ('gestational diabetes', 29),\n",
       " ('pcos', 29),\n",
       " ('htn, cholesterol', 29),\n",
       " ('Throat Cancer', 29),\n",
       " ('gall bladder removal', 29),\n",
       " ('2 stents', 29),\n",
       " ('Paraplegia', 28),\n",
       " ('ANEMIA', 28),\n",
       " ('anxiety, depression', 28),\n",
       " ('chrons', 28),\n",
       " ('CVA', 28),\n",
       " ('triple bypass', 28),\n",
       " ('dyslipidemia', 28),\n",
       " ('nerve pain', 28),\n",
       " ('Osteoarthritis', 27),\n",
       " ('Cardiac', 27),\n",
       " ('cataract', 27),\n",
       " ('SCI (Spinal Cord Injury)', 27),\n",
       " ('Blind', 27),\n",
       " ('OSTEOARTHRITIS', 26),\n",
       " ('hyperlipidemia', 26),\n",
       " ('STENT', 26),\n",
       " ('HIGH BP', 26),\n",
       " ('OA', 26),\n",
       " ('Cancer', 26),\n",
       " ('umbilical hernia', 26),\n",
       " ('kidney transplant', 26),\n",
       " ('3 stents', 26),\n",
       " ('pericarditis', 25),\n",
       " ('htn, high chol', 25),\n",
       " ('heart disease', 25),\n",
       " ('valve replacement', 25),\n",
       " ('bipolar disorder', 25),\n",
       " ('ITP (Immune Thrombocytopenic Purpura)', 25),\n",
       " ('chronic back pain', 25),\n",
       " ('cardiac stent', 25),\n",
       " ('blood clot', 25),\n",
       " ('hernia repair', 25),\n",
       " ('smoking', 24),\n",
       " ('chf', 24),\n",
       " ('peritoneal dialysis', 24),\n",
       " ('back surgery', 24),\n",
       " ('AAA', 24),\n",
       " ('developmental delay', 24),\n",
       " ('INSOMNIA', 24),\n",
       " ('eczema', 24),\n",
       " ('headache', 24),\n",
       " ('arrhythmia', 24),\n",
       " ('hypothyroid', 24),\n",
       " ('blood clots', 23),\n",
       " ('kidney problems', 23),\n",
       " ('knee surgery', 23),\n",
       " ('bilateral knee replacement', 23),\n",
       " ('ADD', 23),\n",
       " ('UNKNOWN', 23),\n",
       " ('Unknown', 23),\n",
       " ('high blood pressure', 23),\n",
       " ('parkinsons', 23),\n",
       " ('pneumonia', 22),\n",
       " ('brain injury', 22),\n",
       " ('Cholecystitis', 22),\n",
       " ('colostomy', 22),\n",
       " ('SEIZURES', 22),\n",
       " ('IBS', 22),\n",
       " ('RA', 22),\n",
       " ('scizophrenia', 22),\n",
       " ('kidney infection', 21),\n",
       " ('Anticoagulants', 21),\n",
       " ('migraine', 21),\n",
       " ('diabetic', 21),\n",
       " ('ca breast', 21),\n",
       " ('ovarian cysts', 21),\n",
       " ('panic attacks', 21),\n",
       " ('Psychosis', 21),\n",
       " ('heart problem', 20),\n",
       " ('cva', 20),\n",
       " ('varicose veins', 20),\n",
       " ('NONSMOKER', 20),\n",
       " ('Afib', 20),\n",
       " ('anaemia', 20),\n",
       " ('headaches', 20),\n",
       " ('ascites', 20),\n",
       " ('prostate issues', 19),\n",
       " ('ulcers', 19),\n",
       " ('cyclic vomiting', 19),\n",
       " ('suicidal', 19),\n",
       " ('KIDNEY STONES', 19),\n",
       " ('cardiac stents', 19),\n",
       " ('ICD', 19),\n",
       " ('restless leg syndrome', 19),\n",
       " ('GOUT', 19),\n",
       " ('hernia', 19),\n",
       " ('CKD', 19),\n",
       " ('htn, high cholesterol', 19),\n",
       " ('developmentally delayed', 19),\n",
       " ('fibroids', 19),\n",
       " ('overactive bladder', 19),\n",
       " ('brain tumor', 19),\n",
       " ('ezcema', 19),\n",
       " ('drug use', 19),\n",
       " ('chest infection', 18),\n",
       " ('cataracts', 18),\n",
       " ('inguinal hernia', 18),\n",
       " ('one kidney', 18),\n",
       " ('thyroid cancer', 18),\n",
       " ('sickle cell trait', 18),\n",
       " ('HTN,', 18),\n",
       " ('glucoma', 18),\n",
       " ('fibromyalgia', 18),\n",
       " ('ODD', 18),\n",
       " ('diet controlled diabetes', 18),\n",
       " ('Pneumothorax', 18),\n",
       " ('KIDNEY ISSUES', 18),\n",
       " ('sciatica', 18),\n",
       " ('down syndrome', 18),\n",
       " ('hypothyroidism', 18),\n",
       " ('hard of hearing', 18),\n",
       " ('gall stones', 18),\n",
       " ('chronic kidney disease', 18),\n",
       " ('heart failure', 18),\n",
       " ('hemodialysis', 18),\n",
       " ('PSYCHOSIS', 17),\n",
       " ('gallbladder removal', 17),\n",
       " ('c-section', 17),\n",
       " ('mitral valve prolapse', 17),\n",
       " ('constipation', 17),\n",
       " ('VACCINES UP TODATE', 17),\n",
       " ('Low iron', 17),\n",
       " ('falls', 17),\n",
       " ('iddm', 17),\n",
       " ('Acid reflux', 17),\n",
       " ('ARTHRITIS', 17),\n",
       " ('legally blind', 17),\n",
       " ('HIGH CHOLESTEROL', 17),\n",
       " ('mood disorder', 17),\n",
       " ('liver disease', 17),\n",
       " ('high BP, high cholesterol', 17),\n",
       " ('DRUG ABUSE', 17),\n",
       " ('macular degeneration', 17),\n",
       " ('sleep apnea', 17),\n",
       " ('liver issues', 17),\n",
       " ('KIDNEY FAILURE', 16),\n",
       " ('abdominal hernia', 16),\n",
       " ('high chol', 16),\n",
       " ('degenerative disc disease', 16),\n",
       " ('left knee replacement', 16),\n",
       " ('ALS (Amyotrophic Lateral Sclerosis)', 16),\n",
       " ('incomplete list', 16),\n",
       " ('PTSD', 16),\n",
       " ('bradycardia', 16),\n",
       " ('Tinnitus', 16),\n",
       " ('IUD', 16),\n",
       " ('urinary retention', 16),\n",
       " ('DDD', 16),\n",
       " ('COLON CANCER', 16),\n",
       " ('Visually Impaired', 16),\n",
       " ('Upper GI Bleed', 16),\n",
       " ('MVC', 16),\n",
       " ('head injury', 16),\n",
       " ('Pacemaker', 16),\n",
       " ('bladder infection', 16),\n",
       " ('COLON CA', 15),\n",
       " ('syncope', 15),\n",
       " ('CBAG', 15),\n",
       " ('Duodenal Ulcer', 15),\n",
       " ('hearing loss', 15),\n",
       " ('palpitation', 15),\n",
       " ('stents x 2', 15),\n",
       " ('fetal alcohol syndrome', 15),\n",
       " ('kidney cancer', 15),\n",
       " ('bipass', 15),\n",
       " ('obesity', 15),\n",
       " ('Splenectomy', 15),\n",
       " ('chronic cough', 15),\n",
       " ('A.Fib', 15),\n",
       " ('chol', 15),\n",
       " ('UNABLE TO OBTAIN', 15),\n",
       " ('crestor', 15),\n",
       " ('UTD', 15),\n",
       " ('NIDDM, HTN', 15),\n",
       " ('CLL', 15),\n",
       " ('Hi cholesterol', 15),\n",
       " ('substance abuse', 14),\n",
       " ('uti', 14),\n",
       " ('htn, niddm', 14),\n",
       " ('heart murmur', 14),\n",
       " ('gastric ulcer', 14),\n",
       " ('peripheral neuropathy', 14),\n",
       " ('GERDS', 14),\n",
       " ('acne', 14),\n",
       " ('WPW', 14),\n",
       " ('HTN, NIDDM', 14),\n",
       " ('liver failure', 14),\n",
       " ('Irregular heart beat', 14),\n",
       " ('kidney issue', 14),\n",
       " ('PACEMAKER', 14),\n",
       " ('right hip replacement', 14),\n",
       " ('chronic bronchitis', 14),\n",
       " ('Meningitis', 14),\n",
       " ('herpes', 14),\n",
       " ('hemorrhoid', 14),\n",
       " ('4 stents', 14),\n",
       " ('brain tumour', 14),\n",
       " ('polyps', 14),\n",
       " ('cervical cancer', 14),\n",
       " ('asa', 14),\n",
       " ('PSORIASIS', 14),\n",
       " ('sinusitis', 14),\n",
       " ('Cardiac stents', 14),\n",
       " ('Liver cirrhosis', 14),\n",
       " ('appendicitis', 14),\n",
       " ('AUTISM', 14),\n",
       " ('ESRD', 14),\n",
       " ('MDS', 13),\n",
       " ('tubal ligation', 13),\n",
       " ('premature', 13),\n",
       " ('tremors', 13),\n",
       " ('enlarged heart', 13),\n",
       " ('Psoriasis', 13),\n",
       " ('FATTY LIVER', 13),\n",
       " ('Insomnia', 13),\n",
       " ('high', 13),\n",
       " ('Kidney disease', 13),\n",
       " ('cholestrol', 13),\n",
       " ('hysterectomy', 13),\n",
       " ('stents x2', 13),\n",
       " ('adhd', 13),\n",
       " ('LBBB', 13),\n",
       " ('febrile seizures', 13),\n",
       " ('TB', 13),\n",
       " ('heartburn', 13),\n",
       " ('enlarge prostate', 13),\n",
       " ('Bulimia', 13),\n",
       " ('crohns', 13),\n",
       " ('melanoma', 13),\n",
       " ('paranoia', 13),\n",
       " ('chronic knee pain', 13),\n",
       " ('low hgb', 13),\n",
       " ('colon CA', 13),\n",
       " ('mastectomy', 13),\n",
       " ('kidney stone', 13),\n",
       " ('bipolar  disorder', 13),\n",
       " ('hallucinations', 12),\n",
       " ('cabg', 12),\n",
       " ('diverticulosis', 12),\n",
       " ('knee pain', 12),\n",
       " ('metformin', 12),\n",
       " ('Testicular Cancer', 12),\n",
       " ('gurd', 12),\n",
       " ('stress', 12),\n",
       " ('stent x 2', 12),\n",
       " ('borderline diabetes', 12),\n",
       " ('ca colon', 12),\n",
       " ('prediabetic', 12),\n",
       " ('miscarriage', 12),\n",
       " ('breast ca', 12),\n",
       " ('hip surgery', 12),\n",
       " ('sleep disorder', 12),\n",
       " ('hep c', 12),\n",
       " ('bowel resection', 12),\n",
       " ('Low Iron', 12),\n",
       " ('cardioversion', 12),\n",
       " ('Anorexia', 12),\n",
       " ('aortic valve replacement', 12),\n",
       " ('low bp', 12),\n",
       " ('excema', 12),\n",
       " ('jaundice', 12),\n",
       " ('liver problem', 12),\n",
       " ('insomia', 12),\n",
       " ('slipped disc', 12),\n",
       " ('schizophrenia', 12),\n",
       " ('stomach issues', 12),\n",
       " ('kidney', 12),\n",
       " ('epilepsy', 12),\n",
       " ('low BP', 12),\n",
       " ('alzheimers', 12),\n",
       " ('dysphagia', 12),\n",
       " ('DEMENTIA', 12),\n",
       " ('open heart surgery', 12),\n",
       " ('Mental Health', 12),\n",
       " ('High cholesterol', 12),\n",
       " ('sepsis', 11),\n",
       " ('strep throat', 11),\n",
       " ('STROKE', 11),\n",
       " ('low hemoglobin', 11),\n",
       " ('Gastrointestinal (GI) Bleed', 11),\n",
       " ('h pylori', 11),\n",
       " ('polio', 11),\n",
       " ('throat infection', 11),\n",
       " ('nephrotic syndrome', 11),\n",
       " ('blood pressure', 11),\n",
       " ('BACK PAIN', 11),\n",
       " ('delusional disorder', 11),\n",
       " ('hyponatremia', 11),\n",
       " ('heart surgery', 11),\n",
       " ('suicidal attempts', 11),\n",
       " ('lower back pain', 11),\n",
       " ('mental health issues', 11),\n",
       " ('exzema', 11),\n",
       " ('pancreatitis', 11),\n",
       " ('TRIPLE BYPASS', 11),\n",
       " ('pancreatic ca', 11),\n",
       " ('Gall bladder removed', 11),\n",
       " ('h-pylori', 11),\n",
       " ('A. Fib', 11),\n",
       " ('Hypertension', 11),\n",
       " ('CELLULITIS', 11),\n",
       " ('Gestational diabetes', 11),\n",
       " ('hip fracture', 11),\n",
       " ('vasculitis', 11),\n",
       " ('bowel obstruction', 11),\n",
       " ('liver transplant', 11),\n",
       " ('NIDDM,', 11),\n",
       " ('Gallbladder removed', 11),\n",
       " ('Hemodialysis', 11),\n",
       " ('Iron deficiency', 11),\n",
       " ('MI ', 11),\n",
       " ('ca lung', 11),\n",
       " ('aortic aneurysm', 11),\n",
       " ('deaf', 10),\n",
       " ('Gastritis', 10),\n",
       " ('DEPRESSION, ANXIETY', 10),\n",
       " ('URINARY RETENTION', 10),\n",
       " ('MENTAL HEALTH', 10),\n",
       " ('BACK INJURY', 10),\n",
       " ('OVARIAN CYST', 10),\n",
       " ('LIVER CIRRHOSIS', 10),\n",
       " ('pe', 10),\n",
       " ('ulcerative colitis', 10),\n",
       " ('SOMATIC PAIN DISORDER', 10),\n",
       " ('lymphoma', 10),\n",
       " ('cancer', 10),\n",
       " ('Dialysis', 10),\n",
       " ('Prostate', 10),\n",
       " ('MRSA', 10),\n",
       " ('concussions', 10),\n",
       " ('chronic constipation', 10),\n",
       " ('SEE LIST', 10),\n",
       " ('Muscular Dystrophy', 10),\n",
       " ('CONCUSSION', 10),\n",
       " ('joint pain', 10),\n",
       " ('gallbladder', 10),\n",
       " ('ASD', 10),\n",
       " ('G6PD', 10),\n",
       " ('Congenital heart ', 10),\n",
       " ('osteomylitis', 10),\n",
       " ('acute renal failure', 10),\n",
       " ('chronic neck pain', 10),\n",
       " ('C-section', 10),\n",
       " ('thyroid ca', 10),\n",
       " ('hypoglycemia', 10),\n",
       " ('pancreatic cancer', 10),\n",
       " ('Mental health', 10),\n",
       " ('myocarditis', 10),\n",
       " ('fibroid', 10),\n",
       " ('PTCA', 10),\n",
       " ('bronchitis', 10),\n",
       " ('delirium', 10),\n",
       " ('osteopenia', 10),\n",
       " ('angina', 10),\n",
       " ('RENAL FAILURE', 10),\n",
       " ('lupus', 10),\n",
       " ('right knee replacement', 10),\n",
       " ('niddm, htn', 10),\n",
       " ('brain aneurysm', 10),\n",
       " ('heart issues', 10),\n",
       " ('eating disorder', 10),\n",
       " ('KIDNEY DYSFUNCTION', 10),\n",
       " ('Croup', 10),\n",
       " ('asthma,', 10),\n",
       " ('tendonitis', 10),\n",
       " ('poor historian', 10),\n",
       " ('athritis', 10),\n",
       " ('ECZEMA', 10),\n",
       " ('Autism', 10),\n",
       " ('high cholesterol, high BP', 10),\n",
       " ('gallstones', 10),\n",
       " ('G2P1', 10),\n",
       " ('MS', 10),\n",
       " ('nka', 10),\n",
       " ('HTN, HIGH CHOL', 9),\n",
       " ('SEIZURE', 9),\n",
       " ('left breast ca', 9),\n",
       " ('Liver Cirrhosis', 9),\n",
       " ('heart block', 9),\n",
       " ('chrons disease', 9),\n",
       " (\"Meniere's\", 9),\n",
       " ('ANGINA', 9),\n",
       " ('heart murmer', 9),\n",
       " ('mental issue', 9),\n",
       " ('bypass', 9),\n",
       " ('DVT', 9),\n",
       " ('left hip replacement', 9),\n",
       " ('spina bifida', 9),\n",
       " ('H. Pylori', 9),\n",
       " ('Stent', 9),\n",
       " ('panic attack', 9),\n",
       " ('SMOKER', 9),\n",
       " ('cpap', 9),\n",
       " ('PROSTATE ISSUES', 9),\n",
       " ('TIA', 9),\n",
       " ('thalassemia', 9),\n",
       " ('Quadriplegia', 9),\n",
       " ('stents x3', 9),\n",
       " ('epistaxis', 9),\n",
       " ('add', 9),\n",
       " ('irregular heart rate', 9),\n",
       " ('chronic leg pain', 9),\n",
       " ('A-fib', 9),\n",
       " ('ETOH abuse', 9),\n",
       " ('sinus infection', 9),\n",
       " ('Fatty liver', 9),\n",
       " ('scoliosis', 9),\n",
       " ('lung ca', 9),\n",
       " ('ventolin', 9),\n",
       " ('Pyelonephritis', 9),\n",
       " ('tachycardia', 9),\n",
       " ('HEMORRHOIDS', 9),\n",
       " ('ablation', 9),\n",
       " ('cardiac issues', 9),\n",
       " ('Kidney stones', 9),\n",
       " ('INGUINAL HERNIA', 9),\n",
       " ('pleural effusion', 9),\n",
       " ('Premature', 9),\n",
       " ('HYPOTHYROID', 9),\n",
       " ('high cholesterol, HTN', 9),\n",
       " ('DNR', 9),\n",
       " ('Mi', 9),\n",
       " ('METHADONE PROGRAM', 9),\n",
       " ('niddm,', 9),\n",
       " ('osteoprosis', 9),\n",
       " ('ANXIETY, DEPRESSION', 9),\n",
       " ('ca prostate', 9),\n",
       " ('HTN, high cholesterol, NIDDM', 9),\n",
       " ('multiple myloma', 9),\n",
       " ('low thyroid', 9),\n",
       " ('spinal surgery', 9),\n",
       " ('HIGH BP, HIGH CHOL', 9),\n",
       " ('suicide attempts', 8),\n",
       " ('STENT X 1', 8),\n",
       " ('LOW BP', 8),\n",
       " ('KIDNEY DISEASE', 8),\n",
       " ('c section', 8),\n",
       " ('recent uti', 8),\n",
       " ('mitral valve repair', 8),\n",
       " ('DEVELOPMENTAL DELAY', 8),\n",
       " ('colan ca', 8),\n",
       " ('CARDIOMYOPATHY', 8),\n",
       " ('GASTRIC BYPASS', 8),\n",
       " ('Herniated Disc', 8),\n",
       " ('irregular heartbeat', 8),\n",
       " ('CML', 8),\n",
       " ('PCOD', 8),\n",
       " ('Concussion', 8),\n",
       " ('HIV', 8),\n",
       " ('carpal tunnel', 8),\n",
       " ('fluid retention', 8),\n",
       " ('iron', 8),\n",
       " ('partial hysterectomy', 8),\n",
       " ('mvc', 8),\n",
       " ('HTN, NIDDM, high cholesterol', 8),\n",
       " ('withdrawal seizures', 8),\n",
       " ('chronic shoulder pain', 8),\n",
       " ('VSD', 8),\n",
       " ('PID (Pelvic Inflammatory Disease)', 8),\n",
       " ('stent x 1', 8),\n",
       " ('hypertension, high cholesterol', 8),\n",
       " ('Thyroidectomy', 8),\n",
       " ('anemic', 8),\n",
       " ('HTN, ', 8),\n",
       " ('EPILEPSY', 8),\n",
       " ('enlarged prostate', 8),\n",
       " ('See list', 8),\n",
       " ('MARIJUANA USE', 8),\n",
       " ('synthroid', 8),\n",
       " ('MULTIPLE MYELOMA', 8),\n",
       " ('MITRAL VALVE PROLAPSE', 8),\n",
       " ('atrial flutter', 8),\n",
       " ('suicidal ideation', 8),\n",
       " ('Bilateral knee replacement', 8),\n",
       " ('depression,', 8),\n",
       " ('bipolar, depression', 8),\n",
       " ('SLEEPING ISSUES', 8),\n",
       " ('DEGENERATIVE DISC DISEASE', 8),\n",
       " ('Kidney issues', 8),\n",
       " ('elevated liver enzymes', 8),\n",
       " ('quad bypass', 8),\n",
       " ('THROAT INFECTION', 8),\n",
       " ('hemiplegia', 8),\n",
       " ('colitis', 8),\n",
       " ('prostate problem', 8),\n",
       " ('thrombocytopenia', 8),\n",
       " ('Gastroparesis', 8),\n",
       " ('withdrawal seizure', 8),\n",
       " ('left knee surgery', 8),\n",
       " ('tbi', 8),\n",
       " ('a.fib', 8),\n",
       " ('diverticulitis', 8),\n",
       " ('GI bleed', 8),\n",
       " ('bladder issues', 8),\n",
       " ('degenerative disc', 8),\n",
       " ('STENT X1', 8),\n",
       " ('Colon Ca', 8),\n",
       " ('UMBILICAL HERNIA', 8),\n",
       " ('pituitary tumor', 8),\n",
       " ('heart problems', 8),\n",
       " ('CROUP', 8),\n",
       " ('cdiff', 8),\n",
       " ('hematuria', 8),\n",
       " ('pulmonary edema', 8),\n",
       " ('carpal tunnel syndrome', 8),\n",
       " ('pacemaker ', 8),\n",
       " ('Ear infection', 8),\n",
       " ('Hypercholesterolemia', 8),\n",
       " ('low platelets', 7),\n",
       " ('Kidney failure', 7),\n",
       " ('high cholestrol', 7),\n",
       " ('drug addiction', 7),\n",
       " ('hole in heart', 7),\n",
       " ('FULL TERM', 7),\n",
       " ('pre diabetes', 7),\n",
       " ('THYROID CA', 7),\n",
       " ('schizoaffective disorder', 7),\n",
       " ('Cellulitis', 7),\n",
       " ('hernia surgery', 7),\n",
       " ('Kidney Disease', 7),\n",
       " ('social anxiety', 7),\n",
       " ('stent x2', 7),\n",
       " ('graves disease', 7),\n",
       " (\"chron's\", 7),\n",
       " ('STREP THROAT', 7),\n",
       " ('CARDIAC', 7),\n",
       " ('cad', 7),\n",
       " ('glaucoma', 7),\n",
       " ('heart', 7),\n",
       " ('hepatitis B', 7),\n",
       " ('anal fissure', 7),\n",
       " ('diabetes, high cholesterol', 7),\n",
       " ('leaky valve', 7),\n",
       " ('PTCA WITH STENTS', 7),\n",
       " ('MI 2017', 7),\n",
       " ('htn, gerd', 7),\n",
       " ('Developmental delay', 7),\n",
       " ('polycystic ovaries', 7),\n",
       " ('Kidney problem', 7),\n",
       " ('Deaf', 7),\n",
       " ('stent 2008', 7),\n",
       " ('icd', 7),\n",
       " ('uric acid', 7),\n",
       " ('scleroderma', 7),\n",
       " ('tripple bypass', 7),\n",
       " ('HYPERTENSION, HIGH CHOLESTEROL', 7),\n",
       " ('heart condition', 7),\n",
       " ('ASA', 7),\n",
       " ('hyperkalemia', 7),\n",
       " ('non verbal', 7),\n",
       " ('quadruple bypass', 7),\n",
       " ('HIGH CHOL', 7),\n",
       " ('Kidney Failure', 7),\n",
       " ('low potassium', 7),\n",
       " ('colonoscopy', 7),\n",
       " ('pace maker', 7),\n",
       " ('MI x2', 7),\n",
       " ('cardiac arrest', 7),\n",
       " ('odd', 7),\n",
       " ('thy', 7),\n",
       " ('endocarditis', 7),\n",
       " ('prostate ca', 7),\n",
       " ('dizziness', 7),\n",
       " ('Hep C', 7),\n",
       " ('TMJ', 7),\n",
       " ('pre diabetic', 7),\n",
       " ('Palpitations', 7),\n",
       " ('appendectomy', 7),\n",
       " ('hystrectomy', 7),\n",
       " ('lung infection', 7),\n",
       " ('SUICIDAL IDEATION', 7),\n",
       " ('H pylori', 7),\n",
       " ('right knee surgery', 7),\n",
       " ('cholesterol, htn', 7),\n",
       " ('left shoulder injury', 7),\n",
       " ('brain surgery', 7),\n",
       " ('G1P0', 7),\n",
       " ('PNEUMONIA', 7),\n",
       " ('renal stone', 7),\n",
       " ('FIBROIDS', 7),\n",
       " ('ckd', 7),\n",
       " ('osteo arthritis', 7),\n",
       " ('anxiety,', 7),\n",
       " ('downs syndrome', 7),\n",
       " ('COLOSTOMY', 7),\n",
       " ('stents x 3', 7),\n",
       " ('pud', 7),\n",
       " ('hemophilia', 7),\n",
       " ('kidney ca', 7),\n",
       " ('dry eyes', 7),\n",
       " ('UTIs', 7),\n",
       " ('pre eclampsia', 7),\n",
       " ('menorrhagia', 7),\n",
       " ('prostatitis', 7),\n",
       " ('hemorroids', 7),\n",
       " ('NIDDM, HIGH CHOL', 7),\n",
       " ('type 2 dm', 7),\n",
       " ('marijuana use', 7),\n",
       " ('iddm,', 7),\n",
       " ('tia', 7),\n",
       " ('angio', 7),\n",
       " ('high chol, htn', 7),\n",
       " ('up to date to immunization', 7),\n",
       " ('neck pain', 7),\n",
       " ('Hypothyroidism', 7),\n",
       " ('DIABETES', 7),\n",
       " ('htn, high chol, niddm', 7),\n",
       " ('Quadruple bypass', 7),\n",
       " ('colostomy bag', 7),\n",
       " ('high BP, diabetes', 7),\n",
       " ('pre-diabetic', 7),\n",
       " ('decreased kidney function', 6),\n",
       " ('mitral stenosis', 6),\n",
       " ('liver cirrhosis ', 6),\n",
       " (\"chron's disease\", 6),\n",
       " ('Osteoarthritis ', 6),\n",
       " ('ptsd', 6),\n",
       " ('Shingles', 6),\n",
       " ('ETOH ABUSE', 6),\n",
       " ('triple bipass', 6),\n",
       " ('Multiple Myeloma', 6),\n",
       " ('Polio', 6),\n",
       " ('PROSTRATE', 6),\n",
       " ('pinched nerve', 6),\n",
       " ('frequent UTIs', 6),\n",
       " ('NO FAMILY HX MI', 6),\n",
       " ('angioplasty with 2 stents', 6),\n",
       " ('leukemia', 6),\n",
       " ('hemmerhoids', 6),\n",
       " ('vascular dementia', 6),\n",
       " ('gull bladder removed', 6),\n",
       " ('trigeminal neuralgia', 6),\n",
       " ('Miscarriage', 6),\n",
       " ('ca liver', 6),\n",
       " ('gall bladder removal ', 6),\n",
       " ('PIH (Pregnancy Induced Hypertension)', 6),\n",
       " ('enlarged aorta', 6),\n",
       " ('SMOKING', 6),\n",
       " ('ANGIOGRAM', 6),\n",
       " ('ataxia', 6),\n",
       " ('SLEEP APNEA', 6),\n",
       " ('ciliac disease', 6),\n",
       " ('lobectomy', 6),\n",
       " ('thryoid', 6),\n",
       " ('hypokalemia', 6),\n",
       " ('?asthma', 6),\n",
       " ('diabetic neuropathy', 6),\n",
       " ('OVERACTIVE BLADDER', 6),\n",
       " ('stent x1', 6),\n",
       " ('Ovarian Cyst', 6),\n",
       " ('htn, thyroid', 6),\n",
       " ('On Prednisone/Steroids', 6),\n",
       " (\"Marfan's Syndrome\", 6),\n",
       " ('polymyalgia rheumatica', 6),\n",
       " ('depression/anxiety', 6),\n",
       " ('VERTIGO', 6),\n",
       " ('blood in stool', 6),\n",
       " ('DIABETIC NEUROPATHY', 6),\n",
       " ('CHRONS', 6),\n",
       " ('MI 2013', 6),\n",
       " ('DRUG USE', 6),\n",
       " ('neonatal jaundice', 6),\n",
       " ('MIGRANES', 6),\n",
       " ('SHINGLES', 6),\n",
       " ('G6PD deficiency', 6),\n",
       " ('chronic uti', 6),\n",
       " ('gall bladder removed ', 6),\n",
       " ('confusion', 6),\n",
       " ('Macular degeneration', 6),\n",
       " ('neurogenic bladder', 6),\n",
       " ('hydronephrosis', 6),\n",
       " ('autoimmune pancreatitis', 6),\n",
       " ('chronic abdominal pain', 6),\n",
       " ('2 cardiac stents', 6),\n",
       " ('SCHIZOAFFECTIVE DISORDER', 6),\n",
       " ('benign hypertension', 6),\n",
       " ('ear infections', 6),\n",
       " ('low sodium', 6),\n",
       " ('lung issues', 6),\n",
       " ('traumatic brain injury', 6),\n",
       " ('?afib', 6),\n",
       " ('cholesterol, niddm', 6),\n",
       " ('sleeping problem', 6),\n",
       " ('iud', 6),\n",
       " ('liver cirosis', 6),\n",
       " ('Blood clots', 6),\n",
       " ('prediabetes', 6),\n",
       " ('Colon Cancer', 6),\n",
       " ('5 stents', 6),\n",
       " ('gastroparesis', 6),\n",
       " ('kidney transplant ', 6),\n",
       " ('Kidney problems', 6),\n",
       " ('sinus', 6),\n",
       " ('HEAD INJURY', 6),\n",
       " ('Brain Injury', 6),\n",
       " ('Fatty Liver', 6),\n",
       " ('fatty liver disease', 6),\n",
       " ('Colostomy', 6),\n",
       " ('aplastic anemia', 6),\n",
       " ('yeast infection', 6),\n",
       " ('prostrate', 6),\n",
       " ('major depressive disorder', 6),\n",
       " ('stomach ulcers', 6),\n",
       " ('syncopal episodes', 6),\n",
       " ('cataract surgery', 6),\n",
       " ('HEMODIALYSIS', 6),\n",
       " ('Smoking', 6),\n",
       " ('NIDDM, high cholesterol', 6),\n",
       " ('rheumatoid arthritis', 6),\n",
       " ('C Dif (Clostridium difficile)', 6),\n",
       " ('HYPERTENSION, HIGH CHOLESTEROL, NIDDM', 6),\n",
       " ('neuropathy', 6),\n",
       " ('HYPEREMESIS', 6),\n",
       " ('herniated discs', 6),\n",
       " ('PARKINSONS', 6),\n",
       " ('bulging disc', 6),\n",
       " ('Htn,', 6),\n",
       " ('shoulder pain', 6),\n",
       " ('candesartan', 6),\n",
       " ('nerve damage', 6),\n",
       " ('mitral valve replacement', 6),\n",
       " ('learning disability', 6),\n",
       " ('liver', 6),\n",
       " ('addiction', 6),\n",
       " ('renal insufficiency', 6),\n",
       " ('fever', 6),\n",
       " ('cognitive impairment', 6),\n",
       " ('fibromylagia', 6),\n",
       " ('RSV', 6),\n",
       " ('polycythemia', 6),\n",
       " ('HEP C', 6),\n",
       " ('breast  cancer', 6),\n",
       " ('Thyroid cancer', 6),\n",
       " ('? asthma', 6),\n",
       " ('abdominal pain', 6),\n",
       " ('defib', 6),\n",
       " ('vaccinations are up to date', 6),\n",
       " ('leg pain', 6),\n",
       " ('Stents x 2', 6),\n",
       " ...]"
      ]
     },
     "execution_count": 118,
     "metadata": {},
     "output_type": "execute_result"
    }
   ],
   "source": [
    "diagnoses.most_common()"
   ]
  },
  {
   "cell_type": "code",
   "execution_count": 92,
   "metadata": {},
   "outputs": [
    {
     "data": {
      "text/plain": [
       "0    NaN\n",
       "1    NaN\n",
       "2    NaN\n",
       "3    NaN\n",
       "4    NaN\n",
       "Name: MedicalHistory, dtype: object"
      ]
     },
     "execution_count": 92,
     "metadata": {},
     "output_type": "execute_result"
    }
   ],
   "source": [
    "med_hx.head()"
   ]
  },
  {
   "cell_type": "code",
   "execution_count": 96,
   "metadata": {},
   "outputs": [],
   "source": [
    "def fix_hx(s):\n",
    "    if pd.isnull(s):\n",
    "        s = np.nan\n",
    "        return s\n",
    "    s = s[16:]\n",
    "    s=s.split('<LT><LF>')\n",
    "    return s"
   ]
  },
  {
   "cell_type": "code",
   "execution_count": 97,
   "metadata": {},
   "outputs": [
    {
     "name": "stderr",
     "output_type": "stream",
     "text": [
      "/usr/local/lib/python3.6/site-packages/pandas/core/series.py:915: SettingWithCopyWarning: \n",
      "A value is trying to be set on a copy of a slice from a DataFrame\n",
      "\n",
      "See the caveats in the documentation: http://pandas.pydata.org/pandas-docs/stable/indexing.html#indexing-view-versus-copy\n",
      "  self.loc[key] = value\n",
      "/usr/local/lib/python3.6/site-packages/IPython/core/interactiveshell.py:3267: SettingWithCopyWarning: \n",
      "A value is trying to be set on a copy of a slice from a DataFrame\n",
      "\n",
      "See the caveats in the documentation: http://pandas.pydata.org/pandas-docs/stable/indexing.html#indexing-view-versus-copy\n",
      "  exec(code_obj, self.user_global_ns, self.user_ns)\n"
     ]
    }
   ],
   "source": [
    "med_hx['history'] = med_hx.map(fix_hx)"
   ]
  },
  {
   "cell_type": "code",
   "execution_count": 99,
   "metadata": {},
   "outputs": [
    {
     "data": {
      "text/plain": [
       "0                                                       NaN\n",
       "1                                                       NaN\n",
       "2                                                       NaN\n",
       "3                                                       NaN\n",
       "4                                                       NaN\n",
       "5                                                       NaN\n",
       "6                                                       NaN\n",
       "7                                                       NaN\n",
       "8                                                       NaN\n",
       "9                                                       NaN\n",
       "10                                                      NaN\n",
       "11                                                      NaN\n",
       "12                                                      NaN\n",
       "13                                                      NaN\n",
       "14                                                      NaN\n",
       "15                                                      NaN\n",
       "16                                                      NaN\n",
       "17                                                      NaN\n",
       "18                                                      NaN\n",
       "19                                                      NaN\n",
       "20                                                      NaN\n",
       "21                                                      NaN\n",
       "22                                                      NaN\n",
       "23                                                      NaN\n",
       "24                                                      NaN\n",
       "25                                                      NaN\n",
       "26                                                      NaN\n",
       "27                                                      NaN\n",
       "28                                                      NaN\n",
       "29                                                      NaN\n",
       "                                ...                        \n",
       "136963    [Hypertension (HTN)<LT>LF>High Cholesterol<LT>...\n",
       "136964          [Hypertension (HTN)<LT>LF>High Cholesterol]\n",
       "136965    [raynaud's syndrome<LT>LF>hypotension<LT>LF>Sc...\n",
       "136966    [ADHD (Attention Deficit Hyperactivity Disorder)]\n",
       "136967                     [No Significant Medical History]\n",
       "136968                     [No Significant Medical History]\n",
       "136969                     [No Significant Medical History]\n",
       "136970                                             [Asthma]\n",
       "136971                                                  NaN\n",
       "136972                     [No Significant Medical History]\n",
       "136973    [Hypertension (HTN)<LT>LF>Fibromyalgia<LT>LF>l...\n",
       "136974      [Diabetes<LT>LF>High BP<LT>LF>High Cholesterol]\n",
       "136975    [Lung Cancer<LT>LF>MI<LT>LF>Stent x 5<LT>LF>TI...\n",
       "136976    [leg pain<LT>LF>High Cholesterol<LT>LF>Depress...\n",
       "136977                     [No Significant Medical History]\n",
       "136978    [Epilepsy<LT>LF>ADHD (Attention Deficit Hypera...\n",
       "136979    [TIA (Transient Ischemic Attack)<LT>LF>Arrythm...\n",
       "136980                     [No Significant Medical History]\n",
       "136981    [Gallbladder stone<LT>LF>Hypertension (HTN)<LT...\n",
       "136982                                     [Panic Disorder]\n",
       "136983                                 [11 weeks gestation]\n",
       "136984                                            [Anxiety]\n",
       "136985       [Depression<LT>LF>Anxiety<LT>LF>perfectionist]\n",
       "136986                                 [Hypertension (HTN)]\n",
       "136987                     [No Significant Medical History]\n",
       "136988                     [No Significant Medical History]\n",
       "136989                     [No Significant Medical History]\n",
       "136990                                             [Asthma]\n",
       "136991                                             [Asthma]\n",
       "136992    [cva<LT>LF>High BP<LT>LF>diabetes<LT>LF>High C...\n",
       "Name: MedicalHistory, Length: 136993, dtype: object"
      ]
     },
     "execution_count": 99,
     "metadata": {},
     "output_type": "execute_result"
    }
   ],
   "source": [
    "med_hx['history']"
   ]
  },
  {
   "cell_type": "code",
   "execution_count": 119,
   "metadata": {},
   "outputs": [],
   "source": [
    "date_df = clin[['Triage Date & Time', 'Reg Date & Time',\n",
    "       'PIA Date & Time', 'Disposition Date & Time', 'Left ED Date & Time']]"
   ]
  },
  {
   "cell_type": "code",
   "execution_count": 121,
   "metadata": {},
   "outputs": [],
   "source": [
    "date_df.to_csv(data_path + '/date_data.csv')"
   ]
  },
  {
   "cell_type": "code",
   "execution_count": null,
   "metadata": {},
   "outputs": [],
   "source": []
  }
 ],
 "metadata": {
  "kernelspec": {
   "display_name": "Python 3",
   "language": "python",
   "name": "python3"
  },
  "language_info": {
   "codemirror_mode": {
    "name": "ipython",
    "version": 3
   },
   "file_extension": ".py",
   "mimetype": "text/x-python",
   "name": "python",
   "nbconvert_exporter": "python",
   "pygments_lexer": "ipython3",
   "version": "3.6.5"
  }
 },
 "nbformat": 4,
 "nbformat_minor": 2
}
