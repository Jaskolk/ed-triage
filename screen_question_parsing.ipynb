{
 "cells": [
  {
   "cell_type": "code",
   "execution_count": 1,
   "metadata": {},
   "outputs": [],
   "source": [
    "import pandas as pd\n",
    "import numpy as np\n",
    "import os"
   ]
  },
  {
   "cell_type": "code",
   "execution_count": 2,
   "metadata": {},
   "outputs": [
    {
     "data": {
      "text/plain": [
       "['bch_data_breakdown.xlsx',\n",
       " 'BCH ED visits FY1819_with additions.xlsx',\n",
       " 'sample_cleaned.xlsx',\n",
       " '~$BCH ED visits FY1819_with additions.xlsx',\n",
       " 'EGH ED visits FY1819_with additions.xlsx',\n",
       " '.ipynb_checkpoints',\n",
       " '~$sample_cleaned.xlsx',\n",
       " 'screen_question_parsing.ipynb']"
      ]
     },
     "execution_count": 2,
     "metadata": {},
     "output_type": "execute_result"
    }
   ],
   "source": [
    "os.listdir()"
   ]
  },
  {
   "cell_type": "code",
   "execution_count": 3,
   "metadata": {},
   "outputs": [],
   "source": [
    "data = pd.read_excel('BCH ED visits FY1819_with additions.xlsx')"
   ]
  },
  {
   "cell_type": "code",
   "execution_count": 4,
   "metadata": {},
   "outputs": [
    {
     "data": {
      "text/plain": [
       "136993"
      ]
     },
     "execution_count": 4,
     "metadata": {},
     "output_type": "execute_result"
    }
   ],
   "source": [
    "len(data)"
   ]
  },
  {
   "cell_type": "code",
   "execution_count": 5,
   "metadata": {},
   "outputs": [
    {
     "data": {
      "text/plain": [
       "121266"
      ]
     },
     "execution_count": 5,
     "metadata": {},
     "output_type": "execute_result"
    }
   ],
   "source": [
    "#if we get rid of rows where we don't have infection control questions we have this much\n",
    "clean_data = data.dropna(subset = ['InfectionControlScreening'])\n",
    "len(clean_data)"
   ]
  },
  {
   "cell_type": "code",
   "execution_count": 8,
   "metadata": {},
   "outputs": [
    {
     "data": {
      "text/plain": [
       "Index(['ID', 'ChartNumber', 'EncounterNumber', 'TriageLevel', 'AgeNumber',\n",
       "       'AgeInYrs', 'GenderDesc', 'Triage Date & Time', 'Reg Date & Time',\n",
       "       'PIA Date & Time', 'Disposition Date & Time', 'DischargeDisposition',\n",
       "       'DischargeDispositionDesc', 'Left ED Date & Time',\n",
       "       'PresentingComplaint', 'PresentingComplaintDesc', 'MainDiagnosisCode',\n",
       "       'MainDiagnosisCodeDesc', 'AdmitLocation', 'PatientService',\n",
       "       'SubjectiveNotes', 'InfectionControlScreening', 'MedicalHistory',\n",
       "       'BloodPressure_LastEDReading', 'O2Saturation_LastEDReading',\n",
       "       'Pulse_LastEDReading', 'Temperature_LastEDReading'],\n",
       "      dtype='object')"
      ]
     },
     "execution_count": 8,
     "metadata": {},
     "output_type": "execute_result"
    }
   ],
   "source": [
    "sample.columns"
   ]
  },
  {
   "cell_type": "code",
   "execution_count": 6,
   "metadata": {},
   "outputs": [],
   "source": [
    "qlist = ['Are you feeling feverish or have had shakes or chills in the last 24 hours?',\n",
    "         'Have you ever been isolated/required isolation for an infectious disease when receiving care in a healthcare setting?',\n",
    "        'Do you have a new Rash?',\n",
    "        'Do you have a new onset of Vomiting/Diarrhea in the last 24 hours?',\n",
    "         'Have you travelled outside of Canada/USA in the last 3 weeks?',\n",
    "         'Have you had contact with a sick person who has travelled outside of Canada/USA in the last 3 weeks?',\n",
    "         'Have you received Health Care in another country in the last 2 years?',\n",
    "        'Do you have a new/worse cough or shortness of breath?',\n",
    "         'If so, select all countries that apply',\n",
    "        'If so, select all infectious diseases that apply']"
   ]
  },
  {
   "cell_type": "code",
   "execution_count": 7,
   "metadata": {},
   "outputs": [
    {
     "data": {
      "text/plain": [
       "10"
      ]
     },
     "execution_count": 7,
     "metadata": {},
     "output_type": "execute_result"
    }
   ],
   "source": [
    "len(qlist)"
   ]
  },
  {
   "cell_type": "code",
   "execution_count": 15,
   "metadata": {},
   "outputs": [],
   "source": [
    "#making a dict so that the indect of an item on the list, matches the question later\n",
    "q_dict = {i:q for i,q in enumerate(qlist)}"
   ]
  },
  {
   "cell_type": "code",
   "execution_count": 18,
   "metadata": {},
   "outputs": [
    {
     "data": {
      "text/plain": [
       "{0: 'Are you feeling feverish or have had shakes or chills in the last 24 hours?',\n",
       " 1: 'Have you ever been isolated/required isolation for an infectious disease when receiving care in a healthcare setting?',\n",
       " 2: 'Do you have a new Rash?',\n",
       " 3: 'Do you have a new onset of Vomiting/Diarrhea in the last 24 hours?',\n",
       " 4: 'Have you travelled outside of Canada/USA in the last 3 weeks?',\n",
       " 5: 'Have you had contact with a sick person who has travelled outside of Canada/USA in the last 3 weeks?',\n",
       " 6: 'Have you received Health Care in another country in the last 2 years?',\n",
       " 7: 'Do you have a new/worse cough or shortness of breath?',\n",
       " 8: 'If so, select all countries that apply',\n",
       " 9: 'If so, select all infectious diseases that apply'}"
      ]
     },
     "execution_count": 18,
     "metadata": {},
     "output_type": "execute_result"
    }
   ],
   "source": [
    "q_dict"
   ]
  },
  {
   "cell_type": "code",
   "execution_count": 159,
   "metadata": {},
   "outputs": [],
   "source": [
    "#this is going to be a list made of up all the entries in the infection control screening column\n",
    "#casting the results as string to manipulate later\n",
    "qans = list(data['InfectionControlScreening'].str[14:].astype('str'))"
   ]
  },
  {
   "cell_type": "code",
   "execution_count": 160,
   "metadata": {},
   "outputs": [
    {
     "data": {
      "text/plain": [
       "136993"
      ]
     },
     "execution_count": 160,
     "metadata": {},
     "output_type": "execute_result"
    }
   ],
   "source": [
    "len(qans)"
   ]
  },
  {
   "cell_type": "code",
   "execution_count": 161,
   "metadata": {},
   "outputs": [
    {
     "data": {
      "text/plain": [
       "'nan'"
      ]
     },
     "execution_count": 161,
     "metadata": {},
     "output_type": "execute_result"
    }
   ],
   "source": [
    "#NaN has been converted into a string called 'nan'\n",
    "qans[0]"
   ]
  },
  {
   "cell_type": "code",
   "execution_count": 162,
   "metadata": {},
   "outputs": [
    {
     "data": {
      "text/plain": [
       "(str, str)"
      ]
     },
     "execution_count": 162,
     "metadata": {},
     "output_type": "execute_result"
    }
   ],
   "source": [
    "#checking that each things is a string\n",
    "type(qans[0]), type(qans[100])"
   ]
  },
  {
   "cell_type": "code",
   "execution_count": 163,
   "metadata": {},
   "outputs": [],
   "source": [
    "#this is going to give me a way to split the questions by finding where they occur in the field\n",
    "split_points = []\n",
    "for item in qans:\n",
    "    temp_points = []\n",
    "    for word in qlist:\n",
    "        temp_points.append(item.find(word))\n",
    "    split_points.append(temp_points)\n",
    "    "
   ]
  },
  {
   "cell_type": "code",
   "execution_count": 164,
   "metadata": {},
   "outputs": [],
   "source": [
    "#this is going to give me list of places to split each entry (using only the questions that are actually present)\n",
    "real_points = []\n",
    "for item in split_points:\n",
    "    real_points.append([idx for idx in sorted(item) if idx > 0])"
   ]
  },
  {
   "cell_type": "code",
   "execution_count": 165,
   "metadata": {},
   "outputs": [
    {
     "data": {
      "text/plain": [
       "(136993, 136993)"
      ]
     },
     "execution_count": 165,
     "metadata": {},
     "output_type": "execute_result"
    }
   ],
   "source": [
    "len(split_points),len(real_points)"
   ]
  },
  {
   "cell_type": "code",
   "execution_count": 166,
   "metadata": {},
   "outputs": [
    {
     "data": {
      "text/plain": [
       "False"
      ]
     },
     "execution_count": 166,
     "metadata": {},
     "output_type": "execute_result"
    }
   ],
   "source": [
    "split_points == real_points"
   ]
  },
  {
   "cell_type": "code",
   "execution_count": 167,
   "metadata": {},
   "outputs": [
    {
     "data": {
      "text/plain": [
       "[[290, -1, 449, 374, 0, 119, -1, 228, 70, -1],\n",
       " [241, -1, 400, 325, 0, 70, -1, 179, -1, -1],\n",
       " [-1, -1, -1, -1, -1, -1, -1, -1, -1, -1],\n",
       " [241, 432, 400, 325, 0, 70, 558, 179, -1, -1],\n",
       " [132, -1, 291, 216, 0, -1, -1, 70, -1, -1],\n",
       " [241, -1, -1, 325, 0, 70, -1, 179, -1, -1],\n",
       " [241, -1, 400, 325, 0, 70, -1, 179, -1, -1],\n",
       " [241, -1, 400, 325, 0, 70, -1, 179, -1, -1],\n",
       " [241, -1, 400, 325, 0, 70, -1, 179, -1, -1],\n",
       " [241, 432, 400, 325, 0, 70, 558, 179, -1, -1]]"
      ]
     },
     "execution_count": 167,
     "metadata": {},
     "output_type": "execute_result"
    }
   ],
   "source": [
    "split_points[100000:100010]"
   ]
  },
  {
   "cell_type": "code",
   "execution_count": 168,
   "metadata": {},
   "outputs": [
    {
     "data": {
      "text/plain": [
       "[[70, 119, 228, 290, 374, 449],\n",
       " [70, 179, 241, 325, 400],\n",
       " [],\n",
       " [70, 179, 241, 325, 400, 432, 558],\n",
       " [70, 132, 216, 291],\n",
       " [70, 179, 241, 325],\n",
       " [70, 179, 241, 325, 400],\n",
       " [70, 179, 241, 325, 400],\n",
       " [70, 179, 241, 325, 400],\n",
       " [70, 179, 241, 325, 400, 432, 558]]"
      ]
     },
     "execution_count": 168,
     "metadata": {},
     "output_type": "execute_result"
    }
   ],
   "source": [
    "#anything from the list above which would have been empty in the original data\n",
    "#gives a list of -1's in split_points and nothing in real_points\n",
    "real_points[100000:100010]"
   ]
  },
  {
   "cell_type": "code",
   "execution_count": 169,
   "metadata": {},
   "outputs": [
    {
     "name": "stdout",
     "output_type": "stream",
     "text": [
      "Have you travelled outside of Canada/USA in the last 3 weeks? N<LT>LF>Have you had contact with a sick person who has travelled outside of Canada/USA in the last 3 weeks? N<LT>LF>Do you have a new/worse cough or shortness of breath? N<LT>LF>Are you feeling feverish or have had shakes or chills in the last 24 hours? N<LT>LF>Do you have a new onset of Vomiting/Diarrhea in the last 24 hours? N<LT>LF>Do you have a new Rash? N\n",
      "\n",
      "[241, -1, 400, 325, 0, 70, -1, 179, -1, -1]\n",
      "\n",
      "[70, 179, 241, 325, 400]\n"
     ]
    }
   ],
   "source": [
    "print(qans[1000])\n",
    "print()\n",
    "print (split_points[1000])\n",
    "print ()\n",
    "print(real_points[1000])"
   ]
  },
  {
   "cell_type": "code",
   "execution_count": 170,
   "metadata": {},
   "outputs": [],
   "source": [
    "#this should mutate qans so each item is now a list of q and a's\n",
    "for idx in range(len(qans)):\n",
    "    qans[idx] = [qans[idx][i : j] for i, j in zip([0] + real_points[idx], real_points[idx] + [None])]\n",
    "    "
   ]
  },
  {
   "cell_type": "code",
   "execution_count": 171,
   "metadata": {},
   "outputs": [
    {
     "data": {
      "text/plain": [
       "['Have you travelled outside of Canada/USA in the last 3 weeks? N<LT>LF>',\n",
       " 'Have you had contact with a sick person who has travelled outside of Canada/USA in the last 3 weeks? N<LT>LF>',\n",
       " 'Do you have a new/worse cough or shortness of breath? N<LT>LF>',\n",
       " 'Are you feeling feverish or have had shakes or chills in the last 24 hours? N<LT>LF>',\n",
       " 'Do you have a new onset of Vomiting/Diarrhea in the last 24 hours? N<LT>LF>',\n",
       " 'Do you have a new Rash? N']"
      ]
     },
     "execution_count": 171,
     "metadata": {},
     "output_type": "execute_result"
    }
   ],
   "source": [
    "qans[1000]"
   ]
  },
  {
   "cell_type": "code",
   "execution_count": 172,
   "metadata": {
    "scrolled": true
   },
   "outputs": [
    {
     "data": {
      "text/plain": [
       "['Have you travelled outside of Canada/USA in the last 3 weeks? Y<LT>LF>',\n",
       " 'If so, select all countries that apply PAK<LT>LF>',\n",
       " 'Have you had contact with a sick person who has travelled outside of Canada/USA in the last 3 weeks? N<LT>LF>',\n",
       " 'Do you have a new/worse cough or shortness of breath? N<LT>LF>',\n",
       " 'Are you feeling feverish or have had shakes or chills in the last 24 hours? N<LT>LF>',\n",
       " 'Do you have a new onset of Vomiting/Diarrhea in the last 24 hours? N<LT>LF>',\n",
       " 'Do you have a new Rash? N']"
      ]
     },
     "execution_count": 172,
     "metadata": {},
     "output_type": "execute_result"
    }
   ],
   "source": [
    "qans[100000]"
   ]
  },
  {
   "cell_type": "code",
   "execution_count": 173,
   "metadata": {},
   "outputs": [],
   "source": [
    "#this will mutate each item of each list in qans and drop the <LT>LF> if present\n",
    "for q in qans:\n",
    "    for idx in range(len(q)):\n",
    "        if q[idx].find('<LT>LF>') != -1:\n",
    "            q[idx] = q[idx][:-7]\n",
    "        "
   ]
  },
  {
   "cell_type": "code",
   "execution_count": 174,
   "metadata": {},
   "outputs": [
    {
     "data": {
      "text/plain": [
       "['Have you travelled outside of Canada/USA in the last 3 weeks? N',\n",
       " 'Have you had contact with a sick person who has travelled outside of Canada/USA in the last 3 weeks? N',\n",
       " 'Do you have a new/worse cough or shortness of breath? N',\n",
       " 'Are you feeling feverish or have had shakes or chills in the last 24 hours? N',\n",
       " 'Do you have a new onset of Vomiting/Diarrhea in the last 24 hours? N',\n",
       " 'Do you have a new Rash? N']"
      ]
     },
     "execution_count": 174,
     "metadata": {},
     "output_type": "execute_result"
    }
   ],
   "source": [
    "qans[1000]"
   ]
  },
  {
   "cell_type": "code",
   "execution_count": 175,
   "metadata": {},
   "outputs": [
    {
     "data": {
      "text/plain": [
       "['Have you travelled outside of Canada/USA in the last 3 weeks? Y',\n",
       " 'If so, select all countries that apply PAK',\n",
       " 'Have you had contact with a sick person who has travelled outside of Canada/USA in the last 3 weeks? N',\n",
       " 'Do you have a new/worse cough or shortness of breath? N',\n",
       " 'Are you feeling feverish or have had shakes or chills in the last 24 hours? N',\n",
       " 'Do you have a new onset of Vomiting/Diarrhea in the last 24 hours? N',\n",
       " 'Do you have a new Rash? N']"
      ]
     },
     "execution_count": 175,
     "metadata": {},
     "output_type": "execute_result"
    }
   ],
   "source": [
    "qans[100000]"
   ]
  },
  {
   "cell_type": "code",
   "execution_count": 176,
   "metadata": {},
   "outputs": [
    {
     "data": {
      "text/plain": [
       "136993"
      ]
     },
     "execution_count": 176,
     "metadata": {},
     "output_type": "execute_result"
    }
   ],
   "source": [
    "len(qans)"
   ]
  },
  {
   "cell_type": "code",
   "execution_count": 177,
   "metadata": {},
   "outputs": [],
   "source": [
    "#this is just a semirandom list of indices to play with\n",
    "spl = [10,100,1000,10000,100000, 130000]"
   ]
  },
  {
   "cell_type": "code",
   "execution_count": 178,
   "metadata": {},
   "outputs": [
    {
     "data": {
      "text/plain": [
       "['Have you travelled outside of Canada/USA in the last 3 weeks? N',\n",
       " 'Have you had contact with a sick person who has travelled outside of Canada/USA in the last 3 weeks? N',\n",
       " 'Do you have a new/worse cough or shortness of breath? N',\n",
       " 'Are you feeling feverish or have had shakes or chills in the last 24 hours? N',\n",
       " 'Do you have a new onset of Vomiting/Diarrhea in the last 24 hours? N',\n",
       " 'Do you have a new Rash? N']"
      ]
     },
     "execution_count": 178,
     "metadata": {},
     "output_type": "execute_result"
    }
   ],
   "source": [
    "qans[1000]"
   ]
  },
  {
   "cell_type": "code",
   "execution_count": 179,
   "metadata": {},
   "outputs": [
    {
     "data": {
      "text/plain": [
       "[['nan'],\n",
       " ['nan'],\n",
       " ['Have you travelled outside of Canada/USA in the last 3 weeks? N',\n",
       "  'Have you had contact with a sick person who has travelled outside of Canada/USA in the last 3 weeks? N',\n",
       "  'Do you have a new/worse cough or shortness of breath? N',\n",
       "  'Are you feeling feverish or have had shakes or chills in the last 24 hours? N',\n",
       "  'Do you have a new onset of Vomiting/Diarrhea in the last 24 hours? N',\n",
       "  'Do you have a new Rash? N'],\n",
       " ['nan'],\n",
       " ['Have you travelled outside of Canada/USA in the last 3 weeks? Y',\n",
       "  'If so, select all countries that apply PAK',\n",
       "  'Have you had contact with a sick person who has travelled outside of Canada/USA in the last 3 weeks? N',\n",
       "  'Do you have a new/worse cough or shortness of breath? N',\n",
       "  'Are you feeling feverish or have had shakes or chills in the last 24 hours? N',\n",
       "  'Do you have a new onset of Vomiting/Diarrhea in the last 24 hours? N',\n",
       "  'Do you have a new Rash? N'],\n",
       " ['Have you travelled outside of Canada/USA in the last 3 weeks? Y',\n",
       "  'If so, select all countries that apply IND',\n",
       "  'Have you had contact with a sick person who has travelled outside of Canada/USA in the last 3 weeks? N',\n",
       "  'Do you have a new/worse cough or shortness of breath? N',\n",
       "  'Are you feeling feverish or have had shakes or chills in the last 24 hours? N',\n",
       "  'Do you have a new onset of Vomiting/Diarrhea in the last 24 hours? N',\n",
       "  'Do you have a new Rash? N',\n",
       "  'Have you received Health Care in another country in the last 2 years? N']]"
      ]
     },
     "execution_count": 179,
     "metadata": {},
     "output_type": "execute_result"
    }
   ],
   "source": [
    "#gonna make a small list of questions to experiment with further\n",
    "brief_list = [qans[item] for item in spl]\n",
    "brief_list"
   ]
  },
  {
   "cell_type": "code",
   "execution_count": 180,
   "metadata": {},
   "outputs": [],
   "source": [
    "seg_list = []\n",
    "for q in qans:\n",
    "    #print ('initial:', q)\n",
    "    test_question = q\n",
    "    res = []\n",
    "    for item in test_question:\n",
    "        #print (item)\n",
    "        for qq in qlist:\n",
    "            if item.find(qq) != -1:\n",
    "                #print ('question:',item[:len(qq)])\n",
    "                #print ('answer:',item[len(qq)+1:])\n",
    "                res.append([item[:len(qq)],item[len(qq)+1:] ])\n",
    "    seg_list.append(res)\n",
    "    #print ('\\nresult:',res, '\\n\\n')"
   ]
  },
  {
   "cell_type": "code",
   "execution_count": 181,
   "metadata": {},
   "outputs": [
    {
     "data": {
      "text/plain": [
       "136993"
      ]
     },
     "execution_count": 181,
     "metadata": {},
     "output_type": "execute_result"
    }
   ],
   "source": [
    "len(seg_list)"
   ]
  },
  {
   "cell_type": "code",
   "execution_count": 182,
   "metadata": {},
   "outputs": [
    {
     "data": {
      "text/plain": [
       "[[],\n",
       " [],\n",
       " [['Have you travelled outside of Canada/USA in the last 3 weeks?', 'N'],\n",
       "  ['Have you had contact with a sick person who has travelled outside of Canada/USA in the last 3 weeks?',\n",
       "   'N'],\n",
       "  ['Do you have a new/worse cough or shortness of breath?', 'N'],\n",
       "  ['Are you feeling feverish or have had shakes or chills in the last 24 hours?',\n",
       "   'N'],\n",
       "  ['Do you have a new onset of Vomiting/Diarrhea in the last 24 hours?', 'N'],\n",
       "  ['Do you have a new Rash?', 'N']],\n",
       " [],\n",
       " [['Have you travelled outside of Canada/USA in the last 3 weeks?', 'Y'],\n",
       "  ['If so, select all countries that apply', 'PAK'],\n",
       "  ['Have you had contact with a sick person who has travelled outside of Canada/USA in the last 3 weeks?',\n",
       "   'N'],\n",
       "  ['Do you have a new/worse cough or shortness of breath?', 'N'],\n",
       "  ['Are you feeling feverish or have had shakes or chills in the last 24 hours?',\n",
       "   'N'],\n",
       "  ['Do you have a new onset of Vomiting/Diarrhea in the last 24 hours?', 'N'],\n",
       "  ['Do you have a new Rash?', 'N']],\n",
       " [['Have you travelled outside of Canada/USA in the last 3 weeks?', 'Y'],\n",
       "  ['If so, select all countries that apply', 'IND'],\n",
       "  ['Have you had contact with a sick person who has travelled outside of Canada/USA in the last 3 weeks?',\n",
       "   'N'],\n",
       "  ['Do you have a new/worse cough or shortness of breath?', 'N'],\n",
       "  ['Are you feeling feverish or have had shakes or chills in the last 24 hours?',\n",
       "   'N'],\n",
       "  ['Do you have a new onset of Vomiting/Diarrhea in the last 24 hours?', 'N'],\n",
       "  ['Do you have a new Rash?', 'N'],\n",
       "  ['Have you received Health Care in another country in the last 2 years?',\n",
       "   'N']]]"
      ]
     },
     "execution_count": 182,
     "metadata": {},
     "output_type": "execute_result"
    }
   ],
   "source": [
    "#so now seg_list is the entire list of questions where if they were all negative, the result is an empty list\n",
    "#if there were any questions they are split into questions and answers\n",
    "brief_list = [seg_list[item] for item in spl]\n",
    "brief_list"
   ]
  },
  {
   "cell_type": "code",
   "execution_count": 183,
   "metadata": {
    "scrolled": true
   },
   "outputs": [
    {
     "data": {
      "text/plain": [
       "[[-1, -1, -1, -1, -1, -1, -1, -1, -1, -1],\n",
       " [-1, -1, -1, -1, -1, -1, -1, -1, -1, -1],\n",
       " [241, -1, 400, 325, 0, 70, -1, 179, -1, -1],\n",
       " [-1, -1, -1, -1, -1, -1, -1, -1, -1, -1],\n",
       " [290, -1, 449, 374, 0, 119, -1, 228, 70, -1],\n",
       " [290, -1, 449, 374, 0, 119, 481, 228, 70, -1]]"
      ]
     },
     "execution_count": 183,
     "metadata": {},
     "output_type": "execute_result"
    }
   ],
   "source": [
    "brief_splits = [split_points[item] for item in spl]\n",
    "brief_splits"
   ]
  },
  {
   "cell_type": "code",
   "execution_count": 184,
   "metadata": {},
   "outputs": [
    {
     "data": {
      "text/plain": [
       "True"
      ]
     },
     "execution_count": 184,
     "metadata": {},
     "output_type": "execute_result"
    }
   ],
   "source": [
    "len(brief_list) == len(brief_splits)"
   ]
  },
  {
   "cell_type": "code",
   "execution_count": 185,
   "metadata": {},
   "outputs": [],
   "source": [
    "seg_list2 = []\n",
    "for q in qans:\n",
    "    #print ('initial:', q)\n",
    "    test_question = q\n",
    "    res = {}\n",
    "    for item in test_question:\n",
    "        #print (item)\n",
    "        for qq in qlist:\n",
    "            if item.find(qq) != -1:\n",
    "                question = item[:len(qq)]\n",
    "                answer = item[len(qq)+1:]\n",
    "                res[question] = answer\n",
    "    seg_list2.append(res)"
   ]
  },
  {
   "cell_type": "code",
   "execution_count": 186,
   "metadata": {},
   "outputs": [
    {
     "data": {
      "text/plain": [
       "[{},\n",
       " {},\n",
       " {'Have you travelled outside of Canada/USA in the last 3 weeks?': 'N',\n",
       "  'Have you had contact with a sick person who has travelled outside of Canada/USA in the last 3 weeks?': 'N',\n",
       "  'Do you have a new/worse cough or shortness of breath?': 'N',\n",
       "  'Are you feeling feverish or have had shakes or chills in the last 24 hours?': 'N',\n",
       "  'Do you have a new onset of Vomiting/Diarrhea in the last 24 hours?': 'N',\n",
       "  'Do you have a new Rash?': 'N'},\n",
       " {},\n",
       " {'Have you travelled outside of Canada/USA in the last 3 weeks?': 'Y',\n",
       "  'If so, select all countries that apply': 'PAK',\n",
       "  'Have you had contact with a sick person who has travelled outside of Canada/USA in the last 3 weeks?': 'N',\n",
       "  'Do you have a new/worse cough or shortness of breath?': 'N',\n",
       "  'Are you feeling feverish or have had shakes or chills in the last 24 hours?': 'N',\n",
       "  'Do you have a new onset of Vomiting/Diarrhea in the last 24 hours?': 'N',\n",
       "  'Do you have a new Rash?': 'N'},\n",
       " {'Have you travelled outside of Canada/USA in the last 3 weeks?': 'Y',\n",
       "  'If so, select all countries that apply': 'IND',\n",
       "  'Have you had contact with a sick person who has travelled outside of Canada/USA in the last 3 weeks?': 'N',\n",
       "  'Do you have a new/worse cough or shortness of breath?': 'N',\n",
       "  'Are you feeling feverish or have had shakes or chills in the last 24 hours?': 'N',\n",
       "  'Do you have a new onset of Vomiting/Diarrhea in the last 24 hours?': 'N',\n",
       "  'Do you have a new Rash?': 'N',\n",
       "  'Have you received Health Care in another country in the last 2 years?': 'N'}]"
      ]
     },
     "execution_count": 186,
     "metadata": {},
     "output_type": "execute_result"
    }
   ],
   "source": [
    "brief_list2 = [seg_list2[item] for item in spl]\n",
    "brief_list2"
   ]
  },
  {
   "cell_type": "code",
   "execution_count": 156,
   "metadata": {},
   "outputs": [
    {
     "ename": "KeyError",
     "evalue": "'Are you feeling feverish or have had shakes or chills in the last 24 hours?'",
     "output_type": "error",
     "traceback": [
      "\u001b[0;31m---------------------------------------------------------------------------\u001b[0m",
      "\u001b[0;31mKeyError\u001b[0m                                  Traceback (most recent call last)",
      "\u001b[0;32m<ipython-input-156-da3a98227c3d>\u001b[0m in \u001b[0;36m<module>\u001b[0;34m\u001b[0m\n\u001b[1;32m      6\u001b[0m         \u001b[0;32melse\u001b[0m\u001b[0;34m:\u001b[0m\u001b[0;34m\u001b[0m\u001b[0;34m\u001b[0m\u001b[0m\n\u001b[1;32m      7\u001b[0m             \u001b[0;31m#print (brief_list2[q][q_dict[i]])  # q_dict[i], i, brief_splits[q][i],\u001b[0m\u001b[0;34m\u001b[0m\u001b[0;34m\u001b[0m\u001b[0;34m\u001b[0m\u001b[0m\n\u001b[0;32m----> 8\u001b[0;31m             \u001b[0mbrief_splits\u001b[0m\u001b[0;34m[\u001b[0m\u001b[0mq\u001b[0m\u001b[0;34m]\u001b[0m\u001b[0;34m[\u001b[0m\u001b[0mi\u001b[0m\u001b[0;34m]\u001b[0m \u001b[0;34m=\u001b[0m \u001b[0mbrief_list2\u001b[0m\u001b[0;34m[\u001b[0m\u001b[0mq\u001b[0m\u001b[0;34m]\u001b[0m\u001b[0;34m[\u001b[0m\u001b[0mq_dict\u001b[0m\u001b[0;34m[\u001b[0m\u001b[0mi\u001b[0m\u001b[0;34m]\u001b[0m\u001b[0;34m]\u001b[0m\u001b[0;34m\u001b[0m\u001b[0;34m\u001b[0m\u001b[0m\n\u001b[0m\u001b[1;32m      9\u001b[0m     \u001b[0;31m#print ('\\n next item \\n')\u001b[0m\u001b[0;34m\u001b[0m\u001b[0;34m\u001b[0m\u001b[0;34m\u001b[0m\u001b[0m\n\u001b[1;32m     10\u001b[0m \u001b[0;34m\u001b[0m\u001b[0m\n",
      "\u001b[0;31mKeyError\u001b[0m: 'Are you feeling feverish or have had shakes or chills in the last 24 hours?'"
     ]
    }
   ],
   "source": [
    "for q in range(len(brief_splits)):\n",
    "    for i in range(len(brief_splits[q])):\n",
    "        if brief_splits[q][i] == -1:\n",
    "            #print('nan')\n",
    "            brief_splits[q][i] = 'nan'\n",
    "        else:\n",
    "            #print (brief_list2[q][q_dict[i]])  # q_dict[i], i, brief_splits[q][i],\n",
    "            brief_splits[q][i] = brief_list2[q][q_dict[i]]\n",
    "    #print ('\\n next item \\n')\n",
    "            "
   ]
  },
  {
   "cell_type": "code",
   "execution_count": 157,
   "metadata": {},
   "outputs": [
    {
     "data": {
      "text/plain": [
       "[['nan', 'nan', 'nan', 'nan', 'nan', 'nan', 'nan', 'nan', 'nan', 'nan'],\n",
       " ['nan', 'nan', 'nan', 'nan', 'nan', 'nan', 'nan', 'nan', 'nan', 'nan'],\n",
       " ['N', 'nan', 'N', 'N', 'N', 'N', 'nan', 'N', 'nan', 'nan'],\n",
       " ['nan', 'nan', 'nan', 'nan', 'nan', 'nan', 'nan', 'nan', 'nan', 'nan'],\n",
       " ['N', 'nan', 'N', 'N', 'Y', 'N', 'nan', 'N', 'PAK', 'nan'],\n",
       " ['N', 'nan', 'N', 'N', 'Y', 'N', 'N', 'N', 'IND', 'nan']]"
      ]
     },
     "execution_count": 157,
     "metadata": {},
     "output_type": "execute_result"
    }
   ],
   "source": [
    "brief_splits"
   ]
  },
  {
   "cell_type": "code",
   "execution_count": 147,
   "metadata": {},
   "outputs": [
    {
     "data": {
      "text/plain": [
       "[10, 100, 1000, 10000, 100000, 130000]"
      ]
     },
     "execution_count": 147,
     "metadata": {},
     "output_type": "execute_result"
    }
   ],
   "source": [
    "spl"
   ]
  },
  {
   "cell_type": "code",
   "execution_count": 151,
   "metadata": {},
   "outputs": [
    {
     "data": {
      "text/plain": [
       "{0: 'Are you feeling feverish or have had shakes or chills in the last 24 hours?',\n",
       " 1: 'Have you ever been isolated/required isolation for an infectious disease when receiving care in a healthcare setting?',\n",
       " 2: 'Do you have a new Rash?',\n",
       " 3: 'Do you have a new onset of Vomiting/Diarrhea in the last 24 hours?',\n",
       " 4: 'Have you travelled outside of Canada/USA in the last 3 weeks?',\n",
       " 5: 'Have you had contact with a sick person who has travelled outside of Canada/USA in the last 3 weeks?',\n",
       " 6: 'Have you received Health Care in another country in the last 2 years?',\n",
       " 7: 'Do you have a new/worse cough or shortness of breath?',\n",
       " 8: 'If so, select all countries that apply',\n",
       " 9: 'If so, select all infectious diseases that apply'}"
      ]
     },
     "execution_count": 151,
     "metadata": {},
     "output_type": "execute_result"
    }
   ],
   "source": [
    "q_dict"
   ]
  },
  {
   "cell_type": "code",
   "execution_count": 152,
   "metadata": {},
   "outputs": [
    {
     "data": {
      "text/plain": [
       "['Have you travelled outside of Canada/USA in the last 3 weeks? Y',\n",
       " 'If so, select all countries that apply IND',\n",
       " 'Have you had contact with a sick person who has travelled outside of Canada/USA in the last 3 weeks? N',\n",
       " 'Do you have a new/worse cough or shortness of breath? N',\n",
       " 'Are you feeling feverish or have had shakes or chills in the last 24 hours? N',\n",
       " 'Do you have a new onset of Vomiting/Diarrhea in the last 24 hours? N',\n",
       " 'Do you have a new Rash? N',\n",
       " 'Have you received Health Care in another country in the last 2 years? N']"
      ]
     },
     "execution_count": 152,
     "metadata": {},
     "output_type": "execute_result"
    }
   ],
   "source": [
    "qans[130000]"
   ]
  },
  {
   "cell_type": "code",
   "execution_count": 189,
   "metadata": {},
   "outputs": [],
   "source": [
    "final_list = []\n",
    "for q in range(len(split_points)):\n",
    "    temp = []\n",
    "    for i in range(len(split_points[q])):\n",
    "        if split_points[q][i] == -1:\n",
    "            #print('nan')\n",
    "            temp.append('nan')\n",
    "        else:\n",
    "            #print (brief_list2[q][q_dict[i]])  # q_dict[i], i, brief_splits[q][i],\n",
    "            temp.append(seg_list2[q][q_dict[i]])\n",
    "    final_list.append(temp)\n",
    "    #print ('\\n next item \\n')\n",
    "            "
   ]
  },
  {
   "cell_type": "code",
   "execution_count": 190,
   "metadata": {},
   "outputs": [
    {
     "data": {
      "text/plain": [
       "136993"
      ]
     },
     "execution_count": 190,
     "metadata": {},
     "output_type": "execute_result"
    }
   ],
   "source": [
    "len(final_list)"
   ]
  },
  {
   "cell_type": "code",
   "execution_count": 191,
   "metadata": {},
   "outputs": [
    {
     "data": {
      "text/plain": [
       "[['nan', 'nan', 'nan', 'nan', 'nan', 'nan', 'nan', 'nan', 'nan', 'nan'],\n",
       " ['nan', 'nan', 'nan', 'nan', 'nan', 'nan', 'nan', 'nan', 'nan', 'nan'],\n",
       " ['nan', 'nan', 'nan', 'nan', 'nan', 'nan', 'nan', 'nan', 'nan', 'nan'],\n",
       " ['nan', 'nan', 'nan', 'nan', 'nan', 'nan', 'nan', 'nan', 'nan', 'nan'],\n",
       " ['nan', 'nan', 'nan', 'nan', 'nan', 'nan', 'nan', 'nan', 'nan', 'nan'],\n",
       " ['nan', 'nan', 'nan', 'nan', 'nan', 'nan', 'nan', 'nan', 'nan', 'nan'],\n",
       " ['nan', 'nan', 'nan', 'nan', 'nan', 'nan', 'nan', 'nan', 'nan', 'nan'],\n",
       " ['nan', 'nan', 'nan', 'nan', 'nan', 'nan', 'nan', 'nan', 'nan', 'nan'],\n",
       " ['nan', 'nan', 'nan', 'nan', 'nan', 'nan', 'nan', 'nan', 'nan', 'nan'],\n",
       " ['nan', 'nan', 'nan', 'nan', 'nan', 'nan', 'nan', 'nan', 'nan', 'nan']]"
      ]
     },
     "execution_count": 191,
     "metadata": {},
     "output_type": "execute_result"
    }
   ],
   "source": [
    "final_list[:10]"
   ]
  },
  {
   "cell_type": "code",
   "execution_count": 192,
   "metadata": {},
   "outputs": [
    {
     "data": {
      "text/plain": [
       "[['nan', 'nan', 'nan', 'nan', 'nan', 'nan', 'nan', 'nan', 'nan', 'nan'],\n",
       " ['nan', 'nan', 'nan', 'nan', 'nan', 'nan', 'nan', 'nan', 'nan', 'nan'],\n",
       " ['nan', 'nan', 'nan', 'nan', 'nan', 'nan', 'nan', 'nan', 'nan', 'nan'],\n",
       " ['nan', 'nan', 'nan', 'nan', 'nan', 'nan', 'nan', 'nan', 'nan', 'nan'],\n",
       " ['nan', 'nan', 'nan', 'nan', 'nan', 'nan', 'nan', 'nan', 'nan', 'nan'],\n",
       " ['nan', 'nan', 'nan', 'nan', 'nan', 'nan', 'nan', 'nan', 'nan', 'nan'],\n",
       " ['nan', 'nan', 'nan', 'nan', 'nan', 'nan', 'nan', 'nan', 'nan', 'nan'],\n",
       " ['nan', 'nan', 'nan', 'nan', 'nan', 'nan', 'nan', 'nan', 'nan', 'nan'],\n",
       " ['nan', 'nan', 'nan', 'nan', 'nan', 'nan', 'nan', 'nan', 'nan', 'nan'],\n",
       " ['nan', 'nan', 'nan', 'nan', 'nan', 'nan', 'nan', 'nan', 'nan', 'nan']]"
      ]
     },
     "execution_count": 192,
     "metadata": {},
     "output_type": "execute_result"
    }
   ],
   "source": [
    "final_list[100:110]"
   ]
  },
  {
   "cell_type": "code",
   "execution_count": 193,
   "metadata": {},
   "outputs": [
    {
     "data": {
      "text/plain": [
       "[['N', 'nan', 'N', 'N', 'N', 'N', 'nan', 'N', 'nan', 'nan'],\n",
       " ['nan', 'nan', 'nan', 'nan', 'nan', 'nan', 'nan', 'nan', 'nan', 'nan'],\n",
       " ['nan', 'nan', 'nan', 'nan', 'nan', 'nan', 'nan', 'nan', 'nan', 'nan'],\n",
       " ['nan', 'nan', 'nan', 'nan', 'nan', 'nan', 'nan', 'nan', 'nan', 'nan'],\n",
       " ['nan', 'nan', 'nan', 'nan', 'nan', 'nan', 'nan', 'nan', 'nan', 'nan'],\n",
       " ['nan', 'nan', 'nan', 'nan', 'nan', 'nan', 'nan', 'nan', 'nan', 'nan'],\n",
       " ['nan', 'nan', 'nan', 'nan', 'nan', 'nan', 'nan', 'nan', 'nan', 'nan'],\n",
       " ['nan', 'nan', 'nan', 'nan', 'nan', 'nan', 'nan', 'nan', 'nan', 'nan'],\n",
       " ['nan', 'nan', 'nan', 'nan', 'nan', 'nan', 'nan', 'nan', 'nan', 'nan'],\n",
       " ['nan', 'nan', 'nan', 'nan', 'nan', 'nan', 'nan', 'nan', 'nan', 'nan'],\n",
       " ['nan', 'nan', 'nan', 'nan', 'nan', 'nan', 'nan', 'nan', 'nan', 'nan'],\n",
       " ['nan', 'nan', 'nan', 'nan', 'nan', 'nan', 'nan', 'nan', 'nan', 'nan'],\n",
       " ['N', 'nan', 'N', 'N', 'N', 'N', 'nan', 'Y', 'nan', 'nan'],\n",
       " ['nan', 'nan', 'nan', 'nan', 'nan', 'nan', 'nan', 'nan', 'nan', 'nan'],\n",
       " ['nan', 'nan', 'nan', 'nan', 'nan', 'nan', 'nan', 'nan', 'nan', 'nan'],\n",
       " ['nan', 'nan', 'nan', 'nan', 'nan', 'nan', 'nan', 'nan', 'nan', 'nan'],\n",
       " ['nan', 'nan', 'nan', 'nan', 'nan', 'nan', 'nan', 'nan', 'nan', 'nan'],\n",
       " ['nan', 'nan', 'nan', 'nan', 'nan', 'nan', 'nan', 'nan', 'nan', 'nan'],\n",
       " ['nan', 'nan', 'nan', 'nan', 'nan', 'nan', 'nan', 'nan', 'nan', 'nan'],\n",
       " ['nan', 'nan', 'nan', 'nan', 'nan', 'nan', 'nan', 'nan', 'nan', 'nan']]"
      ]
     },
     "execution_count": 193,
     "metadata": {},
     "output_type": "execute_result"
    }
   ],
   "source": [
    "final_list[1000:1020]"
   ]
  },
  {
   "cell_type": "code",
   "execution_count": 194,
   "metadata": {},
   "outputs": [
    {
     "data": {
      "text/html": [
       "<div>\n",
       "<style scoped>\n",
       "    .dataframe tbody tr th:only-of-type {\n",
       "        vertical-align: middle;\n",
       "    }\n",
       "\n",
       "    .dataframe tbody tr th {\n",
       "        vertical-align: top;\n",
       "    }\n",
       "\n",
       "    .dataframe thead th {\n",
       "        text-align: right;\n",
       "    }\n",
       "</style>\n",
       "<table border=\"1\" class=\"dataframe\">\n",
       "  <thead>\n",
       "    <tr style=\"text-align: right;\">\n",
       "      <th></th>\n",
       "      <th>Are you feeling feverish or have had shakes or chills in the last 24 hours?</th>\n",
       "      <th>Have you ever been isolated/required isolation for an infectious disease when receiving care in a healthcare setting?</th>\n",
       "      <th>Do you have a new Rash?</th>\n",
       "      <th>Do you have a new onset of Vomiting/Diarrhea in the last 24 hours?</th>\n",
       "      <th>Have you travelled outside of Canada/USA in the last 3 weeks?</th>\n",
       "      <th>Have you had contact with a sick person who has travelled outside of Canada/USA in the last 3 weeks?</th>\n",
       "      <th>Have you received Health Care in another country in the last 2 years?</th>\n",
       "      <th>Do you have a new/worse cough or shortness of breath?</th>\n",
       "      <th>If so, select all countries that apply</th>\n",
       "      <th>If so, select all infectious diseases that apply</th>\n",
       "    </tr>\n",
       "  </thead>\n",
       "  <tbody>\n",
       "    <tr>\n",
       "      <th>0</th>\n",
       "      <td>nan</td>\n",
       "      <td>nan</td>\n",
       "      <td>nan</td>\n",
       "      <td>nan</td>\n",
       "      <td>nan</td>\n",
       "      <td>nan</td>\n",
       "      <td>nan</td>\n",
       "      <td>nan</td>\n",
       "      <td>nan</td>\n",
       "      <td>nan</td>\n",
       "    </tr>\n",
       "    <tr>\n",
       "      <th>1</th>\n",
       "      <td>nan</td>\n",
       "      <td>nan</td>\n",
       "      <td>nan</td>\n",
       "      <td>nan</td>\n",
       "      <td>nan</td>\n",
       "      <td>nan</td>\n",
       "      <td>nan</td>\n",
       "      <td>nan</td>\n",
       "      <td>nan</td>\n",
       "      <td>nan</td>\n",
       "    </tr>\n",
       "    <tr>\n",
       "      <th>2</th>\n",
       "      <td>nan</td>\n",
       "      <td>nan</td>\n",
       "      <td>nan</td>\n",
       "      <td>nan</td>\n",
       "      <td>nan</td>\n",
       "      <td>nan</td>\n",
       "      <td>nan</td>\n",
       "      <td>nan</td>\n",
       "      <td>nan</td>\n",
       "      <td>nan</td>\n",
       "    </tr>\n",
       "    <tr>\n",
       "      <th>3</th>\n",
       "      <td>nan</td>\n",
       "      <td>nan</td>\n",
       "      <td>nan</td>\n",
       "      <td>nan</td>\n",
       "      <td>nan</td>\n",
       "      <td>nan</td>\n",
       "      <td>nan</td>\n",
       "      <td>nan</td>\n",
       "      <td>nan</td>\n",
       "      <td>nan</td>\n",
       "    </tr>\n",
       "    <tr>\n",
       "      <th>4</th>\n",
       "      <td>nan</td>\n",
       "      <td>nan</td>\n",
       "      <td>nan</td>\n",
       "      <td>nan</td>\n",
       "      <td>nan</td>\n",
       "      <td>nan</td>\n",
       "      <td>nan</td>\n",
       "      <td>nan</td>\n",
       "      <td>nan</td>\n",
       "      <td>nan</td>\n",
       "    </tr>\n",
       "  </tbody>\n",
       "</table>\n",
       "</div>"
      ],
      "text/plain": [
       "  Are you feeling feverish or have had shakes or chills in the last 24 hours?  \\\n",
       "0                                                nan                            \n",
       "1                                                nan                            \n",
       "2                                                nan                            \n",
       "3                                                nan                            \n",
       "4                                                nan                            \n",
       "\n",
       "  Have you ever been isolated/required isolation for an infectious disease when receiving care in a healthcare setting?  \\\n",
       "0                                                nan                                                                      \n",
       "1                                                nan                                                                      \n",
       "2                                                nan                                                                      \n",
       "3                                                nan                                                                      \n",
       "4                                                nan                                                                      \n",
       "\n",
       "  Do you have a new Rash?  \\\n",
       "0                     nan   \n",
       "1                     nan   \n",
       "2                     nan   \n",
       "3                     nan   \n",
       "4                     nan   \n",
       "\n",
       "  Do you have a new onset of Vomiting/Diarrhea in the last 24 hours?  \\\n",
       "0                                                nan                   \n",
       "1                                                nan                   \n",
       "2                                                nan                   \n",
       "3                                                nan                   \n",
       "4                                                nan                   \n",
       "\n",
       "  Have you travelled outside of Canada/USA in the last 3 weeks?  \\\n",
       "0                                                nan              \n",
       "1                                                nan              \n",
       "2                                                nan              \n",
       "3                                                nan              \n",
       "4                                                nan              \n",
       "\n",
       "  Have you had contact with a sick person who has travelled outside of Canada/USA in the last 3 weeks?  \\\n",
       "0                                                nan                                                     \n",
       "1                                                nan                                                     \n",
       "2                                                nan                                                     \n",
       "3                                                nan                                                     \n",
       "4                                                nan                                                     \n",
       "\n",
       "  Have you received Health Care in another country in the last 2 years?  \\\n",
       "0                                                nan                      \n",
       "1                                                nan                      \n",
       "2                                                nan                      \n",
       "3                                                nan                      \n",
       "4                                                nan                      \n",
       "\n",
       "  Do you have a new/worse cough or shortness of breath?  \\\n",
       "0                                                nan      \n",
       "1                                                nan      \n",
       "2                                                nan      \n",
       "3                                                nan      \n",
       "4                                                nan      \n",
       "\n",
       "  If so, select all countries that apply  \\\n",
       "0                                    nan   \n",
       "1                                    nan   \n",
       "2                                    nan   \n",
       "3                                    nan   \n",
       "4                                    nan   \n",
       "\n",
       "  If so, select all infectious diseases that apply  \n",
       "0                                              nan  \n",
       "1                                              nan  \n",
       "2                                              nan  \n",
       "3                                              nan  \n",
       "4                                              nan  "
      ]
     },
     "execution_count": 194,
     "metadata": {},
     "output_type": "execute_result"
    }
   ],
   "source": [
    "screening_df = pd.DataFrame(final_list, columns = qlist)\n",
    "screening_df.head()"
   ]
  },
  {
   "cell_type": "code",
   "execution_count": 195,
   "metadata": {},
   "outputs": [
    {
     "data": {
      "text/plain": [
       "136993"
      ]
     },
     "execution_count": 195,
     "metadata": {},
     "output_type": "execute_result"
    }
   ],
   "source": [
    "len(screening_df)"
   ]
  },
  {
   "cell_type": "code",
   "execution_count": 197,
   "metadata": {},
   "outputs": [
    {
     "data": {
      "text/html": [
       "<div>\n",
       "<style scoped>\n",
       "    .dataframe tbody tr th:only-of-type {\n",
       "        vertical-align: middle;\n",
       "    }\n",
       "\n",
       "    .dataframe tbody tr th {\n",
       "        vertical-align: top;\n",
       "    }\n",
       "\n",
       "    .dataframe thead th {\n",
       "        text-align: right;\n",
       "    }\n",
       "</style>\n",
       "<table border=\"1\" class=\"dataframe\">\n",
       "  <thead>\n",
       "    <tr style=\"text-align: right;\">\n",
       "      <th></th>\n",
       "      <th>Are you feeling feverish or have had shakes or chills in the last 24 hours?</th>\n",
       "      <th>Have you ever been isolated/required isolation for an infectious disease when receiving care in a healthcare setting?</th>\n",
       "      <th>Do you have a new Rash?</th>\n",
       "      <th>Do you have a new onset of Vomiting/Diarrhea in the last 24 hours?</th>\n",
       "      <th>Have you travelled outside of Canada/USA in the last 3 weeks?</th>\n",
       "      <th>Have you had contact with a sick person who has travelled outside of Canada/USA in the last 3 weeks?</th>\n",
       "      <th>Have you received Health Care in another country in the last 2 years?</th>\n",
       "      <th>Do you have a new/worse cough or shortness of breath?</th>\n",
       "      <th>If so, select all countries that apply</th>\n",
       "      <th>If so, select all infectious diseases that apply</th>\n",
       "    </tr>\n",
       "  </thead>\n",
       "  <tbody>\n",
       "    <tr>\n",
       "      <th>100000</th>\n",
       "      <td>N</td>\n",
       "      <td>nan</td>\n",
       "      <td>N</td>\n",
       "      <td>N</td>\n",
       "      <td>Y</td>\n",
       "      <td>N</td>\n",
       "      <td>nan</td>\n",
       "      <td>N</td>\n",
       "      <td>PAK</td>\n",
       "      <td>nan</td>\n",
       "    </tr>\n",
       "    <tr>\n",
       "      <th>100001</th>\n",
       "      <td>N</td>\n",
       "      <td>nan</td>\n",
       "      <td>N</td>\n",
       "      <td>N</td>\n",
       "      <td>N</td>\n",
       "      <td>N</td>\n",
       "      <td>nan</td>\n",
       "      <td>N</td>\n",
       "      <td>nan</td>\n",
       "      <td>nan</td>\n",
       "    </tr>\n",
       "    <tr>\n",
       "      <th>100002</th>\n",
       "      <td>nan</td>\n",
       "      <td>nan</td>\n",
       "      <td>nan</td>\n",
       "      <td>nan</td>\n",
       "      <td>nan</td>\n",
       "      <td>nan</td>\n",
       "      <td>nan</td>\n",
       "      <td>nan</td>\n",
       "      <td>nan</td>\n",
       "      <td>nan</td>\n",
       "    </tr>\n",
       "    <tr>\n",
       "      <th>100003</th>\n",
       "      <td>N</td>\n",
       "      <td>N</td>\n",
       "      <td>N</td>\n",
       "      <td>N</td>\n",
       "      <td>N</td>\n",
       "      <td>N</td>\n",
       "      <td>N</td>\n",
       "      <td>N</td>\n",
       "      <td>nan</td>\n",
       "      <td>nan</td>\n",
       "    </tr>\n",
       "    <tr>\n",
       "      <th>100004</th>\n",
       "      <td>N</td>\n",
       "      <td>nan</td>\n",
       "      <td>N</td>\n",
       "      <td>N</td>\n",
       "      <td>N</td>\n",
       "      <td>nan</td>\n",
       "      <td>nan</td>\n",
       "      <td>N</td>\n",
       "      <td>nan</td>\n",
       "      <td>nan</td>\n",
       "    </tr>\n",
       "    <tr>\n",
       "      <th>100005</th>\n",
       "      <td>N</td>\n",
       "      <td>nan</td>\n",
       "      <td>nan</td>\n",
       "      <td>N</td>\n",
       "      <td>N</td>\n",
       "      <td>N</td>\n",
       "      <td>nan</td>\n",
       "      <td>N</td>\n",
       "      <td>nan</td>\n",
       "      <td>nan</td>\n",
       "    </tr>\n",
       "    <tr>\n",
       "      <th>100006</th>\n",
       "      <td>N</td>\n",
       "      <td>nan</td>\n",
       "      <td>N</td>\n",
       "      <td>N</td>\n",
       "      <td>N</td>\n",
       "      <td>N</td>\n",
       "      <td>nan</td>\n",
       "      <td>N</td>\n",
       "      <td>nan</td>\n",
       "      <td>nan</td>\n",
       "    </tr>\n",
       "    <tr>\n",
       "      <th>100007</th>\n",
       "      <td>Y</td>\n",
       "      <td>nan</td>\n",
       "      <td>N</td>\n",
       "      <td>Y</td>\n",
       "      <td>N</td>\n",
       "      <td>N</td>\n",
       "      <td>nan</td>\n",
       "      <td>Y</td>\n",
       "      <td>nan</td>\n",
       "      <td>nan</td>\n",
       "    </tr>\n",
       "    <tr>\n",
       "      <th>100008</th>\n",
       "      <td>Y</td>\n",
       "      <td>nan</td>\n",
       "      <td>N</td>\n",
       "      <td>Y</td>\n",
       "      <td>N</td>\n",
       "      <td>N</td>\n",
       "      <td>nan</td>\n",
       "      <td>Y</td>\n",
       "      <td>nan</td>\n",
       "      <td>nan</td>\n",
       "    </tr>\n",
       "    <tr>\n",
       "      <th>100009</th>\n",
       "      <td>N</td>\n",
       "      <td>N</td>\n",
       "      <td>N</td>\n",
       "      <td>N</td>\n",
       "      <td>N</td>\n",
       "      <td>N</td>\n",
       "      <td>N</td>\n",
       "      <td>N</td>\n",
       "      <td>nan</td>\n",
       "      <td>nan</td>\n",
       "    </tr>\n",
       "  </tbody>\n",
       "</table>\n",
       "</div>"
      ],
      "text/plain": [
       "       Are you feeling feverish or have had shakes or chills in the last 24 hours?  \\\n",
       "100000                                                  N                            \n",
       "100001                                                  N                            \n",
       "100002                                                nan                            \n",
       "100003                                                  N                            \n",
       "100004                                                  N                            \n",
       "100005                                                  N                            \n",
       "100006                                                  N                            \n",
       "100007                                                  Y                            \n",
       "100008                                                  Y                            \n",
       "100009                                                  N                            \n",
       "\n",
       "       Have you ever been isolated/required isolation for an infectious disease when receiving care in a healthcare setting?  \\\n",
       "100000                                                nan                                                                      \n",
       "100001                                                nan                                                                      \n",
       "100002                                                nan                                                                      \n",
       "100003                                                  N                                                                      \n",
       "100004                                                nan                                                                      \n",
       "100005                                                nan                                                                      \n",
       "100006                                                nan                                                                      \n",
       "100007                                                nan                                                                      \n",
       "100008                                                nan                                                                      \n",
       "100009                                                  N                                                                      \n",
       "\n",
       "       Do you have a new Rash?  \\\n",
       "100000                       N   \n",
       "100001                       N   \n",
       "100002                     nan   \n",
       "100003                       N   \n",
       "100004                       N   \n",
       "100005                     nan   \n",
       "100006                       N   \n",
       "100007                       N   \n",
       "100008                       N   \n",
       "100009                       N   \n",
       "\n",
       "       Do you have a new onset of Vomiting/Diarrhea in the last 24 hours?  \\\n",
       "100000                                                  N                   \n",
       "100001                                                  N                   \n",
       "100002                                                nan                   \n",
       "100003                                                  N                   \n",
       "100004                                                  N                   \n",
       "100005                                                  N                   \n",
       "100006                                                  N                   \n",
       "100007                                                  Y                   \n",
       "100008                                                  Y                   \n",
       "100009                                                  N                   \n",
       "\n",
       "       Have you travelled outside of Canada/USA in the last 3 weeks?  \\\n",
       "100000                                                  Y              \n",
       "100001                                                  N              \n",
       "100002                                                nan              \n",
       "100003                                                  N              \n",
       "100004                                                  N              \n",
       "100005                                                  N              \n",
       "100006                                                  N              \n",
       "100007                                                  N              \n",
       "100008                                                  N              \n",
       "100009                                                  N              \n",
       "\n",
       "       Have you had contact with a sick person who has travelled outside of Canada/USA in the last 3 weeks?  \\\n",
       "100000                                                  N                                                     \n",
       "100001                                                  N                                                     \n",
       "100002                                                nan                                                     \n",
       "100003                                                  N                                                     \n",
       "100004                                                nan                                                     \n",
       "100005                                                  N                                                     \n",
       "100006                                                  N                                                     \n",
       "100007                                                  N                                                     \n",
       "100008                                                  N                                                     \n",
       "100009                                                  N                                                     \n",
       "\n",
       "       Have you received Health Care in another country in the last 2 years?  \\\n",
       "100000                                                nan                      \n",
       "100001                                                nan                      \n",
       "100002                                                nan                      \n",
       "100003                                                  N                      \n",
       "100004                                                nan                      \n",
       "100005                                                nan                      \n",
       "100006                                                nan                      \n",
       "100007                                                nan                      \n",
       "100008                                                nan                      \n",
       "100009                                                  N                      \n",
       "\n",
       "       Do you have a new/worse cough or shortness of breath?  \\\n",
       "100000                                                  N      \n",
       "100001                                                  N      \n",
       "100002                                                nan      \n",
       "100003                                                  N      \n",
       "100004                                                  N      \n",
       "100005                                                  N      \n",
       "100006                                                  N      \n",
       "100007                                                  Y      \n",
       "100008                                                  Y      \n",
       "100009                                                  N      \n",
       "\n",
       "       If so, select all countries that apply  \\\n",
       "100000                                    PAK   \n",
       "100001                                    nan   \n",
       "100002                                    nan   \n",
       "100003                                    nan   \n",
       "100004                                    nan   \n",
       "100005                                    nan   \n",
       "100006                                    nan   \n",
       "100007                                    nan   \n",
       "100008                                    nan   \n",
       "100009                                    nan   \n",
       "\n",
       "       If so, select all infectious diseases that apply  \n",
       "100000                                              nan  \n",
       "100001                                              nan  \n",
       "100002                                              nan  \n",
       "100003                                              nan  \n",
       "100004                                              nan  \n",
       "100005                                              nan  \n",
       "100006                                              nan  \n",
       "100007                                              nan  \n",
       "100008                                              nan  \n",
       "100009                                              nan  "
      ]
     },
     "execution_count": 197,
     "metadata": {},
     "output_type": "execute_result"
    }
   ],
   "source": [
    "screening_df.iloc[100000:100010]"
   ]
  },
  {
   "cell_type": "code",
   "execution_count": 214,
   "metadata": {},
   "outputs": [],
   "source": [
    "screening_df.replace('nan',np.NaN, inplace = True)"
   ]
  },
  {
   "cell_type": "code",
   "execution_count": 215,
   "metadata": {},
   "outputs": [
    {
     "data": {
      "text/html": [
       "<div>\n",
       "<style scoped>\n",
       "    .dataframe tbody tr th:only-of-type {\n",
       "        vertical-align: middle;\n",
       "    }\n",
       "\n",
       "    .dataframe tbody tr th {\n",
       "        vertical-align: top;\n",
       "    }\n",
       "\n",
       "    .dataframe thead th {\n",
       "        text-align: right;\n",
       "    }\n",
       "</style>\n",
       "<table border=\"1\" class=\"dataframe\">\n",
       "  <thead>\n",
       "    <tr style=\"text-align: right;\">\n",
       "      <th></th>\n",
       "      <th>Are you feeling feverish or have had shakes or chills in the last 24 hours?</th>\n",
       "      <th>Have you ever been isolated/required isolation for an infectious disease when receiving care in a healthcare setting?</th>\n",
       "      <th>Do you have a new Rash?</th>\n",
       "      <th>Do you have a new onset of Vomiting/Diarrhea in the last 24 hours?</th>\n",
       "      <th>Have you travelled outside of Canada/USA in the last 3 weeks?</th>\n",
       "      <th>Have you had contact with a sick person who has travelled outside of Canada/USA in the last 3 weeks?</th>\n",
       "      <th>Have you received Health Care in another country in the last 2 years?</th>\n",
       "      <th>Do you have a new/worse cough or shortness of breath?</th>\n",
       "      <th>If so, select all countries that apply</th>\n",
       "      <th>If so, select all infectious diseases that apply</th>\n",
       "    </tr>\n",
       "  </thead>\n",
       "  <tbody>\n",
       "    <tr>\n",
       "      <th>100000</th>\n",
       "      <td>N</td>\n",
       "      <td>NaN</td>\n",
       "      <td>N</td>\n",
       "      <td>N</td>\n",
       "      <td>Y</td>\n",
       "      <td>N</td>\n",
       "      <td>NaN</td>\n",
       "      <td>N</td>\n",
       "      <td>PAK</td>\n",
       "      <td>NaN</td>\n",
       "    </tr>\n",
       "    <tr>\n",
       "      <th>100001</th>\n",
       "      <td>N</td>\n",
       "      <td>NaN</td>\n",
       "      <td>N</td>\n",
       "      <td>N</td>\n",
       "      <td>N</td>\n",
       "      <td>N</td>\n",
       "      <td>NaN</td>\n",
       "      <td>N</td>\n",
       "      <td>NaN</td>\n",
       "      <td>NaN</td>\n",
       "    </tr>\n",
       "    <tr>\n",
       "      <th>100002</th>\n",
       "      <td>NaN</td>\n",
       "      <td>NaN</td>\n",
       "      <td>NaN</td>\n",
       "      <td>NaN</td>\n",
       "      <td>NaN</td>\n",
       "      <td>NaN</td>\n",
       "      <td>NaN</td>\n",
       "      <td>NaN</td>\n",
       "      <td>NaN</td>\n",
       "      <td>NaN</td>\n",
       "    </tr>\n",
       "    <tr>\n",
       "      <th>100003</th>\n",
       "      <td>N</td>\n",
       "      <td>N</td>\n",
       "      <td>N</td>\n",
       "      <td>N</td>\n",
       "      <td>N</td>\n",
       "      <td>N</td>\n",
       "      <td>N</td>\n",
       "      <td>N</td>\n",
       "      <td>NaN</td>\n",
       "      <td>NaN</td>\n",
       "    </tr>\n",
       "    <tr>\n",
       "      <th>100004</th>\n",
       "      <td>N</td>\n",
       "      <td>NaN</td>\n",
       "      <td>N</td>\n",
       "      <td>N</td>\n",
       "      <td>N</td>\n",
       "      <td>NaN</td>\n",
       "      <td>NaN</td>\n",
       "      <td>N</td>\n",
       "      <td>NaN</td>\n",
       "      <td>NaN</td>\n",
       "    </tr>\n",
       "    <tr>\n",
       "      <th>100005</th>\n",
       "      <td>N</td>\n",
       "      <td>NaN</td>\n",
       "      <td>NaN</td>\n",
       "      <td>N</td>\n",
       "      <td>N</td>\n",
       "      <td>N</td>\n",
       "      <td>NaN</td>\n",
       "      <td>N</td>\n",
       "      <td>NaN</td>\n",
       "      <td>NaN</td>\n",
       "    </tr>\n",
       "    <tr>\n",
       "      <th>100006</th>\n",
       "      <td>N</td>\n",
       "      <td>NaN</td>\n",
       "      <td>N</td>\n",
       "      <td>N</td>\n",
       "      <td>N</td>\n",
       "      <td>N</td>\n",
       "      <td>NaN</td>\n",
       "      <td>N</td>\n",
       "      <td>NaN</td>\n",
       "      <td>NaN</td>\n",
       "    </tr>\n",
       "    <tr>\n",
       "      <th>100007</th>\n",
       "      <td>Y</td>\n",
       "      <td>NaN</td>\n",
       "      <td>N</td>\n",
       "      <td>Y</td>\n",
       "      <td>N</td>\n",
       "      <td>N</td>\n",
       "      <td>NaN</td>\n",
       "      <td>Y</td>\n",
       "      <td>NaN</td>\n",
       "      <td>NaN</td>\n",
       "    </tr>\n",
       "    <tr>\n",
       "      <th>100008</th>\n",
       "      <td>Y</td>\n",
       "      <td>NaN</td>\n",
       "      <td>N</td>\n",
       "      <td>Y</td>\n",
       "      <td>N</td>\n",
       "      <td>N</td>\n",
       "      <td>NaN</td>\n",
       "      <td>Y</td>\n",
       "      <td>NaN</td>\n",
       "      <td>NaN</td>\n",
       "    </tr>\n",
       "    <tr>\n",
       "      <th>100009</th>\n",
       "      <td>N</td>\n",
       "      <td>N</td>\n",
       "      <td>N</td>\n",
       "      <td>N</td>\n",
       "      <td>N</td>\n",
       "      <td>N</td>\n",
       "      <td>N</td>\n",
       "      <td>N</td>\n",
       "      <td>NaN</td>\n",
       "      <td>NaN</td>\n",
       "    </tr>\n",
       "  </tbody>\n",
       "</table>\n",
       "</div>"
      ],
      "text/plain": [
       "       Are you feeling feverish or have had shakes or chills in the last 24 hours?  \\\n",
       "100000                                                  N                            \n",
       "100001                                                  N                            \n",
       "100002                                                NaN                            \n",
       "100003                                                  N                            \n",
       "100004                                                  N                            \n",
       "100005                                                  N                            \n",
       "100006                                                  N                            \n",
       "100007                                                  Y                            \n",
       "100008                                                  Y                            \n",
       "100009                                                  N                            \n",
       "\n",
       "       Have you ever been isolated/required isolation for an infectious disease when receiving care in a healthcare setting?  \\\n",
       "100000                                                NaN                                                                      \n",
       "100001                                                NaN                                                                      \n",
       "100002                                                NaN                                                                      \n",
       "100003                                                  N                                                                      \n",
       "100004                                                NaN                                                                      \n",
       "100005                                                NaN                                                                      \n",
       "100006                                                NaN                                                                      \n",
       "100007                                                NaN                                                                      \n",
       "100008                                                NaN                                                                      \n",
       "100009                                                  N                                                                      \n",
       "\n",
       "       Do you have a new Rash?  \\\n",
       "100000                       N   \n",
       "100001                       N   \n",
       "100002                     NaN   \n",
       "100003                       N   \n",
       "100004                       N   \n",
       "100005                     NaN   \n",
       "100006                       N   \n",
       "100007                       N   \n",
       "100008                       N   \n",
       "100009                       N   \n",
       "\n",
       "       Do you have a new onset of Vomiting/Diarrhea in the last 24 hours?  \\\n",
       "100000                                                  N                   \n",
       "100001                                                  N                   \n",
       "100002                                                NaN                   \n",
       "100003                                                  N                   \n",
       "100004                                                  N                   \n",
       "100005                                                  N                   \n",
       "100006                                                  N                   \n",
       "100007                                                  Y                   \n",
       "100008                                                  Y                   \n",
       "100009                                                  N                   \n",
       "\n",
       "       Have you travelled outside of Canada/USA in the last 3 weeks?  \\\n",
       "100000                                                  Y              \n",
       "100001                                                  N              \n",
       "100002                                                NaN              \n",
       "100003                                                  N              \n",
       "100004                                                  N              \n",
       "100005                                                  N              \n",
       "100006                                                  N              \n",
       "100007                                                  N              \n",
       "100008                                                  N              \n",
       "100009                                                  N              \n",
       "\n",
       "       Have you had contact with a sick person who has travelled outside of Canada/USA in the last 3 weeks?  \\\n",
       "100000                                                  N                                                     \n",
       "100001                                                  N                                                     \n",
       "100002                                                NaN                                                     \n",
       "100003                                                  N                                                     \n",
       "100004                                                NaN                                                     \n",
       "100005                                                  N                                                     \n",
       "100006                                                  N                                                     \n",
       "100007                                                  N                                                     \n",
       "100008                                                  N                                                     \n",
       "100009                                                  N                                                     \n",
       "\n",
       "       Have you received Health Care in another country in the last 2 years?  \\\n",
       "100000                                                NaN                      \n",
       "100001                                                NaN                      \n",
       "100002                                                NaN                      \n",
       "100003                                                  N                      \n",
       "100004                                                NaN                      \n",
       "100005                                                NaN                      \n",
       "100006                                                NaN                      \n",
       "100007                                                NaN                      \n",
       "100008                                                NaN                      \n",
       "100009                                                  N                      \n",
       "\n",
       "       Do you have a new/worse cough or shortness of breath?  \\\n",
       "100000                                                  N      \n",
       "100001                                                  N      \n",
       "100002                                                NaN      \n",
       "100003                                                  N      \n",
       "100004                                                  N      \n",
       "100005                                                  N      \n",
       "100006                                                  N      \n",
       "100007                                                  Y      \n",
       "100008                                                  Y      \n",
       "100009                                                  N      \n",
       "\n",
       "       If so, select all countries that apply  \\\n",
       "100000                                    PAK   \n",
       "100001                                    NaN   \n",
       "100002                                    NaN   \n",
       "100003                                    NaN   \n",
       "100004                                    NaN   \n",
       "100005                                    NaN   \n",
       "100006                                    NaN   \n",
       "100007                                    NaN   \n",
       "100008                                    NaN   \n",
       "100009                                    NaN   \n",
       "\n",
       "       If so, select all infectious diseases that apply  \n",
       "100000                                              NaN  \n",
       "100001                                              NaN  \n",
       "100002                                              NaN  \n",
       "100003                                              NaN  \n",
       "100004                                              NaN  \n",
       "100005                                              NaN  \n",
       "100006                                              NaN  \n",
       "100007                                              NaN  \n",
       "100008                                              NaN  \n",
       "100009                                              NaN  "
      ]
     },
     "execution_count": 215,
     "metadata": {},
     "output_type": "execute_result"
    }
   ],
   "source": [
    "screening_df.iloc[100000:100010]"
   ]
  },
  {
   "cell_type": "code",
   "execution_count": 216,
   "metadata": {
    "scrolled": true
   },
   "outputs": [],
   "source": [
    "result = pd.concat([data, screening_df], axis = 1)"
   ]
  },
  {
   "cell_type": "code",
   "execution_count": 217,
   "metadata": {},
   "outputs": [
    {
     "data": {
      "text/plain": [
       "Index(['ID', 'ChartNumber', 'EncounterNumber', 'TriageLevel', 'AgeNumber',\n",
       "       'AgeInYrs', 'GenderDesc', 'Triage Date & Time', 'Reg Date & Time',\n",
       "       'PIA Date & Time', 'Disposition Date & Time', 'DischargeDisposition',\n",
       "       'DischargeDispositionDesc', 'Left ED Date & Time',\n",
       "       'PresentingComplaint', 'PresentingComplaintDesc', 'MainDiagnosisCode',\n",
       "       'MainDiagnosisCodeDesc', 'AdmitLocation', 'PatientService',\n",
       "       'SubjectiveNotes', 'InfectionControlScreening', 'MedicalHistory',\n",
       "       'BloodPressure_LastEDReading', 'O2Saturation_LastEDReading',\n",
       "       'Pulse_LastEDReading', 'Temperature_LastEDReading',\n",
       "       'Are you feeling feverish or have had shakes or chills in the last 24 hours?',\n",
       "       'Have you ever been isolated/required isolation for an infectious disease when receiving care in a healthcare setting?',\n",
       "       'Do you have a new Rash?',\n",
       "       'Do you have a new onset of Vomiting/Diarrhea in the last 24 hours?',\n",
       "       'Have you travelled outside of Canada/USA in the last 3 weeks?',\n",
       "       'Have you had contact with a sick person who has travelled outside of Canada/USA in the last 3 weeks?',\n",
       "       'Have you received Health Care in another country in the last 2 years?',\n",
       "       'Do you have a new/worse cough or shortness of breath?',\n",
       "       'If so, select all countries that apply',\n",
       "       'If so, select all infectious diseases that apply'],\n",
       "      dtype='object')"
      ]
     },
     "execution_count": 217,
     "metadata": {},
     "output_type": "execute_result"
    }
   ],
   "source": [
    "result.columns"
   ]
  },
  {
   "cell_type": "code",
   "execution_count": 218,
   "metadata": {},
   "outputs": [
    {
     "data": {
      "text/plain": [
       "136993"
      ]
     },
     "execution_count": 218,
     "metadata": {},
     "output_type": "execute_result"
    }
   ],
   "source": [
    "len(result)"
   ]
  },
  {
   "cell_type": "code",
   "execution_count": 219,
   "metadata": {},
   "outputs": [],
   "source": [
    "result.to_excel('jj_modified_bch_data.xlsx')"
   ]
  },
  {
   "cell_type": "code",
   "execution_count": null,
   "metadata": {},
   "outputs": [],
   "source": []
  }
 ],
 "metadata": {
  "kernelspec": {
   "display_name": "Python [default]",
   "language": "python",
   "name": "python3"
  },
  "language_info": {
   "codemirror_mode": {
    "name": "ipython",
    "version": 3
   },
   "file_extension": ".py",
   "mimetype": "text/x-python",
   "name": "python",
   "nbconvert_exporter": "python",
   "pygments_lexer": "ipython3",
   "version": "3.6.5"
  }
 },
 "nbformat": 4,
 "nbformat_minor": 2
}
