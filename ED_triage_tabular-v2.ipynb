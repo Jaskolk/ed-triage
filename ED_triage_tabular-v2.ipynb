{
 "cells": [
  {
   "cell_type": "markdown",
   "metadata": {},
   "source": [
    "## I'm returning to this after some delay to revisit the work I did.  gonna integrate everything into one nb"
   ]
  },
  {
   "cell_type": "markdown",
   "metadata": {},
   "source": [
    "#### install dependencies and set data paths"
   ]
  },
  {
   "cell_type": "code",
   "execution_count": 1,
   "metadata": {},
   "outputs": [],
   "source": [
    "from fastai import *\n",
    "from fastai.tabular import *\n",
    "\n",
    "import pandas as pd\n",
    "import numpy as np\n",
    "\n",
    "import os\n",
    "import re\n",
    "from collections import Counter\n",
    "\n",
    "import random\n",
    "\n",
    "from sklearn.metrics import confusion_matrix\n",
    "import sklearn.metrics\n",
    "import seaborn as sns\n",
    "%matplotlib inline\n",
    "import matplotlib.pyplot as plt\n",
    "\n"
   ]
  },
  {
   "cell_type": "code",
   "execution_count": 2,
   "metadata": {},
   "outputs": [],
   "source": [
    "#use this cell when working online\n",
    "path = '/floyd/home/ed-triage'\n",
    "data_path = '/floyd/home/data/bch'\n",
    "model_path = 'floyd/home/models'"
   ]
  },
  {
   "cell_type": "code",
   "execution_count": 4,
   "metadata": {},
   "outputs": [],
   "source": [
    "#use this cell when working from home\n",
    "path = '/Users/jjaskolkambp/Desktop/machine learning/my_projects/ed-triage'\n",
    "data_path = '/Users/jjaskolkambp/Desktop/machine learning/my_projects/data/ED triage project/bch'"
   ]
  },
  {
   "cell_type": "markdown",
   "metadata": {},
   "source": [
    "#### load data into DF (this is always slow)"
   ]
  },
  {
   "cell_type": "code",
   "execution_count": 3,
   "metadata": {},
   "outputs": [
    {
     "name": "stderr",
     "output_type": "stream",
     "text": [
      "/usr/local/lib/python3.6/site-packages/IPython/core/interactiveshell.py:3020: DtypeWarning: Columns (24,25,26,36) have mixed types. Specify dtype option on import or set low_memory=False.\n",
      "  interactivity=interactivity, compiler=compiler, result=result)\n"
     ]
    }
   ],
   "source": [
    "clin = pd.read_csv(data_path + '/bch_data.csv')"
   ]
  },
  {
   "cell_type": "code",
   "execution_count": 4,
   "metadata": {},
   "outputs": [
    {
     "data": {
      "text/plain": [
       "(136993, 37)"
      ]
     },
     "execution_count": 4,
     "metadata": {},
     "output_type": "execute_result"
    }
   ],
   "source": [
    "clin.shape"
   ]
  },
  {
   "cell_type": "code",
   "execution_count": 5,
   "metadata": {},
   "outputs": [
    {
     "data": {
      "text/plain": [
       "Index(['ID', 'ChartNumber', 'EncounterNumber', 'TriageLevel', 'AgeNumber',\n",
       "       'AgeInYrs', 'GenderDesc', 'Triage Date & Time', 'Reg Date & Time',\n",
       "       'PIA Date & Time', 'Disposition Date & Time', 'DischargeDisposition',\n",
       "       'DischargeDispositionDesc', 'Left ED Date & Time',\n",
       "       'PresentingComplaint', 'PresentingComplaintDesc', 'MainDiagnosisCode',\n",
       "       'MainDiagnosisCodeDesc', 'AdmitLocation', 'PatientService',\n",
       "       'SubjectiveNotes', 'InfectionControlScreening', 'MedicalHistory',\n",
       "       'BloodPressure_LastEDReading', 'O2Saturation_LastEDReading',\n",
       "       'Pulse_LastEDReading', 'Temperature_LastEDReading',\n",
       "       'Are you feeling feverish or have had shakes or chills in the last 24 hours?',\n",
       "       'Have you ever been isolated/required isolation for an infectious disease when receiving care in a healthcare setting?',\n",
       "       'Do you have a new Rash?',\n",
       "       'Do you have a new onset of Vomiting/Diarrhea in the last 24 hours?',\n",
       "       'Have you travelled outside of Canada/USA in the last 3 weeks?',\n",
       "       'Have you had contact with a sick person who has travelled outside of Canada/USA in the last 3 weeks?',\n",
       "       'Have you received Health Care in another country in the last 2 years?',\n",
       "       'Do you have a new/worse cough or shortness of breath?',\n",
       "       'If so, select all countries that apply',\n",
       "       'If so, select all infectious diseases that apply'],\n",
       "      dtype='object')"
      ]
     },
     "execution_count": 5,
     "metadata": {},
     "output_type": "execute_result"
    }
   ],
   "source": [
    "clin.columns"
   ]
  },
  {
   "cell_type": "code",
   "execution_count": 6,
   "metadata": {},
   "outputs": [
    {
     "data": {
      "text/plain": [
       "(102543, 37)"
      ]
     },
     "execution_count": 6,
     "metadata": {},
     "output_type": "execute_result"
    }
   ],
   "source": [
    "clin.dropna(subset = ['SubjectiveNotes', 'MedicalHistory','InfectionControlScreening'], inplace = True)\n",
    "clin.shape"
   ]
  },
  {
   "cell_type": "code",
   "execution_count": 7,
   "metadata": {},
   "outputs": [
    {
     "data": {
      "text/plain": [
       "(102492, 37)"
      ]
     },
     "execution_count": 7,
     "metadata": {},
     "output_type": "execute_result"
    }
   ],
   "source": [
    "date_columns = ['Triage Date & Time', 'Reg Date & Time']\n",
    "\n",
    "clin.dropna(subset = date_columns, inplace = True)\n",
    "clin.shape"
   ]
  },
  {
   "cell_type": "code",
   "execution_count": 9,
   "metadata": {},
   "outputs": [],
   "source": [
    "clin.to_csv(data_path + '/100kcompleterecords.csv', index = False)"
   ]
  },
  {
   "cell_type": "code",
   "execution_count": 11,
   "metadata": {},
   "outputs": [
    {
     "data": {
      "text/plain": [
       "Index(['ID', 'ChartNumber', 'EncounterNumber', 'TriageLevel', 'AgeNumber',\n",
       "       'AgeInYrs', 'GenderDesc', 'Triage Date & Time', 'Reg Date & Time',\n",
       "       'PIA Date & Time', 'Disposition Date & Time', 'DischargeDisposition',\n",
       "       'DischargeDispositionDesc', 'Left ED Date & Time',\n",
       "       'PresentingComplaint', 'PresentingComplaintDesc', 'MainDiagnosisCode',\n",
       "       'MainDiagnosisCodeDesc', 'AdmitLocation', 'PatientService',\n",
       "       'SubjectiveNotes', 'InfectionControlScreening', 'MedicalHistory',\n",
       "       'BloodPressure_LastEDReading', 'O2Saturation_LastEDReading',\n",
       "       'Pulse_LastEDReading', 'Temperature_LastEDReading',\n",
       "       'Are you feeling feverish or have had shakes or chills in the last 24 hours?',\n",
       "       'Have you ever been isolated/required isolation for an infectious disease when receiving care in a healthcare setting?',\n",
       "       'Do you have a new Rash?',\n",
       "       'Do you have a new onset of Vomiting/Diarrhea in the last 24 hours?',\n",
       "       'Have you travelled outside of Canada/USA in the last 3 weeks?',\n",
       "       'Have you had contact with a sick person who has travelled outside of Canada/USA in the last 3 weeks?',\n",
       "       'Have you received Health Care in another country in the last 2 years?',\n",
       "       'Do you have a new/worse cough or shortness of breath?',\n",
       "       'If so, select all countries that apply',\n",
       "       'If so, select all infectious diseases that apply'],\n",
       "      dtype='object')"
      ]
     },
     "execution_count": 11,
     "metadata": {},
     "output_type": "execute_result"
    }
   ],
   "source": [
    "clin.columns"
   ]
  },
  {
   "cell_type": "markdown",
   "metadata": {},
   "source": [
    "#### refactoring some of the cells so they are clean and useful"
   ]
  },
  {
   "cell_type": "code",
   "execution_count": 12,
   "metadata": {},
   "outputs": [],
   "source": [
    "o2sat = [item if item[-1] != '%' else item[:-1] for item in clin['O2Saturation_LastEDReading'].astype('str')]\n",
    "o2sat = [np.nan if item == 'nan' else float(item) for item in o2sat] \n",
    "clin['o2sat'] = o2sat"
   ]
  },
  {
   "cell_type": "code",
   "execution_count": 13,
   "metadata": {},
   "outputs": [],
   "source": [
    "pulse = clin['Pulse_LastEDReading']\n",
    "pulse = [re.sub(\"[^0-9]\", \"\", str(item)) for item in pulse]\n",
    "pulse = [np.nan if item == '' else float(item) for item in pulse] \n",
    "#set(pulse)\n",
    "clin['pulse'] = pulse"
   ]
  },
  {
   "cell_type": "code",
   "execution_count": 14,
   "metadata": {},
   "outputs": [],
   "source": [
    "temp = clin['Temperature_LastEDReading']\n",
    "temp = [re.sub(\"[^0-9]\", \"\", str(item)) for item in temp]\n",
    "temp = [np.nan if item == '' else float(item) for item in temp] \n",
    "temp = [item/10 if item > 100 else item for item in temp]\n",
    "temp = [np.nan if item > 40  else item for item in temp]\n",
    "#set(temp)\n",
    "clin['temp'] = temp"
   ]
  },
  {
   "cell_type": "code",
   "execution_count": 15,
   "metadata": {},
   "outputs": [],
   "source": [
    "def bptrans(bp):\n",
    "    if pd.isnull(bp) or len(bp.split('/')) !=2:\n",
    "        return [np.nan, np.nan]\n",
    "    res = []\n",
    "    for x in bp.split('/'):\n",
    "        try:\n",
    "            float(x)\n",
    "            res =  [float(x) for x in bp.split('/')]\n",
    "        except: \n",
    "            res =  [np.nan, np.nan]\n",
    "        return res\n"
   ]
  },
  {
   "cell_type": "code",
   "execution_count": 16,
   "metadata": {},
   "outputs": [],
   "source": [
    "clin['BP'] = clin.BloodPressure_LastEDReading.map(bptrans)\n",
    "\n",
    "clin[['systolic', 'diastolic']] = pd.DataFrame(clin.BP.tolist(), index= clin.index)\n",
    "clin[\"Gender\"] = clin.GenderDesc.map(lambda x: 1 if x == \"Male\" else 0)"
   ]
  },
  {
   "cell_type": "code",
   "execution_count": 17,
   "metadata": {},
   "outputs": [],
   "source": [
    "#this is to clean the text in the subjective notes column (a little bit)\n",
    "def fixencode(s):\n",
    "    if pd.isnull(s):\n",
    "        s = \"None\"\n",
    "    s = s[14:]\n",
    "    s =s.replace('<LT><LF>','')\n",
    "    s = s.replace('<LT>LF>','')\n",
    "    s =s.replace('Pt.', 'patient')\n",
    "    s =s.replace('Pt', 'patient')\n",
    "    s = s.lower()\n",
    "    s = s.replace('pt.', 'patient')\n",
    "    s = s.replace('y/o', 'year old')\n",
    "    s = s.replace('c/o', 'complains of')\n",
    "    s = s.replace('sob', 'shortness of breath')\n",
    "    s = s.replace('c/p', 'chest pain')\n",
    "    s = s.replace('hrs', 'hours')\n",
    "    s = s.replace('hx', 'history')\n",
    "    s = s.replace('n/v', 'nausea and/or vomiting')\n",
    "    s = s.replace('a/e', 'air entry')\n",
    "    s = s.replace('a/o', 'alert and oriented')\n",
    "    s = s.replace('a&o', 'alert and oriented')\n",
    "    s = s.replace('d/c', 'discharge')\n",
    "    s = s.replace('u/s', 'ultrasound')\n",
    "    s = s.replace('yrs', 'years')\n",
    "    s = s.replace('lmp', 'last menstrual period')\n",
    "    s = s.replace('w/', 'with')\n",
    "    s = s.replace('@', 'at ')\n",
    "    s = s.replace('b/c', 'because')\n",
    "    s = re.sub(r'\\bpt.','patient ',s)\n",
    "    s = re.sub(r'\\blt.','left ',s)\n",
    "    s = re.sub(r'\\brt.','right ',s)\n",
    "    s = re.sub(r'\\bmd.','doctor ',s)\n",
    "    s = re.sub(r'\\bra\\b','room air ',s)\n",
    "    s = re.sub(r'\\bbp.','blood pressure ',s)\n",
    "    s = re.sub(r'\\bcp.','chest pain ',s)\n",
    "    s = re.sub(r'\\bfd.','family doctor ',s)\n",
    "    s = s.replace('abx', 'antibiotics')\n",
    "    s = s.replace(' htn ', ' hypertension ')\n",
    "    s = re.sub(r'\\btyl\\b', 'tylenol', s)\n",
    "    s = re.sub(r'\\bprn\\b', 'as needed ',s)\n",
    "    s = re.sub(r'\\bvag\\b', 'vaginal ',s)\n",
    "    s = re.sub(r'\\bpo\\b', 'by mouth ',s)\n",
    "    s = re.sub(r'\\bllq\\b', 'left lower quadrant',s)\n",
    "    s = re.sub(r'\\brlq\\b', 'right lower quadrant  ',s)\n",
    "    s = re.sub(r'\\bluq\\b', 'left upper quadrant',s)\n",
    "    s = re.sub(r'\\bruq\\b', 'right upper quadrant  ',s)\n",
    "    s = re.sub(r'\\buti\\b', 'urinary tract infection ',s)\n",
    "    s = re.sub(r'\\brd', 'right digit number',s)\n",
    "    s = re.sub(r'\\bld', 'left digit number',s)\n",
    "    s = re.sub(r'\\br\\b', 'right ',s)\n",
    "    s = re.sub(r'\\bl\\b', 'left ',s)\n",
    "    s = re.sub(r'\\bed\\b', 'emergency department ',s)\n",
    "    s = re.sub(r'\\ber\\b', 'emergency room ',s)\n",
    "    s = re.sub(r'\\bbm\\b', 'bowel movement ',s)\n",
    "    \n",
    "    #remove extra white spaces\n",
    "    s = re.sub(r'\\s+', ' ', s)\n",
    "\n",
    "    #note that what's missing here is removal of punctuation\n",
    "    return s"
   ]
  },
  {
   "cell_type": "code",
   "execution_count": 18,
   "metadata": {},
   "outputs": [],
   "source": [
    "clin['CleanSubjectiveNotes'] = clin.SubjectiveNotes.map(fixencode)"
   ]
  },
  {
   "cell_type": "code",
   "execution_count": 19,
   "metadata": {},
   "outputs": [],
   "source": [
    "history = list(clin['MedicalHistory'].str[16:].astype('str'))"
   ]
  },
  {
   "cell_type": "code",
   "execution_count": 21,
   "metadata": {},
   "outputs": [],
   "source": [
    "#this is to clean the text in the medical history column (a little bit)\n",
    "def fixhx(s):\n",
    "    s =s.replace('<LT><LF>','')\n",
    "    s = s.replace('<LT>LF>','')\n",
    "    s =s.replace('Pt.', 'patient')\n",
    "    s =s.replace('Pt', 'patient')\n",
    "    s = s.lower()\n",
    "    s = s.replace('pt.', 'patient')\n",
    "    s = s.replace('y/o', 'year old')\n",
    "    s = s.replace('c/o', 'complains of')\n",
    "    s = s.replace('sob', 'shortness of breath')\n",
    "    s = s.replace('c/p', 'chest pain')\n",
    "    s = s.replace('hrs', 'hours')\n",
    "    s = s.replace('hx', 'history')\n",
    "    s = s.replace('n/v', 'nausea and/or vomiting')\n",
    "    s = s.replace('a/e', 'air entry')\n",
    "    s = s.replace('a/o', 'alert and oriented')\n",
    "    s = s.replace('a&o', 'alert and oriented')\n",
    "    s = s.replace('d/c', 'discharge')\n",
    "    s = s.replace('u/s', 'ultrasound')\n",
    "    s = s.replace('yrs', 'years')\n",
    "    s = s.replace('lmp', 'last menstrual period')\n",
    "    s = s.replace('w/', 'with')\n",
    "    s = s.replace('@', 'at ')\n",
    "    s = s.replace('b/c', 'because')\n",
    "    s = re.sub(r'\\bpt.','patient ',s)\n",
    "    s = re.sub(r'\\blt.','left ',s)\n",
    "    s = re.sub(r'\\brt.','right ',s)\n",
    "    s = re.sub(r'\\bmd.','doctor ',s)\n",
    "    s = re.sub(r'\\bra\\b','room air ',s)\n",
    "    s = re.sub(r'\\bbp.','blood pressure ',s)\n",
    "    s = re.sub(r'\\bcp.','chest pain ',s)\n",
    "    s = re.sub(r'\\bfd.','family doctor ',s)\n",
    "    s = s.replace('abx', 'antibiotics')\n",
    "    s = s.replace(' htn ', ' hypertension ')\n",
    "    s = re.sub(r'\\btyl\\b', 'tylenol', s)\n",
    "    s = re.sub(r'\\bprn\\b', 'as needed ',s)\n",
    "    s = re.sub(r'\\bvag\\b', 'vaginal ',s)\n",
    "    s = re.sub(r'\\bpo\\b', 'by mouth ',s)\n",
    "    s = re.sub(r'\\bllq\\b', 'left lower quadrant',s)\n",
    "    s = re.sub(r'\\brlq\\b', 'right lower quadrant  ',s)\n",
    "    s = re.sub(r'\\bluq\\b', 'left upper quadrant',s)\n",
    "    s = re.sub(r'\\bruq\\b', 'right upper quadrant  ',s)\n",
    "    s = re.sub(r'\\buti\\b', 'urinary tract infection ',s)\n",
    "    s = re.sub(r'\\brd', 'right digit number',s)\n",
    "    s = re.sub(r'\\bld', 'left digit number',s)\n",
    "    s = re.sub(r'\\br\\b', 'right ',s)\n",
    "    s = re.sub(r'\\bl\\b', 'left ',s)\n",
    "    s = re.sub(r'\\bed\\b', 'emergency department ',s)\n",
    "    s = re.sub(r'\\ber\\b', 'emergency room ',s)\n",
    "    s = re.sub(r'\\bbm\\b', 'bowel movement ',s)\n",
    "    s = re.sub(r'#\\s', 'fracture ', s)\n",
    "    \n",
    "    #remove extra white spaces\n",
    "    s = re.sub(r'\\s+', ' ', s)\n",
    "\n",
    "    #note that what's missing here is removal of punctuation\n",
    "    return s"
   ]
  },
  {
   "cell_type": "code",
   "execution_count": 22,
   "metadata": {},
   "outputs": [],
   "source": [
    "replacements = (',','<LT>LF>', '.')\n",
    "drop_list = ('\"', '?')\n",
    "split_hist = []\n",
    "for item in history:\n",
    "    for r in replacements:\n",
    "        item = item.replace(r, '::')\n",
    "    \n",
    "    item = item.split('::')\n",
    "    \n",
    "    item = [re.sub(r'\\(.*?\\)\\ *', '', s) for s in item]\n",
    "    \n",
    "    item = [fixhx(s) for s in item]\n",
    "    for d in drop_list:\n",
    "        item = [x.replace(d,'') for x in item]\n",
    "    \n",
    "    item = [x.strip().lower() for x in item if x != 'nan']\n",
    "    item = [x for x in item if len(x) > 2]\n",
    "    \n",
    "    item = list(filter(None, item))\n",
    "    \n",
    "    split_hist.append(item)\n",
    "    "
   ]
  },
  {
   "cell_type": "code",
   "execution_count": 23,
   "metadata": {},
   "outputs": [],
   "source": [
    "#rejoining them as a string with diagnoses separated by commas\n",
    "join_hist = [','.join(item) for item in split_hist]"
   ]
  },
  {
   "cell_type": "code",
   "execution_count": 37,
   "metadata": {},
   "outputs": [],
   "source": [
    "comorbids = [len(item) if item != ['no significant medical history'] else 0 for item in split_hist]"
   ]
  },
  {
   "cell_type": "code",
   "execution_count": 24,
   "metadata": {},
   "outputs": [],
   "source": [
    "#replacing empty string with NaN\n",
    "join_hist = [np.nan if item == 'nan' else item for item in join_hist]"
   ]
  },
  {
   "cell_type": "code",
   "execution_count": 25,
   "metadata": {},
   "outputs": [
    {
     "data": {
      "text/plain": [
       "102492"
      ]
     },
     "execution_count": 25,
     "metadata": {},
     "output_type": "execute_result"
    }
   ],
   "source": [
    "len(join_hist)"
   ]
  },
  {
   "cell_type": "code",
   "execution_count": 26,
   "metadata": {},
   "outputs": [],
   "source": [
    "clin['pmhx'] = join_hist"
   ]
  },
  {
   "cell_type": "code",
   "execution_count": 39,
   "metadata": {},
   "outputs": [],
   "source": [
    "clin['num_comorbids'] = comorbids"
   ]
  },
  {
   "cell_type": "markdown",
   "metadata": {},
   "source": [
    "#### making the target cells"
   ]
  },
  {
   "cell_type": "code",
   "execution_count": 45,
   "metadata": {},
   "outputs": [
    {
     "data": {
      "text/plain": [
       "Counter({nan: 92697,\n",
       "         'N.SUR ORTH': 326,\n",
       "         'N.MH CHADI': 113,\n",
       "         'N.SUR SS': 448,\n",
       "         'N.MH CHAD': 157,\n",
       "         'N.MED CARD': 931,\n",
       "         'N.MAU': 1543,\n",
       "         'N.MED ONC': 591,\n",
       "         'N.MED GER': 484,\n",
       "         'N.CC ICU': 122,\n",
       "         'N.SIMCU': 135,\n",
       "         'N.SUR GEN': 714,\n",
       "         'N.MED NEUR': 451,\n",
       "         'N.MED CT': 97,\n",
       "         'N.CC CCU': 292,\n",
       "         'N.ER IN': 670,\n",
       "         'N.MH INTEN': 156,\n",
       "         'N.WC PAED': 860,\n",
       "         'N.MH GER': 42,\n",
       "         'N.MED RESP': 499,\n",
       "         'N.MED SIM': 305,\n",
       "         'N.MH GENC': 38,\n",
       "         'N.MH GENB': 164,\n",
       "         'N.MED SIX': 314,\n",
       "         'N.MED DIAL': 29,\n",
       "         'N.MED CPU': 152,\n",
       "         'N.ERMH IN': 18,\n",
       "         'N.WC POST': 88,\n",
       "         'N.MAIN OR': 1,\n",
       "         'N.CC NICU': 1,\n",
       "         'N.MED FLEX': 4,\n",
       "         'N.MED DSU': 49,\n",
       "         'N.SUR DSU': 1})"
      ]
     },
     "execution_count": 45,
     "metadata": {},
     "output_type": "execute_result"
    }
   ],
   "source": [
    "admit_count= Counter(clin['AdmitLocation']); admit_count"
   ]
  },
  {
   "cell_type": "code",
   "execution_count": 46,
   "metadata": {},
   "outputs": [],
   "source": [
    "clin['outcome'] = clin['AdmitLocation'].astype('str').map(\n",
    "{'N.CC CCU': 'madmit',\n",
    " 'N.CC ICU': 'ICU',\n",
    " 'N.ER IN' : 'madmit',\n",
    " 'N.ERMH IN': 'madmit',\n",
    " 'N.MAU': 'madmit',\n",
    " 'N.MED CARD': 'madmit',\n",
    " 'N.MED CPU': 'madmit',\n",
    " 'N.MED CT': 'madmit',\n",
    " 'N.MED GER': 'madmit',\n",
    " 'N.MED DIAL': 'madmit',\n",
    " 'N.MED NEUR': 'madmit',\n",
    " 'N.MED ONC': 'madmit',\n",
    " 'N.MED RESP': 'madmit',\n",
    " 'N.MED SIM': 'madmit',\n",
    " 'N.MED SIX': 'madmit',\n",
    " 'N.MH CHAD': 'madmit',\n",
    " 'N.MH CHADI': 'madmit',\n",
    " 'N.MH GENB': 'madmit',\n",
    " 'N.MH GER': 'madmit',\n",
    " 'N.MH INTEN': 'madmit',\n",
    " 'N.SIMCU': 'ICU',\n",
    " 'N.SUR GEN': 'sadmit',\n",
    " 'N.SUR ORTH': 'sadmit',\n",
    " 'N.SUR SS': 'sadmit',\n",
    " 'N.WC PAED': 'madmit',\n",
    " 'N.WC POST': 'madmit',\n",
    " 'N.MH GENC': 'madmit',\n",
    " 'N.CC NICU': 'ICU',\n",
    " 'N.WC LD': 'sadmit',\n",
    "  'N.WC LDN': 'sadmit',\n",
    "  'N.MAIN OR': 'sadmit',\n",
    "  'N.MED STTU': 'madmit',\n",
    "  'N.MED FLEX': 'madmit',\n",
    "    'N.MED DSU': 'madmit',\n",
    "    'N.SUR DSU': 'sadmit',\n",
    " 'nan': 'discharge'})"
   ]
  },
  {
   "cell_type": "code",
   "execution_count": 47,
   "metadata": {},
   "outputs": [],
   "source": [
    "#first target columns is based on the admitting location\n",
    "clin['target'] = clin['outcome'].map({'discharge': 1, 'madmit': 2, 'sadmit': 3, 'ICU': 4})"
   ]
  },
  {
   "cell_type": "code",
   "execution_count": 48,
   "metadata": {},
   "outputs": [
    {
     "data": {
      "text/plain": [
       "Counter({'discharge': 92697, 'sadmit': 1490, 'madmit': 8047, 'ICU': 258})"
      ]
     },
     "execution_count": 48,
     "metadata": {},
     "output_type": "execute_result"
    }
   ],
   "source": [
    "outcome_count = Counter(clin['outcome']); outcome_count"
   ]
  },
  {
   "cell_type": "code",
   "execution_count": 49,
   "metadata": {},
   "outputs": [
    {
     "data": {
      "text/plain": [
       "Counter({1: 92697, 3: 1490, 2: 8047, 4: 258})"
      ]
     },
     "execution_count": 49,
     "metadata": {},
     "output_type": "execute_result"
    }
   ],
   "source": [
    "target_count = Counter(clin['target']); target_count"
   ]
  },
  {
   "cell_type": "code",
   "execution_count": 50,
   "metadata": {},
   "outputs": [],
   "source": [
    "clin['service'] = clin['PatientService'].astype('str').map(\n",
    "    {'nan': 'discharge',\n",
    "         'General Surgery': 'sadmit',\n",
    "         'Respirology': 'madmit',\n",
    "         'General Medicine': 'madmit',\n",
    "         'INTENSIVE CARE UNIT': 'ICU',\n",
    "         'Cardiology': 'madmit',\n",
    "         'Oncology': 'madmit',\n",
    "         'Palliative': 'madmit',\n",
    "         'AD PALLIATIVE': 'madmit',\n",
    "         'Genitourinary': 'sadmit',\n",
    "         'Paediatrics': 'madmit',\n",
    "         'Mental Health': 'madmit',\n",
    "         'Orthopaedics': 'sadmit',\n",
    "         'MH Child & Adolescent': 'madmit',\n",
    "         'AD Oncology': 'madmit',\n",
    "         'Neurology': 'madmit',\n",
    "         'ALC General Medicine': 'madmit',\n",
    "         'ALC General Surgery': 'sadmit',\n",
    "         'Acute Care for Elders': 'madmit',\n",
    "         'ALC Neurology': 'madmit',\n",
    "         'ALC Cardiology': 'madmit',\n",
    "         'ALC Respirology': 'madmit',\n",
    "         'ALC Orthopaedics': 'madmit',\n",
    "         'Neonatal Retro Transfers': 'madmit',\n",
    "         'Newborn': 'madmit',\n",
    "         'Obstetrics': 'madmit',\n",
    "         'ALC Oncology': 'madmit',\n",
    "         'AD General Medicine': 'madmit',\n",
    "         'AD Acute Care for Elders': 'madmit',\n",
    "         'AD Respirology': 'madmit',\n",
    "         'ALC ACUTE CARE FOR EDLERS': 'madmit',\n",
    "         'AD Cardiology': 'madmit',\n",
    "         'AD Neurology': 'madmit',\n",
    "         'ALC Palliative': 'madmit',\n",
    "         'AD General Surgery': 'sadmit'})"
   ]
  },
  {
   "cell_type": "code",
   "execution_count": 51,
   "metadata": {},
   "outputs": [
    {
     "data": {
      "text/plain": [
       "Counter({'discharge': 92697, 'sadmit': 1725, 'madmit': 7900, 'ICU': 170})"
      ]
     },
     "execution_count": 51,
     "metadata": {},
     "output_type": "execute_result"
    }
   ],
   "source": [
    "service_count = Counter(clin['service'])\n",
    "service_count"
   ]
  },
  {
   "cell_type": "code",
   "execution_count": 52,
   "metadata": {},
   "outputs": [],
   "source": [
    "#second target is based on the admitting service\n",
    "clin['target2'] = clin['service'].map({'discharge': 1, 'madmit': 2, 'sadmit': 3, 'ICU': 4})"
   ]
  },
  {
   "cell_type": "code",
   "execution_count": 53,
   "metadata": {},
   "outputs": [
    {
     "data": {
      "text/plain": [
       "Counter({1: 92697, 3: 1725, 2: 7900, 4: 170})"
      ]
     },
     "execution_count": 53,
     "metadata": {},
     "output_type": "execute_result"
    }
   ],
   "source": [
    "target2_count = Counter(clin['target2']); target2_count"
   ]
  },
  {
   "cell_type": "code",
   "execution_count": 54,
   "metadata": {},
   "outputs": [
    {
     "data": {
      "text/plain": [
       "{1: 'discharge', 2: 'madmit', 3: 'sadmit', 4: 'ICU'}"
      ]
     },
     "execution_count": 54,
     "metadata": {},
     "output_type": "execute_result"
    }
   ],
   "source": [
    "#creating this for later use to map the numbers in the dataframe column to their original meaning\n",
    "out_dict = {'discharge': 1, 'madmit': 2, 'sadmit': 3, 'ICU': 4}\n",
    "out_dict = {v:k for k,v in out_dict.items()}\n",
    "out_dict"
   ]
  },
  {
   "cell_type": "code",
   "execution_count": 55,
   "metadata": {},
   "outputs": [],
   "source": [
    "#discharge vs. not target\n",
    "clin['discharge'] = clin['outcome'].map({'discharge': 'discharge', 'madmit': 'admit', 'sadmit': 'admit', 'ICU': 'admit'})"
   ]
  },
  {
   "cell_type": "code",
   "execution_count": 56,
   "metadata": {},
   "outputs": [],
   "source": [
    "clin['target3'] = clin['outcome'].map({'discharge': 1, 'madmit': 0, 'sadmit': 0, 'ICU': 0})"
   ]
  },
  {
   "cell_type": "code",
   "execution_count": 57,
   "metadata": {},
   "outputs": [
    {
     "data": {
      "text/plain": [
       "(Counter({'discharge': 92697, 'admit': 9795}), Counter({1: 92697, 0: 9795}))"
      ]
     },
     "execution_count": 57,
     "metadata": {},
     "output_type": "execute_result"
    }
   ],
   "source": [
    "Counter(clin['discharge']), Counter(clin['target3'])"
   ]
  },
  {
   "cell_type": "code",
   "execution_count": 58,
   "metadata": {},
   "outputs": [],
   "source": [
    "#a target for trying to tell apart the inpatient disposition, only in admitted patients\n",
    "clin['dispo']= clin['outcome'].map({'discharge': np.nan, 'madmit': 'madmit', 'sadmit': 'sadmit', 'ICU': 'ICU'})"
   ]
  },
  {
   "cell_type": "code",
   "execution_count": 59,
   "metadata": {},
   "outputs": [],
   "source": [
    "clin['target4'] = clin['dispo'].map({np.nan:np.nan, 'madmit': 1, 'sadmit': 2, 'ICU': 3})\n",
    "#for some reason a can't make a counter out of this without it crashing so I've stopped trying"
   ]
  },
  {
   "cell_type": "code",
   "execution_count": 60,
   "metadata": {},
   "outputs": [
    {
     "data": {
      "text/plain": [
       "(Counter({nan: 92697, 'sadmit': 1490, 'madmit': 8047, 'ICU': 258}),\n",
       " Counter({2.0: 1490, 1.0: 8047, 3.0: 258}))"
      ]
     },
     "execution_count": 60,
     "metadata": {},
     "output_type": "execute_result"
    }
   ],
   "source": [
    "Counter(clin['dispo']), Counter(clin['target4'].dropna())"
   ]
  },
  {
   "cell_type": "code",
   "execution_count": 61,
   "metadata": {},
   "outputs": [],
   "source": [
    "#gonna make a target that is ICU vs other\n",
    "clin['ICUvsother'] = clin['PatientService'][clin['PatientService'] == 'INTENSIVE CARE UNIT']\n",
    "#clin['PatientService']"
   ]
  },
  {
   "cell_type": "code",
   "execution_count": 62,
   "metadata": {},
   "outputs": [],
   "source": [
    "clin['target5'] = clin['ICUvsother'].map({'INTENSIVE CARE UNIT':1, np.nan:0})"
   ]
  },
  {
   "cell_type": "markdown",
   "metadata": {},
   "source": [
    "#### now gonna do the date columns using fast ai"
   ]
  },
  {
   "cell_type": "code",
   "execution_count": 63,
   "metadata": {},
   "outputs": [
    {
     "data": {
      "text/plain": [
       "(102492, 57)"
      ]
     },
     "execution_count": 63,
     "metadata": {},
     "output_type": "execute_result"
    }
   ],
   "source": [
    "clin.shape"
   ]
  },
  {
   "cell_type": "code",
   "execution_count": 64,
   "metadata": {},
   "outputs": [],
   "source": [
    "for col in date_columns:\n",
    "    add_datepart(clin, col, drop = False, time = True)\n",
    "    add_cyclic_datepart(clin, col, time = True)"
   ]
  },
  {
   "cell_type": "code",
   "execution_count": 65,
   "metadata": {},
   "outputs": [
    {
     "data": {
      "text/plain": [
       "(102492, 89)"
      ]
     },
     "execution_count": 65,
     "metadata": {},
     "output_type": "execute_result"
    }
   ],
   "source": [
    "clin.shape"
   ]
  },
  {
   "cell_type": "code",
   "execution_count": 67,
   "metadata": {},
   "outputs": [],
   "source": [
    "clin.to_csv(data_path + '/100kcompleterecords.csv', index = False)"
   ]
  },
  {
   "cell_type": "markdown",
   "metadata": {},
   "source": [
    "#### now on to the fast ai part\n",
    "\n",
    "let's remember this dictionary so we know what the various targets are:\n",
    "\n",
    "outcome: {'discharge': 106689, 'madmit': 12037, 'sadmit': 2061, 'ICU': 479}\n",
    "\n",
    "service: {'discharge': 106689, 'madmit': 12003, 'sadmit': 2278, 'ICU': 296}\n",
    "\n",
    "discharge: {'discharge': 106689, 'admit': 14577}\n",
    "\n",
    "dispo: {nan: 106689, 'madmit': 12037, 'sadmit': 2061, 'ICU': 479})(for admitted patients only, where did they go?\n",
    "\n",
    "ICUvsother:  self explanatory"
   ]
  },
  {
   "cell_type": "code",
   "execution_count": 11,
   "metadata": {},
   "outputs": [],
   "source": [
    "cat_names =[\n",
    " 'Triage Date & TimeIs_month_end',\n",
    " 'Triage Date & TimeIs_month_start',\n",
    " 'Triage Date & TimeIs_quarter_end',\n",
    " 'Triage Date & TimeIs_quarter_start',\n",
    " 'Triage Date & TimeIs_year_end',\n",
    " 'Triage Date & TimeIs_year_start',\n",
    " 'Reg Date & TimeIs_month_end',\n",
    " 'Reg Date & TimeIs_month_start',\n",
    " 'Reg Date & TimeIs_quarter_end',\n",
    " 'Reg Date & TimeIs_quarter_start',\n",
    " 'Reg Date & TimeIs_year_end',\n",
    " 'Reg Date & TimeIs_year_start',\n",
    " 'GenderDesc',\n",
    " 'PresentingComplaintDesc',\n",
    " 'MainDiagnosisCodeDesc',\n",
    " 'Are you feeling feverish or have had shakes or chills in the last 24 hours?',\n",
    " 'Have you ever been isolated/required isolation for an infectious disease when receiving care in a healthcare setting?',\n",
    " 'Do you have a new Rash?',\n",
    " 'Do you have a new onset of Vomiting/Diarrhea in the last 24 hours?',\n",
    " 'Have you travelled outside of Canada/USA in the last 3 weeks?',\n",
    " 'Have you had contact with a sick person who has travelled outside of Canada/USA in the last 3 weeks?',\n",
    " 'Have you received Health Care in another country in the last 2 years?',\n",
    " 'Do you have a new/worse cough or shortness of breath?',\n",
    " 'If so, select all countries that apply',\n",
    " 'If so, select all infectious diseases that apply'\n",
    "]\n"
   ]
  },
  {
   "cell_type": "code",
   "execution_count": 12,
   "metadata": {},
   "outputs": [],
   "source": [
    "cont_names = [\n",
    " 'AgeNumber',\n",
    " 'Triage Date & TimeYear',\n",
    " 'Triage Date & TimeMonth',\n",
    " 'Triage Date & TimeWeek',\n",
    " 'Triage Date & TimeDay',\n",
    " 'Triage Date & TimeDayofweek',\n",
    " 'Triage Date & TimeDayofyear',\n",
    " 'Triage Date & TimeHour',\n",
    " 'Triage Date & TimeMinute',\n",
    " 'Triage Date & TimeSecond',\n",
    " 'Triage Date & TimeElapsed',\n",
    " 'Reg Date & TimeYear',\n",
    " 'Reg Date & TimeMonth',\n",
    " 'Reg Date & TimeWeek',\n",
    " 'Reg Date & TimeDay',\n",
    " 'Reg Date & TimeDayofweek',\n",
    " 'Reg Date & TimeDayofyear',\n",
    " 'Reg Date & TimeHour',\n",
    " 'Reg Date & TimeMinute',\n",
    " 'Reg Date & TimeSecond',\n",
    " 'Reg Date & TimeElapsed',\n",
    " 'num_comorbids']"
   ]
  },
  {
   "cell_type": "code",
   "execution_count": 13,
   "metadata": {},
   "outputs": [],
   "source": [
    "\n",
    "procs = [FillMissing, Categorify, Normalize]"
   ]
  },
  {
   "cell_type": "code",
   "execution_count": 71,
   "metadata": {},
   "outputs": [],
   "source": [
    "test = TabularList.from_df(clin.copy(),cat_names=cat_names, cont_names=cont_names)"
   ]
  },
  {
   "cell_type": "code",
   "execution_count": 72,
   "metadata": {},
   "outputs": [],
   "source": [
    "valid_idxs = random.sample(range(len(clin)), len(clin)//5)"
   ]
  },
  {
   "cell_type": "code",
   "execution_count": 73,
   "metadata": {},
   "outputs": [
    {
     "data": {
      "text/plain": [
       "(102492, 20498)"
      ]
     },
     "execution_count": 73,
     "metadata": {},
     "output_type": "execute_result"
    }
   ],
   "source": [
    "len(test), len(valid_idxs)"
   ]
  },
  {
   "cell_type": "code",
   "execution_count": 40,
   "metadata": {},
   "outputs": [],
   "source": [
    "dep_var = 'discharge'  \n",
    "\n",
    "data = (TabularList.from_df(clin, path=path, cat_names=cat_names, cont_names=cont_names, procs=procs)\n",
    "                           .split_by_idx(valid_idxs)\n",
    "                           .label_from_df(cols=dep_var)\n",
    "                           .add_test(test)\n",
    "                           .databunch())"
   ]
  },
  {
   "cell_type": "code",
   "execution_count": 75,
   "metadata": {},
   "outputs": [],
   "source": [
    "data.save(data_path + '/tabulardb')"
   ]
  },
  {
   "cell_type": "code",
   "execution_count": 41,
   "metadata": {},
   "outputs": [],
   "source": [
    "#f1 = FBeta(beta=1, average = 'weighted')\n",
    "\n",
    "learn = tabular_learner(data, layers=[200,100], metrics=[accuracy])\n",
    "\n",
    "#learn.lr_find()"
   ]
  },
  {
   "cell_type": "code",
   "execution_count": 32,
   "metadata": {},
   "outputs": [
    {
     "data": {
      "image/png": "[encoded data removed]",
      "text/plain": [
       "<Figure size 432x288 with 1 Axes>"
      ]
     },
     "metadata": {
      "needs_background": "light"
     },
     "output_type": "display_data"
    }
   ],
   "source": [
    "learn.recorder.plot()"
   ]
  },
  {
   "cell_type": "code",
   "execution_count": 42,
   "metadata": {},
   "outputs": [
    {
     "data": {
      "text/html": [
       "<table border=\"1\" class=\"dataframe\">\n",
       "  <thead>\n",
       "    <tr style=\"text-align: left;\">\n",
       "      <th>epoch</th>\n",
       "      <th>train_loss</th>\n",
       "      <th>valid_loss</th>\n",
       "      <th>accuracy</th>\n",
       "      <th>time</th>\n",
       "    </tr>\n",
       "  </thead>\n",
       "  <tbody>\n",
       "    <tr>\n",
       "      <td>0</td>\n",
       "      <td>0.201954</td>\n",
       "      <td>0.206436</td>\n",
       "      <td>0.924480</td>\n",
       "      <td>00:22</td>\n",
       "    </tr>\n",
       "    <tr>\n",
       "      <td>1</td>\n",
       "      <td>0.197026</td>\n",
       "      <td>0.197229</td>\n",
       "      <td>0.928530</td>\n",
       "      <td>00:22</td>\n",
       "    </tr>\n",
       "    <tr>\n",
       "      <td>2</td>\n",
       "      <td>0.190437</td>\n",
       "      <td>0.200310</td>\n",
       "      <td>0.929213</td>\n",
       "      <td>00:23</td>\n",
       "    </tr>\n",
       "    <tr>\n",
       "      <td>3</td>\n",
       "      <td>0.187125</td>\n",
       "      <td>0.192430</td>\n",
       "      <td>0.928920</td>\n",
       "      <td>00:23</td>\n",
       "    </tr>\n",
       "    <tr>\n",
       "      <td>4</td>\n",
       "      <td>0.178893</td>\n",
       "      <td>0.192089</td>\n",
       "      <td>0.929115</td>\n",
       "      <td>00:23</td>\n",
       "    </tr>\n",
       "  </tbody>\n",
       "</table>"
      ],
      "text/plain": [
       "<IPython.core.display.HTML object>"
      ]
     },
     "metadata": {},
     "output_type": "display_data"
    }
   ],
   "source": [
    "learn.fit_one_cycle(5, 1e-2)"
   ]
  },
  {
   "cell_type": "code",
   "execution_count": 43,
   "metadata": {},
   "outputs": [
    {
     "data": {
      "image/png": "[encoded data removed]",
      "text/plain": [
       "<Figure size 432x288 with 1 Axes>"
      ]
     },
     "metadata": {
      "needs_background": "light"
     },
     "output_type": "display_data"
    }
   ],
   "source": [
    "learn.recorder.plot_losses()"
   ]
  },
  {
   "cell_type": "code",
   "execution_count": 44,
   "metadata": {},
   "outputs": [],
   "source": [
    "preds, targets = learn.get_preds(DatasetType.Valid) \n",
    "predictions = np.argmax(preds, axis = 1)"
   ]
  },
  {
   "cell_type": "code",
   "execution_count": 45,
   "metadata": {},
   "outputs": [
    {
     "data": {
      "image/png": "[encoded data removed]",
      "text/plain": [
       "<Figure size 360x360 with 2 Axes>"
      ]
     },
     "metadata": {
      "needs_background": "light"
     },
     "output_type": "display_data"
    }
   ],
   "source": [
    "LABELS = data.classes\n",
    "\n",
    "confusion_matrix = sklearn.metrics.confusion_matrix(targets, predictions)\n",
    "\n",
    "plt.figure(figsize=(5, 5))\n",
    "sns.heatmap(confusion_matrix, xticklabels=LABELS, yticklabels=LABELS, annot=True, fmt=\"d\", annot_kws={\"size\": 20});\n",
    "plt.title(\"Confusion matrix\", fontsize=20)\n",
    "plt.ylabel('True label', fontsize=20)\n",
    "plt.xlabel('Predicted label', fontsize=20)\n",
    "plt.show()"
   ]
  },
  {
   "cell_type": "code",
   "execution_count": 46,
   "metadata": {},
   "outputs": [
    {
     "name": "stdout",
     "output_type": "stream",
     "text": [
      "weighted f1:  0.9202600540805654\n",
      "f1:           [0.532045 0.961653]\n",
      "accuracy:     0.9291150356132306\n",
      "precision:    [0.730973 0.940675]\n",
      "recall:       [0.418228 0.983588]\n"
     ]
    }
   ],
   "source": [
    "f1_w = sklearn.metrics.f1_score(targets, predictions, average='weighted')\n",
    "f1 = sklearn.metrics.f1_score(targets, predictions, average=None)\n",
    "acc = sklearn.metrics.accuracy_score(targets, predictions)\n",
    "prec = sklearn.metrics.precision_score(targets,predictions, average = None)\n",
    "rec = sklearn.metrics.recall_score(targets,predictions, average = None)\n",
    "print ('weighted f1: ', f1_w)\n",
    "print ('f1:          ', f1)\n",
    "print ('accuracy:    ', acc)\n",
    "print ('precision:   ', prec)\n",
    "print ('recall:      ', rec)\n"
   ]
  },
  {
   "cell_type": "markdown",
   "metadata": {},
   "source": [
    "#### now gonna try again with a different target - ICU vs other"
   ]
  },
  {
   "cell_type": "code",
   "execution_count": 47,
   "metadata": {},
   "outputs": [],
   "source": [
    "dep_var = 'target5'\n",
    "\n",
    "test = TabularList.from_df(clin.copy(),cat_names=cat_names, cont_names=cont_names)\n",
    "\n",
    "valid_idxs = random.sample(range(len(clin)), len(clin)//5)\n",
    "\n",
    "data = (TabularList.from_df(clin, path=path, cat_names=cat_names, cont_names=cont_names, procs=procs)\n",
    "                           .split_by_idx(valid_idxs)\n",
    "                           .label_from_df(cols=dep_var)\n",
    "                           .add_test(test)\n",
    "                           .databunch())\n",
    "\n",
    "learn2 = tabular_learner(data, layers=[200,100], metrics=[accuracy])"
   ]
  },
  {
   "cell_type": "code",
   "execution_count": 48,
   "metadata": {},
   "outputs": [
    {
     "data": {
      "text/html": [
       "<table border=\"1\" class=\"dataframe\">\n",
       "  <thead>\n",
       "    <tr style=\"text-align: left;\">\n",
       "      <th>epoch</th>\n",
       "      <th>train_loss</th>\n",
       "      <th>valid_loss</th>\n",
       "      <th>accuracy</th>\n",
       "      <th>time</th>\n",
       "    </tr>\n",
       "  </thead>\n",
       "  <tbody>\n",
       "    <tr>\n",
       "      <td>0</td>\n",
       "      <td>0.009135</td>\n",
       "      <td>0.010627</td>\n",
       "      <td>0.998439</td>\n",
       "      <td>00:23</td>\n",
       "    </tr>\n",
       "    <tr>\n",
       "      <td>1</td>\n",
       "      <td>0.013064</td>\n",
       "      <td>0.010234</td>\n",
       "      <td>0.998439</td>\n",
       "      <td>00:23</td>\n",
       "    </tr>\n",
       "    <tr>\n",
       "      <td>2</td>\n",
       "      <td>0.010707</td>\n",
       "      <td>0.009592</td>\n",
       "      <td>0.998439</td>\n",
       "      <td>00:23</td>\n",
       "    </tr>\n",
       "    <tr>\n",
       "      <td>3</td>\n",
       "      <td>0.007843</td>\n",
       "      <td>0.062234</td>\n",
       "      <td>0.998439</td>\n",
       "      <td>00:23</td>\n",
       "    </tr>\n",
       "    <tr>\n",
       "      <td>4</td>\n",
       "      <td>0.006302</td>\n",
       "      <td>0.010187</td>\n",
       "      <td>0.998439</td>\n",
       "      <td>00:23</td>\n",
       "    </tr>\n",
       "  </tbody>\n",
       "</table>"
      ],
      "text/plain": [
       "<IPython.core.display.HTML object>"
      ]
     },
     "metadata": {},
     "output_type": "display_data"
    }
   ],
   "source": [
    "learn2.fit_one_cycle(5, 1e-2)"
   ]
  },
  {
   "cell_type": "code",
   "execution_count": 49,
   "metadata": {},
   "outputs": [],
   "source": [
    "preds, targets = learn2.get_preds(DatasetType.Valid) \n",
    "predictions = np.argmax(preds, axis = 1)"
   ]
  },
  {
   "cell_type": "code",
   "execution_count": 50,
   "metadata": {},
   "outputs": [
    {
     "data": {
      "image/png": "[encoded data removed]",
      "text/plain": [
       "<Figure size 360x360 with 2 Axes>"
      ]
     },
     "metadata": {
      "needs_background": "light"
     },
     "output_type": "display_data"
    }
   ],
   "source": [
    "LABELS = data.classes\n",
    "\n",
    "confusion_matrix = sklearn.metrics.confusion_matrix(targets, predictions)\n",
    "\n",
    "plt.figure(figsize=(5, 5))\n",
    "sns.heatmap(confusion_matrix, xticklabels=LABELS, yticklabels=LABELS, annot=True, fmt=\"d\", annot_kws={\"size\": 20});\n",
    "plt.title(\"Confusion matrix\", fontsize=20)\n",
    "plt.ylabel('True label', fontsize=20)\n",
    "plt.xlabel('Predicted label', fontsize=20)\n",
    "plt.show()"
   ]
  },
  {
   "cell_type": "code",
   "execution_count": 51,
   "metadata": {},
   "outputs": [
    {
     "name": "stdout",
     "output_type": "stream",
     "text": [
      "weighted f1:  0.9977507108556443\n",
      "f1:           [0.999219 0.058824]\n",
      "accuracy:     0.9984388720850814\n",
      "precision:    [0.998488 0.5     ]\n",
      "recall:       [0.999951 0.03125 ]\n"
     ]
    }
   ],
   "source": [
    "f1_w = sklearn.metrics.f1_score(targets, predictions, average='weighted')\n",
    "f1 = sklearn.metrics.f1_score(targets, predictions, average=None)\n",
    "acc = sklearn.metrics.accuracy_score(targets, predictions)\n",
    "prec = sklearn.metrics.precision_score(targets,predictions, average = None)\n",
    "rec = sklearn.metrics.recall_score(targets,predictions, average = None)\n",
    "print ('weighted f1: ', f1_w)\n",
    "print ('f1:          ', f1)\n",
    "print ('accuracy:    ', acc)\n",
    "print ('precision:   ', prec)\n",
    "print ('recall:      ', rec)\n"
   ]
  },
  {
   "cell_type": "code",
   "execution_count": 52,
   "metadata": {},
   "outputs": [],
   "source": [
    "clin = pd.read_csv(data_path + '/100kcompleterecords.csv')"
   ]
  },
  {
   "cell_type": "code",
   "execution_count": 53,
   "metadata": {},
   "outputs": [],
   "source": [
    "dep_var = 'service'\n",
    "\n",
    "test = TabularList.from_df(clin.copy(),cat_names=cat_names, cont_names=cont_names)\n",
    "\n",
    "valid_idxs = random.sample(range(len(clin)), len(clin)//5)\n",
    "\n",
    "data = (TabularList.from_df(clin, path=path, cat_names=cat_names, cont_names=cont_names, procs=procs)\n",
    "                           .split_by_idx(valid_idxs)\n",
    "                           .label_from_df(cols=dep_var)\n",
    "                           .add_test(test)\n",
    "                           .databunch())\n",
    "learn3 = tabular_learner(data, layers=[200,100], metrics=[accuracy])"
   ]
  },
  {
   "cell_type": "code",
   "execution_count": 54,
   "metadata": {},
   "outputs": [
    {
     "data": {
      "text/html": [
       "<table border=\"1\" class=\"dataframe\">\n",
       "  <thead>\n",
       "    <tr style=\"text-align: left;\">\n",
       "      <th>epoch</th>\n",
       "      <th>train_loss</th>\n",
       "      <th>valid_loss</th>\n",
       "      <th>accuracy</th>\n",
       "      <th>time</th>\n",
       "    </tr>\n",
       "  </thead>\n",
       "  <tbody>\n",
       "    <tr>\n",
       "      <td>0</td>\n",
       "      <td>0.247050</td>\n",
       "      <td>0.251622</td>\n",
       "      <td>0.917699</td>\n",
       "      <td>00:24</td>\n",
       "    </tr>\n",
       "    <tr>\n",
       "      <td>1</td>\n",
       "      <td>0.245402</td>\n",
       "      <td>0.242654</td>\n",
       "      <td>0.922041</td>\n",
       "      <td>00:24</td>\n",
       "    </tr>\n",
       "    <tr>\n",
       "      <td>2</td>\n",
       "      <td>0.226665</td>\n",
       "      <td>0.234371</td>\n",
       "      <td>0.924041</td>\n",
       "      <td>00:24</td>\n",
       "    </tr>\n",
       "    <tr>\n",
       "      <td>3</td>\n",
       "      <td>0.212135</td>\n",
       "      <td>0.232763</td>\n",
       "      <td>0.923749</td>\n",
       "      <td>00:24</td>\n",
       "    </tr>\n",
       "    <tr>\n",
       "      <td>4</td>\n",
       "      <td>0.206278</td>\n",
       "      <td>0.233248</td>\n",
       "      <td>0.923993</td>\n",
       "      <td>00:24</td>\n",
       "    </tr>\n",
       "  </tbody>\n",
       "</table>"
      ],
      "text/plain": [
       "<IPython.core.display.HTML object>"
      ]
     },
     "metadata": {},
     "output_type": "display_data"
    }
   ],
   "source": [
    "learn3.fit_one_cycle(5, 1e-2)"
   ]
  },
  {
   "cell_type": "code",
   "execution_count": 55,
   "metadata": {},
   "outputs": [],
   "source": [
    "preds, targets = learn3.get_preds(DatasetType.Valid) \n",
    "predictions = np.argmax(preds, axis = 1)"
   ]
  },
  {
   "cell_type": "code",
   "execution_count": 56,
   "metadata": {},
   "outputs": [
    {
     "data": {
      "image/png": "[encoded data removed]",
      "text/plain": [
       "<Figure size 360x360 with 2 Axes>"
      ]
     },
     "metadata": {
      "needs_background": "light"
     },
     "output_type": "display_data"
    }
   ],
   "source": [
    "LABELS = data.classes\n",
    "\n",
    "confusion_matrix = sklearn.metrics.confusion_matrix(targets, predictions)\n",
    "\n",
    "plt.figure(figsize=(5, 5))\n",
    "sns.heatmap(confusion_matrix, xticklabels=LABELS, yticklabels=LABELS, annot=True, fmt=\"d\", annot_kws={\"size\": 20});\n",
    "plt.title(\"Confusion matrix\", fontsize=20)\n",
    "plt.ylabel('True label', fontsize=20)\n",
    "plt.xlabel('Predicted label', fontsize=20)\n",
    "plt.show()"
   ]
  },
  {
   "cell_type": "code",
   "execution_count": 57,
   "metadata": {},
   "outputs": [
    {
     "name": "stdout",
     "output_type": "stream",
     "text": [
      "weighted f1:  0.913154318648459\n",
      "f1:           [0.       0.960921 0.485966 0.469388]\n",
      "accuracy:     0.9239925846424042\n",
      "precision:    [0.       0.938906 0.681665 0.60262 ]\n",
      "recall:       [0.       0.983993 0.37757  0.384401]\n"
     ]
    }
   ],
   "source": [
    "f1_w = sklearn.metrics.f1_score(targets, predictions, average='weighted')\n",
    "f1 = sklearn.metrics.f1_score(targets, predictions, average=None)\n",
    "acc = sklearn.metrics.accuracy_score(targets, predictions)\n",
    "prec = sklearn.metrics.precision_score(targets,predictions, average = None)\n",
    "rec = sklearn.metrics.recall_score(targets,predictions, average = None)\n",
    "print ('weighted f1: ', f1_w)\n",
    "print ('f1:          ', f1)\n",
    "print ('accuracy:    ', acc)\n",
    "print ('precision:   ', prec)\n",
    "print ('recall:      ', rec)\n"
   ]
  },
  {
   "cell_type": "code",
   "execution_count": 58,
   "metadata": {},
   "outputs": [],
   "source": [
    "dep_var = 'outcome'\n",
    "\n",
    "test = TabularList.from_df(clin.copy(),cat_names=cat_names, cont_names=cont_names)\n",
    "\n",
    "valid_idxs = random.sample(range(len(clin)), len(clin)//5)\n",
    "\n",
    "data = (TabularList.from_df(clin, path=path, cat_names=cat_names, cont_names=cont_names, procs=procs)\n",
    "                           .split_by_idx(valid_idxs)\n",
    "                           .label_from_df(cols=dep_var)\n",
    "                           .add_test(test)\n",
    "                           .databunch())\n",
    "learn4 = tabular_learner(data, layers=[200,100], metrics=[accuracy])"
   ]
  },
  {
   "cell_type": "code",
   "execution_count": 59,
   "metadata": {},
   "outputs": [
    {
     "data": {
      "text/html": [
       "<table border=\"1\" class=\"dataframe\">\n",
       "  <thead>\n",
       "    <tr style=\"text-align: left;\">\n",
       "      <th>epoch</th>\n",
       "      <th>train_loss</th>\n",
       "      <th>valid_loss</th>\n",
       "      <th>accuracy</th>\n",
       "      <th>time</th>\n",
       "    </tr>\n",
       "  </thead>\n",
       "  <tbody>\n",
       "    <tr>\n",
       "      <td>0</td>\n",
       "      <td>0.259874</td>\n",
       "      <td>0.245116</td>\n",
       "      <td>0.922090</td>\n",
       "      <td>00:23</td>\n",
       "    </tr>\n",
       "    <tr>\n",
       "      <td>1</td>\n",
       "      <td>0.243131</td>\n",
       "      <td>0.235890</td>\n",
       "      <td>0.922871</td>\n",
       "      <td>00:24</td>\n",
       "    </tr>\n",
       "    <tr>\n",
       "      <td>2</td>\n",
       "      <td>0.220609</td>\n",
       "      <td>0.242940</td>\n",
       "      <td>0.923310</td>\n",
       "      <td>00:23</td>\n",
       "    </tr>\n",
       "    <tr>\n",
       "      <td>3</td>\n",
       "      <td>0.218350</td>\n",
       "      <td>0.266943</td>\n",
       "      <td>0.922431</td>\n",
       "      <td>00:24</td>\n",
       "    </tr>\n",
       "    <tr>\n",
       "      <td>4</td>\n",
       "      <td>0.204541</td>\n",
       "      <td>0.264989</td>\n",
       "      <td>0.923651</td>\n",
       "      <td>00:23</td>\n",
       "    </tr>\n",
       "  </tbody>\n",
       "</table>"
      ],
      "text/plain": [
       "<IPython.core.display.HTML object>"
      ]
     },
     "metadata": {},
     "output_type": "display_data"
    }
   ],
   "source": [
    "learn4.fit_one_cycle(5, 1e-2)"
   ]
  },
  {
   "cell_type": "code",
   "execution_count": 60,
   "metadata": {},
   "outputs": [],
   "source": [
    "preds, targets = learn4.get_preds(DatasetType.Valid) \n",
    "predictions = np.argmax(preds, axis = 1)"
   ]
  },
  {
   "cell_type": "code",
   "execution_count": 61,
   "metadata": {},
   "outputs": [
    {
     "data": {
      "image/png": "[encoded data removed]",
      "text/plain": [
       "<Figure size 360x360 with 2 Axes>"
      ]
     },
     "metadata": {
      "needs_background": "light"
     },
     "output_type": "display_data"
    }
   ],
   "source": [
    "LABELS = data.classes\n",
    "\n",
    "confusion_matrix = sklearn.metrics.confusion_matrix(targets, predictions)\n",
    "\n",
    "plt.figure(figsize=(5, 5))\n",
    "sns.heatmap(confusion_matrix, xticklabels=LABELS, yticklabels=LABELS, annot=True, fmt=\"d\", annot_kws={\"size\": 20});\n",
    "plt.title(\"Confusion matrix\", fontsize=20)\n",
    "plt.ylabel('True label', fontsize=20)\n",
    "plt.xlabel('Predicted label', fontsize=20)\n",
    "plt.show()"
   ]
  },
  {
   "cell_type": "code",
   "execution_count": 62,
   "metadata": {},
   "outputs": [
    {
     "name": "stdout",
     "output_type": "stream",
     "text": [
      "weighted f1:  0.9141334793413808\n",
      "f1:           [0.       0.961334 0.488479 0.451745]\n",
      "accuracy:     0.9236510879110157\n",
      "precision:    [0.       0.942088 0.640483 0.588235]\n",
      "recall:       [0.       0.981384 0.394786 0.366667]\n"
     ]
    }
   ],
   "source": [
    "f1_w = sklearn.metrics.f1_score(targets, predictions, average='weighted')\n",
    "f1 = sklearn.metrics.f1_score(targets, predictions, average=None)\n",
    "acc = sklearn.metrics.accuracy_score(targets, predictions)\n",
    "prec = sklearn.metrics.precision_score(targets,predictions, average = None)\n",
    "rec = sklearn.metrics.recall_score(targets,predictions, average = None)\n",
    "print ('weighted f1: ', f1_w)\n",
    "print ('f1:          ', f1)\n",
    "print ('accuracy:    ', acc)\n",
    "print ('precision:   ', prec)\n",
    "print ('recall:      ', rec)\n"
   ]
  },
  {
   "cell_type": "code",
   "execution_count": null,
   "metadata": {},
   "outputs": [],
   "source": []
  }
 ],
 "metadata": {
  "kernelspec": {
   "display_name": "Python 3",
   "language": "python",
   "name": "python3"
  },
  "language_info": {
   "codemirror_mode": {
    "name": "ipython",
    "version": 3
   },
   "file_extension": ".py",
   "mimetype": "text/x-python",
   "name": "python",
   "nbconvert_exporter": "python",
   "pygments_lexer": "ipython3",
   "version": "3.6.5"
  }
 },
 "nbformat": 4,
 "nbformat_minor": 2
}
