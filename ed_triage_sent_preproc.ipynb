{
 "cells": [
  {
   "cell_type": "code",
   "execution_count": 1,
   "metadata": {},
   "outputs": [],
   "source": [
    "import pandas as pd\n",
    "import numpy as np\n",
    "from collections import Counter"
   ]
  },
  {
   "cell_type": "code",
   "execution_count": 2,
   "metadata": {},
   "outputs": [],
   "source": [
    "data = pd.read_csv('clean_sentiment_columns.csv')"
   ]
  },
  {
   "cell_type": "code",
   "execution_count": 5,
   "metadata": {},
   "outputs": [
    {
     "data": {
      "text/plain": [
       "Index(['Unnamed: 0', 'outcome', 'subj'], dtype='object')"
      ]
     },
     "execution_count": 5,
     "metadata": {},
     "output_type": "execute_result"
    }
   ],
   "source": [
    "data.columns"
   ]
  },
  {
   "cell_type": "code",
   "execution_count": 7,
   "metadata": {},
   "outputs": [],
   "source": [
    "data.drop(['Unnamed: 0'], axis = 1, inplace = True)"
   ]
  },
  {
   "cell_type": "code",
   "execution_count": 8,
   "metadata": {},
   "outputs": [
    {
     "data": {
      "text/html": [
       "<div>\n",
       "<style scoped>\n",
       "    .dataframe tbody tr th:only-of-type {\n",
       "        vertical-align: middle;\n",
       "    }\n",
       "\n",
       "    .dataframe tbody tr th {\n",
       "        vertical-align: top;\n",
       "    }\n",
       "\n",
       "    .dataframe thead th {\n",
       "        text-align: right;\n",
       "    }\n",
       "</style>\n",
       "<table border=\"1\" class=\"dataframe\">\n",
       "  <thead>\n",
       "    <tr style=\"text-align: right;\">\n",
       "      <th></th>\n",
       "      <th>outcome</th>\n",
       "      <th>subj</th>\n",
       "    </tr>\n",
       "  </thead>\n",
       "  <tbody>\n",
       "    <tr>\n",
       "      <th>0</th>\n",
       "      <td>discharge</td>\n",
       "      <td>pt states that she feels shaky.  pt denies any...</td>\n",
       "    </tr>\n",
       "    <tr>\n",
       "      <th>1</th>\n",
       "      <td>discharge</td>\n",
       "      <td>Pt states no pain.</td>\n",
       "    </tr>\n",
       "    <tr>\n",
       "      <th>2</th>\n",
       "      <td>discharge</td>\n",
       "      <td>denied chest pain</td>\n",
       "    </tr>\n",
       "    <tr>\n",
       "      <th>3</th>\n",
       "      <td>discharge</td>\n",
       "      <td>Denies pain. Eating ED lunch at triage</td>\n",
       "    </tr>\n",
       "    <tr>\n",
       "      <th>4</th>\n",
       "      <td>discharge</td>\n",
       "      <td>pt. c/o pain  on the left wrist and left ankle...</td>\n",
       "    </tr>\n",
       "  </tbody>\n",
       "</table>\n",
       "</div>"
      ],
      "text/plain": [
       "     outcome                                               subj\n",
       "0  discharge  pt states that she feels shaky.  pt denies any...\n",
       "1  discharge                                 Pt states no pain.\n",
       "2  discharge                                  denied chest pain\n",
       "3  discharge             Denies pain. Eating ED lunch at triage\n",
       "4  discharge  pt. c/o pain  on the left wrist and left ankle..."
      ]
     },
     "execution_count": 8,
     "metadata": {},
     "output_type": "execute_result"
    }
   ],
   "source": [
    "data.head()"
   ]
  },
  {
   "cell_type": "code",
   "execution_count": 14,
   "metadata": {},
   "outputs": [],
   "source": [
    "#this is going to take out all the special characters in the list I give\n",
    "data['subj2'] = data['subj'].str.replace('[\"#$%&\\'()*+,.:;<=@[\\\\]^_`{|}~]', \" \")"
   ]
  },
  {
   "cell_type": "code",
   "execution_count": 15,
   "metadata": {},
   "outputs": [],
   "source": [
    "data['subj_words'] = data['subj2'].str.split()"
   ]
  },
  {
   "cell_type": "code",
   "execution_count": 16,
   "metadata": {},
   "outputs": [],
   "source": [
    "data['subj_len'] = data['subj_words'].str.len()"
   ]
  },
  {
   "cell_type": "code",
   "execution_count": 17,
   "metadata": {},
   "outputs": [
    {
     "data": {
      "text/html": [
       "<div>\n",
       "<style scoped>\n",
       "    .dataframe tbody tr th:only-of-type {\n",
       "        vertical-align: middle;\n",
       "    }\n",
       "\n",
       "    .dataframe tbody tr th {\n",
       "        vertical-align: top;\n",
       "    }\n",
       "\n",
       "    .dataframe thead th {\n",
       "        text-align: right;\n",
       "    }\n",
       "</style>\n",
       "<table border=\"1\" class=\"dataframe\">\n",
       "  <thead>\n",
       "    <tr style=\"text-align: right;\">\n",
       "      <th></th>\n",
       "      <th>outcome</th>\n",
       "      <th>subj</th>\n",
       "      <th>subj2</th>\n",
       "      <th>subj_words</th>\n",
       "      <th>subj_len</th>\n",
       "    </tr>\n",
       "  </thead>\n",
       "  <tbody>\n",
       "    <tr>\n",
       "      <th>0</th>\n",
       "      <td>discharge</td>\n",
       "      <td>pt states that she feels shaky.  pt denies any...</td>\n",
       "      <td>pt states that she feels shaky   pt denies any...</td>\n",
       "      <td>[pt, states, that, she, feels, shaky, pt, deni...</td>\n",
       "      <td>10</td>\n",
       "    </tr>\n",
       "    <tr>\n",
       "      <th>1</th>\n",
       "      <td>discharge</td>\n",
       "      <td>Pt states no pain.</td>\n",
       "      <td>Pt states no pain</td>\n",
       "      <td>[Pt, states, no, pain]</td>\n",
       "      <td>4</td>\n",
       "    </tr>\n",
       "    <tr>\n",
       "      <th>2</th>\n",
       "      <td>discharge</td>\n",
       "      <td>denied chest pain</td>\n",
       "      <td>denied chest pain</td>\n",
       "      <td>[denied, chest, pain]</td>\n",
       "      <td>3</td>\n",
       "    </tr>\n",
       "    <tr>\n",
       "      <th>3</th>\n",
       "      <td>discharge</td>\n",
       "      <td>Denies pain. Eating ED lunch at triage</td>\n",
       "      <td>Denies pain  Eating ED lunch at triage</td>\n",
       "      <td>[Denies, pain, Eating, ED, lunch, at, triage]</td>\n",
       "      <td>7</td>\n",
       "    </tr>\n",
       "    <tr>\n",
       "      <th>4</th>\n",
       "      <td>discharge</td>\n",
       "      <td>pt. c/o pain  on the left wrist and left ankle...</td>\n",
       "      <td>pt  c/o pain  on the left wrist and left ankle...</td>\n",
       "      <td>[pt, c/o, pain, on, the, left, wrist, and, lef...</td>\n",
       "      <td>25</td>\n",
       "    </tr>\n",
       "  </tbody>\n",
       "</table>\n",
       "</div>"
      ],
      "text/plain": [
       "     outcome                                               subj  \\\n",
       "0  discharge  pt states that she feels shaky.  pt denies any...   \n",
       "1  discharge                                 Pt states no pain.   \n",
       "2  discharge                                  denied chest pain   \n",
       "3  discharge             Denies pain. Eating ED lunch at triage   \n",
       "4  discharge  pt. c/o pain  on the left wrist and left ankle...   \n",
       "\n",
       "                                               subj2  \\\n",
       "0  pt states that she feels shaky   pt denies any...   \n",
       "1                                 Pt states no pain    \n",
       "2                                  denied chest pain   \n",
       "3             Denies pain  Eating ED lunch at triage   \n",
       "4  pt  c/o pain  on the left wrist and left ankle...   \n",
       "\n",
       "                                          subj_words  subj_len  \n",
       "0  [pt, states, that, she, feels, shaky, pt, deni...        10  \n",
       "1                             [Pt, states, no, pain]         4  \n",
       "2                              [denied, chest, pain]         3  \n",
       "3      [Denies, pain, Eating, ED, lunch, at, triage]         7  \n",
       "4  [pt, c/o, pain, on, the, left, wrist, and, lef...        25  "
      ]
     },
     "execution_count": 17,
     "metadata": {},
     "output_type": "execute_result"
    }
   ],
   "source": [
    "data.head()"
   ]
  },
  {
   "cell_type": "code",
   "execution_count": 18,
   "metadata": {},
   "outputs": [
    {
     "data": {
      "text/plain": [
       "count    110227.000000\n",
       "mean         36.166937\n",
       "std          17.830747\n",
       "min           0.000000\n",
       "25%          24.000000\n",
       "50%          34.000000\n",
       "75%          46.000000\n",
       "max         241.000000\n",
       "Name: subj_len, dtype: float64"
      ]
     },
     "execution_count": 18,
     "metadata": {},
     "output_type": "execute_result"
    }
   ],
   "source": [
    "data['subj_len'].describe()"
   ]
  },
  {
   "cell_type": "code",
   "execution_count": 22,
   "metadata": {},
   "outputs": [
    {
     "name": "stderr",
     "output_type": "stream",
     "text": [
      "[nltk_data] Downloading package stopwords to\n",
      "[nltk_data]     /Users/jjaskolkambp/nltk_data...\n",
      "[nltk_data]   Unzipping corpora/stopwords.zip.\n"
     ]
    },
    {
     "data": {
      "text/plain": [
       "True"
      ]
     },
     "execution_count": 22,
     "metadata": {},
     "output_type": "execute_result"
    }
   ],
   "source": [
    "import nltk\n",
    "from nltk.corpus import stopwords\n",
    "\n",
    "nltk.download('stopwords')"
   ]
  },
  {
   "cell_type": "code",
   "execution_count": 23,
   "metadata": {},
   "outputs": [],
   "source": [
    "stop_words = stopwords.words('english')"
   ]
  },
  {
   "cell_type": "code",
   "execution_count": 24,
   "metadata": {},
   "outputs": [
    {
     "name": "stdout",
     "output_type": "stream",
     "text": [
      "116\n"
     ]
    }
   ],
   "source": [
    "for idx,el in enumerate(stop_words):\n",
    "    if el == 'no':\n",
    "        print (idx)"
   ]
  },
  {
   "cell_type": "code",
   "execution_count": 25,
   "metadata": {},
   "outputs": [
    {
     "data": {
      "text/plain": [
       "'no'"
      ]
     },
     "execution_count": 25,
     "metadata": {},
     "output_type": "execute_result"
    }
   ],
   "source": [
    "stop_words[116]"
   ]
  },
  {
   "cell_type": "code",
   "execution_count": 26,
   "metadata": {},
   "outputs": [
    {
     "data": {
      "text/plain": [
       "'no'"
      ]
     },
     "execution_count": 26,
     "metadata": {},
     "output_type": "execute_result"
    }
   ],
   "source": [
    "stop_words.pop(116)"
   ]
  },
  {
   "cell_type": "code",
   "execution_count": 27,
   "metadata": {},
   "outputs": [],
   "source": [
    "dirty_summaries = list(data['subj_words'])"
   ]
  },
  {
   "cell_type": "code",
   "execution_count": 28,
   "metadata": {},
   "outputs": [
    {
     "data": {
      "text/plain": [
       "110227"
      ]
     },
     "execution_count": 28,
     "metadata": {},
     "output_type": "execute_result"
    }
   ],
   "source": [
    "len(dirty_summaries)"
   ]
  },
  {
   "cell_type": "code",
   "execution_count": 47,
   "metadata": {},
   "outputs": [],
   "source": [
    "clean_summaries = []\n",
    "for summ in dirty_summaries:\n",
    "    temp = [word.lower() for word in summ if word.lower() not in stop_words]\n",
    "    "
   ]
  },
  {
   "cell_type": "code",
   "execution_count": 48,
   "metadata": {},
   "outputs": [],
   "source": [
    "clean_summaries = []\n",
    "for summ in dirty_summaries:\n",
    "    clean_summaries.append([word.lower() for word in summ if word.lower() not in stop_words])"
   ]
  },
  {
   "cell_type": "code",
   "execution_count": 49,
   "metadata": {},
   "outputs": [
    {
     "name": "stdout",
     "output_type": "stream",
     "text": [
      "['pt', 'states', 'that', 'she', 'feels', 'shaky', 'pt', 'denies', 'any', 'pain'] 10\n",
      "['pt', 'states', 'feels', 'shaky', 'pt', 'denies', 'pain'] 7\n",
      "\n",
      "['Pt', 'states', 'no', 'pain'] 4\n",
      "['pt', 'states', 'no', 'pain'] 4\n",
      "\n",
      "['denied', 'chest', 'pain'] 3\n",
      "['denied', 'chest', 'pain'] 3\n",
      "\n",
      "['Denies', 'pain', 'Eating', 'ED', 'lunch', 'at', 'triage'] 7\n",
      "['denies', 'pain', 'eating', 'ed', 'lunch', 'triage'] 6\n",
      "\n",
      "['pt', 'c/o', 'pain', 'on', 'the', 'left', 'wrist', 'and', 'left', 'ankle', 'no', 'obvious', 'deformity', 'with', 'minor', 'laceration', 'in', 'between', 'left', 'thumb', 'and', '2nd', 'digit', 'left', 'finger'] 25\n",
      "['pt', 'c/o', 'pain', 'left', 'wrist', 'left', 'ankle', 'no', 'obvious', 'deformity', 'minor', 'laceration', 'left', 'thumb', '2nd', 'digit', 'left', 'finger'] 18\n",
      "\n",
      "['The', 'patient', 'states', 'his', 'pain', 'is', 'manageable', 'Still', 'shivering-patient', 'was', 'laying', 'on', 'a', 'cold', 'concrete', 'floor', 'Denies', 'any', 'other', 'injuries', 'other', 'then', 'the', 'left', 'leg'] 25\n",
      "['patient', 'states', 'pain', 'manageable', 'still', 'shivering-patient', 'laying', 'cold', 'concrete', 'floor', 'denies', 'injuries', 'left', 'leg'] 14\n",
      "\n",
      "['As', 'per', 'the', 'police', 'the', 'patient-was', 'having', 'an', 'agressive', 'altercation', 'with', 'his', 'mother', 'The', 'patient', 'was', 'to', 'have', 'mentioned', 'to', 'a', 'call', 'taker', 'that', 'he', 'was', 'suicidal', 'The', 'patient', 'has', 'a', 'his', 'of', 'autism', 'and', 'some', 'behaviour', 'issues'] 38\n",
      "['per', 'police', 'patient-was', 'agressive', 'altercation', 'mother', 'patient', 'mentioned', 'call', 'taker', 'suicidal', 'patient', 'autism', 'behaviour', 'issues'] 15\n",
      "\n",
      "['pt', 'states', 'feels', 'weak', 'c/o', 'pain', 'to', 'feet', 'x', '3-4', 'days', 'nauseated'] 12\n",
      "['pt', 'states', 'feels', 'weak', 'c/o', 'pain', 'feet', 'x', '3-4', 'days', 'nauseated'] 11\n",
      "\n",
      "['c/o', 'pain', 'of', 'frontal', 'headache', 'continues', 'to', 'c/o', 'generalized', 'body', 'pain'] 11\n",
      "['c/o', 'pain', 'frontal', 'headache', 'continues', 'c/o', 'generalized', 'body', 'pain'] 9\n",
      "\n",
      "['pt', 'states', 'feels', 'pain', 'is', 'behind', 'his', 'lungs', 'pt', 'states', 'urine', 'is', 'darker', 'than', 'normal', 'states', 'discomfort', 'when', 'voiding'] 19\n",
      "['pt', 'states', 'feels', 'pain', 'behind', 'lungs', 'pt', 'states', 'urine', 'darker', 'normal', 'states', 'discomfort', 'voiding'] 14\n",
      "\n",
      "['Pt', 'states', 'everything', 'is', 'ok', 'Denies', 'any', 'head', 'pain'] 9\n",
      "['pt', 'states', 'everything', 'ok', 'denies', 'head', 'pain'] 7\n",
      "\n",
      "['C/O', 'swelling', 'and', 'tingling', 'to', 'left', 'knee', 'gradually', 'increasing', 'since', '2', 'days', 'Stated', 'no', 'injury', 'to', 'limb', 'Nil', 'trauma', 'Stated', 'pain', 'increases', 'with', 'sitting', 'Walks', 'with', 'a', 'limp', 'Stated', 'otherwise', 'OK', 'Presently', 'on', 'antibiotics', 'for', 'bladder', 'infection', 'and', 'gum', 'abscess'] 40\n",
      "['c/o', 'swelling', 'tingling', 'left', 'knee', 'gradually', 'increasing', 'since', '2', 'days', 'stated', 'no', 'injury', 'limb', 'nil', 'trauma', 'stated', 'pain', 'increases', 'sitting', 'walks', 'limp', 'stated', 'otherwise', 'ok', 'presently', 'antibiotics', 'bladder', 'infection', 'gum', 'abscess'] 31\n",
      "\n",
      "['States', 'she', 'was', 'taking', 'out', 'the', 'garbage', 'when', 'she', 'slipped', 'and', 'fell', 'Denies', 'head', 'injury'] 15\n",
      "['states', 'taking', 'garbage', 'slipped', 'fell', 'denies', 'head', 'injury'] 8\n",
      "\n",
      "['Pt', 'c/o', 'frontal', 'headache', '-', 'greater', 'than', '10/10', 'Denies', 'nausea', 'or', 'vomitting'] 12\n",
      "['pt', 'c/o', 'frontal', 'headache', '-', 'greater', '10/10', 'denies', 'nausea', 'vomitting'] 10\n",
      "\n",
      "['C/o', 'chest', 'heaviness', 'with', 'sweating', 'Pt', 'denies', 'suicidal', 'ideation', 'at', 'present', 'but', 'doesn', 't', 'want', 'to', 'be', 'in', 'this', 'situation', 'Teary', 'at', 'triage'] 23\n",
      "['c/o', 'chest', 'heaviness', 'sweating', 'pt', 'denies', 'suicidal', 'ideation', 'present', 'want', 'situation', 'teary', 'triage'] 13\n",
      "\n",
      "['pt', 'c/o', 'L', 'posterior', 'knee', 'pain', 'since', '3', 'days', 'pain', 'gets', 'worse', 'while', 'walking', 'Pt', 'states', 'that', 'his', 'knee', 'is', 'swollen', 'posteriorly', 'No', 'fall/', 'injury'] 25\n",
      "['pt', 'c/o', 'l', 'posterior', 'knee', 'pain', 'since', '3', 'days', 'pain', 'gets', 'worse', 'walking', 'pt', 'states', 'knee', 'swollen', 'posteriorly', 'no', 'fall/', 'injury'] 21\n",
      "\n",
      "['No', 'other', 'complaints'] 3\n",
      "['no', 'complaints'] 2\n",
      "\n",
      "['Pt', 'was', 'sent', 'to', 'told', 'by', 'family', 'doctor', 'that', 'he', 'needs', 'to', 'go', 'to', 'detox', 'as', 'his', 'liver', 'functions', 'are', 'not', 'very', 'good', 'Pt', 'went', 'to', 'Wilkinson', 'Shelter', 'and', 'was', 'told', 'that', 'he', 'needs', 'to', 'come', 'to', 'ED', 'for', 'medical', 'clearance', 'Pt', 'states', 'last', 'drink', 'was', 'last', 'night', '-', 'reports', 'having', 'a', 'bottle', 'of', 'wine', 'Denies', 'having', 'abdominal', 'pain', 'Vomitted', 'x', '1', 'Denis', 'having', 'any', 'headache', 'Denies', 'any', 'other', 'drug', 'use'] 71\n",
      "['pt', 'sent', 'told', 'family', 'doctor', 'needs', 'go', 'detox', 'liver', 'functions', 'good', 'pt', 'went', 'wilkinson', 'shelter', 'told', 'needs', 'come', 'ed', 'medical', 'clearance', 'pt', 'states', 'last', 'drink', 'last', 'night', '-', 'reports', 'bottle', 'wine', 'denies', 'abdominal', 'pain', 'vomitted', 'x', '1', 'denis', 'headache', 'denies', 'drug', 'use'] 42\n",
      "\n",
      "['Pt', 'denies', 'any', 'pain'] 4\n",
      "['pt', 'denies', 'pain'] 3\n",
      "\n",
      "['Pt', 'denies', 'taking', 'any', 'advil', 'today', 'c/o', 'pain', 'to', 'chest', 'and', 'shoulders', '-', 'states', 'her', 'normal', 'pain'] 17\n",
      "['pt', 'denies', 'taking', 'advil', 'today', 'c/o', 'pain', 'chest', 'shoulders', '-', 'states', 'normal', 'pain'] 13\n",
      "\n",
      "['pt', 'denies', 'any', 'pain'] 4\n",
      "['pt', 'denies', 'pain'] 3\n",
      "\n",
      "['pt', 'sent', 'by', 'fd', 'with', 'a', 'note', 'pt', 'has', 'swelling', 'in', 'right', 'side', 'anal', 'area', 'c', 'o', 'recurrent', 'bloody', 'discharge', 'exam', '2', 'whitish', 'ulcers', 'one', 'in', 'right', 'and', 'another', 'one', 'in', 'left', 'please', 'see', 'note', 'with', 'patients'] 37\n",
      "['pt', 'sent', 'fd', 'note', 'pt', 'swelling', 'right', 'side', 'anal', 'area', 'c', 'recurrent', 'bloody', 'discharge', 'exam', '2', 'whitish', 'ulcers', 'one', 'right', 'another', 'one', 'left', 'please', 'see', 'note', 'patients'] 27\n",
      "\n",
      "['Pt', 'stated', 'ongoing', 'generalized', 'abdominal', 'pain', 'and', 'shortness', 'of', 'breath', 'x', 'fews', 'Symptoms', 'worsened', 'over', 'the', 'few', 'weeks', 'Pt', 'was', 'seen', 'in', 'Parry', 'sound', 'for', 'the', 'same', 'complaint', 'and', 'was', 'discharged', 'home', 'Nausea', 'no', 'vomittng', 'Diarrhea', 'x1', 'today', 'Pain', 'derscribes', 'as', 'pressure', 'radiating', 'to', 'upper', 'left', 'abdominal', 'quads', 'No', 'urinary', 'symptoms', 'Pt', 'stated', 'decreased', 'energy', 'Pt', 'stated', 'diaphoresis', 'at', 'night'] 60\n",
      "['pt', 'stated', 'ongoing', 'generalized', 'abdominal', 'pain', 'shortness', 'breath', 'x', 'fews', 'symptoms', 'worsened', 'weeks', 'pt', 'seen', 'parry', 'sound', 'complaint', 'discharged', 'home', 'nausea', 'no', 'vomittng', 'diarrhea', 'x1', 'today', 'pain', 'derscribes', 'pressure', 'radiating', 'upper', 'left', 'abdominal', 'quads', 'no', 'urinary', 'symptoms', 'pt', 'stated', 'decreased', 'energy', 'pt', 'stated', 'diaphoresis', 'night'] 45\n",
      "\n",
      "['Pt', 'states', 'while', 'in', 'gym', 'class', 'someone', 'ran', 'into', 'her', 'C/o', 'right', 'ankle', 'pain', 'abrasion', 'to', 'right', 'knee', 'bleeding', 'controlled', 'and', 'also', 'c/o', 'left', 'elbow', 'pain', 'Denies', 'numbness', 'of', 'tingling'] 30\n",
      "['pt', 'states', 'gym', 'class', 'someone', 'ran', 'c/o', 'right', 'ankle', 'pain', 'abrasion', 'right', 'knee', 'bleeding', 'controlled', 'also', 'c/o', 'left', 'elbow', 'pain', 'denies', 'numbness', 'tingling'] 23\n",
      "\n",
      "['Pt', 'stated', 'swelling', 'and', 'pain', 'to', 'mid-abdomen', 'x1', 'week', 'Pain', 'describes', 'as', 'sharp', 'radiating', 'to', 'the', 'RLQ', 'Pain', '5/10', 'No', 'nausea', 'no', 'vomiting', 'Pt', 'stated', 'she', 'a', 'miscarriage', 'in', 'January', '2018', 'LMP', 'March', '26/18', 'G1', 'P0'] 36\n",
      "['pt', 'stated', 'swelling', 'pain', 'mid-abdomen', 'x1', 'week', 'pain', 'describes', 'sharp', 'radiating', 'rlq', 'pain', '5/10', 'no', 'nausea', 'no', 'vomiting', 'pt', 'stated', 'miscarriage', 'january', '2018', 'lmp', 'march', '26/18', 'g1', 'p0'] 28\n",
      "\n"
     ]
    }
   ],
   "source": [
    "for i in range(25):\n",
    "    print (dirty_summaries[i], len(dirty_summaries[i]))\n",
    "    print (clean_summaries[i], len(clean_summaries[i]))\n",
    "    print ('')"
   ]
  },
  {
   "cell_type": "code",
   "execution_count": 32,
   "metadata": {},
   "outputs": [
    {
     "data": {
      "text/plain": [
       "['pt',\n",
       " 'c/o',\n",
       " 'pain',\n",
       " 'left',\n",
       " 'wrist',\n",
       " 'left',\n",
       " 'ankle',\n",
       " 'no',\n",
       " 'obvious',\n",
       " 'deformity',\n",
       " 'minor',\n",
       " 'laceration',\n",
       " 'left',\n",
       " 'thumb',\n",
       " '2nd',\n",
       " 'digit',\n",
       " 'left',\n",
       " 'finger']"
      ]
     },
     "execution_count": 32,
     "metadata": {},
     "output_type": "execute_result"
    }
   ],
   "source": [
    "clean_summaries[4]"
   ]
  },
  {
   "cell_type": "code",
   "execution_count": 43,
   "metadata": {},
   "outputs": [],
   "source": [
    "def sf_lookup():\n",
    "    \n",
    "    sf_dict = dict()\n",
    "    sf_dict['pt'] = 'patient'\n",
    "    sf_dict['c/o'] = 'complains'\n",
    "    sf_dict['y/o'] = 'years old'\n",
    "      \n",
    "    return sf_dict\n",
    "\n",
    "sf_dict = sf_lookup()"
   ]
  },
  {
   "cell_type": "code",
   "execution_count": 41,
   "metadata": {},
   "outputs": [],
   "source": [
    "for i in range(len(clean_summaries[4])):\n",
    "    if clean_summaries[4][i] in sf_dict:\n",
    "        clean_summaries[4][i] = sf_dict[clean_summaries[4][i]]\n",
    "        "
   ]
  },
  {
   "cell_type": "code",
   "execution_count": 42,
   "metadata": {},
   "outputs": [
    {
     "data": {
      "text/plain": [
       "['patient',\n",
       " 'complains of',\n",
       " 'pain',\n",
       " 'left',\n",
       " 'wrist',\n",
       " 'left',\n",
       " 'ankle',\n",
       " 'no',\n",
       " 'obvious',\n",
       " 'deformity',\n",
       " 'minor',\n",
       " 'laceration',\n",
       " 'left',\n",
       " 'thumb',\n",
       " '2nd',\n",
       " 'digit',\n",
       " 'left',\n",
       " 'finger']"
      ]
     },
     "execution_count": 42,
     "metadata": {},
     "output_type": "execute_result"
    }
   ],
   "source": [
    "clean_summaries[4]"
   ]
  },
  {
   "cell_type": "code",
   "execution_count": 51,
   "metadata": {},
   "outputs": [],
   "source": [
    "for summ in clean_summaries:\n",
    "    for i in range(len(summ)):\n",
    "        if summ[i] in sf_dict.keys():\n",
    "            summ[i] = sf_dict[summ[i]]"
   ]
  },
  {
   "cell_type": "code",
   "execution_count": 52,
   "metadata": {},
   "outputs": [
    {
     "name": "stdout",
     "output_type": "stream",
     "text": [
      "['patient', 'states', 'feels', 'shaky', 'patient', 'denies', 'pain']\n",
      "['patient', 'states', 'no', 'pain']\n",
      "['denied', 'chest', 'pain']\n",
      "['denies', 'pain', 'eating', 'ed', 'lunch', 'triage']\n",
      "['patient', 'complains', 'pain', 'left', 'wrist', 'left', 'ankle', 'no', 'obvious', 'deformity', 'minor', 'laceration', 'left', 'thumb', '2nd', 'digit', 'left', 'finger']\n",
      "['patient', 'states', 'pain', 'manageable', 'still', 'shivering-patient', 'laying', 'cold', 'concrete', 'floor', 'denies', 'injuries', 'left', 'leg']\n",
      "['per', 'police', 'patient-was', 'agressive', 'altercation', 'mother', 'patient', 'mentioned', 'call', 'taker', 'suicidal', 'patient', 'autism', 'behaviour', 'issues']\n",
      "['patient', 'states', 'feels', 'weak', 'complains', 'pain', 'feet', 'x', '3-4', 'days', 'nauseated']\n",
      "['complains', 'pain', 'frontal', 'headache', 'continues', 'complains', 'generalized', 'body', 'pain']\n",
      "['patient', 'states', 'feels', 'pain', 'behind', 'lungs', 'patient', 'states', 'urine', 'darker', 'normal', 'states', 'discomfort', 'voiding']\n",
      "['patient', 'states', 'everything', 'ok', 'denies', 'head', 'pain']\n",
      "['complains', 'swelling', 'tingling', 'left', 'knee', 'gradually', 'increasing', 'since', '2', 'days', 'stated', 'no', 'injury', 'limb', 'nil', 'trauma', 'stated', 'pain', 'increases', 'sitting', 'walks', 'limp', 'stated', 'otherwise', 'ok', 'presently', 'antibiotics', 'bladder', 'infection', 'gum', 'abscess']\n",
      "['states', 'taking', 'garbage', 'slipped', 'fell', 'denies', 'head', 'injury']\n",
      "['patient', 'complains', 'frontal', 'headache', '-', 'greater', '10/10', 'denies', 'nausea', 'vomitting']\n",
      "['complains', 'chest', 'heaviness', 'sweating', 'patient', 'denies', 'suicidal', 'ideation', 'present', 'want', 'situation', 'teary', 'triage']\n",
      "['patient', 'complains', 'l', 'posterior', 'knee', 'pain', 'since', '3', 'days', 'pain', 'gets', 'worse', 'walking', 'patient', 'states', 'knee', 'swollen', 'posteriorly', 'no', 'fall/', 'injury']\n",
      "['no', 'complaints']\n",
      "['patient', 'sent', 'told', 'family', 'doctor', 'needs', 'go', 'detox', 'liver', 'functions', 'good', 'patient', 'went', 'wilkinson', 'shelter', 'told', 'needs', 'come', 'ed', 'medical', 'clearance', 'patient', 'states', 'last', 'drink', 'last', 'night', '-', 'reports', 'bottle', 'wine', 'denies', 'abdominal', 'pain', 'vomitted', 'x', '1', 'denis', 'headache', 'denies', 'drug', 'use']\n",
      "['patient', 'denies', 'pain']\n",
      "['patient', 'denies', 'taking', 'advil', 'today', 'complains', 'pain', 'chest', 'shoulders', '-', 'states', 'normal', 'pain']\n",
      "['patient', 'denies', 'pain']\n",
      "['patient', 'sent', 'fd', 'note', 'patient', 'swelling', 'right', 'side', 'anal', 'area', 'c', 'recurrent', 'bloody', 'discharge', 'exam', '2', 'whitish', 'ulcers', 'one', 'right', 'another', 'one', 'left', 'please', 'see', 'note', 'patients']\n",
      "['patient', 'stated', 'ongoing', 'generalized', 'abdominal', 'pain', 'shortness', 'breath', 'x', 'fews', 'symptoms', 'worsened', 'weeks', 'patient', 'seen', 'parry', 'sound', 'complaint', 'discharged', 'home', 'nausea', 'no', 'vomittng', 'diarrhea', 'x1', 'today', 'pain', 'derscribes', 'pressure', 'radiating', 'upper', 'left', 'abdominal', 'quads', 'no', 'urinary', 'symptoms', 'patient', 'stated', 'decreased', 'energy', 'patient', 'stated', 'diaphoresis', 'night']\n",
      "['patient', 'states', 'gym', 'class', 'someone', 'ran', 'complains', 'right', 'ankle', 'pain', 'abrasion', 'right', 'knee', 'bleeding', 'controlled', 'also', 'complains', 'left', 'elbow', 'pain', 'denies', 'numbness', 'tingling']\n",
      "['patient', 'stated', 'swelling', 'pain', 'mid-abdomen', 'x1', 'week', 'pain', 'describes', 'sharp', 'radiating', 'rlq', 'pain', '5/10', 'no', 'nausea', 'no', 'vomiting', 'patient', 'stated', 'miscarriage', 'january', '2018', 'lmp', 'march', '26/18', 'g1', 'p0']\n"
     ]
    }
   ],
   "source": [
    "for i in range(25):\n",
    "    print (clean_summaries[i])"
   ]
  },
  {
   "cell_type": "code",
   "execution_count": null,
   "metadata": {},
   "outputs": [],
   "source": []
  }
 ],
 "metadata": {
  "kernelspec": {
   "display_name": "Python [default]",
   "language": "python",
   "name": "python3"
  },
  "language_info": {
   "codemirror_mode": {
    "name": "ipython",
    "version": 3
   },
   "file_extension": ".py",
   "mimetype": "text/x-python",
   "name": "python",
   "nbconvert_exporter": "python",
   "pygments_lexer": "ipython3",
   "version": "3.6.5"
  }
 },
 "nbformat": 4,
 "nbformat_minor": 2
}
