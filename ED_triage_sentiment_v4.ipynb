{
 "cells": [
  {
   "cell_type": "code",
   "execution_count": 1,
   "metadata": {
    "colab": {},
    "colab_type": "code",
    "id": "0rKmiU-fB6BA"
   },
   "outputs": [],
   "source": [
    "from fastai import *\n",
    "from fastai.tabular import *\n",
    "from fastai.text import *"
   ]
  },
  {
   "cell_type": "code",
   "execution_count": 28,
   "metadata": {
    "colab": {},
    "colab_type": "code",
    "id": "onjwHtD5B6BI"
   },
   "outputs": [],
   "source": [
    "%matplotlib inline\n",
    "from sklearn import metrics\n",
    "from sklearn.metrics import confusion_matrix\n",
    "import matplotlib.pyplot as plt\n",
    "import seaborn as sns\n",
    "import os\n",
    "import re\n",
    "from collections import Counter\n",
    "import random"
   ]
  },
  {
   "cell_type": "code",
   "execution_count": 3,
   "metadata": {
    "colab": {},
    "colab_type": "code",
    "id": "Y36LxAswB6BO"
   },
   "outputs": [],
   "source": [
    "#use this cell when working online\n",
    "path = '/floyd/home/ed-triage'\n",
    "data_path = '/floyd/home/data/combined'\n",
    "model_path = 'floyd/home/models'"
   ]
  },
  {
   "cell_type": "code",
   "execution_count": null,
   "metadata": {
    "colab": {},
    "colab_type": "code",
    "id": "1Ml5Kg_CCKX4"
   },
   "outputs": [],
   "source": [
    "#use this cell in google colab\n",
    "from google.colab import drive\n",
    "drive.mount('/content/drive')"
   ]
  },
  {
   "cell_type": "code",
   "execution_count": null,
   "metadata": {
    "colab": {},
    "colab_type": "code",
    "id": "1Ml5Kg_CCKX4"
   },
   "outputs": [],
   "source": [
    "path = '/content/drive/My Drive/ML_data'\n",
    "data = pd.read_csv('/content/drive/My Drive/ML_data/complete_clean_combo_data.csv', index_col = 0,low_memory = False)"
   ]
  },
  {
   "cell_type": "code",
   "execution_count": 4,
   "metadata": {},
   "outputs": [],
   "source": [
    "data = pd.read_csv(data_path + '/complete_clean_combo_data.csv', index_col = 0,low_memory = False)"
   ]
  },
  {
   "cell_type": "code",
   "execution_count": 5,
   "metadata": {
    "colab": {},
    "colab_type": "code",
    "id": "0q-sTwEnB6BW"
   },
   "outputs": [],
   "source": [
    "data = data[['CleanSubjectiveNotes','CleanMedicalHistory', 'outcome', 'target', 'service', 'target2',\n",
    "       'discharge', 'target3', 'dispo', 'target4', 'ICUvsother', 'target5']]"
   ]
  },
  {
   "cell_type": "code",
   "execution_count": 6,
   "metadata": {
    "colab": {
     "base_uri": "https://localhost:8080/",
     "height": 85
    },
    "colab_type": "code",
    "id": "9z8Kbu1KB6BZ",
    "outputId": "813c8d30-7f1e-4919-9240-e6e04493ce4b"
   },
   "outputs": [
    {
     "data": {
      "text/plain": [
       "(Index(['CleanSubjectiveNotes', 'CleanMedicalHistory', 'outcome', 'target',\n",
       "        'service', 'target2', 'discharge', 'target3', 'dispo', 'target4',\n",
       "        'ICUvsother', 'target5'],\n",
       "       dtype='object'), (165957, 12))"
      ]
     },
     "execution_count": 6,
     "metadata": {},
     "output_type": "execute_result"
    }
   ],
   "source": [
    "data.columns, data.shape"
   ]
  },
  {
   "cell_type": "code",
   "execution_count": 7,
   "metadata": {
    "colab": {
     "base_uri": "https://localhost:8080/",
     "height": 326
    },
    "colab_type": "code",
    "id": "RRjZemJiB6Bd",
    "outputId": "4cef61d9-b746-4e79-c23e-688b3eaafc29"
   },
   "outputs": [
    {
     "data": {
      "text/html": [
       "<div>\n",
       "<style scoped>\n",
       "    .dataframe tbody tr th:only-of-type {\n",
       "        vertical-align: middle;\n",
       "    }\n",
       "\n",
       "    .dataframe tbody tr th {\n",
       "        vertical-align: top;\n",
       "    }\n",
       "\n",
       "    .dataframe thead th {\n",
       "        text-align: right;\n",
       "    }\n",
       "</style>\n",
       "<table border=\"1\" class=\"dataframe\">\n",
       "  <thead>\n",
       "    <tr style=\"text-align: right;\">\n",
       "      <th></th>\n",
       "      <th>CleanSubjectiveNotes</th>\n",
       "      <th>CleanMedicalHistory</th>\n",
       "      <th>outcome</th>\n",
       "      <th>target</th>\n",
       "      <th>service</th>\n",
       "      <th>target2</th>\n",
       "      <th>discharge</th>\n",
       "      <th>target3</th>\n",
       "      <th>dispo</th>\n",
       "      <th>target4</th>\n",
       "      <th>ICUvsother</th>\n",
       "      <th>target5</th>\n",
       "    </tr>\n",
       "  </thead>\n",
       "  <tbody>\n",
       "    <tr>\n",
       "      <th>511</th>\n",
       "      <td>complains of central chest tightness since yes...</td>\n",
       "      <td>childhood heart murmur drug abuse</td>\n",
       "      <td>discharge</td>\n",
       "      <td>1.0</td>\n",
       "      <td>discharge</td>\n",
       "      <td>1.0</td>\n",
       "      <td>discharge</td>\n",
       "      <td>1.0</td>\n",
       "      <td>NaN</td>\n",
       "      <td>NaN</td>\n",
       "      <td>NaN</td>\n",
       "      <td>0.0</td>\n",
       "    </tr>\n",
       "    <tr>\n",
       "      <th>754</th>\n",
       "      <td>patient says noted blood in stool yesterday an...</td>\n",
       "      <td>seizure</td>\n",
       "      <td>discharge</td>\n",
       "      <td>1.0</td>\n",
       "      <td>discharge</td>\n",
       "      <td>1.0</td>\n",
       "      <td>discharge</td>\n",
       "      <td>1.0</td>\n",
       "      <td>NaN</td>\n",
       "      <td>NaN</td>\n",
       "      <td>NaN</td>\n",
       "      <td>0.0</td>\n",
       "    </tr>\n",
       "    <tr>\n",
       "      <th>755</th>\n",
       "      <td>right flank pain since morning,on her periods ...</td>\n",
       "      <td>no significant medical history ovarian cyst</td>\n",
       "      <td>discharge</td>\n",
       "      <td>1.0</td>\n",
       "      <td>discharge</td>\n",
       "      <td>1.0</td>\n",
       "      <td>discharge</td>\n",
       "      <td>1.0</td>\n",
       "      <td>NaN</td>\n",
       "      <td>NaN</td>\n",
       "      <td>NaN</td>\n",
       "      <td>0.0</td>\n",
       "    </tr>\n",
       "    <tr>\n",
       "      <th>757</th>\n",
       "      <td>abdo pain onset monday,not seen by family doctor</td>\n",
       "      <td>no significant medical history</td>\n",
       "      <td>discharge</td>\n",
       "      <td>1.0</td>\n",
       "      <td>discharge</td>\n",
       "      <td>1.0</td>\n",
       "      <td>discharge</td>\n",
       "      <td>1.0</td>\n",
       "      <td>NaN</td>\n",
       "      <td>NaN</td>\n",
       "      <td>NaN</td>\n",
       "      <td>0.0</td>\n",
       "    </tr>\n",
       "    <tr>\n",
       "      <th>758</th>\n",
       "      <td>fell last monday landed on ground, \" dizzy\" at...</td>\n",
       "      <td>high cholesterol, 2 stents 2014,low bp</td>\n",
       "      <td>discharge</td>\n",
       "      <td>1.0</td>\n",
       "      <td>discharge</td>\n",
       "      <td>1.0</td>\n",
       "      <td>discharge</td>\n",
       "      <td>1.0</td>\n",
       "      <td>NaN</td>\n",
       "      <td>NaN</td>\n",
       "      <td>NaN</td>\n",
       "      <td>0.0</td>\n",
       "    </tr>\n",
       "  </tbody>\n",
       "</table>\n",
       "</div>"
      ],
      "text/plain": [
       "                                  CleanSubjectiveNotes  \\\n",
       "511  complains of central chest tightness since yes...   \n",
       "754  patient says noted blood in stool yesterday an...   \n",
       "755  right flank pain since morning,on her periods ...   \n",
       "757  abdo pain onset monday,not seen by family doctor    \n",
       "758  fell last monday landed on ground, \" dizzy\" at...   \n",
       "\n",
       "                             CleanMedicalHistory    outcome  target  \\\n",
       "511            childhood heart murmur drug abuse  discharge     1.0   \n",
       "754                                      seizure  discharge     1.0   \n",
       "755  no significant medical history ovarian cyst  discharge     1.0   \n",
       "757               no significant medical history  discharge     1.0   \n",
       "758       high cholesterol, 2 stents 2014,low bp  discharge     1.0   \n",
       "\n",
       "       service  target2  discharge  target3 dispo  target4 ICUvsother  target5  \n",
       "511  discharge      1.0  discharge      1.0   NaN      NaN        NaN      0.0  \n",
       "754  discharge      1.0  discharge      1.0   NaN      NaN        NaN      0.0  \n",
       "755  discharge      1.0  discharge      1.0   NaN      NaN        NaN      0.0  \n",
       "757  discharge      1.0  discharge      1.0   NaN      NaN        NaN      0.0  \n",
       "758  discharge      1.0  discharge      1.0   NaN      NaN        NaN      0.0  "
      ]
     },
     "execution_count": 7,
     "metadata": {},
     "output_type": "execute_result"
    }
   ],
   "source": [
    "data.head()"
   ]
  },
  {
   "cell_type": "code",
   "execution_count": 8,
   "metadata": {
    "colab": {
     "base_uri": "https://localhost:8080/",
     "height": 34
    },
    "colab_type": "code",
    "id": "MfkZyyGBB6Bk",
    "outputId": "cc3f478f-a9f0-4b38-a2f5-c94de0c96638"
   },
   "outputs": [
    {
     "data": {
      "text/plain": [
       "(165433, 12)"
      ]
     },
     "execution_count": 8,
     "metadata": {},
     "output_type": "execute_result"
    }
   ],
   "source": [
    "data.dropna(subset = ['CleanSubjectiveNotes','CleanMedicalHistory'], inplace = True)\n",
    "data.shape"
   ]
  },
  {
   "cell_type": "code",
   "execution_count": 21,
   "metadata": {
    "colab": {
     "base_uri": "https://localhost:8080/",
     "height": 17
    },
    "colab_type": "code",
    "id": "_1sg_t0ZB6Bn",
    "outputId": "deadb23d-bb27-4d59-9673-65895486a4b3"
   },
   "outputs": [],
   "source": [
    "#language model databunch based on full dataset, subjective notes only\n",
    "data_lm = (TextList.from_df(data, cols=['CleanSubjectiveNotes'])\n",
    "                   .split_by_rand_pct(0.2)\n",
    "                   .label_for_lm()\n",
    "                   .databunch())"
   ]
  },
  {
   "cell_type": "code",
   "execution_count": 22,
   "metadata": {
    "colab": {
     "base_uri": "https://localhost:8080/",
     "height": 17
    },
    "colab_type": "code",
    "id": "Q2AjwZIbB6Br",
    "outputId": "3362ae79-666f-4189-d84f-4113f0dc706d"
   },
   "outputs": [],
   "source": [
    "#classification databunch for full dataset and languange model\n",
    "data_clas = (TextList.from_df(data, cols=['CleanSubjectiveNotes'],vocab=data_lm.vocab)\n",
    "                   .split_by_rand_pct(0.2)\n",
    "                   .label_from_df(cols = 'discharge')\n",
    "                   .databunch())"
   ]
  },
  {
   "cell_type": "code",
   "execution_count": 23,
   "metadata": {},
   "outputs": [],
   "source": [
    "data_lm.save('combo_subjnote_lmdb')\n",
    "data_clas.save('combo_subjnote_2clsdb')"
   ]
  },
  {
   "cell_type": "code",
   "execution_count": 13,
   "metadata": {},
   "outputs": [],
   "source": [
    "data_lm = load_data(path,'combo_subjnote_lmdb')\n",
    "data_clas = load_data(path, 'combo_subjnote_2clsdb')"
   ]
  },
  {
   "cell_type": "code",
   "execution_count": 17,
   "metadata": {
    "colab": {
     "base_uri": "https://localhost:8080/",
     "height": 473
    },
    "colab_type": "code",
    "id": "QclezO_SB6Bu",
    "outputId": "bda4caca-c90e-46fd-dc7d-e6bfdbaaa530"
   },
   "outputs": [
    {
     "data": {
      "text/html": [
       "<table border=\"1\" class=\"dataframe\">\n",
       "  <thead>\n",
       "    <tr style=\"text-align: left;\">\n",
       "      <th>epoch</th>\n",
       "      <th>train_loss</th>\n",
       "      <th>valid_loss</th>\n",
       "      <th>accuracy</th>\n",
       "      <th>time</th>\n",
       "    </tr>\n",
       "  </thead>\n",
       "  <tbody>\n",
       "    <tr>\n",
       "      <td>0</td>\n",
       "      <td>3.511308</td>\n",
       "      <td>3.361519</td>\n",
       "      <td>0.337112</td>\n",
       "      <td>01:53</td>\n",
       "    </tr>\n",
       "    <tr>\n",
       "      <td>1</td>\n",
       "      <td>3.350716</td>\n",
       "      <td>3.226523</td>\n",
       "      <td>0.351019</td>\n",
       "      <td>01:51</td>\n",
       "    </tr>\n",
       "    <tr>\n",
       "      <td>2</td>\n",
       "      <td>3.254168</td>\n",
       "      <td>3.184404</td>\n",
       "      <td>0.356153</td>\n",
       "      <td>01:52</td>\n",
       "    </tr>\n",
       "  </tbody>\n",
       "</table>"
      ],
      "text/plain": [
       "<IPython.core.display.HTML object>"
      ]
     },
     "metadata": {},
     "output_type": "display_data"
    },
    {
     "data": {
      "text/html": [
       "<table border=\"1\" class=\"dataframe\">\n",
       "  <thead>\n",
       "    <tr style=\"text-align: left;\">\n",
       "      <th>epoch</th>\n",
       "      <th>train_loss</th>\n",
       "      <th>valid_loss</th>\n",
       "      <th>accuracy</th>\n",
       "      <th>time</th>\n",
       "    </tr>\n",
       "  </thead>\n",
       "  <tbody>\n",
       "    <tr>\n",
       "      <td>0</td>\n",
       "      <td>3.053620</td>\n",
       "      <td>3.013506</td>\n",
       "      <td>0.379458</td>\n",
       "      <td>02:13</td>\n",
       "    </tr>\n",
       "    <tr>\n",
       "      <td>1</td>\n",
       "      <td>2.961339</td>\n",
       "      <td>2.904429</td>\n",
       "      <td>0.395557</td>\n",
       "      <td>02:13</td>\n",
       "    </tr>\n",
       "    <tr>\n",
       "      <td>2</td>\n",
       "      <td>2.805523</td>\n",
       "      <td>2.796406</td>\n",
       "      <td>0.410472</td>\n",
       "      <td>02:13</td>\n",
       "    </tr>\n",
       "    <tr>\n",
       "      <td>3</td>\n",
       "      <td>2.616774</td>\n",
       "      <td>2.713645</td>\n",
       "      <td>0.422722</td>\n",
       "      <td>02:13</td>\n",
       "    </tr>\n",
       "    <tr>\n",
       "      <td>4</td>\n",
       "      <td>2.450129</td>\n",
       "      <td>2.708107</td>\n",
       "      <td>0.425021</td>\n",
       "      <td>02:13</td>\n",
       "    </tr>\n",
       "  </tbody>\n",
       "</table>"
      ],
      "text/plain": [
       "<IPython.core.display.HTML object>"
      ]
     },
     "metadata": {},
     "output_type": "display_data"
    }
   ],
   "source": [
    "lmlearn = language_model_learner(data_lm, arch = AWD_LSTM, drop_mult=0.3)\n",
    "lmlearn.fit_one_cycle(3, 1e-2, moms=(0.8,0.7))\n",
    "lmlearn.unfreeze()\n",
    "lmlearn.fit_one_cycle(5, 1e-2, moms=(0.8,0.7))"
   ]
  },
  {
   "cell_type": "code",
   "execution_count": 18,
   "metadata": {
    "colab": {},
    "colab_type": "code",
    "id": "PoKe5ynuB6Bx",
    "scrolled": true
   },
   "outputs": [],
   "source": [
    "#the above training scheme is good so I'm going to save this as my language model\n",
    "#which is basically saving the embedding matrix from the language modelling nerual network\n",
    "lmlearn.save_encoder(path + '/edsent_v4_enc')"
   ]
  },
  {
   "cell_type": "code",
   "execution_count": 19,
   "metadata": {
    "colab": {},
    "colab_type": "code",
    "id": "F_eZvQfyB6B0",
    "outputId": "fe2f0775-9c8d-4048-c8b6-817e3b0a42e4"
   },
   "outputs": [
    {
     "data": {
      "image/png": "[encoded data removed]",
      "text/plain": [
       "<Figure size 432x288 with 1 Axes>"
      ]
     },
     "metadata": {
      "needs_background": "light"
     },
     "output_type": "display_data"
    }
   ],
   "source": [
    "lmlearn.recorder.plot_losses()"
   ]
  },
  {
   "cell_type": "markdown",
   "metadata": {
    "colab_type": "text",
    "id": "kEinSmmxB6B4"
   },
   "source": [
    "All that work was done to get the best language model I could get which seems to have\n",
    "accuracy of about 48%\n",
    "\n",
    "Now on to training the classifier\n",
    "\n",
    "*** note that the AWD_LSTM is not bidirectional by default.  will try to figure out how to make it so"
   ]
  },
  {
   "cell_type": "code",
   "execution_count": 36,
   "metadata": {
    "colab": {},
    "colab_type": "code",
    "id": "u_aGRjt-B6B5"
   },
   "outputs": [],
   "source": [
    "f1 = FBeta(beta=1, average = 'weighted')\n",
    "def train_triage_classifier(encoder_name, datac = data_clas, datal = data_lm, \n",
    "                            mets = [accuracy,f1], num_cycles = 1, lr = 1e-2, drop_mult = 0.5):\n",
    "    model = text_classifier_learner(datac, metrics = mets, arch = AWD_LSTM, drop_mult=drop_mult)\n",
    "    model = model.to_fp16(clip=0.1)\n",
    "    model.load_encoder(path + '/' + encoder_name)\n",
    "    model.fit_one_cycle(num_cycles, lr, moms=(0.8,0.7))\n",
    "    model.freeze_to(-2)\n",
    "    model.fit_one_cycle(num_cycles, slice(lr/(2.6**4),lr), moms=(0.8,0.7))\n",
    "    model.freeze_to(-3)\n",
    "    model.fit_one_cycle(num_cycles, slice((lr/2)/(2.6**4),(lr/2)), moms=(0.8,0.7))\n",
    "    model.unfreeze()\n",
    "    model.fit_one_cycle(num_cycles*5, slice((lr/100)/(2.6**4),(lr/100)), moms=(0.8,0.7))\n",
    "    model.recorder.plot_losses()\n",
    "    return model"
   ]
  },
  {
   "cell_type": "code",
   "execution_count": 22,
   "metadata": {
    "colab": {},
    "colab_type": "code",
    "id": "kBisfr5aB6B8",
    "outputId": "67bf2555-d522-4d8c-fb62-8560d5af09be"
   },
   "outputs": [
    {
     "data": {
      "text/html": [
       "<table border=\"1\" class=\"dataframe\">\n",
       "  <thead>\n",
       "    <tr style=\"text-align: left;\">\n",
       "      <th>epoch</th>\n",
       "      <th>train_loss</th>\n",
       "      <th>valid_loss</th>\n",
       "      <th>accuracy</th>\n",
       "      <th>f_beta</th>\n",
       "      <th>time</th>\n",
       "    </tr>\n",
       "  </thead>\n",
       "  <tbody>\n",
       "    <tr>\n",
       "      <td>0</td>\n",
       "      <td>0.259393</td>\n",
       "      <td>0.266615</td>\n",
       "      <td>0.902497</td>\n",
       "      <td>0.863880</td>\n",
       "      <td>01:10</td>\n",
       "    </tr>\n",
       "  </tbody>\n",
       "</table>"
      ],
      "text/plain": [
       "<IPython.core.display.HTML object>"
      ]
     },
     "metadata": {},
     "output_type": "display_data"
    },
    {
     "data": {
      "text/html": [
       "<table border=\"1\" class=\"dataframe\">\n",
       "  <thead>\n",
       "    <tr style=\"text-align: left;\">\n",
       "      <th>epoch</th>\n",
       "      <th>train_loss</th>\n",
       "      <th>valid_loss</th>\n",
       "      <th>accuracy</th>\n",
       "      <th>f_beta</th>\n",
       "      <th>time</th>\n",
       "    </tr>\n",
       "  </thead>\n",
       "  <tbody>\n",
       "    <tr>\n",
       "      <td>0</td>\n",
       "      <td>0.275566</td>\n",
       "      <td>0.262841</td>\n",
       "      <td>0.903978</td>\n",
       "      <td>0.866117</td>\n",
       "      <td>01:19</td>\n",
       "    </tr>\n",
       "  </tbody>\n",
       "</table>"
      ],
      "text/plain": [
       "<IPython.core.display.HTML object>"
      ]
     },
     "metadata": {},
     "output_type": "display_data"
    },
    {
     "data": {
      "text/html": [
       "<table border=\"1\" class=\"dataframe\">\n",
       "  <thead>\n",
       "    <tr style=\"text-align: left;\">\n",
       "      <th>epoch</th>\n",
       "      <th>train_loss</th>\n",
       "      <th>valid_loss</th>\n",
       "      <th>accuracy</th>\n",
       "      <th>f_beta</th>\n",
       "      <th>time</th>\n",
       "    </tr>\n",
       "  </thead>\n",
       "  <tbody>\n",
       "    <tr>\n",
       "      <td>0</td>\n",
       "      <td>0.275580</td>\n",
       "      <td>0.262032</td>\n",
       "      <td>0.904068</td>\n",
       "      <td>0.866122</td>\n",
       "      <td>01:59</td>\n",
       "    </tr>\n",
       "  </tbody>\n",
       "</table>"
      ],
      "text/plain": [
       "<IPython.core.display.HTML object>"
      ]
     },
     "metadata": {},
     "output_type": "display_data"
    },
    {
     "data": {
      "text/html": [
       "<table border=\"1\" class=\"dataframe\">\n",
       "  <thead>\n",
       "    <tr style=\"text-align: left;\">\n",
       "      <th>epoch</th>\n",
       "      <th>train_loss</th>\n",
       "      <th>valid_loss</th>\n",
       "      <th>accuracy</th>\n",
       "      <th>f_beta</th>\n",
       "      <th>time</th>\n",
       "    </tr>\n",
       "  </thead>\n",
       "  <tbody>\n",
       "    <tr>\n",
       "      <td>0</td>\n",
       "      <td>0.286219</td>\n",
       "      <td>0.261927</td>\n",
       "      <td>0.904038</td>\n",
       "      <td>0.867065</td>\n",
       "      <td>02:47</td>\n",
       "    </tr>\n",
       "    <tr>\n",
       "      <td>1</td>\n",
       "      <td>0.251020</td>\n",
       "      <td>0.261475</td>\n",
       "      <td>0.904310</td>\n",
       "      <td>0.869359</td>\n",
       "      <td>02:42</td>\n",
       "    </tr>\n",
       "    <tr>\n",
       "      <td>2</td>\n",
       "      <td>0.267621</td>\n",
       "      <td>0.262013</td>\n",
       "      <td>0.903796</td>\n",
       "      <td>0.867437</td>\n",
       "      <td>02:49</td>\n",
       "    </tr>\n",
       "    <tr>\n",
       "      <td>3</td>\n",
       "      <td>0.256632</td>\n",
       "      <td>0.261471</td>\n",
       "      <td>0.903857</td>\n",
       "      <td>0.867939</td>\n",
       "      <td>02:46</td>\n",
       "    </tr>\n",
       "    <tr>\n",
       "      <td>4</td>\n",
       "      <td>0.259642</td>\n",
       "      <td>0.261296</td>\n",
       "      <td>0.904189</td>\n",
       "      <td>0.868418</td>\n",
       "      <td>02:45</td>\n",
       "    </tr>\n",
       "  </tbody>\n",
       "</table>"
      ],
      "text/plain": [
       "<IPython.core.display.HTML object>"
      ]
     },
     "metadata": {},
     "output_type": "display_data"
    },
    {
     "data": {
      "image/png": "[encoded data removed]",
      "text/plain": [
       "<Figure size 432x288 with 1 Axes>"
      ]
     },
     "metadata": {
      "needs_background": "light"
     },
     "output_type": "display_data"
    }
   ],
   "source": [
    "sent_learn = train_triage_classifier('edsent_v4_enc', datac = data_clas, num_cycles = 1, lr = 1e-3)"
   ]
  },
  {
   "cell_type": "code",
   "execution_count": null,
   "metadata": {
    "colab": {},
    "colab_type": "code",
    "id": "1OcQtC64B6B_"
   },
   "outputs": [],
   "source": [
    "preds, targets = sent_learn.get_preds(DatasetType.Valid) \n",
    "predictions = np.argmax(preds, axis = 1) "
   ]
  },
  {
   "cell_type": "code",
   "execution_count": null,
   "metadata": {
    "colab": {},
    "colab_type": "code",
    "id": "NQNNRZnLB6CC",
    "outputId": "66d1d181-160b-4f4c-bc3f-8bfc3470e978"
   },
   "outputs": [
    {
     "data": {
      "image/png": "[encoded data removed]",
      "text/plain": [
       "<Figure size 360x360 with 2 Axes>"
      ]
     },
     "metadata": {
      "tags": []
     },
     "output_type": "display_data"
    }
   ],
   "source": [
    "sns.set(font_scale=2)\n",
    "\n",
    "LABELS = data_clas.classes\n",
    "\n",
    "confusion_matrix = metrics.confusion_matrix(targets, predictions)\n",
    "\n",
    "plt.figure(figsize=(5, 5))\n",
    "sns.heatmap(confusion_matrix, xticklabels=LABELS, yticklabels=LABELS, annot=True, fmt=\"d\", annot_kws={\"size\": 20});\n",
    "plt.title(\"Confusion matrix\", fontsize=20)\n",
    "plt.ylabel('True label', fontsize=20)\n",
    "plt.xlabel('Predicted label', fontsize=20)\n",
    "plt.show()"
   ]
  },
  {
   "cell_type": "code",
   "execution_count": null,
   "metadata": {
    "colab": {},
    "colab_type": "code",
    "id": "6mHZB0ojB6CG",
    "outputId": "9453298c-96ad-4f95-f4ff-1adb9cbe0789"
   },
   "outputs": [
    {
     "name": "stdout",
     "output_type": "stream",
     "text": [
      "weighted f1:  0.8712105081031505\n",
      "f1:           [0.126651 0.950312]\n",
      "accuracy:     0.9059741024131842\n",
      "precision:    [0.586498 0.909732]\n",
      "recall:       [0.070991 0.994683]\n"
     ]
    }
   ],
   "source": [
    "f1_w = sklearn.metrics.f1_score(targets, predictions, average='weighted')\n",
    "f1 = sklearn.metrics.f1_score(targets, predictions, average=None)\n",
    "acc = sklearn.metrics.accuracy_score(targets, predictions)\n",
    "prec = sklearn.metrics.precision_score(targets,predictions, average = None)\n",
    "rec = sklearn.metrics.recall_score(targets,predictions, average = None)\n",
    "print ('weighted f1: ', f1_w)\n",
    "print ('f1:          ', f1)\n",
    "print ('accuracy:    ', acc)\n",
    "print ('precision:   ', prec)\n",
    "print ('recall:      ', rec)"
   ]
  },
  {
   "cell_type": "code",
   "execution_count": 23,
   "metadata": {
    "colab": {},
    "colab_type": "code",
    "id": "e33iQzssB6CI"
   },
   "outputs": [],
   "source": [
    "sent_learn.save(path + '/models/edsentv4')"
   ]
  },
  {
   "cell_type": "code",
   "execution_count": 24,
   "metadata": {},
   "outputs": [
    {
     "data": {
      "text/html": [
       "<table border=\"1\" class=\"dataframe\">\n",
       "  <thead>\n",
       "    <tr style=\"text-align: left;\">\n",
       "      <th>epoch</th>\n",
       "      <th>train_loss</th>\n",
       "      <th>valid_loss</th>\n",
       "      <th>accuracy</th>\n",
       "      <th>f_beta</th>\n",
       "      <th>time</th>\n",
       "    </tr>\n",
       "  </thead>\n",
       "  <tbody>\n",
       "    <tr>\n",
       "      <td>0</td>\n",
       "      <td>0.277756</td>\n",
       "      <td>0.268729</td>\n",
       "      <td>0.902829</td>\n",
       "      <td>0.858972</td>\n",
       "      <td>01:09</td>\n",
       "    </tr>\n",
       "    <tr>\n",
       "      <td>1</td>\n",
       "      <td>0.265370</td>\n",
       "      <td>0.264945</td>\n",
       "      <td>0.903494</td>\n",
       "      <td>0.863294</td>\n",
       "      <td>01:08</td>\n",
       "    </tr>\n",
       "    <tr>\n",
       "      <td>2</td>\n",
       "      <td>0.283726</td>\n",
       "      <td>0.263435</td>\n",
       "      <td>0.903736</td>\n",
       "      <td>0.864547</td>\n",
       "      <td>01:07</td>\n",
       "    </tr>\n",
       "  </tbody>\n",
       "</table>"
      ],
      "text/plain": [
       "<IPython.core.display.HTML object>"
      ]
     },
     "metadata": {},
     "output_type": "display_data"
    },
    {
     "data": {
      "text/html": [
       "<table border=\"1\" class=\"dataframe\">\n",
       "  <thead>\n",
       "    <tr style=\"text-align: left;\">\n",
       "      <th>epoch</th>\n",
       "      <th>train_loss</th>\n",
       "      <th>valid_loss</th>\n",
       "      <th>accuracy</th>\n",
       "      <th>f_beta</th>\n",
       "      <th>time</th>\n",
       "    </tr>\n",
       "  </thead>\n",
       "  <tbody>\n",
       "    <tr>\n",
       "      <td>0</td>\n",
       "      <td>0.276389</td>\n",
       "      <td>0.263135</td>\n",
       "      <td>0.903615</td>\n",
       "      <td>0.865073</td>\n",
       "      <td>01:17</td>\n",
       "    </tr>\n",
       "    <tr>\n",
       "      <td>1</td>\n",
       "      <td>0.283682</td>\n",
       "      <td>0.259857</td>\n",
       "      <td>0.904189</td>\n",
       "      <td>0.867298</td>\n",
       "      <td>01:20</td>\n",
       "    </tr>\n",
       "    <tr>\n",
       "      <td>2</td>\n",
       "      <td>0.260292</td>\n",
       "      <td>0.258930</td>\n",
       "      <td>0.904975</td>\n",
       "      <td>0.869680</td>\n",
       "      <td>01:16</td>\n",
       "    </tr>\n",
       "  </tbody>\n",
       "</table>"
      ],
      "text/plain": [
       "<IPython.core.display.HTML object>"
      ]
     },
     "metadata": {},
     "output_type": "display_data"
    },
    {
     "data": {
      "text/html": [
       "<table border=\"1\" class=\"dataframe\">\n",
       "  <thead>\n",
       "    <tr style=\"text-align: left;\">\n",
       "      <th>epoch</th>\n",
       "      <th>train_loss</th>\n",
       "      <th>valid_loss</th>\n",
       "      <th>accuracy</th>\n",
       "      <th>f_beta</th>\n",
       "      <th>time</th>\n",
       "    </tr>\n",
       "  </thead>\n",
       "  <tbody>\n",
       "    <tr>\n",
       "      <td>0</td>\n",
       "      <td>0.250165</td>\n",
       "      <td>0.259150</td>\n",
       "      <td>0.904703</td>\n",
       "      <td>0.868314</td>\n",
       "      <td>02:02</td>\n",
       "    </tr>\n",
       "    <tr>\n",
       "      <td>1</td>\n",
       "      <td>0.269792</td>\n",
       "      <td>0.259158</td>\n",
       "      <td>0.904461</td>\n",
       "      <td>0.872242</td>\n",
       "      <td>02:07</td>\n",
       "    </tr>\n",
       "    <tr>\n",
       "      <td>2</td>\n",
       "      <td>0.255961</td>\n",
       "      <td>0.258339</td>\n",
       "      <td>0.904794</td>\n",
       "      <td>0.873659</td>\n",
       "      <td>02:02</td>\n",
       "    </tr>\n",
       "  </tbody>\n",
       "</table>"
      ],
      "text/plain": [
       "<IPython.core.display.HTML object>"
      ]
     },
     "metadata": {},
     "output_type": "display_data"
    },
    {
     "data": {
      "text/html": [
       "<table border=\"1\" class=\"dataframe\">\n",
       "  <thead>\n",
       "    <tr style=\"text-align: left;\">\n",
       "      <th>epoch</th>\n",
       "      <th>train_loss</th>\n",
       "      <th>valid_loss</th>\n",
       "      <th>accuracy</th>\n",
       "      <th>f_beta</th>\n",
       "      <th>time</th>\n",
       "    </tr>\n",
       "  </thead>\n",
       "  <tbody>\n",
       "    <tr>\n",
       "      <td>0</td>\n",
       "      <td>0.254742</td>\n",
       "      <td>0.258284</td>\n",
       "      <td>0.905066</td>\n",
       "      <td>0.873383</td>\n",
       "      <td>02:41</td>\n",
       "    </tr>\n",
       "    <tr>\n",
       "      <td>1</td>\n",
       "      <td>0.260624</td>\n",
       "      <td>0.258372</td>\n",
       "      <td>0.905126</td>\n",
       "      <td>0.872415</td>\n",
       "      <td>02:42</td>\n",
       "    </tr>\n",
       "    <tr>\n",
       "      <td>2</td>\n",
       "      <td>0.240468</td>\n",
       "      <td>0.258286</td>\n",
       "      <td>0.905126</td>\n",
       "      <td>0.873876</td>\n",
       "      <td>02:43</td>\n",
       "    </tr>\n",
       "    <tr>\n",
       "      <td>3</td>\n",
       "      <td>0.232615</td>\n",
       "      <td>0.258247</td>\n",
       "      <td>0.905277</td>\n",
       "      <td>0.873479</td>\n",
       "      <td>02:37</td>\n",
       "    </tr>\n",
       "    <tr>\n",
       "      <td>4</td>\n",
       "      <td>0.249535</td>\n",
       "      <td>0.258147</td>\n",
       "      <td>0.904824</td>\n",
       "      <td>0.874647</td>\n",
       "      <td>02:43</td>\n",
       "    </tr>\n",
       "    <tr>\n",
       "      <td>5</td>\n",
       "      <td>0.257192</td>\n",
       "      <td>0.258166</td>\n",
       "      <td>0.905247</td>\n",
       "      <td>0.873790</td>\n",
       "      <td>02:41</td>\n",
       "    </tr>\n",
       "    <tr>\n",
       "      <td>6</td>\n",
       "      <td>0.239226</td>\n",
       "      <td>0.258095</td>\n",
       "      <td>0.904612</td>\n",
       "      <td>0.873744</td>\n",
       "      <td>02:45</td>\n",
       "    </tr>\n",
       "    <tr>\n",
       "      <td>7</td>\n",
       "      <td>0.249006</td>\n",
       "      <td>0.258520</td>\n",
       "      <td>0.904431</td>\n",
       "      <td>0.873949</td>\n",
       "      <td>02:40</td>\n",
       "    </tr>\n",
       "    <tr>\n",
       "      <td>8</td>\n",
       "      <td>0.254939</td>\n",
       "      <td>0.258617</td>\n",
       "      <td>0.905217</td>\n",
       "      <td>0.873064</td>\n",
       "      <td>02:42</td>\n",
       "    </tr>\n",
       "    <tr>\n",
       "      <td>9</td>\n",
       "      <td>0.257687</td>\n",
       "      <td>0.258116</td>\n",
       "      <td>0.904733</td>\n",
       "      <td>0.873783</td>\n",
       "      <td>02:37</td>\n",
       "    </tr>\n",
       "    <tr>\n",
       "      <td>10</td>\n",
       "      <td>0.245993</td>\n",
       "      <td>0.258121</td>\n",
       "      <td>0.905156</td>\n",
       "      <td>0.873690</td>\n",
       "      <td>02:50</td>\n",
       "    </tr>\n",
       "    <tr>\n",
       "      <td>11</td>\n",
       "      <td>0.251069</td>\n",
       "      <td>0.258060</td>\n",
       "      <td>0.905066</td>\n",
       "      <td>0.874766</td>\n",
       "      <td>02:40</td>\n",
       "    </tr>\n",
       "    <tr>\n",
       "      <td>12</td>\n",
       "      <td>0.247446</td>\n",
       "      <td>0.258536</td>\n",
       "      <td>0.904370</td>\n",
       "      <td>0.874229</td>\n",
       "      <td>02:49</td>\n",
       "    </tr>\n",
       "    <tr>\n",
       "      <td>13</td>\n",
       "      <td>0.248480</td>\n",
       "      <td>0.258269</td>\n",
       "      <td>0.905156</td>\n",
       "      <td>0.873814</td>\n",
       "      <td>02:43</td>\n",
       "    </tr>\n",
       "    <tr>\n",
       "      <td>14</td>\n",
       "      <td>0.257364</td>\n",
       "      <td>0.258301</td>\n",
       "      <td>0.904461</td>\n",
       "      <td>0.875077</td>\n",
       "      <td>02:49</td>\n",
       "    </tr>\n",
       "  </tbody>\n",
       "</table>"
      ],
      "text/plain": [
       "<IPython.core.display.HTML object>"
      ]
     },
     "metadata": {},
     "output_type": "display_data"
    },
    {
     "data": {
      "image/png": "[encoded data removed]",
      "text/plain": [
       "<Figure size 432x288 with 1 Axes>"
      ]
     },
     "metadata": {
      "needs_background": "light"
     },
     "output_type": "display_data"
    }
   ],
   "source": [
    "sent_learn = train_triage_classifier('edsent_v4_enc', datac = data_clas, num_cycles = 3, lr = 1e-3)"
   ]
  },
  {
   "cell_type": "code",
   "execution_count": 25,
   "metadata": {
    "colab": {},
    "colab_type": "code",
    "id": "1OcQtC64B6B_"
   },
   "outputs": [],
   "source": [
    "preds, targets = sent_learn.get_preds(DatasetType.Valid) \n",
    "predictions = np.argmax(preds, axis = 1) "
   ]
  },
  {
   "cell_type": "code",
   "execution_count": 26,
   "metadata": {
    "colab": {},
    "colab_type": "code",
    "id": "NQNNRZnLB6CC",
    "outputId": "66d1d181-160b-4f4c-bc3f-8bfc3470e978"
   },
   "outputs": [
    {
     "data": {
      "image/png": "[encoded data removed]",
      "text/plain": [
       "<Figure size 360x360 with 2 Axes>"
      ]
     },
     "metadata": {},
     "output_type": "display_data"
    }
   ],
   "source": [
    "sns.set(font_scale=2)\n",
    "\n",
    "LABELS = data_clas.classes\n",
    "\n",
    "confusion_matrix = metrics.confusion_matrix(targets, predictions)\n",
    "\n",
    "plt.figure(figsize=(5, 5))\n",
    "sns.heatmap(confusion_matrix, xticklabels=LABELS, yticklabels=LABELS, annot=True, fmt=\"d\", annot_kws={\"size\": 20});\n",
    "plt.title(\"Confusion matrix\", fontsize=20)\n",
    "plt.ylabel('True label', fontsize=20)\n",
    "plt.xlabel('Predicted label', fontsize=20)\n",
    "plt.show()"
   ]
  },
  {
   "cell_type": "code",
   "execution_count": 31,
   "metadata": {
    "colab": {},
    "colab_type": "code",
    "id": "6mHZB0ojB6CG",
    "outputId": "9453298c-96ad-4f95-f4ff-1adb9cbe0789"
   },
   "outputs": [
    {
     "name": "stdout",
     "output_type": "stream",
     "text": [
      "weighted f1:  0.8750769565310259\n",
      "f1:           [0.191767 0.94923 ]\n",
      "accuracy:     0.9044611013721816\n",
      "precision:    [0.558036 0.911643]\n",
      "recall:       [0.115776 0.990049]\n"
     ]
    }
   ],
   "source": [
    "f1_w = sklearn.metrics.f1_score(targets, predictions, average='weighted')\n",
    "f1 = sklearn.metrics.f1_score(targets, predictions, average=None)\n",
    "acc = sklearn.metrics.accuracy_score(targets, predictions)\n",
    "prec = sklearn.metrics.precision_score(targets,predictions, average = None)\n",
    "rec = sklearn.metrics.recall_score(targets,predictions, average = None)\n",
    "print ('weighted f1: ', f1_w)\n",
    "print ('f1:          ', f1)\n",
    "print ('accuracy:    ', acc)\n",
    "print ('precision:   ', prec)\n",
    "print ('recall:      ', rec)"
   ]
  },
  {
   "cell_type": "code",
   "execution_count": 38,
   "metadata": {},
   "outputs": [],
   "source": [
    "sent_learn.save(path + '/models/edsentv4_v2')"
   ]
  },
  {
   "cell_type": "markdown",
   "metadata": {},
   "source": [
    "#### the work above was all to create an nlp model for looking at the subjective notes.  now gonna do the same for the medical history and try to ensemble them"
   ]
  },
  {
   "cell_type": "code",
   "execution_count": 32,
   "metadata": {
    "colab": {
     "base_uri": "https://localhost:8080/",
     "height": 17
    },
    "colab_type": "code",
    "id": "_1sg_t0ZB6Bn",
    "outputId": "deadb23d-bb27-4d59-9673-65895486a4b3"
   },
   "outputs": [],
   "source": [
    "#language model databunch based on full dataset, subjective notes only\n",
    "data_lm_2 = (TextList.from_df(data, cols=['CleanMedicalHistory'])\n",
    "                   .split_by_rand_pct(0.2)\n",
    "                   .label_for_lm()\n",
    "                   .databunch())"
   ]
  },
  {
   "cell_type": "code",
   "execution_count": 33,
   "metadata": {
    "colab": {
     "base_uri": "https://localhost:8080/",
     "height": 17
    },
    "colab_type": "code",
    "id": "Q2AjwZIbB6Br",
    "outputId": "3362ae79-666f-4189-d84f-4113f0dc706d"
   },
   "outputs": [],
   "source": [
    "#classification databunch for full dataset and languange model\n",
    "data_clas_2 = (TextList.from_df(data, cols=['CleanMedicalHistory'],vocab=data_lm.vocab)\n",
    "                   .split_by_rand_pct(0.2)\n",
    "                   .label_from_df(cols = 'discharge')\n",
    "                   .databunch())"
   ]
  },
  {
   "cell_type": "code",
   "execution_count": 34,
   "metadata": {},
   "outputs": [],
   "source": [
    "data_lm_2.save('combo_medhx_lmdb')\n",
    "data_clas_2.save('combo_medhx_2clsdb')"
   ]
  },
  {
   "cell_type": "code",
   "execution_count": 35,
   "metadata": {
    "colab": {
     "base_uri": "https://localhost:8080/",
     "height": 473
    },
    "colab_type": "code",
    "id": "QclezO_SB6Bu",
    "outputId": "bda4caca-c90e-46fd-dc7d-e6bfdbaaa530"
   },
   "outputs": [
    {
     "data": {
      "text/html": [
       "<table border=\"1\" class=\"dataframe\">\n",
       "  <thead>\n",
       "    <tr style=\"text-align: left;\">\n",
       "      <th>epoch</th>\n",
       "      <th>train_loss</th>\n",
       "      <th>valid_loss</th>\n",
       "      <th>accuracy</th>\n",
       "      <th>time</th>\n",
       "    </tr>\n",
       "  </thead>\n",
       "  <tbody>\n",
       "    <tr>\n",
       "      <td>0</td>\n",
       "      <td>2.081057</td>\n",
       "      <td>1.668598</td>\n",
       "      <td>0.700098</td>\n",
       "      <td>00:13</td>\n",
       "    </tr>\n",
       "    <tr>\n",
       "      <td>1</td>\n",
       "      <td>1.667581</td>\n",
       "      <td>1.590261</td>\n",
       "      <td>0.706548</td>\n",
       "      <td>00:13</td>\n",
       "    </tr>\n",
       "    <tr>\n",
       "      <td>2</td>\n",
       "      <td>1.584630</td>\n",
       "      <td>1.578842</td>\n",
       "      <td>0.708031</td>\n",
       "      <td>00:13</td>\n",
       "    </tr>\n",
       "  </tbody>\n",
       "</table>"
      ],
      "text/plain": [
       "<IPython.core.display.HTML object>"
      ]
     },
     "metadata": {},
     "output_type": "display_data"
    },
    {
     "data": {
      "text/html": [
       "<table border=\"1\" class=\"dataframe\">\n",
       "  <thead>\n",
       "    <tr style=\"text-align: left;\">\n",
       "      <th>epoch</th>\n",
       "      <th>train_loss</th>\n",
       "      <th>valid_loss</th>\n",
       "      <th>accuracy</th>\n",
       "      <th>time</th>\n",
       "    </tr>\n",
       "  </thead>\n",
       "  <tbody>\n",
       "    <tr>\n",
       "      <td>0</td>\n",
       "      <td>1.556080</td>\n",
       "      <td>1.564435</td>\n",
       "      <td>0.707613</td>\n",
       "      <td>00:16</td>\n",
       "    </tr>\n",
       "    <tr>\n",
       "      <td>1</td>\n",
       "      <td>1.527808</td>\n",
       "      <td>1.533356</td>\n",
       "      <td>0.710440</td>\n",
       "      <td>00:16</td>\n",
       "    </tr>\n",
       "    <tr>\n",
       "      <td>2</td>\n",
       "      <td>1.487894</td>\n",
       "      <td>1.514753</td>\n",
       "      <td>0.712770</td>\n",
       "      <td>00:16</td>\n",
       "    </tr>\n",
       "    <tr>\n",
       "      <td>3</td>\n",
       "      <td>1.417769</td>\n",
       "      <td>1.506455</td>\n",
       "      <td>0.713737</td>\n",
       "      <td>00:16</td>\n",
       "    </tr>\n",
       "    <tr>\n",
       "      <td>4</td>\n",
       "      <td>1.329505</td>\n",
       "      <td>1.518766</td>\n",
       "      <td>0.713416</td>\n",
       "      <td>00:16</td>\n",
       "    </tr>\n",
       "  </tbody>\n",
       "</table>"
      ],
      "text/plain": [
       "<IPython.core.display.HTML object>"
      ]
     },
     "metadata": {},
     "output_type": "display_data"
    }
   ],
   "source": [
    "lmlearn = language_model_learner(data_lm_2, arch = AWD_LSTM, drop_mult=0.3)\n",
    "lmlearn = lmlearn.to_fp16(clip=0.1)\n",
    "lmlearn.fit_one_cycle(3, 1e-2, moms=(0.8,0.7))\n",
    "lmlearn.unfreeze()\n",
    "lmlearn.fit_one_cycle(5, 1e-2, moms=(0.8,0.7))"
   ]
  },
  {
   "cell_type": "code",
   "execution_count": 40,
   "metadata": {},
   "outputs": [],
   "source": [
    "lmlearn.save_encoder(path + '/edsent_v4medhx_enc')"
   ]
  },
  {
   "cell_type": "code",
   "execution_count": 43,
   "metadata": {},
   "outputs": [
    {
     "ename": "RuntimeError",
     "evalue": "Error(s) in loading state_dict for AWD_LSTM:\n\tsize mismatch for encoder.weight: copying a param with shape torch.Size([2886, 400]) from checkpoint, the shape in current model is torch.Size([16378, 400]).\n\tsize mismatch for encoder_dp.emb.weight: copying a param with shape torch.Size([2886, 400]) from checkpoint, the shape in current model is torch.Size([16378, 400]).",
     "output_type": "error",
     "traceback": [
      "\u001b[0;31m---------------------------------------------------------------------------\u001b[0m",
      "\u001b[0;31mRuntimeError\u001b[0m                              Traceback (most recent call last)",
      "\u001b[0;32m<ipython-input-43-4d5ecd6b297b>\u001b[0m in \u001b[0;36m<module>\u001b[0;34m\u001b[0m\n\u001b[0;32m----> 1\u001b[0;31m \u001b[0msent_learn\u001b[0m \u001b[0;34m=\u001b[0m \u001b[0mtrain_triage_classifier\u001b[0m\u001b[0;34m(\u001b[0m\u001b[0;34m'edsent_v4medhx_enc'\u001b[0m\u001b[0;34m,\u001b[0m \u001b[0mdatac\u001b[0m \u001b[0;34m=\u001b[0m \u001b[0mdata_clas_2\u001b[0m\u001b[0;34m,\u001b[0m \u001b[0mdatal\u001b[0m \u001b[0;34m=\u001b[0m \u001b[0mdata_lm_2\u001b[0m\u001b[0;34m,\u001b[0m \u001b[0mnum_cycles\u001b[0m \u001b[0;34m=\u001b[0m \u001b[0;36m1\u001b[0m\u001b[0;34m,\u001b[0m \u001b[0mlr\u001b[0m \u001b[0;34m=\u001b[0m \u001b[0;36m1e-3\u001b[0m\u001b[0;34m)\u001b[0m\u001b[0;34m\u001b[0m\u001b[0m\n\u001b[0m",
      "\u001b[0;32m<ipython-input-36-41f5f2b066e9>\u001b[0m in \u001b[0;36mtrain_triage_classifier\u001b[0;34m(encoder_name, datac, datal, mets, num_cycles, lr, drop_mult)\u001b[0m\n\u001b[1;32m      4\u001b[0m     \u001b[0mmodel\u001b[0m \u001b[0;34m=\u001b[0m \u001b[0mtext_classifier_learner\u001b[0m\u001b[0;34m(\u001b[0m\u001b[0mdatac\u001b[0m\u001b[0;34m,\u001b[0m \u001b[0mmetrics\u001b[0m \u001b[0;34m=\u001b[0m \u001b[0mmets\u001b[0m\u001b[0;34m,\u001b[0m \u001b[0march\u001b[0m \u001b[0;34m=\u001b[0m \u001b[0mAWD_LSTM\u001b[0m\u001b[0;34m,\u001b[0m \u001b[0mdrop_mult\u001b[0m\u001b[0;34m=\u001b[0m\u001b[0mdrop_mult\u001b[0m\u001b[0;34m)\u001b[0m\u001b[0;34m\u001b[0m\u001b[0m\n\u001b[1;32m      5\u001b[0m     \u001b[0mmodel\u001b[0m \u001b[0;34m=\u001b[0m \u001b[0mmodel\u001b[0m\u001b[0;34m.\u001b[0m\u001b[0mto_fp16\u001b[0m\u001b[0;34m(\u001b[0m\u001b[0mclip\u001b[0m\u001b[0;34m=\u001b[0m\u001b[0;36m0.1\u001b[0m\u001b[0;34m)\u001b[0m\u001b[0;34m\u001b[0m\u001b[0m\n\u001b[0;32m----> 6\u001b[0;31m     \u001b[0mmodel\u001b[0m\u001b[0;34m.\u001b[0m\u001b[0mload_encoder\u001b[0m\u001b[0;34m(\u001b[0m\u001b[0mpath\u001b[0m \u001b[0;34m+\u001b[0m \u001b[0;34m'/'\u001b[0m \u001b[0;34m+\u001b[0m \u001b[0mencoder_name\u001b[0m\u001b[0;34m)\u001b[0m\u001b[0;34m\u001b[0m\u001b[0m\n\u001b[0m\u001b[1;32m      7\u001b[0m     \u001b[0mmodel\u001b[0m\u001b[0;34m.\u001b[0m\u001b[0mfit_one_cycle\u001b[0m\u001b[0;34m(\u001b[0m\u001b[0mnum_cycles\u001b[0m\u001b[0;34m,\u001b[0m \u001b[0mlr\u001b[0m\u001b[0;34m,\u001b[0m \u001b[0mmoms\u001b[0m\u001b[0;34m=\u001b[0m\u001b[0;34m(\u001b[0m\u001b[0;36m0.8\u001b[0m\u001b[0;34m,\u001b[0m\u001b[0;36m0.7\u001b[0m\u001b[0;34m)\u001b[0m\u001b[0;34m)\u001b[0m\u001b[0;34m\u001b[0m\u001b[0m\n\u001b[1;32m      8\u001b[0m     \u001b[0mmodel\u001b[0m\u001b[0;34m.\u001b[0m\u001b[0mfreeze_to\u001b[0m\u001b[0;34m(\u001b[0m\u001b[0;34m-\u001b[0m\u001b[0;36m2\u001b[0m\u001b[0;34m)\u001b[0m\u001b[0;34m\u001b[0m\u001b[0m\n",
      "\u001b[0;32m/usr/local/lib/python3.6/site-packages/fastai/text/learner.py\u001b[0m in \u001b[0;36mload_encoder\u001b[0;34m(self, name, device)\u001b[0m\n\u001b[1;32m     66\u001b[0m         \u001b[0;32mif\u001b[0m \u001b[0mdevice\u001b[0m \u001b[0;32mis\u001b[0m \u001b[0;32mNone\u001b[0m\u001b[0;34m:\u001b[0m \u001b[0mdevice\u001b[0m \u001b[0;34m=\u001b[0m \u001b[0mself\u001b[0m\u001b[0;34m.\u001b[0m\u001b[0mdata\u001b[0m\u001b[0;34m.\u001b[0m\u001b[0mdevice\u001b[0m\u001b[0;34m\u001b[0m\u001b[0m\n\u001b[1;32m     67\u001b[0m         \u001b[0;32mif\u001b[0m \u001b[0mhasattr\u001b[0m\u001b[0;34m(\u001b[0m\u001b[0mencoder\u001b[0m\u001b[0;34m,\u001b[0m \u001b[0;34m'module'\u001b[0m\u001b[0;34m)\u001b[0m\u001b[0;34m:\u001b[0m \u001b[0mencoder\u001b[0m \u001b[0;34m=\u001b[0m \u001b[0mencoder\u001b[0m\u001b[0;34m.\u001b[0m\u001b[0mmodule\u001b[0m\u001b[0;34m\u001b[0m\u001b[0m\n\u001b[0;32m---> 68\u001b[0;31m         \u001b[0mencoder\u001b[0m\u001b[0;34m.\u001b[0m\u001b[0mload_state_dict\u001b[0m\u001b[0;34m(\u001b[0m\u001b[0mtorch\u001b[0m\u001b[0;34m.\u001b[0m\u001b[0mload\u001b[0m\u001b[0;34m(\u001b[0m\u001b[0mself\u001b[0m\u001b[0;34m.\u001b[0m\u001b[0mpath\u001b[0m\u001b[0;34m/\u001b[0m\u001b[0mself\u001b[0m\u001b[0;34m.\u001b[0m\u001b[0mmodel_dir\u001b[0m\u001b[0;34m/\u001b[0m\u001b[0;34mf'{name}.pth'\u001b[0m\u001b[0;34m)\u001b[0m\u001b[0;34m)\u001b[0m\u001b[0;34m\u001b[0m\u001b[0m\n\u001b[0m\u001b[1;32m     69\u001b[0m         \u001b[0mencoder\u001b[0m\u001b[0;34m.\u001b[0m\u001b[0mload_state_dict\u001b[0m\u001b[0;34m(\u001b[0m\u001b[0mtorch\u001b[0m\u001b[0;34m.\u001b[0m\u001b[0mload\u001b[0m\u001b[0;34m(\u001b[0m\u001b[0mself\u001b[0m\u001b[0;34m.\u001b[0m\u001b[0mpath\u001b[0m\u001b[0;34m/\u001b[0m\u001b[0mself\u001b[0m\u001b[0;34m.\u001b[0m\u001b[0mmodel_dir\u001b[0m\u001b[0;34m/\u001b[0m\u001b[0;34mf'{name}.pth'\u001b[0m\u001b[0;34m,\u001b[0m \u001b[0mmap_location\u001b[0m\u001b[0;34m=\u001b[0m\u001b[0mdevice\u001b[0m\u001b[0;34m)\u001b[0m\u001b[0;34m)\u001b[0m\u001b[0;34m\u001b[0m\u001b[0m\n\u001b[1;32m     70\u001b[0m         \u001b[0mself\u001b[0m\u001b[0;34m.\u001b[0m\u001b[0mfreeze\u001b[0m\u001b[0;34m(\u001b[0m\u001b[0;34m)\u001b[0m\u001b[0;34m\u001b[0m\u001b[0m\n",
      "\u001b[0;32m/usr/local/lib/python3.6/site-packages/torch/nn/modules/module.py\u001b[0m in \u001b[0;36mload_state_dict\u001b[0;34m(self, state_dict, strict)\u001b[0m\n\u001b[1;32m    767\u001b[0m         \u001b[0;32mif\u001b[0m \u001b[0mlen\u001b[0m\u001b[0;34m(\u001b[0m\u001b[0merror_msgs\u001b[0m\u001b[0;34m)\u001b[0m \u001b[0;34m>\u001b[0m \u001b[0;36m0\u001b[0m\u001b[0;34m:\u001b[0m\u001b[0;34m\u001b[0m\u001b[0m\n\u001b[1;32m    768\u001b[0m             raise RuntimeError('Error(s) in loading state_dict for {}:\\n\\t{}'.format(\n\u001b[0;32m--> 769\u001b[0;31m                                self.__class__.__name__, \"\\n\\t\".join(error_msgs)))\n\u001b[0m\u001b[1;32m    770\u001b[0m \u001b[0;34m\u001b[0m\u001b[0m\n\u001b[1;32m    771\u001b[0m     \u001b[0;32mdef\u001b[0m \u001b[0m_named_members\u001b[0m\u001b[0;34m(\u001b[0m\u001b[0mself\u001b[0m\u001b[0;34m,\u001b[0m \u001b[0mget_members_fn\u001b[0m\u001b[0;34m,\u001b[0m \u001b[0mprefix\u001b[0m\u001b[0;34m=\u001b[0m\u001b[0;34m''\u001b[0m\u001b[0;34m,\u001b[0m \u001b[0mrecurse\u001b[0m\u001b[0;34m=\u001b[0m\u001b[0;32mTrue\u001b[0m\u001b[0;34m)\u001b[0m\u001b[0;34m:\u001b[0m\u001b[0;34m\u001b[0m\u001b[0m\n",
      "\u001b[0;31mRuntimeError\u001b[0m: Error(s) in loading state_dict for AWD_LSTM:\n\tsize mismatch for encoder.weight: copying a param with shape torch.Size([2886, 400]) from checkpoint, the shape in current model is torch.Size([16378, 400]).\n\tsize mismatch for encoder_dp.emb.weight: copying a param with shape torch.Size([2886, 400]) from checkpoint, the shape in current model is torch.Size([16378, 400])."
     ]
    }
   ],
   "source": [
    "sent_learn = train_triage_classifier('edsent_v4medhx_enc', datac = data_clas_2, datal = data_lm_2, num_cycles = 1, lr = 1e-3)"
   ]
  },
  {
   "cell_type": "code",
   "execution_count": null,
   "metadata": {},
   "outputs": [],
   "source": []
  }
 ],
 "metadata": {
  "colab": {
   "collapsed_sections": [],
   "name": "ED_triage_sentiment-v4.ipynb",
   "provenance": [],
   "toc_visible": true
  },
  "kernelspec": {
   "display_name": "Python 3",
   "language": "python",
   "name": "python3"
  },
  "language_info": {
   "codemirror_mode": {
    "name": "ipython",
    "version": 3
   },
   "file_extension": ".py",
   "mimetype": "text/x-python",
   "name": "python",
   "nbconvert_exporter": "python",
   "pygments_lexer": "ipython3",
   "version": "3.6.5"
  }
 },
 "nbformat": 4,
 "nbformat_minor": 2
}
