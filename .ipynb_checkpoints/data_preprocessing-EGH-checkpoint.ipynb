{
 "cells": [
  {
   "cell_type": "code",
   "execution_count": 1,
   "metadata": {},
   "outputs": [
    {
     "name": "stdout",
     "output_type": "stream",
     "text": [
      "Requirement already satisfied: xlrd in /Users/jjaskolkambp/anaconda3/lib/python3.6/site-packages (1.1.0)\n",
      "\u001b[33mYou are using pip version 10.0.1, however version 19.3 is available.\n",
      "You should consider upgrading via the 'pip install --upgrade pip' command.\u001b[0m\n"
     ]
    }
   ],
   "source": [
    "#run this cell when online\n",
    "!pip install xlrd"
   ]
  },
  {
   "cell_type": "markdown",
   "metadata": {},
   "source": [
    "## install dependencies and set data paths"
   ]
  },
  {
   "cell_type": "code",
   "execution_count": 94,
   "metadata": {},
   "outputs": [],
   "source": [
    "import pandas as pd\n",
    "import numpy as np\n",
    "\n",
    "import os\n",
    "import re\n",
    "from collections import Counter"
   ]
  },
  {
   "cell_type": "code",
   "execution_count": 95,
   "metadata": {},
   "outputs": [],
   "source": [
    "#use this cell when working online\n",
    "path = '/floyd/home/ed-triage'\n",
    "data_path = '/floyd/home/data'"
   ]
  },
  {
   "cell_type": "code",
   "execution_count": 96,
   "metadata": {},
   "outputs": [],
   "source": [
    "#use this cell when working from home\n",
    "path = '/Users/jjaskolkambp/Desktop/machine learning/my_projects/ed-triage'\n",
    "data_path = '/Users/jjaskolkambp/Desktop/machine learning/my_projects/data/ED triage project/egh'"
   ]
  },
  {
   "cell_type": "code",
   "execution_count": 97,
   "metadata": {},
   "outputs": [],
   "source": [
    "#loading in the entire spreadsheet as a dataframe\n",
    "clin = pd.read_excel(data_path + '/EGH ED visits FY1819_with additions.xlsx')"
   ]
  },
  {
   "cell_type": "code",
   "execution_count": 98,
   "metadata": {},
   "outputs": [
    {
     "data": {
      "text/plain": [
       "85154"
      ]
     },
     "execution_count": 98,
     "metadata": {},
     "output_type": "execute_result"
    }
   ],
   "source": [
    "len(clin)"
   ]
  },
  {
   "cell_type": "code",
   "execution_count": 99,
   "metadata": {},
   "outputs": [
    {
     "data": {
      "text/plain": [
       "Index(['ID', 'ChartNumber', 'EncounterNumber', 'TriageLevel', 'AgeNumber',\n",
       "       'AgeInYrs', 'GenderDesc', 'Triage Date & Time', 'Reg Date & Time',\n",
       "       'PIA Date & Time', 'Disposition Date & Time', 'DischargeDisposition',\n",
       "       'DischargeDispositionDesc', 'Left ED Date & Time',\n",
       "       'PresentingComplaint', 'PresentingComplaintDesc', 'MainDiagnosisCode',\n",
       "       'MainDiagnosisCodeDesc', 'AdmitLocation', 'PatientService',\n",
       "       'SubjectiveNotes', 'InfectionControlScreening', 'MedicalHistory',\n",
       "       'BloodPressure_LastEDReading', 'O2Saturation_LastEDReading',\n",
       "       'Pulse_LastEDReading', 'Temperature_LastEDReading'],\n",
       "      dtype='object')"
      ]
     },
     "execution_count": 99,
     "metadata": {},
     "output_type": "execute_result"
    }
   ],
   "source": [
    "clin.columns"
   ]
  },
  {
   "cell_type": "code",
   "execution_count": 100,
   "metadata": {},
   "outputs": [
    {
     "data": {
      "text/plain": [
       "(63474, 27)"
      ]
     },
     "execution_count": 100,
     "metadata": {},
     "output_type": "execute_result"
    }
   ],
   "source": [
    "clin.dropna(subset = ['SubjectiveNotes', 'InfectionControlScreening', 'MedicalHistory'], inplace = True)\n",
    "clin.shape"
   ]
  },
  {
   "cell_type": "markdown",
   "metadata": {
    "heading_collapsed": true
   },
   "source": [
    "## The next few cells are for getting a feel of the data in the different columns and how they might be useful"
   ]
  },
  {
   "cell_type": "code",
   "execution_count": 8,
   "metadata": {
    "hidden": true,
    "scrolled": false
   },
   "outputs": [
    {
     "data": {
      "text/plain": [
       "Counter({17: 70703,\n",
       "         62: 762,\n",
       "         7: 11199,\n",
       "         6: 374,\n",
       "         16: 493,\n",
       "         40: 226,\n",
       "         8: 242,\n",
       "         72: 113,\n",
       "         63: 250,\n",
       "         30: 346,\n",
       "         64: 171,\n",
       "         12: 242,\n",
       "         71: 3,\n",
       "         14: 3,\n",
       "         61: 12,\n",
       "         90: 10,\n",
       "         13: 3,\n",
       "         9: 2})"
      ]
     },
     "execution_count": 8,
     "metadata": {},
     "output_type": "execute_result"
    }
   ],
   "source": [
    "discharge_count = Counter(clin['DischargeDisposition']); discharge_count"
   ]
  },
  {
   "cell_type": "code",
   "execution_count": 9,
   "metadata": {
    "hidden": true
   },
   "outputs": [
    {
     "data": {
      "text/plain": [
       "Counter({'Discharge to private home, condo, apt without support service/referral': 70703,\n",
       "         'Left at his/her own risk post-initial treatment': 762,\n",
       "         'Admit to reporting facility as inpatient to another unit from amb care': 11199,\n",
       "         'Admit to reporting facility as inpatient to SCU or OR from amb care': 374,\n",
       "         'Discharge to private home, condo, apt with support service/referral': 493,\n",
       "         'Transfer to Group/supportive living': 226,\n",
       "         'Transfer to another acute care facility directly from amb care': 242,\n",
       "         'Died in Facility': 113,\n",
       "         'Left After Triage': 250,\n",
       "         'Transfer to Residential care': 346,\n",
       "         'Left After Initial Assessment': 171,\n",
       "         'Intra-facility transfer to day surgery': 242,\n",
       "         'Dead on arrival': 3,\n",
       "         'Intra-facility transfer to clinic': 3,\n",
       "         'Left at his/her own risk following registration': 12,\n",
       "         'Transfer to correctional facility': 10,\n",
       "         'Intra-facility transfer to ED': 3,\n",
       "         'Transfer to another non-acute care facility directly from amb care': 2})"
      ]
     },
     "execution_count": 9,
     "metadata": {},
     "output_type": "execute_result"
    }
   ],
   "source": [
    "discharge_count2 = Counter(clin['DischargeDispositionDesc']); discharge_count2"
   ]
  },
  {
   "cell_type": "code",
   "execution_count": 10,
   "metadata": {
    "hidden": true
   },
   "outputs": [
    {
     "data": {
      "text/plain": [
       "Counter({nan: 73660,\n",
       "         'Cardiology': 1550,\n",
       "         'ALC General Medicine': 201,\n",
       "         'General Medicine': 4512,\n",
       "         'INTENSIVE CARE UNIT': 253,\n",
       "         'Respirology': 852,\n",
       "         'General Surgery': 650,\n",
       "         'Paediatrics': 882,\n",
       "         'Mental Health': 1198,\n",
       "         'Orthopaedics': 430,\n",
       "         'ALC Neurology': 64,\n",
       "         'Genitourinary': 182,\n",
       "         'Neurology': 456,\n",
       "         'Palliative': 65,\n",
       "         'ALC Respirology': 28,\n",
       "         'Oncology': 38,\n",
       "         'ALC Orthopaedics': 23,\n",
       "         'ALC Cardiology': 38,\n",
       "         'AD PALLIATIVE': 45,\n",
       "         'AD General Medicine': 2,\n",
       "         'Obstetrics': 17,\n",
       "         'AD Respirology': 1,\n",
       "         'AD Oncology': 1,\n",
       "         'ALC General Surgery': 2,\n",
       "         'Neonatal Retro Transfers': 1,\n",
       "         'ALC Oncology': 1,\n",
       "         'AD Neurology': 1,\n",
       "         'Newborn': 1})"
      ]
     },
     "execution_count": 10,
     "metadata": {},
     "output_type": "execute_result"
    }
   ],
   "source": [
    "comp_count = Counter(clin['PatientService']); comp_count"
   ]
  },
  {
   "cell_type": "markdown",
   "metadata": {},
   "source": [
    "## refactoring some of the cells so they are clean and useful"
   ]
  },
  {
   "cell_type": "code",
   "execution_count": 101,
   "metadata": {},
   "outputs": [],
   "source": [
    "o2sat = [item if item[-2:] != 'ra' else item[:-2] for item in clin['O2Saturation_LastEDReading'].astype('str')]\n",
    "o2sat = [np.nan if (len(item) <2 or len(item) >3) else float(item) for item in o2sat] \n",
    "o2sat = [np.nan if item == 'nan' else float(item) for item in o2sat] \n",
    "clin['o2sat'] = o2sat"
   ]
  },
  {
   "cell_type": "code",
   "execution_count": 102,
   "metadata": {},
   "outputs": [],
   "source": [
    "pulse = clin['Pulse_LastEDReading']\n",
    "pulse = [re.sub(\"[^0-9]\", \"\", str(item)) for item in pulse]\n",
    "pulse = [np.nan if item == '' else float(item) for item in pulse] \n",
    "#set(pulse)\n",
    "clin['pulse'] = pulse"
   ]
  },
  {
   "cell_type": "code",
   "execution_count": 103,
   "metadata": {},
   "outputs": [],
   "source": [
    "temp = clin['Temperature_LastEDReading']\n",
    "temp = [re.sub(\"[^0-9]\", \"\", str(item)) for item in temp]\n",
    "temp = [np.nan if item == '' else float(item) for item in temp] \n",
    "temp = [item/10 if item > 100 else item for item in temp]\n",
    "temp = [np.nan if item > 40  else item for item in temp]\n",
    "#set(temp)\n",
    "clin['temp'] = temp"
   ]
  },
  {
   "cell_type": "code",
   "execution_count": 104,
   "metadata": {},
   "outputs": [],
   "source": [
    "def bptrans(bp):\n",
    "    if pd.isnull(bp) or len(bp.split('/')) !=2:\n",
    "        return [np.nan, np.nan]\n",
    "    res = []\n",
    "    for x in bp.split('/'):\n",
    "        try:\n",
    "            float(x)\n",
    "            res =  [float(x) for x in bp.split('/')]\n",
    "        except: \n",
    "            res =  [np.nan, np.nan]\n",
    "        return res\n"
   ]
  },
  {
   "cell_type": "code",
   "execution_count": 218,
   "metadata": {},
   "outputs": [],
   "source": [
    "#this is to clean the text in the subjective notes column (a little bit)\n",
    "def fixencode(s):\n",
    "    if pd.isnull(s):\n",
    "        s = \"None\"\n",
    "    s = s[14:]\n",
    "    s =s.replace('<LT><LF>','')\n",
    "    s = s.replace('<LT>LF>','')\n",
    "    s =s.replace('Pt.', 'patient')\n",
    "    s =s.replace('Pt', 'patient')\n",
    "    s = s.lower()\n",
    "    s = s.replace('pt.', 'patient')\n",
    "    s = s.replace('y/o', 'year old')\n",
    "    s = s.replace('c/o', 'complains of')\n",
    "    s = s.replace('sob', 'shortness of breath')\n",
    "    s = s.replace('c/p', 'chest pain')\n",
    "    s = s.replace('hrs', 'hours')\n",
    "    s = s.replace('hx', 'history')\n",
    "    s = s.replace('n/v', 'nausea and/or vomiting')\n",
    "    s = s.replace('a/e', 'air entry')\n",
    "    s = s.replace('a/o', 'alert and oriented')\n",
    "    s = s.replace('a&o', 'alert and oriented')\n",
    "    s = s.replace('d/c', 'discharge')\n",
    "    s = s.replace('u/s', 'ultrasound')\n",
    "    s = s.replace('yrs', 'years')\n",
    "    s = s.replace('lmp', 'last menstrual period')\n",
    "    s = s.replace('w/', 'with')\n",
    "    s = s.replace('@', 'at ')\n",
    "    s = s.replace('b/c', 'because')\n",
    "    s = re.sub(r'\\bpt.','patient ',s)\n",
    "    s = re.sub(r'\\blt.','left ',s)\n",
    "    s = re.sub(r'\\brt.','right ',s)\n",
    "    s = re.sub(r'\\bmd.','doctor ',s)\n",
    "    s = re.sub(r'\\bra\\b','room air ',s)\n",
    "    s = re.sub(r'\\bbp.','blood pressure ',s)\n",
    "    s = re.sub(r'\\bcp.','chest pain ',s)\n",
    "    s = re.sub(r'\\bfd.','family doctor ',s)\n",
    "    s = s.replace('abx', 'antibiotics')\n",
    "    s = s.replace(' htn ', ' hypertension ')\n",
    "    s = re.sub(r'\\btyl\\b', 'tylenol', s)\n",
    "    s = re.sub(r'\\bprn\\b', 'as needed ',s)\n",
    "    s = re.sub(r'\\bvag\\b', 'vaginal ',s)\n",
    "    s = re.sub(r'\\bpo\\b', 'by mouth ',s)\n",
    "    s = re.sub(r'\\bllq\\b', 'left lower quadrant',s)\n",
    "    s = re.sub(r'\\brlq\\b', 'right lower quadrant  ',s)\n",
    "    s = re.sub(r'\\bluq\\b', 'left upper quadrant',s)\n",
    "    s = re.sub(r'\\bruq\\b', 'right upper quadrant  ',s)\n",
    "    s = re.sub(r'\\buti\\b', 'urinary tract infection ',s)\n",
    "    s = re.sub(r'\\brd', 'right digit number ',s)\n",
    "    s = re.sub(r'\\bld', 'left digit number ',s)\n",
    "    s = re.sub(r'\\br\\b', 'right ',s)\n",
    "    s = re.sub(r'\\bl\\b', 'left ',s)\n",
    "    s = re.sub(r'\\bed\\b', 'emergency department ',s)\n",
    "    s = re.sub(r'\\ber\\b', 'emergency room ',s)\n",
    "    s = re.sub(r'\\bbm\\b', 'bowel movement ',s)\n",
    "    s = s.replace(' dx ', ' diagnosis')\n",
    "    s = s.replace(' sts ', ' states')\n",
    "    s = re.sub(r'#\\s', 'fracture ', s)\n",
    "    \n",
    "    #remove extra white spaces\n",
    "    s = re.sub(r'\\s+', ' ', s)\n",
    "\n",
    "    #note that what's missing here is removal of punctuation\n",
    "    return s"
   ]
  },
  {
   "cell_type": "code",
   "execution_count": 219,
   "metadata": {},
   "outputs": [],
   "source": [
    "clin['CleanSubjectiveNotes'] = clin.SubjectiveNotes.map(fixencode)"
   ]
  },
  {
   "cell_type": "code",
   "execution_count": 220,
   "metadata": {},
   "outputs": [
    {
     "name": "stdout",
     "output_type": "stream",
     "text": [
      "patient reported that he needs help for alcohol withdrawal. having palpitations, anxiety attacks and tremors.\n",
      "\n",
      "patient reported that she was going down the stairs today and missed 1 step. twisted her left foot.\n",
      "\n",
      "patient reported was walking faster to catch up with the traffic light and heard a crack, unable to walk normally. nwb left leg.\n",
      "\n",
      "patient reffered to emergency department by fmd for ongoing left lower quadrant pain starting 4 days ago. patient was prescribed flagyl and cipro 500mg twice a day with no improvement since saturday. patient states he did start taking the antibiotics on sat. patient states that pain is tender and ongoing. denies radiating. patient states he has a weird taste in his mouth. pain increases with movement and activity. patient states that he has been voiding more frequently, but also states he has increased his fluid intake. denies all other urinary symptoms. states no bowel concerns.\n",
      "\n",
      "16 days old baby, born at trillium. born at 36 weeks, natural. no complications. breast feed and bottle feed. everytime breast feed and bottle feed , baby chokes. spits the milk. face gets red when shortness of breath. chest clear. last feed 1325. diaper changed x 5. bowel movement x 2. all night crying, spitting the feed.\n",
      "\n",
      "lang barrier. left side heaviness started last night. comes and go. onset of heaviness, patient was resting. 7-8 heaviness at triage. took nitro x 2 last night and today at 1300 nitro x 2. no headache or dizzy prior nitro or onset of heaviness.\n",
      "\n",
      "patient reported that his right digit number 1 was caught in the industrial mixer, he makes dough. unable to bend.\n",
      "\n",
      "patient states that she had a fall wednesday. patient states that she was going into her bathroom, when she opened the door she hit her elbow. patient states that she had a \"flap\" just below the left elbow intially. patient states that she did not come to emergency department right away and was told by the home care nurse on thursday to do a dressing on her toes and told her to come get stiched.\n",
      "\n",
      "patient reported that she has left upper thigh pain for 2 months. no recent travels/injuries. said the pain getting for 3 nights. feeling heavy. the right thigh is getting pain. pain goes to right groin/pelvis. no dysuria.\n",
      "\n",
      "patient states that he had surgery about 4-5 weeks ago on his jaw. patient states he went to brush his teeth friday and the wire came out of both sides. patient was told 6 weeks the wire had to be in place for. patient states he had a fractured jaw from a fall. patient denies pain.\n",
      "\n"
     ]
    }
   ],
   "source": [
    "#just using this field to look at some examples of how the text cleaning is going\n",
    "for item in clin['CleanSubjectiveNotes'].iloc[10000:10010]:\n",
    "    print (item)\n",
    "    print ()"
   ]
  },
  {
   "cell_type": "code",
   "execution_count": 108,
   "metadata": {},
   "outputs": [],
   "source": [
    "clin['BP'] = clin.BloodPressure_LastEDReading.map(bptrans)\n",
    "\n",
    "clin[['systolic', 'diastolic']] = pd.DataFrame(clin.BP.tolist(), index= clin.index)\n",
    "clin[\"Gender\"] = clin.GenderDesc.map(lambda x: 1 if x == \"Male\" else 0)"
   ]
  },
  {
   "cell_type": "markdown",
   "metadata": {
    "heading_collapsed": true
   },
   "source": [
    "## split the screening questions\n",
    "- result is a df called: screening_df"
   ]
  },
  {
   "cell_type": "code",
   "execution_count": 109,
   "metadata": {
    "hidden": true
   },
   "outputs": [],
   "source": [
    "qlist = ['Are you feeling feverish or have had shakes or chills in the last 24 hours?',\n",
    "         'Have you ever been isolated/required isolation for an infectious disease when receiving care in a healthcare setting?',\n",
    "        'Do you have a new Rash?',\n",
    "        'Do you have a new onset of Vomiting/Diarrhea in the last 24 hours?',\n",
    "         'Have you travelled outside of Canada/USA in the last 3 weeks?',\n",
    "         'Have you had contact with a sick person who has travelled outside of Canada/USA in the last 3 weeks?',\n",
    "         'Have you received Health Care in another country in the last 2 years?',\n",
    "        'Do you have a new/worse cough or shortness of breath?',\n",
    "         'If so, select all countries that apply',\n",
    "        'If so, select all infectious diseases that apply']"
   ]
  },
  {
   "cell_type": "code",
   "execution_count": 110,
   "metadata": {
    "hidden": true
   },
   "outputs": [],
   "source": [
    "#making a dict so that the indect of an item on the list, matches the question later\n",
    "q_dict = {i:q for i,q in enumerate(qlist)}"
   ]
  },
  {
   "cell_type": "code",
   "execution_count": 111,
   "metadata": {
    "hidden": true
   },
   "outputs": [
    {
     "data": {
      "text/plain": [
       "{0: 'Are you feeling feverish or have had shakes or chills in the last 24 hours?',\n",
       " 1: 'Have you ever been isolated/required isolation for an infectious disease when receiving care in a healthcare setting?',\n",
       " 2: 'Do you have a new Rash?',\n",
       " 3: 'Do you have a new onset of Vomiting/Diarrhea in the last 24 hours?',\n",
       " 4: 'Have you travelled outside of Canada/USA in the last 3 weeks?',\n",
       " 5: 'Have you had contact with a sick person who has travelled outside of Canada/USA in the last 3 weeks?',\n",
       " 6: 'Have you received Health Care in another country in the last 2 years?',\n",
       " 7: 'Do you have a new/worse cough or shortness of breath?',\n",
       " 8: 'If so, select all countries that apply',\n",
       " 9: 'If so, select all infectious diseases that apply'}"
      ]
     },
     "execution_count": 111,
     "metadata": {},
     "output_type": "execute_result"
    }
   ],
   "source": [
    "q_dict"
   ]
  },
  {
   "cell_type": "code",
   "execution_count": 112,
   "metadata": {
    "hidden": true
   },
   "outputs": [],
   "source": [
    "#this is going to be a list made of up all the entries in the infection control screening column\n",
    "#casting the results as string to manipulate later\n",
    "qans = list(clin['InfectionControlScreening'].str[14:].astype('str'))"
   ]
  },
  {
   "cell_type": "code",
   "execution_count": 113,
   "metadata": {
    "hidden": true
   },
   "outputs": [
    {
     "data": {
      "text/plain": [
       "63474"
      ]
     },
     "execution_count": 113,
     "metadata": {},
     "output_type": "execute_result"
    }
   ],
   "source": [
    "len(qans)"
   ]
  },
  {
   "cell_type": "code",
   "execution_count": 114,
   "metadata": {
    "hidden": true
   },
   "outputs": [],
   "source": [
    "#this is going to give me a way to split the questions by finding where they occur in the field\n",
    "split_points = []\n",
    "for item in qans:\n",
    "    temp_points = []\n",
    "    for word in qlist:\n",
    "        temp_points.append(item.find(word))\n",
    "    split_points.append(temp_points)\n",
    "    "
   ]
  },
  {
   "cell_type": "code",
   "execution_count": 115,
   "metadata": {
    "hidden": true
   },
   "outputs": [],
   "source": [
    "#this is going to give me list of places to split each entry (using only the questions that are actually present)\n",
    "real_points = []\n",
    "for item in split_points:\n",
    "    real_points.append([idx for idx in sorted(item) if idx > 0])"
   ]
  },
  {
   "cell_type": "code",
   "execution_count": 116,
   "metadata": {
    "hidden": true
   },
   "outputs": [
    {
     "data": {
      "text/plain": [
       "[[241, 432, 400, 325, 0, 70, 558, 179, -1, -1],\n",
       " [241, 432, 400, 325, 0, 70, 558, 179, -1, -1],\n",
       " [241, 432, 400, 325, 0, 70, 558, 179, -1, -1],\n",
       " [241, 432, 400, 325, 0, 70, 558, 179, -1, -1],\n",
       " [241, 432, 400, 325, 0, 70, 558, 179, -1, -1],\n",
       " [241, 432, 400, 325, 0, 70, 558, 179, -1, -1],\n",
       " [241, 432, 400, 325, 0, 70, 558, 179, -1, -1],\n",
       " [241, 432, 400, 325, 0, 70, 558, 179, -1, -1],\n",
       " [241, 432, 400, 325, 0, 70, 558, 179, -1, -1],\n",
       " [241, 432, 400, 325, 0, 70, 558, 179, -1, -1]]"
      ]
     },
     "execution_count": 116,
     "metadata": {},
     "output_type": "execute_result"
    }
   ],
   "source": [
    "split_points[10000:10010]"
   ]
  },
  {
   "cell_type": "code",
   "execution_count": 117,
   "metadata": {
    "hidden": true
   },
   "outputs": [
    {
     "data": {
      "text/plain": [
       "[[70, 179, 241, 325, 400, 432, 558],\n",
       " [70, 179, 241, 325, 400, 432, 558],\n",
       " [70, 179, 241, 325, 400, 432, 558],\n",
       " [70, 179, 241, 325, 400, 432, 558],\n",
       " [70, 179, 241, 325, 400, 432, 558],\n",
       " [70, 179, 241, 325, 400, 432, 558],\n",
       " [70, 179, 241, 325, 400, 432, 558],\n",
       " [70, 179, 241, 325, 400, 432, 558],\n",
       " [70, 179, 241, 325, 400, 432, 558],\n",
       " [70, 179, 241, 325, 400, 432, 558]]"
      ]
     },
     "execution_count": 117,
     "metadata": {},
     "output_type": "execute_result"
    }
   ],
   "source": [
    "#anything from the list above which would have been empty in the original data\n",
    "#gives a list of -1's in split_points and nothing in real_points\n",
    "real_points[10000:10010]"
   ]
  },
  {
   "cell_type": "code",
   "execution_count": 118,
   "metadata": {
    "hidden": true
   },
   "outputs": [
    {
     "name": "stdout",
     "output_type": "stream",
     "text": [
      "Have you travelled outside of Canada/USA in the last 3 weeks? N<LT>LF>Have you had contact with a sick person who has travelled outside of Canada/USA in the last 3 weeks? N<LT>LF>Do you have a new/worse cough or shortness of breath? Y<LT>LF>Are you feeling feverish or have had shakes or chills in the last 24 hours? N<LT>LF>Do you have a new onset of Vomiting/Diarrhea in the last 24 hours? N<LT>LF>Do you have a new Rash? N\n",
      "\n",
      "[241, -1, 400, 325, 0, 70, -1, 179, -1, -1]\n",
      "\n",
      "[70, 179, 241, 325, 400]\n"
     ]
    }
   ],
   "source": [
    "print(qans[1000])\n",
    "print()\n",
    "print (split_points[1000])\n",
    "print ()\n",
    "print(real_points[1000])"
   ]
  },
  {
   "cell_type": "code",
   "execution_count": 119,
   "metadata": {
    "hidden": true
   },
   "outputs": [],
   "source": [
    "#this should mutate qans so each item is now a list of q and a's\n",
    "for idx in range(len(qans)):\n",
    "    qans[idx] = [qans[idx][i : j] for i, j in zip([0] + real_points[idx], real_points[idx] + [None])]\n",
    "    "
   ]
  },
  {
   "cell_type": "code",
   "execution_count": 120,
   "metadata": {
    "hidden": true
   },
   "outputs": [
    {
     "data": {
      "text/plain": [
       "['Have you travelled outside of Canada/USA in the last 3 weeks? N<LT>LF>',\n",
       " 'Have you had contact with a sick person who has travelled outside of Canada/USA in the last 3 weeks? N<LT>LF>',\n",
       " 'Do you have a new/worse cough or shortness of breath? Y<LT>LF>',\n",
       " 'Are you feeling feverish or have had shakes or chills in the last 24 hours? N<LT>LF>',\n",
       " 'Do you have a new onset of Vomiting/Diarrhea in the last 24 hours? N<LT>LF>',\n",
       " 'Do you have a new Rash? N']"
      ]
     },
     "execution_count": 120,
     "metadata": {},
     "output_type": "execute_result"
    }
   ],
   "source": [
    "qans[1000]"
   ]
  },
  {
   "cell_type": "code",
   "execution_count": 121,
   "metadata": {
    "hidden": true,
    "scrolled": true
   },
   "outputs": [
    {
     "data": {
      "text/plain": [
       "['Have you travelled outside of Canada/USA in the last 3 weeks? N<LT>LF>',\n",
       " 'Have you had contact with a sick person who has travelled outside of Canada/USA in the last 3 weeks? N<LT>LF>',\n",
       " 'Do you have a new/worse cough or shortness of breath? N<LT>LF>',\n",
       " 'Are you feeling feverish or have had shakes or chills in the last 24 hours? N<LT>LF>',\n",
       " 'Do you have a new onset of Vomiting/Diarrhea in the last 24 hours? N<LT>LF>',\n",
       " 'Do you have a new Rash? N<LT>LF>',\n",
       " 'Have you ever been isolated/required isolation for an infectious disease when receiving care in a healthcare setting? N<LT>LF>',\n",
       " 'Have you received Health Care in another country in the last 2 years? N']"
      ]
     },
     "execution_count": 121,
     "metadata": {},
     "output_type": "execute_result"
    }
   ],
   "source": [
    "qans[10000]"
   ]
  },
  {
   "cell_type": "code",
   "execution_count": 122,
   "metadata": {
    "hidden": true
   },
   "outputs": [],
   "source": [
    "#this will mutate each item of each list in qans and drop the <LT>LF> if present\n",
    "for q in qans:\n",
    "    for idx in range(len(q)):\n",
    "        if q[idx].find('<LT>LF>') != -1:\n",
    "            q[idx] = q[idx][:-7]\n",
    "        "
   ]
  },
  {
   "cell_type": "code",
   "execution_count": 123,
   "metadata": {
    "hidden": true
   },
   "outputs": [
    {
     "data": {
      "text/plain": [
       "['Have you travelled outside of Canada/USA in the last 3 weeks? N',\n",
       " 'Have you had contact with a sick person who has travelled outside of Canada/USA in the last 3 weeks? N',\n",
       " 'Do you have a new/worse cough or shortness of breath? Y',\n",
       " 'Are you feeling feverish or have had shakes or chills in the last 24 hours? N',\n",
       " 'Do you have a new onset of Vomiting/Diarrhea in the last 24 hours? N',\n",
       " 'Do you have a new Rash? N']"
      ]
     },
     "execution_count": 123,
     "metadata": {},
     "output_type": "execute_result"
    }
   ],
   "source": [
    "qans[1000]"
   ]
  },
  {
   "cell_type": "code",
   "execution_count": 124,
   "metadata": {
    "hidden": true
   },
   "outputs": [
    {
     "data": {
      "text/plain": [
       "['Have you travelled outside of Canada/USA in the last 3 weeks? N',\n",
       " 'Have you had contact with a sick person who has travelled outside of Canada/USA in the last 3 weeks? N',\n",
       " 'Do you have a new/worse cough or shortness of breath? N',\n",
       " 'Are you feeling feverish or have had shakes or chills in the last 24 hours? N',\n",
       " 'Do you have a new onset of Vomiting/Diarrhea in the last 24 hours? N',\n",
       " 'Do you have a new Rash? N',\n",
       " 'Have you ever been isolated/required isolation for an infectious disease when receiving care in a healthcare setting? N',\n",
       " 'Have you received Health Care in another country in the last 2 years? N']"
      ]
     },
     "execution_count": 124,
     "metadata": {},
     "output_type": "execute_result"
    }
   ],
   "source": [
    "qans[10000]"
   ]
  },
  {
   "cell_type": "code",
   "execution_count": 125,
   "metadata": {
    "hidden": true
   },
   "outputs": [
    {
     "data": {
      "text/plain": [
       "['Have you travelled outside of Canada/USA in the last 3 weeks? N',\n",
       " 'Have you had contact with a sick person who has travelled outside of Canada/USA in the last 3 weeks? N',\n",
       " 'Do you have a new/worse cough or shortness of breath? Y',\n",
       " 'Are you feeling feverish or have had shakes or chills in the last 24 hours? N',\n",
       " 'Do you have a new onset of Vomiting/Diarrhea in the last 24 hours? N',\n",
       " 'Do you have a new Rash? N']"
      ]
     },
     "execution_count": 125,
     "metadata": {},
     "output_type": "execute_result"
    }
   ],
   "source": [
    "qans[1000]"
   ]
  },
  {
   "cell_type": "code",
   "execution_count": 126,
   "metadata": {
    "hidden": true
   },
   "outputs": [],
   "source": [
    "seg_list = []\n",
    "for q in qans:\n",
    "    #print ('initial:', q)\n",
    "    test_question = q\n",
    "    res = []\n",
    "    for item in test_question:\n",
    "        #print (item)\n",
    "        for qq in qlist:\n",
    "            if item.find(qq) != -1:\n",
    "                #print ('question:',item[:len(qq)])\n",
    "                #print ('answer:',item[len(qq)+1:])\n",
    "                res.append([item[:len(qq)],item[len(qq)+1:] ])\n",
    "    seg_list.append(res)\n",
    "    #print ('\\nresult:',res, '\\n\\n')"
   ]
  },
  {
   "cell_type": "code",
   "execution_count": 127,
   "metadata": {
    "hidden": true
   },
   "outputs": [
    {
     "data": {
      "text/plain": [
       "63474"
      ]
     },
     "execution_count": 127,
     "metadata": {},
     "output_type": "execute_result"
    }
   ],
   "source": [
    "len(seg_list)"
   ]
  },
  {
   "cell_type": "code",
   "execution_count": 128,
   "metadata": {
    "hidden": true
   },
   "outputs": [],
   "source": [
    "seg_list2 = []\n",
    "for q in qans:\n",
    "    #print ('initial:', q)\n",
    "    test_question = q\n",
    "    res = {}\n",
    "    for item in test_question:\n",
    "        #print (item)\n",
    "        for qq in qlist:\n",
    "            if item.find(qq) != -1:\n",
    "                question = item[:len(qq)]\n",
    "                answer = item[len(qq)+1:]\n",
    "                res[question] = answer\n",
    "    seg_list2.append(res)"
   ]
  },
  {
   "cell_type": "code",
   "execution_count": 129,
   "metadata": {
    "hidden": true
   },
   "outputs": [],
   "source": [
    "final_list = []\n",
    "for q in range(len(split_points)):\n",
    "    temp = []\n",
    "    for i in range(len(split_points[q])):\n",
    "        if split_points[q][i] == -1:\n",
    "            #print('nan')\n",
    "            temp.append('nan')\n",
    "        else:\n",
    "            #print (brief_list2[q][q_dict[i]])  # q_dict[i], i, brief_splits[q][i],\n",
    "            temp.append(seg_list2[q][q_dict[i]])\n",
    "    final_list.append(temp)\n",
    "    #print ('\\n next item \\n')\n",
    "            "
   ]
  },
  {
   "cell_type": "code",
   "execution_count": 130,
   "metadata": {
    "hidden": true
   },
   "outputs": [
    {
     "data": {
      "text/plain": [
       "63474"
      ]
     },
     "execution_count": 130,
     "metadata": {},
     "output_type": "execute_result"
    }
   ],
   "source": [
    "len(final_list)"
   ]
  },
  {
   "cell_type": "code",
   "execution_count": 131,
   "metadata": {
    "hidden": true
   },
   "outputs": [
    {
     "data": {
      "text/plain": [
       "[['Y', 'N', 'N', 'Y', 'Y', 'N', 'nan', 'Y', 'nan', 'nan'],\n",
       " ['N', 'N', 'N', 'N', 'N', 'N', 'nan', 'N', 'nan', 'nan'],\n",
       " ['N', 'nan', 'N', 'N', 'N', 'N', 'nan', 'N', 'nan', 'nan'],\n",
       " ['N', 'nan', 'N', 'N', 'N', 'N', 'nan', 'N', 'nan', 'nan'],\n",
       " ['N', 'N', 'N', 'N', 'N', 'N', 'nan', 'N', 'nan', 'nan'],\n",
       " ['N', 'nan', 'N', 'N', 'N', 'N', 'nan', 'N', 'nan', 'nan'],\n",
       " ['nan', 'N', 'N', 'N', 'N', 'N', 'nan', 'N', 'nan', 'nan'],\n",
       " ['N', 'nan', 'N', 'N', 'N', 'N', 'nan', 'N', 'nan', 'nan'],\n",
       " ['nan', 'N', 'N', 'N', 'N', 'N', 'nan', 'N', 'nan', 'nan'],\n",
       " ['N', 'N', 'N', 'N', 'N', 'N', 'nan', 'N', 'nan', 'nan']]"
      ]
     },
     "execution_count": 131,
     "metadata": {},
     "output_type": "execute_result"
    }
   ],
   "source": [
    "final_list[100:110]"
   ]
  },
  {
   "cell_type": "code",
   "execution_count": 132,
   "metadata": {
    "hidden": true
   },
   "outputs": [
    {
     "data": {
      "text/plain": [
       "[['N', 'nan', 'N', 'N', 'N', 'N', 'nan', 'Y', 'nan', 'nan'],\n",
       " ['N', 'nan', 'N', 'Y', 'N', 'N', 'nan', 'N', 'nan', 'nan'],\n",
       " ['N', 'nan', 'N', 'N', 'N', 'N', 'nan', 'N', 'nan', 'nan'],\n",
       " ['N', 'N', 'N', 'N', 'N', 'N', 'N', 'N', 'nan', 'nan'],\n",
       " ['N', 'nan', 'N', 'N', 'N', 'N', 'nan', 'N', 'nan', 'nan'],\n",
       " ['N', 'nan', 'N', 'N', 'N', 'N', 'nan', 'N', 'nan', 'nan'],\n",
       " ['Y', 'nan', 'N', 'N', 'N', 'N', 'nan', 'Y', 'nan', 'nan'],\n",
       " ['N', 'N', 'N', 'N', 'N', 'N', 'N', 'N', 'IND', 'nan'],\n",
       " ['N', 'nan', 'N', 'N', 'N', 'N', 'nan', 'N', 'nan', 'nan'],\n",
       " ['Y', 'nan', 'N', 'N', 'N', 'N', 'nan', 'N', 'nan', 'nan'],\n",
       " ['N', 'N', 'N', 'N', 'N', 'N', 'N', 'N', 'nan', 'nan'],\n",
       " ['N', 'nan', 'N', 'N', 'N', 'N', 'nan', 'N', 'nan', 'nan'],\n",
       " ['N', 'nan', 'N', 'N', 'N', 'N', 'nan', 'N', 'nan', 'nan'],\n",
       " ['N', 'N', 'N', 'N', 'N', 'N', 'N', 'N', 'nan', 'nan'],\n",
       " ['N', 'nan', 'N', 'N', 'N', 'N', 'nan', 'N', 'nan', 'nan'],\n",
       " ['N', 'nan', 'N', 'N', 'N', 'N', 'nan', 'N', 'nan', 'nan'],\n",
       " ['N', 'nan', 'N', 'N', 'N', 'N', 'nan', 'N', 'nan', 'nan'],\n",
       " ['N', 'N', 'N', 'N', 'N', 'N', 'N', 'Y', 'nan', 'nan'],\n",
       " ['N', 'nan', 'N', 'N', 'N', 'N', 'nan', 'N', 'nan', 'nan'],\n",
       " ['N', 'N', 'N', 'Y', 'N', 'N', 'N', 'N', 'nan', 'nan']]"
      ]
     },
     "execution_count": 132,
     "metadata": {},
     "output_type": "execute_result"
    }
   ],
   "source": [
    "final_list[1000:1020]"
   ]
  },
  {
   "cell_type": "code",
   "execution_count": 133,
   "metadata": {
    "hidden": true
   },
   "outputs": [
    {
     "data": {
      "text/html": [
       "<div>\n",
       "<style scoped>\n",
       "    .dataframe tbody tr th:only-of-type {\n",
       "        vertical-align: middle;\n",
       "    }\n",
       "\n",
       "    .dataframe tbody tr th {\n",
       "        vertical-align: top;\n",
       "    }\n",
       "\n",
       "    .dataframe thead th {\n",
       "        text-align: right;\n",
       "    }\n",
       "</style>\n",
       "<table border=\"1\" class=\"dataframe\">\n",
       "  <thead>\n",
       "    <tr style=\"text-align: right;\">\n",
       "      <th></th>\n",
       "      <th>Are you feeling feverish or have had shakes or chills in the last 24 hours?</th>\n",
       "      <th>Have you ever been isolated/required isolation for an infectious disease when receiving care in a healthcare setting?</th>\n",
       "      <th>Do you have a new Rash?</th>\n",
       "      <th>Do you have a new onset of Vomiting/Diarrhea in the last 24 hours?</th>\n",
       "      <th>Have you travelled outside of Canada/USA in the last 3 weeks?</th>\n",
       "      <th>Have you had contact with a sick person who has travelled outside of Canada/USA in the last 3 weeks?</th>\n",
       "      <th>Have you received Health Care in another country in the last 2 years?</th>\n",
       "      <th>Do you have a new/worse cough or shortness of breath?</th>\n",
       "      <th>If so, select all countries that apply</th>\n",
       "      <th>If so, select all infectious diseases that apply</th>\n",
       "    </tr>\n",
       "  </thead>\n",
       "  <tbody>\n",
       "    <tr>\n",
       "      <th>0</th>\n",
       "      <td>N</td>\n",
       "      <td>N</td>\n",
       "      <td>N</td>\n",
       "      <td>N</td>\n",
       "      <td>N</td>\n",
       "      <td>N</td>\n",
       "      <td>N</td>\n",
       "      <td>N</td>\n",
       "      <td>nan</td>\n",
       "      <td>nan</td>\n",
       "    </tr>\n",
       "    <tr>\n",
       "      <th>1</th>\n",
       "      <td>N</td>\n",
       "      <td>nan</td>\n",
       "      <td>N</td>\n",
       "      <td>nan</td>\n",
       "      <td>N</td>\n",
       "      <td>N</td>\n",
       "      <td>nan</td>\n",
       "      <td>N</td>\n",
       "      <td>nan</td>\n",
       "      <td>nan</td>\n",
       "    </tr>\n",
       "    <tr>\n",
       "      <th>2</th>\n",
       "      <td>N</td>\n",
       "      <td>nan</td>\n",
       "      <td>N</td>\n",
       "      <td>N</td>\n",
       "      <td>Y</td>\n",
       "      <td>N</td>\n",
       "      <td>nan</td>\n",
       "      <td>N</td>\n",
       "      <td>nan</td>\n",
       "      <td>nan</td>\n",
       "    </tr>\n",
       "    <tr>\n",
       "      <th>3</th>\n",
       "      <td>N</td>\n",
       "      <td>nan</td>\n",
       "      <td>N</td>\n",
       "      <td>N</td>\n",
       "      <td>N</td>\n",
       "      <td>N</td>\n",
       "      <td>nan</td>\n",
       "      <td>N</td>\n",
       "      <td>nan</td>\n",
       "      <td>nan</td>\n",
       "    </tr>\n",
       "    <tr>\n",
       "      <th>4</th>\n",
       "      <td>N</td>\n",
       "      <td>nan</td>\n",
       "      <td>N</td>\n",
       "      <td>N</td>\n",
       "      <td>Y</td>\n",
       "      <td>N</td>\n",
       "      <td>nan</td>\n",
       "      <td>N</td>\n",
       "      <td>IND</td>\n",
       "      <td>nan</td>\n",
       "    </tr>\n",
       "  </tbody>\n",
       "</table>\n",
       "</div>"
      ],
      "text/plain": [
       "  Are you feeling feverish or have had shakes or chills in the last 24 hours?  \\\n",
       "0                                                  N                            \n",
       "1                                                  N                            \n",
       "2                                                  N                            \n",
       "3                                                  N                            \n",
       "4                                                  N                            \n",
       "\n",
       "  Have you ever been isolated/required isolation for an infectious disease when receiving care in a healthcare setting?  \\\n",
       "0                                                  N                                                                      \n",
       "1                                                nan                                                                      \n",
       "2                                                nan                                                                      \n",
       "3                                                nan                                                                      \n",
       "4                                                nan                                                                      \n",
       "\n",
       "  Do you have a new Rash?  \\\n",
       "0                       N   \n",
       "1                       N   \n",
       "2                       N   \n",
       "3                       N   \n",
       "4                       N   \n",
       "\n",
       "  Do you have a new onset of Vomiting/Diarrhea in the last 24 hours?  \\\n",
       "0                                                  N                   \n",
       "1                                                nan                   \n",
       "2                                                  N                   \n",
       "3                                                  N                   \n",
       "4                                                  N                   \n",
       "\n",
       "  Have you travelled outside of Canada/USA in the last 3 weeks?  \\\n",
       "0                                                  N              \n",
       "1                                                  N              \n",
       "2                                                  Y              \n",
       "3                                                  N              \n",
       "4                                                  Y              \n",
       "\n",
       "  Have you had contact with a sick person who has travelled outside of Canada/USA in the last 3 weeks?  \\\n",
       "0                                                  N                                                     \n",
       "1                                                  N                                                     \n",
       "2                                                  N                                                     \n",
       "3                                                  N                                                     \n",
       "4                                                  N                                                     \n",
       "\n",
       "  Have you received Health Care in another country in the last 2 years?  \\\n",
       "0                                                  N                      \n",
       "1                                                nan                      \n",
       "2                                                nan                      \n",
       "3                                                nan                      \n",
       "4                                                nan                      \n",
       "\n",
       "  Do you have a new/worse cough or shortness of breath?  \\\n",
       "0                                                  N      \n",
       "1                                                  N      \n",
       "2                                                  N      \n",
       "3                                                  N      \n",
       "4                                                  N      \n",
       "\n",
       "  If so, select all countries that apply  \\\n",
       "0                                    nan   \n",
       "1                                    nan   \n",
       "2                                    nan   \n",
       "3                                    nan   \n",
       "4                                    IND   \n",
       "\n",
       "  If so, select all infectious diseases that apply  \n",
       "0                                              nan  \n",
       "1                                              nan  \n",
       "2                                              nan  \n",
       "3                                              nan  \n",
       "4                                              nan  "
      ]
     },
     "execution_count": 133,
     "metadata": {},
     "output_type": "execute_result"
    }
   ],
   "source": [
    "screening_df = pd.DataFrame(final_list, columns = qlist)\n",
    "screening_df.head()"
   ]
  },
  {
   "cell_type": "code",
   "execution_count": 134,
   "metadata": {
    "hidden": true
   },
   "outputs": [
    {
     "data": {
      "text/plain": [
       "(63474, 10)"
      ]
     },
     "execution_count": 134,
     "metadata": {},
     "output_type": "execute_result"
    }
   ],
   "source": [
    "screening_df.shape"
   ]
  },
  {
   "cell_type": "code",
   "execution_count": 135,
   "metadata": {
    "hidden": true
   },
   "outputs": [
    {
     "data": {
      "text/html": [
       "<div>\n",
       "<style scoped>\n",
       "    .dataframe tbody tr th:only-of-type {\n",
       "        vertical-align: middle;\n",
       "    }\n",
       "\n",
       "    .dataframe tbody tr th {\n",
       "        vertical-align: top;\n",
       "    }\n",
       "\n",
       "    .dataframe thead th {\n",
       "        text-align: right;\n",
       "    }\n",
       "</style>\n",
       "<table border=\"1\" class=\"dataframe\">\n",
       "  <thead>\n",
       "    <tr style=\"text-align: right;\">\n",
       "      <th></th>\n",
       "      <th>Are you feeling feverish or have had shakes or chills in the last 24 hours?</th>\n",
       "      <th>Have you ever been isolated/required isolation for an infectious disease when receiving care in a healthcare setting?</th>\n",
       "      <th>Do you have a new Rash?</th>\n",
       "      <th>Do you have a new onset of Vomiting/Diarrhea in the last 24 hours?</th>\n",
       "      <th>Have you travelled outside of Canada/USA in the last 3 weeks?</th>\n",
       "      <th>Have you had contact with a sick person who has travelled outside of Canada/USA in the last 3 weeks?</th>\n",
       "      <th>Have you received Health Care in another country in the last 2 years?</th>\n",
       "      <th>Do you have a new/worse cough or shortness of breath?</th>\n",
       "      <th>If so, select all countries that apply</th>\n",
       "      <th>If so, select all infectious diseases that apply</th>\n",
       "    </tr>\n",
       "  </thead>\n",
       "  <tbody>\n",
       "    <tr>\n",
       "      <th>30000</th>\n",
       "      <td>N</td>\n",
       "      <td>nan</td>\n",
       "      <td>N</td>\n",
       "      <td>N</td>\n",
       "      <td>N</td>\n",
       "      <td>N</td>\n",
       "      <td>nan</td>\n",
       "      <td>N</td>\n",
       "      <td>nan</td>\n",
       "      <td>nan</td>\n",
       "    </tr>\n",
       "    <tr>\n",
       "      <th>30001</th>\n",
       "      <td>nan</td>\n",
       "      <td>nan</td>\n",
       "      <td>nan</td>\n",
       "      <td>N</td>\n",
       "      <td>N</td>\n",
       "      <td>N</td>\n",
       "      <td>nan</td>\n",
       "      <td>Y</td>\n",
       "      <td>nan</td>\n",
       "      <td>nan</td>\n",
       "    </tr>\n",
       "    <tr>\n",
       "      <th>30002</th>\n",
       "      <td>Y</td>\n",
       "      <td>nan</td>\n",
       "      <td>nan</td>\n",
       "      <td>N</td>\n",
       "      <td>N</td>\n",
       "      <td>nan</td>\n",
       "      <td>nan</td>\n",
       "      <td>Y</td>\n",
       "      <td>nan</td>\n",
       "      <td>nan</td>\n",
       "    </tr>\n",
       "    <tr>\n",
       "      <th>30003</th>\n",
       "      <td>Y</td>\n",
       "      <td>nan</td>\n",
       "      <td>N</td>\n",
       "      <td>N</td>\n",
       "      <td>N</td>\n",
       "      <td>N</td>\n",
       "      <td>nan</td>\n",
       "      <td>N</td>\n",
       "      <td>nan</td>\n",
       "      <td>nan</td>\n",
       "    </tr>\n",
       "    <tr>\n",
       "      <th>30004</th>\n",
       "      <td>N</td>\n",
       "      <td>nan</td>\n",
       "      <td>Y</td>\n",
       "      <td>N</td>\n",
       "      <td>N</td>\n",
       "      <td>N</td>\n",
       "      <td>nan</td>\n",
       "      <td>N</td>\n",
       "      <td>nan</td>\n",
       "      <td>nan</td>\n",
       "    </tr>\n",
       "    <tr>\n",
       "      <th>30005</th>\n",
       "      <td>N</td>\n",
       "      <td>nan</td>\n",
       "      <td>N</td>\n",
       "      <td>N</td>\n",
       "      <td>N</td>\n",
       "      <td>N</td>\n",
       "      <td>nan</td>\n",
       "      <td>N</td>\n",
       "      <td>nan</td>\n",
       "      <td>nan</td>\n",
       "    </tr>\n",
       "    <tr>\n",
       "      <th>30006</th>\n",
       "      <td>N</td>\n",
       "      <td>nan</td>\n",
       "      <td>N</td>\n",
       "      <td>N</td>\n",
       "      <td>Y</td>\n",
       "      <td>N</td>\n",
       "      <td>nan</td>\n",
       "      <td>N</td>\n",
       "      <td>USA</td>\n",
       "      <td>nan</td>\n",
       "    </tr>\n",
       "    <tr>\n",
       "      <th>30007</th>\n",
       "      <td>N</td>\n",
       "      <td>nan</td>\n",
       "      <td>N</td>\n",
       "      <td>N</td>\n",
       "      <td>N</td>\n",
       "      <td>N</td>\n",
       "      <td>nan</td>\n",
       "      <td>N</td>\n",
       "      <td>nan</td>\n",
       "      <td>nan</td>\n",
       "    </tr>\n",
       "    <tr>\n",
       "      <th>30008</th>\n",
       "      <td>N</td>\n",
       "      <td>nan</td>\n",
       "      <td>N</td>\n",
       "      <td>N</td>\n",
       "      <td>N</td>\n",
       "      <td>N</td>\n",
       "      <td>nan</td>\n",
       "      <td>N</td>\n",
       "      <td>nan</td>\n",
       "      <td>nan</td>\n",
       "    </tr>\n",
       "    <tr>\n",
       "      <th>30009</th>\n",
       "      <td>Y</td>\n",
       "      <td>nan</td>\n",
       "      <td>N</td>\n",
       "      <td>N</td>\n",
       "      <td>N</td>\n",
       "      <td>N</td>\n",
       "      <td>nan</td>\n",
       "      <td>Y</td>\n",
       "      <td>nan</td>\n",
       "      <td>nan</td>\n",
       "    </tr>\n",
       "  </tbody>\n",
       "</table>\n",
       "</div>"
      ],
      "text/plain": [
       "      Are you feeling feverish or have had shakes or chills in the last 24 hours?  \\\n",
       "30000                                                  N                            \n",
       "30001                                                nan                            \n",
       "30002                                                  Y                            \n",
       "30003                                                  Y                            \n",
       "30004                                                  N                            \n",
       "30005                                                  N                            \n",
       "30006                                                  N                            \n",
       "30007                                                  N                            \n",
       "30008                                                  N                            \n",
       "30009                                                  Y                            \n",
       "\n",
       "      Have you ever been isolated/required isolation for an infectious disease when receiving care in a healthcare setting?  \\\n",
       "30000                                                nan                                                                      \n",
       "30001                                                nan                                                                      \n",
       "30002                                                nan                                                                      \n",
       "30003                                                nan                                                                      \n",
       "30004                                                nan                                                                      \n",
       "30005                                                nan                                                                      \n",
       "30006                                                nan                                                                      \n",
       "30007                                                nan                                                                      \n",
       "30008                                                nan                                                                      \n",
       "30009                                                nan                                                                      \n",
       "\n",
       "      Do you have a new Rash?  \\\n",
       "30000                       N   \n",
       "30001                     nan   \n",
       "30002                     nan   \n",
       "30003                       N   \n",
       "30004                       Y   \n",
       "30005                       N   \n",
       "30006                       N   \n",
       "30007                       N   \n",
       "30008                       N   \n",
       "30009                       N   \n",
       "\n",
       "      Do you have a new onset of Vomiting/Diarrhea in the last 24 hours?  \\\n",
       "30000                                                  N                   \n",
       "30001                                                  N                   \n",
       "30002                                                  N                   \n",
       "30003                                                  N                   \n",
       "30004                                                  N                   \n",
       "30005                                                  N                   \n",
       "30006                                                  N                   \n",
       "30007                                                  N                   \n",
       "30008                                                  N                   \n",
       "30009                                                  N                   \n",
       "\n",
       "      Have you travelled outside of Canada/USA in the last 3 weeks?  \\\n",
       "30000                                                  N              \n",
       "30001                                                  N              \n",
       "30002                                                  N              \n",
       "30003                                                  N              \n",
       "30004                                                  N              \n",
       "30005                                                  N              \n",
       "30006                                                  Y              \n",
       "30007                                                  N              \n",
       "30008                                                  N              \n",
       "30009                                                  N              \n",
       "\n",
       "      Have you had contact with a sick person who has travelled outside of Canada/USA in the last 3 weeks?  \\\n",
       "30000                                                  N                                                     \n",
       "30001                                                  N                                                     \n",
       "30002                                                nan                                                     \n",
       "30003                                                  N                                                     \n",
       "30004                                                  N                                                     \n",
       "30005                                                  N                                                     \n",
       "30006                                                  N                                                     \n",
       "30007                                                  N                                                     \n",
       "30008                                                  N                                                     \n",
       "30009                                                  N                                                     \n",
       "\n",
       "      Have you received Health Care in another country in the last 2 years?  \\\n",
       "30000                                                nan                      \n",
       "30001                                                nan                      \n",
       "30002                                                nan                      \n",
       "30003                                                nan                      \n",
       "30004                                                nan                      \n",
       "30005                                                nan                      \n",
       "30006                                                nan                      \n",
       "30007                                                nan                      \n",
       "30008                                                nan                      \n",
       "30009                                                nan                      \n",
       "\n",
       "      Do you have a new/worse cough or shortness of breath?  \\\n",
       "30000                                                  N      \n",
       "30001                                                  Y      \n",
       "30002                                                  Y      \n",
       "30003                                                  N      \n",
       "30004                                                  N      \n",
       "30005                                                  N      \n",
       "30006                                                  N      \n",
       "30007                                                  N      \n",
       "30008                                                  N      \n",
       "30009                                                  Y      \n",
       "\n",
       "      If so, select all countries that apply  \\\n",
       "30000                                    nan   \n",
       "30001                                    nan   \n",
       "30002                                    nan   \n",
       "30003                                    nan   \n",
       "30004                                    nan   \n",
       "30005                                    nan   \n",
       "30006                                    USA   \n",
       "30007                                    nan   \n",
       "30008                                    nan   \n",
       "30009                                    nan   \n",
       "\n",
       "      If so, select all infectious diseases that apply  \n",
       "30000                                              nan  \n",
       "30001                                              nan  \n",
       "30002                                              nan  \n",
       "30003                                              nan  \n",
       "30004                                              nan  \n",
       "30005                                              nan  \n",
       "30006                                              nan  \n",
       "30007                                              nan  \n",
       "30008                                              nan  \n",
       "30009                                              nan  "
      ]
     },
     "execution_count": 135,
     "metadata": {},
     "output_type": "execute_result"
    }
   ],
   "source": [
    "screening_df.iloc[30000:30010]"
   ]
  },
  {
   "cell_type": "code",
   "execution_count": 136,
   "metadata": {
    "hidden": true
   },
   "outputs": [],
   "source": [
    "screening_df.replace('nan',np.NaN, inplace = True)"
   ]
  },
  {
   "cell_type": "code",
   "execution_count": 137,
   "metadata": {
    "hidden": true
   },
   "outputs": [
    {
     "data": {
      "text/html": [
       "<div>\n",
       "<style scoped>\n",
       "    .dataframe tbody tr th:only-of-type {\n",
       "        vertical-align: middle;\n",
       "    }\n",
       "\n",
       "    .dataframe tbody tr th {\n",
       "        vertical-align: top;\n",
       "    }\n",
       "\n",
       "    .dataframe thead th {\n",
       "        text-align: right;\n",
       "    }\n",
       "</style>\n",
       "<table border=\"1\" class=\"dataframe\">\n",
       "  <thead>\n",
       "    <tr style=\"text-align: right;\">\n",
       "      <th></th>\n",
       "      <th>Are you feeling feverish or have had shakes or chills in the last 24 hours?</th>\n",
       "      <th>Have you ever been isolated/required isolation for an infectious disease when receiving care in a healthcare setting?</th>\n",
       "      <th>Do you have a new Rash?</th>\n",
       "      <th>Do you have a new onset of Vomiting/Diarrhea in the last 24 hours?</th>\n",
       "      <th>Have you travelled outside of Canada/USA in the last 3 weeks?</th>\n",
       "      <th>Have you had contact with a sick person who has travelled outside of Canada/USA in the last 3 weeks?</th>\n",
       "      <th>Have you received Health Care in another country in the last 2 years?</th>\n",
       "      <th>Do you have a new/worse cough or shortness of breath?</th>\n",
       "      <th>If so, select all countries that apply</th>\n",
       "      <th>If so, select all infectious diseases that apply</th>\n",
       "    </tr>\n",
       "  </thead>\n",
       "  <tbody>\n",
       "    <tr>\n",
       "      <th>30000</th>\n",
       "      <td>N</td>\n",
       "      <td>NaN</td>\n",
       "      <td>N</td>\n",
       "      <td>N</td>\n",
       "      <td>N</td>\n",
       "      <td>N</td>\n",
       "      <td>NaN</td>\n",
       "      <td>N</td>\n",
       "      <td>NaN</td>\n",
       "      <td>NaN</td>\n",
       "    </tr>\n",
       "    <tr>\n",
       "      <th>30001</th>\n",
       "      <td>NaN</td>\n",
       "      <td>NaN</td>\n",
       "      <td>NaN</td>\n",
       "      <td>N</td>\n",
       "      <td>N</td>\n",
       "      <td>N</td>\n",
       "      <td>NaN</td>\n",
       "      <td>Y</td>\n",
       "      <td>NaN</td>\n",
       "      <td>NaN</td>\n",
       "    </tr>\n",
       "    <tr>\n",
       "      <th>30002</th>\n",
       "      <td>Y</td>\n",
       "      <td>NaN</td>\n",
       "      <td>NaN</td>\n",
       "      <td>N</td>\n",
       "      <td>N</td>\n",
       "      <td>NaN</td>\n",
       "      <td>NaN</td>\n",
       "      <td>Y</td>\n",
       "      <td>NaN</td>\n",
       "      <td>NaN</td>\n",
       "    </tr>\n",
       "    <tr>\n",
       "      <th>30003</th>\n",
       "      <td>Y</td>\n",
       "      <td>NaN</td>\n",
       "      <td>N</td>\n",
       "      <td>N</td>\n",
       "      <td>N</td>\n",
       "      <td>N</td>\n",
       "      <td>NaN</td>\n",
       "      <td>N</td>\n",
       "      <td>NaN</td>\n",
       "      <td>NaN</td>\n",
       "    </tr>\n",
       "    <tr>\n",
       "      <th>30004</th>\n",
       "      <td>N</td>\n",
       "      <td>NaN</td>\n",
       "      <td>Y</td>\n",
       "      <td>N</td>\n",
       "      <td>N</td>\n",
       "      <td>N</td>\n",
       "      <td>NaN</td>\n",
       "      <td>N</td>\n",
       "      <td>NaN</td>\n",
       "      <td>NaN</td>\n",
       "    </tr>\n",
       "    <tr>\n",
       "      <th>30005</th>\n",
       "      <td>N</td>\n",
       "      <td>NaN</td>\n",
       "      <td>N</td>\n",
       "      <td>N</td>\n",
       "      <td>N</td>\n",
       "      <td>N</td>\n",
       "      <td>NaN</td>\n",
       "      <td>N</td>\n",
       "      <td>NaN</td>\n",
       "      <td>NaN</td>\n",
       "    </tr>\n",
       "    <tr>\n",
       "      <th>30006</th>\n",
       "      <td>N</td>\n",
       "      <td>NaN</td>\n",
       "      <td>N</td>\n",
       "      <td>N</td>\n",
       "      <td>Y</td>\n",
       "      <td>N</td>\n",
       "      <td>NaN</td>\n",
       "      <td>N</td>\n",
       "      <td>USA</td>\n",
       "      <td>NaN</td>\n",
       "    </tr>\n",
       "    <tr>\n",
       "      <th>30007</th>\n",
       "      <td>N</td>\n",
       "      <td>NaN</td>\n",
       "      <td>N</td>\n",
       "      <td>N</td>\n",
       "      <td>N</td>\n",
       "      <td>N</td>\n",
       "      <td>NaN</td>\n",
       "      <td>N</td>\n",
       "      <td>NaN</td>\n",
       "      <td>NaN</td>\n",
       "    </tr>\n",
       "    <tr>\n",
       "      <th>30008</th>\n",
       "      <td>N</td>\n",
       "      <td>NaN</td>\n",
       "      <td>N</td>\n",
       "      <td>N</td>\n",
       "      <td>N</td>\n",
       "      <td>N</td>\n",
       "      <td>NaN</td>\n",
       "      <td>N</td>\n",
       "      <td>NaN</td>\n",
       "      <td>NaN</td>\n",
       "    </tr>\n",
       "    <tr>\n",
       "      <th>30009</th>\n",
       "      <td>Y</td>\n",
       "      <td>NaN</td>\n",
       "      <td>N</td>\n",
       "      <td>N</td>\n",
       "      <td>N</td>\n",
       "      <td>N</td>\n",
       "      <td>NaN</td>\n",
       "      <td>Y</td>\n",
       "      <td>NaN</td>\n",
       "      <td>NaN</td>\n",
       "    </tr>\n",
       "  </tbody>\n",
       "</table>\n",
       "</div>"
      ],
      "text/plain": [
       "      Are you feeling feverish or have had shakes or chills in the last 24 hours?  \\\n",
       "30000                                                  N                            \n",
       "30001                                                NaN                            \n",
       "30002                                                  Y                            \n",
       "30003                                                  Y                            \n",
       "30004                                                  N                            \n",
       "30005                                                  N                            \n",
       "30006                                                  N                            \n",
       "30007                                                  N                            \n",
       "30008                                                  N                            \n",
       "30009                                                  Y                            \n",
       "\n",
       "      Have you ever been isolated/required isolation for an infectious disease when receiving care in a healthcare setting?  \\\n",
       "30000                                                NaN                                                                      \n",
       "30001                                                NaN                                                                      \n",
       "30002                                                NaN                                                                      \n",
       "30003                                                NaN                                                                      \n",
       "30004                                                NaN                                                                      \n",
       "30005                                                NaN                                                                      \n",
       "30006                                                NaN                                                                      \n",
       "30007                                                NaN                                                                      \n",
       "30008                                                NaN                                                                      \n",
       "30009                                                NaN                                                                      \n",
       "\n",
       "      Do you have a new Rash?  \\\n",
       "30000                       N   \n",
       "30001                     NaN   \n",
       "30002                     NaN   \n",
       "30003                       N   \n",
       "30004                       Y   \n",
       "30005                       N   \n",
       "30006                       N   \n",
       "30007                       N   \n",
       "30008                       N   \n",
       "30009                       N   \n",
       "\n",
       "      Do you have a new onset of Vomiting/Diarrhea in the last 24 hours?  \\\n",
       "30000                                                  N                   \n",
       "30001                                                  N                   \n",
       "30002                                                  N                   \n",
       "30003                                                  N                   \n",
       "30004                                                  N                   \n",
       "30005                                                  N                   \n",
       "30006                                                  N                   \n",
       "30007                                                  N                   \n",
       "30008                                                  N                   \n",
       "30009                                                  N                   \n",
       "\n",
       "      Have you travelled outside of Canada/USA in the last 3 weeks?  \\\n",
       "30000                                                  N              \n",
       "30001                                                  N              \n",
       "30002                                                  N              \n",
       "30003                                                  N              \n",
       "30004                                                  N              \n",
       "30005                                                  N              \n",
       "30006                                                  Y              \n",
       "30007                                                  N              \n",
       "30008                                                  N              \n",
       "30009                                                  N              \n",
       "\n",
       "      Have you had contact with a sick person who has travelled outside of Canada/USA in the last 3 weeks?  \\\n",
       "30000                                                  N                                                     \n",
       "30001                                                  N                                                     \n",
       "30002                                                NaN                                                     \n",
       "30003                                                  N                                                     \n",
       "30004                                                  N                                                     \n",
       "30005                                                  N                                                     \n",
       "30006                                                  N                                                     \n",
       "30007                                                  N                                                     \n",
       "30008                                                  N                                                     \n",
       "30009                                                  N                                                     \n",
       "\n",
       "      Have you received Health Care in another country in the last 2 years?  \\\n",
       "30000                                                NaN                      \n",
       "30001                                                NaN                      \n",
       "30002                                                NaN                      \n",
       "30003                                                NaN                      \n",
       "30004                                                NaN                      \n",
       "30005                                                NaN                      \n",
       "30006                                                NaN                      \n",
       "30007                                                NaN                      \n",
       "30008                                                NaN                      \n",
       "30009                                                NaN                      \n",
       "\n",
       "      Do you have a new/worse cough or shortness of breath?  \\\n",
       "30000                                                  N      \n",
       "30001                                                  Y      \n",
       "30002                                                  Y      \n",
       "30003                                                  N      \n",
       "30004                                                  N      \n",
       "30005                                                  N      \n",
       "30006                                                  N      \n",
       "30007                                                  N      \n",
       "30008                                                  N      \n",
       "30009                                                  Y      \n",
       "\n",
       "      If so, select all countries that apply  \\\n",
       "30000                                    NaN   \n",
       "30001                                    NaN   \n",
       "30002                                    NaN   \n",
       "30003                                    NaN   \n",
       "30004                                    NaN   \n",
       "30005                                    NaN   \n",
       "30006                                    USA   \n",
       "30007                                    NaN   \n",
       "30008                                    NaN   \n",
       "30009                                    NaN   \n",
       "\n",
       "      If so, select all infectious diseases that apply  \n",
       "30000                                              NaN  \n",
       "30001                                              NaN  \n",
       "30002                                              NaN  \n",
       "30003                                              NaN  \n",
       "30004                                              NaN  \n",
       "30005                                              NaN  \n",
       "30006                                              NaN  \n",
       "30007                                              NaN  \n",
       "30008                                              NaN  \n",
       "30009                                              NaN  "
      ]
     },
     "execution_count": 137,
     "metadata": {},
     "output_type": "execute_result"
    }
   ],
   "source": [
    "screening_df.iloc[30000:30010]"
   ]
  },
  {
   "cell_type": "markdown",
   "metadata": {
    "heading_collapsed": true
   },
   "source": [
    "## making the new target cells"
   ]
  },
  {
   "cell_type": "code",
   "execution_count": 138,
   "metadata": {
    "hidden": true
   },
   "outputs": [
    {
     "data": {
      "text/plain": [
       "Counter({nan: 56890,\n",
       "         'E.5TH': 614,\n",
       "         'E.7TH East': 842,\n",
       "         'E.7TH West': 385,\n",
       "         'E.10.RESP': 590,\n",
       "         'E.MAU': 1043,\n",
       "         'E.OVE': 646,\n",
       "         'E.8SURGERY': 696,\n",
       "         'E.9th MED': 230,\n",
       "         'E.6TH': 554,\n",
       "         'E.CCU': 202,\n",
       "         'E.ICU': 96,\n",
       "         'E.OVEMH': 156,\n",
       "         'E.9MEDICAL': 143,\n",
       "         'E.4TH': 10,\n",
       "         'E.8MEDFLEX': 67,\n",
       "         'E.SCN': 2,\n",
       "         'E.9TH EAST': 127,\n",
       "         'E.9TH WEST': 171,\n",
       "         'E.7MEDFLEX': 10})"
      ]
     },
     "execution_count": 138,
     "metadata": {},
     "output_type": "execute_result"
    }
   ],
   "source": [
    "admit_count= Counter(clin['AdmitLocation']); admit_count"
   ]
  },
  {
   "cell_type": "code",
   "execution_count": 139,
   "metadata": {
    "hidden": true
   },
   "outputs": [],
   "source": [
    "clin['outcome'] = clin['AdmitLocation'].astype('str').map(\n",
    "{'nan': 'discharge',\n",
    "         'E.OVE': 'madmit',\n",
    "         'E.9MEDICAL': 'madmit',\n",
    "         'E.CCU': 'madmit',\n",
    "         'E.10.RESP': 'madmit',\n",
    "         'E.MAU': 'madmit',\n",
    "         'E.ICU': 'ICU',\n",
    "         'E.8SURGERY': 'sadmit',\n",
    "         'E.6TH': 'madmit',\n",
    "         'E.5TH': 'madmit',\n",
    "         'E.OVEMH': 'madmit',\n",
    "         'E.7TH West': 'madmit',\n",
    "         'E.9th MED': 'madmit',\n",
    "         'E.7TH East': 'madmit',\n",
    "         'E.4TH': 'madmit',\n",
    "         'E.8MEDFLEX': 'madmit',\n",
    "         'E.SCN': 'madmit',\n",
    "         'E.9TH EAST': 'madmit',\n",
    "         'E.9TH WEST': 'madmit',\n",
    "         'E.7MEDFLEX': 'madmit'})"
   ]
  },
  {
   "cell_type": "code",
   "execution_count": 140,
   "metadata": {
    "hidden": true
   },
   "outputs": [],
   "source": [
    "#first target columns is based on the admitting location\n",
    "clin['target'] = clin['outcome'].map({'discharge': 1, 'madmit': 2, 'sadmit': 3, 'ICU': 4})"
   ]
  },
  {
   "cell_type": "code",
   "execution_count": 141,
   "metadata": {
    "hidden": true
   },
   "outputs": [
    {
     "data": {
      "text/plain": [
       "Counter({nan: 56890,\n",
       "         'Mental Health': 770,\n",
       "         'Cardiology': 911,\n",
       "         'General Medicine': 2508,\n",
       "         'Palliative': 24,\n",
       "         'Oncology': 27,\n",
       "         'Paediatrics': 638,\n",
       "         'Orthopaedics': 183,\n",
       "         'General Surgery': 443,\n",
       "         'ALC General Medicine': 80,\n",
       "         'ALC Neurology': 32,\n",
       "         'Neurology': 233,\n",
       "         'Respirology': 413,\n",
       "         'Genitourinary': 149,\n",
       "         'ALC Respirology': 11,\n",
       "         'INTENSIVE CARE UNIT': 100,\n",
       "         'ALC Cardiology': 21,\n",
       "         'ALC Orthopaedics': 9,\n",
       "         'AD PALLIATIVE': 15,\n",
       "         'AD General Medicine': 2,\n",
       "         'Obstetrics': 11,\n",
       "         'AD Oncology': 1,\n",
       "         'ALC General Surgery': 1,\n",
       "         'Neonatal Retro Transfers': 1,\n",
       "         'Newborn': 1})"
      ]
     },
     "execution_count": 141,
     "metadata": {},
     "output_type": "execute_result"
    }
   ],
   "source": [
    "serv_count = Counter(clin['PatientService']); serv_count"
   ]
  },
  {
   "cell_type": "code",
   "execution_count": 142,
   "metadata": {
    "hidden": true
   },
   "outputs": [],
   "source": [
    "clin['service'] = clin['PatientService'].astype('str').map(\n",
    "    {'nan': 'discharge',\n",
    "         'Cardiology': 'madmit',\n",
    "         'ALC General Medicine': 'madmit',\n",
    "         'General Medicine': 'madmit',\n",
    "         'INTENSIVE CARE UNIT': 'ICU',\n",
    "         'Respirology': 'madmit',\n",
    "         'General Surgery': 'sadmit',\n",
    "         'Paediatrics': 'madmit',\n",
    "         'Mental Health': 'madmit',\n",
    "         'Orthopaedics': 'sadmit',\n",
    "         'ALC Neurology': 'madmit',\n",
    "         'Genitourinary': 'sadmit',\n",
    "         'Neurology': 'madmit',\n",
    "         'Palliative': 'madmit',\n",
    "         'ALC Respirology': 'madmit',\n",
    "         'Oncology': 'madmit',\n",
    "         'ALC Orthopaedics': 'sadmit',\n",
    "         'ALC Cardiology': 'madmit',\n",
    "         'AD PALLIATIVE': 'madmit',\n",
    "         'AD General Medicine': 'madmit',\n",
    "         'Obstetrics': 'madmit',\n",
    "         'AD Respirology': 'madmit',\n",
    "         'AD Oncology': 'madmit',\n",
    "         'ALC General Surgery': 'sadmit',\n",
    "         'Neonatal Retro Transfers': 'madmit',\n",
    "         'ALC Oncology': 'madmit',\n",
    "         'AD Neurology': 'madmit',\n",
    "         'Newborn': 'madmit'})"
   ]
  },
  {
   "cell_type": "code",
   "execution_count": 143,
   "metadata": {
    "hidden": true
   },
   "outputs": [
    {
     "data": {
      "text/plain": [
       "Counter({'discharge': 56890, 'madmit': 5699, 'sadmit': 785, 'ICU': 100})"
      ]
     },
     "execution_count": 143,
     "metadata": {},
     "output_type": "execute_result"
    }
   ],
   "source": [
    "service_count = Counter(clin['service']); service_count"
   ]
  },
  {
   "cell_type": "code",
   "execution_count": 144,
   "metadata": {
    "hidden": true
   },
   "outputs": [],
   "source": [
    "#second target is based on the admitting service\n",
    "clin['target2'] = clin['service'].map({'discharge': 1, 'madmit': 2, 'sadmit': 3, 'ICU': 4})"
   ]
  },
  {
   "cell_type": "code",
   "execution_count": 145,
   "metadata": {
    "hidden": true
   },
   "outputs": [
    {
     "data": {
      "text/plain": [
       "Counter({1: 56890, 2: 5699, 3: 785, 4: 100})"
      ]
     },
     "execution_count": 145,
     "metadata": {},
     "output_type": "execute_result"
    }
   ],
   "source": [
    "Counter(clin['target2'])"
   ]
  },
  {
   "cell_type": "code",
   "execution_count": 146,
   "metadata": {
    "hidden": true
   },
   "outputs": [
    {
     "data": {
      "text/plain": [
       "{1: 'discharge', 2: 'madmit', 3: 'sadmit', 4: 'ICU'}"
      ]
     },
     "execution_count": 146,
     "metadata": {},
     "output_type": "execute_result"
    }
   ],
   "source": [
    "#creating this for later use to map the numbers in the dataframe column to their original meaning\n",
    "out_dict = {'discharge': 1, 'madmit': 2, 'sadmit': 3, 'ICU': 4}\n",
    "out_dict = {v:k for k,v in out_dict.items()}\n",
    "out_dict"
   ]
  },
  {
   "cell_type": "code",
   "execution_count": 147,
   "metadata": {
    "hidden": true
   },
   "outputs": [],
   "source": [
    "#discharge vs. not target\n",
    "clin['discharge'] = clin['outcome'].map({'discharge': 'discharge', 'madmit': 'admit', 'sadmit': 'admit', 'ICU': 'admit'})"
   ]
  },
  {
   "cell_type": "code",
   "execution_count": 148,
   "metadata": {
    "hidden": true
   },
   "outputs": [],
   "source": [
    "clin['target3'] = clin['outcome'].map({'discharge': 1, 'madmit': 0, 'sadmit': 0, 'ICU': 0})"
   ]
  },
  {
   "cell_type": "code",
   "execution_count": 149,
   "metadata": {
    "hidden": true
   },
   "outputs": [
    {
     "data": {
      "text/plain": [
       "(Counter({'discharge': 56890, 'admit': 6584}), Counter({1: 56890, 0: 6584}))"
      ]
     },
     "execution_count": 149,
     "metadata": {},
     "output_type": "execute_result"
    }
   ],
   "source": [
    "Counter(clin['discharge']), Counter(clin['target3'])"
   ]
  },
  {
   "cell_type": "code",
   "execution_count": 150,
   "metadata": {
    "hidden": true
   },
   "outputs": [],
   "source": [
    "#a target for trying to tell apart the inpatient disposition, only in admitted patients\n",
    "clin['dispo']= clin['outcome'].map({'discharge': np.nan, 'madmit': 'madmit', 'sadmit': 'sadmit', 'ICU': 'ICU'})"
   ]
  },
  {
   "cell_type": "code",
   "execution_count": 151,
   "metadata": {
    "hidden": true
   },
   "outputs": [],
   "source": [
    "clin['target4'] = clin['dispo'].map({np.nan:np.nan, 'madmit': 1, 'sadmit': 2, 'ICU': 3})\n",
    "#for some reason a can't make a counter out of this without it crashing so I've stopped trying"
   ]
  },
  {
   "cell_type": "code",
   "execution_count": 152,
   "metadata": {
    "hidden": true
   },
   "outputs": [
    {
     "data": {
      "text/plain": [
       "(Counter({nan: 56890, 'madmit': 5792, 'sadmit': 696, 'ICU': 96}),\n",
       " Counter({1.0: 5792, 2.0: 696, 3.0: 96}))"
      ]
     },
     "execution_count": 152,
     "metadata": {},
     "output_type": "execute_result"
    }
   ],
   "source": [
    "Counter(clin['dispo']), Counter(clin['target4'].dropna())"
   ]
  },
  {
   "cell_type": "code",
   "execution_count": 153,
   "metadata": {
    "hidden": true
   },
   "outputs": [],
   "source": [
    "#gonna make a target that is ICU vs other\n",
    "clin['ICUvsother'] = clin['PatientService'][clin['PatientService'] == 'INTENSIVE CARE UNIT']\n",
    "#clin['PatientService']"
   ]
  },
  {
   "cell_type": "code",
   "execution_count": 154,
   "metadata": {
    "hidden": true
   },
   "outputs": [],
   "source": [
    "clin['target5'] = clin['ICUvsother'].map({'INTENSIVE CARE UNIT':1, np.nan:0})"
   ]
  },
  {
   "cell_type": "code",
   "execution_count": 155,
   "metadata": {
    "hidden": true
   },
   "outputs": [
    {
     "data": {
      "text/plain": [
       "['AdmitLocation',\n",
       " 'AgeInYrs',\n",
       " 'AgeNumber',\n",
       " 'BP',\n",
       " 'BloodPressure_LastEDReading',\n",
       " 'ChartNumber',\n",
       " 'CleanSubjectiveNotes',\n",
       " 'DischargeDisposition',\n",
       " 'DischargeDispositionDesc',\n",
       " 'Disposition Date & Time',\n",
       " 'EncounterNumber',\n",
       " 'Gender',\n",
       " 'GenderDesc',\n",
       " 'ICUvsother',\n",
       " 'ID',\n",
       " 'InfectionControlScreening',\n",
       " 'Left ED Date & Time',\n",
       " 'MainDiagnosisCode',\n",
       " 'MainDiagnosisCodeDesc',\n",
       " 'MedicalHistory',\n",
       " 'O2Saturation_LastEDReading',\n",
       " 'PIA Date & Time',\n",
       " 'PatientService',\n",
       " 'PresentingComplaint',\n",
       " 'PresentingComplaintDesc',\n",
       " 'Pulse_LastEDReading',\n",
       " 'Reg Date & Time',\n",
       " 'SubjectiveNotes',\n",
       " 'Temperature_LastEDReading',\n",
       " 'Triage Date & Time',\n",
       " 'TriageLevel',\n",
       " 'diastolic',\n",
       " 'discharge',\n",
       " 'dispo',\n",
       " 'o2sat',\n",
       " 'outcome',\n",
       " 'pulse',\n",
       " 'service',\n",
       " 'systolic',\n",
       " 'target',\n",
       " 'target2',\n",
       " 'target3',\n",
       " 'target4',\n",
       " 'target5',\n",
       " 'temp']"
      ]
     },
     "execution_count": 155,
     "metadata": {},
     "output_type": "execute_result"
    }
   ],
   "source": [
    "sorted(clin.columns)"
   ]
  },
  {
   "cell_type": "markdown",
   "metadata": {
    "heading_collapsed": true
   },
   "source": [
    "## splitting into a bunch of sub dataframes\n",
    "- loading the excel file is very slow, but loading csv files is faster so I'm making a bunch of dataframes of subsets of data for easy saving/loading/combining"
   ]
  },
  {
   "cell_type": "code",
   "execution_count": 156,
   "metadata": {
    "hidden": true
   },
   "outputs": [],
   "source": [
    "tab_df = clin[['ID', 'TriageLevel',\n",
    "       'AgeInYrs', 'GenderDesc', 'DischargeDisposition',\n",
    "       'PresentingComplaint', 'PresentingComplaintDesc', 'AdmitLocation', 'PatientService',\n",
    "       'BloodPressure_LastEDReading','systolic', 'diastolic','temp','pulse','o2sat']]"
   ]
  },
  {
   "cell_type": "code",
   "execution_count": 157,
   "metadata": {
    "hidden": true
   },
   "outputs": [],
   "source": [
    "target_df = clin[['outcome','target', 'service','target2', 'discharge', 'target3','dispo','target4', 'ICUvsother', 'target5']]"
   ]
  },
  {
   "cell_type": "code",
   "execution_count": 158,
   "metadata": {
    "hidden": true
   },
   "outputs": [],
   "source": [
    "date_df = clin[['Triage Date & Time', 'Reg Date & Time',\n",
    "       'PIA Date & Time', 'Disposition Date & Time', 'Left ED Date & Time']]"
   ]
  },
  {
   "cell_type": "markdown",
   "metadata": {},
   "source": [
    "## parsing of the medical history into categories"
   ]
  },
  {
   "cell_type": "code",
   "execution_count": 159,
   "metadata": {
    "scrolled": true
   },
   "outputs": [
    {
     "data": {
      "text/plain": [
       "18803"
      ]
     },
     "execution_count": 159,
     "metadata": {},
     "output_type": "execute_result"
    }
   ],
   "source": [
    "histories = Counter(clin['MedicalHistory']); len(histories)"
   ]
  },
  {
   "cell_type": "code",
   "execution_count": 160,
   "metadata": {},
   "outputs": [],
   "source": [
    "history = list(clin['MedicalHistory'].str[16:].astype('str'))"
   ]
  },
  {
   "cell_type": "code",
   "execution_count": 161,
   "metadata": {},
   "outputs": [],
   "source": [
    "#this is to clean the text in the medical history column (a little bit)\n",
    "def fixhx(s):\n",
    "    s =s.replace('<LT><LF>','')\n",
    "    s = s.replace('<LT>LF>','')\n",
    "    s =s.replace('Pt.', 'patient')\n",
    "    s =s.replace('Pt', 'patient')\n",
    "    s = s.lower()\n",
    "    s = s.replace('pt.', 'patient')\n",
    "    s = s.replace('y/o', 'year old')\n",
    "    s = s.replace('c/o', 'complains of')\n",
    "    s = s.replace('sob', 'shortness of breath')\n",
    "    s = s.replace('c/p', 'chest pain')\n",
    "    s = s.replace('hrs', 'hours')\n",
    "    s = s.replace('hx', 'history')\n",
    "    s = s.replace('n/v', 'nausea and/or vomiting')\n",
    "    s = s.replace('a/e', 'air entry')\n",
    "    s = s.replace('a/o', 'alert and oriented')\n",
    "    s = s.replace('a&o', 'alert and oriented')\n",
    "    s = s.replace('d/c', 'discharge')\n",
    "    s = s.replace('u/s', 'ultrasound')\n",
    "    s = s.replace('yrs', 'years')\n",
    "    s = s.replace('lmp', 'last menstrual period')\n",
    "    s = s.replace('w/', 'with')\n",
    "    s = s.replace('@', 'at ')\n",
    "    s = s.replace('b/c', 'because')\n",
    "    s = re.sub(r'\\bpt.','patient ',s)\n",
    "    s = re.sub(r'\\blt.','left ',s)\n",
    "    s = re.sub(r'\\brt.','right ',s)\n",
    "    s = re.sub(r'\\bmd.','doctor ',s)\n",
    "    s = re.sub(r'\\bra\\b','room air ',s)\n",
    "    s = re.sub(r'\\bbp.','blood pressure ',s)\n",
    "    s = re.sub(r'\\bcp.','chest pain ',s)\n",
    "    s = re.sub(r'\\bfd.','family doctor ',s)\n",
    "    s = s.replace('abx', 'antibiotics')\n",
    "    s = s.replace(' htn ', ' hypertension ')\n",
    "    s = re.sub(r'\\btyl\\b', 'tylenol', s)\n",
    "    s = re.sub(r'\\bprn\\b', 'as needed ',s)\n",
    "    s = re.sub(r'\\bvag\\b', 'vaginal ',s)\n",
    "    s = re.sub(r'\\bpo\\b', 'by mouth ',s)\n",
    "    s = re.sub(r'\\bllq\\b', 'left lower quadrant',s)\n",
    "    s = re.sub(r'\\brlq\\b', 'right lower quadrant  ',s)\n",
    "    s = re.sub(r'\\bluq\\b', 'left upper quadrant',s)\n",
    "    s = re.sub(r'\\bruq\\b', 'right upper quadrant  ',s)\n",
    "    s = re.sub(r'\\buti\\b', 'urinary tract infection ',s)\n",
    "    s = re.sub(r'\\brd', 'right digit number',s)\n",
    "    s = re.sub(r'\\bld', 'left digit number',s)\n",
    "    s = re.sub(r'\\br\\b', 'right ',s)\n",
    "    s = re.sub(r'\\bl\\b', 'left ',s)\n",
    "    s = re.sub(r'\\bed\\b', 'emergency department ',s)\n",
    "    s = re.sub(r'\\ber\\b', 'emergency room ',s)\n",
    "    s = re.sub(r'\\bbm\\b', 'bowel movement ',s)\n",
    "    s = re.sub(r'#\\s', 'fracture ', s)\n",
    "    \n",
    "    #remove extra white spaces\n",
    "    s = re.sub(r'\\s+', ' ', s)\n",
    "\n",
    "    #note that what's missing here is removal of punctuation\n",
    "    return s"
   ]
  },
  {
   "cell_type": "code",
   "execution_count": 162,
   "metadata": {},
   "outputs": [],
   "source": [
    "replacements = (',','<LT>LF>', '.')\n",
    "drop_list = ('\"', '?')\n",
    "split_hist = []\n",
    "for item in history:\n",
    "    for r in replacements:\n",
    "        item = item.replace(r, '::')\n",
    "    \n",
    "    item = item.split('::')\n",
    "    \n",
    "    item = [re.sub(r'\\(.*?\\)\\ *', '', s) for s in item]\n",
    "    \n",
    "    item = [fixhx(s) for s in item]\n",
    "    for d in drop_list:\n",
    "        item = [x.replace(d,'') for x in item]\n",
    "    \n",
    "    item = [x.strip().lower() for x in item if x != 'nan']\n",
    "    item = [x for x in item if len(x) > 2]\n",
    "    \n",
    "    item = list(filter(None, item))\n",
    "    \n",
    "    split_hist.append(item)\n",
    "    "
   ]
  },
  {
   "cell_type": "code",
   "execution_count": 163,
   "metadata": {},
   "outputs": [],
   "source": [
    "#rejoining them as a string with diagnoses separated by commas\n",
    "join_hist = [', '.join(item) for item in split_hist]"
   ]
  },
  {
   "cell_type": "code",
   "execution_count": 164,
   "metadata": {},
   "outputs": [],
   "source": [
    "#replacing empty string with NaN\n",
    "join_hist = [np.nan if item == 'nan' else item for item in join_hist]"
   ]
  },
  {
   "cell_type": "code",
   "execution_count": 165,
   "metadata": {},
   "outputs": [
    {
     "data": {
      "text/plain": [
       "[['mitral valve regurgitation', 'hypertension'],\n",
       " ['no significant medical history'],\n",
       " ['no significant medical history'],\n",
       " ['no significant medical history'],\n",
       " ['asthma'],\n",
       " ['no significant medical history'],\n",
       " ['no significant medical history'],\n",
       " ['tia', 'high cholesterol', 'hypertension', 'hypothyroid'],\n",
       " ['no significant medical history'],\n",
       " ['asthma']]"
      ]
     },
     "execution_count": 165,
     "metadata": {},
     "output_type": "execute_result"
    }
   ],
   "source": [
    "split_hist[2000:2010]"
   ]
  },
  {
   "cell_type": "code",
   "execution_count": 166,
   "metadata": {},
   "outputs": [
    {
     "data": {
      "text/plain": [
       "['mitral valve regurgitation, hypertension',\n",
       " 'no significant medical history',\n",
       " 'no significant medical history',\n",
       " 'no significant medical history',\n",
       " 'asthma',\n",
       " 'no significant medical history',\n",
       " 'no significant medical history',\n",
       " 'tia, high cholesterol, hypertension, hypothyroid',\n",
       " 'no significant medical history',\n",
       " 'asthma']"
      ]
     },
     "execution_count": 166,
     "metadata": {},
     "output_type": "execute_result"
    }
   ],
   "source": [
    "join_hist[2000:2010]"
   ]
  },
  {
   "cell_type": "code",
   "execution_count": 167,
   "metadata": {},
   "outputs": [],
   "source": [
    "clin['pmhx'] = join_hist"
   ]
  },
  {
   "cell_type": "code",
   "execution_count": 168,
   "metadata": {},
   "outputs": [],
   "source": [
    "subj_df = clin[['CleanSubjectiveNotes', 'pmhx']]"
   ]
  },
  {
   "cell_type": "markdown",
   "metadata": {},
   "source": [
    "### exploring different diagnoses"
   ]
  },
  {
   "cell_type": "code",
   "execution_count": 169,
   "metadata": {},
   "outputs": [],
   "source": [
    "diagnoses = Counter()\n",
    "for hx in split_hist:\n",
    "    for item in hx:\n",
    "        diagnoses[item] += 1"
   ]
  },
  {
   "cell_type": "code",
   "execution_count": 170,
   "metadata": {},
   "outputs": [
    {
     "name": "stdout",
     "output_type": "stream",
     "text": [
      "# of unique diagnoses: 9637\n"
     ]
    }
   ],
   "source": [
    "print ('# of unique diagnoses:', len(diagnoses))"
   ]
  },
  {
   "cell_type": "code",
   "execution_count": 171,
   "metadata": {},
   "outputs": [
    {
     "data": {
      "text/plain": [
       "[('no significant medical history', 29730),\n",
       " ('hypertension', 12552),\n",
       " ('high cholesterol', 6509),\n",
       " ('niddm', 5284),\n",
       " ('asthma', 2688),\n",
       " ('depression', 1856),\n",
       " ('thyroid', 1683),\n",
       " ('high bp', 1662),\n",
       " ('hypothyroid', 1523),\n",
       " ('anxiety', 1393),\n",
       " ('iddm', 1381),\n",
       " ('gerd', 1251),\n",
       " ('high chol', 790),\n",
       " ('arthritis', 775),\n",
       " ('acid reflux', 707),\n",
       " ('anemia', 636),\n",
       " ('copd', 499),\n",
       " ('cholesterol', 488),\n",
       " ('chol', 486),\n",
       " ('gout', 477),\n",
       " ('chf', 461),\n",
       " ('dementia', 419),\n",
       " ('diabetes', 406),\n",
       " ('cva', 390),\n",
       " ('seizure', 367),\n",
       " ('afib', 358),\n",
       " ('enlarged prostate', 343),\n",
       " ('osteoporosis', 331),\n",
       " ('schizophrenia', 324),\n",
       " ('dmii', 312),\n",
       " ('migraines', 289),\n",
       " ('atrial fibrillation', 279),\n",
       " ('cholestrol', 271),\n",
       " ('blood pressure', 265),\n",
       " ('chronic back pain', 260),\n",
       " ('smoker', 249),\n",
       " ('bipolar', 248),\n",
       " ('cad', 244),\n",
       " ('kidney stones', 243),\n",
       " ('urinary tract infection', 229),\n",
       " ('high cholestrol', 210),\n",
       " ('cardiac', 203),\n",
       " ('pacemaker', 200),\n",
       " ('thyroid problem', 199),\n",
       " ('low iron', 198),\n",
       " ('adhd', 184),\n",
       " ('fibromyalgia', 181),\n",
       " ('cabg', 181),\n",
       " ('thyriod', 176),\n",
       " ('prostate', 169),\n",
       " ('pneumonia', 168),\n",
       " ('back pain', 158),\n",
       " ('prostate problem', 158),\n",
       " ('diabetic', 151),\n",
       " ('eczema', 149),\n",
       " ('pacemaker/cardioverter/defib', 147),\n",
       " ('vertigo', 142),\n",
       " ('glaucoma', 141),\n",
       " ('breast cancer', 139),\n",
       " ('dvt', 139),\n",
       " ('epilepsy', 136),\n",
       " ('constipation', 135),\n",
       " ('unknown', 129),\n",
       " ('sleep apnea', 128),\n",
       " ('stroke', 126),\n",
       " ('ibs', 121),\n",
       " ('etoh abuse', 120),\n",
       " ('diverticulitis', 114),\n",
       " ('a fib', 112),\n",
       " ('rheumatoid arthritis', 108),\n",
       " ('hypothyroidism', 108),\n",
       " ('angioplasty', 107),\n",
       " ('tia', 106),\n",
       " ('endometriosis', 101),\n",
       " ('alcoholism', 98),\n",
       " ('bronchitis', 98),\n",
       " ('angina', 97),\n",
       " ('hysterectomy', 96),\n",
       " ('appendectomy', 96),\n",
       " ('lupus', 96),\n",
       " (\"parkinson's\", 94),\n",
       " ('hernia', 93),\n",
       " ('seizures', 92),\n",
       " ('patient d', 87),\n",
       " ('cholecystectomy', 82),\n",
       " ('stent', 82),\n",
       " ('bi-polar', 82),\n",
       " ('prostate cancer', 81),\n",
       " ('gallstones', 81),\n",
       " ('sciatica', 80),\n",
       " ('ovarian cyst', 79),\n",
       " ('stents', 78),\n",
       " ('uterine fibroids', 78),\n",
       " ('substance misuse', 78),\n",
       " ('heart murmur', 78),\n",
       " ('choles', 78),\n",
       " ('hyperthyroid', 77),\n",
       " ('osteoarthritis', 76),\n",
       " ('dyslipidemia', 76),\n",
       " ('ulcerative colitis', 74),\n",
       " ('bypass surgery', 74),\n",
       " ('benign prostatic hypertension', 73),\n",
       " ('sickle cell', 73),\n",
       " ('dm2', 72),\n",
       " ('colitis', 71),\n",
       " ('migraine', 70),\n",
       " ('hyperlipidemia', 68),\n",
       " ('autistic', 68),\n",
       " ('crf', 66),\n",
       " (\"crohn's disease\", 63),\n",
       " ('renal colic', 63),\n",
       " ('pancreatitis', 62),\n",
       " ('gastritis', 62),\n",
       " ('kidney stone', 59),\n",
       " ('iron deficiency', 58),\n",
       " ('osteo', 58),\n",
       " ('ocd', 57),\n",
       " ('fatty liver', 56),\n",
       " ('kidney problem', 54),\n",
       " ('stomach ulcer', 54),\n",
       " ('colon ca', 54),\n",
       " ('chronic pain', 53),\n",
       " ('insomnia', 53),\n",
       " ('mental health', 51),\n",
       " ('pcos', 50),\n",
       " ('heart problem', 49),\n",
       " ('lung cancer', 47),\n",
       " ('ckd', 47),\n",
       " ('a-fib', 46),\n",
       " ('heart attack', 44),\n",
       " ('hiatus hernia', 43),\n",
       " ('breast ca', 43),\n",
       " ('cirrhosis', 43),\n",
       " ('knee replacement', 43),\n",
       " ('autism', 42),\n",
       " ('incomplete', 42),\n",
       " ('kidney disease', 42),\n",
       " ('gad', 41),\n",
       " (\"alzheimer's\", 40),\n",
       " ('herniated disc', 40),\n",
       " ('hemorrhoids', 39),\n",
       " ('see list', 39),\n",
       " ('palpitation', 39),\n",
       " ('hernia repair', 39),\n",
       " ('none', 39),\n",
       " ('hiv/aids', 38),\n",
       " ('psychosis', 38),\n",
       " ('liver cirrhosis', 37),\n",
       " ('cataract', 37),\n",
       " ('hip replacement', 37),\n",
       " ('kidney failure', 36),\n",
       " ('glaucoma cataract/cataract repair', 35),\n",
       " ('prostate ca', 35),\n",
       " ('athritis', 35),\n",
       " ('svt', 35),\n",
       " ('lymphoma', 35),\n",
       " ('fibroids', 35),\n",
       " ('bypass', 34),\n",
       " ('high blood pressure', 33),\n",
       " ('parkinsons', 33),\n",
       " ('cardiac stent', 32),\n",
       " ('psoriasis', 31),\n",
       " ('crestor', 31),\n",
       " ('heart disease', 31),\n",
       " ('scoliosis', 31),\n",
       " ('cardiomyopathy', 30),\n",
       " ('osteoprosis', 30),\n",
       " ('unable to obtain', 29),\n",
       " ('chest pain', 29),\n",
       " ('colon cancer', 29),\n",
       " ('prostate prob', 29),\n",
       " ('born term', 29),\n",
       " ('emphysema', 28),\n",
       " ('obesity', 28),\n",
       " ('neuropathy', 28),\n",
       " ('sbo/lbo', 28),\n",
       " ('tonsillectomy', 28),\n",
       " ('alzheimers', 27),\n",
       " ('h pylori', 27),\n",
       " ('stomach prob', 27),\n",
       " ('ear infection', 26),\n",
       " ('spinal stenosis', 26),\n",
       " ('back injury', 26),\n",
       " ('palpitations', 26),\n",
       " ('thyroidectomy', 26),\n",
       " ('etoh use', 26),\n",
       " ('borderline personality disorder', 26),\n",
       " ('leukemia', 26),\n",
       " ('drug abuse', 25),\n",
       " ('valve replacement', 25),\n",
       " ('incomplete list', 25),\n",
       " ('hepatitis c', 25),\n",
       " ('kidney problems', 25),\n",
       " ('irregular heart beat', 25),\n",
       " ('colostomy', 25),\n",
       " ('cellulitis', 25),\n",
       " ('low bp', 24),\n",
       " ('acid reflex', 24),\n",
       " ('parkinson', 24),\n",
       " ('heart burn', 24),\n",
       " ('hearing impaired', 24),\n",
       " ('abdominal hernia', 24),\n",
       " ('angiogram', 24),\n",
       " ('nidd', 24),\n",
       " ('stomach problem', 23),\n",
       " ('room air', 23),\n",
       " ('croup', 23),\n",
       " ('triple bypass', 23),\n",
       " ('pvd', 23),\n",
       " ('right /a', 23),\n",
       " ('brain tumor', 22),\n",
       " ('hep c', 22),\n",
       " ('bladder cancer', 22),\n",
       " ('itp', 22),\n",
       " ('pace maker', 22),\n",
       " ('renal failure', 22),\n",
       " ('crohns', 22),\n",
       " ('metformin', 21),\n",
       " ('liver problem', 21),\n",
       " ('kidney transplant', 21),\n",
       " ('panic attack', 21),\n",
       " ('stent x 1', 21),\n",
       " ('enlarge prostate', 21),\n",
       " ('lung ca', 21),\n",
       " ('pulmonary fibrosis', 20),\n",
       " ('cataracts', 20),\n",
       " ('heart surgery', 20),\n",
       " ('concussion', 20),\n",
       " ('svd', 20),\n",
       " ('stomach issues', 20),\n",
       " ('asa', 19),\n",
       " ('bladder ca', 19),\n",
       " ('etoh', 19),\n",
       " ('synthroid', 19),\n",
       " ('no complications in pregnancy or birth', 19),\n",
       " ('migranes', 19),\n",
       " ('kidney issues', 19),\n",
       " ('turp', 19),\n",
       " ('singleton', 19),\n",
       " ('prostate surgery', 18),\n",
       " ('bladder infection', 18),\n",
       " ('diverticulosis', 18),\n",
       " ('high choelsterol', 18),\n",
       " ('left breast ca', 18),\n",
       " ('panic attacks', 18),\n",
       " ('arrythmia', 18),\n",
       " ('heart failure', 18),\n",
       " ('developmental delay', 17),\n",
       " ('sarcoidosis', 17),\n",
       " ('hypotension', 17),\n",
       " ('stomach cancer', 17),\n",
       " ('ovarian cancer', 17),\n",
       " ('febrile seizure', 17),\n",
       " ('select from list or enter free texthypertension', 17),\n",
       " ('sickle cell trait', 17),\n",
       " ('gall stones', 17),\n",
       " ('dysphagia', 17),\n",
       " ('jaundice', 17),\n",
       " ('heart prob', 17),\n",
       " ('right', 17),\n",
       " ('hiv', 16),\n",
       " ('panic disorder', 16),\n",
       " ('hep b', 16),\n",
       " ('h-pylori', 16),\n",
       " ('alcohol abuse', 16),\n",
       " ('prostate enlargement', 16),\n",
       " ('2018', 16),\n",
       " ('shingles', 16),\n",
       " ('febrile seizures', 16),\n",
       " ('hearing loss', 16),\n",
       " ('hepatitis b', 16),\n",
       " ('add', 16),\n",
       " ('arrhythmia', 16),\n",
       " ('ovarian cysts', 16),\n",
       " ('acne', 16),\n",
       " ('gastric bypass', 16),\n",
       " ('2 stents', 15),\n",
       " ('one kidney', 15),\n",
       " ('smoking', 15),\n",
       " ('high', 15),\n",
       " ('ectopic pregnancy', 15),\n",
       " ('right knee replacement', 15),\n",
       " ('ventolin', 15),\n",
       " ('knee pain', 15),\n",
       " ('bells palsy', 15),\n",
       " ('glucoma', 15),\n",
       " ('bipass', 15),\n",
       " ('liver cancer', 15),\n",
       " ('nerve pain', 15),\n",
       " ('highcholesterol', 15),\n",
       " ('heartburn', 15),\n",
       " ('aaa', 14),\n",
       " ('knee surgery', 14),\n",
       " ('leaky valve', 14),\n",
       " ('gallbladder removed', 14),\n",
       " ('strep throat', 14),\n",
       " ('c-section', 14),\n",
       " ('aortic stenosis', 14),\n",
       " ('pylori', 14),\n",
       " ('weak bladder', 14),\n",
       " ('diabetic neuropathy', 14),\n",
       " ('bowel obstruction', 14),\n",
       " ('brain tumour', 14),\n",
       " ('stomach acid', 13),\n",
       " ('ca colon', 13),\n",
       " ('thyroid ca', 13),\n",
       " ('gastric ulcer', 13),\n",
       " ('overactive bladder', 13),\n",
       " ('umbilical hernia', 13),\n",
       " ('ulcer', 13),\n",
       " ('chronic kidney disease', 13),\n",
       " ('blood clots', 13),\n",
       " ('chrons', 13),\n",
       " ('tremors', 13),\n",
       " ('hypertention', 13),\n",
       " ('irregular hr', 13),\n",
       " ('see attatched', 13),\n",
       " ('amlodipine', 13),\n",
       " ('gall bladder surgery', 13),\n",
       " ('multiple myeloma', 13),\n",
       " ('bisoprolol', 12),\n",
       " ('lipitor', 12),\n",
       " ('back surgery', 12),\n",
       " ('macular degeneration', 12),\n",
       " ('sinus infection', 12),\n",
       " ('high chole', 12),\n",
       " ('liver disease', 12),\n",
       " ('gall bladder removed', 12),\n",
       " ('peptic ulcer', 12),\n",
       " ('dialysis haemo/pd', 12),\n",
       " ('mi x 2', 12),\n",
       " ('mitral valve prolapse', 12),\n",
       " ('brain cancer', 12),\n",
       " ('sinusitis', 12),\n",
       " ('personality disorder', 12),\n",
       " ('chronic knee pain', 11),\n",
       " ('knee sx', 11),\n",
       " ('suicidal', 11),\n",
       " ('astma', 11),\n",
       " ('double bypass', 11),\n",
       " ('hepatitis', 11),\n",
       " ('fibroid', 11),\n",
       " ('urinary retention', 11),\n",
       " ('aneurism', 11),\n",
       " ('lower back pain', 11),\n",
       " ('open heart surgery', 11),\n",
       " ('no history', 11),\n",
       " ('thyroid cancer', 11),\n",
       " ('norvasc', 11),\n",
       " ('celiac', 11),\n",
       " ('aneurysm', 11),\n",
       " ('gastric reflux', 11),\n",
       " ('atorvastatin', 11),\n",
       " ('right hip replacement', 11),\n",
       " ('mvc', 11),\n",
       " ('ascites', 11),\n",
       " ('kidney', 10),\n",
       " ('heart issues', 10),\n",
       " ('left hip replacement', 10),\n",
       " ('dialysis', 10),\n",
       " ('lasix', 10),\n",
       " ('eltroxin', 10),\n",
       " ('metoprolol', 10),\n",
       " ('developmentally delayed', 10),\n",
       " ('osteopenia', 10),\n",
       " ('lung issues', 10),\n",
       " ('depression/anxiety', 10),\n",
       " ('see mar', 10),\n",
       " ('backpain', 10),\n",
       " ('hard of hearing', 10),\n",
       " ('ileostomy', 10),\n",
       " ('heart blockage', 10),\n",
       " ('deaf', 10),\n",
       " ('mastectomy', 10),\n",
       " ('low platelets', 10),\n",
       " ('choelsterol', 10),\n",
       " ('graves disease', 10),\n",
       " ('kidney infection', 10),\n",
       " ('rh arthritis', 10),\n",
       " ('hctz', 10),\n",
       " ('gallbladder sx', 10),\n",
       " ('ddd', 10),\n",
       " ('paranoia', 10),\n",
       " ('dnr', 10),\n",
       " ('rosuvastatin', 9),\n",
       " ('mitral valve replacement', 9),\n",
       " ('c-diff', 9),\n",
       " ('pre diabetic', 9),\n",
       " ('brain injury', 9),\n",
       " ('cancer', 9),\n",
       " ('tonsilitis', 9),\n",
       " ('fib', 9),\n",
       " ('insulin', 9),\n",
       " ('chronic shoulder pain', 9),\n",
       " ('stent x 2', 9),\n",
       " ('stomach ulcers', 9),\n",
       " ('low hgb', 9),\n",
       " ('headache', 9),\n",
       " ('inguinal hernia', 9),\n",
       " ('restless leg syndrome', 9),\n",
       " ('hyperthyroidism', 9),\n",
       " ('polycystic ovarian syndrome', 9),\n",
       " ('ca breast', 9),\n",
       " (\"chron's disease\", 9),\n",
       " ('type 2 diabetes', 9),\n",
       " ('cerebral palsy', 9),\n",
       " ('head injury', 9),\n",
       " ('amenia', 9),\n",
       " ('cataract surgery', 9),\n",
       " ('hyperemesis', 9),\n",
       " ('stents x 2', 9),\n",
       " ('meningitis', 9),\n",
       " ('inc', 9),\n",
       " ('uric acid', 9),\n",
       " ('see nh papers', 9),\n",
       " ('mi x2', 9),\n",
       " ('cardiac stents', 9),\n",
       " ('right breast ca', 9),\n",
       " ('scleroderma', 9),\n",
       " ('falls', 8),\n",
       " ('osteo arthritis', 8),\n",
       " ('disc problem', 8),\n",
       " ('substance abuse', 8),\n",
       " ('hyponatremia', 8),\n",
       " ('gallbladder stone', 8),\n",
       " ('heart valve replacement', 8),\n",
       " ('pulmonary hypertension', 8),\n",
       " ('ezcema', 8),\n",
       " ('gestational dm', 8),\n",
       " ('recurrent utis', 8),\n",
       " ('stents x 3', 8),\n",
       " ('4 stents', 8),\n",
       " ('brain surgery', 8),\n",
       " ('lobectomy', 8),\n",
       " ('carpal tunnel', 8),\n",
       " ('aortic valve replacement', 8),\n",
       " ('left knee replacement', 8),\n",
       " ('mood disorder', 8),\n",
       " ('arthitis', 8),\n",
       " ('skin cancer', 8),\n",
       " ('heart problems', 8),\n",
       " ('bil', 8),\n",
       " ('gestational diabetes', 8),\n",
       " ('hbd', 8),\n",
       " ('stress', 8),\n",
       " ('pericarditis', 8),\n",
       " ('bladder tumor', 8),\n",
       " ('ablation', 8),\n",
       " ('schizo', 8),\n",
       " ('gallbladder removal', 8),\n",
       " ('ca prostate', 8),\n",
       " ('depresssion', 8),\n",
       " ('see mars', 8),\n",
       " ('niddm hypertension', 8),\n",
       " ('chronic leg pain', 8),\n",
       " ('blood clot', 8),\n",
       " ('melanoma', 7),\n",
       " ('gi bleed', 7),\n",
       " ('fibroid uterus', 7),\n",
       " ('appendicitis', 7),\n",
       " ('down syndrome', 7),\n",
       " ('heart sx', 7),\n",
       " ('bulging disc', 7),\n",
       " ('lymphedema', 7),\n",
       " ('uterine cancer', 7),\n",
       " ('gall bladder removal', 7),\n",
       " ('drug use', 7),\n",
       " ('left knee surgery', 7),\n",
       " ('unsure', 7),\n",
       " ('quadriplegia', 7),\n",
       " ('pyelonephritis', 7),\n",
       " ('ramipril', 7),\n",
       " ('lung problem', 7),\n",
       " ('throid', 7),\n",
       " ('irregular heart rate', 7),\n",
       " ('low fe', 7),\n",
       " ('neck pain', 7),\n",
       " ('c section', 7),\n",
       " ('neonatal jaundice', 7),\n",
       " ('varicose veins', 7),\n",
       " ('low b12', 7),\n",
       " ('liver transplant', 7),\n",
       " ('cholecystitis', 7),\n",
       " ('arhtritis', 7),\n",
       " ('hemorrhoid', 7),\n",
       " ('iud', 7),\n",
       " ('mi 2016', 7),\n",
       " ('ca bladder', 7),\n",
       " ('lung disease', 7),\n",
       " ('mechanical valve', 7),\n",
       " ('bil knee replacement', 7),\n",
       " ('withdrawal seizures', 7),\n",
       " ('seizure disorder', 7),\n",
       " ('recurrent urinary tract infection', 7),\n",
       " ('pleural effusion', 7),\n",
       " ('blind', 7),\n",
       " ('right kidney stone', 7),\n",
       " ('pancreatic ca', 7),\n",
       " ('arrythmias', 7),\n",
       " ('celiac disease', 7),\n",
       " ('chronic body pain', 7),\n",
       " ('dm1', 7),\n",
       " ('colostomy reversed', 7),\n",
       " ('hypercholesterolemia', 6),\n",
       " ('telmisartan', 6),\n",
       " ('haemorrhoids', 6),\n",
       " ('heart', 6),\n",
       " ('haemorrhoid', 6),\n",
       " ('spina bifida', 6),\n",
       " ('allopurinol', 6),\n",
       " ('cardiac issues', 6),\n",
       " ('borderline diabetes', 6),\n",
       " ('vsd', 6),\n",
       " ('shoulder pain', 6),\n",
       " ('thyroid nodules', 6),\n",
       " ('quadruple bypass', 6),\n",
       " ('polycystic kidney disease', 6),\n",
       " ('b/p', 6),\n",
       " ('select from list or enter free tex', 6),\n",
       " ('frequent urinary tract infection', 6),\n",
       " ('arthertitis', 6),\n",
       " ('g6pd', 6),\n",
       " ('tripple bipass', 6),\n",
       " ('mitral valve regurgitation', 6),\n",
       " ('bone problem', 6),\n",
       " ('mental health issues', 6),\n",
       " ('dermatitis', 6),\n",
       " ('flovent', 6),\n",
       " ('thalassemia', 6),\n",
       " ('infection', 6),\n",
       " ('mi 2010', 6),\n",
       " ('abdo hernia', 6),\n",
       " ('endocarditis', 6),\n",
       " ('panto', 6),\n",
       " ('gall stone', 6),\n",
       " ('shoulder injury', 6),\n",
       " ('vitamin b12 deficiency', 6),\n",
       " ('throat infection', 6),\n",
       " ('crohns disease', 6),\n",
       " ('atenolol', 6),\n",
       " ('stent x1', 6),\n",
       " ('low blood pressure', 6),\n",
       " ('5 stents', 6),\n",
       " ('heart murmer', 6),\n",
       " ('asd', 6),\n",
       " ('lumpectomy', 6),\n",
       " ('leg pain', 6),\n",
       " ('2017', 6),\n",
       " ('kidney prob', 6),\n",
       " ('ex smoker', 6),\n",
       " ('high uric acid', 6),\n",
       " ('thrombocytopenia', 6),\n",
       " ('thyroid prob', 6),\n",
       " ('aphasia', 6),\n",
       " ('sinus', 6),\n",
       " ('kidney issue', 6),\n",
       " ('diet controlled diabetes', 6),\n",
       " ('pancreatic cyst', 6),\n",
       " ('degenerative disc disease', 6),\n",
       " ('hiatal hernia', 6),\n",
       " ('dmi', 6),\n",
       " ('rectal cancer', 6),\n",
       " ('kidney tumor', 6),\n",
       " ('atrial fib', 6),\n",
       " ('anemic', 6),\n",
       " ('paraplegia', 6),\n",
       " ('thyroid surgery', 6),\n",
       " ('stent x2', 6),\n",
       " ('g-tube', 6),\n",
       " ('aortic aneurysm', 6),\n",
       " ('bursitis', 6),\n",
       " ('bi polar', 6),\n",
       " ('dysphasia', 6),\n",
       " ('migraine headache', 6),\n",
       " ('irbesartan', 6),\n",
       " ('sciatica pain', 6),\n",
       " ('pantoloc', 6),\n",
       " ('atrial flutter', 6),\n",
       " ('mi 2014', 6),\n",
       " ('dizziness', 6),\n",
       " ('premature', 6),\n",
       " ('migrane', 6),\n",
       " ('lung infection', 6),\n",
       " ('high b/p', 6),\n",
       " ('blocked artery', 6),\n",
       " ('valve problem', 5),\n",
       " ('tonsillitis', 5),\n",
       " ('exzema', 5),\n",
       " ('defibrillator', 5),\n",
       " ('leaky heart valve', 5),\n",
       " ('nerves', 5),\n",
       " ('biplor', 5),\n",
       " ('gall bladder sx', 5),\n",
       " ('gallbladder surgery', 5),\n",
       " ('mi x3', 5),\n",
       " ('atherosclerosis', 5),\n",
       " ('carpel tunnel', 5),\n",
       " ('colonoscopy', 5),\n",
       " ('unk', 5),\n",
       " ('neck surgery', 5),\n",
       " ('arthrits', 5),\n",
       " ('dvt left leg', 5),\n",
       " ('left kidney stone', 5),\n",
       " ('iron', 5),\n",
       " ('peripheral neuropathy', 5),\n",
       " ('kidney ca', 5),\n",
       " ('skin ca', 5),\n",
       " ('hip surgery', 5),\n",
       " ('hiv positive', 5),\n",
       " ('brain aneurysm', 5),\n",
       " ('diff', 5),\n",
       " ('drug user', 5),\n",
       " ('methadone user', 5),\n",
       " ('gastric bypass surgery', 5),\n",
       " ('cll', 5),\n",
       " ('eating disorder', 5),\n",
       " ('hydrocephalus', 5),\n",
       " ('blood transfusion', 5),\n",
       " ('vaginal delivery', 5),\n",
       " ('chronic bronchitis', 5),\n",
       " ('hemiplegia', 5),\n",
       " ('bronchiolitis', 5),\n",
       " ('social anxiety', 5),\n",
       " ('left ovarian cyst', 5),\n",
       " ('nstemi', 5),\n",
       " ('concussions', 5),\n",
       " ('sleeping problem', 5),\n",
       " ('quad bypass', 5),\n",
       " ('cardiac history', 5),\n",
       " ('symbicort', 5),\n",
       " ('cyst', 5),\n",
       " ('legally blind', 5),\n",
       " ('elevated liver enzymes', 5),\n",
       " ('stent x 4', 5),\n",
       " ('varicose vein', 5),\n",
       " ('hydronephrosis', 5),\n",
       " ('nephrectomy', 5),\n",
       " ('esophageal cancer', 5),\n",
       " ('c pap', 5),\n",
       " ('highcholestrol', 5),\n",
       " ('chest infection', 5),\n",
       " (\"meniere's\", 5),\n",
       " ('anaemia', 5),\n",
       " ('fibramyalgia', 5),\n",
       " ('advair', 5),\n",
       " ('bone ca', 5),\n",
       " ('hypoglycemia', 5),\n",
       " ('arrthymia', 5),\n",
       " ('birth control', 5),\n",
       " ('bradycardia', 5),\n",
       " ('psych problem', 5),\n",
       " ('schizoprenia', 5),\n",
       " ('splenectomy', 5),\n",
       " ('pancreatic cancer', 5),\n",
       " ('cvd', 5),\n",
       " ('myasthenia gravis', 5),\n",
       " ('migrannes', 5),\n",
       " ('right knee surgery', 5),\n",
       " ('3 stents', 5),\n",
       " ('right knee injury', 5),\n",
       " ('nerve damage', 5),\n",
       " ('skin problem', 5),\n",
       " ('prednisone', 5),\n",
       " ('cardiac arrest', 5),\n",
       " ('testicular cancer', 5),\n",
       " ('irregular heartbeat', 5),\n",
       " ('chronic diarrhea', 5),\n",
       " ('gallbladder', 5),\n",
       " ('bladder tumour', 5),\n",
       " ('kidney cancer', 5),\n",
       " ('c-section x2', 5),\n",
       " ('bipolar disorder', 5),\n",
       " ('marijuana use', 5),\n",
       " ('bilateral knee replacement', 5),\n",
       " ('hystrectomy', 5),\n",
       " ('plavix', 5),\n",
       " ('syncope', 5),\n",
       " ('tinnitus', 5),\n",
       " ('stomach problems', 5),\n",
       " ('polio', 5),\n",
       " ('miscarriage x1', 5),\n",
       " ('cholsetrol', 5),\n",
       " ('triple bi-pass', 5),\n",
       " ('heart condition', 5),\n",
       " ('chole', 5),\n",
       " ('polymyalgia', 5),\n",
       " ('wpw', 5),\n",
       " ('niddn', 5),\n",
       " ('open heart sx', 5),\n",
       " ('prostate issues', 5),\n",
       " ('bcp', 5),\n",
       " ('reflux', 5),\n",
       " ('7 stents', 5),\n",
       " ('high choles', 5),\n",
       " ('angio', 5),\n",
       " ('low potassium', 5),\n",
       " ('tmj', 4),\n",
       " ('enlarged liver', 4),\n",
       " ('chronic constipation', 4),\n",
       " ('flomax', 4),\n",
       " (\"chron's\", 4),\n",
       " ('mild asthma', 4),\n",
       " ('normal delivery', 4),\n",
       " ('pancytopenia', 4),\n",
       " ('carotid stenosis', 4),\n",
       " ('rsv', 4),\n",
       " ('abscess', 4),\n",
       " ('born 38wks', 4),\n",
       " ('joint pain', 4),\n",
       " ('polycystic ovaries', 4),\n",
       " ('seroquel', 4),\n",
       " ('no complications in pregnancy or delivery', 4),\n",
       " ('spinal surgery', 4),\n",
       " ('osteoarthrisis', 4),\n",
       " ('pericardial effusion', 4),\n",
       " ('tripple bypass', 4),\n",
       " ('sinus problem', 4),\n",
       " ('mental health issue', 4),\n",
       " ('tylenol', 4),\n",
       " ('indapamide', 4),\n",
       " ('ativan', 4),\n",
       " ('knee problem', 4),\n",
       " ('trigeminal neuralgia', 4),\n",
       " ('ca kidney', 4),\n",
       " ('pneumothorax', 4),\n",
       " ('cardiac stent x2', 4),\n",
       " ('depressive', 4),\n",
       " ('heart valve problem', 4),\n",
       " ('acid', 4),\n",
       " ('pcod', 4),\n",
       " ('gliclazide', 4),\n",
       " ('janumet', 4),\n",
       " ('sinus issues', 4),\n",
       " ('restless legs', 4),\n",
       " ('mitral valve repair', 4),\n",
       " ('utis', 4),\n",
       " ('anxiety depression', 4),\n",
       " ('sci', 4),\n",
       " ('psoriatic arthritis', 4),\n",
       " ('cardiac stent x1', 4),\n",
       " ('stent x 3', 4),\n",
       " ('stomach', 4),\n",
       " ('type 2 diabetic', 4),\n",
       " ('proteinuria', 4),\n",
       " ('gi problem', 4),\n",
       " ('cipro', 4),\n",
       " ('parkison', 4),\n",
       " ('low hbg', 4),\n",
       " ('ventral hernia repair', 4),\n",
       " ('alcohol use', 4),\n",
       " ('cholesterol niddm', 4),\n",
       " ('ibd', 4),\n",
       " ('defib', 4),\n",
       " ('lung problems', 4),\n",
       " ('dysmenorrhea', 4),\n",
       " ('multiple myloma', 4),\n",
       " ('cocaine', 4),\n",
       " ('levothyroxine', 4),\n",
       " ('rectal bleed', 4),\n",
       " ('atrovastatin', 4),\n",
       " ('rbbb', 4),\n",
       " ('liver prob', 4),\n",
       " ('iron defiency', 4),\n",
       " ('dm 2', 4),\n",
       " ('two cardiac stents', 4),\n",
       " ('miscarriage', 4),\n",
       " ('no complications', 4),\n",
       " ('acs', 4),\n",
       " ('aneamia', 4),\n",
       " ('bronchiectasis', 4),\n",
       " ('rectal ca', 4),\n",
       " ('hip fracture', 4),\n",
       " ('iron deficiency anemia', 4),\n",
       " ('hole in heart', 4),\n",
       " ('eplisepy', 4),\n",
       " ('6 stents', 4),\n",
       " ('renal stones', 4),\n",
       " ('right kidney transplant', 4),\n",
       " ('bowel resection', 4),\n",
       " ('chrons disease', 4),\n",
       " ('partial hysterectomy', 4),\n",
       " ('ca left breast', 4),\n",
       " ('hip pain', 4),\n",
       " ('artritis', 4),\n",
       " ('rheumatoid athritis', 4),\n",
       " ('hernia surgery', 4),\n",
       " ('2stents', 4),\n",
       " ('hip sx', 4),\n",
       " ('vasculitis', 4),\n",
       " ('bi-pass', 4),\n",
       " ('amoxicillin', 4),\n",
       " ('calcium', 4),\n",
       " ('ich', 4),\n",
       " ('abd hernia', 4),\n",
       " ('nsvd', 4),\n",
       " ('dyslipedemia', 4),\n",
       " (\"urinary tract infection 's\", 4),\n",
       " ('hematuria', 4),\n",
       " ('dystonia', 4),\n",
       " ('abcess', 4),\n",
       " ('chronic neck pain', 4),\n",
       " ('chest pain p', 4),\n",
       " ('developmental delayed', 4),\n",
       " ('sciatic pain', 4),\n",
       " ('pantoprazole', 4),\n",
       " ('hypertension high chol', 4),\n",
       " ('mental illness', 4),\n",
       " ('b12 deficiency', 4),\n",
       " ('hiv +', 4),\n",
       " ('coccaine user', 4),\n",
       " ('hight cholesterol', 4),\n",
       " ('gallbladder stones', 4),\n",
       " ('recent urinary tract infection', 4),\n",
       " ('anxiety/depression', 4),\n",
       " ('cholelithiasis', 4),\n",
       " ('upper gi bleed', 4),\n",
       " ('c-section x3', 4),\n",
       " ('polycythemia', 4),\n",
       " ('arthtritis', 4),\n",
       " ('mi 2 years ago', 4),\n",
       " ('liver cirrohsis', 4),\n",
       " ('aki', 4),\n",
       " ('mvp', 4),\n",
       " ('thyroid removed', 4),\n",
       " ('vit d', 4),\n",
       " ('osa', 4),\n",
       " ('borderline diabetic', 4),\n",
       " ('headaches', 4),\n",
       " ('cleft lip and palate', 4),\n",
       " ('gestational hypertension', 4),\n",
       " ('liver ca', 4),\n",
       " ('gluacoma', 4),\n",
       " ('bilateral hip replacement', 4),\n",
       " ('chronic lower back pain', 4),\n",
       " ('left sided weakness', 4),\n",
       " ('fibromylagia', 4),\n",
       " ('mi with stents', 4),\n",
       " ('right knee pain', 4),\n",
       " ('stent x3', 4),\n",
       " ('tachycardia', 4),\n",
       " ('liver failure', 4),\n",
       " ('frequent falls', 4),\n",
       " ('cholsterol', 4),\n",
       " ('thyrodectomy', 4),\n",
       " ('on blood thinner', 4),\n",
       " ('morphine', 4),\n",
       " ('bil hip replacement', 4),\n",
       " ('migrains', 4),\n",
       " ('ear infections', 4),\n",
       " ('penumonia', 4),\n",
       " ('chronic headache', 4),\n",
       " ('synthriod', 4),\n",
       " ('cognitive impairment', 4),\n",
       " ('tubal ligation', 4),\n",
       " ('low thyroid', 4),\n",
       " ('suicidal ideation', 4),\n",
       " ('sickle cell disease', 3),\n",
       " ('ascending aortic aneurysm', 3),\n",
       " ('ca lung', 3),\n",
       " ('leukaemia', 3),\n",
       " ('excema', 3),\n",
       " ('spinal sx', 3),\n",
       " ('vaginal bleed', 3),\n",
       " ('niddm high chol', 3),\n",
       " ('folic acid', 3),\n",
       " ('hht', 3),\n",
       " ('lvh', 3),\n",
       " ('left shoulder injury', 3),\n",
       " ('esophagitis', 3),\n",
       " ('gall bladder', 3),\n",
       " ('hypokalemia', 3),\n",
       " ('diet controlled diabetic', 3),\n",
       " ('2018)', 3),\n",
       " ('otitis media', 3),\n",
       " ('vit b12 deficiency', 3),\n",
       " ('one kidney removed', 3),\n",
       " ('mrsa', 3),\n",
       " ('mi with stent', 3),\n",
       " ('no meds', 3),\n",
       " ('chronic foot pain', 3),\n",
       " ('demenita', 3),\n",
       " ('stents x3', 3),\n",
       " ('knee injury', 3),\n",
       " ('psorisis', 3),\n",
       " ('bone cancer', 3),\n",
       " ('immunizations up to date', 3),\n",
       " ('learning disability', 3),\n",
       " ('kidney cyst', 3),\n",
       " ('tavi', 3),\n",
       " ('sinus problems', 3),\n",
       " ('menopause', 3),\n",
       " ('methadone', 3),\n",
       " ('clarithromycin', 3),\n",
       " ('protein in urine', 3),\n",
       " ('ecsema', 3),\n",
       " ('osteoarthrosis', 3),\n",
       " ('addisons disease', 3),\n",
       " ('blood disorder', 3),\n",
       " ('cardiac myopathy', 3),\n",
       " ('heart attack x2', 3),\n",
       " ('sepsis', 3),\n",
       " ('gastroparesis', 3),\n",
       " ('5 years ago', 3),\n",
       " ('parkinsons disease', 3),\n",
       " ('coversyl', 3),\n",
       " ('losec', 3),\n",
       " ('diamicron', 3),\n",
       " ('double mastectomy', 3),\n",
       " ('hernia sx', 3),\n",
       " ('eye infection', 3),\n",
       " ('right femur fracture', 3),\n",
       " ('liver issues', 3),\n",
       " ('headinjury', 3),\n",
       " ('fall risk', 3),\n",
       " ('niidm', 3),\n",
       " ('hyperlipdemia', 3),\n",
       " ('thyroidism', 3),\n",
       " ('no med history', 3),\n",
       " (\"bell's palsy\", 3),\n",
       " ('type 2 dm', 3),\n",
       " ('thyroid nodule', 3),\n",
       " ('right nephrectomy', 3),\n",
       " ('duodenal ulcer', 3),\n",
       " ('heart valve repair', 3),\n",
       " ('advil', 3),\n",
       " ('naproxen', 3),\n",
       " ('sinus sx', 3),\n",
       " ('unknown history', 3),\n",
       " ('pci', 3),\n",
       " ('low back pain', 3),\n",
       " ('fibromaglia', 3),\n",
       " ('hemorhoids', 3),\n",
       " ('interstitial lung disease', 3),\n",
       " ('myocarditis', 3),\n",
       " ('arf', 3),\n",
       " ('peripheral artery disease', 3),\n",
       " ('latent tb', 3),\n",
       " ('borderline dm', 3),\n",
       " ('artificial heart valve', 3),\n",
       " ('degenerative disc', 3),\n",
       " ('intracranial hypertension', 3),\n",
       " ('heart transplant', 3),\n",
       " ('downs syndrome', 3),\n",
       " ('irregular periods', 3),\n",
       " ('acidity', 3),\n",
       " ('phlebitis', 3),\n",
       " ('needs aortic valve replacement', 3),\n",
       " ('als', 3),\n",
       " ('quad bipass', 3),\n",
       " ('pituitary gland tumor', 3),\n",
       " ('low platelet', 3),\n",
       " ('suicide attempt', 3),\n",
       " ('eye sx', 3),\n",
       " ('nidddm', 3),\n",
       " ('home o2', 3),\n",
       " (\"reynaud's\", 3),\n",
       " ('hay fever', 3),\n",
       " ('alopecia', 3),\n",
       " ('heart bypass', 3),\n",
       " ('lung prob', 3),\n",
       " ('q fever', 3),\n",
       " ('enlarge heart', 3),\n",
       " ('left knee sx', 3),\n",
       " ('gilbert syndrome', 3),\n",
       " ('dm type 2', 3),\n",
       " ('scabies', 3),\n",
       " ('cymbalta', 3),\n",
       " ('decrease hearing', 3),\n",
       " ('daibetes', 3),\n",
       " ('croups', 3),\n",
       " ('vitamins', 3),\n",
       " ('pid', 3),\n",
       " ('surgery done', 3),\n",
       " ('see note', 3),\n",
       " ('ostearthritis', 3),\n",
       " ('suicidal attempts', 3),\n",
       " ('senokot', 3),\n",
       " ('polycythemia vera', 3),\n",
       " ('cardiomegally', 3),\n",
       " ('stroke last year', 3),\n",
       " ('skin eczema', 3),\n",
       " ('withdrawal seizure', 3),\n",
       " ('obese', 3),\n",
       " ('bilat knee surgery', 3),\n",
       " ('throat cancer', 3),\n",
       " ('memory problem', 3),\n",
       " ('rhumatoid arthritis', 3),\n",
       " ('substance use', 3),\n",
       " ('gastric cancer', 3),\n",
       " ('leg edema', 3),\n",
       " ('mi 2012', 3),\n",
       " ('epistaxis', 3),\n",
       " ('hallucinations', 3),\n",
       " ('fertility treatment', 3),\n",
       " ('clonazepam', 3),\n",
       " ('cervical cancer', 3),\n",
       " ('borderline hypertension', 3),\n",
       " ('left wrist fracture', 3),\n",
       " ('tia x2', 3),\n",
       " ('bi pass', 3),\n",
       " ...]"
      ]
     },
     "execution_count": 171,
     "metadata": {},
     "output_type": "execute_result"
    }
   ],
   "source": [
    "#sorted diagnoses\n",
    "diagnoses.most_common()"
   ]
  },
  {
   "cell_type": "code",
   "execution_count": 172,
   "metadata": {},
   "outputs": [],
   "source": [
    "#this is a dictionary mapping the rank of the diagnosis to its name\n",
    "dx_rank_dict = {item[0]:i+1 for i,item in enumerate(diagnoses.most_common())}\n",
    "\n",
    "#this is a dictionary mapping the frequency of occurence to its name\n",
    "dx_freq_dict = {item[0]:item[1]/len(diagnoses) for item in diagnoses.most_common()}"
   ]
  },
  {
   "cell_type": "code",
   "execution_count": 173,
   "metadata": {},
   "outputs": [],
   "source": [
    "#trying to get a feel for how many diagoses are provided for each patient\n",
    "split_hist_len = [len(item) for item in split_hist]\n",
    "hxdf = pd.DataFrame(split_hist_len)"
   ]
  },
  {
   "cell_type": "code",
   "execution_count": 174,
   "metadata": {},
   "outputs": [
    {
     "data": {
      "text/html": [
       "<div>\n",
       "<style scoped>\n",
       "    .dataframe tbody tr th:only-of-type {\n",
       "        vertical-align: middle;\n",
       "    }\n",
       "\n",
       "    .dataframe tbody tr th {\n",
       "        vertical-align: top;\n",
       "    }\n",
       "\n",
       "    .dataframe thead th {\n",
       "        text-align: right;\n",
       "    }\n",
       "</style>\n",
       "<table border=\"1\" class=\"dataframe\">\n",
       "  <thead>\n",
       "    <tr style=\"text-align: right;\">\n",
       "      <th></th>\n",
       "      <th>0</th>\n",
       "    </tr>\n",
       "  </thead>\n",
       "  <tbody>\n",
       "    <tr>\n",
       "      <th>count</th>\n",
       "      <td>63474.000000</td>\n",
       "    </tr>\n",
       "    <tr>\n",
       "      <th>mean</th>\n",
       "      <td>1.660302</td>\n",
       "    </tr>\n",
       "    <tr>\n",
       "      <th>std</th>\n",
       "      <td>1.248240</td>\n",
       "    </tr>\n",
       "    <tr>\n",
       "      <th>min</th>\n",
       "      <td>0.000000</td>\n",
       "    </tr>\n",
       "    <tr>\n",
       "      <th>25%</th>\n",
       "      <td>1.000000</td>\n",
       "    </tr>\n",
       "    <tr>\n",
       "      <th>50%</th>\n",
       "      <td>1.000000</td>\n",
       "    </tr>\n",
       "    <tr>\n",
       "      <th>75%</th>\n",
       "      <td>2.000000</td>\n",
       "    </tr>\n",
       "    <tr>\n",
       "      <th>max</th>\n",
       "      <td>21.000000</td>\n",
       "    </tr>\n",
       "  </tbody>\n",
       "</table>\n",
       "</div>"
      ],
      "text/plain": [
       "                  0\n",
       "count  63474.000000\n",
       "mean       1.660302\n",
       "std        1.248240\n",
       "min        0.000000\n",
       "25%        1.000000\n",
       "50%        1.000000\n",
       "75%        2.000000\n",
       "max       21.000000"
      ]
     },
     "execution_count": 174,
     "metadata": {},
     "output_type": "execute_result"
    }
   ],
   "source": [
    "hxdf.describe()"
   ]
  },
  {
   "cell_type": "code",
   "execution_count": 175,
   "metadata": {},
   "outputs": [
    {
     "data": {
      "text/plain": [
       "Counter({2: 8749,\n",
       "         1: 43316,\n",
       "         3: 5599,\n",
       "         4: 3106,\n",
       "         9: 67,\n",
       "         6: 629,\n",
       "         7: 272,\n",
       "         5: 1423,\n",
       "         0: 97,\n",
       "         8: 147,\n",
       "         11: 19,\n",
       "         10: 32,\n",
       "         12: 7,\n",
       "         19: 1,\n",
       "         21: 1,\n",
       "         13: 5,\n",
       "         15: 2,\n",
       "         14: 1,\n",
       "         17: 1})"
      ]
     },
     "execution_count": 175,
     "metadata": {},
     "output_type": "execute_result"
    }
   ],
   "source": [
    "lengths = Counter(split_hist_len); lengths"
   ]
  },
  {
   "cell_type": "code",
   "execution_count": 176,
   "metadata": {},
   "outputs": [
    {
     "name": "stdout",
     "output_type": "stream",
     "text": [
      "0 0.152818%\n",
      "1 68.242115%\n",
      "2 13.783596%\n",
      "3 8.820935%\n",
      "4 4.893342%\n",
      "5 2.241863%\n",
      "6 0.990957%\n",
      "7 0.428522%\n",
      "8 0.231591%\n",
      "9 0.105555%\n",
      "10 0.050414%\n",
      "11 0.029934%\n",
      "12 0.011028%\n",
      "13 0.007877%\n",
      "14 0.001575%\n",
      "15 0.003151%\n",
      "17 0.001575%\n",
      "19 0.001575%\n",
      "21 0.001575%\n"
     ]
    }
   ],
   "source": [
    "#most patients have only a single diagnosis, 80% have 2 or less, 96% have 6 or less\n",
    "for k,v in sorted(lengths.items()):\n",
    "    print (k, '{0:2f}%'.format(v*100/len(split_hist_len)))"
   ]
  },
  {
   "cell_type": "code",
   "execution_count": 177,
   "metadata": {},
   "outputs": [],
   "source": [
    "#this will create a list for each item where the top 6 diagnoses are listed in order\n",
    "ordered_hist = []\n",
    "for item in split_hist:\n",
    "    #print (item)\n",
    "    #print (len(item))\n",
    "    top_6 = []\n",
    "    for hx in item:\n",
    "        #print (hx)\n",
    "        #print (dx_rank_dict[hx])\n",
    "        #print (dx_rank_dict[hx], hx)\n",
    "        if item == 'nan':\n",
    "            top_6.append(np.nan)\n",
    "        else:\n",
    "            top_6.append((dx_rank_dict[hx], hx))\n",
    "    #print (top_6)\n",
    "    sort = sorted(top_6)\n",
    "    #print (sort)\n",
    "    sort2 = [ii for i,ii in sort]\n",
    "    #print(sort2)\n",
    "    if len(sort2) > 6:\n",
    "        sort2 = sort2[:5]\n",
    "    if len(sort2) < 6:\n",
    "        pad_req = 6-len(sort2)\n",
    "        i = 0\n",
    "        while i < pad_req:\n",
    "            sort2.append(np.nan) #('n/a')\n",
    "            i = i+1\n",
    "        \n",
    "    #print (top_6)\n",
    "    #print (sorted(top_6))\n",
    "    ordered_hist.append(sort2)\n",
    "    #print ('next item')\n",
    "    #print ()"
   ]
  },
  {
   "cell_type": "code",
   "execution_count": 178,
   "metadata": {},
   "outputs": [
    {
     "data": {
      "text/plain": [
       "(63474, 6)"
      ]
     },
     "execution_count": 178,
     "metadata": {},
     "output_type": "execute_result"
    }
   ],
   "source": [
    "medhx_df = pd.DataFrame(ordered_hist, columns = ['medhx' + str(i+1) for i in range(6)])\n",
    "medhx_df.shape"
   ]
  },
  {
   "cell_type": "code",
   "execution_count": 179,
   "metadata": {},
   "outputs": [
    {
     "data": {
      "text/plain": [
       "[['hypertension', 'mitral valve regurgitation', nan, nan, nan, nan],\n",
       " ['no significant medical history', nan, nan, nan, nan, nan],\n",
       " ['no significant medical history', nan, nan, nan, nan, nan],\n",
       " ['no significant medical history', nan, nan, nan, nan, nan],\n",
       " ['asthma', nan, nan, nan, nan, nan],\n",
       " ['no significant medical history', nan, nan, nan, nan, nan],\n",
       " ['no significant medical history', nan, nan, nan, nan, nan],\n",
       " ['hypertension', 'high cholesterol', 'hypothyroid', 'tia', nan, nan],\n",
       " ['no significant medical history', nan, nan, nan, nan, nan],\n",
       " ['asthma', nan, nan, nan, nan, nan],\n",
       " ['niddm', 'tia', nan, nan, nan, nan],\n",
       " ['pancreatitis', nan, nan, nan, nan, nan],\n",
       " ['hypertension', 'anemia', 'copd', 'dementia', 'cva', 'osteoarthritis'],\n",
       " ['no significant medical history', nan, nan, nan, nan, nan],\n",
       " ['no significant medical history', nan, nan, nan, nan, nan],\n",
       " ['no significant medical history', nan, nan, nan, nan, nan],\n",
       " ['no significant medical history',\n",
       "  'no significant medical history',\n",
       "  nan,\n",
       "  nan,\n",
       "  nan,\n",
       "  nan],\n",
       " ['knee repair', nan, nan, nan, nan, nan],\n",
       " ['hypothyroid', nan, nan, nan, nan, nan],\n",
       " ['no significant medical history', nan, nan, nan, nan, nan]]"
      ]
     },
     "execution_count": 179,
     "metadata": {},
     "output_type": "execute_result"
    }
   ],
   "source": [
    "ordered_hist[2000:2020]"
   ]
  },
  {
   "cell_type": "code",
   "execution_count": 180,
   "metadata": {},
   "outputs": [],
   "source": [
    "comorbids = []\n",
    "\n",
    "for item in ordered_hist:\n",
    "    res = [x for x in item if str(x) != 'nan']\n",
    "    if len(res) == 0: comorbids.append(np.nan)\n",
    "    else:\n",
    "        res = [x for x in res if x != 'no significant medical history']\n",
    "        #print (res, len(res))\n",
    "        comorbids.append(len(res))"
   ]
  },
  {
   "cell_type": "code",
   "execution_count": 181,
   "metadata": {
    "scrolled": true
   },
   "outputs": [
    {
     "name": "stderr",
     "output_type": "stream",
     "text": [
      "/Users/jjaskolkambp/anaconda3/lib/python3.6/site-packages/ipykernel/__main__.py:2: SettingWithCopyWarning: \n",
      "A value is trying to be set on a copy of a slice from a DataFrame.\n",
      "Try using .loc[row_indexer,col_indexer] = value instead\n",
      "\n",
      "See the caveats in the documentation: http://pandas.pydata.org/pandas-docs/stable/indexing.html#indexing-view-versus-copy\n",
      "  from ipykernel import kernelapp as app\n"
     ]
    }
   ],
   "source": [
    "#so now I want to add this to the tabular data frame\n",
    "tab_df['num_comorbids'] = comorbids"
   ]
  },
  {
   "cell_type": "code",
   "execution_count": 182,
   "metadata": {},
   "outputs": [],
   "source": [
    "clin['num_comorbids'] = comorbids"
   ]
  },
  {
   "cell_type": "code",
   "execution_count": 185,
   "metadata": {},
   "outputs": [
    {
     "data": {
      "text/plain": [
       "(63474, 47)"
      ]
     },
     "execution_count": 185,
     "metadata": {},
     "output_type": "execute_result"
    }
   ],
   "source": [
    "clin.shape"
   ]
  },
  {
   "cell_type": "code",
   "execution_count": 189,
   "metadata": {},
   "outputs": [],
   "source": [
    "#gonna merge the screening questions into the main dataframe\n",
    "screening_df.index = clin.index\n",
    "\n",
    "clin = pd.concat([clin,screening_df], axis = 1)"
   ]
  },
  {
   "cell_type": "code",
   "execution_count": 201,
   "metadata": {},
   "outputs": [
    {
     "data": {
      "text/plain": [
       "(63474, 57)"
      ]
     },
     "execution_count": 201,
     "metadata": {},
     "output_type": "execute_result"
    }
   ],
   "source": [
    "clin.shape"
   ]
  },
  {
   "cell_type": "markdown",
   "metadata": {},
   "source": [
    "### now I'm going to make a couple of balanced datasets"
   ]
  },
  {
   "cell_type": "code",
   "execution_count": 202,
   "metadata": {},
   "outputs": [
    {
     "data": {
      "text/plain": [
       "(Counter({1: 56890, 2: 5792, 3: 696, 4: 96}), Counter({1: 56890, 0: 6584}))"
      ]
     },
     "execution_count": 202,
     "metadata": {},
     "output_type": "execute_result"
    }
   ],
   "source": [
    "Counter(clin.target), Counter(clin.target3)"
   ]
  },
  {
   "cell_type": "code",
   "execution_count": 203,
   "metadata": {},
   "outputs": [],
   "source": [
    "admit_df = clin[clin.target3 == 0]\n",
    "\n",
    "dc_df = clin[clin.target3==1]\n",
    "dc_df = dc_df.sample(n= len(admit_df))  #this is the number of admissions from target 3\n"
   ]
  },
  {
   "cell_type": "code",
   "execution_count": 204,
   "metadata": {},
   "outputs": [],
   "source": [
    "balanced_df1 = pd.concat([admit_df, dc_df], axis = 0)"
   ]
  },
  {
   "cell_type": "code",
   "execution_count": 205,
   "metadata": {},
   "outputs": [
    {
     "data": {
      "text/plain": [
       "Index(['ID', 'ChartNumber', 'EncounterNumber', 'TriageLevel', 'AgeNumber',\n",
       "       'AgeInYrs', 'GenderDesc', 'Triage Date & Time', 'Reg Date & Time',\n",
       "       'PIA Date & Time', 'Disposition Date & Time', 'DischargeDisposition',\n",
       "       'DischargeDispositionDesc', 'Left ED Date & Time',\n",
       "       'PresentingComplaint', 'PresentingComplaintDesc', 'MainDiagnosisCode',\n",
       "       'MainDiagnosisCodeDesc', 'AdmitLocation', 'PatientService',\n",
       "       'SubjectiveNotes', 'InfectionControlScreening', 'MedicalHistory',\n",
       "       'BloodPressure_LastEDReading', 'O2Saturation_LastEDReading',\n",
       "       'Pulse_LastEDReading', 'Temperature_LastEDReading', 'o2sat', 'pulse',\n",
       "       'temp', 'CleanSubjectiveNotes', 'BP', 'systolic', 'diastolic', 'Gender',\n",
       "       'outcome', 'target', 'service', 'target2', 'discharge', 'target3',\n",
       "       'dispo', 'target4', 'ICUvsother', 'target5', 'pmhx', 'num_comorbids',\n",
       "       'Are you feeling feverish or have had shakes or chills in the last 24 hours?',\n",
       "       'Have you ever been isolated/required isolation for an infectious disease when receiving care in a healthcare setting?',\n",
       "       'Do you have a new Rash?',\n",
       "       'Do you have a new onset of Vomiting/Diarrhea in the last 24 hours?',\n",
       "       'Have you travelled outside of Canada/USA in the last 3 weeks?',\n",
       "       'Have you had contact with a sick person who has travelled outside of Canada/USA in the last 3 weeks?',\n",
       "       'Have you received Health Care in another country in the last 2 years?',\n",
       "       'Do you have a new/worse cough or shortness of breath?',\n",
       "       'If so, select all countries that apply',\n",
       "       'If so, select all infectious diseases that apply'],\n",
       "      dtype='object')"
      ]
     },
     "execution_count": 205,
     "metadata": {},
     "output_type": "execute_result"
    }
   ],
   "source": [
    "balanced_df1.columns"
   ]
  },
  {
   "cell_type": "code",
   "execution_count": 206,
   "metadata": {},
   "outputs": [],
   "source": [
    "icu_df = clin[clin.target2 == 4]\n",
    "madmit_df = clin[clin.target2 ==3].sample(n = len(icu_df))\n",
    "sadmit_df = clin[clin.target2 ==2].sample(n = len(icu_df))\n",
    "disc_df = clin[clin.target2 == 1].sample(n = len(icu_df))"
   ]
  },
  {
   "cell_type": "code",
   "execution_count": 207,
   "metadata": {},
   "outputs": [],
   "source": [
    "#this is a dataframe with equal numbers of all 4 classes\n",
    "balanced_df2 = pd.concat([icu_df, madmit_df, sadmit_df, disc_df], axis = 0)"
   ]
  },
  {
   "cell_type": "code",
   "execution_count": 208,
   "metadata": {},
   "outputs": [],
   "source": [
    "non_icu_df = clin[clin.target2 !=4].sample(n = len(icu_df))"
   ]
  },
  {
   "cell_type": "code",
   "execution_count": 209,
   "metadata": {},
   "outputs": [],
   "source": [
    "balanced_df3 = pd.concat([icu_df, non_icu_df], axis = 0)"
   ]
  },
  {
   "cell_type": "code",
   "execution_count": 210,
   "metadata": {},
   "outputs": [
    {
     "data": {
      "text/plain": [
       "Index(['ID', 'ChartNumber', 'EncounterNumber', 'TriageLevel', 'AgeNumber',\n",
       "       'AgeInYrs', 'GenderDesc', 'Triage Date & Time', 'Reg Date & Time',\n",
       "       'PIA Date & Time', 'Disposition Date & Time', 'DischargeDisposition',\n",
       "       'DischargeDispositionDesc', 'Left ED Date & Time',\n",
       "       'PresentingComplaint', 'PresentingComplaintDesc', 'MainDiagnosisCode',\n",
       "       'MainDiagnosisCodeDesc', 'AdmitLocation', 'PatientService',\n",
       "       'SubjectiveNotes', 'InfectionControlScreening', 'MedicalHistory',\n",
       "       'BloodPressure_LastEDReading', 'O2Saturation_LastEDReading',\n",
       "       'Pulse_LastEDReading', 'Temperature_LastEDReading', 'o2sat', 'pulse',\n",
       "       'temp', 'CleanSubjectiveNotes', 'BP', 'systolic', 'diastolic', 'Gender',\n",
       "       'outcome', 'target', 'service', 'target2', 'discharge', 'target3',\n",
       "       'dispo', 'target4', 'ICUvsother', 'target5', 'pmhx', 'num_comorbids',\n",
       "       'Are you feeling feverish or have had shakes or chills in the last 24 hours?',\n",
       "       'Have you ever been isolated/required isolation for an infectious disease when receiving care in a healthcare setting?',\n",
       "       'Do you have a new Rash?',\n",
       "       'Do you have a new onset of Vomiting/Diarrhea in the last 24 hours?',\n",
       "       'Have you travelled outside of Canada/USA in the last 3 weeks?',\n",
       "       'Have you had contact with a sick person who has travelled outside of Canada/USA in the last 3 weeks?',\n",
       "       'Have you received Health Care in another country in the last 2 years?',\n",
       "       'Do you have a new/worse cough or shortness of breath?',\n",
       "       'If so, select all countries that apply',\n",
       "       'If so, select all infectious diseases that apply'],\n",
       "      dtype='object')"
      ]
     },
     "execution_count": 210,
     "metadata": {},
     "output_type": "execute_result"
    }
   ],
   "source": [
    "balanced_df3.columns"
   ]
  },
  {
   "cell_type": "markdown",
   "metadata": {},
   "source": [
    "## saving dataframes to csv files"
   ]
  },
  {
   "cell_type": "code",
   "execution_count": 211,
   "metadata": {},
   "outputs": [],
   "source": [
    "balanced_df1.to_csv(data_path + '/balanced_admit_dc_nlp_data.csv')\n",
    "\n",
    "balanced_df2.to_csv(data_path +'/balanced_4cls_nlp_data.csv')\n",
    "\n",
    "balanced_df3.to_csv(data_path +'/balanced_icuvsother_nlp_data.csv')\n",
    "\n",
    "target_df.to_csv(data_path  + '/targets.csv')\n",
    "\n",
    "screening_df.to_csv(data_path + '/inf_control_data.csv')\n",
    "\n",
    "tab_df.to_csv(data_path + '/tabular_data.csv')\n",
    "\n",
    "date_df.to_csv(data_path + '/data_data.csv')\n",
    "\n",
    "subj_df.to_csv(data_path + '/subj_data.csv')\n",
    "\n",
    "medhx_df.to_csv(data_path + '/med_hx.csv')"
   ]
  },
  {
   "cell_type": "code",
   "execution_count": 212,
   "metadata": {},
   "outputs": [
    {
     "data": {
      "text/html": [
       "<div>\n",
       "<style scoped>\n",
       "    .dataframe tbody tr th:only-of-type {\n",
       "        vertical-align: middle;\n",
       "    }\n",
       "\n",
       "    .dataframe tbody tr th {\n",
       "        vertical-align: top;\n",
       "    }\n",
       "\n",
       "    .dataframe thead th {\n",
       "        text-align: right;\n",
       "    }\n",
       "</style>\n",
       "<table border=\"1\" class=\"dataframe\">\n",
       "  <thead>\n",
       "    <tr style=\"text-align: right;\">\n",
       "      <th></th>\n",
       "      <th>CleanSubjectiveNotes</th>\n",
       "      <th>pmhx</th>\n",
       "    </tr>\n",
       "  </thead>\n",
       "  <tbody>\n",
       "    <tr>\n",
       "      <th>511</th>\n",
       "      <td>complains of central chest tighypertensioness ...</td>\n",
       "      <td>childhood heart murmur, drug abuse</td>\n",
       "    </tr>\n",
       "    <tr>\n",
       "      <th>754</th>\n",
       "      <td>patient says noted blood in stool yesterday an...</td>\n",
       "      <td>seizure</td>\n",
       "    </tr>\n",
       "    <tr>\n",
       "      <th>755</th>\n",
       "      <td>right flank pain since morning,on her periods ...</td>\n",
       "      <td>no significant medical history, ovarian cyst</td>\n",
       "    </tr>\n",
       "    <tr>\n",
       "      <th>757</th>\n",
       "      <td>abdo pain onset monday,not seen by family doctor</td>\n",
       "      <td>no significant medical history</td>\n",
       "    </tr>\n",
       "    <tr>\n",
       "      <th>758</th>\n",
       "      <td>fell last monday landed on ground, \" dizzy\" at...</td>\n",
       "      <td>high cholesterol, 2 stents 2014, low bp</td>\n",
       "    </tr>\n",
       "  </tbody>\n",
       "</table>\n",
       "</div>"
      ],
      "text/plain": [
       "                                  CleanSubjectiveNotes  \\\n",
       "511  complains of central chest tighypertensioness ...   \n",
       "754  patient says noted blood in stool yesterday an...   \n",
       "755  right flank pain since morning,on her periods ...   \n",
       "757  abdo pain onset monday,not seen by family doctor    \n",
       "758  fell last monday landed on ground, \" dizzy\" at...   \n",
       "\n",
       "                                             pmhx  \n",
       "511            childhood heart murmur, drug abuse  \n",
       "754                                       seizure  \n",
       "755  no significant medical history, ovarian cyst  \n",
       "757                no significant medical history  \n",
       "758       high cholesterol, 2 stents 2014, low bp  "
      ]
     },
     "execution_count": 212,
     "metadata": {},
     "output_type": "execute_result"
    }
   ],
   "source": [
    "subj_df.head()"
   ]
  },
  {
   "cell_type": "code",
   "execution_count": null,
   "metadata": {},
   "outputs": [],
   "source": []
  }
 ],
 "metadata": {
  "kernelspec": {
   "display_name": "Python [default]",
   "language": "python",
   "name": "python3"
  },
  "language_info": {
   "codemirror_mode": {
    "name": "ipython",
    "version": 3
   },
   "file_extension": ".py",
   "mimetype": "text/x-python",
   "name": "python",
   "nbconvert_exporter": "python",
   "pygments_lexer": "ipython3",
   "version": "3.6.5"
  }
 },
 "nbformat": 4,
 "nbformat_minor": 2
}
