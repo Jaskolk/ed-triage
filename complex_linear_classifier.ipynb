{
 "cells": [
  {
   "cell_type": "code",
   "execution_count": 1,
   "metadata": {},
   "outputs": [],
   "source": [
    "import torch\n",
    "import torch.nn as nn\n",
    "import torch.nn.functional as F\n",
    "from torch.utils.data import TensorDataset, DataLoader, RandomSampler, SequentialSampler\n",
    "from torch.optim import Adam\n",
    "from torch.nn.utils import clip_grad_norm_\n",
    "import numpy as np\n",
    "import pandas as pd\n",
    "from sklearn.model_selection import train_test_split\n",
    "import matplotlib.pyplot as plt\n",
    "import random\n",
    "%matplotlib inline"
   ]
  },
  {
   "cell_type": "code",
   "execution_count": 2,
   "metadata": {},
   "outputs": [
    {
     "data": {
      "text/plain": [
       "device(type='cpu')"
      ]
     },
     "execution_count": 2,
     "metadata": {},
     "output_type": "execute_result"
    }
   ],
   "source": [
    "device = torch.device(\"cuda\" if torch.cuda.is_available() else \"cpu\")\n",
    "device"
   ]
  },
  {
   "cell_type": "markdown",
   "metadata": {
    "heading_collapsed": true
   },
   "source": [
    "## first pass pre made BERT embeddings with continuous variable\n",
    "- made up data"
   ]
  },
  {
   "cell_type": "code",
   "execution_count": 3,
   "metadata": {
    "hidden": true
   },
   "outputs": [],
   "source": [
    "subj = torch.rand(160,768).numpy()\n",
    "medhx = torch.rand(160,768).numpy()\n",
    "cont = torch.rand(160,10).numpy()"
   ]
  },
  {
   "cell_type": "code",
   "execution_count": 4,
   "metadata": {
    "hidden": true
   },
   "outputs": [],
   "source": [
    "labels = torch.randint(0,3,(160,)).numpy()"
   ]
  },
  {
   "cell_type": "code",
   "execution_count": 5,
   "metadata": {
    "hidden": true
   },
   "outputs": [
    {
     "data": {
      "text/plain": [
       "((160, 768), (160, 768), (160, 10), (160,))"
      ]
     },
     "execution_count": 5,
     "metadata": {},
     "output_type": "execute_result"
    }
   ],
   "source": [
    "subj.shape, medhx.shape, cont.shape, labels.shape"
   ]
  },
  {
   "cell_type": "code",
   "execution_count": 6,
   "metadata": {
    "hidden": true
   },
   "outputs": [],
   "source": [
    "train_subj, validation_subj = train_test_split(subj, random_state = 42, test_size=0.1)\n",
    "train_medhx, validation_medhx = train_test_split(medhx, random_state = 42, test_size=0.1)\n",
    "train_cont, validation_cont = train_test_split(cont, random_state = 42, test_size=0.1)\n",
    "train_labels, validation_labels = train_test_split(labels, random_state = 42, test_size=0.1)"
   ]
  },
  {
   "cell_type": "code",
   "execution_count": 7,
   "metadata": {
    "hidden": true
   },
   "outputs": [],
   "source": [
    "train_subj = torch.tensor(train_subj)\n",
    "validation_subj = torch.tensor(validation_subj)\n",
    "train_medhx = torch.tensor(train_medhx)\n",
    "validation_medhx = torch.tensor(validation_medhx)\n",
    "train_cont = torch.tensor(train_cont)\n",
    "validation_cont = torch.tensor(validation_cont)\n",
    "train_labels = torch.tensor(train_labels)\n",
    "validation_labels = torch.tensor(validation_labels)"
   ]
  },
  {
   "cell_type": "code",
   "execution_count": 8,
   "metadata": {
    "hidden": true
   },
   "outputs": [],
   "source": [
    "# Select a batch size for training. For fine-tuning BERT on a specific task, the authors recommend a batch size of 16 or 32\n",
    "batch_size = 4\n",
    "\n",
    "# Create an iterator of our data with torch DataLoader. This helps save on memory during training because, unlike a for loop, \n",
    "# with an iterator the entire dataset does not need to be loaded into memory\n",
    "\n",
    "train_data = TensorDataset(train_subj, train_medhx, train_cont,train_labels)\n",
    "trainloader = DataLoader(train_data, batch_size=batch_size)\n",
    "\n",
    "valid_data = TensorDataset(validation_subj, validation_medhx, validation_cont, validation_labels)\n",
    "validloader = DataLoader(valid_data, batch_size=batch_size)"
   ]
  },
  {
   "cell_type": "code",
   "execution_count": 9,
   "metadata": {
    "hidden": true
   },
   "outputs": [],
   "source": [
    "#hyperparameters\n",
    "lr = 1\n",
    "epochs = 10\n",
    "loss_func = nn.CrossEntropyLoss()"
   ]
  },
  {
   "cell_type": "code",
   "execution_count": 10,
   "metadata": {
    "hidden": true
   },
   "outputs": [],
   "source": [
    "class Net(nn.Module):\n",
    "    def __init__(self):\n",
    "        super(Net, self).__init__()\n",
    "        \n",
    "        self.linear_subjective = nn.Linear(768,10)  \n",
    "        self.linear_medhx = nn.Linear(768, 10)\n",
    "        self.linear_combined = nn.Linear(30, 10)\n",
    "        self.out = nn.Linear(10,4)\n",
    "\n",
    "    def forward(self, subj,medhx,cont):\n",
    "        nlp1 = F.relu(self.linear_subjective(subj))\n",
    "        nlp2 = F.relu(self.linear_medhx(medhx))\n",
    "        combined = torch.cat((nlp1,nlp2,cont), axis = 1)\n",
    "        x = F.relu(self.linear_combined(combined))\n",
    "        x = self.out(x)\n",
    "        return x\n",
    "\n"
   ]
  },
  {
   "cell_type": "code",
   "execution_count": 11,
   "metadata": {
    "hidden": true
   },
   "outputs": [
    {
     "data": {
      "text/plain": [
       "Net(\n",
       "  (linear_subjective): Linear(in_features=768, out_features=10, bias=True)\n",
       "  (linear_medhx): Linear(in_features=768, out_features=10, bias=True)\n",
       "  (linear_combined): Linear(in_features=30, out_features=10, bias=True)\n",
       "  (out): Linear(in_features=10, out_features=4, bias=True)\n",
       ")"
      ]
     },
     "execution_count": 11,
     "metadata": {},
     "output_type": "execute_result"
    }
   ],
   "source": [
    "net = Net()\n",
    "net"
   ]
  },
  {
   "cell_type": "markdown",
   "metadata": {
    "hidden": true
   },
   "source": [
    "### testing the forward method"
   ]
  },
  {
   "cell_type": "code",
   "execution_count": 12,
   "metadata": {
    "hidden": true
   },
   "outputs": [],
   "source": [
    "x1,x2,x3,x4 = next(iter(trainloader))"
   ]
  },
  {
   "cell_type": "code",
   "execution_count": 13,
   "metadata": {
    "hidden": true
   },
   "outputs": [
    {
     "data": {
      "text/plain": [
       "tensor([[ 0.3076,  0.1748, -0.2668, -0.0997],\n",
       "        [ 0.4326,  0.1828, -0.1671, -0.1729],\n",
       "        [ 0.2816,  0.0664, -0.3529, -0.0144],\n",
       "        [ 0.3620,  0.0901, -0.2825, -0.0466]], grad_fn=<AddmmBackward>)"
      ]
     },
     "execution_count": 13,
     "metadata": {},
     "output_type": "execute_result"
    }
   ],
   "source": [
    "net(x1,x2,x3)"
   ]
  },
  {
   "cell_type": "markdown",
   "metadata": {
    "hidden": true
   },
   "source": [
    "### trying the training loop"
   ]
  },
  {
   "cell_type": "code",
   "execution_count": 14,
   "metadata": {
    "hidden": true
   },
   "outputs": [],
   "source": [
    "def train_model(model):\n",
    "    optimizer = Adam(model.parameters(), lr = lr)\n",
    "    running_loss = []\n",
    "    for epoch_num in range(epochs):\n",
    "        model.train()\n",
    "        train_loss = 0\n",
    "        for step_num, batch_data in enumerate(trainloader):\n",
    "        \n",
    "            cont_var, subj_notes, medhx, labels = tuple(t.to(device) for t in batch_data)\n",
    "        \n",
    "            optimizer.zero_grad()\n",
    "        \n",
    "            logits = model(cont_var, subj_notes, medhx)#, cat_var)\n",
    "        \n",
    "            batch_loss = loss_func(logits, labels)\n",
    "        \n",
    "            train_loss += batch_loss.item()\n",
    "        \n",
    "            batch_loss.backward()\n",
    "        \n",
    "\n",
    "            clip_grad_norm_(parameters=model.parameters(), max_norm=1.0)\n",
    "        \n",
    "            optimizer.step()\n",
    "        \n",
    "            if step_num %12 == 0:\n",
    "                print('Epoch: ', epoch_num + 1)\n",
    "                print(\"\\r\" + \"{0}/{1} loss: {2} \".format(step_num, len(train_data) / batch_size, train_loss / (step_num + 1)))\n",
    "            \n",
    "        running_loss.append(train_loss)\n",
    "\n",
    "    return running_loss"
   ]
  },
  {
   "cell_type": "code",
   "execution_count": 15,
   "metadata": {
    "hidden": true
   },
   "outputs": [
    {
     "name": "stdout",
     "output_type": "stream",
     "text": [
      "Epoch:  1\n",
      "0/36.0 loss: 1.3358349800109863 \n",
      "Epoch:  1\n",
      "12/36.0 loss: 985.2547945426061 \n",
      "Epoch:  1\n",
      "24/36.0 loss: 513.0024306845665 \n",
      "Epoch:  2\n",
      "0/36.0 loss: 1.128175139427185 \n",
      "Epoch:  2\n",
      "12/36.0 loss: 1.1653862045361445 \n",
      "Epoch:  2\n",
      "24/36.0 loss: 1.2015890789031982 \n",
      "Epoch:  3\n",
      "0/36.0 loss: 1.0959442853927612 \n",
      "Epoch:  3\n",
      "12/36.0 loss: 1.137764884875371 \n",
      "Epoch:  3\n",
      "24/36.0 loss: 1.1805632257461547 \n",
      "Epoch:  4\n",
      "0/36.0 loss: 1.0929811000823975 \n",
      "Epoch:  4\n",
      "12/36.0 loss: 1.1317130418924184 \n",
      "Epoch:  4\n",
      "24/36.0 loss: 1.1769244384765625 \n",
      "Epoch:  5\n",
      "0/36.0 loss: 1.0962785482406616 \n",
      "Epoch:  5\n",
      "12/36.0 loss: 1.1305855329220111 \n",
      "Epoch:  5\n",
      "24/36.0 loss: 1.1765617084503175 \n",
      "Epoch:  6\n",
      "0/36.0 loss: 1.098321795463562 \n",
      "Epoch:  6\n",
      "12/36.0 loss: 1.1301328264749968 \n",
      "Epoch:  6\n",
      "24/36.0 loss: 1.1764910960197448 \n",
      "Epoch:  7\n",
      "0/36.0 loss: 1.099420428276062 \n",
      "Epoch:  7\n",
      "12/36.0 loss: 1.1297948818940382 \n",
      "Epoch:  7\n",
      "24/36.0 loss: 1.1764164423942567 \n",
      "Epoch:  8\n",
      "0/36.0 loss: 1.1000910997390747 \n",
      "Epoch:  8\n",
      "12/36.0 loss: 1.1295231168086712 \n",
      "Epoch:  8\n",
      "24/36.0 loss: 1.1763401889801026 \n",
      "Epoch:  9\n",
      "0/36.0 loss: 1.100547194480896 \n",
      "Epoch:  9\n",
      "12/36.0 loss: 1.129305871633383 \n",
      "Epoch:  9\n",
      "24/36.0 loss: 1.176272325515747 \n",
      "Epoch:  10\n",
      "0/36.0 loss: 1.1008776426315308 \n",
      "Epoch:  10\n",
      "12/36.0 loss: 1.1291310007755573 \n",
      "Epoch:  10\n",
      "24/36.0 loss: 1.1762146306037904 \n"
     ]
    }
   ],
   "source": [
    "cum_loss = train_model(net)"
   ]
  },
  {
   "cell_type": "code",
   "execution_count": 16,
   "metadata": {
    "hidden": true
   },
   "outputs": [
    {
     "data": {
      "text/plain": [
       "[12838.60406333208,\n",
       " 42.982205629348755,\n",
       " 42.386277198791504,\n",
       " 42.31040298938751,\n",
       " 42.314825773239136,\n",
       " 42.3207705616951,\n",
       " 42.32360535860062,\n",
       " 42.32485604286194,\n",
       " 42.32542860507965,\n",
       " 42.32569521665573]"
      ]
     },
     "execution_count": 16,
     "metadata": {},
     "output_type": "execute_result"
    }
   ],
   "source": [
    "cum_loss"
   ]
  },
  {
   "cell_type": "code",
   "execution_count": 17,
   "metadata": {
    "hidden": true
   },
   "outputs": [
    {
     "data": {
      "text/plain": [
       "[<matplotlib.lines.Line2D at 0x1a2a2cb128>]"
      ]
     },
     "execution_count": 17,
     "metadata": {},
     "output_type": "execute_result"
    },
    {
     "data": {
      "image/png": "[encoded data removed]",
      "text/plain": [
       "<Figure size 432x288 with 1 Axes>"
      ]
     },
     "metadata": {},
     "output_type": "display_data"
    }
   ],
   "source": [
    "plt.plot(cum_loss)"
   ]
  },
  {
   "cell_type": "markdown",
   "metadata": {},
   "source": [
    "## now we are going to make the model more complex and add embedding\n",
    "- still made up data"
   ]
  },
  {
   "cell_type": "code",
   "execution_count": 18,
   "metadata": {},
   "outputs": [],
   "source": [
    "cats = np.random.randint(1, 30, size=(160))"
   ]
  },
  {
   "cell_type": "code",
   "execution_count": 19,
   "metadata": {},
   "outputs": [
    {
     "data": {
      "text/plain": [
       "29"
      ]
     },
     "execution_count": 19,
     "metadata": {},
     "output_type": "execute_result"
    }
   ],
   "source": [
    "len(set(cats))"
   ]
  },
  {
   "cell_type": "code",
   "execution_count": 20,
   "metadata": {},
   "outputs": [
    {
     "data": {
      "text/plain": [
       "(15, 11)"
      ]
     },
     "execution_count": 20,
     "metadata": {},
     "output_type": "execute_result"
    }
   ],
   "source": [
    "#not sure which the best method for embedding filters is but likley # 2\n",
    "embedding_size = min(50, (len(set(cats))// 2) +1)\n",
    "embedding_size2 = min(600, round(1.6 * len(set(cats))**0.56))\n",
    "embedding_size, embedding_size2"
   ]
  },
  {
   "cell_type": "code",
   "execution_count": 21,
   "metadata": {},
   "outputs": [],
   "source": [
    "train_subj, validation_subj = train_test_split(subj, random_state = 42, test_size=0.1)\n",
    "train_medhx, validation_medhx = train_test_split(medhx, random_state = 42, test_size=0.1)\n",
    "train_cont, validation_cont = train_test_split(cont, random_state = 42, test_size=0.1)\n",
    "train_cats, validation_cats = train_test_split(cats, random_state = 42, test_size=0.1)\n",
    "train_labels, validation_labels = train_test_split(labels, random_state = 42, test_size=0.1)"
   ]
  },
  {
   "cell_type": "code",
   "execution_count": 22,
   "metadata": {},
   "outputs": [],
   "source": [
    "train_subj = torch.tensor(train_subj)\n",
    "validation_subj = torch.tensor(validation_subj)\n",
    "train_medhx = torch.tensor(train_medhx)\n",
    "validation_medhx = torch.tensor(validation_medhx)\n",
    "train_cont = torch.tensor(train_cont)\n",
    "validation_cont = torch.tensor(validation_cont)\n",
    "train_cats = torch.tensor(train_cats)\n",
    "validation_cats = torch.tensor(validation_cats)\n",
    "train_labels = torch.tensor(train_labels)\n",
    "validation_labels = torch.tensor(validation_labels)"
   ]
  },
  {
   "cell_type": "code",
   "execution_count": 23,
   "metadata": {},
   "outputs": [],
   "source": [
    "# Select a batch size for training. For fine-tuning BERT on a specific task, the authors recommend a batch size of 16 or 32\n",
    "batch_size = 4\n",
    "\n",
    "# Create an iterator of our data with torch DataLoader. This helps save on memory during training because, unlike a for loop, \n",
    "# with an iterator the entire dataset does not need to be loaded into memory\n",
    "\n",
    "train_data = TensorDataset(train_subj, train_medhx, train_cont,train_cats,train_labels)\n",
    "trainloader = DataLoader(train_data, batch_size=batch_size)\n",
    "\n",
    "valid_data = TensorDataset(validation_subj, validation_medhx, validation_cont, validation_cats, validation_labels)\n",
    "validloader = DataLoader(valid_data, batch_size=batch_size)"
   ]
  },
  {
   "cell_type": "code",
   "execution_count": 40,
   "metadata": {},
   "outputs": [],
   "source": [
    "class Net1(nn.Module):\n",
    "    def __init__(self):\n",
    "        super(Net1, self).__init__()\n",
    "        \n",
    "        self.linear_subjective = nn.Linear(768,10)  \n",
    "        self.linear_medhx = nn.Linear(768, 10)\n",
    "        self.embedding = nn.Embedding(len(set(cats))+1, 30)\n",
    "        self.linear_cat = nn.Linear(30,10)\n",
    "        self.linear_combined = nn.Linear(40, 10)\n",
    "        self.out = nn.Linear(10,4)\n",
    "\n",
    "    def forward(self, subj,medhx,cont,cat_var):\n",
    "        nlp1 = F.relu(self.linear_subjective(subj))\n",
    "        nlp2 = F.relu(self.linear_medhx(medhx))\n",
    "        embeds = self.embedding(cat_var)\n",
    "        cats = F.relu(self.linear_cat(embeds))\n",
    "        combined = torch.cat((nlp1,nlp2,cont,cats), axis = 1)\n",
    "        x = F.relu(self.linear_combined(combined))\n",
    "        x = self.out(x)\n",
    "        return x\n",
    "\n"
   ]
  },
  {
   "cell_type": "code",
   "execution_count": 41,
   "metadata": {},
   "outputs": [],
   "source": [
    "def train_model2(model):\n",
    "    optimizer = Adam(model.parameters(), lr = lr)\n",
    "    running_loss = []\n",
    "    for epoch_num in range(epochs):\n",
    "        model.train()\n",
    "        train_loss = 0\n",
    "        for step_num, batch_data in enumerate(trainloader):\n",
    "        \n",
    "            cont_var, subj_notes, medhx, cat_var, labels = tuple(t.to(device) for t in batch_data)\n",
    "        \n",
    "            optimizer.zero_grad()\n",
    "        \n",
    "            logits = model(cont_var, subj_notes, medhx, cat_var)\n",
    "        \n",
    "            batch_loss = loss_func(logits, labels)\n",
    "        \n",
    "            train_loss += batch_loss.item()\n",
    "        \n",
    "            batch_loss.backward()\n",
    "        \n",
    "\n",
    "            clip_grad_norm_(parameters=model.parameters(), max_norm=1.0)\n",
    "        \n",
    "            optimizer.step()\n",
    "        \n",
    "            if step_num %12 == 0:\n",
    "                print('Epoch: ', epoch_num + 1)\n",
    "                print(\"\\r\" + \"{0}/{1} loss: {2} \".format(step_num, len(train_data) / batch_size, train_loss / (step_num + 1)))\n",
    "            \n",
    "        running_loss.append(train_loss)\n",
    "\n",
    "    return running_loss"
   ]
  },
  {
   "cell_type": "code",
   "execution_count": 42,
   "metadata": {},
   "outputs": [
    {
     "name": "stdout",
     "output_type": "stream",
     "text": [
      "Net1(\n",
      "  (linear_subjective): Linear(in_features=768, out_features=10, bias=True)\n",
      "  (linear_medhx): Linear(in_features=768, out_features=10, bias=True)\n",
      "  (embedding): Embedding(30, 30)\n",
      "  (linear_cat): Linear(in_features=30, out_features=10, bias=True)\n",
      "  (linear_combined): Linear(in_features=40, out_features=10, bias=True)\n",
      "  (out): Linear(in_features=10, out_features=4, bias=True)\n",
      ")\n"
     ]
    }
   ],
   "source": [
    "net = Net1()\n",
    "print(net)"
   ]
  },
  {
   "cell_type": "code",
   "execution_count": 43,
   "metadata": {
    "scrolled": true
   },
   "outputs": [],
   "source": [
    "x1,x2,x3,x4,x5 = next(iter(trainloader))"
   ]
  },
  {
   "cell_type": "code",
   "execution_count": 44,
   "metadata": {},
   "outputs": [
    {
     "data": {
      "text/plain": [
       "tensor([[ 0.1906, -0.1836,  0.3142,  0.2797],\n",
       "        [ 0.2610, -0.1657,  0.2637,  0.3104],\n",
       "        [ 0.2161, -0.1512,  0.3142,  0.2773],\n",
       "        [ 0.2273, -0.1419,  0.2401,  0.3181]], grad_fn=<AddmmBackward>)"
      ]
     },
     "execution_count": 44,
     "metadata": {},
     "output_type": "execute_result"
    }
   ],
   "source": [
    "net(x1,x2,x3,x4)"
   ]
  },
  {
   "cell_type": "code",
   "execution_count": 45,
   "metadata": {},
   "outputs": [
    {
     "name": "stdout",
     "output_type": "stream",
     "text": [
      "Epoch:  1\n",
      "0/36.0 loss: 1.524527668952942 \n",
      "Epoch:  1\n",
      "12/36.0 loss: 731.978949537644 \n",
      "Epoch:  1\n",
      "24/36.0 loss: 381.2159674453735 \n",
      "Epoch:  2\n",
      "0/36.0 loss: 1.0909812450408936 \n",
      "Epoch:  2\n",
      "12/36.0 loss: 1.1275699551288898 \n",
      "Epoch:  2\n",
      "24/36.0 loss: 1.1708456039428712 \n",
      "Epoch:  3\n",
      "0/36.0 loss: 1.0890642404556274 \n",
      "Epoch:  3\n",
      "12/36.0 loss: 1.1292571792235742 \n",
      "Epoch:  3\n",
      "24/36.0 loss: 1.1776954865455627 \n",
      "Epoch:  4\n",
      "0/36.0 loss: 1.095662236213684 \n",
      "Epoch:  4\n",
      "12/36.0 loss: 1.128738705928509 \n",
      "Epoch:  4\n",
      "24/36.0 loss: 1.177166726589203 \n",
      "Epoch:  5\n",
      "0/36.0 loss: 1.0981080532073975 \n",
      "Epoch:  5\n",
      "12/36.0 loss: 1.12830715913039 \n",
      "Epoch:  5\n",
      "24/36.0 loss: 1.1765507793426513 \n",
      "Epoch:  6\n",
      "0/36.0 loss: 1.0991584062576294 \n",
      "Epoch:  6\n",
      "12/36.0 loss: 1.1282018652329078 \n",
      "Epoch:  6\n",
      "24/36.0 loss: 1.1763272404670715 \n",
      "Epoch:  7\n",
      "0/36.0 loss: 1.0997880697250366 \n",
      "Epoch:  7\n",
      "12/36.0 loss: 1.1281802837665265 \n",
      "Epoch:  7\n",
      "24/36.0 loss: 1.1762333631515502 \n",
      "Epoch:  8\n",
      "0/36.0 loss: 1.1002320051193237 \n",
      "Epoch:  8\n",
      "12/36.0 loss: 1.128169412796314 \n",
      "Epoch:  8\n",
      "24/36.0 loss: 1.176175343990326 \n",
      "Epoch:  9\n",
      "0/36.0 loss: 1.1005643606185913 \n",
      "Epoch:  9\n",
      "12/36.0 loss: 1.1281583217474132 \n",
      "Epoch:  9\n",
      "24/36.0 loss: 1.1761316084861755 \n",
      "Epoch:  10\n",
      "0/36.0 loss: 1.1008212566375732 \n",
      "Epoch:  10\n",
      "12/36.0 loss: 1.1281466667468731 \n",
      "Epoch:  10\n",
      "24/36.0 loss: 1.1760963678359986 \n"
     ]
    }
   ],
   "source": [
    "cum_loss = train_model2(net)"
   ]
  },
  {
   "cell_type": "markdown",
   "metadata": {},
   "source": [
    "## next I'm going to make a pipeline for converting a list of categories into embedded classes\n",
    "### and turn those into model layers"
   ]
  },
  {
   "cell_type": "code",
   "execution_count": 47,
   "metadata": {},
   "outputs": [],
   "source": [
    "animals = ['manatee', 'dog', 'giraffe', 'narwhal', 'cat', 'elephant', 'mouse', 'dingo', 'wombat', 'skunk']\n",
    "cat_data = [[animal]* 16 for animal in animals]\n",
    "cat_data = [item for sublist in cat_data for item in sublist]\n",
    "random.shuffle(cat_data)"
   ]
  },
  {
   "cell_type": "code",
   "execution_count": 48,
   "metadata": {},
   "outputs": [],
   "source": [
    "animal_to_num = {animal:i for i,animal in enumerate(list(set(cat_data)))}\n",
    "num_to_animal = {i:animal for animal, i in enumerate(list(set(cat_data)))}"
   ]
  },
  {
   "cell_type": "code",
   "execution_count": 49,
   "metadata": {},
   "outputs": [],
   "source": [
    "#this is going to be my fake categorical animal data\n",
    "numerical_cat_data = [animal_to_num[item] for item in cat_data]"
   ]
  },
  {
   "cell_type": "code",
   "execution_count": 202,
   "metadata": {},
   "outputs": [
    {
     "data": {
      "text/plain": [
       "(160, {0, 1, 2, 3, 4, 5, 6, 7, 8, 9}, 10)"
      ]
     },
     "execution_count": 202,
     "metadata": {},
     "output_type": "execute_result"
    }
   ],
   "source": [
    "len(numerical_cat_data), set(numerical_cat_data), len(set(numerical_cat_data))"
   ]
  },
  {
   "cell_type": "markdown",
   "metadata": {
    "heading_collapsed": true
   },
   "source": [
    "### copied tabular learner code from fast.ai\n",
    "- trying to figure out how to build the model construction pipeline that I want"
   ]
  },
  {
   "cell_type": "code",
   "execution_count": 106,
   "metadata": {
    "collapsed": true,
    "hidden": true
   },
   "outputs": [
    {
     "ename": "NameError",
     "evalue": "name 'ListSizes' is not defined",
     "output_type": "error",
     "traceback": [
      "\u001b[0;31m---------------------------------------------------------------------------\u001b[0m",
      "\u001b[0;31mNameError\u001b[0m                                 Traceback (most recent call last)",
      "\u001b[0;32m<ipython-input-106-1ed81e2f4b1b>\u001b[0m in \u001b[0;36m<module>\u001b[0;34m()\u001b[0m\n\u001b[0;32m----> 1\u001b[0;31m \u001b[0;32mclass\u001b[0m \u001b[0mTabularModel\u001b[0m\u001b[0;34m(\u001b[0m\u001b[0mnn\u001b[0m\u001b[0;34m.\u001b[0m\u001b[0mModule\u001b[0m\u001b[0;34m)\u001b[0m\u001b[0;34m:\u001b[0m\u001b[0;34m\u001b[0m\u001b[0m\n\u001b[0m\u001b[1;32m      2\u001b[0m     \u001b[0;34m\"Basic model for tabular data.\"\u001b[0m\u001b[0;34m\u001b[0m\u001b[0m\n\u001b[1;32m      3\u001b[0m     def __init__(self, emb_szs:ListSizes, n_cont:int, out_sz:int, layers:Collection[int], ps:Collection[float]=None,\n\u001b[1;32m      4\u001b[0m                  emb_drop:float=0., y_range:OptRange=None, use_bn:bool=True, bn_final:bool=False):\n\u001b[1;32m      5\u001b[0m         \u001b[0msuper\u001b[0m\u001b[0;34m(\u001b[0m\u001b[0;34m)\u001b[0m\u001b[0;34m.\u001b[0m\u001b[0m__init__\u001b[0m\u001b[0;34m(\u001b[0m\u001b[0;34m)\u001b[0m\u001b[0;34m\u001b[0m\u001b[0m\n",
      "\u001b[0;32m<ipython-input-106-1ed81e2f4b1b>\u001b[0m in \u001b[0;36mTabularModel\u001b[0;34m()\u001b[0m\n\u001b[1;32m      2\u001b[0m     \u001b[0;34m\"Basic model for tabular data.\"\u001b[0m\u001b[0;34m\u001b[0m\u001b[0m\n\u001b[1;32m      3\u001b[0m     def __init__(self, emb_szs:ListSizes, n_cont:int, out_sz:int, layers:Collection[int], ps:Collection[float]=None,\n\u001b[0;32m----> 4\u001b[0;31m                  emb_drop:float=0., y_range:OptRange=None, use_bn:bool=True, bn_final:bool=False):\n\u001b[0m\u001b[1;32m      5\u001b[0m         \u001b[0msuper\u001b[0m\u001b[0;34m(\u001b[0m\u001b[0;34m)\u001b[0m\u001b[0;34m.\u001b[0m\u001b[0m__init__\u001b[0m\u001b[0;34m(\u001b[0m\u001b[0;34m)\u001b[0m\u001b[0;34m\u001b[0m\u001b[0m\n\u001b[1;32m      6\u001b[0m         \u001b[0mps\u001b[0m \u001b[0;34m=\u001b[0m \u001b[0mifnone\u001b[0m\u001b[0;34m(\u001b[0m\u001b[0mps\u001b[0m\u001b[0;34m,\u001b[0m \u001b[0;34m[\u001b[0m\u001b[0;36m0\u001b[0m\u001b[0;34m]\u001b[0m\u001b[0;34m*\u001b[0m\u001b[0mlen\u001b[0m\u001b[0;34m(\u001b[0m\u001b[0mlayers\u001b[0m\u001b[0;34m)\u001b[0m\u001b[0;34m)\u001b[0m\u001b[0;34m\u001b[0m\u001b[0m\n",
      "\u001b[0;31mNameError\u001b[0m: name 'ListSizes' is not defined"
     ]
    }
   ],
   "source": [
    "class TabularModel(nn.Module):\n",
    "    \"Basic model for tabular data.\"\n",
    "    def __init__(self, emb_szs:ListSizes, n_cont:int, out_sz:int, layers:Collection[int], ps:Collection[float]=None,\n",
    "                 emb_drop:float=0., y_range:OptRange=None, use_bn:bool=True, bn_final:bool=False):\n",
    "        super().__init__()\n",
    "        ps = ifnone(ps, [0]*len(layers))\n",
    "        ps = listify(ps, layers)\n",
    "        self.embeds = nn.ModuleList([embedding(ni, nf) for ni,nf in emb_szs])\n",
    "        self.emb_drop = nn.Dropout(emb_drop)\n",
    "        self.bn_cont = nn.BatchNorm1d(n_cont)\n",
    "        n_emb = sum(e.embedding_dim for e in self.embeds)\n",
    "        self.n_emb,self.n_cont,self.y_range = n_emb,n_cont,y_range\n",
    "        sizes = self.get_sizes(layers, out_sz)\n",
    "        actns = [nn.ReLU(inplace=True) for _ in range(len(sizes)-2)] + [None]\n",
    "        layers = []\n",
    "        for i,(n_in,n_out,dp,act) in enumerate(zip(sizes[:-1],sizes[1:],[0.]+ps,actns)):\n",
    "            layers += bn_drop_lin(n_in, n_out, bn=use_bn and i!=0, p=dp, actn=act)\n",
    "        if bn_final: layers.append(nn.BatchNorm1d(sizes[-1]))\n",
    "        self.layers = nn.Sequential(*layers)\n",
    "\n",
    "    def get_sizes(self, layers, out_sz):\n",
    "        return [self.n_emb + self.n_cont] + layers + [out_sz]\n",
    "\n",
    "    def forward(self, x_cat:Tensor, x_cont:Tensor) -> Tensor:\n",
    "        if self.n_emb != 0:\n",
    "            x = [e(x_cat[:,i]) for i,e in enumerate(self.embeds)]\n",
    "            x = torch.cat(x, 1)\n",
    "            x = self.emb_drop(x)\n",
    "        if self.n_cont != 0:\n",
    "            x_cont = self.bn_cont(x_cont)\n",
    "            x = torch.cat([x, x_cont], 1) if self.n_emb != 0 else x_cont\n",
    "        x = self.layers(x)\n",
    "        if self.y_range is not None:\n",
    "            x = (self.y_range[1]-self.y_range[0]) * torch.sigmoid(x) + self.y_range[0]\n",
    "        return x"
   ]
  },
  {
   "cell_type": "code",
   "execution_count": 108,
   "metadata": {
    "hidden": true
   },
   "outputs": [
    {
     "data": {
      "text/plain": [
       "ModuleList(\n",
       "  (0): Embedding(30, 30)\n",
       "  (1): Embedding(20, 20)\n",
       "  (2): Embedding(400, 50)\n",
       ")"
      ]
     },
     "execution_count": 108,
     "metadata": {},
     "output_type": "execute_result"
    }
   ],
   "source": [
    "emb_szs = [(30,30), (20,20), (400,50)]\n",
    "embed_layers = nn.ModuleList([nn.Embedding(ni, nf) for ni,nf in emb_szs])\n",
    "embed_layers"
   ]
  },
  {
   "cell_type": "code",
   "execution_count": 91,
   "metadata": {
    "hidden": true
   },
   "outputs": [
    {
     "data": {
      "text/plain": [
       "[Embedding(30, 30), Embedding(20, 20), Embedding(400, 50)]"
      ]
     },
     "execution_count": 91,
     "metadata": {},
     "output_type": "execute_result"
    }
   ],
   "source": [
    "embed_layers = [nn.Embedding(ni, nf) for ni,nf in emb_szs]\n",
    "embed_layers"
   ]
  },
  {
   "cell_type": "code",
   "execution_count": 110,
   "metadata": {
    "hidden": true
   },
   "outputs": [
    {
     "data": {
      "text/plain": [
       "100"
      ]
     },
     "execution_count": 110,
     "metadata": {},
     "output_type": "execute_result"
    }
   ],
   "source": [
    "n_emb = sum(e.embedding_dim for e in embed_layers); n_emb"
   ]
  },
  {
   "cell_type": "code",
   "execution_count": 113,
   "metadata": {
    "hidden": true
   },
   "outputs": [],
   "source": [
    "layers=[200,100]\n",
    "n_cont = 3"
   ]
  },
  {
   "cell_type": "code",
   "execution_count": 114,
   "metadata": {
    "hidden": true
   },
   "outputs": [],
   "source": [
    "def get_sizes(layers, out_sz):\n",
    "    return [n_emb + n_cont] + layers + [out_sz]"
   ]
  },
  {
   "cell_type": "code",
   "execution_count": 117,
   "metadata": {
    "hidden": true
   },
   "outputs": [
    {
     "data": {
      "text/plain": [
       "[103, 200, 100, 4]"
      ]
     },
     "execution_count": 117,
     "metadata": {},
     "output_type": "execute_result"
    }
   ],
   "source": [
    "sizes = get_sizes(layers, 4); sizes"
   ]
  },
  {
   "cell_type": "code",
   "execution_count": 118,
   "metadata": {
    "hidden": true
   },
   "outputs": [
    {
     "data": {
      "text/plain": [
       "[ReLU(inplace=True), ReLU(inplace=True), None]"
      ]
     },
     "execution_count": 118,
     "metadata": {},
     "output_type": "execute_result"
    }
   ],
   "source": [
    "actns = [nn.ReLU(inplace=True) for _ in range(len(sizes)-2)] + [None]; actns"
   ]
  },
  {
   "cell_type": "code",
   "execution_count": null,
   "metadata": {
    "hidden": true
   },
   "outputs": [],
   "source": [
    "def forward(self, x_cat:Tensor, x_cont:Tensor) -> Tensor:\n",
    "        if self.n_emb != 0:\n",
    "            x = [e(x_cat[:,i]) for i,e in enumerate(self.embeds)]\n",
    "            x = torch.cat(x, 1)\n",
    "            x = self.emb_drop(x)\n",
    "        if self.n_cont != 0:\n",
    "            x_cont = self.bn_cont(x_cont)\n",
    "            x = torch.cat([x, x_cont], 1) if self.n_emb != 0 else x_cont\n",
    "        x = self.layers(x)\n",
    "        if self.y_range is not None:\n",
    "            x = (self.y_range[1]-self.y_range[0]) * torch.sigmoid(x) + self.y_range[0]\n",
    "        return x"
   ]
  },
  {
   "cell_type": "code",
   "execution_count": 168,
   "metadata": {
    "hidden": true
   },
   "outputs": [],
   "source": [
    "cats = np.random.randint(0, 29, size=(160))"
   ]
  },
  {
   "cell_type": "code",
   "execution_count": 169,
   "metadata": {
    "hidden": true
   },
   "outputs": [
    {
     "data": {
      "text/plain": [
       "((160,), 29)"
      ]
     },
     "execution_count": 169,
     "metadata": {},
     "output_type": "execute_result"
    }
   ],
   "source": [
    "cats.shape, len(set(cats))"
   ]
  },
  {
   "cell_type": "markdown",
   "metadata": {},
   "source": [
    "### fast.ai code code deconstructed above\n",
    "#### using that style to create my model"
   ]
  },
  {
   "cell_type": "code",
   "execution_count": 170,
   "metadata": {},
   "outputs": [],
   "source": [
    "#so lets say I have 2 columns of categorical data:\n",
    "cat1 = numerical_cat_data #from the \"animal data\" I created above\n",
    "cat2 = cats #the original random number data set"
   ]
  },
  {
   "cell_type": "code",
   "execution_count": 171,
   "metadata": {},
   "outputs": [],
   "source": [
    "cat_list = [cat1,cat2]"
   ]
  },
  {
   "cell_type": "code",
   "execution_count": 203,
   "metadata": {},
   "outputs": [
    {
     "data": {
      "text/plain": [
       "[10, 29]"
      ]
     },
     "execution_count": 203,
     "metadata": {},
     "output_type": "execute_result"
    }
   ],
   "source": [
    "class_lengths = [len(set(cat)) for cat in cat_list]\n",
    "class_lengths"
   ]
  },
  {
   "cell_type": "code",
   "execution_count": 206,
   "metadata": {},
   "outputs": [
    {
     "data": {
      "text/plain": [
       "(160, 2)"
      ]
     },
     "execution_count": 206,
     "metadata": {},
     "output_type": "execute_result"
    }
   ],
   "source": [
    "#this is an array the categorical data\n",
    "cats_array = np.vstack([np.array(cat) for cat in cat_list]).transpose(); cats_array.shape\n",
    "\n",
    "#this is a code I used during dev to go straight to a tensor\n",
    "#torch_cats = torch.tensor(np.vstack([np.array(cat) for cat in cat_list])).t(); cat3.shape"
   ]
  },
  {
   "cell_type": "code",
   "execution_count": 207,
   "metadata": {},
   "outputs": [
    {
     "data": {
      "text/plain": [
       "array([7, 1, 2, 3, 6, 8, 5, 7, 1, 5, 5, 6, 8, 4, 0, 5, 0, 4, 9, 5, 5, 9,\n",
       "       7, 1, 5, 6, 6, 9, 2, 9, 3, 9, 0, 2, 8, 0, 2, 4, 6, 6, 2, 6, 9, 0,\n",
       "       8, 4, 0, 2, 2, 3, 5, 1, 9, 7, 0, 0, 5, 1, 3, 3, 3, 5, 0, 0, 8, 4,\n",
       "       6, 8, 5, 8, 2, 9, 1, 3, 2, 4, 2, 7, 9, 3, 1, 7, 9, 9, 4, 3, 5, 3,\n",
       "       6, 9, 0, 4, 1, 3, 0, 7, 8, 1, 9, 9, 4, 8, 0, 2, 0, 5, 2, 7, 7, 4,\n",
       "       3, 4, 8, 8, 2, 1, 2, 0, 2, 8, 3, 7, 4, 9, 7, 7, 7, 4, 1, 3, 7, 3,\n",
       "       5, 6, 4, 6, 6, 6, 6, 1, 5, 4, 5, 6, 7, 8, 9, 2, 4, 3, 1, 8, 6, 1,\n",
       "       7, 1, 0, 8, 8, 1])"
      ]
     },
     "execution_count": 207,
     "metadata": {},
     "output_type": "execute_result"
    }
   ],
   "source": [
    "cats_array[:,0]"
   ]
  },
  {
   "cell_type": "code",
   "execution_count": 208,
   "metadata": {},
   "outputs": [
    {
     "data": {
      "text/plain": [
       "array([10,  8, 15, 10,  3, 24,  0, 27, 21, 15, 18, 20,  3, 24,  6, 12,  8,\n",
       "       21, 26, 11,  2,  5, 11,  9, 16, 26, 20, 11, 19, 28,  5,  1, 22, 16,\n",
       "        6, 16,  6,  3, 10, 13, 19, 28, 17,  6, 11, 17, 18, 20,  7, 24, 10,\n",
       "       15, 14, 10, 22, 22,  2,  2, 24,  2, 14, 28, 24, 23,  8, 11,  4,  9,\n",
       "        0,  5, 13, 24, 28, 25, 11, 12,  6, 15, 24, 23, 28, 11, 13,  4,  0,\n",
       "       12,  6, 11, 24,  2, 19,  6, 24,  5,  2, 11,  3,  9,  3, 24, 27, 14,\n",
       "        7,  5,  1,  7, 15, 19,  8,  2, 26, 21,  2,  7, 11, 25,  5,  8, 22,\n",
       "       16,  2, 25, 14, 27,  3, 11, 22, 28, 19, 27,  7,  3, 27, 15, 10, 16,\n",
       "       17, 12, 20,  0,  8, 26,  6, 13, 17, 20,  4, 10, 13,  1, 24,  8,  9,\n",
       "       26, 16,  7, 27,  1,  3, 24])"
      ]
     },
     "execution_count": 208,
     "metadata": {},
     "output_type": "execute_result"
    }
   ],
   "source": [
    "cats_array[:,1]"
   ]
  },
  {
   "cell_type": "code",
   "execution_count": 209,
   "metadata": {},
   "outputs": [
    {
     "data": {
      "text/plain": [
       "(array([ 7, 10]), 7, 10, array([ 7, 10]))"
      ]
     },
     "execution_count": 209,
     "metadata": {},
     "output_type": "execute_result"
    }
   ],
   "source": [
    "cats_array[0], cats_array[0,0], cats_array[0,1], cats_array[0,:]"
   ]
  },
  {
   "cell_type": "code",
   "execution_count": 210,
   "metadata": {},
   "outputs": [
    {
     "data": {
      "text/plain": [
       "[(10, 6), (29, 11)]"
      ]
     },
     "execution_count": 210,
     "metadata": {},
     "output_type": "execute_result"
    }
   ],
   "source": [
    "#creating a set of embedding sizes for each categorical variable\n",
    "emb_szs = [(length, min(600, round(1.6 * length **0.56))) for length in class_lengths]\n",
    "emb_szs"
   ]
  },
  {
   "cell_type": "code",
   "execution_count": 211,
   "metadata": {},
   "outputs": [],
   "source": [
    "class Net2(nn.Module):\n",
    "    def __init__(self, emb_szs):\n",
    "        super(Net2, self).__init__()\n",
    "        \n",
    "        #first create the embedding layers for each of the categorical variables\n",
    "        self.embed_layers = nn.ModuleList([nn.Embedding(ni, nf) for ni,nf in emb_szs])\n",
    "        n_emb = sum(e.embedding_dim for e in self.embed_layers)\n",
    "        \n",
    "        self.linear_subjective = nn.Linear(768,10)  \n",
    "        self.linear_medhx = nn.Linear(768, 10)\n",
    "        self.linear_cat = nn.Linear(n_emb,10)\n",
    "        self.linear_combined = nn.Linear(40, 10)\n",
    "        self.out = nn.Linear(10,4)\n",
    "\n",
    "    def forward(self, subj,medhx,cont,cat_var):\n",
    "        #first we run each BERT vector through a linear layer and activation\n",
    "        nlp1 = F.relu(self.linear_subjective(subj))\n",
    "        nlp2 = F.relu(self.linear_medhx(medhx))\n",
    "        \n",
    "        #now we pass each categorical variable through an embedding layer, combine output and pass through\n",
    "        #a linear layer with activation\n",
    "        embeds = [e(cat_var[:,i]) for i,e in enumerate(self.embed_layers)]\n",
    "        embeds = torch.cat(embeds, 1)\n",
    "        embeds = F.relu(self.linear_cat(embeds))\n",
    "        \n",
    "        #now we combine all four sources of input and pass through a layer with activation\n",
    "        combined = torch.cat((nlp1,nlp2,cont,embeds), axis = 1)\n",
    "        x = F.relu(self.linear_combined(combined))\n",
    "        \n",
    "        #compute logits\n",
    "        x = self.out(x)\n",
    "        \n",
    "        return x\n",
    "\n",
    "\n"
   ]
  },
  {
   "cell_type": "code",
   "execution_count": 212,
   "metadata": {},
   "outputs": [
    {
     "data": {
      "text/plain": [
       "Net2(\n",
       "  (embed_layers): ModuleList(\n",
       "    (0): Embedding(10, 6)\n",
       "    (1): Embedding(29, 11)\n",
       "  )\n",
       "  (linear_subjective): Linear(in_features=768, out_features=10, bias=True)\n",
       "  (linear_medhx): Linear(in_features=768, out_features=10, bias=True)\n",
       "  (linear_cat): Linear(in_features=17, out_features=10, bias=True)\n",
       "  (linear_combined): Linear(in_features=40, out_features=10, bias=True)\n",
       "  (out): Linear(in_features=10, out_features=4, bias=True)\n",
       ")"
      ]
     },
     "execution_count": 212,
     "metadata": {},
     "output_type": "execute_result"
    }
   ],
   "source": [
    "net = Net2(emb_szs)\n",
    "net"
   ]
  },
  {
   "cell_type": "code",
   "execution_count": 213,
   "metadata": {},
   "outputs": [
    {
     "data": {
      "text/plain": [
       "tensor([[ 0.2084,  0.1449,  0.0720, -0.0200],\n",
       "        [ 0.1421, -0.0287,  0.0036, -0.1177],\n",
       "        [ 0.1205,  0.1090,  0.1325, -0.0288],\n",
       "        [ 0.1303,  0.0080,  0.1028, -0.0990]], grad_fn=<AddmmBackward>)"
      ]
     },
     "execution_count": 213,
     "metadata": {},
     "output_type": "execute_result"
    }
   ],
   "source": [
    "net(torch.tensor(subj[:4]), torch.tensor(medhx[:4]),torch.tensor(cont[:4]), torch_cats[:4] )"
   ]
  },
  {
   "cell_type": "markdown",
   "metadata": {},
   "source": [
    "### now lets create \"datasets, loaders, etc\"\n"
   ]
  },
  {
   "cell_type": "code",
   "execution_count": 214,
   "metadata": {},
   "outputs": [],
   "source": [
    "train_subj, validation_subj = train_test_split(subj, random_state = 42, test_size=0.1)\n",
    "train_medhx, validation_medhx = train_test_split(medhx, random_state = 42, test_size=0.1)\n",
    "train_cont, validation_cont = train_test_split(cont, random_state = 42, test_size=0.1)\n",
    "train_cats, validation_cats = train_test_split(cats_array, random_state = 42, test_size=0.1)\n",
    "train_labels, validation_labels = train_test_split(labels, random_state = 42, test_size=0.1)"
   ]
  },
  {
   "cell_type": "code",
   "execution_count": 215,
   "metadata": {},
   "outputs": [],
   "source": [
    "train_subj = torch.tensor(train_subj)\n",
    "validation_subj = torch.tensor(validation_subj)\n",
    "train_medhx = torch.tensor(train_medhx)\n",
    "validation_medhx = torch.tensor(validation_medhx)\n",
    "train_cont = torch.tensor(train_cont)\n",
    "validation_cont = torch.tensor(validation_cont)\n",
    "train_cats = torch.tensor(train_cats)\n",
    "validation_cats = torch.tensor(validation_cats)\n",
    "train_labels = torch.tensor(train_labels)\n",
    "validation_labels = torch.tensor(validation_labels)"
   ]
  },
  {
   "cell_type": "code",
   "execution_count": 216,
   "metadata": {},
   "outputs": [],
   "source": [
    "batch_size = 4\n",
    "\n",
    "train_data = TensorDataset(train_subj, train_medhx, train_cont,train_cats,train_labels)\n",
    "trainloader = DataLoader(train_data, batch_size=batch_size)\n",
    "\n",
    "valid_data = TensorDataset(validation_subj, validation_medhx, validation_cont, validation_cats, validation_labels)\n",
    "validloader = DataLoader(valid_data, batch_size=batch_size)"
   ]
  },
  {
   "cell_type": "code",
   "execution_count": 217,
   "metadata": {},
   "outputs": [],
   "source": [
    "x1,x2,x3,x4,x5 = next(iter(trainloader))"
   ]
  },
  {
   "cell_type": "code",
   "execution_count": 218,
   "metadata": {},
   "outputs": [
    {
     "data": {
      "text/plain": [
       "tensor([[ 1.8454e-01,  2.4995e-02, -9.8717e-02, -4.3934e-02],\n",
       "        [ 2.1038e-01,  1.0868e-01, -1.2368e-04,  1.2354e-02],\n",
       "        [ 1.5581e-01,  3.5455e-02,  7.8640e-02, -1.0391e-01],\n",
       "        [ 1.8058e-01, -8.5037e-03, -8.8060e-02, -4.7531e-02]],\n",
       "       grad_fn=<AddmmBackward>)"
      ]
     },
     "execution_count": 218,
     "metadata": {},
     "output_type": "execute_result"
    }
   ],
   "source": [
    "net(x1,x2,x3,x4)"
   ]
  },
  {
   "cell_type": "code",
   "execution_count": 219,
   "metadata": {},
   "outputs": [
    {
     "name": "stdout",
     "output_type": "stream",
     "text": [
      "Epoch:  1\n",
      "0/36.0 loss: 1.3684231042861938 \n",
      "Epoch:  1\n",
      "12/36.0 loss: 1965.248020199629 \n",
      "Epoch:  1\n",
      "24/36.0 loss: 1022.6059333252907 \n",
      "Epoch:  2\n",
      "0/36.0 loss: 1.1417428255081177 \n",
      "Epoch:  2\n",
      "12/36.0 loss: 1.1635463925508351 \n",
      "Epoch:  2\n",
      "24/36.0 loss: 1.199290497303009 \n",
      "Epoch:  3\n",
      "0/36.0 loss: 1.0997579097747803 \n",
      "Epoch:  3\n",
      "12/36.0 loss: 1.1375006712399995 \n",
      "Epoch:  3\n",
      "24/36.0 loss: 1.1804805517196655 \n",
      "Epoch:  4\n",
      "0/36.0 loss: 1.0941739082336426 \n",
      "Epoch:  4\n",
      "12/36.0 loss: 1.1313554965532744 \n",
      "Epoch:  4\n",
      "24/36.0 loss: 1.1767557120323182 \n",
      "Epoch:  5\n",
      "0/36.0 loss: 1.097043514251709 \n",
      "Epoch:  5\n",
      "12/36.0 loss: 1.130193448983706 \n",
      "Epoch:  5\n",
      "24/36.0 loss: 1.1763296294212342 \n",
      "Epoch:  6\n",
      "0/36.0 loss: 1.0989452600479126 \n",
      "Epoch:  6\n",
      "12/36.0 loss: 1.1297964866344745 \n",
      "Epoch:  6\n",
      "24/36.0 loss: 1.176282720565796 \n",
      "Epoch:  7\n",
      "0/36.0 loss: 1.0999459028244019 \n",
      "Epoch:  7\n",
      "12/36.0 loss: 1.1295135021209717 \n",
      "Epoch:  7\n",
      "24/36.0 loss: 1.1762409138679504 \n",
      "Epoch:  8\n",
      "0/36.0 loss: 1.1005421876907349 \n",
      "Epoch:  8\n",
      "12/36.0 loss: 1.129283451117002 \n",
      "Epoch:  8\n",
      "24/36.0 loss: 1.1761909413337708 \n",
      "Epoch:  9\n",
      "0/36.0 loss: 1.100940465927124 \n",
      "Epoch:  9\n",
      "12/36.0 loss: 1.1290976634392371 \n",
      "Epoch:  9\n",
      "24/36.0 loss: 1.1761431360244752 \n",
      "Epoch:  10\n",
      "0/36.0 loss: 1.101224422454834 \n",
      "Epoch:  10\n",
      "12/36.0 loss: 1.1289473726199224 \n",
      "Epoch:  10\n",
      "24/36.0 loss: 1.176101233959198 \n"
     ]
    }
   ],
   "source": [
    "cum_loss = train_model2(net)"
   ]
  },
  {
   "cell_type": "code",
   "execution_count": 220,
   "metadata": {},
   "outputs": [
    {
     "data": {
      "text/plain": [
       "[<matplotlib.lines.Line2D at 0x1a2ce44978>]"
      ]
     },
     "execution_count": 220,
     "metadata": {},
     "output_type": "execute_result"
    },
    {
     "data": {
      "image/png": "[encoded data removed]",
      "text/plain": [
       "<Figure size 432x288 with 1 Axes>"
      ]
     },
     "metadata": {},
     "output_type": "display_data"
    }
   ],
   "source": [
    "plt.plot(cum_loss)"
   ]
  },
  {
   "cell_type": "code",
   "execution_count": null,
   "metadata": {},
   "outputs": [],
   "source": []
  }
 ],
 "metadata": {
  "kernelspec": {
   "display_name": "Python [conda env:anaconda3]",
   "language": "python",
   "name": "conda-env-anaconda3-py"
  },
  "language_info": {
   "codemirror_mode": {
    "name": "ipython",
    "version": 3
   },
   "file_extension": ".py",
   "mimetype": "text/x-python",
   "name": "python",
   "nbconvert_exporter": "python",
   "pygments_lexer": "ipython3",
   "version": "3.6.5"
  }
 },
 "nbformat": 4,
 "nbformat_minor": 2
}
