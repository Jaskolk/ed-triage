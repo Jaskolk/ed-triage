{
 "cells": [
  {
   "cell_type": "code",
   "execution_count": 1,
   "metadata": {},
   "outputs": [],
   "source": [
    "import torch\n",
    "import torch.nn as nn\n",
    "import torch.nn.functional as F\n",
    "from torch.utils.data import TensorDataset, DataLoader, RandomSampler, SequentialSampler\n",
    "from torch.optim import Adam\n",
    "from torch.nn.utils import clip_grad_norm_\n",
    "import numpy as np\n",
    "import pandas as pd\n",
    "from sklearn.model_selection import train_test_split\n",
    "import matplotlib.pyplot as plt\n",
    "import random\n",
    "%matplotlib inline\n",
    "import time\n",
    "from collections import Counter\n",
    "from sklearn import metrics"
   ]
  },
  {
   "cell_type": "code",
   "execution_count": 2,
   "metadata": {},
   "outputs": [
    {
     "data": {
      "text/plain": [
       "device(type='cpu')"
      ]
     },
     "execution_count": 2,
     "metadata": {},
     "output_type": "execute_result"
    }
   ],
   "source": [
    "device = torch.device(\"cuda\" if torch.cuda.is_available() else \"cpu\")\n",
    "device"
   ]
  },
  {
   "cell_type": "code",
   "execution_count": 3,
   "metadata": {},
   "outputs": [],
   "source": [
    "data_path = '/Users/jjaskolkambp/Desktop/machine learning/my_projects/data/ed triage project/egh'"
   ]
  },
  {
   "cell_type": "markdown",
   "metadata": {
    "heading_collapsed": true
   },
   "source": [
    "## first pass pre made BERT embeddings with continuous variable\n",
    "- made up data"
   ]
  },
  {
   "cell_type": "code",
   "execution_count": 31,
   "metadata": {
    "hidden": true
   },
   "outputs": [],
   "source": [
    "subj = torch.rand(160,768).numpy()\n",
    "medhx = torch.rand(160,768).numpy()\n",
    "cont = torch.rand(160,10).numpy()\n",
    "labels = torch.randint(0,3,(160,)).numpy()"
   ]
  },
  {
   "cell_type": "code",
   "execution_count": 33,
   "metadata": {
    "hidden": true
   },
   "outputs": [
    {
     "data": {
      "text/plain": [
       "((160, 768), (160, 768), (160, 10), (160,))"
      ]
     },
     "execution_count": 33,
     "metadata": {},
     "output_type": "execute_result"
    }
   ],
   "source": [
    "subj.shape, medhx.shape, cont.shape, labels.shape"
   ]
  },
  {
   "cell_type": "code",
   "execution_count": 34,
   "metadata": {
    "hidden": true
   },
   "outputs": [],
   "source": [
    "train_subj, validation_subj = train_test_split(subj, random_state = 42, test_size=0.1)\n",
    "train_medhx, validation_medhx = train_test_split(medhx, random_state = 42, test_size=0.1)\n",
    "train_cont, validation_cont = train_test_split(cont, random_state = 42, test_size=0.1)\n",
    "train_labels, validation_labels = train_test_split(labels, random_state = 42, test_size=0.1)"
   ]
  },
  {
   "cell_type": "code",
   "execution_count": 35,
   "metadata": {
    "hidden": true
   },
   "outputs": [],
   "source": [
    "train_subj = torch.tensor(train_subj)\n",
    "validation_subj = torch.tensor(validation_subj)\n",
    "train_medhx = torch.tensor(train_medhx)\n",
    "validation_medhx = torch.tensor(validation_medhx)\n",
    "train_cont = torch.tensor(train_cont)\n",
    "validation_cont = torch.tensor(validation_cont)\n",
    "train_labels = torch.tensor(train_labels)\n",
    "validation_labels = torch.tensor(validation_labels)"
   ]
  },
  {
   "cell_type": "code",
   "execution_count": 36,
   "metadata": {
    "hidden": true
   },
   "outputs": [],
   "source": [
    "# Select a batch size for training. For fine-tuning BERT on a specific task, the authors recommend a batch size of 16 or 32\n",
    "batch_size = 4\n",
    "\n",
    "# Create an iterator of our data with torch DataLoader. This helps save on memory during training because, unlike a for loop, \n",
    "# with an iterator the entire dataset does not need to be loaded into memory\n",
    "\n",
    "train_data = TensorDataset(train_subj, train_medhx, train_cont,train_labels)\n",
    "trainloader = DataLoader(train_data, batch_size=batch_size)\n",
    "\n",
    "valid_data = TensorDataset(validation_subj, validation_medhx, validation_cont, validation_labels)\n",
    "validloader = DataLoader(valid_data, batch_size=batch_size)"
   ]
  },
  {
   "cell_type": "code",
   "execution_count": 37,
   "metadata": {
    "hidden": true
   },
   "outputs": [],
   "source": [
    "#hyperparameters\n",
    "lr = 1\n",
    "epochs = 10\n",
    "loss_func = nn.CrossEntropyLoss()"
   ]
  },
  {
   "cell_type": "code",
   "execution_count": 38,
   "metadata": {
    "hidden": true
   },
   "outputs": [],
   "source": [
    "class Net(nn.Module):\n",
    "    def __init__(self):\n",
    "        super(Net, self).__init__()\n",
    "        \n",
    "        self.linear_subjective = nn.Linear(768,10)  \n",
    "        self.linear_medhx = nn.Linear(768, 10)\n",
    "        self.linear_combined = nn.Linear(30, 10)\n",
    "        self.out = nn.Linear(10,4)\n",
    "\n",
    "    def forward(self, subj,medhx,cont):\n",
    "        nlp1 = F.relu(self.linear_subjective(subj))\n",
    "        nlp2 = F.relu(self.linear_medhx(medhx))\n",
    "        combined = torch.cat((nlp1,nlp2,cont), axis = 1)\n",
    "        x = F.relu(self.linear_combined(combined))\n",
    "        x = self.out(x)\n",
    "        return x\n",
    "\n"
   ]
  },
  {
   "cell_type": "code",
   "execution_count": 39,
   "metadata": {
    "hidden": true
   },
   "outputs": [
    {
     "data": {
      "text/plain": [
       "Net(\n",
       "  (linear_subjective): Linear(in_features=768, out_features=10, bias=True)\n",
       "  (linear_medhx): Linear(in_features=768, out_features=10, bias=True)\n",
       "  (linear_combined): Linear(in_features=30, out_features=10, bias=True)\n",
       "  (out): Linear(in_features=10, out_features=4, bias=True)\n",
       ")"
      ]
     },
     "execution_count": 39,
     "metadata": {},
     "output_type": "execute_result"
    }
   ],
   "source": [
    "net = Net()\n",
    "net"
   ]
  },
  {
   "cell_type": "markdown",
   "metadata": {
    "hidden": true
   },
   "source": [
    "### testing the forward method"
   ]
  },
  {
   "cell_type": "code",
   "execution_count": 40,
   "metadata": {
    "hidden": true
   },
   "outputs": [],
   "source": [
    "x1,x2,x3,x4 = next(iter(trainloader))"
   ]
  },
  {
   "cell_type": "code",
   "execution_count": 41,
   "metadata": {
    "hidden": true
   },
   "outputs": [
    {
     "data": {
      "text/plain": [
       "tensor([[-0.1384,  0.2051, -0.3294,  0.1121],\n",
       "        [-0.1240,  0.2034, -0.3558,  0.1069],\n",
       "        [-0.1337,  0.2237, -0.3588,  0.0350],\n",
       "        [-0.1064,  0.2089, -0.3560,  0.1055]], grad_fn=<AddmmBackward>)"
      ]
     },
     "execution_count": 41,
     "metadata": {},
     "output_type": "execute_result"
    }
   ],
   "source": [
    "net(x1,x2,x3)"
   ]
  },
  {
   "cell_type": "markdown",
   "metadata": {
    "hidden": true
   },
   "source": [
    "### trying the training loop"
   ]
  },
  {
   "cell_type": "code",
   "execution_count": 42,
   "metadata": {
    "hidden": true
   },
   "outputs": [],
   "source": [
    "def train_model(model):\n",
    "    optimizer = Adam(model.parameters(), lr = lr)\n",
    "    running_loss = []\n",
    "    for epoch_num in range(epochs):\n",
    "        model.train()\n",
    "        train_loss = 0\n",
    "        for step_num, batch_data in enumerate(trainloader):\n",
    "        \n",
    "            cont_var, subj_notes, medhx, labels = tuple(t.to(device) for t in batch_data)\n",
    "        \n",
    "            optimizer.zero_grad()\n",
    "        \n",
    "            logits = model(cont_var, subj_notes, medhx)#, cat_var)\n",
    "        \n",
    "            batch_loss = loss_func(logits, labels)\n",
    "        \n",
    "            train_loss += batch_loss.item()\n",
    "        \n",
    "            batch_loss.backward()\n",
    "        \n",
    "\n",
    "            clip_grad_norm_(parameters=model.parameters(), max_norm=1.0)\n",
    "        \n",
    "            optimizer.step()\n",
    "        \n",
    "            if step_num %12 == 0:\n",
    "                print('Epoch: ', epoch_num + 1)\n",
    "                print(\"\\r\" + \"{0}/{1} loss: {2} \".format(step_num, len(train_data) / batch_size, train_loss / (step_num + 1)))\n",
    "            \n",
    "        running_loss.append(train_loss)\n",
    "\n",
    "    return running_loss"
   ]
  },
  {
   "cell_type": "code",
   "execution_count": 43,
   "metadata": {
    "hidden": true
   },
   "outputs": [
    {
     "name": "stdout",
     "output_type": "stream",
     "text": [
      "Epoch:  1\n",
      "0/36.0 loss: 1.4609160423278809 \n",
      "Epoch:  1\n",
      "12/36.0 loss: 6626.937793273192 \n",
      "Epoch:  1\n",
      "24/36.0 loss: 3446.6568507003785 \n",
      "Epoch:  2\n",
      "0/36.0 loss: 1.6175388097763062 \n",
      "Epoch:  2\n",
      "12/36.0 loss: 1.2158456215491662 \n",
      "Epoch:  2\n",
      "24/36.0 loss: 1.1831336450576782 \n",
      "Epoch:  3\n",
      "0/36.0 loss: 1.5438588857650757 \n",
      "Epoch:  3\n",
      "12/36.0 loss: 1.1842343623821552 \n",
      "Epoch:  3\n",
      "24/36.0 loss: 1.159710364341736 \n",
      "Epoch:  4\n",
      "0/36.0 loss: 1.6018681526184082 \n",
      "Epoch:  4\n",
      "12/36.0 loss: 1.1966940256265493 \n",
      "Epoch:  4\n",
      "24/36.0 loss: 1.166122121810913 \n",
      "Epoch:  5\n",
      "0/36.0 loss: 1.6093086004257202 \n",
      "Epoch:  5\n",
      "12/36.0 loss: 1.2002241978278527 \n",
      "Epoch:  5\n",
      "24/36.0 loss: 1.1681951045989991 \n",
      "Epoch:  6\n",
      "0/36.0 loss: 1.6111395359039307 \n",
      "Epoch:  6\n",
      "12/36.0 loss: 1.2017108843876765 \n",
      "Epoch:  6\n",
      "24/36.0 loss: 1.1691481161117554 \n",
      "Epoch:  7\n",
      "0/36.0 loss: 1.61270010471344 \n",
      "Epoch:  7\n",
      "12/36.0 loss: 1.2026233948194063 \n",
      "Epoch:  7\n",
      "24/36.0 loss: 1.1697545337677002 \n",
      "Epoch:  8\n",
      "0/36.0 loss: 1.6136481761932373 \n",
      "Epoch:  8\n",
      "12/36.0 loss: 1.203214663725633 \n",
      "Epoch:  8\n",
      "24/36.0 loss: 1.1701646757125854 \n",
      "Epoch:  9\n",
      "0/36.0 loss: 1.6142199039459229 \n",
      "Epoch:  9\n",
      "12/36.0 loss: 1.2036263346672058 \n",
      "Epoch:  9\n",
      "24/36.0 loss: 1.170461027622223 \n",
      "Epoch:  10\n",
      "0/36.0 loss: 1.61459481716156 \n",
      "Epoch:  10\n",
      "12/36.0 loss: 1.2039314325039203 \n",
      "Epoch:  10\n",
      "24/36.0 loss: 1.1706869173049927 \n"
     ]
    }
   ],
   "source": [
    "cum_loss = train_model(net)"
   ]
  },
  {
   "cell_type": "code",
   "execution_count": 44,
   "metadata": {
    "hidden": true
   },
   "outputs": [
    {
     "data": {
      "text/plain": [
       "[86183.85667216778,\n",
       " 44.014511823654175,\n",
       " 43.58671426773071,\n",
       " 43.78844529390335,\n",
       " 43.84966313838959,\n",
       " 43.878470838069916,\n",
       " 43.89542007446289,\n",
       " 43.90597438812256,\n",
       " 43.91312235593796,\n",
       " 43.91829025745392]"
      ]
     },
     "execution_count": 44,
     "metadata": {},
     "output_type": "execute_result"
    }
   ],
   "source": [
    "cum_loss"
   ]
  },
  {
   "cell_type": "code",
   "execution_count": 45,
   "metadata": {
    "hidden": true,
    "scrolled": true
   },
   "outputs": [
    {
     "data": {
      "text/plain": [
       "[<matplotlib.lines.Line2D at 0x1a20f84fd0>]"
      ]
     },
     "execution_count": 45,
     "metadata": {},
     "output_type": "execute_result"
    },
    {
     "data": {
      "image/png": "[encoded data removed]",
      "text/plain": [
       "<Figure size 432x288 with 1 Axes>"
      ]
     },
     "metadata": {},
     "output_type": "display_data"
    }
   ],
   "source": [
    "plt.plot(cum_loss)"
   ]
  },
  {
   "cell_type": "markdown",
   "metadata": {
    "heading_collapsed": true
   },
   "source": [
    "## now we are going to make the model more complex and add embedding\n",
    "- still made up data"
   ]
  },
  {
   "cell_type": "code",
   "execution_count": 397,
   "metadata": {
    "hidden": true
   },
   "outputs": [],
   "source": [
    "subj = torch.rand(160,768).numpy()\n",
    "medhx = torch.rand(160,768).numpy()\n",
    "cont = torch.rand(160,10).numpy()\n",
    "labels = torch.randint(0,3,(160,)).numpy()"
   ]
  },
  {
   "cell_type": "code",
   "execution_count": 398,
   "metadata": {
    "hidden": true
   },
   "outputs": [],
   "source": [
    "cats = np.random.randint(1, 30, size=(160))"
   ]
  },
  {
   "cell_type": "code",
   "execution_count": 399,
   "metadata": {
    "hidden": true
   },
   "outputs": [
    {
     "data": {
      "text/plain": [
       "29"
      ]
     },
     "execution_count": 399,
     "metadata": {},
     "output_type": "execute_result"
    }
   ],
   "source": [
    "len(set(cats))"
   ]
  },
  {
   "cell_type": "code",
   "execution_count": 400,
   "metadata": {
    "hidden": true
   },
   "outputs": [
    {
     "data": {
      "text/plain": [
       "(15, 11)"
      ]
     },
     "execution_count": 400,
     "metadata": {},
     "output_type": "execute_result"
    }
   ],
   "source": [
    "#not sure which the best method for embedding filters is but likley # 2\n",
    "embedding_size = min(50, (len(set(cats))// 2) +1)\n",
    "embedding_size2 = min(600, round(1.6 * len(set(cats))**0.56))\n",
    "embedding_size, embedding_size2"
   ]
  },
  {
   "cell_type": "code",
   "execution_count": 401,
   "metadata": {
    "hidden": true
   },
   "outputs": [],
   "source": [
    "train_subj, validation_subj = train_test_split(subj, random_state = 42, test_size=0.1)\n",
    "train_medhx, validation_medhx = train_test_split(medhx, random_state = 42, test_size=0.1)\n",
    "train_cont, validation_cont = train_test_split(cont, random_state = 42, test_size=0.1)\n",
    "train_cats, validation_cats = train_test_split(cats, random_state = 42, test_size=0.1)\n",
    "train_labels, validation_labels = train_test_split(labels, random_state = 42, test_size=0.1)"
   ]
  },
  {
   "cell_type": "code",
   "execution_count": 402,
   "metadata": {
    "hidden": true
   },
   "outputs": [],
   "source": [
    "train_subj = torch.tensor(train_subj)\n",
    "validation_subj = torch.tensor(validation_subj)\n",
    "train_medhx = torch.tensor(train_medhx)\n",
    "validation_medhx = torch.tensor(validation_medhx)\n",
    "train_cont = torch.tensor(train_cont)\n",
    "validation_cont = torch.tensor(validation_cont)\n",
    "train_cats = torch.tensor(train_cats)\n",
    "validation_cats = torch.tensor(validation_cats)\n",
    "train_labels = torch.tensor(train_labels)\n",
    "validation_labels = torch.tensor(validation_labels)"
   ]
  },
  {
   "cell_type": "code",
   "execution_count": 403,
   "metadata": {
    "hidden": true
   },
   "outputs": [],
   "source": [
    "# Select a batch size for training. For fine-tuning BERT on a specific task, the authors recommend a batch size of 16 or 32\n",
    "batch_size = 4\n",
    "\n",
    "# Create an iterator of our data with torch DataLoader. This helps save on memory during training because, unlike a for loop, \n",
    "# with an iterator the entire dataset does not need to be loaded into memory\n",
    "\n",
    "train_data = TensorDataset(train_subj, train_medhx, train_cont,train_cats,train_labels)\n",
    "trainloader = DataLoader(train_data, batch_size=batch_size)\n",
    "\n",
    "valid_data = TensorDataset(validation_subj, validation_medhx, validation_cont, validation_cats, validation_labels)\n",
    "validloader = DataLoader(valid_data, batch_size=batch_size)"
   ]
  },
  {
   "cell_type": "code",
   "execution_count": 404,
   "metadata": {
    "hidden": true
   },
   "outputs": [],
   "source": [
    "class Net1(nn.Module):\n",
    "    def __init__(self):\n",
    "        super(Net1, self).__init__()\n",
    "        \n",
    "        self.linear_subjective = nn.Linear(768,10)  \n",
    "        self.linear_medhx = nn.Linear(768, 10)\n",
    "        self.embedding = nn.Embedding(len(set(cats))+1, 30)\n",
    "        self.linear_cat = nn.Linear(30,10)\n",
    "        self.linear_combined = nn.Linear(40, 10)\n",
    "        self.out = nn.Linear(10,4)\n",
    "\n",
    "    def forward(self, subj,medhx,cont,cat_var):\n",
    "        nlp1 = F.relu(self.linear_subjective(subj))\n",
    "        nlp2 = F.relu(self.linear_medhx(medhx))\n",
    "        embeds = self.embedding(cat_var)\n",
    "        cats = F.relu(self.linear_cat(embeds))\n",
    "        combined = torch.cat((nlp1,nlp2,cont,cats), axis = 1)\n",
    "        x = F.relu(self.linear_combined(combined))\n",
    "        x = self.out(x)\n",
    "        return x\n",
    "\n"
   ]
  },
  {
   "cell_type": "code",
   "execution_count": 405,
   "metadata": {
    "hidden": true
   },
   "outputs": [],
   "source": [
    "def train_model2(model, lr = 1e-3, epochs = 10, loss_func = nn.CrossEntropyLoss()):\n",
    "    optimizer = Adam(model.parameters(), lr = lr)\n",
    "    running_loss = []\n",
    "    for epoch_num in range(epochs):\n",
    "        model.train()\n",
    "        train_loss = 0\n",
    "        for step_num, batch_data in enumerate(trainloader):\n",
    "        \n",
    "            cont_var, subj_notes, medhx, cat_var, labels = tuple(t.to(device) for t in batch_data)\n",
    "        \n",
    "            optimizer.zero_grad()\n",
    "        \n",
    "            logits = model(cont_var, subj_notes, medhx, cat_var)\n",
    "        \n",
    "            batch_loss = loss_func(logits, labels)\n",
    "        \n",
    "            train_loss += batch_loss.item()\n",
    "        \n",
    "            batch_loss.backward()\n",
    "        \n",
    "\n",
    "            clip_grad_norm_(parameters=model.parameters(), max_norm=1.0)\n",
    "        \n",
    "            optimizer.step()\n",
    "        \n",
    "            print('Epoch: ', epoch_num + 1)\n",
    "            print(\"\\r\" + \"{0}/{1} loss: {2} \".format(step_num, len(train_data) / batch_size, train_loss / (step_num + 1)))\n",
    "            \n",
    "        running_loss.append(train_loss)\n",
    "\n",
    "    return running_loss"
   ]
  },
  {
   "cell_type": "code",
   "execution_count": 406,
   "metadata": {
    "hidden": true
   },
   "outputs": [
    {
     "name": "stdout",
     "output_type": "stream",
     "text": [
      "Net1(\n",
      "  (linear_subjective): Linear(in_features=768, out_features=10, bias=True)\n",
      "  (linear_medhx): Linear(in_features=768, out_features=10, bias=True)\n",
      "  (embedding): Embedding(30, 30)\n",
      "  (linear_cat): Linear(in_features=30, out_features=10, bias=True)\n",
      "  (linear_combined): Linear(in_features=40, out_features=10, bias=True)\n",
      "  (out): Linear(in_features=10, out_features=4, bias=True)\n",
      ")\n"
     ]
    }
   ],
   "source": [
    "net = Net1()\n",
    "print(net)"
   ]
  },
  {
   "cell_type": "code",
   "execution_count": 407,
   "metadata": {
    "hidden": true,
    "scrolled": true
   },
   "outputs": [],
   "source": [
    "x1,x2,x3,x4,x5 = next(iter(trainloader))"
   ]
  },
  {
   "cell_type": "code",
   "execution_count": 408,
   "metadata": {
    "hidden": true
   },
   "outputs": [
    {
     "data": {
      "text/plain": [
       "tensor([[ 0.0392, -0.2653, -0.2816, -0.0602],\n",
       "        [ 0.0389, -0.3038, -0.2784, -0.0424],\n",
       "        [ 0.1807, -0.2866, -0.2834, -0.0349],\n",
       "        [ 0.0880, -0.2504, -0.2093, -0.0058]], grad_fn=<AddmmBackward>)"
      ]
     },
     "execution_count": 408,
     "metadata": {},
     "output_type": "execute_result"
    }
   ],
   "source": [
    "net(x1,x2,x3,x4)"
   ]
  },
  {
   "cell_type": "code",
   "execution_count": 57,
   "metadata": {
    "hidden": true
   },
   "outputs": [
    {
     "name": "stdout",
     "output_type": "stream",
     "text": [
      "Epoch:  1\n",
      "0/36.0 loss: 1.4564157724380493 \n",
      "Epoch:  1\n",
      "12/36.0 loss: 1.3908660778632531 \n",
      "Epoch:  1\n",
      "24/36.0 loss: 1.3096880102157593 \n",
      "Epoch:  2\n",
      "0/36.0 loss: 1.1334772109985352 \n",
      "Epoch:  2\n",
      "12/36.0 loss: 1.2425980797180762 \n",
      "Epoch:  2\n",
      "24/36.0 loss: 1.1831288576126098 \n",
      "Epoch:  3\n",
      "0/36.0 loss: 1.0782979726791382 \n",
      "Epoch:  3\n",
      "12/36.0 loss: 1.1369681174938495 \n",
      "Epoch:  3\n",
      "24/36.0 loss: 1.1143255043029785 \n",
      "Epoch:  4\n",
      "0/36.0 loss: 1.0798842906951904 \n",
      "Epoch:  4\n",
      "12/36.0 loss: 1.089571659381573 \n",
      "Epoch:  4\n",
      "24/36.0 loss: 1.0901463556289672 \n",
      "Epoch:  5\n",
      "0/36.0 loss: 1.0853729248046875 \n",
      "Epoch:  5\n",
      "12/36.0 loss: 1.0698626316510713 \n",
      "Epoch:  5\n",
      "24/36.0 loss: 1.0787011671066284 \n",
      "Epoch:  6\n",
      "0/36.0 loss: 1.0809965133666992 \n",
      "Epoch:  6\n",
      "12/36.0 loss: 1.0579146788670466 \n",
      "Epoch:  6\n",
      "24/36.0 loss: 1.070279860496521 \n",
      "Epoch:  7\n",
      "0/36.0 loss: 1.0749640464782715 \n",
      "Epoch:  7\n",
      "12/36.0 loss: 1.0462983617415795 \n",
      "Epoch:  7\n",
      "24/36.0 loss: 1.0594910216331481 \n",
      "Epoch:  8\n",
      "0/36.0 loss: 1.055727481842041 \n",
      "Epoch:  8\n",
      "12/36.0 loss: 1.032783554150508 \n",
      "Epoch:  8\n",
      "24/36.0 loss: 1.0454776430130004 \n",
      "Epoch:  9\n",
      "0/36.0 loss: 1.0343444347381592 \n",
      "Epoch:  9\n",
      "12/36.0 loss: 1.014243116745582 \n",
      "Epoch:  9\n",
      "24/36.0 loss: 1.0277545475959777 \n",
      "Epoch:  10\n",
      "0/36.0 loss: 1.007015585899353 \n",
      "Epoch:  10\n",
      "12/36.0 loss: 0.9970009097686181 \n",
      "Epoch:  10\n",
      "24/36.0 loss: 1.013094482421875 \n"
     ]
    }
   ],
   "source": [
    "cum_loss = train_model2(net)"
   ]
  },
  {
   "cell_type": "markdown",
   "metadata": {
    "heading_collapsed": true
   },
   "source": [
    "## next I'm going to make a pipeline for converting a list of categories into embedded classes\n",
    "### and turn those into model layers"
   ]
  },
  {
   "cell_type": "code",
   "execution_count": 58,
   "metadata": {
    "hidden": true
   },
   "outputs": [],
   "source": [
    "animals = ['manatee', 'dog', 'giraffe', 'narwhal', 'cat', 'elephant', 'mouse', 'dingo', 'wombat', 'skunk']\n",
    "cat_data = [[animal]* 16 for animal in animals]\n",
    "cat_data = [item for sublist in cat_data for item in sublist]\n",
    "random.shuffle(cat_data)"
   ]
  },
  {
   "cell_type": "code",
   "execution_count": 59,
   "metadata": {
    "hidden": true
   },
   "outputs": [],
   "source": [
    "animal_to_num = {animal:i for i,animal in enumerate(list(set(cat_data)))}\n",
    "num_to_animal = {i:animal for animal, i in enumerate(list(set(cat_data)))}"
   ]
  },
  {
   "cell_type": "code",
   "execution_count": 592,
   "metadata": {
    "hidden": true
   },
   "outputs": [],
   "source": [
    "#this is going to be my fake categorical animal data\n",
    "numerical_cat_data = [animal_to_num[item] for item in cat_data]"
   ]
  },
  {
   "cell_type": "code",
   "execution_count": 61,
   "metadata": {
    "hidden": true
   },
   "outputs": [
    {
     "data": {
      "text/plain": [
       "(160, {0, 1, 2, 3, 4, 5, 6, 7, 8, 9}, 10)"
      ]
     },
     "execution_count": 61,
     "metadata": {},
     "output_type": "execute_result"
    }
   ],
   "source": [
    "len(numerical_cat_data), set(numerical_cat_data), len(set(numerical_cat_data))"
   ]
  },
  {
   "cell_type": "markdown",
   "metadata": {
    "heading_collapsed": true,
    "hidden": true
   },
   "source": [
    "### copied tabular learner code from fast.ai\n",
    "- trying to figure out how to build the model construction pipeline that I want"
   ]
  },
  {
   "cell_type": "code",
   "execution_count": null,
   "metadata": {
    "hidden": true
   },
   "outputs": [],
   "source": [
    "class TabularModel(nn.Module):\n",
    "    \"Basic model for tabular data.\"\n",
    "    def __init__(self, emb_szs:ListSizes, n_cont:int, out_sz:int, layers:Collection[int], ps:Collection[float]=None,\n",
    "                 emb_drop:float=0., y_range:OptRange=None, use_bn:bool=True, bn_final:bool=False):\n",
    "        super().__init__()\n",
    "        ps = ifnone(ps, [0]*len(layers))\n",
    "        ps = listify(ps, layers)\n",
    "        self.embeds = nn.ModuleList([embedding(ni, nf) for ni,nf in emb_szs])\n",
    "        self.emb_drop = nn.Dropout(emb_drop)\n",
    "        self.bn_cont = nn.BatchNorm1d(n_cont)\n",
    "        n_emb = sum(e.embedding_dim for e in self.embeds)\n",
    "        self.n_emb,self.n_cont,self.y_range = n_emb,n_cont,y_range\n",
    "        sizes = self.get_sizes(layers, out_sz)\n",
    "        actns = [nn.ReLU(inplace=True) for _ in range(len(sizes)-2)] + [None]\n",
    "        layers = []\n",
    "        for i,(n_in,n_out,dp,act) in enumerate(zip(sizes[:-1],sizes[1:],[0.]+ps,actns)):\n",
    "            layers += bn_drop_lin(n_in, n_out, bn=use_bn and i!=0, p=dp, actn=act)\n",
    "        if bn_final: layers.append(nn.BatchNorm1d(sizes[-1]))\n",
    "        self.layers = nn.Sequential(*layers)\n",
    "\n",
    "    def get_sizes(self, layers, out_sz):\n",
    "        return [self.n_emb + self.n_cont] + layers + [out_sz]\n",
    "\n",
    "    def forward(self, x_cat:Tensor, x_cont:Tensor) -> Tensor:\n",
    "        if self.n_emb != 0:\n",
    "            x = [e(x_cat[:,i]) for i,e in enumerate(self.embeds)]\n",
    "            x = torch.cat(x, 1)\n",
    "            x = self.emb_drop(x)\n",
    "        if self.n_cont != 0:\n",
    "            x_cont = self.bn_cont(x_cont)\n",
    "            x = torch.cat([x, x_cont], 1) if self.n_emb != 0 else x_cont\n",
    "        x = self.layers(x)\n",
    "        if self.y_range is not None:\n",
    "            x = (self.y_range[1]-self.y_range[0]) * torch.sigmoid(x) + self.y_range[0]\n",
    "        return x"
   ]
  },
  {
   "cell_type": "code",
   "execution_count": null,
   "metadata": {
    "hidden": true
   },
   "outputs": [],
   "source": [
    "emb_szs = [(30,30), (20,20), (400,50)]\n",
    "embed_layers = nn.ModuleList([nn.Embedding(ni, nf) for ni,nf in emb_szs])\n",
    "embed_layers"
   ]
  },
  {
   "cell_type": "code",
   "execution_count": null,
   "metadata": {
    "hidden": true
   },
   "outputs": [],
   "source": [
    "embed_layers = [nn.Embedding(ni, nf) for ni,nf in emb_szs]\n",
    "embed_layers"
   ]
  },
  {
   "cell_type": "code",
   "execution_count": null,
   "metadata": {
    "hidden": true
   },
   "outputs": [],
   "source": [
    "n_emb = sum(e.embedding_dim for e in embed_layers); n_emb"
   ]
  },
  {
   "cell_type": "code",
   "execution_count": null,
   "metadata": {
    "hidden": true
   },
   "outputs": [],
   "source": [
    "layers=[200,100]\n",
    "n_cont = 3"
   ]
  },
  {
   "cell_type": "code",
   "execution_count": null,
   "metadata": {
    "hidden": true
   },
   "outputs": [],
   "source": [
    "def get_sizes(layers, out_sz):\n",
    "    return [n_emb + n_cont] + layers + [out_sz]"
   ]
  },
  {
   "cell_type": "code",
   "execution_count": null,
   "metadata": {
    "hidden": true
   },
   "outputs": [],
   "source": [
    "sizes = get_sizes(layers, 4); sizes"
   ]
  },
  {
   "cell_type": "code",
   "execution_count": null,
   "metadata": {
    "hidden": true
   },
   "outputs": [],
   "source": [
    "actns = [nn.ReLU(inplace=True) for _ in range(len(sizes)-2)] + [None]; actns"
   ]
  },
  {
   "cell_type": "code",
   "execution_count": null,
   "metadata": {
    "hidden": true
   },
   "outputs": [],
   "source": [
    "def forward(self, x_cat:Tensor, x_cont:Tensor) -> Tensor:\n",
    "        if self.n_emb != 0:\n",
    "            x = [e(x_cat[:,i]) for i,e in enumerate(self.embeds)]\n",
    "            x = torch.cat(x, 1)\n",
    "            x = self.emb_drop(x)\n",
    "        if self.n_cont != 0:\n",
    "            x_cont = self.bn_cont(x_cont)\n",
    "            x = torch.cat([x, x_cont], 1) if self.n_emb != 0 else x_cont\n",
    "        x = self.layers(x)\n",
    "        if self.y_range is not None:\n",
    "            x = (self.y_range[1]-self.y_range[0]) * torch.sigmoid(x) + self.y_range[0]\n",
    "        return x"
   ]
  },
  {
   "cell_type": "code",
   "execution_count": null,
   "metadata": {
    "hidden": true
   },
   "outputs": [],
   "source": [
    "cats = np.random.randint(0, 29, size=(160))"
   ]
  },
  {
   "cell_type": "code",
   "execution_count": null,
   "metadata": {
    "hidden": true
   },
   "outputs": [],
   "source": [
    "cats.shape, len(set(cats))"
   ]
  },
  {
   "cell_type": "markdown",
   "metadata": {
    "heading_collapsed": true,
    "hidden": true
   },
   "source": [
    "### fast.ai code code deconstructed above\n",
    "#### using that style to create my model"
   ]
  },
  {
   "cell_type": "code",
   "execution_count": 593,
   "metadata": {
    "hidden": true
   },
   "outputs": [],
   "source": [
    "subj = torch.rand(160,768).numpy()\n",
    "medhx = torch.rand(160,768).numpy()\n",
    "cont = torch.rand(160,10).numpy()\n",
    "labels = torch.randint(0,3,(160,)).numpy()"
   ]
  },
  {
   "cell_type": "code",
   "execution_count": 612,
   "metadata": {
    "hidden": true
   },
   "outputs": [
    {
     "data": {
      "text/plain": [
       "(dtype('float32'), dtype('float32'))"
      ]
     },
     "execution_count": 612,
     "metadata": {},
     "output_type": "execute_result"
    }
   ],
   "source": [
    "subj.dtype, medhx.dtype"
   ]
  },
  {
   "cell_type": "code",
   "execution_count": 594,
   "metadata": {
    "hidden": true
   },
   "outputs": [],
   "source": [
    "cats = np.random.randint(0, 29, size=(160))"
   ]
  },
  {
   "cell_type": "code",
   "execution_count": 595,
   "metadata": {
    "hidden": true
   },
   "outputs": [],
   "source": [
    "#so lets say I have 2 columns of categorical data:\n",
    "cat1 = numerical_cat_data #from the \"animal data\" I created above\n",
    "cat2 = cats #the original random number data set"
   ]
  },
  {
   "cell_type": "code",
   "execution_count": 596,
   "metadata": {
    "hidden": true
   },
   "outputs": [
    {
     "data": {
      "text/plain": [
       "numpy.ndarray"
      ]
     },
     "execution_count": 596,
     "metadata": {},
     "output_type": "execute_result"
    }
   ],
   "source": [
    "type(cats)"
   ]
  },
  {
   "cell_type": "code",
   "execution_count": 597,
   "metadata": {
    "hidden": true
   },
   "outputs": [],
   "source": [
    "cat_list = [cat1,cat2]"
   ]
  },
  {
   "cell_type": "code",
   "execution_count": 598,
   "metadata": {
    "hidden": true
   },
   "outputs": [
    {
     "data": {
      "text/plain": [
       "[10, 29]"
      ]
     },
     "execution_count": 598,
     "metadata": {},
     "output_type": "execute_result"
    }
   ],
   "source": [
    "class_lengths = [len(set(cat)) for cat in cat_list]\n",
    "class_lengths"
   ]
  },
  {
   "cell_type": "code",
   "execution_count": 599,
   "metadata": {
    "hidden": true
   },
   "outputs": [
    {
     "data": {
      "text/plain": [
       "(160, 2)"
      ]
     },
     "execution_count": 599,
     "metadata": {},
     "output_type": "execute_result"
    }
   ],
   "source": [
    "#this is an array the categorical data\n",
    "cats_array = np.vstack([np.array(cat) for cat in cat_list]).transpose(); cats_array.shape\n",
    "\n",
    "#this is a code I used during dev to go straight to a tensor\n",
    "#torch_cats = torch.tensor(np.vstack([np.array(cat) for cat in cat_list])).t(); cat3.shape"
   ]
  },
  {
   "cell_type": "code",
   "execution_count": 600,
   "metadata": {
    "hidden": true
   },
   "outputs": [
    {
     "data": {
      "text/plain": [
       "array([1, 9, 0, 0, 5, 2, 7, 9, 9, 4, 2, 6, 5, 3, 3, 4, 5, 9, 3, 0, 7, 6,\n",
       "       9, 1, 2, 8, 6, 2, 9, 6, 1, 1, 3, 2, 3, 5, 4, 9, 2, 3, 4, 8, 6, 7,\n",
       "       7, 3, 7, 6, 7, 9, 2, 0, 5, 7, 3, 3, 0, 4, 6, 7, 1, 5, 7, 7, 5, 3,\n",
       "       1, 0, 3, 4, 9, 8, 4, 6, 4, 3, 9, 2, 9, 2, 8, 8, 5, 4, 1, 5, 3, 8,\n",
       "       8, 6, 5, 3, 1, 1, 5, 7, 8, 0, 8, 5, 0, 1, 2, 4, 2, 5, 8, 4, 0, 0,\n",
       "       0, 3, 1, 7, 8, 5, 3, 6, 4, 0, 2, 6, 1, 8, 1, 9, 2, 8, 8, 6, 4, 4,\n",
       "       0, 6, 9, 8, 2, 1, 2, 6, 1, 8, 9, 7, 9, 6, 4, 0, 7, 9, 7, 0, 1, 2,\n",
       "       6, 5, 0, 5, 7, 4])"
      ]
     },
     "execution_count": 600,
     "metadata": {},
     "output_type": "execute_result"
    }
   ],
   "source": [
    "cats_array[:,0]"
   ]
  },
  {
   "cell_type": "code",
   "execution_count": 601,
   "metadata": {
    "hidden": true
   },
   "outputs": [
    {
     "data": {
      "text/plain": [
       "array([ 5,  2, 18,  5, 12, 20,  1, 14, 20, 16, 11, 24,  2,  0, 28, 10, 18,\n",
       "       16, 27,  3, 12,  0, 18, 16, 19,  6, 27,  2, 16, 28, 12, 14, 17, 13,\n",
       "        3,  8, 10,  3, 21, 21, 24, 15, 27,  6,  3,  1,  4, 11,  2, 11, 22,\n",
       "       11, 12,  2, 17,  0,  2, 14,  2,  1, 21, 28,  4, 27, 12,  3, 28, 27,\n",
       "       13, 23,  2, 21, 23,  3, 25, 21,  2, 10, 14, 13,  2, 23, 28,  2, 18,\n",
       "        2, 26,  7, 26,  9, 19,  7, 10, 21, 19, 18, 17,  7, 20,  3, 22,  5,\n",
       "       22, 24, 17,  7,  5, 11, 18, 15,  7, 13,  4,  4, 16,  3, 26, 24,  1,\n",
       "       14, 25, 19, 25, 20, 11, 19, 25,  2,  8, 21, 20,  1, 28, 18, 17, 25,\n",
       "       28,  2,  4, 20, 20, 20, 12, 10, 12,  7, 24, 10, 13, 25, 10,  8,  5,\n",
       "       12,  4, 14, 26, 23, 26, 15])"
      ]
     },
     "execution_count": 601,
     "metadata": {},
     "output_type": "execute_result"
    }
   ],
   "source": [
    "cats_array[:,1]"
   ]
  },
  {
   "cell_type": "code",
   "execution_count": 602,
   "metadata": {
    "hidden": true
   },
   "outputs": [
    {
     "data": {
      "text/plain": [
       "[(10, 6), (29, 11)]"
      ]
     },
     "execution_count": 602,
     "metadata": {},
     "output_type": "execute_result"
    }
   ],
   "source": [
    "#creating a set of embedding sizes for each categorical variable\n",
    "emb_szs = [(length, min(600, round(1.6 * length **0.56))) for length in class_lengths]\n",
    "emb_szs"
   ]
  },
  {
   "cell_type": "code",
   "execution_count": 603,
   "metadata": {
    "hidden": true
   },
   "outputs": [],
   "source": [
    "class Net2(nn.Module):\n",
    "    def __init__(self, emb_szs):\n",
    "        super(Net2, self).__init__()\n",
    "        \n",
    "        #first create the embedding layers for each of the categorical variables\n",
    "        self.embed_layers = nn.ModuleList([nn.Embedding(ni, nf) for ni,nf in emb_szs])\n",
    "        n_emb = sum(e.embedding_dim for e in self.embed_layers)\n",
    "        \n",
    "        self.linear_subjective = nn.Linear(768,10)  \n",
    "        self.linear_medhx = nn.Linear(768, 10)\n",
    "        self.linear_cat = nn.Linear(n_emb,10)\n",
    "        self.linear_combined = nn.Linear(40, 10)\n",
    "        self.out = nn.Linear(10,4)\n",
    "\n",
    "    def forward(self, subj,medhx,cont,cat_var):\n",
    "        #first we run each BERT vector through a linear layer and activation\n",
    "        nlp1 = F.relu(self.linear_subjective(subj))\n",
    "        nlp2 = F.relu(self.linear_medhx(medhx))\n",
    "        \n",
    "        #now we pass each categorical variable through an embedding layer, combine output and pass through\n",
    "        #a linear layer with activation\n",
    "        embeds = [e(cat_var[:,i]) for i,e in enumerate(self.embed_layers)]\n",
    "        embeds = torch.cat(embeds, 1)\n",
    "        embeds = F.relu(self.linear_cat(embeds))\n",
    "        \n",
    "        #now we combine all four sources of input and pass through a layer with activation\n",
    "        combined = torch.cat((nlp1,nlp2,cont,embeds), axis = 1)\n",
    "        x = F.relu(self.linear_combined(combined))\n",
    "        \n",
    "        #compute logits\n",
    "        x = self.out(x)\n",
    "        \n",
    "        return x\n",
    "\n",
    "\n"
   ]
  },
  {
   "cell_type": "code",
   "execution_count": 604,
   "metadata": {
    "hidden": true
   },
   "outputs": [
    {
     "data": {
      "text/plain": [
       "Net2(\n",
       "  (embed_layers): ModuleList(\n",
       "    (0): Embedding(10, 6)\n",
       "    (1): Embedding(29, 11)\n",
       "  )\n",
       "  (linear_subjective): Linear(in_features=768, out_features=10, bias=True)\n",
       "  (linear_medhx): Linear(in_features=768, out_features=10, bias=True)\n",
       "  (linear_cat): Linear(in_features=17, out_features=10, bias=True)\n",
       "  (linear_combined): Linear(in_features=40, out_features=10, bias=True)\n",
       "  (out): Linear(in_features=10, out_features=4, bias=True)\n",
       ")"
      ]
     },
     "execution_count": 604,
     "metadata": {},
     "output_type": "execute_result"
    }
   ],
   "source": [
    "net = Net2(emb_szs)\n",
    "net"
   ]
  },
  {
   "cell_type": "markdown",
   "metadata": {
    "heading_collapsed": true,
    "hidden": true
   },
   "source": [
    "### now lets create \"datasets, loaders, etc\"\n"
   ]
  },
  {
   "cell_type": "code",
   "execution_count": 605,
   "metadata": {
    "hidden": true
   },
   "outputs": [],
   "source": [
    "train_subj, validation_subj = train_test_split(subj, random_state = 42, test_size=0.1)\n",
    "train_medhx, validation_medhx = train_test_split(medhx, random_state = 42, test_size=0.1)\n",
    "train_cont, validation_cont = train_test_split(cont, random_state = 42, test_size=0.1)\n",
    "train_cats, validation_cats = train_test_split(cats_array, random_state = 42, test_size=0.1)\n",
    "train_labels, validation_labels = train_test_split(labels, random_state = 42, test_size=0.1)"
   ]
  },
  {
   "cell_type": "code",
   "execution_count": 606,
   "metadata": {
    "hidden": true
   },
   "outputs": [],
   "source": [
    "train_subj = torch.tensor(train_subj)\n",
    "validation_subj = torch.tensor(validation_subj)\n",
    "train_medhx = torch.tensor(train_medhx)\n",
    "validation_medhx = torch.tensor(validation_medhx)\n",
    "train_cont = torch.tensor(train_cont)\n",
    "validation_cont = torch.tensor(validation_cont)\n",
    "train_cats = torch.tensor(train_cats)\n",
    "validation_cats = torch.tensor(validation_cats)\n",
    "train_labels = torch.tensor(train_labels)\n",
    "validation_labels = torch.tensor(validation_labels)"
   ]
  },
  {
   "cell_type": "code",
   "execution_count": 607,
   "metadata": {
    "hidden": true
   },
   "outputs": [],
   "source": [
    "batch_size = 4\n",
    "\n",
    "train_data = TensorDataset(train_subj, train_medhx, train_cont,train_cats,train_labels)\n",
    "trainloader = DataLoader(train_data, batch_size=batch_size)\n",
    "\n",
    "valid_data = TensorDataset(validation_subj, validation_medhx, validation_cont, validation_cats, validation_labels)\n",
    "validloader = DataLoader(valid_data, batch_size=batch_size)"
   ]
  },
  {
   "cell_type": "code",
   "execution_count": 608,
   "metadata": {
    "hidden": true
   },
   "outputs": [],
   "source": [
    "x1,x2,x3,x4,x5 = next(iter(trainloader))"
   ]
  },
  {
   "cell_type": "code",
   "execution_count": 609,
   "metadata": {
    "hidden": true
   },
   "outputs": [
    {
     "data": {
      "text/plain": [
       "tensor([[-0.1552, -0.2715, -0.1548, -0.0525],\n",
       "        [-0.1519, -0.2778, -0.1637, -0.0225],\n",
       "        [-0.2310, -0.2008, -0.1826, -0.0447],\n",
       "        [-0.2008, -0.2522, -0.1842, -0.0937]], grad_fn=<AddmmBackward>)"
      ]
     },
     "execution_count": 609,
     "metadata": {},
     "output_type": "execute_result"
    }
   ],
   "source": [
    "net(x1,x2,x3,x4)"
   ]
  },
  {
   "cell_type": "code",
   "execution_count": 610,
   "metadata": {
    "hidden": true
   },
   "outputs": [
    {
     "name": "stdout",
     "output_type": "stream",
     "text": [
      "Epoch:  1\n",
      "0/36.0 loss: 1.470170497894287 \n",
      "Epoch:  1\n",
      "1/36.0 loss: 1.451158046722412 \n",
      "Epoch:  1\n",
      "2/36.0 loss: 1.4386531909306843 \n",
      "Epoch:  1\n",
      "3/36.0 loss: 1.4276705384254456 \n",
      "Epoch:  1\n",
      "4/36.0 loss: 1.4242132186889649 \n",
      "Epoch:  1\n",
      "5/36.0 loss: 1.4221746921539307 \n",
      "Epoch:  1\n",
      "6/36.0 loss: 1.4176146984100342 \n",
      "Epoch:  1\n",
      "7/36.0 loss: 1.4081696271896362 \n",
      "Epoch:  1\n",
      "8/36.0 loss: 1.4001778761545818 \n",
      "Epoch:  1\n",
      "9/36.0 loss: 1.39479501247406 \n",
      "Epoch:  1\n",
      "10/36.0 loss: 1.3899159323085437 \n",
      "Epoch:  1\n",
      "11/36.0 loss: 1.3730320831139882 \n",
      "Epoch:  1\n",
      "12/36.0 loss: 1.3738352427115808 \n",
      "Epoch:  1\n",
      "13/36.0 loss: 1.3693932039397103 \n",
      "Epoch:  1\n",
      "14/36.0 loss: 1.3622467994689942 \n",
      "Epoch:  1\n",
      "15/36.0 loss: 1.3599234595894814 \n",
      "Epoch:  1\n",
      "16/36.0 loss: 1.3525224924087524 \n",
      "Epoch:  1\n",
      "17/36.0 loss: 1.3453961544566684 \n",
      "Epoch:  1\n",
      "18/36.0 loss: 1.3340327488748651 \n",
      "Epoch:  1\n",
      "19/36.0 loss: 1.327636444568634 \n",
      "Epoch:  1\n",
      "20/36.0 loss: 1.3183319171269734 \n",
      "Epoch:  1\n",
      "21/36.0 loss: 1.3074766939336604 \n",
      "Epoch:  1\n",
      "22/36.0 loss: 1.292395249657009 \n",
      "Epoch:  1\n",
      "23/36.0 loss: 1.293146143356959 \n",
      "Epoch:  1\n",
      "24/36.0 loss: 1.3043660879135133 \n",
      "Epoch:  1\n",
      "25/36.0 loss: 1.2849988226707165 \n",
      "Epoch:  1\n",
      "26/36.0 loss: 1.2976298839957625 \n",
      "Epoch:  1\n",
      "27/36.0 loss: 1.2906496205500193 \n",
      "Epoch:  1\n",
      "28/36.0 loss: 1.2757231654791996 \n",
      "Epoch:  1\n",
      "29/36.0 loss: 1.2842416842778523 \n",
      "Epoch:  1\n",
      "30/36.0 loss: 1.2825315536991242 \n",
      "Epoch:  1\n",
      "31/36.0 loss: 1.2811034992337227 \n",
      "Epoch:  1\n",
      "32/36.0 loss: 1.2766226746819236 \n",
      "Epoch:  1\n",
      "33/36.0 loss: 1.2669543343431808 \n",
      "Epoch:  1\n",
      "34/36.0 loss: 1.2675161668232509 \n",
      "Epoch:  1\n",
      "35/36.0 loss: 1.2630556060208216 \n",
      "Epoch:  2\n",
      "0/36.0 loss: 1.673790693283081 \n",
      "Epoch:  2\n",
      "1/36.0 loss: 1.371775507926941 \n",
      "Epoch:  2\n",
      "2/36.0 loss: 1.2830390135447185 \n",
      "Epoch:  2\n",
      "3/36.0 loss: 1.3093644678592682 \n",
      "Epoch:  2\n",
      "4/36.0 loss: 1.269723129272461 \n",
      "Epoch:  2\n",
      "5/36.0 loss: 1.2860300540924072 \n",
      "Epoch:  2\n",
      "6/36.0 loss: 1.2449217438697815 \n",
      "Epoch:  2\n",
      "7/36.0 loss: 1.2234599813818932 \n",
      "Epoch:  2\n",
      "8/36.0 loss: 1.2233047551578946 \n",
      "Epoch:  2\n",
      "9/36.0 loss: 1.2241163074970245 \n",
      "Epoch:  2\n",
      "10/36.0 loss: 1.2344989288936963 \n",
      "Epoch:  2\n",
      "11/36.0 loss: 1.1921704014142354 \n",
      "Epoch:  2\n",
      "12/36.0 loss: 1.2119190509502704 \n",
      "Epoch:  2\n",
      "13/36.0 loss: 1.2109425834247045 \n",
      "Epoch:  2\n",
      "14/36.0 loss: 1.2080176750818887 \n",
      "Epoch:  2\n",
      "15/36.0 loss: 1.2145828604698181 \n",
      "Epoch:  2\n",
      "16/36.0 loss: 1.2070168186636532 \n",
      "Epoch:  2\n",
      "17/36.0 loss: 1.2011000050438776 \n",
      "Epoch:  2\n",
      "18/36.0 loss: 1.1886910325602482 \n",
      "Epoch:  2\n",
      "19/36.0 loss: 1.183409422636032 \n",
      "Epoch:  2\n",
      "20/36.0 loss: 1.1747445776349021 \n",
      "Epoch:  2\n",
      "21/36.0 loss: 1.1670393618670376 \n",
      "Epoch:  2\n",
      "22/36.0 loss: 1.154682439306508 \n",
      "Epoch:  2\n",
      "23/36.0 loss: 1.1572720607121785 \n",
      "Epoch:  2\n",
      "24/36.0 loss: 1.1692757606506348 \n",
      "Epoch:  2\n",
      "25/36.0 loss: 1.1537810976688678 \n",
      "Epoch:  2\n",
      "26/36.0 loss: 1.1653058131535847 \n",
      "Epoch:  2\n",
      "27/36.0 loss: 1.1638818425791604 \n",
      "Epoch:  2\n",
      "28/36.0 loss: 1.15405194512729 \n",
      "Epoch:  2\n",
      "29/36.0 loss: 1.1599020640055338 \n",
      "Epoch:  2\n",
      "30/36.0 loss: 1.160205856446297 \n",
      "Epoch:  2\n",
      "31/36.0 loss: 1.1610863916575909 \n",
      "Epoch:  2\n",
      "32/36.0 loss: 1.1586958675673513 \n",
      "Epoch:  2\n",
      "33/36.0 loss: 1.1536853418630713 \n",
      "Epoch:  2\n",
      "34/36.0 loss: 1.1530492169516426 \n",
      "Epoch:  2\n",
      "35/36.0 loss: 1.1501580311192408 \n",
      "Epoch:  3\n",
      "0/36.0 loss: 1.405700445175171 \n",
      "Epoch:  3\n",
      "1/36.0 loss: 1.263843595981598 \n",
      "Epoch:  3\n",
      "2/36.0 loss: 1.1902267535527546 \n",
      "Epoch:  3\n",
      "3/36.0 loss: 1.1954551935195923 \n",
      "Epoch:  3\n",
      "4/36.0 loss: 1.1665799379348756 \n",
      "Epoch:  3\n",
      "5/36.0 loss: 1.1752302447954814 \n",
      "Epoch:  3\n",
      "6/36.0 loss: 1.1465892962047033 \n",
      "Epoch:  3\n",
      "7/36.0 loss: 1.1343140751123428 \n",
      "Epoch:  3\n",
      "8/36.0 loss: 1.1249785423278809 \n",
      "Epoch:  3\n",
      "9/36.0 loss: 1.118956708908081 \n",
      "Epoch:  3\n",
      "10/36.0 loss: 1.1216303218494763 \n",
      "Epoch:  3\n",
      "11/36.0 loss: 1.0989140619834263 \n",
      "Epoch:  3\n",
      "12/36.0 loss: 1.1130531888741713 \n",
      "Epoch:  3\n",
      "13/36.0 loss: 1.108104761157717 \n",
      "Epoch:  3\n",
      "14/36.0 loss: 1.0999950528144837 \n",
      "Epoch:  3\n",
      "15/36.0 loss: 1.111858930438757 \n",
      "Epoch:  3\n",
      "16/36.0 loss: 1.1084747980622685 \n",
      "Epoch:  3\n",
      "17/36.0 loss: 1.11717970834838 \n",
      "Epoch:  3\n",
      "18/36.0 loss: 1.1077889800071716 \n",
      "Epoch:  3\n",
      "19/36.0 loss: 1.1056867033243178 \n",
      "Epoch:  3\n",
      "20/36.0 loss: 1.0989271373975844 \n",
      "Epoch:  3\n",
      "21/36.0 loss: 1.1008477021347394 \n",
      "Epoch:  3\n",
      "22/36.0 loss: 1.0961838468261387 \n",
      "Epoch:  3\n",
      "23/36.0 loss: 1.0954561059673626 \n",
      "Epoch:  3\n",
      "24/36.0 loss: 1.1007089161872863 \n",
      "Epoch:  3\n",
      "25/36.0 loss: 1.0902785658836365 \n",
      "Epoch:  3\n",
      "26/36.0 loss: 1.0960100094477336 \n",
      "Epoch:  3\n",
      "27/36.0 loss: 1.1023468588079726 \n",
      "Epoch:  3\n",
      "28/36.0 loss: 1.097378251881435 \n",
      "Epoch:  3\n",
      "29/36.0 loss: 1.0984664777914683 \n",
      "Epoch:  3\n",
      "30/36.0 loss: 1.100889769292647 \n",
      "Epoch:  3\n",
      "31/36.0 loss: 1.104640418663621 \n",
      "Epoch:  3\n",
      "32/36.0 loss: 1.102879327355009 \n",
      "Epoch:  3\n",
      "33/36.0 loss: 1.1019443115767311 \n",
      "Epoch:  3\n",
      "34/36.0 loss: 1.0990563920566014 \n",
      "Epoch:  3\n",
      "35/36.0 loss: 1.0965378135442734 \n",
      "Epoch:  4\n",
      "0/36.0 loss: 1.2961704730987549 \n",
      "Epoch:  4\n",
      "1/36.0 loss: 1.2596315145492554 \n",
      "Epoch:  4\n",
      "2/36.0 loss: 1.1746367613474529 \n",
      "Epoch:  4\n",
      "3/36.0 loss: 1.1734299659729004 \n",
      "Epoch:  4\n",
      "4/36.0 loss: 1.1409778594970703 \n",
      "Epoch:  4\n",
      "5/36.0 loss: 1.1487269600232441 \n",
      "Epoch:  4\n",
      "6/36.0 loss: 1.113757508141654 \n",
      "Epoch:  4\n",
      "7/36.0 loss: 1.1007394641637802 \n",
      "Epoch:  4\n",
      "8/36.0 loss: 1.0886045098304749 \n",
      "Epoch:  4\n",
      "9/36.0 loss: 1.0809744775295258 \n",
      "Epoch:  4\n",
      "10/36.0 loss: 1.086748323657296 \n",
      "Epoch:  4\n",
      "11/36.0 loss: 1.0589126994212468 \n",
      "Epoch:  4\n",
      "12/36.0 loss: 1.0801233832652752 \n",
      "Epoch:  4\n",
      "13/36.0 loss: 1.0746558180877142 \n",
      "Epoch:  4\n",
      "14/36.0 loss: 1.0661837220191956 \n",
      "Epoch:  4\n",
      "15/36.0 loss: 1.083922367542982 \n",
      "Epoch:  4\n",
      "16/36.0 loss: 1.0798994898796082 \n",
      "Epoch:  4\n",
      "17/36.0 loss: 1.09120484524303 \n",
      "Epoch:  4\n",
      "18/36.0 loss: 1.0796034053752297 \n",
      "Epoch:  4\n",
      "19/36.0 loss: 1.0768179565668106 \n",
      "Epoch:  4\n",
      "20/36.0 loss: 1.0684776050703866 \n",
      "Epoch:  4\n",
      "21/36.0 loss: 1.070743514732881 \n",
      "Epoch:  4\n",
      "22/36.0 loss: 1.064928798571877 \n",
      "Epoch:  4\n",
      "23/36.0 loss: 1.0656967088580132 \n",
      "Epoch:  4\n",
      "24/36.0 loss: 1.0743894696235656 \n",
      "Epoch:  4\n",
      "25/36.0 loss: 1.061504134765038 \n",
      "Epoch:  4\n",
      "26/36.0 loss: 1.0704736974504259 \n",
      "Epoch:  4\n",
      "27/36.0 loss: 1.078238376549312 \n",
      "Epoch:  4\n",
      "28/36.0 loss: 1.0724126306073418 \n",
      "Epoch:  4\n",
      "29/36.0 loss: 1.0751330574353537 \n",
      "Epoch:  4\n",
      "30/36.0 loss: 1.0785022897105063 \n",
      "Epoch:  4\n",
      "31/36.0 loss: 1.0833483673632145 \n",
      "Epoch:  4\n",
      "32/36.0 loss: 1.0811605995351619 \n",
      "Epoch:  4\n",
      "33/36.0 loss: 1.0803462617537554 \n",
      "Epoch:  4\n",
      "34/36.0 loss: 1.0774838158062525 \n",
      "Epoch:  4\n",
      "35/36.0 loss: 1.0746677269538243 \n",
      "Epoch:  5\n",
      "0/36.0 loss: 1.3197273015975952 \n",
      "Epoch:  5\n",
      "1/36.0 loss: 1.2790516018867493 \n",
      "Epoch:  5\n",
      "2/36.0 loss: 1.1764999429384868 \n",
      "Epoch:  5\n",
      "3/36.0 loss: 1.1734718531370163 \n",
      "Epoch:  5\n",
      "4/36.0 loss: 1.1341811418533325 \n",
      "Epoch:  5\n",
      "5/36.0 loss: 1.1403073072433472 \n",
      "Epoch:  5\n",
      "6/36.0 loss: 1.1032679506710596 \n",
      "Epoch:  5\n",
      "7/36.0 loss: 1.0880735144019127 \n",
      "Epoch:  5\n",
      "8/36.0 loss: 1.073310587141249 \n",
      "Epoch:  5\n",
      "9/36.0 loss: 1.0637852668762207 \n",
      "Epoch:  5\n",
      "10/36.0 loss: 1.0682430375706067 \n",
      "Epoch:  5\n",
      "11/36.0 loss: 1.042437846461932 \n",
      "Epoch:  5\n",
      "12/36.0 loss: 1.0630584267469554 \n",
      "Epoch:  5\n",
      "13/36.0 loss: 1.0565636370863234 \n",
      "Epoch:  5\n",
      "14/36.0 loss: 1.04699764251709 \n",
      "Epoch:  5\n",
      "15/36.0 loss: 1.0656240954995155 \n",
      "Epoch:  5\n",
      "16/36.0 loss: 1.0612681402879602 \n",
      "Epoch:  5\n",
      "17/36.0 loss: 1.0749623245663114 \n",
      "Epoch:  5\n",
      "18/36.0 loss: 1.0640852639549656 \n",
      "Epoch:  5\n",
      "19/36.0 loss: 1.0603607445955276 \n",
      "Epoch:  5\n",
      "20/36.0 loss: 1.0528233164832705 \n",
      "Epoch:  5\n",
      "21/36.0 loss: 1.0567122372713955 \n",
      "Epoch:  5\n",
      "22/36.0 loss: 1.0522459019785342 \n",
      "Epoch:  5\n",
      "23/36.0 loss: 1.0520085394382477 \n",
      "Epoch:  5\n",
      "24/36.0 loss: 1.0598203086853026 \n",
      "Epoch:  5\n",
      "25/36.0 loss: 1.04790755877128 \n",
      "Epoch:  5\n",
      "26/36.0 loss: 1.056160781118605 \n",
      "Epoch:  5\n",
      "27/36.0 loss: 1.0646070880549294 \n",
      "Epoch:  5\n",
      "28/36.0 loss: 1.05959768541928 \n",
      "Epoch:  5\n",
      "29/36.0 loss: 1.061910899480184 \n",
      "Epoch:  5\n",
      "30/36.0 loss: 1.065135625100905 \n",
      "Epoch:  5\n",
      "31/36.0 loss: 1.0700577571988106 \n",
      "Epoch:  5\n",
      "32/36.0 loss: 1.0672234983155222 \n",
      "Epoch:  5\n",
      "33/36.0 loss: 1.0667138625593746 \n",
      "Epoch:  5\n",
      "34/36.0 loss: 1.0636039904185703 \n",
      "Epoch:  5\n",
      "35/36.0 loss: 1.0602123969131045 \n",
      "Epoch:  6\n",
      "0/36.0 loss: 1.3040086030960083 \n",
      "Epoch:  6\n",
      "1/36.0 loss: 1.2701079845428467 \n",
      "Epoch:  6\n",
      "2/36.0 loss: 1.1583516995112102 \n",
      "Epoch:  6\n",
      "3/36.0 loss: 1.1569843590259552 \n",
      "Epoch:  6\n",
      "4/36.0 loss: 1.1133107662200927 \n",
      "Epoch:  6\n",
      "5/36.0 loss: 1.120303988456726 \n",
      "Epoch:  6\n",
      "6/36.0 loss: 1.0841494032314845 \n",
      "Epoch:  6\n",
      "7/36.0 loss: 1.0672228410840034 \n",
      "Epoch:  6\n",
      "8/36.0 loss: 1.052019516626994 \n",
      "Epoch:  6\n",
      "9/36.0 loss: 1.0425729870796203 \n",
      "Epoch:  6\n",
      "10/36.0 loss: 1.0467407378283413 \n",
      "Epoch:  6\n",
      "11/36.0 loss: 1.0223686198393505 \n",
      "Epoch:  6\n",
      "12/36.0 loss: 1.0432678736173189 \n",
      "Epoch:  6\n",
      "13/36.0 loss: 1.0366726687976293 \n",
      "Epoch:  6\n",
      "14/36.0 loss: 1.026777191956838 \n",
      "Epoch:  6\n",
      "15/36.0 loss: 1.045951697975397 \n",
      "Epoch:  6\n",
      "16/36.0 loss: 1.0411015959346996 \n",
      "Epoch:  6\n",
      "17/36.0 loss: 1.0561301973130968 \n",
      "Epoch:  6\n",
      "18/36.0 loss: 1.0458721173437018 \n",
      "Epoch:  6\n",
      "19/36.0 loss: 1.0410511434078216 \n",
      "Epoch:  6\n",
      "20/36.0 loss: 1.0343019650095986 \n",
      "Epoch:  6\n",
      "21/36.0 loss: 1.0391846163706346 \n",
      "Epoch:  6\n",
      "22/36.0 loss: 1.0355080547540083 \n",
      "Epoch:  6\n",
      "23/36.0 loss: 1.0346862350900967 \n",
      "Epoch:  6\n",
      "24/36.0 loss: 1.0426738905906676 \n",
      "Epoch:  6\n",
      "25/36.0 loss: 1.0311641349242284 \n",
      "Epoch:  6\n",
      "26/36.0 loss: 1.039753258228302 \n",
      "Epoch:  6\n",
      "27/36.0 loss: 1.04848812520504 \n",
      "Epoch:  6\n",
      "28/36.0 loss: 1.0438451746414448 \n",
      "Epoch:  6\n",
      "29/36.0 loss: 1.0465332885583243 \n",
      "Epoch:  6\n",
      "30/36.0 loss: 1.049570700814647 \n",
      "Epoch:  6\n",
      "31/36.0 loss: 1.054610500112176 \n",
      "Epoch:  6\n",
      "32/36.0 loss: 1.0508658506653525 \n",
      "Epoch:  6\n",
      "33/36.0 loss: 1.0504474271746242 \n",
      "Epoch:  6\n",
      "34/36.0 loss: 1.0472106899533953 \n",
      "Epoch:  6\n",
      "35/36.0 loss: 1.043055580721961 \n",
      "Epoch:  7\n",
      "0/36.0 loss: 1.2946051359176636 \n",
      "Epoch:  7\n",
      "1/36.0 loss: 1.2630196809768677 \n",
      "Epoch:  7\n",
      "2/36.0 loss: 1.1384411454200745 \n"
     ]
    },
    {
     "name": "stdout",
     "output_type": "stream",
     "text": [
      "Epoch:  7\n",
      "3/36.0 loss: 1.138667806982994 \n",
      "Epoch:  7\n",
      "4/36.0 loss: 1.0891778707504272 \n",
      "Epoch:  7\n",
      "5/36.0 loss: 1.096759816010793 \n",
      "Epoch:  7\n",
      "6/36.0 loss: 1.0616603663989477 \n",
      "Epoch:  7\n",
      "7/36.0 loss: 1.0424295589327812 \n",
      "Epoch:  7\n",
      "8/36.0 loss: 1.0266159971555073 \n",
      "Epoch:  7\n",
      "9/36.0 loss: 1.0167916595935822 \n",
      "Epoch:  7\n",
      "10/36.0 loss: 1.0201617641882463 \n",
      "Epoch:  7\n",
      "11/36.0 loss: 0.9980736573537191 \n",
      "Epoch:  7\n",
      "12/36.0 loss: 1.0189783573150635 \n",
      "Epoch:  7\n",
      "13/36.0 loss: 1.0119546226092748 \n",
      "Epoch:  7\n",
      "14/36.0 loss: 1.0013582269350687 \n",
      "Epoch:  7\n",
      "15/36.0 loss: 1.021242666989565 \n",
      "Epoch:  7\n",
      "16/36.0 loss: 1.0159154955078573 \n",
      "Epoch:  7\n",
      "17/36.0 loss: 1.032979240020116 \n",
      "Epoch:  7\n",
      "18/36.0 loss: 1.0235694678206193 \n",
      "Epoch:  7\n",
      "19/36.0 loss: 1.0174830704927444 \n",
      "Epoch:  7\n",
      "20/36.0 loss: 1.0117420156796773 \n",
      "Epoch:  7\n",
      "21/36.0 loss: 1.0180136046626351 \n",
      "Epoch:  7\n",
      "22/36.0 loss: 1.0153798486875452 \n",
      "Epoch:  7\n",
      "23/36.0 loss: 1.0138125518957775 \n",
      "Epoch:  7\n",
      "24/36.0 loss: 1.0220188617706298 \n",
      "Epoch:  7\n",
      "25/36.0 loss: 1.0109225878348718 \n",
      "Epoch:  7\n",
      "26/36.0 loss: 1.0199903470498544 \n",
      "Epoch:  7\n",
      "27/36.0 loss: 1.0290858106953757 \n",
      "Epoch:  7\n",
      "28/36.0 loss: 1.024796991512693 \n",
      "Epoch:  7\n",
      "29/36.0 loss: 1.028013253211975 \n",
      "Epoch:  7\n",
      "30/36.0 loss: 1.0308282336881083 \n",
      "Epoch:  7\n",
      "31/36.0 loss: 1.0360162518918514 \n",
      "Epoch:  7\n",
      "32/36.0 loss: 1.0311995148658752 \n",
      "Epoch:  7\n",
      "33/36.0 loss: 1.0308490518261404 \n",
      "Epoch:  7\n",
      "34/36.0 loss: 1.027421840599605 \n",
      "Epoch:  7\n",
      "35/36.0 loss: 1.0224589738580916 \n",
      "Epoch:  8\n",
      "0/36.0 loss: 1.272952675819397 \n",
      "Epoch:  8\n",
      "1/36.0 loss: 1.2554299235343933 \n",
      "Epoch:  8\n",
      "2/36.0 loss: 1.1159759362538655 \n",
      "Epoch:  8\n",
      "3/36.0 loss: 1.11177659034729 \n",
      "Epoch:  8\n",
      "4/36.0 loss: 1.056872510910034 \n",
      "Epoch:  8\n",
      "5/36.0 loss: 1.0612189372380574 \n",
      "Epoch:  8\n",
      "6/36.0 loss: 1.0291633776256017 \n",
      "Epoch:  8\n",
      "7/36.0 loss: 1.0081288442015648 \n",
      "Epoch:  8\n",
      "8/36.0 loss: 0.9888369176122878 \n",
      "Epoch:  8\n",
      "9/36.0 loss: 0.9773045003414154 \n",
      "Epoch:  8\n",
      "10/36.0 loss: 0.9786454926837574 \n",
      "Epoch:  8\n",
      "11/36.0 loss: 0.9626761277516683 \n",
      "Epoch:  8\n",
      "12/36.0 loss: 0.9828077371303852 \n",
      "Epoch:  8\n",
      "13/36.0 loss: 0.9747745181832995 \n",
      "Epoch:  8\n",
      "14/36.0 loss: 0.9630964080492656 \n",
      "Epoch:  8\n",
      "15/36.0 loss: 0.98462750390172 \n",
      "Epoch:  8\n",
      "16/36.0 loss: 0.9795914642951068 \n",
      "Epoch:  8\n",
      "17/36.0 loss: 1.000684337483512 \n",
      "Epoch:  8\n",
      "18/36.0 loss: 0.9926145892394217 \n",
      "Epoch:  8\n",
      "19/36.0 loss: 0.9855216145515442 \n",
      "Epoch:  8\n",
      "20/36.0 loss: 0.9811140469142369 \n",
      "Epoch:  8\n",
      "21/36.0 loss: 0.9895003383809869 \n",
      "Epoch:  8\n",
      "22/36.0 loss: 0.988239366075267 \n",
      "Epoch:  8\n",
      "23/36.0 loss: 0.9860777879754702 \n",
      "Epoch:  8\n",
      "24/36.0 loss: 0.9949235081672668 \n",
      "Epoch:  8\n",
      "25/36.0 loss: 0.9839899058525379 \n",
      "Epoch:  8\n",
      "26/36.0 loss: 0.9941687164483247 \n",
      "Epoch:  8\n",
      "27/36.0 loss: 1.0039725026914053 \n",
      "Epoch:  8\n",
      "28/36.0 loss: 0.999811604105193 \n",
      "Epoch:  8\n",
      "29/36.0 loss: 1.004059080282847 \n",
      "Epoch:  8\n",
      "30/36.0 loss: 1.0069101933510072 \n",
      "Epoch:  8\n",
      "31/36.0 loss: 1.0125240497291088 \n",
      "Epoch:  8\n",
      "32/36.0 loss: 1.0065731171405676 \n",
      "Epoch:  8\n",
      "33/36.0 loss: 1.0062819771906908 \n",
      "Epoch:  8\n",
      "34/36.0 loss: 1.0028108545712062 \n",
      "Epoch:  8\n",
      "35/36.0 loss: 0.9973575621843338 \n",
      "Epoch:  9\n",
      "0/36.0 loss: 1.2784236669540405 \n",
      "Epoch:  9\n",
      "1/36.0 loss: 1.256507933139801 \n",
      "Epoch:  9\n",
      "2/36.0 loss: 1.099102516969045 \n",
      "Epoch:  9\n",
      "3/36.0 loss: 1.0938246101140976 \n",
      "Epoch:  9\n",
      "4/36.0 loss: 1.0308780550956727 \n",
      "Epoch:  9\n",
      "5/36.0 loss: 1.0327819883823395 \n",
      "Epoch:  9\n",
      "6/36.0 loss: 1.0012884395463126 \n",
      "Epoch:  9\n",
      "7/36.0 loss: 0.9777935966849327 \n",
      "Epoch:  9\n",
      "8/36.0 loss: 0.9549242854118347 \n",
      "Epoch:  9\n",
      "9/36.0 loss: 0.9411919057369232 \n",
      "Epoch:  9\n",
      "10/36.0 loss: 0.9399889003146779 \n",
      "Epoch:  9\n",
      "11/36.0 loss: 0.9301308741172155 \n",
      "Epoch:  9\n",
      "12/36.0 loss: 0.9489837563954867 \n",
      "Epoch:  9\n",
      "13/36.0 loss: 0.9387752882071904 \n",
      "Epoch:  9\n",
      "14/36.0 loss: 0.9252910017967224 \n",
      "Epoch:  9\n",
      "15/36.0 loss: 0.9473500289022923 \n",
      "Epoch:  9\n",
      "16/36.0 loss: 0.942327667685116 \n",
      "Epoch:  9\n",
      "17/36.0 loss: 0.969216333495246 \n",
      "Epoch:  9\n",
      "18/36.0 loss: 0.9662707730343467 \n",
      "Epoch:  9\n",
      "19/36.0 loss: 0.9589273869991303 \n",
      "Epoch:  9\n",
      "20/36.0 loss: 0.9586541397230965 \n",
      "Epoch:  9\n",
      "21/36.0 loss: 0.9703530804677443 \n",
      "Epoch:  9\n",
      "22/36.0 loss: 0.9707707892293516 \n",
      "Epoch:  9\n",
      "23/36.0 loss: 0.9672535409530004 \n",
      "Epoch:  9\n",
      "24/36.0 loss: 0.9758875513076782 \n",
      "Epoch:  9\n",
      "25/36.0 loss: 0.9640422830214868 \n",
      "Epoch:  9\n",
      "26/36.0 loss: 0.9752974112828573 \n",
      "Epoch:  9\n",
      "27/36.0 loss: 0.9848729584898267 \n",
      "Epoch:  9\n",
      "28/36.0 loss: 0.9796417006130876 \n",
      "Epoch:  9\n",
      "29/36.0 loss: 0.9863532106081645 \n",
      "Epoch:  9\n",
      "30/36.0 loss: 0.988681027966161 \n",
      "Epoch:  9\n",
      "31/36.0 loss: 0.9944427944719791 \n",
      "Epoch:  9\n",
      "32/36.0 loss: 0.986900573427027 \n",
      "Epoch:  9\n",
      "33/36.0 loss: 0.9864815035287071 \n",
      "Epoch:  9\n",
      "34/36.0 loss: 0.9829088415418352 \n",
      "Epoch:  9\n",
      "35/36.0 loss: 0.976033392879698 \n",
      "Epoch:  10\n",
      "0/36.0 loss: 1.1796255111694336 \n",
      "Epoch:  10\n",
      "1/36.0 loss: 1.2170595526695251 \n",
      "Epoch:  10\n",
      "2/36.0 loss: 1.0565312306086223 \n",
      "Epoch:  10\n",
      "3/36.0 loss: 1.0378409922122955 \n",
      "Epoch:  10\n",
      "4/36.0 loss: 0.9768593192100525 \n",
      "Epoch:  10\n",
      "5/36.0 loss: 0.9700036545594534 \n",
      "Epoch:  10\n",
      "6/36.0 loss: 0.949321482862745 \n",
      "Epoch:  10\n",
      "7/36.0 loss: 0.9244602993130684 \n",
      "Epoch:  10\n",
      "8/36.0 loss: 0.8995122710863749 \n",
      "Epoch:  10\n",
      "9/36.0 loss: 0.8848424673080444 \n",
      "Epoch:  10\n",
      "10/36.0 loss: 0.8833857178688049 \n",
      "Epoch:  10\n",
      "11/36.0 loss: 0.8799368888139725 \n",
      "Epoch:  10\n",
      "12/36.0 loss: 0.8989284542890695 \n",
      "Epoch:  10\n",
      "13/36.0 loss: 0.8879137592656272 \n",
      "Epoch:  10\n",
      "14/36.0 loss: 0.8741167108217875 \n",
      "Epoch:  10\n",
      "15/36.0 loss: 0.8966489695012569 \n",
      "Epoch:  10\n",
      "16/36.0 loss: 0.8908963238491732 \n",
      "Epoch:  10\n",
      "17/36.0 loss: 0.9168566498491499 \n",
      "Epoch:  10\n",
      "18/36.0 loss: 0.9119567337789034 \n",
      "Epoch:  10\n",
      "19/36.0 loss: 0.9030905425548553 \n",
      "Epoch:  10\n",
      "20/36.0 loss: 0.9011481602986654 \n",
      "Epoch:  10\n",
      "21/36.0 loss: 0.9111169847575101 \n",
      "Epoch:  10\n",
      "22/36.0 loss: 0.9092474139255026 \n",
      "Epoch:  10\n",
      "23/36.0 loss: 0.9084542195002238 \n",
      "Epoch:  10\n",
      "24/36.0 loss: 0.9246570205688477 \n",
      "Epoch:  10\n",
      "25/36.0 loss: 0.9098405654613788 \n",
      "Epoch:  10\n",
      "26/36.0 loss: 0.9289082244590476 \n",
      "Epoch:  10\n",
      "27/36.0 loss: 0.9397705154759544 \n",
      "Epoch:  10\n",
      "28/36.0 loss: 0.933403730392456 \n",
      "Epoch:  10\n",
      "29/36.0 loss: 0.9453367511431376 \n",
      "Epoch:  10\n",
      "30/36.0 loss: 0.9489388350517519 \n",
      "Epoch:  10\n",
      "31/36.0 loss: 0.9561643600463867 \n",
      "Epoch:  10\n",
      "32/36.0 loss: 0.948219895362854 \n",
      "Epoch:  10\n",
      "33/36.0 loss: 0.9479378041099099 \n",
      "Epoch:  10\n",
      "34/36.0 loss: 0.9441144023622785 \n",
      "Epoch:  10\n",
      "35/36.0 loss: 0.9364226311445236 \n",
      "Epoch:  11\n",
      "0/36.0 loss: 1.1790072917938232 \n",
      "Epoch:  11\n",
      "1/36.0 loss: 1.2290235757827759 \n",
      "Epoch:  11\n",
      "2/36.0 loss: 1.0507216652234395 \n",
      "Epoch:  11\n",
      "3/36.0 loss: 1.016962081193924 \n",
      "Epoch:  11\n",
      "4/36.0 loss: 0.9522233009338379 \n",
      "Epoch:  11\n",
      "5/36.0 loss: 0.9351874987284342 \n",
      "Epoch:  11\n",
      "6/36.0 loss: 0.9184953059468951 \n",
      "Epoch:  11\n",
      "7/36.0 loss: 0.8947266712784767 \n",
      "Epoch:  11\n",
      "8/36.0 loss: 0.8631507754325867 \n",
      "Epoch:  11\n",
      "9/36.0 loss: 0.8443576514720916 \n",
      "Epoch:  11\n",
      "10/36.0 loss: 0.8386031931096857 \n",
      "Epoch:  11\n",
      "11/36.0 loss: 0.8435544967651367 \n",
      "Epoch:  11\n",
      "12/36.0 loss: 0.8602993855109582 \n",
      "Epoch:  11\n",
      "13/36.0 loss: 0.8463343254157475 \n",
      "Epoch:  11\n",
      "14/36.0 loss: 0.8303783456484477 \n",
      "Epoch:  11\n",
      "15/36.0 loss: 0.8544235192239285 \n",
      "Epoch:  11\n",
      "16/36.0 loss: 0.8478886450038237 \n",
      "Epoch:  11\n",
      "17/36.0 loss: 0.875377529197269 \n",
      "Epoch:  11\n",
      "18/36.0 loss: 0.8698276720548931 \n",
      "Epoch:  11\n",
      "19/36.0 loss: 0.85918188393116 \n",
      "Epoch:  11\n",
      "20/36.0 loss: 0.8568269638788133 \n",
      "Epoch:  11\n",
      "21/36.0 loss: 0.8668102025985718 \n",
      "Epoch:  11\n",
      "22/36.0 loss: 0.8648225380026776 \n",
      "Epoch:  11\n",
      "23/36.0 loss: 0.8645305261015892 \n",
      "Epoch:  11\n",
      "24/36.0 loss: 0.8835705018043518 \n",
      "Epoch:  11\n",
      "25/36.0 loss: 0.8685267281073791 \n",
      "Epoch:  11\n",
      "26/36.0 loss: 0.8913632090444918 \n",
      "Epoch:  11\n",
      "27/36.0 loss: 0.9029199853539467 \n",
      "Epoch:  11\n",
      "28/36.0 loss: 0.896210299483661 \n",
      "Epoch:  11\n",
      "29/36.0 loss: 0.9099831809600194 \n",
      "Epoch:  11\n",
      "30/36.0 loss: 0.9136082231998444 \n",
      "Epoch:  11\n",
      "31/36.0 loss: 0.921180653385818 \n",
      "Epoch:  11\n",
      "32/36.0 loss: 0.9126526343099999 \n",
      "Epoch:  11\n",
      "33/36.0 loss: 0.9125986388501 \n",
      "Epoch:  11\n",
      "34/36.0 loss: 0.9082330916609083 \n",
      "Epoch:  11\n",
      "35/36.0 loss: 0.9000474289059639 \n",
      "Epoch:  12\n",
      "0/36.0 loss: 1.1532292366027832 \n",
      "Epoch:  12\n",
      "1/36.0 loss: 1.2136173248291016 \n",
      "Epoch:  12\n",
      "2/36.0 loss: 1.028106431166331 \n",
      "Epoch:  12\n",
      "3/36.0 loss: 0.9839750379323959 \n",
      "Epoch:  12\n",
      "4/36.0 loss: 0.9182632207870484 \n",
      "Epoch:  12\n",
      "5/36.0 loss: 0.8925196429093679 \n",
      "Epoch:  12\n",
      "6/36.0 loss: 0.8799839871270316 \n",
      "Epoch:  12\n",
      "7/36.0 loss: 0.8574298322200775 \n",
      "Epoch:  12\n",
      "8/36.0 loss: 0.8215238915549384 \n",
      "Epoch:  12\n",
      "9/36.0 loss: 0.800440114736557 \n",
      "Epoch:  12\n",
      "10/36.0 loss: 0.7915100888772444 \n",
      "Epoch:  12\n",
      "11/36.0 loss: 0.8005971858898798 \n",
      "Epoch:  12\n",
      "12/36.0 loss: 0.8164081160838788 \n",
      "Epoch:  12\n",
      "13/36.0 loss: 0.8000696216310773 \n",
      "Epoch:  12\n",
      "14/36.0 loss: 0.7824883063634237 \n",
      "Epoch:  12\n",
      "15/36.0 loss: 0.8072203397750854 \n",
      "Epoch:  12\n",
      "16/36.0 loss: 0.7999077228938832 \n",
      "Epoch:  12\n",
      "17/36.0 loss: 0.8280971414513059 \n",
      "Epoch:  12\n",
      "18/36.0 loss: 0.8224500009888097 \n",
      "Epoch:  12\n",
      "19/36.0 loss: 0.8111564338207244 \n",
      "Epoch:  12\n",
      "20/36.0 loss: 0.8086640721275693 \n",
      "Epoch:  12\n",
      "21/36.0 loss: 0.8184330571781505 \n",
      "Epoch:  12\n",
      "22/36.0 loss: 0.8162921978079755 \n",
      "Epoch:  12\n",
      "23/36.0 loss: 0.8170550813277563 \n",
      "Epoch:  12\n",
      "24/36.0 loss: 0.8401227521896363 \n",
      "Epoch:  12\n",
      "25/36.0 loss: 0.8247963075454419 \n",
      "Epoch:  12\n",
      "26/36.0 loss: 0.8519972408259356 \n",
      "Epoch:  12\n",
      "27/36.0 loss: 0.8639394364186695 \n",
      "Epoch:  12\n",
      "28/36.0 loss: 0.8573407777424517 \n",
      "Epoch:  12\n",
      "29/36.0 loss: 0.8737581431865692 \n",
      "Epoch:  12\n",
      "30/36.0 loss: 0.8771955601630672 \n",
      "Epoch:  12\n",
      "31/36.0 loss: 0.8845853749662638 \n",
      "Epoch:  12\n",
      "32/36.0 loss: 0.8756271149172927 \n",
      "Epoch:  12\n",
      "33/36.0 loss: 0.8757063202998218 \n",
      "Epoch:  12\n",
      "34/36.0 loss: 0.8707022871289934 \n",
      "Epoch:  12\n",
      "35/36.0 loss: 0.8622157639927335 \n",
      "Epoch:  13\n",
      "0/36.0 loss: 1.1003414392471313 \n",
      "Epoch:  13\n",
      "1/36.0 loss: 1.1745640635490417 \n",
      "Epoch:  13\n",
      "2/36.0 loss: 0.9892061551411947 \n",
      "Epoch:  13\n",
      "3/36.0 loss: 0.9386364817619324 \n",
      "Epoch:  13\n",
      "4/36.0 loss: 0.8730070114135742 \n",
      "Epoch:  13\n",
      "5/36.0 loss: 0.8387810389200846 \n"
     ]
    },
    {
     "name": "stdout",
     "output_type": "stream",
     "text": [
      "Epoch:  13\n",
      "6/36.0 loss: 0.8293542180742536 \n",
      "Epoch:  13\n",
      "7/36.0 loss: 0.8069928884506226 \n",
      "Epoch:  13\n",
      "8/36.0 loss: 0.7689725160598755 \n",
      "Epoch:  13\n",
      "9/36.0 loss: 0.7469903528690338 \n",
      "Epoch:  13\n",
      "10/36.0 loss: 0.7359620061787692 \n",
      "Epoch:  13\n",
      "11/36.0 loss: 0.7465358376502991 \n",
      "Epoch:  13\n",
      "12/36.0 loss: 0.7620229583520156 \n",
      "Epoch:  13\n",
      "13/36.0 loss: 0.7445019355842045 \n",
      "Epoch:  13\n",
      "14/36.0 loss: 0.7262901385625203 \n",
      "Epoch:  13\n",
      "15/36.0 loss: 0.7511710599064827 \n",
      "Epoch:  13\n",
      "16/36.0 loss: 0.7437068153830135 \n",
      "Epoch:  13\n",
      "17/36.0 loss: 0.7727319134606255 \n",
      "Epoch:  13\n",
      "18/36.0 loss: 0.7680965348293907 \n",
      "Epoch:  13\n",
      "19/36.0 loss: 0.7567884296178817 \n",
      "Epoch:  13\n",
      "20/36.0 loss: 0.7548455113456363 \n",
      "Epoch:  13\n",
      "21/36.0 loss: 0.765101053498008 \n",
      "Epoch:  13\n",
      "22/36.0 loss: 0.763705092927684 \n",
      "Epoch:  13\n",
      "23/36.0 loss: 0.7649109835426012 \n",
      "Epoch:  13\n",
      "24/36.0 loss: 0.7904721140861511 \n",
      "Epoch:  13\n",
      "25/36.0 loss: 0.7757754016381043 \n",
      "Epoch:  13\n",
      "26/36.0 loss: 0.807366919738275 \n",
      "Epoch:  13\n",
      "27/36.0 loss: 0.8200145119002887 \n",
      "Epoch:  13\n",
      "28/36.0 loss: 0.8135931296595211 \n",
      "Epoch:  13\n",
      "29/36.0 loss: 0.8325352877378464 \n",
      "Epoch:  13\n",
      "30/36.0 loss: 0.836032364637621 \n",
      "Epoch:  13\n",
      "31/36.0 loss: 0.8433887595310807 \n",
      "Epoch:  13\n",
      "32/36.0 loss: 0.834414828004259 \n",
      "Epoch:  13\n",
      "33/36.0 loss: 0.8346649802782956 \n",
      "Epoch:  13\n",
      "34/36.0 loss: 0.8291156828403473 \n",
      "Epoch:  13\n",
      "35/36.0 loss: 0.8205665573477745 \n",
      "Epoch:  14\n",
      "0/36.0 loss: 1.0487403869628906 \n",
      "Epoch:  14\n",
      "1/36.0 loss: 1.1359414458274841 \n",
      "Epoch:  14\n",
      "2/36.0 loss: 0.9536470969518026 \n",
      "Epoch:  14\n",
      "3/36.0 loss: 0.8920864313840866 \n",
      "Epoch:  14\n",
      "4/36.0 loss: 0.829186737537384 \n",
      "Epoch:  14\n",
      "5/36.0 loss: 0.7868190904458364 \n",
      "Epoch:  14\n",
      "6/36.0 loss: 0.7855932286807469 \n",
      "Epoch:  14\n",
      "7/36.0 loss: 0.7648224458098412 \n",
      "Epoch:  14\n",
      "8/36.0 loss: 0.7250544495052762 \n",
      "Epoch:  14\n",
      "9/36.0 loss: 0.7018193989992142 \n",
      "Epoch:  14\n",
      "10/36.0 loss: 0.6884922737425024 \n",
      "Epoch:  14\n",
      "11/36.0 loss: 0.7014455373088518 \n",
      "Epoch:  14\n",
      "12/36.0 loss: 0.7153715055722457 \n",
      "Epoch:  14\n",
      "13/36.0 loss: 0.6967493976865496 \n",
      "Epoch:  14\n",
      "14/36.0 loss: 0.6780164579550425 \n",
      "Epoch:  14\n",
      "15/36.0 loss: 0.7021127063781023 \n",
      "Epoch:  14\n",
      "16/36.0 loss: 0.6940227273632499 \n",
      "Epoch:  14\n",
      "17/36.0 loss: 0.7217298365301557 \n",
      "Epoch:  14\n",
      "18/36.0 loss: 0.7176515789408433 \n",
      "Epoch:  14\n",
      "19/36.0 loss: 0.7064555570483207 \n",
      "Epoch:  14\n",
      "20/36.0 loss: 0.704774043389729 \n",
      "Epoch:  14\n",
      "21/36.0 loss: 0.7148216569965536 \n",
      "Epoch:  14\n",
      "22/36.0 loss: 0.7141985647056414 \n",
      "Epoch:  14\n",
      "23/36.0 loss: 0.7151845283806324 \n",
      "Epoch:  14\n",
      "24/36.0 loss: 0.7407861316204071 \n",
      "Epoch:  14\n",
      "25/36.0 loss: 0.7278930281217282 \n",
      "Epoch:  14\n",
      "26/36.0 loss: 0.7601755426989661 \n",
      "Epoch:  14\n",
      "27/36.0 loss: 0.772595998431955 \n",
      "Epoch:  14\n",
      "28/36.0 loss: 0.7669644777117104 \n",
      "Epoch:  14\n",
      "29/36.0 loss: 0.7851076891024907 \n",
      "Epoch:  14\n",
      "30/36.0 loss: 0.7880287141569199 \n",
      "Epoch:  14\n",
      "31/36.0 loss: 0.7940794927999377 \n",
      "Epoch:  14\n",
      "32/36.0 loss: 0.7855986401890264 \n",
      "Epoch:  14\n",
      "33/36.0 loss: 0.7861781900419909 \n",
      "Epoch:  14\n",
      "34/36.0 loss: 0.780002669777189 \n",
      "Epoch:  14\n",
      "35/36.0 loss: 0.7717748218112521 \n",
      "Epoch:  15\n",
      "0/36.0 loss: 1.0086342096328735 \n",
      "Epoch:  15\n",
      "1/36.0 loss: 1.0767467617988586 \n",
      "Epoch:  15\n",
      "2/36.0 loss: 0.8960605462392172 \n",
      "Epoch:  15\n",
      "3/36.0 loss: 0.8365624397993088 \n",
      "Epoch:  15\n",
      "4/36.0 loss: 0.7734121322631836 \n",
      "Epoch:  15\n",
      "5/36.0 loss: 0.7266551355520884 \n",
      "Epoch:  15\n",
      "6/36.0 loss: 0.7213175807680402 \n",
      "Epoch:  15\n",
      "7/36.0 loss: 0.6989018842577934 \n",
      "Epoch:  15\n",
      "8/36.0 loss: 0.6600980692439609 \n",
      "Epoch:  15\n",
      "9/36.0 loss: 0.6368264406919479 \n",
      "Epoch:  15\n",
      "10/36.0 loss: 0.6249772228977897 \n",
      "Epoch:  15\n",
      "11/36.0 loss: 0.6369815692305565 \n",
      "Epoch:  15\n",
      "12/36.0 loss: 0.6524146176301516 \n",
      "Epoch:  15\n",
      "13/36.0 loss: 0.6337915595088687 \n",
      "Epoch:  15\n",
      "14/36.0 loss: 0.6155257920424143 \n",
      "Epoch:  15\n",
      "15/36.0 loss: 0.6403132509440184 \n",
      "Epoch:  15\n",
      "16/36.0 loss: 0.632950963342891 \n",
      "Epoch:  15\n",
      "17/36.0 loss: 0.663037993841701 \n",
      "Epoch:  15\n",
      "18/36.0 loss: 0.6603267334009472 \n",
      "Epoch:  15\n",
      "19/36.0 loss: 0.6500262424349785 \n",
      "Epoch:  15\n",
      "20/36.0 loss: 0.6490302100068047 \n",
      "Epoch:  15\n",
      "21/36.0 loss: 0.660226200114597 \n",
      "Epoch:  15\n",
      "22/36.0 loss: 0.6608046513536702 \n",
      "Epoch:  15\n",
      "23/36.0 loss: 0.6617555804550648 \n",
      "Epoch:  15\n",
      "24/36.0 loss: 0.6879403007030487 \n",
      "Epoch:  15\n",
      "25/36.0 loss: 0.6760213008293738 \n",
      "Epoch:  15\n",
      "26/36.0 loss: 0.7101611737851743 \n",
      "Epoch:  15\n",
      "27/36.0 loss: 0.7238840120179313 \n",
      "Epoch:  15\n",
      "28/36.0 loss: 0.7189127700082187 \n",
      "Epoch:  15\n",
      "29/36.0 loss: 0.7374107758204143 \n",
      "Epoch:  15\n",
      "30/36.0 loss: 0.7409503959840343 \n",
      "Epoch:  15\n",
      "31/36.0 loss: 0.746829042211175 \n",
      "Epoch:  15\n",
      "32/36.0 loss: 0.7386473661119287 \n",
      "Epoch:  15\n",
      "33/36.0 loss: 0.7397657589000814 \n",
      "Epoch:  15\n",
      "34/36.0 loss: 0.7326968090874808 \n",
      "Epoch:  15\n",
      "35/36.0 loss: 0.7247550595137808 \n",
      "Epoch:  16\n",
      "0/36.0 loss: 0.9347830414772034 \n",
      "Epoch:  16\n",
      "1/36.0 loss: 1.0281560719013214 \n",
      "Epoch:  16\n",
      "2/36.0 loss: 0.85594509045283 \n",
      "Epoch:  16\n",
      "3/36.0 loss: 0.7882733345031738 \n",
      "Epoch:  16\n",
      "4/36.0 loss: 0.7280573606491089 \n",
      "Epoch:  16\n",
      "5/36.0 loss: 0.6794522752364477 \n",
      "Epoch:  16\n",
      "6/36.0 loss: 0.6832198202610016 \n",
      "Epoch:  16\n",
      "7/36.0 loss: 0.6622311808168888 \n",
      "Epoch:  16\n",
      "8/36.0 loss: 0.623577763636907 \n",
      "Epoch:  16\n",
      "9/36.0 loss: 0.5998277217149734 \n",
      "Epoch:  16\n",
      "10/36.0 loss: 0.5869573761116375 \n",
      "Epoch:  16\n",
      "11/36.0 loss: 0.602973518272241 \n",
      "Epoch:  16\n",
      "12/36.0 loss: 0.6162781554919022 \n",
      "Epoch:  16\n",
      "13/36.0 loss: 0.5973422548600605 \n",
      "Epoch:  16\n",
      "14/36.0 loss: 0.5792187770207723 \n",
      "Epoch:  16\n",
      "15/36.0 loss: 0.6022487357258797 \n",
      "Epoch:  16\n",
      "16/36.0 loss: 0.5942966499749351 \n",
      "Epoch:  16\n",
      "17/36.0 loss: 0.6217821223868264 \n",
      "Epoch:  16\n",
      "18/36.0 loss: 0.6198132461623141 \n",
      "Epoch:  16\n",
      "19/36.0 loss: 0.6097486585378646 \n",
      "Epoch:  16\n",
      "20/36.0 loss: 0.6090294491677057 \n",
      "Epoch:  16\n",
      "21/36.0 loss: 0.6191452985460107 \n",
      "Epoch:  16\n",
      "22/36.0 loss: 0.6197408567304197 \n",
      "Epoch:  16\n",
      "23/36.0 loss: 0.6210533355673155 \n",
      "Epoch:  16\n",
      "24/36.0 loss: 0.6489843440055847 \n",
      "Epoch:  16\n",
      "25/36.0 loss: 0.6378839680781732 \n",
      "Epoch:  16\n",
      "26/36.0 loss: 0.67441710057082 \n",
      "Epoch:  16\n",
      "27/36.0 loss: 0.6876642044101443 \n",
      "Epoch:  16\n",
      "28/36.0 loss: 0.6827079571526626 \n",
      "Epoch:  16\n",
      "29/36.0 loss: 0.7019099613030751 \n",
      "Epoch:  16\n",
      "30/36.0 loss: 0.7054959785553717 \n",
      "Epoch:  16\n",
      "31/36.0 loss: 0.7103883717209101 \n",
      "Epoch:  16\n",
      "32/36.0 loss: 0.7020499913981466 \n",
      "Epoch:  16\n",
      "33/36.0 loss: 0.7028200179338455 \n",
      "Epoch:  16\n",
      "34/36.0 loss: 0.6954613855906895 \n",
      "Epoch:  16\n",
      "35/36.0 loss: 0.6875389499796761 \n",
      "Epoch:  17\n",
      "0/36.0 loss: 0.9250963926315308 \n",
      "Epoch:  17\n",
      "1/36.0 loss: 0.9722128510475159 \n",
      "Epoch:  17\n",
      "2/36.0 loss: 0.8014305531978607 \n",
      "Epoch:  17\n",
      "3/36.0 loss: 0.7375392988324165 \n",
      "Epoch:  17\n",
      "4/36.0 loss: 0.6788853287696839 \n",
      "Epoch:  17\n",
      "5/36.0 loss: 0.6313163240750631 \n",
      "Epoch:  17\n",
      "6/36.0 loss: 0.6359958478382656 \n",
      "Epoch:  17\n",
      "7/36.0 loss: 0.6146955564618111 \n",
      "Epoch:  17\n",
      "8/36.0 loss: 0.5773311058680216 \n",
      "Epoch:  17\n",
      "9/36.0 loss: 0.553913339972496 \n",
      "Epoch:  17\n",
      "10/36.0 loss: 0.541391982273622 \n",
      "Epoch:  17\n",
      "11/36.0 loss: 0.5636258150140444 \n",
      "Epoch:  17\n",
      "12/36.0 loss: 0.5747315264665164 \n",
      "Epoch:  17\n",
      "13/36.0 loss: 0.5552995460374015 \n",
      "Epoch:  17\n",
      "14/36.0 loss: 0.5380450248718261 \n",
      "Epoch:  17\n",
      "15/36.0 loss: 0.5595395714044571 \n",
      "Epoch:  17\n",
      "16/36.0 loss: 0.5514258759863236 \n",
      "Epoch:  17\n",
      "17/36.0 loss: 0.5793211642238829 \n",
      "Epoch:  17\n",
      "18/36.0 loss: 0.5787453918080581 \n",
      "Epoch:  17\n",
      "19/36.0 loss: 0.568580923974514 \n",
      "Epoch:  17\n",
      "20/36.0 loss: 0.5683595807779402 \n",
      "Epoch:  17\n",
      "21/36.0 loss: 0.5779799832539125 \n",
      "Epoch:  17\n",
      "22/36.0 loss: 0.5784028703751771 \n",
      "Epoch:  17\n",
      "23/36.0 loss: 0.5805725020666918 \n",
      "Epoch:  17\n",
      "24/36.0 loss: 0.6124331438541413 \n",
      "Epoch:  17\n",
      "25/36.0 loss: 0.6009300935726899 \n",
      "Epoch:  17\n",
      "26/36.0 loss: 0.6430620959511509 \n",
      "Epoch:  17\n",
      "27/36.0 loss: 0.6571878099015781 \n",
      "Epoch:  17\n",
      "28/36.0 loss: 0.6516014594456245 \n",
      "Epoch:  17\n",
      "29/36.0 loss: 0.6735896954933802 \n",
      "Epoch:  17\n",
      "30/36.0 loss: 0.6776539558364499 \n",
      "Epoch:  17\n",
      "31/36.0 loss: 0.6818156084045768 \n",
      "Epoch:  17\n",
      "32/36.0 loss: 0.6729874394156716 \n",
      "Epoch:  17\n",
      "33/36.0 loss: 0.673159823698156 \n",
      "Epoch:  17\n",
      "34/36.0 loss: 0.665232104914529 \n",
      "Epoch:  17\n",
      "35/36.0 loss: 0.657034210032887 \n",
      "Epoch:  18\n",
      "0/36.0 loss: 0.8331658244132996 \n",
      "Epoch:  18\n",
      "1/36.0 loss: 0.8951752185821533 \n",
      "Epoch:  18\n",
      "2/36.0 loss: 0.7404075960318247 \n",
      "Epoch:  18\n",
      "3/36.0 loss: 0.6784263551235199 \n",
      "Epoch:  18\n",
      "4/36.0 loss: 0.6217941880226135 \n",
      "Epoch:  18\n",
      "5/36.0 loss: 0.5767594277858734 \n",
      "Epoch:  18\n",
      "6/36.0 loss: 0.5908252937453133 \n",
      "Epoch:  18\n",
      "7/36.0 loss: 0.5698947086930275 \n",
      "Epoch:  18\n",
      "8/36.0 loss: 0.5351276728841994 \n",
      "Epoch:  18\n",
      "9/36.0 loss: 0.5132954061031342 \n",
      "Epoch:  18\n",
      "10/36.0 loss: 0.5015947981314226 \n",
      "Epoch:  18\n",
      "11/36.0 loss: 0.5250220845143 \n",
      "Epoch:  18\n",
      "12/36.0 loss: 0.5364014414640573 \n",
      "Epoch:  18\n",
      "13/36.0 loss: 0.517996317573956 \n",
      "Epoch:  18\n",
      "14/36.0 loss: 0.5016883194446564 \n",
      "Epoch:  18\n",
      "15/36.0 loss: 0.5218739416450262 \n",
      "Epoch:  18\n",
      "16/36.0 loss: 0.5130900337415583 \n",
      "Epoch:  18\n",
      "17/36.0 loss: 0.5383281624979444 \n",
      "Epoch:  18\n",
      "18/36.0 loss: 0.5389563990266699 \n",
      "Epoch:  18\n",
      "19/36.0 loss: 0.5285033896565438 \n",
      "Epoch:  18\n",
      "20/36.0 loss: 0.5291160387652261 \n",
      "Epoch:  18\n",
      "21/36.0 loss: 0.5378310504284772 \n",
      "Epoch:  18\n",
      "22/36.0 loss: 0.5383152560047482 \n",
      "Epoch:  18\n",
      "23/36.0 loss: 0.5402343533933163 \n",
      "Epoch:  18\n",
      "24/36.0 loss: 0.5712069141864776 \n",
      "Epoch:  18\n",
      "25/36.0 loss: 0.5609047630658517 \n",
      "Epoch:  18\n",
      "26/36.0 loss: 0.6020060987384231 \n",
      "Epoch:  18\n",
      "27/36.0 loss: 0.6156088592750686 \n",
      "Epoch:  18\n",
      "28/36.0 loss: 0.609825647082822 \n",
      "Epoch:  18\n",
      "29/36.0 loss: 0.6305032402276993 \n",
      "Epoch:  18\n",
      "30/36.0 loss: 0.6351613373525681 \n",
      "Epoch:  18\n",
      "31/36.0 loss: 0.6391825275495648 \n",
      "Epoch:  18\n",
      "32/36.0 loss: 0.6304182915976553 \n",
      "Epoch:  18\n",
      "33/36.0 loss: 0.6303172760150012 \n",
      "Epoch:  18\n",
      "34/36.0 loss: 0.6224567004612513 \n",
      "Epoch:  18\n",
      "35/36.0 loss: 0.6142526194453239 \n",
      "Epoch:  19\n",
      "0/36.0 loss: 0.824536919593811 \n",
      "Epoch:  19\n",
      "1/36.0 loss: 0.8533694744110107 \n",
      "Epoch:  19\n",
      "2/36.0 loss: 0.6985960006713867 \n",
      "Epoch:  19\n",
      "3/36.0 loss: 0.6357253566384315 \n",
      "Epoch:  19\n",
      "4/36.0 loss: 0.5780764162540436 \n",
      "Epoch:  19\n",
      "5/36.0 loss: 0.5341575394074122 \n",
      "Epoch:  19\n",
      "6/36.0 loss: 0.5546503109591348 \n",
      "Epoch:  19\n",
      "7/36.0 loss: 0.5330970920622349 \n",
      "Epoch:  19\n",
      "8/36.0 loss: 0.49949441684616935 \n",
      "Epoch:  19\n",
      "9/36.0 loss: 0.4784046471118927 \n",
      "Epoch:  19\n",
      "10/36.0 loss: 0.46648870273069903 \n",
      "Epoch:  19\n",
      "11/36.0 loss: 0.4937315285205841 \n",
      "Epoch:  19\n",
      "12/36.0 loss: 0.5043477874535781 \n",
      "Epoch:  19\n",
      "13/36.0 loss: 0.4862610548734665 \n",
      "Epoch:  19\n",
      "14/36.0 loss: 0.47105928460756935 \n",
      "Epoch:  19\n",
      "15/36.0 loss: 0.4891938138753176 \n",
      "Epoch:  19\n",
      "16/36.0 loss: 0.47942984454772053 \n",
      "Epoch:  19\n",
      "17/36.0 loss: 0.5022350913948483 \n"
     ]
    },
    {
     "name": "stdout",
     "output_type": "stream",
     "text": [
      "Epoch:  19\n",
      "\r",
      "18/36.0 loss: 0.5049485093668887 \n",
      "Epoch:  19\n",
      "\r",
      "19/36.0 loss: 0.4941228464245796 \n",
      "Epoch:  19\n",
      "\r",
      "20/36.0 loss: 0.49614458566620234 \n",
      "Epoch:  19\n",
      "\r",
      "21/36.0 loss: 0.5030900686979294 \n",
      "Epoch:  19\n",
      "\r",
      "22/36.0 loss: 0.5031522292157878 \n",
      "Epoch:  19\n",
      "\r",
      "23/36.0 loss: 0.5054991828898588 \n",
      "Epoch:  19\n",
      "\r",
      "24/36.0 loss: 0.5385178411006928 \n",
      "Epoch:  19\n",
      "\r",
      "25/36.0 loss: 0.5286931475767722 \n",
      "Epoch:  19\n",
      "\r",
      "26/36.0 loss: 0.5730353891849518 \n",
      "Epoch:  19\n",
      "\r",
      "27/36.0 loss: 0.5856386667915753 \n",
      "Epoch:  19\n",
      "\r",
      "28/36.0 loss: 0.5790708095862948 \n",
      "Epoch:  19\n",
      "\r",
      "29/36.0 loss: 0.6019508709510167 \n",
      "Epoch:  19\n",
      "\r",
      "30/36.0 loss: 0.6065135511659807 \n",
      "Epoch:  19\n",
      "\r",
      "31/36.0 loss: 0.6098415786400437 \n",
      "Epoch:  19\n",
      "\r",
      "32/36.0 loss: 0.6006988061196876 \n",
      "Epoch:  19\n",
      "\r",
      "33/36.0 loss: 0.5994484275579453 \n",
      "Epoch:  19\n",
      "\r",
      "34/36.0 loss: 0.5919959000178746 \n",
      "Epoch:  19\n",
      "\r",
      "35/36.0 loss: 0.5834062952134345 \n",
      "Epoch:  20\n",
      "\r",
      "0/36.0 loss: 0.7926843166351318 \n",
      "Epoch:  20\n",
      "\r",
      "1/36.0 loss: 0.7922584414482117 \n",
      "Epoch:  20\n",
      "\r",
      "2/36.0 loss: 0.6467366913954417 \n",
      "Epoch:  20\n",
      "\r",
      "3/36.0 loss: 0.5845895260572433 \n",
      "Epoch:  20\n",
      "\r",
      "4/36.0 loss: 0.5286665678024292 \n",
      "Epoch:  20\n",
      "\r",
      "5/36.0 loss: 0.48567093908786774 \n",
      "Epoch:  20\n",
      "\r",
      "6/36.0 loss: 0.5203057995864323 \n",
      "Epoch:  20\n",
      "\r",
      "7/36.0 loss: 0.4983299598097801 \n",
      "Epoch:  20\n",
      "\r",
      "8/36.0 loss: 0.46747032966878677 \n",
      "Epoch:  20\n",
      "\r",
      "9/36.0 loss: 0.4483091667294502 \n",
      "Epoch:  20\n",
      "\r",
      "10/36.0 loss: 0.43617124584588135 \n",
      "Epoch:  20\n",
      "\r",
      "11/36.0 loss: 0.4675118488570054 \n",
      "Epoch:  20\n",
      "\r",
      "12/36.0 loss: 0.4774066358804703 \n",
      "Epoch:  20\n",
      "\r",
      "13/36.0 loss: 0.46024306437798906 \n",
      "Epoch:  20\n",
      "\r",
      "14/36.0 loss: 0.44604890048503876 \n",
      "Epoch:  20\n",
      "\r",
      "15/36.0 loss: 0.4617190221324563 \n",
      "Epoch:  20\n",
      "\r",
      "16/36.0 loss: 0.4509023419197868 \n",
      "Epoch:  20\n",
      "\r",
      "17/36.0 loss: 0.47093084040615296 \n",
      "Epoch:  20\n",
      "\r",
      "18/36.0 loss: 0.475694203847333 \n",
      "Epoch:  20\n",
      "\r",
      "19/36.0 loss: 0.4643294833600521 \n",
      "Epoch:  20\n",
      "\r",
      "20/36.0 loss: 0.4674548102276666 \n",
      "Epoch:  20\n",
      "\r",
      "21/36.0 loss: 0.47237843478267844 \n",
      "Epoch:  20\n",
      "\r",
      "22/36.0 loss: 0.47150631378526275 \n",
      "Epoch:  20\n",
      "\r",
      "23/36.0 loss: 0.4745600800961256 \n",
      "Epoch:  20\n",
      "\r",
      "24/36.0 loss: 0.5109408313035965 \n",
      "Epoch:  20\n",
      "\r",
      "25/36.0 loss: 0.500571102477037 \n",
      "Epoch:  20\n",
      "\r",
      "26/36.0 loss: 0.550382771425777 \n",
      "Epoch:  20\n",
      "\r",
      "27/36.0 loss: 0.5634626283177308 \n",
      "Epoch:  20\n",
      "\r",
      "28/36.0 loss: 0.5557404515044443 \n",
      "Epoch:  20\n",
      "\r",
      "29/36.0 loss: 0.580561205248038 \n",
      "Epoch:  20\n",
      "\r",
      "30/36.0 loss: 0.5848493888493507 \n",
      "Epoch:  20\n",
      "\r",
      "31/36.0 loss: 0.5868619312532246 \n",
      "Epoch:  20\n",
      "\r",
      "32/36.0 loss: 0.5771872794086282 \n",
      "Epoch:  20\n",
      "\r",
      "33/36.0 loss: 0.5748876258730888 \n",
      "Epoch:  20\n",
      "\r",
      "34/36.0 loss: 0.567508265376091 \n",
      "Epoch:  20\n",
      "\r",
      "35/36.0 loss: 0.5585516062047746 \n"
     ]
    }
   ],
   "source": [
    "cum_loss = train_model2(net, epochs = 20)"
   ]
  },
  {
   "cell_type": "code",
   "execution_count": 104,
   "metadata": {
    "hidden": true
   },
   "outputs": [
    {
     "data": {
      "text/plain": [
       "[46.63822090625763,\n",
       " 43.66939979791641,\n",
       " 41.07068222761154,\n",
       " 39.68642622232437,\n",
       " 38.976588785648346,\n",
       " 38.47554665803909,\n",
       " 38.01677441596985,\n",
       " 37.535325825214386,\n",
       " 36.99564707279205,\n",
       " 36.36943459510803,\n",
       " 35.62875932455063,\n",
       " 34.74488544464111,\n",
       " 33.69030314683914,\n",
       " 32.45323324203491,\n",
       " 31.01966142654419,\n",
       " 29.393729209899902,\n",
       " 27.54505866765976,\n",
       " 25.782746881246567,\n",
       " 24.037420600652695,\n",
       " 22.429779946804047]"
      ]
     },
     "execution_count": 104,
     "metadata": {},
     "output_type": "execute_result"
    }
   ],
   "source": [
    "cum_loss"
   ]
  },
  {
   "cell_type": "code",
   "execution_count": 103,
   "metadata": {
    "hidden": true
   },
   "outputs": [
    {
     "data": {
      "text/plain": [
       "[<matplotlib.lines.Line2D at 0x1a212ea208>]"
      ]
     },
     "execution_count": 103,
     "metadata": {},
     "output_type": "execute_result"
    },
    {
     "data": {
      "image/png": "[encoded data removed]",
      "text/plain": [
       "<Figure size 432x288 with 1 Axes>"
      ]
     },
     "metadata": {},
     "output_type": "display_data"
    }
   ],
   "source": [
    "plt.plot(cum_loss)"
   ]
  },
  {
   "cell_type": "code",
   "execution_count": 518,
   "metadata": {
    "hidden": true
   },
   "outputs": [],
   "source": [
    "#refactoring again to track validation loss\n",
    "\n",
    "def train_model3(model, lr = 1e-3, epochs = 10, loss_func = nn.CrossEntropyLoss(), batch_size = 4):\n",
    "    optimizer = Adam(model.parameters(), lr = lr)\n",
    "    running_train_loss = []\n",
    "    running_valid_loss = []\n",
    "    for epoch_num in range(epochs):\n",
    "        start_time = time.time()\n",
    "        model.train()\n",
    "        train_loss = 0\n",
    "        for step_num, batch_data in enumerate(trainloader):\n",
    "        \n",
    "            cont_var, subj_notes, medhx, cat_var, labels = tuple(t.to(device) for t in batch_data)\n",
    "        \n",
    "            optimizer.zero_grad()\n",
    "        \n",
    "            logits = model(cont_var, subj_notes, medhx, cat_var)\n",
    "        \n",
    "            batch_loss = loss_func(logits, labels)\n",
    "        \n",
    "            train_loss += batch_loss.item()\n",
    "        \n",
    "            batch_loss.backward()\n",
    "        \n",
    "\n",
    "            clip_grad_norm_(parameters=model.parameters(), max_norm=1.0)\n",
    "        \n",
    "            optimizer.step()\n",
    "        \n",
    "        #check against validation set\n",
    "        model.eval()\n",
    "        valid_loss = 0\n",
    "        for batch_data in validloader:\n",
    "            \n",
    "            cont_var, subj_notes, medhx, cat_var, labels = tuple(t.to(device) for t in batch_data)\n",
    "            \n",
    "            logits = model(cont_var, subj_notes, medhx, cat_var)\n",
    "        \n",
    "            batch_loss = loss_func(logits, labels)\n",
    "        \n",
    "            valid_loss += batch_loss.item()\n",
    "            \n",
    "        end_time = time.time()\n",
    "        print('Epoch {}:'.format(epoch_num + 1),' {0:.3f} sec'.format(end_time - start_time))\n",
    "        #print(\"\\r\" + \"{0}/{1} loss: {2} \".format(step_num, len(train_data) / batch_size, train_loss / (step_num + 1)))\n",
    "        print ('Training loss = {0:.4f}'.format(train_loss/len(trainloader)))\n",
    "        print ('Validation loss = {0:.4f}'.format(valid_loss/len(validloader)))\n",
    "        print ()\n",
    "        \n",
    "        running_train_loss.append(train_loss/len(trainloader))\n",
    "        running_valid_loss.append(valid_loss/len(validloader))\n",
    "        \n",
    "\n",
    "    return running_train_loss, running_valid_loss"
   ]
  },
  {
   "cell_type": "code",
   "execution_count": 163,
   "metadata": {
    "hidden": true,
    "scrolled": true
   },
   "outputs": [
    {
     "name": "stdout",
     "output_type": "stream",
     "text": [
      "Epoch 1:  0.107 sec\n",
      "Training loss = 1.3719\n",
      "Validation loss = 1.3315\n",
      "\n",
      "Epoch 2:  0.066 sec\n",
      "Training loss = 1.3510\n",
      "Validation loss = 1.3285\n",
      "\n",
      "Epoch 3:  0.062 sec\n",
      "Training loss = 1.3341\n",
      "Validation loss = 1.3213\n",
      "\n",
      "Epoch 4:  0.083 sec\n",
      "Training loss = 1.3198\n",
      "Validation loss = 1.3147\n",
      "\n",
      "Epoch 5:  0.100 sec\n",
      "Training loss = 1.3061\n",
      "Validation loss = 1.3076\n",
      "\n",
      "Epoch 6:  0.086 sec\n",
      "Training loss = 1.2935\n",
      "Validation loss = 1.3032\n",
      "\n",
      "Epoch 7:  0.077 sec\n",
      "Training loss = 1.2821\n",
      "Validation loss = 1.2994\n",
      "\n",
      "Epoch 8:  0.065 sec\n",
      "Training loss = 1.2709\n",
      "Validation loss = 1.2939\n",
      "\n",
      "Epoch 9:  0.074 sec\n",
      "Training loss = 1.2605\n",
      "Validation loss = 1.2914\n",
      "\n",
      "Epoch 10:  0.065 sec\n",
      "Training loss = 1.2503\n",
      "Validation loss = 1.2873\n",
      "\n",
      "Epoch 11:  0.084 sec\n",
      "Training loss = 1.2408\n",
      "Validation loss = 1.2871\n",
      "\n",
      "Epoch 12:  0.074 sec\n",
      "Training loss = 1.2318\n",
      "Validation loss = 1.2866\n",
      "\n",
      "Epoch 13:  0.096 sec\n",
      "Training loss = 1.2231\n",
      "Validation loss = 1.2836\n",
      "\n",
      "Epoch 14:  0.087 sec\n",
      "Training loss = 1.2145\n",
      "Validation loss = 1.2794\n",
      "\n",
      "Epoch 15:  0.074 sec\n",
      "Training loss = 1.2065\n",
      "Validation loss = 1.2776\n",
      "\n",
      "Epoch 16:  0.070 sec\n",
      "Training loss = 1.1988\n",
      "Validation loss = 1.2759\n",
      "\n",
      "Epoch 17:  0.074 sec\n",
      "Training loss = 1.1911\n",
      "Validation loss = 1.2719\n",
      "\n",
      "Epoch 18:  0.082 sec\n",
      "Training loss = 1.1839\n",
      "Validation loss = 1.2698\n",
      "\n",
      "Epoch 19:  0.148 sec\n",
      "Training loss = 1.1772\n",
      "Validation loss = 1.2682\n",
      "\n",
      "Epoch 20:  0.111 sec\n",
      "Training loss = 1.1702\n",
      "Validation loss = 1.2622\n",
      "\n",
      "Epoch 21:  0.135 sec\n",
      "Training loss = 1.1641\n",
      "Validation loss = 1.2637\n",
      "\n",
      "Epoch 22:  0.137 sec\n",
      "Training loss = 1.1583\n",
      "Validation loss = 1.2615\n",
      "\n",
      "Epoch 23:  0.144 sec\n",
      "Training loss = 1.1519\n",
      "Validation loss = 1.2601\n",
      "\n",
      "Epoch 24:  0.103 sec\n",
      "Training loss = 1.1462\n",
      "Validation loss = 1.2585\n",
      "\n",
      "Epoch 25:  0.114 sec\n",
      "Training loss = 1.1404\n",
      "Validation loss = 1.2546\n",
      "\n"
     ]
    }
   ],
   "source": [
    "net = Net2(emb_szs)\n",
    "tloss, vloss = train_model3(net, lr = 1e-4,epochs = 25)"
   ]
  },
  {
   "cell_type": "code",
   "execution_count": 164,
   "metadata": {
    "hidden": true,
    "scrolled": true
   },
   "outputs": [
    {
     "data": {
      "image/png": "[encoded data removed]",
      "text/plain": [
       "<Figure size 432x288 with 1 Axes>"
      ]
     },
     "metadata": {},
     "output_type": "display_data"
    }
   ],
   "source": [
    "plt.plot(tloss,'b', label = 'train')\n",
    "plt.plot(vloss,'g', label = 'valid')\n",
    "plt.legend()\n",
    "plt.show()"
   ]
  },
  {
   "cell_type": "markdown",
   "metadata": {
    "heading_collapsed": true
   },
   "source": [
    "## next step is to complete the pipeline from pandas dataframe"
   ]
  },
  {
   "cell_type": "markdown",
   "metadata": {
    "hidden": true
   },
   "source": [
    "#### but first I have to make the dataframe I want"
   ]
  },
  {
   "cell_type": "code",
   "execution_count": 165,
   "metadata": {
    "hidden": true
   },
   "outputs": [
    {
     "data": {
      "text/plain": [
       "'/Users/jjaskolkambp/Desktop/machine learning/my_projects/ed-triage'"
      ]
     },
     "execution_count": 165,
     "metadata": {},
     "output_type": "execute_result"
    }
   ],
   "source": [
    "import os\n",
    "os.getcwd()"
   ]
  },
  {
   "cell_type": "code",
   "execution_count": 170,
   "metadata": {
    "hidden": true
   },
   "outputs": [],
   "source": [
    "data_path = '/Users/jjaskolkambp/Desktop/machine learning/my_projects/data/ed triage project/egh'"
   ]
  },
  {
   "cell_type": "code",
   "execution_count": 173,
   "metadata": {
    "hidden": true
   },
   "outputs": [],
   "source": [
    "df1 = pd.read_csv(data_path + '/pmhx_embeds.csv', header = None, index_col = 0)\n",
    "df2 = pd.read_csv(data_path + '/subjnote_embeds.csv', header = None, index_col = 0)\n",
    "balanced_data = pd.read_csv(data_path + '/balanced_4cls_nlp_data.csv', index_col = 0)"
   ]
  },
  {
   "cell_type": "code",
   "execution_count": 176,
   "metadata": {
    "hidden": true
   },
   "outputs": [],
   "source": [
    "del df1.index.name\n",
    "del df2.index.name"
   ]
  },
  {
   "cell_type": "code",
   "execution_count": 180,
   "metadata": {
    "hidden": true
   },
   "outputs": [
    {
     "data": {
      "text/html": [
       "<div>\n",
       "<style scoped>\n",
       "    .dataframe tbody tr th:only-of-type {\n",
       "        vertical-align: middle;\n",
       "    }\n",
       "\n",
       "    .dataframe tbody tr th {\n",
       "        vertical-align: top;\n",
       "    }\n",
       "\n",
       "    .dataframe thead th {\n",
       "        text-align: right;\n",
       "    }\n",
       "</style>\n",
       "<table border=\"1\" class=\"dataframe\">\n",
       "  <thead>\n",
       "    <tr style=\"text-align: right;\">\n",
       "      <th></th>\n",
       "      <th>1</th>\n",
       "    </tr>\n",
       "  </thead>\n",
       "  <tbody>\n",
       "    <tr>\n",
       "      <th>511</th>\n",
       "      <td>[-5.62175699e-02 -1.55288264e-01 -3.55031192e-...</td>\n",
       "    </tr>\n",
       "    <tr>\n",
       "      <th>754</th>\n",
       "      <td>[-2.32482120e-01 -3.98706704e-01  5.75849652e-...</td>\n",
       "    </tr>\n",
       "    <tr>\n",
       "      <th>755</th>\n",
       "      <td>[ 7.09933490e-02 -1.90701023e-01 -3.40518981e-...</td>\n",
       "    </tr>\n",
       "    <tr>\n",
       "      <th>757</th>\n",
       "      <td>[-6.41224608e-02  1.80907622e-02 -2.60267198e-...</td>\n",
       "    </tr>\n",
       "    <tr>\n",
       "      <th>758</th>\n",
       "      <td>[-3.08350593e-01 -8.54802653e-02  3.15538704e-...</td>\n",
       "    </tr>\n",
       "  </tbody>\n",
       "</table>\n",
       "</div>"
      ],
      "text/plain": [
       "                                                     1\n",
       "511  [-5.62175699e-02 -1.55288264e-01 -3.55031192e-...\n",
       "754  [-2.32482120e-01 -3.98706704e-01  5.75849652e-...\n",
       "755  [ 7.09933490e-02 -1.90701023e-01 -3.40518981e-...\n",
       "757  [-6.41224608e-02  1.80907622e-02 -2.60267198e-...\n",
       "758  [-3.08350593e-01 -8.54802653e-02  3.15538704e-..."
      ]
     },
     "execution_count": 180,
     "metadata": {},
     "output_type": "execute_result"
    }
   ],
   "source": [
    "df1.head()"
   ]
  },
  {
   "cell_type": "code",
   "execution_count": 182,
   "metadata": {
    "hidden": true
   },
   "outputs": [],
   "source": [
    "df1.columns = ['pmhx_embeds']\n",
    "\n",
    "df2.columns = ['subjnotes_embeds']"
   ]
  },
  {
   "cell_type": "code",
   "execution_count": 187,
   "metadata": {
    "hidden": true
   },
   "outputs": [],
   "source": [
    "df3 = pd.concat([df1,df2 ], axis = 1)"
   ]
  },
  {
   "cell_type": "code",
   "execution_count": 188,
   "metadata": {
    "hidden": true
   },
   "outputs": [
    {
     "data": {
      "text/html": [
       "<div>\n",
       "<style scoped>\n",
       "    .dataframe tbody tr th:only-of-type {\n",
       "        vertical-align: middle;\n",
       "    }\n",
       "\n",
       "    .dataframe tbody tr th {\n",
       "        vertical-align: top;\n",
       "    }\n",
       "\n",
       "    .dataframe thead th {\n",
       "        text-align: right;\n",
       "    }\n",
       "</style>\n",
       "<table border=\"1\" class=\"dataframe\">\n",
       "  <thead>\n",
       "    <tr style=\"text-align: right;\">\n",
       "      <th></th>\n",
       "      <th>pmhx_embeds</th>\n",
       "      <th>subjnotes_embeds</th>\n",
       "    </tr>\n",
       "  </thead>\n",
       "  <tbody>\n",
       "    <tr>\n",
       "      <th>511</th>\n",
       "      <td>[-5.62175699e-02 -1.55288264e-01 -3.55031192e-...</td>\n",
       "      <td>[-2.55204886e-01  6.01891279e-02  2.71235794e-...</td>\n",
       "    </tr>\n",
       "    <tr>\n",
       "      <th>754</th>\n",
       "      <td>[-2.32482120e-01 -3.98706704e-01  5.75849652e-...</td>\n",
       "      <td>[ 2.34645531e-01 -1.87844783e-01  4.77293253e-...</td>\n",
       "    </tr>\n",
       "    <tr>\n",
       "      <th>755</th>\n",
       "      <td>[ 7.09933490e-02 -1.90701023e-01 -3.40518981e-...</td>\n",
       "      <td>[-2.65869528e-01 -1.80039495e-01  3.75602454e-...</td>\n",
       "    </tr>\n",
       "    <tr>\n",
       "      <th>757</th>\n",
       "      <td>[-6.41224608e-02  1.80907622e-02 -2.60267198e-...</td>\n",
       "      <td>[-2.00648651e-01 -2.00332478e-01  3.26978832e-...</td>\n",
       "    </tr>\n",
       "    <tr>\n",
       "      <th>758</th>\n",
       "      <td>[-3.08350593e-01 -8.54802653e-02  3.15538704e-...</td>\n",
       "      <td>[-9.09422189e-02 -1.58347234e-01  4.89432931e-...</td>\n",
       "    </tr>\n",
       "  </tbody>\n",
       "</table>\n",
       "</div>"
      ],
      "text/plain": [
       "                                           pmhx_embeds  \\\n",
       "511  [-5.62175699e-02 -1.55288264e-01 -3.55031192e-...   \n",
       "754  [-2.32482120e-01 -3.98706704e-01  5.75849652e-...   \n",
       "755  [ 7.09933490e-02 -1.90701023e-01 -3.40518981e-...   \n",
       "757  [-6.41224608e-02  1.80907622e-02 -2.60267198e-...   \n",
       "758  [-3.08350593e-01 -8.54802653e-02  3.15538704e-...   \n",
       "\n",
       "                                      subjnotes_embeds  \n",
       "511  [-2.55204886e-01  6.01891279e-02  2.71235794e-...  \n",
       "754  [ 2.34645531e-01 -1.87844783e-01  4.77293253e-...  \n",
       "755  [-2.65869528e-01 -1.80039495e-01  3.75602454e-...  \n",
       "757  [-2.00648651e-01 -2.00332478e-01  3.26978832e-...  \n",
       "758  [-9.09422189e-02 -1.58347234e-01  4.89432931e-...  "
      ]
     },
     "execution_count": 188,
     "metadata": {},
     "output_type": "execute_result"
    }
   ],
   "source": [
    "df3.head()"
   ]
  },
  {
   "cell_type": "code",
   "execution_count": 191,
   "metadata": {
    "hidden": true
   },
   "outputs": [],
   "source": [
    "overlap = [x for x in  df3.index if x in balanced_data.index]"
   ]
  },
  {
   "cell_type": "code",
   "execution_count": 192,
   "metadata": {
    "hidden": true
   },
   "outputs": [
    {
     "data": {
      "text/plain": [
       "400"
      ]
     },
     "execution_count": 192,
     "metadata": {},
     "output_type": "execute_result"
    }
   ],
   "source": [
    "len(overlap)"
   ]
  },
  {
   "cell_type": "code",
   "execution_count": 193,
   "metadata": {
    "hidden": true
   },
   "outputs": [
    {
     "data": {
      "text/plain": [
       "True"
      ]
     },
     "execution_count": 193,
     "metadata": {},
     "output_type": "execute_result"
    }
   ],
   "source": [
    "sorted(overlap) == sorted(list(balanced_data.index))"
   ]
  },
  {
   "cell_type": "code",
   "execution_count": 194,
   "metadata": {
    "hidden": true
   },
   "outputs": [],
   "source": [
    "ltd_data = df3.loc[overlap]"
   ]
  },
  {
   "cell_type": "code",
   "execution_count": 195,
   "metadata": {
    "hidden": true
   },
   "outputs": [
    {
     "data": {
      "text/plain": [
       "400"
      ]
     },
     "execution_count": 195,
     "metadata": {},
     "output_type": "execute_result"
    }
   ],
   "source": [
    "len(ltd_data)"
   ]
  },
  {
   "cell_type": "code",
   "execution_count": 196,
   "metadata": {
    "hidden": true
   },
   "outputs": [],
   "source": [
    "balanced = pd.concat([balanced_data, ltd_data], axis = 1)\n",
    "\n",
    "#tweaking so there's a change to put on github"
   ]
  },
  {
   "cell_type": "code",
   "execution_count": 197,
   "metadata": {
    "hidden": true
   },
   "outputs": [
    {
     "data": {
      "text/html": [
       "<div>\n",
       "<style scoped>\n",
       "    .dataframe tbody tr th:only-of-type {\n",
       "        vertical-align: middle;\n",
       "    }\n",
       "\n",
       "    .dataframe tbody tr th {\n",
       "        vertical-align: top;\n",
       "    }\n",
       "\n",
       "    .dataframe thead th {\n",
       "        text-align: right;\n",
       "    }\n",
       "</style>\n",
       "<table border=\"1\" class=\"dataframe\">\n",
       "  <thead>\n",
       "    <tr style=\"text-align: right;\">\n",
       "      <th></th>\n",
       "      <th>ID</th>\n",
       "      <th>ChartNumber</th>\n",
       "      <th>EncounterNumber</th>\n",
       "      <th>TriageLevel</th>\n",
       "      <th>AgeNumber</th>\n",
       "      <th>AgeInYrs</th>\n",
       "      <th>GenderDesc</th>\n",
       "      <th>Triage Date &amp; Time</th>\n",
       "      <th>Reg Date &amp; Time</th>\n",
       "      <th>PIA Date &amp; Time</th>\n",
       "      <th>...</th>\n",
       "      <th>target2</th>\n",
       "      <th>discharge</th>\n",
       "      <th>target3</th>\n",
       "      <th>dispo</th>\n",
       "      <th>target4</th>\n",
       "      <th>ICUvsother</th>\n",
       "      <th>target5</th>\n",
       "      <th>pmhx</th>\n",
       "      <th>pmhx_embeds</th>\n",
       "      <th>subjnotes_embeds</th>\n",
       "    </tr>\n",
       "  </thead>\n",
       "  <tbody>\n",
       "    <tr>\n",
       "      <th>1184</th>\n",
       "      <td>1185</td>\n",
       "      <td>E8443276</td>\n",
       "      <td>EE001185/18</td>\n",
       "      <td>2.0</td>\n",
       "      <td>73</td>\n",
       "      <td>73.0</td>\n",
       "      <td>Male</td>\n",
       "      <td>2018-04-06 10:16:00</td>\n",
       "      <td>2018-04-06 10:20:00</td>\n",
       "      <td>2018-04-06 10:17:00</td>\n",
       "      <td>...</td>\n",
       "      <td>3</td>\n",
       "      <td>admit</td>\n",
       "      <td>0</td>\n",
       "      <td>sadmit</td>\n",
       "      <td>2.0</td>\n",
       "      <td>NaN</td>\n",
       "      <td>0</td>\n",
       "      <td>bowel obstruction d/t bowel adhesions, htn, afib</td>\n",
       "      <td>[-1.18588388e-01 -3.62613685e-02  1.71774179e-...</td>\n",
       "      <td>[-2.39613533e-01  4.64705452e-02  4.14689839e-...</td>\n",
       "    </tr>\n",
       "    <tr>\n",
       "      <th>1620</th>\n",
       "      <td>1621</td>\n",
       "      <td>E3111507</td>\n",
       "      <td>EE001622/18</td>\n",
       "      <td>5.0</td>\n",
       "      <td>82</td>\n",
       "      <td>82.0</td>\n",
       "      <td>Female</td>\n",
       "      <td>2018-04-08 11:17:00</td>\n",
       "      <td>2018-04-08 11:21:00</td>\n",
       "      <td>2018-04-08 11:28:00</td>\n",
       "      <td>...</td>\n",
       "      <td>3</td>\n",
       "      <td>admit</td>\n",
       "      <td>0</td>\n",
       "      <td>sadmit</td>\n",
       "      <td>2.0</td>\n",
       "      <td>NaN</td>\n",
       "      <td>0</td>\n",
       "      <td>diverticulitis, high bp, high cholesterol, thy...</td>\n",
       "      <td>[-1.94503769e-01 -8.38923976e-02  5.67541644e-...</td>\n",
       "      <td>[-1.24572255e-01 -2.15024259e-02  4.72823471e-...</td>\n",
       "    </tr>\n",
       "    <tr>\n",
       "      <th>1713</th>\n",
       "      <td>1714</td>\n",
       "      <td>E8216415</td>\n",
       "      <td>EE001716/18</td>\n",
       "      <td>2.0</td>\n",
       "      <td>49</td>\n",
       "      <td>49.0</td>\n",
       "      <td>Male</td>\n",
       "      <td>2018-04-08 18:47:00</td>\n",
       "      <td>2018-04-08 18:50:00</td>\n",
       "      <td>2018-04-08 18:50:00</td>\n",
       "      <td>...</td>\n",
       "      <td>2</td>\n",
       "      <td>admit</td>\n",
       "      <td>0</td>\n",
       "      <td>madmit</td>\n",
       "      <td>1.0</td>\n",
       "      <td>NaN</td>\n",
       "      <td>0</td>\n",
       "      <td>liver and kidney failure</td>\n",
       "      <td>[-6.44557178e-02  2.12498493e-02 -4.99889851e-...</td>\n",
       "      <td>[-6.32119700e-02 -1.49392709e-01  4.46838409e-...</td>\n",
       "    </tr>\n",
       "    <tr>\n",
       "      <th>1836</th>\n",
       "      <td>1837</td>\n",
       "      <td>E8152804</td>\n",
       "      <td>EE001838/18</td>\n",
       "      <td>2.0</td>\n",
       "      <td>57</td>\n",
       "      <td>57.0</td>\n",
       "      <td>Male</td>\n",
       "      <td>2018-04-09 10:59:00</td>\n",
       "      <td>2018-04-09 11:02:00</td>\n",
       "      <td>2018-04-09 11:10:00</td>\n",
       "      <td>...</td>\n",
       "      <td>3</td>\n",
       "      <td>admit</td>\n",
       "      <td>0</td>\n",
       "      <td>sadmit</td>\n",
       "      <td>2.0</td>\n",
       "      <td>NaN</td>\n",
       "      <td>0</td>\n",
       "      <td>htn, diabetic, thyroid, rt total nephrectomy, ...</td>\n",
       "      <td>[-1.45752514e-02 -3.72009605e-01  2.15191156e-...</td>\n",
       "      <td>[-1.14206485e-01 -3.34909745e-02  3.48307520e-...</td>\n",
       "    </tr>\n",
       "    <tr>\n",
       "      <th>1837</th>\n",
       "      <td>1838</td>\n",
       "      <td>E8181432</td>\n",
       "      <td>EE001839/18</td>\n",
       "      <td>2.0</td>\n",
       "      <td>75</td>\n",
       "      <td>75.0</td>\n",
       "      <td>Male</td>\n",
       "      <td>2018-04-09 11:11:00</td>\n",
       "      <td>2018-04-09 11:15:00</td>\n",
       "      <td>2018-04-09 11:16:00</td>\n",
       "      <td>...</td>\n",
       "      <td>3</td>\n",
       "      <td>admit</td>\n",
       "      <td>0</td>\n",
       "      <td>sadmit</td>\n",
       "      <td>2.0</td>\n",
       "      <td>NaN</td>\n",
       "      <td>0</td>\n",
       "      <td>no significant medical history</td>\n",
       "      <td>[-6.41224608e-02  1.80907622e-02 -2.60267198e-...</td>\n",
       "      <td>[-1.96476385e-01 -1.18435726e-01  5.01800537e-...</td>\n",
       "    </tr>\n",
       "  </tbody>\n",
       "</table>\n",
       "<p>5 rows × 48 columns</p>\n",
       "</div>"
      ],
      "text/plain": [
       "        ID ChartNumber EncounterNumber  TriageLevel  AgeNumber  AgeInYrs  \\\n",
       "1184  1185    E8443276     EE001185/18          2.0         73      73.0   \n",
       "1620  1621    E3111507     EE001622/18          5.0         82      82.0   \n",
       "1713  1714    E8216415     EE001716/18          2.0         49      49.0   \n",
       "1836  1837    E8152804     EE001838/18          2.0         57      57.0   \n",
       "1837  1838    E8181432     EE001839/18          2.0         75      75.0   \n",
       "\n",
       "     GenderDesc   Triage Date & Time      Reg Date & Time  \\\n",
       "1184       Male  2018-04-06 10:16:00  2018-04-06 10:20:00   \n",
       "1620     Female  2018-04-08 11:17:00  2018-04-08 11:21:00   \n",
       "1713       Male  2018-04-08 18:47:00  2018-04-08 18:50:00   \n",
       "1836       Male  2018-04-09 10:59:00  2018-04-09 11:02:00   \n",
       "1837       Male  2018-04-09 11:11:00  2018-04-09 11:15:00   \n",
       "\n",
       "          PIA Date & Time                        ...                          \\\n",
       "1184  2018-04-06 10:17:00                        ...                           \n",
       "1620  2018-04-08 11:28:00                        ...                           \n",
       "1713  2018-04-08 18:50:00                        ...                           \n",
       "1836  2018-04-09 11:10:00                        ...                           \n",
       "1837  2018-04-09 11:16:00                        ...                           \n",
       "\n",
       "     target2  discharge target3   dispo  target4 ICUvsother target5  \\\n",
       "1184       3      admit       0  sadmit      2.0        NaN       0   \n",
       "1620       3      admit       0  sadmit      2.0        NaN       0   \n",
       "1713       2      admit       0  madmit      1.0        NaN       0   \n",
       "1836       3      admit       0  sadmit      2.0        NaN       0   \n",
       "1837       3      admit       0  sadmit      2.0        NaN       0   \n",
       "\n",
       "                                                   pmhx  \\\n",
       "1184   bowel obstruction d/t bowel adhesions, htn, afib   \n",
       "1620  diverticulitis, high bp, high cholesterol, thy...   \n",
       "1713                           liver and kidney failure   \n",
       "1836  htn, diabetic, thyroid, rt total nephrectomy, ...   \n",
       "1837                     no significant medical history   \n",
       "\n",
       "                                            pmhx_embeds  \\\n",
       "1184  [-1.18588388e-01 -3.62613685e-02  1.71774179e-...   \n",
       "1620  [-1.94503769e-01 -8.38923976e-02  5.67541644e-...   \n",
       "1713  [-6.44557178e-02  2.12498493e-02 -4.99889851e-...   \n",
       "1836  [-1.45752514e-02 -3.72009605e-01  2.15191156e-...   \n",
       "1837  [-6.41224608e-02  1.80907622e-02 -2.60267198e-...   \n",
       "\n",
       "                                       subjnotes_embeds  \n",
       "1184  [-2.39613533e-01  4.64705452e-02  4.14689839e-...  \n",
       "1620  [-1.24572255e-01 -2.15024259e-02  4.72823471e-...  \n",
       "1713  [-6.32119700e-02 -1.49392709e-01  4.46838409e-...  \n",
       "1836  [-1.14206485e-01 -3.34909745e-02  3.48307520e-...  \n",
       "1837  [-1.96476385e-01 -1.18435726e-01  5.01800537e-...  \n",
       "\n",
       "[5 rows x 48 columns]"
      ]
     },
     "execution_count": 197,
     "metadata": {},
     "output_type": "execute_result"
    }
   ],
   "source": [
    "balanced.head()"
   ]
  },
  {
   "cell_type": "code",
   "execution_count": 200,
   "metadata": {
    "hidden": true
   },
   "outputs": [
    {
     "data": {
      "text/plain": [
       "(400, 48)"
      ]
     },
     "execution_count": 200,
     "metadata": {},
     "output_type": "execute_result"
    }
   ],
   "source": [
    "balanced.shape"
   ]
  },
  {
   "cell_type": "code",
   "execution_count": 199,
   "metadata": {
    "hidden": true
   },
   "outputs": [],
   "source": [
    "balanced.to_csv(data_path +'/total_balanced_dataset.csv')"
   ]
  },
  {
   "cell_type": "markdown",
   "metadata": {
    "hidden": true
   },
   "source": [
    "#### now that I have the \"balanced\" dataframe, I can build the pipeline"
   ]
  },
  {
   "cell_type": "code",
   "execution_count": 31,
   "metadata": {
    "hidden": true
   },
   "outputs": [],
   "source": [
    "#redefining training loop\n",
    "\n",
    "def train_model3(model, lr = 1e-3, epochs = 10, loss_func = nn.CrossEntropyLoss(), batch_size = 4):\n",
    "    optimizer = Adam(model.parameters(), lr = lr)\n",
    "    running_train_loss = []\n",
    "    running_valid_loss = []\n",
    "    for epoch_num in range(epochs):\n",
    "        start_time = time.time()\n",
    "        model.train()\n",
    "        train_loss = 0\n",
    "        for step_num, batch_data in enumerate(trainloader):\n",
    "        \n",
    "            cont_var, subj_notes, medhx, cat_var, labels = tuple(t.to(device) for t in batch_data)\n",
    "        \n",
    "            optimizer.zero_grad()\n",
    "        \n",
    "            logits = model(cont_var, subj_notes, medhx, cat_var)\n",
    "        \n",
    "            batch_loss = loss_func(logits, labels)\n",
    "        \n",
    "            train_loss += batch_loss.item()\n",
    "        \n",
    "            batch_loss.backward()\n",
    "        \n",
    "\n",
    "            clip_grad_norm_(parameters=model.parameters(), max_norm=1.0)\n",
    "        \n",
    "            optimizer.step()\n",
    "        \n",
    "        #check against validation set\n",
    "        model.eval()\n",
    "        valid_loss = 0\n",
    "        for batch_data in validloader:\n",
    "            \n",
    "            cont_var, subj_notes, medhx, cat_var, labels = tuple(t.to(device) for t in batch_data)\n",
    "            \n",
    "            logits = model(cont_var, subj_notes, medhx, cat_var)\n",
    "        \n",
    "            batch_loss = loss_func(logits, labels)\n",
    "        \n",
    "            valid_loss += batch_loss.item()\n",
    "            \n",
    "        end_time = time.time()\n",
    "        print('Epoch {}:'.format(epoch_num + 1),' {0:.3f} sec'.format(end_time - start_time))\n",
    "        #print(\"\\r\" + \"{0}/{1} loss: {2} \".format(step_num, len(train_data) / batch_size, train_loss / (step_num + 1)))\n",
    "        print ('Training loss = {0:.4f}'.format(train_loss/len(trainloader)))\n",
    "        print ('Validation loss = {0:.4f}'.format(valid_loss/len(validloader)))\n",
    "        print ()\n",
    "        \n",
    "        running_train_loss.append(train_loss/len(trainloader))\n",
    "        running_valid_loss.append(valid_loss/len(validloader))\n",
    "        \n",
    "\n",
    "    return running_train_loss, running_valid_loss"
   ]
  },
  {
   "cell_type": "code",
   "execution_count": 4,
   "metadata": {
    "hidden": true
   },
   "outputs": [],
   "source": [
    "data_path = '/Users/jjaskolkambp/Desktop/machine learning/my_projects/data/ed triage project/egh'"
   ]
  },
  {
   "cell_type": "code",
   "execution_count": 8,
   "metadata": {
    "hidden": true
   },
   "outputs": [],
   "source": [
    "balanced = pd.read_csv(data_path +'/total_balanced_dataset.csv', index_col = 0)"
   ]
  },
  {
   "cell_type": "code",
   "execution_count": 9,
   "metadata": {
    "hidden": true
   },
   "outputs": [
    {
     "data": {
      "text/plain": [
       "(400, 48)"
      ]
     },
     "execution_count": 9,
     "metadata": {},
     "output_type": "execute_result"
    }
   ],
   "source": [
    "balanced.shape"
   ]
  },
  {
   "cell_type": "code",
   "execution_count": 10,
   "metadata": {
    "hidden": true
   },
   "outputs": [
    {
     "data": {
      "text/plain": [
       "Index(['ID', 'ChartNumber', 'EncounterNumber', 'TriageLevel', 'AgeNumber',\n",
       "       'AgeInYrs', 'GenderDesc', 'Triage Date & Time', 'Reg Date & Time',\n",
       "       'PIA Date & Time', 'Disposition Date & Time', 'DischargeDisposition',\n",
       "       'DischargeDispositionDesc', 'Left ED Date & Time',\n",
       "       'PresentingComplaint', 'PresentingComplaintDesc', 'MainDiagnosisCode',\n",
       "       'MainDiagnosisCodeDesc', 'AdmitLocation', 'PatientService',\n",
       "       'SubjectiveNotes', 'InfectionControlScreening', 'MedicalHistory',\n",
       "       'BloodPressure_LastEDReading', 'O2Saturation_LastEDReading',\n",
       "       'Pulse_LastEDReading', 'Temperature_LastEDReading', 'o2sat', 'pulse',\n",
       "       'temp', 'CleanSubjectiveNotes', 'BP', 'systolic', 'diastolic', 'Gender',\n",
       "       'outcome', 'target', 'service', 'target2', 'discharge', 'target3',\n",
       "       'dispo', 'target4', 'ICUvsother', 'target5', 'pmhx', 'pmhx_embeds',\n",
       "       'subjnotes_embeds'],\n",
       "      dtype='object')"
      ]
     },
     "execution_count": 10,
     "metadata": {},
     "output_type": "execute_result"
    }
   ],
   "source": [
    "balanced.columns"
   ]
  },
  {
   "cell_type": "code",
   "execution_count": 11,
   "metadata": {
    "hidden": true
   },
   "outputs": [],
   "source": [
    "#turning the embedding columns into arrays along the lines of what I created bedore\n",
    "\n",
    "subj = np.array([s[1:-1].split() for s in list(balanced.subjnotes_embeds)]).astype(np.float32)\n",
    "medhx = np.array([s[1:-1].split() for s in list(balanced.pmhx_embeds)]).astype(np.float32)"
   ]
  },
  {
   "cell_type": "code",
   "execution_count": 12,
   "metadata": {
    "hidden": true
   },
   "outputs": [
    {
     "data": {
      "text/plain": [
       "(dtype('float32'), dtype('float32'))"
      ]
     },
     "execution_count": 12,
     "metadata": {},
     "output_type": "execute_result"
    }
   ],
   "source": [
    "subj.dtype, medhx.dtype"
   ]
  },
  {
   "cell_type": "code",
   "execution_count": 13,
   "metadata": {
    "hidden": true
   },
   "outputs": [],
   "source": [
    "#each of these will start as a list of relevant columns and be handled differently\n",
    "cont_vars = ['AgeInYrs', 'o2sat', 'temp', 'pulse', 'systolic', 'diastolic']\n",
    "cat_vars = ['TriageLevel', 'Gender', 'PresentingComplaint']"
   ]
  },
  {
   "cell_type": "code",
   "execution_count": 14,
   "metadata": {
    "hidden": true
   },
   "outputs": [],
   "source": [
    "#making the labels\n",
    "labels = balanced.target2.values - 1"
   ]
  },
  {
   "cell_type": "code",
   "execution_count": 15,
   "metadata": {
    "hidden": true
   },
   "outputs": [],
   "source": [
    "def normalize(df, columns):\n",
    "        print (columns)\n",
    "        \"Compute the means and stds of `self.cont_names` columns to normalize them.\"\n",
    "        new_cols = []\n",
    "        for n in columns:\n",
    "            df[n + '_norm'] = (df[n]-df[n].mean()) / (1e-7 + df[n].std())\n",
    "            new_cols.append(n+ '_norm')\n",
    "            \n",
    "            \n",
    "        for n in new_cols:\n",
    "            if pd.isnull(df[n]).sum():\n",
    "                filler = df[n].median()\n",
    "                df[n] = df[n].fillna(filler)\n",
    "        return new_cols"
   ]
  },
  {
   "cell_type": "code",
   "execution_count": 16,
   "metadata": {
    "hidden": true
   },
   "outputs": [
    {
     "name": "stdout",
     "output_type": "stream",
     "text": [
      "['AgeInYrs', 'o2sat', 'temp', 'pulse', 'systolic', 'diastolic']\n"
     ]
    }
   ],
   "source": [
    "new_cols = normalize(balanced, cont_vars)"
   ]
  },
  {
   "cell_type": "code",
   "execution_count": 623,
   "metadata": {
    "hidden": true
   },
   "outputs": [
    {
     "data": {
      "text/html": [
       "<div>\n",
       "<style scoped>\n",
       "    .dataframe tbody tr th:only-of-type {\n",
       "        vertical-align: middle;\n",
       "    }\n",
       "\n",
       "    .dataframe tbody tr th {\n",
       "        vertical-align: top;\n",
       "    }\n",
       "\n",
       "    .dataframe thead th {\n",
       "        text-align: right;\n",
       "    }\n",
       "</style>\n",
       "<table border=\"1\" class=\"dataframe\">\n",
       "  <thead>\n",
       "    <tr style=\"text-align: right;\">\n",
       "      <th></th>\n",
       "      <th>ID</th>\n",
       "      <th>ChartNumber</th>\n",
       "      <th>EncounterNumber</th>\n",
       "      <th>TriageLevel</th>\n",
       "      <th>AgeNumber</th>\n",
       "      <th>AgeInYrs</th>\n",
       "      <th>GenderDesc</th>\n",
       "      <th>Triage Date &amp; Time</th>\n",
       "      <th>Reg Date &amp; Time</th>\n",
       "      <th>PIA Date &amp; Time</th>\n",
       "      <th>...</th>\n",
       "      <th>target5</th>\n",
       "      <th>pmhx</th>\n",
       "      <th>pmhx_embeds</th>\n",
       "      <th>subjnotes_embeds</th>\n",
       "      <th>AgeInYrs_norm</th>\n",
       "      <th>o2sat_norm</th>\n",
       "      <th>temp_norm</th>\n",
       "      <th>pulse_norm</th>\n",
       "      <th>systolic_norm</th>\n",
       "      <th>diastolic_norm</th>\n",
       "    </tr>\n",
       "  </thead>\n",
       "  <tbody>\n",
       "    <tr>\n",
       "      <th>1184</th>\n",
       "      <td>1185</td>\n",
       "      <td>E8443276</td>\n",
       "      <td>EE001185/18</td>\n",
       "      <td>2.0</td>\n",
       "      <td>73</td>\n",
       "      <td>73.0</td>\n",
       "      <td>Male</td>\n",
       "      <td>2018-04-06 10:16:00</td>\n",
       "      <td>2018-04-06 10:20:00</td>\n",
       "      <td>2018-04-06 10:17:00</td>\n",
       "      <td>...</td>\n",
       "      <td>0</td>\n",
       "      <td>bowel obstruction d/t bowel adhesions, htn, afib</td>\n",
       "      <td>[-1.18588388e-01 -3.62613685e-02  1.71774179e-...</td>\n",
       "      <td>[-2.39613533e-01  4.64705452e-02  4.14689839e-...</td>\n",
       "      <td>0.797240</td>\n",
       "      <td>0.301261</td>\n",
       "      <td>-0.180775</td>\n",
       "      <td>-0.841688</td>\n",
       "      <td>0.573110</td>\n",
       "      <td>0.286222</td>\n",
       "    </tr>\n",
       "    <tr>\n",
       "      <th>1620</th>\n",
       "      <td>1621</td>\n",
       "      <td>E3111507</td>\n",
       "      <td>EE001622/18</td>\n",
       "      <td>5.0</td>\n",
       "      <td>82</td>\n",
       "      <td>82.0</td>\n",
       "      <td>Female</td>\n",
       "      <td>2018-04-08 11:17:00</td>\n",
       "      <td>2018-04-08 11:21:00</td>\n",
       "      <td>2018-04-08 11:28:00</td>\n",
       "      <td>...</td>\n",
       "      <td>0</td>\n",
       "      <td>diverticulitis, high bp, high cholesterol, thy...</td>\n",
       "      <td>[-1.94503769e-01 -8.38923976e-02  5.67541644e-...</td>\n",
       "      <td>[-1.24572255e-01 -2.15024259e-02  4.72823471e-...</td>\n",
       "      <td>1.174497</td>\n",
       "      <td>0.826922</td>\n",
       "      <td>-1.263975</td>\n",
       "      <td>-1.384923</td>\n",
       "      <td>-0.264089</td>\n",
       "      <td>-0.016198</td>\n",
       "    </tr>\n",
       "    <tr>\n",
       "      <th>1713</th>\n",
       "      <td>1714</td>\n",
       "      <td>E8216415</td>\n",
       "      <td>EE001716/18</td>\n",
       "      <td>2.0</td>\n",
       "      <td>49</td>\n",
       "      <td>49.0</td>\n",
       "      <td>Male</td>\n",
       "      <td>2018-04-08 18:47:00</td>\n",
       "      <td>2018-04-08 18:50:00</td>\n",
       "      <td>2018-04-08 18:50:00</td>\n",
       "      <td>...</td>\n",
       "      <td>0</td>\n",
       "      <td>liver and kidney failure</td>\n",
       "      <td>[-6.44557178e-02  2.12498493e-02 -4.99889851e-...</td>\n",
       "      <td>[-6.32119700e-02 -1.49392709e-01  4.46838409e-...</td>\n",
       "      <td>-0.208779</td>\n",
       "      <td>-1.538556</td>\n",
       "      <td>-0.180775</td>\n",
       "      <td>0.516400</td>\n",
       "      <td>-1.021555</td>\n",
       "      <td>-0.456082</td>\n",
       "    </tr>\n",
       "    <tr>\n",
       "      <th>1836</th>\n",
       "      <td>1837</td>\n",
       "      <td>E8152804</td>\n",
       "      <td>EE001838/18</td>\n",
       "      <td>2.0</td>\n",
       "      <td>57</td>\n",
       "      <td>57.0</td>\n",
       "      <td>Male</td>\n",
       "      <td>2018-04-09 10:59:00</td>\n",
       "      <td>2018-04-09 11:02:00</td>\n",
       "      <td>2018-04-09 11:10:00</td>\n",
       "      <td>...</td>\n",
       "      <td>0</td>\n",
       "      <td>htn, diabetic, thyroid, rt total nephrectomy, ...</td>\n",
       "      <td>[-1.45752514e-02 -3.72009605e-01  2.15191156e-...</td>\n",
       "      <td>[-1.14206485e-01 -3.34909745e-02  3.48307520e-...</td>\n",
       "      <td>0.126560</td>\n",
       "      <td>0.564091</td>\n",
       "      <td>0.767024</td>\n",
       "      <td>1.104905</td>\n",
       "      <td>-0.343823</td>\n",
       "      <td>-0.126169</td>\n",
       "    </tr>\n",
       "    <tr>\n",
       "      <th>1837</th>\n",
       "      <td>1838</td>\n",
       "      <td>E8181432</td>\n",
       "      <td>EE001839/18</td>\n",
       "      <td>2.0</td>\n",
       "      <td>75</td>\n",
       "      <td>75.0</td>\n",
       "      <td>Male</td>\n",
       "      <td>2018-04-09 11:11:00</td>\n",
       "      <td>2018-04-09 11:15:00</td>\n",
       "      <td>2018-04-09 11:16:00</td>\n",
       "      <td>...</td>\n",
       "      <td>0</td>\n",
       "      <td>no significant medical history</td>\n",
       "      <td>[-6.41224608e-02  1.80907622e-02 -2.60267198e-...</td>\n",
       "      <td>[-1.96476385e-01 -1.18435726e-01  5.01800537e-...</td>\n",
       "      <td>0.881075</td>\n",
       "      <td>-0.487232</td>\n",
       "      <td>0.090025</td>\n",
       "      <td>-1.430192</td>\n",
       "      <td>-0.104623</td>\n",
       "      <td>-0.126169</td>\n",
       "    </tr>\n",
       "  </tbody>\n",
       "</table>\n",
       "<p>5 rows × 54 columns</p>\n",
       "</div>"
      ],
      "text/plain": [
       "        ID ChartNumber EncounterNumber TriageLevel  AgeNumber  AgeInYrs  \\\n",
       "1184  1185    E8443276     EE001185/18         2.0         73      73.0   \n",
       "1620  1621    E3111507     EE001622/18         5.0         82      82.0   \n",
       "1713  1714    E8216415     EE001716/18         2.0         49      49.0   \n",
       "1836  1837    E8152804     EE001838/18         2.0         57      57.0   \n",
       "1837  1838    E8181432     EE001839/18         2.0         75      75.0   \n",
       "\n",
       "     GenderDesc   Triage Date & Time      Reg Date & Time  \\\n",
       "1184       Male  2018-04-06 10:16:00  2018-04-06 10:20:00   \n",
       "1620     Female  2018-04-08 11:17:00  2018-04-08 11:21:00   \n",
       "1713       Male  2018-04-08 18:47:00  2018-04-08 18:50:00   \n",
       "1836       Male  2018-04-09 10:59:00  2018-04-09 11:02:00   \n",
       "1837       Male  2018-04-09 11:11:00  2018-04-09 11:15:00   \n",
       "\n",
       "          PIA Date & Time      ...       target5  \\\n",
       "1184  2018-04-06 10:17:00      ...             0   \n",
       "1620  2018-04-08 11:28:00      ...             0   \n",
       "1713  2018-04-08 18:50:00      ...             0   \n",
       "1836  2018-04-09 11:10:00      ...             0   \n",
       "1837  2018-04-09 11:16:00      ...             0   \n",
       "\n",
       "                                                   pmhx  \\\n",
       "1184   bowel obstruction d/t bowel adhesions, htn, afib   \n",
       "1620  diverticulitis, high bp, high cholesterol, thy...   \n",
       "1713                           liver and kidney failure   \n",
       "1836  htn, diabetic, thyroid, rt total nephrectomy, ...   \n",
       "1837                     no significant medical history   \n",
       "\n",
       "                                            pmhx_embeds  \\\n",
       "1184  [-1.18588388e-01 -3.62613685e-02  1.71774179e-...   \n",
       "1620  [-1.94503769e-01 -8.38923976e-02  5.67541644e-...   \n",
       "1713  [-6.44557178e-02  2.12498493e-02 -4.99889851e-...   \n",
       "1836  [-1.45752514e-02 -3.72009605e-01  2.15191156e-...   \n",
       "1837  [-6.41224608e-02  1.80907622e-02 -2.60267198e-...   \n",
       "\n",
       "                                       subjnotes_embeds AgeInYrs_norm  \\\n",
       "1184  [-2.39613533e-01  4.64705452e-02  4.14689839e-...      0.797240   \n",
       "1620  [-1.24572255e-01 -2.15024259e-02  4.72823471e-...      1.174497   \n",
       "1713  [-6.32119700e-02 -1.49392709e-01  4.46838409e-...     -0.208779   \n",
       "1836  [-1.14206485e-01 -3.34909745e-02  3.48307520e-...      0.126560   \n",
       "1837  [-1.96476385e-01 -1.18435726e-01  5.01800537e-...      0.881075   \n",
       "\n",
       "     o2sat_norm temp_norm pulse_norm systolic_norm diastolic_norm  \n",
       "1184   0.301261 -0.180775  -0.841688      0.573110       0.286222  \n",
       "1620   0.826922 -1.263975  -1.384923     -0.264089      -0.016198  \n",
       "1713  -1.538556 -0.180775   0.516400     -1.021555      -0.456082  \n",
       "1836   0.564091  0.767024   1.104905     -0.343823      -0.126169  \n",
       "1837  -0.487232  0.090025  -1.430192     -0.104623      -0.126169  \n",
       "\n",
       "[5 rows x 54 columns]"
      ]
     },
     "execution_count": 623,
     "metadata": {},
     "output_type": "execute_result"
    }
   ],
   "source": [
    "balanced.head()"
   ]
  },
  {
   "cell_type": "code",
   "execution_count": 17,
   "metadata": {
    "hidden": true
   },
   "outputs": [],
   "source": [
    "cont = np.array(balanced[new_cols]).astype(np.float32)"
   ]
  },
  {
   "cell_type": "code",
   "execution_count": 18,
   "metadata": {
    "hidden": true
   },
   "outputs": [
    {
     "data": {
      "text/plain": [
       "(400, 6)"
      ]
     },
     "execution_count": 18,
     "metadata": {},
     "output_type": "execute_result"
    }
   ],
   "source": [
    "cont.shape"
   ]
  },
  {
   "cell_type": "code",
   "execution_count": 19,
   "metadata": {
    "hidden": true
   },
   "outputs": [
    {
     "data": {
      "text/plain": [
       "[5, 2, 69]"
      ]
     },
     "execution_count": 19,
     "metadata": {},
     "output_type": "execute_result"
    }
   ],
   "source": [
    "class_lengths = [len(set(balanced[cat])) for cat in cat_vars]\n",
    "class_lengths"
   ]
  },
  {
   "cell_type": "code",
   "execution_count": 20,
   "metadata": {
    "hidden": true
   },
   "outputs": [],
   "source": [
    "numerical_cat_data = []\n",
    "for cat in cat_vars:\n",
    "    #first make a dictionary mapping original name to a number\n",
    "    cat_to_num  = {cat:i for i,cat in enumerate(list(set(balanced[cat])))}\n",
    "    #then replace the categorgal label with numbers and add to output list\n",
    "    numerical_cat_data.append([cat_to_num[item] for item in balanced[cat]])"
   ]
  },
  {
   "cell_type": "code",
   "execution_count": 21,
   "metadata": {
    "hidden": true
   },
   "outputs": [
    {
     "data": {
      "text/plain": [
       "(400, 3)"
      ]
     },
     "execution_count": 21,
     "metadata": {},
     "output_type": "execute_result"
    }
   ],
   "source": [
    "#this makes a vertical array out of the categorical data\n",
    "cats_array = np.vstack(np.array(numerical_cat_data).astype(int)).transpose(); cats_array.shape"
   ]
  },
  {
   "cell_type": "code",
   "execution_count": 22,
   "metadata": {
    "hidden": true
   },
   "outputs": [
    {
     "data": {
      "text/plain": [
       "[(5, 4), (2, 2), (69, 17)]"
      ]
     },
     "execution_count": 22,
     "metadata": {},
     "output_type": "execute_result"
    }
   ],
   "source": [
    "#creating a set of embedding sizes for each categorical variable\n",
    "emb_szs = [(length, min(600, round(1.6 * length **0.56))) for length in class_lengths]\n",
    "emb_szs"
   ]
  },
  {
   "cell_type": "code",
   "execution_count": 23,
   "metadata": {
    "hidden": true
   },
   "outputs": [],
   "source": [
    "train_subj, validation_subj = train_test_split(subj, random_state = 42, test_size=0.1)\n",
    "train_medhx, validation_medhx = train_test_split(medhx, random_state = 42, test_size=0.1)\n",
    "train_cont, validation_cont = train_test_split(cont, random_state = 42, test_size=0.1)\n",
    "train_cats, validation_cats = train_test_split(cats_array, random_state = 42, test_size=0.1)\n",
    "train_labels, validation_labels = train_test_split(labels, random_state = 42, test_size=0.1)"
   ]
  },
  {
   "cell_type": "code",
   "execution_count": 24,
   "metadata": {
    "hidden": true
   },
   "outputs": [],
   "source": [
    "train_subj = torch.tensor(train_subj)\n",
    "validation_subj = torch.tensor(validation_subj)\n",
    "train_medhx = torch.tensor(train_medhx)\n",
    "validation_medhx = torch.tensor(validation_medhx)\n",
    "train_cont = torch.tensor(train_cont)\n",
    "validation_cont = torch.tensor(validation_cont)\n",
    "train_cats = torch.tensor(train_cats)\n",
    "validation_cats = torch.tensor(validation_cats)\n",
    "train_labels = torch.tensor(train_labels)\n",
    "validation_labels = torch.tensor(validation_labels)"
   ]
  },
  {
   "cell_type": "code",
   "execution_count": 25,
   "metadata": {
    "hidden": true
   },
   "outputs": [],
   "source": [
    "batch_size = 4\n",
    "\n",
    "train_data = TensorDataset(train_subj, train_medhx, train_cont,train_cats,train_labels)\n",
    "trainloader = DataLoader(train_data, batch_size=batch_size, shuffle = True)\n",
    "\n",
    "valid_data = TensorDataset(validation_subj, validation_medhx, validation_cont, validation_cats, validation_labels)\n",
    "validloader = DataLoader(valid_data, batch_size=batch_size, shuffle = True)"
   ]
  },
  {
   "cell_type": "code",
   "execution_count": 867,
   "metadata": {
    "hidden": true
   },
   "outputs": [],
   "source": [
    "class Net3(nn.Module):\n",
    "    def __init__(self, emb_szs):\n",
    "        super(Net3, self).__init__()\n",
    "        \n",
    "        #first create the embedding layers for each of the categorical variables\n",
    "        self.embed_layers = nn.ModuleList([nn.Embedding(ni, nf) for ni,nf in emb_szs])\n",
    "        n_emb = sum(e.embedding_dim for e in self.embed_layers)\n",
    "        \n",
    "        #define dropouts\n",
    "        self.emb_drop = nn.Dropout(0.5)\n",
    "        self.lin_drop = nn.Dropout(0.5)\n",
    "        \n",
    "        #define batchnorms\n",
    "        self.nlp1_bn = nn.BatchNorm1d(768)\n",
    "        self.nlp2_bn = nn.BatchNorm1d(768)\n",
    "        self.comb_bn = nn.BatchNorm1d(36)\n",
    "        self.comb_bn2 = nn.BatchNorm1d(200)\n",
    "        \n",
    "        self.linear_subjective = nn.Linear(768,10)  \n",
    "        self.linear_medhx = nn.Linear(768, 10)\n",
    "        self.linear_cat = nn.Linear(n_emb,10)\n",
    "        self.linear_combined1 = nn.Linear(36, 200)\n",
    "        self.linear_combined2 = nn.Linear(200,100)\n",
    "        self.out = nn.Linear(100,4)\n",
    "\n",
    "    def forward(self, subj,medhx,cont,cat_var):\n",
    "        #first we run each BERT vector through a linear layer and activation\n",
    "        nlp1 = F.relu(self.linear_subjective(self.lin_drop(subj)))\n",
    "        nlp2 = F.relu(self.linear_medhx(self.lin_drop(medhx)))\n",
    "        \n",
    "        #now we pass each categorical variable through an embedding layer, combine output and pass through\n",
    "        #a linear layer with activation\n",
    "        embeds = [e(cat_var[:,i]) for i,e in enumerate(self.embed_layers)]\n",
    "        embeds = torch.cat(embeds, 1)\n",
    "        embeds = self.linear_cat(embeds)\n",
    "        embeds = self.emb_drop(embeds)\n",
    "        #embeds = F.relu(self.linear_cat(embeds))  #they dont have an activation after the embeddings in fast.ai\n",
    "        \n",
    "        #now we combine all four sources of input and pass through a layer with activation\n",
    "        combined = torch.cat((nlp1,nlp2,cont,embeds), axis = 1)\n",
    "        combined_norm = self.lin_drop(self.comb_bn(combined))\n",
    "        x = F.relu(self.linear_combined1(combined_norm))\n",
    "        x = F.relu(self.linear_combined2(self.lin_drop(self.comb_bn2(x))))\n",
    "        \n",
    "        #compute logits\n",
    "        x = self.out(x)\n",
    "        \n",
    "        return x\n",
    "\n",
    "\n",
    "\n"
   ]
  },
  {
   "cell_type": "code",
   "execution_count": 868,
   "metadata": {
    "hidden": true
   },
   "outputs": [
    {
     "data": {
      "text/plain": [
       "Net3(\n",
       "  (embed_layers): ModuleList(\n",
       "    (0): Embedding(5, 4)\n",
       "    (1): Embedding(2, 2)\n",
       "    (2): Embedding(69, 17)\n",
       "  )\n",
       "  (emb_drop): Dropout(p=0.5, inplace=False)\n",
       "  (lin_drop): Dropout(p=0.5, inplace=False)\n",
       "  (nlp1_bn): BatchNorm1d(768, eps=1e-05, momentum=0.1, affine=True, track_running_stats=True)\n",
       "  (nlp2_bn): BatchNorm1d(768, eps=1e-05, momentum=0.1, affine=True, track_running_stats=True)\n",
       "  (comb_bn): BatchNorm1d(36, eps=1e-05, momentum=0.1, affine=True, track_running_stats=True)\n",
       "  (comb_bn2): BatchNorm1d(200, eps=1e-05, momentum=0.1, affine=True, track_running_stats=True)\n",
       "  (linear_subjective): Linear(in_features=768, out_features=10, bias=True)\n",
       "  (linear_medhx): Linear(in_features=768, out_features=10, bias=True)\n",
       "  (linear_cat): Linear(in_features=23, out_features=10, bias=True)\n",
       "  (linear_combined1): Linear(in_features=36, out_features=200, bias=True)\n",
       "  (linear_combined2): Linear(in_features=200, out_features=100, bias=True)\n",
       "  (out): Linear(in_features=100, out_features=4, bias=True)\n",
       ")"
      ]
     },
     "execution_count": 868,
     "metadata": {},
     "output_type": "execute_result"
    }
   ],
   "source": [
    "net = Net3(emb_szs)\n",
    "net"
   ]
  },
  {
   "cell_type": "code",
   "execution_count": 869,
   "metadata": {
    "hidden": true
   },
   "outputs": [],
   "source": [
    "x1,x2,x3,x4,x5 = next(iter(trainloader))"
   ]
  },
  {
   "cell_type": "code",
   "execution_count": 870,
   "metadata": {
    "hidden": true
   },
   "outputs": [
    {
     "data": {
      "text/plain": [
       "tensor([[-0.4133, -0.0332, -0.4821,  0.3188],\n",
       "        [-0.4989, -0.0729,  0.3424, -0.5555],\n",
       "        [-0.2026,  0.6119, -0.2030, -0.4365],\n",
       "        [-0.1506,  0.2384, -0.5336, -0.3117]], grad_fn=<AddmmBackward>)"
      ]
     },
     "execution_count": 870,
     "metadata": {},
     "output_type": "execute_result"
    }
   ],
   "source": [
    "net(x1,x2,x3,x4)"
   ]
  },
  {
   "cell_type": "code",
   "execution_count": 871,
   "metadata": {
    "hidden": true
   },
   "outputs": [
    {
     "name": "stdout",
     "output_type": "stream",
     "text": [
      "Epoch 1:  0.467 sec\n",
      "Training loss = 1.3977\n",
      "Validation loss = 1.3572\n",
      "\n",
      "Epoch 2:  0.476 sec\n",
      "Training loss = 1.3244\n",
      "Validation loss = 1.4125\n",
      "\n",
      "Epoch 3:  0.443 sec\n",
      "Training loss = 1.3577\n",
      "Validation loss = 1.3353\n",
      "\n",
      "Epoch 4:  0.445 sec\n",
      "Training loss = 1.3845\n",
      "Validation loss = 1.2872\n",
      "\n",
      "Epoch 5:  0.441 sec\n",
      "Training loss = 1.3467\n",
      "Validation loss = 1.3325\n",
      "\n",
      "Epoch 6:  0.450 sec\n",
      "Training loss = 1.3024\n",
      "Validation loss = 1.3217\n",
      "\n",
      "Epoch 7:  0.488 sec\n",
      "Training loss = 1.3461\n",
      "Validation loss = 1.3372\n",
      "\n",
      "Epoch 8:  0.448 sec\n",
      "Training loss = 1.3148\n",
      "Validation loss = 1.3448\n",
      "\n",
      "Epoch 9:  0.447 sec\n",
      "Training loss = 1.3299\n",
      "Validation loss = 1.4178\n",
      "\n",
      "Epoch 10:  0.482 sec\n",
      "Training loss = 1.3200\n",
      "Validation loss = 1.4277\n",
      "\n",
      "Epoch 11:  0.476 sec\n",
      "Training loss = 1.3020\n",
      "Validation loss = 1.3817\n",
      "\n",
      "Epoch 12:  0.478 sec\n",
      "Training loss = 1.2925\n",
      "Validation loss = 1.3332\n",
      "\n",
      "Epoch 13:  0.588 sec\n",
      "Training loss = 1.3147\n",
      "Validation loss = 1.2378\n",
      "\n",
      "Epoch 14:  0.471 sec\n",
      "Training loss = 1.2555\n",
      "Validation loss = 1.2823\n",
      "\n",
      "Epoch 15:  0.487 sec\n",
      "Training loss = 1.2874\n",
      "Validation loss = 1.2805\n",
      "\n",
      "Epoch 16:  0.450 sec\n",
      "Training loss = 1.3175\n",
      "Validation loss = 1.2859\n",
      "\n",
      "Epoch 17:  0.453 sec\n",
      "Training loss = 1.3029\n",
      "Validation loss = 1.2662\n",
      "\n",
      "Epoch 18:  0.456 sec\n",
      "Training loss = 1.3035\n",
      "Validation loss = 1.2529\n",
      "\n",
      "Epoch 19:  0.451 sec\n",
      "Training loss = 1.2823\n",
      "Validation loss = 1.2504\n",
      "\n",
      "Epoch 20:  0.452 sec\n",
      "Training loss = 1.2629\n",
      "Validation loss = 1.2955\n",
      "\n",
      "Epoch 21:  0.452 sec\n",
      "Training loss = 1.2859\n",
      "Validation loss = 1.3927\n",
      "\n",
      "Epoch 22:  0.450 sec\n",
      "Training loss = 1.2612\n",
      "Validation loss = 1.3014\n",
      "\n",
      "Epoch 23:  0.450 sec\n",
      "Training loss = 1.2280\n",
      "Validation loss = 1.3091\n",
      "\n",
      "Epoch 24:  0.455 sec\n",
      "Training loss = 1.2507\n",
      "Validation loss = 1.3313\n",
      "\n",
      "Epoch 25:  0.456 sec\n",
      "Training loss = 1.2646\n",
      "Validation loss = 1.2975\n",
      "\n",
      "Epoch 26:  0.451 sec\n",
      "Training loss = 1.2101\n",
      "Validation loss = 1.2178\n",
      "\n",
      "Epoch 27:  0.450 sec\n",
      "Training loss = 1.2559\n",
      "Validation loss = 1.2705\n",
      "\n",
      "Epoch 28:  0.483 sec\n",
      "Training loss = 1.2138\n",
      "Validation loss = 1.2047\n",
      "\n",
      "Epoch 29:  0.479 sec\n",
      "Training loss = 1.2700\n",
      "Validation loss = 1.1906\n",
      "\n",
      "Epoch 30:  0.452 sec\n",
      "Training loss = 1.2439\n",
      "Validation loss = 1.2779\n",
      "\n",
      "Epoch 31:  0.457 sec\n",
      "Training loss = 1.1907\n",
      "Validation loss = 1.2380\n",
      "\n",
      "Epoch 32:  0.448 sec\n",
      "Training loss = 1.1884\n",
      "Validation loss = 1.2411\n",
      "\n",
      "Epoch 33:  0.451 sec\n",
      "Training loss = 1.1895\n",
      "Validation loss = 1.2255\n",
      "\n",
      "Epoch 34:  0.447 sec\n",
      "Training loss = 1.2305\n",
      "Validation loss = 1.2564\n",
      "\n",
      "Epoch 35:  0.565 sec\n",
      "Training loss = 1.1968\n",
      "Validation loss = 1.2372\n",
      "\n",
      "Epoch 36:  0.566 sec\n",
      "Training loss = 1.1858\n",
      "Validation loss = 1.2593\n",
      "\n",
      "Epoch 37:  0.541 sec\n",
      "Training loss = 1.2311\n",
      "Validation loss = 1.2204\n",
      "\n",
      "Epoch 38:  0.476 sec\n",
      "Training loss = 1.2218\n",
      "Validation loss = 1.2717\n",
      "\n",
      "Epoch 39:  0.534 sec\n",
      "Training loss = 1.2114\n",
      "Validation loss = 1.2941\n",
      "\n",
      "Epoch 40:  0.643 sec\n",
      "Training loss = 1.1328\n",
      "Validation loss = 1.3067\n",
      "\n",
      "Epoch 41:  0.662 sec\n",
      "Training loss = 1.2086\n",
      "Validation loss = 1.2075\n",
      "\n",
      "Epoch 42:  0.558 sec\n",
      "Training loss = 1.1333\n",
      "Validation loss = 1.2648\n",
      "\n",
      "Epoch 43:  0.481 sec\n",
      "Training loss = 1.1932\n",
      "Validation loss = 1.2032\n",
      "\n",
      "Epoch 44:  0.450 sec\n",
      "Training loss = 1.1481\n",
      "Validation loss = 1.2232\n",
      "\n",
      "Epoch 45:  0.452 sec\n",
      "Training loss = 1.1825\n",
      "Validation loss = 1.2358\n",
      "\n",
      "Epoch 46:  0.448 sec\n",
      "Training loss = 1.1996\n",
      "Validation loss = 1.2335\n",
      "\n",
      "Epoch 47:  0.449 sec\n",
      "Training loss = 1.1808\n",
      "Validation loss = 1.1612\n",
      "\n",
      "Epoch 48:  0.451 sec\n",
      "Training loss = 1.1657\n",
      "Validation loss = 1.1987\n",
      "\n",
      "Epoch 49:  0.451 sec\n",
      "Training loss = 1.2527\n",
      "Validation loss = 1.2093\n",
      "\n",
      "Epoch 50:  0.452 sec\n",
      "Training loss = 1.1539\n",
      "Validation loss = 1.2647\n",
      "\n"
     ]
    }
   ],
   "source": [
    "net = Net3(emb_szs)\n",
    "tloss, vloss = train_model3(net, lr = 1e-3,epochs = 50)"
   ]
  },
  {
   "cell_type": "code",
   "execution_count": 872,
   "metadata": {
    "hidden": true
   },
   "outputs": [
    {
     "data": {
      "image/png": "[encoded data removed]",
      "text/plain": [
       "<Figure size 432x288 with 1 Axes>"
      ]
     },
     "metadata": {},
     "output_type": "display_data"
    }
   ],
   "source": [
    "plt.plot(tloss,'b', label = 'train')\n",
    "plt.plot(vloss,'g', label = 'valid')\n",
    "plt.legend()\n",
    "plt.show()"
   ]
  },
  {
   "cell_type": "code",
   "execution_count": 873,
   "metadata": {
    "hidden": true
   },
   "outputs": [
    {
     "name": "stdout",
     "output_type": "stream",
     "text": [
      "Classification Report:\n",
      "             precision    recall  f1-score   support\n",
      "\n",
      "  discharge       0.36      0.44      0.40         9\n",
      "     madmit       0.21      0.75      0.33         4\n",
      "     sadmit       1.00      0.38      0.55        16\n",
      "        ICU       0.67      0.55      0.60        11\n",
      "\n",
      "avg / total       0.69      0.47      0.51        40\n",
      "\n",
      "\n",
      "Confusion Matrix:\n",
      "[[4 4 0 1]\n",
      " [0 3 0 1]\n",
      " [6 3 6 1]\n",
      " [1 4 0 6]]\n",
      "\n",
      "accuracy =  47.5 %\n"
     ]
    }
   ],
   "source": [
    "#let's do some inference\n",
    "net.eval()\n",
    "pred_matrix = []\n",
    "label_matrix = []\n",
    "\n",
    "for batch_data in validloader:\n",
    "            \n",
    "    cont_var, subj_notes, medhx, cat_var, labels = tuple(t.to(device) for t in batch_data)\n",
    "            \n",
    "    logits = net(cont_var, subj_notes, medhx, cat_var)\n",
    "        \n",
    "    preds = np.argmax(logits.detach().numpy(), axis = 1)\n",
    "    pred_matrix.append(preds)\n",
    "    \n",
    "    labels = labels.detach().numpy()\n",
    "    label_matrix.append(labels)\n",
    "\n",
    "y_pred = [item for sublist in pred_matrix for item in sublist]\n",
    "y_true = [item for sublist in label_matrix for item in sublist]\n",
    "\n",
    "classification = metrics.classification_report(y_pred,y_true, target_names = ['discharge', 'madmit', 'sadmit', 'ICU'])\n",
    "conf = metrics.confusion_matrix(y_pred,y_true)\n",
    "acc = metrics.accuracy_score(y_pred,y_true)\n",
    "print ('Classification Report:')\n",
    "print(classification)\n",
    "print ()\n",
    "print('Confusion Matrix:')\n",
    "print (conf)\n",
    "print()\n",
    "print ('accuracy = ', acc *100, '%')"
   ]
  },
  {
   "cell_type": "markdown",
   "metadata": {
    "hidden": true
   },
   "source": [
    "for the most part, the best I can do with this model is 47.5% accuracy. \n",
    "\n",
    "next step will be to add the comorbid column.  will need to reembed the cleaned versions of the notes and medhx"
   ]
  },
  {
   "cell_type": "code",
   "execution_count": 28,
   "metadata": {
    "hidden": true
   },
   "outputs": [],
   "source": [
    "class FlatNet(nn.Module):\n",
    "    def __init__(self, emb_szs):\n",
    "        super(FlatNet, self).__init__()\n",
    "        \n",
    "        #first create the embedding layers for each of the categorical variables\n",
    "        self.embed_layers = nn.ModuleList([nn.Embedding(ni, nf) for ni,nf in emb_szs])\n",
    "        n_emb = sum(e.embedding_dim for e in self.embed_layers)\n",
    "        \n",
    "        #define dropouts\n",
    "        self.emb_drop = nn.Dropout(0.5)\n",
    "        self.lin_drop = nn.Dropout(0.5)\n",
    "        \n",
    "        #define batchnorms\n",
    "        self.comb_bn = nn.BatchNorm1d(768 + 768+ n_emb +6)\n",
    "        self.comb_bn2 = nn.BatchNorm1d(200)\n",
    "        \n",
    "\n",
    "        self.linear_combined1 = nn.Linear(768 + 768+ n_emb +6, 200)\n",
    "        self.linear_combined2 = nn.Linear(200,100)\n",
    "        self.out = nn.Linear(100,4)\n",
    "\n",
    "    def forward(self, subj,medhx,cont,cat_var):\n",
    "        \n",
    "        #now we pass each categorical variable through an embedding layer, combine output and pass through\n",
    "        #a linear layer with activation\n",
    "        embeds = [e(cat_var[:,i]) for i,e in enumerate(self.embed_layers)]\n",
    "        embeds = torch.cat(embeds, 1)\n",
    "        #embeds = self.linear_cat(embeds)\n",
    "        #embeds = self.emb_drop(embeds)\n",
    "        #embeds = F.relu(self.linear_cat(embeds))  #they dont have an activation after the embeddings in fast.ai\n",
    "        \n",
    "        #now we combine all four sources of input and pass through a layer with activation\n",
    "        combined = torch.cat((subj,medhx,cont,embeds), axis = 1)\n",
    "        combined_norm = self.lin_drop(self.comb_bn(combined))\n",
    "        x = F.relu(self.linear_combined1(combined_norm))\n",
    "        x = F.relu(self.linear_combined2(self.lin_drop(self.comb_bn2(x))))\n",
    "        \n",
    "        #compute logits\n",
    "        x = self.out(x)\n",
    "        \n",
    "        return x\n",
    "\n",
    "\n",
    "\n",
    "\n"
   ]
  },
  {
   "cell_type": "code",
   "execution_count": 29,
   "metadata": {
    "hidden": true
   },
   "outputs": [
    {
     "data": {
      "text/plain": [
       "FlatNet(\n",
       "  (embed_layers): ModuleList(\n",
       "    (0): Embedding(5, 4)\n",
       "    (1): Embedding(2, 2)\n",
       "    (2): Embedding(69, 17)\n",
       "  )\n",
       "  (emb_drop): Dropout(p=0.5, inplace=False)\n",
       "  (lin_drop): Dropout(p=0.5, inplace=False)\n",
       "  (comb_bn): BatchNorm1d(1565, eps=1e-05, momentum=0.1, affine=True, track_running_stats=True)\n",
       "  (comb_bn2): BatchNorm1d(200, eps=1e-05, momentum=0.1, affine=True, track_running_stats=True)\n",
       "  (linear_combined1): Linear(in_features=1565, out_features=200, bias=True)\n",
       "  (linear_combined2): Linear(in_features=200, out_features=100, bias=True)\n",
       "  (out): Linear(in_features=100, out_features=4, bias=True)\n",
       ")"
      ]
     },
     "execution_count": 29,
     "metadata": {},
     "output_type": "execute_result"
    }
   ],
   "source": [
    "net = FlatNet(emb_szs)\n",
    "net"
   ]
  },
  {
   "cell_type": "code",
   "execution_count": 32,
   "metadata": {
    "hidden": true
   },
   "outputs": [
    {
     "name": "stdout",
     "output_type": "stream",
     "text": [
      "Epoch 1:  1.983 sec\n",
      "Training loss = 1.3820\n",
      "Validation loss = 1.4529\n",
      "\n",
      "Epoch 2:  1.794 sec\n",
      "Training loss = 1.2711\n",
      "Validation loss = 1.4760\n",
      "\n",
      "Epoch 3:  1.914 sec\n",
      "Training loss = 1.2335\n",
      "Validation loss = 1.3196\n",
      "\n",
      "Epoch 4:  1.794 sec\n",
      "Training loss = 1.2102\n",
      "Validation loss = 1.2912\n",
      "\n",
      "Epoch 5:  1.962 sec\n",
      "Training loss = 1.2187\n",
      "Validation loss = 1.2969\n",
      "\n",
      "Epoch 6:  1.810 sec\n",
      "Training loss = 1.0931\n",
      "Validation loss = 1.3290\n",
      "\n",
      "Epoch 7:  1.922 sec\n",
      "Training loss = 1.0381\n",
      "Validation loss = 1.3576\n",
      "\n",
      "Epoch 8:  1.820 sec\n",
      "Training loss = 1.0393\n",
      "Validation loss = 1.3845\n",
      "\n",
      "Epoch 9:  1.799 sec\n",
      "Training loss = 1.0422\n",
      "Validation loss = 1.2965\n",
      "\n",
      "Epoch 10:  1.935 sec\n",
      "Training loss = 0.9573\n",
      "Validation loss = 1.3124\n",
      "\n",
      "Epoch 11:  1.849 sec\n",
      "Training loss = 0.9380\n",
      "Validation loss = 1.4645\n",
      "\n",
      "Epoch 12:  1.990 sec\n",
      "Training loss = 0.9343\n",
      "Validation loss = 1.2268\n",
      "\n",
      "Epoch 13:  1.925 sec\n",
      "Training loss = 0.9616\n",
      "Validation loss = 1.3627\n",
      "\n",
      "Epoch 14:  2.404 sec\n",
      "Training loss = 0.9217\n",
      "Validation loss = 1.3503\n",
      "\n",
      "Epoch 15:  1.884 sec\n",
      "Training loss = 0.8530\n",
      "Validation loss = 1.3015\n",
      "\n",
      "Epoch 16:  1.786 sec\n",
      "Training loss = 0.8981\n",
      "Validation loss = 1.3689\n",
      "\n",
      "Epoch 17:  2.219 sec\n",
      "Training loss = 0.8579\n",
      "Validation loss = 1.5039\n",
      "\n",
      "Epoch 18:  2.250 sec\n",
      "Training loss = 0.8796\n",
      "Validation loss = 1.4148\n",
      "\n",
      "Epoch 19:  2.198 sec\n",
      "Training loss = 0.8819\n",
      "Validation loss = 1.5263\n",
      "\n",
      "Epoch 20:  2.006 sec\n",
      "Training loss = 0.8411\n",
      "Validation loss = 1.3918\n",
      "\n",
      "Epoch 21:  2.033 sec\n",
      "Training loss = 0.8984\n",
      "Validation loss = 1.3745\n",
      "\n",
      "Epoch 22:  1.867 sec\n",
      "Training loss = 0.8775\n",
      "Validation loss = 1.3308\n",
      "\n",
      "Epoch 23:  1.920 sec\n",
      "Training loss = 0.8163\n",
      "Validation loss = 1.4481\n",
      "\n",
      "Epoch 24:  1.897 sec\n",
      "Training loss = 0.9050\n",
      "Validation loss = 1.4497\n",
      "\n",
      "Epoch 25:  2.104 sec\n",
      "Training loss = 0.9463\n",
      "Validation loss = 1.2932\n",
      "\n"
     ]
    }
   ],
   "source": [
    "tloss, vloss = train_model3(net, lr = 1e-3,epochs = 25)"
   ]
  },
  {
   "cell_type": "code",
   "execution_count": 34,
   "metadata": {
    "hidden": true
   },
   "outputs": [],
   "source": [
    "def show_losses(tloss = tloss, vloss = vloss):\n",
    "    plt.plot(tloss,'b', label = 'train')\n",
    "    plt.plot(vloss,'g', label = 'valid')\n",
    "    plt.legend()\n",
    "    plt.show()"
   ]
  },
  {
   "cell_type": "code",
   "execution_count": 35,
   "metadata": {
    "hidden": true
   },
   "outputs": [
    {
     "data": {
      "image/png": "[encoded data removed]",
      "text/plain": [
       "<Figure size 432x288 with 1 Axes>"
      ]
     },
     "metadata": {},
     "output_type": "display_data"
    }
   ],
   "source": [
    "show_losses()"
   ]
  },
  {
   "cell_type": "code",
   "execution_count": 36,
   "metadata": {
    "hidden": true
   },
   "outputs": [
    {
     "name": "stdout",
     "output_type": "stream",
     "text": [
      "Classification Report:\n",
      "             precision    recall  f1-score   support\n",
      "\n",
      "  discharge       0.36      0.44      0.40         9\n",
      "     madmit       0.43      0.43      0.43        14\n",
      "     sadmit       0.33      0.29      0.31         7\n",
      "        ICU       0.33      0.30      0.32        10\n",
      "\n",
      "avg / total       0.37      0.38      0.37        40\n",
      "\n",
      "\n",
      "Confusion Matrix:\n",
      "[[4 4 0 1]\n",
      " [2 6 2 4]\n",
      " [3 1 2 1]\n",
      " [2 3 2 3]]\n",
      "\n",
      "accuracy =  37.5 %\n"
     ]
    }
   ],
   "source": [
    "#let's do some inference\n",
    "net.eval()\n",
    "pred_matrix = []\n",
    "label_matrix = []\n",
    "\n",
    "for batch_data in validloader:\n",
    "            \n",
    "    cont_var, subj_notes, medhx, cat_var, labels = tuple(t.to(device) for t in batch_data)\n",
    "            \n",
    "    logits = net(cont_var, subj_notes, medhx, cat_var)\n",
    "        \n",
    "    preds = np.argmax(logits.detach().numpy(), axis = 1)\n",
    "    pred_matrix.append(preds)\n",
    "    \n",
    "    labels = labels.detach().numpy()\n",
    "    label_matrix.append(labels)\n",
    "\n",
    "y_pred = [item for sublist in pred_matrix for item in sublist]\n",
    "y_true = [item for sublist in label_matrix for item in sublist]\n",
    "\n",
    "classification = metrics.classification_report(y_pred,y_true, target_names = ['discharge', 'madmit', 'sadmit', 'ICU'])\n",
    "conf = metrics.confusion_matrix(y_pred,y_true)\n",
    "acc = metrics.accuracy_score(y_pred,y_true)\n",
    "print ('Classification Report:')\n",
    "print(classification)\n",
    "print ()\n",
    "print('Confusion Matrix:')\n",
    "print (conf)\n",
    "print()\n",
    "print ('accuracy = ', acc *100, '%')"
   ]
  },
  {
   "cell_type": "markdown",
   "metadata": {
    "hidden": true
   },
   "source": [
    "so the flatter network does significantly worse 37.5% accuracy"
   ]
  },
  {
   "cell_type": "markdown",
   "metadata": {},
   "source": [
    "## gonna try now with 2 classes for fun"
   ]
  },
  {
   "cell_type": "code",
   "execution_count": 331,
   "metadata": {},
   "outputs": [],
   "source": [
    "df1 = pd.read_csv(data_path + '/medhx_embeds.csv', header = None, index_col = 0)\n",
    "df2 = pd.read_csv(data_path + '/subjnote_embeds.csv', header = None, index_col = 0)\n",
    "balanced_data = pd.read_csv(data_path + '/balanced_admit_dc_nlp_data.csv', index_col = 0)"
   ]
  },
  {
   "cell_type": "code",
   "execution_count": 332,
   "metadata": {},
   "outputs": [
    {
     "data": {
      "text/plain": [
       "Index(['ID', 'ChartNumber', 'EncounterNumber', 'TriageLevel', 'AgeNumber',\n",
       "       'AgeInYrs', 'GenderDesc', 'Triage Date & Time', 'Reg Date & Time',\n",
       "       'PIA Date & Time', 'Disposition Date & Time', 'DischargeDisposition',\n",
       "       'DischargeDispositionDesc', 'Left ED Date & Time',\n",
       "       'PresentingComplaint', 'PresentingComplaintDesc', 'MainDiagnosisCode',\n",
       "       'MainDiagnosisCodeDesc', 'AdmitLocation', 'PatientService',\n",
       "       'SubjectiveNotes', 'InfectionControlScreening', 'MedicalHistory',\n",
       "       'BloodPressure_LastEDReading', 'O2Saturation_LastEDReading',\n",
       "       'Pulse_LastEDReading', 'Temperature_LastEDReading', 'o2sat', 'pulse',\n",
       "       'temp', 'CleanSubjectiveNotes', 'BP', 'systolic', 'diastolic', 'Gender',\n",
       "       'outcome', 'target', 'service', 'target2', 'discharge', 'target3',\n",
       "       'dispo', 'target4', 'ICUvsother', 'target5', 'pmhx', 'num_comorbids',\n",
       "       'Are you feeling feverish or have had shakes or chills in the last 24 hours?',\n",
       "       'Have you ever been isolated/required isolation for an infectious disease when receiving care in a healthcare setting?',\n",
       "       'Do you have a new Rash?',\n",
       "       'Do you have a new onset of Vomiting/Diarrhea in the last 24 hours?',\n",
       "       'Have you travelled outside of Canada/USA in the last 3 weeks?',\n",
       "       'Have you had contact with a sick person who has travelled outside of Canada/USA in the last 3 weeks?',\n",
       "       'Have you received Health Care in another country in the last 2 years?',\n",
       "       'Do you have a new/worse cough or shortness of breath?',\n",
       "       'If so, select all countries that apply',\n",
       "       'If so, select all infectious diseases that apply'],\n",
       "      dtype='object')"
      ]
     },
     "execution_count": 332,
     "metadata": {},
     "output_type": "execute_result"
    }
   ],
   "source": [
    "balanced_data.columns"
   ]
  },
  {
   "cell_type": "code",
   "execution_count": 333,
   "metadata": {},
   "outputs": [],
   "source": [
    "del df1.index.name\n",
    "del df2.index.name"
   ]
  },
  {
   "cell_type": "code",
   "execution_count": 334,
   "metadata": {},
   "outputs": [],
   "source": [
    "df1.columns = ['pmhx_embeds']\n",
    "\n",
    "df2.columns = ['subjnotes_embeds']"
   ]
  },
  {
   "cell_type": "code",
   "execution_count": 335,
   "metadata": {},
   "outputs": [],
   "source": [
    "df3 = pd.concat([df1,df2 ], axis = 1)"
   ]
  },
  {
   "cell_type": "code",
   "execution_count": 346,
   "metadata": {},
   "outputs": [
    {
     "data": {
      "text/html": [
       "<div>\n",
       "<style scoped>\n",
       "    .dataframe tbody tr th:only-of-type {\n",
       "        vertical-align: middle;\n",
       "    }\n",
       "\n",
       "    .dataframe tbody tr th {\n",
       "        vertical-align: top;\n",
       "    }\n",
       "\n",
       "    .dataframe thead th {\n",
       "        text-align: right;\n",
       "    }\n",
       "</style>\n",
       "<table border=\"1\" class=\"dataframe\">\n",
       "  <thead>\n",
       "    <tr style=\"text-align: right;\">\n",
       "      <th></th>\n",
       "      <th>pmhx_embeds</th>\n",
       "      <th>subjnotes_embeds</th>\n",
       "    </tr>\n",
       "  </thead>\n",
       "  <tbody>\n",
       "    <tr>\n",
       "      <th>511</th>\n",
       "      <td>[-5.63832596e-02 -1.65477812e-01 -3.60088468e-...</td>\n",
       "      <td>[-3.09125423e-01  3.04982848e-02  3.10427040e-...</td>\n",
       "    </tr>\n",
       "    <tr>\n",
       "      <th>754</th>\n",
       "      <td>[-2.32612491e-01 -3.98695976e-01  5.73695064e-...</td>\n",
       "      <td>[ 3.91753353e-02 -1.76642656e-01  2.35195711e-...</td>\n",
       "    </tr>\n",
       "    <tr>\n",
       "      <th>755</th>\n",
       "      <td>[ 7.10509494e-02 -1.76892474e-01 -3.34748238e-...</td>\n",
       "      <td>[-3.58955234e-01 -9.30487141e-02  4.59678024e-...</td>\n",
       "    </tr>\n",
       "    <tr>\n",
       "      <th>757</th>\n",
       "      <td>[-6.67135119e-02  1.27125140e-02 -2.63490349e-...</td>\n",
       "      <td>[-1.35363489e-01 -2.51481444e-01  3.27464998e-...</td>\n",
       "    </tr>\n",
       "    <tr>\n",
       "      <th>758</th>\n",
       "      <td>[-3.01667511e-01 -8.04661736e-02  3.23944420e-...</td>\n",
       "      <td>[-9.23252180e-02 -1.42964527e-01  5.24502456e-...</td>\n",
       "    </tr>\n",
       "  </tbody>\n",
       "</table>\n",
       "</div>"
      ],
      "text/plain": [
       "                                           pmhx_embeds  \\\n",
       "511  [-5.63832596e-02 -1.65477812e-01 -3.60088468e-...   \n",
       "754  [-2.32612491e-01 -3.98695976e-01  5.73695064e-...   \n",
       "755  [ 7.10509494e-02 -1.76892474e-01 -3.34748238e-...   \n",
       "757  [-6.67135119e-02  1.27125140e-02 -2.63490349e-...   \n",
       "758  [-3.01667511e-01 -8.04661736e-02  3.23944420e-...   \n",
       "\n",
       "                                      subjnotes_embeds  \n",
       "511  [-3.09125423e-01  3.04982848e-02  3.10427040e-...  \n",
       "754  [ 3.91753353e-02 -1.76642656e-01  2.35195711e-...  \n",
       "755  [-3.58955234e-01 -9.30487141e-02  4.59678024e-...  \n",
       "757  [-1.35363489e-01 -2.51481444e-01  3.27464998e-...  \n",
       "758  [-9.23252180e-02 -1.42964527e-01  5.24502456e-...  "
      ]
     },
     "execution_count": 346,
     "metadata": {},
     "output_type": "execute_result"
    }
   ],
   "source": [
    "df3.head()"
   ]
  },
  {
   "cell_type": "code",
   "execution_count": 336,
   "metadata": {},
   "outputs": [],
   "source": [
    "overlap = [x for x in  df3.index if x in balanced_data.index]"
   ]
  },
  {
   "cell_type": "code",
   "execution_count": 337,
   "metadata": {},
   "outputs": [
    {
     "data": {
      "text/plain": [
       "(13168, 13168)"
      ]
     },
     "execution_count": 337,
     "metadata": {},
     "output_type": "execute_result"
    }
   ],
   "source": [
    "len(overlap), len(balanced_data)"
   ]
  },
  {
   "cell_type": "code",
   "execution_count": 338,
   "metadata": {},
   "outputs": [
    {
     "data": {
      "text/plain": [
       "True"
      ]
     },
     "execution_count": 338,
     "metadata": {},
     "output_type": "execute_result"
    }
   ],
   "source": [
    "sorted(overlap) == sorted(list(balanced_data.index))"
   ]
  },
  {
   "cell_type": "code",
   "execution_count": 339,
   "metadata": {},
   "outputs": [],
   "source": [
    "ltd_data = df3.loc[overlap]"
   ]
  },
  {
   "cell_type": "code",
   "execution_count": 340,
   "metadata": {},
   "outputs": [
    {
     "data": {
      "text/plain": [
       "13168"
      ]
     },
     "execution_count": 340,
     "metadata": {},
     "output_type": "execute_result"
    }
   ],
   "source": [
    "len(ltd_data)"
   ]
  },
  {
   "cell_type": "code",
   "execution_count": 341,
   "metadata": {},
   "outputs": [],
   "source": [
    "balanced = pd.concat([balanced_data, ltd_data], axis = 1)"
   ]
  },
  {
   "cell_type": "code",
   "execution_count": 342,
   "metadata": {},
   "outputs": [
    {
     "data": {
      "text/html": [
       "<div>\n",
       "<style scoped>\n",
       "    .dataframe tbody tr th:only-of-type {\n",
       "        vertical-align: middle;\n",
       "    }\n",
       "\n",
       "    .dataframe tbody tr th {\n",
       "        vertical-align: top;\n",
       "    }\n",
       "\n",
       "    .dataframe thead th {\n",
       "        text-align: right;\n",
       "    }\n",
       "</style>\n",
       "<table border=\"1\" class=\"dataframe\">\n",
       "  <thead>\n",
       "    <tr style=\"text-align: right;\">\n",
       "      <th></th>\n",
       "      <th>ID</th>\n",
       "      <th>ChartNumber</th>\n",
       "      <th>EncounterNumber</th>\n",
       "      <th>TriageLevel</th>\n",
       "      <th>AgeNumber</th>\n",
       "      <th>AgeInYrs</th>\n",
       "      <th>GenderDesc</th>\n",
       "      <th>Triage Date &amp; Time</th>\n",
       "      <th>Reg Date &amp; Time</th>\n",
       "      <th>PIA Date &amp; Time</th>\n",
       "      <th>...</th>\n",
       "      <th>Do you have a new Rash?</th>\n",
       "      <th>Do you have a new onset of Vomiting/Diarrhea in the last 24 hours?</th>\n",
       "      <th>Have you travelled outside of Canada/USA in the last 3 weeks?</th>\n",
       "      <th>Have you had contact with a sick person who has travelled outside of Canada/USA in the last 3 weeks?</th>\n",
       "      <th>Have you received Health Care in another country in the last 2 years?</th>\n",
       "      <th>Do you have a new/worse cough or shortness of breath?</th>\n",
       "      <th>If so, select all countries that apply</th>\n",
       "      <th>If so, select all infectious diseases that apply</th>\n",
       "      <th>pmhx_embeds</th>\n",
       "      <th>subjnotes_embeds</th>\n",
       "    </tr>\n",
       "  </thead>\n",
       "  <tbody>\n",
       "    <tr>\n",
       "      <th>511</th>\n",
       "      <td>512</td>\n",
       "      <td>E8575246</td>\n",
       "      <td>EE000512/18</td>\n",
       "      <td>2.0</td>\n",
       "      <td>34</td>\n",
       "      <td>34.00</td>\n",
       "      <td>Male</td>\n",
       "      <td>2018-04-03 07:45:00</td>\n",
       "      <td>2018-04-03 07:53:00</td>\n",
       "      <td>2018-04-03 07:50:00</td>\n",
       "      <td>...</td>\n",
       "      <td>N</td>\n",
       "      <td>N</td>\n",
       "      <td>N</td>\n",
       "      <td>N</td>\n",
       "      <td>N</td>\n",
       "      <td>N</td>\n",
       "      <td>NaN</td>\n",
       "      <td>NaN</td>\n",
       "      <td>[-5.63832596e-02 -1.65477812e-01 -3.60088468e-...</td>\n",
       "      <td>[-3.09125423e-01  3.04982848e-02  3.10427040e-...</td>\n",
       "    </tr>\n",
       "    <tr>\n",
       "      <th>768</th>\n",
       "      <td>769</td>\n",
       "      <td>E8575368</td>\n",
       "      <td>EE000769/18</td>\n",
       "      <td>3.0</td>\n",
       "      <td>27</td>\n",
       "      <td>27.00</td>\n",
       "      <td>Male</td>\n",
       "      <td>2018-04-04 10:09:00</td>\n",
       "      <td>2018-04-04 10:15:00</td>\n",
       "      <td>2018-04-04 10:35:00</td>\n",
       "      <td>...</td>\n",
       "      <td>N</td>\n",
       "      <td>N</td>\n",
       "      <td>N</td>\n",
       "      <td>N</td>\n",
       "      <td>NaN</td>\n",
       "      <td>N</td>\n",
       "      <td>NaN</td>\n",
       "      <td>NaN</td>\n",
       "      <td>[-1.13747522e-01 -7.47767761e-02 -2.93200761e-...</td>\n",
       "      <td>[-1.44098654e-01  1.66431870e-02  4.15706724e-...</td>\n",
       "    </tr>\n",
       "    <tr>\n",
       "      <th>771</th>\n",
       "      <td>772</td>\n",
       "      <td>E8457554</td>\n",
       "      <td>EE000772/18</td>\n",
       "      <td>3.0</td>\n",
       "      <td>5</td>\n",
       "      <td>5.00</td>\n",
       "      <td>Male</td>\n",
       "      <td>2018-04-04 10:43:00</td>\n",
       "      <td>2018-04-04 10:46:00</td>\n",
       "      <td>2018-04-04 10:49:00</td>\n",
       "      <td>...</td>\n",
       "      <td>N</td>\n",
       "      <td>N</td>\n",
       "      <td>N</td>\n",
       "      <td>NaN</td>\n",
       "      <td>NaN</td>\n",
       "      <td>N</td>\n",
       "      <td>NaN</td>\n",
       "      <td>NaN</td>\n",
       "      <td>[-6.67135119e-02  1.27125140e-02 -2.63490349e-...</td>\n",
       "      <td>[-1.52750358e-01 -2.06296474e-01  1.28854990e-...</td>\n",
       "    </tr>\n",
       "    <tr>\n",
       "      <th>772</th>\n",
       "      <td>773</td>\n",
       "      <td>E5981394</td>\n",
       "      <td>EE000773/18</td>\n",
       "      <td>2.0</td>\n",
       "      <td>49</td>\n",
       "      <td>49.00</td>\n",
       "      <td>Male</td>\n",
       "      <td>2018-04-04 10:53:00</td>\n",
       "      <td>2018-04-04 10:55:00</td>\n",
       "      <td>2018-04-04 10:58:00</td>\n",
       "      <td>...</td>\n",
       "      <td>N</td>\n",
       "      <td>N</td>\n",
       "      <td>N</td>\n",
       "      <td>N</td>\n",
       "      <td>NaN</td>\n",
       "      <td>N</td>\n",
       "      <td>NaN</td>\n",
       "      <td>NaN</td>\n",
       "      <td>[-3.43568921e-01 -7.31600448e-02 -3.23061906e-...</td>\n",
       "      <td>[-2.76747316e-01 -3.73226911e-01  2.50458747e-...</td>\n",
       "    </tr>\n",
       "    <tr>\n",
       "      <th>776</th>\n",
       "      <td>777</td>\n",
       "      <td>E8575379</td>\n",
       "      <td>EE000777/18</td>\n",
       "      <td>4.0</td>\n",
       "      <td>14</td>\n",
       "      <td>1.17</td>\n",
       "      <td>Female</td>\n",
       "      <td>2018-04-04 11:21:00</td>\n",
       "      <td>2018-04-04 11:25:00</td>\n",
       "      <td>2018-04-04 11:25:00</td>\n",
       "      <td>...</td>\n",
       "      <td>N</td>\n",
       "      <td>N</td>\n",
       "      <td>N</td>\n",
       "      <td>N</td>\n",
       "      <td>NaN</td>\n",
       "      <td>N</td>\n",
       "      <td>NaN</td>\n",
       "      <td>NaN</td>\n",
       "      <td>[-6.67135119e-02  1.27125140e-02 -2.63490349e-...</td>\n",
       "      <td>[-3.30628306e-02 -2.29574412e-01  2.81088173e-...</td>\n",
       "    </tr>\n",
       "  </tbody>\n",
       "</table>\n",
       "<p>5 rows × 59 columns</p>\n",
       "</div>"
      ],
      "text/plain": [
       "      ID ChartNumber EncounterNumber  TriageLevel  AgeNumber  AgeInYrs  \\\n",
       "511  512    E8575246     EE000512/18          2.0         34     34.00   \n",
       "768  769    E8575368     EE000769/18          3.0         27     27.00   \n",
       "771  772    E8457554     EE000772/18          3.0          5      5.00   \n",
       "772  773    E5981394     EE000773/18          2.0         49     49.00   \n",
       "776  777    E8575379     EE000777/18          4.0         14      1.17   \n",
       "\n",
       "    GenderDesc   Triage Date & Time      Reg Date & Time      PIA Date & Time  \\\n",
       "511       Male  2018-04-03 07:45:00  2018-04-03 07:53:00  2018-04-03 07:50:00   \n",
       "768       Male  2018-04-04 10:09:00  2018-04-04 10:15:00  2018-04-04 10:35:00   \n",
       "771       Male  2018-04-04 10:43:00  2018-04-04 10:46:00  2018-04-04 10:49:00   \n",
       "772       Male  2018-04-04 10:53:00  2018-04-04 10:55:00  2018-04-04 10:58:00   \n",
       "776     Female  2018-04-04 11:21:00  2018-04-04 11:25:00  2018-04-04 11:25:00   \n",
       "\n",
       "                           ...                          \\\n",
       "511                        ...                           \n",
       "768                        ...                           \n",
       "771                        ...                           \n",
       "772                        ...                           \n",
       "776                        ...                           \n",
       "\n",
       "    Do you have a new Rash?  \\\n",
       "511                       N   \n",
       "768                       N   \n",
       "771                       N   \n",
       "772                       N   \n",
       "776                       N   \n",
       "\n",
       "     Do you have a new onset of Vomiting/Diarrhea in the last 24 hours?  \\\n",
       "511                                                  N                    \n",
       "768                                                  N                    \n",
       "771                                                  N                    \n",
       "772                                                  N                    \n",
       "776                                                  N                    \n",
       "\n",
       "    Have you travelled outside of Canada/USA in the last 3 weeks?  \\\n",
       "511                                                  N              \n",
       "768                                                  N              \n",
       "771                                                  N              \n",
       "772                                                  N              \n",
       "776                                                  N              \n",
       "\n",
       "    Have you had contact with a sick person who has travelled outside of Canada/USA in the last 3 weeks?  \\\n",
       "511                                                  N                                                     \n",
       "768                                                  N                                                     \n",
       "771                                                NaN                                                     \n",
       "772                                                  N                                                     \n",
       "776                                                  N                                                     \n",
       "\n",
       "     Have you received Health Care in another country in the last 2 years?  \\\n",
       "511                                                  N                       \n",
       "768                                                NaN                       \n",
       "771                                                NaN                       \n",
       "772                                                NaN                       \n",
       "776                                                NaN                       \n",
       "\n",
       "    Do you have a new/worse cough or shortness of breath?  \\\n",
       "511                                                  N      \n",
       "768                                                  N      \n",
       "771                                                  N      \n",
       "772                                                  N      \n",
       "776                                                  N      \n",
       "\n",
       "    If so, select all countries that apply  \\\n",
       "511                                    NaN   \n",
       "768                                    NaN   \n",
       "771                                    NaN   \n",
       "772                                    NaN   \n",
       "776                                    NaN   \n",
       "\n",
       "    If so, select all infectious diseases that apply  \\\n",
       "511                                              NaN   \n",
       "768                                              NaN   \n",
       "771                                              NaN   \n",
       "772                                              NaN   \n",
       "776                                              NaN   \n",
       "\n",
       "                                           pmhx_embeds  \\\n",
       "511  [-5.63832596e-02 -1.65477812e-01 -3.60088468e-...   \n",
       "768  [-1.13747522e-01 -7.47767761e-02 -2.93200761e-...   \n",
       "771  [-6.67135119e-02  1.27125140e-02 -2.63490349e-...   \n",
       "772  [-3.43568921e-01 -7.31600448e-02 -3.23061906e-...   \n",
       "776  [-6.67135119e-02  1.27125140e-02 -2.63490349e-...   \n",
       "\n",
       "                                      subjnotes_embeds  \n",
       "511  [-3.09125423e-01  3.04982848e-02  3.10427040e-...  \n",
       "768  [-1.44098654e-01  1.66431870e-02  4.15706724e-...  \n",
       "771  [-1.52750358e-01 -2.06296474e-01  1.28854990e-...  \n",
       "772  [-2.76747316e-01 -3.73226911e-01  2.50458747e-...  \n",
       "776  [-3.30628306e-02 -2.29574412e-01  2.81088173e-...  \n",
       "\n",
       "[5 rows x 59 columns]"
      ]
     },
     "execution_count": 342,
     "metadata": {},
     "output_type": "execute_result"
    }
   ],
   "source": [
    "balanced.head()"
   ]
  },
  {
   "cell_type": "code",
   "execution_count": 343,
   "metadata": {},
   "outputs": [
    {
     "data": {
      "text/plain": [
       "Index(['ID', 'ChartNumber', 'EncounterNumber', 'TriageLevel', 'AgeNumber',\n",
       "       'AgeInYrs', 'GenderDesc', 'Triage Date & Time', 'Reg Date & Time',\n",
       "       'PIA Date & Time', 'Disposition Date & Time', 'DischargeDisposition',\n",
       "       'DischargeDispositionDesc', 'Left ED Date & Time',\n",
       "       'PresentingComplaint', 'PresentingComplaintDesc', 'MainDiagnosisCode',\n",
       "       'MainDiagnosisCodeDesc', 'AdmitLocation', 'PatientService',\n",
       "       'SubjectiveNotes', 'InfectionControlScreening', 'MedicalHistory',\n",
       "       'BloodPressure_LastEDReading', 'O2Saturation_LastEDReading',\n",
       "       'Pulse_LastEDReading', 'Temperature_LastEDReading', 'o2sat', 'pulse',\n",
       "       'temp', 'CleanSubjectiveNotes', 'BP', 'systolic', 'diastolic', 'Gender',\n",
       "       'outcome', 'target', 'service', 'target2', 'discharge', 'target3',\n",
       "       'dispo', 'target4', 'ICUvsother', 'target5', 'pmhx', 'num_comorbids',\n",
       "       'Are you feeling feverish or have had shakes or chills in the last 24 hours?',\n",
       "       'Have you ever been isolated/required isolation for an infectious disease when receiving care in a healthcare setting?',\n",
       "       'Do you have a new Rash?',\n",
       "       'Do you have a new onset of Vomiting/Diarrhea in the last 24 hours?',\n",
       "       'Have you travelled outside of Canada/USA in the last 3 weeks?',\n",
       "       'Have you had contact with a sick person who has travelled outside of Canada/USA in the last 3 weeks?',\n",
       "       'Have you received Health Care in another country in the last 2 years?',\n",
       "       'Do you have a new/worse cough or shortness of breath?',\n",
       "       'If so, select all countries that apply',\n",
       "       'If so, select all infectious diseases that apply', 'pmhx_embeds',\n",
       "       'subjnotes_embeds'],\n",
       "      dtype='object')"
      ]
     },
     "execution_count": 343,
     "metadata": {},
     "output_type": "execute_result"
    }
   ],
   "source": [
    "balanced.columns"
   ]
  },
  {
   "cell_type": "code",
   "execution_count": 344,
   "metadata": {},
   "outputs": [
    {
     "data": {
      "text/plain": [
       "(13168, 59)"
      ]
     },
     "execution_count": 344,
     "metadata": {},
     "output_type": "execute_result"
    }
   ],
   "source": [
    "balanced.shape"
   ]
  },
  {
   "cell_type": "code",
   "execution_count": 398,
   "metadata": {},
   "outputs": [],
   "source": [
    "subj = [np.array(s[1:-1].split()) for s in balanced.subjnotes_embeds]"
   ]
  },
  {
   "cell_type": "code",
   "execution_count": 399,
   "metadata": {},
   "outputs": [
    {
     "ename": "ValueError",
     "evalue": "setting an array element with a sequence.",
     "output_type": "error",
     "traceback": [
      "\u001b[0;31m---------------------------------------------------------------------------\u001b[0m",
      "\u001b[0;31mValueError\u001b[0m                                Traceback (most recent call last)",
      "\u001b[0;32m<ipython-input-399-64ea20b5236e>\u001b[0m in \u001b[0;36m<module>\u001b[0;34m()\u001b[0m\n\u001b[0;32m----> 1\u001b[0;31m \u001b[0msubj\u001b[0m \u001b[0;34m=\u001b[0m \u001b[0mnp\u001b[0m\u001b[0;34m.\u001b[0m\u001b[0marray\u001b[0m\u001b[0;34m(\u001b[0m\u001b[0msubj\u001b[0m\u001b[0;34m)\u001b[0m\u001b[0;34m.\u001b[0m\u001b[0mastype\u001b[0m\u001b[0;34m(\u001b[0m\u001b[0mnp\u001b[0m\u001b[0;34m.\u001b[0m\u001b[0mfloat32\u001b[0m\u001b[0;34m)\u001b[0m\u001b[0;34m\u001b[0m\u001b[0m\n\u001b[0m",
      "\u001b[0;31mValueError\u001b[0m: setting an array element with a sequence."
     ]
    }
   ],
   "source": [
    "subj = np.array(subj).astype(np.float32)"
   ]
  },
  {
   "cell_type": "code",
   "execution_count": 396,
   "metadata": {},
   "outputs": [
    {
     "data": {
      "text/plain": [
       "(numpy.ndarray, numpy.ndarray, numpy.str_)"
      ]
     },
     "execution_count": 396,
     "metadata": {},
     "output_type": "execute_result"
    }
   ],
   "source": [
    "type(subj), type(subj[0]), type(subj[0][0])"
   ]
  },
  {
   "cell_type": "code",
   "execution_count": 397,
   "metadata": {},
   "outputs": [
    {
     "data": {
      "text/plain": [
       "-0.309125423"
      ]
     },
     "execution_count": 397,
     "metadata": {},
     "output_type": "execute_result"
    }
   ],
   "source": [
    "float(subj[0][0])"
   ]
  },
  {
   "cell_type": "code",
   "execution_count": 391,
   "metadata": {},
   "outputs": [
    {
     "ename": "ValueError",
     "evalue": "setting an array element with a sequence.",
     "output_type": "error",
     "traceback": [
      "\u001b[0;31m---------------------------------------------------------------------------\u001b[0m",
      "\u001b[0;31mValueError\u001b[0m                                Traceback (most recent call last)",
      "\u001b[0;32m<ipython-input-391-995022a524e1>\u001b[0m in \u001b[0;36m<module>\u001b[0;34m()\u001b[0m\n\u001b[1;32m      1\u001b[0m \u001b[0;31m#turning the embedding columns into arrays along the lines of what I created bedore\u001b[0m\u001b[0;34m\u001b[0m\u001b[0;34m\u001b[0m\u001b[0m\n\u001b[1;32m      2\u001b[0m \u001b[0;34m\u001b[0m\u001b[0m\n\u001b[0;32m----> 3\u001b[0;31m \u001b[0msubj\u001b[0m \u001b[0;34m=\u001b[0m \u001b[0mnp\u001b[0m\u001b[0;34m.\u001b[0m\u001b[0marray\u001b[0m\u001b[0;34m(\u001b[0m\u001b[0;34m[\u001b[0m\u001b[0ms\u001b[0m\u001b[0;34m[\u001b[0m\u001b[0;36m1\u001b[0m\u001b[0;34m:\u001b[0m\u001b[0;34m-\u001b[0m\u001b[0;36m1\u001b[0m\u001b[0;34m]\u001b[0m\u001b[0;34m.\u001b[0m\u001b[0msplit\u001b[0m\u001b[0;34m(\u001b[0m\u001b[0;34m)\u001b[0m \u001b[0;32mfor\u001b[0m \u001b[0ms\u001b[0m \u001b[0;32min\u001b[0m \u001b[0mbalanced\u001b[0m\u001b[0;34m.\u001b[0m\u001b[0msubjnotes_embeds\u001b[0m\u001b[0;34m]\u001b[0m\u001b[0;34m)\u001b[0m\u001b[0;34m.\u001b[0m\u001b[0mastype\u001b[0m\u001b[0;34m(\u001b[0m\u001b[0mnp\u001b[0m\u001b[0;34m.\u001b[0m\u001b[0mfloat32\u001b[0m\u001b[0;34m)\u001b[0m\u001b[0;34m\u001b[0m\u001b[0m\n\u001b[0m\u001b[1;32m      4\u001b[0m \u001b[0mmedhx\u001b[0m \u001b[0;34m=\u001b[0m \u001b[0mnp\u001b[0m\u001b[0;34m.\u001b[0m\u001b[0marray\u001b[0m\u001b[0;34m(\u001b[0m\u001b[0;34m[\u001b[0m\u001b[0ms\u001b[0m\u001b[0;34m[\u001b[0m\u001b[0;36m1\u001b[0m\u001b[0;34m:\u001b[0m\u001b[0;34m-\u001b[0m\u001b[0;36m1\u001b[0m\u001b[0;34m]\u001b[0m\u001b[0;34m.\u001b[0m\u001b[0msplit\u001b[0m\u001b[0;34m(\u001b[0m\u001b[0;34m)\u001b[0m \u001b[0;32mfor\u001b[0m \u001b[0ms\u001b[0m \u001b[0;32min\u001b[0m \u001b[0mbalanced\u001b[0m\u001b[0;34m.\u001b[0m\u001b[0mpmhx_embeds\u001b[0m\u001b[0;34m]\u001b[0m\u001b[0;34m)\u001b[0m\u001b[0;34m.\u001b[0m\u001b[0mastype\u001b[0m\u001b[0;34m(\u001b[0m\u001b[0mnp\u001b[0m\u001b[0;34m.\u001b[0m\u001b[0mfloat32\u001b[0m\u001b[0;34m)\u001b[0m\u001b[0;34m\u001b[0m\u001b[0m\n",
      "\u001b[0;31mValueError\u001b[0m: setting an array element with a sequence."
     ]
    }
   ],
   "source": [
    "#turning the embedding columns into arrays along the lines of what I created bedore\n",
    "\n",
    "subj = np.array([s[1:-1].split() for s in balanced.subjnotes_embeds]).astype(np.float32)\n",
    "medhx = np.array([s[1:-1].split() for s in balanced.pmhx_embeds]).astype(np.float32)"
   ]
  },
  {
   "cell_type": "code",
   "execution_count": 365,
   "metadata": {},
   "outputs": [
    {
     "data": {
      "text/plain": [
       "(dtype('O'), dtype('O'))"
      ]
     },
     "execution_count": 365,
     "metadata": {},
     "output_type": "execute_result"
    }
   ],
   "source": [
    "subj.dtype, medhx.dtype"
   ]
  },
  {
   "cell_type": "code",
   "execution_count": 102,
   "metadata": {},
   "outputs": [],
   "source": [
    "#each of these will start as a list of relevant columns and be handled differently\n",
    "cont_vars = ['AgeInYrs', 'o2sat', 'temp', 'pulse', 'systolic', 'diastolic', 'num_comorbids']\n",
    "cat_vars = ['TriageLevel', 'Gender', 'PresentingComplaint']"
   ]
  },
  {
   "cell_type": "code",
   "execution_count": 120,
   "metadata": {},
   "outputs": [
    {
     "data": {
      "text/plain": [
       "Counter({2.0: 5504, 3.0: 6716, 4.0: 777, 5.0: 114, 1.0: 57})"
      ]
     },
     "execution_count": 120,
     "metadata": {},
     "output_type": "execute_result"
    }
   ],
   "source": [
    "#need to get rid of nan values in TriageLevel column\n",
    "balanced['TriageLevel'].fillna(balanced['TriageLevel'].median(), inplace = True)\n",
    "Counter(balanced['TriageLevel'])"
   ]
  },
  {
   "cell_type": "code",
   "execution_count": 103,
   "metadata": {},
   "outputs": [],
   "source": [
    "#making the labels\n",
    "labels = balanced.target3.values"
   ]
  },
  {
   "cell_type": "code",
   "execution_count": 104,
   "metadata": {},
   "outputs": [
    {
     "data": {
      "text/plain": [
       "Counter({1: 6584, 0: 6584})"
      ]
     },
     "execution_count": 104,
     "metadata": {},
     "output_type": "execute_result"
    }
   ],
   "source": [
    "Counter(labels)"
   ]
  },
  {
   "cell_type": "code",
   "execution_count": 105,
   "metadata": {},
   "outputs": [],
   "source": [
    "def normalize(df, columns):\n",
    "    \"Compute the means and stds of columns to normalize them.\"\n",
    "    new_cols = []\n",
    "    for n in columns:\n",
    "        print (n)\n",
    "        mn = df[n].mean()\n",
    "        print (mn)\n",
    "        std = df[n].std()\n",
    "        print (std)\n",
    "        df[n + '_norm'] = (df[n]-mn) / (1e-7 + std)\n",
    "        new_cols.append(n+ '_norm')\n",
    "            \n",
    "            \n",
    "    for n in new_cols:\n",
    "        print (n)\n",
    "        if pd.isnull(df[n]).sum() != 0:\n",
    "            print (pd.isnull(df[n]).sum())\n",
    "            filler = df[n].median()\n",
    "            print (filler)\n",
    "            df[n] = df[n].fillna(filler)\n",
    "    return new_cols"
   ]
  },
  {
   "cell_type": "code",
   "execution_count": 215,
   "metadata": {},
   "outputs": [],
   "source": [
    "def normalize2(df, columns):\n",
    "    \"Compute the means and stds of columns to normalize them.\"\n",
    "    new_cols = []\n",
    "    for n in columns:\n",
    "        #print (n)\n",
    "        mn = df[n].mean()\n",
    "        #print (mn)\n",
    "        std = df[n].std()\n",
    "        #print (std)\n",
    "        med = df[n].median()\n",
    "        #print (med)\n",
    "        df[n].fillna(med, inplace = True)\n",
    "        norm  = [(item-mn)/(1e-7 + std) for item in df[n]]\n",
    "        df[n + '_norm'] = norm\n",
    "        new_cols.append(n + '_norm')\n",
    "\n",
    "    return new_cols"
   ]
  },
  {
   "cell_type": "code",
   "execution_count": 216,
   "metadata": {
    "scrolled": true
   },
   "outputs": [],
   "source": [
    "new_cols = normalize2(balanced, cont_vars)"
   ]
  },
  {
   "cell_type": "code",
   "execution_count": 219,
   "metadata": {},
   "outputs": [],
   "source": [
    "cont = np.array(balanced[new_cols]).astype(np.float32)"
   ]
  },
  {
   "cell_type": "code",
   "execution_count": 220,
   "metadata": {},
   "outputs": [
    {
     "data": {
      "text/plain": [
       "(13168, 7)"
      ]
     },
     "execution_count": 220,
     "metadata": {},
     "output_type": "execute_result"
    }
   ],
   "source": [
    "cont.shape"
   ]
  },
  {
   "cell_type": "code",
   "execution_count": 221,
   "metadata": {},
   "outputs": [
    {
     "data": {
      "text/plain": [
       "[5, 2, 144]"
      ]
     },
     "execution_count": 221,
     "metadata": {},
     "output_type": "execute_result"
    }
   ],
   "source": [
    "class_lengths = [len(set(balanced[cat])) for cat in cat_vars]\n",
    "class_lengths"
   ]
  },
  {
   "cell_type": "code",
   "execution_count": 222,
   "metadata": {},
   "outputs": [],
   "source": [
    "numerical_cat_data = []\n",
    "for cat in cat_vars:\n",
    "    #first make a dictionary mapping original name to a number\n",
    "    cat_to_num  = {cat:i for i,cat in enumerate(list(set(balanced[cat])))}\n",
    "    #then replace the categorgal label with numbers and add to output list\n",
    "    numerical_cat_data.append([cat_to_num[item] for item in balanced[cat]])"
   ]
  },
  {
   "cell_type": "code",
   "execution_count": 223,
   "metadata": {},
   "outputs": [
    {
     "data": {
      "text/plain": [
       "(13168, 3)"
      ]
     },
     "execution_count": 223,
     "metadata": {},
     "output_type": "execute_result"
    }
   ],
   "source": [
    "#this makes a vertical array out of the categorical data\n",
    "cats_array = np.vstack(np.array(numerical_cat_data).astype(int)).transpose(); cats_array.shape"
   ]
  },
  {
   "cell_type": "code",
   "execution_count": 224,
   "metadata": {},
   "outputs": [
    {
     "data": {
      "text/plain": [
       "[(5, 4), (2, 2), (144, 26)]"
      ]
     },
     "execution_count": 224,
     "metadata": {},
     "output_type": "execute_result"
    }
   ],
   "source": [
    "#creating a set of embedding sizes for each categorical variable\n",
    "emb_szs = [(length, min(600, round(1.6 * length **0.56))) for length in class_lengths]\n",
    "emb_szs"
   ]
  },
  {
   "cell_type": "code",
   "execution_count": 225,
   "metadata": {},
   "outputs": [],
   "source": [
    "train_subj, validation_subj = train_test_split(subj, random_state = 42, test_size=0.1)\n",
    "train_medhx, validation_medhx = train_test_split(medhx, random_state = 42, test_size=0.1)\n",
    "train_cont, validation_cont = train_test_split(cont, random_state = 42, test_size=0.1)\n",
    "train_cats, validation_cats = train_test_split(cats_array, random_state = 42, test_size=0.1)\n",
    "train_labels, validation_labels = train_test_split(labels, random_state = 42, test_size=0.1)"
   ]
  },
  {
   "cell_type": "code",
   "execution_count": 226,
   "metadata": {},
   "outputs": [],
   "source": [
    "train_subj = torch.tensor(train_subj)\n",
    "validation_subj = torch.tensor(validation_subj)\n",
    "train_medhx = torch.tensor(train_medhx)\n",
    "validation_medhx = torch.tensor(validation_medhx)\n",
    "train_cont = torch.tensor(train_cont)\n",
    "validation_cont = torch.tensor(validation_cont)\n",
    "train_cats = torch.tensor(train_cats)\n",
    "validation_cats = torch.tensor(validation_cats)\n",
    "train_labels = torch.tensor(train_labels)\n",
    "validation_labels = torch.tensor(validation_labels)"
   ]
  },
  {
   "cell_type": "code",
   "execution_count": 227,
   "metadata": {},
   "outputs": [],
   "source": [
    "batch_size = 4\n",
    "\n",
    "train_data = TensorDataset(train_subj, train_medhx, train_cont,train_cats,train_labels)\n",
    "trainloader = DataLoader(train_data, batch_size=batch_size, shuffle = True)\n",
    "\n",
    "valid_data = TensorDataset(validation_subj, validation_medhx, validation_cont, validation_cats, validation_labels)\n",
    "validloader = DataLoader(valid_data, batch_size=batch_size, shuffle = True)"
   ]
  },
  {
   "cell_type": "code",
   "execution_count": 247,
   "metadata": {},
   "outputs": [],
   "source": [
    "#redefining training loop\n",
    "\n",
    "def train_model3(model, lr = 1e-3, epochs = 10, loss_func = nn.CrossEntropyLoss(), batch_size = 4):\n",
    "    optimizer = Adam(model.parameters(), lr = lr)\n",
    "    running_train_loss = []\n",
    "    running_valid_loss = []\n",
    "    for epoch_num in range(epochs):\n",
    "        start_time = time.time()\n",
    "        model.train()\n",
    "        train_loss = 0\n",
    "        for step_num, batch_data in enumerate(trainloader):\n",
    "        \n",
    "            cont_var, subj_notes, medhx, cat_var, labels = tuple(t.to(device) for t in batch_data)\n",
    "\n",
    "            optimizer.zero_grad()\n",
    "        \n",
    "            logits = model(cont_var, subj_notes, medhx, cat_var)\n",
    "            batch_loss = loss_func(logits, labels)\n",
    "            train_loss += batch_loss.item()\n",
    "        \n",
    "            batch_loss.backward()\n",
    "        \n",
    "\n",
    "            clip_grad_norm_(parameters=model.parameters(), max_norm=1.0)\n",
    "        \n",
    "            optimizer.step()\n",
    "        \n",
    "        #check against validation set\n",
    "        model.eval()\n",
    "        valid_loss = 0\n",
    "        for batch_data in validloader:\n",
    "            \n",
    "            cont_var, subj_notes, medhx, cat_var, labels = tuple(t.to(device) for t in batch_data)\n",
    "            \n",
    "            logits = model(cont_var, subj_notes, medhx, cat_var)\n",
    "            \n",
    "            batch_loss = loss_func(logits, labels)\n",
    "            \n",
    "            valid_loss += batch_loss.item()\n",
    "            \n",
    "        end_time = time.time()\n",
    "        print('Epoch {}:'.format(epoch_num + 1),' {0:.3f} sec'.format(end_time - start_time))\n",
    "        #print(\"\\r\" + \"{0}/{1} loss: {2} \".format(step_num, len(train_data) / batch_size, train_loss / (step_num + 1)))\n",
    "        print ('Training loss = {0:.4f}'.format(train_loss/len(trainloader)))\n",
    "        print ('Validation loss = {0:.4f}'.format(valid_loss/len(validloader)))\n",
    "        print ()\n",
    "        \n",
    "        running_train_loss.append(train_loss/len(trainloader))\n",
    "        running_valid_loss.append(valid_loss/len(validloader))\n",
    "        \n",
    "\n",
    "    return running_train_loss, running_valid_loss"
   ]
  },
  {
   "cell_type": "code",
   "execution_count": 248,
   "metadata": {},
   "outputs": [],
   "source": [
    "class Net3(nn.Module):\n",
    "    def __init__(self, emb_szs):\n",
    "        super(Net3, self).__init__()\n",
    "        \n",
    "        #first create the embedding layers for each of the categorical variables\n",
    "        self.embed_layers = nn.ModuleList([nn.Embedding(ni, nf) for ni,nf in emb_szs])\n",
    "        n_emb = sum(e.embedding_dim for e in self.embed_layers)\n",
    "        \n",
    "        #define dropouts\n",
    "        self.emb_drop = nn.Dropout(0.5)\n",
    "        self.lin_drop = nn.Dropout(0.5)\n",
    "        \n",
    "        #define batchnorms\n",
    "        self.nlp1_bn = nn.BatchNorm1d(768)\n",
    "        self.nlp2_bn = nn.BatchNorm1d(768)\n",
    "        self.comb_bn = nn.BatchNorm1d(37)\n",
    "        self.comb_bn2 = nn.BatchNorm1d(200)\n",
    "        \n",
    "        self.linear_subjective = nn.Linear(768,10)  \n",
    "        self.linear_medhx = nn.Linear(768, 10)\n",
    "        self.linear_cat = nn.Linear(n_emb,10)\n",
    "        self.linear_combined1 = nn.Linear(37, 200)  #needed to add one because I'm now using 7 cont vars\n",
    "        self.linear_combined2 = nn.Linear(200,100)\n",
    "        self.out = nn.Linear(100,2)\n",
    "\n",
    "    def forward(self, subj,medhx,cont,cat_var):\n",
    "        #first we run each BERT vector through a linear layer and activation\n",
    "        nlp1 = F.relu(self.linear_subjective(self.lin_drop(subj)))\n",
    "        nlp2 = F.relu(self.linear_medhx(self.lin_drop(medhx)))\n",
    "        \n",
    "        #now we pass each categorical variable through an embedding layer, combine output and pass through\n",
    "        #a linear layer with activation\n",
    "        embeds = [e(cat_var[:,i]) for i,e in enumerate(self.embed_layers)]\n",
    "        embeds = torch.cat(embeds, 1)\n",
    "        embeds = self.linear_cat(embeds)\n",
    "        embeds = self.emb_drop(embeds)\n",
    "        #embeds = F.relu(self.linear_cat(embeds))  #they dont have an activation after the embeddings in fast.ai\n",
    "        \n",
    "        #now we combine all four sources of input and pass through a layer with activation\n",
    "        combined = torch.cat((nlp1,nlp2,cont,embeds), axis = 1)\n",
    "        combined_norm = self.lin_drop(self.comb_bn(combined))\n",
    "        x = F.relu(self.linear_combined1(combined_norm))\n",
    "        x = F.relu(self.linear_combined2(self.lin_drop(self.comb_bn2(x))))\n",
    "        \n",
    "        #compute logits\n",
    "        x = self.out(x)\n",
    "        \n",
    "        return x\n",
    "\n",
    "\n",
    "\n",
    "\n"
   ]
  },
  {
   "cell_type": "code",
   "execution_count": 249,
   "metadata": {},
   "outputs": [],
   "source": [
    "net = Net3(emb_szs)"
   ]
  },
  {
   "cell_type": "code",
   "execution_count": 250,
   "metadata": {},
   "outputs": [],
   "source": [
    "x1,x2,x3,x4,x5 = next(iter(trainloader))"
   ]
  },
  {
   "cell_type": "code",
   "execution_count": 251,
   "metadata": {},
   "outputs": [
    {
     "data": {
      "text/plain": [
       "(torch.Size([4, 768]),\n",
       " torch.Size([4, 768]),\n",
       " torch.Size([4, 7]),\n",
       " torch.Size([4, 3]),\n",
       " torch.Size([4]))"
      ]
     },
     "execution_count": 251,
     "metadata": {},
     "output_type": "execute_result"
    }
   ],
   "source": [
    "x1.shape, x2.shape, x3.shape, x4.shape, x5.shape"
   ]
  },
  {
   "cell_type": "code",
   "execution_count": 252,
   "metadata": {
    "scrolled": false
   },
   "outputs": [
    {
     "data": {
      "text/plain": [
       "tensor([[-0.2109,  0.1199],\n",
       "        [-0.6509,  0.4075],\n",
       "        [-0.4035,  0.1352],\n",
       "        [ 0.0042,  0.1763]], grad_fn=<AddmmBackward>)"
      ]
     },
     "execution_count": 252,
     "metadata": {},
     "output_type": "execute_result"
    }
   ],
   "source": [
    "net(x1,x2,x3,x4)"
   ]
  },
  {
   "cell_type": "code",
   "execution_count": 257,
   "metadata": {},
   "outputs": [
    {
     "name": "stdout",
     "output_type": "stream",
     "text": [
      "Epoch 1:  14.948 sec\n",
      "Training loss = 0.6694\n",
      "Validation loss = 0.6087\n",
      "\n",
      "Epoch 2:  14.730 sec\n",
      "Training loss = 0.6584\n",
      "Validation loss = 0.5833\n",
      "\n",
      "Epoch 3:  14.717 sec\n",
      "Training loss = 0.6410\n",
      "Validation loss = 0.5609\n",
      "\n",
      "Epoch 4:  14.735 sec\n",
      "Training loss = 0.6349\n",
      "Validation loss = 0.5580\n",
      "\n",
      "Epoch 5:  14.779 sec\n",
      "Training loss = 0.6335\n",
      "Validation loss = 0.5449\n",
      "\n",
      "Epoch 6:  14.800 sec\n",
      "Training loss = 0.6289\n",
      "Validation loss = 0.5465\n",
      "\n",
      "Epoch 7:  14.809 sec\n",
      "Training loss = 0.6252\n",
      "Validation loss = 0.5497\n",
      "\n",
      "Epoch 8:  14.903 sec\n",
      "Training loss = 0.6254\n",
      "Validation loss = 0.5285\n",
      "\n",
      "Epoch 9:  14.941 sec\n",
      "Training loss = 0.6215\n",
      "Validation loss = 0.5244\n",
      "\n",
      "Epoch 10:  14.889 sec\n",
      "Training loss = 0.6190\n",
      "Validation loss = 0.5327\n",
      "\n",
      "Epoch 11:  14.836 sec\n",
      "Training loss = 0.6209\n",
      "Validation loss = 0.5342\n",
      "\n",
      "Epoch 12:  14.821 sec\n",
      "Training loss = 0.6165\n",
      "Validation loss = 0.5339\n",
      "\n",
      "Epoch 13:  14.835 sec\n",
      "Training loss = 0.6104\n",
      "Validation loss = 0.5498\n",
      "\n",
      "Epoch 14:  14.886 sec\n",
      "Training loss = 0.6142\n",
      "Validation loss = 0.5221\n",
      "\n",
      "Epoch 15:  14.818 sec\n",
      "Training loss = 0.6161\n",
      "Validation loss = 0.5337\n",
      "\n"
     ]
    }
   ],
   "source": [
    "net = Net3(emb_szs)\n",
    "tloss, vloss = train_model3(net, lr = 1e-4,epochs = 15)"
   ]
  },
  {
   "cell_type": "code",
   "execution_count": 258,
   "metadata": {},
   "outputs": [],
   "source": [
    "def show_losses(tloss = tloss, vloss = vloss):\n",
    "    plt.plot(tloss,'b', label = 'train')\n",
    "    plt.plot(vloss,'g', label = 'valid')\n",
    "    plt.legend()\n",
    "    plt.show()"
   ]
  },
  {
   "cell_type": "code",
   "execution_count": 259,
   "metadata": {
    "scrolled": true
   },
   "outputs": [
    {
     "data": {
      "image/png": "[encoded data removed]",
      "text/plain": [
       "<Figure size 432x288 with 1 Axes>"
      ]
     },
     "metadata": {},
     "output_type": "display_data"
    }
   ],
   "source": [
    "show_losses()"
   ]
  },
  {
   "cell_type": "code",
   "execution_count": 260,
   "metadata": {},
   "outputs": [
    {
     "name": "stdout",
     "output_type": "stream",
     "text": [
      "Classification Report:\n",
      "             precision    recall  f1-score   support\n",
      "\n",
      "  discharge       0.66      0.81      0.73       538\n",
      "      admit       0.85      0.72      0.77       779\n",
      "\n",
      "avg / total       0.77      0.75      0.76      1317\n",
      "\n",
      "\n",
      "Confusion Matrix:\n",
      "[[436 102]\n",
      " [222 557]]\n",
      "\n",
      "accuracy =  75.39863325740319 %\n"
     ]
    }
   ],
   "source": [
    "#let's do some inference\n",
    "net.eval()\n",
    "pred_matrix = []\n",
    "label_matrix = []\n",
    "\n",
    "for batch_data in validloader:\n",
    "            \n",
    "    cont_var, subj_notes, medhx, cat_var, labels = tuple(t.to(device) for t in batch_data)\n",
    "            \n",
    "    logits = net(cont_var, subj_notes, medhx, cat_var)\n",
    "        \n",
    "    preds = np.argmax(logits.detach().numpy(), axis = 1)\n",
    "    pred_matrix.append(preds)\n",
    "    \n",
    "    labels = labels.detach().numpy()\n",
    "    label_matrix.append(labels)\n",
    "\n",
    "y_pred = [item for sublist in pred_matrix for item in sublist]\n",
    "y_true = [item for sublist in label_matrix for item in sublist]\n",
    "\n",
    "classification = metrics.classification_report(y_pred,y_true, target_names = ['discharge', 'admit'])\n",
    "conf = metrics.confusion_matrix(y_pred,y_true)\n",
    "acc = metrics.accuracy_score(y_pred,y_true)\n",
    "print ('Classification Report:')\n",
    "print(classification)\n",
    "print ()\n",
    "print('Confusion Matrix:')\n",
    "print (conf)\n",
    "print()\n",
    "print ('accuracy = ', acc *100, '%')"
   ]
  },
  {
   "cell_type": "code",
   "execution_count": 261,
   "metadata": {},
   "outputs": [
    {
     "name": "stdout",
     "output_type": "stream",
     "text": [
      "Epoch 1:  16.640 sec\n",
      "Training loss = 0.6764\n",
      "Validation loss = 0.5642\n",
      "\n",
      "Epoch 2:  18.726 sec\n",
      "Training loss = 0.6587\n",
      "Validation loss = 0.5451\n",
      "\n",
      "Epoch 3:  16.712 sec\n",
      "Training loss = 0.6507\n",
      "Validation loss = 0.5242\n",
      "\n",
      "Epoch 4:  17.229 sec\n",
      "Training loss = 0.6406\n",
      "Validation loss = 0.5255\n",
      "\n",
      "Epoch 5:  17.236 sec\n",
      "Training loss = 0.6415\n",
      "Validation loss = 0.5041\n",
      "\n",
      "Epoch 6:  17.611 sec\n",
      "Training loss = 0.6347\n",
      "Validation loss = 0.6757\n",
      "\n",
      "Epoch 7:  15.782 sec\n",
      "Training loss = 0.6375\n",
      "Validation loss = 0.5069\n",
      "\n",
      "Epoch 8:  15.898 sec\n",
      "Training loss = 0.6282\n",
      "Validation loss = 0.4942\n",
      "\n",
      "Epoch 9:  17.622 sec\n",
      "Training loss = 0.6352\n",
      "Validation loss = 0.4929\n",
      "\n",
      "Epoch 10:  14.832 sec\n",
      "Training loss = 0.6303\n",
      "Validation loss = 0.4928\n",
      "\n",
      "Epoch 11:  14.572 sec\n",
      "Training loss = 0.6278\n",
      "Validation loss = 0.4886\n",
      "\n",
      "Epoch 12:  14.626 sec\n",
      "Training loss = 0.6215\n",
      "Validation loss = 0.5040\n",
      "\n",
      "Epoch 13:  14.745 sec\n",
      "Training loss = 0.6262\n",
      "Validation loss = 0.4947\n",
      "\n",
      "Epoch 14:  14.795 sec\n",
      "Training loss = 0.6274\n",
      "Validation loss = 0.5053\n",
      "\n",
      "Epoch 15:  14.756 sec\n",
      "Training loss = 0.6218\n",
      "Validation loss = 0.4861\n",
      "\n"
     ]
    },
    {
     "data": {
      "image/png": "[encoded data removed]",
      "text/plain": [
       "<Figure size 432x288 with 1 Axes>"
      ]
     },
     "metadata": {},
     "output_type": "display_data"
    }
   ],
   "source": [
    "net = Net3(emb_szs)\n",
    "tloss, vloss = train_model3(net, lr = 1e-3,epochs = 15)\n",
    "\n",
    "show_losses()"
   ]
  },
  {
   "cell_type": "code",
   "execution_count": 262,
   "metadata": {},
   "outputs": [
    {
     "name": "stdout",
     "output_type": "stream",
     "text": [
      "Classification Report:\n",
      "             precision    recall  f1-score   support\n",
      "\n",
      "  discharge       0.78      0.76      0.77       676\n",
      "      admit       0.75      0.78      0.76       641\n",
      "\n",
      "avg / total       0.77      0.77      0.77      1317\n",
      "\n",
      "\n",
      "Confusion Matrix:\n",
      "[[514 162]\n",
      " [144 497]]\n",
      "\n",
      "accuracy =  76.76537585421413 %\n"
     ]
    }
   ],
   "source": [
    "\n",
    "#let's do some inference\n",
    "net.eval()\n",
    "pred_matrix = []\n",
    "label_matrix = []\n",
    "\n",
    "for batch_data in validloader:\n",
    "            \n",
    "    cont_var, subj_notes, medhx, cat_var, labels = tuple(t.to(device) for t in batch_data)\n",
    "            \n",
    "    logits = net(cont_var, subj_notes, medhx, cat_var)\n",
    "        \n",
    "    preds = np.argmax(logits.detach().numpy(), axis = 1)\n",
    "    pred_matrix.append(preds)\n",
    "    \n",
    "    labels = labels.detach().numpy()\n",
    "    label_matrix.append(labels)\n",
    "\n",
    "y_pred = [item for sublist in pred_matrix for item in sublist]\n",
    "y_true = [item for sublist in label_matrix for item in sublist]\n",
    "\n",
    "classification = metrics.classification_report(y_pred,y_true, target_names = ['discharge', 'admit'])\n",
    "conf = metrics.confusion_matrix(y_pred,y_true)\n",
    "acc = metrics.accuracy_score(y_pred,y_true)\n",
    "print ('Classification Report:')\n",
    "print(classification)\n",
    "print ()\n",
    "print('Confusion Matrix:')\n",
    "print (conf)\n",
    "print()\n",
    "print ('accuracy = ', acc *100, '%')"
   ]
  },
  {
   "cell_type": "markdown",
   "metadata": {
    "heading_collapsed": true
   },
   "source": [
    "## now going to do it again with infection screen data"
   ]
  },
  {
   "cell_type": "code",
   "execution_count": 282,
   "metadata": {
    "hidden": true
   },
   "outputs": [],
   "source": [
    "df1 = pd.read_csv(data_path + '/pmhx_embeds.csv', header = None, index_col = 0)\n",
    "df2 = pd.read_csv(data_path + '/subjnote_embeds.csv', header = None, index_col = 0)\n",
    "balanced_data = pd.read_csv(data_path + '/balanced_admit_dc_nlp_data.csv', index_col = 0)"
   ]
  },
  {
   "cell_type": "code",
   "execution_count": 283,
   "metadata": {
    "hidden": true
   },
   "outputs": [
    {
     "data": {
      "text/plain": [
       "Index(['ID', 'ChartNumber', 'EncounterNumber', 'TriageLevel', 'AgeNumber',\n",
       "       'AgeInYrs', 'GenderDesc', 'Triage Date & Time', 'Reg Date & Time',\n",
       "       'PIA Date & Time', 'Disposition Date & Time', 'DischargeDisposition',\n",
       "       'DischargeDispositionDesc', 'Left ED Date & Time',\n",
       "       'PresentingComplaint', 'PresentingComplaintDesc', 'MainDiagnosisCode',\n",
       "       'MainDiagnosisCodeDesc', 'AdmitLocation', 'PatientService',\n",
       "       'SubjectiveNotes', 'InfectionControlScreening', 'MedicalHistory',\n",
       "       'BloodPressure_LastEDReading', 'O2Saturation_LastEDReading',\n",
       "       'Pulse_LastEDReading', 'Temperature_LastEDReading', 'o2sat', 'pulse',\n",
       "       'temp', 'CleanSubjectiveNotes', 'BP', 'systolic', 'diastolic', 'Gender',\n",
       "       'outcome', 'target', 'service', 'target2', 'discharge', 'target3',\n",
       "       'dispo', 'target4', 'ICUvsother', 'target5', 'pmhx', 'num_comorbids',\n",
       "       'Are you feeling feverish or have had shakes or chills in the last 24 hours?',\n",
       "       'Have you ever been isolated/required isolation for an infectious disease when receiving care in a healthcare setting?',\n",
       "       'Do you have a new Rash?',\n",
       "       'Do you have a new onset of Vomiting/Diarrhea in the last 24 hours?',\n",
       "       'Have you travelled outside of Canada/USA in the last 3 weeks?',\n",
       "       'Have you had contact with a sick person who has travelled outside of Canada/USA in the last 3 weeks?',\n",
       "       'Have you received Health Care in another country in the last 2 years?',\n",
       "       'Do you have a new/worse cough or shortness of breath?',\n",
       "       'If so, select all countries that apply',\n",
       "       'If so, select all infectious diseases that apply'],\n",
       "      dtype='object')"
      ]
     },
     "execution_count": 283,
     "metadata": {},
     "output_type": "execute_result"
    }
   ],
   "source": [
    "balanced_data.columns"
   ]
  },
  {
   "cell_type": "code",
   "execution_count": 284,
   "metadata": {
    "hidden": true
   },
   "outputs": [],
   "source": [
    "del df1.index.name\n",
    "del df2.index.name"
   ]
  },
  {
   "cell_type": "code",
   "execution_count": 285,
   "metadata": {
    "hidden": true
   },
   "outputs": [],
   "source": [
    "df1.columns = ['pmhx_embeds']\n",
    "\n",
    "df2.columns = ['subjnotes_embeds']"
   ]
  },
  {
   "cell_type": "code",
   "execution_count": 286,
   "metadata": {
    "hidden": true
   },
   "outputs": [],
   "source": [
    "df3 = pd.concat([df1,df2 ], axis = 1)"
   ]
  },
  {
   "cell_type": "code",
   "execution_count": 287,
   "metadata": {
    "hidden": true
   },
   "outputs": [],
   "source": [
    "overlap = [x for x in  df3.index if x in balanced_data.index]"
   ]
  },
  {
   "cell_type": "code",
   "execution_count": 288,
   "metadata": {
    "hidden": true
   },
   "outputs": [
    {
     "data": {
      "text/plain": [
       "13168"
      ]
     },
     "execution_count": 288,
     "metadata": {},
     "output_type": "execute_result"
    }
   ],
   "source": [
    "len(overlap)"
   ]
  },
  {
   "cell_type": "code",
   "execution_count": 289,
   "metadata": {
    "hidden": true
   },
   "outputs": [
    {
     "data": {
      "text/plain": [
       "True"
      ]
     },
     "execution_count": 289,
     "metadata": {},
     "output_type": "execute_result"
    }
   ],
   "source": [
    "sorted(overlap) == sorted(list(balanced_data.index))"
   ]
  },
  {
   "cell_type": "code",
   "execution_count": 290,
   "metadata": {
    "hidden": true
   },
   "outputs": [],
   "source": [
    "ltd_data = df3.loc[overlap]"
   ]
  },
  {
   "cell_type": "code",
   "execution_count": 291,
   "metadata": {
    "hidden": true
   },
   "outputs": [
    {
     "data": {
      "text/plain": [
       "13168"
      ]
     },
     "execution_count": 291,
     "metadata": {},
     "output_type": "execute_result"
    }
   ],
   "source": [
    "len(ltd_data)"
   ]
  },
  {
   "cell_type": "code",
   "execution_count": 292,
   "metadata": {
    "hidden": true
   },
   "outputs": [],
   "source": [
    "balanced = pd.concat([balanced_data, ltd_data], axis = 1)"
   ]
  },
  {
   "cell_type": "code",
   "execution_count": 293,
   "metadata": {
    "hidden": true
   },
   "outputs": [
    {
     "data": {
      "text/html": [
       "<div>\n",
       "<style scoped>\n",
       "    .dataframe tbody tr th:only-of-type {\n",
       "        vertical-align: middle;\n",
       "    }\n",
       "\n",
       "    .dataframe tbody tr th {\n",
       "        vertical-align: top;\n",
       "    }\n",
       "\n",
       "    .dataframe thead th {\n",
       "        text-align: right;\n",
       "    }\n",
       "</style>\n",
       "<table border=\"1\" class=\"dataframe\">\n",
       "  <thead>\n",
       "    <tr style=\"text-align: right;\">\n",
       "      <th></th>\n",
       "      <th>ID</th>\n",
       "      <th>ChartNumber</th>\n",
       "      <th>EncounterNumber</th>\n",
       "      <th>TriageLevel</th>\n",
       "      <th>AgeNumber</th>\n",
       "      <th>AgeInYrs</th>\n",
       "      <th>GenderDesc</th>\n",
       "      <th>Triage Date &amp; Time</th>\n",
       "      <th>Reg Date &amp; Time</th>\n",
       "      <th>PIA Date &amp; Time</th>\n",
       "      <th>...</th>\n",
       "      <th>Do you have a new Rash?</th>\n",
       "      <th>Do you have a new onset of Vomiting/Diarrhea in the last 24 hours?</th>\n",
       "      <th>Have you travelled outside of Canada/USA in the last 3 weeks?</th>\n",
       "      <th>Have you had contact with a sick person who has travelled outside of Canada/USA in the last 3 weeks?</th>\n",
       "      <th>Have you received Health Care in another country in the last 2 years?</th>\n",
       "      <th>Do you have a new/worse cough or shortness of breath?</th>\n",
       "      <th>If so, select all countries that apply</th>\n",
       "      <th>If so, select all infectious diseases that apply</th>\n",
       "      <th>pmhx_embeds</th>\n",
       "      <th>subjnotes_embeds</th>\n",
       "    </tr>\n",
       "  </thead>\n",
       "  <tbody>\n",
       "    <tr>\n",
       "      <th>511</th>\n",
       "      <td>512</td>\n",
       "      <td>E8575246</td>\n",
       "      <td>EE000512/18</td>\n",
       "      <td>2.0</td>\n",
       "      <td>34</td>\n",
       "      <td>34.00</td>\n",
       "      <td>Male</td>\n",
       "      <td>2018-04-03 07:45:00</td>\n",
       "      <td>2018-04-03 07:53:00</td>\n",
       "      <td>2018-04-03 07:50:00</td>\n",
       "      <td>...</td>\n",
       "      <td>N</td>\n",
       "      <td>N</td>\n",
       "      <td>N</td>\n",
       "      <td>N</td>\n",
       "      <td>N</td>\n",
       "      <td>N</td>\n",
       "      <td>NaN</td>\n",
       "      <td>NaN</td>\n",
       "      <td>[-5.62175699e-02 -1.55288264e-01 -3.55031192e-...</td>\n",
       "      <td>[-2.55204886e-01  6.01891279e-02  2.71235794e-...</td>\n",
       "    </tr>\n",
       "    <tr>\n",
       "      <th>768</th>\n",
       "      <td>769</td>\n",
       "      <td>E8575368</td>\n",
       "      <td>EE000769/18</td>\n",
       "      <td>3.0</td>\n",
       "      <td>27</td>\n",
       "      <td>27.00</td>\n",
       "      <td>Male</td>\n",
       "      <td>2018-04-04 10:09:00</td>\n",
       "      <td>2018-04-04 10:15:00</td>\n",
       "      <td>2018-04-04 10:35:00</td>\n",
       "      <td>...</td>\n",
       "      <td>N</td>\n",
       "      <td>N</td>\n",
       "      <td>N</td>\n",
       "      <td>N</td>\n",
       "      <td>NaN</td>\n",
       "      <td>N</td>\n",
       "      <td>NaN</td>\n",
       "      <td>NaN</td>\n",
       "      <td>[-1.13873601e-01 -7.44997039e-02 -2.91844189e-...</td>\n",
       "      <td>[-1.22349516e-01  1.14988498e-02  4.90305871e-...</td>\n",
       "    </tr>\n",
       "    <tr>\n",
       "      <th>771</th>\n",
       "      <td>772</td>\n",
       "      <td>E8457554</td>\n",
       "      <td>EE000772/18</td>\n",
       "      <td>3.0</td>\n",
       "      <td>5</td>\n",
       "      <td>5.00</td>\n",
       "      <td>Male</td>\n",
       "      <td>2018-04-04 10:43:00</td>\n",
       "      <td>2018-04-04 10:46:00</td>\n",
       "      <td>2018-04-04 10:49:00</td>\n",
       "      <td>...</td>\n",
       "      <td>N</td>\n",
       "      <td>N</td>\n",
       "      <td>N</td>\n",
       "      <td>NaN</td>\n",
       "      <td>NaN</td>\n",
       "      <td>N</td>\n",
       "      <td>NaN</td>\n",
       "      <td>NaN</td>\n",
       "      <td>[-6.41224608e-02  1.80907622e-02 -2.60267198e-...</td>\n",
       "      <td>[-1.53225392e-01 -2.06459701e-01  1.29876301e-...</td>\n",
       "    </tr>\n",
       "    <tr>\n",
       "      <th>772</th>\n",
       "      <td>773</td>\n",
       "      <td>E5981394</td>\n",
       "      <td>EE000773/18</td>\n",
       "      <td>2.0</td>\n",
       "      <td>49</td>\n",
       "      <td>49.00</td>\n",
       "      <td>Male</td>\n",
       "      <td>2018-04-04 10:53:00</td>\n",
       "      <td>2018-04-04 10:55:00</td>\n",
       "      <td>2018-04-04 10:58:00</td>\n",
       "      <td>...</td>\n",
       "      <td>N</td>\n",
       "      <td>N</td>\n",
       "      <td>N</td>\n",
       "      <td>N</td>\n",
       "      <td>NaN</td>\n",
       "      <td>N</td>\n",
       "      <td>NaN</td>\n",
       "      <td>NaN</td>\n",
       "      <td>[-3.41189653e-01 -6.86234012e-02 -2.29025725e-...</td>\n",
       "      <td>[-2.82603115e-01 -4.25051808e-01  1.53763562e-...</td>\n",
       "    </tr>\n",
       "    <tr>\n",
       "      <th>776</th>\n",
       "      <td>777</td>\n",
       "      <td>E8575379</td>\n",
       "      <td>EE000777/18</td>\n",
       "      <td>4.0</td>\n",
       "      <td>14</td>\n",
       "      <td>1.17</td>\n",
       "      <td>Female</td>\n",
       "      <td>2018-04-04 11:21:00</td>\n",
       "      <td>2018-04-04 11:25:00</td>\n",
       "      <td>2018-04-04 11:25:00</td>\n",
       "      <td>...</td>\n",
       "      <td>N</td>\n",
       "      <td>N</td>\n",
       "      <td>N</td>\n",
       "      <td>N</td>\n",
       "      <td>NaN</td>\n",
       "      <td>N</td>\n",
       "      <td>NaN</td>\n",
       "      <td>NaN</td>\n",
       "      <td>[-6.41224608e-02  1.80907622e-02 -2.60267198e-...</td>\n",
       "      <td>[-3.39468308e-02 -2.29253665e-01  2.80284733e-...</td>\n",
       "    </tr>\n",
       "  </tbody>\n",
       "</table>\n",
       "<p>5 rows × 59 columns</p>\n",
       "</div>"
      ],
      "text/plain": [
       "      ID ChartNumber EncounterNumber  TriageLevel  AgeNumber  AgeInYrs  \\\n",
       "511  512    E8575246     EE000512/18          2.0         34     34.00   \n",
       "768  769    E8575368     EE000769/18          3.0         27     27.00   \n",
       "771  772    E8457554     EE000772/18          3.0          5      5.00   \n",
       "772  773    E5981394     EE000773/18          2.0         49     49.00   \n",
       "776  777    E8575379     EE000777/18          4.0         14      1.17   \n",
       "\n",
       "    GenderDesc   Triage Date & Time      Reg Date & Time      PIA Date & Time  \\\n",
       "511       Male  2018-04-03 07:45:00  2018-04-03 07:53:00  2018-04-03 07:50:00   \n",
       "768       Male  2018-04-04 10:09:00  2018-04-04 10:15:00  2018-04-04 10:35:00   \n",
       "771       Male  2018-04-04 10:43:00  2018-04-04 10:46:00  2018-04-04 10:49:00   \n",
       "772       Male  2018-04-04 10:53:00  2018-04-04 10:55:00  2018-04-04 10:58:00   \n",
       "776     Female  2018-04-04 11:21:00  2018-04-04 11:25:00  2018-04-04 11:25:00   \n",
       "\n",
       "                           ...                          \\\n",
       "511                        ...                           \n",
       "768                        ...                           \n",
       "771                        ...                           \n",
       "772                        ...                           \n",
       "776                        ...                           \n",
       "\n",
       "    Do you have a new Rash?  \\\n",
       "511                       N   \n",
       "768                       N   \n",
       "771                       N   \n",
       "772                       N   \n",
       "776                       N   \n",
       "\n",
       "     Do you have a new onset of Vomiting/Diarrhea in the last 24 hours?  \\\n",
       "511                                                  N                    \n",
       "768                                                  N                    \n",
       "771                                                  N                    \n",
       "772                                                  N                    \n",
       "776                                                  N                    \n",
       "\n",
       "    Have you travelled outside of Canada/USA in the last 3 weeks?  \\\n",
       "511                                                  N              \n",
       "768                                                  N              \n",
       "771                                                  N              \n",
       "772                                                  N              \n",
       "776                                                  N              \n",
       "\n",
       "    Have you had contact with a sick person who has travelled outside of Canada/USA in the last 3 weeks?  \\\n",
       "511                                                  N                                                     \n",
       "768                                                  N                                                     \n",
       "771                                                NaN                                                     \n",
       "772                                                  N                                                     \n",
       "776                                                  N                                                     \n",
       "\n",
       "     Have you received Health Care in another country in the last 2 years?  \\\n",
       "511                                                  N                       \n",
       "768                                                NaN                       \n",
       "771                                                NaN                       \n",
       "772                                                NaN                       \n",
       "776                                                NaN                       \n",
       "\n",
       "    Do you have a new/worse cough or shortness of breath?  \\\n",
       "511                                                  N      \n",
       "768                                                  N      \n",
       "771                                                  N      \n",
       "772                                                  N      \n",
       "776                                                  N      \n",
       "\n",
       "    If so, select all countries that apply  \\\n",
       "511                                    NaN   \n",
       "768                                    NaN   \n",
       "771                                    NaN   \n",
       "772                                    NaN   \n",
       "776                                    NaN   \n",
       "\n",
       "    If so, select all infectious diseases that apply  \\\n",
       "511                                              NaN   \n",
       "768                                              NaN   \n",
       "771                                              NaN   \n",
       "772                                              NaN   \n",
       "776                                              NaN   \n",
       "\n",
       "                                           pmhx_embeds  \\\n",
       "511  [-5.62175699e-02 -1.55288264e-01 -3.55031192e-...   \n",
       "768  [-1.13873601e-01 -7.44997039e-02 -2.91844189e-...   \n",
       "771  [-6.41224608e-02  1.80907622e-02 -2.60267198e-...   \n",
       "772  [-3.41189653e-01 -6.86234012e-02 -2.29025725e-...   \n",
       "776  [-6.41224608e-02  1.80907622e-02 -2.60267198e-...   \n",
       "\n",
       "                                      subjnotes_embeds  \n",
       "511  [-2.55204886e-01  6.01891279e-02  2.71235794e-...  \n",
       "768  [-1.22349516e-01  1.14988498e-02  4.90305871e-...  \n",
       "771  [-1.53225392e-01 -2.06459701e-01  1.29876301e-...  \n",
       "772  [-2.82603115e-01 -4.25051808e-01  1.53763562e-...  \n",
       "776  [-3.39468308e-02 -2.29253665e-01  2.80284733e-...  \n",
       "\n",
       "[5 rows x 59 columns]"
      ]
     },
     "execution_count": 293,
     "metadata": {},
     "output_type": "execute_result"
    }
   ],
   "source": [
    "balanced.head()"
   ]
  },
  {
   "cell_type": "code",
   "execution_count": 294,
   "metadata": {
    "hidden": true
   },
   "outputs": [
    {
     "data": {
      "text/plain": [
       "Index(['ID', 'ChartNumber', 'EncounterNumber', 'TriageLevel', 'AgeNumber',\n",
       "       'AgeInYrs', 'GenderDesc', 'Triage Date & Time', 'Reg Date & Time',\n",
       "       'PIA Date & Time', 'Disposition Date & Time', 'DischargeDisposition',\n",
       "       'DischargeDispositionDesc', 'Left ED Date & Time',\n",
       "       'PresentingComplaint', 'PresentingComplaintDesc', 'MainDiagnosisCode',\n",
       "       'MainDiagnosisCodeDesc', 'AdmitLocation', 'PatientService',\n",
       "       'SubjectiveNotes', 'InfectionControlScreening', 'MedicalHistory',\n",
       "       'BloodPressure_LastEDReading', 'O2Saturation_LastEDReading',\n",
       "       'Pulse_LastEDReading', 'Temperature_LastEDReading', 'o2sat', 'pulse',\n",
       "       'temp', 'CleanSubjectiveNotes', 'BP', 'systolic', 'diastolic', 'Gender',\n",
       "       'outcome', 'target', 'service', 'target2', 'discharge', 'target3',\n",
       "       'dispo', 'target4', 'ICUvsother', 'target5', 'pmhx', 'num_comorbids',\n",
       "       'Are you feeling feverish or have had shakes or chills in the last 24 hours?',\n",
       "       'Have you ever been isolated/required isolation for an infectious disease when receiving care in a healthcare setting?',\n",
       "       'Do you have a new Rash?',\n",
       "       'Do you have a new onset of Vomiting/Diarrhea in the last 24 hours?',\n",
       "       'Have you travelled outside of Canada/USA in the last 3 weeks?',\n",
       "       'Have you had contact with a sick person who has travelled outside of Canada/USA in the last 3 weeks?',\n",
       "       'Have you received Health Care in another country in the last 2 years?',\n",
       "       'Do you have a new/worse cough or shortness of breath?',\n",
       "       'If so, select all countries that apply',\n",
       "       'If so, select all infectious diseases that apply', 'pmhx_embeds',\n",
       "       'subjnotes_embeds'],\n",
       "      dtype='object')"
      ]
     },
     "execution_count": 294,
     "metadata": {},
     "output_type": "execute_result"
    }
   ],
   "source": [
    "balanced.columns"
   ]
  },
  {
   "cell_type": "code",
   "execution_count": 295,
   "metadata": {
    "hidden": true
   },
   "outputs": [
    {
     "data": {
      "text/plain": [
       "(13168, 59)"
      ]
     },
     "execution_count": 295,
     "metadata": {},
     "output_type": "execute_result"
    }
   ],
   "source": [
    "balanced.shape"
   ]
  },
  {
   "cell_type": "markdown",
   "metadata": {
    "heading_collapsed": true,
    "hidden": true
   },
   "source": [
    "### gotta explore the infection control data a little bit"
   ]
  },
  {
   "cell_type": "code",
   "execution_count": 296,
   "metadata": {
    "hidden": true
   },
   "outputs": [
    {
     "data": {
      "text/plain": [
       "Counter({'N': 12083, nan: 921, 'Y': 164})"
      ]
     },
     "execution_count": 296,
     "metadata": {},
     "output_type": "execute_result"
    }
   ],
   "source": [
    "Counter(balanced['Do you have a new Rash?'])"
   ]
  },
  {
   "cell_type": "code",
   "execution_count": 297,
   "metadata": {
    "hidden": true
   },
   "outputs": [
    {
     "data": {
      "text/plain": [
       "Counter({0: 13004, 1: 164})"
      ]
     },
     "execution_count": 297,
     "metadata": {},
     "output_type": "execute_result"
    }
   ],
   "source": [
    "balanced['rash'] = balanced['Do you have a new Rash?'].fillna('N').replace({'N':0, 'Y':1})\n",
    "Counter(balanced['rash'])"
   ]
  },
  {
   "cell_type": "code",
   "execution_count": 298,
   "metadata": {
    "hidden": true
   },
   "outputs": [
    {
     "data": {
      "text/plain": [
       "Counter({'N': 11259, nan: 195, 'Y': 1714})"
      ]
     },
     "execution_count": 298,
     "metadata": {},
     "output_type": "execute_result"
    }
   ],
   "source": [
    "Counter(balanced['Do you have a new onset of Vomiting/Diarrhea in the last 24 hours?'])"
   ]
  },
  {
   "cell_type": "code",
   "execution_count": 299,
   "metadata": {
    "hidden": true
   },
   "outputs": [
    {
     "data": {
      "text/plain": [
       "Counter({0: 11454, 1: 1714})"
      ]
     },
     "execution_count": 299,
     "metadata": {},
     "output_type": "execute_result"
    }
   ],
   "source": [
    "balanced['n/v'] = balanced['Do you have a new onset of Vomiting/Diarrhea in the last 24 hours?'].fillna('N').replace({'N':0, 'Y':1})\n",
    "Counter(balanced['n/v'])"
   ]
  },
  {
   "cell_type": "code",
   "execution_count": 300,
   "metadata": {
    "hidden": true
   },
   "outputs": [
    {
     "data": {
      "text/plain": [
       "Counter({'N': 10842, 'Y': 2244, nan: 82})"
      ]
     },
     "execution_count": 300,
     "metadata": {},
     "output_type": "execute_result"
    }
   ],
   "source": [
    "Counter(balanced['Do you have a new/worse cough or shortness of breath?'])"
   ]
  },
  {
   "cell_type": "code",
   "execution_count": 301,
   "metadata": {
    "hidden": true
   },
   "outputs": [
    {
     "data": {
      "text/plain": [
       "Counter({0: 10924, 1: 2244})"
      ]
     },
     "execution_count": 301,
     "metadata": {},
     "output_type": "execute_result"
    }
   ],
   "source": [
    "balanced['cough/sob'] = balanced['Do you have a new/worse cough or shortness of breath?'].fillna('N').replace({'N':0, 'Y':1})\n",
    "Counter(balanced['cough/sob'])"
   ]
  },
  {
   "cell_type": "markdown",
   "metadata": {
    "heading_collapsed": true,
    "hidden": true
   },
   "source": [
    "### and back to creating variables"
   ]
  },
  {
   "cell_type": "code",
   "execution_count": 302,
   "metadata": {
    "hidden": true
   },
   "outputs": [],
   "source": [
    "#turning the embedding columns into arrays along the lines of what I created bedore\n",
    "\n",
    "subj = np.array([s[1:-1].split() for s in list(balanced.subjnotes_embeds)]).astype(np.float32)\n",
    "medhx = np.array([s[1:-1].split() for s in list(balanced.pmhx_embeds)]).astype(np.float32)"
   ]
  },
  {
   "cell_type": "code",
   "execution_count": 303,
   "metadata": {
    "hidden": true
   },
   "outputs": [
    {
     "data": {
      "text/plain": [
       "(dtype('float32'), dtype('float32'))"
      ]
     },
     "execution_count": 303,
     "metadata": {},
     "output_type": "execute_result"
    }
   ],
   "source": [
    "subj.dtype, medhx.dtype"
   ]
  },
  {
   "cell_type": "code",
   "execution_count": 304,
   "metadata": {
    "hidden": true
   },
   "outputs": [],
   "source": [
    "#each of these will start as a list of relevant columns and be handled differently\n",
    "cont_vars = ['AgeInYrs', 'o2sat', 'temp', 'pulse', 'systolic', 'diastolic', 'num_comorbids']\n",
    "cat_vars = ['TriageLevel', 'Gender', 'PresentingComplaint', 'cough/sob', 'n/v', 'rash']"
   ]
  },
  {
   "cell_type": "code",
   "execution_count": 305,
   "metadata": {
    "hidden": true
   },
   "outputs": [],
   "source": [
    "#making the labels\n",
    "labels = balanced.target3.values"
   ]
  },
  {
   "cell_type": "code",
   "execution_count": 306,
   "metadata": {
    "hidden": true
   },
   "outputs": [
    {
     "data": {
      "text/plain": [
       "Counter({1: 6584, 0: 6584})"
      ]
     },
     "execution_count": 306,
     "metadata": {},
     "output_type": "execute_result"
    }
   ],
   "source": [
    "Counter(labels)"
   ]
  },
  {
   "cell_type": "code",
   "execution_count": 307,
   "metadata": {
    "hidden": true
   },
   "outputs": [],
   "source": [
    "def normalize2(df, columns):\n",
    "    \"Compute the means and stds of columns to normalize them.\"\n",
    "    new_cols = []\n",
    "    for n in columns:\n",
    "        #print (n)\n",
    "        mn = df[n].mean()\n",
    "        #print (mn)\n",
    "        std = df[n].std()\n",
    "        #print (std)\n",
    "        med = df[n].median()\n",
    "        #print (med)\n",
    "        df[n].fillna(med, inplace = True)\n",
    "        norm  = [(item-mn)/(1e-7 + std) for item in df[n]]\n",
    "        df[n + '_norm'] = norm\n",
    "        new_cols.append(n + '_norm')\n",
    "\n",
    "    return new_cols"
   ]
  },
  {
   "cell_type": "code",
   "execution_count": 308,
   "metadata": {
    "hidden": true,
    "scrolled": true
   },
   "outputs": [],
   "source": [
    "new_cols = normalize2(balanced, cont_vars)"
   ]
  },
  {
   "cell_type": "code",
   "execution_count": 309,
   "metadata": {
    "hidden": true
   },
   "outputs": [],
   "source": [
    "cont = np.array(balanced[new_cols]).astype(np.float32)"
   ]
  },
  {
   "cell_type": "code",
   "execution_count": 310,
   "metadata": {
    "hidden": true
   },
   "outputs": [
    {
     "data": {
      "text/plain": [
       "(13168, 7)"
      ]
     },
     "execution_count": 310,
     "metadata": {},
     "output_type": "execute_result"
    }
   ],
   "source": [
    "cont.shape"
   ]
  },
  {
   "cell_type": "code",
   "execution_count": 311,
   "metadata": {
    "hidden": true
   },
   "outputs": [
    {
     "data": {
      "text/plain": [
       "[8, 2, 144, 2, 2, 2]"
      ]
     },
     "execution_count": 311,
     "metadata": {},
     "output_type": "execute_result"
    }
   ],
   "source": [
    "class_lengths = [len(set(balanced[cat])) for cat in cat_vars]\n",
    "class_lengths"
   ]
  },
  {
   "cell_type": "code",
   "execution_count": 312,
   "metadata": {
    "hidden": true
   },
   "outputs": [
    {
     "data": {
      "text/plain": [
       "Counter({2.0: 5504, 3.0: 6716, 4.0: 777, 5.0: 114, 1.0: 57})"
      ]
     },
     "execution_count": 312,
     "metadata": {},
     "output_type": "execute_result"
    }
   ],
   "source": [
    "#need to get rid of nan values in TriageLevel column\n",
    "balanced['TriageLevel'].fillna(balanced['TriageLevel'].median(), inplace = True)\n",
    "Counter(balanced['TriageLevel'])"
   ]
  },
  {
   "cell_type": "code",
   "execution_count": 313,
   "metadata": {
    "hidden": true
   },
   "outputs": [],
   "source": [
    "numerical_cat_data = []\n",
    "for cat in cat_vars:\n",
    "    #first make a dictionary mapping original name to a number\n",
    "    cat_to_num  = {cat:i for i,cat in enumerate(list(set(balanced[cat])))}\n",
    "    #then replace the categorgal label with numbers and add to output list\n",
    "    numerical_cat_data.append([cat_to_num[item] for item in balanced[cat]])"
   ]
  },
  {
   "cell_type": "code",
   "execution_count": 314,
   "metadata": {
    "hidden": true
   },
   "outputs": [
    {
     "data": {
      "text/plain": [
       "(13168, 6)"
      ]
     },
     "execution_count": 314,
     "metadata": {},
     "output_type": "execute_result"
    }
   ],
   "source": [
    "#this makes a vertical array out of the categorical data\n",
    "cats_array = np.vstack(np.array(numerical_cat_data).astype(int)).transpose(); cats_array.shape"
   ]
  },
  {
   "cell_type": "code",
   "execution_count": 315,
   "metadata": {
    "hidden": true
   },
   "outputs": [
    {
     "data": {
      "text/plain": [
       "[(8, 5), (2, 2), (144, 26), (2, 2), (2, 2), (2, 2)]"
      ]
     },
     "execution_count": 315,
     "metadata": {},
     "output_type": "execute_result"
    }
   ],
   "source": [
    "#creating a set of embedding sizes for each categorical variable\n",
    "emb_szs = [(length, min(600, round(1.6 * length **0.56))) for length in class_lengths]\n",
    "emb_szs"
   ]
  },
  {
   "cell_type": "code",
   "execution_count": 316,
   "metadata": {
    "hidden": true
   },
   "outputs": [],
   "source": [
    "train_subj, validation_subj = train_test_split(subj, random_state = 42, test_size=0.1)\n",
    "train_medhx, validation_medhx = train_test_split(medhx, random_state = 42, test_size=0.1)\n",
    "train_cont, validation_cont = train_test_split(cont, random_state = 42, test_size=0.1)\n",
    "train_cats, validation_cats = train_test_split(cats_array, random_state = 42, test_size=0.1)\n",
    "train_labels, validation_labels = train_test_split(labels, random_state = 42, test_size=0.1)"
   ]
  },
  {
   "cell_type": "code",
   "execution_count": 317,
   "metadata": {
    "hidden": true
   },
   "outputs": [],
   "source": [
    "train_subj = torch.tensor(train_subj)\n",
    "validation_subj = torch.tensor(validation_subj)\n",
    "train_medhx = torch.tensor(train_medhx)\n",
    "validation_medhx = torch.tensor(validation_medhx)\n",
    "train_cont = torch.tensor(train_cont)\n",
    "validation_cont = torch.tensor(validation_cont)\n",
    "train_cats = torch.tensor(train_cats)\n",
    "validation_cats = torch.tensor(validation_cats)\n",
    "train_labels = torch.tensor(train_labels)\n",
    "validation_labels = torch.tensor(validation_labels)"
   ]
  },
  {
   "cell_type": "code",
   "execution_count": 318,
   "metadata": {
    "hidden": true
   },
   "outputs": [],
   "source": [
    "batch_size = 4\n",
    "\n",
    "train_data = TensorDataset(train_subj, train_medhx, train_cont,train_cats,train_labels)\n",
    "trainloader = DataLoader(train_data, batch_size=batch_size, shuffle = True)\n",
    "\n",
    "valid_data = TensorDataset(validation_subj, validation_medhx, validation_cont, validation_cats, validation_labels)\n",
    "validloader = DataLoader(valid_data, batch_size=batch_size, shuffle = True)"
   ]
  },
  {
   "cell_type": "code",
   "execution_count": 319,
   "metadata": {
    "hidden": true
   },
   "outputs": [],
   "source": [
    "#redefining training loop\n",
    "\n",
    "def train_model3(model, lr = 1e-3, epochs = 10, loss_func = nn.CrossEntropyLoss(), batch_size = 4):\n",
    "    optimizer = Adam(model.parameters(), lr = lr)\n",
    "    running_train_loss = []\n",
    "    running_valid_loss = []\n",
    "    for epoch_num in range(epochs):\n",
    "        start_time = time.time()\n",
    "        model.train()\n",
    "        train_loss = 0\n",
    "        for step_num, batch_data in enumerate(trainloader):\n",
    "        \n",
    "            cont_var, subj_notes, medhx, cat_var, labels = tuple(t.to(device) for t in batch_data)\n",
    "        \n",
    "            optimizer.zero_grad()\n",
    "        \n",
    "            logits = model(cont_var, subj_notes, medhx, cat_var)\n",
    "        \n",
    "            batch_loss = loss_func(logits, labels)\n",
    "        \n",
    "            train_loss += batch_loss.item()\n",
    "        \n",
    "            batch_loss.backward()\n",
    "        \n",
    "\n",
    "            clip_grad_norm_(parameters=model.parameters(), max_norm=1.0)\n",
    "        \n",
    "            optimizer.step()\n",
    "        \n",
    "        #check against validation set\n",
    "        model.eval()\n",
    "        valid_loss = 0\n",
    "        for batch_data in validloader:\n",
    "            \n",
    "            cont_var, subj_notes, medhx, cat_var, labels = tuple(t.to(device) for t in batch_data)\n",
    "            \n",
    "            logits = model(cont_var, subj_notes, medhx, cat_var)\n",
    "        \n",
    "            batch_loss = loss_func(logits, labels)\n",
    "        \n",
    "            valid_loss += batch_loss.item()\n",
    "            \n",
    "        end_time = time.time()\n",
    "        print('Epoch {}:'.format(epoch_num + 1),' {0:.3f} sec'.format(end_time - start_time))\n",
    "        #print(\"\\r\" + \"{0}/{1} loss: {2} \".format(step_num, len(train_data) / batch_size, train_loss / (step_num + 1)))\n",
    "        print ('Training loss = {0:.4f}'.format(train_loss/len(trainloader)))\n",
    "        print ('Validation loss = {0:.4f}'.format(valid_loss/len(validloader)))\n",
    "        print ()\n",
    "        \n",
    "        running_train_loss.append(train_loss/len(trainloader))\n",
    "        running_valid_loss.append(valid_loss/len(validloader))\n",
    "        \n",
    "\n",
    "    return running_train_loss, running_valid_loss"
   ]
  },
  {
   "cell_type": "code",
   "execution_count": 320,
   "metadata": {
    "hidden": true
   },
   "outputs": [],
   "source": [
    "class Net3(nn.Module):\n",
    "    def __init__(self, emb_szs):\n",
    "        super(Net3, self).__init__()\n",
    "        \n",
    "        #first create the embedding layers for each of the categorical variables\n",
    "        self.embed_layers = nn.ModuleList([nn.Embedding(ni, nf) for ni,nf in emb_szs])\n",
    "        n_emb = sum(e.embedding_dim for e in self.embed_layers)\n",
    "        \n",
    "        #define dropouts\n",
    "        self.emb_drop = nn.Dropout(0.5)\n",
    "        self.lin_drop = nn.Dropout(0.5)\n",
    "        \n",
    "        #define batchnorms\n",
    "        self.nlp1_bn = nn.BatchNorm1d(768)\n",
    "        self.nlp2_bn = nn.BatchNorm1d(768)\n",
    "        self.comb_bn = nn.BatchNorm1d(37)\n",
    "        self.comb_bn2 = nn.BatchNorm1d(200)\n",
    "        \n",
    "        self.linear_subjective = nn.Linear(768,10)  \n",
    "        self.linear_medhx = nn.Linear(768, 10)\n",
    "        self.linear_cat = nn.Linear(n_emb,10)\n",
    "        self.linear_combined1 = nn.Linear(37, 200)  #needed to add one because I'm now using 7 cont vars\n",
    "        self.linear_combined2 = nn.Linear(200,100)\n",
    "        self.out = nn.Linear(100,2)\n",
    "\n",
    "    def forward(self, subj,medhx,cont,cat_var):\n",
    "        #first we run each BERT vector through a linear layer and activation\n",
    "        nlp1 = F.relu(self.linear_subjective(self.lin_drop(subj)))\n",
    "        nlp2 = F.relu(self.linear_medhx(self.lin_drop(medhx)))\n",
    "        \n",
    "        #now we pass each categorical variable through an embedding layer, combine output and pass through\n",
    "        #a linear layer with activation\n",
    "        embeds = [e(cat_var[:,i]) for i,e in enumerate(self.embed_layers)]\n",
    "        embeds = torch.cat(embeds, 1)\n",
    "        embeds = self.linear_cat(embeds)\n",
    "        embeds = self.emb_drop(embeds)\n",
    "        #embeds = F.relu(self.linear_cat(embeds))  #they dont have an activation after the embeddings in fast.ai\n",
    "        \n",
    "        #now we combine all four sources of input and pass through a layer with activation\n",
    "        combined = torch.cat((nlp1,nlp2,cont,embeds), axis = 1)\n",
    "        combined_norm = self.lin_drop(self.comb_bn(combined))\n",
    "        x = F.relu(self.linear_combined1(combined_norm))\n",
    "        x = F.relu(self.linear_combined2(self.lin_drop(self.comb_bn2(x))))\n",
    "        \n",
    "        #compute logits\n",
    "        x = self.out(x)\n",
    "        \n",
    "        return x\n",
    "\n",
    "\n",
    "\n",
    "\n"
   ]
  },
  {
   "cell_type": "code",
   "execution_count": 325,
   "metadata": {
    "hidden": true
   },
   "outputs": [
    {
     "name": "stdout",
     "output_type": "stream",
     "text": [
      "Epoch 1:  18.208 sec\n",
      "Training loss = 0.6689\n",
      "Validation loss = 0.5369\n",
      "\n",
      "Epoch 2:  20.646 sec\n",
      "Training loss = 0.6458\n",
      "Validation loss = 0.5140\n",
      "\n",
      "Epoch 3:  17.102 sec\n",
      "Training loss = 0.6434\n",
      "Validation loss = 0.5335\n",
      "\n",
      "Epoch 4:  16.964 sec\n",
      "Training loss = 0.6349\n",
      "Validation loss = 0.5059\n",
      "\n",
      "Epoch 5:  16.852 sec\n",
      "Training loss = 0.6307\n",
      "Validation loss = 0.5320\n",
      "\n",
      "Epoch 6:  16.853 sec\n",
      "Training loss = 0.6309\n",
      "Validation loss = 0.5029\n",
      "\n",
      "Epoch 7:  18.889 sec\n",
      "Training loss = 0.6277\n",
      "Validation loss = 0.4987\n",
      "\n",
      "Epoch 8:  18.575 sec\n",
      "Training loss = 0.6221\n",
      "Validation loss = 0.4941\n",
      "\n",
      "Epoch 9:  16.952 sec\n",
      "Training loss = 0.6250\n",
      "Validation loss = 0.5120\n",
      "\n",
      "Epoch 10:  17.884 sec\n",
      "Training loss = 0.6225\n",
      "Validation loss = 0.4984\n",
      "\n",
      "Epoch 11:  23.432 sec\n",
      "Training loss = 0.6216\n",
      "Validation loss = 0.5121\n",
      "\n",
      "Epoch 12:  17.718 sec\n",
      "Training loss = 0.6199\n",
      "Validation loss = 0.5078\n",
      "\n",
      "Epoch 13:  17.769 sec\n",
      "Training loss = 0.6257\n",
      "Validation loss = 0.4931\n",
      "\n",
      "Epoch 14:  22.150 sec\n",
      "Training loss = 0.6158\n",
      "Validation loss = 0.5040\n",
      "\n",
      "Epoch 15:  19.248 sec\n",
      "Training loss = 0.6259\n",
      "Validation loss = 0.4943\n",
      "\n"
     ]
    }
   ],
   "source": [
    "net = Net3(emb_szs)\n",
    "tloss, vloss = train_model3(net, lr = 1e-3,epochs = 15)"
   ]
  },
  {
   "cell_type": "code",
   "execution_count": 326,
   "metadata": {
    "hidden": true
   },
   "outputs": [],
   "source": [
    "def show_losses(tloss = tloss, vloss = vloss):\n",
    "    plt.plot(tloss,'b', label = 'train')\n",
    "    plt.plot(vloss,'g', label = 'valid')\n",
    "    plt.legend()\n",
    "    plt.show()"
   ]
  },
  {
   "cell_type": "code",
   "execution_count": 327,
   "metadata": {
    "hidden": true
   },
   "outputs": [
    {
     "data": {
      "image/png": "[encoded data removed]",
      "text/plain": [
       "<Figure size 432x288 with 1 Axes>"
      ]
     },
     "metadata": {},
     "output_type": "display_data"
    }
   ],
   "source": [
    "show_losses()"
   ]
  },
  {
   "cell_type": "code",
   "execution_count": 328,
   "metadata": {
    "hidden": true
   },
   "outputs": [
    {
     "name": "stdout",
     "output_type": "stream",
     "text": [
      "Classification Report:\n",
      "             precision    recall  f1-score   support\n",
      "\n",
      "  discharge       0.72      0.77      0.75       612\n",
      "      admit       0.79      0.74      0.76       705\n",
      "\n",
      "avg / total       0.76      0.76      0.76      1317\n",
      "\n",
      "\n",
      "Confusion Matrix:\n",
      "[[474 138]\n",
      " [184 521]]\n",
      "\n",
      "accuracy =  75.55049354593774 %\n"
     ]
    }
   ],
   "source": [
    "#let's do some inference\n",
    "net.eval()\n",
    "pred_matrix = []\n",
    "label_matrix = []\n",
    "\n",
    "for batch_data in validloader:\n",
    "            \n",
    "    cont_var, subj_notes, medhx, cat_var, labels = tuple(t.to(device) for t in batch_data)\n",
    "            \n",
    "    logits = net(cont_var, subj_notes, medhx, cat_var)\n",
    "        \n",
    "    preds = np.argmax(logits.detach().numpy(), axis = 1)\n",
    "    pred_matrix.append(preds)\n",
    "    \n",
    "    labels = labels.detach().numpy()\n",
    "    label_matrix.append(labels)\n",
    "\n",
    "y_pred = [item for sublist in pred_matrix for item in sublist]\n",
    "y_true = [item for sublist in label_matrix for item in sublist]\n",
    "\n",
    "classification = metrics.classification_report(y_pred,y_true, target_names = ['discharge', 'admit'])\n",
    "conf = metrics.confusion_matrix(y_pred,y_true)\n",
    "acc = metrics.accuracy_score(y_pred,y_true)\n",
    "print ('Classification Report:')\n",
    "print(classification)\n",
    "print ()\n",
    "print('Confusion Matrix:')\n",
    "print (conf)\n",
    "print()\n",
    "print ('accuracy = ', acc *100, '%')"
   ]
  },
  {
   "cell_type": "code",
   "execution_count": null,
   "metadata": {
    "hidden": true
   },
   "outputs": [],
   "source": []
  }
 ],
 "metadata": {
  "kernelspec": {
   "display_name": "Python [conda env:anaconda3]",
   "language": "python",
   "name": "conda-env-anaconda3-py"
  },
  "language_info": {
   "codemirror_mode": {
    "name": "ipython",
    "version": 3
   },
   "file_extension": ".py",
   "mimetype": "text/x-python",
   "name": "python",
   "nbconvert_exporter": "python",
   "pygments_lexer": "ipython3",
   "version": "3.6.5"
  }
 },
 "nbformat": 4,
 "nbformat_minor": 2
}
