{
 "cells": [
  {
   "cell_type": "code",
   "execution_count": 1,
   "metadata": {},
   "outputs": [
    {
     "name": "stdout",
     "output_type": "stream",
     "text": [
      "Requirement already satisfied: xlrd in /Users/jjaskolkambp/anaconda3/lib/python3.6/site-packages (1.1.0)\n",
      "\u001b[33mYou are using pip version 10.0.1, however version 19.3 is available.\n",
      "You should consider upgrading via the 'pip install --upgrade pip' command.\u001b[0m\n"
     ]
    }
   ],
   "source": [
    "#run this cell when online\n",
    "!pip install xlrd"
   ]
  },
  {
   "cell_type": "markdown",
   "metadata": {},
   "source": [
    "## install dependencies and set data paths"
   ]
  },
  {
   "cell_type": "code",
   "execution_count": 1,
   "metadata": {},
   "outputs": [],
   "source": [
    "import pandas as pd\n",
    "import numpy as np\n",
    "\n",
    "import os\n",
    "import re\n",
    "from collections import Counter"
   ]
  },
  {
   "cell_type": "code",
   "execution_count": 2,
   "metadata": {},
   "outputs": [],
   "source": [
    "#use this cell when working online\n",
    "path = '/floyd/home/ed-triage'\n",
    "data_path = '/floyd/home/data'"
   ]
  },
  {
   "cell_type": "code",
   "execution_count": 3,
   "metadata": {},
   "outputs": [],
   "source": [
    "#use this cell when working from home\n",
    "path = '/Users/jjaskolkambp/Desktop/machine learning/my_projects/ed-triage'\n",
    "data_path = '/Users/jjaskolkambp/Desktop/machine learning/my_projects/data/ED triage project/bch'"
   ]
  },
  {
   "cell_type": "code",
   "execution_count": 4,
   "metadata": {},
   "outputs": [],
   "source": [
    "#loading in the entire spreadsheet as a dataframe\n",
    "clin = pd.read_excel(data_path + '/BCH ED visits FY1819_with additions.xlsx')"
   ]
  },
  {
   "cell_type": "code",
   "execution_count": 5,
   "metadata": {},
   "outputs": [
    {
     "data": {
      "text/plain": [
       "136993"
      ]
     },
     "execution_count": 5,
     "metadata": {},
     "output_type": "execute_result"
    }
   ],
   "source": [
    "len(clin)"
   ]
  },
  {
   "cell_type": "code",
   "execution_count": 6,
   "metadata": {},
   "outputs": [
    {
     "data": {
      "text/plain": [
       "Index(['ID', 'ChartNumber', 'EncounterNumber', 'TriageLevel', 'AgeNumber',\n",
       "       'AgeInYrs', 'GenderDesc', 'Triage Date & Time', 'Reg Date & Time',\n",
       "       'PIA Date & Time', 'Disposition Date & Time', 'DischargeDisposition',\n",
       "       'DischargeDispositionDesc', 'Left ED Date & Time',\n",
       "       'PresentingComplaint', 'PresentingComplaintDesc', 'MainDiagnosisCode',\n",
       "       'MainDiagnosisCodeDesc', 'AdmitLocation', 'PatientService',\n",
       "       'SubjectiveNotes', 'InfectionControlScreening', 'MedicalHistory',\n",
       "       'BloodPressure_LastEDReading', 'O2Saturation_LastEDReading',\n",
       "       'Pulse_LastEDReading', 'Temperature_LastEDReading'],\n",
       "      dtype='object')"
      ]
     },
     "execution_count": 6,
     "metadata": {},
     "output_type": "execute_result"
    }
   ],
   "source": [
    "clin.columns"
   ]
  },
  {
   "cell_type": "code",
   "execution_count": 7,
   "metadata": {},
   "outputs": [
    {
     "data": {
      "text/plain": [
       "(102543, 27)"
      ]
     },
     "execution_count": 7,
     "metadata": {},
     "output_type": "execute_result"
    }
   ],
   "source": [
    "clin.dropna(subset = ['SubjectiveNotes', 'InfectionControlScreening', 'MedicalHistory'], inplace = True)\n",
    "clin.shape"
   ]
  },
  {
   "cell_type": "markdown",
   "metadata": {
    "heading_collapsed": true
   },
   "source": [
    "## The next few cells are for getting a feel of the data in the different columns and how they might be useful"
   ]
  },
  {
   "cell_type": "code",
   "execution_count": 9,
   "metadata": {
    "hidden": true,
    "scrolled": false
   },
   "outputs": [
    {
     "data": {
      "text/plain": [
       "Counter({17: 70703,\n",
       "         62: 762,\n",
       "         7: 11199,\n",
       "         6: 374,\n",
       "         16: 493,\n",
       "         40: 226,\n",
       "         8: 242,\n",
       "         72: 113,\n",
       "         63: 250,\n",
       "         30: 346,\n",
       "         64: 171,\n",
       "         12: 242,\n",
       "         71: 3,\n",
       "         14: 3,\n",
       "         61: 12,\n",
       "         90: 10,\n",
       "         13: 3,\n",
       "         9: 2})"
      ]
     },
     "execution_count": 9,
     "metadata": {},
     "output_type": "execute_result"
    }
   ],
   "source": [
    "discharge_count = Counter(clin['DischargeDisposition']); discharge_count"
   ]
  },
  {
   "cell_type": "code",
   "execution_count": 10,
   "metadata": {
    "hidden": true
   },
   "outputs": [
    {
     "data": {
      "text/plain": [
       "Counter({'Discharge to private home, condo, apt without support service/referral': 70703,\n",
       "         'Left at his/her own risk post-initial treatment': 762,\n",
       "         'Admit to reporting facility as inpatient to another unit from amb care': 11199,\n",
       "         'Admit to reporting facility as inpatient to SCU or OR from amb care': 374,\n",
       "         'Discharge to private home, condo, apt with support service/referral': 493,\n",
       "         'Transfer to Group/supportive living': 226,\n",
       "         'Transfer to another acute care facility directly from amb care': 242,\n",
       "         'Died in Facility': 113,\n",
       "         'Left After Triage': 250,\n",
       "         'Transfer to Residential care': 346,\n",
       "         'Left After Initial Assessment': 171,\n",
       "         'Intra-facility transfer to day surgery': 242,\n",
       "         'Dead on arrival': 3,\n",
       "         'Intra-facility transfer to clinic': 3,\n",
       "         'Left at his/her own risk following registration': 12,\n",
       "         'Transfer to correctional facility': 10,\n",
       "         'Intra-facility transfer to ED': 3,\n",
       "         'Transfer to another non-acute care facility directly from amb care': 2})"
      ]
     },
     "execution_count": 10,
     "metadata": {},
     "output_type": "execute_result"
    }
   ],
   "source": [
    "discharge_count2 = Counter(clin['DischargeDispositionDesc']); discharge_count2"
   ]
  },
  {
   "cell_type": "code",
   "execution_count": 11,
   "metadata": {
    "hidden": true
   },
   "outputs": [
    {
     "data": {
      "text/plain": [
       "Counter({nan: 73660,\n",
       "         'Cardiology': 1550,\n",
       "         'ALC General Medicine': 201,\n",
       "         'General Medicine': 4512,\n",
       "         'INTENSIVE CARE UNIT': 253,\n",
       "         'Respirology': 852,\n",
       "         'General Surgery': 650,\n",
       "         'Paediatrics': 882,\n",
       "         'Mental Health': 1198,\n",
       "         'Orthopaedics': 430,\n",
       "         'ALC Neurology': 64,\n",
       "         'Genitourinary': 182,\n",
       "         'Neurology': 456,\n",
       "         'Palliative': 65,\n",
       "         'ALC Respirology': 28,\n",
       "         'Oncology': 38,\n",
       "         'ALC Orthopaedics': 23,\n",
       "         'ALC Cardiology': 38,\n",
       "         'AD PALLIATIVE': 45,\n",
       "         'AD General Medicine': 2,\n",
       "         'Obstetrics': 17,\n",
       "         'AD Respirology': 1,\n",
       "         'AD Oncology': 1,\n",
       "         'ALC General Surgery': 2,\n",
       "         'Neonatal Retro Transfers': 1,\n",
       "         'ALC Oncology': 1,\n",
       "         'AD Neurology': 1,\n",
       "         'Newborn': 1})"
      ]
     },
     "execution_count": 11,
     "metadata": {},
     "output_type": "execute_result"
    }
   ],
   "source": [
    "comp_count = Counter(clin['PatientService']); comp_count"
   ]
  },
  {
   "cell_type": "markdown",
   "metadata": {},
   "source": [
    "## refactoring some of the cells so they are clean and useful"
   ]
  },
  {
   "cell_type": "code",
   "execution_count": 8,
   "metadata": {},
   "outputs": [],
   "source": [
    "o2sat = [item if item[-1] != '%' else item[:-1] for item in clin['O2Saturation_LastEDReading'].astype('str')]\n",
    "o2sat = [np.nan if item == 'nan' else float(item) for item in o2sat] \n",
    "clin['o2sat'] = o2sat"
   ]
  },
  {
   "cell_type": "code",
   "execution_count": 9,
   "metadata": {},
   "outputs": [],
   "source": [
    "pulse = clin['Pulse_LastEDReading']\n",
    "pulse = [re.sub(\"[^0-9]\", \"\", str(item)) for item in pulse]\n",
    "pulse = [np.nan if item == '' else float(item) for item in pulse] \n",
    "#set(pulse)\n",
    "clin['pulse'] = pulse"
   ]
  },
  {
   "cell_type": "code",
   "execution_count": 10,
   "metadata": {},
   "outputs": [],
   "source": [
    "temp = clin['Temperature_LastEDReading']\n",
    "temp = [re.sub(\"[^0-9]\", \"\", str(item)) for item in temp]\n",
    "temp = [np.nan if item == '' else float(item) for item in temp] \n",
    "temp = [item/10 if item > 100 else item for item in temp]\n",
    "temp = [np.nan if item > 40  else item for item in temp]\n",
    "#set(temp)\n",
    "clin['temp'] = temp"
   ]
  },
  {
   "cell_type": "code",
   "execution_count": 11,
   "metadata": {},
   "outputs": [],
   "source": [
    "def bptrans(bp):\n",
    "    if pd.isnull(bp) or len(bp.split('/')) !=2:\n",
    "        return [np.nan, np.nan]\n",
    "    res = []\n",
    "    for x in bp.split('/'):\n",
    "        try:\n",
    "            float(x)\n",
    "            res =  [float(x) for x in bp.split('/')]\n",
    "        except: \n",
    "            res =  [np.nan, np.nan]\n",
    "        return res\n"
   ]
  },
  {
   "cell_type": "code",
   "execution_count": 12,
   "metadata": {},
   "outputs": [],
   "source": [
    "#this is to clean the text in the subjective notes column (a little bit)\n",
    "def fixencode(s):\n",
    "    if pd.isnull(s):\n",
    "        s = \"None\"\n",
    "    s = s[14:]\n",
    "    s =s.replace('<LT><LF>','')\n",
    "    s = s.replace('<LT>LF>','')\n",
    "    s =s.replace('Pt.', 'patient')\n",
    "    s =s.replace('Pt', 'patient')\n",
    "    s = s.lower()\n",
    "    s = s.replace('pt.', 'patient')\n",
    "    s = s.replace('y/o', 'year old')\n",
    "    s = s.replace('c/o', 'complains of')\n",
    "    s = s.replace('sob', 'shortness of breath')\n",
    "    s = s.replace('c/p', 'chest pain')\n",
    "    s = s.replace('hrs', 'hours')\n",
    "    s = s.replace('hx', 'history')\n",
    "    s = s.replace('n/v', 'nausea and/or vomiting')\n",
    "    s = s.replace('a/e', 'air entry')\n",
    "    s = s.replace('a/o', 'alert and oriented')\n",
    "    s = s.replace('a&o', 'alert and oriented')\n",
    "    s = s.replace('d/c', 'discharge')\n",
    "    s = s.replace('u/s', 'ultrasound')\n",
    "    s = s.replace('yrs', 'years')\n",
    "    s = s.replace('lmp', 'last menstrual period')\n",
    "    s = s.replace('w/', 'with')\n",
    "    s = s.replace('@', 'at ')\n",
    "    s = s.replace('b/c', 'because')\n",
    "    s = re.sub(r'\\bpt.','patient ',s)\n",
    "    s = re.sub(r'\\blt.','left ',s)\n",
    "    s = re.sub(r'\\brt.','right ',s)\n",
    "    s = re.sub(r'\\bmd.','doctor ',s)\n",
    "    s = re.sub(r'\\bra\\b','room air ',s)\n",
    "    s = re.sub(r'\\bbp.','blood pressure ',s)\n",
    "    s = re.sub(r'\\bcp.','chest pain ',s)\n",
    "    s = re.sub(r'\\bfd.','family doctor ',s)\n",
    "    s = s.replace('abx', 'antibiotics')\n",
    "    s = s.replace('htn', 'hypertension')\n",
    "    s = re.sub(r'\\btyl\\b', 'tylenol', s)\n",
    "    s = re.sub(r'\\bprn\\b', 'as needed ',s)\n",
    "    s = re.sub(r'\\bvag\\b', 'vaginal ',s)\n",
    "    s = re.sub(r'\\bpo\\b', 'by mouth ',s)\n",
    "    s = re.sub(r'\\bllq\\b', 'left lower quadrant',s)\n",
    "    s = re.sub(r'\\brlq\\b', 'right lower quadrant  ',s)\n",
    "    s = re.sub(r'\\bluq\\b', 'left upper quadrant',s)\n",
    "    s = re.sub(r'\\bruq\\b', 'right upper quadrant  ',s)\n",
    "    s = re.sub(r'\\buti\\b', 'urinary tract infection ',s)\n",
    "    s = re.sub(r'\\brd', 'right digit number',s)\n",
    "    s = re.sub(r'\\bld', 'left digit number',s)\n",
    "    s = re.sub(r'\\br\\b', 'right ',s)\n",
    "    s = re.sub(r'\\bl\\b', 'left ',s)\n",
    "    s = re.sub(r'\\bed\\b', 'emergency department ',s)\n",
    "    s = re.sub(r'\\ber\\b', 'emergency room ',s)\n",
    "    s = re.sub(r'\\bbm\\b', 'bowel movement ',s)\n",
    "    \n",
    "    #remove extra white spaces\n",
    "    s = re.sub(r'\\s+', ' ', s)\n",
    "\n",
    "    #note that what's missing here is removal of punctuation\n",
    "    return s"
   ]
  },
  {
   "cell_type": "code",
   "execution_count": 13,
   "metadata": {},
   "outputs": [],
   "source": [
    "clin['CleanSubjectiveNotes'] = clin.SubjectiveNotes.map(fixencode)"
   ]
  },
  {
   "cell_type": "code",
   "execution_count": 15,
   "metadata": {},
   "outputs": [
    {
     "name": "stdout",
     "output_type": "stream",
     "text": [
      "patient states feeling depressed for few months,last tuesday patient tried to harm herself by taking 10 extra strength tylenol. denies any intentions to harm herself now or any intention to harm others,\n",
      "patient was playing around at school, was pushed by fellow student, patient felt a twisting sensation on her left knee and fell to floor. hurts to ambulate on, good csm\n",
      "as per mother, patient was in the school bus yesterday and it was hit form behind. since then patient has been exp nausea, headaches and stomach aches. no vomits or diarrhea. no urinary or bowel symptoms. no neuro deficits noted. no resp distres.\n",
      "sst fell on ladder this am,landed to right foot, complains of pain with swelling, sts no head injury, concerned abt his foot, sts took tylenol #3 2 tabs, abt 10 am.sts unable to wieght bear.\n",
      "as per patient with pain to lateral left back (describes as stabbing pain) radiating across mid back x1 month. seen at wic and bw done and patient sent to emergency department with elevated d-dimer. sent with a note to rule out pe\n",
      "patient complains of neck pain, nausea and vomiting since yesterday,no fall,no injury.denies any abdominal pain or urinary symptoms.complains of headache,neck pain.denies any chest pain.ecg done at triage.\n",
      "patient sts unable to void since 8am today, after had ultrasound done, last fluid inatake abt 10 am today, took advil 2 gel abt 0930hours.sts with back pain, nausea but no vomting. last menstrual period may 3/18.\n",
      "patient started to develop a generalized body rash since last week. came to emergency department for that issue, benadryl and prednisone was prescribed. patient still has rash but much better than last week. no resp distress, no drooling, no hoarse voice. no swelling of tongue or throat. has an appointment with the allergist at the end of the month\n",
      "patient has a hernia to his right side, patient states he felt it \"pop\" a couple of hours ago. patient has had the hernia since january. no bleeding, no urinary or bowel symptoms. pain comes in waves\n",
      "sts wants to see crisis worker, as advised by gp that saw today, patient sts feel down and depresses for almost 2 weeks, sts with thought to have knoefe, but no plan to harmed selt, denies hallucination or hearing voices.\n"
     ]
    }
   ],
   "source": [
    "for item in clin['CleanSubjectiveNotes'].iloc[10000:10010]:\n",
    "    print (item)"
   ]
  },
  {
   "cell_type": "code",
   "execution_count": 16,
   "metadata": {},
   "outputs": [],
   "source": [
    "clin['BP'] = clin.BloodPressure_LastEDReading.map(bptrans)\n",
    "\n",
    "clin[['systolic', 'diastolic']] = pd.DataFrame(clin.BP.tolist(), index= clin.index)\n",
    "clin[\"Gender\"] = clin.GenderDesc.map(lambda x: 1 if x == \"Male\" else 0)"
   ]
  },
  {
   "cell_type": "markdown",
   "metadata": {},
   "source": [
    "## split the screening questions\n",
    "- result is a df called: screening_df"
   ]
  },
  {
   "cell_type": "code",
   "execution_count": 17,
   "metadata": {},
   "outputs": [],
   "source": [
    "qlist = ['Are you feeling feverish or have had shakes or chills in the last 24 hours?',\n",
    "         'Have you ever been isolated/required isolation for an infectious disease when receiving care in a healthcare setting?',\n",
    "        'Do you have a new Rash?',\n",
    "        'Do you have a new onset of Vomiting/Diarrhea in the last 24 hours?',\n",
    "         'Have you travelled outside of Canada/USA in the last 3 weeks?',\n",
    "         'Have you had contact with a sick person who has travelled outside of Canada/USA in the last 3 weeks?',\n",
    "         'Have you received Health Care in another country in the last 2 years?',\n",
    "        'Do you have a new/worse cough or shortness of breath?',\n",
    "         'If so, select all countries that apply',\n",
    "        'If so, select all infectious diseases that apply']"
   ]
  },
  {
   "cell_type": "code",
   "execution_count": 18,
   "metadata": {},
   "outputs": [],
   "source": [
    "#making a dict so that the indect of an item on the list, matches the question later\n",
    "q_dict = {i:q for i,q in enumerate(qlist)}"
   ]
  },
  {
   "cell_type": "code",
   "execution_count": 19,
   "metadata": {},
   "outputs": [
    {
     "data": {
      "text/plain": [
       "{0: 'Are you feeling feverish or have had shakes or chills in the last 24 hours?',\n",
       " 1: 'Have you ever been isolated/required isolation for an infectious disease when receiving care in a healthcare setting?',\n",
       " 2: 'Do you have a new Rash?',\n",
       " 3: 'Do you have a new onset of Vomiting/Diarrhea in the last 24 hours?',\n",
       " 4: 'Have you travelled outside of Canada/USA in the last 3 weeks?',\n",
       " 5: 'Have you had contact with a sick person who has travelled outside of Canada/USA in the last 3 weeks?',\n",
       " 6: 'Have you received Health Care in another country in the last 2 years?',\n",
       " 7: 'Do you have a new/worse cough or shortness of breath?',\n",
       " 8: 'If so, select all countries that apply',\n",
       " 9: 'If so, select all infectious diseases that apply'}"
      ]
     },
     "execution_count": 19,
     "metadata": {},
     "output_type": "execute_result"
    }
   ],
   "source": [
    "q_dict"
   ]
  },
  {
   "cell_type": "code",
   "execution_count": 20,
   "metadata": {},
   "outputs": [],
   "source": [
    "#this is going to be a list made of up all the entries in the infection control screening column\n",
    "#casting the results as string to manipulate later\n",
    "qans = list(clin['InfectionControlScreening'].str[14:].astype('str'))"
   ]
  },
  {
   "cell_type": "code",
   "execution_count": 21,
   "metadata": {},
   "outputs": [],
   "source": [
    "#this is going to give me a way to split the questions by finding where they occur in the field\n",
    "split_points = []\n",
    "for item in qans:\n",
    "    temp_points = []\n",
    "    for word in qlist:\n",
    "        temp_points.append(item.find(word))\n",
    "    split_points.append(temp_points)\n",
    "    "
   ]
  },
  {
   "cell_type": "code",
   "execution_count": 22,
   "metadata": {},
   "outputs": [],
   "source": [
    "#this is going to give me list of places to split each entry (using only the questions that are actually present)\n",
    "real_points = []\n",
    "for item in split_points:\n",
    "    real_points.append([idx for idx in sorted(item) if idx > 0])"
   ]
  },
  {
   "cell_type": "code",
   "execution_count": 23,
   "metadata": {},
   "outputs": [
    {
     "data": {
      "text/plain": [
       "[[241, -1, 400, 325, 0, 70, -1, 179, -1, -1],\n",
       " [241, -1, 400, 325, 0, 70, -1, 179, -1, -1],\n",
       " [241, -1, 400, 325, 0, 70, -1, 179, -1, -1],\n",
       " [241, -1, 400, 325, 0, 70, -1, 179, -1, -1],\n",
       " [241, -1, 400, 325, 0, 70, -1, 179, -1, -1],\n",
       " [241, -1, 400, 325, 0, 70, -1, 179, -1, -1],\n",
       " [241, -1, 400, 325, 0, 70, -1, 179, -1, -1],\n",
       " [241, -1, 400, 325, 0, 70, -1, 179, -1, -1],\n",
       " [241, -1, 400, 325, 0, 70, -1, 179, -1, -1],\n",
       " [241, -1, 400, 325, 0, 70, -1, 179, -1, -1]]"
      ]
     },
     "execution_count": 23,
     "metadata": {},
     "output_type": "execute_result"
    }
   ],
   "source": [
    "split_points[10000:10010]"
   ]
  },
  {
   "cell_type": "code",
   "execution_count": 24,
   "metadata": {},
   "outputs": [
    {
     "data": {
      "text/plain": [
       "[[70, 179, 241, 325, 400],\n",
       " [70, 179, 241, 325, 400],\n",
       " [70, 179, 241, 325, 400],\n",
       " [70, 179, 241, 325, 400],\n",
       " [70, 179, 241, 325, 400],\n",
       " [70, 179, 241, 325, 400],\n",
       " [70, 179, 241, 325, 400],\n",
       " [70, 179, 241, 325, 400],\n",
       " [70, 179, 241, 325, 400],\n",
       " [70, 179, 241, 325, 400]]"
      ]
     },
     "execution_count": 24,
     "metadata": {},
     "output_type": "execute_result"
    }
   ],
   "source": [
    "#anything from the list above which would have been empty in the original data\n",
    "#gives a list of -1's in split_points and nothing in real_points\n",
    "real_points[10000:10010]"
   ]
  },
  {
   "cell_type": "code",
   "execution_count": 25,
   "metadata": {},
   "outputs": [
    {
     "name": "stdout",
     "output_type": "stream",
     "text": [
      "Have you travelled outside of Canada/USA in the last 3 weeks? N<LT>LF>Have you had contact with a sick person who has travelled outside of Canada/USA in the last 3 weeks? N<LT>LF>Do you have a new/worse cough or shortness of breath? Y<LT>LF>Are you feeling feverish or have had shakes or chills in the last 24 hours? Y<LT>LF>Do you have a new onset of Vomiting/Diarrhea in the last 24 hours? N<LT>LF>Do you have a new Rash? N\n",
      "\n",
      "[241, -1, 400, 325, 0, 70, -1, 179, -1, -1]\n",
      "\n",
      "[70, 179, 241, 325, 400]\n"
     ]
    }
   ],
   "source": [
    "print(qans[1000])\n",
    "print()\n",
    "print (split_points[1000])\n",
    "print ()\n",
    "print(real_points[1000])"
   ]
  },
  {
   "cell_type": "code",
   "execution_count": 26,
   "metadata": {},
   "outputs": [],
   "source": [
    "#this should mutate qans so each item is now a list of q and a's\n",
    "for idx in range(len(qans)):\n",
    "    qans[idx] = [qans[idx][i : j] for i, j in zip([0] + real_points[idx], real_points[idx] + [None])]\n",
    "    "
   ]
  },
  {
   "cell_type": "code",
   "execution_count": 27,
   "metadata": {},
   "outputs": [
    {
     "data": {
      "text/plain": [
       "['Have you travelled outside of Canada/USA in the last 3 weeks? N<LT>LF>',\n",
       " 'Have you had contact with a sick person who has travelled outside of Canada/USA in the last 3 weeks? N<LT>LF>',\n",
       " 'Do you have a new/worse cough or shortness of breath? Y<LT>LF>',\n",
       " 'Are you feeling feverish or have had shakes or chills in the last 24 hours? Y<LT>LF>',\n",
       " 'Do you have a new onset of Vomiting/Diarrhea in the last 24 hours? N<LT>LF>',\n",
       " 'Do you have a new Rash? N']"
      ]
     },
     "execution_count": 27,
     "metadata": {},
     "output_type": "execute_result"
    }
   ],
   "source": [
    "qans[1000]"
   ]
  },
  {
   "cell_type": "code",
   "execution_count": 28,
   "metadata": {
    "scrolled": true
   },
   "outputs": [
    {
     "data": {
      "text/plain": [
       "['Have you travelled outside of Canada/USA in the last 3 weeks? N<LT>LF>',\n",
       " 'Have you had contact with a sick person who has travelled outside of Canada/USA in the last 3 weeks? N<LT>LF>',\n",
       " 'Do you have a new/worse cough or shortness of breath? N<LT>LF>',\n",
       " 'Are you feeling feverish or have had shakes or chills in the last 24 hours? N<LT>LF>',\n",
       " 'Do you have a new onset of Vomiting/Diarrhea in the last 24 hours? N<LT>LF>',\n",
       " 'Do you have a new Rash? N']"
      ]
     },
     "execution_count": 28,
     "metadata": {},
     "output_type": "execute_result"
    }
   ],
   "source": [
    "qans[10000]"
   ]
  },
  {
   "cell_type": "code",
   "execution_count": 29,
   "metadata": {},
   "outputs": [],
   "source": [
    "#this will mutate each item of each list in qans and drop the <LT>LF> if present\n",
    "for q in qans:\n",
    "    for idx in range(len(q)):\n",
    "        if q[idx].find('<LT>LF>') != -1:\n",
    "            q[idx] = q[idx][:-7]\n",
    "        "
   ]
  },
  {
   "cell_type": "code",
   "execution_count": 30,
   "metadata": {},
   "outputs": [
    {
     "data": {
      "text/plain": [
       "['Have you travelled outside of Canada/USA in the last 3 weeks? N',\n",
       " 'Have you had contact with a sick person who has travelled outside of Canada/USA in the last 3 weeks? N',\n",
       " 'Do you have a new/worse cough or shortness of breath? Y',\n",
       " 'Are you feeling feverish or have had shakes or chills in the last 24 hours? Y',\n",
       " 'Do you have a new onset of Vomiting/Diarrhea in the last 24 hours? N',\n",
       " 'Do you have a new Rash? N']"
      ]
     },
     "execution_count": 30,
     "metadata": {},
     "output_type": "execute_result"
    }
   ],
   "source": [
    "qans[1000]"
   ]
  },
  {
   "cell_type": "code",
   "execution_count": 31,
   "metadata": {},
   "outputs": [
    {
     "data": {
      "text/plain": [
       "['Have you travelled outside of Canada/USA in the last 3 weeks? N',\n",
       " 'Have you had contact with a sick person who has travelled outside of Canada/USA in the last 3 weeks? N',\n",
       " 'Do you have a new/worse cough or shortness of breath? N',\n",
       " 'Are you feeling feverish or have had shakes or chills in the last 24 hours? N',\n",
       " 'Do you have a new onset of Vomiting/Diarrhea in the last 24 hours? N',\n",
       " 'Do you have a new Rash? N']"
      ]
     },
     "execution_count": 31,
     "metadata": {},
     "output_type": "execute_result"
    }
   ],
   "source": [
    "qans[10000]"
   ]
  },
  {
   "cell_type": "code",
   "execution_count": 32,
   "metadata": {},
   "outputs": [
    {
     "data": {
      "text/plain": [
       "['Have you travelled outside of Canada/USA in the last 3 weeks? N',\n",
       " 'Have you had contact with a sick person who has travelled outside of Canada/USA in the last 3 weeks? N',\n",
       " 'Do you have a new/worse cough or shortness of breath? Y',\n",
       " 'Are you feeling feverish or have had shakes or chills in the last 24 hours? Y',\n",
       " 'Do you have a new onset of Vomiting/Diarrhea in the last 24 hours? N',\n",
       " 'Do you have a new Rash? N']"
      ]
     },
     "execution_count": 32,
     "metadata": {},
     "output_type": "execute_result"
    }
   ],
   "source": [
    "qans[1000]"
   ]
  },
  {
   "cell_type": "code",
   "execution_count": 33,
   "metadata": {},
   "outputs": [],
   "source": [
    "seg_list = []\n",
    "for q in qans:\n",
    "    #print ('initial:', q)\n",
    "    test_question = q\n",
    "    res = []\n",
    "    for item in test_question:\n",
    "        #print (item)\n",
    "        for qq in qlist:\n",
    "            if item.find(qq) != -1:\n",
    "                #print ('question:',item[:len(qq)])\n",
    "                #print ('answer:',item[len(qq)+1:])\n",
    "                res.append([item[:len(qq)],item[len(qq)+1:] ])\n",
    "    seg_list.append(res)\n",
    "    #print ('\\nresult:',res, '\\n\\n')"
   ]
  },
  {
   "cell_type": "code",
   "execution_count": 34,
   "metadata": {},
   "outputs": [
    {
     "data": {
      "text/plain": [
       "102543"
      ]
     },
     "execution_count": 34,
     "metadata": {},
     "output_type": "execute_result"
    }
   ],
   "source": [
    "len(seg_list)"
   ]
  },
  {
   "cell_type": "code",
   "execution_count": 35,
   "metadata": {},
   "outputs": [],
   "source": [
    "seg_list2 = []\n",
    "for q in qans:\n",
    "    #print ('initial:', q)\n",
    "    test_question = q\n",
    "    res = {}\n",
    "    for item in test_question:\n",
    "        #print (item)\n",
    "        for qq in qlist:\n",
    "            if item.find(qq) != -1:\n",
    "                question = item[:len(qq)]\n",
    "                answer = item[len(qq)+1:]\n",
    "                res[question] = answer\n",
    "    seg_list2.append(res)"
   ]
  },
  {
   "cell_type": "code",
   "execution_count": 36,
   "metadata": {},
   "outputs": [],
   "source": [
    "final_list = []\n",
    "for q in range(len(split_points)):\n",
    "    temp = []\n",
    "    for i in range(len(split_points[q])):\n",
    "        if split_points[q][i] == -1:\n",
    "            #print('nan')\n",
    "            temp.append('nan')\n",
    "        else:\n",
    "            #print (brief_list2[q][q_dict[i]])  # q_dict[i], i, brief_splits[q][i],\n",
    "            temp.append(seg_list2[q][q_dict[i]])\n",
    "    final_list.append(temp)\n",
    "    #print ('\\n next item \\n')\n",
    "            "
   ]
  },
  {
   "cell_type": "code",
   "execution_count": 37,
   "metadata": {},
   "outputs": [
    {
     "data": {
      "text/plain": [
       "102543"
      ]
     },
     "execution_count": 37,
     "metadata": {},
     "output_type": "execute_result"
    }
   ],
   "source": [
    "len(final_list)"
   ]
  },
  {
   "cell_type": "code",
   "execution_count": 38,
   "metadata": {},
   "outputs": [
    {
     "data": {
      "text/plain": [
       "[['N', 'nan', 'N', 'N', 'N', 'N', 'nan', 'N', 'nan', 'nan'],\n",
       " ['N', 'nan', 'N', 'N', 'N', 'N', 'nan', 'N', 'nan', 'nan'],\n",
       " ['N', 'nan', 'N', 'N', 'N', 'N', 'nan', 'N', 'nan', 'nan'],\n",
       " ['N', 'nan', 'nan', 'N', 'N', 'N', 'nan', 'N', 'nan', 'nan'],\n",
       " ['N', 'nan', 'N', 'N', 'N', 'N', 'nan', 'Y', 'nan', 'nan'],\n",
       " ['N', 'nan', 'N', 'N', 'N', 'N', 'nan', 'N', 'nan', 'nan'],\n",
       " ['N', 'nan', 'N', 'N', 'N', 'N', 'nan', 'N', 'nan', 'nan'],\n",
       " ['N', 'nan', 'N', 'N', 'N', 'N', 'nan', 'N', 'nan', 'nan'],\n",
       " ['N', 'nan', 'N', 'N', 'N', 'N', 'nan', 'N', 'nan', 'nan'],\n",
       " ['N', 'nan', 'N', 'N', 'N', 'N', 'nan', 'N', 'nan', 'nan']]"
      ]
     },
     "execution_count": 38,
     "metadata": {},
     "output_type": "execute_result"
    }
   ],
   "source": [
    "final_list[100:110]"
   ]
  },
  {
   "cell_type": "code",
   "execution_count": 39,
   "metadata": {},
   "outputs": [
    {
     "data": {
      "text/plain": [
       "[['Y', 'nan', 'N', 'N', 'N', 'N', 'nan', 'Y', 'nan', 'nan'],\n",
       " ['N', 'nan', 'N', 'N', 'N', 'N', 'nan', 'Y', 'nan', 'nan'],\n",
       " ['N', 'nan', 'N', 'N', 'N', 'N', 'nan', 'Y', 'nan', 'nan'],\n",
       " ['N', 'nan', 'N', 'N', 'N', 'N', 'nan', 'N', 'nan', 'nan'],\n",
       " ['N', 'nan', 'N', 'N', 'N', 'N', 'nan', 'N', 'nan', 'nan'],\n",
       " ['N', 'nan', 'N', 'N', 'N', 'N', 'nan', 'N', 'nan', 'nan'],\n",
       " ['N', 'nan', 'N', 'N', 'Y', 'N', 'nan', 'Y', 'IND', 'nan'],\n",
       " ['N', 'nan', 'N', 'nan', 'N', 'N', 'nan', 'N', 'nan', 'nan'],\n",
       " ['N', 'nan', 'N', 'N', 'N', 'N', 'nan', 'N', 'nan', 'nan'],\n",
       " ['N', 'nan', 'N', 'N', 'N', 'N', 'nan', 'N', 'nan', 'nan'],\n",
       " ['N', 'nan', 'N', 'N', 'N', 'N', 'nan', 'N', 'nan', 'nan'],\n",
       " ['N', 'nan', 'N', 'N', 'N', 'N', 'nan', 'N', 'nan', 'nan'],\n",
       " ['Y', 'nan', 'N', 'N', 'Y', 'N', 'nan', 'N', 'IND', 'nan'],\n",
       " ['N', 'nan', 'N', 'N', 'N', 'N', 'nan', 'N', 'nan', 'nan'],\n",
       " ['N', 'N', 'N', 'N', 'N', 'N', 'N', 'N', 'nan', 'nan'],\n",
       " ['N', 'nan', 'N', 'N', 'N', 'N', 'nan', 'N', 'nan', 'nan'],\n",
       " ['N', 'nan', 'N', 'N', 'N', 'N', 'nan', 'N', 'nan', 'nan'],\n",
       " ['N', 'nan', 'N', 'N', 'N', 'N', 'nan', 'N', 'nan', 'nan'],\n",
       " ['N', 'nan', 'N', 'Y', 'N', 'N', 'nan', 'N', 'nan', 'nan'],\n",
       " ['N', 'nan', 'N', 'N', 'N', 'N', 'nan', 'Y', 'nan', 'nan']]"
      ]
     },
     "execution_count": 39,
     "metadata": {},
     "output_type": "execute_result"
    }
   ],
   "source": [
    "final_list[1000:1020]"
   ]
  },
  {
   "cell_type": "code",
   "execution_count": 40,
   "metadata": {},
   "outputs": [
    {
     "data": {
      "text/html": [
       "<div>\n",
       "<style scoped>\n",
       "    .dataframe tbody tr th:only-of-type {\n",
       "        vertical-align: middle;\n",
       "    }\n",
       "\n",
       "    .dataframe tbody tr th {\n",
       "        vertical-align: top;\n",
       "    }\n",
       "\n",
       "    .dataframe thead th {\n",
       "        text-align: right;\n",
       "    }\n",
       "</style>\n",
       "<table border=\"1\" class=\"dataframe\">\n",
       "  <thead>\n",
       "    <tr style=\"text-align: right;\">\n",
       "      <th></th>\n",
       "      <th>Are you feeling feverish or have had shakes or chills in the last 24 hours?</th>\n",
       "      <th>Have you ever been isolated/required isolation for an infectious disease when receiving care in a healthcare setting?</th>\n",
       "      <th>Do you have a new Rash?</th>\n",
       "      <th>Do you have a new onset of Vomiting/Diarrhea in the last 24 hours?</th>\n",
       "      <th>Have you travelled outside of Canada/USA in the last 3 weeks?</th>\n",
       "      <th>Have you had contact with a sick person who has travelled outside of Canada/USA in the last 3 weeks?</th>\n",
       "      <th>Have you received Health Care in another country in the last 2 years?</th>\n",
       "      <th>Do you have a new/worse cough or shortness of breath?</th>\n",
       "      <th>If so, select all countries that apply</th>\n",
       "      <th>If so, select all infectious diseases that apply</th>\n",
       "    </tr>\n",
       "  </thead>\n",
       "  <tbody>\n",
       "    <tr>\n",
       "      <th>0</th>\n",
       "      <td>Y</td>\n",
       "      <td>nan</td>\n",
       "      <td>N</td>\n",
       "      <td>N</td>\n",
       "      <td>N</td>\n",
       "      <td>N</td>\n",
       "      <td>nan</td>\n",
       "      <td>N</td>\n",
       "      <td>nan</td>\n",
       "      <td>nan</td>\n",
       "    </tr>\n",
       "    <tr>\n",
       "      <th>1</th>\n",
       "      <td>Y</td>\n",
       "      <td>nan</td>\n",
       "      <td>N</td>\n",
       "      <td>Y</td>\n",
       "      <td>N</td>\n",
       "      <td>N</td>\n",
       "      <td>nan</td>\n",
       "      <td>N</td>\n",
       "      <td>nan</td>\n",
       "      <td>nan</td>\n",
       "    </tr>\n",
       "    <tr>\n",
       "      <th>2</th>\n",
       "      <td>N</td>\n",
       "      <td>nan</td>\n",
       "      <td>N</td>\n",
       "      <td>N</td>\n",
       "      <td>N</td>\n",
       "      <td>N</td>\n",
       "      <td>nan</td>\n",
       "      <td>N</td>\n",
       "      <td>nan</td>\n",
       "      <td>nan</td>\n",
       "    </tr>\n",
       "    <tr>\n",
       "      <th>3</th>\n",
       "      <td>N</td>\n",
       "      <td>nan</td>\n",
       "      <td>N</td>\n",
       "      <td>N</td>\n",
       "      <td>N</td>\n",
       "      <td>N</td>\n",
       "      <td>nan</td>\n",
       "      <td>Y</td>\n",
       "      <td>nan</td>\n",
       "      <td>nan</td>\n",
       "    </tr>\n",
       "    <tr>\n",
       "      <th>4</th>\n",
       "      <td>N</td>\n",
       "      <td>nan</td>\n",
       "      <td>N</td>\n",
       "      <td>N</td>\n",
       "      <td>N</td>\n",
       "      <td>N</td>\n",
       "      <td>nan</td>\n",
       "      <td>N</td>\n",
       "      <td>nan</td>\n",
       "      <td>nan</td>\n",
       "    </tr>\n",
       "  </tbody>\n",
       "</table>\n",
       "</div>"
      ],
      "text/plain": [
       "  Are you feeling feverish or have had shakes or chills in the last 24 hours?  \\\n",
       "0                                                  Y                            \n",
       "1                                                  Y                            \n",
       "2                                                  N                            \n",
       "3                                                  N                            \n",
       "4                                                  N                            \n",
       "\n",
       "  Have you ever been isolated/required isolation for an infectious disease when receiving care in a healthcare setting?  \\\n",
       "0                                                nan                                                                      \n",
       "1                                                nan                                                                      \n",
       "2                                                nan                                                                      \n",
       "3                                                nan                                                                      \n",
       "4                                                nan                                                                      \n",
       "\n",
       "  Do you have a new Rash?  \\\n",
       "0                       N   \n",
       "1                       N   \n",
       "2                       N   \n",
       "3                       N   \n",
       "4                       N   \n",
       "\n",
       "  Do you have a new onset of Vomiting/Diarrhea in the last 24 hours?  \\\n",
       "0                                                  N                   \n",
       "1                                                  Y                   \n",
       "2                                                  N                   \n",
       "3                                                  N                   \n",
       "4                                                  N                   \n",
       "\n",
       "  Have you travelled outside of Canada/USA in the last 3 weeks?  \\\n",
       "0                                                  N              \n",
       "1                                                  N              \n",
       "2                                                  N              \n",
       "3                                                  N              \n",
       "4                                                  N              \n",
       "\n",
       "  Have you had contact with a sick person who has travelled outside of Canada/USA in the last 3 weeks?  \\\n",
       "0                                                  N                                                     \n",
       "1                                                  N                                                     \n",
       "2                                                  N                                                     \n",
       "3                                                  N                                                     \n",
       "4                                                  N                                                     \n",
       "\n",
       "  Have you received Health Care in another country in the last 2 years?  \\\n",
       "0                                                nan                      \n",
       "1                                                nan                      \n",
       "2                                                nan                      \n",
       "3                                                nan                      \n",
       "4                                                nan                      \n",
       "\n",
       "  Do you have a new/worse cough or shortness of breath?  \\\n",
       "0                                                  N      \n",
       "1                                                  N      \n",
       "2                                                  N      \n",
       "3                                                  Y      \n",
       "4                                                  N      \n",
       "\n",
       "  If so, select all countries that apply  \\\n",
       "0                                    nan   \n",
       "1                                    nan   \n",
       "2                                    nan   \n",
       "3                                    nan   \n",
       "4                                    nan   \n",
       "\n",
       "  If so, select all infectious diseases that apply  \n",
       "0                                              nan  \n",
       "1                                              nan  \n",
       "2                                              nan  \n",
       "3                                              nan  \n",
       "4                                              nan  "
      ]
     },
     "execution_count": 40,
     "metadata": {},
     "output_type": "execute_result"
    }
   ],
   "source": [
    "screening_df = pd.DataFrame(final_list, columns = qlist)\n",
    "screening_df.head()"
   ]
  },
  {
   "cell_type": "code",
   "execution_count": 41,
   "metadata": {},
   "outputs": [
    {
     "data": {
      "text/plain": [
       "(102543, 10)"
      ]
     },
     "execution_count": 41,
     "metadata": {},
     "output_type": "execute_result"
    }
   ],
   "source": [
    "screening_df.shape"
   ]
  },
  {
   "cell_type": "code",
   "execution_count": 42,
   "metadata": {},
   "outputs": [
    {
     "data": {
      "text/html": [
       "<div>\n",
       "<style scoped>\n",
       "    .dataframe tbody tr th:only-of-type {\n",
       "        vertical-align: middle;\n",
       "    }\n",
       "\n",
       "    .dataframe tbody tr th {\n",
       "        vertical-align: top;\n",
       "    }\n",
       "\n",
       "    .dataframe thead th {\n",
       "        text-align: right;\n",
       "    }\n",
       "</style>\n",
       "<table border=\"1\" class=\"dataframe\">\n",
       "  <thead>\n",
       "    <tr style=\"text-align: right;\">\n",
       "      <th></th>\n",
       "      <th>Are you feeling feverish or have had shakes or chills in the last 24 hours?</th>\n",
       "      <th>Have you ever been isolated/required isolation for an infectious disease when receiving care in a healthcare setting?</th>\n",
       "      <th>Do you have a new Rash?</th>\n",
       "      <th>Do you have a new onset of Vomiting/Diarrhea in the last 24 hours?</th>\n",
       "      <th>Have you travelled outside of Canada/USA in the last 3 weeks?</th>\n",
       "      <th>Have you had contact with a sick person who has travelled outside of Canada/USA in the last 3 weeks?</th>\n",
       "      <th>Have you received Health Care in another country in the last 2 years?</th>\n",
       "      <th>Do you have a new/worse cough or shortness of breath?</th>\n",
       "      <th>If so, select all countries that apply</th>\n",
       "      <th>If so, select all infectious diseases that apply</th>\n",
       "    </tr>\n",
       "  </thead>\n",
       "  <tbody>\n",
       "    <tr>\n",
       "      <th>80000</th>\n",
       "      <td>N</td>\n",
       "      <td>nan</td>\n",
       "      <td>N</td>\n",
       "      <td>N</td>\n",
       "      <td>N</td>\n",
       "      <td>N</td>\n",
       "      <td>nan</td>\n",
       "      <td>N</td>\n",
       "      <td>nan</td>\n",
       "      <td>nan</td>\n",
       "    </tr>\n",
       "    <tr>\n",
       "      <th>80001</th>\n",
       "      <td>N</td>\n",
       "      <td>nan</td>\n",
       "      <td>nan</td>\n",
       "      <td>nan</td>\n",
       "      <td>N</td>\n",
       "      <td>nan</td>\n",
       "      <td>nan</td>\n",
       "      <td>N</td>\n",
       "      <td>nan</td>\n",
       "      <td>nan</td>\n",
       "    </tr>\n",
       "    <tr>\n",
       "      <th>80002</th>\n",
       "      <td>Y</td>\n",
       "      <td>nan</td>\n",
       "      <td>N</td>\n",
       "      <td>N</td>\n",
       "      <td>N</td>\n",
       "      <td>N</td>\n",
       "      <td>nan</td>\n",
       "      <td>Y</td>\n",
       "      <td>nan</td>\n",
       "      <td>nan</td>\n",
       "    </tr>\n",
       "    <tr>\n",
       "      <th>80003</th>\n",
       "      <td>Y</td>\n",
       "      <td>nan</td>\n",
       "      <td>nan</td>\n",
       "      <td>N</td>\n",
       "      <td>N</td>\n",
       "      <td>N</td>\n",
       "      <td>nan</td>\n",
       "      <td>N</td>\n",
       "      <td>nan</td>\n",
       "      <td>nan</td>\n",
       "    </tr>\n",
       "    <tr>\n",
       "      <th>80004</th>\n",
       "      <td>N</td>\n",
       "      <td>nan</td>\n",
       "      <td>N</td>\n",
       "      <td>N</td>\n",
       "      <td>N</td>\n",
       "      <td>N</td>\n",
       "      <td>nan</td>\n",
       "      <td>N</td>\n",
       "      <td>nan</td>\n",
       "      <td>nan</td>\n",
       "    </tr>\n",
       "    <tr>\n",
       "      <th>80005</th>\n",
       "      <td>N</td>\n",
       "      <td>nan</td>\n",
       "      <td>N</td>\n",
       "      <td>N</td>\n",
       "      <td>N</td>\n",
       "      <td>N</td>\n",
       "      <td>nan</td>\n",
       "      <td>N</td>\n",
       "      <td>nan</td>\n",
       "      <td>nan</td>\n",
       "    </tr>\n",
       "    <tr>\n",
       "      <th>80006</th>\n",
       "      <td>N</td>\n",
       "      <td>nan</td>\n",
       "      <td>N</td>\n",
       "      <td>N</td>\n",
       "      <td>N</td>\n",
       "      <td>N</td>\n",
       "      <td>nan</td>\n",
       "      <td>N</td>\n",
       "      <td>nan</td>\n",
       "      <td>nan</td>\n",
       "    </tr>\n",
       "    <tr>\n",
       "      <th>80007</th>\n",
       "      <td>N</td>\n",
       "      <td>nan</td>\n",
       "      <td>N</td>\n",
       "      <td>N</td>\n",
       "      <td>N</td>\n",
       "      <td>N</td>\n",
       "      <td>nan</td>\n",
       "      <td>N</td>\n",
       "      <td>nan</td>\n",
       "      <td>nan</td>\n",
       "    </tr>\n",
       "    <tr>\n",
       "      <th>80008</th>\n",
       "      <td>Y</td>\n",
       "      <td>nan</td>\n",
       "      <td>N</td>\n",
       "      <td>N</td>\n",
       "      <td>Y</td>\n",
       "      <td>N</td>\n",
       "      <td>nan</td>\n",
       "      <td>Y</td>\n",
       "      <td>USA</td>\n",
       "      <td>nan</td>\n",
       "    </tr>\n",
       "    <tr>\n",
       "      <th>80009</th>\n",
       "      <td>N</td>\n",
       "      <td>nan</td>\n",
       "      <td>N</td>\n",
       "      <td>N</td>\n",
       "      <td>N</td>\n",
       "      <td>N</td>\n",
       "      <td>nan</td>\n",
       "      <td>N</td>\n",
       "      <td>nan</td>\n",
       "      <td>nan</td>\n",
       "    </tr>\n",
       "  </tbody>\n",
       "</table>\n",
       "</div>"
      ],
      "text/plain": [
       "      Are you feeling feverish or have had shakes or chills in the last 24 hours?  \\\n",
       "80000                                                  N                            \n",
       "80001                                                  N                            \n",
       "80002                                                  Y                            \n",
       "80003                                                  Y                            \n",
       "80004                                                  N                            \n",
       "80005                                                  N                            \n",
       "80006                                                  N                            \n",
       "80007                                                  N                            \n",
       "80008                                                  Y                            \n",
       "80009                                                  N                            \n",
       "\n",
       "      Have you ever been isolated/required isolation for an infectious disease when receiving care in a healthcare setting?  \\\n",
       "80000                                                nan                                                                      \n",
       "80001                                                nan                                                                      \n",
       "80002                                                nan                                                                      \n",
       "80003                                                nan                                                                      \n",
       "80004                                                nan                                                                      \n",
       "80005                                                nan                                                                      \n",
       "80006                                                nan                                                                      \n",
       "80007                                                nan                                                                      \n",
       "80008                                                nan                                                                      \n",
       "80009                                                nan                                                                      \n",
       "\n",
       "      Do you have a new Rash?  \\\n",
       "80000                       N   \n",
       "80001                     nan   \n",
       "80002                       N   \n",
       "80003                     nan   \n",
       "80004                       N   \n",
       "80005                       N   \n",
       "80006                       N   \n",
       "80007                       N   \n",
       "80008                       N   \n",
       "80009                       N   \n",
       "\n",
       "      Do you have a new onset of Vomiting/Diarrhea in the last 24 hours?  \\\n",
       "80000                                                  N                   \n",
       "80001                                                nan                   \n",
       "80002                                                  N                   \n",
       "80003                                                  N                   \n",
       "80004                                                  N                   \n",
       "80005                                                  N                   \n",
       "80006                                                  N                   \n",
       "80007                                                  N                   \n",
       "80008                                                  N                   \n",
       "80009                                                  N                   \n",
       "\n",
       "      Have you travelled outside of Canada/USA in the last 3 weeks?  \\\n",
       "80000                                                  N              \n",
       "80001                                                  N              \n",
       "80002                                                  N              \n",
       "80003                                                  N              \n",
       "80004                                                  N              \n",
       "80005                                                  N              \n",
       "80006                                                  N              \n",
       "80007                                                  N              \n",
       "80008                                                  Y              \n",
       "80009                                                  N              \n",
       "\n",
       "      Have you had contact with a sick person who has travelled outside of Canada/USA in the last 3 weeks?  \\\n",
       "80000                                                  N                                                     \n",
       "80001                                                nan                                                     \n",
       "80002                                                  N                                                     \n",
       "80003                                                  N                                                     \n",
       "80004                                                  N                                                     \n",
       "80005                                                  N                                                     \n",
       "80006                                                  N                                                     \n",
       "80007                                                  N                                                     \n",
       "80008                                                  N                                                     \n",
       "80009                                                  N                                                     \n",
       "\n",
       "      Have you received Health Care in another country in the last 2 years?  \\\n",
       "80000                                                nan                      \n",
       "80001                                                nan                      \n",
       "80002                                                nan                      \n",
       "80003                                                nan                      \n",
       "80004                                                nan                      \n",
       "80005                                                nan                      \n",
       "80006                                                nan                      \n",
       "80007                                                nan                      \n",
       "80008                                                nan                      \n",
       "80009                                                nan                      \n",
       "\n",
       "      Do you have a new/worse cough or shortness of breath?  \\\n",
       "80000                                                  N      \n",
       "80001                                                  N      \n",
       "80002                                                  Y      \n",
       "80003                                                  N      \n",
       "80004                                                  N      \n",
       "80005                                                  N      \n",
       "80006                                                  N      \n",
       "80007                                                  N      \n",
       "80008                                                  Y      \n",
       "80009                                                  N      \n",
       "\n",
       "      If so, select all countries that apply  \\\n",
       "80000                                    nan   \n",
       "80001                                    nan   \n",
       "80002                                    nan   \n",
       "80003                                    nan   \n",
       "80004                                    nan   \n",
       "80005                                    nan   \n",
       "80006                                    nan   \n",
       "80007                                    nan   \n",
       "80008                                    USA   \n",
       "80009                                    nan   \n",
       "\n",
       "      If so, select all infectious diseases that apply  \n",
       "80000                                              nan  \n",
       "80001                                              nan  \n",
       "80002                                              nan  \n",
       "80003                                              nan  \n",
       "80004                                              nan  \n",
       "80005                                              nan  \n",
       "80006                                              nan  \n",
       "80007                                              nan  \n",
       "80008                                              nan  \n",
       "80009                                              nan  "
      ]
     },
     "execution_count": 42,
     "metadata": {},
     "output_type": "execute_result"
    }
   ],
   "source": [
    "screening_df.iloc[80000:80010]"
   ]
  },
  {
   "cell_type": "code",
   "execution_count": 43,
   "metadata": {},
   "outputs": [],
   "source": [
    "screening_df.replace('nan',np.NaN, inplace = True)"
   ]
  },
  {
   "cell_type": "code",
   "execution_count": 44,
   "metadata": {},
   "outputs": [
    {
     "data": {
      "text/html": [
       "<div>\n",
       "<style scoped>\n",
       "    .dataframe tbody tr th:only-of-type {\n",
       "        vertical-align: middle;\n",
       "    }\n",
       "\n",
       "    .dataframe tbody tr th {\n",
       "        vertical-align: top;\n",
       "    }\n",
       "\n",
       "    .dataframe thead th {\n",
       "        text-align: right;\n",
       "    }\n",
       "</style>\n",
       "<table border=\"1\" class=\"dataframe\">\n",
       "  <thead>\n",
       "    <tr style=\"text-align: right;\">\n",
       "      <th></th>\n",
       "      <th>Are you feeling feverish or have had shakes or chills in the last 24 hours?</th>\n",
       "      <th>Have you ever been isolated/required isolation for an infectious disease when receiving care in a healthcare setting?</th>\n",
       "      <th>Do you have a new Rash?</th>\n",
       "      <th>Do you have a new onset of Vomiting/Diarrhea in the last 24 hours?</th>\n",
       "      <th>Have you travelled outside of Canada/USA in the last 3 weeks?</th>\n",
       "      <th>Have you had contact with a sick person who has travelled outside of Canada/USA in the last 3 weeks?</th>\n",
       "      <th>Have you received Health Care in another country in the last 2 years?</th>\n",
       "      <th>Do you have a new/worse cough or shortness of breath?</th>\n",
       "      <th>If so, select all countries that apply</th>\n",
       "      <th>If so, select all infectious diseases that apply</th>\n",
       "    </tr>\n",
       "  </thead>\n",
       "  <tbody>\n",
       "    <tr>\n",
       "      <th>80000</th>\n",
       "      <td>N</td>\n",
       "      <td>NaN</td>\n",
       "      <td>N</td>\n",
       "      <td>N</td>\n",
       "      <td>N</td>\n",
       "      <td>N</td>\n",
       "      <td>NaN</td>\n",
       "      <td>N</td>\n",
       "      <td>NaN</td>\n",
       "      <td>NaN</td>\n",
       "    </tr>\n",
       "    <tr>\n",
       "      <th>80001</th>\n",
       "      <td>N</td>\n",
       "      <td>NaN</td>\n",
       "      <td>NaN</td>\n",
       "      <td>NaN</td>\n",
       "      <td>N</td>\n",
       "      <td>NaN</td>\n",
       "      <td>NaN</td>\n",
       "      <td>N</td>\n",
       "      <td>NaN</td>\n",
       "      <td>NaN</td>\n",
       "    </tr>\n",
       "    <tr>\n",
       "      <th>80002</th>\n",
       "      <td>Y</td>\n",
       "      <td>NaN</td>\n",
       "      <td>N</td>\n",
       "      <td>N</td>\n",
       "      <td>N</td>\n",
       "      <td>N</td>\n",
       "      <td>NaN</td>\n",
       "      <td>Y</td>\n",
       "      <td>NaN</td>\n",
       "      <td>NaN</td>\n",
       "    </tr>\n",
       "    <tr>\n",
       "      <th>80003</th>\n",
       "      <td>Y</td>\n",
       "      <td>NaN</td>\n",
       "      <td>NaN</td>\n",
       "      <td>N</td>\n",
       "      <td>N</td>\n",
       "      <td>N</td>\n",
       "      <td>NaN</td>\n",
       "      <td>N</td>\n",
       "      <td>NaN</td>\n",
       "      <td>NaN</td>\n",
       "    </tr>\n",
       "    <tr>\n",
       "      <th>80004</th>\n",
       "      <td>N</td>\n",
       "      <td>NaN</td>\n",
       "      <td>N</td>\n",
       "      <td>N</td>\n",
       "      <td>N</td>\n",
       "      <td>N</td>\n",
       "      <td>NaN</td>\n",
       "      <td>N</td>\n",
       "      <td>NaN</td>\n",
       "      <td>NaN</td>\n",
       "    </tr>\n",
       "    <tr>\n",
       "      <th>80005</th>\n",
       "      <td>N</td>\n",
       "      <td>NaN</td>\n",
       "      <td>N</td>\n",
       "      <td>N</td>\n",
       "      <td>N</td>\n",
       "      <td>N</td>\n",
       "      <td>NaN</td>\n",
       "      <td>N</td>\n",
       "      <td>NaN</td>\n",
       "      <td>NaN</td>\n",
       "    </tr>\n",
       "    <tr>\n",
       "      <th>80006</th>\n",
       "      <td>N</td>\n",
       "      <td>NaN</td>\n",
       "      <td>N</td>\n",
       "      <td>N</td>\n",
       "      <td>N</td>\n",
       "      <td>N</td>\n",
       "      <td>NaN</td>\n",
       "      <td>N</td>\n",
       "      <td>NaN</td>\n",
       "      <td>NaN</td>\n",
       "    </tr>\n",
       "    <tr>\n",
       "      <th>80007</th>\n",
       "      <td>N</td>\n",
       "      <td>NaN</td>\n",
       "      <td>N</td>\n",
       "      <td>N</td>\n",
       "      <td>N</td>\n",
       "      <td>N</td>\n",
       "      <td>NaN</td>\n",
       "      <td>N</td>\n",
       "      <td>NaN</td>\n",
       "      <td>NaN</td>\n",
       "    </tr>\n",
       "    <tr>\n",
       "      <th>80008</th>\n",
       "      <td>Y</td>\n",
       "      <td>NaN</td>\n",
       "      <td>N</td>\n",
       "      <td>N</td>\n",
       "      <td>Y</td>\n",
       "      <td>N</td>\n",
       "      <td>NaN</td>\n",
       "      <td>Y</td>\n",
       "      <td>USA</td>\n",
       "      <td>NaN</td>\n",
       "    </tr>\n",
       "    <tr>\n",
       "      <th>80009</th>\n",
       "      <td>N</td>\n",
       "      <td>NaN</td>\n",
       "      <td>N</td>\n",
       "      <td>N</td>\n",
       "      <td>N</td>\n",
       "      <td>N</td>\n",
       "      <td>NaN</td>\n",
       "      <td>N</td>\n",
       "      <td>NaN</td>\n",
       "      <td>NaN</td>\n",
       "    </tr>\n",
       "  </tbody>\n",
       "</table>\n",
       "</div>"
      ],
      "text/plain": [
       "      Are you feeling feverish or have had shakes or chills in the last 24 hours?  \\\n",
       "80000                                                  N                            \n",
       "80001                                                  N                            \n",
       "80002                                                  Y                            \n",
       "80003                                                  Y                            \n",
       "80004                                                  N                            \n",
       "80005                                                  N                            \n",
       "80006                                                  N                            \n",
       "80007                                                  N                            \n",
       "80008                                                  Y                            \n",
       "80009                                                  N                            \n",
       "\n",
       "      Have you ever been isolated/required isolation for an infectious disease when receiving care in a healthcare setting?  \\\n",
       "80000                                                NaN                                                                      \n",
       "80001                                                NaN                                                                      \n",
       "80002                                                NaN                                                                      \n",
       "80003                                                NaN                                                                      \n",
       "80004                                                NaN                                                                      \n",
       "80005                                                NaN                                                                      \n",
       "80006                                                NaN                                                                      \n",
       "80007                                                NaN                                                                      \n",
       "80008                                                NaN                                                                      \n",
       "80009                                                NaN                                                                      \n",
       "\n",
       "      Do you have a new Rash?  \\\n",
       "80000                       N   \n",
       "80001                     NaN   \n",
       "80002                       N   \n",
       "80003                     NaN   \n",
       "80004                       N   \n",
       "80005                       N   \n",
       "80006                       N   \n",
       "80007                       N   \n",
       "80008                       N   \n",
       "80009                       N   \n",
       "\n",
       "      Do you have a new onset of Vomiting/Diarrhea in the last 24 hours?  \\\n",
       "80000                                                  N                   \n",
       "80001                                                NaN                   \n",
       "80002                                                  N                   \n",
       "80003                                                  N                   \n",
       "80004                                                  N                   \n",
       "80005                                                  N                   \n",
       "80006                                                  N                   \n",
       "80007                                                  N                   \n",
       "80008                                                  N                   \n",
       "80009                                                  N                   \n",
       "\n",
       "      Have you travelled outside of Canada/USA in the last 3 weeks?  \\\n",
       "80000                                                  N              \n",
       "80001                                                  N              \n",
       "80002                                                  N              \n",
       "80003                                                  N              \n",
       "80004                                                  N              \n",
       "80005                                                  N              \n",
       "80006                                                  N              \n",
       "80007                                                  N              \n",
       "80008                                                  Y              \n",
       "80009                                                  N              \n",
       "\n",
       "      Have you had contact with a sick person who has travelled outside of Canada/USA in the last 3 weeks?  \\\n",
       "80000                                                  N                                                     \n",
       "80001                                                NaN                                                     \n",
       "80002                                                  N                                                     \n",
       "80003                                                  N                                                     \n",
       "80004                                                  N                                                     \n",
       "80005                                                  N                                                     \n",
       "80006                                                  N                                                     \n",
       "80007                                                  N                                                     \n",
       "80008                                                  N                                                     \n",
       "80009                                                  N                                                     \n",
       "\n",
       "      Have you received Health Care in another country in the last 2 years?  \\\n",
       "80000                                                NaN                      \n",
       "80001                                                NaN                      \n",
       "80002                                                NaN                      \n",
       "80003                                                NaN                      \n",
       "80004                                                NaN                      \n",
       "80005                                                NaN                      \n",
       "80006                                                NaN                      \n",
       "80007                                                NaN                      \n",
       "80008                                                NaN                      \n",
       "80009                                                NaN                      \n",
       "\n",
       "      Do you have a new/worse cough or shortness of breath?  \\\n",
       "80000                                                  N      \n",
       "80001                                                  N      \n",
       "80002                                                  Y      \n",
       "80003                                                  N      \n",
       "80004                                                  N      \n",
       "80005                                                  N      \n",
       "80006                                                  N      \n",
       "80007                                                  N      \n",
       "80008                                                  Y      \n",
       "80009                                                  N      \n",
       "\n",
       "      If so, select all countries that apply  \\\n",
       "80000                                    NaN   \n",
       "80001                                    NaN   \n",
       "80002                                    NaN   \n",
       "80003                                    NaN   \n",
       "80004                                    NaN   \n",
       "80005                                    NaN   \n",
       "80006                                    NaN   \n",
       "80007                                    NaN   \n",
       "80008                                    USA   \n",
       "80009                                    NaN   \n",
       "\n",
       "      If so, select all infectious diseases that apply  \n",
       "80000                                              NaN  \n",
       "80001                                              NaN  \n",
       "80002                                              NaN  \n",
       "80003                                              NaN  \n",
       "80004                                              NaN  \n",
       "80005                                              NaN  \n",
       "80006                                              NaN  \n",
       "80007                                              NaN  \n",
       "80008                                              NaN  \n",
       "80009                                              NaN  "
      ]
     },
     "execution_count": 44,
     "metadata": {},
     "output_type": "execute_result"
    }
   ],
   "source": [
    "screening_df.iloc[80000:80010]"
   ]
  },
  {
   "cell_type": "markdown",
   "metadata": {},
   "source": [
    "## making the new target cells"
   ]
  },
  {
   "cell_type": "code",
   "execution_count": 45,
   "metadata": {},
   "outputs": [
    {
     "data": {
      "text/plain": [
       "Counter({nan: 92747,\n",
       "         'N.SUR ORTH': 326,\n",
       "         'N.MH CHADI': 113,\n",
       "         'N.SUR SS': 448,\n",
       "         'N.MH CHAD': 157,\n",
       "         'N.MED CARD': 931,\n",
       "         'N.MAU': 1544,\n",
       "         'N.MED ONC': 591,\n",
       "         'N.MED GER': 484,\n",
       "         'N.CC ICU': 122,\n",
       "         'N.SIMCU': 135,\n",
       "         'N.SUR GEN': 714,\n",
       "         'N.MED NEUR': 451,\n",
       "         'N.MED CT': 97,\n",
       "         'N.CC CCU': 292,\n",
       "         'N.ER IN': 670,\n",
       "         'N.MH INTEN': 156,\n",
       "         'N.WC PAED': 860,\n",
       "         'N.MH GER': 42,\n",
       "         'N.MED RESP': 499,\n",
       "         'N.MED SIM': 305,\n",
       "         'N.MH GENC': 38,\n",
       "         'N.MH GENB': 164,\n",
       "         'N.MED SIX': 314,\n",
       "         'N.MED DIAL': 29,\n",
       "         'N.MED CPU': 152,\n",
       "         'N.ERMH IN': 18,\n",
       "         'N.WC POST': 88,\n",
       "         'N.MAIN OR': 1,\n",
       "         'N.CC NICU': 1,\n",
       "         'N.MED FLEX': 4,\n",
       "         'N.MED DSU': 49,\n",
       "         'N.SUR DSU': 1})"
      ]
     },
     "execution_count": 45,
     "metadata": {},
     "output_type": "execute_result"
    }
   ],
   "source": [
    "admit_count= Counter(clin['AdmitLocation']); admit_count"
   ]
  },
  {
   "cell_type": "code",
   "execution_count": 46,
   "metadata": {},
   "outputs": [],
   "source": [
    "clin['outcome'] = clin['AdmitLocation'].astype('str').map(\n",
    "{'N.CC CCU': 'madmit',\n",
    " 'N.CC ICU': 'ICU',\n",
    " 'N.ER IN' : 'madmit',\n",
    " 'N.ERMH IN': 'madmit',\n",
    " 'N.MAU': 'madmit',\n",
    " 'N.MED CARD': 'madmit',\n",
    " 'N.MED CPU': 'madmit',\n",
    " 'N.MED CT': 'madmit',\n",
    " 'N.MED GER': 'madmit',\n",
    " 'N.MED DIAL': 'madmit',\n",
    " 'N.MED NEUR': 'madmit',\n",
    " 'N.MED ONC': 'madmit',\n",
    " 'N.MED RESP': 'madmit',\n",
    " 'N.MED SIM': 'madmit',\n",
    " 'N.MED SIX': 'madmit',\n",
    " 'N.MH CHAD': 'madmit',\n",
    " 'N.MH CHADI': 'madmit',\n",
    " 'N.MH GENB': 'madmit',\n",
    " 'N.MH GER': 'madmit',\n",
    " 'N.MH INTEN': 'madmit',\n",
    " 'N.SIMCU': 'ICU',\n",
    " 'N.SUR GEN': 'sadmit',\n",
    " 'N.SUR ORTH': 'sadmit',\n",
    " 'N.SUR SS': 'sadmit',\n",
    " 'N.WC PAED': 'madmit',\n",
    " 'N.WC POST': 'madmit',\n",
    " 'N.MH GENC': 'madmit',\n",
    " 'N.CC NICU': 'ICU',\n",
    " 'N.WC LD': 'sadmit',\n",
    "  'N.WC LDN': 'sadmit',\n",
    "  'N.MAIN OR': 'sadmit',\n",
    "  'N.MED STTU': 'madmit',\n",
    "  'N.MED FLEX': 'madmit',\n",
    "    'N.MED DSU': 'madmit',\n",
    "    'N.SUR DSU': 'sadmit',\n",
    " 'nan': 'discharge'})"
   ]
  },
  {
   "cell_type": "code",
   "execution_count": 47,
   "metadata": {},
   "outputs": [],
   "source": [
    "#first target columns is based on the admitting location\n",
    "clin['target'] = clin['outcome'].map({'discharge': 1, 'madmit': 2, 'sadmit': 3, 'ICU': 4})"
   ]
  },
  {
   "cell_type": "code",
   "execution_count": 48,
   "metadata": {},
   "outputs": [
    {
     "data": {
      "text/plain": [
       "Counter({'discharge': 92747, 'sadmit': 1490, 'madmit': 8048, 'ICU': 258})"
      ]
     },
     "execution_count": 48,
     "metadata": {},
     "output_type": "execute_result"
    }
   ],
   "source": [
    "outcome_count = Counter(clin['outcome']); outcome_count"
   ]
  },
  {
   "cell_type": "code",
   "execution_count": 49,
   "metadata": {},
   "outputs": [
    {
     "data": {
      "text/plain": [
       "Counter({1: 92747, 3: 1490, 2: 8048, 4: 258})"
      ]
     },
     "execution_count": 49,
     "metadata": {},
     "output_type": "execute_result"
    }
   ],
   "source": [
    "target_count = Counter(clin['target']); target_count"
   ]
  },
  {
   "cell_type": "code",
   "execution_count": 50,
   "metadata": {},
   "outputs": [],
   "source": [
    "clin['service'] = clin['PatientService'].astype('str').map(\n",
    "    {'nan': 'discharge',\n",
    "         'General Surgery': 'sadmit',\n",
    "         'Respirology': 'madmit',\n",
    "         'General Medicine': 'madmit',\n",
    "         'INTENSIVE CARE UNIT': 'ICU',\n",
    "         'Cardiology': 'madmit',\n",
    "         'Oncology': 'madmit',\n",
    "         'Palliative': 'madmit',\n",
    "         'AD PALLIATIVE': 'madmit',\n",
    "         'Genitourinary': 'sadmit',\n",
    "         'Paediatrics': 'madmit',\n",
    "         'Mental Health': 'madmit',\n",
    "         'Orthopaedics': 'sadmit',\n",
    "         'MH Child & Adolescent': 'madmit',\n",
    "         'AD Oncology': 'madmit',\n",
    "         'Neurology': 'madmit',\n",
    "         'ALC General Medicine': 'madmit',\n",
    "         'ALC General Surgery': 'sadmit',\n",
    "         'Acute Care for Elders': 'madmit',\n",
    "         'ALC Neurology': 'madmit',\n",
    "         'ALC Cardiology': 'madmit',\n",
    "         'ALC Respirology': 'madmit',\n",
    "         'ALC Orthopaedics': 'madmit',\n",
    "         'Neonatal Retro Transfers': 'madmit',\n",
    "         'Newborn': 'madmit',\n",
    "         'Obstetrics': 'madmit',\n",
    "         'ALC Oncology': 'madmit',\n",
    "         'AD General Medicine': 'madmit',\n",
    "         'AD Acute Care for Elders': 'madmit',\n",
    "         'AD Respirology': 'madmit',\n",
    "         'ALC ACUTE CARE FOR EDLERS': 'madmit',\n",
    "         'AD Cardiology': 'madmit',\n",
    "         'AD Neurology': 'madmit',\n",
    "         'ALC Palliative': 'madmit',\n",
    "         'AD General Surgery': 'sadmit'})"
   ]
  },
  {
   "cell_type": "code",
   "execution_count": 51,
   "metadata": {},
   "outputs": [
    {
     "data": {
      "text/plain": [
       "Counter({'discharge': 92747, 'sadmit': 1725, 'madmit': 7901, 'ICU': 170})"
      ]
     },
     "execution_count": 51,
     "metadata": {},
     "output_type": "execute_result"
    }
   ],
   "source": [
    "service_count = Counter(clin['service'])\n",
    "service_count"
   ]
  },
  {
   "cell_type": "code",
   "execution_count": 52,
   "metadata": {},
   "outputs": [],
   "source": [
    "#second target is based on the admitting service\n",
    "clin['target2'] = clin['service'].map({'discharge': 1, 'madmit': 2, 'sadmit': 3, 'ICU': 4})"
   ]
  },
  {
   "cell_type": "code",
   "execution_count": 53,
   "metadata": {},
   "outputs": [
    {
     "data": {
      "text/plain": [
       "Counter({1: 92747, 3: 1725, 2: 7901, 4: 170})"
      ]
     },
     "execution_count": 53,
     "metadata": {},
     "output_type": "execute_result"
    }
   ],
   "source": [
    "target2_count = Counter(clin['target2']); target2_count"
   ]
  },
  {
   "cell_type": "code",
   "execution_count": 54,
   "metadata": {},
   "outputs": [
    {
     "data": {
      "text/plain": [
       "{1: 'discharge', 2: 'madmit', 3: 'sadmit', 4: 'ICU'}"
      ]
     },
     "execution_count": 54,
     "metadata": {},
     "output_type": "execute_result"
    }
   ],
   "source": [
    "#creating this for later use to map the numbers in the dataframe column to their original meaning\n",
    "out_dict = {'discharge': 1, 'madmit': 2, 'sadmit': 3, 'ICU': 4}\n",
    "out_dict = {v:k for k,v in out_dict.items()}\n",
    "out_dict"
   ]
  },
  {
   "cell_type": "code",
   "execution_count": 55,
   "metadata": {},
   "outputs": [],
   "source": [
    "#discharge vs. not target\n",
    "clin['discharge'] = clin['outcome'].map({'discharge': 'discharge', 'madmit': 'admit', 'sadmit': 'admit', 'ICU': 'admit'})"
   ]
  },
  {
   "cell_type": "code",
   "execution_count": 56,
   "metadata": {},
   "outputs": [],
   "source": [
    "clin['target3'] = clin['outcome'].map({'discharge': 1, 'madmit': 0, 'sadmit': 0, 'ICU': 0})"
   ]
  },
  {
   "cell_type": "code",
   "execution_count": 57,
   "metadata": {},
   "outputs": [
    {
     "data": {
      "text/plain": [
       "(Counter({'discharge': 92747, 'admit': 9796}), Counter({1: 92747, 0: 9796}))"
      ]
     },
     "execution_count": 57,
     "metadata": {},
     "output_type": "execute_result"
    }
   ],
   "source": [
    "Counter(clin['discharge']), Counter(clin['target3'])"
   ]
  },
  {
   "cell_type": "code",
   "execution_count": 58,
   "metadata": {},
   "outputs": [],
   "source": [
    "#a target for trying to tell apart the inpatient disposition, only in admitted patients\n",
    "clin['dispo']= clin['outcome'].map({'discharge': np.nan, 'madmit': 'madmit', 'sadmit': 'sadmit', 'ICU': 'ICU'})"
   ]
  },
  {
   "cell_type": "code",
   "execution_count": 59,
   "metadata": {},
   "outputs": [],
   "source": [
    "clin['target4'] = clin['dispo'].map({np.nan:np.nan, 'madmit': 1, 'sadmit': 2, 'ICU': 3})\n",
    "#for some reason a can't make a counter out of this without it crashing so I've stopped trying"
   ]
  },
  {
   "cell_type": "code",
   "execution_count": 60,
   "metadata": {},
   "outputs": [
    {
     "data": {
      "text/plain": [
       "(Counter({nan: 92747, 'sadmit': 1490, 'madmit': 8048, 'ICU': 258}),\n",
       " Counter({2.0: 1490, 1.0: 8048, 3.0: 258}))"
      ]
     },
     "execution_count": 60,
     "metadata": {},
     "output_type": "execute_result"
    }
   ],
   "source": [
    "Counter(clin['dispo']), Counter(clin['target4'].dropna())"
   ]
  },
  {
   "cell_type": "code",
   "execution_count": 61,
   "metadata": {},
   "outputs": [],
   "source": [
    "#gonna make a target that is ICU vs other\n",
    "clin['ICUvsother'] = clin['PatientService'][clin['PatientService'] == 'INTENSIVE CARE UNIT']\n",
    "#clin['PatientService']"
   ]
  },
  {
   "cell_type": "code",
   "execution_count": 62,
   "metadata": {},
   "outputs": [],
   "source": [
    "clin['target5'] = clin['ICUvsother'].map({'INTENSIVE CARE UNIT':1, np.nan:0})"
   ]
  },
  {
   "cell_type": "code",
   "execution_count": 63,
   "metadata": {},
   "outputs": [
    {
     "data": {
      "text/plain": [
       "['AdmitLocation',\n",
       " 'AgeInYrs',\n",
       " 'AgeNumber',\n",
       " 'BP',\n",
       " 'BloodPressure_LastEDReading',\n",
       " 'ChartNumber',\n",
       " 'CleanSubjectiveNotes',\n",
       " 'DischargeDisposition',\n",
       " 'DischargeDispositionDesc',\n",
       " 'Disposition Date & Time',\n",
       " 'EncounterNumber',\n",
       " 'Gender',\n",
       " 'GenderDesc',\n",
       " 'ICUvsother',\n",
       " 'ID',\n",
       " 'InfectionControlScreening',\n",
       " 'Left ED Date & Time',\n",
       " 'MainDiagnosisCode',\n",
       " 'MainDiagnosisCodeDesc',\n",
       " 'MedicalHistory',\n",
       " 'O2Saturation_LastEDReading',\n",
       " 'PIA Date & Time',\n",
       " 'PatientService',\n",
       " 'PresentingComplaint',\n",
       " 'PresentingComplaintDesc',\n",
       " 'Pulse_LastEDReading',\n",
       " 'Reg Date & Time',\n",
       " 'SubjectiveNotes',\n",
       " 'Temperature_LastEDReading',\n",
       " 'Triage Date & Time',\n",
       " 'TriageLevel',\n",
       " 'diastolic',\n",
       " 'discharge',\n",
       " 'dispo',\n",
       " 'o2sat',\n",
       " 'outcome',\n",
       " 'pulse',\n",
       " 'service',\n",
       " 'systolic',\n",
       " 'target',\n",
       " 'target2',\n",
       " 'target3',\n",
       " 'target4',\n",
       " 'target5',\n",
       " 'temp']"
      ]
     },
     "execution_count": 63,
     "metadata": {},
     "output_type": "execute_result"
    }
   ],
   "source": [
    "sorted(clin.columns)"
   ]
  },
  {
   "cell_type": "markdown",
   "metadata": {},
   "source": [
    "## splitting into a bunch of sub dataframes and saving them as their own csv files\n",
    "- loading the excel file is very slow, but loading csv files is faster so I'm making a bunch of dataframes of subsets of data for easy saving/loading/combining"
   ]
  },
  {
   "cell_type": "code",
   "execution_count": 64,
   "metadata": {},
   "outputs": [],
   "source": [
    "tab_df = clin[['ID', 'TriageLevel',\n",
    "       'AgeInYrs', 'GenderDesc', 'DischargeDisposition',\n",
    "       'PresentingComplaint', 'PresentingComplaintDesc', 'AdmitLocation', 'PatientService',\n",
    "       'BloodPressure_LastEDReading','systolic', 'diastolic','temp','pulse','o2sat']]"
   ]
  },
  {
   "cell_type": "code",
   "execution_count": 65,
   "metadata": {},
   "outputs": [],
   "source": [
    "target_df = clin[['outcome','target', 'service','target2', 'discharge', 'target3','dispo','target4', 'ICUvsother', 'target5']]"
   ]
  },
  {
   "cell_type": "code",
   "execution_count": 66,
   "metadata": {},
   "outputs": [],
   "source": [
    "date_df = clin[['Triage Date & Time', 'Reg Date & Time',\n",
    "       'PIA Date & Time', 'Disposition Date & Time', 'Left ED Date & Time']]"
   ]
  },
  {
   "cell_type": "markdown",
   "metadata": {},
   "source": [
    "## parsing of the medical history into categories"
   ]
  },
  {
   "cell_type": "code",
   "execution_count": 67,
   "metadata": {
    "scrolled": true
   },
   "outputs": [
    {
     "data": {
      "text/plain": [
       "31331"
      ]
     },
     "execution_count": 67,
     "metadata": {},
     "output_type": "execute_result"
    }
   ],
   "source": [
    "histories = Counter(clin['MedicalHistory']); len(histories)"
   ]
  },
  {
   "cell_type": "code",
   "execution_count": 68,
   "metadata": {},
   "outputs": [],
   "source": [
    "history = list(clin['MedicalHistory'].str[16:].astype('str'))"
   ]
  },
  {
   "cell_type": "code",
   "execution_count": 69,
   "metadata": {},
   "outputs": [
    {
     "name": "stdout",
     "output_type": "stream",
     "text": [
      "No Significant Medical History\n",
      "Quad Bypass, Stents x2, <LT>LF>COPD (Chronic Obstructive Pulmonary Disease)<LT>LF>Hypertension (HTN)<LT>LF>High Cholesterol\n",
      "NIDDM (Non-Insulin-Dependent Diabetes Mellitus)<LT>LF>Asthma<LT>LF>Sleep Apnea\n",
      "Depression\n",
      "NIDDM (Non-Insulin-Dependent Diabetes Mellitus)<LT>LF>High BP\n",
      "Alcoholism\n",
      "No Significant Medical History\n",
      "family hx of MI<LT>LF>Thyroid<LT>LF>High Cholesterol\n",
      "Acid Reflux\n",
      "Hypertension (HTN)\n",
      "No Significant Medical History\n",
      "No Significant Medical History\n",
      "No Significant Medical History\n",
      "No Significant Medical History\n",
      "peripheral neuropathy<LT>LF>NIDDM (Non-Insulin-Dependent Diabetes Mellitus)<LT>LF>fibrotic lung dx, high chol, heart dx, parkinsons\n",
      "Breast Cancer\n",
      "Prostate Cancer\n",
      "No Significant Medical History\n",
      "No Significant Medical History\n",
      "High BP<LT>LF>High Cholesterol\n",
      "Hypertension (HTN)<LT>LF>Thyroid<LT>LF>High Cholesterol\n",
      "No Significant Medical History\n",
      "No Significant Medical History\n",
      "No Significant Medical History\n",
      "No Significant Medical History\n",
      "Hypertension (HTN)<LT>LF>multiple  myloma\n",
      "Hypertension (HTN)<LT>LF>GERD<LT>LF>Asthma\n",
      "No Significant Medical History\n",
      "born full term vaginally, breast and bottle fed.\n",
      "placental abruption with 2nd pregnancy\n",
      "No Significant Medical History\n",
      "LUMPECTOMY, <LT>LF>MASCETOMY<LT>LF>CYST ON PANCREAS<LT>LF>LEFT AND RIGHT KNEE REPLACEMENT<LT>LF>Hypertension (HTN)<LT>LF>MI (Myocardial Infarction)<LT>LF>NIDDM (Non-Insulin-Dependent Diabetes Mellitus)<LT>LF>High Cholesterol<LT>LF>Asthma\n",
      "HYDROCEPHALUS, THYROID, DELAY, ASTHMA, HTN\n",
      "No Significant Medical History\n",
      "Hypertension (HTN)<LT>LF>cardiac\n",
      "NIDDM (Non-Insulin-Dependent Diabetes Mellitus)<LT>LF>Hypertension (HTN)<LT>LF>Depression<LT>LF>Chronic Pain\n",
      "No Significant Medical History\n",
      "Arthritis\n",
      "Asthma\n",
      "No Significant Medical History\n",
      "MI (Myocardial Infarction)<LT>LF>irritable bladder\n",
      "Depression\n",
      "No Significant Medical History\n",
      "No Significant Medical History\n",
      "Hypertension (HTN)\n",
      "family hx of cardiac\n",
      "bipass 2003<LT>LF>stents 2008<LT>LF>thyroid cancer\n",
      "Depression<LT>LF>Substance Misuse<LT>LF>CANNIBIS USE\n",
      "Depression<LT>LF>Depression\n",
      "Eczema\n"
     ]
    }
   ],
   "source": [
    "for item in history[1000:1050]:\n",
    "    print (item)"
   ]
  },
  {
   "cell_type": "code",
   "execution_count": 70,
   "metadata": {},
   "outputs": [],
   "source": [
    "#this is to clean the text in the medical history column (a little bit)\n",
    "def fixhx(s):\n",
    "    s =s.replace('<LT><LF>','')\n",
    "    s = s.replace('<LT>LF>','')\n",
    "    s =s.replace('Pt.', 'patient')\n",
    "    s =s.replace('Pt', 'patient')\n",
    "    s = s.lower()\n",
    "    s = s.replace('pt.', 'patient')\n",
    "    s = s.replace('y/o', 'year old')\n",
    "    s = s.replace('c/o', 'complains of')\n",
    "    s = s.replace('sob', 'shortness of breath')\n",
    "    s = s.replace('c/p', 'chest pain')\n",
    "    s = s.replace('hrs', 'hours')\n",
    "    s = s.replace('hx', 'history')\n",
    "    s = s.replace('n/v', 'nausea and/or vomiting')\n",
    "    s = s.replace('a/e', 'air entry')\n",
    "    s = s.replace('a/o', 'alert and oriented')\n",
    "    s = s.replace('a&o', 'alert and oriented')\n",
    "    s = s.replace('d/c', 'discharge')\n",
    "    s = s.replace('u/s', 'ultrasound')\n",
    "    s = s.replace('yrs', 'years')\n",
    "    s = s.replace('lmp', 'last menstrual period')\n",
    "    s = s.replace('w/', 'with')\n",
    "    s = s.replace('@', 'at ')\n",
    "    s = s.replace('b/c', 'because')\n",
    "    s = re.sub(r'\\bpt.','patient ',s)\n",
    "    s = re.sub(r'\\blt.','left ',s)\n",
    "    s = re.sub(r'\\brt.','right ',s)\n",
    "    s = re.sub(r'\\bmd.','doctor ',s)\n",
    "    s = re.sub(r'\\bra\\b','room air ',s)\n",
    "    s = re.sub(r'\\bbp.','blood pressure ',s)\n",
    "    s = re.sub(r'\\bcp.','chest pain ',s)\n",
    "    s = re.sub(r'\\bfd.','family doctor ',s)\n",
    "    s = s.replace('abx', 'antibiotics')\n",
    "    s = s.replace('htn', 'hypertension')\n",
    "    s = re.sub(r'\\btyl\\b', 'tylenol', s)\n",
    "    s = re.sub(r'\\bprn\\b', 'as needed ',s)\n",
    "    s = re.sub(r'\\bvag\\b', 'vaginal ',s)\n",
    "    s = re.sub(r'\\bpo\\b', 'by mouth ',s)\n",
    "    s = re.sub(r'\\bllq\\b', 'left lower quadrant',s)\n",
    "    s = re.sub(r'\\brlq\\b', 'right lower quadrant  ',s)\n",
    "    s = re.sub(r'\\bluq\\b', 'left upper quadrant',s)\n",
    "    s = re.sub(r'\\bruq\\b', 'right upper quadrant  ',s)\n",
    "    s = re.sub(r'\\buti\\b', 'urinary tract infection ',s)\n",
    "    s = re.sub(r'\\brd', 'right digit number',s)\n",
    "    s = re.sub(r'\\bld', 'left digit number',s)\n",
    "    s = re.sub(r'\\br\\b', 'right ',s)\n",
    "    s = re.sub(r'\\bl\\b', 'left ',s)\n",
    "    s = re.sub(r'\\bed\\b', 'emergency department ',s)\n",
    "    s = re.sub(r'\\ber\\b', 'emergency room ',s)\n",
    "    s = re.sub(r'\\bbm\\b', 'bowel movement ',s)\n",
    "    s = re.sub(r'#\\s', 'fracture ', s)\n",
    "    \n",
    "    #remove extra white spaces\n",
    "    s = re.sub(r'\\s+', ' ', s)\n",
    "\n",
    "    #note that what's missing here is removal of punctuation\n",
    "    return s"
   ]
  },
  {
   "cell_type": "code",
   "execution_count": 71,
   "metadata": {},
   "outputs": [],
   "source": [
    "replacements = (',','<LT>LF>', '.')\n",
    "drop_list = ('\"', '?')\n",
    "split_hist = []\n",
    "for item in history:\n",
    "    for r in replacements:\n",
    "        item = item.replace(r, '::')\n",
    "    \n",
    "    item = item.split('::')\n",
    "    \n",
    "    item = [re.sub(r'\\(.*?\\)\\ *', '', s) for s in item]\n",
    "    \n",
    "    item = [fixhx(s) for s in item]\n",
    "    for d in drop_list:\n",
    "        item = [x.replace(d,'') for x in item]\n",
    "    \n",
    "    item = [x.strip().lower() for x in item if x != 'nan']\n",
    "    item = [x for x in item if len(x) > 2]\n",
    "    \n",
    "    item = list(filter(None, item))\n",
    "    \n",
    "    split_hist.append(item)\n",
    "    "
   ]
  },
  {
   "cell_type": "code",
   "execution_count": 72,
   "metadata": {},
   "outputs": [],
   "source": [
    "#rejoining them as a string with diagnoses separated by commas\n",
    "join_hist = [','.join(item) for item in split_hist]"
   ]
  },
  {
   "cell_type": "code",
   "execution_count": 73,
   "metadata": {},
   "outputs": [],
   "source": [
    "#replacing empty string with NaN\n",
    "join_hist = [np.nan if item == 'nan' else item for item in join_hist]"
   ]
  },
  {
   "cell_type": "code",
   "execution_count": 74,
   "metadata": {},
   "outputs": [
    {
     "data": {
      "text/plain": [
       "102543"
      ]
     },
     "execution_count": 74,
     "metadata": {},
     "output_type": "execute_result"
    }
   ],
   "source": [
    "len(join_hist)"
   ]
  },
  {
   "cell_type": "code",
   "execution_count": 75,
   "metadata": {},
   "outputs": [
    {
     "data": {
      "text/plain": [
       "['no significant medical history',\n",
       " 'high cholesterol,kidney stones',\n",
       " 'back pain',\n",
       " 'benign polyps,cholesterol',\n",
       " 'no significant medical history',\n",
       " 'high bp,chf,hypothyroid',\n",
       " 'prostate cancer,constipation,hypertension',\n",
       " 'asthma,depression',\n",
       " 'no significant medical history',\n",
       " 'pneumonia,bipolar disorder,anxiety',\n",
       " 'virus in the mouth,healed,autistic',\n",
       " 'no significant medical history,unable to get medical history',\n",
       " 'hypertension,high cholesterol,diabetes',\n",
       " 'no significant medical history',\n",
       " 'no significant medical history',\n",
       " 'acid reflux,bypass surgery,pacemaker/cardioverter/defib,high cholesterol,hypertension',\n",
       " 'anemia',\n",
       " 'no significant medical history',\n",
       " 'no significant medical history',\n",
       " 'no significant medical history']"
      ]
     },
     "execution_count": 75,
     "metadata": {},
     "output_type": "execute_result"
    }
   ],
   "source": [
    "join_hist[2000:2020]"
   ]
  },
  {
   "cell_type": "code",
   "execution_count": 76,
   "metadata": {},
   "outputs": [],
   "source": [
    "clin['pmhx'] = join_hist"
   ]
  },
  {
   "cell_type": "code",
   "execution_count": 77,
   "metadata": {},
   "outputs": [],
   "source": [
    "subj_df = clin[['SubjectiveNotes', 'MedicalHistory', 'pmhx']]"
   ]
  },
  {
   "cell_type": "markdown",
   "metadata": {},
   "source": [
    "### exploring different diagnoses"
   ]
  },
  {
   "cell_type": "code",
   "execution_count": 78,
   "metadata": {},
   "outputs": [],
   "source": [
    "diagnoses = Counter()\n",
    "for hx in split_hist:\n",
    "    for item in hx:\n",
    "        diagnoses[item] += 1"
   ]
  },
  {
   "cell_type": "code",
   "execution_count": 79,
   "metadata": {},
   "outputs": [
    {
     "data": {
      "text/plain": [
       "16701"
      ]
     },
     "execution_count": 79,
     "metadata": {},
     "output_type": "execute_result"
    }
   ],
   "source": [
    "#there are 20464 different medical histories used in the dataset!!!\n",
    "len(diagnoses)"
   ]
  },
  {
   "cell_type": "code",
   "execution_count": 80,
   "metadata": {},
   "outputs": [
    {
     "data": {
      "text/plain": [
       "[('no significant medical history', 44103),\n",
       " ('hypertension', 17032),\n",
       " ('high cholesterol', 13371),\n",
       " ('niddm', 7171),\n",
       " ('high bp', 4756),\n",
       " ('depression', 4566),\n",
       " ('asthma', 4316),\n",
       " ('anxiety', 3493),\n",
       " ('thyroid', 3268),\n",
       " ('diabetes', 2866),\n",
       " ('hypothyroid', 2480),\n",
       " ('iddm', 2450),\n",
       " ('gerd', 2210),\n",
       " ('acid reflux', 1719),\n",
       " ('arthritis', 1460),\n",
       " ('anemia', 1087),\n",
       " ('copd', 1035),\n",
       " ('schizophrenia', 838),\n",
       " ('kidney stones', 784),\n",
       " ('chf', 738),\n",
       " ('seizure', 698),\n",
       " ('atrial fibrillation', 688),\n",
       " ('immunizations up to date', 686),\n",
       " ('enlarged prostate', 679),\n",
       " ('gout', 655),\n",
       " ('cva', 635),\n",
       " ('adhd', 612),\n",
       " ('migraines', 586),\n",
       " ('dementia', 542),\n",
       " ('substance misuse', 537),\n",
       " ('high chol', 500),\n",
       " ('bipolar', 478),\n",
       " ('osteoporosis', 466),\n",
       " ('chronic back pain', 463),\n",
       " ('smoker', 431),\n",
       " ('fibromyalgia', 425),\n",
       " ('cholesterol', 411),\n",
       " ('pacemaker/cardioverter/defib', 394),\n",
       " ('pneumonia', 389),\n",
       " ('cad', 387)]"
      ]
     },
     "execution_count": 80,
     "metadata": {},
     "output_type": "execute_result"
    }
   ],
   "source": [
    "#sorted diagnoses\n",
    "diagnoses.most_common(40)"
   ]
  },
  {
   "cell_type": "code",
   "execution_count": 81,
   "metadata": {},
   "outputs": [],
   "source": [
    "#this is a dictionary mapping the rank of the diagnosis to its name\n",
    "dx_rank_dict = {item[0]:i+1 for i,item in enumerate(diagnoses.most_common())}\n",
    "\n",
    "#this is a dictionary mapping the frequency of occurence to its name\n",
    "dx_freq_dict = {item[0]:item[1]/len(diagnoses) for item in diagnoses.most_common()}"
   ]
  },
  {
   "cell_type": "code",
   "execution_count": 82,
   "metadata": {},
   "outputs": [],
   "source": [
    "#trying to get a feel for how many diagoses are provided for each patient\n",
    "split_hist_len = [len(item) for item in split_hist]\n",
    "hxdf = pd.DataFrame(split_hist_len)"
   ]
  },
  {
   "cell_type": "code",
   "execution_count": 83,
   "metadata": {},
   "outputs": [
    {
     "data": {
      "text/html": [
       "<div>\n",
       "<style scoped>\n",
       "    .dataframe tbody tr th:only-of-type {\n",
       "        vertical-align: middle;\n",
       "    }\n",
       "\n",
       "    .dataframe tbody tr th {\n",
       "        vertical-align: top;\n",
       "    }\n",
       "\n",
       "    .dataframe thead th {\n",
       "        text-align: right;\n",
       "    }\n",
       "</style>\n",
       "<table border=\"1\" class=\"dataframe\">\n",
       "  <thead>\n",
       "    <tr style=\"text-align: right;\">\n",
       "      <th></th>\n",
       "      <th>0</th>\n",
       "    </tr>\n",
       "  </thead>\n",
       "  <tbody>\n",
       "    <tr>\n",
       "      <th>count</th>\n",
       "      <td>102543.000000</td>\n",
       "    </tr>\n",
       "    <tr>\n",
       "      <th>mean</th>\n",
       "      <td>1.759847</td>\n",
       "    </tr>\n",
       "    <tr>\n",
       "      <th>std</th>\n",
       "      <td>1.374310</td>\n",
       "    </tr>\n",
       "    <tr>\n",
       "      <th>min</th>\n",
       "      <td>0.000000</td>\n",
       "    </tr>\n",
       "    <tr>\n",
       "      <th>25%</th>\n",
       "      <td>1.000000</td>\n",
       "    </tr>\n",
       "    <tr>\n",
       "      <th>50%</th>\n",
       "      <td>1.000000</td>\n",
       "    </tr>\n",
       "    <tr>\n",
       "      <th>75%</th>\n",
       "      <td>2.000000</td>\n",
       "    </tr>\n",
       "    <tr>\n",
       "      <th>max</th>\n",
       "      <td>27.000000</td>\n",
       "    </tr>\n",
       "  </tbody>\n",
       "</table>\n",
       "</div>"
      ],
      "text/plain": [
       "                   0\n",
       "count  102543.000000\n",
       "mean        1.759847\n",
       "std         1.374310\n",
       "min         0.000000\n",
       "25%         1.000000\n",
       "50%         1.000000\n",
       "75%         2.000000\n",
       "max        27.000000"
      ]
     },
     "execution_count": 83,
     "metadata": {},
     "output_type": "execute_result"
    }
   ],
   "source": [
    "hxdf.describe()"
   ]
  },
  {
   "cell_type": "code",
   "execution_count": 84,
   "metadata": {},
   "outputs": [
    {
     "data": {
      "text/plain": [
       "Counter({1: 66562,\n",
       "         5: 2807,\n",
       "         6: 1307,\n",
       "         2: 15334,\n",
       "         3: 9536,\n",
       "         8: 323,\n",
       "         4: 5503,\n",
       "         9: 167,\n",
       "         7: 610,\n",
       "         13: 20,\n",
       "         0: 187,\n",
       "         11: 42,\n",
       "         10: 92,\n",
       "         12: 27,\n",
       "         17: 4,\n",
       "         15: 11,\n",
       "         14: 5,\n",
       "         16: 5,\n",
       "         27: 1})"
      ]
     },
     "execution_count": 84,
     "metadata": {},
     "output_type": "execute_result"
    }
   ],
   "source": [
    "lengths = Counter(split_hist_len); lengths"
   ]
  },
  {
   "cell_type": "code",
   "execution_count": 85,
   "metadata": {},
   "outputs": [
    {
     "name": "stdout",
     "output_type": "stream",
     "text": [
      "0 0.182363%\n",
      "1 64.911306%\n",
      "2 14.953727%\n",
      "3 9.299513%\n",
      "4 5.366529%\n",
      "5 2.737388%\n",
      "6 1.274587%\n",
      "7 0.594872%\n",
      "8 0.314990%\n",
      "9 0.162859%\n",
      "10 0.089718%\n",
      "11 0.040958%\n",
      "12 0.026330%\n",
      "13 0.019504%\n",
      "14 0.004876%\n",
      "15 0.010727%\n",
      "16 0.004876%\n",
      "17 0.003901%\n",
      "27 0.000975%\n"
     ]
    }
   ],
   "source": [
    "#most patients have only a single diagnosis, 80% have 2 or less, 96% have 6 or less\n",
    "for k,v in sorted(lengths.items()):\n",
    "    print (k, '{0:2f}%'.format(v*100/len(split_hist_len)))"
   ]
  },
  {
   "cell_type": "code",
   "execution_count": 86,
   "metadata": {},
   "outputs": [],
   "source": [
    "#this will create a list for each item where the top 6 diagnoses are listed in order\n",
    "ordered_hist = []\n",
    "for item in split_hist:\n",
    "    #print (item)\n",
    "    #print (len(item))\n",
    "    top_6 = []\n",
    "    for hx in item:\n",
    "        #print (hx)\n",
    "        #print (dx_rank_dict[hx])\n",
    "        #print (dx_rank_dict[hx], hx)\n",
    "        if item == 'nan':\n",
    "            top_6.append(np.nan)\n",
    "        else:\n",
    "            top_6.append((dx_rank_dict[hx], hx))\n",
    "    #print (top_6)\n",
    "    sort = sorted(top_6)\n",
    "    #print (sort)\n",
    "    sort2 = [ii for i,ii in sort]\n",
    "    #print(sort2)\n",
    "    if len(sort2) > 6:\n",
    "        sort2 = sort2[:5]\n",
    "    if len(sort2) < 6:\n",
    "        pad_req = 6-len(sort2)\n",
    "        i = 0\n",
    "        while i < pad_req:\n",
    "            sort2.append(np.nan) #('n/a')\n",
    "            i = i+1\n",
    "        \n",
    "    #print (top_6)\n",
    "    #print (sorted(top_6))\n",
    "    ordered_hist.append(sort2)\n",
    "    #print ('next item')\n",
    "    #print ()"
   ]
  },
  {
   "cell_type": "code",
   "execution_count": 87,
   "metadata": {},
   "outputs": [
    {
     "data": {
      "text/plain": [
       "(102543, 6)"
      ]
     },
     "execution_count": 87,
     "metadata": {},
     "output_type": "execute_result"
    }
   ],
   "source": [
    "medhx_df = pd.DataFrame(ordered_hist, columns = ['medhx' + str(i+1) for i in range(6)])\n",
    "medhx_df.shape"
   ]
  },
  {
   "cell_type": "code",
   "execution_count": 88,
   "metadata": {},
   "outputs": [
    {
     "data": {
      "text/plain": [
       "[['no significant medical history', nan, nan, nan, nan, nan],\n",
       " ['high cholesterol', 'kidney stones', nan, nan, nan, nan],\n",
       " ['back pain', nan, nan, nan, nan, nan],\n",
       " ['cholesterol', 'benign polyps', nan, nan, nan, nan],\n",
       " ['no significant medical history', nan, nan, nan, nan, nan],\n",
       " ['high bp', 'hypothyroid', 'chf', nan, nan, nan],\n",
       " ['hypertension', 'prostate cancer', 'constipation', nan, nan, nan],\n",
       " ['depression', 'asthma', nan, nan, nan, nan],\n",
       " ['no significant medical history', nan, nan, nan, nan, nan],\n",
       " ['anxiety', 'pneumonia', 'bipolar disorder', nan, nan, nan],\n",
       " ['autistic', 'virus in the mouth', 'healed', nan, nan, nan],\n",
       " ['no significant medical history',\n",
       "  'unable to get medical history',\n",
       "  nan,\n",
       "  nan,\n",
       "  nan,\n",
       "  nan],\n",
       " ['hypertension', 'high cholesterol', 'diabetes', nan, nan, nan],\n",
       " ['no significant medical history', nan, nan, nan, nan, nan],\n",
       " ['no significant medical history', nan, nan, nan, nan, nan],\n",
       " ['hypertension',\n",
       "  'high cholesterol',\n",
       "  'acid reflux',\n",
       "  'pacemaker/cardioverter/defib',\n",
       "  'bypass surgery',\n",
       "  nan],\n",
       " ['anemia', nan, nan, nan, nan, nan],\n",
       " ['no significant medical history', nan, nan, nan, nan, nan],\n",
       " ['no significant medical history', nan, nan, nan, nan, nan],\n",
       " ['no significant medical history', nan, nan, nan, nan, nan]]"
      ]
     },
     "execution_count": 88,
     "metadata": {},
     "output_type": "execute_result"
    }
   ],
   "source": [
    "ordered_hist[2000:2020]"
   ]
  },
  {
   "cell_type": "code",
   "execution_count": 89,
   "metadata": {},
   "outputs": [],
   "source": [
    "comorbids = []\n",
    "\n",
    "for item in ordered_hist:\n",
    "    res = [x for x in item if str(x) != 'nan']\n",
    "    if len(res) == 0: comorbids.append(np.nan)\n",
    "    else:\n",
    "        res = [x for x in res if x != 'no significant medical history']\n",
    "        #print (res, len(res))\n",
    "        comorbids.append(len(res))"
   ]
  },
  {
   "cell_type": "code",
   "execution_count": 90,
   "metadata": {},
   "outputs": [
    {
     "name": "stderr",
     "output_type": "stream",
     "text": [
      "/Users/jjaskolkambp/anaconda3/lib/python3.6/site-packages/ipykernel/__main__.py:2: SettingWithCopyWarning: \n",
      "A value is trying to be set on a copy of a slice from a DataFrame.\n",
      "Try using .loc[row_indexer,col_indexer] = value instead\n",
      "\n",
      "See the caveats in the documentation: http://pandas.pydata.org/pandas-docs/stable/indexing.html#indexing-view-versus-copy\n",
      "  from ipykernel import kernelapp as app\n"
     ]
    }
   ],
   "source": [
    "#so now I want to add this to the tabular data frame\n",
    "tab_df['num_comorbids'] = comorbids"
   ]
  },
  {
   "cell_type": "code",
   "execution_count": 91,
   "metadata": {},
   "outputs": [],
   "source": [
    "clin['num_comorbids'] = comorbids"
   ]
  },
  {
   "cell_type": "markdown",
   "metadata": {},
   "source": [
    "### now I'm going to make a couple of balanced datasets"
   ]
  },
  {
   "cell_type": "code",
   "execution_count": 92,
   "metadata": {},
   "outputs": [
    {
     "data": {
      "text/plain": [
       "(Counter({1: 92747, 3: 1490, 2: 8048, 4: 258}), Counter({1: 92747, 0: 9796}))"
      ]
     },
     "execution_count": 92,
     "metadata": {},
     "output_type": "execute_result"
    }
   ],
   "source": [
    "Counter(clin.target), Counter(clin.target3)"
   ]
  },
  {
   "cell_type": "code",
   "execution_count": 93,
   "metadata": {},
   "outputs": [],
   "source": [
    "admit_df = clin[clin.target3 == 0]\n",
    "\n",
    "dc_df = clin[clin.target3==1]\n",
    "dc_df = dc_df.sample(n= len(admit_df))  #this is the number of admissions from target 3\n",
    "\n"
   ]
  },
  {
   "cell_type": "code",
   "execution_count": 94,
   "metadata": {},
   "outputs": [],
   "source": [
    "balanced_df1 = pd.concat([admit_df, dc_df], axis = 0)"
   ]
  },
  {
   "cell_type": "code",
   "execution_count": 95,
   "metadata": {},
   "outputs": [],
   "source": [
    "icu_df = clin[clin.target2 == 4]\n",
    "madmit_df = clin[clin.target2 ==3].sample(n = len(icu_df))\n",
    "sadmit_df = clin[clin.target2 ==2].sample(n = len(icu_df))\n",
    "disc_df = clin[clin.target2 == 1].sample(n = len(icu_df))"
   ]
  },
  {
   "cell_type": "code",
   "execution_count": 96,
   "metadata": {},
   "outputs": [],
   "source": [
    "#this is a dataframe with equal numbers of all 4 classes\n",
    "balanced_df2 = pd.concat([icu_df, madmit_df, sadmit_df, disc_df], axis = 0)"
   ]
  },
  {
   "cell_type": "code",
   "execution_count": 97,
   "metadata": {},
   "outputs": [],
   "source": [
    "non_icu_df = clin[clin.target2 !=4].sample(n = len(icu_df))"
   ]
  },
  {
   "cell_type": "code",
   "execution_count": 98,
   "metadata": {},
   "outputs": [],
   "source": [
    "balanced_df3 = pd.concat([icu_df, non_icu_df], axis = 0)"
   ]
  },
  {
   "cell_type": "code",
   "execution_count": 99,
   "metadata": {},
   "outputs": [
    {
     "data": {
      "text/plain": [
       "Index(['ID', 'ChartNumber', 'EncounterNumber', 'TriageLevel', 'AgeNumber',\n",
       "       'AgeInYrs', 'GenderDesc', 'Triage Date & Time', 'Reg Date & Time',\n",
       "       'PIA Date & Time', 'Disposition Date & Time', 'DischargeDisposition',\n",
       "       'DischargeDispositionDesc', 'Left ED Date & Time',\n",
       "       'PresentingComplaint', 'PresentingComplaintDesc', 'MainDiagnosisCode',\n",
       "       'MainDiagnosisCodeDesc', 'AdmitLocation', 'PatientService',\n",
       "       'SubjectiveNotes', 'InfectionControlScreening', 'MedicalHistory',\n",
       "       'BloodPressure_LastEDReading', 'O2Saturation_LastEDReading',\n",
       "       'Pulse_LastEDReading', 'Temperature_LastEDReading', 'o2sat', 'pulse',\n",
       "       'temp', 'CleanSubjectiveNotes', 'BP', 'systolic', 'diastolic', 'Gender',\n",
       "       'outcome', 'target', 'service', 'target2', 'discharge', 'target3',\n",
       "       'dispo', 'target4', 'ICUvsother', 'target5', 'pmhx', 'num_comorbids'],\n",
       "      dtype='object')"
      ]
     },
     "execution_count": 99,
     "metadata": {},
     "output_type": "execute_result"
    }
   ],
   "source": [
    "balanced_df3.columns"
   ]
  },
  {
   "cell_type": "markdown",
   "metadata": {},
   "source": [
    "## saving dataframes to csv files"
   ]
  },
  {
   "cell_type": "code",
   "execution_count": 100,
   "metadata": {},
   "outputs": [],
   "source": [
    "balanced_df1.to_csv(data_path + '/balanced_admit_dc_nlp_data.csv')\n",
    "\n",
    "balanced_df2.to_csv(data_path +'/balanced_4cls_nlp_data.csv')\n",
    "\n",
    "balanced_df3.to_csv(data_path +'/balanced_icuvsother_nlp_data.csv')\n",
    "\n",
    "target_df.to_csv(data_path  + '/targets.csv')\n",
    "\n",
    "screening_df.to_csv(data_path + '/inf_control_data.csv')\n",
    "\n",
    "tab_df.to_csv(data_path + '/tabular_data.csv')\n",
    "\n",
    "date_df.to_csv(data_path + '/data_data.csv')\n",
    "\n",
    "subj_df.to_csv(data_path + '/subj_data.csv')\n",
    "\n",
    "medhx_df.to_csv(data_path + '/med_hx.csv')"
   ]
  },
  {
   "cell_type": "code",
   "execution_count": null,
   "metadata": {},
   "outputs": [],
   "source": []
  }
 ],
 "metadata": {
  "kernelspec": {
   "display_name": "Python [default]",
   "language": "python",
   "name": "python3"
  },
  "language_info": {
   "codemirror_mode": {
    "name": "ipython",
    "version": 3
   },
   "file_extension": ".py",
   "mimetype": "text/x-python",
   "name": "python",
   "nbconvert_exporter": "python",
   "pygments_lexer": "ipython3",
   "version": "3.6.5"
  }
 },
 "nbformat": 4,
 "nbformat_minor": 2
}
