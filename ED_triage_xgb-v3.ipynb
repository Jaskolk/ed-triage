{
 "cells": [
  {
   "cell_type": "markdown",
   "metadata": {},
   "source": [
    "# gonna use XGB now to combine the categorical, continuous and pre-embedded free text stuff"
   ]
  },
  {
   "cell_type": "markdown",
   "metadata": {
    "heading_collapsed": true
   },
   "source": [
    "#### Online, we import the usual packages. **xgboost** needs to be installed (with conda install xgboost or pip install -U xgboost)."
   ]
  },
  {
   "cell_type": "code",
   "execution_count": 29,
   "metadata": {
    "hidden": true
   },
   "outputs": [],
   "source": [
    "#!pip install xgboost"
   ]
  },
  {
   "cell_type": "markdown",
   "metadata": {},
   "source": [
    "####  the usual imports"
   ]
  },
  {
   "cell_type": "code",
   "execution_count": 1,
   "metadata": {},
   "outputs": [],
   "source": [
    "import pandas as pd\n",
    "import numpy as np\n",
    "import re\n",
    "import xgboost as xgb\n",
    "from sklearn.model_selection import train_test_split\n",
    "from sklearn.manifold import TSNE\n",
    "from sklearn.decomposition import PCA\n",
    "from sklearn.metrics import confusion_matrix\n",
    "from sklearn.preprocessing import LabelEncoder\n",
    "from sklearn.preprocessing import OneHotEncoder\n",
    "import sklearn.metrics\n",
    "from collections import Counter\n",
    "import seaborn as sns\n",
    "%matplotlib inline\n",
    "import matplotlib.pyplot as plt\n",
    "import sys\n",
    "import random as rn\n",
    "from IPython.display import clear_output\n",
    "import pickle"
   ]
  },
  {
   "cell_type": "markdown",
   "metadata": {},
   "source": [
    "### load helper functions"
   ]
  },
  {
   "cell_type": "code",
   "execution_count": 2,
   "metadata": {},
   "outputs": [],
   "source": [
    "def thresholding_analysis(preds, targets, admission_thresholds = [0.1,0.2,0.3,0.4,0.5,0.6,0.7,0.8,0.9]):\n",
    "\n",
    "    i = 0\n",
    "    for thresh in admission_thresholds:\n",
    "        thresholded_predictions = [0 if prob[0] >= thresh else 1 for prob in preds]\n",
    "        \n",
    "        f1_w, f1, acc, prec, rec, auroc = get_metrics(targets,thresholded_predictions, print_output = False)\n",
    "\n",
    "        if i == 0:\n",
    "            output_df = pd.DataFrame([thresh, f1_w, f1, acc, prec, rec, rec[0], rec[1]]).T\n",
    "            output_df.columns = ['admission_threshold', 'AUROC', 'f1', 'accuracy', 'precision', 'recall', 'admission sensitivity', 'admission specificity']\n",
    "        else:\n",
    "            output_df.loc[len(output_df)] = [thresh, auroc, f1, acc, prec, rec, rec[0], rec[1]]\n",
    "        i+=1\n",
    "    \n",
    "    return output_df"
   ]
  },
  {
   "cell_type": "code",
   "execution_count": 53,
   "metadata": {},
   "outputs": [],
   "source": [
    "\n",
    "def show_confusion_matrix2(confusion_matrix, labels):\n",
    "    LABELS = labels\n",
    "\n",
    "    plt.figure(figsize=(3, 3))\n",
    "    sns.heatmap(confusion_matrix, cmap = 'Blues', xticklabels=LABELS, yticklabels=LABELS, annot=True, fmt=\"d\", annot_kws={\"size\": 15});\n",
    "    plt.title(\"Confusion matrix\", fontsize=10)\n",
    "    plt.ylabel('True label', fontsize=10)\n",
    "    plt.xlabel('Predicted label', fontsize=10)\n",
    "    plt.show()\n",
    "    \n",
    "def get_metrics(model, y_test, X_test, show_confusion = True, print_output = True, return_values = False):\n",
    "    preds = model.predict_proba(X_test)\n",
    "    predictions = model.predict(X_test)\n",
    "    \n",
    "    f1_w = sklearn.metrics.f1_score(y_test, predictions, average='weighted')\n",
    "    f1 = sklearn.metrics.f1_score(y_test, predictions, average=None)\n",
    "    acc = sklearn.metrics.accuracy_score(y_test, predictions)\n",
    "    prec = sklearn.metrics.precision_score(y_test,predictions, average=None) \n",
    "    rec = sklearn.metrics.recall_score(y_test,predictions, average=None)\n",
    "    auroc = sklearn.metrics.roc_auc_score(y_test,preds[:,1], average=None)\n",
    "    confusion = sklearn.metrics.confusion_matrix(y_test, predictions)\n",
    "    \n",
    "    tp, fn, fp, tn = confusion[0,0], confusion[0,1], confusion[1,0], confusion[1,1]\n",
    "    \n",
    "    sens = tp/(tp + fn)\n",
    "    spec = tn/(tn + fp)\n",
    "    ppv = tp/(tp + fp)\n",
    "    npv = tn/(tn + fn)\n",
    "    \n",
    "    \n",
    "    if print_output:\n",
    "        print ('Metrics Report:')\n",
    "        print ('---------------')\n",
    "        print ('weighted f1: ', f1_w)\n",
    "        print ('AUROC:       ',auroc)\n",
    "        print ('accuracy:    ', acc)\n",
    "        print ('precision:   ', prec)\n",
    "        print ('recall:      ', rec)\n",
    "        #print ('admission sens: ', rec[0])\n",
    "        #print ('admission spec: ', rec[1])\n",
    "        print ('sensitivity: ', sens)\n",
    "        print ('specificity: ', spec)\n",
    "        print ('PPV:         ', ppv)\n",
    "        print ('NPV:         ', npv)\n",
    "        \n",
    "    if show_confusion:\n",
    "        show_confusion_matrix2(confusion, labels = ['admit', 'd/c'])\n",
    "     \n",
    "    if return_values == True:\n",
    "        return f1_w, auroc, acc, sens, ppv\n",
    "\n",
    "\n"
   ]
  },
  {
   "cell_type": "code",
   "execution_count": 4,
   "metadata": {},
   "outputs": [],
   "source": [
    "def JJ_gridsearch(weights, print_output = False):\n",
    "    epoch = 0\n",
    "    for weight in weights:\n",
    "        \n",
    "        xgc = xgb.XGBClassifier(scale_pos_weight=weight)\n",
    "        xgc.fit(X_train, y_train)\n",
    "        preds = xgc.predict(X_test)\n",
    "        probas = xgc.predict_proba(X_test)\n",
    "        f1_w, f1, acc, prec, rec = get_metrics(y_test, preds, print_output)\n",
    "        \n",
    "        if epoch == 0:\n",
    "            results_df = pd.DataFrame([epoch+1, 1/weight, f1_w, f1, acc, prec, rec, rec[0], rec[1]]).T\n",
    "            results_df.columns = ['trial number', 'class penalty', 'weighted f1', 'f1', 'accuracy', 'precision', 'recall', 'admission sensitivity', 'admission specificity']\n",
    "        else:\n",
    "            results_df.loc[len(results_df)] = [epoch+1, 1/weight, f1_w, f1, acc, prec, rec, rec[0], rec[1]]\n",
    "        \n",
    "        epoch +=1\n",
    "        \n",
    "    return xgc, results_df, preds, probas"
   ]
  },
  {
   "cell_type": "code",
   "execution_count": 5,
   "metadata": {},
   "outputs": [],
   "source": [
    "#use this cell when working from home\n",
    "path = '/Users/jjaskolkambp/Desktop/machine learning/my_projects/ed-triage'\n",
    "data_path = '/Users/jjaskolkambp/Desktop/machine learning/my_projects/data/ED triage project/combo'\n",
    "model_path = '/Users/jjaskolkambp/Desktop/machine learning/my_projects/ed-triage/models'"
   ]
  },
  {
   "cell_type": "code",
   "execution_count": 6,
   "metadata": {},
   "outputs": [],
   "source": [
    "clin = pd.read_csv(data_path + '/complete_clean_combo_data.csv', index_col = 0,low_memory = False)"
   ]
  },
  {
   "cell_type": "code",
   "execution_count": 7,
   "metadata": {},
   "outputs": [],
   "source": [
    "dx_code_dict = {code:i for i,code in enumerate(set(clin['MainDiagnosisCode']))}\n",
    "\n",
    "def convert_dxcode(s):\n",
    "    code = dx_code_dict[s]\n",
    "    return (code)\n",
    "\n",
    "clin['recoded_diagnosis'] = clin['MainDiagnosisCode'].map(convert_dxcode)"
   ]
  },
  {
   "cell_type": "code",
   "execution_count": 8,
   "metadata": {},
   "outputs": [],
   "source": [
    "medhx = np.load(data_path + '/medhx_embeds.npy')\n",
    "\n",
    "#this is the admit vs d/c target\n",
    "target = np.load(data_path + '/admit_dc_target.npy')\n",
    "\n",
    "subjnotes = np.load(data_path + '/subj_emeds.npy')\n"
   ]
  },
  {
   "cell_type": "code",
   "execution_count": 9,
   "metadata": {},
   "outputs": [],
   "source": [
    "#this cell will define the various groupings of variables from the dataframe\n",
    "dx_vars = ['recoded_diagnosis', 'PresentingComplaint']\n",
    "\n",
    "cont_vars = [ 'Triage Date & TimeYear', 'Triage Date & TimeMonth', 'Triage Date & TimeWeek', 'Triage Date & TimeDay',\n",
    " 'Triage Date & TimeDayofweek', 'Triage Date & TimeDayofyear', 'Triage Date & TimeHour', 'Triage Date & TimeMinute',\n",
    " 'Triage Date & TimeSecond', 'Triage Date & TimeElapsed',\n",
    " 'num_comorbids','systolic', 'diastolic', 'o2sat', 'pulse', 'temp', 'AgeInYrs']\n",
    "\n",
    "\n",
    "cos_date_vars = ['Triage Date & Timeweekday_cos',\n",
    "       'Triage Date & Timeweekday_sin', 'Triage Date & Timeday_month_cos',\n",
    "       'Triage Date & Timeday_month_sin', 'Triage Date & Timemonth_year_cos',\n",
    "       'Triage Date & Timemonth_year_sin', 'Triage Date & Timeday_year_cos',\n",
    "       'Triage Date & Timeday_year_sin', 'Triage Date & Timehour_cos',\n",
    "       'Triage Date & Timehour_sin', 'Triage Date & Timeclock_cos',\n",
    "       'Triage Date & Timeclock_sin', 'Triage Date & Timemin_cos',\n",
    "       'Triage Date & Timemin_sin', 'Triage Date & Timesec_cos']\n",
    "\n",
    "cat_vars = ['Triage Date & TimeIs_month_end',\n",
    " 'Triage Date & TimeIs_month_start',\n",
    " 'Triage Date & TimeIs_quarter_end',\n",
    " 'Triage Date & TimeIs_quarter_start',\n",
    " 'Triage Date & TimeIs_year_end',\n",
    " 'Triage Date & TimeIs_year_start',\n",
    " 'GenderDesc', 'TriageLevel', 'site']\n",
    "\n",
    "inf_control_vars = ['Are you feeling feverish or have had shakes or chills in the last 24 hours?',\n",
    " 'Have you ever been isolated/required isolation for an infectious disease when receiving care in a healthcare setting?',\n",
    " 'Do you have a new Rash?',\n",
    " 'Do you have a new onset of Vomiting/Diarrhea in the last 24 hours?',\n",
    " 'Have you travelled outside of Canada/USA in the last 3 weeks?',\n",
    " 'Have you had contact with a sick person who has travelled outside of Canada/USA in the last 3 weeks?',\n",
    " 'Have you received Health Care in another country in the last 2 years?',\n",
    " 'Do you have a new/worse cough or shortness of breath?',\n",
    " 'If so, select all countries that apply',\n",
    " 'If so, select all infectious diseases that apply']"
   ]
  },
  {
   "cell_type": "markdown",
   "metadata": {},
   "source": [
    "### preprocessing variables to use in XGB"
   ]
  },
  {
   "cell_type": "code",
   "execution_count": 10,
   "metadata": {},
   "outputs": [],
   "source": [
    "#need to preprocess cat vars for xgb\n",
    "X = clin[cat_vars + inf_control_vars].values.astype(str)\n",
    "\n",
    "features = []\n",
    "for i in range(0, X.shape[1]):\n",
    "    label_encoder = LabelEncoder()\n",
    "    feature = label_encoder.fit_transform(X[:,i])\n",
    "    features.append(feature)\n",
    "encoded_x = np.array(features)\n",
    "encoded_x = encoded_x.reshape(X.shape[0], X.shape[1])"
   ]
  },
  {
   "cell_type": "code",
   "execution_count": 11,
   "metadata": {},
   "outputs": [
    {
     "data": {
      "text/plain": [
       "(165433, 19)"
      ]
     },
     "execution_count": 11,
     "metadata": {},
     "output_type": "execute_result"
    }
   ],
   "source": [
    "encoded_x.shape"
   ]
  },
  {
   "cell_type": "code",
   "execution_count": 12,
   "metadata": {},
   "outputs": [
    {
     "name": "stdout",
     "output_type": "stream",
     "text": [
      "X shape: :  (165433, 3702)\n"
     ]
    }
   ],
   "source": [
    "X2 = clin[dx_vars].values.astype(str)\n",
    "encoded_x2 = None\n",
    "for i in range(0, X2.shape[1]):\n",
    "\tlabel_encoder = LabelEncoder()\n",
    "\tfeature = label_encoder.fit_transform(X2[:,i])\n",
    "\tfeature = feature.reshape(X2.shape[0], 1)\n",
    "\tonehot_encoder = OneHotEncoder(sparse=False)\n",
    "\tfeature = onehot_encoder.fit_transform(feature)\n",
    "\tif encoded_x2 is None:\n",
    "\t\tencoded_x2 = feature\n",
    "\telse:\n",
    "\t\tencoded_x2 = np.concatenate((encoded_x2, feature), axis=1)\n",
    "print(\"X shape: : \", encoded_x2.shape)"
   ]
  },
  {
   "cell_type": "code",
   "execution_count": 13,
   "metadata": {},
   "outputs": [],
   "source": [
    "#splitting this one hot encoded matrix into one for the presenting complaint and one for the medical history\n",
    "X_pres = encoded_x2[:,:169]\n",
    "\n",
    "X_dx = encoded_x2[:,169:]"
   ]
  },
  {
   "cell_type": "markdown",
   "metadata": {
    "heading_collapsed": true
   },
   "source": [
    "### gonna do this first pass with just tabular type variables"
   ]
  },
  {
   "cell_type": "code",
   "execution_count": 47,
   "metadata": {
    "hidden": true
   },
   "outputs": [
    {
     "name": "stdout",
     "output_type": "stream",
     "text": [
      "CPU times: user 11min 47s, sys: 14.6 s, total: 12min 1s\n",
      "Wall time: 12min 20s\n"
     ]
    },
    {
     "name": "stderr",
     "output_type": "stream",
     "text": [
      "/Users/jjaskolkambp/anaconda3/lib/python3.6/site-packages/sklearn/preprocessing/label.py:151: DeprecationWarning: The truth value of an empty array is ambiguous. Returning False, but in future this will result in an error. Use `array.size > 0` to check that an array is not empty.\n",
      "  if diff:\n"
     ]
    },
    {
     "name": "stdout",
     "output_type": "stream",
     "text": [
      "weighted f1:  0.8253321711774023\n",
      "AUROC:        0.8435397539725125\n",
      "accuracy:     0.7883411107618656\n",
      "precision:    [0.27643203 0.96312273]\n",
      "recall:       [0.71905115 0.79585656]\n",
      "admission sens:  0.7190511489992587\n",
      "admission spec:  0.7958565608919382\n"
     ]
    }
   ],
   "source": [
    "features = np.concatenate((encoded_x,X_pres, X_dx, clin[cont_vars].values), axis =1)\n",
    "X_train, X_test, y_train, y_test = train_test_split(features, target, random_state=1)\n",
    "\n",
    "xgc = xgb.XGBClassifier(scale_pos_weight = 1/9)\n",
    "%time xgc.fit(X_train, y_train)\n",
    "\n",
    "preds = xgc.predict(X_test)\n",
    "predictions = xgc.predict_proba(X_test)\n",
    "\n",
    "f1_w, f1, acc, prec, rec, auroc = get_metrics(y_test, preds, predictions, print_output=True)"
   ]
  },
  {
   "cell_type": "markdown",
   "metadata": {
    "heading_collapsed": true
   },
   "source": [
    "### now gonna repeat the process with the embedded subjective notes"
   ]
  },
  {
   "cell_type": "code",
   "execution_count": 48,
   "metadata": {
    "hidden": true
   },
   "outputs": [
    {
     "name": "stdout",
     "output_type": "stream",
     "text": [
      "CPU times: user 11min 14s, sys: 6.03 s, total: 11min 20s\n",
      "Wall time: 11min 46s\n"
     ]
    },
    {
     "name": "stderr",
     "output_type": "stream",
     "text": [
      "/Users/jjaskolkambp/anaconda3/lib/python3.6/site-packages/sklearn/preprocessing/label.py:151: DeprecationWarning: The truth value of an empty array is ambiguous. Returning False, but in future this will result in an error. Use `array.size > 0` to check that an array is not empty.\n",
      "  if diff:\n"
     ]
    },
    {
     "name": "stdout",
     "output_type": "stream",
     "text": [
      "weighted f1:  0.7358339767372062\n",
      "AUROC:        0.7294625773130553\n",
      "accuracy:     0.669165115210716\n",
      "precision:    [0.17884282 0.94824904]\n",
      "recall:       [0.66296022 0.66983812]\n",
      "admission sens:  0.662960217445021\n",
      "admission spec:  0.6698381217838765\n"
     ]
    }
   ],
   "source": [
    "#X_train, X_test, y_train, y_test = train_test_split(features, target, random_state=1)\n",
    "X_train2, X_test2, y_train2, y_test2 = train_test_split(subjnotes, target, random_state=1)\n",
    "\n",
    "xgc2 = xgb.XGBClassifier(scale_pos_weight = 1/9)\n",
    "%time xgc2.fit(X_train2, y_train2)\n",
    "\n",
    "preds2 = xgc2.predict(X_test2)\n",
    "predictions2 = xgc2.predict_proba(X_test2)\n",
    "\n",
    "f1_w, f1, acc, prec, rec, auroc = get_metrics(y_test2, preds2, predictions2, print_output=True)"
   ]
  },
  {
   "cell_type": "markdown",
   "metadata": {
    "heading_collapsed": true
   },
   "source": [
    "###  now gonna do this with just the embedded medical history column"
   ]
  },
  {
   "cell_type": "code",
   "execution_count": 49,
   "metadata": {
    "hidden": true,
    "scrolled": true
   },
   "outputs": [
    {
     "name": "stdout",
     "output_type": "stream",
     "text": [
      "CPU times: user 5min 32s, sys: 4.09 s, total: 5min 36s\n",
      "Wall time: 5min 48s\n"
     ]
    },
    {
     "name": "stderr",
     "output_type": "stream",
     "text": [
      "/Users/jjaskolkambp/anaconda3/lib/python3.6/site-packages/sklearn/preprocessing/label.py:151: DeprecationWarning: The truth value of an empty array is ambiguous. Returning False, but in future this will result in an error. Use `array.size > 0` to check that an array is not empty.\n",
      "  if diff:\n"
     ]
    },
    {
     "name": "stdout",
     "output_type": "stream",
     "text": [
      "weighted f1:  0.7382562301967925\n",
      "AUROC:        0.6976412193709336\n",
      "accuracy:     0.6725742885466283\n",
      "precision:    [0.17471737 0.94406666]\n",
      "recall:       [0.63009637 0.6771816 ]\n",
      "admission sens:  0.6300963676797627\n",
      "admission spec:  0.6771816037735849\n"
     ]
    }
   ],
   "source": [
    "X_train3, X_test3, y_train3, y_test3 = train_test_split(medhx, target, random_state=1)\n",
    "\n",
    "xgc3 = xgb.XGBClassifier(scale_pos_weight = 1/9)\n",
    "%time xgc3.fit(X_train3, y_train3)\n",
    "\n",
    "preds3 = xgc3.predict(X_test3)\n",
    "predictions3 = xgc3.predict_proba(X_test3)\n",
    "\n",
    "f1_w, f1, acc, prec, rec, auroc = get_metrics(y_test3, preds3, predictions3, print_output=True)\n"
   ]
  },
  {
   "cell_type": "markdown",
   "metadata": {
    "heading_collapsed": true
   },
   "source": [
    "### this now the entire dataset combined"
   ]
  },
  {
   "cell_type": "code",
   "execution_count": 14,
   "metadata": {
    "hidden": true
   },
   "outputs": [
    {
     "data": {
      "text/plain": [
       "(165433, 5274)"
      ]
     },
     "execution_count": 14,
     "metadata": {},
     "output_type": "execute_result"
    }
   ],
   "source": [
    "features = np.concatenate((encoded_x,X_pres, X_dx, clin[cont_vars].values), axis =1)\n",
    "all_features = np.concatenate((features,subjnotes,medhx), axis = 1)\n",
    "all_features.shape"
   ]
  },
  {
   "cell_type": "code",
   "execution_count": 51,
   "metadata": {
    "hidden": true,
    "scrolled": false
   },
   "outputs": [
    {
     "name": "stdout",
     "output_type": "stream",
     "text": [
      "CPU times: user 27min 31s, sys: 57.6 s, total: 28min 28s\n",
      "Wall time: 29min 37s\n"
     ]
    },
    {
     "name": "stderr",
     "output_type": "stream",
     "text": [
      "/Users/jjaskolkambp/anaconda3/lib/python3.6/site-packages/sklearn/preprocessing/label.py:151: DeprecationWarning: The truth value of an empty array is ambiguous. Returning False, but in future this will result in an error. Use `array.size > 0` to check that an array is not empty.\n",
      "  if diff:\n"
     ]
    },
    {
     "name": "stdout",
     "output_type": "stream",
     "text": [
      "weighted f1:  0.821537657718788\n",
      "AUROC:        0.8482432551206853\n",
      "accuracy:     0.7826591552020117\n",
      "precision:    [0.27371795 0.96524196]\n",
      "recall:       [0.73857178 0.78744104]\n",
      "admission sens:  0.7385717815665925\n",
      "admission spec:  0.7874410377358491\n"
     ]
    }
   ],
   "source": [
    "X_train4, X_test4, y_train4, y_test4 = train_test_split(all_features, target, random_state=1)\n",
    "\n",
    "xgc4 = xgb.XGBClassifier(scale_pos_weight = 1/9)\n",
    "%time xgc4.fit(X_train4, y_train4)\n",
    "\n",
    "preds4 = xgc4.predict(X_test4)\n",
    "predictions4 = xgc4.predict_proba(X_test4)\n",
    "\n",
    "f1_w, f1, acc, prec, rec, auroc = get_metrics(y_test4, preds4, predictions4, print_output=True)\n"
   ]
  },
  {
   "cell_type": "code",
   "execution_count": 56,
   "metadata": {
    "hidden": true
   },
   "outputs": [
    {
     "data": {
      "text/plain": [
       "XGBClassifier(base_score=0.5, booster='gbtree', colsample_bylevel=1,\n",
       "       colsample_bynode=1, colsample_bytree=1, gamma=0, learning_rate=0.1,\n",
       "       max_delta_step=0, max_depth=3, min_child_weight=1, missing=None,\n",
       "       n_estimators=100, n_jobs=1, nthread=None,\n",
       "       objective='binary:logistic', random_state=0, reg_alpha=0,\n",
       "       reg_lambda=1, scale_pos_weight=0.1111111111111111, seed=None,\n",
       "       silent=None, subsample=1, verbosity=1)"
      ]
     },
     "execution_count": 56,
     "metadata": {},
     "output_type": "execute_result"
    }
   ],
   "source": [
    "xgc4"
   ]
  },
  {
   "cell_type": "code",
   "execution_count": null,
   "metadata": {
    "hidden": true
   },
   "outputs": [],
   "source": [
    "#added in hospital site as a variable\n",
    "\n",
    "X_train5, X_test5, y_train5, y_test5 = train_test_split(all_features, target, random_state=1)\n",
    "\n",
    "xgc5 = xgb.XGBClassifier(scale_pos_weight = 1/9)\n",
    "%time xgc5.fit(X_train5, y_train5)\n",
    "\n",
    "preds5 = xgc5.predict(X_test5)\n",
    "predictions5 = xgc5.predict_proba(X_test5)\n",
    "\n",
    "f1_w, f1, acc, prec, rec, auroc = get_metrics(y_test5, preds5, predictions5, print_output=True)"
   ]
  },
  {
   "cell_type": "markdown",
   "metadata": {
    "hidden": true
   },
   "source": [
    "#### gonna train everything with only BCH and then only EGH to see if results are better for a single instition"
   ]
  },
  {
   "cell_type": "code",
   "execution_count": 43,
   "metadata": {
    "hidden": true
   },
   "outputs": [
    {
     "data": {
      "text/plain": [
       "(102128, 122)"
      ]
     },
     "execution_count": 43,
     "metadata": {},
     "output_type": "execute_result"
    }
   ],
   "source": [
    "bch = clin[clin['site']=='BCH']\n",
    "\n",
    "bch_idx = list(bch.index)\n",
    "\n",
    "bch_features = all_features[bch_idx]\n",
    "bch_features.shape\n",
    "\n",
    "bch_target = target[bch_idx]"
   ]
  },
  {
   "cell_type": "code",
   "execution_count": 55,
   "metadata": {
    "hidden": true
   },
   "outputs": [
    {
     "data": {
      "text/plain": [
       "Counter({1.0: 92436, 0.0: 9692})"
      ]
     },
     "execution_count": 55,
     "metadata": {},
     "output_type": "execute_result"
    }
   ],
   "source": [
    "Counter(bch_target)"
   ]
  },
  {
   "cell_type": "code",
   "execution_count": 58,
   "metadata": {
    "hidden": true
   },
   "outputs": [
    {
     "name": "stdout",
     "output_type": "stream",
     "text": [
      "CPU times: user 16min 56s, sys: 15.1 s, total: 17min 11s\n",
      "Wall time: 17min 31s\n"
     ]
    },
    {
     "name": "stderr",
     "output_type": "stream",
     "text": [
      "/Users/jjaskolkambp/anaconda3/lib/python3.6/site-packages/sklearn/preprocessing/label.py:151: DeprecationWarning: The truth value of an empty array is ambiguous. Returning False, but in future this will result in an error. Use `array.size > 0` to check that an array is not empty.\n",
      "  if diff:\n"
     ]
    },
    {
     "name": "stdout",
     "output_type": "stream",
     "text": [
      "weighted f1:  0.8391177666887858\n",
      "AUROC:        0.8599960626091043\n",
      "accuracy:     0.8043239855867147\n",
      "precision:    [0.28297244 0.96784318]\n",
      "recall:       [0.73404255 0.81144854]\n",
      "admission sens:  0.7340425531914894\n",
      "admission spec:  0.8114485376585282\n"
     ]
    }
   ],
   "source": [
    "X_train6, X_test6, y_train6, y_test6 = train_test_split(bch_features, bch_target, random_state=1)\n",
    "\n",
    "xgc6 = xgb.XGBClassifier(scale_pos_weight = 1/9)\n",
    "%time xgc6.fit(X_train6, y_train6)\n",
    "\n",
    "preds6 = xgc6.predict(X_test6)\n",
    "predictions6 = xgc6.predict_proba(X_test6)\n",
    "\n",
    "f1_w, f1, acc, prec, rec, auroc = get_metrics(y_test6, preds6, predictions6, print_output=True)"
   ]
  },
  {
   "cell_type": "code",
   "execution_count": 66,
   "metadata": {
    "hidden": true
   },
   "outputs": [
    {
     "data": {
      "image/png": "[encoded data removed]",
      "text/plain": [
       "<Figure size 216x216 with 2 Axes>"
      ]
     },
     "metadata": {},
     "output_type": "display_data"
    }
   ],
   "source": [
    "confusion = show_confusion_matrix(y_test6, preds6, labels = ['admit', 'd/c'])"
   ]
  },
  {
   "cell_type": "markdown",
   "metadata": {
    "hidden": true
   },
   "source": [
    "#### refactoring metrics calculation"
   ]
  },
  {
   "cell_type": "code",
   "execution_count": 97,
   "metadata": {
    "hidden": true
   },
   "outputs": [
    {
     "name": "stderr",
     "output_type": "stream",
     "text": [
      "/Users/jjaskolkambp/anaconda3/lib/python3.6/site-packages/sklearn/preprocessing/label.py:151: DeprecationWarning: The truth value of an empty array is ambiguous. Returning False, but in future this will result in an error. Use `array.size > 0` to check that an array is not empty.\n",
      "  if diff:\n"
     ]
    },
    {
     "name": "stdout",
     "output_type": "stream",
     "text": [
      "Metrics Report:\n",
      "---------------\n",
      "weighted f1:  0.8391177666887858\n",
      "AUROC:        0.8599960626091043\n",
      "accuracy:     0.8043239855867147\n",
      "precision:    [0.28297244 0.96784318]\n",
      "recall:       [0.73404255 0.81144854]\n",
      "sensitivity:  0.7340425531914894\n",
      "specificity:  0.8114485376585282\n",
      "PPV:          0.2829724409448819\n",
      "NPV:          0.9678431776085614\n"
     ]
    },
    {
     "data": {
      "image/png": "[encoded data removed]",
      "text/plain": [
       "<Figure size 216x216 with 2 Axes>"
      ]
     },
     "metadata": {},
     "output_type": "display_data"
    }
   ],
   "source": [
    "get_metrics(xgc6, y_test6, X_test6)"
   ]
  },
  {
   "cell_type": "code",
   "execution_count": 98,
   "metadata": {
    "hidden": true
   },
   "outputs": [
    {
     "name": "stdout",
     "output_type": "stream",
     "text": [
      "(63305, 5274)\n"
     ]
    }
   ],
   "source": [
    "egh = clin[clin['site']=='EGH']\n",
    "\n",
    "egh_idx = list(egh.index)\n",
    "\n",
    "egh_features = all_features[egh_idx]\n",
    "print(egh_features.shape)\n",
    "\n",
    "egh_target = target[egh_idx]"
   ]
  },
  {
   "cell_type": "code",
   "execution_count": 99,
   "metadata": {
    "hidden": true
   },
   "outputs": [
    {
     "name": "stdout",
     "output_type": "stream",
     "text": [
      "CPU times: user 10min 28s, sys: 8 s, total: 10min 36s\n",
      "Wall time: 11min\n"
     ]
    },
    {
     "data": {
      "text/plain": [
       "XGBClassifier(base_score=0.5, booster='gbtree', colsample_bylevel=1,\n",
       "       colsample_bynode=1, colsample_bytree=1, gamma=0, learning_rate=0.1,\n",
       "       max_delta_step=0, max_depth=3, min_child_weight=1, missing=None,\n",
       "       n_estimators=100, n_jobs=1, nthread=None,\n",
       "       objective='binary:logistic', random_state=0, reg_alpha=0,\n",
       "       reg_lambda=1, scale_pos_weight=0.1111111111111111, seed=None,\n",
       "       silent=None, subsample=1, verbosity=1)"
      ]
     },
     "execution_count": 99,
     "metadata": {},
     "output_type": "execute_result"
    }
   ],
   "source": [
    "X_train7, X_test7, y_train7, y_test7 = train_test_split(egh_features, egh_target, random_state=1)\n",
    "\n",
    "xgc7 = xgb.XGBClassifier(scale_pos_weight = 1/9)\n",
    "%time xgc7.fit(X_train7, y_train7)\n",
    "\n",
    "#preds7 = xgc6.predict(X_test6)\n",
    "#predictions6 = xgc6.predict_proba(X_test6)"
   ]
  },
  {
   "cell_type": "code",
   "execution_count": 100,
   "metadata": {
    "hidden": true
   },
   "outputs": [
    {
     "name": "stderr",
     "output_type": "stream",
     "text": [
      "/Users/jjaskolkambp/anaconda3/lib/python3.6/site-packages/sklearn/preprocessing/label.py:151: DeprecationWarning: The truth value of an empty array is ambiguous. Returning False, but in future this will result in an error. Use `array.size > 0` to check that an array is not empty.\n",
      "  if diff:\n"
     ]
    },
    {
     "name": "stdout",
     "output_type": "stream",
     "text": [
      "Metrics Report:\n",
      "---------------\n",
      "weighted f1:  0.818801495849663\n",
      "AUROC:        0.8501875982009937\n",
      "accuracy:     0.7815126050420168\n",
      "precision:    [0.29075708 0.9649336 ]\n",
      "recall:       [0.75603865 0.78448945]\n",
      "sensitivity:  0.7560386473429952\n",
      "specificity:  0.784489450285795\n",
      "PPV:          0.2907570831398049\n",
      "NPV:          0.9649335995139311\n"
     ]
    },
    {
     "data": {
      "image/png": "[encoded data removed]",
      "text/plain": [
       "<Figure size 216x216 with 2 Axes>"
      ]
     },
     "metadata": {},
     "output_type": "display_data"
    }
   ],
   "source": [
    "get_metrics(xgc7,y_test7, X_test7)"
   ]
  },
  {
   "cell_type": "markdown",
   "metadata": {
    "heading_collapsed": true,
    "hidden": true
   },
   "source": [
    "#### creating a one hot encoded diagnosis list"
   ]
  },
  {
   "cell_type": "code",
   "execution_count": 17,
   "metadata": {
    "hidden": true
   },
   "outputs": [],
   "source": [
    "history = list(clin['MedicalHistory'].str[16:].astype('str'))"
   ]
  },
  {
   "cell_type": "code",
   "execution_count": 18,
   "metadata": {
    "hidden": true
   },
   "outputs": [],
   "source": [
    "#this is to clean the text in the medical history column (a little bit)\n",
    "def fixhx(s):\n",
    "    s =s.replace('<LT><LF>','')\n",
    "    s = s.replace('<LT>LF>','')\n",
    "    s =s.replace('Pt.', 'patient')\n",
    "    s =s.replace('Pt', 'patient')\n",
    "    s = s.lower()\n",
    "    s = s.replace('pt.', 'patient')\n",
    "    s = s.replace('y/o', 'year old')\n",
    "    s = s.replace('c/o', 'complains of')\n",
    "    s = s.replace('sob', 'shortness of breath')\n",
    "    s = s.replace('c/p', 'chest pain')\n",
    "    s = s.replace('hrs', 'hours')\n",
    "    s = s.replace('hx', 'history')\n",
    "    s = s.replace('n/v', 'nausea and/or vomiting')\n",
    "    s = s.replace('a/e', 'air entry')\n",
    "    s = s.replace('a/o', 'alert and oriented')\n",
    "    s = s.replace('a&o', 'alert and oriented')\n",
    "    s = s.replace('d/c', 'discharge')\n",
    "    s = s.replace('u/s', 'ultrasound')\n",
    "    s = s.replace('yrs', 'years')\n",
    "    s = s.replace('lmp', 'last menstrual period')\n",
    "    s = s.replace('w/', 'with')\n",
    "    s = s.replace('@', 'at ')\n",
    "    s = s.replace('b/c', 'because')\n",
    "    s = re.sub(r'\\bpt.','patient ',s)\n",
    "    s = re.sub(r'\\blt.','left ',s)\n",
    "    s = re.sub(r'\\brt.','right ',s)\n",
    "    s = re.sub(r'\\bmd.','doctor ',s)\n",
    "    s = re.sub(r'\\bra\\b','room air ',s)\n",
    "    s = re.sub(r'\\bbp.','blood pressure ',s)\n",
    "    s = re.sub(r'\\bcp.','chest pain ',s)\n",
    "    s = re.sub(r'\\bfd.','family doctor ',s)\n",
    "    s = s.replace('abx', 'antibiotics')\n",
    "    s = s.replace(' htn ', ' hypertension ')\n",
    "    s = re.sub(r'\\btyl\\b', 'tylenol', s)\n",
    "    s = re.sub(r'\\bprn\\b', 'as needed ',s)\n",
    "    s = re.sub(r'\\bvag\\b', 'vaginal ',s)\n",
    "    s = re.sub(r'\\bpo\\b', 'by mouth ',s)\n",
    "    s = re.sub(r'\\bllq\\b', 'left lower quadrant',s)\n",
    "    s = re.sub(r'\\brlq\\b', 'right lower quadrant  ',s)\n",
    "    s = re.sub(r'\\bluq\\b', 'left upper quadrant',s)\n",
    "    s = re.sub(r'\\bruq\\b', 'right upper quadrant  ',s)\n",
    "    s = re.sub(r'\\buti\\b', 'urinary tract infection ',s)\n",
    "    s = re.sub(r'\\brd', 'right digit number',s)\n",
    "    s = re.sub(r'\\bld', 'left digit number',s)\n",
    "    s = re.sub(r'\\br\\b', 'right ',s)\n",
    "    s = re.sub(r'\\bl\\b', 'left ',s)\n",
    "    s = re.sub(r'\\bed\\b', 'emergency department ',s)\n",
    "    s = re.sub(r'\\ber\\b', 'emergency room ',s)\n",
    "    s = re.sub(r'\\bbm\\b', 'bowel movement ',s)\n",
    "    s = re.sub(r'#\\s', 'fracture ', s)\n",
    "    \n",
    "    #remove extra white spaces\n",
    "    s = re.sub(r'\\s+', ' ', s)\n",
    "\n",
    "    #note that what's missing here is removal of punctuation\n",
    "    return s"
   ]
  },
  {
   "cell_type": "code",
   "execution_count": 19,
   "metadata": {
    "hidden": true
   },
   "outputs": [],
   "source": [
    "replacements = (',','<LT>LF>', '.')\n",
    "drop_list = ('\"', '?')\n",
    "split_hist = []\n",
    "for item in history:\n",
    "    for r in replacements:\n",
    "        item = item.replace(r, '::')\n",
    "    \n",
    "    item = item.split('::')\n",
    "    \n",
    "    item = [re.sub(r'\\(.*?\\)\\ *', '', s) for s in item]\n",
    "    \n",
    "    item = [fixhx(s) for s in item]\n",
    "    for d in drop_list:\n",
    "        item = [x.replace(d,'') for x in item]\n",
    "    \n",
    "    item = [x.strip().lower() for x in item if x != 'nan']\n",
    "    item = [x for x in item if len(x) > 2]\n",
    "    \n",
    "    item = list(filter(None, item))\n",
    "    \n",
    "    split_hist.append(item)\n",
    "    "
   ]
  },
  {
   "cell_type": "code",
   "execution_count": 24,
   "metadata": {
    "hidden": true
   },
   "outputs": [
    {
     "data": {
      "text/plain": [
       "23721"
      ]
     },
     "execution_count": 24,
     "metadata": {},
     "output_type": "execute_result"
    }
   ],
   "source": [
    "diagnoses = Counter()\n",
    "for hx in split_hist:\n",
    "    for item in hx:\n",
    "        diagnoses[item] += 1\n",
    "\n",
    "len(diagnoses)"
   ]
  },
  {
   "cell_type": "code",
   "execution_count": 41,
   "metadata": {
    "hidden": true
   },
   "outputs": [
    {
     "data": {
      "text/plain": [
       "1999"
      ]
     },
     "execution_count": 41,
     "metadata": {},
     "output_type": "execute_result"
    }
   ],
   "source": [
    "#making a dictionary of the top 1000 diagnosis\n",
    "class_dict = {finding[0]:i for i,finding in enumerate(diagnoses.most_common(1999))}; len(class_dict)"
   ]
  },
  {
   "cell_type": "code",
   "execution_count": 42,
   "metadata": {
    "hidden": true
   },
   "outputs": [],
   "source": [
    "#this creates a large array containing a 1 in each column where there is a diagnosis (for each xray)\n",
    "complete_findings = np.empty((len(data), 2000))\n",
    "for idx,findings in enumerate(split_hist):\n",
    "    findings_array = np.zeros(2000)\n",
    "    for finding in findings:\n",
    "        try:\n",
    "            findings_array[class_dict[finding]] = 1\n",
    "        except:\n",
    "            findings_array[1999] = 1\n",
    "    complete_findings[idx,:]= findings_array"
   ]
  },
  {
   "cell_type": "code",
   "execution_count": 43,
   "metadata": {
    "hidden": true
   },
   "outputs": [
    {
     "data": {
      "text/html": [
       "<div>\n",
       "<style scoped>\n",
       "    .dataframe tbody tr th:only-of-type {\n",
       "        vertical-align: middle;\n",
       "    }\n",
       "\n",
       "    .dataframe tbody tr th {\n",
       "        vertical-align: top;\n",
       "    }\n",
       "\n",
       "    .dataframe thead th {\n",
       "        text-align: right;\n",
       "    }\n",
       "</style>\n",
       "<table border=\"1\" class=\"dataframe\">\n",
       "  <thead>\n",
       "    <tr style=\"text-align: right;\">\n",
       "      <th></th>\n",
       "      <th>no significant medical history</th>\n",
       "      <th>hypertension</th>\n",
       "      <th>high cholesterol</th>\n",
       "      <th>niddm</th>\n",
       "      <th>htn</th>\n",
       "      <th>asthma</th>\n",
       "      <th>high bp</th>\n",
       "      <th>depression</th>\n",
       "      <th>thyroid</th>\n",
       "      <th>anxiety</th>\n",
       "      <th>...</th>\n",
       "      <th>lyme disease</th>\n",
       "      <th>narrow tricuspid valve</th>\n",
       "      <th>wisdom tooth extraction</th>\n",
       "      <th>acute pancreatitis</th>\n",
       "      <th>chronic leukemia</th>\n",
       "      <th>sleeping problems</th>\n",
       "      <th>esophagectomy</th>\n",
       "      <th>low k</th>\n",
       "      <th>skin condition</th>\n",
       "      <th>other</th>\n",
       "    </tr>\n",
       "  </thead>\n",
       "  <tbody>\n",
       "    <tr>\n",
       "      <th>0</th>\n",
       "      <td>1</td>\n",
       "      <td>0</td>\n",
       "      <td>0</td>\n",
       "      <td>0</td>\n",
       "      <td>0</td>\n",
       "      <td>0</td>\n",
       "      <td>0</td>\n",
       "      <td>0</td>\n",
       "      <td>0</td>\n",
       "      <td>0</td>\n",
       "      <td>...</td>\n",
       "      <td>0</td>\n",
       "      <td>0</td>\n",
       "      <td>0</td>\n",
       "      <td>0</td>\n",
       "      <td>0</td>\n",
       "      <td>0</td>\n",
       "      <td>0</td>\n",
       "      <td>0</td>\n",
       "      <td>0</td>\n",
       "      <td>0</td>\n",
       "    </tr>\n",
       "    <tr>\n",
       "      <th>1</th>\n",
       "      <td>1</td>\n",
       "      <td>0</td>\n",
       "      <td>0</td>\n",
       "      <td>0</td>\n",
       "      <td>0</td>\n",
       "      <td>0</td>\n",
       "      <td>0</td>\n",
       "      <td>0</td>\n",
       "      <td>0</td>\n",
       "      <td>0</td>\n",
       "      <td>...</td>\n",
       "      <td>0</td>\n",
       "      <td>0</td>\n",
       "      <td>0</td>\n",
       "      <td>0</td>\n",
       "      <td>0</td>\n",
       "      <td>0</td>\n",
       "      <td>0</td>\n",
       "      <td>0</td>\n",
       "      <td>0</td>\n",
       "      <td>0</td>\n",
       "    </tr>\n",
       "    <tr>\n",
       "      <th>2</th>\n",
       "      <td>1</td>\n",
       "      <td>0</td>\n",
       "      <td>0</td>\n",
       "      <td>0</td>\n",
       "      <td>0</td>\n",
       "      <td>0</td>\n",
       "      <td>0</td>\n",
       "      <td>0</td>\n",
       "      <td>0</td>\n",
       "      <td>0</td>\n",
       "      <td>...</td>\n",
       "      <td>0</td>\n",
       "      <td>0</td>\n",
       "      <td>0</td>\n",
       "      <td>0</td>\n",
       "      <td>0</td>\n",
       "      <td>0</td>\n",
       "      <td>0</td>\n",
       "      <td>0</td>\n",
       "      <td>0</td>\n",
       "      <td>0</td>\n",
       "    </tr>\n",
       "    <tr>\n",
       "      <th>3</th>\n",
       "      <td>0</td>\n",
       "      <td>0</td>\n",
       "      <td>1</td>\n",
       "      <td>0</td>\n",
       "      <td>0</td>\n",
       "      <td>0</td>\n",
       "      <td>0</td>\n",
       "      <td>0</td>\n",
       "      <td>0</td>\n",
       "      <td>0</td>\n",
       "      <td>...</td>\n",
       "      <td>0</td>\n",
       "      <td>0</td>\n",
       "      <td>0</td>\n",
       "      <td>0</td>\n",
       "      <td>0</td>\n",
       "      <td>0</td>\n",
       "      <td>0</td>\n",
       "      <td>0</td>\n",
       "      <td>0</td>\n",
       "      <td>0</td>\n",
       "    </tr>\n",
       "    <tr>\n",
       "      <th>4</th>\n",
       "      <td>0</td>\n",
       "      <td>0</td>\n",
       "      <td>0</td>\n",
       "      <td>0</td>\n",
       "      <td>0</td>\n",
       "      <td>0</td>\n",
       "      <td>0</td>\n",
       "      <td>0</td>\n",
       "      <td>0</td>\n",
       "      <td>0</td>\n",
       "      <td>...</td>\n",
       "      <td>0</td>\n",
       "      <td>0</td>\n",
       "      <td>0</td>\n",
       "      <td>0</td>\n",
       "      <td>0</td>\n",
       "      <td>0</td>\n",
       "      <td>0</td>\n",
       "      <td>0</td>\n",
       "      <td>0</td>\n",
       "      <td>0</td>\n",
       "    </tr>\n",
       "    <tr>\n",
       "      <th>5</th>\n",
       "      <td>0</td>\n",
       "      <td>0</td>\n",
       "      <td>0</td>\n",
       "      <td>0</td>\n",
       "      <td>0</td>\n",
       "      <td>0</td>\n",
       "      <td>0</td>\n",
       "      <td>0</td>\n",
       "      <td>0</td>\n",
       "      <td>0</td>\n",
       "      <td>...</td>\n",
       "      <td>0</td>\n",
       "      <td>0</td>\n",
       "      <td>0</td>\n",
       "      <td>0</td>\n",
       "      <td>0</td>\n",
       "      <td>0</td>\n",
       "      <td>0</td>\n",
       "      <td>0</td>\n",
       "      <td>0</td>\n",
       "      <td>0</td>\n",
       "    </tr>\n",
       "    <tr>\n",
       "      <th>6</th>\n",
       "      <td>0</td>\n",
       "      <td>0</td>\n",
       "      <td>0</td>\n",
       "      <td>0</td>\n",
       "      <td>0</td>\n",
       "      <td>1</td>\n",
       "      <td>0</td>\n",
       "      <td>1</td>\n",
       "      <td>0</td>\n",
       "      <td>1</td>\n",
       "      <td>...</td>\n",
       "      <td>0</td>\n",
       "      <td>0</td>\n",
       "      <td>0</td>\n",
       "      <td>0</td>\n",
       "      <td>0</td>\n",
       "      <td>0</td>\n",
       "      <td>0</td>\n",
       "      <td>0</td>\n",
       "      <td>0</td>\n",
       "      <td>0</td>\n",
       "    </tr>\n",
       "    <tr>\n",
       "      <th>7</th>\n",
       "      <td>1</td>\n",
       "      <td>0</td>\n",
       "      <td>0</td>\n",
       "      <td>0</td>\n",
       "      <td>0</td>\n",
       "      <td>0</td>\n",
       "      <td>0</td>\n",
       "      <td>0</td>\n",
       "      <td>0</td>\n",
       "      <td>0</td>\n",
       "      <td>...</td>\n",
       "      <td>0</td>\n",
       "      <td>0</td>\n",
       "      <td>0</td>\n",
       "      <td>0</td>\n",
       "      <td>0</td>\n",
       "      <td>0</td>\n",
       "      <td>0</td>\n",
       "      <td>0</td>\n",
       "      <td>0</td>\n",
       "      <td>0</td>\n",
       "    </tr>\n",
       "    <tr>\n",
       "      <th>8</th>\n",
       "      <td>0</td>\n",
       "      <td>0</td>\n",
       "      <td>0</td>\n",
       "      <td>0</td>\n",
       "      <td>0</td>\n",
       "      <td>0</td>\n",
       "      <td>0</td>\n",
       "      <td>0</td>\n",
       "      <td>0</td>\n",
       "      <td>0</td>\n",
       "      <td>...</td>\n",
       "      <td>0</td>\n",
       "      <td>0</td>\n",
       "      <td>0</td>\n",
       "      <td>0</td>\n",
       "      <td>0</td>\n",
       "      <td>0</td>\n",
       "      <td>0</td>\n",
       "      <td>0</td>\n",
       "      <td>0</td>\n",
       "      <td>0</td>\n",
       "    </tr>\n",
       "    <tr>\n",
       "      <th>9</th>\n",
       "      <td>0</td>\n",
       "      <td>0</td>\n",
       "      <td>0</td>\n",
       "      <td>0</td>\n",
       "      <td>0</td>\n",
       "      <td>0</td>\n",
       "      <td>0</td>\n",
       "      <td>0</td>\n",
       "      <td>0</td>\n",
       "      <td>1</td>\n",
       "      <td>...</td>\n",
       "      <td>0</td>\n",
       "      <td>0</td>\n",
       "      <td>0</td>\n",
       "      <td>0</td>\n",
       "      <td>0</td>\n",
       "      <td>0</td>\n",
       "      <td>0</td>\n",
       "      <td>0</td>\n",
       "      <td>0</td>\n",
       "      <td>0</td>\n",
       "    </tr>\n",
       "  </tbody>\n",
       "</table>\n",
       "<p>10 rows × 2000 columns</p>\n",
       "</div>"
      ],
      "text/plain": [
       "   no significant medical history  hypertension  high cholesterol  niddm  htn  \\\n",
       "0                               1             0                 0      0    0   \n",
       "1                               1             0                 0      0    0   \n",
       "2                               1             0                 0      0    0   \n",
       "3                               0             0                 1      0    0   \n",
       "4                               0             0                 0      0    0   \n",
       "5                               0             0                 0      0    0   \n",
       "6                               0             0                 0      0    0   \n",
       "7                               1             0                 0      0    0   \n",
       "8                               0             0                 0      0    0   \n",
       "9                               0             0                 0      0    0   \n",
       "\n",
       "   asthma  high bp  depression  thyroid  anxiety  ...    lyme disease  \\\n",
       "0       0        0           0        0        0  ...               0   \n",
       "1       0        0           0        0        0  ...               0   \n",
       "2       0        0           0        0        0  ...               0   \n",
       "3       0        0           0        0        0  ...               0   \n",
       "4       0        0           0        0        0  ...               0   \n",
       "5       0        0           0        0        0  ...               0   \n",
       "6       1        0           1        0        1  ...               0   \n",
       "7       0        0           0        0        0  ...               0   \n",
       "8       0        0           0        0        0  ...               0   \n",
       "9       0        0           0        0        1  ...               0   \n",
       "\n",
       "   narrow tricuspid valve  wisdom tooth extraction  acute pancreatitis  \\\n",
       "0                       0                        0                   0   \n",
       "1                       0                        0                   0   \n",
       "2                       0                        0                   0   \n",
       "3                       0                        0                   0   \n",
       "4                       0                        0                   0   \n",
       "5                       0                        0                   0   \n",
       "6                       0                        0                   0   \n",
       "7                       0                        0                   0   \n",
       "8                       0                        0                   0   \n",
       "9                       0                        0                   0   \n",
       "\n",
       "   chronic leukemia  sleeping problems  esophagectomy  low k  skin condition  \\\n",
       "0                 0                  0              0      0               0   \n",
       "1                 0                  0              0      0               0   \n",
       "2                 0                  0              0      0               0   \n",
       "3                 0                  0              0      0               0   \n",
       "4                 0                  0              0      0               0   \n",
       "5                 0                  0              0      0               0   \n",
       "6                 0                  0              0      0               0   \n",
       "7                 0                  0              0      0               0   \n",
       "8                 0                  0              0      0               0   \n",
       "9                 0                  0              0      0               0   \n",
       "\n",
       "   other  \n",
       "0      0  \n",
       "1      0  \n",
       "2      0  \n",
       "3      0  \n",
       "4      0  \n",
       "5      0  \n",
       "6      0  \n",
       "7      0  \n",
       "8      0  \n",
       "9      0  \n",
       "\n",
       "[10 rows x 2000 columns]"
      ]
     },
     "execution_count": 43,
     "metadata": {},
     "output_type": "execute_result"
    }
   ],
   "source": [
    "#this turns the above array into a dataframe\n",
    "findings_df = pd.DataFrame(complete_findings.astype(int), columns = list(class_dict.keys()) + ['other']); findings_df.head(10)"
   ]
  },
  {
   "cell_type": "markdown",
   "metadata": {
    "hidden": true
   },
   "source": [
    "#### now to train the classifier using findings_df"
   ]
  },
  {
   "cell_type": "code",
   "execution_count": 44,
   "metadata": {
    "hidden": true
   },
   "outputs": [],
   "source": [
    "features = findings_df.values\n",
    "targets = clin.target3"
   ]
  },
  {
   "cell_type": "code",
   "execution_count": 46,
   "metadata": {
    "hidden": true
   },
   "outputs": [
    {
     "name": "stdout",
     "output_type": "stream",
     "text": [
      "CPU times: user 10min 37s, sys: 15.6 s, total: 10min 53s\n",
      "Wall time: 12min 58s\n",
      "\n"
     ]
    },
    {
     "name": "stderr",
     "output_type": "stream",
     "text": [
      "/Users/jjaskolkambp/anaconda3/lib/python3.6/site-packages/sklearn/preprocessing/label.py:151: DeprecationWarning: The truth value of an empty array is ambiguous. Returning False, but in future this will result in an error. Use `array.size > 0` to check that an array is not empty.\n",
      "  if diff:\n"
     ]
    },
    {
     "name": "stdout",
     "output_type": "stream",
     "text": [
      "Metrics Report:\n",
      "---------------\n",
      "weighted f1:  0.5989933305792756\n",
      "AUROC:        0.69107768573994\n",
      "accuracy:     0.5096109673831573\n",
      "precision:    [0.14188027 0.95554248]\n",
      "recall:       [0.79466271 0.47869318]\n",
      "sensitivity:  0.7946627131208303\n",
      "specificity:  0.4786931818181818\n",
      "PPV:          0.1418802664666696\n",
      "NPV:          0.9555424780654825\n"
     ]
    },
    {
     "data": {
      "image/png": "[encoded data removed]",
      "text/plain": [
       "<Figure size 216x216 with 2 Axes>"
      ]
     },
     "metadata": {},
     "output_type": "display_data"
    }
   ],
   "source": [
    "X_train8, X_test8, y_train8, y_test8 = train_test_split(features, targets, random_state=1)\n",
    "\n",
    "xgc8 = xgb.XGBClassifier(scale_pos_weight = 1/9)\n",
    "%time xgc8.fit(X_train8, y_train8)\n",
    "print ()\n",
    "get_metrics(xgc8,y_test8, X_test8)"
   ]
  },
  {
   "cell_type": "code",
   "execution_count": null,
   "metadata": {
    "hidden": true
   },
   "outputs": [],
   "source": []
  },
  {
   "cell_type": "markdown",
   "metadata": {
    "heading_collapsed": true
   },
   "source": [
    "### now gonna try to save these models"
   ]
  },
  {
   "cell_type": "code",
   "execution_count": 54,
   "metadata": {
    "hidden": true
   },
   "outputs": [],
   "source": [
    "import pickle"
   ]
  },
  {
   "cell_type": "code",
   "execution_count": 55,
   "metadata": {
    "hidden": true
   },
   "outputs": [],
   "source": [
    "pickle.dump(xgc, open(data_path + \"/tabular_xgb_model.pkl\", \"wb\"))\n",
    "pickle.dump(xgc2, open(data_path + \"/subjnotes_xgb_model.pkl\", \"wb\"))\n",
    "pickle.dump(xgc3, open(data_path + \"/med_hx_xgb_model.pkl\", \"wb\"))\n",
    "pickle.dump(xgc4, open(data_path + \"/combined_xgb_model.pkl\", \"wb\"))"
   ]
  },
  {
   "cell_type": "code",
   "execution_count": null,
   "metadata": {
    "hidden": true
   },
   "outputs": [],
   "source": []
  },
  {
   "cell_type": "markdown",
   "metadata": {
    "heading_collapsed": true
   },
   "source": [
    "### now gonna reload the ensembled model to do some new analysis on it"
   ]
  },
  {
   "cell_type": "code",
   "execution_count": null,
   "metadata": {
    "hidden": true
   },
   "outputs": [],
   "source": [
    "# for reloading later\n",
    "with open(data_path + \"/combined_xgb_model.pkl\", mode = 'rb') as pkl:\n",
    "    xgc4 = pickle.load(pkl)"
   ]
  },
  {
   "cell_type": "code",
   "execution_count": null,
   "metadata": {
    "hidden": true
   },
   "outputs": [],
   "source": [
    "features = np.concatenate((encoded_x,X_pres, X_dx, clin[cont_vars].values), axis =1)\n",
    "\n",
    "all_features = np.concatenate((features,subjnotes,medhx), axis = 1)\n",
    "all_features.shape\n",
    "\n",
    "X_train4, X_test4, y_train4, y_test4 = train_test_split(all_features, target, random_state=1)"
   ]
  },
  {
   "cell_type": "code",
   "execution_count": null,
   "metadata": {
    "hidden": true
   },
   "outputs": [],
   "source": [
    "preds4 = xgc4.predict(X_test4)\n",
    "predictions4 = xgc4.predict_proba(X_test4)\n",
    "\n",
    "f1_w, f1, acc, prec, rec, auroc = get_metrics(y_test4, preds4, print_output=True)\n",
    "\n",
    "thresholding_analysis(predictions4, y_test4)"
   ]
  },
  {
   "cell_type": "markdown",
   "metadata": {},
   "source": [
    "### gonna write some code to do a dataset size analysis"
   ]
  },
  {
   "cell_type": "code",
   "execution_count": 88,
   "metadata": {
    "scrolled": false
   },
   "outputs": [
    {
     "name": "stdout",
     "output_type": "stream",
     "text": [
      "\n",
      "Training with 500 examples\n",
      "\n",
      "CPU times: user 6.45 s, sys: 49.5 ms, total: 6.5 s\n",
      "Wall time: 7.51 s\n",
      "\n",
      "Training Set\n",
      "Metrics Report:\n",
      "---------------\n",
      "weighted f1:  0.9921422222222221\n",
      "AUROC:        1.0\n",
      "accuracy:     0.992\n",
      "precision:    [0.92307692 1.        ]\n",
      "recall:       [1.         0.99115044]\n",
      "sensitivity:  1.0\n",
      "specificity:  0.9911504424778761\n",
      "PPV:          0.9230769230769231\n",
      "NPV:          1.0\n"
     ]
    },
    {
     "name": "stderr",
     "output_type": "stream",
     "text": [
      "/Users/jjaskolkambp/anaconda3/lib/python3.6/site-packages/sklearn/preprocessing/label.py:151: DeprecationWarning: The truth value of an empty array is ambiguous. Returning False, but in future this will result in an error. Use `array.size > 0` to check that an array is not empty.\n",
      "  if diff:\n"
     ]
    },
    {
     "data": {
      "image/png": "[encoded data removed]",
      "text/plain": [
       "<Figure size 216x216 with 2 Axes>"
      ]
     },
     "metadata": {},
     "output_type": "display_data"
    },
    {
     "name": "stdout",
     "output_type": "stream",
     "text": [
      "\n",
      "Validation Set\n",
      "Metrics Report:\n",
      "---------------\n",
      "weighted f1:  0.8421416003351488\n",
      "AUROC:        0.804257528556594\n",
      "accuracy:     0.848\n",
      "precision:    [0.46666667 0.9       ]\n",
      "recall:       [0.38888889 0.92523364]\n",
      "sensitivity:  0.3888888888888889\n",
      "specificity:  0.9252336448598131\n",
      "PPV:          0.4666666666666667\n",
      "NPV:          0.9\n"
     ]
    },
    {
     "name": "stderr",
     "output_type": "stream",
     "text": [
      "/Users/jjaskolkambp/anaconda3/lib/python3.6/site-packages/sklearn/preprocessing/label.py:151: DeprecationWarning: The truth value of an empty array is ambiguous. Returning False, but in future this will result in an error. Use `array.size > 0` to check that an array is not empty.\n",
      "  if diff:\n"
     ]
    },
    {
     "data": {
      "image/png": "[encoded data removed]",
      "text/plain": [
       "<Figure size 216x216 with 2 Axes>"
      ]
     },
     "metadata": {},
     "output_type": "display_data"
    },
    {
     "name": "stdout",
     "output_type": "stream",
     "text": [
      "\n",
      "Training with 1000 examples\n",
      "\n",
      "CPU times: user 11.3 s, sys: 99.5 ms, total: 11.4 s\n",
      "Wall time: 11.7 s\n",
      "\n",
      "Training Set\n",
      "Metrics Report:\n",
      "---------------\n",
      "weighted f1:  1.0\n",
      "AUROC:        1.0\n",
      "accuracy:     1.0\n",
      "precision:    [1. 1.]\n",
      "recall:       [1. 1.]\n",
      "sensitivity:  1.0\n",
      "specificity:  1.0\n",
      "PPV:          1.0\n",
      "NPV:          1.0\n"
     ]
    },
    {
     "name": "stderr",
     "output_type": "stream",
     "text": [
      "/Users/jjaskolkambp/anaconda3/lib/python3.6/site-packages/sklearn/preprocessing/label.py:151: DeprecationWarning: The truth value of an empty array is ambiguous. Returning False, but in future this will result in an error. Use `array.size > 0` to check that an array is not empty.\n",
      "  if diff:\n"
     ]
    },
    {
     "data": {
      "image/png": "[encoded data removed]",
      "text/plain": [
       "<Figure size 216x216 with 2 Axes>"
      ]
     },
     "metadata": {},
     "output_type": "display_data"
    },
    {
     "name": "stdout",
     "output_type": "stream",
     "text": [
      "\n",
      "Validation Set\n"
     ]
    },
    {
     "name": "stderr",
     "output_type": "stream",
     "text": [
      "/Users/jjaskolkambp/anaconda3/lib/python3.6/site-packages/sklearn/preprocessing/label.py:151: DeprecationWarning: The truth value of an empty array is ambiguous. Returning False, but in future this will result in an error. Use `array.size > 0` to check that an array is not empty.\n",
      "  if diff:\n"
     ]
    },
    {
     "name": "stdout",
     "output_type": "stream",
     "text": [
      "Metrics Report:\n",
      "---------------\n",
      "weighted f1:  0.8728543431323699\n",
      "AUROC:        0.7914192683393986\n",
      "accuracy:     0.864\n",
      "precision:    [0.32258065 0.94063927]\n",
      "recall:       [0.43478261 0.90748899]\n",
      "sensitivity:  0.43478260869565216\n",
      "specificity:  0.9074889867841409\n",
      "PPV:          0.3225806451612903\n",
      "NPV:          0.9406392694063926\n"
     ]
    },
    {
     "data": {
      "image/png": "[encoded data removed]",
      "text/plain": [
       "<Figure size 216x216 with 2 Axes>"
      ]
     },
     "metadata": {},
     "output_type": "display_data"
    },
    {
     "name": "stdout",
     "output_type": "stream",
     "text": [
      "\n",
      "Training with 10000 examples\n",
      "\n",
      "CPU times: user 1min 35s, sys: 921 ms, total: 1min 36s\n",
      "Wall time: 1min 41s\n",
      "\n",
      "Training Set\n"
     ]
    },
    {
     "name": "stderr",
     "output_type": "stream",
     "text": [
      "/Users/jjaskolkambp/anaconda3/lib/python3.6/site-packages/sklearn/preprocessing/label.py:151: DeprecationWarning: The truth value of an empty array is ambiguous. Returning False, but in future this will result in an error. Use `array.size > 0` to check that an array is not empty.\n",
      "  if diff:\n"
     ]
    },
    {
     "name": "stdout",
     "output_type": "stream",
     "text": [
      "Metrics Report:\n",
      "---------------\n",
      "weighted f1:  0.8757229107398223\n",
      "AUROC:        0.956074476450177\n",
      "accuracy:     0.852\n",
      "precision:    [0.39160839 0.98858921]\n",
      "recall:       [0.91056911 0.84560781]\n",
      "sensitivity:  0.9105691056910569\n",
      "specificity:  0.8456078083407276\n",
      "PPV:          0.3916083916083916\n",
      "NPV:          0.9885892116182573\n"
     ]
    },
    {
     "data": {
      "image/png": "[encoded data removed]",
      "text/plain": [
       "<Figure size 216x216 with 2 Axes>"
      ]
     },
     "metadata": {},
     "output_type": "display_data"
    },
    {
     "name": "stdout",
     "output_type": "stream",
     "text": [
      "\n",
      "Validation Set\n"
     ]
    },
    {
     "name": "stderr",
     "output_type": "stream",
     "text": [
      "/Users/jjaskolkambp/anaconda3/lib/python3.6/site-packages/sklearn/preprocessing/label.py:151: DeprecationWarning: The truth value of an empty array is ambiguous. Returning False, but in future this will result in an error. Use `array.size > 0` to check that an array is not empty.\n",
      "  if diff:\n"
     ]
    },
    {
     "name": "stdout",
     "output_type": "stream",
     "text": [
      "Metrics Report:\n",
      "---------------\n",
      "weighted f1:  0.8351382652600045\n",
      "AUROC:        0.8336372042029591\n",
      "accuracy:     0.8064\n",
      "precision:    [0.2962298  0.95265054]\n",
      "recall:       [0.64202335 0.82523406]\n",
      "sensitivity:  0.642023346303502\n",
      "specificity:  0.8252340615247437\n",
      "PPV:          0.296229802513465\n",
      "NPV:          0.952650540401441\n"
     ]
    },
    {
     "data": {
      "image/png": "[encoded data removed]",
      "text/plain": [
       "<Figure size 216x216 with 2 Axes>"
      ]
     },
     "metadata": {},
     "output_type": "display_data"
    },
    {
     "name": "stdout",
     "output_type": "stream",
     "text": [
      "\n",
      "Training with 30000 examples\n",
      "\n",
      "CPU times: user 5min 34s, sys: 5.75 s, total: 5min 40s\n",
      "Wall time: 8min 26s\n",
      "\n",
      "Training Set\n"
     ]
    },
    {
     "name": "stderr",
     "output_type": "stream",
     "text": [
      "/Users/jjaskolkambp/anaconda3/lib/python3.6/site-packages/sklearn/preprocessing/label.py:151: DeprecationWarning: The truth value of an empty array is ambiguous. Returning False, but in future this will result in an error. Use `array.size > 0` to check that an array is not empty.\n",
      "  if diff:\n"
     ]
    },
    {
     "name": "stdout",
     "output_type": "stream",
     "text": [
      "Metrics Report:\n",
      "---------------\n",
      "weighted f1:  0.840994321103802\n",
      "AUROC:        0.8916282892186508\n",
      "accuracy:     0.8102666666666667\n",
      "precision:    [0.32690247 0.97035854]\n",
      "recall:       [0.78507079 0.81317864]\n",
      "sensitivity:  0.7850707850707851\n",
      "specificity:  0.8131786404878775\n",
      "PPV:          0.32690246516613075\n",
      "NPV:          0.9703585374511892\n"
     ]
    },
    {
     "data": {
      "image/png": "[encoded data removed]",
      "text/plain": [
       "<Figure size 216x216 with 2 Axes>"
      ]
     },
     "metadata": {},
     "output_type": "display_data"
    },
    {
     "name": "stdout",
     "output_type": "stream",
     "text": [
      "\n",
      "Validation Set\n"
     ]
    },
    {
     "name": "stderr",
     "output_type": "stream",
     "text": [
      "/Users/jjaskolkambp/anaconda3/lib/python3.6/site-packages/sklearn/preprocessing/label.py:151: DeprecationWarning: The truth value of an empty array is ambiguous. Returning False, but in future this will result in an error. Use `array.size > 0` to check that an array is not empty.\n",
      "  if diff:\n"
     ]
    },
    {
     "name": "stdout",
     "output_type": "stream",
     "text": [
      "Metrics Report:\n",
      "---------------\n",
      "weighted f1:  0.8235049904766756\n",
      "AUROC:        0.8396085586844295\n",
      "accuracy:     0.7848\n",
      "precision:    [0.2672548  0.96375381]\n",
      "recall:       [0.71827057 0.79183252]\n",
      "sensitivity:  0.7182705718270572\n",
      "specificity:  0.7918325224826773\n",
      "PPV:          0.2672548002075765\n",
      "NPV:          0.963753813027095\n"
     ]
    },
    {
     "data": {
      "image/png": "[encoded data removed]",
      "text/plain": [
       "<Figure size 216x216 with 2 Axes>"
      ]
     },
     "metadata": {},
     "output_type": "display_data"
    },
    {
     "name": "stdout",
     "output_type": "stream",
     "text": [
      "\n",
      "Training with 60000 examples\n",
      "\n",
      "CPU times: user 11min 7s, sys: 9.78 s, total: 11min 16s\n",
      "Wall time: 13min 26s\n",
      "\n",
      "Training Set\n"
     ]
    },
    {
     "name": "stderr",
     "output_type": "stream",
     "text": [
      "/Users/jjaskolkambp/anaconda3/lib/python3.6/site-packages/sklearn/preprocessing/label.py:151: DeprecationWarning: The truth value of an empty array is ambiguous. Returning False, but in future this will result in an error. Use `array.size > 0` to check that an array is not empty.\n",
      "  if diff:\n"
     ]
    },
    {
     "name": "stdout",
     "output_type": "stream",
     "text": [
      "Metrics Report:\n",
      "---------------\n",
      "weighted f1:  0.8387524152023349\n",
      "AUROC:        0.8764284561894207\n",
      "accuracy:     0.8042\n",
      "precision:    [0.29540541 0.97079646]\n",
      "recall:       [0.76809557 0.80798409]\n",
      "sensitivity:  0.7680955727336612\n",
      "specificity:  0.8079840907416955\n",
      "PPV:          0.2954054054054054\n",
      "NPV:          0.9707964601769912\n"
     ]
    },
    {
     "data": {
      "image/png": "[encoded data removed]",
      "text/plain": [
       "<Figure size 216x216 with 2 Axes>"
      ]
     },
     "metadata": {},
     "output_type": "display_data"
    },
    {
     "name": "stdout",
     "output_type": "stream",
     "text": [
      "\n",
      "Validation Set\n"
     ]
    },
    {
     "name": "stderr",
     "output_type": "stream",
     "text": [
      "/Users/jjaskolkambp/anaconda3/lib/python3.6/site-packages/sklearn/preprocessing/label.py:151: DeprecationWarning: The truth value of an empty array is ambiguous. Returning False, but in future this will result in an error. Use `array.size > 0` to check that an array is not empty.\n",
      "  if diff:\n"
     ]
    },
    {
     "name": "stdout",
     "output_type": "stream",
     "text": [
      "Metrics Report:\n",
      "---------------\n",
      "weighted f1:  0.8297938872266185\n",
      "AUROC:        0.8589879051203366\n",
      "accuracy:     0.7945333333333333\n",
      "precision:    [0.28851244 0.96489039]\n",
      "recall:       [0.73450135 0.80112459]\n",
      "sensitivity:  0.7345013477088949\n",
      "specificity:  0.8011245930748743\n",
      "PPV:          0.2885124404446797\n",
      "NPV:          0.9648903938691855\n"
     ]
    },
    {
     "data": {
      "image/png": "[encoded data removed]",
      "text/plain": [
       "<Figure size 216x216 with 2 Axes>"
      ]
     },
     "metadata": {},
     "output_type": "display_data"
    },
    {
     "name": "stdout",
     "output_type": "stream",
     "text": [
      "\n",
      "Training with 100000 examples\n",
      "\n",
      "CPU times: user 19min 42s, sys: 30.3 s, total: 20min 12s\n",
      "Wall time: 23min 33s\n",
      "\n",
      "Training Set\n"
     ]
    },
    {
     "name": "stderr",
     "output_type": "stream",
     "text": [
      "/Users/jjaskolkambp/anaconda3/lib/python3.6/site-packages/sklearn/preprocessing/label.py:151: DeprecationWarning: The truth value of an empty array is ambiguous. Returning False, but in future this will result in an error. Use `array.size > 0` to check that an array is not empty.\n",
      "  if diff:\n"
     ]
    },
    {
     "name": "stdout",
     "output_type": "stream",
     "text": [
      "Metrics Report:\n",
      "---------------\n",
      "weighted f1:  0.840488744300969\n",
      "AUROC:        0.8702521111030316\n",
      "accuracy:     0.807\n",
      "precision:    [0.29585897 0.96887344]\n",
      "recall:       [0.75063291 0.81290323]\n",
      "sensitivity:  0.7506329113924051\n",
      "specificity:  0.8129032258064516\n",
      "PPV:          0.2958589722268418\n",
      "NPV:          0.968873439721915\n"
     ]
    },
    {
     "data": {
      "image/png": "[encoded data removed]",
      "text/plain": [
       "<Figure size 216x216 with 2 Axes>"
      ]
     },
     "metadata": {},
     "output_type": "display_data"
    },
    {
     "name": "stdout",
     "output_type": "stream",
     "text": [
      "\n",
      "Validation Set\n"
     ]
    },
    {
     "name": "stderr",
     "output_type": "stream",
     "text": [
      "/Users/jjaskolkambp/anaconda3/lib/python3.6/site-packages/sklearn/preprocessing/label.py:151: DeprecationWarning: The truth value of an empty array is ambiguous. Returning False, but in future this will result in an error. Use `array.size > 0` to check that an array is not empty.\n",
      "  if diff:\n"
     ]
    },
    {
     "name": "stdout",
     "output_type": "stream",
     "text": [
      "Metrics Report:\n",
      "---------------\n",
      "weighted f1:  0.8381395828270731\n",
      "AUROC:        0.8527277282735206\n",
      "accuracy:     0.80432\n",
      "precision:    [0.28447984 0.96497015]\n",
      "recall:       [0.71507666 0.81357055]\n",
      "sensitivity:  0.715076660988075\n",
      "specificity:  0.8135705456471835\n",
      "PPV:          0.2844798373432735\n",
      "NPV:          0.9649701539428213\n"
     ]
    },
    {
     "data": {
      "image/png": "[encoded data removed]",
      "text/plain": [
       "<Figure size 216x216 with 2 Axes>"
      ]
     },
     "metadata": {},
     "output_type": "display_data"
    },
    {
     "name": "stdout",
     "output_type": "stream",
     "text": [
      "\n",
      "Training with 130000 examples\n",
      "\n",
      "CPU times: user 27min 14s, sys: 52.8 s, total: 28min 7s\n",
      "Wall time: 32min 9s\n",
      "\n",
      "Training Set\n"
     ]
    },
    {
     "name": "stderr",
     "output_type": "stream",
     "text": [
      "/Users/jjaskolkambp/anaconda3/lib/python3.6/site-packages/sklearn/preprocessing/label.py:151: DeprecationWarning: The truth value of an empty array is ambiguous. Returning False, but in future this will result in an error. Use `array.size > 0` to check that an array is not empty.\n",
      "  if diff:\n"
     ]
    },
    {
     "name": "stdout",
     "output_type": "stream",
     "text": [
      "Metrics Report:\n",
      "---------------\n",
      "weighted f1:  0.8332888203786715\n",
      "AUROC:        0.864659719377136\n",
      "accuracy:     0.7973846153846154\n",
      "precision:    [0.28669528 0.96845348]\n",
      "recall:       [0.75273664 0.80210247]\n",
      "sensitivity:  0.7527366387636832\n",
      "specificity:  0.8021024698918147\n",
      "PPV:          0.28669527896995706\n",
      "NPV:          0.9684534812076402\n"
     ]
    },
    {
     "data": {
      "image/png": "[encoded data removed]",
      "text/plain": [
       "<Figure size 216x216 with 2 Axes>"
      ]
     },
     "metadata": {},
     "output_type": "display_data"
    },
    {
     "name": "stdout",
     "output_type": "stream",
     "text": [
      "\n",
      "Validation Set\n"
     ]
    },
    {
     "name": "stderr",
     "output_type": "stream",
     "text": [
      "/Users/jjaskolkambp/anaconda3/lib/python3.6/site-packages/sklearn/preprocessing/label.py:151: DeprecationWarning: The truth value of an empty array is ambiguous. Returning False, but in future this will result in an error. Use `array.size > 0` to check that an array is not empty.\n",
      "  if diff:\n"
     ]
    },
    {
     "name": "stdout",
     "output_type": "stream",
     "text": [
      "Metrics Report:\n",
      "---------------\n",
      "weighted f1:  0.8296432609049001\n",
      "AUROC:        0.8461454254225059\n",
      "accuracy:     0.7945230769230769\n",
      "precision:    [0.2857848  0.96351861]\n",
      "recall:       [0.72239551 0.80241688]\n",
      "sensitivity:  0.7223955084217093\n",
      "specificity:  0.8024168771762136\n",
      "PPV:          0.2857847976307996\n",
      "NPV:          0.9635186096081325\n"
     ]
    },
    {
     "data": {
      "image/png": "[encoded data removed]",
      "text/plain": [
       "<Figure size 216x216 with 2 Axes>"
      ]
     },
     "metadata": {},
     "output_type": "display_data"
    },
    {
     "name": "stdout",
     "output_type": "stream",
     "text": [
      "\n",
      "Training with 165433 examples\n",
      "\n",
      "CPU times: user 33min 3s, sys: 2min, total: 35min 3s\n",
      "Wall time: 39min 38s\n",
      "\n",
      "Training Set\n"
     ]
    },
    {
     "name": "stderr",
     "output_type": "stream",
     "text": [
      "/Users/jjaskolkambp/anaconda3/lib/python3.6/site-packages/sklearn/preprocessing/label.py:151: DeprecationWarning: The truth value of an empty array is ambiguous. Returning False, but in future this will result in an error. Use `array.size > 0` to check that an array is not empty.\n",
      "  if diff:\n"
     ]
    },
    {
     "name": "stdout",
     "output_type": "stream",
     "text": [
      "Metrics Report:\n",
      "---------------\n",
      "weighted f1:  0.8224974231699743\n",
      "AUROC:        0.8523049269532175\n",
      "accuracy:     0.7847385091515753\n",
      "precision:    [0.28426119 0.96632398]\n",
      "recall:       [0.75385356 0.78818502]\n",
      "sensitivity:  0.7538535645472062\n",
      "specificity:  0.7881850189480474\n",
      "PPV:          0.2842611933521024\n",
      "NPV:          0.9663239752207724\n"
     ]
    },
    {
     "data": {
      "image/png": "[encoded data removed]",
      "text/plain": [
       "<Figure size 216x216 with 2 Axes>"
      ]
     },
     "metadata": {},
     "output_type": "display_data"
    },
    {
     "name": "stdout",
     "output_type": "stream",
     "text": [
      "\n",
      "Validation Set\n"
     ]
    },
    {
     "name": "stderr",
     "output_type": "stream",
     "text": [
      "/Users/jjaskolkambp/anaconda3/lib/python3.6/site-packages/sklearn/preprocessing/label.py:151: DeprecationWarning: The truth value of an empty array is ambiguous. Returning False, but in future this will result in an error. Use `array.size > 0` to check that an array is not empty.\n",
      "  if diff:\n"
     ]
    },
    {
     "name": "stdout",
     "output_type": "stream",
     "text": [
      "Metrics Report:\n",
      "---------------\n",
      "weighted f1:  0.819311703067662\n",
      "AUROC:        0.8480692835278953\n",
      "accuracy:     0.7796126598805581\n",
      "precision:    [0.27063722 0.96512817]\n",
      "recall:       [0.73881888 0.78403731]\n",
      "sensitivity:  0.7388188781813689\n",
      "specificity:  0.78403730703259\n",
      "PPV:          0.27063721940622737\n",
      "NPV:          0.9651281712909505\n"
     ]
    },
    {
     "data": {
      "image/png": "[encoded data removed]",
      "text/plain": [
       "<Figure size 216x216 with 2 Axes>"
      ]
     },
     "metadata": {},
     "output_type": "display_data"
    }
   ],
   "source": [
    "       \n",
    "dataset_sizes = [500,1000, 10000, 30000, 60000, 100000, 130000, len(clin)]    \n",
    "\n",
    "#initialize dataframe for results\n",
    "col_names = ['num_examples','train_f1', 'test_f1', 'train_acc', 'test_acc', 'train_auroc', 'test_auroc', 'train_ppv', 'test_ppv', 'train_sens', 'test_sens']\n",
    "output_df = pd.DataFrame(columns = col_names)\n",
    "\n",
    "for size in dataset_sizes:\n",
    "    print ()\n",
    "    print ('Training with {} examples'.format(size))\n",
    "    print ()\n",
    "    \n",
    "    X_train, X_test, y_train, y_test = train_test_split(all_features[:size], target[:size], random_state=1)\n",
    "    \n",
    "    xgc = xgb.XGBClassifier(scale_pos_weight = 1/9, gamma = 0.5, reg_alpha = 0.5)\n",
    "    %time xgc.fit(X_train, y_train)\n",
    "    \n",
    "    #random train subset for metrics\n",
    "    random_indices = np.random.choice(X_test.shape[0], len(X_test), replace=False)\n",
    "    \n",
    "    print ('\\nTraining Set')\n",
    "    train_f1, train_auroc, train_acc, train_sens, train_ppv = get_metrics(xgc, y_train[random_indices], X_train[random_indices], return_values = True)\n",
    "    print ('\\nValidation Set')\n",
    "    test_f1, test_auroc, test_acc, test_sens, test_ppv = get_metrics(xgc, y_test, X_test, return_values = True)\n",
    "    \n",
    "    output_df.loc[len(output_df)] = [size,train_f1, test_f1, train_acc, test_acc, train_auroc, test_auroc, train_ppv, test_ppv, train_sens, test_sens]"
   ]
  },
  {
   "cell_type": "code",
   "execution_count": 89,
   "metadata": {},
   "outputs": [
    {
     "data": {
      "text/html": [
       "<div>\n",
       "<style scoped>\n",
       "    .dataframe tbody tr th:only-of-type {\n",
       "        vertical-align: middle;\n",
       "    }\n",
       "\n",
       "    .dataframe tbody tr th {\n",
       "        vertical-align: top;\n",
       "    }\n",
       "\n",
       "    .dataframe thead th {\n",
       "        text-align: right;\n",
       "    }\n",
       "</style>\n",
       "<table border=\"1\" class=\"dataframe\">\n",
       "  <thead>\n",
       "    <tr style=\"text-align: right;\">\n",
       "      <th></th>\n",
       "      <th>num_examples</th>\n",
       "      <th>train_f1</th>\n",
       "      <th>test_f1</th>\n",
       "      <th>train_acc</th>\n",
       "      <th>test_acc</th>\n",
       "      <th>train_auroc</th>\n",
       "      <th>test_auroc</th>\n",
       "      <th>train_ppv</th>\n",
       "      <th>test_ppv</th>\n",
       "      <th>train_sens</th>\n",
       "      <th>test_sens</th>\n",
       "    </tr>\n",
       "  </thead>\n",
       "  <tbody>\n",
       "    <tr>\n",
       "      <th>0</th>\n",
       "      <td>500.0</td>\n",
       "      <td>0.992142</td>\n",
       "      <td>0.842142</td>\n",
       "      <td>0.992000</td>\n",
       "      <td>0.848000</td>\n",
       "      <td>1.000000</td>\n",
       "      <td>0.804258</td>\n",
       "      <td>0.923077</td>\n",
       "      <td>0.466667</td>\n",
       "      <td>1.000000</td>\n",
       "      <td>0.388889</td>\n",
       "    </tr>\n",
       "    <tr>\n",
       "      <th>1</th>\n",
       "      <td>1000.0</td>\n",
       "      <td>1.000000</td>\n",
       "      <td>0.872854</td>\n",
       "      <td>1.000000</td>\n",
       "      <td>0.864000</td>\n",
       "      <td>1.000000</td>\n",
       "      <td>0.791419</td>\n",
       "      <td>1.000000</td>\n",
       "      <td>0.322581</td>\n",
       "      <td>1.000000</td>\n",
       "      <td>0.434783</td>\n",
       "    </tr>\n",
       "    <tr>\n",
       "      <th>2</th>\n",
       "      <td>10000.0</td>\n",
       "      <td>0.875723</td>\n",
       "      <td>0.835138</td>\n",
       "      <td>0.852000</td>\n",
       "      <td>0.806400</td>\n",
       "      <td>0.956074</td>\n",
       "      <td>0.833637</td>\n",
       "      <td>0.391608</td>\n",
       "      <td>0.296230</td>\n",
       "      <td>0.910569</td>\n",
       "      <td>0.642023</td>\n",
       "    </tr>\n",
       "    <tr>\n",
       "      <th>3</th>\n",
       "      <td>30000.0</td>\n",
       "      <td>0.840994</td>\n",
       "      <td>0.823505</td>\n",
       "      <td>0.810267</td>\n",
       "      <td>0.784800</td>\n",
       "      <td>0.891628</td>\n",
       "      <td>0.839609</td>\n",
       "      <td>0.326902</td>\n",
       "      <td>0.267255</td>\n",
       "      <td>0.785071</td>\n",
       "      <td>0.718271</td>\n",
       "    </tr>\n",
       "    <tr>\n",
       "      <th>4</th>\n",
       "      <td>60000.0</td>\n",
       "      <td>0.838752</td>\n",
       "      <td>0.829794</td>\n",
       "      <td>0.804200</td>\n",
       "      <td>0.794533</td>\n",
       "      <td>0.876428</td>\n",
       "      <td>0.858988</td>\n",
       "      <td>0.295405</td>\n",
       "      <td>0.288512</td>\n",
       "      <td>0.768096</td>\n",
       "      <td>0.734501</td>\n",
       "    </tr>\n",
       "    <tr>\n",
       "      <th>5</th>\n",
       "      <td>100000.0</td>\n",
       "      <td>0.840489</td>\n",
       "      <td>0.838140</td>\n",
       "      <td>0.807000</td>\n",
       "      <td>0.804320</td>\n",
       "      <td>0.870252</td>\n",
       "      <td>0.852728</td>\n",
       "      <td>0.295859</td>\n",
       "      <td>0.284480</td>\n",
       "      <td>0.750633</td>\n",
       "      <td>0.715077</td>\n",
       "    </tr>\n",
       "    <tr>\n",
       "      <th>6</th>\n",
       "      <td>130000.0</td>\n",
       "      <td>0.833289</td>\n",
       "      <td>0.829643</td>\n",
       "      <td>0.797385</td>\n",
       "      <td>0.794523</td>\n",
       "      <td>0.864660</td>\n",
       "      <td>0.846145</td>\n",
       "      <td>0.286695</td>\n",
       "      <td>0.285785</td>\n",
       "      <td>0.752737</td>\n",
       "      <td>0.722396</td>\n",
       "    </tr>\n",
       "    <tr>\n",
       "      <th>7</th>\n",
       "      <td>165433.0</td>\n",
       "      <td>0.822497</td>\n",
       "      <td>0.819312</td>\n",
       "      <td>0.784739</td>\n",
       "      <td>0.779613</td>\n",
       "      <td>0.852305</td>\n",
       "      <td>0.848069</td>\n",
       "      <td>0.284261</td>\n",
       "      <td>0.270637</td>\n",
       "      <td>0.753854</td>\n",
       "      <td>0.738819</td>\n",
       "    </tr>\n",
       "  </tbody>\n",
       "</table>\n",
       "</div>"
      ],
      "text/plain": [
       "   num_examples  train_f1   test_f1  train_acc  test_acc  train_auroc  \\\n",
       "0         500.0  0.992142  0.842142   0.992000  0.848000     1.000000   \n",
       "1        1000.0  1.000000  0.872854   1.000000  0.864000     1.000000   \n",
       "2       10000.0  0.875723  0.835138   0.852000  0.806400     0.956074   \n",
       "3       30000.0  0.840994  0.823505   0.810267  0.784800     0.891628   \n",
       "4       60000.0  0.838752  0.829794   0.804200  0.794533     0.876428   \n",
       "5      100000.0  0.840489  0.838140   0.807000  0.804320     0.870252   \n",
       "6      130000.0  0.833289  0.829643   0.797385  0.794523     0.864660   \n",
       "7      165433.0  0.822497  0.819312   0.784739  0.779613     0.852305   \n",
       "\n",
       "   test_auroc  train_ppv  test_ppv  train_sens  test_sens  \n",
       "0    0.804258   0.923077  0.466667    1.000000   0.388889  \n",
       "1    0.791419   1.000000  0.322581    1.000000   0.434783  \n",
       "2    0.833637   0.391608  0.296230    0.910569   0.642023  \n",
       "3    0.839609   0.326902  0.267255    0.785071   0.718271  \n",
       "4    0.858988   0.295405  0.288512    0.768096   0.734501  \n",
       "5    0.852728   0.295859  0.284480    0.750633   0.715077  \n",
       "6    0.846145   0.286695  0.285785    0.752737   0.722396  \n",
       "7    0.848069   0.284261  0.270637    0.753854   0.738819  "
      ]
     },
     "execution_count": 89,
     "metadata": {},
     "output_type": "execute_result"
    }
   ],
   "source": [
    "output_df"
   ]
  },
  {
   "cell_type": "markdown",
   "metadata": {},
   "source": [
    "#### this is some tests with different regularization parameters\n",
    "- the bottom one is the alpha and gamma of 0.5 each which seems to work nicely\n",
    "- will have to come back to the hyperparameter optimization later"
   ]
  },
  {
   "cell_type": "code",
   "execution_count": 83,
   "metadata": {},
   "outputs": [
    {
     "data": {
      "text/html": [
       "<div>\n",
       "<style scoped>\n",
       "    .dataframe tbody tr th:only-of-type {\n",
       "        vertical-align: middle;\n",
       "    }\n",
       "\n",
       "    .dataframe tbody tr th {\n",
       "        vertical-align: top;\n",
       "    }\n",
       "\n",
       "    .dataframe thead th {\n",
       "        text-align: right;\n",
       "    }\n",
       "</style>\n",
       "<table border=\"1\" class=\"dataframe\">\n",
       "  <thead>\n",
       "    <tr style=\"text-align: right;\">\n",
       "      <th></th>\n",
       "      <th>num_examples</th>\n",
       "      <th>train_f1</th>\n",
       "      <th>test_f1</th>\n",
       "      <th>train_acc</th>\n",
       "      <th>test_acc</th>\n",
       "      <th>train_auroc</th>\n",
       "      <th>test_auroc</th>\n",
       "      <th>train_ppv</th>\n",
       "      <th>test_ppv</th>\n",
       "      <th>train_sens</th>\n",
       "      <th>test_sens</th>\n",
       "    </tr>\n",
       "  </thead>\n",
       "  <tbody>\n",
       "    <tr>\n",
       "      <th>0</th>\n",
       "      <td>500.0</td>\n",
       "      <td>1.0</td>\n",
       "      <td>0.825734</td>\n",
       "      <td>1.0</td>\n",
       "      <td>0.848</td>\n",
       "      <td>1.0</td>\n",
       "      <td>0.779335</td>\n",
       "      <td>1.0</td>\n",
       "      <td>0.444444</td>\n",
       "      <td>1.0</td>\n",
       "      <td>0.222222</td>\n",
       "    </tr>\n",
       "    <tr>\n",
       "      <th>1</th>\n",
       "      <td>1000.0</td>\n",
       "      <td>1.0</td>\n",
       "      <td>0.860670</td>\n",
       "      <td>1.0</td>\n",
       "      <td>0.868</td>\n",
       "      <td>1.0</td>\n",
       "      <td>0.775139</td>\n",
       "      <td>1.0</td>\n",
       "      <td>0.222222</td>\n",
       "      <td>1.0</td>\n",
       "      <td>0.173913</td>\n",
       "    </tr>\n",
       "  </tbody>\n",
       "</table>\n",
       "</div>"
      ],
      "text/plain": [
       "   num_examples  train_f1   test_f1  train_acc  test_acc  train_auroc  \\\n",
       "0         500.0       1.0  0.825734        1.0     0.848          1.0   \n",
       "1        1000.0       1.0  0.860670        1.0     0.868          1.0   \n",
       "\n",
       "   test_auroc  train_ppv  test_ppv  train_sens  test_sens  \n",
       "0    0.779335        1.0  0.444444         1.0   0.222222  \n",
       "1    0.775139        1.0  0.222222         1.0   0.173913  "
      ]
     },
     "execution_count": 83,
     "metadata": {},
     "output_type": "execute_result"
    }
   ],
   "source": [
    "output_df"
   ]
  },
  {
   "cell_type": "code",
   "execution_count": 85,
   "metadata": {},
   "outputs": [
    {
     "data": {
      "text/html": [
       "<div>\n",
       "<style scoped>\n",
       "    .dataframe tbody tr th:only-of-type {\n",
       "        vertical-align: middle;\n",
       "    }\n",
       "\n",
       "    .dataframe tbody tr th {\n",
       "        vertical-align: top;\n",
       "    }\n",
       "\n",
       "    .dataframe thead th {\n",
       "        text-align: right;\n",
       "    }\n",
       "</style>\n",
       "<table border=\"1\" class=\"dataframe\">\n",
       "  <thead>\n",
       "    <tr style=\"text-align: right;\">\n",
       "      <th></th>\n",
       "      <th>num_examples</th>\n",
       "      <th>train_f1</th>\n",
       "      <th>test_f1</th>\n",
       "      <th>train_acc</th>\n",
       "      <th>test_acc</th>\n",
       "      <th>train_auroc</th>\n",
       "      <th>test_auroc</th>\n",
       "      <th>train_ppv</th>\n",
       "      <th>test_ppv</th>\n",
       "      <th>train_sens</th>\n",
       "      <th>test_sens</th>\n",
       "    </tr>\n",
       "  </thead>\n",
       "  <tbody>\n",
       "    <tr>\n",
       "      <th>0</th>\n",
       "      <td>500.0</td>\n",
       "      <td>0.949428</td>\n",
       "      <td>0.815771</td>\n",
       "      <td>0.944</td>\n",
       "      <td>0.808</td>\n",
       "      <td>1.0</td>\n",
       "      <td>0.781931</td>\n",
       "      <td>0.631579</td>\n",
       "      <td>0.363636</td>\n",
       "      <td>1.0</td>\n",
       "      <td>0.444444</td>\n",
       "    </tr>\n",
       "    <tr>\n",
       "      <th>1</th>\n",
       "      <td>1000.0</td>\n",
       "      <td>0.954914</td>\n",
       "      <td>0.857723</td>\n",
       "      <td>0.952</td>\n",
       "      <td>0.840</td>\n",
       "      <td>1.0</td>\n",
       "      <td>0.797357</td>\n",
       "      <td>0.739130</td>\n",
       "      <td>0.282051</td>\n",
       "      <td>1.0</td>\n",
       "      <td>0.478261</td>\n",
       "    </tr>\n",
       "  </tbody>\n",
       "</table>\n",
       "</div>"
      ],
      "text/plain": [
       "   num_examples  train_f1   test_f1  train_acc  test_acc  train_auroc  \\\n",
       "0         500.0  0.949428  0.815771      0.944     0.808          1.0   \n",
       "1        1000.0  0.954914  0.857723      0.952     0.840          1.0   \n",
       "\n",
       "   test_auroc  train_ppv  test_ppv  train_sens  test_sens  \n",
       "0    0.781931   0.631579  0.363636         1.0   0.444444  \n",
       "1    0.797357   0.739130  0.282051         1.0   0.478261  "
      ]
     },
     "execution_count": 85,
     "metadata": {},
     "output_type": "execute_result"
    }
   ],
   "source": [
    "output_df"
   ]
  },
  {
   "cell_type": "code",
   "execution_count": 87,
   "metadata": {},
   "outputs": [
    {
     "data": {
      "text/html": [
       "<div>\n",
       "<style scoped>\n",
       "    .dataframe tbody tr th:only-of-type {\n",
       "        vertical-align: middle;\n",
       "    }\n",
       "\n",
       "    .dataframe tbody tr th {\n",
       "        vertical-align: top;\n",
       "    }\n",
       "\n",
       "    .dataframe thead th {\n",
       "        text-align: right;\n",
       "    }\n",
       "</style>\n",
       "<table border=\"1\" class=\"dataframe\">\n",
       "  <thead>\n",
       "    <tr style=\"text-align: right;\">\n",
       "      <th></th>\n",
       "      <th>num_examples</th>\n",
       "      <th>train_f1</th>\n",
       "      <th>test_f1</th>\n",
       "      <th>train_acc</th>\n",
       "      <th>test_acc</th>\n",
       "      <th>train_auroc</th>\n",
       "      <th>test_auroc</th>\n",
       "      <th>train_ppv</th>\n",
       "      <th>test_ppv</th>\n",
       "      <th>train_sens</th>\n",
       "      <th>test_sens</th>\n",
       "    </tr>\n",
       "  </thead>\n",
       "  <tbody>\n",
       "    <tr>\n",
       "      <th>0</th>\n",
       "      <td>500.0</td>\n",
       "      <td>0.992142</td>\n",
       "      <td>0.842142</td>\n",
       "      <td>0.992</td>\n",
       "      <td>0.848</td>\n",
       "      <td>1.0</td>\n",
       "      <td>0.804258</td>\n",
       "      <td>0.923077</td>\n",
       "      <td>0.466667</td>\n",
       "      <td>1.0</td>\n",
       "      <td>0.388889</td>\n",
       "    </tr>\n",
       "    <tr>\n",
       "      <th>1</th>\n",
       "      <td>1000.0</td>\n",
       "      <td>1.000000</td>\n",
       "      <td>0.872854</td>\n",
       "      <td>1.000</td>\n",
       "      <td>0.864</td>\n",
       "      <td>1.0</td>\n",
       "      <td>0.791419</td>\n",
       "      <td>1.000000</td>\n",
       "      <td>0.322581</td>\n",
       "      <td>1.0</td>\n",
       "      <td>0.434783</td>\n",
       "    </tr>\n",
       "  </tbody>\n",
       "</table>\n",
       "</div>"
      ],
      "text/plain": [
       "   num_examples  train_f1   test_f1  train_acc  test_acc  train_auroc  \\\n",
       "0         500.0  0.992142  0.842142      0.992     0.848          1.0   \n",
       "1        1000.0  1.000000  0.872854      1.000     0.864          1.0   \n",
       "\n",
       "   test_auroc  train_ppv  test_ppv  train_sens  test_sens  \n",
       "0    0.804258   0.923077  0.466667         1.0   0.388889  \n",
       "1    0.791419   1.000000  0.322581         1.0   0.434783  "
      ]
     },
     "execution_count": 87,
     "metadata": {},
     "output_type": "execute_result"
    }
   ],
   "source": [
    "output_df"
   ]
  },
  {
   "cell_type": "code",
   "execution_count": null,
   "metadata": {},
   "outputs": [],
   "source": []
  }
 ],
 "metadata": {
  "kernelspec": {
   "display_name": "Python [default]",
   "language": "python",
   "name": "python3"
  },
  "language_info": {
   "codemirror_mode": {
    "name": "ipython",
    "version": 3
   },
   "file_extension": ".py",
   "mimetype": "text/x-python",
   "name": "python",
   "nbconvert_exporter": "python",
   "pygments_lexer": "ipython3",
   "version": "3.6.5"
  }
 },
 "nbformat": 4,
 "nbformat_minor": 2
}
