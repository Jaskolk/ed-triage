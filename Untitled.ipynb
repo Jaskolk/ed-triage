{
 "cells": [
  {
   "cell_type": "code",
   "execution_count": 1,
   "metadata": {},
   "outputs": [],
   "source": [
    "import random"
   ]
  },
  {
   "cell_type": "code",
   "execution_count": 3,
   "metadata": {},
   "outputs": [],
   "source": [
    "random.seed()\n",
    "\n",
    "list1 = random.sample(range(100),20)\n",
    "\n",
    "list2 = random.sample(range(200),20)"
   ]
  },
  {
   "cell_type": "code",
   "execution_count": 12,
   "metadata": {},
   "outputs": [
    {
     "data": {
      "text/plain": [
       "([65, 98, 14, 31, 81, 69, 95, 8, 29, 55, 7, 62, 87, 36, 43, 51, 15, 3, 11, 99],\n",
       " [13,\n",
       "  90,\n",
       "  17,\n",
       "  28,\n",
       "  29,\n",
       "  98,\n",
       "  162,\n",
       "  37,\n",
       "  124,\n",
       "  8,\n",
       "  99,\n",
       "  34,\n",
       "  19,\n",
       "  52,\n",
       "  23,\n",
       "  70,\n",
       "  78,\n",
       "  122,\n",
       "  194,\n",
       "  155])"
      ]
     },
     "execution_count": 12,
     "metadata": {},
     "output_type": "execute_result"
    }
   ],
   "source": [
    "list1, list2"
   ]
  },
  {
   "cell_type": "code",
   "execution_count": 13,
   "metadata": {},
   "outputs": [
    {
     "data": {
      "text/plain": [
       "False"
      ]
     },
     "execution_count": 13,
     "metadata": {},
     "output_type": "execute_result"
    }
   ],
   "source": [
    "list1 == list2"
   ]
  },
  {
   "cell_type": "code",
   "execution_count": 14,
   "metadata": {},
   "outputs": [
    {
     "data": {
      "text/plain": [
       "False"
      ]
     },
     "execution_count": 14,
     "metadata": {},
     "output_type": "execute_result"
    }
   ],
   "source": [
    "random.seed(42)\n",
    "\n",
    "list1 = random.sample(range(100),20)\n",
    "\n",
    "list2 = random.sample(range(200),20)\n",
    "\n",
    "list1 == list2"
   ]
  },
  {
   "cell_type": "code",
   "execution_count": 16,
   "metadata": {},
   "outputs": [
    {
     "data": {
      "text/plain": [
       "([81,\n",
       "  14,\n",
       "  3,\n",
       "  94,\n",
       "  35,\n",
       "  31,\n",
       "  28,\n",
       "  17,\n",
       "  13,\n",
       "  86,\n",
       "  69,\n",
       "  11,\n",
       "  75,\n",
       "  54,\n",
       "  4,\n",
       "  27,\n",
       "  29,\n",
       "  64,\n",
       "  77,\n",
       "  71],\n",
       " [50,\n",
       "  183,\n",
       "  166,\n",
       "  179,\n",
       "  139,\n",
       "  107,\n",
       "  56,\n",
       "  114,\n",
       "  150,\n",
       "  71,\n",
       "  1,\n",
       "  194,\n",
       "  40,\n",
       "  178,\n",
       "  108,\n",
       "  87,\n",
       "  39,\n",
       "  55,\n",
       "  195,\n",
       "  86])"
      ]
     },
     "execution_count": 16,
     "metadata": {},
     "output_type": "execute_result"
    }
   ],
   "source": [
    "list1, list2"
   ]
  },
  {
   "cell_type": "code",
   "execution_count": null,
   "metadata": {},
   "outputs": [],
   "source": []
  }
 ],
 "metadata": {
  "kernelspec": {
   "display_name": "Python [default]",
   "language": "python",
   "name": "python3"
  },
  "language_info": {
   "codemirror_mode": {
    "name": "ipython",
    "version": 3
   },
   "file_extension": ".py",
   "mimetype": "text/x-python",
   "name": "python",
   "nbconvert_exporter": "python",
   "pygments_lexer": "ipython3",
   "version": "3.6.5"
  }
 },
 "nbformat": 4,
 "nbformat_minor": 2
}
