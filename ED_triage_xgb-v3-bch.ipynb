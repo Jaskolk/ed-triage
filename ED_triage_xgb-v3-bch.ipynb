{
 "cells": [
  {
   "cell_type": "markdown",
   "metadata": {},
   "source": [
    "# gonna use XGB now to combine the categorical, continuous and pre-embedded free text stuff"
   ]
  },
  {
   "cell_type": "markdown",
   "metadata": {
    "heading_collapsed": true
   },
   "source": [
    "#### Online, we import the usual packages. **xgboost** needs to be installed (with conda install xgboost or pip install -U xgboost)."
   ]
  },
  {
   "cell_type": "code",
   "execution_count": 29,
   "metadata": {
    "hidden": true
   },
   "outputs": [],
   "source": [
    "#!pip install xgboost"
   ]
  },
  {
   "cell_type": "markdown",
   "metadata": {},
   "source": [
    "####  the usual imports"
   ]
  },
  {
   "cell_type": "code",
   "execution_count": 2,
   "metadata": {},
   "outputs": [],
   "source": [
    "import pandas as pd\n",
    "import numpy as np\n",
    "import re\n",
    "import xgboost as xgb\n",
    "from sklearn.model_selection import train_test_split\n",
    "from sklearn.manifold import TSNE\n",
    "from sklearn.decomposition import PCA\n",
    "from sklearn.metrics import confusion_matrix\n",
    "from sklearn.preprocessing import LabelEncoder\n",
    "from sklearn.preprocessing import OneHotEncoder\n",
    "import sklearn.metrics\n",
    "from collections import Counter\n",
    "import seaborn as sns\n",
    "%matplotlib inline\n",
    "import matplotlib.pyplot as plt\n",
    "import sys\n",
    "import random as rn\n",
    "from IPython.display import clear_output\n",
    "import pickle"
   ]
  },
  {
   "cell_type": "markdown",
   "metadata": {},
   "source": [
    "### load helper functions"
   ]
  },
  {
   "cell_type": "code",
   "execution_count": 3,
   "metadata": {},
   "outputs": [],
   "source": [
    "def thresholding_analysis(preds, targets, admission_thresholds = [0.1,0.2,0.3,0.4,0.5,0.6,0.7,0.8,0.9]):\n",
    "\n",
    "    i = 0\n",
    "    for thresh in admission_thresholds:\n",
    "        thresholded_predictions = [0 if prob[0] >= thresh else 1 for prob in preds]\n",
    "        \n",
    "        f1_w, f1, acc, prec, rec, auroc = get_metrics(targets,thresholded_predictions, print_output = False)\n",
    "\n",
    "        if i == 0:\n",
    "            output_df = pd.DataFrame([thresh, f1_w, f1, acc, prec, rec, rec[0], rec[1]]).T\n",
    "            output_df.columns = ['admission_threshold', 'AUROC', 'f1', 'accuracy', 'precision', 'recall', 'admission sensitivity', 'admission specificity']\n",
    "        else:\n",
    "            output_df.loc[len(output_df)] = [thresh, auroc, f1, acc, prec, rec, rec[0], rec[1]]\n",
    "        i+=1\n",
    "    \n",
    "    return output_df"
   ]
  },
  {
   "cell_type": "code",
   "execution_count": 4,
   "metadata": {},
   "outputs": [],
   "source": [
    "\n",
    "def show_confusion_matrix2(confusion_matrix, labels):\n",
    "    LABELS = labels\n",
    "\n",
    "    plt.figure(figsize=(3, 3))\n",
    "    sns.heatmap(confusion_matrix, cmap = 'Blues', xticklabels=LABELS, yticklabels=LABELS, annot=True, fmt=\"d\", annot_kws={\"size\": 15});\n",
    "    plt.title(\"Confusion matrix\", fontsize=10)\n",
    "    plt.ylabel('True label', fontsize=10)\n",
    "    plt.xlabel('Predicted label', fontsize=10)\n",
    "    plt.show()\n",
    "    \n",
    "def get_metrics(model, y_test, X_test, show_confusion = True, print_output = True, return_values = False):\n",
    "    preds = model.predict_proba(X_test)\n",
    "    predictions = model.predict(X_test)\n",
    "    \n",
    "    f1_w = sklearn.metrics.f1_score(y_test, predictions, average='weighted')\n",
    "    f1 = sklearn.metrics.f1_score(y_test, predictions, average=None)\n",
    "    acc = sklearn.metrics.accuracy_score(y_test, predictions)\n",
    "    prec = sklearn.metrics.precision_score(y_test,predictions, average=None) \n",
    "    rec = sklearn.metrics.recall_score(y_test,predictions, average=None)\n",
    "    auroc = sklearn.metrics.roc_auc_score(y_test,preds[:,1], average=None)\n",
    "    confusion = sklearn.metrics.confusion_matrix(y_test, predictions)\n",
    "    \n",
    "    tp, fn, fp, tn = confusion[0,0], confusion[0,1], confusion[1,0], confusion[1,1]\n",
    "    \n",
    "    sens = tp/(tp + fn)\n",
    "    spec = tn/(tn + fp)\n",
    "    ppv = tp/(tp + fp)\n",
    "    npv = tn/(tn + fn)\n",
    "    \n",
    "    \n",
    "    if print_output:\n",
    "        print ('Metrics Report:')\n",
    "        print ('---------------')\n",
    "        print ('weighted f1: ', f1_w)\n",
    "        print ('AUROC:       ',auroc)\n",
    "        print ('accuracy:    ', acc)\n",
    "        print ('precision:   ', prec)\n",
    "        print ('recall:      ', rec)\n",
    "        #print ('admission sens: ', rec[0])\n",
    "        #print ('admission spec: ', rec[1])\n",
    "        print ('sensitivity: ', sens)\n",
    "        print ('specificity: ', spec)\n",
    "        print ('PPV:         ', ppv)\n",
    "        print ('NPV:         ', npv)\n",
    "        \n",
    "    if show_confusion:\n",
    "        show_confusion_matrix2(confusion, labels = ['admit', 'd/c'])\n",
    "     \n",
    "    if return_values == True:\n",
    "        return f1_w, auroc, acc, sens, ppv\n",
    "\n",
    "\n"
   ]
  },
  {
   "cell_type": "code",
   "execution_count": 5,
   "metadata": {},
   "outputs": [],
   "source": [
    "def JJ_gridsearch(weights, print_output = False):\n",
    "    epoch = 0\n",
    "    for weight in weights:\n",
    "        \n",
    "        xgc = xgb.XGBClassifier(scale_pos_weight=weight)\n",
    "        xgc.fit(X_train, y_train)\n",
    "        preds = xgc.predict(X_test)\n",
    "        probas = xgc.predict_proba(X_test)\n",
    "        f1_w, f1, acc, prec, rec = get_metrics(y_test, preds, print_output)\n",
    "        \n",
    "        if epoch == 0:\n",
    "            results_df = pd.DataFrame([epoch+1, 1/weight, f1_w, f1, acc, prec, rec, rec[0], rec[1]]).T\n",
    "            results_df.columns = ['trial number', 'class penalty', 'weighted f1', 'f1', 'accuracy', 'precision', 'recall', 'admission sensitivity', 'admission specificity']\n",
    "        else:\n",
    "            results_df.loc[len(results_df)] = [epoch+1, 1/weight, f1_w, f1, acc, prec, rec, rec[0], rec[1]]\n",
    "        \n",
    "        epoch +=1\n",
    "        \n",
    "    return xgc, results_df, preds, probas"
   ]
  },
  {
   "cell_type": "code",
   "execution_count": 6,
   "metadata": {},
   "outputs": [],
   "source": [
    "#use this cell when working from home\n",
    "path = '/Users/jjaskolkambp/Desktop/machine learning/my_projects/ed-triage'\n",
    "data_path = '/Users/jjaskolkambp/Desktop/machine learning/my_projects/data/ED triage project/combo'\n",
    "model_path = '/Users/jjaskolkambp/Desktop/machine learning/my_projects/ed-triage/models'"
   ]
  },
  {
   "cell_type": "code",
   "execution_count": 7,
   "metadata": {},
   "outputs": [],
   "source": [
    "clin = pd.read_csv(data_path + '/complete_clean_combo_data.csv', index_col = 0,low_memory = False)"
   ]
  },
  {
   "cell_type": "code",
   "execution_count": 8,
   "metadata": {},
   "outputs": [],
   "source": [
    "dx_code_dict = {code:i for i,code in enumerate(set(clin['MainDiagnosisCode']))}\n",
    "\n",
    "def convert_dxcode(s):\n",
    "    code = dx_code_dict[s]\n",
    "    return (code)\n",
    "\n",
    "clin['recoded_diagnosis'] = clin['MainDiagnosisCode'].map(convert_dxcode)"
   ]
  },
  {
   "cell_type": "code",
   "execution_count": 9,
   "metadata": {},
   "outputs": [],
   "source": [
    "medhx = np.load(data_path + '/medhx_embeds.npy')\n",
    "\n",
    "#this is the admit vs d/c target\n",
    "target = np.load(data_path + '/admit_dc_target.npy')\n",
    "\n",
    "subjnotes = np.load(data_path + '/subj_emeds.npy')\n"
   ]
  },
  {
   "cell_type": "code",
   "execution_count": 10,
   "metadata": {},
   "outputs": [],
   "source": [
    "bch_data = clin[clin['site']== 'BCH']"
   ]
  },
  {
   "cell_type": "code",
   "execution_count": 11,
   "metadata": {},
   "outputs": [
    {
     "data": {
      "text/plain": [
       "102128"
      ]
     },
     "execution_count": 11,
     "metadata": {},
     "output_type": "execute_result"
    }
   ],
   "source": [
    "bch_idxs = np.array(list(bch_data.index)); len(bch_idxs)"
   ]
  },
  {
   "cell_type": "code",
   "execution_count": 12,
   "metadata": {},
   "outputs": [],
   "source": [
    "medhx = medhx[bch_idxs]\n",
    "subjnotes = subjnotes[bch_idxs]\n",
    "target = target[bch_idxs]"
   ]
  },
  {
   "cell_type": "code",
   "execution_count": 13,
   "metadata": {},
   "outputs": [],
   "source": [
    "clin = bch_data"
   ]
  },
  {
   "cell_type": "code",
   "execution_count": 14,
   "metadata": {},
   "outputs": [],
   "source": [
    "#this cell will define the various groupings of variables from the dataframe\n",
    "dx_vars = ['recoded_diagnosis', 'PresentingComplaint']\n",
    "\n",
    "cont_vars = [ 'Triage Date & TimeYear', 'Triage Date & TimeMonth', 'Triage Date & TimeWeek', 'Triage Date & TimeDay',\n",
    " 'Triage Date & TimeDayofweek', 'Triage Date & TimeDayofyear', 'Triage Date & TimeHour', 'Triage Date & TimeMinute',\n",
    " 'Triage Date & TimeSecond', 'Triage Date & TimeElapsed',\n",
    " 'num_comorbids','systolic', 'diastolic', 'o2sat', 'pulse', 'temp', 'AgeInYrs']\n",
    "\n",
    "\n",
    "cos_date_vars = ['Triage Date & Timeweekday_cos',\n",
    "       'Triage Date & Timeweekday_sin', 'Triage Date & Timeday_month_cos',\n",
    "       'Triage Date & Timeday_month_sin', 'Triage Date & Timemonth_year_cos',\n",
    "       'Triage Date & Timemonth_year_sin', 'Triage Date & Timeday_year_cos',\n",
    "       'Triage Date & Timeday_year_sin', 'Triage Date & Timehour_cos',\n",
    "       'Triage Date & Timehour_sin', 'Triage Date & Timeclock_cos',\n",
    "       'Triage Date & Timeclock_sin', 'Triage Date & Timemin_cos',\n",
    "       'Triage Date & Timemin_sin', 'Triage Date & Timesec_cos']\n",
    "\n",
    "cat_vars = ['Triage Date & TimeIs_month_end',\n",
    " 'Triage Date & TimeIs_month_start',\n",
    " 'Triage Date & TimeIs_quarter_end',\n",
    " 'Triage Date & TimeIs_quarter_start',\n",
    " 'Triage Date & TimeIs_year_end',\n",
    " 'Triage Date & TimeIs_year_start',\n",
    " 'GenderDesc', 'TriageLevel', 'site']\n",
    "\n",
    "inf_control_vars = ['Are you feeling feverish or have had shakes or chills in the last 24 hours?',\n",
    " 'Have you ever been isolated/required isolation for an infectious disease when receiving care in a healthcare setting?',\n",
    " 'Do you have a new Rash?',\n",
    " 'Do you have a new onset of Vomiting/Diarrhea in the last 24 hours?',\n",
    " 'Have you travelled outside of Canada/USA in the last 3 weeks?',\n",
    " 'Have you had contact with a sick person who has travelled outside of Canada/USA in the last 3 weeks?',\n",
    " 'Have you received Health Care in another country in the last 2 years?',\n",
    " 'Do you have a new/worse cough or shortness of breath?',\n",
    " 'If so, select all countries that apply',\n",
    " 'If so, select all infectious diseases that apply']"
   ]
  },
  {
   "cell_type": "markdown",
   "metadata": {},
   "source": [
    "### preprocessing variables to use in XGB"
   ]
  },
  {
   "cell_type": "code",
   "execution_count": 15,
   "metadata": {},
   "outputs": [],
   "source": [
    "#need to preprocess cat vars for xgb\n",
    "X = clin[cat_vars + inf_control_vars].values.astype(str)\n",
    "\n",
    "features = []\n",
    "for i in range(0, X.shape[1]):\n",
    "    label_encoder = LabelEncoder()\n",
    "    feature = label_encoder.fit_transform(X[:,i])\n",
    "    features.append(feature)\n",
    "encoded_x = np.array(features)\n",
    "encoded_x = encoded_x.reshape(X.shape[0], X.shape[1])"
   ]
  },
  {
   "cell_type": "code",
   "execution_count": 16,
   "metadata": {},
   "outputs": [
    {
     "data": {
      "text/plain": [
       "(102128, 19)"
      ]
     },
     "execution_count": 16,
     "metadata": {},
     "output_type": "execute_result"
    }
   ],
   "source": [
    "encoded_x.shape"
   ]
  },
  {
   "cell_type": "code",
   "execution_count": 17,
   "metadata": {},
   "outputs": [
    {
     "name": "stdout",
     "output_type": "stream",
     "text": [
      "X shape: :  (102128, 3292)\n"
     ]
    }
   ],
   "source": [
    "X2 = clin[dx_vars].values.astype(str)\n",
    "encoded_x2 = None\n",
    "for i in range(0, X2.shape[1]):\n",
    "\tlabel_encoder = LabelEncoder()\n",
    "\tfeature = label_encoder.fit_transform(X2[:,i])\n",
    "\tfeature = feature.reshape(X2.shape[0], 1)\n",
    "\tonehot_encoder = OneHotEncoder(sparse=False)\n",
    "\tfeature = onehot_encoder.fit_transform(feature)\n",
    "\tif encoded_x2 is None:\n",
    "\t\tencoded_x2 = feature\n",
    "\telse:\n",
    "\t\tencoded_x2 = np.concatenate((encoded_x2, feature), axis=1)\n",
    "print(\"X shape: : \", encoded_x2.shape)"
   ]
  },
  {
   "cell_type": "code",
   "execution_count": 18,
   "metadata": {},
   "outputs": [],
   "source": [
    "#splitting this one hot encoded matrix into one for the presenting complaint and one for the medical history\n",
    "X_pres = encoded_x2[:,:169]\n",
    "\n",
    "X_dx = encoded_x2[:,169:]"
   ]
  },
  {
   "cell_type": "code",
   "execution_count": 19,
   "metadata": {},
   "outputs": [
    {
     "data": {
      "text/plain": [
       "(102128, 4864)"
      ]
     },
     "execution_count": 19,
     "metadata": {},
     "output_type": "execute_result"
    }
   ],
   "source": [
    "features = np.concatenate((encoded_x,X_pres, X_dx, clin[cont_vars].values), axis =1)\n",
    "\n",
    "all_features = np.concatenate((features,subjnotes,medhx), axis = 1)\n",
    "all_features.shape"
   ]
  },
  {
   "cell_type": "markdown",
   "metadata": {},
   "source": [
    "### dataset size analysis"
   ]
  },
  {
   "cell_type": "code",
   "execution_count": 25,
   "metadata": {
    "scrolled": false
   },
   "outputs": [
    {
     "name": "stdout",
     "output_type": "stream",
     "text": [
      "\n",
      "Training with 10000 examples\n",
      "\n",
      "CPU times: user 1min 28s, sys: 707 ms, total: 1min 29s\n",
      "Wall time: 1min 32s\n",
      "\n",
      "Training Set\n"
     ]
    },
    {
     "name": "stderr",
     "output_type": "stream",
     "text": [
      "/Users/jjaskolkambp/anaconda3/lib/python3.6/site-packages/sklearn/preprocessing/label.py:151: DeprecationWarning: The truth value of an empty array is ambiguous. Returning False, but in future this will result in an error. Use `array.size > 0` to check that an array is not empty.\n",
      "  if diff:\n",
      "/Users/jjaskolkambp/anaconda3/lib/python3.6/site-packages/sklearn/preprocessing/label.py:151: DeprecationWarning: The truth value of an empty array is ambiguous. Returning False, but in future this will result in an error. Use `array.size > 0` to check that an array is not empty.\n",
      "  if diff:\n"
     ]
    },
    {
     "name": "stdout",
     "output_type": "stream",
     "text": [
      "Metrics Report:\n",
      "---------------\n",
      "weighted f1:  0.8757229107398223\n",
      "AUROC:        0.956074476450177\n",
      "accuracy:     0.852\n",
      "precision:    [0.39160839 0.98858921]\n",
      "recall:       [0.91056911 0.84560781]\n",
      "sensitivity:  0.9105691056910569\n",
      "specificity:  0.8456078083407276\n",
      "PPV:          0.3916083916083916\n",
      "NPV:          0.9885892116182573\n",
      "\n",
      "Validation Set\n",
      "Metrics Report:\n",
      "---------------\n",
      "weighted f1:  0.8351382652600045\n",
      "AUROC:        0.8336372042029591\n",
      "accuracy:     0.8064\n",
      "precision:    [0.2962298  0.95265054]\n",
      "recall:       [0.64202335 0.82523406]\n",
      "sensitivity:  0.642023346303502\n",
      "specificity:  0.8252340615247437\n",
      "PPV:          0.296229802513465\n",
      "NPV:          0.952650540401441\n",
      "\n",
      "Training with 30000 examples\n",
      "\n",
      "CPU times: user 4min 20s, sys: 1.52 s, total: 4min 21s\n",
      "Wall time: 4min 24s\n",
      "\n",
      "Training Set\n"
     ]
    },
    {
     "name": "stderr",
     "output_type": "stream",
     "text": [
      "/Users/jjaskolkambp/anaconda3/lib/python3.6/site-packages/sklearn/preprocessing/label.py:151: DeprecationWarning: The truth value of an empty array is ambiguous. Returning False, but in future this will result in an error. Use `array.size > 0` to check that an array is not empty.\n",
      "  if diff:\n"
     ]
    },
    {
     "name": "stdout",
     "output_type": "stream",
     "text": [
      "Metrics Report:\n",
      "---------------\n",
      "weighted f1:  0.840994321103802\n",
      "AUROC:        0.8916282892186508\n",
      "accuracy:     0.8102666666666667\n",
      "precision:    [0.32690247 0.97035854]\n",
      "recall:       [0.78507079 0.81317864]\n",
      "sensitivity:  0.7850707850707851\n",
      "specificity:  0.8131786404878775\n",
      "PPV:          0.32690246516613075\n",
      "NPV:          0.9703585374511892\n",
      "\n",
      "Validation Set\n"
     ]
    },
    {
     "name": "stderr",
     "output_type": "stream",
     "text": [
      "/Users/jjaskolkambp/anaconda3/lib/python3.6/site-packages/sklearn/preprocessing/label.py:151: DeprecationWarning: The truth value of an empty array is ambiguous. Returning False, but in future this will result in an error. Use `array.size > 0` to check that an array is not empty.\n",
      "  if diff:\n"
     ]
    },
    {
     "name": "stdout",
     "output_type": "stream",
     "text": [
      "Metrics Report:\n",
      "---------------\n",
      "weighted f1:  0.8235049904766756\n",
      "AUROC:        0.8396085586844295\n",
      "accuracy:     0.7848\n",
      "precision:    [0.2672548  0.96375381]\n",
      "recall:       [0.71827057 0.79183252]\n",
      "sensitivity:  0.7182705718270572\n",
      "specificity:  0.7918325224826773\n",
      "PPV:          0.2672548002075765\n",
      "NPV:          0.963753813027095\n",
      "\n",
      "Training with 60000 examples\n",
      "\n",
      "CPU times: user 9min 19s, sys: 5.91 s, total: 9min 25s\n",
      "Wall time: 9min 42s\n",
      "\n",
      "Training Set\n"
     ]
    },
    {
     "name": "stderr",
     "output_type": "stream",
     "text": [
      "/Users/jjaskolkambp/anaconda3/lib/python3.6/site-packages/sklearn/preprocessing/label.py:151: DeprecationWarning: The truth value of an empty array is ambiguous. Returning False, but in future this will result in an error. Use `array.size > 0` to check that an array is not empty.\n",
      "  if diff:\n"
     ]
    },
    {
     "name": "stdout",
     "output_type": "stream",
     "text": [
      "Metrics Report:\n",
      "---------------\n",
      "weighted f1:  0.8387524152023349\n",
      "AUROC:        0.8764284561894207\n",
      "accuracy:     0.8042\n",
      "precision:    [0.29540541 0.97079646]\n",
      "recall:       [0.76809557 0.80798409]\n",
      "sensitivity:  0.7680955727336612\n",
      "specificity:  0.8079840907416955\n",
      "PPV:          0.2954054054054054\n",
      "NPV:          0.9707964601769912\n",
      "\n",
      "Validation Set\n"
     ]
    },
    {
     "name": "stderr",
     "output_type": "stream",
     "text": [
      "/Users/jjaskolkambp/anaconda3/lib/python3.6/site-packages/sklearn/preprocessing/label.py:151: DeprecationWarning: The truth value of an empty array is ambiguous. Returning False, but in future this will result in an error. Use `array.size > 0` to check that an array is not empty.\n",
      "  if diff:\n"
     ]
    },
    {
     "name": "stdout",
     "output_type": "stream",
     "text": [
      "Metrics Report:\n",
      "---------------\n",
      "weighted f1:  0.8297938872266185\n",
      "AUROC:        0.8589879051203366\n",
      "accuracy:     0.7945333333333333\n",
      "precision:    [0.28851244 0.96489039]\n",
      "recall:       [0.73450135 0.80112459]\n",
      "sensitivity:  0.7345013477088949\n",
      "specificity:  0.8011245930748743\n",
      "PPV:          0.2885124404446797\n",
      "NPV:          0.9648903938691855\n",
      "\n",
      "Training with 100000 examples\n",
      "\n",
      "CPU times: user 15min 39s, sys: 13.5 s, total: 15min 52s\n",
      "Wall time: 16min 13s\n",
      "\n",
      "Training Set\n"
     ]
    },
    {
     "name": "stderr",
     "output_type": "stream",
     "text": [
      "/Users/jjaskolkambp/anaconda3/lib/python3.6/site-packages/sklearn/preprocessing/label.py:151: DeprecationWarning: The truth value of an empty array is ambiguous. Returning False, but in future this will result in an error. Use `array.size > 0` to check that an array is not empty.\n",
      "  if diff:\n"
     ]
    },
    {
     "name": "stdout",
     "output_type": "stream",
     "text": [
      "Metrics Report:\n",
      "---------------\n",
      "weighted f1:  0.840488744300969\n",
      "AUROC:        0.8702521111030316\n",
      "accuracy:     0.807\n",
      "precision:    [0.29585897 0.96887344]\n",
      "recall:       [0.75063291 0.81290323]\n",
      "sensitivity:  0.7506329113924051\n",
      "specificity:  0.8129032258064516\n",
      "PPV:          0.2958589722268418\n",
      "NPV:          0.968873439721915\n",
      "\n",
      "Validation Set\n"
     ]
    },
    {
     "name": "stderr",
     "output_type": "stream",
     "text": [
      "/Users/jjaskolkambp/anaconda3/lib/python3.6/site-packages/sklearn/preprocessing/label.py:151: DeprecationWarning: The truth value of an empty array is ambiguous. Returning False, but in future this will result in an error. Use `array.size > 0` to check that an array is not empty.\n",
      "  if diff:\n"
     ]
    },
    {
     "name": "stdout",
     "output_type": "stream",
     "text": [
      "Metrics Report:\n",
      "---------------\n",
      "weighted f1:  0.8381395828270731\n",
      "AUROC:        0.8527277282735206\n",
      "accuracy:     0.80432\n",
      "precision:    [0.28447984 0.96497015]\n",
      "recall:       [0.71507666 0.81357055]\n",
      "sensitivity:  0.715076660988075\n",
      "specificity:  0.8135705456471835\n",
      "PPV:          0.2844798373432735\n",
      "NPV:          0.9649701539428213\n",
      "\n",
      "Training with 130000 examples\n",
      "\n",
      "CPU times: user 16min 41s, sys: 22.2 s, total: 17min 3s\n",
      "Wall time: 17min 56s\n",
      "\n",
      "Training Set\n"
     ]
    },
    {
     "name": "stderr",
     "output_type": "stream",
     "text": [
      "/Users/jjaskolkambp/anaconda3/lib/python3.6/site-packages/sklearn/preprocessing/label.py:151: DeprecationWarning: The truth value of an empty array is ambiguous. Returning False, but in future this will result in an error. Use `array.size > 0` to check that an array is not empty.\n",
      "  if diff:\n"
     ]
    },
    {
     "name": "stdout",
     "output_type": "stream",
     "text": [
      "Metrics Report:\n",
      "---------------\n",
      "weighted f1:  0.8383296292918467\n",
      "AUROC:        0.8669219662208305\n",
      "accuracy:     0.8047939840200533\n",
      "precision:    [0.29895917 0.96857987]\n",
      "recall:       [0.7549535  0.81013921]\n",
      "sensitivity:  0.7549534977759806\n",
      "specificity:  0.8101392081183052\n",
      "PPV:          0.29895916733386707\n",
      "NPV:          0.9685798724529476\n",
      "\n",
      "Validation Set\n"
     ]
    },
    {
     "name": "stderr",
     "output_type": "stream",
     "text": [
      "/Users/jjaskolkambp/anaconda3/lib/python3.6/site-packages/sklearn/preprocessing/label.py:151: DeprecationWarning: The truth value of an empty array is ambiguous. Returning False, but in future this will result in an error. Use `array.size > 0` to check that an array is not empty.\n",
      "  if diff:\n"
     ]
    },
    {
     "name": "stdout",
     "output_type": "stream",
     "text": [
      "Metrics Report:\n",
      "---------------\n",
      "weighted f1:  0.8375575693926557\n",
      "AUROC:        0.8605533089686239\n",
      "accuracy:     0.8022481591728028\n",
      "precision:    [0.27996087 0.96736945]\n",
      "recall:       [0.7306383  0.80950738]\n",
      "sensitivity:  0.7306382978723405\n",
      "specificity:  0.8095073764127341\n",
      "PPV:          0.2799608674384477\n",
      "NPV:          0.96736945203361\n",
      "\n",
      "Training with 102128 examples\n",
      "\n",
      "CPU times: user 15min 20s, sys: 11.9 s, total: 15min 32s\n",
      "Wall time: 15min 40s\n",
      "\n",
      "Training Set\n"
     ]
    },
    {
     "name": "stderr",
     "output_type": "stream",
     "text": [
      "/Users/jjaskolkambp/anaconda3/lib/python3.6/site-packages/sklearn/preprocessing/label.py:151: DeprecationWarning: The truth value of an empty array is ambiguous. Returning False, but in future this will result in an error. Use `array.size > 0` to check that an array is not empty.\n",
      "  if diff:\n"
     ]
    },
    {
     "name": "stdout",
     "output_type": "stream",
     "text": [
      "Metrics Report:\n",
      "---------------\n",
      "weighted f1:  0.8383296292918467\n",
      "AUROC:        0.8669219662208305\n",
      "accuracy:     0.8047939840200533\n",
      "precision:    [0.29895917 0.96857987]\n",
      "recall:       [0.7549535  0.81013921]\n",
      "sensitivity:  0.7549534977759806\n",
      "specificity:  0.8101392081183052\n",
      "PPV:          0.29895916733386707\n",
      "NPV:          0.9685798724529476\n",
      "\n",
      "Validation Set\n"
     ]
    },
    {
     "name": "stderr",
     "output_type": "stream",
     "text": [
      "/Users/jjaskolkambp/anaconda3/lib/python3.6/site-packages/sklearn/preprocessing/label.py:151: DeprecationWarning: The truth value of an empty array is ambiguous. Returning False, but in future this will result in an error. Use `array.size > 0` to check that an array is not empty.\n",
      "  if diff:\n"
     ]
    },
    {
     "name": "stdout",
     "output_type": "stream",
     "text": [
      "Metrics Report:\n",
      "---------------\n",
      "weighted f1:  0.8375575693926557\n",
      "AUROC:        0.8605533089686239\n",
      "accuracy:     0.8022481591728028\n",
      "precision:    [0.27996087 0.96736945]\n",
      "recall:       [0.7306383  0.80950738]\n",
      "sensitivity:  0.7306382978723405\n",
      "specificity:  0.8095073764127341\n",
      "PPV:          0.2799608674384477\n",
      "NPV:          0.96736945203361\n"
     ]
    }
   ],
   "source": [
    "       \n",
    "dataset_sizes = [10000, 30000, 60000, 100000, 130000, len(clin)]    \n",
    "\n",
    "#initialize dataframe for results\n",
    "col_names = ['num_examples','train_f1', 'test_f1', 'train_acc', 'test_acc', 'train_auroc', 'test_auroc', 'train_ppv', 'test_ppv', 'train_sens', 'test_sens']\n",
    "output_df = pd.DataFrame(columns = col_names)\n",
    "\n",
    "for size in dataset_sizes:\n",
    "    print ()\n",
    "    print ('Training with {} examples'.format(size))\n",
    "    print ()\n",
    "    \n",
    "    X_train, X_test, y_train, y_test = train_test_split(all_features[:size], target[:size], random_state=1)\n",
    "    \n",
    "    xgc = xgb.XGBClassifier(scale_pos_weight = 1/9, gamma = 0.5, reg_alpha = 0.5)\n",
    "    %time xgc.fit(X_train, y_train)\n",
    "    \n",
    "    #random train subset for metrics\n",
    "    random_indices = np.random.choice(X_test.shape[0], len(X_test), replace=False)\n",
    "    \n",
    "    print ('\\nTraining Set')\n",
    "    train_f1, train_auroc, train_acc, train_sens, train_ppv = get_metrics(xgc, y_train[random_indices], X_train[random_indices],\n",
    "                                                                          show_confusion = False, return_values = True)\n",
    "    print ('\\nValidation Set')\n",
    "    test_f1, test_auroc, test_acc, test_sens, test_ppv = get_metrics(xgc, y_test, X_test,\n",
    "                                                                     show_confusion = False, return_values = True)\n",
    "    \n",
    "    output_df.loc[len(output_df)] = [size,train_f1, test_f1, train_acc, test_acc, train_auroc, test_auroc, train_ppv, test_ppv, train_sens, test_sens]"
   ]
  },
  {
   "cell_type": "code",
   "execution_count": 26,
   "metadata": {},
   "outputs": [
    {
     "data": {
      "text/html": [
       "<div>\n",
       "<style scoped>\n",
       "    .dataframe tbody tr th:only-of-type {\n",
       "        vertical-align: middle;\n",
       "    }\n",
       "\n",
       "    .dataframe tbody tr th {\n",
       "        vertical-align: top;\n",
       "    }\n",
       "\n",
       "    .dataframe thead th {\n",
       "        text-align: right;\n",
       "    }\n",
       "</style>\n",
       "<table border=\"1\" class=\"dataframe\">\n",
       "  <thead>\n",
       "    <tr style=\"text-align: right;\">\n",
       "      <th></th>\n",
       "      <th>num_examples</th>\n",
       "      <th>train_f1</th>\n",
       "      <th>test_f1</th>\n",
       "      <th>train_acc</th>\n",
       "      <th>test_acc</th>\n",
       "      <th>train_auroc</th>\n",
       "      <th>test_auroc</th>\n",
       "      <th>train_ppv</th>\n",
       "      <th>test_ppv</th>\n",
       "      <th>train_sens</th>\n",
       "      <th>test_sens</th>\n",
       "    </tr>\n",
       "  </thead>\n",
       "  <tbody>\n",
       "    <tr>\n",
       "      <th>0</th>\n",
       "      <td>10000.0</td>\n",
       "      <td>0.875723</td>\n",
       "      <td>0.835138</td>\n",
       "      <td>0.852000</td>\n",
       "      <td>0.806400</td>\n",
       "      <td>0.956074</td>\n",
       "      <td>0.833637</td>\n",
       "      <td>0.391608</td>\n",
       "      <td>0.296230</td>\n",
       "      <td>0.910569</td>\n",
       "      <td>0.642023</td>\n",
       "    </tr>\n",
       "    <tr>\n",
       "      <th>1</th>\n",
       "      <td>30000.0</td>\n",
       "      <td>0.840994</td>\n",
       "      <td>0.823505</td>\n",
       "      <td>0.810267</td>\n",
       "      <td>0.784800</td>\n",
       "      <td>0.891628</td>\n",
       "      <td>0.839609</td>\n",
       "      <td>0.326902</td>\n",
       "      <td>0.267255</td>\n",
       "      <td>0.785071</td>\n",
       "      <td>0.718271</td>\n",
       "    </tr>\n",
       "    <tr>\n",
       "      <th>2</th>\n",
       "      <td>60000.0</td>\n",
       "      <td>0.838752</td>\n",
       "      <td>0.829794</td>\n",
       "      <td>0.804200</td>\n",
       "      <td>0.794533</td>\n",
       "      <td>0.876428</td>\n",
       "      <td>0.858988</td>\n",
       "      <td>0.295405</td>\n",
       "      <td>0.288512</td>\n",
       "      <td>0.768096</td>\n",
       "      <td>0.734501</td>\n",
       "    </tr>\n",
       "    <tr>\n",
       "      <th>3</th>\n",
       "      <td>100000.0</td>\n",
       "      <td>0.840489</td>\n",
       "      <td>0.838140</td>\n",
       "      <td>0.807000</td>\n",
       "      <td>0.804320</td>\n",
       "      <td>0.870252</td>\n",
       "      <td>0.852728</td>\n",
       "      <td>0.295859</td>\n",
       "      <td>0.284480</td>\n",
       "      <td>0.750633</td>\n",
       "      <td>0.715077</td>\n",
       "    </tr>\n",
       "    <tr>\n",
       "      <th>4</th>\n",
       "      <td>130000.0</td>\n",
       "      <td>0.838330</td>\n",
       "      <td>0.837558</td>\n",
       "      <td>0.804794</td>\n",
       "      <td>0.802248</td>\n",
       "      <td>0.866922</td>\n",
       "      <td>0.860553</td>\n",
       "      <td>0.298959</td>\n",
       "      <td>0.279961</td>\n",
       "      <td>0.754953</td>\n",
       "      <td>0.730638</td>\n",
       "    </tr>\n",
       "    <tr>\n",
       "      <th>5</th>\n",
       "      <td>102128.0</td>\n",
       "      <td>0.838330</td>\n",
       "      <td>0.837558</td>\n",
       "      <td>0.804794</td>\n",
       "      <td>0.802248</td>\n",
       "      <td>0.866922</td>\n",
       "      <td>0.860553</td>\n",
       "      <td>0.298959</td>\n",
       "      <td>0.279961</td>\n",
       "      <td>0.754953</td>\n",
       "      <td>0.730638</td>\n",
       "    </tr>\n",
       "  </tbody>\n",
       "</table>\n",
       "</div>"
      ],
      "text/plain": [
       "   num_examples  train_f1   test_f1  train_acc  test_acc  train_auroc  \\\n",
       "0       10000.0  0.875723  0.835138   0.852000  0.806400     0.956074   \n",
       "1       30000.0  0.840994  0.823505   0.810267  0.784800     0.891628   \n",
       "2       60000.0  0.838752  0.829794   0.804200  0.794533     0.876428   \n",
       "3      100000.0  0.840489  0.838140   0.807000  0.804320     0.870252   \n",
       "4      130000.0  0.838330  0.837558   0.804794  0.802248     0.866922   \n",
       "5      102128.0  0.838330  0.837558   0.804794  0.802248     0.866922   \n",
       "\n",
       "   test_auroc  train_ppv  test_ppv  train_sens  test_sens  \n",
       "0    0.833637   0.391608  0.296230    0.910569   0.642023  \n",
       "1    0.839609   0.326902  0.267255    0.785071   0.718271  \n",
       "2    0.858988   0.295405  0.288512    0.768096   0.734501  \n",
       "3    0.852728   0.295859  0.284480    0.750633   0.715077  \n",
       "4    0.860553   0.298959  0.279961    0.754953   0.730638  \n",
       "5    0.860553   0.298959  0.279961    0.754953   0.730638  "
      ]
     },
     "execution_count": 26,
     "metadata": {},
     "output_type": "execute_result"
    }
   ],
   "source": [
    "output_df"
   ]
  },
  {
   "cell_type": "code",
   "execution_count": 27,
   "metadata": {},
   "outputs": [],
   "source": [
    "cols = list(clin.columns)"
   ]
  },
  {
   "cell_type": "code",
   "execution_count": 28,
   "metadata": {},
   "outputs": [
    {
     "data": {
      "text/plain": [
       "['ID',\n",
       " 'ChartNumber',\n",
       " 'EncounterNumber',\n",
       " 'TriageLevel',\n",
       " 'AgeNumber',\n",
       " 'AgeInYrs',\n",
       " 'GenderDesc',\n",
       " 'PIA Date & Time',\n",
       " 'Disposition Date & Time',\n",
       " 'DischargeDisposition',\n",
       " 'DischargeDispositionDesc',\n",
       " 'Left ED Date & Time',\n",
       " 'PresentingComplaint',\n",
       " 'PresentingComplaintDesc',\n",
       " 'MainDiagnosisCode',\n",
       " 'MainDiagnosisCodeDesc',\n",
       " 'AdmitLocation',\n",
       " 'PatientService',\n",
       " 'SubjectiveNotes',\n",
       " 'InfectionControlScreening',\n",
       " 'MedicalHistory',\n",
       " 'BloodPressure_LastEDReading',\n",
       " 'O2Saturation_LastEDReading',\n",
       " 'Pulse_LastEDReading',\n",
       " 'Temperature_LastEDReading',\n",
       " 'o2sat',\n",
       " 'pulse',\n",
       " 'temp',\n",
       " 'CleanSubjectiveNotes',\n",
       " 'BP',\n",
       " 'systolic',\n",
       " 'diastolic',\n",
       " 'Gender',\n",
       " 'outcome',\n",
       " 'target',\n",
       " 'service',\n",
       " 'pmhx',\n",
       " 'num_comorbids',\n",
       " 'target2',\n",
       " 'discharge',\n",
       " 'target3',\n",
       " 'dispo',\n",
       " 'target4',\n",
       " 'ICUvsother',\n",
       " 'target5',\n",
       " 'CleanMedicalHistory',\n",
       " 'Are you feeling feverish or have had shakes or chills in the last 24 hours?',\n",
       " 'Have you ever been isolated/required isolation for an infectious disease when receiving care in a healthcare setting?',\n",
       " 'Do you have a new Rash?',\n",
       " 'Do you have a new onset of Vomiting/Diarrhea in the last 24 hours?',\n",
       " 'Have you travelled outside of Canada/USA in the last 3 weeks?',\n",
       " 'Have you had contact with a sick person who has travelled outside of Canada/USA in the last 3 weeks?',\n",
       " 'Have you received Health Care in another country in the last 2 years?',\n",
       " 'Do you have a new/worse cough or shortness of breath?',\n",
       " 'If so, select all countries that apply',\n",
       " 'If so, select all infectious diseases that apply',\n",
       " 'site',\n",
       " 'Triage Date & TimeYear',\n",
       " 'Triage Date & TimeMonth',\n",
       " 'Triage Date & TimeWeek',\n",
       " 'Triage Date & TimeDay',\n",
       " 'Triage Date & TimeDayofweek',\n",
       " 'Triage Date & TimeDayofyear',\n",
       " 'Triage Date & TimeIs_month_end',\n",
       " 'Triage Date & TimeIs_month_start',\n",
       " 'Triage Date & TimeIs_quarter_end',\n",
       " 'Triage Date & TimeIs_quarter_start',\n",
       " 'Triage Date & TimeIs_year_end',\n",
       " 'Triage Date & TimeIs_year_start',\n",
       " 'Triage Date & TimeHour',\n",
       " 'Triage Date & TimeMinute',\n",
       " 'Triage Date & TimeSecond',\n",
       " 'Triage Date & TimeElapsed',\n",
       " 'Triage Date & Timeweekday_cos',\n",
       " 'Triage Date & Timeweekday_sin',\n",
       " 'Triage Date & Timeday_month_cos',\n",
       " 'Triage Date & Timeday_month_sin',\n",
       " 'Triage Date & Timemonth_year_cos',\n",
       " 'Triage Date & Timemonth_year_sin',\n",
       " 'Triage Date & Timeday_year_cos',\n",
       " 'Triage Date & Timeday_year_sin',\n",
       " 'Triage Date & Timehour_cos',\n",
       " 'Triage Date & Timehour_sin',\n",
       " 'Triage Date & Timeclock_cos',\n",
       " 'Triage Date & Timeclock_sin',\n",
       " 'Triage Date & Timemin_cos',\n",
       " 'Triage Date & Timemin_sin',\n",
       " 'Triage Date & Timesec_cos',\n",
       " 'Triage Date & Timesec_sin',\n",
       " 'Reg Date & TimeYear',\n",
       " 'Reg Date & TimeMonth',\n",
       " 'Reg Date & TimeWeek',\n",
       " 'Reg Date & TimeDay',\n",
       " 'Reg Date & TimeDayofweek',\n",
       " 'Reg Date & TimeDayofyear',\n",
       " 'Reg Date & TimeIs_month_end',\n",
       " 'Reg Date & TimeIs_month_start',\n",
       " 'Reg Date & TimeIs_quarter_end',\n",
       " 'Reg Date & TimeIs_quarter_start',\n",
       " 'Reg Date & TimeIs_year_end',\n",
       " 'Reg Date & TimeIs_year_start',\n",
       " 'Reg Date & TimeHour',\n",
       " 'Reg Date & TimeMinute',\n",
       " 'Reg Date & TimeSecond',\n",
       " 'Reg Date & TimeElapsed',\n",
       " 'Reg Date & Timeweekday_cos',\n",
       " 'Reg Date & Timeweekday_sin',\n",
       " 'Reg Date & Timeday_month_cos',\n",
       " 'Reg Date & Timeday_month_sin',\n",
       " 'Reg Date & Timemonth_year_cos',\n",
       " 'Reg Date & Timemonth_year_sin',\n",
       " 'Reg Date & Timeday_year_cos',\n",
       " 'Reg Date & Timeday_year_sin',\n",
       " 'Reg Date & Timehour_cos',\n",
       " 'Reg Date & Timehour_sin',\n",
       " 'Reg Date & Timeclock_cos',\n",
       " 'Reg Date & Timeclock_sin',\n",
       " 'Reg Date & Timemin_cos',\n",
       " 'Reg Date & Timemin_sin',\n",
       " 'Reg Date & Timesec_cos',\n",
       " 'Reg Date & Timesec_sin',\n",
       " 'recoded_diagnosis']"
      ]
     },
     "execution_count": 28,
     "metadata": {},
     "output_type": "execute_result"
    }
   ],
   "source": [
    "cols"
   ]
  },
  {
   "cell_type": "markdown",
   "metadata": {},
   "source": [
    "### augmentation"
   ]
  },
  {
   "cell_type": "code",
   "execution_count": 21,
   "metadata": {},
   "outputs": [
    {
     "data": {
      "text/plain": [
       "Counter({1.0: 92436, 0.0: 9692})"
      ]
     },
     "execution_count": 21,
     "metadata": {},
     "output_type": "execute_result"
    }
   ],
   "source": [
    "Counter(clin['target3'])"
   ]
  },
  {
   "cell_type": "code",
   "execution_count": 22,
   "metadata": {},
   "outputs": [
    {
     "data": {
      "text/plain": [
       "Counter({1.0: 92436, 0.0: 9692})"
      ]
     },
     "execution_count": 22,
     "metadata": {},
     "output_type": "execute_result"
    }
   ],
   "source": [
    "Counter(target)"
   ]
  },
  {
   "cell_type": "code",
   "execution_count": 23,
   "metadata": {},
   "outputs": [
    {
     "data": {
      "text/plain": [
       "Counter({'discharge': 92436, 'admit': 9692})"
      ]
     },
     "execution_count": 23,
     "metadata": {},
     "output_type": "execute_result"
    }
   ],
   "source": [
    "Counter(clin['discharge'])"
   ]
  },
  {
   "cell_type": "code",
   "execution_count": 24,
   "metadata": {},
   "outputs": [],
   "source": [
    "admits = clin[clin['discharge'] == 'admit']"
   ]
  },
  {
   "cell_type": "code",
   "execution_count": 25,
   "metadata": {},
   "outputs": [
    {
     "data": {
      "text/plain": [
       "(9692, 122)"
      ]
     },
     "execution_count": 25,
     "metadata": {},
     "output_type": "execute_result"
    }
   ],
   "source": [
    "admits.shape"
   ]
  },
  {
   "cell_type": "code",
   "execution_count": null,
   "metadata": {},
   "outputs": [],
   "source": []
  }
 ],
 "metadata": {
  "kernelspec": {
   "display_name": "Python [default]",
   "language": "python",
   "name": "python3"
  },
  "language_info": {
   "codemirror_mode": {
    "name": "ipython",
    "version": 3
   },
   "file_extension": ".py",
   "mimetype": "text/x-python",
   "name": "python",
   "nbconvert_exporter": "python",
   "pygments_lexer": "ipython3",
   "version": "3.6.5"
  }
 },
 "nbformat": 4,
 "nbformat_minor": 2
}
