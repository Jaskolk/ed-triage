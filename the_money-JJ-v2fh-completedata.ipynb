{
 "cells": [
  {
   "cell_type": "markdown",
   "metadata": {},
   "source": [
    "In this notebook, I'm going to do some experimentation with xgboost on only the real clinical data"
   ]
  },
  {
   "cell_type": "code",
   "execution_count": 1,
   "metadata": {},
   "outputs": [
    {
     "name": "stdout",
     "output_type": "stream",
     "text": [
      "Collecting xlrd\n",
      "\u001b[?25l  Downloading https://files.pythonhosted.org/packages/b0/16/63576a1a001752e34bf8ea62e367997530dc553b689356b9879339cf45a4/xlrd-1.2.0-py2.py3-none-any.whl (103kB)\n",
      "\u001b[K    100% |████████████████████████████████| 112kB 3.9MB/s \n",
      "\u001b[31mmenpo 0.8.1 has requirement matplotlib<2.0,>=1.4, but you'll have matplotlib 3.0.2 which is incompatible.\u001b[0m\n",
      "\u001b[31mmenpo 0.8.1 has requirement pillow<5.0,>=3.0, but you'll have pillow 5.4.0 which is incompatible.\u001b[0m\n",
      "\u001b[31mmenpo 0.8.1 has requirement scipy<1.0,>=0.16, but you'll have scipy 1.2.0 which is incompatible.\u001b[0m\n",
      "\u001b[?25hInstalling collected packages: xlrd\n",
      "Successfully installed xlrd-1.2.0\n",
      "\u001b[33mYou are using pip version 10.0.1, however version 19.2.3 is available.\n",
      "You should consider upgrading via the 'pip install --upgrade pip' command.\u001b[0m\n"
     ]
    }
   ],
   "source": [
    "!pip install xlrd"
   ]
  },
  {
   "cell_type": "code",
   "execution_count": 2,
   "metadata": {},
   "outputs": [],
   "source": [
    "import pandas as pd\n",
    "import numpy as np\n",
    "import xgboost as xgb\n",
    "from sklearn.model_selection import train_test_split\n",
    "from sklearn.manifold import TSNE\n",
    "from sklearn.decomposition import PCA\n",
    "from sklearn.metrics import confusion_matrix\n",
    "import sklearn.metrics"
   ]
  },
  {
   "cell_type": "code",
   "execution_count": 3,
   "metadata": {},
   "outputs": [],
   "source": [
    "import os\n",
    "import re\n",
    "from collections import Counter\n",
    "import seaborn as sns\n",
    "%matplotlib inline\n",
    "import matplotlib.pyplot as plt"
   ]
  },
  {
   "cell_type": "code",
   "execution_count": 4,
   "metadata": {},
   "outputs": [
    {
     "data": {
      "text/plain": [
       "'/floyd/home/notebooks'"
      ]
     },
     "execution_count": 4,
     "metadata": {},
     "output_type": "execute_result"
    }
   ],
   "source": [
    "os.getcwd()"
   ]
  },
  {
   "cell_type": "code",
   "execution_count": 5,
   "metadata": {},
   "outputs": [],
   "source": [
    "path = '/floyd/home/notebooks'\n",
    "data_path = '/floyd/home/data'"
   ]
  },
  {
   "cell_type": "code",
   "execution_count": 6,
   "metadata": {},
   "outputs": [],
   "source": [
    "clin = pd.read_excel(data_path + '/jj_modified_bch_data.xlsx')"
   ]
  },
  {
   "cell_type": "code",
   "execution_count": 8,
   "metadata": {},
   "outputs": [
    {
     "data": {
      "text/plain": [
       "136993"
      ]
     },
     "execution_count": 8,
     "metadata": {},
     "output_type": "execute_result"
    }
   ],
   "source": [
    "len(clin)"
   ]
  },
  {
   "cell_type": "code",
   "execution_count": 9,
   "metadata": {},
   "outputs": [
    {
     "data": {
      "text/plain": [
       "Index(['ID', 'ChartNumber', 'EncounterNumber', 'TriageLevel', 'AgeNumber',\n",
       "       'AgeInYrs', 'GenderDesc', 'Triage Date & Time', 'Reg Date & Time',\n",
       "       'PIA Date & Time', 'Disposition Date & Time', 'DischargeDisposition',\n",
       "       'DischargeDispositionDesc', 'Left ED Date & Time',\n",
       "       'PresentingComplaint', 'PresentingComplaintDesc', 'MainDiagnosisCode',\n",
       "       'MainDiagnosisCodeDesc', 'AdmitLocation', 'PatientService',\n",
       "       'SubjectiveNotes', 'InfectionControlScreening', 'MedicalHistory',\n",
       "       'BloodPressure_LastEDReading', 'O2Saturation_LastEDReading',\n",
       "       'Pulse_LastEDReading', 'Temperature_LastEDReading',\n",
       "       'Are you feeling feverish or have had shakes or chills in the last 24 hours?',\n",
       "       'Have you ever been isolated/required isolation for an infectious disease when receiving care in a healthcare setting?',\n",
       "       'Do you have a new Rash?',\n",
       "       'Do you have a new onset of Vomiting/Diarrhea in the last 24 hours?',\n",
       "       'Have you travelled outside of Canada/USA in the last 3 weeks?',\n",
       "       'Have you had contact with a sick person who has travelled outside of Canada/USA in the last 3 weeks?',\n",
       "       'Have you received Health Care in another country in the last 2 years?',\n",
       "       'Do you have a new/worse cough or shortness of breath?',\n",
       "       'If so, select all countries that apply',\n",
       "       'If so, select all infectious diseases that apply'],\n",
       "      dtype='object')"
      ]
     },
     "execution_count": 9,
     "metadata": {},
     "output_type": "execute_result"
    }
   ],
   "source": [
    "clin.columns"
   ]
  },
  {
   "cell_type": "code",
   "execution_count": 10,
   "metadata": {},
   "outputs": [
    {
     "data": {
      "text/plain": [
       "Counter({852: 6203,\n",
       "         401: 870,\n",
       "         253: 418,\n",
       "         409: 801,\n",
       "         3: 9095,\n",
       "         653: 2650,\n",
       "         855: 970,\n",
       "         151: 589,\n",
       "         555: 4332,\n",
       "         251: 13156,\n",
       "         556: 4613,\n",
       "         102: 561,\n",
       "         407: 3371,\n",
       "         7: 3008,\n",
       "         651: 5830,\n",
       "         352: 1419,\n",
       "         410: 692,\n",
       "         657: 1674,\n",
       "         51: 930,\n",
       "         101: 540,\n",
       "         704: 2587,\n",
       "         257: 3521,\n",
       "         351: 2630,\n",
       "         104: 1376,\n",
       "         304: 180,\n",
       "         999: 3855,\n",
       "         256: 266,\n",
       "         554: 2568,\n",
       "         8: 1871,\n",
       "         861: 1023,\n",
       "         103: 859,\n",
       "         866: 698,\n",
       "         506: 347,\n",
       "         457: 1323,\n",
       "         557: 4802,\n",
       "         403: 1914,\n",
       "         5: 1591,\n",
       "         4: 2279,\n",
       "         853: 343,\n",
       "         301: 2131,\n",
       "         751: 1473,\n",
       "         710: 858,\n",
       "         258: 431,\n",
       "         713: 176,\n",
       "         551: 4129,\n",
       "         859: 1820,\n",
       "         804: 224,\n",
       "         10: 348,\n",
       "         404: 3481,\n",
       "         260: 857,\n",
       "         254: 819,\n",
       "         306: 562,\n",
       "         455: 1454,\n",
       "         865: 732,\n",
       "         752: 795,\n",
       "         402: 410,\n",
       "         107: 261,\n",
       "         302: 657,\n",
       "         709: 1572,\n",
       "         405: 1234,\n",
       "         6: 1207,\n",
       "         504: 339,\n",
       "         856: 569,\n",
       "         353: 358,\n",
       "         701: 338,\n",
       "         708: 1207,\n",
       "         360: 32,\n",
       "         510: 210,\n",
       "         854: 228,\n",
       "         265: 352,\n",
       "         867: 156,\n",
       "         307: 1021,\n",
       "         753: 249,\n",
       "         1: 194,\n",
       "         712: 839,\n",
       "         202: 65,\n",
       "         505: 856,\n",
       "         460: 207,\n",
       "         52: 137,\n",
       "         305: 287,\n",
       "         451: 145,\n",
       "         705: 284,\n",
       "         655: 144,\n",
       "         153: 112,\n",
       "         659: 11,\n",
       "         358: 925,\n",
       "         263: 248,\n",
       "         105: 208,\n",
       "         267: 134,\n",
       "         503: 318,\n",
       "         719: 159,\n",
       "         552: 189,\n",
       "         359: 215,\n",
       "         509: 38,\n",
       "         860: 543,\n",
       "         863: 1258,\n",
       "         55: 66,\n",
       "         106: 177,\n",
       "         652: 21,\n",
       "         717: 101,\n",
       "         560: 167,\n",
       "         355: 308,\n",
       "         806: 63,\n",
       "         261: 49,\n",
       "         56: 40,\n",
       "         453: 38,\n",
       "         703: 33,\n",
       "         2: 24,\n",
       "         511: 71,\n",
       "         259: 253,\n",
       "         154: 77,\n",
       "         802: 45,\n",
       "         354: 100,\n",
       "         706: 46,\n",
       "         508: 11,\n",
       "         452: 23,\n",
       "         660: 18,\n",
       "         406: 31,\n",
       "         558: 46,\n",
       "         864: 33,\n",
       "         711: 177,\n",
       "         266: 64,\n",
       "         356: 19,\n",
       "         205: 23,\n",
       "         152: 77,\n",
       "         54: 16,\n",
       "         155: 106,\n",
       "         559: 9,\n",
       "         408: 71,\n",
       "         502: 60,\n",
       "         262: 25,\n",
       "         204: 43,\n",
       "         851: 16,\n",
       "         553: 36,\n",
       "         53: 66,\n",
       "         862: 19,\n",
       "         707: 17,\n",
       "         9: 42,\n",
       "         654: 12,\n",
       "         303: 22,\n",
       "         716: 24,\n",
       "         456: 9,\n",
       "         507: 4,\n",
       "         803: 10,\n",
       "         458: 15,\n",
       "         869: 5,\n",
       "         656: 20,\n",
       "         702: 15,\n",
       "         308: 8,\n",
       "         805: 4,\n",
       "         714: 4,\n",
       "         801: 15,\n",
       "         310: 11,\n",
       "         715: 9,\n",
       "         203: 7,\n",
       "         411: 3,\n",
       "         658: 10,\n",
       "         12: 11,\n",
       "         252: 11,\n",
       "         255: 9,\n",
       "         461: 5,\n",
       "         309: 14,\n",
       "         201: 26,\n",
       "         206: 2,\n",
       "         264: 6,\n",
       "         207: 1,\n",
       "         454: 9,\n",
       "         11: 2,\n",
       "         868: 1,\n",
       "         871: 1})"
      ]
     },
     "execution_count": 10,
     "metadata": {},
     "output_type": "execute_result"
    }
   ],
   "source": [
    "comp_count = Counter(clin['PresentingComplaint']); comp_count"
   ]
  },
  {
   "cell_type": "code",
   "execution_count": 11,
   "metadata": {},
   "outputs": [],
   "source": [
    "o2sat = [item if item[-1] != '%' else item[:-1] for item in clin['O2Saturation_LastEDReading'].astype('str')]\n",
    "o2sat = [np.nan if item == 'nan' else float(item) for item in o2sat] \n",
    "clin['o2sat'] = o2sat"
   ]
  },
  {
   "cell_type": "code",
   "execution_count": 12,
   "metadata": {},
   "outputs": [],
   "source": [
    "pulse = clin['Pulse_LastEDReading']\n",
    "pulse = [re.sub(\"[^0-9]\", \"\", str(item)) for item in pulse]\n",
    "pulse = [np.nan if item == '' else float(item) for item in pulse] \n",
    "#set(pulse)\n",
    "clin['pulse'] = pulse"
   ]
  },
  {
   "cell_type": "code",
   "execution_count": 13,
   "metadata": {},
   "outputs": [],
   "source": [
    "temp = clin['Temperature_LastEDReading']\n",
    "temp = [re.sub(\"[^0-9]\", \"\", str(item)) for item in temp]\n",
    "temp = [np.nan if item == '' else float(item) for item in temp] \n",
    "temp = [item/10 if item > 100 else item for item in temp]\n",
    "temp = [np.nan if item > 40  else item for item in temp]\n",
    "#set(temp)\n",
    "clin['temp'] = temp"
   ]
  },
  {
   "cell_type": "markdown",
   "metadata": {},
   "source": [
    "**bptrans** parses the blood pressure column into systolic and diastolic, **fixencode** does some preprocessing on text "
   ]
  },
  {
   "cell_type": "code",
   "execution_count": 14,
   "metadata": {},
   "outputs": [],
   "source": [
    "def bptrans(bp):\n",
    "    if pd.isnull(bp):\n",
    "        return [np.nan, np.nan]\n",
    "    res = []\n",
    "    for x in bp.split('/'):\n",
    "        try:\n",
    "            float(x)\n",
    "            res =  [float(x) for x in bp.split('/')]\n",
    "        except: \n",
    "            res =  [np.nan, np.nan]\n",
    "        return res\n",
    "\n",
    "def fixencode(s):\n",
    "    if pd.isnull(s):\n",
    "        s = \"None\"\n",
    "    s=s.replace('<LT><LF>',',')\n",
    "    s=s.replace('Pt.', 'patient')\n",
    "    s=s.replace('Pt', 'patient')\n",
    "    s= s.replace('pt.', 'patient')\n",
    "    s=s.replace('pt', 'patient')\n",
    "    s = s.replace('y/o', 'year old')\n",
    "    s = s.replace('c/o', 'complains of')\n",
    "    s = s.replace('C/o', 'complains of')\n",
    "    return s"
   ]
  },
  {
   "cell_type": "code",
   "execution_count": 15,
   "metadata": {},
   "outputs": [],
   "source": [
    "clin['BP'] = clin.BloodPressure_LastEDReading.map(bptrans)\n",
    "clin[['systolic', 'diastolic']] = pd.DataFrame(clin.BP.tolist(), index= clin.index)\n",
    "clin[\"Gender\"] = clin.GenderDesc.map(lambda x: 1 if x == \"Male\" else 0)"
   ]
  },
  {
   "cell_type": "code",
   "execution_count": 16,
   "metadata": {},
   "outputs": [
    {
     "data": {
      "text/plain": [
       "Counter({nan: 120106,\n",
       "         'N.SUR GEN': 1024,\n",
       "         'N.MED CARD': 1738,\n",
       "         'N.ER IN': 1186,\n",
       "         'N.MED SIX': 604,\n",
       "         'N.CC ICU': 455,\n",
       "         'N.CC CCU': 584,\n",
       "         'N.MED ONC': 1024,\n",
       "         'N.MAU': 2365,\n",
       "         'N.SIMCU': 301,\n",
       "         'N.MED CPU': 329,\n",
       "         'N.MED GER': 1070,\n",
       "         'N.MED CT': 144,\n",
       "         'N.WC PAED': 1291,\n",
       "         'N.ERMH IN': 29,\n",
       "         'N.MED SIM': 450,\n",
       "         'N.SUR ORTH': 661,\n",
       "         'N.MH CHADI': 152,\n",
       "         'N.MH GER': 68,\n",
       "         'N.MH GENB': 217,\n",
       "         'N.MH INTEN': 234,\n",
       "         'N.MED RESP': 944,\n",
       "         'N.MED NEUR': 921,\n",
       "         'N.SUR SS': 582,\n",
       "         'N.MH CHAD': 210,\n",
       "         'N.WC POST': 119,\n",
       "         'N.MH GENC': 47,\n",
       "         'N.MED DIAL': 48,\n",
       "         'N.CC NICU': 5,\n",
       "         'N.WC LD': 2,\n",
       "         'N.WC LDN': 1,\n",
       "         'N.MAIN OR': 1,\n",
       "         'N.MED STTU': 1,\n",
       "         'N.MED FLEX': 10,\n",
       "         'N.MED DSU': 69,\n",
       "         'N.SUR DSU': 1})"
      ]
     },
     "execution_count": 16,
     "metadata": {},
     "output_type": "execute_result"
    }
   ],
   "source": [
    "admit_count= Counter(clin['AdmitLocation']); admit_count"
   ]
  },
  {
   "cell_type": "code",
   "execution_count": 22,
   "metadata": {},
   "outputs": [],
   "source": [
    "clin['outcome'] = clin['AdmitLocation'].astype('str').map(\n",
    "{'N.CC CCU': 'ICU',\n",
    " 'N.CC ICU': 'ICU',\n",
    " 'N.ER IN' : 'madmit',\n",
    " 'N.ERMH IN': 'madmit',\n",
    " 'N.MAU': 'madmit',\n",
    " 'N.MED CARD': 'madmit',\n",
    " 'N.MED CPU': 'madmit',\n",
    " 'N.MED CT': 'madmit',\n",
    " 'N.MED GER': 'madmit',\n",
    " 'N.MED DIAL': 'madmit',\n",
    " 'N.MED NEUR': 'madmit',\n",
    " 'N.MED ONC': 'madmit',\n",
    " 'N.MED RESP': 'madmit',\n",
    " 'N.MED SIM': 'madmit',\n",
    " 'N.MED SIX': 'madmit',\n",
    " 'N.MH CHAD': 'madmit',\n",
    " 'N.MH CHADI': 'madmit',\n",
    " 'N.MH GENB': 'madmit',\n",
    " 'N.MH GER': 'madmit',\n",
    " 'N.MH INTEN': 'madmit',\n",
    " 'N.SIMCU': 'ICU',\n",
    " 'N.SUR GEN': 'sadmit',\n",
    " 'N.SUR ORTH': 'sadmit',\n",
    " 'N.SUR SS': 'sadmit',\n",
    " 'N.WC PAED': 'madmit',\n",
    " 'N.WC POST': 'madmit',\n",
    " 'N.MH GENC': 'madmit',\n",
    " 'N.CC NICU': 'ICU',\n",
    " 'N.WC LD': 'sadmit',\n",
    "  'N.WC LDN': 'sadmit',\n",
    "  'N.MAIN OR': 'sadmit',\n",
    "  'N.MED STTU': 'madmit',\n",
    "  'N.MED FLEX': 'madmit',\n",
    "    'N.MED DSU': 'madmit',\n",
    "    'N.SUR DSU': 'sadmit',\n",
    " 'nan': 'discharge'})"
   ]
  },
  {
   "cell_type": "code",
   "execution_count": 23,
   "metadata": {},
   "outputs": [],
   "source": [
    "clin['target'] = clin['outcome'].map({'discharge': 1, 'madmit': 2, 'sadmit': 3, 'ICU': 4})"
   ]
  },
  {
   "cell_type": "code",
   "execution_count": 24,
   "metadata": {},
   "outputs": [
    {
     "data": {
      "text/plain": [
       "Counter({'discharge': 120106, 'sadmit': 2272, 'madmit': 13270, 'ICU': 1345})"
      ]
     },
     "execution_count": 24,
     "metadata": {},
     "output_type": "execute_result"
    }
   ],
   "source": [
    "outcome_count = Counter(clin['outcome']); outcome_count"
   ]
  },
  {
   "cell_type": "code",
   "execution_count": 25,
   "metadata": {},
   "outputs": [
    {
     "data": {
      "text/plain": [
       "Counter({1: 120106, 3: 2272, 2: 13270, 4: 1345})"
      ]
     },
     "execution_count": 25,
     "metadata": {},
     "output_type": "execute_result"
    }
   ],
   "source": [
    "target_count = Counter(clin['target']); target_count"
   ]
  },
  {
   "cell_type": "code",
   "execution_count": 26,
   "metadata": {},
   "outputs": [
    {
     "data": {
      "text/plain": [
       "{1: 'discharge', 2: 'madmit', 3: 'sadmit', 4: 'ICU'}"
      ]
     },
     "execution_count": 26,
     "metadata": {},
     "output_type": "execute_result"
    }
   ],
   "source": [
    "out_dict = {'discharge': 1, 'madmit': 2, 'sadmit': 3, 'ICU': 4}\n",
    "out_dict = {v:k for k,v in out_dict.items()}\n",
    "out_dict"
   ]
  },
  {
   "cell_type": "code",
   "execution_count": 27,
   "metadata": {},
   "outputs": [],
   "source": [
    "o2sat = [item if item[-1] != '%' else item[:-1] for item in clin['O2Saturation_LastEDReading'].astype('str')]\n",
    "o2sat = [np.nan if item == 'nan' else float(item) for item in o2sat] \n",
    "clin['o2sat'] = o2sat"
   ]
  },
  {
   "cell_type": "code",
   "execution_count": 28,
   "metadata": {},
   "outputs": [],
   "source": [
    "pulse = clin['Pulse_LastEDReading']\n",
    "pulse = [re.sub(\"[^0-9]\", \"\", str(item)) for item in pulse]\n",
    "pulse = [np.nan if item == '' else float(item) for item in pulse] \n",
    "#set(pulse)\n",
    "clin['pulse'] = pulse"
   ]
  },
  {
   "cell_type": "code",
   "execution_count": 29,
   "metadata": {},
   "outputs": [],
   "source": [
    "temp = clin['Temperature_LastEDReading']\n",
    "temp = [re.sub(\"[^0-9]\", \"\", str(item)) for item in temp]\n",
    "temp = [np.nan if item == '' else float(item) for item in temp] \n",
    "temp = [item/10 if item > 100 else item for item in temp]\n",
    "temp = [np.nan if item > 40  else item for item in temp]\n",
    "#set(temp)\n",
    "clin['temp'] = temp"
   ]
  },
  {
   "cell_type": "code",
   "execution_count": 30,
   "metadata": {},
   "outputs": [],
   "source": [
    "clin['discharge'] = clin['outcome'].map({'discharge': 1, 'madmit': 0, 'sadmit': 0, 'ICU': 0})"
   ]
  },
  {
   "cell_type": "code",
   "execution_count": 31,
   "metadata": {},
   "outputs": [],
   "source": [
    "clin['dispo']= clin['outcome'].map({'discharge': np.nan, 'madmit': 1, 'sadmit': 2, 'ICU': 3})"
   ]
  },
  {
   "cell_type": "markdown",
   "metadata": {},
   "source": [
    "Now we are going to split stuff up into features and train some models"
   ]
  },
  {
   "cell_type": "code",
   "execution_count": 32,
   "metadata": {},
   "outputs": [],
   "source": [
    "features = clin[['systolic', 'diastolic', 'pulse', 'o2sat', 'temp', 'AgeInYrs', 'Gender']]\n",
    "features2 = clin[['systolic', 'diastolic', 'pulse', 'o2sat', 'temp', 'AgeInYrs', 'Gender', 'PresentingComplaint']]"
   ]
  },
  {
   "cell_type": "code",
   "execution_count": 33,
   "metadata": {},
   "outputs": [],
   "source": [
    "target2 = clin['discharge']\n",
    "target1 = clin['target']"
   ]
  },
  {
   "cell_type": "code",
   "execution_count": 35,
   "metadata": {},
   "outputs": [
    {
     "name": "stdout",
     "output_type": "stream",
     "text": [
      "test set outcome counts:  1    30004\n",
      "2     3335\n",
      "3      560\n",
      "4      350\n",
      "Name: target, dtype: int64\n"
     ]
    },
    {
     "data": {
      "text/plain": [
       "array([[29780,   223,     0,     1],\n",
       "       [ 2971,   362,     0,     2],\n",
       "       [  532,    28,     0,     0],\n",
       "       [  311,    39,     0,     0]])"
      ]
     },
     "execution_count": 35,
     "metadata": {},
     "output_type": "execute_result"
    }
   ],
   "source": [
    "X_train, X_test, y_train, y_test = train_test_split(features, target1) #, random_state=1)\n",
    "xgc = xgb.XGBClassifier()\n",
    "xgc.fit(X_train, y_train)\n",
    "preds = xgc.predict(X_test)\n",
    "conf = confusion_matrix(y_test, preds); conf"
   ]
  },
  {
   "cell_type": "code",
   "execution_count": 36,
   "metadata": {},
   "outputs": [
    {
     "name": "stdout",
     "output_type": "stream",
     "text": [
      "weighted f1:  0.8381141744403392\n",
      "f1:           [0.93650744 0.18159017 0.         0.        ]\n",
      "accuracy:     0.8800840900464247\n",
      "precision:    [0.88646782 0.55521472 0.         0.        ]\n",
      "recall:       [0.99253433 0.10854573 0.         0.        ]\n"
     ]
    },
    {
     "name": "stderr",
     "output_type": "stream",
     "text": [
      "/usr/local/lib/python3.6/site-packages/sklearn/metrics/classification.py:1143: UndefinedMetricWarning: F-score is ill-defined and being set to 0.0 in labels with no predicted samples.\n",
      "  'precision', 'predicted', average, warn_for)\n",
      "/usr/local/lib/python3.6/site-packages/sklearn/metrics/classification.py:1143: UndefinedMetricWarning: Precision is ill-defined and being set to 0.0 in labels with no predicted samples.\n",
      "  'precision', 'predicted', average, warn_for)\n"
     ]
    }
   ],
   "source": [
    "f1_w = sklearn.metrics.f1_score(y_test, preds, average='weighted')\n",
    "f1 = sklearn.metrics.f1_score(y_test, preds, average=None)\n",
    "acc = sklearn.metrics.accuracy_score(y_test, preds)\n",
    "prec = sklearn.metrics.precision_score(y_test,preds, average = None)\n",
    "rec = sklearn.metrics.recall_score(y_test,preds, average = None)\n",
    "print ('weighted f1: ', f1_w)\n",
    "print ('f1:          ', f1)\n",
    "print ('accuracy:    ', acc)\n",
    "print ('precision:   ', prec)\n",
    "print ('recall:      ', rec)"
   ]
  },
  {
   "cell_type": "code",
   "execution_count": 37,
   "metadata": {},
   "outputs": [],
   "source": [
    "target_dict = {'discharge': 1, 'madmit': 2, 'sadmit': 3, 'ICU': 4}"
   ]
  },
  {
   "cell_type": "code",
   "execution_count": 38,
   "metadata": {},
   "outputs": [
    {
     "data": {
      "image/png": "[encoded data removed]",
      "text/plain": [
       "<Figure size 360x360 with 2 Axes>"
      ]
     },
     "metadata": {
      "needs_background": "light"
     },
     "output_type": "display_data"
    }
   ],
   "source": [
    "LABELS = target_dict.keys()  #['admit', 'discharge'] #lab_count.keys()\n",
    "\n",
    "plt.figure(figsize=(5, 5))\n",
    "sns.heatmap(conf, xticklabels=LABELS, yticklabels=LABELS, annot=True, fmt=\"d\", annot_kws={\"size\": 20});\n",
    "plt.title(\"Confusion matrix\", fontsize=20)\n",
    "plt.ylabel('True label', fontsize=20)\n",
    "plt.xlabel('Predicted label', fontsize=20)\n",
    "plt.show()"
   ]
  },
  {
   "cell_type": "markdown",
   "metadata": {},
   "source": [
    "So, now we are going to try the same but adding in presenting complaint"
   ]
  },
  {
   "cell_type": "code",
   "execution_count": 39,
   "metadata": {},
   "outputs": [
    {
     "data": {
      "text/plain": [
       "array([[29849,   263,     0,     0],\n",
       "       [ 2633,   582,     0,     1],\n",
       "       [  515,    68,     0,     0],\n",
       "       [  277,    60,     0,     1]])"
      ]
     },
     "execution_count": 39,
     "metadata": {},
     "output_type": "execute_result"
    }
   ],
   "source": [
    "X_train, X_test, y_train, y_test = train_test_split(features2, target1) #, random_state=1)\n",
    "xgc = xgb.XGBClassifier()\n",
    "xgc.fit(X_train, y_train)\n",
    "preds = xgc.predict(X_test)\n",
    "conf = confusion_matrix(y_test, preds); conf"
   ]
  },
  {
   "cell_type": "code",
   "execution_count": 40,
   "metadata": {},
   "outputs": [
    {
     "name": "stdout",
     "output_type": "stream",
     "text": [
      "weighted f1:  0.8542032689913721\n",
      "f1:           [0.9418168  0.27787061 0.         0.00588235]\n",
      "accuracy:     0.8885514905544687\n",
      "precision:    [0.89706678 0.59815005 0.         0.5       ]\n",
      "recall:       [0.99126594 0.18097015 0.         0.00295858]\n"
     ]
    }
   ],
   "source": [
    "f1_w = sklearn.metrics.f1_score(y_test, preds, average='weighted')\n",
    "f1 = sklearn.metrics.f1_score(y_test, preds, average=None)\n",
    "acc = sklearn.metrics.accuracy_score(y_test, preds)\n",
    "prec = sklearn.metrics.precision_score(y_test,preds, average = None)\n",
    "rec = sklearn.metrics.recall_score(y_test,preds, average = None)\n",
    "print ('weighted f1: ', f1_w)\n",
    "print ('f1:          ', f1)\n",
    "print ('accuracy:    ', acc)\n",
    "print ('precision:   ', prec)\n",
    "print ('recall:      ', rec)"
   ]
  },
  {
   "cell_type": "code",
   "execution_count": 41,
   "metadata": {},
   "outputs": [
    {
     "data": {
      "image/png": "[encoded data removed]",
      "text/plain": [
       "<Figure size 360x360 with 2 Axes>"
      ]
     },
     "metadata": {
      "needs_background": "light"
     },
     "output_type": "display_data"
    }
   ],
   "source": [
    "LABELS = target_dict.keys()  #['admit', 'discharge'] #lab_count.keys()\n",
    "\n",
    "plt.figure(figsize=(5, 5))\n",
    "sns.heatmap(conf, xticklabels=LABELS, yticklabels=LABELS, annot=True, fmt=\"d\", annot_kws={\"size\": 20});\n",
    "plt.title(\"Confusion matrix\", fontsize=20)\n",
    "plt.ylabel('True label', fontsize=20)\n",
    "plt.xlabel('Predicted label', fontsize=20)\n",
    "plt.show()"
   ]
  },
  {
   "cell_type": "code",
   "execution_count": 42,
   "metadata": {},
   "outputs": [
    {
     "data": {
      "text/plain": [
       "array([[89233,   757,     0,     4],\n",
       "       [ 8150,  1903,     0,     1],\n",
       "       [ 1543,   146,     0,     0],\n",
       "       [  788,   216,     0,     3]])"
      ]
     },
     "execution_count": 42,
     "metadata": {},
     "output_type": "execute_result"
    }
   ],
   "source": [
    "#check for overfitting\n",
    "preds = xgc.predict(X_train)\n",
    "conf = confusion_matrix(y_train, preds); conf"
   ]
  },
  {
   "cell_type": "code",
   "execution_count": 43,
   "metadata": {},
   "outputs": [
    {
     "data": {
      "text/plain": [
       "XGBClassifier(base_score=0.5, booster='gbtree', colsample_bylevel=1,\n",
       "       colsample_bytree=1, gamma=0, learning_rate=0.1, max_delta_step=0,\n",
       "       max_depth=3, min_child_weight=1, missing=None, n_estimators=100,\n",
       "       n_jobs=1, nthread=None, objective='multi:softprob', random_state=0,\n",
       "       reg_alpha=0, reg_lambda=1, scale_pos_weight=1, seed=None,\n",
       "       silent=True, subsample=1)"
      ]
     },
     "execution_count": 43,
     "metadata": {},
     "output_type": "execute_result"
    }
   ],
   "source": [
    "#so we are underfitting.  gonna train more (I think)\n",
    "xgc.fit(X_train, y_train)"
   ]
  },
  {
   "cell_type": "code",
   "execution_count": 45,
   "metadata": {},
   "outputs": [
    {
     "data": {
      "text/plain": [
       "array([[29849,   263,     0,     0],\n",
       "       [ 2633,   582,     0,     1],\n",
       "       [  515,    68,     0,     0],\n",
       "       [  277,    60,     0,     1]])"
      ]
     },
     "execution_count": 45,
     "metadata": {},
     "output_type": "execute_result"
    }
   ],
   "source": [
    "preds = xgc.predict(X_test)\n",
    "conf = confusion_matrix(y_test, preds); conf"
   ]
  },
  {
   "cell_type": "code",
   "execution_count": 46,
   "metadata": {},
   "outputs": [
    {
     "name": "stdout",
     "output_type": "stream",
     "text": [
      "weighted f1:  0.8542032689913721\n",
      "f1:           [0.9418168  0.27787061 0.         0.00588235]\n",
      "accuracy:     0.8885514905544687\n",
      "precision:    [0.89706678 0.59815005 0.         0.5       ]\n",
      "recall:       [0.99126594 0.18097015 0.         0.00295858]\n"
     ]
    }
   ],
   "source": [
    "f1_w = sklearn.metrics.f1_score(y_test, preds, average='weighted')\n",
    "f1 = sklearn.metrics.f1_score(y_test, preds, average=None)\n",
    "acc = sklearn.metrics.accuracy_score(y_test, preds)\n",
    "prec = sklearn.metrics.precision_score(y_test,preds, average = None)\n",
    "rec = sklearn.metrics.recall_score(y_test,preds, average = None)\n",
    "print ('weighted f1: ', f1_w)\n",
    "print ('f1:          ', f1)\n",
    "print ('accuracy:    ', acc)\n",
    "print ('precision:   ', prec)\n",
    "print ('recall:      ', rec)"
   ]
  },
  {
   "cell_type": "code",
   "execution_count": 47,
   "metadata": {},
   "outputs": [
    {
     "data": {
      "text/plain": [
       "array([[89233,   757,     0,     4],\n",
       "       [ 8150,  1903,     0,     1],\n",
       "       [ 1543,   146,     0,     0],\n",
       "       [  788,   216,     0,     3]])"
      ]
     },
     "execution_count": 47,
     "metadata": {},
     "output_type": "execute_result"
    }
   ],
   "source": [
    "#check for overfitting\n",
    "preds = xgc.predict(X_train)\n",
    "conf = confusion_matrix(y_train, preds); conf"
   ]
  },
  {
   "cell_type": "code",
   "execution_count": 48,
   "metadata": {},
   "outputs": [
    {
     "data": {
      "text/plain": [
       "array([[  873,  3407],\n",
       "       [  380, 29589]])"
      ]
     },
     "execution_count": 48,
     "metadata": {},
     "output_type": "execute_result"
    }
   ],
   "source": [
    "X_train, X_test, y_train, y_test = train_test_split(features2, target2) #, random_state=1)\n",
    "xgc = xgb.XGBClassifier()\n",
    "xgc.fit(X_train, y_train)\n",
    "preds = xgc.predict(X_test)\n",
    "conf = confusion_matrix(y_test, preds); conf"
   ]
  },
  {
   "cell_type": "code",
   "execution_count": 51,
   "metadata": {},
   "outputs": [
    {
     "name": "stdout",
     "output_type": "stream",
     "text": [
      "weighted f1:  0.8618391947698452\n",
      "f1:           [0.31556118 0.93985548]\n",
      "accuracy:     0.8894274285380595\n",
      "precision:    0.8967450600072736\n",
      "recall:       0.9873202309052688\n"
     ]
    }
   ],
   "source": [
    "f1_w = sklearn.metrics.f1_score(y_test, preds, average='weighted')\n",
    "f1 = sklearn.metrics.f1_score(y_test, preds, average=None)\n",
    "acc = sklearn.metrics.accuracy_score(y_test, preds)\n",
    "prec = sklearn.metrics.precision_score(y_test,preds)#, average = None)\n",
    "rec = sklearn.metrics.recall_score(y_test,preds)#, average = None)\n",
    "print ('weighted f1: ', f1_w)\n",
    "print ('f1:          ', f1)\n",
    "print ('accuracy:    ', acc)\n",
    "print ('precision:   ', prec)\n",
    "print ('recall:      ', rec)"
   ]
  },
  {
   "cell_type": "code",
   "execution_count": 53,
   "metadata": {},
   "outputs": [],
   "source": [
    "adult = clin[clin['AgeInYrs'].astype(int) > 16]"
   ]
  },
  {
   "cell_type": "code",
   "execution_count": 54,
   "metadata": {},
   "outputs": [
    {
     "data": {
      "text/plain": [
       "113858"
      ]
     },
     "execution_count": 54,
     "metadata": {},
     "output_type": "execute_result"
    }
   ],
   "source": [
    "len(adult)"
   ]
  },
  {
   "cell_type": "code",
   "execution_count": 65,
   "metadata": {},
   "outputs": [],
   "source": [
    "features = adult[['systolic', 'diastolic', 'pulse', 'o2sat', 'temp', 'AgeInYrs', 'Gender']]\n",
    "features2 = adult[['systolic', 'diastolic', 'pulse', 'o2sat', 'temp', 'AgeInYrs', 'Gender'\n",
    "                   , 'PresentingComplaint']]"
   ]
  },
  {
   "cell_type": "code",
   "execution_count": 66,
   "metadata": {},
   "outputs": [],
   "source": [
    "target2 = adult['discharge']\n",
    "target1 = adult['target']"
   ]
  },
  {
   "cell_type": "code",
   "execution_count": 67,
   "metadata": {},
   "outputs": [
    {
     "data": {
      "text/plain": [
       "array([[24388,   259,     0,     1],\n",
       "       [ 2314,   592,     0,     0],\n",
       "       [  526,    51,     0,     0],\n",
       "       [  275,    57,     0,     2]])"
      ]
     },
     "execution_count": 67,
     "metadata": {},
     "output_type": "execute_result"
    }
   ],
   "source": [
    "X_train, X_test, y_train, y_test = train_test_split(features2, target1) #, random_state=1)\n",
    "xgc = xgb.XGBClassifier()\n",
    "xgc.fit(X_train, y_train)\n",
    "preds = xgc.predict(X_test)\n",
    "conf = confusion_matrix(y_test, preds); conf"
   ]
  },
  {
   "cell_type": "code",
   "execution_count": 68,
   "metadata": {},
   "outputs": [
    {
     "name": "stdout",
     "output_type": "stream",
     "text": [
      "weighted f1:  0.8412811286258783\n",
      "f1:           [0.93528408 0.30633894 0.         0.01186944]\n",
      "accuracy:     0.8776392060425083\n",
      "precision:    [0.88673963 0.6173097  0.         0.66666667]\n",
      "recall:       [0.98945148 0.20371645 0.         0.00598802]\n"
     ]
    }
   ],
   "source": [
    "f1_w = sklearn.metrics.f1_score(y_test, preds, average='weighted')\n",
    "f1 = sklearn.metrics.f1_score(y_test, preds, average=None)\n",
    "acc = sklearn.metrics.accuracy_score(y_test, preds)\n",
    "prec = sklearn.metrics.precision_score(y_test,preds, average = None)\n",
    "rec = sklearn.metrics.recall_score(y_test,preds, average = None)\n",
    "print ('weighted f1: ', f1_w)\n",
    "print ('f1:          ', f1)\n",
    "print ('accuracy:    ', acc)\n",
    "print ('precision:   ', prec)\n",
    "print ('recall:      ', rec)"
   ]
  },
  {
   "cell_type": "code",
   "execution_count": 69,
   "metadata": {},
   "outputs": [
    {
     "data": {
      "image/png": "[encoded data removed]",
      "text/plain": [
       "<Figure size 360x360 with 2 Axes>"
      ]
     },
     "metadata": {
      "needs_background": "light"
     },
     "output_type": "display_data"
    }
   ],
   "source": [
    "LABELS = target_dict.keys()  #['admit', 'discharge'] #lab_count.keys()\n",
    "\n",
    "plt.figure(figsize=(5, 5))\n",
    "sns.heatmap(conf, xticklabels=LABELS, yticklabels=LABELS, annot=True, fmt=\"d\", annot_kws={\"size\": 20});\n",
    "plt.title(\"Confusion matrix\", fontsize=20)\n",
    "plt.ylabel('True label', fontsize=20)\n",
    "plt.xlabel('Predicted label', fontsize=20)\n",
    "plt.show()"
   ]
  },
  {
   "cell_type": "code",
   "execution_count": 82,
   "metadata": {},
   "outputs": [
    {
     "data": {
      "text/plain": [
       "array([[24203,   387,    14,     5],\n",
       "       [ 2154,   780,     7,    19],\n",
       "       [  473,    68,    10,     0],\n",
       "       [  246,    87,     0,    12]])"
      ]
     },
     "execution_count": 82,
     "metadata": {},
     "output_type": "execute_result"
    }
   ],
   "source": [
    "X_train, X_test, y_train, y_test = train_test_split(features2, target1) #, random_state=1)\n",
    "xgc = xgb.XGBClassifier(objective='multi:softmax', max_depth = 7, min_child_weight = 0.5, reg_lambda = 0.5)\n",
    "xgc.fit(X_train, y_train)\n",
    "preds = xgc.predict(X_test)\n",
    "conf = confusion_matrix(y_test, preds); conf"
   ]
  },
  {
   "cell_type": "code",
   "execution_count": 83,
   "metadata": {},
   "outputs": [
    {
     "name": "stdout",
     "output_type": "stream",
     "text": [
      "weighted f1:  0.8490004319399239\n",
      "f1:           [0.936558   0.36431574 0.03436426 0.06299213]\n",
      "accuracy:     0.8784472158791499\n",
      "precision:    [0.89389127 0.59001513 0.32258065 0.33333333]\n",
      "recall:       [0.98350197 0.26351351 0.01814882 0.03478261]\n"
     ]
    }
   ],
   "source": [
    "f1_w = sklearn.metrics.f1_score(y_test, preds, average='weighted')\n",
    "f1 = sklearn.metrics.f1_score(y_test, preds, average=None)\n",
    "acc = sklearn.metrics.accuracy_score(y_test, preds)\n",
    "prec = sklearn.metrics.precision_score(y_test,preds, average = None)\n",
    "rec = sklearn.metrics.recall_score(y_test,preds, average = None)\n",
    "print ('weighted f1: ', f1_w)\n",
    "print ('f1:          ', f1)\n",
    "print ('accuracy:    ', acc)\n",
    "print ('precision:   ', prec)\n",
    "print ('recall:      ', rec)"
   ]
  },
  {
   "cell_type": "code",
   "execution_count": 84,
   "metadata": {},
   "outputs": [
    {
     "data": {
      "image/png": "[encoded data removed]",
      "text/plain": [
       "<Figure size 360x360 with 2 Axes>"
      ]
     },
     "metadata": {
      "needs_background": "light"
     },
     "output_type": "display_data"
    }
   ],
   "source": [
    "LABELS = target_dict.keys()  #['admit', 'discharge'] #lab_count.keys()\n",
    "\n",
    "plt.figure(figsize=(5, 5))\n",
    "sns.heatmap(conf, xticklabels=LABELS, yticklabels=LABELS, annot=True, fmt=\"d\", annot_kws={\"size\": 20});\n",
    "plt.title(\"Confusion matrix\", fontsize=20)\n",
    "plt.ylabel('True label', fontsize=20)\n",
    "plt.xlabel('Predicted label', fontsize=20)\n",
    "plt.show()"
   ]
  },
  {
   "cell_type": "markdown",
   "metadata": {},
   "source": [
    "What follows is going to be some work on hyperparameter selection and tuning as the model is underfitting"
   ]
  },
  {
   "cell_type": "code",
   "execution_count": 74,
   "metadata": {},
   "outputs": [],
   "source": [
    "from xgboost.sklearn import XGBClassifier\n",
    "from sklearn.model_selection import cross_validate, GridSearchCV   #Additional scklearn functions\n",
    "#from sklearn.grid_search import GridSearchCV \n",
    "from matplotlib.pylab import rcParams\n",
    "rcParams['figure.figsize'] = 12, 4\n"
   ]
  },
  {
   "cell_type": "code",
   "execution_count": null,
   "metadata": {},
   "outputs": [],
   "source": [
    "def modelfit(alg, dtrain, predictors,useTrainCV=True, cv_folds=5, early_stopping_rounds=50):\n",
    "    \n",
    "    if useTrainCV:\n",
    "        xgb_param = alg.get_xgb_params()\n",
    "        xgtrain = xgb.DMatrix(dtrain[predictors].values, label=dtrain[target].values)\n",
    "        cvresult = xgb.cv(xgb_param, xgtrain, num_boost_round=alg.get_params()['n_estimators'], nfold=cv_folds,\n",
    "            metrics='auc', early_stopping_rounds=early_stopping_rounds, show_progress=False)\n",
    "        alg.set_params(n_estimators=cvresult.shape[0])\n",
    "    \n",
    "    #Fit the algorithm on the data\n",
    "    alg.fit(dtrain[predictors], dtrain['Disbursed'],eval_metric='auc')\n",
    "        \n",
    "    #Predict training set:\n",
    "    dtrain_predictions = alg.predict(dtrain[predictors])\n",
    "    dtrain_predprob = alg.predict_proba(dtrain[predictors])[:,1]\n",
    "        \n",
    "    #Print model report:\n",
    "    print \"\\nModel Report\"\n",
    "    print \"Accuracy : %.4g\" % metrics.accuracy_score(dtrain['Disbursed'].values, dtrain_predictions)\n",
    "    print \"AUC Score (Train): %f\" % metrics.roc_auc_score(dtrain['Disbursed'], dtrain_predprob)\n",
    "                    \n",
    "    feat_imp = pd.Series(alg.booster().get_fscore()).sort_values(ascending=False)\n",
    "    feat_imp.plot(kind='bar', title='Feature Importances')\n",
    "    plt.ylabel('Feature Importance Score')"
   ]
  }
 ],
 "metadata": {
  "kernelspec": {
   "display_name": "Python 3",
   "language": "python",
   "name": "python3"
  },
  "language_info": {
   "codemirror_mode": {
    "name": "ipython",
    "version": 3
   },
   "file_extension": ".py",
   "mimetype": "text/x-python",
   "name": "python",
   "nbconvert_exporter": "python",
   "pygments_lexer": "ipython3",
   "version": "3.6.5"
  }
 },
 "nbformat": 4,
 "nbformat_minor": 2
}
